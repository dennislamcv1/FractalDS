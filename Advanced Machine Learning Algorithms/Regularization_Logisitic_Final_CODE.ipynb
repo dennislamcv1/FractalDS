{
 "cells": [
  {
   "cell_type": "code",
   "execution_count": 1,
   "id": "02e215e0",
   "metadata": {},
   "outputs": [],
   "source": [
    "import numpy as np\n",
    "import pandas as pd\n",
    "import matplotlib.pyplot as plt\n",
    "from sklearn.model_selection import train_test_split\n",
    "from sklearn.linear_model import LogisticRegression, LogisticRegressionCV, ElasticNetCV\n",
    "from sklearn.metrics import classification_report, f1_score"
   ]
  },
  {
   "cell_type": "code",
   "execution_count": 2,
   "id": "7b21d435",
   "metadata": {},
   "outputs": [],
   "source": [
    "# Loading and reading the dataset\n",
    "data = pd.read_csv(\"Energy_Efficiency_Overfit_Dataset_Updated.csv\")"
   ]
  },
  {
   "cell_type": "code",
   "execution_count": 3,
   "id": "31381f6e",
   "metadata": {},
   "outputs": [
    {
     "name": "stdout",
     "output_type": "stream",
     "text": [
      "<class 'pandas.core.frame.DataFrame'>\n",
      "RangeIndex: 200 entries, 0 to 199\n",
      "Data columns (total 24 columns):\n",
      " #   Column                    Non-Null Count  Dtype  \n",
      "---  ------                    --------------  -----  \n",
      " 0   Wall_Area                 200 non-null    float64\n",
      " 1   Roof_Area                 200 non-null    float64\n",
      " 2   Window_Area               200 non-null    float64\n",
      " 3   Overall_Height            200 non-null    float64\n",
      " 4   Outdoor_Temperature       200 non-null    float64\n",
      " 5   Humidity                  200 non-null    float64\n",
      " 6   Energy_Efficiency_Rating  200 non-null    float64\n",
      " 7   Noise_Feature_1           200 non-null    float64\n",
      " 8   Noise_Feature_2           200 non-null    float64\n",
      " 9   Noise_Feature_3           200 non-null    float64\n",
      " 10  Noise_Feature_4           200 non-null    float64\n",
      " 11  Noise_Feature_5           200 non-null    float64\n",
      " 12  Noise_Feature_6           200 non-null    float64\n",
      " 13  Noise_Feature_7           200 non-null    float64\n",
      " 14  Noise_Feature_8           200 non-null    float64\n",
      " 15  Noise_Feature_9           200 non-null    float64\n",
      " 16  Noise_Feature_10          200 non-null    float64\n",
      " 17  Orientation_East          200 non-null    int64  \n",
      " 18  Orientation_North         200 non-null    int64  \n",
      " 19  Orientation_South         200 non-null    int64  \n",
      " 20  Orientation_West          200 non-null    int64  \n",
      " 21  Glazing_Type_Type_A       200 non-null    int64  \n",
      " 22  Glazing_Type_Type_B       200 non-null    int64  \n",
      " 23  Glazing_Type_Type_C       200 non-null    int64  \n",
      "dtypes: float64(17), int64(7)\n",
      "memory usage: 37.6 KB\n"
     ]
    }
   ],
   "source": [
    "data.info()"
   ]
  },
  {
   "cell_type": "markdown",
   "id": "318f7fb5",
   "metadata": {},
   "source": [
    "### Prepare the Target Variable"
   ]
  },
  {
   "cell_type": "markdown",
   "id": "c4fa8f2a",
   "metadata": {},
   "source": [
    "\n",
    "\n",
    "Our target variable is 'Energy Efficiency Rating', which is a floating point. We'll convert this into a binary target variable using the median of the 'Energy Efficiency Rating' as a splitting criteria. The splitting criteria sets the boundary between the classes. The median of the 'Energy efficiency rating' will categorize buildings as energy-efficient or not. \n"
   ]
  },
  {
   "cell_type": "code",
   "execution_count": 4,
   "id": "cb239aef",
   "metadata": {},
   "outputs": [],
   "source": [
    "# Calculate and print the median\n",
    "rating_split = data['Energy_Efficiency_Rating'].median()"
   ]
  },
  {
   "cell_type": "code",
   "execution_count": 5,
   "id": "446bf840",
   "metadata": {},
   "outputs": [
    {
     "name": "stdout",
     "output_type": "stream",
     "text": [
      "Threshold (Median): 146.310167005691\n"
     ]
    }
   ],
   "source": [
    "print(\"Threshold (Median):\", rating_split )"
   ]
  },
  {
   "cell_type": "code",
   "execution_count": 6,
   "id": "6ff6c8c7",
   "metadata": {},
   "outputs": [
    {
     "data": {
      "text/html": [
       "<div>\n",
       "<style scoped>\n",
       "    .dataframe tbody tr th:only-of-type {\n",
       "        vertical-align: middle;\n",
       "    }\n",
       "\n",
       "    .dataframe tbody tr th {\n",
       "        vertical-align: top;\n",
       "    }\n",
       "\n",
       "    .dataframe thead th {\n",
       "        text-align: right;\n",
       "    }\n",
       "</style>\n",
       "<table border=\"1\" class=\"dataframe\">\n",
       "  <thead>\n",
       "    <tr style=\"text-align: right;\">\n",
       "      <th></th>\n",
       "      <th>Wall_Area</th>\n",
       "      <th>Roof_Area</th>\n",
       "      <th>Window_Area</th>\n",
       "      <th>Overall_Height</th>\n",
       "      <th>Outdoor_Temperature</th>\n",
       "      <th>Humidity</th>\n",
       "      <th>Noise_Feature_1</th>\n",
       "      <th>Noise_Feature_2</th>\n",
       "      <th>Noise_Feature_3</th>\n",
       "      <th>Noise_Feature_4</th>\n",
       "      <th>...</th>\n",
       "      <th>Noise_Feature_9</th>\n",
       "      <th>Noise_Feature_10</th>\n",
       "      <th>Orientation_East</th>\n",
       "      <th>Orientation_North</th>\n",
       "      <th>Orientation_South</th>\n",
       "      <th>Orientation_West</th>\n",
       "      <th>Glazing_Type_Type_A</th>\n",
       "      <th>Glazing_Type_Type_B</th>\n",
       "      <th>Glazing_Type_Type_C</th>\n",
       "      <th>Target</th>\n",
       "    </tr>\n",
       "  </thead>\n",
       "  <tbody>\n",
       "    <tr>\n",
       "      <th>0</th>\n",
       "      <td>388.202617</td>\n",
       "      <td>188.924545</td>\n",
       "      <td>44.013461</td>\n",
       "      <td>3.449571</td>\n",
       "      <td>13.102177</td>\n",
       "      <td>51.125928</td>\n",
       "      <td>0.989088</td>\n",
       "      <td>0.904051</td>\n",
       "      <td>0.791454</td>\n",
       "      <td>0.339118</td>\n",
       "      <td>...</td>\n",
       "      <td>0.288525</td>\n",
       "      <td>0.518964</td>\n",
       "      <td>0</td>\n",
       "      <td>1</td>\n",
       "      <td>0</td>\n",
       "      <td>0</td>\n",
       "      <td>0</td>\n",
       "      <td>1</td>\n",
       "      <td>0</td>\n",
       "      <td>1</td>\n",
       "    </tr>\n",
       "    <tr>\n",
       "      <th>1</th>\n",
       "      <td>320.007860</td>\n",
       "      <td>192.818625</td>\n",
       "      <td>38.841030</td>\n",
       "      <td>5.417319</td>\n",
       "      <td>14.283884</td>\n",
       "      <td>53.690759</td>\n",
       "      <td>0.818101</td>\n",
       "      <td>0.035220</td>\n",
       "      <td>0.623867</td>\n",
       "      <td>0.277418</td>\n",
       "      <td>...</td>\n",
       "      <td>0.571153</td>\n",
       "      <td>0.052572</td>\n",
       "      <td>1</td>\n",
       "      <td>0</td>\n",
       "      <td>0</td>\n",
       "      <td>0</td>\n",
       "      <td>0</td>\n",
       "      <td>0</td>\n",
       "      <td>1</td>\n",
       "      <td>1</td>\n",
       "    </tr>\n",
       "    <tr>\n",
       "      <th>2</th>\n",
       "      <td>348.936899</td>\n",
       "      <td>232.989788</td>\n",
       "      <td>57.666632</td>\n",
       "      <td>4.055632</td>\n",
       "      <td>8.869296</td>\n",
       "      <td>48.129687</td>\n",
       "      <td>0.340605</td>\n",
       "      <td>0.180661</td>\n",
       "      <td>0.439745</td>\n",
       "      <td>0.962280</td>\n",
       "      <td>...</td>\n",
       "      <td>0.914694</td>\n",
       "      <td>0.682054</td>\n",
       "      <td>0</td>\n",
       "      <td>0</td>\n",
       "      <td>1</td>\n",
       "      <td>0</td>\n",
       "      <td>0</td>\n",
       "      <td>0</td>\n",
       "      <td>1</td>\n",
       "      <td>1</td>\n",
       "    </tr>\n",
       "    <tr>\n",
       "      <th>3</th>\n",
       "      <td>412.044660</td>\n",
       "      <td>219.657912</td>\n",
       "      <td>53.562928</td>\n",
       "      <td>5.238103</td>\n",
       "      <td>9.242672</td>\n",
       "      <td>50.771139</td>\n",
       "      <td>0.152047</td>\n",
       "      <td>0.338514</td>\n",
       "      <td>0.010586</td>\n",
       "      <td>0.352407</td>\n",
       "      <td>...</td>\n",
       "      <td>0.738639</td>\n",
       "      <td>0.268888</td>\n",
       "      <td>0</td>\n",
       "      <td>0</td>\n",
       "      <td>1</td>\n",
       "      <td>0</td>\n",
       "      <td>0</td>\n",
       "      <td>1</td>\n",
       "      <td>0</td>\n",
       "      <td>1</td>\n",
       "    </tr>\n",
       "    <tr>\n",
       "      <th>4</th>\n",
       "      <td>393.377900</td>\n",
       "      <td>219.203946</td>\n",
       "      <td>32.314615</td>\n",
       "      <td>3.594037</td>\n",
       "      <td>13.584071</td>\n",
       "      <td>79.116164</td>\n",
       "      <td>0.784059</td>\n",
       "      <td>0.577496</td>\n",
       "      <td>0.964928</td>\n",
       "      <td>0.894173</td>\n",
       "      <td>...</td>\n",
       "      <td>0.856666</td>\n",
       "      <td>0.106768</td>\n",
       "      <td>0</td>\n",
       "      <td>1</td>\n",
       "      <td>0</td>\n",
       "      <td>0</td>\n",
       "      <td>0</td>\n",
       "      <td>1</td>\n",
       "      <td>0</td>\n",
       "      <td>1</td>\n",
       "    </tr>\n",
       "  </tbody>\n",
       "</table>\n",
       "<p>5 rows × 24 columns</p>\n",
       "</div>"
      ],
      "text/plain": [
       "    Wall_Area   Roof_Area  Window_Area  Overall_Height  Outdoor_Temperature  \\\n",
       "0  388.202617  188.924545    44.013461        3.449571            13.102177   \n",
       "1  320.007860  192.818625    38.841030        5.417319            14.283884   \n",
       "2  348.936899  232.989788    57.666632        4.055632             8.869296   \n",
       "3  412.044660  219.657912    53.562928        5.238103             9.242672   \n",
       "4  393.377900  219.203946    32.314615        3.594037            13.584071   \n",
       "\n",
       "    Humidity  Noise_Feature_1  Noise_Feature_2  Noise_Feature_3  \\\n",
       "0  51.125928         0.989088         0.904051         0.791454   \n",
       "1  53.690759         0.818101         0.035220         0.623867   \n",
       "2  48.129687         0.340605         0.180661         0.439745   \n",
       "3  50.771139         0.152047         0.338514         0.010586   \n",
       "4  79.116164         0.784059         0.577496         0.964928   \n",
       "\n",
       "   Noise_Feature_4  ...  Noise_Feature_9  Noise_Feature_10  Orientation_East  \\\n",
       "0         0.339118  ...         0.288525          0.518964                 0   \n",
       "1         0.277418  ...         0.571153          0.052572                 1   \n",
       "2         0.962280  ...         0.914694          0.682054                 0   \n",
       "3         0.352407  ...         0.738639          0.268888                 0   \n",
       "4         0.894173  ...         0.856666          0.106768                 0   \n",
       "\n",
       "   Orientation_North  Orientation_South  Orientation_West  \\\n",
       "0                  1                  0                 0   \n",
       "1                  0                  0                 0   \n",
       "2                  0                  1                 0   \n",
       "3                  0                  1                 0   \n",
       "4                  1                  0                 0   \n",
       "\n",
       "   Glazing_Type_Type_A  Glazing_Type_Type_B  Glazing_Type_Type_C  Target  \n",
       "0                    0                    1                    0       1  \n",
       "1                    0                    0                    1       1  \n",
       "2                    0                    0                    1       1  \n",
       "3                    0                    1                    0       1  \n",
       "4                    0                    1                    0       1  \n",
       "\n",
       "[5 rows x 24 columns]"
      ]
     },
     "execution_count": 6,
     "metadata": {},
     "output_type": "execute_result"
    }
   ],
   "source": [
    "data[\"Target\"] = data['Energy_Efficiency_Rating'].apply(lambda x: 1 if x >= rating_split else 0)\n",
    "data.drop(columns = [\"Energy_Efficiency_Rating\"], inplace = True) # Dropping the reduntant column which has information on target\n",
    "data.head()"
   ]
  },
  {
   "cell_type": "markdown",
   "id": "4e7e4f4b",
   "metadata": {},
   "source": [
    "### Splitting the Dataset into Train and Test Sets\n"
   ]
  },
  {
   "cell_type": "code",
   "execution_count": 7,
   "id": "0cd20f72",
   "metadata": {},
   "outputs": [],
   "source": [
    "X = data.drop('Target', axis = 1)\n",
    "y = data['Target']"
   ]
  },
  {
   "cell_type": "code",
   "execution_count": 8,
   "id": "242dfca4",
   "metadata": {},
   "outputs": [],
   "source": [
    "X_train, X_test, y_train, y_test = train_test_split(X, y, test_size=0.3, random_state=25)"
   ]
  },
  {
   "cell_type": "code",
   "execution_count": 9,
   "id": "7571f977",
   "metadata": {},
   "outputs": [
    {
     "data": {
      "text/plain": [
       "(0.4928571428571429, 0.5166666666666667)"
      ]
     },
     "execution_count": 9,
     "metadata": {},
     "output_type": "execute_result"
    }
   ],
   "source": [
    "# We would like to select the random_state in which the difference between the mean of y_train and y_test is minimal.\n",
    "# Experiment with the values of random_state.\n",
    "y_train.mean(), y_test.mean()"
   ]
  },
  {
   "cell_type": "markdown",
   "id": "c6a6c5bf",
   "metadata": {},
   "source": [
    "### Training and Evaluating the Base Model (No Regularization)"
   ]
  },
  {
   "cell_type": "code",
   "execution_count": 10,
   "id": "170fed42",
   "metadata": {},
   "outputs": [
    {
     "data": {
      "text/html": [
       "<style>#sk-container-id-1 {color: black;}#sk-container-id-1 pre{padding: 0;}#sk-container-id-1 div.sk-toggleable {background-color: white;}#sk-container-id-1 label.sk-toggleable__label {cursor: pointer;display: block;width: 100%;margin-bottom: 0;padding: 0.3em;box-sizing: border-box;text-align: center;}#sk-container-id-1 label.sk-toggleable__label-arrow:before {content: \"▸\";float: left;margin-right: 0.25em;color: #696969;}#sk-container-id-1 label.sk-toggleable__label-arrow:hover:before {color: black;}#sk-container-id-1 div.sk-estimator:hover label.sk-toggleable__label-arrow:before {color: black;}#sk-container-id-1 div.sk-toggleable__content {max-height: 0;max-width: 0;overflow: hidden;text-align: left;background-color: #f0f8ff;}#sk-container-id-1 div.sk-toggleable__content pre {margin: 0.2em;color: black;border-radius: 0.25em;background-color: #f0f8ff;}#sk-container-id-1 input.sk-toggleable__control:checked~div.sk-toggleable__content {max-height: 200px;max-width: 100%;overflow: auto;}#sk-container-id-1 input.sk-toggleable__control:checked~label.sk-toggleable__label-arrow:before {content: \"▾\";}#sk-container-id-1 div.sk-estimator input.sk-toggleable__control:checked~label.sk-toggleable__label {background-color: #d4ebff;}#sk-container-id-1 div.sk-label input.sk-toggleable__control:checked~label.sk-toggleable__label {background-color: #d4ebff;}#sk-container-id-1 input.sk-hidden--visually {border: 0;clip: rect(1px 1px 1px 1px);clip: rect(1px, 1px, 1px, 1px);height: 1px;margin: -1px;overflow: hidden;padding: 0;position: absolute;width: 1px;}#sk-container-id-1 div.sk-estimator {font-family: monospace;background-color: #f0f8ff;border: 1px dotted black;border-radius: 0.25em;box-sizing: border-box;margin-bottom: 0.5em;}#sk-container-id-1 div.sk-estimator:hover {background-color: #d4ebff;}#sk-container-id-1 div.sk-parallel-item::after {content: \"\";width: 100%;border-bottom: 1px solid gray;flex-grow: 1;}#sk-container-id-1 div.sk-label:hover label.sk-toggleable__label {background-color: #d4ebff;}#sk-container-id-1 div.sk-serial::before {content: \"\";position: absolute;border-left: 1px solid gray;box-sizing: border-box;top: 0;bottom: 0;left: 50%;z-index: 0;}#sk-container-id-1 div.sk-serial {display: flex;flex-direction: column;align-items: center;background-color: white;padding-right: 0.2em;padding-left: 0.2em;position: relative;}#sk-container-id-1 div.sk-item {position: relative;z-index: 1;}#sk-container-id-1 div.sk-parallel {display: flex;align-items: stretch;justify-content: center;background-color: white;position: relative;}#sk-container-id-1 div.sk-item::before, #sk-container-id-1 div.sk-parallel-item::before {content: \"\";position: absolute;border-left: 1px solid gray;box-sizing: border-box;top: 0;bottom: 0;left: 50%;z-index: -1;}#sk-container-id-1 div.sk-parallel-item {display: flex;flex-direction: column;z-index: 1;position: relative;background-color: white;}#sk-container-id-1 div.sk-parallel-item:first-child::after {align-self: flex-end;width: 50%;}#sk-container-id-1 div.sk-parallel-item:last-child::after {align-self: flex-start;width: 50%;}#sk-container-id-1 div.sk-parallel-item:only-child::after {width: 0;}#sk-container-id-1 div.sk-dashed-wrapped {border: 1px dashed gray;margin: 0 0.4em 0.5em 0.4em;box-sizing: border-box;padding-bottom: 0.4em;background-color: white;}#sk-container-id-1 div.sk-label label {font-family: monospace;font-weight: bold;display: inline-block;line-height: 1.2em;}#sk-container-id-1 div.sk-label-container {text-align: center;}#sk-container-id-1 div.sk-container {/* jupyter's `normalize.less` sets `[hidden] { display: none; }` but bootstrap.min.css set `[hidden] { display: none !important; }` so we also need the `!important` here to be able to override the default hidden behavior on the sphinx rendered scikit-learn.org. See: https://github.com/scikit-learn/scikit-learn/issues/21755 */display: inline-block !important;position: relative;}#sk-container-id-1 div.sk-text-repr-fallback {display: none;}</style><div id=\"sk-container-id-1\" class=\"sk-top-container\"><div class=\"sk-text-repr-fallback\"><pre>LogisticRegression(max_iter=10000, n_jobs=-1, penalty=None)</pre><b>In a Jupyter environment, please rerun this cell to show the HTML representation or trust the notebook. <br />On GitHub, the HTML representation is unable to render, please try loading this page with nbviewer.org.</b></div><div class=\"sk-container\" hidden><div class=\"sk-item\"><div class=\"sk-estimator sk-toggleable\"><input class=\"sk-toggleable__control sk-hidden--visually\" id=\"sk-estimator-id-1\" type=\"checkbox\" checked><label for=\"sk-estimator-id-1\" class=\"sk-toggleable__label sk-toggleable__label-arrow\">LogisticRegression</label><div class=\"sk-toggleable__content\"><pre>LogisticRegression(max_iter=10000, n_jobs=-1, penalty=None)</pre></div></div></div></div></div>"
      ],
      "text/plain": [
       "LogisticRegression(max_iter=10000, n_jobs=-1, penalty=None)"
      ]
     },
     "execution_count": 10,
     "metadata": {},
     "output_type": "execute_result"
    }
   ],
   "source": [
    "# Logistic regression without regularization\n",
    "logistic_no_reg = LogisticRegression(penalty=None,\n",
    "                                     max_iter=10000,\n",
    "                                     n_jobs=-1)\n",
    "logistic_no_reg.fit(X_train, y_train)\n",
    "\n",
    "# keeping the value of max_iter as 10000, to avoid the Convergence Warning"
   ]
  },
  {
   "cell_type": "markdown",
   "id": "6c44801e",
   "metadata": {},
   "source": [
    "### Inspecting model coefficients "
   ]
  },
  {
   "cell_type": "code",
   "execution_count": 11,
   "id": "3d08091f",
   "metadata": {},
   "outputs": [
    {
     "data": {
      "text/plain": [
       "array([[   604.79436967,    178.75221199,    516.37813663,\n",
       "         -4348.76419445,   -496.53822731,    246.93292561,\n",
       "         -7708.57922324,  -5772.27753482,   8021.51709964,\n",
       "         -9900.44587459,   -307.75237776,   5662.30275687,\n",
       "        -17232.74546316,  21004.62160308, -14978.49756665,\n",
       "        -12035.9669258 , -26451.94190708, -26389.26360348,\n",
       "        -29442.00136835, -52742.4524461 , -44693.88245923,\n",
       "        -45695.53492406, -44636.24194224]])"
      ]
     },
     "execution_count": 11,
     "metadata": {},
     "output_type": "execute_result"
    }
   ],
   "source": [
    "logistic_no_reg.coef_"
   ]
  },
  {
   "cell_type": "markdown",
   "id": "fe358456",
   "metadata": {},
   "source": [
    "### Model Performance"
   ]
  },
  {
   "cell_type": "code",
   "execution_count": 12,
   "id": "b1a77d15",
   "metadata": {},
   "outputs": [
    {
     "name": "stdout",
     "output_type": "stream",
     "text": [
      "F1 Score without Regularization on train set: 1.0\n"
     ]
    }
   ],
   "source": [
    "# Evaluate the model without regularization for train set\n",
    "y_train_pred_no_reg = logistic_no_reg.predict(X_train)\n",
    "f1_no_reg = f1_score(y_train, y_train_pred_no_reg)\n",
    "print(\"F1 Score without Regularization on train set:\", f1_no_reg)"
   ]
  },
  {
   "cell_type": "code",
   "execution_count": 13,
   "id": "8dbc4431",
   "metadata": {},
   "outputs": [
    {
     "name": "stdout",
     "output_type": "stream",
     "text": [
      "F1 Score without Regularization on test set: 0.8421052631578947\n"
     ]
    }
   ],
   "source": [
    "# Evaluate the model without regularization for test data\n",
    "y_test_pred_no_reg = logistic_no_reg.predict(X_test)\n",
    "f1_no_reg = f1_score(y_test, y_test_pred_no_reg)\n",
    "print(\"F1 Score without Regularization on test set:\", f1_no_reg)"
   ]
  },
  {
   "cell_type": "markdown",
   "id": "5bc3b77a",
   "metadata": {},
   "source": [
    "# Apply Logistic Regression with L1 Regularization "
   ]
  },
  {
   "cell_type": "code",
   "execution_count": 14,
   "id": "bed50cab",
   "metadata": {},
   "outputs": [],
   "source": [
    "# Defining a range for Cs\n",
    "Cs = np.linspace(0.001,10,20)"
   ]
  },
  {
   "cell_type": "code",
   "execution_count": 15,
   "id": "5025105c",
   "metadata": {},
   "outputs": [
    {
     "data": {
      "text/html": [
       "<style>#sk-container-id-2 {color: black;}#sk-container-id-2 pre{padding: 0;}#sk-container-id-2 div.sk-toggleable {background-color: white;}#sk-container-id-2 label.sk-toggleable__label {cursor: pointer;display: block;width: 100%;margin-bottom: 0;padding: 0.3em;box-sizing: border-box;text-align: center;}#sk-container-id-2 label.sk-toggleable__label-arrow:before {content: \"▸\";float: left;margin-right: 0.25em;color: #696969;}#sk-container-id-2 label.sk-toggleable__label-arrow:hover:before {color: black;}#sk-container-id-2 div.sk-estimator:hover label.sk-toggleable__label-arrow:before {color: black;}#sk-container-id-2 div.sk-toggleable__content {max-height: 0;max-width: 0;overflow: hidden;text-align: left;background-color: #f0f8ff;}#sk-container-id-2 div.sk-toggleable__content pre {margin: 0.2em;color: black;border-radius: 0.25em;background-color: #f0f8ff;}#sk-container-id-2 input.sk-toggleable__control:checked~div.sk-toggleable__content {max-height: 200px;max-width: 100%;overflow: auto;}#sk-container-id-2 input.sk-toggleable__control:checked~label.sk-toggleable__label-arrow:before {content: \"▾\";}#sk-container-id-2 div.sk-estimator input.sk-toggleable__control:checked~label.sk-toggleable__label {background-color: #d4ebff;}#sk-container-id-2 div.sk-label input.sk-toggleable__control:checked~label.sk-toggleable__label {background-color: #d4ebff;}#sk-container-id-2 input.sk-hidden--visually {border: 0;clip: rect(1px 1px 1px 1px);clip: rect(1px, 1px, 1px, 1px);height: 1px;margin: -1px;overflow: hidden;padding: 0;position: absolute;width: 1px;}#sk-container-id-2 div.sk-estimator {font-family: monospace;background-color: #f0f8ff;border: 1px dotted black;border-radius: 0.25em;box-sizing: border-box;margin-bottom: 0.5em;}#sk-container-id-2 div.sk-estimator:hover {background-color: #d4ebff;}#sk-container-id-2 div.sk-parallel-item::after {content: \"\";width: 100%;border-bottom: 1px solid gray;flex-grow: 1;}#sk-container-id-2 div.sk-label:hover label.sk-toggleable__label {background-color: #d4ebff;}#sk-container-id-2 div.sk-serial::before {content: \"\";position: absolute;border-left: 1px solid gray;box-sizing: border-box;top: 0;bottom: 0;left: 50%;z-index: 0;}#sk-container-id-2 div.sk-serial {display: flex;flex-direction: column;align-items: center;background-color: white;padding-right: 0.2em;padding-left: 0.2em;position: relative;}#sk-container-id-2 div.sk-item {position: relative;z-index: 1;}#sk-container-id-2 div.sk-parallel {display: flex;align-items: stretch;justify-content: center;background-color: white;position: relative;}#sk-container-id-2 div.sk-item::before, #sk-container-id-2 div.sk-parallel-item::before {content: \"\";position: absolute;border-left: 1px solid gray;box-sizing: border-box;top: 0;bottom: 0;left: 50%;z-index: -1;}#sk-container-id-2 div.sk-parallel-item {display: flex;flex-direction: column;z-index: 1;position: relative;background-color: white;}#sk-container-id-2 div.sk-parallel-item:first-child::after {align-self: flex-end;width: 50%;}#sk-container-id-2 div.sk-parallel-item:last-child::after {align-self: flex-start;width: 50%;}#sk-container-id-2 div.sk-parallel-item:only-child::after {width: 0;}#sk-container-id-2 div.sk-dashed-wrapped {border: 1px dashed gray;margin: 0 0.4em 0.5em 0.4em;box-sizing: border-box;padding-bottom: 0.4em;background-color: white;}#sk-container-id-2 div.sk-label label {font-family: monospace;font-weight: bold;display: inline-block;line-height: 1.2em;}#sk-container-id-2 div.sk-label-container {text-align: center;}#sk-container-id-2 div.sk-container {/* jupyter's `normalize.less` sets `[hidden] { display: none; }` but bootstrap.min.css set `[hidden] { display: none !important; }` so we also need the `!important` here to be able to override the default hidden behavior on the sphinx rendered scikit-learn.org. See: https://github.com/scikit-learn/scikit-learn/issues/21755 */display: inline-block !important;position: relative;}#sk-container-id-2 div.sk-text-repr-fallback {display: none;}</style><div id=\"sk-container-id-2\" class=\"sk-top-container\"><div class=\"sk-text-repr-fallback\"><pre>LogisticRegressionCV(Cs=array([1.00000000e-03, 5.27263158e-01, 1.05352632e+00, 1.57978947e+00,\n",
       "       2.10605263e+00, 2.63231579e+00, 3.15857895e+00, 3.68484211e+00,\n",
       "       4.21110526e+00, 4.73736842e+00, 5.26363158e+00, 5.78989474e+00,\n",
       "       6.31615789e+00, 6.84242105e+00, 7.36868421e+00, 7.89494737e+00,\n",
       "       8.42121053e+00, 8.94747368e+00, 9.47373684e+00, 1.00000000e+01]),\n",
       "                     cv=5, max_iter=10000, n_jobs=-1, penalty=&#x27;l1&#x27;,\n",
       "                     scoring=&#x27;f1&#x27;, solver=&#x27;liblinear&#x27;)</pre><b>In a Jupyter environment, please rerun this cell to show the HTML representation or trust the notebook. <br />On GitHub, the HTML representation is unable to render, please try loading this page with nbviewer.org.</b></div><div class=\"sk-container\" hidden><div class=\"sk-item\"><div class=\"sk-estimator sk-toggleable\"><input class=\"sk-toggleable__control sk-hidden--visually\" id=\"sk-estimator-id-2\" type=\"checkbox\" checked><label for=\"sk-estimator-id-2\" class=\"sk-toggleable__label sk-toggleable__label-arrow\">LogisticRegressionCV</label><div class=\"sk-toggleable__content\"><pre>LogisticRegressionCV(Cs=array([1.00000000e-03, 5.27263158e-01, 1.05352632e+00, 1.57978947e+00,\n",
       "       2.10605263e+00, 2.63231579e+00, 3.15857895e+00, 3.68484211e+00,\n",
       "       4.21110526e+00, 4.73736842e+00, 5.26363158e+00, 5.78989474e+00,\n",
       "       6.31615789e+00, 6.84242105e+00, 7.36868421e+00, 7.89494737e+00,\n",
       "       8.42121053e+00, 8.94747368e+00, 9.47373684e+00, 1.00000000e+01]),\n",
       "                     cv=5, max_iter=10000, n_jobs=-1, penalty=&#x27;l1&#x27;,\n",
       "                     scoring=&#x27;f1&#x27;, solver=&#x27;liblinear&#x27;)</pre></div></div></div></div></div>"
      ],
      "text/plain": [
       "LogisticRegressionCV(Cs=array([1.00000000e-03, 5.27263158e-01, 1.05352632e+00, 1.57978947e+00,\n",
       "       2.10605263e+00, 2.63231579e+00, 3.15857895e+00, 3.68484211e+00,\n",
       "       4.21110526e+00, 4.73736842e+00, 5.26363158e+00, 5.78989474e+00,\n",
       "       6.31615789e+00, 6.84242105e+00, 7.36868421e+00, 7.89494737e+00,\n",
       "       8.42121053e+00, 8.94747368e+00, 9.47373684e+00, 1.00000000e+01]),\n",
       "                     cv=5, max_iter=10000, n_jobs=-1, penalty='l1',\n",
       "                     scoring='f1', solver='liblinear')"
      ]
     },
     "execution_count": 15,
     "metadata": {},
     "output_type": "execute_result"
    }
   ],
   "source": [
    "# Logistic regression with L1 regularization using cross-validation to find the best C\n",
    "logistic_l1_cv = LogisticRegressionCV(Cs=Cs, \n",
    "                                      penalty='l1', \n",
    "                                      solver='liblinear', \n",
    "                                      cv=5,\n",
    "                                      max_iter=10000,\n",
    "                                      scoring = 'f1',\n",
    "                                      n_jobs=-1)\n",
    "logistic_l1_cv.fit(X_train, y_train)"
   ]
  },
  {
   "cell_type": "markdown",
   "id": "f29eff43",
   "metadata": {},
   "source": [
    "#### Let's understand this function: \n",
    "1. The _Cs_ parameter specifies the range of values for the parameter C. In this case, we have kept the range from 0.001 to 10 with evenly spaced 20 samples. \n",
    "\n",
    "2. __penalty__ : To the parameter ‘penalty’ we specify l1. \n",
    "\n",
    "3. __solver:__ The solver parameter specifies the algorithm to use in the optimization problem. It's important to choose the right solver based on the size of your data and the type of regularization you are using. \n",
    "For instance, liblinear works for btth L1 and L2 penalty and that is what we will be using when we are applying these panalties. \n",
    "\n",
    "4. __cv__ i.e., We are using 5 folds cross validaiton here to select the hyperparameter. \n",
    "5. __max_iter=10000__: Sets the maximum number of iterations for the solver.\n",
    "\n",
    "6. __n_jobs=-1__: The primary purpose of n_jobs is to enable parallel computing. Setting it to -1 tells the function to use all available cores on the machine. This means the computation will utilize as much of the CPU resource as possible to perform tasks in parallel, thereby speeding up the training process.\n"
   ]
  },
  {
   "cell_type": "markdown",
   "id": "6fbcedac",
   "metadata": {},
   "source": [
    "### Examine different vlaues of C"
   ]
  },
  {
   "cell_type": "code",
   "execution_count": 16,
   "id": "f8ddb998",
   "metadata": {
    "scrolled": true
   },
   "outputs": [
    {
     "data": {
      "text/plain": [
       "array([1.00000000e-03, 5.27263158e-01, 1.05352632e+00, 1.57978947e+00,\n",
       "       2.10605263e+00, 2.63231579e+00, 3.15857895e+00, 3.68484211e+00,\n",
       "       4.21110526e+00, 4.73736842e+00, 5.26363158e+00, 5.78989474e+00,\n",
       "       6.31615789e+00, 6.84242105e+00, 7.36868421e+00, 7.89494737e+00,\n",
       "       8.42121053e+00, 8.94747368e+00, 9.47373684e+00, 1.00000000e+01])"
      ]
     },
     "execution_count": 16,
     "metadata": {},
     "output_type": "execute_result"
    }
   ],
   "source": [
    "logistic_l1_cv.Cs"
   ]
  },
  {
   "cell_type": "markdown",
   "id": "7b68bd28",
   "metadata": {},
   "source": [
    "### Best value of C"
   ]
  },
  {
   "cell_type": "code",
   "execution_count": 17,
   "id": "5d583277",
   "metadata": {},
   "outputs": [
    {
     "name": "stdout",
     "output_type": "stream",
     "text": [
      "The best Cs value is: [2.63231579]\n"
     ]
    }
   ],
   "source": [
    "best_C = logistic_l1_cv.C_\n",
    "print(f\"The best Cs value is: {best_C}\")"
   ]
  },
  {
   "cell_type": "markdown",
   "id": "f9f9ae88",
   "metadata": {},
   "source": [
    "The best C gets automatically saved in the model instance."
   ]
  },
  {
   "cell_type": "markdown",
   "id": "ba8c56f1",
   "metadata": {},
   "source": [
    "### Model Performance"
   ]
  },
  {
   "cell_type": "code",
   "execution_count": 18,
   "id": "999fd3ef",
   "metadata": {},
   "outputs": [
    {
     "name": "stdout",
     "output_type": "stream",
     "text": [
      "F1 Score with L1 Regularization on train set: 0.9705882352941176\n"
     ]
    }
   ],
   "source": [
    "# Evaluate the model with L1 regularization on train set\n",
    "y_train_pred_l1 = logistic_l1_cv.predict(X_train)\n",
    "f1_l1 = f1_score(y_train, y_train_pred_l1)\n",
    "print(\"F1 Score with L1 Regularization on train set:\", f1_l1)"
   ]
  },
  {
   "cell_type": "code",
   "execution_count": 19,
   "id": "4a1fb570",
   "metadata": {},
   "outputs": [
    {
     "name": "stdout",
     "output_type": "stream",
     "text": [
      "F1 Score with L1 Regularization on test set: 0.8813559322033899\n"
     ]
    }
   ],
   "source": [
    "# Evaluate the model with L1 regularization on test set\n",
    "y_test_pred_l1 = logistic_l1_cv.predict(X_test)\n",
    "f1_l1 = f1_score(y_test, y_test_pred_l1)\n",
    "print(\"F1 Score with L1 Regularization on test set:\", f1_l1)"
   ]
  },
  {
   "cell_type": "markdown",
   "id": "f78099f4",
   "metadata": {},
   "source": [
    "- Overfitting has reduced with L1 regularization. \n",
    "- Significant difference between Train and Test set scores, indicating Overfitting."
   ]
  },
  {
   "cell_type": "markdown",
   "id": "dd282145",
   "metadata": {},
   "source": [
    "### Name of all features with coefficients "
   ]
  },
  {
   "cell_type": "code",
   "execution_count": 20,
   "id": "78a464f4",
   "metadata": {},
   "outputs": [
    {
     "name": "stdout",
     "output_type": "stream",
     "text": [
      "                Feature  After L1 Regularization\n",
      "19     Orientation_West                -2.252477\n",
      "7       Noise_Feature_2                -1.181892\n",
      "14      Noise_Feature_9                -0.824651\n",
      "6       Noise_Feature_1                -0.473116\n",
      "3        Overall_Height                -0.394922\n",
      "21  Glazing_Type_Type_B                -0.362134\n",
      "20  Glazing_Type_Type_A                -0.181435\n",
      "16     Orientation_East                -0.162041\n",
      "4   Outdoor_Temperature                -0.074879\n",
      "5              Humidity                -0.036872\n",
      "11      Noise_Feature_6                 0.000000\n",
      "18    Orientation_South                 0.000000\n",
      "17    Orientation_North                 0.000000\n",
      "15     Noise_Feature_10                 0.000000\n",
      "22  Glazing_Type_Type_C                 0.000000\n",
      "12      Noise_Feature_7                 0.000000\n",
      "9       Noise_Feature_4                 0.000000\n",
      "1             Roof_Area                 0.033673\n",
      "2           Window_Area                 0.036372\n",
      "0             Wall_Area                 0.081207\n",
      "8       Noise_Feature_3                 0.178121\n",
      "10      Noise_Feature_5                 0.681737\n",
      "13      Noise_Feature_8                 0.782659\n"
     ]
    }
   ],
   "source": [
    "coefficients_after_l1 = pd.DataFrame({\n",
    "    'Feature': X_train.columns,\n",
    "    'After L1 Regularization': logistic_l1_cv.coef_.flatten()\n",
    "})\n",
    "print(coefficients_after_l1.sort_values(by = 'After L1 Regularization' ))"
   ]
  },
  {
   "cell_type": "markdown",
   "id": "e1301a65",
   "metadata": {},
   "source": [
    "### Features with 0 coefficients "
   ]
  },
  {
   "cell_type": "code",
   "execution_count": 21,
   "id": "7cc364cf",
   "metadata": {},
   "outputs": [
    {
     "data": {
      "text/plain": [
       "['Noise_Feature_4',\n",
       " 'Noise_Feature_6',\n",
       " 'Noise_Feature_7',\n",
       " 'Noise_Feature_10',\n",
       " 'Orientation_North',\n",
       " 'Orientation_South',\n",
       " 'Glazing_Type_Type_C']"
      ]
     },
     "execution_count": 21,
     "metadata": {},
     "output_type": "execute_result"
    }
   ],
   "source": [
    "# Identify zero features from logisitc regression L1 model\n",
    "zero_mask = (logistic_l1_cv.coef_ == 0).flatten()\n",
    "zero_features = X_train.columns[zero_mask]\n",
    "# Print the features with zero coefficients \n",
    "zero_features.tolist()"
   ]
  },
  {
   "cell_type": "markdown",
   "id": "378873dd",
   "metadata": {},
   "source": [
    "- Coefficients of 7 Features have been reduced to 0"
   ]
  },
  {
   "cell_type": "markdown",
   "id": "20129183",
   "metadata": {},
   "source": [
    "# Apply Logistic Regression with L2 Regularization \n"
   ]
  },
  {
   "cell_type": "markdown",
   "id": "fc1d3200",
   "metadata": {},
   "source": [
    "\n",
    "### RUN ALL ABOVE"
   ]
  },
  {
   "cell_type": "code",
   "execution_count": 22,
   "id": "75a78ab0",
   "metadata": {},
   "outputs": [],
   "source": [
    "# Defining a range for Cs \n",
    "Cs= np.linspace(0.001,10,20)"
   ]
  },
  {
   "cell_type": "code",
   "execution_count": 23,
   "id": "d3d04f33",
   "metadata": {},
   "outputs": [
    {
     "data": {
      "text/html": [
       "<style>#sk-container-id-3 {color: black;}#sk-container-id-3 pre{padding: 0;}#sk-container-id-3 div.sk-toggleable {background-color: white;}#sk-container-id-3 label.sk-toggleable__label {cursor: pointer;display: block;width: 100%;margin-bottom: 0;padding: 0.3em;box-sizing: border-box;text-align: center;}#sk-container-id-3 label.sk-toggleable__label-arrow:before {content: \"▸\";float: left;margin-right: 0.25em;color: #696969;}#sk-container-id-3 label.sk-toggleable__label-arrow:hover:before {color: black;}#sk-container-id-3 div.sk-estimator:hover label.sk-toggleable__label-arrow:before {color: black;}#sk-container-id-3 div.sk-toggleable__content {max-height: 0;max-width: 0;overflow: hidden;text-align: left;background-color: #f0f8ff;}#sk-container-id-3 div.sk-toggleable__content pre {margin: 0.2em;color: black;border-radius: 0.25em;background-color: #f0f8ff;}#sk-container-id-3 input.sk-toggleable__control:checked~div.sk-toggleable__content {max-height: 200px;max-width: 100%;overflow: auto;}#sk-container-id-3 input.sk-toggleable__control:checked~label.sk-toggleable__label-arrow:before {content: \"▾\";}#sk-container-id-3 div.sk-estimator input.sk-toggleable__control:checked~label.sk-toggleable__label {background-color: #d4ebff;}#sk-container-id-3 div.sk-label input.sk-toggleable__control:checked~label.sk-toggleable__label {background-color: #d4ebff;}#sk-container-id-3 input.sk-hidden--visually {border: 0;clip: rect(1px 1px 1px 1px);clip: rect(1px, 1px, 1px, 1px);height: 1px;margin: -1px;overflow: hidden;padding: 0;position: absolute;width: 1px;}#sk-container-id-3 div.sk-estimator {font-family: monospace;background-color: #f0f8ff;border: 1px dotted black;border-radius: 0.25em;box-sizing: border-box;margin-bottom: 0.5em;}#sk-container-id-3 div.sk-estimator:hover {background-color: #d4ebff;}#sk-container-id-3 div.sk-parallel-item::after {content: \"\";width: 100%;border-bottom: 1px solid gray;flex-grow: 1;}#sk-container-id-3 div.sk-label:hover label.sk-toggleable__label {background-color: #d4ebff;}#sk-container-id-3 div.sk-serial::before {content: \"\";position: absolute;border-left: 1px solid gray;box-sizing: border-box;top: 0;bottom: 0;left: 50%;z-index: 0;}#sk-container-id-3 div.sk-serial {display: flex;flex-direction: column;align-items: center;background-color: white;padding-right: 0.2em;padding-left: 0.2em;position: relative;}#sk-container-id-3 div.sk-item {position: relative;z-index: 1;}#sk-container-id-3 div.sk-parallel {display: flex;align-items: stretch;justify-content: center;background-color: white;position: relative;}#sk-container-id-3 div.sk-item::before, #sk-container-id-3 div.sk-parallel-item::before {content: \"\";position: absolute;border-left: 1px solid gray;box-sizing: border-box;top: 0;bottom: 0;left: 50%;z-index: -1;}#sk-container-id-3 div.sk-parallel-item {display: flex;flex-direction: column;z-index: 1;position: relative;background-color: white;}#sk-container-id-3 div.sk-parallel-item:first-child::after {align-self: flex-end;width: 50%;}#sk-container-id-3 div.sk-parallel-item:last-child::after {align-self: flex-start;width: 50%;}#sk-container-id-3 div.sk-parallel-item:only-child::after {width: 0;}#sk-container-id-3 div.sk-dashed-wrapped {border: 1px dashed gray;margin: 0 0.4em 0.5em 0.4em;box-sizing: border-box;padding-bottom: 0.4em;background-color: white;}#sk-container-id-3 div.sk-label label {font-family: monospace;font-weight: bold;display: inline-block;line-height: 1.2em;}#sk-container-id-3 div.sk-label-container {text-align: center;}#sk-container-id-3 div.sk-container {/* jupyter's `normalize.less` sets `[hidden] { display: none; }` but bootstrap.min.css set `[hidden] { display: none !important; }` so we also need the `!important` here to be able to override the default hidden behavior on the sphinx rendered scikit-learn.org. See: https://github.com/scikit-learn/scikit-learn/issues/21755 */display: inline-block !important;position: relative;}#sk-container-id-3 div.sk-text-repr-fallback {display: none;}</style><div id=\"sk-container-id-3\" class=\"sk-top-container\"><div class=\"sk-text-repr-fallback\"><pre>LogisticRegressionCV(Cs=array([1.00000000e-03, 5.27263158e-01, 1.05352632e+00, 1.57978947e+00,\n",
       "       2.10605263e+00, 2.63231579e+00, 3.15857895e+00, 3.68484211e+00,\n",
       "       4.21110526e+00, 4.73736842e+00, 5.26363158e+00, 5.78989474e+00,\n",
       "       6.31615789e+00, 6.84242105e+00, 7.36868421e+00, 7.89494737e+00,\n",
       "       8.42121053e+00, 8.94747368e+00, 9.47373684e+00, 1.00000000e+01]),\n",
       "                     cv=5, max_iter=10000, n_jobs=-1, solver=&#x27;liblinear&#x27;)</pre><b>In a Jupyter environment, please rerun this cell to show the HTML representation or trust the notebook. <br />On GitHub, the HTML representation is unable to render, please try loading this page with nbviewer.org.</b></div><div class=\"sk-container\" hidden><div class=\"sk-item\"><div class=\"sk-estimator sk-toggleable\"><input class=\"sk-toggleable__control sk-hidden--visually\" id=\"sk-estimator-id-3\" type=\"checkbox\" checked><label for=\"sk-estimator-id-3\" class=\"sk-toggleable__label sk-toggleable__label-arrow\">LogisticRegressionCV</label><div class=\"sk-toggleable__content\"><pre>LogisticRegressionCV(Cs=array([1.00000000e-03, 5.27263158e-01, 1.05352632e+00, 1.57978947e+00,\n",
       "       2.10605263e+00, 2.63231579e+00, 3.15857895e+00, 3.68484211e+00,\n",
       "       4.21110526e+00, 4.73736842e+00, 5.26363158e+00, 5.78989474e+00,\n",
       "       6.31615789e+00, 6.84242105e+00, 7.36868421e+00, 7.89494737e+00,\n",
       "       8.42121053e+00, 8.94747368e+00, 9.47373684e+00, 1.00000000e+01]),\n",
       "                     cv=5, max_iter=10000, n_jobs=-1, solver=&#x27;liblinear&#x27;)</pre></div></div></div></div></div>"
      ],
      "text/plain": [
       "LogisticRegressionCV(Cs=array([1.00000000e-03, 5.27263158e-01, 1.05352632e+00, 1.57978947e+00,\n",
       "       2.10605263e+00, 2.63231579e+00, 3.15857895e+00, 3.68484211e+00,\n",
       "       4.21110526e+00, 4.73736842e+00, 5.26363158e+00, 5.78989474e+00,\n",
       "       6.31615789e+00, 6.84242105e+00, 7.36868421e+00, 7.89494737e+00,\n",
       "       8.42121053e+00, 8.94747368e+00, 9.47373684e+00, 1.00000000e+01]),\n",
       "                     cv=5, max_iter=10000, n_jobs=-1, solver='liblinear')"
      ]
     },
     "execution_count": 23,
     "metadata": {},
     "output_type": "execute_result"
    }
   ],
   "source": [
    "# Logistic regression with L2 regularization using cross-validation to find the best C\n",
    "logistic_l2_cv = LogisticRegressionCV(Cs=Cs, \n",
    "                                      penalty='l2', \n",
    "                                      solver='liblinear',\n",
    "                                      cv=5, \n",
    "                                      max_iter=10000,\n",
    "                                      n_jobs=-1)\n",
    "logistic_l2_cv.fit(X_train, y_train)"
   ]
  },
  {
   "cell_type": "markdown",
   "id": "df30b1f0",
   "metadata": {},
   "source": [
    "### Examine different vlaues of C"
   ]
  },
  {
   "cell_type": "code",
   "execution_count": 24,
   "id": "28434a4c",
   "metadata": {},
   "outputs": [
    {
     "data": {
      "text/plain": [
       "array([1.00000000e-03, 5.27263158e-01, 1.05352632e+00, 1.57978947e+00,\n",
       "       2.10605263e+00, 2.63231579e+00, 3.15857895e+00, 3.68484211e+00,\n",
       "       4.21110526e+00, 4.73736842e+00, 5.26363158e+00, 5.78989474e+00,\n",
       "       6.31615789e+00, 6.84242105e+00, 7.36868421e+00, 7.89494737e+00,\n",
       "       8.42121053e+00, 8.94747368e+00, 9.47373684e+00, 1.00000000e+01])"
      ]
     },
     "execution_count": 24,
     "metadata": {},
     "output_type": "execute_result"
    }
   ],
   "source": [
    "logistic_l2_cv.Cs_"
   ]
  },
  {
   "cell_type": "markdown",
   "id": "03c57941",
   "metadata": {},
   "source": [
    "### Best value of C"
   ]
  },
  {
   "cell_type": "code",
   "execution_count": 25,
   "id": "151e2733",
   "metadata": {
    "scrolled": true
   },
   "outputs": [
    {
     "name": "stdout",
     "output_type": "stream",
     "text": [
      "The best Cs value is: [5.78989474]\n"
     ]
    }
   ],
   "source": [
    "best_C = logistic_l2_cv.C_\n",
    "print(f\"The best Cs value is: {best_C}\")"
   ]
  },
  {
   "cell_type": "markdown",
   "id": "3fb355e5",
   "metadata": {},
   "source": [
    "### Model Performance"
   ]
  },
  {
   "cell_type": "code",
   "execution_count": 26,
   "id": "82937b15",
   "metadata": {},
   "outputs": [
    {
     "name": "stdout",
     "output_type": "stream",
     "text": [
      "F1 Score with L2 Regularization on train data: 0.9154929577464788\n"
     ]
    }
   ],
   "source": [
    "# Evaluate the model with L2 regularization on train data\n",
    "y_train_pred_l2 = logistic_l2_cv.predict(X_train)\n",
    "f1_l2 = f1_score(y_train, y_train_pred_l2)\n",
    "print(\"F1 Score with L2 Regularization on train data:\", f1_l2)"
   ]
  },
  {
   "cell_type": "code",
   "execution_count": 27,
   "id": "b5a00e2f",
   "metadata": {},
   "outputs": [
    {
     "name": "stdout",
     "output_type": "stream",
     "text": [
      "F1 Score with L2 Regularization on test data: 0.819672131147541\n"
     ]
    }
   ],
   "source": [
    "# Evaluate the model with L2 regularization on test data\n",
    "y_test_pred_l2 = logistic_l2_cv.predict(X_test)\n",
    "f1_l2 = f1_score(y_test, y_test_pred_l2)\n",
    "print(\"F1 Score with L2 Regularization on test data:\", f1_l2)"
   ]
  },
  {
   "cell_type": "markdown",
   "id": "03ae3883",
   "metadata": {},
   "source": [
    "- L2 regularization further reduces the F1 score on train set, indicating a stronger constraint on the model complexity.\n",
    "- F1 score on the test set is lower with L2 regularization\n",
    "- In this specific case, L1 regularization outperforms L2."
   ]
  },
  {
   "cell_type": "markdown",
   "id": "8a285d37",
   "metadata": {},
   "source": [
    "### Name of all features with coefficients\n"
   ]
  },
  {
   "cell_type": "code",
   "execution_count": 28,
   "id": "7323d69a",
   "metadata": {},
   "outputs": [
    {
     "name": "stdout",
     "output_type": "stream",
     "text": [
      "                Feature  After L2 Regularization\n",
      "19     Orientation_West                -2.832268\n",
      "21  Glazing_Type_Type_B                -2.541632\n",
      "20  Glazing_Type_Type_A                -2.176545\n",
      "7       Noise_Feature_2                -2.064258\n",
      "14      Noise_Feature_9                -2.054356\n",
      "22  Glazing_Type_Type_C                -1.374682\n",
      "12      Noise_Feature_7                -1.198039\n",
      "17    Orientation_North                -1.184977\n",
      "18    Orientation_South                -1.074118\n",
      "9       Noise_Feature_4                -1.004238\n",
      "16     Orientation_East                -1.001495\n",
      "3        Overall_Height                -0.667936\n",
      "6       Noise_Feature_1                -0.598426\n",
      "11      Noise_Feature_6                -0.233957\n",
      "15     Noise_Feature_10                -0.197125\n",
      "4   Outdoor_Temperature                -0.092914\n",
      "5              Humidity                -0.060982\n",
      "2           Window_Area                 0.010112\n",
      "1             Roof_Area                 0.016002\n",
      "0             Wall_Area                 0.055464\n",
      "8       Noise_Feature_3                 0.196548\n",
      "10      Noise_Feature_5                 0.386247\n",
      "13      Noise_Feature_8                 0.408198\n"
     ]
    }
   ],
   "source": [
    "coefficients_after_l2 = pd.DataFrame({\n",
    "    'Feature': X_train.columns,\n",
    "    'After L2 Regularization': logistic_l2_cv.coef_.flatten()\n",
    "})\n",
    "print(coefficients_after_l2.sort_values(by = 'After L2 Regularization' ))"
   ]
  },
  {
   "cell_type": "markdown",
   "id": "9abf9700",
   "metadata": {},
   "source": [
    "### Features with 0 coefficients"
   ]
  },
  {
   "cell_type": "code",
   "execution_count": 29,
   "id": "d986bcd6",
   "metadata": {},
   "outputs": [
    {
     "data": {
      "text/plain": [
       "[]"
      ]
     },
     "execution_count": 29,
     "metadata": {},
     "output_type": "execute_result"
    }
   ],
   "source": [
    "# Identify zero features from logisitc regression L2 model\n",
    "zero_mask = (logistic_l2_cv.coef_ == 0).flatten()\n",
    "zero_features = X_train.columns[zero_mask]\n",
    "# Print the features with zero coefficients \n",
    "zero_features.tolist()"
   ]
  },
  {
   "cell_type": "markdown",
   "id": "6cc603c0",
   "metadata": {},
   "source": [
    "\n",
    "### Since L1 regularization provides the better balance between training and test performance, it might be the preferred model in this scenario.\n"
   ]
  },
  {
   "cell_type": "markdown",
   "id": "8f6f1b0b",
   "metadata": {},
   "source": [
    "# Elastic Net \n",
    "\n",
    "### Run  All Above"
   ]
  },
  {
   "cell_type": "code",
   "execution_count": 30,
   "id": "b0fccaa6",
   "metadata": {},
   "outputs": [],
   "source": [
    "Cs=np.linspace(0.001,10,20)"
   ]
  },
  {
   "cell_type": "code",
   "execution_count": 31,
   "id": "3eec420f-ac90-4399-bd37-bf7296c6ff9c",
   "metadata": {},
   "outputs": [
    {
     "data": {
      "text/html": [
       "<style>#sk-container-id-4 {color: black;}#sk-container-id-4 pre{padding: 0;}#sk-container-id-4 div.sk-toggleable {background-color: white;}#sk-container-id-4 label.sk-toggleable__label {cursor: pointer;display: block;width: 100%;margin-bottom: 0;padding: 0.3em;box-sizing: border-box;text-align: center;}#sk-container-id-4 label.sk-toggleable__label-arrow:before {content: \"▸\";float: left;margin-right: 0.25em;color: #696969;}#sk-container-id-4 label.sk-toggleable__label-arrow:hover:before {color: black;}#sk-container-id-4 div.sk-estimator:hover label.sk-toggleable__label-arrow:before {color: black;}#sk-container-id-4 div.sk-toggleable__content {max-height: 0;max-width: 0;overflow: hidden;text-align: left;background-color: #f0f8ff;}#sk-container-id-4 div.sk-toggleable__content pre {margin: 0.2em;color: black;border-radius: 0.25em;background-color: #f0f8ff;}#sk-container-id-4 input.sk-toggleable__control:checked~div.sk-toggleable__content {max-height: 200px;max-width: 100%;overflow: auto;}#sk-container-id-4 input.sk-toggleable__control:checked~label.sk-toggleable__label-arrow:before {content: \"▾\";}#sk-container-id-4 div.sk-estimator input.sk-toggleable__control:checked~label.sk-toggleable__label {background-color: #d4ebff;}#sk-container-id-4 div.sk-label input.sk-toggleable__control:checked~label.sk-toggleable__label {background-color: #d4ebff;}#sk-container-id-4 input.sk-hidden--visually {border: 0;clip: rect(1px 1px 1px 1px);clip: rect(1px, 1px, 1px, 1px);height: 1px;margin: -1px;overflow: hidden;padding: 0;position: absolute;width: 1px;}#sk-container-id-4 div.sk-estimator {font-family: monospace;background-color: #f0f8ff;border: 1px dotted black;border-radius: 0.25em;box-sizing: border-box;margin-bottom: 0.5em;}#sk-container-id-4 div.sk-estimator:hover {background-color: #d4ebff;}#sk-container-id-4 div.sk-parallel-item::after {content: \"\";width: 100%;border-bottom: 1px solid gray;flex-grow: 1;}#sk-container-id-4 div.sk-label:hover label.sk-toggleable__label {background-color: #d4ebff;}#sk-container-id-4 div.sk-serial::before {content: \"\";position: absolute;border-left: 1px solid gray;box-sizing: border-box;top: 0;bottom: 0;left: 50%;z-index: 0;}#sk-container-id-4 div.sk-serial {display: flex;flex-direction: column;align-items: center;background-color: white;padding-right: 0.2em;padding-left: 0.2em;position: relative;}#sk-container-id-4 div.sk-item {position: relative;z-index: 1;}#sk-container-id-4 div.sk-parallel {display: flex;align-items: stretch;justify-content: center;background-color: white;position: relative;}#sk-container-id-4 div.sk-item::before, #sk-container-id-4 div.sk-parallel-item::before {content: \"\";position: absolute;border-left: 1px solid gray;box-sizing: border-box;top: 0;bottom: 0;left: 50%;z-index: -1;}#sk-container-id-4 div.sk-parallel-item {display: flex;flex-direction: column;z-index: 1;position: relative;background-color: white;}#sk-container-id-4 div.sk-parallel-item:first-child::after {align-self: flex-end;width: 50%;}#sk-container-id-4 div.sk-parallel-item:last-child::after {align-self: flex-start;width: 50%;}#sk-container-id-4 div.sk-parallel-item:only-child::after {width: 0;}#sk-container-id-4 div.sk-dashed-wrapped {border: 1px dashed gray;margin: 0 0.4em 0.5em 0.4em;box-sizing: border-box;padding-bottom: 0.4em;background-color: white;}#sk-container-id-4 div.sk-label label {font-family: monospace;font-weight: bold;display: inline-block;line-height: 1.2em;}#sk-container-id-4 div.sk-label-container {text-align: center;}#sk-container-id-4 div.sk-container {/* jupyter's `normalize.less` sets `[hidden] { display: none; }` but bootstrap.min.css set `[hidden] { display: none !important; }` so we also need the `!important` here to be able to override the default hidden behavior on the sphinx rendered scikit-learn.org. See: https://github.com/scikit-learn/scikit-learn/issues/21755 */display: inline-block !important;position: relative;}#sk-container-id-4 div.sk-text-repr-fallback {display: none;}</style><div id=\"sk-container-id-4\" class=\"sk-top-container\"><div class=\"sk-text-repr-fallback\"><pre>LogisticRegressionCV(Cs=array([1.00000000e-03, 5.27263158e-01, 1.05352632e+00, 1.57978947e+00,\n",
       "       2.10605263e+00, 2.63231579e+00, 3.15857895e+00, 3.68484211e+00,\n",
       "       4.21110526e+00, 4.73736842e+00, 5.26363158e+00, 5.78989474e+00,\n",
       "       6.31615789e+00, 6.84242105e+00, 7.36868421e+00, 7.89494737e+00,\n",
       "       8.42121053e+00, 8.94747368e+00, 9.47373684e+00, 1.00000000e+01]),\n",
       "                     cv=5,\n",
       "                     l1_ratios=[0.0001, 0.001, 0.01, 0.05, 0.1, 0.4, 0.5, 0.7,\n",
       "                                1],\n",
       "                     max_iter=1000000, n_jobs=-1, penalty=&#x27;elasticnet&#x27;,\n",
       "                     solver=&#x27;saga&#x27;)</pre><b>In a Jupyter environment, please rerun this cell to show the HTML representation or trust the notebook. <br />On GitHub, the HTML representation is unable to render, please try loading this page with nbviewer.org.</b></div><div class=\"sk-container\" hidden><div class=\"sk-item\"><div class=\"sk-estimator sk-toggleable\"><input class=\"sk-toggleable__control sk-hidden--visually\" id=\"sk-estimator-id-4\" type=\"checkbox\" checked><label for=\"sk-estimator-id-4\" class=\"sk-toggleable__label sk-toggleable__label-arrow\">LogisticRegressionCV</label><div class=\"sk-toggleable__content\"><pre>LogisticRegressionCV(Cs=array([1.00000000e-03, 5.27263158e-01, 1.05352632e+00, 1.57978947e+00,\n",
       "       2.10605263e+00, 2.63231579e+00, 3.15857895e+00, 3.68484211e+00,\n",
       "       4.21110526e+00, 4.73736842e+00, 5.26363158e+00, 5.78989474e+00,\n",
       "       6.31615789e+00, 6.84242105e+00, 7.36868421e+00, 7.89494737e+00,\n",
       "       8.42121053e+00, 8.94747368e+00, 9.47373684e+00, 1.00000000e+01]),\n",
       "                     cv=5,\n",
       "                     l1_ratios=[0.0001, 0.001, 0.01, 0.05, 0.1, 0.4, 0.5, 0.7,\n",
       "                                1],\n",
       "                     max_iter=1000000, n_jobs=-1, penalty=&#x27;elasticnet&#x27;,\n",
       "                     solver=&#x27;saga&#x27;)</pre></div></div></div></div></div>"
      ],
      "text/plain": [
       "LogisticRegressionCV(Cs=array([1.00000000e-03, 5.27263158e-01, 1.05352632e+00, 1.57978947e+00,\n",
       "       2.10605263e+00, 2.63231579e+00, 3.15857895e+00, 3.68484211e+00,\n",
       "       4.21110526e+00, 4.73736842e+00, 5.26363158e+00, 5.78989474e+00,\n",
       "       6.31615789e+00, 6.84242105e+00, 7.36868421e+00, 7.89494737e+00,\n",
       "       8.42121053e+00, 8.94747368e+00, 9.47373684e+00, 1.00000000e+01]),\n",
       "                     cv=5,\n",
       "                     l1_ratios=[0.0001, 0.001, 0.01, 0.05, 0.1, 0.4, 0.5, 0.7,\n",
       "                                1],\n",
       "                     max_iter=1000000, n_jobs=-1, penalty='elasticnet',\n",
       "                     solver='saga')"
      ]
     },
     "execution_count": 31,
     "metadata": {},
     "output_type": "execute_result"
    }
   ],
   "source": [
    "# Logistic regression with Elastic Net regularization using cross-validation\n",
    "logistic_en_cv = LogisticRegressionCV(penalty='elasticnet',\n",
    "                                      Cs = Cs,\n",
    "                                      l1_ratios= [0.0001, 0.001, 0.01, 0.05, 0.1, 0.4, 0.5, 0.7, 1], \n",
    "                                      solver='saga', \n",
    "                                      cv=5,\n",
    "                                      max_iter=1000000,\n",
    "                                      n_jobs=-1)\n",
    "logistic_en_cv.fit(X_train, y_train)"
   ]
  },
  {
   "cell_type": "markdown",
   "id": "608a5305",
   "metadata": {},
   "source": [
    "## Lets understand this function in detail:\n",
    "1. penalty='elasticnet' specifies the use of Elastic Net regularization,where both L1 and L2 penalty terms are added.\n",
    "2. l1_ratios specifies the ratio between L1 and L2 regularization in the Elastic Net penalty\n",
    "3. solver='saga' is the optimization algorithm used for solving the regression problem. Elastic-Net penalty is only supported by the saga solver.\n"
   ]
  },
  {
   "cell_type": "markdown",
   "id": "0bb9c52f",
   "metadata": {},
   "source": [
    "### We are trying more ratios closer to 0 becuase we know L1 performed better\n"
   ]
  },
  {
   "cell_type": "markdown",
   "id": "7f84185d",
   "metadata": {},
   "source": [
    "### All coefficient values"
   ]
  },
  {
   "cell_type": "code",
   "execution_count": 32,
   "id": "e9a86e3d",
   "metadata": {},
   "outputs": [
    {
     "data": {
      "text/plain": [
       "array([1.00000000e-03, 5.27263158e-01, 1.05352632e+00, 1.57978947e+00,\n",
       "       2.10605263e+00, 2.63231579e+00, 3.15857895e+00, 3.68484211e+00,\n",
       "       4.21110526e+00, 4.73736842e+00, 5.26363158e+00, 5.78989474e+00,\n",
       "       6.31615789e+00, 6.84242105e+00, 7.36868421e+00, 7.89494737e+00,\n",
       "       8.42121053e+00, 8.94747368e+00, 9.47373684e+00, 1.00000000e+01])"
      ]
     },
     "execution_count": 32,
     "metadata": {},
     "output_type": "execute_result"
    }
   ],
   "source": [
    "logistic_en_cv.Cs_"
   ]
  },
  {
   "cell_type": "markdown",
   "id": "4aad02bd",
   "metadata": {},
   "source": [
    "### Best Value of C"
   ]
  },
  {
   "cell_type": "code",
   "execution_count": 33,
   "id": "2f48ada5",
   "metadata": {},
   "outputs": [
    {
     "data": {
      "text/plain": [
       "array([0.001])"
      ]
     },
     "execution_count": 33,
     "metadata": {},
     "output_type": "execute_result"
    }
   ],
   "source": [
    "logistic_en_cv.C_"
   ]
  },
  {
   "cell_type": "markdown",
   "id": "fd68529b",
   "metadata": {},
   "source": [
    "### Best Value of l1_ratio"
   ]
  },
  {
   "cell_type": "markdown",
   "id": "bc59fed0",
   "metadata": {},
   "source": [
    "Lets find the best l1 ratio. "
   ]
  },
  {
   "cell_type": "code",
   "execution_count": 34,
   "id": "4aae890b",
   "metadata": {},
   "outputs": [
    {
     "data": {
      "text/plain": [
       "array([0.0001])"
      ]
     },
     "execution_count": 34,
     "metadata": {},
     "output_type": "execute_result"
    }
   ],
   "source": [
    "logistic_en_cv.l1_ratio_"
   ]
  },
  {
   "cell_type": "markdown",
   "id": "c6382967",
   "metadata": {},
   "source": [
    "- Ratio suggested is very close to 0 which means that it is drawing us to L2 penalty. "
   ]
  },
  {
   "cell_type": "markdown",
   "id": "0c4475d7",
   "metadata": {},
   "source": [
    "### Model Performance"
   ]
  },
  {
   "cell_type": "code",
   "execution_count": 35,
   "id": "a18257de",
   "metadata": {},
   "outputs": [
    {
     "name": "stdout",
     "output_type": "stream",
     "text": [
      "F1 Score with Elastic Net Regularization on Train Set: 0.821917808219178\n"
     ]
    }
   ],
   "source": [
    "# Evaluate the model\n",
    "y_train_pred_elastic = logistic_en_cv.predict(X_train)\n",
    "f1_elastic_train = f1_score(y_train, y_train_pred_elastic)\n",
    "print(\"F1 Score with Elastic Net Regularization on Train Set:\", f1_elastic_train)"
   ]
  },
  {
   "cell_type": "code",
   "execution_count": 36,
   "id": "1f1f490e-10a4-4543-840b-2b476a0dbf82",
   "metadata": {},
   "outputs": [
    {
     "name": "stdout",
     "output_type": "stream",
     "text": [
      "F1 Score with Elastic Net Regularization on Test Set: 0.7540983606557377\n"
     ]
    }
   ],
   "source": [
    "y_test_pred_elastic = logistic_en_cv.predict(X_test)\n",
    "f1_elastic_test = f1_score(y_test, y_test_pred_elastic)\n",
    "print(\"F1 Score with Elastic Net Regularization on Test Set:\", f1_elastic_test)"
   ]
  },
  {
   "cell_type": "markdown",
   "id": "89382738",
   "metadata": {},
   "source": [
    "- Elastic Net did not perform as good as either L1 or L2 regularization.\n",
    "- The F1 score on the train set is 0.82 and on test set is 0.75. \n",
    "\n",
    "### It indicates that while Elastic Net is versatile, its effectiveness may vary depending on the specific dataset and problem at hand. "
   ]
  }
 ],
 "metadata": {
  "kernelspec": {
   "display_name": "Python 3 (ipykernel)",
   "language": "python",
   "name": "python3"
  },
  "language_info": {
   "codemirror_mode": {
    "name": "ipython",
    "version": 3
   },
   "file_extension": ".py",
   "mimetype": "text/x-python",
   "name": "python",
   "nbconvert_exporter": "python",
   "pygments_lexer": "ipython3",
   "version": "3.11.5"
  }
 },
 "nbformat": 4,
 "nbformat_minor": 5
}
