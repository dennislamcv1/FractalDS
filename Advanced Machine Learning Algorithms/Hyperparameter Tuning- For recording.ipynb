{
 "cells": [
  {
   "cell_type": "markdown",
   "id": "95e29a5b",
   "metadata": {},
   "source": [
    "# Hyperparameter Tuning\n",
    "\n"
   ]
  },
  {
   "cell_type": "code",
   "execution_count": null,
   "id": "805ecb66",
   "metadata": {},
   "outputs": [],
   "source": [
    "#Make sure this is installed\n",
    "# !pip install scikit-optimize"
   ]
  },
  {
   "cell_type": "code",
   "execution_count": 25,
   "id": "6c365ee5",
   "metadata": {},
   "outputs": [],
   "source": [
    "#import relevant libraries\n",
    "import pandas as pd\n",
    "import numpy as np\n",
    "from sklearn.ensemble import GradientBoostingClassifier\n",
    "from sklearn.tree import DecisionTreeClassifier\n",
    "from sklearn.metrics import f1_score\n",
    "from skopt import BayesSearchCV\n",
    "# parameter ranges are specified by one of below\n",
    "from skopt.space import Real, Integer"
   ]
  },
  {
   "cell_type": "code",
   "execution_count": 26,
   "id": "1240938e",
   "metadata": {},
   "outputs": [],
   "source": [
    "#read train, validation and test data\n",
    "df_train = pd.read_csv('train_new.csv')\n",
    "df_test = pd.read_csv('test_new.csv')\n",
    "df_val = pd.read_csv('val_new.csv')"
   ]
  },
  {
   "cell_type": "code",
   "execution_count": 27,
   "id": "7a02d442",
   "metadata": {},
   "outputs": [],
   "source": [
    "x_train = df_train.drop(['Units_sold>1000'], axis = 1)\n",
    "y_train = df_train['Units_sold>1000']"
   ]
  },
  {
   "cell_type": "code",
   "execution_count": 28,
   "id": "35a06d6d",
   "metadata": {},
   "outputs": [],
   "source": [
    "x_test = df_test.drop(['Units_sold>1000'], axis = 1)\n",
    "y_test = df_test['Units_sold>1000']"
   ]
  },
  {
   "cell_type": "code",
   "execution_count": 29,
   "id": "deb22aaf",
   "metadata": {},
   "outputs": [],
   "source": [
    "x_val = df_val.drop(['Units_sold>1000'], axis = 1)\n",
    "y_val = df_val['Units_sold>1000']"
   ]
  },
  {
   "cell_type": "markdown",
   "id": "c5133ff3",
   "metadata": {},
   "source": [
    "## Video 2 : Grid Search\n",
    "\n",
    "<p style = 'color:green'><b>Run all the cells above before you begin</b><p>"
   ]
  },
  {
   "cell_type": "markdown",
   "id": "aa5eda31",
   "metadata": {},
   "source": [
    "- n-estimator controls the number of decision trees which will be built in sequence in a boosted ensemble model. So, increaing the nummber of estimators will lead to better performance of model, but a very high number will lead to overfitting. Since our goal is to increase the performance of the model on test data, we will check the performance of the model across a list of values - [50, 100, 200, 300, 400].\n",
    "\n",
    "- Now max_depth is used to set the depth of the tree. Higher the number, more the model learns from training data and hence may result in overfitting. Since our model was slightly overfitting at the end of feature engineering  at a max_depth of 9. Let us set the range between 6 to 14 with a gap of 2.\n",
    "\n",
    "- The learning_rate ontrols the weightage each model gets for the final prediction. A higher value of learning_rate can lead to overfit models. So far we have been using the default value of 0.1. But we will be trying two other values i.e. 0.2 and 0.3 along with the default value this time. "
   ]
  },
  {
   "cell_type": "code",
   "execution_count": 30,
   "id": "10a95e8a",
   "metadata": {},
   "outputs": [],
   "source": [
    "from sklearn.model_selection import GridSearchCV"
   ]
  },
  {
   "cell_type": "code",
   "execution_count": 31,
   "id": "2cdd76bb",
   "metadata": {},
   "outputs": [],
   "source": [
    "#define the grid\n",
    "param_grid = {\n",
    "    'n_estimators': [50, 100, 200, 300, 400],\n",
    "    'max_depth': range(6, 13, 2),\n",
    "    'learning_rate': [0.1, 0.2, 0.3]\n",
    "}"
   ]
  },
  {
   "cell_type": "code",
   "execution_count": 32,
   "id": "78f57a0c",
   "metadata": {},
   "outputs": [],
   "source": [
    "#define the model instance \n",
    "model_GBC = GradientBoostingClassifier(random_state=42)"
   ]
  },
  {
   "cell_type": "code",
   "execution_count": 33,
   "id": "a911eac4",
   "metadata": {},
   "outputs": [],
   "source": [
    "#define grid search cv\n",
    "grid_search_cv = GridSearchCV(estimator=model_GBC, param_grid=param_grid, n_jobs=-1, verbose=2,\n",
    "                      cv=5, scoring='f1')"
   ]
  },
  {
   "cell_type": "code",
   "execution_count": 34,
   "id": "875e42ed",
   "metadata": {
    "scrolled": true
   },
   "outputs": [
    {
     "name": "stdout",
     "output_type": "stream",
     "text": [
      "Fitting 5 folds for each of 60 candidates, totalling 300 fits\n",
      "CPU times: user 43.2 s, sys: 558 ms, total: 43.7 s\n",
      "Wall time: 17min 40s\n"
     ]
    },
    {
     "data": {
      "text/html": [
       "<style>#sk-container-id-5 {color: black;}#sk-container-id-5 pre{padding: 0;}#sk-container-id-5 div.sk-toggleable {background-color: white;}#sk-container-id-5 label.sk-toggleable__label {cursor: pointer;display: block;width: 100%;margin-bottom: 0;padding: 0.3em;box-sizing: border-box;text-align: center;}#sk-container-id-5 label.sk-toggleable__label-arrow:before {content: \"▸\";float: left;margin-right: 0.25em;color: #696969;}#sk-container-id-5 label.sk-toggleable__label-arrow:hover:before {color: black;}#sk-container-id-5 div.sk-estimator:hover label.sk-toggleable__label-arrow:before {color: black;}#sk-container-id-5 div.sk-toggleable__content {max-height: 0;max-width: 0;overflow: hidden;text-align: left;background-color: #f0f8ff;}#sk-container-id-5 div.sk-toggleable__content pre {margin: 0.2em;color: black;border-radius: 0.25em;background-color: #f0f8ff;}#sk-container-id-5 input.sk-toggleable__control:checked~div.sk-toggleable__content {max-height: 200px;max-width: 100%;overflow: auto;}#sk-container-id-5 input.sk-toggleable__control:checked~label.sk-toggleable__label-arrow:before {content: \"▾\";}#sk-container-id-5 div.sk-estimator input.sk-toggleable__control:checked~label.sk-toggleable__label {background-color: #d4ebff;}#sk-container-id-5 div.sk-label input.sk-toggleable__control:checked~label.sk-toggleable__label {background-color: #d4ebff;}#sk-container-id-5 input.sk-hidden--visually {border: 0;clip: rect(1px 1px 1px 1px);clip: rect(1px, 1px, 1px, 1px);height: 1px;margin: -1px;overflow: hidden;padding: 0;position: absolute;width: 1px;}#sk-container-id-5 div.sk-estimator {font-family: monospace;background-color: #f0f8ff;border: 1px dotted black;border-radius: 0.25em;box-sizing: border-box;margin-bottom: 0.5em;}#sk-container-id-5 div.sk-estimator:hover {background-color: #d4ebff;}#sk-container-id-5 div.sk-parallel-item::after {content: \"\";width: 100%;border-bottom: 1px solid gray;flex-grow: 1;}#sk-container-id-5 div.sk-label:hover label.sk-toggleable__label {background-color: #d4ebff;}#sk-container-id-5 div.sk-serial::before {content: \"\";position: absolute;border-left: 1px solid gray;box-sizing: border-box;top: 0;bottom: 0;left: 50%;z-index: 0;}#sk-container-id-5 div.sk-serial {display: flex;flex-direction: column;align-items: center;background-color: white;padding-right: 0.2em;padding-left: 0.2em;position: relative;}#sk-container-id-5 div.sk-item {position: relative;z-index: 1;}#sk-container-id-5 div.sk-parallel {display: flex;align-items: stretch;justify-content: center;background-color: white;position: relative;}#sk-container-id-5 div.sk-item::before, #sk-container-id-5 div.sk-parallel-item::before {content: \"\";position: absolute;border-left: 1px solid gray;box-sizing: border-box;top: 0;bottom: 0;left: 50%;z-index: -1;}#sk-container-id-5 div.sk-parallel-item {display: flex;flex-direction: column;z-index: 1;position: relative;background-color: white;}#sk-container-id-5 div.sk-parallel-item:first-child::after {align-self: flex-end;width: 50%;}#sk-container-id-5 div.sk-parallel-item:last-child::after {align-self: flex-start;width: 50%;}#sk-container-id-5 div.sk-parallel-item:only-child::after {width: 0;}#sk-container-id-5 div.sk-dashed-wrapped {border: 1px dashed gray;margin: 0 0.4em 0.5em 0.4em;box-sizing: border-box;padding-bottom: 0.4em;background-color: white;}#sk-container-id-5 div.sk-label label {font-family: monospace;font-weight: bold;display: inline-block;line-height: 1.2em;}#sk-container-id-5 div.sk-label-container {text-align: center;}#sk-container-id-5 div.sk-container {/* jupyter's `normalize.less` sets `[hidden] { display: none; }` but bootstrap.min.css set `[hidden] { display: none !important; }` so we also need the `!important` here to be able to override the default hidden behavior on the sphinx rendered scikit-learn.org. See: https://github.com/scikit-learn/scikit-learn/issues/21755 */display: inline-block !important;position: relative;}#sk-container-id-5 div.sk-text-repr-fallback {display: none;}</style><div id=\"sk-container-id-5\" class=\"sk-top-container\"><div class=\"sk-text-repr-fallback\"><pre>GridSearchCV(cv=5, estimator=GradientBoostingClassifier(random_state=42),\n",
       "             n_jobs=-1,\n",
       "             param_grid={&#x27;learning_rate&#x27;: [0.1, 0.2, 0.3],\n",
       "                         &#x27;max_depth&#x27;: range(6, 13, 2),\n",
       "                         &#x27;n_estimators&#x27;: [50, 100, 200, 300, 400]},\n",
       "             scoring=&#x27;f1&#x27;, verbose=2)</pre><b>In a Jupyter environment, please rerun this cell to show the HTML representation or trust the notebook. <br />On GitHub, the HTML representation is unable to render, please try loading this page with nbviewer.org.</b></div><div class=\"sk-container\" hidden><div class=\"sk-item sk-dashed-wrapped\"><div class=\"sk-label-container\"><div class=\"sk-label sk-toggleable\"><input class=\"sk-toggleable__control sk-hidden--visually\" id=\"sk-estimator-id-9\" type=\"checkbox\" ><label for=\"sk-estimator-id-9\" class=\"sk-toggleable__label sk-toggleable__label-arrow\">GridSearchCV</label><div class=\"sk-toggleable__content\"><pre>GridSearchCV(cv=5, estimator=GradientBoostingClassifier(random_state=42),\n",
       "             n_jobs=-1,\n",
       "             param_grid={&#x27;learning_rate&#x27;: [0.1, 0.2, 0.3],\n",
       "                         &#x27;max_depth&#x27;: range(6, 13, 2),\n",
       "                         &#x27;n_estimators&#x27;: [50, 100, 200, 300, 400]},\n",
       "             scoring=&#x27;f1&#x27;, verbose=2)</pre></div></div></div><div class=\"sk-parallel\"><div class=\"sk-parallel-item\"><div class=\"sk-item\"><div class=\"sk-label-container\"><div class=\"sk-label sk-toggleable\"><input class=\"sk-toggleable__control sk-hidden--visually\" id=\"sk-estimator-id-10\" type=\"checkbox\" ><label for=\"sk-estimator-id-10\" class=\"sk-toggleable__label sk-toggleable__label-arrow\">estimator: GradientBoostingClassifier</label><div class=\"sk-toggleable__content\"><pre>GradientBoostingClassifier(random_state=42)</pre></div></div></div><div class=\"sk-serial\"><div class=\"sk-item\"><div class=\"sk-estimator sk-toggleable\"><input class=\"sk-toggleable__control sk-hidden--visually\" id=\"sk-estimator-id-11\" type=\"checkbox\" ><label for=\"sk-estimator-id-11\" class=\"sk-toggleable__label sk-toggleable__label-arrow\">GradientBoostingClassifier</label><div class=\"sk-toggleable__content\"><pre>GradientBoostingClassifier(random_state=42)</pre></div></div></div></div></div></div></div></div></div></div>"
      ],
      "text/plain": [
       "GridSearchCV(cv=5, estimator=GradientBoostingClassifier(random_state=42),\n",
       "             n_jobs=-1,\n",
       "             param_grid={'learning_rate': [0.1, 0.2, 0.3],\n",
       "                         'max_depth': range(6, 13, 2),\n",
       "                         'n_estimators': [50, 100, 200, 300, 400]},\n",
       "             scoring='f1', verbose=2)"
      ]
     },
     "execution_count": 34,
     "metadata": {},
     "output_type": "execute_result"
    }
   ],
   "source": [
    "# fit the grid search model\n",
    "%%time\n",
    "grid_search_cv.fit(x_train, y_train)"
   ]
  },
  {
   "cell_type": "code",
   "execution_count": 36,
   "id": "ae8a7930",
   "metadata": {
    "scrolled": true
   },
   "outputs": [
    {
     "data": {
      "text/html": [
       "<style>#sk-container-id-7 {color: black;}#sk-container-id-7 pre{padding: 0;}#sk-container-id-7 div.sk-toggleable {background-color: white;}#sk-container-id-7 label.sk-toggleable__label {cursor: pointer;display: block;width: 100%;margin-bottom: 0;padding: 0.3em;box-sizing: border-box;text-align: center;}#sk-container-id-7 label.sk-toggleable__label-arrow:before {content: \"▸\";float: left;margin-right: 0.25em;color: #696969;}#sk-container-id-7 label.sk-toggleable__label-arrow:hover:before {color: black;}#sk-container-id-7 div.sk-estimator:hover label.sk-toggleable__label-arrow:before {color: black;}#sk-container-id-7 div.sk-toggleable__content {max-height: 0;max-width: 0;overflow: hidden;text-align: left;background-color: #f0f8ff;}#sk-container-id-7 div.sk-toggleable__content pre {margin: 0.2em;color: black;border-radius: 0.25em;background-color: #f0f8ff;}#sk-container-id-7 input.sk-toggleable__control:checked~div.sk-toggleable__content {max-height: 200px;max-width: 100%;overflow: auto;}#sk-container-id-7 input.sk-toggleable__control:checked~label.sk-toggleable__label-arrow:before {content: \"▾\";}#sk-container-id-7 div.sk-estimator input.sk-toggleable__control:checked~label.sk-toggleable__label {background-color: #d4ebff;}#sk-container-id-7 div.sk-label input.sk-toggleable__control:checked~label.sk-toggleable__label {background-color: #d4ebff;}#sk-container-id-7 input.sk-hidden--visually {border: 0;clip: rect(1px 1px 1px 1px);clip: rect(1px, 1px, 1px, 1px);height: 1px;margin: -1px;overflow: hidden;padding: 0;position: absolute;width: 1px;}#sk-container-id-7 div.sk-estimator {font-family: monospace;background-color: #f0f8ff;border: 1px dotted black;border-radius: 0.25em;box-sizing: border-box;margin-bottom: 0.5em;}#sk-container-id-7 div.sk-estimator:hover {background-color: #d4ebff;}#sk-container-id-7 div.sk-parallel-item::after {content: \"\";width: 100%;border-bottom: 1px solid gray;flex-grow: 1;}#sk-container-id-7 div.sk-label:hover label.sk-toggleable__label {background-color: #d4ebff;}#sk-container-id-7 div.sk-serial::before {content: \"\";position: absolute;border-left: 1px solid gray;box-sizing: border-box;top: 0;bottom: 0;left: 50%;z-index: 0;}#sk-container-id-7 div.sk-serial {display: flex;flex-direction: column;align-items: center;background-color: white;padding-right: 0.2em;padding-left: 0.2em;position: relative;}#sk-container-id-7 div.sk-item {position: relative;z-index: 1;}#sk-container-id-7 div.sk-parallel {display: flex;align-items: stretch;justify-content: center;background-color: white;position: relative;}#sk-container-id-7 div.sk-item::before, #sk-container-id-7 div.sk-parallel-item::before {content: \"\";position: absolute;border-left: 1px solid gray;box-sizing: border-box;top: 0;bottom: 0;left: 50%;z-index: -1;}#sk-container-id-7 div.sk-parallel-item {display: flex;flex-direction: column;z-index: 1;position: relative;background-color: white;}#sk-container-id-7 div.sk-parallel-item:first-child::after {align-self: flex-end;width: 50%;}#sk-container-id-7 div.sk-parallel-item:last-child::after {align-self: flex-start;width: 50%;}#sk-container-id-7 div.sk-parallel-item:only-child::after {width: 0;}#sk-container-id-7 div.sk-dashed-wrapped {border: 1px dashed gray;margin: 0 0.4em 0.5em 0.4em;box-sizing: border-box;padding-bottom: 0.4em;background-color: white;}#sk-container-id-7 div.sk-label label {font-family: monospace;font-weight: bold;display: inline-block;line-height: 1.2em;}#sk-container-id-7 div.sk-label-container {text-align: center;}#sk-container-id-7 div.sk-container {/* jupyter's `normalize.less` sets `[hidden] { display: none; }` but bootstrap.min.css set `[hidden] { display: none !important; }` so we also need the `!important` here to be able to override the default hidden behavior on the sphinx rendered scikit-learn.org. See: https://github.com/scikit-learn/scikit-learn/issues/21755 */display: inline-block !important;position: relative;}#sk-container-id-7 div.sk-text-repr-fallback {display: none;}</style><div id=\"sk-container-id-7\" class=\"sk-top-container\"><div class=\"sk-text-repr-fallback\"><pre>GradientBoostingClassifier(learning_rate=0.3, max_depth=10, n_estimators=400,\n",
       "                           random_state=42)</pre><b>In a Jupyter environment, please rerun this cell to show the HTML representation or trust the notebook. <br />On GitHub, the HTML representation is unable to render, please try loading this page with nbviewer.org.</b></div><div class=\"sk-container\" hidden><div class=\"sk-item\"><div class=\"sk-estimator sk-toggleable\"><input class=\"sk-toggleable__control sk-hidden--visually\" id=\"sk-estimator-id-13\" type=\"checkbox\" checked><label for=\"sk-estimator-id-13\" class=\"sk-toggleable__label sk-toggleable__label-arrow\">GradientBoostingClassifier</label><div class=\"sk-toggleable__content\"><pre>GradientBoostingClassifier(learning_rate=0.3, max_depth=10, n_estimators=400,\n",
       "                           random_state=42)</pre></div></div></div></div></div>"
      ],
      "text/plain": [
       "GradientBoostingClassifier(learning_rate=0.3, max_depth=10, n_estimators=400,\n",
       "                           random_state=42)"
      ]
     },
     "execution_count": 36,
     "metadata": {},
     "output_type": "execute_result"
    }
   ],
   "source": [
    "# Best performing model\n",
    "grid_search_cv.best_estimator_"
   ]
  },
  {
   "cell_type": "code",
   "execution_count": 37,
   "id": "dd93a9c3",
   "metadata": {},
   "outputs": [
    {
     "data": {
      "text/plain": [
       "{'learning_rate': 0.3, 'max_depth': 10, 'n_estimators': 400}"
      ]
     },
     "execution_count": 37,
     "metadata": {},
     "output_type": "execute_result"
    }
   ],
   "source": [
    "# Best performing model\n",
    "grid_search_cv.best_params_"
   ]
  },
  {
   "cell_type": "code",
   "execution_count": 39,
   "id": "4ceb2a74",
   "metadata": {},
   "outputs": [
    {
     "data": {
      "text/plain": [
       "0.9077340243467941"
      ]
     },
     "execution_count": 39,
     "metadata": {},
     "output_type": "execute_result"
    }
   ],
   "source": [
    "# Mean cross-validated F1 score of the best estimator\n",
    "grid_search_cv.best_score_"
   ]
  },
  {
   "cell_type": "code",
   "execution_count": 40,
   "id": "05f110bc",
   "metadata": {},
   "outputs": [
    {
     "name": "stdout",
     "output_type": "stream",
     "text": [
      "F1 Score on Train data: 1.0\n",
      "F1 Score on Val data: 0.9122368146758391\n"
     ]
    }
   ],
   "source": [
    "#predict the dependent values\n",
    "y_train_grid_search_pred = grid_search_cv.predict(x_train)\n",
    "y_val_grid_search_pred = grid_search_cv.predict(x_val)\n",
    "\n",
    "f1_train_grid_search = f1_score(y_train, y_train_grid_search_pred)\n",
    "f1_val_grid_search = f1_score(y_val, y_val_grid_search_pred)\n",
    "\n",
    "print(\"F1 Score on Train data:\", f1_train_grid_search)\n",
    "print(\"F1 Score on Val data:\", f1_val_grid_search)"
   ]
  },
  {
   "cell_type": "markdown",
   "id": "a4e1cf5f",
   "metadata": {},
   "source": [
    "## Video 3 - RandomizedSearchCV\n",
    "<p style = 'color:green'><b>Run all the cells above before you begin</b><p>\n"
   ]
  },
  {
   "cell_type": "code",
   "execution_count": 41,
   "id": "44517a18",
   "metadata": {},
   "outputs": [],
   "source": [
    "from sklearn.model_selection import RandomizedSearchCV"
   ]
  },
  {
   "cell_type": "code",
   "execution_count": 42,
   "id": "e30a8e0d",
   "metadata": {},
   "outputs": [],
   "source": [
    "random_cv = RandomizedSearchCV(estimator=model_GBC, n_iter=10, \n",
    "                               param_distributions=param_grid, n_jobs=-1, \n",
    "                               cv=5, scoring='f1')"
   ]
  },
  {
   "cell_type": "code",
   "execution_count": 43,
   "id": "c43b5a97",
   "metadata": {},
   "outputs": [
    {
     "name": "stdout",
     "output_type": "stream",
     "text": [
      "CPU times: user 42.8 s, sys: 230 ms, total: 43 s\n",
      "Wall time: 3min 11s\n"
     ]
    },
    {
     "data": {
      "text/html": [
       "<style>#sk-container-id-8 {color: black;}#sk-container-id-8 pre{padding: 0;}#sk-container-id-8 div.sk-toggleable {background-color: white;}#sk-container-id-8 label.sk-toggleable__label {cursor: pointer;display: block;width: 100%;margin-bottom: 0;padding: 0.3em;box-sizing: border-box;text-align: center;}#sk-container-id-8 label.sk-toggleable__label-arrow:before {content: \"▸\";float: left;margin-right: 0.25em;color: #696969;}#sk-container-id-8 label.sk-toggleable__label-arrow:hover:before {color: black;}#sk-container-id-8 div.sk-estimator:hover label.sk-toggleable__label-arrow:before {color: black;}#sk-container-id-8 div.sk-toggleable__content {max-height: 0;max-width: 0;overflow: hidden;text-align: left;background-color: #f0f8ff;}#sk-container-id-8 div.sk-toggleable__content pre {margin: 0.2em;color: black;border-radius: 0.25em;background-color: #f0f8ff;}#sk-container-id-8 input.sk-toggleable__control:checked~div.sk-toggleable__content {max-height: 200px;max-width: 100%;overflow: auto;}#sk-container-id-8 input.sk-toggleable__control:checked~label.sk-toggleable__label-arrow:before {content: \"▾\";}#sk-container-id-8 div.sk-estimator input.sk-toggleable__control:checked~label.sk-toggleable__label {background-color: #d4ebff;}#sk-container-id-8 div.sk-label input.sk-toggleable__control:checked~label.sk-toggleable__label {background-color: #d4ebff;}#sk-container-id-8 input.sk-hidden--visually {border: 0;clip: rect(1px 1px 1px 1px);clip: rect(1px, 1px, 1px, 1px);height: 1px;margin: -1px;overflow: hidden;padding: 0;position: absolute;width: 1px;}#sk-container-id-8 div.sk-estimator {font-family: monospace;background-color: #f0f8ff;border: 1px dotted black;border-radius: 0.25em;box-sizing: border-box;margin-bottom: 0.5em;}#sk-container-id-8 div.sk-estimator:hover {background-color: #d4ebff;}#sk-container-id-8 div.sk-parallel-item::after {content: \"\";width: 100%;border-bottom: 1px solid gray;flex-grow: 1;}#sk-container-id-8 div.sk-label:hover label.sk-toggleable__label {background-color: #d4ebff;}#sk-container-id-8 div.sk-serial::before {content: \"\";position: absolute;border-left: 1px solid gray;box-sizing: border-box;top: 0;bottom: 0;left: 50%;z-index: 0;}#sk-container-id-8 div.sk-serial {display: flex;flex-direction: column;align-items: center;background-color: white;padding-right: 0.2em;padding-left: 0.2em;position: relative;}#sk-container-id-8 div.sk-item {position: relative;z-index: 1;}#sk-container-id-8 div.sk-parallel {display: flex;align-items: stretch;justify-content: center;background-color: white;position: relative;}#sk-container-id-8 div.sk-item::before, #sk-container-id-8 div.sk-parallel-item::before {content: \"\";position: absolute;border-left: 1px solid gray;box-sizing: border-box;top: 0;bottom: 0;left: 50%;z-index: -1;}#sk-container-id-8 div.sk-parallel-item {display: flex;flex-direction: column;z-index: 1;position: relative;background-color: white;}#sk-container-id-8 div.sk-parallel-item:first-child::after {align-self: flex-end;width: 50%;}#sk-container-id-8 div.sk-parallel-item:last-child::after {align-self: flex-start;width: 50%;}#sk-container-id-8 div.sk-parallel-item:only-child::after {width: 0;}#sk-container-id-8 div.sk-dashed-wrapped {border: 1px dashed gray;margin: 0 0.4em 0.5em 0.4em;box-sizing: border-box;padding-bottom: 0.4em;background-color: white;}#sk-container-id-8 div.sk-label label {font-family: monospace;font-weight: bold;display: inline-block;line-height: 1.2em;}#sk-container-id-8 div.sk-label-container {text-align: center;}#sk-container-id-8 div.sk-container {/* jupyter's `normalize.less` sets `[hidden] { display: none; }` but bootstrap.min.css set `[hidden] { display: none !important; }` so we also need the `!important` here to be able to override the default hidden behavior on the sphinx rendered scikit-learn.org. See: https://github.com/scikit-learn/scikit-learn/issues/21755 */display: inline-block !important;position: relative;}#sk-container-id-8 div.sk-text-repr-fallback {display: none;}</style><div id=\"sk-container-id-8\" class=\"sk-top-container\"><div class=\"sk-text-repr-fallback\"><pre>RandomizedSearchCV(cv=5, estimator=GradientBoostingClassifier(random_state=42),\n",
       "                   n_jobs=-1,\n",
       "                   param_distributions={&#x27;learning_rate&#x27;: [0.1, 0.2, 0.3],\n",
       "                                        &#x27;max_depth&#x27;: range(6, 13, 2),\n",
       "                                        &#x27;n_estimators&#x27;: [50, 100, 200, 300,\n",
       "                                                         400]},\n",
       "                   scoring=&#x27;f1&#x27;)</pre><b>In a Jupyter environment, please rerun this cell to show the HTML representation or trust the notebook. <br />On GitHub, the HTML representation is unable to render, please try loading this page with nbviewer.org.</b></div><div class=\"sk-container\" hidden><div class=\"sk-item sk-dashed-wrapped\"><div class=\"sk-label-container\"><div class=\"sk-label sk-toggleable\"><input class=\"sk-toggleable__control sk-hidden--visually\" id=\"sk-estimator-id-14\" type=\"checkbox\" ><label for=\"sk-estimator-id-14\" class=\"sk-toggleable__label sk-toggleable__label-arrow\">RandomizedSearchCV</label><div class=\"sk-toggleable__content\"><pre>RandomizedSearchCV(cv=5, estimator=GradientBoostingClassifier(random_state=42),\n",
       "                   n_jobs=-1,\n",
       "                   param_distributions={&#x27;learning_rate&#x27;: [0.1, 0.2, 0.3],\n",
       "                                        &#x27;max_depth&#x27;: range(6, 13, 2),\n",
       "                                        &#x27;n_estimators&#x27;: [50, 100, 200, 300,\n",
       "                                                         400]},\n",
       "                   scoring=&#x27;f1&#x27;)</pre></div></div></div><div class=\"sk-parallel\"><div class=\"sk-parallel-item\"><div class=\"sk-item\"><div class=\"sk-label-container\"><div class=\"sk-label sk-toggleable\"><input class=\"sk-toggleable__control sk-hidden--visually\" id=\"sk-estimator-id-15\" type=\"checkbox\" ><label for=\"sk-estimator-id-15\" class=\"sk-toggleable__label sk-toggleable__label-arrow\">estimator: GradientBoostingClassifier</label><div class=\"sk-toggleable__content\"><pre>GradientBoostingClassifier(random_state=42)</pre></div></div></div><div class=\"sk-serial\"><div class=\"sk-item\"><div class=\"sk-estimator sk-toggleable\"><input class=\"sk-toggleable__control sk-hidden--visually\" id=\"sk-estimator-id-16\" type=\"checkbox\" ><label for=\"sk-estimator-id-16\" class=\"sk-toggleable__label sk-toggleable__label-arrow\">GradientBoostingClassifier</label><div class=\"sk-toggleable__content\"><pre>GradientBoostingClassifier(random_state=42)</pre></div></div></div></div></div></div></div></div></div></div>"
      ],
      "text/plain": [
       "RandomizedSearchCV(cv=5, estimator=GradientBoostingClassifier(random_state=42),\n",
       "                   n_jobs=-1,\n",
       "                   param_distributions={'learning_rate': [0.1, 0.2, 0.3],\n",
       "                                        'max_depth': range(6, 13, 2),\n",
       "                                        'n_estimators': [50, 100, 200, 300,\n",
       "                                                         400]},\n",
       "                   scoring='f1')"
      ]
     },
     "execution_count": 43,
     "metadata": {},
     "output_type": "execute_result"
    }
   ],
   "source": [
    "%%time\n",
    "random_cv.fit(x_train, y_train)"
   ]
  },
  {
   "cell_type": "code",
   "execution_count": 48,
   "id": "ef4e76c1",
   "metadata": {},
   "outputs": [
    {
     "data": {
      "text/html": [
       "<style>#sk-container-id-10 {color: black;}#sk-container-id-10 pre{padding: 0;}#sk-container-id-10 div.sk-toggleable {background-color: white;}#sk-container-id-10 label.sk-toggleable__label {cursor: pointer;display: block;width: 100%;margin-bottom: 0;padding: 0.3em;box-sizing: border-box;text-align: center;}#sk-container-id-10 label.sk-toggleable__label-arrow:before {content: \"▸\";float: left;margin-right: 0.25em;color: #696969;}#sk-container-id-10 label.sk-toggleable__label-arrow:hover:before {color: black;}#sk-container-id-10 div.sk-estimator:hover label.sk-toggleable__label-arrow:before {color: black;}#sk-container-id-10 div.sk-toggleable__content {max-height: 0;max-width: 0;overflow: hidden;text-align: left;background-color: #f0f8ff;}#sk-container-id-10 div.sk-toggleable__content pre {margin: 0.2em;color: black;border-radius: 0.25em;background-color: #f0f8ff;}#sk-container-id-10 input.sk-toggleable__control:checked~div.sk-toggleable__content {max-height: 200px;max-width: 100%;overflow: auto;}#sk-container-id-10 input.sk-toggleable__control:checked~label.sk-toggleable__label-arrow:before {content: \"▾\";}#sk-container-id-10 div.sk-estimator input.sk-toggleable__control:checked~label.sk-toggleable__label {background-color: #d4ebff;}#sk-container-id-10 div.sk-label input.sk-toggleable__control:checked~label.sk-toggleable__label {background-color: #d4ebff;}#sk-container-id-10 input.sk-hidden--visually {border: 0;clip: rect(1px 1px 1px 1px);clip: rect(1px, 1px, 1px, 1px);height: 1px;margin: -1px;overflow: hidden;padding: 0;position: absolute;width: 1px;}#sk-container-id-10 div.sk-estimator {font-family: monospace;background-color: #f0f8ff;border: 1px dotted black;border-radius: 0.25em;box-sizing: border-box;margin-bottom: 0.5em;}#sk-container-id-10 div.sk-estimator:hover {background-color: #d4ebff;}#sk-container-id-10 div.sk-parallel-item::after {content: \"\";width: 100%;border-bottom: 1px solid gray;flex-grow: 1;}#sk-container-id-10 div.sk-label:hover label.sk-toggleable__label {background-color: #d4ebff;}#sk-container-id-10 div.sk-serial::before {content: \"\";position: absolute;border-left: 1px solid gray;box-sizing: border-box;top: 0;bottom: 0;left: 50%;z-index: 0;}#sk-container-id-10 div.sk-serial {display: flex;flex-direction: column;align-items: center;background-color: white;padding-right: 0.2em;padding-left: 0.2em;position: relative;}#sk-container-id-10 div.sk-item {position: relative;z-index: 1;}#sk-container-id-10 div.sk-parallel {display: flex;align-items: stretch;justify-content: center;background-color: white;position: relative;}#sk-container-id-10 div.sk-item::before, #sk-container-id-10 div.sk-parallel-item::before {content: \"\";position: absolute;border-left: 1px solid gray;box-sizing: border-box;top: 0;bottom: 0;left: 50%;z-index: -1;}#sk-container-id-10 div.sk-parallel-item {display: flex;flex-direction: column;z-index: 1;position: relative;background-color: white;}#sk-container-id-10 div.sk-parallel-item:first-child::after {align-self: flex-end;width: 50%;}#sk-container-id-10 div.sk-parallel-item:last-child::after {align-self: flex-start;width: 50%;}#sk-container-id-10 div.sk-parallel-item:only-child::after {width: 0;}#sk-container-id-10 div.sk-dashed-wrapped {border: 1px dashed gray;margin: 0 0.4em 0.5em 0.4em;box-sizing: border-box;padding-bottom: 0.4em;background-color: white;}#sk-container-id-10 div.sk-label label {font-family: monospace;font-weight: bold;display: inline-block;line-height: 1.2em;}#sk-container-id-10 div.sk-label-container {text-align: center;}#sk-container-id-10 div.sk-container {/* jupyter's `normalize.less` sets `[hidden] { display: none; }` but bootstrap.min.css set `[hidden] { display: none !important; }` so we also need the `!important` here to be able to override the default hidden behavior on the sphinx rendered scikit-learn.org. See: https://github.com/scikit-learn/scikit-learn/issues/21755 */display: inline-block !important;position: relative;}#sk-container-id-10 div.sk-text-repr-fallback {display: none;}</style><div id=\"sk-container-id-10\" class=\"sk-top-container\"><div class=\"sk-text-repr-fallback\"><pre>GradientBoostingClassifier(learning_rate=0.3, max_depth=10, n_estimators=400,\n",
       "                           random_state=42)</pre><b>In a Jupyter environment, please rerun this cell to show the HTML representation or trust the notebook. <br />On GitHub, the HTML representation is unable to render, please try loading this page with nbviewer.org.</b></div><div class=\"sk-container\" hidden><div class=\"sk-item\"><div class=\"sk-estimator sk-toggleable\"><input class=\"sk-toggleable__control sk-hidden--visually\" id=\"sk-estimator-id-18\" type=\"checkbox\" checked><label for=\"sk-estimator-id-18\" class=\"sk-toggleable__label sk-toggleable__label-arrow\">GradientBoostingClassifier</label><div class=\"sk-toggleable__content\"><pre>GradientBoostingClassifier(learning_rate=0.3, max_depth=10, n_estimators=400,\n",
       "                           random_state=42)</pre></div></div></div></div></div>"
      ],
      "text/plain": [
       "GradientBoostingClassifier(learning_rate=0.3, max_depth=10, n_estimators=400,\n",
       "                           random_state=42)"
      ]
     },
     "execution_count": 48,
     "metadata": {},
     "output_type": "execute_result"
    }
   ],
   "source": [
    "#best model estimator as per random search\n",
    "random_cv.best_estimator_"
   ]
  },
  {
   "cell_type": "code",
   "execution_count": 49,
   "id": "22279306",
   "metadata": {},
   "outputs": [
    {
     "data": {
      "text/plain": [
       "{'n_estimators': 400, 'max_depth': 10, 'learning_rate': 0.3}"
      ]
     },
     "execution_count": 49,
     "metadata": {},
     "output_type": "execute_result"
    }
   ],
   "source": [
    "random_cv.best_params_"
   ]
  },
  {
   "cell_type": "code",
   "execution_count": 50,
   "id": "e0182685",
   "metadata": {},
   "outputs": [
    {
     "data": {
      "text/plain": [
       "0.9077340243467941"
      ]
     },
     "execution_count": 50,
     "metadata": {},
     "output_type": "execute_result"
    }
   ],
   "source": [
    "#cross validation score for the best model after random search\n",
    "random_cv.best_score_"
   ]
  },
  {
   "cell_type": "code",
   "execution_count": 47,
   "id": "9439777b",
   "metadata": {
    "scrolled": true
   },
   "outputs": [
    {
     "name": "stdout",
     "output_type": "stream",
     "text": [
      "F1 Score on Train data: 1.0\n",
      "F1 Score on Val data: 0.9122368146758391\n",
      "[CV] END ...learning_rate=0.1, max_depth=6, n_estimators=100; total time=   7.6s\n",
      "[CV] END ...learning_rate=0.1, max_depth=6, n_estimators=300; total time=  26.1s\n",
      "[CV] END ...learning_rate=0.1, max_depth=6, n_estimators=400; total time=  31.7s\n",
      "[CV] END ...learning_rate=0.1, max_depth=8, n_estimators=300; total time=  33.7s\n",
      "[CV] END ...learning_rate=0.1, max_depth=8, n_estimators=400; total time=  44.8s\n",
      "[CV] END ..learning_rate=0.1, max_depth=10, n_estimators=300; total time=  44.0s\n",
      "[CV] END ..learning_rate=0.1, max_depth=10, n_estimators=400; total time=  56.9s\n",
      "[CV] END ..learning_rate=0.1, max_depth=12, n_estimators=300; total time=  51.7s\n",
      "[CV] END ..learning_rate=0.1, max_depth=12, n_estimators=400; total time= 1.2min\n",
      "[CV] END ...learning_rate=0.2, max_depth=6, n_estimators=400; total time=  33.7s\n",
      "[CV] END ...learning_rate=0.2, max_depth=8, n_estimators=200; total time=  22.4s\n",
      "[CV] END ...learning_rate=0.2, max_depth=8, n_estimators=400; total time=  44.8s\n",
      "[CV] END ..learning_rate=0.2, max_depth=10, n_estimators=100; total time=  14.2s\n",
      "[CV] END ..learning_rate=0.2, max_depth=10, n_estimators=200; total time=  28.7s\n",
      "[CV] END ..learning_rate=0.2, max_depth=10, n_estimators=400; total time=  57.1s\n",
      "[CV] END ..learning_rate=0.2, max_depth=12, n_estimators=200; total time=  35.1s\n",
      "[CV] END ..learning_rate=0.2, max_depth=12, n_estimators=300; total time=  53.0s\n",
      "[CV] END ...learning_rate=0.3, max_depth=6, n_estimators=100; total time=   8.5s\n",
      "[CV] END ...learning_rate=0.3, max_depth=6, n_estimators=100; total time=   8.6s\n",
      "[CV] END ...learning_rate=0.3, max_depth=6, n_estimators=200; total time=  17.1s\n",
      "[CV] END ...learning_rate=0.3, max_depth=6, n_estimators=300; total time=  25.5s\n",
      "[CV] END ....learning_rate=0.3, max_depth=8, n_estimators=50; total time=   5.6s\n",
      "[CV] END ....learning_rate=0.3, max_depth=8, n_estimators=50; total time=   5.6s\n",
      "[CV] END ...learning_rate=0.3, max_depth=8, n_estimators=100; total time=  11.3s\n",
      "[CV] END ...learning_rate=0.3, max_depth=8, n_estimators=100; total time=  11.4s\n",
      "[CV] END ...learning_rate=0.3, max_depth=8, n_estimators=300; total time=  34.0s\n",
      "[CV] END ...learning_rate=0.3, max_depth=10, n_estimators=50; total time=   7.1s\n",
      "[CV] END ...learning_rate=0.3, max_depth=10, n_estimators=50; total time=   8.0s\n",
      "[CV] END ...learning_rate=0.3, max_depth=10, n_estimators=50; total time=   7.2s\n",
      "[CV] END ..learning_rate=0.3, max_depth=10, n_estimators=100; total time=  14.7s\n",
      "[CV] END ..learning_rate=0.3, max_depth=10, n_estimators=200; total time=  31.0s\n",
      "[CV] END ..learning_rate=0.3, max_depth=10, n_estimators=400; total time=  58.5s\n",
      "[CV] END ..learning_rate=0.3, max_depth=12, n_estimators=100; total time=  18.0s\n",
      "[CV] END ..learning_rate=0.3, max_depth=12, n_estimators=300; total time=  48.4s\n",
      "[CV] END ..learning_rate=0.3, max_depth=12, n_estimators=400; total time=  39.3s\n",
      "[CV] END ....learning_rate=0.1, max_depth=6, n_estimators=50; total time=   3.6s\n",
      "[CV] END ...learning_rate=0.1, max_depth=6, n_estimators=100; total time=   8.9s\n",
      "[CV] END ...learning_rate=0.1, max_depth=6, n_estimators=300; total time=  25.1s\n",
      "[CV] END ...learning_rate=0.1, max_depth=6, n_estimators=400; total time=  31.9s\n",
      "[CV] END ...learning_rate=0.1, max_depth=8, n_estimators=300; total time=  34.0s\n",
      "[CV] END ...learning_rate=0.1, max_depth=10, n_estimators=50; total time=   7.4s\n",
      "[CV] END ...learning_rate=0.1, max_depth=10, n_estimators=50; total time=   7.4s\n",
      "[CV] END ...learning_rate=0.1, max_depth=10, n_estimators=50; total time=   7.0s\n",
      "[CV] END ..learning_rate=0.1, max_depth=10, n_estimators=100; total time=  14.4s\n",
      "[CV] END ..learning_rate=0.1, max_depth=10, n_estimators=200; total time=  29.0s\n",
      "[CV] END ..learning_rate=0.1, max_depth=10, n_estimators=400; total time=  58.0s\n",
      "[CV] END ..learning_rate=0.1, max_depth=12, n_estimators=100; total time=  17.7s\n",
      "[CV] END ..learning_rate=0.1, max_depth=12, n_estimators=300; total time=  52.0s\n",
      "[CV] END ..learning_rate=0.1, max_depth=12, n_estimators=400; total time= 1.2min\n",
      "[CV] END ...learning_rate=0.2, max_depth=6, n_estimators=400; total time=  33.7s\n",
      "[CV] END ...learning_rate=0.2, max_depth=8, n_estimators=200; total time=  22.3s\n",
      "[CV] END ...learning_rate=0.2, max_depth=8, n_estimators=400; total time=  45.0s\n",
      "[CV] END ..learning_rate=0.2, max_depth=10, n_estimators=100; total time=  14.2s\n",
      "[CV] END ..learning_rate=0.2, max_depth=10, n_estimators=300; total time=  42.9s\n",
      "[CV] END ..learning_rate=0.2, max_depth=10, n_estimators=400; total time=  56.9s\n",
      "[CV] END ..learning_rate=0.2, max_depth=12, n_estimators=300; total time=  52.9s\n",
      "[CV] END ..learning_rate=0.2, max_depth=12, n_estimators=400; total time= 1.2min\n",
      "[CV] END ...learning_rate=0.3, max_depth=6, n_estimators=400; total time=  34.0s\n",
      "[CV] END ...learning_rate=0.3, max_depth=8, n_estimators=200; total time=  22.6s\n",
      "[CV] END ...learning_rate=0.3, max_depth=8, n_estimators=400; total time=  46.1s\n",
      "[CV] END ..learning_rate=0.3, max_depth=10, n_estimators=100; total time=  14.9s\n",
      "[CV] END ..learning_rate=0.3, max_depth=10, n_estimators=200; total time=  31.2s\n",
      "[CV] END ..learning_rate=0.3, max_depth=10, n_estimators=400; total time=  58.5s\n",
      "[CV] END ..learning_rate=0.3, max_depth=12, n_estimators=200; total time=  35.8s\n",
      "[CV] END ..learning_rate=0.3, max_depth=12, n_estimators=300; total time=  49.1s\n",
      "[CV] END ....learning_rate=0.1, max_depth=6, n_estimators=50; total time=   3.6s\n",
      "[CV] END ...learning_rate=0.1, max_depth=6, n_estimators=100; total time=   9.0s\n",
      "[CV] END ...learning_rate=0.1, max_depth=6, n_estimators=300; total time=  25.3s\n",
      "[CV] END ....learning_rate=0.1, max_depth=8, n_estimators=50; total time=   5.2s\n",
      "[CV] END ....learning_rate=0.1, max_depth=8, n_estimators=50; total time=   5.2s\n",
      "[CV] END ....learning_rate=0.1, max_depth=8, n_estimators=50; total time=   5.3s\n",
      "[CV] END ...learning_rate=0.1, max_depth=8, n_estimators=100; total time=  10.7s\n",
      "[CV] END ...learning_rate=0.1, max_depth=8, n_estimators=200; total time=  22.4s\n",
      "[CV] END ...learning_rate=0.1, max_depth=8, n_estimators=400; total time=  44.8s\n",
      "[CV] END ..learning_rate=0.1, max_depth=10, n_estimators=100; total time=  14.3s\n",
      "[CV] END ..learning_rate=0.1, max_depth=10, n_estimators=300; total time=  44.0s\n",
      "[CV] END ..learning_rate=0.1, max_depth=10, n_estimators=400; total time=  56.8s\n",
      "[CV] END ..learning_rate=0.1, max_depth=12, n_estimators=300; total time=  52.1s\n",
      "[CV] END ....learning_rate=0.2, max_depth=6, n_estimators=50; total time=   4.2s\n",
      "[CV] END ....learning_rate=0.2, max_depth=6, n_estimators=50; total time=   4.2s\n",
      "[CV] END ....learning_rate=0.2, max_depth=6, n_estimators=50; total time=   4.2s\n",
      "[CV] END ....learning_rate=0.2, max_depth=6, n_estimators=50; total time=   4.3s\n",
      "[CV] END ....learning_rate=0.2, max_depth=6, n_estimators=50; total time=   4.1s\n",
      "[CV] END ...learning_rate=0.2, max_depth=6, n_estimators=100; total time=   8.4s\n",
      "[CV] END ...learning_rate=0.2, max_depth=6, n_estimators=200; total time=  16.8s\n",
      "[CV] END ...learning_rate=0.2, max_depth=6, n_estimators=300; total time=  25.2s\n",
      "[CV] END ...learning_rate=0.2, max_depth=6, n_estimators=400; total time=  33.6s\n",
      "[CV] END ...learning_rate=0.2, max_depth=8, n_estimators=300; total time=  33.6s\n",
      "[CV] END ...learning_rate=0.2, max_depth=8, n_estimators=400; total time=  45.0s\n",
      "[CV] END ..learning_rate=0.2, max_depth=10, n_estimators=300; total time=  42.8s\n",
      "[CV] END ..learning_rate=0.2, max_depth=10, n_estimators=400; total time=  57.0s\n",
      "[CV] END ..learning_rate=0.2, max_depth=12, n_estimators=300; total time=  53.2s\n",
      "[CV] END ....learning_rate=0.3, max_depth=6, n_estimators=50; total time=   4.2s\n",
      "[CV] END ....learning_rate=0.3, max_depth=6, n_estimators=50; total time=   4.2s\n",
      "[CV] END ....learning_rate=0.3, max_depth=6, n_estimators=50; total time=   4.2s\n",
      "[CV] END ....learning_rate=0.3, max_depth=6, n_estimators=50; total time=   4.4s\n",
      "[CV] END ....learning_rate=0.3, max_depth=6, n_estimators=50; total time=   4.2s\n",
      "[CV] END ...learning_rate=0.3, max_depth=6, n_estimators=100; total time=   8.6s\n",
      "[CV] END ...learning_rate=0.3, max_depth=6, n_estimators=200; total time=  16.8s\n",
      "[CV] END ...learning_rate=0.3, max_depth=6, n_estimators=300; total time=  25.3s\n",
      "[CV] END ...learning_rate=0.3, max_depth=6, n_estimators=400; total time=  33.9s\n",
      "[CV] END ...learning_rate=0.3, max_depth=8, n_estimators=200; total time=  22.5s\n",
      "[CV] END ...learning_rate=0.3, max_depth=8, n_estimators=400; total time=  46.5s\n",
      "[CV] END ..learning_rate=0.3, max_depth=10, n_estimators=200; total time=  30.3s\n",
      "[CV] END ..learning_rate=0.3, max_depth=10, n_estimators=300; total time=  44.6s\n",
      "[CV] END ...learning_rate=0.3, max_depth=12, n_estimators=50; total time=   9.0s\n",
      "[CV] END ..learning_rate=0.3, max_depth=12, n_estimators=100; total time=  17.6s\n",
      "[CV] END ..learning_rate=0.3, max_depth=12, n_estimators=200; total time=  35.9s\n",
      "[CV] END ..learning_rate=0.3, max_depth=12, n_estimators=300; total time=  47.6s\n",
      "[CV] END ....learning_rate=0.1, max_depth=6, n_estimators=50; total time=   3.6s\n",
      "[CV] END ...learning_rate=0.1, max_depth=6, n_estimators=200; total time=  18.1s\n",
      "[CV] END ...learning_rate=0.1, max_depth=6, n_estimators=300; total time=  23.8s\n",
      "[CV] END ....learning_rate=0.1, max_depth=8, n_estimators=50; total time=   5.2s\n",
      "[CV] END ...learning_rate=0.1, max_depth=8, n_estimators=100; total time=  10.9s\n",
      "[CV] END ...learning_rate=0.1, max_depth=8, n_estimators=200; total time=  21.9s\n",
      "[CV] END ...learning_rate=0.1, max_depth=8, n_estimators=300; total time=  34.0s\n",
      "[CV] END ...learning_rate=0.1, max_depth=10, n_estimators=50; total time=   7.0s\n",
      "[CV] END ..learning_rate=0.1, max_depth=10, n_estimators=100; total time=  14.4s\n",
      "[CV] END ..learning_rate=0.1, max_depth=10, n_estimators=200; total time=  28.6s\n",
      "[CV] END ..learning_rate=0.1, max_depth=10, n_estimators=400; total time=  58.1s\n",
      "[CV] END ..learning_rate=0.1, max_depth=12, n_estimators=100; total time=  17.5s\n",
      "[CV] END ..learning_rate=0.1, max_depth=12, n_estimators=200; total time=  34.7s\n",
      "[CV] END ..learning_rate=0.1, max_depth=12, n_estimators=400; total time= 1.2min\n",
      "[CV] END ...learning_rate=0.2, max_depth=6, n_estimators=300; total time=  25.2s\n",
      "[CV] END ...learning_rate=0.2, max_depth=6, n_estimators=400; total time=  33.7s\n",
      "[CV] END ...learning_rate=0.2, max_depth=8, n_estimators=300; total time=  33.8s\n",
      "[CV] END ...learning_rate=0.2, max_depth=8, n_estimators=400; total time=  44.8s\n",
      "[CV] END ..learning_rate=0.2, max_depth=10, n_estimators=300; total time=  43.1s\n",
      "[CV] END ...learning_rate=0.2, max_depth=12, n_estimators=50; total time=   8.8s\n",
      "[CV] END ...learning_rate=0.2, max_depth=12, n_estimators=50; total time=   8.8s\n",
      "[CV] END ...learning_rate=0.2, max_depth=12, n_estimators=50; total time=   9.0s\n",
      "[CV] END ..learning_rate=0.2, max_depth=12, n_estimators=100; total time=  17.6s\n",
      "[CV] END ..learning_rate=0.2, max_depth=12, n_estimators=200; total time=  35.1s\n",
      "[CV] END ..learning_rate=0.2, max_depth=12, n_estimators=400; total time= 1.2min\n",
      "[CV] END ...learning_rate=0.3, max_depth=6, n_estimators=200; total time=  17.0s\n",
      "[CV] END ...learning_rate=0.3, max_depth=6, n_estimators=300; total time=  25.6s\n",
      "[CV] END ....learning_rate=0.3, max_depth=8, n_estimators=50; total time=   5.7s\n",
      "[CV] END ...learning_rate=0.3, max_depth=8, n_estimators=100; total time=  11.4s\n",
      "[CV] END ...learning_rate=0.3, max_depth=8, n_estimators=200; total time=  22.4s\n",
      "[CV] END ...learning_rate=0.3, max_depth=8, n_estimators=300; total time=  34.6s\n",
      "[CV] END ...learning_rate=0.3, max_depth=10, n_estimators=50; total time=   7.4s\n",
      "[CV] END ..learning_rate=0.3, max_depth=10, n_estimators=100; total time=  14.7s\n",
      "[CV] END ..learning_rate=0.3, max_depth=10, n_estimators=200; total time=  30.5s\n",
      "[CV] END ..learning_rate=0.3, max_depth=10, n_estimators=300; total time=  44.1s\n",
      "[CV] END ...learning_rate=0.3, max_depth=12, n_estimators=50; total time=   9.1s\n",
      "[CV] END ..learning_rate=0.3, max_depth=12, n_estimators=100; total time=  17.7s\n",
      "[CV] END ..learning_rate=0.3, max_depth=12, n_estimators=200; total time=  36.3s\n",
      "[CV] END ..learning_rate=0.3, max_depth=12, n_estimators=400; total time=  48.0s\n"
     ]
    },
    {
     "name": "stdout",
     "output_type": "stream",
     "text": [
      "[CV] END ...learning_rate=0.1, max_depth=6, n_estimators=100; total time=   7.5s\n",
      "[CV] END ...learning_rate=0.1, max_depth=6, n_estimators=200; total time=  18.1s\n",
      "[CV] END ...learning_rate=0.1, max_depth=6, n_estimators=400; total time=  31.8s\n",
      "[CV] END ...learning_rate=0.1, max_depth=8, n_estimators=200; total time=  21.9s\n",
      "[CV] END ...learning_rate=0.1, max_depth=8, n_estimators=300; total time=  34.4s\n",
      "[CV] END ...learning_rate=0.1, max_depth=10, n_estimators=50; total time=   7.0s\n",
      "[CV] END ..learning_rate=0.1, max_depth=10, n_estimators=100; total time=  14.2s\n",
      "[CV] END ..learning_rate=0.1, max_depth=10, n_estimators=200; total time=  28.6s\n",
      "[CV] END ..learning_rate=0.1, max_depth=10, n_estimators=300; total time=  44.1s\n",
      "[CV] END ...learning_rate=0.1, max_depth=12, n_estimators=50; total time=   9.3s\n",
      "[CV] END ..learning_rate=0.1, max_depth=12, n_estimators=100; total time=  17.8s\n",
      "[CV] END ..learning_rate=0.1, max_depth=12, n_estimators=200; total time=  34.8s\n",
      "[CV] END ..learning_rate=0.1, max_depth=12, n_estimators=400; total time= 1.2min\n",
      "[CV] END ...learning_rate=0.2, max_depth=6, n_estimators=200; total time=  16.8s\n",
      "[CV] END ...learning_rate=0.2, max_depth=6, n_estimators=300; total time=  25.4s\n",
      "[CV] END ....learning_rate=0.2, max_depth=8, n_estimators=50; total time=   5.6s\n",
      "[CV] END ...learning_rate=0.2, max_depth=8, n_estimators=100; total time=  11.3s\n",
      "[CV] END ...learning_rate=0.2, max_depth=8, n_estimators=100; total time=  11.3s\n",
      "[CV] END ...learning_rate=0.2, max_depth=8, n_estimators=300; total time=  33.6s\n",
      "[CV] END ...learning_rate=0.2, max_depth=10, n_estimators=50; total time=   7.1s\n",
      "[CV] END ...learning_rate=0.2, max_depth=10, n_estimators=50; total time=   7.3s\n",
      "[CV] END ...learning_rate=0.2, max_depth=10, n_estimators=50; total time=   7.0s\n",
      "[CV] END ..learning_rate=0.2, max_depth=10, n_estimators=100; total time=  14.3s\n",
      "[CV] END ..learning_rate=0.2, max_depth=10, n_estimators=200; total time=  28.8s\n",
      "[CV] END ..learning_rate=0.2, max_depth=10, n_estimators=400; total time=  56.8s\n",
      "[CV] END ..learning_rate=0.2, max_depth=12, n_estimators=100; total time=  17.6s\n",
      "[CV] END ..learning_rate=0.2, max_depth=12, n_estimators=300; total time=  53.0s\n",
      "[CV] END ..learning_rate=0.2, max_depth=12, n_estimators=400; total time= 1.2min\n",
      "[CV] END ...learning_rate=0.3, max_depth=6, n_estimators=400; total time=  34.0s\n",
      "[CV] END ...learning_rate=0.3, max_depth=8, n_estimators=200; total time=  22.6s\n",
      "[CV] END ...learning_rate=0.3, max_depth=8, n_estimators=400; total time=  46.3s\n",
      "[CV] END ..learning_rate=0.3, max_depth=10, n_estimators=100; total time=  14.9s\n",
      "[CV] END ..learning_rate=0.3, max_depth=10, n_estimators=300; total time=  45.9s\n",
      "[CV] END ..learning_rate=0.3, max_depth=10, n_estimators=400; total time=  58.2s\n",
      "[CV] END ..learning_rate=0.3, max_depth=12, n_estimators=300; total time=  48.8s\n",
      "[CV] END ..learning_rate=0.3, max_depth=12, n_estimators=400; total time=  40.4s\n",
      "[CV] END ...learning_rate=0.1, max_depth=6, n_estimators=100; total time=   7.5s\n",
      "[CV] END ...learning_rate=0.1, max_depth=6, n_estimators=200; total time=  18.2s\n",
      "[CV] END ...learning_rate=0.1, max_depth=6, n_estimators=400; total time=  31.8s\n",
      "[CV] END ...learning_rate=0.1, max_depth=8, n_estimators=100; total time=  10.9s\n",
      "[CV] END ...learning_rate=0.1, max_depth=8, n_estimators=300; total time=  34.0s\n",
      "[CV] END ...learning_rate=0.1, max_depth=8, n_estimators=400; total time=  44.8s\n",
      "[CV] END ..learning_rate=0.1, max_depth=10, n_estimators=300; total time=  44.4s\n",
      "[CV] END ...learning_rate=0.1, max_depth=12, n_estimators=50; total time=   8.9s\n",
      "[CV] END ...learning_rate=0.1, max_depth=12, n_estimators=50; total time=   9.4s\n",
      "[CV] END ...learning_rate=0.1, max_depth=12, n_estimators=50; total time=   9.3s\n",
      "[CV] END ..learning_rate=0.1, max_depth=12, n_estimators=100; total time=  17.6s\n",
      "[CV] END ..learning_rate=0.1, max_depth=12, n_estimators=200; total time=  34.8s\n",
      "[CV] END ..learning_rate=0.1, max_depth=12, n_estimators=400; total time= 1.2min\n",
      "[CV] END ...learning_rate=0.2, max_depth=6, n_estimators=200; total time=  16.8s\n",
      "[CV] END ...learning_rate=0.2, max_depth=6, n_estimators=400; total time=  33.6s\n",
      "[CV] END ...learning_rate=0.2, max_depth=8, n_estimators=100; total time=  11.1s\n",
      "[CV] END ...learning_rate=0.2, max_depth=8, n_estimators=200; total time=  22.4s\n",
      "[CV] END ...learning_rate=0.2, max_depth=8, n_estimators=400; total time=  44.8s\n",
      "[CV] END ..learning_rate=0.2, max_depth=10, n_estimators=200; total time=  28.6s\n",
      "[CV] END ..learning_rate=0.2, max_depth=10, n_estimators=300; total time=  42.9s\n",
      "[CV] END ...learning_rate=0.2, max_depth=12, n_estimators=50; total time=   8.8s\n",
      "[CV] END ..learning_rate=0.2, max_depth=12, n_estimators=100; total time=  17.7s\n",
      "[CV] END ..learning_rate=0.2, max_depth=12, n_estimators=200; total time=  35.0s\n",
      "[CV] END ..learning_rate=0.2, max_depth=12, n_estimators=300; total time=  52.9s\n",
      "[CV] END ...learning_rate=0.3, max_depth=6, n_estimators=100; total time=   8.5s\n",
      "[CV] END ...learning_rate=0.3, max_depth=6, n_estimators=100; total time=   8.6s\n",
      "[CV] END ...learning_rate=0.3, max_depth=6, n_estimators=200; total time=  16.9s\n",
      "[CV] END ...learning_rate=0.3, max_depth=6, n_estimators=300; total time=  25.4s\n",
      "[CV] END ....learning_rate=0.3, max_depth=8, n_estimators=50; total time=   5.6s\n",
      "[CV] END ....learning_rate=0.3, max_depth=8, n_estimators=50; total time=   5.6s\n",
      "[CV] END ...learning_rate=0.3, max_depth=8, n_estimators=100; total time=  11.3s\n",
      "[CV] END ...learning_rate=0.3, max_depth=8, n_estimators=200; total time=  22.5s\n",
      "[CV] END ...learning_rate=0.3, max_depth=8, n_estimators=300; total time=  34.4s\n",
      "[CV] END ...learning_rate=0.3, max_depth=10, n_estimators=50; total time=   7.4s\n",
      "[CV] END ..learning_rate=0.3, max_depth=10, n_estimators=100; total time=  14.8s\n",
      "[CV] END ..learning_rate=0.3, max_depth=10, n_estimators=200; total time=  30.6s\n",
      "[CV] END ..learning_rate=0.3, max_depth=10, n_estimators=400; total time=  58.5s\n",
      "[CV] END ..learning_rate=0.3, max_depth=12, n_estimators=100; total time=  17.6s\n",
      "[CV] END ..learning_rate=0.3, max_depth=12, n_estimators=200; total time=  36.2s\n",
      "[CV] END ..learning_rate=0.3, max_depth=12, n_estimators=400; total time=  44.8s\n",
      "[CV] END ....learning_rate=0.1, max_depth=6, n_estimators=50; total time=   3.6s\n",
      "[CV] END ...learning_rate=0.1, max_depth=6, n_estimators=200; total time=  18.3s\n",
      "[CV] END ...learning_rate=0.1, max_depth=6, n_estimators=300; total time=  23.7s\n",
      "[CV] END ....learning_rate=0.1, max_depth=8, n_estimators=50; total time=   5.2s\n",
      "[CV] END ...learning_rate=0.1, max_depth=8, n_estimators=100; total time=  11.0s\n",
      "[CV] END ...learning_rate=0.1, max_depth=8, n_estimators=200; total time=  22.0s\n",
      "[CV] END ...learning_rate=0.1, max_depth=8, n_estimators=400; total time=  45.1s\n",
      "[CV] END ..learning_rate=0.1, max_depth=10, n_estimators=100; total time=  14.2s\n",
      "[CV] END ..learning_rate=0.1, max_depth=10, n_estimators=200; total time=  29.4s\n",
      "[CV] END ..learning_rate=0.1, max_depth=10, n_estimators=400; total time=  57.7s\n",
      "[CV] END ..learning_rate=0.1, max_depth=12, n_estimators=200; total time=  35.1s\n",
      "[CV] END ..learning_rate=0.1, max_depth=12, n_estimators=300; total time=  51.9s\n",
      "[CV] END ...learning_rate=0.2, max_depth=6, n_estimators=100; total time=   8.3s\n",
      "[CV] END ...learning_rate=0.2, max_depth=6, n_estimators=100; total time=   8.5s\n",
      "[CV] END ...learning_rate=0.2, max_depth=6, n_estimators=200; total time=  16.8s\n",
      "[CV] END ...learning_rate=0.2, max_depth=6, n_estimators=300; total time=  25.3s\n",
      "[CV] END ....learning_rate=0.2, max_depth=8, n_estimators=50; total time=   5.7s\n",
      "[CV] END ....learning_rate=0.2, max_depth=8, n_estimators=50; total time=   5.6s\n",
      "[CV] END ...learning_rate=0.2, max_depth=8, n_estimators=100; total time=  11.2s\n",
      "[CV] END ...learning_rate=0.2, max_depth=8, n_estimators=200; total time=  22.4s\n",
      "[CV] END ...learning_rate=0.2, max_depth=8, n_estimators=300; total time=  33.6s\n",
      "[CV] END ...learning_rate=0.2, max_depth=10, n_estimators=50; total time=   7.2s\n",
      "[CV] END ..learning_rate=0.2, max_depth=10, n_estimators=100; total time=  14.3s\n",
      "[CV] END ..learning_rate=0.2, max_depth=10, n_estimators=200; total time=  28.8s\n",
      "[CV] END ..learning_rate=0.2, max_depth=10, n_estimators=300; total time=  42.6s\n",
      "[CV] END ...learning_rate=0.2, max_depth=12, n_estimators=50; total time=   9.0s\n",
      "[CV] END ..learning_rate=0.2, max_depth=12, n_estimators=100; total time=  17.7s\n",
      "[CV] END ..learning_rate=0.2, max_depth=12, n_estimators=200; total time=  35.2s\n",
      "[CV] END ..learning_rate=0.2, max_depth=12, n_estimators=400; total time= 1.2min\n",
      "[CV] END ...learning_rate=0.3, max_depth=6, n_estimators=200; total time=  17.2s\n",
      "[CV] END ...learning_rate=0.3, max_depth=6, n_estimators=400; total time=  33.9s\n",
      "[CV] END ...learning_rate=0.3, max_depth=8, n_estimators=100; total time=  11.3s\n",
      "[CV] END ...learning_rate=0.3, max_depth=8, n_estimators=300; total time=  33.9s\n",
      "[CV] END ...learning_rate=0.3, max_depth=8, n_estimators=400; total time=  46.5s\n",
      "[CV] END ..learning_rate=0.3, max_depth=10, n_estimators=300; total time=  46.0s\n",
      "[CV] END ..learning_rate=0.3, max_depth=10, n_estimators=400; total time=  57.8s\n",
      "[CV] END ..learning_rate=0.3, max_depth=12, n_estimators=300; total time=  50.9s\n"
     ]
    },
    {
     "name": "stdout",
     "output_type": "stream",
     "text": [
      "[CV] END ....learning_rate=0.1, max_depth=6, n_estimators=50; total time=   3.6s\n",
      "[CV] END ...learning_rate=0.1, max_depth=6, n_estimators=200; total time=  18.3s\n",
      "[CV] END ...learning_rate=0.1, max_depth=6, n_estimators=400; total time=  31.6s\n",
      "[CV] END ...learning_rate=0.1, max_depth=8, n_estimators=100; total time=  10.9s\n",
      "[CV] END ...learning_rate=0.1, max_depth=8, n_estimators=200; total time=  22.5s\n",
      "[CV] END ...learning_rate=0.1, max_depth=8, n_estimators=400; total time=  44.9s\n",
      "[CV] END ..learning_rate=0.1, max_depth=10, n_estimators=200; total time=  28.6s\n",
      "[CV] END ..learning_rate=0.1, max_depth=10, n_estimators=300; total time=  44.1s\n",
      "[CV] END ...learning_rate=0.1, max_depth=12, n_estimators=50; total time=   9.4s\n",
      "[CV] END ..learning_rate=0.1, max_depth=12, n_estimators=100; total time=  17.7s\n",
      "[CV] END ..learning_rate=0.1, max_depth=12, n_estimators=200; total time=  34.6s\n",
      "[CV] END ..learning_rate=0.1, max_depth=12, n_estimators=300; total time=  51.7s\n",
      "[CV] END ...learning_rate=0.2, max_depth=6, n_estimators=100; total time=   8.3s\n",
      "[CV] END ...learning_rate=0.2, max_depth=6, n_estimators=100; total time=   8.5s\n",
      "[CV] END ...learning_rate=0.2, max_depth=6, n_estimators=200; total time=  16.7s\n",
      "[CV] END ...learning_rate=0.2, max_depth=6, n_estimators=300; total time=  25.4s\n",
      "[CV] END ....learning_rate=0.2, max_depth=8, n_estimators=50; total time=   5.6s\n",
      "[CV] END ....learning_rate=0.2, max_depth=8, n_estimators=50; total time=   5.5s\n",
      "[CV] END ...learning_rate=0.2, max_depth=8, n_estimators=100; total time=  11.2s\n",
      "[CV] END ...learning_rate=0.2, max_depth=8, n_estimators=200; total time=  22.5s\n",
      "[CV] END ...learning_rate=0.2, max_depth=8, n_estimators=300; total time=  33.6s\n",
      "[CV] END ...learning_rate=0.2, max_depth=10, n_estimators=50; total time=   7.2s\n",
      "[CV] END ..learning_rate=0.2, max_depth=10, n_estimators=100; total time=  14.3s\n",
      "[CV] END ..learning_rate=0.2, max_depth=10, n_estimators=200; total time=  28.8s\n",
      "[CV] END ..learning_rate=0.2, max_depth=10, n_estimators=400; total time=  56.6s\n",
      "[CV] END ..learning_rate=0.2, max_depth=12, n_estimators=100; total time=  17.6s\n",
      "[CV] END ..learning_rate=0.2, max_depth=12, n_estimators=200; total time=  35.1s\n",
      "[CV] END ..learning_rate=0.2, max_depth=12, n_estimators=400; total time= 1.2min\n",
      "[CV] END ...learning_rate=0.3, max_depth=6, n_estimators=300; total time=  25.3s\n",
      "[CV] END ...learning_rate=0.3, max_depth=6, n_estimators=400; total time=  33.9s\n",
      "[CV] END ...learning_rate=0.3, max_depth=8, n_estimators=300; total time=  33.9s\n",
      "[CV] END ...learning_rate=0.3, max_depth=8, n_estimators=400; total time=  46.4s\n",
      "[CV] END ..learning_rate=0.3, max_depth=10, n_estimators=300; total time=  46.2s\n",
      "[CV] END ...learning_rate=0.3, max_depth=12, n_estimators=50; total time=   8.9s\n",
      "[CV] END ...learning_rate=0.3, max_depth=12, n_estimators=50; total time=   8.9s\n",
      "[CV] END ...learning_rate=0.3, max_depth=12, n_estimators=50; total time=   9.1s\n",
      "[CV] END ..learning_rate=0.3, max_depth=12, n_estimators=100; total time=  17.6s\n",
      "[CV] END ..learning_rate=0.3, max_depth=12, n_estimators=200; total time=  36.1s\n",
      "[CV] END ..learning_rate=0.3, max_depth=12, n_estimators=400; total time=  47.2s\n"
     ]
    }
   ],
   "source": [
    "y_train_randomcv_pred = random_cv.predict(x_train)\n",
    "\n",
    "y_val_randomcv_pred = random_cv.predict(x_val)\n",
    "\n",
    "f1_train_randomcv = f1_score(y_train, y_train_randomcv_pred)\n",
    "f1_val_randomcv = f1_score(y_val, y_val_randomcv_pred)\n",
    "\n",
    "print(\"F1 Score on Train data:\", f1_train_randomcv)\n",
    "print(\"F1 Score on Val data:\", f1_val_randomcv)"
   ]
  },
  {
   "cell_type": "markdown",
   "id": "9f4b0c28",
   "metadata": {},
   "source": [
    "## Video 5 - Bayesian Optimization\n",
    "<p style = 'color:green'><b>Run all the cells above before you begin</b><p>\n"
   ]
  },
  {
   "cell_type": "code",
   "execution_count": 9,
   "id": "1a149446",
   "metadata": {},
   "outputs": [],
   "source": [
    "from skopt import BayesSearchCV\n",
    "# parameter ranges are specified by one of below\n",
    "from skopt.space import Real, Integer"
   ]
  },
  {
   "cell_type": "code",
   "execution_count": 12,
   "id": "b9ea6896",
   "metadata": {},
   "outputs": [],
   "source": [
    "# log-uniform: understand as search over p = exp(x) by varying x\n",
    "opt = BayesSearchCV(\n",
    "    GradientBoostingClassifier(),\n",
    "    {\n",
    "        'learning_rate': Real(0.1, 0.3),\n",
    "        'max_depth': Integer(6, 13),\n",
    "        'n_estimators': Integer(50, 500),\n",
    "    },\n",
    "    n_iter=10,\n",
    "    random_state=0,\n",
    "    n_jobs=-1\n",
    ")"
   ]
  },
  {
   "cell_type": "code",
   "execution_count": 13,
   "id": "bfe4319c",
   "metadata": {},
   "outputs": [
    {
     "name": "stdout",
     "output_type": "stream",
     "text": [
      "CPU times: user 30.7 s, sys: 1.78 s, total: 32.4 s\n",
      "Wall time: 7min 29s\n"
     ]
    }
   ],
   "source": [
    "%%time\n",
    "_ = opt.fit(x_train, y_train)"
   ]
  },
  {
   "cell_type": "code",
   "execution_count": 15,
   "id": "9e2d3a41",
   "metadata": {
    "scrolled": false
   },
   "outputs": [
    {
     "data": {
      "text/plain": [
       "OrderedDict([('learning_rate', 0.29342624497686),\n",
       "             ('max_depth', 11),\n",
       "             ('n_estimators', 242)])"
      ]
     },
     "execution_count": 15,
     "metadata": {},
     "output_type": "execute_result"
    }
   ],
   "source": [
    "opt.best_params_"
   ]
  },
  {
   "cell_type": "code",
   "execution_count": 14,
   "id": "a30181ea",
   "metadata": {},
   "outputs": [
    {
     "name": "stdout",
     "output_type": "stream",
     "text": [
      "1.0\n",
      "0.8937850229240958\n"
     ]
    }
   ],
   "source": [
    "print(opt.score(x_train, y_train))\n",
    "print(opt.score(x_val, y_val))"
   ]
  }
 ],
 "metadata": {
  "kernelspec": {
   "display_name": "Python 3 (ipykernel)",
   "language": "python",
   "name": "python3"
  },
  "language_info": {
   "codemirror_mode": {
    "name": "ipython",
    "version": 3
   },
   "file_extension": ".py",
   "mimetype": "text/x-python",
   "name": "python",
   "nbconvert_exporter": "python",
   "pygments_lexer": "ipython3",
   "version": "3.10.13"
  }
 },
 "nbformat": 4,
 "nbformat_minor": 5
}
