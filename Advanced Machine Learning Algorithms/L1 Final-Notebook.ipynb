{
 "cells": [
  {
   "cell_type": "markdown",
   "id": "c688a1a9",
   "metadata": {},
   "source": [
    "# Video 5 - Introduction to the Apex Dataset"
   ]
  },
  {
   "cell_type": "markdown",
   "id": "b7f00dbd",
   "metadata": {},
   "source": [
    "Let's begin with importing the necessary libraries. For L1 regularization we will need to import Lasso and lassoCV from the sklearn.linear_model."
   ]
  },
  {
   "cell_type": "code",
   "execution_count": 1,
   "id": "f9be4bcf",
   "metadata": {},
   "outputs": [],
   "source": [
    "# Import necessary libraries\n",
    "import os\n",
    "import pandas as pd\n",
    "import numpy as np\n",
    "import matplotlib.pyplot as plt\n",
    "from sklearn.model_selection import train_test_split\n",
    "from sklearn.linear_model import LinearRegression\n",
    "from sklearn.metrics import r2_score\n",
    "from sklearn.linear_model import Lasso, LassoCV"
   ]
  },
  {
   "cell_type": "markdown",
   "id": "6372704e",
   "metadata": {},
   "source": [
    "Now load the dataset into a DataFrame named df, and take a quick look at our data's structure using the .info() method: "
   ]
  },
  {
   "cell_type": "code",
   "execution_count": 2,
   "id": "1441c494",
   "metadata": {},
   "outputs": [],
   "source": [
    "# Read the dataset\n",
    "df = pd.read_csv(\"Energy_Efficiency_Overfit_Dataset_Updated.csv\")"
   ]
  },
  {
   "cell_type": "code",
   "execution_count": 3,
   "id": "cce331fd",
   "metadata": {
    "scrolled": true
   },
   "outputs": [
    {
     "name": "stdout",
     "output_type": "stream",
     "text": [
      "<class 'pandas.core.frame.DataFrame'>\n",
      "RangeIndex: 200 entries, 0 to 199\n",
      "Data columns (total 24 columns):\n",
      " #   Column                    Non-Null Count  Dtype  \n",
      "---  ------                    --------------  -----  \n",
      " 0   Wall_Area                 200 non-null    float64\n",
      " 1   Roof_Area                 200 non-null    float64\n",
      " 2   Window_Area               200 non-null    float64\n",
      " 3   Overall_Height            200 non-null    float64\n",
      " 4   Outdoor_Temperature       200 non-null    float64\n",
      " 5   Humidity                  200 non-null    float64\n",
      " 6   Energy_Efficiency_Rating  200 non-null    float64\n",
      " 7   Noise_Feature_1           200 non-null    float64\n",
      " 8   Noise_Feature_2           200 non-null    float64\n",
      " 9   Noise_Feature_3           200 non-null    float64\n",
      " 10  Noise_Feature_4           200 non-null    float64\n",
      " 11  Noise_Feature_5           200 non-null    float64\n",
      " 12  Noise_Feature_6           200 non-null    float64\n",
      " 13  Noise_Feature_7           200 non-null    float64\n",
      " 14  Noise_Feature_8           200 non-null    float64\n",
      " 15  Noise_Feature_9           200 non-null    float64\n",
      " 16  Noise_Feature_10          200 non-null    float64\n",
      " 17  Orientation_East          200 non-null    int64  \n",
      " 18  Orientation_North         200 non-null    int64  \n",
      " 19  Orientation_South         200 non-null    int64  \n",
      " 20  Orientation_West          200 non-null    int64  \n",
      " 21  Glazing_Type_Type_A       200 non-null    int64  \n",
      " 22  Glazing_Type_Type_B       200 non-null    int64  \n",
      " 23  Glazing_Type_Type_C       200 non-null    int64  \n",
      "dtypes: float64(17), int64(7)\n",
      "memory usage: 37.6 KB\n"
     ]
    }
   ],
   "source": [
    "# Get data information\n",
    "df.info()"
   ]
  },
  {
   "cell_type": "markdown",
   "id": "ec439c82",
   "metadata": {},
   "source": [
    "With our data loaded, we separate our features, or independent variables, from our target variable, 'Energy Efficiency Rating'. Our goal is to __predict this rating using the features available to us__."
   ]
  },
  {
   "cell_type": "code",
   "execution_count": 4,
   "id": "11425f00",
   "metadata": {},
   "outputs": [],
   "source": [
    "# Separating the dependent and independent variables\n",
    "X = df.drop('Energy_Efficiency_Rating', axis = 1)\n",
    "y = df['Energy_Efficiency_Rating']"
   ]
  },
  {
   "cell_type": "markdown",
   "id": "245af4b3",
   "metadata": {},
   "source": [
    "Now, let's do a 70:30 train-test split."
   ]
  },
  {
   "cell_type": "code",
   "execution_count": 5,
   "id": "fb18a27c",
   "metadata": {},
   "outputs": [],
   "source": [
    "# Splitting the data into train and test\n",
    "X_train, X_test, y_train, y_test = train_test_split(X, y, test_size=0.3, random_state=42)"
   ]
  },
  {
   "cell_type": "markdown",
   "id": "870b9196",
   "metadata": {},
   "source": [
    "Now, let's apply a simple Linear Regression model and check its R-squared scores on the train and the test sets."
   ]
  },
  {
   "cell_type": "code",
   "execution_count": 6,
   "id": "ba2640e5",
   "metadata": {},
   "outputs": [],
   "source": [
    "# Initialize the Linear Regression model\n",
    "linear_reg = LinearRegression()"
   ]
  },
  {
   "cell_type": "code",
   "execution_count": 7,
   "id": "2bfe9fca",
   "metadata": {},
   "outputs": [
    {
     "data": {
      "text/plain": [
       "LinearRegression()"
      ]
     },
     "execution_count": 7,
     "metadata": {},
     "output_type": "execute_result"
    }
   ],
   "source": [
    "# Fit the Linear Regression model to the full training data\n",
    "linear_reg.fit(X_train, y_train)"
   ]
  },
  {
   "cell_type": "code",
   "execution_count": 8,
   "id": "341327f7",
   "metadata": {},
   "outputs": [],
   "source": [
    "# R-squared scores for the Linear Regression model\n",
    "r2_train_linear = linear_reg.score(X_train, y_train)\n",
    "r2_test_linear = linear_reg.score(X_test, y_test)"
   ]
  },
  {
   "cell_type": "code",
   "execution_count": 9,
   "id": "13a41bf1",
   "metadata": {},
   "outputs": [
    {
     "data": {
      "text/plain": [
       "(0.9480121596373762, 0.8604514137224497)"
      ]
     },
     "execution_count": 9,
     "metadata": {},
     "output_type": "execute_result"
    }
   ],
   "source": [
    "# view the r2-scores\n",
    "(r2_train_linear, r2_test_linear)"
   ]
  },
  {
   "cell_type": "markdown",
   "id": "9effdad8",
   "metadata": {},
   "source": [
    "As we can see, the simple linear regression model is overfitting. We see a gap of almost 9 percentage betweent the performances of the model on train and test data.\n",
    "\n",
    "With that, let us take a break here. In the next video, we’ll deal with this issue using regularization. We’ll  start things off with the introduction of regularization and its types."
   ]
  },
  {
   "cell_type": "markdown",
   "id": "e1ca92a6",
   "metadata": {},
   "source": [
    "# Video 6 - L1 Regularization"
   ]
  },
  {
   "cell_type": "markdown",
   "id": "df69c7da",
   "metadata": {},
   "source": [
    "<p style = 'color:green'><b>Run all the cells above before you begin</b><p>"
   ]
  },
  {
   "cell_type": "markdown",
   "id": "1fb23e15",
   "metadata": {},
   "source": [
    "We will start with creating a numpy array and name it alphas. This will have 20 equally spaced values between 0 and 10 and will include both 0 and 10 as the first and last values respectively. Also, note that the reason why we choose alpha values between 0-10 is because it is a convention."
   ]
  },
  {
   "cell_type": "code",
   "execution_count": 10,
   "id": "bac881bd",
   "metadata": {},
   "outputs": [
    {
     "data": {
      "text/plain": [
       "array([ 0.        ,  0.52631579,  1.05263158,  1.57894737,  2.10526316,\n",
       "        2.63157895,  3.15789474,  3.68421053,  4.21052632,  4.73684211,\n",
       "        5.26315789,  5.78947368,  6.31578947,  6.84210526,  7.36842105,\n",
       "        7.89473684,  8.42105263,  8.94736842,  9.47368421, 10.        ])"
      ]
     },
     "execution_count": 10,
     "metadata": {},
     "output_type": "execute_result"
    }
   ],
   "source": [
    "# create an array with 20 numbers equllay spaced between 0 to 10\n",
    "alphas = np.linspace(0, 10, 20)\n",
    "alphas"
   ]
  },
  {
   "cell_type": "markdown",
   "id": "cda92530",
   "metadata": {},
   "source": [
    "The alphas instance represents the Alpha parameter in regularization. The alpha parameter controls the strength of L1 regularization. "
   ]
  },
  {
   "cell_type": "markdown",
   "id": "0cf59148",
   "metadata": {},
   "source": [
    "Now, let us create a LassoCV constructor for our model. We will use the following parameters-\n",
    "- alphas = alphas - this will set the alpha parameter equal to the 20 values that we generated in the alphas numpy array.\n",
    "- cv = 10 states that we will use 10 fold corss validation.It is a recommended practce to use cross validation to select the hyperparameter.\n",
    "- max_iter = This parameter sets the maximum number of iterations for the Lasso regression solver. It determines how many iterations the optimization algorithm will run to find the optimal coefficients.\n",
    "\n",
    "\n",
    "You can save this constructor in a instance called lasso_cv."
   ]
  },
  {
   "cell_type": "markdown",
   "id": "7df148aa",
   "metadata": {},
   "source": [
    "So, in the next cell,let's run this code."
   ]
  },
  {
   "cell_type": "code",
   "execution_count": 11,
   "id": "6010bf40",
   "metadata": {
    "scrolled": false
   },
   "outputs": [],
   "source": [
    "# Initialize LassoCV to find the best alpha\n",
    "lasso_cv = LassoCV(alphas= alphas,\n",
    "                   cv=10, \n",
    "                   max_iter=100000)"
   ]
  },
  {
   "cell_type": "markdown",
   "id": "87c685a1",
   "metadata": {},
   "source": [
    "And now, let us fit the LassoCV model to the train data. This will help us find the best alpha value. Alpha is the key hyperparameter for Loasso and the best alpha is selected to reduce the loss fucntion. \n",
    "\n",
    "\n",
    "\n"
   ]
  },
  {
   "cell_type": "code",
   "execution_count": 12,
   "id": "c7054204",
   "metadata": {},
   "outputs": [
    {
     "name": "stderr",
     "output_type": "stream",
     "text": [
      "C:\\Users\\Sushant\\anaconda3\\lib\\site-packages\\sklearn\\linear_model\\_coordinate_descent.py:633: UserWarning: Coordinate descent with alpha=0 may lead to unexpected results and is discouraged.\n",
      "  model = cd_fast.enet_coordinate_descent_gram(\n",
      "C:\\Users\\Sushant\\anaconda3\\lib\\site-packages\\sklearn\\linear_model\\_coordinate_descent.py:633: ConvergenceWarning: Objective did not converge. You might want to increase the number of iterations. Duality gap: 1195.9244204867646, tolerance: 4.484421350867124\n",
      "  model = cd_fast.enet_coordinate_descent_gram(\n",
      "C:\\Users\\Sushant\\anaconda3\\lib\\site-packages\\sklearn\\linear_model\\_coordinate_descent.py:633: UserWarning: Coordinate descent with alpha=0 may lead to unexpected results and is discouraged.\n",
      "  model = cd_fast.enet_coordinate_descent_gram(\n",
      "C:\\Users\\Sushant\\anaconda3\\lib\\site-packages\\sklearn\\linear_model\\_coordinate_descent.py:633: ConvergenceWarning: Objective did not converge. You might want to increase the number of iterations. Duality gap: 1155.5939743221752, tolerance: 4.518696718917111\n",
      "  model = cd_fast.enet_coordinate_descent_gram(\n",
      "C:\\Users\\Sushant\\anaconda3\\lib\\site-packages\\sklearn\\linear_model\\_coordinate_descent.py:633: UserWarning: Coordinate descent with alpha=0 may lead to unexpected results and is discouraged.\n",
      "  model = cd_fast.enet_coordinate_descent_gram(\n",
      "C:\\Users\\Sushant\\anaconda3\\lib\\site-packages\\sklearn\\linear_model\\_coordinate_descent.py:633: ConvergenceWarning: Objective did not converge. You might want to increase the number of iterations. Duality gap: 1140.6946024279387, tolerance: 4.7882776308630435\n",
      "  model = cd_fast.enet_coordinate_descent_gram(\n",
      "C:\\Users\\Sushant\\anaconda3\\lib\\site-packages\\sklearn\\linear_model\\_coordinate_descent.py:633: UserWarning: Coordinate descent with alpha=0 may lead to unexpected results and is discouraged.\n",
      "  model = cd_fast.enet_coordinate_descent_gram(\n",
      "C:\\Users\\Sushant\\anaconda3\\lib\\site-packages\\sklearn\\linear_model\\_coordinate_descent.py:633: ConvergenceWarning: Objective did not converge. You might want to increase the number of iterations. Duality gap: 1262.7197417457137, tolerance: 4.523553771776862\n",
      "  model = cd_fast.enet_coordinate_descent_gram(\n",
      "C:\\Users\\Sushant\\anaconda3\\lib\\site-packages\\sklearn\\linear_model\\_coordinate_descent.py:633: UserWarning: Coordinate descent with alpha=0 may lead to unexpected results and is discouraged.\n",
      "  model = cd_fast.enet_coordinate_descent_gram(\n",
      "C:\\Users\\Sushant\\anaconda3\\lib\\site-packages\\sklearn\\linear_model\\_coordinate_descent.py:633: ConvergenceWarning: Objective did not converge. You might want to increase the number of iterations. Duality gap: 1290.06001978329, tolerance: 4.822783202358667\n",
      "  model = cd_fast.enet_coordinate_descent_gram(\n",
      "C:\\Users\\Sushant\\anaconda3\\lib\\site-packages\\sklearn\\linear_model\\_coordinate_descent.py:633: UserWarning: Coordinate descent with alpha=0 may lead to unexpected results and is discouraged.\n",
      "  model = cd_fast.enet_coordinate_descent_gram(\n",
      "C:\\Users\\Sushant\\anaconda3\\lib\\site-packages\\sklearn\\linear_model\\_coordinate_descent.py:633: ConvergenceWarning: Objective did not converge. You might want to increase the number of iterations. Duality gap: 1227.618801233184, tolerance: 4.4069280326046805\n",
      "  model = cd_fast.enet_coordinate_descent_gram(\n",
      "C:\\Users\\Sushant\\anaconda3\\lib\\site-packages\\sklearn\\linear_model\\_coordinate_descent.py:633: UserWarning: Coordinate descent with alpha=0 may lead to unexpected results and is discouraged.\n",
      "  model = cd_fast.enet_coordinate_descent_gram(\n",
      "C:\\Users\\Sushant\\anaconda3\\lib\\site-packages\\sklearn\\linear_model\\_coordinate_descent.py:633: ConvergenceWarning: Objective did not converge. You might want to increase the number of iterations. Duality gap: 1118.1932662618638, tolerance: 4.849214215897236\n",
      "  model = cd_fast.enet_coordinate_descent_gram(\n",
      "C:\\Users\\Sushant\\anaconda3\\lib\\site-packages\\sklearn\\linear_model\\_coordinate_descent.py:633: UserWarning: Coordinate descent with alpha=0 may lead to unexpected results and is discouraged.\n",
      "  model = cd_fast.enet_coordinate_descent_gram(\n",
      "C:\\Users\\Sushant\\anaconda3\\lib\\site-packages\\sklearn\\linear_model\\_coordinate_descent.py:633: ConvergenceWarning: Objective did not converge. You might want to increase the number of iterations. Duality gap: 1095.5740213923054, tolerance: 4.2815973097318585\n",
      "  model = cd_fast.enet_coordinate_descent_gram(\n",
      "C:\\Users\\Sushant\\anaconda3\\lib\\site-packages\\sklearn\\linear_model\\_coordinate_descent.py:633: UserWarning: Coordinate descent with alpha=0 may lead to unexpected results and is discouraged.\n",
      "  model = cd_fast.enet_coordinate_descent_gram(\n",
      "C:\\Users\\Sushant\\anaconda3\\lib\\site-packages\\sklearn\\linear_model\\_coordinate_descent.py:633: ConvergenceWarning: Objective did not converge. You might want to increase the number of iterations. Duality gap: 1142.8477133884226, tolerance: 4.846841737561287\n",
      "  model = cd_fast.enet_coordinate_descent_gram(\n",
      "C:\\Users\\Sushant\\anaconda3\\lib\\site-packages\\sklearn\\linear_model\\_coordinate_descent.py:633: UserWarning: Coordinate descent with alpha=0 may lead to unexpected results and is discouraged.\n",
      "  model = cd_fast.enet_coordinate_descent_gram(\n",
      "C:\\Users\\Sushant\\anaconda3\\lib\\site-packages\\sklearn\\linear_model\\_coordinate_descent.py:633: ConvergenceWarning: Objective did not converge. You might want to increase the number of iterations. Duality gap: 1177.503362454525, tolerance: 4.639576483655909\n",
      "  model = cd_fast.enet_coordinate_descent_gram(\n"
     ]
    },
    {
     "data": {
      "text/plain": [
       "LassoCV(alphas=array([ 0.        ,  0.52631579,  1.05263158,  1.57894737,  2.10526316,\n",
       "        2.63157895,  3.15789474,  3.68421053,  4.21052632,  4.73684211,\n",
       "        5.26315789,  5.78947368,  6.31578947,  6.84210526,  7.36842105,\n",
       "        7.89473684,  8.42105263,  8.94736842,  9.47368421, 10.        ]),\n",
       "        cv=10, max_iter=100000)"
      ]
     },
     "execution_count": 12,
     "metadata": {},
     "output_type": "execute_result"
    }
   ],
   "source": [
    "# fit the lasso_cv model to our training data\n",
    "lasso_cv.fit(X_train, y_train)"
   ]
  },
  {
   "cell_type": "code",
   "execution_count": 13,
   "id": "22f60fac",
   "metadata": {},
   "outputs": [
    {
     "data": {
      "text/plain": [
       "0.5263157894736842"
      ]
     },
     "execution_count": 13,
     "metadata": {},
     "output_type": "execute_result"
    }
   ],
   "source": [
    "# Find the best alpha value\n",
    "best_alpha = lasso_cv.alpha_\n",
    "best_alpha"
   ]
  },
  {
   "cell_type": "markdown",
   "id": "9d50d930",
   "metadata": {},
   "source": [
    "We can see the best alpha comes out to be 0.52.The LassoCV instance automatically saves the model with the best alpha. Let's look at the coefficients of the best model."
   ]
  },
  {
   "cell_type": "code",
   "execution_count": 14,
   "id": "e328c837",
   "metadata": {},
   "outputs": [],
   "source": [
    "# Compare the coefficients before and after L2 regularization\n",
    "coefficients_after_l1 = pd.DataFrame({\n",
    "    'Feature': X_train.columns,\n",
    "    'After L1 Regularization': lasso_cv.coef_\n",
    "})\n"
   ]
  },
  {
   "cell_type": "code",
   "execution_count": 15,
   "id": "f9a77c3f",
   "metadata": {},
   "outputs": [
    {
     "data": {
      "text/html": [
       "<div>\n",
       "<style scoped>\n",
       "    .dataframe tbody tr th:only-of-type {\n",
       "        vertical-align: middle;\n",
       "    }\n",
       "\n",
       "    .dataframe tbody tr th {\n",
       "        vertical-align: top;\n",
       "    }\n",
       "\n",
       "    .dataframe thead th {\n",
       "        text-align: right;\n",
       "    }\n",
       "</style>\n",
       "<table border=\"1\" class=\"dataframe\">\n",
       "  <thead>\n",
       "    <tr style=\"text-align: right;\">\n",
       "      <th></th>\n",
       "      <th>Feature</th>\n",
       "      <th>After L1 Regularization</th>\n",
       "    </tr>\n",
       "  </thead>\n",
       "  <tbody>\n",
       "    <tr>\n",
       "      <th>0</th>\n",
       "      <td>Wall_Area</td>\n",
       "      <td>0.299125</td>\n",
       "    </tr>\n",
       "    <tr>\n",
       "      <th>1</th>\n",
       "      <td>Roof_Area</td>\n",
       "      <td>0.245946</td>\n",
       "    </tr>\n",
       "    <tr>\n",
       "      <th>2</th>\n",
       "      <td>Window_Area</td>\n",
       "      <td>0.261297</td>\n",
       "    </tr>\n",
       "    <tr>\n",
       "      <th>3</th>\n",
       "      <td>Overall_Height</td>\n",
       "      <td>-0.000000</td>\n",
       "    </tr>\n",
       "    <tr>\n",
       "      <th>4</th>\n",
       "      <td>Outdoor_Temperature</td>\n",
       "      <td>-0.072988</td>\n",
       "    </tr>\n",
       "    <tr>\n",
       "      <th>5</th>\n",
       "      <td>Humidity</td>\n",
       "      <td>-0.050996</td>\n",
       "    </tr>\n",
       "    <tr>\n",
       "      <th>6</th>\n",
       "      <td>Noise_Feature_1</td>\n",
       "      <td>-0.000000</td>\n",
       "    </tr>\n",
       "    <tr>\n",
       "      <th>7</th>\n",
       "      <td>Noise_Feature_2</td>\n",
       "      <td>0.000000</td>\n",
       "    </tr>\n",
       "    <tr>\n",
       "      <th>8</th>\n",
       "      <td>Noise_Feature_3</td>\n",
       "      <td>-0.000000</td>\n",
       "    </tr>\n",
       "    <tr>\n",
       "      <th>9</th>\n",
       "      <td>Noise_Feature_4</td>\n",
       "      <td>0.000000</td>\n",
       "    </tr>\n",
       "    <tr>\n",
       "      <th>10</th>\n",
       "      <td>Noise_Feature_5</td>\n",
       "      <td>0.000000</td>\n",
       "    </tr>\n",
       "    <tr>\n",
       "      <th>11</th>\n",
       "      <td>Noise_Feature_6</td>\n",
       "      <td>0.000000</td>\n",
       "    </tr>\n",
       "    <tr>\n",
       "      <th>12</th>\n",
       "      <td>Noise_Feature_7</td>\n",
       "      <td>-0.000000</td>\n",
       "    </tr>\n",
       "    <tr>\n",
       "      <th>13</th>\n",
       "      <td>Noise_Feature_8</td>\n",
       "      <td>0.000000</td>\n",
       "    </tr>\n",
       "    <tr>\n",
       "      <th>14</th>\n",
       "      <td>Noise_Feature_9</td>\n",
       "      <td>0.000000</td>\n",
       "    </tr>\n",
       "    <tr>\n",
       "      <th>15</th>\n",
       "      <td>Noise_Feature_10</td>\n",
       "      <td>0.000000</td>\n",
       "    </tr>\n",
       "    <tr>\n",
       "      <th>16</th>\n",
       "      <td>Orientation_East</td>\n",
       "      <td>0.000000</td>\n",
       "    </tr>\n",
       "    <tr>\n",
       "      <th>17</th>\n",
       "      <td>Orientation_North</td>\n",
       "      <td>-0.000000</td>\n",
       "    </tr>\n",
       "    <tr>\n",
       "      <th>18</th>\n",
       "      <td>Orientation_South</td>\n",
       "      <td>0.000000</td>\n",
       "    </tr>\n",
       "    <tr>\n",
       "      <th>19</th>\n",
       "      <td>Orientation_West</td>\n",
       "      <td>-0.000000</td>\n",
       "    </tr>\n",
       "    <tr>\n",
       "      <th>20</th>\n",
       "      <td>Glazing_Type_Type_A</td>\n",
       "      <td>0.000000</td>\n",
       "    </tr>\n",
       "    <tr>\n",
       "      <th>21</th>\n",
       "      <td>Glazing_Type_Type_B</td>\n",
       "      <td>0.000000</td>\n",
       "    </tr>\n",
       "    <tr>\n",
       "      <th>22</th>\n",
       "      <td>Glazing_Type_Type_C</td>\n",
       "      <td>-0.000000</td>\n",
       "    </tr>\n",
       "  </tbody>\n",
       "</table>\n",
       "</div>"
      ],
      "text/plain": [
       "                Feature  After L1 Regularization\n",
       "0             Wall_Area                 0.299125\n",
       "1             Roof_Area                 0.245946\n",
       "2           Window_Area                 0.261297\n",
       "3        Overall_Height                -0.000000\n",
       "4   Outdoor_Temperature                -0.072988\n",
       "5              Humidity                -0.050996\n",
       "6       Noise_Feature_1                -0.000000\n",
       "7       Noise_Feature_2                 0.000000\n",
       "8       Noise_Feature_3                -0.000000\n",
       "9       Noise_Feature_4                 0.000000\n",
       "10      Noise_Feature_5                 0.000000\n",
       "11      Noise_Feature_6                 0.000000\n",
       "12      Noise_Feature_7                -0.000000\n",
       "13      Noise_Feature_8                 0.000000\n",
       "14      Noise_Feature_9                 0.000000\n",
       "15     Noise_Feature_10                 0.000000\n",
       "16     Orientation_East                 0.000000\n",
       "17    Orientation_North                -0.000000\n",
       "18    Orientation_South                 0.000000\n",
       "19     Orientation_West                -0.000000\n",
       "20  Glazing_Type_Type_A                 0.000000\n",
       "21  Glazing_Type_Type_B                 0.000000\n",
       "22  Glazing_Type_Type_C                -0.000000"
      ]
     },
     "execution_count": 15,
     "metadata": {},
     "output_type": "execute_result"
    }
   ],
   "source": [
    "coefficients_after_l1"
   ]
  },
  {
   "cell_type": "markdown",
   "id": "8a1ab958",
   "metadata": {},
   "source": [
    " As we can observe, now there are many features whose coefficients have been reduced to zero. With this, let's construct a new model with alpha value equalling the best_alpha and only using features with non-zero coefficients."
   ]
  },
  {
   "cell_type": "code",
   "execution_count": 17,
   "id": "3c062bce",
   "metadata": {},
   "outputs": [
    {
     "data": {
      "text/plain": [
       "['Wall_Area', 'Roof_Area', 'Window_Area', 'Outdoor_Temperature', 'Humidity']"
      ]
     },
     "execution_count": 17,
     "metadata": {},
     "output_type": "execute_result"
    }
   ],
   "source": [
    "# Identify non-zero features from the Lasso model\n",
    "non_zero_mask = lasso_cv.coef_ != 0\n",
    "non_zero_features = X_train.columns[non_zero_mask]\n",
    "\n",
    "# Print the features with non-zero coefficients \n",
    "non_zero_features.tolist()"
   ]
  },
  {
   "cell_type": "markdown",
   "id": "305b5a54",
   "metadata": {},
   "source": [
    "We get a list of 5 variables that have coefficients not equal to zero. Based on this we will create a new training and test data, which only contains these 5 variables with non-zero coefficients."
   ]
  },
  {
   "cell_type": "code",
   "execution_count": 18,
   "id": "19a268f2",
   "metadata": {},
   "outputs": [],
   "source": [
    "# Reduce training and test sets to non-zero features\n",
    "X_train_reduced = X_train[non_zero_features]\n",
    "X_test_reduced = X_test[non_zero_features]"
   ]
  },
  {
   "cell_type": "markdown",
   "id": "f2fc268c",
   "metadata": {},
   "source": [
    "And finally, let's create the lasso model with best alpha as the parameter, fit it on the reduced train data."
   ]
  },
  {
   "cell_type": "markdown",
   "id": "5bb432b5",
   "metadata": {},
   "source": [
    "Here, we're using the Lasso library instead of LassoCV to fit the model because we already got the best alpha value."
   ]
  },
  {
   "cell_type": "code",
   "execution_count": 19,
   "id": "2989ef02",
   "metadata": {},
   "outputs": [
    {
     "data": {
      "text/plain": [
       "Lasso(alpha=0.5263157894736842)"
      ]
     },
     "execution_count": 19,
     "metadata": {},
     "output_type": "execute_result"
    }
   ],
   "source": [
    "# Retrain the Lasso model on the reduced set of features\n",
    "lasso_best_reduced = Lasso(alpha=best_alpha)\n",
    "lasso_best_reduced.fit(X_train_reduced, y_train)"
   ]
  },
  {
   "cell_type": "markdown",
   "id": "da1e06ec",
   "metadata": {},
   "source": [
    "And finally, let us print the r2 score of the new model for both the train and test data."
   ]
  },
  {
   "cell_type": "code",
   "execution_count": 20,
   "id": "dc51ec1c",
   "metadata": {},
   "outputs": [],
   "source": [
    "# R-squared scores for the model with the reduced feature set\n",
    "r2_train_reduced = lasso_best_reduced.score(X_train_reduced, y_train)\n",
    "r2_test_reduced = lasso_best_reduced.score(X_test_reduced, y_test)"
   ]
  },
  {
   "cell_type": "code",
   "execution_count": 21,
   "id": "4710468c",
   "metadata": {},
   "outputs": [
    {
     "data": {
      "text/plain": [
       "(0.9378427802510159, 0.873573116999379)"
      ]
     },
     "execution_count": 21,
     "metadata": {},
     "output_type": "execute_result"
    }
   ],
   "source": [
    "# R-squared scores for L1 model\n",
    "r2_train_reduced, r2_test_reduced"
   ]
  },
  {
   "cell_type": "markdown",
   "id": "6f019328",
   "metadata": {},
   "source": [
    " And that is it. The unregularized linear regression gave us a score of 0.95 on train and 0.86 on test sets. The gap in the performace was approximately 9 percent. With the L1 regularization, not only has the performance on the test set increased by 1 percent point, the gap between train and test has also reduced to 6 percent. This has reduced the overfitting.\n",
    "\n",
    "By introducing a penalty equivalent to the absolute value of the magnitude of the coefficients, L1 regularization has helped us in feature selection, identifying the most significant predictors for 'Energy Efficiency Rating'.\n",
    "\n",
    "But our model is still overfitting and cannot be left as it is. \n",
    "This is where L2 regularization, or Ridge Regression, can help us. In our next video, we will explore L2 regularization, and try to overcome the overfitting of the model.\n",
    "Stay tuned, see you there!\n"
   ]
  },
  {
   "cell_type": "code",
   "execution_count": null,
   "id": "e3f4dbe7",
   "metadata": {},
   "outputs": [],
   "source": []
  }
 ],
 "metadata": {
  "kernelspec": {
   "display_name": "Python 3 (ipykernel)",
   "language": "python",
   "name": "python3"
  },
  "language_info": {
   "codemirror_mode": {
    "name": "ipython",
    "version": 3
   },
   "file_extension": ".py",
   "mimetype": "text/x-python",
   "name": "python",
   "nbconvert_exporter": "python",
   "pygments_lexer": "ipython3",
   "version": "3.9.13"
  }
 },
 "nbformat": 4,
 "nbformat_minor": 5
}
