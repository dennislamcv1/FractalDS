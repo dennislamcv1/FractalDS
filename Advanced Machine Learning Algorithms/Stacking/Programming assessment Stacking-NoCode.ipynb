{
 "cells": [
  {
   "cell_type": "markdown",
   "id": "38f156db",
   "metadata": {
    "deletable": false,
    "editable": false,
    "nbgrader": {
     "cell_type": "markdown",
     "checksum": "941bcdfc46b953d0a40142fc4ae0e15b",
     "grade": false,
     "grade_id": "cell-048463d8b48f34fe",
     "locked": true,
     "schema_version": 3,
     "solution": false,
     "task": false
    }
   },
   "source": [
    "# PROBLEM STATEMENT \n",
    "\n",
    "Dataset contains daily weather observations from Australian weather stations, and your goal is to predict whether it will rain tomorrow based on the data. The target variable you want to predict is \"RainTomorrow,\" which is a binary variable with two possible values: \"Yes\" or \"No.\"\n",
    "\n",
    "In this context, \"RainTomorrow\" is set to \"Yes\" if the amount of rain recorded for the current day is 1mm or more, indicating that it rained that day. If the recorded rainfall is less than 1mm, \"RainTomorrow\" is set to \"No,\" indicating that it did not rain that day.\n",
    "\n",
    "- The aim of this is to test the chances of raining in australia Yes or No"
   ]
  },
  {
   "cell_type": "markdown",
   "id": "21c9d568",
   "metadata": {
    "deletable": false,
    "editable": false,
    "nbgrader": {
     "cell_type": "markdown",
     "checksum": "dfd5ff73501d0ce1f1c64fb0508104dc",
     "grade": false,
     "grade_id": "cell-269f1d39cecd397e",
     "locked": true,
     "schema_version": 3,
     "solution": false,
     "task": false
    }
   },
   "source": [
    "# OVERVIEW \n",
    "\n",
    "The dataset weatherAUS.csv contains 40000 rows and 23 columns to weather observations in Australia. Here's an explanation of each column:\n",
    "### The data we are using here is already  preprocessed including encoding and scaling, so the names of the columns may change.\n",
    "\n",
    "- Date: The date of the observation.\n",
    "- Location: The location where the weather data was recorded.\n",
    "- MinTemp: The minimum temperature in degrees Celsius.\n",
    "- MaxTemp: The maximum temperature in degrees Celsius.\n",
    "- Rainfall: The amount of rainfall recorded for the day in millimeters.\n",
    "- Evaporation: The so-called Class A pan evaporation (in millimeters) in the 24 hours to 9am.\n",
    "- Sunshine: The number of hours of bright sunshine in the day.\n",
    "- WindGustDir: The direction of the strongest wind gust in the 24 hours to midnight.\n",
    "- WindGustSpeed: The speed (in km/h) of the strongest wind gust in the 24 hours to midnight.\n",
    "- WindDir9am: Direction of the wind at 9am.\n",
    "- WindDir3pm: Direction of the wind at 3pm.\n",
    "- WindSpeed9am: Wind speed (in km/h) averaged over 10 minutes prior to 9am.\n",
    "- WindSpeed3pm: Wind speed (in km/h) averaged over 10 minutes prior to 3pm.\n",
    "- Humidity9am: Humidity (percent) at 9am.\n",
    "- Humidity3pm: Humidity (percent) at 3pm.\n",
    "- Pressure9am: Atmospheric pressure (hpa) reduced to mean sea level at 9am.\n",
    "- Pressure3pm: Atmospheric pressure (hpa) reduced to mean sea level at 3pm.\n",
    "- Cloud9am: Fraction of sky obscured by cloud at 9am. This is measured in \"oktas,\" which are a unit of eighths. It records how many eighths of the sky are obscured by cloud.\n",
    "- Cloud3pm: Fraction of sky obscured by cloud at 3pm. Similar to Cloud9am.\n",
    "- Temp9am: Temperature (degrees Celsius) at 9am.\n",
    "- Temp3pm: Temperature (degrees Celsius) at 3pm.\n",
    "- RainToday: Indicates if it has rained. Yes if precipitation (mm) in the 24 hours to 9am exceeds 1mm, otherwise No.\n",
    "- RainTomorrow: The target variable. Indicates if it will rain tomorrow. Yes or No.\n",
    "\n",
    "These columns provide comprehensive information about daily weather conditions, useful for various analyses including weather forecasting, climate studies, and understanding local weather patterns. \n",
    "\n",
    "\n",
    "\n",
    "\n",
    "\n",
    "\n",
    "\n",
    "\n",
    "\n",
    "\n",
    "\n",
    "There is a date variable. It is denoted by Date column.\n",
    "There are 6 categorical variables. These are given by Location, WindGustDir, WindDir9am, WindDir3pm, RainToday and RainTomorrow.\n",
    "There are two binary categorical variables - RainToday and RainTomorrow.\n",
    "RainTomorrow is the target variable.\n"
   ]
  },
  {
   "cell_type": "markdown",
   "id": "1a5d819e",
   "metadata": {
    "deletable": false,
    "editable": false,
    "nbgrader": {
     "cell_type": "markdown",
     "checksum": "be3ec959a56b39191192a478a01c5598",
     "grade": false,
     "grade_id": "cell-29c6bb061c1cc79e",
     "locked": true,
     "schema_version": 3,
     "solution": false,
     "task": false
    }
   },
   "source": [
    "## ------------------------------------------------------------------------------------"
   ]
  },
  {
   "cell_type": "markdown",
   "id": "7b45dc0b",
   "metadata": {
    "deletable": false,
    "editable": false,
    "nbgrader": {
     "cell_type": "markdown",
     "checksum": "68bc35c459d622f08a94dfc6dc5ea506",
     "grade": false,
     "grade_id": "cell-c2fbebc4b3e036cd",
     "locked": true,
     "schema_version": 3,
     "solution": false,
     "task": false
    }
   },
   "source": [
    "## Guidelines to follow in this notebook \n",
    "- The name of the main dataframe should be df \n",
    "- Keep the seed value 42\n",
    "- Names of training and testing variables should be X_train, X_test, y_train, y_test\n",
    "- Keep the name of model instance as \"model\", e.g. model = DecisionTreeClassifer()\n",
    "- Keep the predictions on training and testing data in a variable named y_train_pred and y_test_pred respectively."
   ]
  },
  {
   "cell_type": "markdown",
   "id": "854ac382",
   "metadata": {
    "deletable": false,
    "editable": false,
    "nbgrader": {
     "cell_type": "markdown",
     "checksum": "eec43b4108d82470656384d89e40e492",
     "grade": false,
     "grade_id": "cell-e155f489649da0f7",
     "locked": true,
     "schema_version": 3,
     "solution": false,
     "task": false
    }
   },
   "source": [
    "## ------------------------------------------------------------------------------------"
   ]
  },
  {
   "cell_type": "markdown",
   "id": "a11174ba",
   "metadata": {
    "deletable": false,
    "editable": false,
    "nbgrader": {
     "cell_type": "markdown",
     "checksum": "ae40b183ebec840e71dc4d57938c73b6",
     "grade": false,
     "grade_id": "cell-4a755b44f692e5f4",
     "locked": true,
     "schema_version": 3,
     "solution": false,
     "task": false
    }
   },
   "source": [
    "## Import Libraries \n",
    "#### Lets begin by importing necessary data libraries "
   ]
  },
  {
   "cell_type": "code",
   "execution_count": null,
   "id": "0307270d",
   "metadata": {
    "deletable": false,
    "editable": false,
    "nbgrader": {
     "cell_type": "code",
     "checksum": "3db43ee890ea848848a1f83da92e240f",
     "grade": false,
     "grade_id": "cell-edb670ef30c13bc7",
     "locked": true,
     "schema_version": 3,
     "solution": false,
     "task": false
    }
   },
   "outputs": [],
   "source": [
    "#Importing necessary libraries\n",
    "import pandas as pd\n",
    "import numpy as np\n",
    "import os\n",
    "import matplotlib.pyplot as plt\n",
    "from sklearn.preprocessing import LabelEncoder\n",
    "from sklearn.model_selection import train_test_split, GridSearchCV"
   ]
  },
  {
   "cell_type": "markdown",
   "id": "01906238",
   "metadata": {
    "deletable": false,
    "editable": false,
    "nbgrader": {
     "cell_type": "markdown",
     "checksum": "e463bbf4b8052afe5135194c44795bc8",
     "grade": false,
     "grade_id": "cell-a3b9c4e62ac13c78",
     "locked": true,
     "schema_version": 3,
     "solution": false,
     "task": false
    }
   },
   "source": [
    "### Load the dataset"
   ]
  },
  {
   "cell_type": "code",
   "execution_count": null,
   "id": "bcab52e9",
   "metadata": {
    "deletable": false,
    "nbgrader": {
     "cell_type": "code",
     "checksum": "cc9b255152613b1728b9b05ccf424b1f",
     "grade": false,
     "grade_id": "cell-49d5a6edd6495047",
     "locked": false,
     "schema_version": 3,
     "solution": true,
     "task": false
    }
   },
   "outputs": [],
   "source": [
    "#### load the dataset and print no. of rows and columns \n",
    "\n",
    "# your code here\n",
    "raise NotImplementedError\n",
    "\n",
    "df.head()"
   ]
  },
  {
   "cell_type": "code",
   "execution_count": null,
   "id": "10270e4a",
   "metadata": {
    "deletable": false,
    "editable": false,
    "nbgrader": {
     "cell_type": "code",
     "checksum": "8e8b85834b391feba76d8f441c9733f0",
     "grade": true,
     "grade_id": "cell-0730a47d9b9ab17b",
     "locked": true,
     "points": 3,
     "schema_version": 3,
     "solution": false,
     "task": false
    }
   },
   "outputs": [],
   "source": []
  },
  {
   "cell_type": "code",
   "execution_count": null,
   "id": "d928c7ce",
   "metadata": {
    "deletable": false,
    "editable": false,
    "nbgrader": {
     "cell_type": "code",
     "checksum": "dedc189f30e00cacb7209c6e38c0ad8b",
     "grade": false,
     "grade_id": "cell-4322c7fa315ca6ad",
     "locked": true,
     "schema_version": 3,
     "solution": false,
     "task": false
    }
   },
   "outputs": [],
   "source": [
    "# Displaying the columns in the dataset\n",
    "df.columns"
   ]
  },
  {
   "cell_type": "markdown",
   "id": "5e3e5e18",
   "metadata": {
    "deletable": false,
    "editable": false,
    "nbgrader": {
     "cell_type": "markdown",
     "checksum": "b81da87c38276bc8b54fedeb2b2e2edc",
     "grade": false,
     "grade_id": "cell-e6e996f33186eae2",
     "locked": true,
     "schema_version": 3,
     "solution": false,
     "task": false
    }
   },
   "source": [
    "## Separate the independent and dependent features in 'X' and 'y' respectively"
   ]
  },
  {
   "cell_type": "code",
   "execution_count": null,
   "id": "b64d72c6",
   "metadata": {
    "deletable": false,
    "nbgrader": {
     "cell_type": "code",
     "checksum": "1bf7604ba423b1ae8cd88f4a2eebfe44",
     "grade": false,
     "grade_id": "cell-c0f74bad2221ca04",
     "locked": false,
     "schema_version": 3,
     "solution": true,
     "task": false
    }
   },
   "outputs": [],
   "source": [
    "# your code here\n",
    "raise NotImplementedError"
   ]
  },
  {
   "cell_type": "code",
   "execution_count": null,
   "id": "7e553a1b",
   "metadata": {
    "deletable": false,
    "editable": false,
    "nbgrader": {
     "cell_type": "code",
     "checksum": "4888fb6736418034bde0486ce3d03cb5",
     "grade": true,
     "grade_id": "cell-ea5fc78e152a43d9",
     "locked": true,
     "points": 3,
     "schema_version": 3,
     "solution": false,
     "task": false
    }
   },
   "outputs": [],
   "source": []
  },
  {
   "cell_type": "markdown",
   "id": "95ecff1f",
   "metadata": {
    "deletable": false,
    "editable": false,
    "nbgrader": {
     "cell_type": "markdown",
     "checksum": "5475ff31c17e4acc9e391e282fdab85d",
     "grade": false,
     "grade_id": "cell-27243c4b5374615c",
     "locked": true,
     "schema_version": 3,
     "solution": false,
     "task": false
    }
   },
   "source": [
    "# Splitting the data"
   ]
  },
  {
   "cell_type": "code",
   "execution_count": null,
   "id": "62066d4f",
   "metadata": {
    "deletable": false,
    "nbgrader": {
     "cell_type": "code",
     "checksum": "2676daa6ed5b333d53ef2647c5d24ac5",
     "grade": false,
     "grade_id": "cell-da6dc1c26ee15a7f",
     "locked": false,
     "schema_version": 3,
     "solution": true,
     "task": false
    }
   },
   "outputs": [],
   "source": [
    "#splitting of df to training and testing with 0.25 as Test size \n",
    "# your code here\n",
    "raise NotImplementedError"
   ]
  },
  {
   "cell_type": "code",
   "execution_count": null,
   "id": "ff1254fc",
   "metadata": {
    "deletable": false,
    "editable": false,
    "nbgrader": {
     "cell_type": "code",
     "checksum": "17f6eadd565c6d5e02c815f1a7cd1c46",
     "grade": true,
     "grade_id": "cell-3d8214cc04f79635",
     "locked": true,
     "points": 3,
     "schema_version": 3,
     "solution": false,
     "task": false
    }
   },
   "outputs": [],
   "source": []
  },
  {
   "cell_type": "markdown",
   "id": "ba847f24",
   "metadata": {
    "deletable": false,
    "editable": false,
    "nbgrader": {
     "cell_type": "markdown",
     "checksum": "b3322044cf360cc63a977202102bcd6f",
     "grade": false,
     "grade_id": "cell-775d30f9f0e33ddd",
     "locked": true,
     "schema_version": 3,
     "solution": false,
     "task": false
    }
   },
   "source": [
    "# Create base estimator"
   ]
  },
  {
   "cell_type": "code",
   "execution_count": null,
   "id": "e3b537b4",
   "metadata": {
    "deletable": false,
    "nbgrader": {
     "cell_type": "code",
     "checksum": "f1504eebc3bf52789e6f9ca73e61c755",
     "grade": false,
     "grade_id": "cell-8bb88e75b141b263",
     "locked": false,
     "schema_version": 3,
     "solution": true,
     "task": false
    }
   },
   "outputs": [],
   "source": [
    "from sklearn.ensemble import RandomForestClassifier, GradientBoostingClassifier, StackingClassifier\n",
    "from sklearn.neighbors import KNeighborsClassifier\n",
    "from sklearn.pipeline import make_pipeline\n",
    "from sklearn.preprocessing import StandardScaler\n",
    "\n",
    "# Define base estimators\n",
    "# Create a list of estimators which stores the dictionary with 3 classifiers 1.random forest 2. knn 3. gradientboosting\n",
    "# example : {<nameofmodel> : model}\n",
    "# keep seed 42 in  all cases \n",
    "# 1.create random forest classifier with depth 20, 61 tress , min leaf 10\n",
    "# 2. Knn classifier with 5 n_neighbors\n",
    "# 3. GradientBoosting classifier with 400 trees, lr 0.3 and depth 10\n",
    "# your code here\n",
    "raise NotImplementedError"
   ]
  },
  {
   "cell_type": "markdown",
   "id": "974ce60a",
   "metadata": {
    "deletable": false,
    "editable": false,
    "nbgrader": {
     "cell_type": "markdown",
     "checksum": "a022177c07d0218018c0253b928b24b9",
     "grade": false,
     "grade_id": "cell-298d27e8f7dce17f",
     "locked": true,
     "schema_version": 3,
     "solution": false,
     "task": false
    }
   },
   "source": [
    "The next step is to is to perform cross-validation and return predictions made on each of the folds on the training data. Here, we will store the results in an array and owing to this, we have to import the numpy library too. "
   ]
  },
  {
   "cell_type": "code",
   "execution_count": null,
   "id": "b1ffce63",
   "metadata": {
    "deletable": false,
    "nbgrader": {
     "cell_type": "code",
     "checksum": "d9d872d03e134a1aebaa1ac08e386174",
     "grade": false,
     "grade_id": "cell-9a832fd061585dbe",
     "locked": false,
     "schema_version": 3,
     "solution": true,
     "task": false
    }
   },
   "outputs": [],
   "source": [
    "# Generate out-of-fold predictions for each base model using cross-validation on training data.\n",
    "# since its a binary classification, store probablity of 1 in the array and not 0 and stack them.\n",
    "\n",
    "# your code here\n",
    "raise NotImplementedError\n"
   ]
  },
  {
   "cell_type": "code",
   "execution_count": null,
   "id": "3fada88e",
   "metadata": {
    "deletable": false,
    "nbgrader": {
     "cell_type": "code",
     "checksum": "f227b491a8ddafb70b879348a4a065d1",
     "grade": false,
     "grade_id": "cell-8f972236fa3c5098",
     "locked": false,
     "schema_version": 3,
     "solution": true,
     "task": false
    }
   },
   "outputs": [],
   "source": [
    "# your code here\n",
    "raise NotImplementedError"
   ]
  },
  {
   "cell_type": "code",
   "execution_count": null,
   "id": "3a9973fd",
   "metadata": {
    "deletable": false,
    "editable": false,
    "nbgrader": {
     "cell_type": "code",
     "checksum": "6ebfe880af623bd40777b6a1312f715e",
     "grade": false,
     "grade_id": "cell-0e86a986c3c2ea11",
     "locked": true,
     "schema_version": 3,
     "solution": false,
     "task": false
    }
   },
   "outputs": [],
   "source": [
    "X_test_meta.shape"
   ]
  },
  {
   "cell_type": "markdown",
   "id": "2c39d88f",
   "metadata": {
    "deletable": false,
    "editable": false,
    "nbgrader": {
     "cell_type": "markdown",
     "checksum": "2664a5a22dcc6fb194c1a13f9195ad93",
     "grade": false,
     "grade_id": "cell-b302112ff1efcee3",
     "locked": true,
     "schema_version": 3,
     "solution": false,
     "task": false
    }
   },
   "source": [
    "Here we have performed cross-validation on multiple base models to generate out-of-fold probability predictions for each instance in the training dataset. These predictions are then compiled into a new feature set called meta-features, which will be used for training a meta-model in a stacking ensemble, leveraging the combined strengths of each base model."
   ]
  },
  {
   "cell_type": "markdown",
   "id": "f16d2551",
   "metadata": {
    "deletable": false,
    "editable": false,
    "nbgrader": {
     "cell_type": "markdown",
     "checksum": "30bb56d5ea8f3ae279ff94120021efea",
     "grade": false,
     "grade_id": "cell-bd4ff51db22f21e2",
     "locked": true,
     "schema_version": 3,
     "solution": false,
     "task": false
    }
   },
   "source": [
    "Hence we've created a meta features dataset which will be used to train the meta model. Let me first show you how it's done followed by which i shall help you understand the code."
   ]
  },
  {
   "cell_type": "markdown",
   "id": "444f80e8",
   "metadata": {
    "deletable": false,
    "editable": false,
    "nbgrader": {
     "cell_type": "markdown",
     "checksum": "ac5886ced5678499e1665131a9e539cb",
     "grade": false,
     "grade_id": "cell-2ef9bb1dfec763a7",
     "locked": true,
     "schema_version": 3,
     "solution": false,
     "task": false
    }
   },
   "source": [
    "So let's go ahead and train the meta model. In this case we are going to use a logistic regression model"
   ]
  },
  {
   "cell_type": "markdown",
   "id": "adab6481",
   "metadata": {
    "deletable": false,
    "editable": false,
    "nbgrader": {
     "cell_type": "markdown",
     "checksum": "6f569b55c79841e27ff9ed57203490d7",
     "grade": false,
     "grade_id": "cell-5eb2b742850dfd78",
     "locked": true,
     "schema_version": 3,
     "solution": false,
     "task": false
    }
   },
   "source": [
    "## Make final predictions using the meta model(Logistic Regression)"
   ]
  },
  {
   "cell_type": "code",
   "execution_count": null,
   "id": "41e51d38",
   "metadata": {
    "deletable": false,
    "editable": false,
    "nbgrader": {
     "cell_type": "code",
     "checksum": "d303737a782cb5cdd7830083703813e3",
     "grade": false,
     "grade_id": "cell-4eee48ed8edd7480",
     "locked": true,
     "schema_version": 3,
     "solution": false,
     "task": false
    }
   },
   "outputs": [],
   "source": [
    "from sklearn.linear_model import LogisticRegression\n",
    "\n",
    "# Train meta-model (Logistic Regression) on the out-of-fold predictions\n",
    "meta_model = LogisticRegression()\n",
    "meta_model.fit(X_train_meta, y_train)"
   ]
  },
  {
   "cell_type": "code",
   "execution_count": null,
   "id": "6a1f2879",
   "metadata": {
    "deletable": false,
    "editable": false,
    "nbgrader": {
     "cell_type": "code",
     "checksum": "4b0877a8fc6621ef754cb329f1f69ce9",
     "grade": false,
     "grade_id": "cell-d4df287a51dc9721",
     "locked": true,
     "schema_version": 3,
     "solution": false,
     "task": false
    }
   },
   "outputs": [],
   "source": [
    "from sklearn.metrics import f1_score\n",
    "y_pred_train = meta_model.predict(X_train_meta)\n",
    "\n",
    "# Calculate and print F1 score for the validation data\n",
    "f1 = f1_score(y_train, y_pred_train)\n",
    "print(f\"F1 Score for train Data: {f1}\")\n"
   ]
  },
  {
   "cell_type": "markdown",
   "id": "230119dc",
   "metadata": {
    "deletable": false,
    "editable": false,
    "nbgrader": {
     "cell_type": "markdown",
     "checksum": "96eb147f3b2e667f33d28c95d887658e",
     "grade": false,
     "grade_id": "cell-1c4b78f900fa089c",
     "locked": true,
     "schema_version": 3,
     "solution": false,
     "task": false
    }
   },
   "source": [
    "With that, let's go ahead and make predictions on validation and test data followed by which we shall take a look at their f1 scores"
   ]
  },
  {
   "cell_type": "code",
   "execution_count": null,
   "id": "fa34a6f7",
   "metadata": {
    "deletable": false,
    "editable": false,
    "nbgrader": {
     "cell_type": "code",
     "checksum": "4f18a5c01ff3eb095d86c58eb3962aaf",
     "grade": false,
     "grade_id": "cell-acb07a6e25ff6fc2",
     "locked": true,
     "schema_version": 3,
     "solution": false,
     "task": false
    }
   },
   "outputs": [],
   "source": [
    "from sklearn.metrics import f1_score\n",
    "\n",
    "# Predictions on validation and test data using the meta-model\n",
    "y_pred_test = meta_model.predict(X_test_meta)\n",
    "\n",
    "# Calculate and print F1 score for the test data\n",
    "f1 = f1_score(y_test, y_pred_test)\n",
    "print(f\"F1 Score for Test Data: {f1}\")"
   ]
  }
 ],
 "metadata": {
  "kernelspec": {
   "display_name": "Python 3 (ipykernel)",
   "language": "python",
   "name": "python3"
  },
  "language_info": {
   "codemirror_mode": {
    "name": "ipython",
    "version": 3
   },
   "file_extension": ".py",
   "mimetype": "text/x-python",
   "name": "python",
   "nbconvert_exporter": "python",
   "pygments_lexer": "ipython3",
   "version": "3.10.6"
  }
 },
 "nbformat": 4,
 "nbformat_minor": 5
}
