{
 "cells": [
  {
   "cell_type": "markdown",
   "id": "b9fc0723",
   "metadata": {
    "deletable": false,
    "editable": false,
    "nbgrader": {
     "cell_type": "markdown",
     "checksum": "ac80f0fe2ff47fbdbbb7a4d9a0c151ae",
     "grade": false,
     "grade_id": "cell-a2e429c0dd8172c4",
     "locked": true,
     "schema_version": 3,
     "solution": false,
     "task": false
    }
   },
   "source": [
    "# PROBLEM STATEMENT \n",
    "\n",
    "Dataset contains daily weather observations of Australian weather stations, and your goal is to predict whether it will rain tomorrow based on the data. The target variable you want to predict is \"RainTomorrow,\" which is a binary variable with two possible values: \"Yes\" or \"No.\"\n",
    "\n",
    "In this context, \"RainTomorrow\" is set to \"Yes\" if the amount of rain recorded for the current day is 1mm or more, indicating that it rained that day. If the recorded rainfall is less than 1mm, \"RainTomorrow\" is set to \"No,\" indicating that it did not rain that day.\n",
    "\n",
    "- The aim of this is to test the chances of raining in australia Yes or No"
   ]
  },
  {
   "cell_type": "markdown",
   "id": "6dc85bf7",
   "metadata": {
    "deletable": false,
    "editable": false,
    "nbgrader": {
     "cell_type": "markdown",
     "checksum": "1f9aa8b1a941cb6aab5bf3ad85aba41d",
     "grade": false,
     "grade_id": "cell-c543edc572182fd7",
     "locked": true,
     "schema_version": 3,
     "solution": false,
     "task": false
    }
   },
   "source": [
    "# OVERVIEW \n",
    "\n",
    "The dataset weatherAUS.csv contains 40000 rows and 23 columns to weather observations in Australia. Here's an explanation of each column:\n",
    "\n",
    "- Date: The date of the observation.\n",
    "- Location: The location where the weather data was recorded.\n",
    "- MinTemp: The minimum temperature in degrees Celsius.\n",
    "- MaxTemp: The maximum temperature in degrees Celsius.\n",
    "- Rainfall: The amount of rainfall recorded for the day in millimeters.\n",
    "- Evaporation: The so-called Class A pan evaporation (in millimeters) in the 24 hours to 9am.\n",
    "- Sunshine: The number of hours of bright sunshine in the day.\n",
    "- WindGustDir: The direction of the strongest wind gust in the 24 hours to midnight.\n",
    "- WindGustSpeed: The speed (in km/h) of the strongest wind gust in the 24 hours to midnight.\n",
    "- WindDir9am: Direction of the wind at 9am.\n",
    "- WindDir3pm: Direction of the wind at 3pm.\n",
    "- WindSpeed9am: Wind speed (in km/h) averaged over 10 minutes prior to 9am.\n",
    "- WindSpeed3pm: Wind speed (in km/h) averaged over 10 minutes prior to 3pm.\n",
    "- Humidity9am: Humidity (percent) at 9am.\n",
    "- Humidity3pm: Humidity (percent) at 3pm.\n",
    "- Pressure9am: Atmospheric pressure (hpa) reduced to mean sea level at 9am.\n",
    "- Pressure3pm: Atmospheric pressure (hpa) reduced to mean sea level at 3pm.\n",
    "- Cloud9am: Fraction of sky obscured by cloud at 9am. This is measured in \"oktas,\" which are a unit of eighths. It records how many eighths of the sky are obscured by cloud.\n",
    "- Cloud3pm: Fraction of sky obscured by cloud at 3pm. Similar to Cloud9am.\n",
    "- Temp9am: Temperature (degrees Celsius) at 9am.\n",
    "- Temp3pm: Temperature (degrees Celsius) at 3pm.\n",
    "- RainToday: Indicates if it has rained. Yes if precipitation (mm) in the 24 hours to 9am exceeds 1mm, otherwise No.\n",
    "- RainTomorrow: The target variable. Indicates if it will rain tomorrow. Yes or No.\n",
    "\n",
    "These columns provide comprehensive information about daily weather conditions, useful for various analyses including weather forecasting, climate studies, and understanding local weather patterns. \n",
    "\n",
    "\n",
    "\n",
    "\n",
    "\n",
    "\n",
    "\n",
    "\n",
    "\n",
    "\n",
    "\n",
    "There is a date variable. It is denoted by Date column.\n",
    "There are 6 categorical variables. These are given by Location, WindGustDir, WindDir9am, WindDir3pm, RainToday and RainTomorrow.\n",
    "There are two binary categorical variables - RainToday and RainTomorrow.\n",
    "RainTomorrow is the target variable.\n"
   ]
  },
  {
   "cell_type": "markdown",
   "id": "6ff6652b",
   "metadata": {
    "deletable": false,
    "editable": false,
    "nbgrader": {
     "cell_type": "markdown",
     "checksum": "a727d8e370356ae16a3e06679278b5fc",
     "grade": false,
     "grade_id": "cell-70add9ddbf8dce46",
     "locked": true,
     "schema_version": 3,
     "solution": false,
     "task": false
    }
   },
   "source": [
    "## ------------------------------------------------------------------------------------"
   ]
  },
  {
   "cell_type": "markdown",
   "id": "3553f467",
   "metadata": {
    "deletable": false,
    "editable": false,
    "nbgrader": {
     "cell_type": "markdown",
     "checksum": "909874d6a78f9254aa406f180c8f9ed5",
     "grade": false,
     "grade_id": "cell-224313fde5da2d11",
     "locked": true,
     "schema_version": 3,
     "solution": false,
     "task": false
    }
   },
   "source": [
    "## Guidelines to follow in this notebook \n",
    "- The name of the main dataframe should be df \n",
    "- Keep the seed value 42\n",
    "- Names of training and testing variables should be X_train, X_test, y_train, y_test\n",
    "- Keep the name of model instance as \"model\", e.g. model = DecisionTreeClassifer()\n",
    "- Keep the predictions on training and testing data in a variable named y_train_pred and y_test_pred respectively."
   ]
  },
  {
   "cell_type": "markdown",
   "id": "b9a001cb",
   "metadata": {
    "deletable": false,
    "editable": false,
    "nbgrader": {
     "cell_type": "markdown",
     "checksum": "2ed97d18bf42427ea11cba1feece0d59",
     "grade": false,
     "grade_id": "cell-cee2c4c7d03bb2b4",
     "locked": true,
     "schema_version": 3,
     "solution": false,
     "task": false
    }
   },
   "source": [
    "## ------------------------------------------------------------------------------------"
   ]
  },
  {
   "cell_type": "markdown",
   "id": "21140ca2",
   "metadata": {
    "deletable": false,
    "editable": false,
    "nbgrader": {
     "cell_type": "markdown",
     "checksum": "0e74698acd69a335ceefb56c52924dca",
     "grade": false,
     "grade_id": "cell-b95b174637a109cb",
     "locked": true,
     "schema_version": 3,
     "solution": false,
     "task": false
    }
   },
   "source": [
    "## Import Libraries \n",
    "#### Lets begin by importing necessary data libraries "
   ]
  },
  {
   "cell_type": "code",
   "execution_count": null,
   "id": "ab523a76",
   "metadata": {
    "deletable": false,
    "editable": false,
    "nbgrader": {
     "cell_type": "code",
     "checksum": "588b537efae3a1bdbfc34b11a1c7e444",
     "grade": false,
     "grade_id": "cell-2f26a2e40a148bd6",
     "locked": true,
     "schema_version": 3,
     "solution": false,
     "task": false
    }
   },
   "outputs": [],
   "source": [
    "#import the relevant libraries\n",
    "import pandas as pd\n",
    "import numpy as np\n",
    "import matplotlib.pyplot as plt\n",
    "import seaborn as sns\n",
    "from pandas.api.types import is_numeric_dtype\n",
    "from sklearn.metrics import f1_score\n",
    "from pandas.api.types import is_string_dtype\n",
    "from pandas.api.types import is_numeric_dtype"
   ]
  },
  {
   "cell_type": "markdown",
   "id": "a9a09a8e",
   "metadata": {
    "deletable": false,
    "editable": false,
    "nbgrader": {
     "cell_type": "markdown",
     "checksum": "a8d30cc2215bf197dba4641a2ed0af15",
     "grade": false,
     "grade_id": "cell-02ca473b61b4a17e",
     "locked": true,
     "schema_version": 3,
     "solution": false,
     "task": false
    }
   },
   "source": [
    "## Load the dataset"
   ]
  },
  {
   "cell_type": "code",
   "execution_count": null,
   "id": "a6dc34f1",
   "metadata": {
    "deletable": false,
    "nbgrader": {
     "cell_type": "code",
     "checksum": "3ae6c86a491aa6b2161a15addaa8f7d4",
     "grade": false,
     "grade_id": "cell-43019a3b65b7422b",
     "locked": false,
     "schema_version": 3,
     "solution": true,
     "task": false
    }
   },
   "outputs": [],
   "source": [
    "### load the dataset and print no. of rows and columns \n",
    "# your code here\n",
    "raise NotImplementedError"
   ]
  },
  {
   "cell_type": "code",
   "execution_count": null,
   "id": "8b2b2572",
   "metadata": {
    "deletable": false,
    "editable": false,
    "nbgrader": {
     "cell_type": "code",
     "checksum": "e636498fa26d045ae16955c9f4a694ab",
     "grade": true,
     "grade_id": "cell-6d7f024cb5b20c46",
     "locked": true,
     "points": 2,
     "schema_version": 3,
     "solution": false,
     "task": false
    }
   },
   "outputs": [],
   "source": []
  },
  {
   "cell_type": "code",
   "execution_count": null,
   "id": "4a725132",
   "metadata": {
    "deletable": false,
    "editable": false,
    "nbgrader": {
     "cell_type": "code",
     "checksum": "6d3b7644b23a2ceea89a0c42757d56d4",
     "grade": false,
     "grade_id": "cell-e84967593891886c",
     "locked": true,
     "schema_version": 3,
     "solution": false,
     "task": false
    }
   },
   "outputs": [],
   "source": [
    "# Display the first few rows of the dataset \n",
    "df.head()"
   ]
  },
  {
   "cell_type": "code",
   "execution_count": null,
   "id": "17feeb60",
   "metadata": {
    "deletable": false,
    "editable": false,
    "nbgrader": {
     "cell_type": "code",
     "checksum": "ee00463cf74cc2f917e1737c84d12497",
     "grade": false,
     "grade_id": "cell-633ab191146ba030",
     "locked": true,
     "schema_version": 3,
     "solution": false,
     "task": false
    }
   },
   "outputs": [],
   "source": [
    "# Checking the null values in the dataset\n",
    "df.isna().sum()"
   ]
  },
  {
   "cell_type": "code",
   "execution_count": null,
   "id": "52fdf31a",
   "metadata": {
    "deletable": false,
    "editable": false,
    "nbgrader": {
     "cell_type": "code",
     "checksum": "0fbedc7cf354da0a04ee1ee4a8b7c03e",
     "grade": false,
     "grade_id": "cell-1f1ccffa75649741",
     "locked": true,
     "schema_version": 3,
     "solution": false,
     "task": false
    }
   },
   "outputs": [],
   "source": [
    "# Storing the  numerical columns in a list which will be used later while training the model\n",
    "numerical = [var for var in df.columns if df[var].dtype!='O']\n",
    "print('There are {} numerical variables\\n'.format(len(numerical)))\n",
    "print('The numerical variables are :', numerical)"
   ]
  },
  {
   "cell_type": "markdown",
   "id": "68d296c5",
   "metadata": {
    "deletable": false,
    "editable": false,
    "nbgrader": {
     "cell_type": "markdown",
     "checksum": "f753b584f47ce8949235c576b95c083b",
     "grade": false,
     "grade_id": "cell-24ea781d007f1fc1",
     "locked": true,
     "schema_version": 3,
     "solution": false,
     "task": false
    }
   },
   "source": [
    "# FEATURE GENERATION "
   ]
  },
  {
   "cell_type": "markdown",
   "id": "9934d893",
   "metadata": {
    "deletable": false,
    "editable": false,
    "nbgrader": {
     "cell_type": "markdown",
     "checksum": "d2815b9b39e74e2c175c5d58fddb024e",
     "grade": false,
     "grade_id": "cell-77a6609024581d6f",
     "locked": true,
     "schema_version": 3,
     "solution": false,
     "task": false
    }
   },
   "source": [
    "- Now we will create new features using the features available to us in the dataset "
   ]
  },
  {
   "cell_type": "markdown",
   "id": "d4133b7b",
   "metadata": {
    "deletable": false,
    "editable": false,
    "nbgrader": {
     "cell_type": "markdown",
     "checksum": "62617a0e50010d2b7d1854deb776abf8",
     "grade": false,
     "grade_id": "cell-b41843a5911e5f42",
     "locked": true,
     "schema_version": 3,
     "solution": false,
     "task": false
    }
   },
   "source": [
    "## First we will work on the column 'Date'"
   ]
  },
  {
   "cell_type": "code",
   "execution_count": null,
   "id": "55cb91e2",
   "metadata": {
    "deletable": false,
    "nbgrader": {
     "cell_type": "code",
     "checksum": "1e6ddb9fda0a76d5a39b116d1e699650",
     "grade": false,
     "grade_id": "cell-26a57fabadeae8c6",
     "locked": false,
     "schema_version": 3,
     "solution": true,
     "task": false
    }
   },
   "outputs": [],
   "source": [
    "# change the datatype of Column \"Date\" from  object to datetime\n",
    "# your code here\n",
    "raise NotImplementedError\n"
   ]
  },
  {
   "cell_type": "markdown",
   "id": "2d1908b0",
   "metadata": {
    "deletable": false,
    "editable": false,
    "nbgrader": {
     "cell_type": "markdown",
     "checksum": "7e37a481897a9f52ff947ca3197e4b48",
     "grade": false,
     "grade_id": "cell-0668012ea2e091ec",
     "locked": true,
     "schema_version": 3,
     "solution": false,
     "task": false
    }
   },
   "source": [
    "- Create three columns using the column 'Date' : day, month and year "
   ]
  },
  {
   "cell_type": "code",
   "execution_count": null,
   "id": "206f2336",
   "metadata": {
    "deletable": false,
    "nbgrader": {
     "cell_type": "code",
     "checksum": "e987ec10cd11d6c32e125e106e84686c",
     "grade": false,
     "grade_id": "cell-340ca8434b759216",
     "locked": false,
     "schema_version": 3,
     "solution": true,
     "task": false
    }
   },
   "outputs": [],
   "source": [
    "# extract year from date\n",
    "# your code here\n",
    "raise NotImplementedError"
   ]
  },
  {
   "cell_type": "code",
   "execution_count": null,
   "id": "b3940597",
   "metadata": {
    "deletable": false,
    "editable": false,
    "nbgrader": {
     "cell_type": "code",
     "checksum": "0ba79aaaccefba735414b243d1a9840b",
     "grade": true,
     "grade_id": "cell-5041d8260a23604e",
     "locked": true,
     "points": 2,
     "schema_version": 3,
     "solution": false,
     "task": false
    }
   },
   "outputs": [],
   "source": []
  },
  {
   "cell_type": "code",
   "execution_count": null,
   "id": "30f62845",
   "metadata": {
    "deletable": false,
    "nbgrader": {
     "cell_type": "code",
     "checksum": "f70b11140175fc6de290a8aa8513a6eb",
     "grade": false,
     "grade_id": "cell-70042f0d925d18bf",
     "locked": false,
     "schema_version": 3,
     "solution": true,
     "task": false
    }
   },
   "outputs": [],
   "source": [
    "# your code here\n",
    "raise NotImplementedError"
   ]
  },
  {
   "cell_type": "code",
   "execution_count": null,
   "id": "17647b55",
   "metadata": {
    "deletable": false,
    "editable": false,
    "nbgrader": {
     "cell_type": "code",
     "checksum": "236695e2b598206d2d3ac71ae52234eb",
     "grade": true,
     "grade_id": "cell-2b3bd3e398271bf0",
     "locked": true,
     "points": 2,
     "schema_version": 3,
     "solution": false,
     "task": false
    }
   },
   "outputs": [],
   "source": []
  },
  {
   "cell_type": "code",
   "execution_count": null,
   "id": "9ef2a5fc",
   "metadata": {
    "deletable": false,
    "editable": false,
    "nbgrader": {
     "cell_type": "code",
     "checksum": "840e2efaab38e1c115d4e8deb6651e86",
     "grade": false,
     "grade_id": "cell-35a8ec997df335bf",
     "locked": true,
     "schema_version": 3,
     "solution": false,
     "task": false
    }
   },
   "outputs": [],
   "source": [
    "# extract day from date\n",
    "df['Day'] = df['Date'].dt.day\n",
    "df['Day'].min()"
   ]
  },
  {
   "cell_type": "code",
   "execution_count": null,
   "id": "042db670",
   "metadata": {
    "deletable": false,
    "editable": false,
    "nbgrader": {
     "cell_type": "code",
     "checksum": "162a6d19fd37a2438adec395289fae0b",
     "grade": true,
     "grade_id": "cell-fa096d2b9c01717a",
     "locked": true,
     "points": 0,
     "schema_version": 3,
     "solution": false,
     "task": false
    }
   },
   "outputs": [],
   "source": []
  },
  {
   "cell_type": "code",
   "execution_count": null,
   "id": "0425d663",
   "metadata": {
    "deletable": false,
    "nbgrader": {
     "cell_type": "code",
     "checksum": "9f6e4832d02fa6ef6156fbecf1bef656",
     "grade": false,
     "grade_id": "cell-4e5d3be83c59e92d",
     "locked": false,
     "schema_version": 3,
     "solution": true,
     "task": false
    }
   },
   "outputs": [],
   "source": [
    "# Drop the column Date as we have already created 3 columns using the column Date\n",
    "# your code here\n",
    "raise NotImplementedError"
   ]
  },
  {
   "cell_type": "markdown",
   "id": "74ef94b2",
   "metadata": {
    "deletable": false,
    "editable": false,
    "nbgrader": {
     "cell_type": "markdown",
     "checksum": "78a73502d8acd3112ed5983f8c621d81",
     "grade": false,
     "grade_id": "cell-677758b496c4d418",
     "locked": true,
     "schema_version": 3,
     "solution": false,
     "task": false
    }
   },
   "source": [
    "- Here Using the Column 'Date', we created three new features and will have to drop the parent column (DATE) as it may lead to collinearity in data"
   ]
  },
  {
   "cell_type": "code",
   "execution_count": null,
   "id": "3d50e4c5",
   "metadata": {
    "deletable": false,
    "editable": false,
    "nbgrader": {
     "cell_type": "code",
     "checksum": "f9d1cf2d3750e4b8381974ab7fae72d7",
     "grade": true,
     "grade_id": "cell-ce06b5c5636d3d33",
     "locked": true,
     "points": 2,
     "schema_version": 3,
     "solution": false,
     "task": false
    }
   },
   "outputs": [],
   "source": []
  },
  {
   "cell_type": "markdown",
   "id": "931babf6",
   "metadata": {
    "deletable": false,
    "editable": false,
    "nbgrader": {
     "cell_type": "markdown",
     "checksum": "526811f961626322871704cf02505b53",
     "grade": false,
     "grade_id": "cell-7dbd724c3a4e19cc",
     "locked": true,
     "schema_version": 3,
     "solution": false,
     "task": false
    }
   },
   "source": [
    "### We can look at the correlation matrix and see if we can create other features  "
   ]
  },
  {
   "cell_type": "code",
   "execution_count": null,
   "id": "f40f4ce0",
   "metadata": {
    "deletable": false,
    "editable": false,
    "nbgrader": {
     "cell_type": "code",
     "checksum": "f92f3519ecc5b9d28a90df0dc2cb6330",
     "grade": false,
     "grade_id": "cell-4c9a44c08d3b8ab1",
     "locked": true,
     "schema_version": 3,
     "solution": false,
     "task": false
    }
   },
   "outputs": [],
   "source": [
    "# Using the corr function to check the correlation matrix\n",
    "df[numerical].corr()"
   ]
  },
  {
   "cell_type": "code",
   "execution_count": null,
   "id": "193c245a",
   "metadata": {
    "deletable": false,
    "editable": false,
    "nbgrader": {
     "cell_type": "code",
     "checksum": "cb71a27be3374bc15432bfca8b59d5b5",
     "grade": false,
     "grade_id": "cell-c5e35cb8e569af5e",
     "locked": true,
     "schema_version": 3,
     "solution": false,
     "task": false
    }
   },
   "outputs": [],
   "source": [
    "# create a correlation heat map for numerical columns \n",
    "# Plotting the correlation matrix\n",
    "plt.figure(figsize=(10, 8))\n",
    "sns.heatmap(df[numerical].corr(), annot=True, fmt=\".2f\", cmap='coolwarm')\n",
    "plt.title(\"Correlation Matrix of Weather Features\")\n",
    "plt.show()"
   ]
  },
  {
   "cell_type": "markdown",
   "id": "a753f02a",
   "metadata": {
    "deletable": false,
    "editable": false,
    "nbgrader": {
     "cell_type": "markdown",
     "checksum": "c66e15bb750d82eee9f9949bb1786e8e",
     "grade": false,
     "grade_id": "cell-e114feebb32a8c99",
     "locked": true,
     "schema_version": 3,
     "solution": false,
     "task": false
    }
   },
   "source": [
    "As per the correlation plot and Based on its analysis, \n",
    "the creation of features like TempRange, PressureChange, AverageHumidity, and \n",
    "WindSpeedDiff seems justified, as they capture the variations and averages of these \n",
    "correlated measures throughout the day as per the dataset. \n"
   ]
  },
  {
   "cell_type": "code",
   "execution_count": null,
   "id": "6be1c0a9",
   "metadata": {
    "deletable": false,
    "editable": false,
    "nbgrader": {
     "cell_type": "code",
     "checksum": "03da1da72fb79fba62abcb4e2ab778be",
     "grade": false,
     "grade_id": "cell-60f8cd09d86bf4f5",
     "locked": true,
     "schema_version": 3,
     "solution": false,
     "task": false
    }
   },
   "outputs": [],
   "source": [
    "df['TempRange'] = df['MaxTemp'] - df['MinTemp']\n",
    "df['PressureChange'] = df['Pressure9am'] - df['Pressure3pm']\n",
    "df['AverageHumidity'] = (df['Humidity9am'] + df['Humidity3pm']) / 2\n",
    "df['WindSpeedDiff'] = df['WindGustSpeed'] - ((df['WindSpeed9am'] + df['WindSpeed3pm']) / 2)"
   ]
  },
  {
   "cell_type": "code",
   "execution_count": null,
   "id": "6ae259e9",
   "metadata": {
    "deletable": false,
    "editable": false,
    "nbgrader": {
     "cell_type": "code",
     "checksum": "d26a0b257a66a335ed6024a051adee63",
     "grade": false,
     "grade_id": "cell-c57a3a1142c58ff0",
     "locked": true,
     "schema_version": 3,
     "solution": false,
     "task": false
    }
   },
   "outputs": [],
   "source": [
    "# Find categorical variables \n",
    "# List the names of the features which are categorical(string) which needs to be processed -either encoding or mapping.\n",
    "\n",
    "categorical=[]\n",
    "cols_types = zip(list(df.columns), list(df.dtypes))\n",
    "\n",
    "for i in cols_types:\n",
    "    if is_string_dtype(df[i[0]].dtype):\n",
    "        categorical.append(i[0])"
   ]
  },
  {
   "cell_type": "markdown",
   "id": "51c9806f",
   "metadata": {
    "deletable": false,
    "editable": false,
    "nbgrader": {
     "cell_type": "markdown",
     "checksum": "09eae9e726396b4c68267d19a5e308b8",
     "grade": false,
     "grade_id": "cell-8e83f1d1ec7a154c",
     "locked": true,
     "schema_version": 3,
     "solution": false,
     "task": false
    }
   },
   "source": [
    "### ENCODING CATEGORICAL VARIABLES "
   ]
  },
  {
   "cell_type": "code",
   "execution_count": null,
   "id": "5df8dc8d",
   "metadata": {
    "deletable": false,
    "editable": false,
    "nbgrader": {
     "cell_type": "code",
     "checksum": "958cb41f7f6feddd0364ca3c55eddaf7",
     "grade": false,
     "grade_id": "cell-8c5834cf12221c40",
     "locked": true,
     "schema_version": 3,
     "solution": false,
     "task": false
    }
   },
   "outputs": [],
   "source": [
    "#lets check the unique values counts in the categorical variables \n",
    "for i in categorical[1:]: \n",
    "    print(i , df[i].nunique())"
   ]
  },
  {
   "cell_type": "markdown",
   "id": "1c377a87",
   "metadata": {
    "deletable": false,
    "editable": false,
    "nbgrader": {
     "cell_type": "markdown",
     "checksum": "42c145ec6ea9120c5a6644902ca53d38",
     "grade": false,
     "grade_id": "cell-d93f0139b32a7628",
     "locked": true,
     "schema_version": 3,
     "solution": false,
     "task": false
    }
   },
   "source": [
    "## Remove 'Date' from categorical columns if present."
   ]
  },
  {
   "cell_type": "code",
   "execution_count": null,
   "id": "bac696f7",
   "metadata": {
    "deletable": false,
    "nbgrader": {
     "cell_type": "code",
     "checksum": "d1bedf0394bcecd7a526eecc5913cf19",
     "grade": false,
     "grade_id": "cell-bfbe440fbc584380",
     "locked": false,
     "schema_version": 3,
     "solution": true,
     "task": false
    }
   },
   "outputs": [],
   "source": [
    "# Remove the 'Date' columns from the dataset\n",
    "# your code here\n",
    "raise NotImplementedError\n"
   ]
  },
  {
   "cell_type": "code",
   "execution_count": null,
   "id": "362e566f",
   "metadata": {
    "deletable": false,
    "editable": false,
    "nbgrader": {
     "cell_type": "code",
     "checksum": "3a3f941de8c09c61228f0ace6c8defde",
     "grade": false,
     "grade_id": "cell-0c2f5b45245f0dd0",
     "locked": true,
     "schema_version": 3,
     "solution": false,
     "task": false
    }
   },
   "outputs": [],
   "source": [
    "categorical"
   ]
  },
  {
   "cell_type": "code",
   "execution_count": null,
   "id": "21e03be7",
   "metadata": {
    "deletable": false,
    "nbgrader": {
     "cell_type": "code",
     "checksum": "b675ecef6cd30b58b3297b3795f7acd6",
     "grade": false,
     "grade_id": "cell-34593cfeebec10c6",
     "locked": false,
     "schema_version": 3,
     "solution": true,
     "task": false
    }
   },
   "outputs": [],
   "source": [
    "#Encode the categorical variables except for RainTomorrow\n",
    "# your code here\n",
    "raise NotImplementedError"
   ]
  },
  {
   "cell_type": "code",
   "execution_count": null,
   "id": "e72b7703",
   "metadata": {
    "deletable": false,
    "editable": false,
    "nbgrader": {
     "cell_type": "code",
     "checksum": "d47868b30b23e92090f95128ae48583c",
     "grade": true,
     "grade_id": "cell-d955129a3bd33ef9",
     "locked": true,
     "points": 2,
     "schema_version": 3,
     "solution": false,
     "task": false
    }
   },
   "outputs": [],
   "source": [
    "assert df_encoded.shape[1] == 123, \"After encoding there will be 123 columns. \""
   ]
  },
  {
   "cell_type": "markdown",
   "id": "3fd88ed5",
   "metadata": {
    "deletable": false,
    "editable": false,
    "nbgrader": {
     "cell_type": "markdown",
     "checksum": "8daf5b43a5c0962905ffd75d1447dc11",
     "grade": false,
     "grade_id": "cell-10380faefc719976",
     "locked": true,
     "schema_version": 3,
     "solution": false,
     "task": false
    }
   },
   "source": [
    "### Feature Scaling "
   ]
  },
  {
   "cell_type": "markdown",
   "id": "c422b957",
   "metadata": {
    "deletable": false,
    "editable": false,
    "nbgrader": {
     "cell_type": "markdown",
     "checksum": "36321c43781c6aed0b47d3322e2c7810",
     "grade": false,
     "grade_id": "cell-128ecd4664dae397",
     "locked": true,
     "schema_version": 3,
     "solution": false,
     "task": false
    }
   },
   "source": [
    "In the next step, we will scale the numerical columns"
   ]
  },
  {
   "cell_type": "code",
   "execution_count": null,
   "id": "f4740039",
   "metadata": {
    "deletable": false,
    "nbgrader": {
     "cell_type": "code",
     "checksum": "449031ab75f02851d6620a088ff36d6c",
     "grade": false,
     "grade_id": "cell-9e4d8c21d45614bb",
     "locked": false,
     "schema_version": 3,
     "solution": true,
     "task": false
    }
   },
   "outputs": [],
   "source": [
    "#Scaling the Numerical variables \n",
    "# your code here\n",
    "raise NotImplementedError"
   ]
  },
  {
   "cell_type": "code",
   "execution_count": null,
   "id": "4d99e395",
   "metadata": {
    "deletable": false,
    "editable": false,
    "nbgrader": {
     "cell_type": "code",
     "checksum": "4da06e2c3ef319e35cb8118fc79846ef",
     "grade": false,
     "grade_id": "cell-a17ca678a4b99baf",
     "locked": true,
     "schema_version": 3,
     "solution": false,
     "task": false
    }
   },
   "outputs": [],
   "source": [
    "# Storing the scaled datapoints in the dataframe nsame df_Scaled\n",
    "df_scaled = pd.DataFrame(df_scaled_array, columns=[numerical])"
   ]
  },
  {
   "cell_type": "code",
   "execution_count": null,
   "id": "d17f7346",
   "metadata": {
    "deletable": false,
    "editable": false,
    "nbgrader": {
     "cell_type": "code",
     "checksum": "f67314725a2246c8fd1a06532a7f4971",
     "grade": true,
     "grade_id": "cell-55a2759f821bd90b",
     "locked": true,
     "points": 2,
     "schema_version": 3,
     "solution": false,
     "task": false
    }
   },
   "outputs": [],
   "source": []
  },
  {
   "cell_type": "markdown",
   "id": "49814eb5",
   "metadata": {
    "deletable": false,
    "editable": false,
    "nbgrader": {
     "cell_type": "markdown",
     "checksum": "1fa864a7748a99bea41f1729fe29fb73",
     "grade": false,
     "grade_id": "cell-80b2dca2b62510bf",
     "locked": true,
     "schema_version": 3,
     "solution": false,
     "task": false
    }
   },
   "source": [
    "Create a combined dataframe with all the encoded , scaled and target column "
   ]
  },
  {
   "cell_type": "code",
   "execution_count": null,
   "id": "84f4f407",
   "metadata": {
    "deletable": false,
    "editable": false,
    "nbgrader": {
     "cell_type": "code",
     "checksum": "eb3f896d41d40132271193228c91553c",
     "grade": false,
     "grade_id": "cell-848498820a6287f7",
     "locked": true,
     "schema_version": 3,
     "solution": false,
     "task": false
    }
   },
   "outputs": [],
   "source": [
    "final_df= pd.concat([df_scaled,df_encoded] , axis =1 )"
   ]
  },
  {
   "cell_type": "code",
   "execution_count": null,
   "id": "98a38b30",
   "metadata": {
    "deletable": false,
    "editable": false,
    "nbgrader": {
     "cell_type": "code",
     "checksum": "612681989c47c5459bc34b90e5a14977",
     "grade": false,
     "grade_id": "cell-7e5f97a3b71f68f1",
     "locked": true,
     "schema_version": 3,
     "solution": false,
     "task": false
    }
   },
   "outputs": [],
   "source": [
    "# Modify only the tuple column names\n",
    "new_column_names = [('_'.join(col) if isinstance(col, tuple) else col) for col in final_df.columns]\n",
    "final_df.columns = new_column_names"
   ]
  },
  {
   "cell_type": "code",
   "execution_count": null,
   "id": "43be5f2c",
   "metadata": {
    "deletable": false,
    "editable": false,
    "nbgrader": {
     "cell_type": "code",
     "checksum": "40d8fcfc144f6af6a5f6f3d35e2ef271",
     "grade": false,
     "grade_id": "cell-3ef443e0a098120b",
     "locked": true,
     "schema_version": 3,
     "solution": false,
     "task": false
    }
   },
   "outputs": [],
   "source": [
    "# Finally dropping all the null values from our dataset\n",
    "final_df.dropna(axis=0, inplace=True)"
   ]
  },
  {
   "cell_type": "markdown",
   "id": "42cb38ef",
   "metadata": {
    "deletable": false,
    "editable": false,
    "nbgrader": {
     "cell_type": "markdown",
     "checksum": "288d2cbbec4086a38760b54e37336b0f",
     "grade": false,
     "grade_id": "cell-f0eec08589b9c81e",
     "locked": true,
     "schema_version": 3,
     "solution": false,
     "task": false
    }
   },
   "source": [
    "After the null value treatement, we will build the model on the rest of the data"
   ]
  },
  {
   "cell_type": "code",
   "execution_count": null,
   "id": "71ba4f23",
   "metadata": {
    "deletable": false,
    "nbgrader": {
     "cell_type": "code",
     "checksum": "dd9c61a6dd5afcc3b0b34244d880ca8b",
     "grade": false,
     "grade_id": "cell-a66a72b15c36f986",
     "locked": false,
     "schema_version": 3,
     "solution": true,
     "task": false
    }
   },
   "outputs": [],
   "source": [
    "#splitting of df to training and testing with 0.25 as Test size \n",
    "# your code here\n",
    "raise NotImplementedError"
   ]
  },
  {
   "cell_type": "code",
   "execution_count": null,
   "id": "505cf179",
   "metadata": {
    "deletable": false,
    "editable": false,
    "nbgrader": {
     "cell_type": "code",
     "checksum": "fa08d16cb46d3a5c57a2f1b86a04d3c2",
     "grade": false,
     "grade_id": "cell-2217e2b216393723",
     "locked": true,
     "schema_version": 3,
     "solution": false,
     "task": false
    }
   },
   "outputs": [],
   "source": [
    "X_train.shape, X_test.shape, y_train.shape,y_test.shape"
   ]
  },
  {
   "cell_type": "code",
   "execution_count": null,
   "id": "6defe202",
   "metadata": {
    "deletable": false,
    "editable": false,
    "nbgrader": {
     "cell_type": "code",
     "checksum": "54e71a4ad7b0c3f3b1567bbdbb23cae0",
     "grade": true,
     "grade_id": "cell-a613499f914e68fe",
     "locked": true,
     "points": 2,
     "schema_version": 3,
     "solution": false,
     "task": false
    }
   },
   "outputs": [],
   "source": []
  },
  {
   "cell_type": "code",
   "execution_count": null,
   "id": "465efaf6",
   "metadata": {
    "deletable": false,
    "editable": false,
    "nbgrader": {
     "cell_type": "code",
     "checksum": "d7ccc1fed6c02b98f5cdf8bd7824835b",
     "grade": false,
     "grade_id": "cell-c2c78004d19c412e",
     "locked": true,
     "schema_version": 3,
     "solution": false,
     "task": false
    }
   },
   "outputs": [],
   "source": [
    "# Train a logistic regression model on the training set\n",
    "from sklearn.linear_model import LogisticRegression\n",
    "\n",
    "# instantiate the model\n",
    "logreg = LogisticRegression(solver='liblinear', random_state=0, C=10)\n",
    "\n",
    "# fit the model\n",
    "logreg.fit(X_train, y_train)"
   ]
  },
  {
   "cell_type": "markdown",
   "id": "443ece9a",
   "metadata": {
    "deletable": false,
    "editable": false,
    "nbgrader": {
     "cell_type": "markdown",
     "checksum": "1ad9a99d212300b45beef013ed1ada8b",
     "grade": false,
     "grade_id": "cell-dbfeefb6cb370b5b",
     "locked": true,
     "schema_version": 3,
     "solution": false,
     "task": false
    }
   },
   "source": [
    "## Prediction"
   ]
  },
  {
   "cell_type": "code",
   "execution_count": null,
   "id": "eee92149",
   "metadata": {
    "deletable": false,
    "editable": false,
    "nbgrader": {
     "cell_type": "code",
     "checksum": "76856221ccce51d32a22126603c328c7",
     "grade": false,
     "grade_id": "cell-5d0f2dbcf836fd0f",
     "locked": true,
     "schema_version": 3,
     "solution": false,
     "task": false
    }
   },
   "outputs": [],
   "source": [
    "#prediction on training\n",
    "y_pred_train = logreg.predict(X_train)\n",
    "y_pred_train"
   ]
  },
  {
   "cell_type": "code",
   "execution_count": null,
   "id": "65483cd1",
   "metadata": {
    "deletable": false,
    "editable": false,
    "nbgrader": {
     "cell_type": "code",
     "checksum": "aba14ccc8e55a59637620c41ae134314",
     "grade": false,
     "grade_id": "cell-f46ac7262f126799",
     "locked": true,
     "schema_version": 3,
     "solution": false,
     "task": false
    }
   },
   "outputs": [],
   "source": [
    "#prediction on testing \n",
    "y_pred_test = logreg.predict(X_test)\n",
    "\n",
    "y_pred_test"
   ]
  },
  {
   "cell_type": "markdown",
   "id": "1c170280",
   "metadata": {
    "deletable": false,
    "editable": false,
    "nbgrader": {
     "cell_type": "markdown",
     "checksum": "9d1336f07121f81a08887791a3fb72b0",
     "grade": false,
     "grade_id": "cell-c6b2416a295eeda8",
     "locked": true,
     "schema_version": 3,
     "solution": false,
     "task": false
    }
   },
   "source": [
    "## Evaluation"
   ]
  },
  {
   "cell_type": "code",
   "execution_count": null,
   "id": "b740ff7f",
   "metadata": {
    "deletable": false,
    "editable": false,
    "nbgrader": {
     "cell_type": "code",
     "checksum": "63b55960355b5c276abc7727de43dd6f",
     "grade": false,
     "grade_id": "cell-c154628ccf5ac3fd",
     "locked": true,
     "schema_version": 3,
     "solution": false,
     "task": false
    }
   },
   "outputs": [],
   "source": [
    "# Training Accuracy\n",
    "from sklearn.metrics import accuracy_score\n",
    "print('Model accuracy score: {0:0.4f}'. format(accuracy_score(y_train, y_pred_train)))"
   ]
  },
  {
   "cell_type": "code",
   "execution_count": null,
   "id": "6e52f216",
   "metadata": {
    "deletable": false,
    "editable": false,
    "nbgrader": {
     "cell_type": "code",
     "checksum": "f35bec03f521ec69276f6cac6e850b50",
     "grade": false,
     "grade_id": "cell-2b196108bf9a5fb7",
     "locked": true,
     "schema_version": 3,
     "solution": false,
     "task": false
    }
   },
   "outputs": [],
   "source": [
    "# Testing Accuracy\n",
    "from sklearn.metrics import accuracy_score, f1_score\n",
    "print('Model accuracy score: {0:0.4f}'. format(accuracy_score(y_test, y_pred_test)))"
   ]
  },
  {
   "cell_type": "markdown",
   "id": "d41353dc",
   "metadata": {
    "deletable": false,
    "editable": false,
    "nbgrader": {
     "cell_type": "markdown",
     "checksum": "703e0433b94108b40d4e373c5d2073e7",
     "grade": false,
     "grade_id": "cell-a66467c511c25b0a",
     "locked": true,
     "schema_version": 3,
     "solution": false,
     "task": false
    }
   },
   "source": [
    "## Feature Selection\n",
    "### We can Try and reduce the number of variables and see how the model performs. "
   ]
  },
  {
   "cell_type": "markdown",
   "id": "ffa0dc5a",
   "metadata": {
    "deletable": false,
    "editable": false,
    "nbgrader": {
     "cell_type": "markdown",
     "checksum": "ff424188f739d065db41bd7fb984897c",
     "grade": false,
     "grade_id": "cell-a98538c31adbdcae",
     "locked": true,
     "schema_version": 3,
     "solution": false,
     "task": false
    }
   },
   "source": [
    "In the case of Logistic regression, we can find out the coefficients of the variables from the equation and \n",
    "then use selected top variables with higher values of coefficients and train the model on it. If the model retains the accuracy and performance, we can use those variables only, so that not much time and memory has been used.\n",
    "Also this method is not genralised since selecting independent factors depends on various other things like its relation with target variable, noise in the variable. etc. "
   ]
  },
  {
   "cell_type": "code",
   "execution_count": null,
   "id": "6387b1e1",
   "metadata": {
    "deletable": false,
    "editable": false,
    "nbgrader": {
     "cell_type": "code",
     "checksum": "eae45d40203f82dda8cc44628004ea86",
     "grade": false,
     "grade_id": "cell-089bc889fcc37357",
     "locked": true,
     "schema_version": 3,
     "solution": false,
     "task": false
    }
   },
   "outputs": [],
   "source": [
    "# Get the coefficients of the model\n",
    "coefficients = logreg.coef_[0]\n",
    "\n",
    "# Mapping feature names with their coefficients\n",
    "coefficients_dict = dict(zip(final_df.columns, coefficients))\n",
    "\n",
    "# Sorting and displaying the feature importance\n",
    "\n",
    "coefficients_dict_logr = sorted(coefficients_dict.items(), key=lambda x: x[1], reverse=True)\n",
    "coefficients_dict_logr"
   ]
  },
  {
   "cell_type": "code",
   "execution_count": null,
   "id": "bf9133be",
   "metadata": {
    "deletable": false,
    "editable": false,
    "nbgrader": {
     "cell_type": "code",
     "checksum": "185d1ec05270351ea5df6723c50c0d2c",
     "grade": false,
     "grade_id": "cell-6bda00061bbdf798",
     "locked": true,
     "schema_version": 3,
     "solution": false,
     "task": false
    }
   },
   "outputs": [],
   "source": [
    "#Lets pick the top 10 features with greater coeffecient values.\n",
    "\n",
    "coefficients_dict_logr = sorted(coefficients_dict.items(), key=lambda x: x[1], reverse=True)\n",
    "\n",
    "top_10_feature_names = [feature[0] for feature in coefficients_dict_logr[ :10]]\n",
    "\n",
    "# Displaying the top 3 feature names\n",
    "top_10_feature_names"
   ]
  },
  {
   "cell_type": "code",
   "execution_count": null,
   "id": "45e5f8a6",
   "metadata": {
    "deletable": false,
    "editable": false,
    "nbgrader": {
     "cell_type": "code",
     "checksum": "ded2ac0cedbf46480c8bee6d5c94a49f",
     "grade": false,
     "grade_id": "cell-192f054e24a041b3",
     "locked": true,
     "schema_version": 3,
     "solution": false,
     "task": false
    }
   },
   "outputs": [],
   "source": [
    "top_10_feature_names.append(\"RainTomorrow\")"
   ]
  },
  {
   "cell_type": "code",
   "execution_count": null,
   "id": "49deff9b",
   "metadata": {
    "deletable": false,
    "editable": false,
    "nbgrader": {
     "cell_type": "code",
     "checksum": "163a31273513038cb692accb75cfc255",
     "grade": false,
     "grade_id": "cell-ec50e2a9b0369a07",
     "locked": true,
     "schema_version": 3,
     "solution": false,
     "task": false
    }
   },
   "outputs": [],
   "source": [
    "final_df[top_10_feature_names].head()"
   ]
  },
  {
   "cell_type": "code",
   "execution_count": null,
   "id": "bc690601",
   "metadata": {
    "deletable": false,
    "editable": false,
    "nbgrader": {
     "cell_type": "code",
     "checksum": "e45e90ef64241857e29bd963245a7337",
     "grade": false,
     "grade_id": "cell-8b763521e7c00065",
     "locked": true,
     "schema_version": 3,
     "solution": false,
     "task": false
    }
   },
   "outputs": [],
   "source": [
    "df_new = final_df[top_10_feature_names]"
   ]
  },
  {
   "cell_type": "code",
   "execution_count": null,
   "id": "88cc9ec9",
   "metadata": {
    "deletable": false,
    "editable": false,
    "nbgrader": {
     "cell_type": "code",
     "checksum": "7d1c331b0cfd18858a1e1f2c387cfe09",
     "grade": false,
     "grade_id": "cell-4d7a64904c9e44bb",
     "locked": true,
     "schema_version": 3,
     "solution": false,
     "task": false
    }
   },
   "outputs": [],
   "source": [
    "df_new.isna().sum()"
   ]
  },
  {
   "cell_type": "markdown",
   "id": "fa672cbb",
   "metadata": {
    "deletable": false,
    "editable": false,
    "nbgrader": {
     "cell_type": "markdown",
     "checksum": "8f590c99b4095faee19fe92d7b7876ed",
     "grade": false,
     "grade_id": "cell-7fd86819de749f27",
     "locked": true,
     "schema_version": 3,
     "solution": false,
     "task": false
    }
   },
   "source": [
    "## Evaluation"
   ]
  },
  {
   "cell_type": "code",
   "execution_count": null,
   "id": "53d9b7fe",
   "metadata": {
    "deletable": false,
    "editable": false,
    "nbgrader": {
     "cell_type": "code",
     "checksum": "8acb0ff42f92d0582a44228e8a07bdd1",
     "grade": false,
     "grade_id": "cell-6b762d4b8afd1626",
     "locked": true,
     "schema_version": 3,
     "solution": false,
     "task": false
    }
   },
   "outputs": [],
   "source": [
    "# Testing the performance of the model on the final dataset with selected features\n",
    "X_train, X_test, y_train, y_test= train_test_split(df_new.drop('RainTomorrow', axis = 1), df_new['RainTomorrow'] , test_size=0.25,shuffle=True, random_state=42)\n",
    "\n",
    "\n",
    "# train a logistic regression model on the training set\n",
    "from sklearn.linear_model import LogisticRegression\n",
    "\n",
    "\n",
    "# instantiate the model\n",
    "logreg = LogisticRegression(solver='liblinear', random_state=42, C=5)\n",
    "\n",
    "# fit the model\n",
    "logreg.fit(X_train, y_train)\n",
    "\n",
    "from sklearn.metrics import accuracy_score\n",
    "y_pred_test11 = logreg.predict(X_test)\n",
    "print('Model accuracy score: {0:0.4f}'. format(accuracy_score(y_test, y_pred_test)))"
   ]
  },
  {
   "cell_type": "markdown",
   "id": "c5cc58ab",
   "metadata": {
    "deletable": false,
    "editable": false,
    "nbgrader": {
     "cell_type": "markdown",
     "checksum": "fee63d0f6b538f6ed0de8de50bc7d777",
     "grade": false,
     "grade_id": "cell-01e150ec8e03b593",
     "locked": true,
     "schema_version": 3,
     "solution": false,
     "task": false
    }
   },
   "source": [
    "# Hyper Parameter Tuning"
   ]
  },
  {
   "cell_type": "markdown",
   "id": "80fd7b05",
   "metadata": {
    "deletable": false,
    "editable": false,
    "nbgrader": {
     "cell_type": "markdown",
     "checksum": "57afcd73ab365890d2a0e072d8d98771",
     "grade": false,
     "grade_id": "cell-16689f081da94c7b",
     "locked": true,
     "schema_version": 3,
     "solution": false,
     "task": false
    }
   },
   "source": [
    "Lets See what are best best paramters for training the data on logistic regression. This Process of tuning can take a lot of time, depending on number of fits and folds and data points and memory and GPU of your computer."
   ]
  },
  {
   "cell_type": "code",
   "execution_count": null,
   "id": "c480e81a",
   "metadata": {
    "deletable": false,
    "editable": false,
    "nbgrader": {
     "cell_type": "code",
     "checksum": "6bb756b0e8db55ca6e0c17141fcce832",
     "grade": false,
     "grade_id": "cell-788f535f3d331d1e",
     "locked": true,
     "schema_version": 3,
     "solution": false,
     "task": false
    }
   },
   "outputs": [],
   "source": [
    "from sklearn.model_selection import GridSearchCV\n",
    "\n",
    "\n",
    "parameters = [{'penalty':['l1','l2']}, \n",
    "              {'C':[1, 10, 100]}]\n",
    "\n",
    "\n",
    "\n",
    "grid_search = GridSearchCV(estimator = logreg,  \n",
    "                           param_grid = parameters,\n",
    "                           scoring = 'accuracy',\n",
    "                           #cv = 5,\n",
    "                           verbose=1)\n",
    "\n",
    "\n",
    "grid_search.fit(X_train, y_train)"
   ]
  },
  {
   "cell_type": "code",
   "execution_count": null,
   "id": "4c612b7d",
   "metadata": {
    "deletable": false,
    "editable": false,
    "nbgrader": {
     "cell_type": "code",
     "checksum": "7c025ed60a2b3b2e5500d3a807231848",
     "grade": false,
     "grade_id": "cell-18899eeb92b4439a",
     "locked": true,
     "schema_version": 3,
     "solution": false,
     "task": false
    }
   },
   "outputs": [],
   "source": [
    "# examine the best model\n",
    "\n",
    "# best score achieved during the GridSearchCV\n",
    "print('GridSearch CV best score : {:.4f}\\n\\n'.format(grid_search.best_score_))\n",
    "\n",
    "# print parameters that give the best results\n",
    "print('Parameters that give the best results :','\\n\\n', (grid_search.best_params_))\n",
    "\n",
    "# print estimator that was chosen by the GridSearch\n",
    "print('\\n\\nEstimator that was chosen by the search :','\\n\\n', (grid_search.best_estimator_))"
   ]
  },
  {
   "cell_type": "markdown",
   "id": "3e20eb92",
   "metadata": {
    "deletable": false,
    "editable": false,
    "nbgrader": {
     "cell_type": "markdown",
     "checksum": "3790dfc437bad66c4e7eafda7451db0f",
     "grade": false,
     "grade_id": "cell-325431bf0281ffda",
     "locked": true,
     "schema_version": 3,
     "solution": false,
     "task": false
    }
   },
   "source": [
    "Now with the values given by paramter tuning, we can set these parameters to fine tune and also use other paramter tuning method to see if there is any improvement"
   ]
  },
  {
   "cell_type": "code",
   "execution_count": null,
   "id": "e7892ba5",
   "metadata": {
    "deletable": false,
    "editable": false,
    "nbgrader": {
     "cell_type": "code",
     "checksum": "a99b5b35ce23a4a9a57ebb93d81396c4",
     "grade": false,
     "grade_id": "cell-1507bc5986dfe023",
     "locked": true,
     "schema_version": 3,
     "solution": false,
     "task": false
    }
   },
   "outputs": [],
   "source": [
    "# Try your Code using optimised paramters here "
   ]
  },
  {
   "cell_type": "markdown",
   "id": "2252b1c4",
   "metadata": {
    "deletable": false,
    "editable": false,
    "nbgrader": {
     "cell_type": "markdown",
     "checksum": "082b00344850af2231cd1f823b738b40",
     "grade": false,
     "grade_id": "cell-246eac6ae315fdad",
     "locked": true,
     "schema_version": 3,
     "solution": false,
     "task": false
    }
   },
   "source": [
    "As per the model accuracy, the results are almost same, so we can drop the variables and use less number of features, this way training time is reduced, memory used is less. \n",
    "Note : This is an example where our accuracy didn't go down or up much so you must remember feature selection depends on various factors.\n",
    "    \n",
    "It's important to approach the interpretation of feature importance in logistic regression with caution. This includes being mindful of the scale at which the features are measured and acknowledging the possibility of multicollinearity between them. Additionally, one should not draw conclusions about causality from logistic regression models without conducting further validation studies.\n",
    "    "
   ]
  }
 ],
 "metadata": {
  "kernelspec": {
   "display_name": "Python 3 (ipykernel)",
   "language": "python",
   "name": "python3"
  },
  "language_info": {
   "codemirror_mode": {
    "name": "ipython",
    "version": 3
   },
   "file_extension": ".py",
   "mimetype": "text/x-python",
   "name": "python",
   "nbconvert_exporter": "python",
   "pygments_lexer": "ipython3",
   "version": "3.10.6"
  }
 },
 "nbformat": 4,
 "nbformat_minor": 5
}
