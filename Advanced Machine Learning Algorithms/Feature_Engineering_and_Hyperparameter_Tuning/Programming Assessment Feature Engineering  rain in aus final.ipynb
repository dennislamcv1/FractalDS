{
 "cells": [
  {
   "cell_type": "markdown",
   "id": "b9fc0723",
   "metadata": {
    "deletable": false,
    "editable": false,
    "nbgrader": {
     "cell_type": "markdown",
     "checksum": "ac80f0fe2ff47fbdbbb7a4d9a0c151ae",
     "grade": false,
     "grade_id": "cell-a2e429c0dd8172c4",
     "locked": true,
     "schema_version": 3,
     "solution": false,
     "task": false
    }
   },
   "source": [
    "# PROBLEM STATEMENT \n",
    "\n",
    "Dataset contains daily weather observations of Australian weather stations, and your goal is to predict whether it will rain tomorrow based on the data. The target variable you want to predict is \"RainTomorrow,\" which is a binary variable with two possible values: \"Yes\" or \"No.\"\n",
    "\n",
    "In this context, \"RainTomorrow\" is set to \"Yes\" if the amount of rain recorded for the current day is 1mm or more, indicating that it rained that day. If the recorded rainfall is less than 1mm, \"RainTomorrow\" is set to \"No,\" indicating that it did not rain that day.\n",
    "\n",
    "- The aim of this is to test the chances of raining in australia Yes or No"
   ]
  },
  {
   "cell_type": "markdown",
   "id": "6dc85bf7",
   "metadata": {
    "deletable": false,
    "editable": false,
    "nbgrader": {
     "cell_type": "markdown",
     "checksum": "1f9aa8b1a941cb6aab5bf3ad85aba41d",
     "grade": false,
     "grade_id": "cell-c543edc572182fd7",
     "locked": true,
     "schema_version": 3,
     "solution": false,
     "task": false
    }
   },
   "source": [
    "# OVERVIEW \n",
    "\n",
    "The dataset weatherAUS.csv contains 40000 rows and 23 columns to weather observations in Australia. Here's an explanation of each column:\n",
    "\n",
    "- Date: The date of the observation.\n",
    "- Location: The location where the weather data was recorded.\n",
    "- MinTemp: The minimum temperature in degrees Celsius.\n",
    "- MaxTemp: The maximum temperature in degrees Celsius.\n",
    "- Rainfall: The amount of rainfall recorded for the day in millimeters.\n",
    "- Evaporation: The so-called Class A pan evaporation (in millimeters) in the 24 hours to 9am.\n",
    "- Sunshine: The number of hours of bright sunshine in the day.\n",
    "- WindGustDir: The direction of the strongest wind gust in the 24 hours to midnight.\n",
    "- WindGustSpeed: The speed (in km/h) of the strongest wind gust in the 24 hours to midnight.\n",
    "- WindDir9am: Direction of the wind at 9am.\n",
    "- WindDir3pm: Direction of the wind at 3pm.\n",
    "- WindSpeed9am: Wind speed (in km/h) averaged over 10 minutes prior to 9am.\n",
    "- WindSpeed3pm: Wind speed (in km/h) averaged over 10 minutes prior to 3pm.\n",
    "- Humidity9am: Humidity (percent) at 9am.\n",
    "- Humidity3pm: Humidity (percent) at 3pm.\n",
    "- Pressure9am: Atmospheric pressure (hpa) reduced to mean sea level at 9am.\n",
    "- Pressure3pm: Atmospheric pressure (hpa) reduced to mean sea level at 3pm.\n",
    "- Cloud9am: Fraction of sky obscured by cloud at 9am. This is measured in \"oktas,\" which are a unit of eighths. It records how many eighths of the sky are obscured by cloud.\n",
    "- Cloud3pm: Fraction of sky obscured by cloud at 3pm. Similar to Cloud9am.\n",
    "- Temp9am: Temperature (degrees Celsius) at 9am.\n",
    "- Temp3pm: Temperature (degrees Celsius) at 3pm.\n",
    "- RainToday: Indicates if it has rained. Yes if precipitation (mm) in the 24 hours to 9am exceeds 1mm, otherwise No.\n",
    "- RainTomorrow: The target variable. Indicates if it will rain tomorrow. Yes or No.\n",
    "\n",
    "These columns provide comprehensive information about daily weather conditions, useful for various analyses including weather forecasting, climate studies, and understanding local weather patterns. \n",
    "\n",
    "\n",
    "\n",
    "\n",
    "\n",
    "\n",
    "\n",
    "\n",
    "\n",
    "\n",
    "\n",
    "There is a date variable. It is denoted by Date column.\n",
    "There are 6 categorical variables. These are given by Location, WindGustDir, WindDir9am, WindDir3pm, RainToday and RainTomorrow.\n",
    "There are two binary categorical variables - RainToday and RainTomorrow.\n",
    "RainTomorrow is the target variable.\n"
   ]
  },
  {
   "cell_type": "markdown",
   "id": "6ff6652b",
   "metadata": {
    "deletable": false,
    "editable": false,
    "nbgrader": {
     "cell_type": "markdown",
     "checksum": "a727d8e370356ae16a3e06679278b5fc",
     "grade": false,
     "grade_id": "cell-70add9ddbf8dce46",
     "locked": true,
     "schema_version": 3,
     "solution": false,
     "task": false
    }
   },
   "source": [
    "## ------------------------------------------------------------------------------------"
   ]
  },
  {
   "cell_type": "markdown",
   "id": "3553f467",
   "metadata": {
    "deletable": false,
    "editable": false,
    "nbgrader": {
     "cell_type": "markdown",
     "checksum": "909874d6a78f9254aa406f180c8f9ed5",
     "grade": false,
     "grade_id": "cell-224313fde5da2d11",
     "locked": true,
     "schema_version": 3,
     "solution": false,
     "task": false
    }
   },
   "source": [
    "## Guidelines to follow in this notebook \n",
    "- The name of the main dataframe should be df \n",
    "- Keep the seed value 42\n",
    "- Names of training and testing variables should be X_train, X_test, y_train, y_test\n",
    "- Keep the name of model instance as \"model\", e.g. model = DecisionTreeClassifer()\n",
    "- Keep the predictions on training and testing data in a variable named y_train_pred and y_test_pred respectively."
   ]
  },
  {
   "cell_type": "markdown",
   "id": "b9a001cb",
   "metadata": {
    "deletable": false,
    "editable": false,
    "nbgrader": {
     "cell_type": "markdown",
     "checksum": "2ed97d18bf42427ea11cba1feece0d59",
     "grade": false,
     "grade_id": "cell-cee2c4c7d03bb2b4",
     "locked": true,
     "schema_version": 3,
     "solution": false,
     "task": false
    }
   },
   "source": [
    "## ------------------------------------------------------------------------------------"
   ]
  },
  {
   "cell_type": "markdown",
   "id": "21140ca2",
   "metadata": {
    "deletable": false,
    "editable": false,
    "nbgrader": {
     "cell_type": "markdown",
     "checksum": "0e74698acd69a335ceefb56c52924dca",
     "grade": false,
     "grade_id": "cell-b95b174637a109cb",
     "locked": true,
     "schema_version": 3,
     "solution": false,
     "task": false
    }
   },
   "source": [
    "## Import Libraries \n",
    "#### Lets begin by importing necessary data libraries "
   ]
  },
  {
   "cell_type": "code",
   "execution_count": 1,
   "id": "ab523a76",
   "metadata": {
    "deletable": false,
    "editable": false,
    "nbgrader": {
     "cell_type": "code",
     "checksum": "588b537efae3a1bdbfc34b11a1c7e444",
     "grade": false,
     "grade_id": "cell-2f26a2e40a148bd6",
     "locked": true,
     "schema_version": 3,
     "solution": false,
     "task": false
    }
   },
   "outputs": [],
   "source": [
    "#import the relevant libraries\n",
    "import pandas as pd\n",
    "import numpy as np\n",
    "import matplotlib.pyplot as plt\n",
    "import seaborn as sns\n",
    "from pandas.api.types import is_numeric_dtype\n",
    "from sklearn.metrics import f1_score\n",
    "from pandas.api.types import is_string_dtype\n",
    "from pandas.api.types import is_numeric_dtype"
   ]
  },
  {
   "cell_type": "markdown",
   "id": "a9a09a8e",
   "metadata": {
    "deletable": false,
    "editable": false,
    "nbgrader": {
     "cell_type": "markdown",
     "checksum": "a8d30cc2215bf197dba4641a2ed0af15",
     "grade": false,
     "grade_id": "cell-02ca473b61b4a17e",
     "locked": true,
     "schema_version": 3,
     "solution": false,
     "task": false
    }
   },
   "source": [
    "## Load the dataset"
   ]
  },
  {
   "cell_type": "code",
   "execution_count": 2,
   "id": "a6dc34f1",
   "metadata": {
    "deletable": false,
    "nbgrader": {
     "cell_type": "code",
     "checksum": "3ae6c86a491aa6b2161a15addaa8f7d4",
     "grade": false,
     "grade_id": "cell-43019a3b65b7422b",
     "locked": false,
     "schema_version": 3,
     "solution": true,
     "task": false
    }
   },
   "outputs": [
    {
     "name": "stdout",
     "output_type": "stream",
     "text": [
      "(40000, 23)\n"
     ]
    }
   ],
   "source": [
    "### load the dataset and print no. of rows and columns \n",
    "# your code here\n",
    "df = pd.read_csv(\"Rain_inaus_feature_engineering_final.csv\")\n",
    "\n",
    "print(df.shape)"
   ]
  },
  {
   "cell_type": "code",
   "execution_count": null,
   "id": "8b2b2572",
   "metadata": {
    "deletable": false,
    "editable": false,
    "nbgrader": {
     "cell_type": "code",
     "checksum": "e636498fa26d045ae16955c9f4a694ab",
     "grade": true,
     "grade_id": "cell-6d7f024cb5b20c46",
     "locked": true,
     "points": 2,
     "schema_version": 3,
     "solution": false,
     "task": false
    }
   },
   "outputs": [],
   "source": []
  },
  {
   "cell_type": "code",
   "execution_count": 3,
   "id": "4a725132",
   "metadata": {
    "deletable": false,
    "editable": false,
    "nbgrader": {
     "cell_type": "code",
     "checksum": "6d3b7644b23a2ceea89a0c42757d56d4",
     "grade": false,
     "grade_id": "cell-e84967593891886c",
     "locked": true,
     "schema_version": 3,
     "solution": false,
     "task": false
    }
   },
   "outputs": [
    {
     "data": {
      "text/html": [
       "<div>\n",
       "<style scoped>\n",
       "    .dataframe tbody tr th:only-of-type {\n",
       "        vertical-align: middle;\n",
       "    }\n",
       "\n",
       "    .dataframe tbody tr th {\n",
       "        vertical-align: top;\n",
       "    }\n",
       "\n",
       "    .dataframe thead th {\n",
       "        text-align: right;\n",
       "    }\n",
       "</style>\n",
       "<table border=\"1\" class=\"dataframe\">\n",
       "  <thead>\n",
       "    <tr style=\"text-align: right;\">\n",
       "      <th></th>\n",
       "      <th>Date</th>\n",
       "      <th>Location</th>\n",
       "      <th>MinTemp</th>\n",
       "      <th>MaxTemp</th>\n",
       "      <th>Rainfall</th>\n",
       "      <th>Evaporation</th>\n",
       "      <th>Sunshine</th>\n",
       "      <th>WindGustDir</th>\n",
       "      <th>WindGustSpeed</th>\n",
       "      <th>WindDir9am</th>\n",
       "      <th>...</th>\n",
       "      <th>Humidity9am</th>\n",
       "      <th>Humidity3pm</th>\n",
       "      <th>Pressure9am</th>\n",
       "      <th>Pressure3pm</th>\n",
       "      <th>Cloud9am</th>\n",
       "      <th>Cloud3pm</th>\n",
       "      <th>Temp9am</th>\n",
       "      <th>Temp3pm</th>\n",
       "      <th>RainToday</th>\n",
       "      <th>RainTomorrow</th>\n",
       "    </tr>\n",
       "  </thead>\n",
       "  <tbody>\n",
       "    <tr>\n",
       "      <th>0</th>\n",
       "      <td>2017-02-11</td>\n",
       "      <td>MountGambier</td>\n",
       "      <td>15.2</td>\n",
       "      <td>24.3</td>\n",
       "      <td>0.0</td>\n",
       "      <td>4.4</td>\n",
       "      <td>6.8</td>\n",
       "      <td>SW</td>\n",
       "      <td>39.0</td>\n",
       "      <td>SSE</td>\n",
       "      <td>...</td>\n",
       "      <td>70.0</td>\n",
       "      <td>58.0</td>\n",
       "      <td>1010.8</td>\n",
       "      <td>1010.1</td>\n",
       "      <td>8.0</td>\n",
       "      <td>8.0</td>\n",
       "      <td>18.2</td>\n",
       "      <td>20.9</td>\n",
       "      <td>No</td>\n",
       "      <td>Yes</td>\n",
       "    </tr>\n",
       "    <tr>\n",
       "      <th>1</th>\n",
       "      <td>2011-08-23</td>\n",
       "      <td>Brisbane</td>\n",
       "      <td>13.9</td>\n",
       "      <td>21.6</td>\n",
       "      <td>8.8</td>\n",
       "      <td>3.2</td>\n",
       "      <td>6.6</td>\n",
       "      <td>ESE</td>\n",
       "      <td>44.0</td>\n",
       "      <td>SW</td>\n",
       "      <td>...</td>\n",
       "      <td>88.0</td>\n",
       "      <td>74.0</td>\n",
       "      <td>1026.9</td>\n",
       "      <td>1024.2</td>\n",
       "      <td>3.0</td>\n",
       "      <td>5.0</td>\n",
       "      <td>17.0</td>\n",
       "      <td>20.0</td>\n",
       "      <td>Yes</td>\n",
       "      <td>Yes</td>\n",
       "    </tr>\n",
       "    <tr>\n",
       "      <th>2</th>\n",
       "      <td>2014-09-11</td>\n",
       "      <td>Newcastle</td>\n",
       "      <td>9.5</td>\n",
       "      <td>24.2</td>\n",
       "      <td>0.0</td>\n",
       "      <td>4.4</td>\n",
       "      <td>6.8</td>\n",
       "      <td>W</td>\n",
       "      <td>41.0</td>\n",
       "      <td>NW</td>\n",
       "      <td>...</td>\n",
       "      <td>56.0</td>\n",
       "      <td>33.0</td>\n",
       "      <td>1016.5</td>\n",
       "      <td>1014.2</td>\n",
       "      <td>0.0</td>\n",
       "      <td>0.0</td>\n",
       "      <td>17.0</td>\n",
       "      <td>24.0</td>\n",
       "      <td>No</td>\n",
       "      <td>Yes</td>\n",
       "    </tr>\n",
       "    <tr>\n",
       "      <th>3</th>\n",
       "      <td>2015-05-31</td>\n",
       "      <td>CoffsHarbour</td>\n",
       "      <td>16.3</td>\n",
       "      <td>20.7</td>\n",
       "      <td>4.4</td>\n",
       "      <td>4.4</td>\n",
       "      <td>6.8</td>\n",
       "      <td>WSW</td>\n",
       "      <td>41.0</td>\n",
       "      <td>WSW</td>\n",
       "      <td>...</td>\n",
       "      <td>96.0</td>\n",
       "      <td>82.0</td>\n",
       "      <td>1016.9</td>\n",
       "      <td>1012.0</td>\n",
       "      <td>8.0</td>\n",
       "      <td>5.0</td>\n",
       "      <td>16.8</td>\n",
       "      <td>20.0</td>\n",
       "      <td>Yes</td>\n",
       "      <td>Yes</td>\n",
       "    </tr>\n",
       "    <tr>\n",
       "      <th>4</th>\n",
       "      <td>2015-04-07</td>\n",
       "      <td>NorahHead</td>\n",
       "      <td>15.2</td>\n",
       "      <td>25.1</td>\n",
       "      <td>3.8</td>\n",
       "      <td>4.4</td>\n",
       "      <td>6.8</td>\n",
       "      <td>W</td>\n",
       "      <td>46.0</td>\n",
       "      <td>NNW</td>\n",
       "      <td>...</td>\n",
       "      <td>79.0</td>\n",
       "      <td>58.0</td>\n",
       "      <td>1007.9</td>\n",
       "      <td>1007.3</td>\n",
       "      <td>6.0</td>\n",
       "      <td>6.0</td>\n",
       "      <td>20.4</td>\n",
       "      <td>20.5</td>\n",
       "      <td>Yes</td>\n",
       "      <td>Yes</td>\n",
       "    </tr>\n",
       "  </tbody>\n",
       "</table>\n",
       "<p>5 rows × 23 columns</p>\n",
       "</div>"
      ],
      "text/plain": [
       "         Date      Location  MinTemp  MaxTemp  Rainfall  Evaporation  \\\n",
       "0  2017-02-11  MountGambier     15.2     24.3       0.0          4.4   \n",
       "1  2011-08-23      Brisbane     13.9     21.6       8.8          3.2   \n",
       "2  2014-09-11     Newcastle      9.5     24.2       0.0          4.4   \n",
       "3  2015-05-31  CoffsHarbour     16.3     20.7       4.4          4.4   \n",
       "4  2015-04-07     NorahHead     15.2     25.1       3.8          4.4   \n",
       "\n",
       "   Sunshine WindGustDir  WindGustSpeed WindDir9am  ... Humidity9am  \\\n",
       "0       6.8          SW           39.0        SSE  ...        70.0   \n",
       "1       6.6         ESE           44.0         SW  ...        88.0   \n",
       "2       6.8           W           41.0         NW  ...        56.0   \n",
       "3       6.8         WSW           41.0        WSW  ...        96.0   \n",
       "4       6.8           W           46.0        NNW  ...        79.0   \n",
       "\n",
       "   Humidity3pm  Pressure9am  Pressure3pm  Cloud9am  Cloud3pm  Temp9am  \\\n",
       "0         58.0       1010.8       1010.1       8.0       8.0     18.2   \n",
       "1         74.0       1026.9       1024.2       3.0       5.0     17.0   \n",
       "2         33.0       1016.5       1014.2       0.0       0.0     17.0   \n",
       "3         82.0       1016.9       1012.0       8.0       5.0     16.8   \n",
       "4         58.0       1007.9       1007.3       6.0       6.0     20.4   \n",
       "\n",
       "   Temp3pm  RainToday  RainTomorrow  \n",
       "0     20.9         No           Yes  \n",
       "1     20.0        Yes           Yes  \n",
       "2     24.0         No           Yes  \n",
       "3     20.0        Yes           Yes  \n",
       "4     20.5        Yes           Yes  \n",
       "\n",
       "[5 rows x 23 columns]"
      ]
     },
     "execution_count": 3,
     "metadata": {},
     "output_type": "execute_result"
    }
   ],
   "source": [
    "# Display the first few rows of the dataset \n",
    "df.head()"
   ]
  },
  {
   "cell_type": "code",
   "execution_count": 4,
   "id": "17feeb60",
   "metadata": {
    "deletable": false,
    "editable": false,
    "nbgrader": {
     "cell_type": "code",
     "checksum": "ee00463cf74cc2f917e1737c84d12497",
     "grade": false,
     "grade_id": "cell-633ab191146ba030",
     "locked": true,
     "schema_version": 3,
     "solution": false,
     "task": false
    }
   },
   "outputs": [
    {
     "data": {
      "text/plain": [
       "Date             0\n",
       "Location         0\n",
       "MinTemp          0\n",
       "MaxTemp          0\n",
       "Rainfall         0\n",
       "Evaporation      0\n",
       "Sunshine         0\n",
       "WindGustDir      0\n",
       "WindGustSpeed    0\n",
       "WindDir9am       0\n",
       "WindDir3pm       0\n",
       "WindSpeed9am     0\n",
       "WindSpeed3pm     0\n",
       "Humidity9am      0\n",
       "Humidity3pm      0\n",
       "Pressure9am      0\n",
       "Pressure3pm      0\n",
       "Cloud9am         0\n",
       "Cloud3pm         0\n",
       "Temp9am          0\n",
       "Temp3pm          0\n",
       "RainToday        0\n",
       "RainTomorrow     0\n",
       "dtype: int64"
      ]
     },
     "execution_count": 4,
     "metadata": {},
     "output_type": "execute_result"
    }
   ],
   "source": [
    "# Checking the null values in the dataset\n",
    "df.isna().sum()"
   ]
  },
  {
   "cell_type": "code",
   "execution_count": 5,
   "id": "52fdf31a",
   "metadata": {
    "deletable": false,
    "editable": false,
    "nbgrader": {
     "cell_type": "code",
     "checksum": "0fbedc7cf354da0a04ee1ee4a8b7c03e",
     "grade": false,
     "grade_id": "cell-1f1ccffa75649741",
     "locked": true,
     "schema_version": 3,
     "solution": false,
     "task": false
    }
   },
   "outputs": [
    {
     "name": "stdout",
     "output_type": "stream",
     "text": [
      "There are 16 numerical variables\n",
      "\n",
      "The numerical variables are : ['MinTemp', 'MaxTemp', 'Rainfall', 'Evaporation', 'Sunshine', 'WindGustSpeed', 'WindSpeed9am', 'WindSpeed3pm', 'Humidity9am', 'Humidity3pm', 'Pressure9am', 'Pressure3pm', 'Cloud9am', 'Cloud3pm', 'Temp9am', 'Temp3pm']\n"
     ]
    }
   ],
   "source": [
    "# Storing the  numerical columns in a list which will be used later while training the model\n",
    "numerical = [var for var in df.columns if df[var].dtype!='O']\n",
    "print('There are {} numerical variables\\n'.format(len(numerical)))\n",
    "print('The numerical variables are :', numerical)"
   ]
  },
  {
   "cell_type": "markdown",
   "id": "68d296c5",
   "metadata": {
    "deletable": false,
    "editable": false,
    "nbgrader": {
     "cell_type": "markdown",
     "checksum": "f753b584f47ce8949235c576b95c083b",
     "grade": false,
     "grade_id": "cell-24ea781d007f1fc1",
     "locked": true,
     "schema_version": 3,
     "solution": false,
     "task": false
    }
   },
   "source": [
    "# FEATURE GENERATION "
   ]
  },
  {
   "cell_type": "markdown",
   "id": "9934d893",
   "metadata": {
    "deletable": false,
    "editable": false,
    "nbgrader": {
     "cell_type": "markdown",
     "checksum": "d2815b9b39e74e2c175c5d58fddb024e",
     "grade": false,
     "grade_id": "cell-77a6609024581d6f",
     "locked": true,
     "schema_version": 3,
     "solution": false,
     "task": false
    }
   },
   "source": [
    "- Now we will create new features using the features available to us in the dataset "
   ]
  },
  {
   "cell_type": "markdown",
   "id": "d4133b7b",
   "metadata": {
    "deletable": false,
    "editable": false,
    "nbgrader": {
     "cell_type": "markdown",
     "checksum": "62617a0e50010d2b7d1854deb776abf8",
     "grade": false,
     "grade_id": "cell-b41843a5911e5f42",
     "locked": true,
     "schema_version": 3,
     "solution": false,
     "task": false
    }
   },
   "source": [
    "## First we will work on the column 'Date'"
   ]
  },
  {
   "cell_type": "code",
   "execution_count": 6,
   "id": "55cb91e2",
   "metadata": {
    "deletable": false,
    "nbgrader": {
     "cell_type": "code",
     "checksum": "1e6ddb9fda0a76d5a39b116d1e699650",
     "grade": false,
     "grade_id": "cell-26a57fabadeae8c6",
     "locked": false,
     "schema_version": 3,
     "solution": true,
     "task": false
    }
   },
   "outputs": [],
   "source": [
    "# change the datatype of Column \"Date\" from  object to datetime\n",
    "# your code here\n",
    "df[\"Date\"] = pd.to_datetime(df[\"Date\"])\n"
   ]
  },
  {
   "cell_type": "markdown",
   "id": "2d1908b0",
   "metadata": {
    "deletable": false,
    "editable": false,
    "nbgrader": {
     "cell_type": "markdown",
     "checksum": "7e37a481897a9f52ff947ca3197e4b48",
     "grade": false,
     "grade_id": "cell-0668012ea2e091ec",
     "locked": true,
     "schema_version": 3,
     "solution": false,
     "task": false
    }
   },
   "source": [
    "- Create three columns using the column 'Date' : day, month and year "
   ]
  },
  {
   "cell_type": "code",
   "execution_count": 7,
   "id": "206f2336",
   "metadata": {
    "deletable": false,
    "nbgrader": {
     "cell_type": "code",
     "checksum": "e987ec10cd11d6c32e125e106e84686c",
     "grade": false,
     "grade_id": "cell-340ca8434b759216",
     "locked": false,
     "schema_version": 3,
     "solution": true,
     "task": false
    }
   },
   "outputs": [
    {
     "data": {
      "text/plain": [
       "2007"
      ]
     },
     "execution_count": 7,
     "metadata": {},
     "output_type": "execute_result"
    }
   ],
   "source": [
    "# extract year from date\n",
    "df['Year'] = df['Date'].dt.year\n",
    "df['Year'].min()"
   ]
  },
  {
   "cell_type": "code",
   "execution_count": null,
   "id": "b3940597",
   "metadata": {
    "deletable": false,
    "editable": false,
    "nbgrader": {
     "cell_type": "code",
     "checksum": "0ba79aaaccefba735414b243d1a9840b",
     "grade": true,
     "grade_id": "cell-5041d8260a23604e",
     "locked": true,
     "points": 2,
     "schema_version": 3,
     "solution": false,
     "task": false
    }
   },
   "outputs": [],
   "source": []
  },
  {
   "cell_type": "code",
   "execution_count": 8,
   "id": "30f62845",
   "metadata": {
    "deletable": false,
    "nbgrader": {
     "cell_type": "code",
     "checksum": "f70b11140175fc6de290a8aa8513a6eb",
     "grade": false,
     "grade_id": "cell-70042f0d925d18bf",
     "locked": false,
     "schema_version": 3,
     "solution": true,
     "task": false
    }
   },
   "outputs": [
    {
     "data": {
      "text/plain": [
       "1"
      ]
     },
     "execution_count": 8,
     "metadata": {},
     "output_type": "execute_result"
    }
   ],
   "source": [
    "df['Month'] = df['Date'].dt.month\n",
    "df['Month'].min()"
   ]
  },
  {
   "cell_type": "code",
   "execution_count": null,
   "id": "17647b55",
   "metadata": {
    "deletable": false,
    "editable": false,
    "nbgrader": {
     "cell_type": "code",
     "checksum": "236695e2b598206d2d3ac71ae52234eb",
     "grade": true,
     "grade_id": "cell-2b3bd3e398271bf0",
     "locked": true,
     "points": 2,
     "schema_version": 3,
     "solution": false,
     "task": false
    }
   },
   "outputs": [],
   "source": []
  },
  {
   "cell_type": "code",
   "execution_count": 9,
   "id": "9ef2a5fc",
   "metadata": {
    "deletable": false,
    "editable": false,
    "nbgrader": {
     "cell_type": "code",
     "checksum": "840e2efaab38e1c115d4e8deb6651e86",
     "grade": false,
     "grade_id": "cell-35a8ec997df335bf",
     "locked": true,
     "schema_version": 3,
     "solution": false,
     "task": false
    }
   },
   "outputs": [
    {
     "data": {
      "text/plain": [
       "1"
      ]
     },
     "execution_count": 9,
     "metadata": {},
     "output_type": "execute_result"
    }
   ],
   "source": [
    "# extract day from date\n",
    "df['Day'] = df['Date'].dt.day\n",
    "df['Day'].min()"
   ]
  },
  {
   "cell_type": "code",
   "execution_count": null,
   "id": "042db670",
   "metadata": {
    "deletable": false,
    "editable": false,
    "nbgrader": {
     "cell_type": "code",
     "checksum": "162a6d19fd37a2438adec395289fae0b",
     "grade": true,
     "grade_id": "cell-fa096d2b9c01717a",
     "locked": true,
     "points": 0,
     "schema_version": 3,
     "solution": false,
     "task": false
    }
   },
   "outputs": [],
   "source": []
  },
  {
   "cell_type": "code",
   "execution_count": 10,
   "id": "0425d663",
   "metadata": {
    "deletable": false,
    "nbgrader": {
     "cell_type": "code",
     "checksum": "9f6e4832d02fa6ef6156fbecf1bef656",
     "grade": false,
     "grade_id": "cell-4e5d3be83c59e92d",
     "locked": false,
     "schema_version": 3,
     "solution": true,
     "task": false
    }
   },
   "outputs": [],
   "source": [
    "# Drop the column Date as we have already created 3 columns using the column Date\n",
    "# your code here\n",
    "df.drop([\"Date\"], axis=1, inplace=True)"
   ]
  },
  {
   "cell_type": "markdown",
   "id": "74ef94b2",
   "metadata": {
    "deletable": false,
    "editable": false,
    "nbgrader": {
     "cell_type": "markdown",
     "checksum": "78a73502d8acd3112ed5983f8c621d81",
     "grade": false,
     "grade_id": "cell-677758b496c4d418",
     "locked": true,
     "schema_version": 3,
     "solution": false,
     "task": false
    }
   },
   "source": [
    "- Here Using the Column 'Date', we created three new features and will have to drop the parent column (DATE) as it may lead to collinearity in data"
   ]
  },
  {
   "cell_type": "code",
   "execution_count": null,
   "id": "3d50e4c5",
   "metadata": {
    "deletable": false,
    "editable": false,
    "nbgrader": {
     "cell_type": "code",
     "checksum": "f9d1cf2d3750e4b8381974ab7fae72d7",
     "grade": true,
     "grade_id": "cell-ce06b5c5636d3d33",
     "locked": true,
     "points": 2,
     "schema_version": 3,
     "solution": false,
     "task": false
    }
   },
   "outputs": [],
   "source": []
  },
  {
   "cell_type": "markdown",
   "id": "931babf6",
   "metadata": {
    "deletable": false,
    "editable": false,
    "nbgrader": {
     "cell_type": "markdown",
     "checksum": "526811f961626322871704cf02505b53",
     "grade": false,
     "grade_id": "cell-7dbd724c3a4e19cc",
     "locked": true,
     "schema_version": 3,
     "solution": false,
     "task": false
    }
   },
   "source": [
    "### We can look at the correlation matrix and see if we can create other features  "
   ]
  },
  {
   "cell_type": "code",
   "execution_count": 11,
   "id": "f40f4ce0",
   "metadata": {
    "deletable": false,
    "editable": false,
    "nbgrader": {
     "cell_type": "code",
     "checksum": "f92f3519ecc5b9d28a90df0dc2cb6330",
     "grade": false,
     "grade_id": "cell-4c9a44c08d3b8ab1",
     "locked": true,
     "schema_version": 3,
     "solution": false,
     "task": false
    }
   },
   "outputs": [
    {
     "data": {
      "text/html": [
       "<div>\n",
       "<style scoped>\n",
       "    .dataframe tbody tr th:only-of-type {\n",
       "        vertical-align: middle;\n",
       "    }\n",
       "\n",
       "    .dataframe tbody tr th {\n",
       "        vertical-align: top;\n",
       "    }\n",
       "\n",
       "    .dataframe thead th {\n",
       "        text-align: right;\n",
       "    }\n",
       "</style>\n",
       "<table border=\"1\" class=\"dataframe\">\n",
       "  <thead>\n",
       "    <tr style=\"text-align: right;\">\n",
       "      <th></th>\n",
       "      <th>MinTemp</th>\n",
       "      <th>MaxTemp</th>\n",
       "      <th>Rainfall</th>\n",
       "      <th>Evaporation</th>\n",
       "      <th>Sunshine</th>\n",
       "      <th>WindGustSpeed</th>\n",
       "      <th>WindSpeed9am</th>\n",
       "      <th>WindSpeed3pm</th>\n",
       "      <th>Humidity9am</th>\n",
       "      <th>Humidity3pm</th>\n",
       "      <th>Pressure9am</th>\n",
       "      <th>Pressure3pm</th>\n",
       "      <th>Cloud9am</th>\n",
       "      <th>Cloud3pm</th>\n",
       "      <th>Temp9am</th>\n",
       "      <th>Temp3pm</th>\n",
       "    </tr>\n",
       "  </thead>\n",
       "  <tbody>\n",
       "    <tr>\n",
       "      <th>MinTemp</th>\n",
       "      <td>1.000000</td>\n",
       "      <td>0.738167</td>\n",
       "      <td>0.088993</td>\n",
       "      <td>0.425236</td>\n",
       "      <td>0.018875</td>\n",
       "      <td>0.118289</td>\n",
       "      <td>0.126378</td>\n",
       "      <td>0.114690</td>\n",
       "      <td>-0.194706</td>\n",
       "      <td>0.024682</td>\n",
       "      <td>-0.342039</td>\n",
       "      <td>-0.350375</td>\n",
       "      <td>0.028620</td>\n",
       "      <td>-0.014037</td>\n",
       "      <td>0.902188</td>\n",
       "      <td>0.698847</td>\n",
       "    </tr>\n",
       "    <tr>\n",
       "      <th>MaxTemp</th>\n",
       "      <td>0.738167</td>\n",
       "      <td>1.000000</td>\n",
       "      <td>-0.203555</td>\n",
       "      <td>0.504883</td>\n",
       "      <td>0.310638</td>\n",
       "      <td>0.012157</td>\n",
       "      <td>-0.036053</td>\n",
       "      <td>0.010518</td>\n",
       "      <td>-0.484964</td>\n",
       "      <td>-0.483223</td>\n",
       "      <td>-0.211770</td>\n",
       "      <td>-0.296823</td>\n",
       "      <td>-0.244086</td>\n",
       "      <td>-0.237977</td>\n",
       "      <td>0.882273</td>\n",
       "      <td>0.963638</td>\n",
       "    </tr>\n",
       "    <tr>\n",
       "      <th>Rainfall</th>\n",
       "      <td>0.088993</td>\n",
       "      <td>-0.203555</td>\n",
       "      <td>1.000000</td>\n",
       "      <td>-0.144796</td>\n",
       "      <td>-0.239205</td>\n",
       "      <td>0.171846</td>\n",
       "      <td>0.123753</td>\n",
       "      <td>0.081482</td>\n",
       "      <td>0.391318</td>\n",
       "      <td>0.391765</td>\n",
       "      <td>-0.217144</td>\n",
       "      <td>-0.141204</td>\n",
       "      <td>0.245268</td>\n",
       "      <td>0.202764</td>\n",
       "      <td>-0.068312</td>\n",
       "      <td>-0.205536</td>\n",
       "    </tr>\n",
       "    <tr>\n",
       "      <th>Evaporation</th>\n",
       "      <td>0.425236</td>\n",
       "      <td>0.504883</td>\n",
       "      <td>-0.144796</td>\n",
       "      <td>1.000000</td>\n",
       "      <td>0.323542</td>\n",
       "      <td>0.122791</td>\n",
       "      <td>0.116889</td>\n",
       "      <td>0.104602</td>\n",
       "      <td>-0.399177</td>\n",
       "      <td>-0.285545</td>\n",
       "      <td>-0.204183</td>\n",
       "      <td>-0.225830</td>\n",
       "      <td>-0.184046</td>\n",
       "      <td>-0.191317</td>\n",
       "      <td>0.495531</td>\n",
       "      <td>0.484873</td>\n",
       "    </tr>\n",
       "    <tr>\n",
       "      <th>Sunshine</th>\n",
       "      <td>0.018875</td>\n",
       "      <td>0.310638</td>\n",
       "      <td>-0.239205</td>\n",
       "      <td>0.323542</td>\n",
       "      <td>1.000000</td>\n",
       "      <td>-0.047324</td>\n",
       "      <td>-0.017596</td>\n",
       "      <td>0.035724</td>\n",
       "      <td>-0.359475</td>\n",
       "      <td>-0.471784</td>\n",
       "      <td>0.075752</td>\n",
       "      <td>0.035053</td>\n",
       "      <td>-0.537514</td>\n",
       "      <td>-0.558105</td>\n",
       "      <td>0.176163</td>\n",
       "      <td>0.331925</td>\n",
       "    </tr>\n",
       "    <tr>\n",
       "      <th>WindGustSpeed</th>\n",
       "      <td>0.118289</td>\n",
       "      <td>0.012157</td>\n",
       "      <td>0.171846</td>\n",
       "      <td>0.122791</td>\n",
       "      <td>-0.047324</td>\n",
       "      <td>1.000000</td>\n",
       "      <td>0.573284</td>\n",
       "      <td>0.643178</td>\n",
       "      <td>-0.153297</td>\n",
       "      <td>0.019955</td>\n",
       "      <td>-0.417229</td>\n",
       "      <td>-0.377271</td>\n",
       "      <td>0.043015</td>\n",
       "      <td>0.079469</td>\n",
       "      <td>0.088836</td>\n",
       "      <td>-0.028038</td>\n",
       "    </tr>\n",
       "    <tr>\n",
       "      <th>WindSpeed9am</th>\n",
       "      <td>0.126378</td>\n",
       "      <td>-0.036053</td>\n",
       "      <td>0.123753</td>\n",
       "      <td>0.116889</td>\n",
       "      <td>-0.017596</td>\n",
       "      <td>0.573284</td>\n",
       "      <td>1.000000</td>\n",
       "      <td>0.535061</td>\n",
       "      <td>-0.219537</td>\n",
       "      <td>0.012480</td>\n",
       "      <td>-0.202653</td>\n",
       "      <td>-0.148490</td>\n",
       "      <td>-0.001723</td>\n",
       "      <td>0.025506</td>\n",
       "      <td>0.079559</td>\n",
       "      <td>-0.045014</td>\n",
       "    </tr>\n",
       "    <tr>\n",
       "      <th>WindSpeed3pm</th>\n",
       "      <td>0.114690</td>\n",
       "      <td>0.010518</td>\n",
       "      <td>0.081482</td>\n",
       "      <td>0.104602</td>\n",
       "      <td>0.035724</td>\n",
       "      <td>0.643178</td>\n",
       "      <td>0.535061</td>\n",
       "      <td>1.000000</td>\n",
       "      <td>-0.122363</td>\n",
       "      <td>-0.001581</td>\n",
       "      <td>-0.244933</td>\n",
       "      <td>-0.207850</td>\n",
       "      <td>0.007212</td>\n",
       "      <td>-0.002496</td>\n",
       "      <td>0.101648</td>\n",
       "      <td>-0.008578</td>\n",
       "    </tr>\n",
       "    <tr>\n",
       "      <th>Humidity9am</th>\n",
       "      <td>-0.194706</td>\n",
       "      <td>-0.484964</td>\n",
       "      <td>0.391318</td>\n",
       "      <td>-0.399177</td>\n",
       "      <td>-0.359475</td>\n",
       "      <td>-0.153297</td>\n",
       "      <td>-0.219537</td>\n",
       "      <td>-0.122363</td>\n",
       "      <td>1.000000</td>\n",
       "      <td>0.653496</td>\n",
       "      <td>0.061543</td>\n",
       "      <td>0.103553</td>\n",
       "      <td>0.382095</td>\n",
       "      <td>0.299030</td>\n",
       "      <td>-0.437019</td>\n",
       "      <td>-0.472857</td>\n",
       "    </tr>\n",
       "    <tr>\n",
       "      <th>Humidity3pm</th>\n",
       "      <td>0.024682</td>\n",
       "      <td>-0.483223</td>\n",
       "      <td>0.391765</td>\n",
       "      <td>-0.285545</td>\n",
       "      <td>-0.471784</td>\n",
       "      <td>0.019955</td>\n",
       "      <td>0.012480</td>\n",
       "      <td>-0.001581</td>\n",
       "      <td>0.653496</td>\n",
       "      <td>1.000000</td>\n",
       "      <td>-0.085633</td>\n",
       "      <td>-0.014885</td>\n",
       "      <td>0.411800</td>\n",
       "      <td>0.437446</td>\n",
       "      <td>-0.196419</td>\n",
       "      <td>-0.550452</td>\n",
       "    </tr>\n",
       "    <tr>\n",
       "      <th>Pressure9am</th>\n",
       "      <td>-0.342039</td>\n",
       "      <td>-0.211770</td>\n",
       "      <td>-0.217144</td>\n",
       "      <td>-0.204183</td>\n",
       "      <td>0.075752</td>\n",
       "      <td>-0.417229</td>\n",
       "      <td>-0.202653</td>\n",
       "      <td>-0.244933</td>\n",
       "      <td>0.061543</td>\n",
       "      <td>-0.085633</td>\n",
       "      <td>1.000000</td>\n",
       "      <td>0.956510</td>\n",
       "      <td>-0.103643</td>\n",
       "      <td>-0.119288</td>\n",
       "      <td>-0.304075</td>\n",
       "      <td>-0.162650</td>\n",
       "    </tr>\n",
       "    <tr>\n",
       "      <th>Pressure3pm</th>\n",
       "      <td>-0.350375</td>\n",
       "      <td>-0.296823</td>\n",
       "      <td>-0.141204</td>\n",
       "      <td>-0.225830</td>\n",
       "      <td>0.035053</td>\n",
       "      <td>-0.377271</td>\n",
       "      <td>-0.148490</td>\n",
       "      <td>-0.207850</td>\n",
       "      <td>0.103553</td>\n",
       "      <td>-0.014885</td>\n",
       "      <td>0.956510</td>\n",
       "      <td>1.000000</td>\n",
       "      <td>-0.057109</td>\n",
       "      <td>-0.078250</td>\n",
       "      <td>-0.345396</td>\n",
       "      <td>-0.256097</td>\n",
       "    </tr>\n",
       "    <tr>\n",
       "      <th>Cloud9am</th>\n",
       "      <td>0.028620</td>\n",
       "      <td>-0.244086</td>\n",
       "      <td>0.245268</td>\n",
       "      <td>-0.184046</td>\n",
       "      <td>-0.537514</td>\n",
       "      <td>0.043015</td>\n",
       "      <td>-0.001723</td>\n",
       "      <td>0.007212</td>\n",
       "      <td>0.382095</td>\n",
       "      <td>0.411800</td>\n",
       "      <td>-0.103643</td>\n",
       "      <td>-0.057109</td>\n",
       "      <td>1.000000</td>\n",
       "      <td>0.563097</td>\n",
       "      <td>-0.133254</td>\n",
       "      <td>-0.251464</td>\n",
       "    </tr>\n",
       "    <tr>\n",
       "      <th>Cloud3pm</th>\n",
       "      <td>-0.014037</td>\n",
       "      <td>-0.237977</td>\n",
       "      <td>0.202764</td>\n",
       "      <td>-0.191317</td>\n",
       "      <td>-0.558105</td>\n",
       "      <td>0.079469</td>\n",
       "      <td>0.025506</td>\n",
       "      <td>-0.002496</td>\n",
       "      <td>0.299030</td>\n",
       "      <td>0.437446</td>\n",
       "      <td>-0.119288</td>\n",
       "      <td>-0.078250</td>\n",
       "      <td>0.563097</td>\n",
       "      <td>1.000000</td>\n",
       "      <td>-0.122836</td>\n",
       "      <td>-0.279924</td>\n",
       "    </tr>\n",
       "    <tr>\n",
       "      <th>Temp9am</th>\n",
       "      <td>0.902188</td>\n",
       "      <td>0.882273</td>\n",
       "      <td>-0.068312</td>\n",
       "      <td>0.495531</td>\n",
       "      <td>0.176163</td>\n",
       "      <td>0.088836</td>\n",
       "      <td>0.079559</td>\n",
       "      <td>0.101648</td>\n",
       "      <td>-0.437019</td>\n",
       "      <td>-0.196419</td>\n",
       "      <td>-0.304075</td>\n",
       "      <td>-0.345396</td>\n",
       "      <td>-0.133254</td>\n",
       "      <td>-0.122836</td>\n",
       "      <td>1.000000</td>\n",
       "      <td>0.843874</td>\n",
       "    </tr>\n",
       "    <tr>\n",
       "      <th>Temp3pm</th>\n",
       "      <td>0.698847</td>\n",
       "      <td>0.963638</td>\n",
       "      <td>-0.205536</td>\n",
       "      <td>0.484873</td>\n",
       "      <td>0.331925</td>\n",
       "      <td>-0.028038</td>\n",
       "      <td>-0.045014</td>\n",
       "      <td>-0.008578</td>\n",
       "      <td>-0.472857</td>\n",
       "      <td>-0.550452</td>\n",
       "      <td>-0.162650</td>\n",
       "      <td>-0.256097</td>\n",
       "      <td>-0.251464</td>\n",
       "      <td>-0.279924</td>\n",
       "      <td>0.843874</td>\n",
       "      <td>1.000000</td>\n",
       "    </tr>\n",
       "  </tbody>\n",
       "</table>\n",
       "</div>"
      ],
      "text/plain": [
       "                MinTemp   MaxTemp  Rainfall  Evaporation  Sunshine  \\\n",
       "MinTemp        1.000000  0.738167  0.088993     0.425236  0.018875   \n",
       "MaxTemp        0.738167  1.000000 -0.203555     0.504883  0.310638   \n",
       "Rainfall       0.088993 -0.203555  1.000000    -0.144796 -0.239205   \n",
       "Evaporation    0.425236  0.504883 -0.144796     1.000000  0.323542   \n",
       "Sunshine       0.018875  0.310638 -0.239205     0.323542  1.000000   \n",
       "WindGustSpeed  0.118289  0.012157  0.171846     0.122791 -0.047324   \n",
       "WindSpeed9am   0.126378 -0.036053  0.123753     0.116889 -0.017596   \n",
       "WindSpeed3pm   0.114690  0.010518  0.081482     0.104602  0.035724   \n",
       "Humidity9am   -0.194706 -0.484964  0.391318    -0.399177 -0.359475   \n",
       "Humidity3pm    0.024682 -0.483223  0.391765    -0.285545 -0.471784   \n",
       "Pressure9am   -0.342039 -0.211770 -0.217144    -0.204183  0.075752   \n",
       "Pressure3pm   -0.350375 -0.296823 -0.141204    -0.225830  0.035053   \n",
       "Cloud9am       0.028620 -0.244086  0.245268    -0.184046 -0.537514   \n",
       "Cloud3pm      -0.014037 -0.237977  0.202764    -0.191317 -0.558105   \n",
       "Temp9am        0.902188  0.882273 -0.068312     0.495531  0.176163   \n",
       "Temp3pm        0.698847  0.963638 -0.205536     0.484873  0.331925   \n",
       "\n",
       "               WindGustSpeed  WindSpeed9am  WindSpeed3pm  Humidity9am  \\\n",
       "MinTemp             0.118289      0.126378      0.114690    -0.194706   \n",
       "MaxTemp             0.012157     -0.036053      0.010518    -0.484964   \n",
       "Rainfall            0.171846      0.123753      0.081482     0.391318   \n",
       "Evaporation         0.122791      0.116889      0.104602    -0.399177   \n",
       "Sunshine           -0.047324     -0.017596      0.035724    -0.359475   \n",
       "WindGustSpeed       1.000000      0.573284      0.643178    -0.153297   \n",
       "WindSpeed9am        0.573284      1.000000      0.535061    -0.219537   \n",
       "WindSpeed3pm        0.643178      0.535061      1.000000    -0.122363   \n",
       "Humidity9am        -0.153297     -0.219537     -0.122363     1.000000   \n",
       "Humidity3pm         0.019955      0.012480     -0.001581     0.653496   \n",
       "Pressure9am        -0.417229     -0.202653     -0.244933     0.061543   \n",
       "Pressure3pm        -0.377271     -0.148490     -0.207850     0.103553   \n",
       "Cloud9am            0.043015     -0.001723      0.007212     0.382095   \n",
       "Cloud3pm            0.079469      0.025506     -0.002496     0.299030   \n",
       "Temp9am             0.088836      0.079559      0.101648    -0.437019   \n",
       "Temp3pm            -0.028038     -0.045014     -0.008578    -0.472857   \n",
       "\n",
       "               Humidity3pm  Pressure9am  Pressure3pm  Cloud9am  Cloud3pm  \\\n",
       "MinTemp           0.024682    -0.342039    -0.350375  0.028620 -0.014037   \n",
       "MaxTemp          -0.483223    -0.211770    -0.296823 -0.244086 -0.237977   \n",
       "Rainfall          0.391765    -0.217144    -0.141204  0.245268  0.202764   \n",
       "Evaporation      -0.285545    -0.204183    -0.225830 -0.184046 -0.191317   \n",
       "Sunshine         -0.471784     0.075752     0.035053 -0.537514 -0.558105   \n",
       "WindGustSpeed     0.019955    -0.417229    -0.377271  0.043015  0.079469   \n",
       "WindSpeed9am      0.012480    -0.202653    -0.148490 -0.001723  0.025506   \n",
       "WindSpeed3pm     -0.001581    -0.244933    -0.207850  0.007212 -0.002496   \n",
       "Humidity9am       0.653496     0.061543     0.103553  0.382095  0.299030   \n",
       "Humidity3pm       1.000000    -0.085633    -0.014885  0.411800  0.437446   \n",
       "Pressure9am      -0.085633     1.000000     0.956510 -0.103643 -0.119288   \n",
       "Pressure3pm      -0.014885     0.956510     1.000000 -0.057109 -0.078250   \n",
       "Cloud9am          0.411800    -0.103643    -0.057109  1.000000  0.563097   \n",
       "Cloud3pm          0.437446    -0.119288    -0.078250  0.563097  1.000000   \n",
       "Temp9am          -0.196419    -0.304075    -0.345396 -0.133254 -0.122836   \n",
       "Temp3pm          -0.550452    -0.162650    -0.256097 -0.251464 -0.279924   \n",
       "\n",
       "                Temp9am   Temp3pm  \n",
       "MinTemp        0.902188  0.698847  \n",
       "MaxTemp        0.882273  0.963638  \n",
       "Rainfall      -0.068312 -0.205536  \n",
       "Evaporation    0.495531  0.484873  \n",
       "Sunshine       0.176163  0.331925  \n",
       "WindGustSpeed  0.088836 -0.028038  \n",
       "WindSpeed9am   0.079559 -0.045014  \n",
       "WindSpeed3pm   0.101648 -0.008578  \n",
       "Humidity9am   -0.437019 -0.472857  \n",
       "Humidity3pm   -0.196419 -0.550452  \n",
       "Pressure9am   -0.304075 -0.162650  \n",
       "Pressure3pm   -0.345396 -0.256097  \n",
       "Cloud9am      -0.133254 -0.251464  \n",
       "Cloud3pm      -0.122836 -0.279924  \n",
       "Temp9am        1.000000  0.843874  \n",
       "Temp3pm        0.843874  1.000000  "
      ]
     },
     "execution_count": 11,
     "metadata": {},
     "output_type": "execute_result"
    }
   ],
   "source": [
    "# Using the corr function to check the correlation matrix\n",
    "df[numerical].corr()"
   ]
  },
  {
   "cell_type": "code",
   "execution_count": 12,
   "id": "193c245a",
   "metadata": {
    "deletable": false,
    "editable": false,
    "nbgrader": {
     "cell_type": "code",
     "checksum": "cb71a27be3374bc15432bfca8b59d5b5",
     "grade": false,
     "grade_id": "cell-c5e35cb8e569af5e",
     "locked": true,
     "schema_version": 3,
     "solution": false,
     "task": false
    }
   },
   "outputs": [
    {
     "data": {
      "image/png": "[encoded data removed]",
      "text/plain": [
       "<Figure size 1000x800 with 2 Axes>"
      ]
     },
     "metadata": {},
     "output_type": "display_data"
    }
   ],
   "source": [
    "# create a correlation heat map for numerical columns \n",
    "# Plotting the correlation matrix\n",
    "plt.figure(figsize=(10, 8))\n",
    "sns.heatmap(df[numerical].corr(), annot=True, fmt=\".2f\", cmap='coolwarm')\n",
    "plt.title(\"Correlation Matrix of Weather Features\")\n",
    "plt.show()"
   ]
  },
  {
   "cell_type": "markdown",
   "id": "a753f02a",
   "metadata": {
    "deletable": false,
    "editable": false,
    "nbgrader": {
     "cell_type": "markdown",
     "checksum": "c66e15bb750d82eee9f9949bb1786e8e",
     "grade": false,
     "grade_id": "cell-e114feebb32a8c99",
     "locked": true,
     "schema_version": 3,
     "solution": false,
     "task": false
    }
   },
   "source": [
    "As per the correlation plot and Based on its analysis, \n",
    "the creation of features like TempRange, PressureChange, AverageHumidity, and \n",
    "WindSpeedDiff seems justified, as they capture the variations and averages of these \n",
    "correlated measures throughout the day as per the dataset. \n"
   ]
  },
  {
   "cell_type": "code",
   "execution_count": 13,
   "id": "6be1c0a9",
   "metadata": {
    "deletable": false,
    "editable": false,
    "nbgrader": {
     "cell_type": "code",
     "checksum": "03da1da72fb79fba62abcb4e2ab778be",
     "grade": false,
     "grade_id": "cell-60f8cd09d86bf4f5",
     "locked": true,
     "schema_version": 3,
     "solution": false,
     "task": false
    }
   },
   "outputs": [],
   "source": [
    "df['TempRange'] = df['MaxTemp'] - df['MinTemp']\n",
    "df['PressureChange'] = df['Pressure9am'] - df['Pressure3pm']\n",
    "df['AverageHumidity'] = (df['Humidity9am'] + df['Humidity3pm']) / 2\n",
    "df['WindSpeedDiff'] = df['WindGustSpeed'] - ((df['WindSpeed9am'] + df['WindSpeed3pm']) / 2)"
   ]
  },
  {
   "cell_type": "code",
   "execution_count": 14,
   "id": "48aab589-8079-4fac-89a1-a064449eb86d",
   "metadata": {},
   "outputs": [
    {
     "data": {
      "text/html": [
       "<div>\n",
       "<style scoped>\n",
       "    .dataframe tbody tr th:only-of-type {\n",
       "        vertical-align: middle;\n",
       "    }\n",
       "\n",
       "    .dataframe tbody tr th {\n",
       "        vertical-align: top;\n",
       "    }\n",
       "\n",
       "    .dataframe thead th {\n",
       "        text-align: right;\n",
       "    }\n",
       "</style>\n",
       "<table border=\"1\" class=\"dataframe\">\n",
       "  <thead>\n",
       "    <tr style=\"text-align: right;\">\n",
       "      <th></th>\n",
       "      <th>Location</th>\n",
       "      <th>MinTemp</th>\n",
       "      <th>MaxTemp</th>\n",
       "      <th>Rainfall</th>\n",
       "      <th>Evaporation</th>\n",
       "      <th>Sunshine</th>\n",
       "      <th>WindGustDir</th>\n",
       "      <th>WindGustSpeed</th>\n",
       "      <th>WindDir9am</th>\n",
       "      <th>WindDir3pm</th>\n",
       "      <th>...</th>\n",
       "      <th>Temp3pm</th>\n",
       "      <th>RainToday</th>\n",
       "      <th>RainTomorrow</th>\n",
       "      <th>Year</th>\n",
       "      <th>Month</th>\n",
       "      <th>Day</th>\n",
       "      <th>TempRange</th>\n",
       "      <th>PressureChange</th>\n",
       "      <th>AverageHumidity</th>\n",
       "      <th>WindSpeedDiff</th>\n",
       "    </tr>\n",
       "  </thead>\n",
       "  <tbody>\n",
       "    <tr>\n",
       "      <th>0</th>\n",
       "      <td>MountGambier</td>\n",
       "      <td>15.2</td>\n",
       "      <td>24.3</td>\n",
       "      <td>0.0</td>\n",
       "      <td>4.4</td>\n",
       "      <td>6.8</td>\n",
       "      <td>SW</td>\n",
       "      <td>39.0</td>\n",
       "      <td>SSE</td>\n",
       "      <td>SW</td>\n",
       "      <td>...</td>\n",
       "      <td>20.9</td>\n",
       "      <td>No</td>\n",
       "      <td>Yes</td>\n",
       "      <td>2017</td>\n",
       "      <td>2</td>\n",
       "      <td>11</td>\n",
       "      <td>9.1</td>\n",
       "      <td>0.7</td>\n",
       "      <td>64.0</td>\n",
       "      <td>25.0</td>\n",
       "    </tr>\n",
       "  </tbody>\n",
       "</table>\n",
       "<p>1 rows × 29 columns</p>\n",
       "</div>"
      ],
      "text/plain": [
       "       Location  MinTemp  MaxTemp  Rainfall  Evaporation  Sunshine  \\\n",
       "0  MountGambier     15.2     24.3       0.0          4.4       6.8   \n",
       "\n",
       "  WindGustDir  WindGustSpeed WindDir9am WindDir3pm  ...  Temp3pm  RainToday  \\\n",
       "0          SW           39.0        SSE         SW  ...     20.9         No   \n",
       "\n",
       "   RainTomorrow  Year  Month  Day  TempRange  PressureChange  AverageHumidity  \\\n",
       "0           Yes  2017      2   11        9.1             0.7             64.0   \n",
       "\n",
       "   WindSpeedDiff  \n",
       "0           25.0  \n",
       "\n",
       "[1 rows x 29 columns]"
      ]
     },
     "execution_count": 14,
     "metadata": {},
     "output_type": "execute_result"
    }
   ],
   "source": [
    "df.head(1)"
   ]
  },
  {
   "cell_type": "code",
   "execution_count": 15,
   "id": "6ae259e9",
   "metadata": {
    "deletable": false,
    "editable": false,
    "nbgrader": {
     "cell_type": "code",
     "checksum": "d26a0b257a66a335ed6024a051adee63",
     "grade": false,
     "grade_id": "cell-c57a3a1142c58ff0",
     "locked": true,
     "schema_version": 3,
     "solution": false,
     "task": false
    }
   },
   "outputs": [],
   "source": [
    "# Find categorical variables \n",
    "# List the names of the features which are categorical(string) which needs to be processed -either encoding or mapping.\n",
    "\n",
    "categorical=[]\n",
    "cols_types = zip(list(df.columns), list(df.dtypes))\n",
    "\n",
    "for i in cols_types:\n",
    "    if is_string_dtype(df[i[0]].dtype):\n",
    "        categorical.append(i[0])"
   ]
  },
  {
   "cell_type": "markdown",
   "id": "51c9806f",
   "metadata": {
    "deletable": false,
    "editable": false,
    "nbgrader": {
     "cell_type": "markdown",
     "checksum": "09eae9e726396b4c68267d19a5e308b8",
     "grade": false,
     "grade_id": "cell-8e83f1d1ec7a154c",
     "locked": true,
     "schema_version": 3,
     "solution": false,
     "task": false
    }
   },
   "source": [
    "### ENCODING CATEGORICAL VARIABLES "
   ]
  },
  {
   "cell_type": "code",
   "execution_count": 16,
   "id": "5df8dc8d",
   "metadata": {
    "deletable": false,
    "editable": false,
    "nbgrader": {
     "cell_type": "code",
     "checksum": "958cb41f7f6feddd0364ca3c55eddaf7",
     "grade": false,
     "grade_id": "cell-8c5834cf12221c40",
     "locked": true,
     "schema_version": 3,
     "solution": false,
     "task": false
    }
   },
   "outputs": [
    {
     "name": "stdout",
     "output_type": "stream",
     "text": [
      "WindGustDir 16\n",
      "WindDir9am 16\n",
      "WindDir3pm 16\n",
      "RainToday 2\n",
      "RainTomorrow 2\n"
     ]
    }
   ],
   "source": [
    "#lets check the unique values counts in the categorical variables \n",
    "for i in categorical[1:]: \n",
    "    print(i , df[i].nunique())"
   ]
  },
  {
   "cell_type": "markdown",
   "id": "1c377a87",
   "metadata": {
    "deletable": false,
    "editable": false,
    "nbgrader": {
     "cell_type": "markdown",
     "checksum": "42c145ec6ea9120c5a6644902ca53d38",
     "grade": false,
     "grade_id": "cell-d93f0139b32a7628",
     "locked": true,
     "schema_version": 3,
     "solution": false,
     "task": false
    }
   },
   "source": [
    "## Remove 'Date' from categorical columns if present."
   ]
  },
  {
   "cell_type": "code",
   "execution_count": 17,
   "id": "bac696f7",
   "metadata": {
    "deletable": false,
    "nbgrader": {
     "cell_type": "code",
     "checksum": "d1bedf0394bcecd7a526eecc5913cf19",
     "grade": false,
     "grade_id": "cell-bfbe440fbc584380",
     "locked": false,
     "schema_version": 3,
     "solution": true,
     "task": false
    }
   },
   "outputs": [
    {
     "data": {
      "text/html": [
       "<div>\n",
       "<style scoped>\n",
       "    .dataframe tbody tr th:only-of-type {\n",
       "        vertical-align: middle;\n",
       "    }\n",
       "\n",
       "    .dataframe tbody tr th {\n",
       "        vertical-align: top;\n",
       "    }\n",
       "\n",
       "    .dataframe thead th {\n",
       "        text-align: right;\n",
       "    }\n",
       "</style>\n",
       "<table border=\"1\" class=\"dataframe\">\n",
       "  <thead>\n",
       "    <tr style=\"text-align: right;\">\n",
       "      <th></th>\n",
       "      <th>Location</th>\n",
       "      <th>MinTemp</th>\n",
       "      <th>MaxTemp</th>\n",
       "      <th>Rainfall</th>\n",
       "      <th>Evaporation</th>\n",
       "      <th>Sunshine</th>\n",
       "      <th>WindGustDir</th>\n",
       "      <th>WindGustSpeed</th>\n",
       "      <th>WindDir9am</th>\n",
       "      <th>WindDir3pm</th>\n",
       "      <th>...</th>\n",
       "      <th>Temp3pm</th>\n",
       "      <th>RainToday</th>\n",
       "      <th>RainTomorrow</th>\n",
       "      <th>Year</th>\n",
       "      <th>Month</th>\n",
       "      <th>Day</th>\n",
       "      <th>TempRange</th>\n",
       "      <th>PressureChange</th>\n",
       "      <th>AverageHumidity</th>\n",
       "      <th>WindSpeedDiff</th>\n",
       "    </tr>\n",
       "  </thead>\n",
       "  <tbody>\n",
       "    <tr>\n",
       "      <th>0</th>\n",
       "      <td>MountGambier</td>\n",
       "      <td>15.2</td>\n",
       "      <td>24.3</td>\n",
       "      <td>0.0</td>\n",
       "      <td>4.4</td>\n",
       "      <td>6.8</td>\n",
       "      <td>SW</td>\n",
       "      <td>39.0</td>\n",
       "      <td>SSE</td>\n",
       "      <td>SW</td>\n",
       "      <td>...</td>\n",
       "      <td>20.9</td>\n",
       "      <td>No</td>\n",
       "      <td>Yes</td>\n",
       "      <td>2017</td>\n",
       "      <td>2</td>\n",
       "      <td>11</td>\n",
       "      <td>9.1</td>\n",
       "      <td>0.7</td>\n",
       "      <td>64.0</td>\n",
       "      <td>25.0</td>\n",
       "    </tr>\n",
       "    <tr>\n",
       "      <th>1</th>\n",
       "      <td>Brisbane</td>\n",
       "      <td>13.9</td>\n",
       "      <td>21.6</td>\n",
       "      <td>8.8</td>\n",
       "      <td>3.2</td>\n",
       "      <td>6.6</td>\n",
       "      <td>ESE</td>\n",
       "      <td>44.0</td>\n",
       "      <td>SW</td>\n",
       "      <td>ESE</td>\n",
       "      <td>...</td>\n",
       "      <td>20.0</td>\n",
       "      <td>Yes</td>\n",
       "      <td>Yes</td>\n",
       "      <td>2011</td>\n",
       "      <td>8</td>\n",
       "      <td>23</td>\n",
       "      <td>7.7</td>\n",
       "      <td>2.7</td>\n",
       "      <td>81.0</td>\n",
       "      <td>36.5</td>\n",
       "    </tr>\n",
       "    <tr>\n",
       "      <th>2</th>\n",
       "      <td>Newcastle</td>\n",
       "      <td>9.5</td>\n",
       "      <td>24.2</td>\n",
       "      <td>0.0</td>\n",
       "      <td>4.4</td>\n",
       "      <td>6.8</td>\n",
       "      <td>W</td>\n",
       "      <td>41.0</td>\n",
       "      <td>NW</td>\n",
       "      <td>SW</td>\n",
       "      <td>...</td>\n",
       "      <td>24.0</td>\n",
       "      <td>No</td>\n",
       "      <td>Yes</td>\n",
       "      <td>2014</td>\n",
       "      <td>9</td>\n",
       "      <td>11</td>\n",
       "      <td>14.7</td>\n",
       "      <td>2.3</td>\n",
       "      <td>44.5</td>\n",
       "      <td>37.0</td>\n",
       "    </tr>\n",
       "    <tr>\n",
       "      <th>3</th>\n",
       "      <td>CoffsHarbour</td>\n",
       "      <td>16.3</td>\n",
       "      <td>20.7</td>\n",
       "      <td>4.4</td>\n",
       "      <td>4.4</td>\n",
       "      <td>6.8</td>\n",
       "      <td>WSW</td>\n",
       "      <td>41.0</td>\n",
       "      <td>WSW</td>\n",
       "      <td>SE</td>\n",
       "      <td>...</td>\n",
       "      <td>20.0</td>\n",
       "      <td>Yes</td>\n",
       "      <td>Yes</td>\n",
       "      <td>2015</td>\n",
       "      <td>5</td>\n",
       "      <td>31</td>\n",
       "      <td>4.4</td>\n",
       "      <td>4.9</td>\n",
       "      <td>89.0</td>\n",
       "      <td>34.0</td>\n",
       "    </tr>\n",
       "    <tr>\n",
       "      <th>4</th>\n",
       "      <td>NorahHead</td>\n",
       "      <td>15.2</td>\n",
       "      <td>25.1</td>\n",
       "      <td>3.8</td>\n",
       "      <td>4.4</td>\n",
       "      <td>6.8</td>\n",
       "      <td>W</td>\n",
       "      <td>46.0</td>\n",
       "      <td>NNW</td>\n",
       "      <td>WNW</td>\n",
       "      <td>...</td>\n",
       "      <td>20.5</td>\n",
       "      <td>Yes</td>\n",
       "      <td>Yes</td>\n",
       "      <td>2015</td>\n",
       "      <td>4</td>\n",
       "      <td>7</td>\n",
       "      <td>9.9</td>\n",
       "      <td>0.6</td>\n",
       "      <td>68.5</td>\n",
       "      <td>36.5</td>\n",
       "    </tr>\n",
       "  </tbody>\n",
       "</table>\n",
       "<p>5 rows × 29 columns</p>\n",
       "</div>"
      ],
      "text/plain": [
       "       Location  MinTemp  MaxTemp  Rainfall  Evaporation  Sunshine  \\\n",
       "0  MountGambier     15.2     24.3       0.0          4.4       6.8   \n",
       "1      Brisbane     13.9     21.6       8.8          3.2       6.6   \n",
       "2     Newcastle      9.5     24.2       0.0          4.4       6.8   \n",
       "3  CoffsHarbour     16.3     20.7       4.4          4.4       6.8   \n",
       "4     NorahHead     15.2     25.1       3.8          4.4       6.8   \n",
       "\n",
       "  WindGustDir  WindGustSpeed WindDir9am WindDir3pm  ...  Temp3pm  RainToday  \\\n",
       "0          SW           39.0        SSE         SW  ...     20.9         No   \n",
       "1         ESE           44.0         SW        ESE  ...     20.0        Yes   \n",
       "2           W           41.0         NW         SW  ...     24.0         No   \n",
       "3         WSW           41.0        WSW         SE  ...     20.0        Yes   \n",
       "4           W           46.0        NNW        WNW  ...     20.5        Yes   \n",
       "\n",
       "   RainTomorrow  Year  Month  Day  TempRange  PressureChange  AverageHumidity  \\\n",
       "0           Yes  2017      2   11        9.1             0.7             64.0   \n",
       "1           Yes  2011      8   23        7.7             2.7             81.0   \n",
       "2           Yes  2014      9   11       14.7             2.3             44.5   \n",
       "3           Yes  2015      5   31        4.4             4.9             89.0   \n",
       "4           Yes  2015      4    7        9.9             0.6             68.5   \n",
       "\n",
       "   WindSpeedDiff  \n",
       "0           25.0  \n",
       "1           36.5  \n",
       "2           37.0  \n",
       "3           34.0  \n",
       "4           36.5  \n",
       "\n",
       "[5 rows x 29 columns]"
      ]
     },
     "execution_count": 17,
     "metadata": {},
     "output_type": "execute_result"
    }
   ],
   "source": [
    "# Remove the 'Date' columns from the dataset\n",
    "# your code here\n",
    "df.head()"
   ]
  },
  {
   "cell_type": "code",
   "execution_count": 18,
   "id": "362e566f",
   "metadata": {
    "deletable": false,
    "editable": false,
    "nbgrader": {
     "cell_type": "code",
     "checksum": "3a3f941de8c09c61228f0ace6c8defde",
     "grade": false,
     "grade_id": "cell-0c2f5b45245f0dd0",
     "locked": true,
     "schema_version": 3,
     "solution": false,
     "task": false
    }
   },
   "outputs": [
    {
     "data": {
      "text/plain": [
       "['Location',\n",
       " 'WindGustDir',\n",
       " 'WindDir9am',\n",
       " 'WindDir3pm',\n",
       " 'RainToday',\n",
       " 'RainTomorrow']"
      ]
     },
     "execution_count": 18,
     "metadata": {},
     "output_type": "execute_result"
    }
   ],
   "source": [
    "categorical"
   ]
  },
  {
   "cell_type": "code",
   "execution_count": 19,
   "id": "93df037b-ce72-407f-987b-4187af869586",
   "metadata": {},
   "outputs": [
    {
     "name": "stdout",
     "output_type": "stream",
     "text": [
      "<class 'pandas.core.frame.DataFrame'>\n",
      "RangeIndex: 40000 entries, 0 to 39999\n",
      "Data columns (total 29 columns):\n",
      " #   Column           Non-Null Count  Dtype  \n",
      "---  ------           --------------  -----  \n",
      " 0   Location         40000 non-null  object \n",
      " 1   MinTemp          40000 non-null  float64\n",
      " 2   MaxTemp          40000 non-null  float64\n",
      " 3   Rainfall         40000 non-null  float64\n",
      " 4   Evaporation      40000 non-null  float64\n",
      " 5   Sunshine         40000 non-null  float64\n",
      " 6   WindGustDir      40000 non-null  object \n",
      " 7   WindGustSpeed    40000 non-null  float64\n",
      " 8   WindDir9am       40000 non-null  object \n",
      " 9   WindDir3pm       40000 non-null  object \n",
      " 10  WindSpeed9am     40000 non-null  float64\n",
      " 11  WindSpeed3pm     40000 non-null  float64\n",
      " 12  Humidity9am      40000 non-null  float64\n",
      " 13  Humidity3pm      40000 non-null  float64\n",
      " 14  Pressure9am      40000 non-null  float64\n",
      " 15  Pressure3pm      40000 non-null  float64\n",
      " 16  Cloud9am         40000 non-null  float64\n",
      " 17  Cloud3pm         40000 non-null  float64\n",
      " 18  Temp9am          40000 non-null  float64\n",
      " 19  Temp3pm          40000 non-null  float64\n",
      " 20  RainToday        40000 non-null  object \n",
      " 21  RainTomorrow     40000 non-null  object \n",
      " 22  Year             40000 non-null  int64  \n",
      " 23  Month            40000 non-null  int64  \n",
      " 24  Day              40000 non-null  int64  \n",
      " 25  TempRange        40000 non-null  float64\n",
      " 26  PressureChange   40000 non-null  float64\n",
      " 27  AverageHumidity  40000 non-null  float64\n",
      " 28  WindSpeedDiff    40000 non-null  float64\n",
      "dtypes: float64(20), int64(3), object(6)\n",
      "memory usage: 8.9+ MB\n"
     ]
    }
   ],
   "source": [
    "df.info()"
   ]
  },
  {
   "cell_type": "code",
   "execution_count": 20,
   "id": "1b9419d4-6e3d-4334-9190-59979f7fec08",
   "metadata": {},
   "outputs": [
    {
     "data": {
      "text/plain": [
       "49"
      ]
     },
     "execution_count": 20,
     "metadata": {},
     "output_type": "execute_result"
    }
   ],
   "source": [
    "df.Location.nunique()"
   ]
  },
  {
   "cell_type": "code",
   "execution_count": 21,
   "id": "21e03be7",
   "metadata": {
    "deletable": false,
    "nbgrader": {
     "cell_type": "code",
     "checksum": "b675ecef6cd30b58b3297b3795f7acd6",
     "grade": false,
     "grade_id": "cell-34593cfeebec10c6",
     "locked": false,
     "schema_version": 3,
     "solution": true,
     "task": false
    }
   },
   "outputs": [],
   "source": [
    "#Encode the categorical variables except for RainTomorr\n",
    "df_encoded = pd.get_dummies(data=df, columns=['Location', 'WindGustDir', 'WindDir9am', 'WindDir3pm', 'RainToday'], drop_first=False)"
   ]
  },
  {
   "cell_type": "code",
   "execution_count": 22,
   "id": "c1a866eb-0646-492c-9887-b73c2c0e0771",
   "metadata": {},
   "outputs": [
    {
     "data": {
      "text/html": [
       "<div>\n",
       "<style scoped>\n",
       "    .dataframe tbody tr th:only-of-type {\n",
       "        vertical-align: middle;\n",
       "    }\n",
       "\n",
       "    .dataframe tbody tr th {\n",
       "        vertical-align: top;\n",
       "    }\n",
       "\n",
       "    .dataframe thead th {\n",
       "        text-align: right;\n",
       "    }\n",
       "</style>\n",
       "<table border=\"1\" class=\"dataframe\">\n",
       "  <thead>\n",
       "    <tr style=\"text-align: right;\">\n",
       "      <th></th>\n",
       "      <th>MinTemp</th>\n",
       "      <th>MaxTemp</th>\n",
       "      <th>Rainfall</th>\n",
       "      <th>Evaporation</th>\n",
       "      <th>Sunshine</th>\n",
       "      <th>WindGustSpeed</th>\n",
       "      <th>WindSpeed9am</th>\n",
       "      <th>WindSpeed3pm</th>\n",
       "      <th>Humidity9am</th>\n",
       "      <th>Humidity3pm</th>\n",
       "      <th>...</th>\n",
       "      <th>WindDir3pm_S</th>\n",
       "      <th>WindDir3pm_SE</th>\n",
       "      <th>WindDir3pm_SSE</th>\n",
       "      <th>WindDir3pm_SSW</th>\n",
       "      <th>WindDir3pm_SW</th>\n",
       "      <th>WindDir3pm_W</th>\n",
       "      <th>WindDir3pm_WNW</th>\n",
       "      <th>WindDir3pm_WSW</th>\n",
       "      <th>RainToday_No</th>\n",
       "      <th>RainToday_Yes</th>\n",
       "    </tr>\n",
       "  </thead>\n",
       "  <tbody>\n",
       "    <tr>\n",
       "      <th>0</th>\n",
       "      <td>15.2</td>\n",
       "      <td>24.3</td>\n",
       "      <td>0.0</td>\n",
       "      <td>4.4</td>\n",
       "      <td>6.8</td>\n",
       "      <td>39.0</td>\n",
       "      <td>9.0</td>\n",
       "      <td>19.0</td>\n",
       "      <td>70.0</td>\n",
       "      <td>58.0</td>\n",
       "      <td>...</td>\n",
       "      <td>0</td>\n",
       "      <td>0</td>\n",
       "      <td>0</td>\n",
       "      <td>0</td>\n",
       "      <td>1</td>\n",
       "      <td>0</td>\n",
       "      <td>0</td>\n",
       "      <td>0</td>\n",
       "      <td>1</td>\n",
       "      <td>0</td>\n",
       "    </tr>\n",
       "    <tr>\n",
       "      <th>1</th>\n",
       "      <td>13.9</td>\n",
       "      <td>21.6</td>\n",
       "      <td>8.8</td>\n",
       "      <td>3.2</td>\n",
       "      <td>6.6</td>\n",
       "      <td>44.0</td>\n",
       "      <td>4.0</td>\n",
       "      <td>11.0</td>\n",
       "      <td>88.0</td>\n",
       "      <td>74.0</td>\n",
       "      <td>...</td>\n",
       "      <td>0</td>\n",
       "      <td>0</td>\n",
       "      <td>0</td>\n",
       "      <td>0</td>\n",
       "      <td>0</td>\n",
       "      <td>0</td>\n",
       "      <td>0</td>\n",
       "      <td>0</td>\n",
       "      <td>0</td>\n",
       "      <td>1</td>\n",
       "    </tr>\n",
       "    <tr>\n",
       "      <th>2</th>\n",
       "      <td>9.5</td>\n",
       "      <td>24.2</td>\n",
       "      <td>0.0</td>\n",
       "      <td>4.4</td>\n",
       "      <td>6.8</td>\n",
       "      <td>41.0</td>\n",
       "      <td>4.0</td>\n",
       "      <td>4.0</td>\n",
       "      <td>56.0</td>\n",
       "      <td>33.0</td>\n",
       "      <td>...</td>\n",
       "      <td>0</td>\n",
       "      <td>0</td>\n",
       "      <td>0</td>\n",
       "      <td>0</td>\n",
       "      <td>1</td>\n",
       "      <td>0</td>\n",
       "      <td>0</td>\n",
       "      <td>0</td>\n",
       "      <td>1</td>\n",
       "      <td>0</td>\n",
       "    </tr>\n",
       "    <tr>\n",
       "      <th>3</th>\n",
       "      <td>16.3</td>\n",
       "      <td>20.7</td>\n",
       "      <td>4.4</td>\n",
       "      <td>4.4</td>\n",
       "      <td>6.8</td>\n",
       "      <td>41.0</td>\n",
       "      <td>7.0</td>\n",
       "      <td>7.0</td>\n",
       "      <td>96.0</td>\n",
       "      <td>82.0</td>\n",
       "      <td>...</td>\n",
       "      <td>0</td>\n",
       "      <td>1</td>\n",
       "      <td>0</td>\n",
       "      <td>0</td>\n",
       "      <td>0</td>\n",
       "      <td>0</td>\n",
       "      <td>0</td>\n",
       "      <td>0</td>\n",
       "      <td>0</td>\n",
       "      <td>1</td>\n",
       "    </tr>\n",
       "    <tr>\n",
       "      <th>4</th>\n",
       "      <td>15.2</td>\n",
       "      <td>25.1</td>\n",
       "      <td>3.8</td>\n",
       "      <td>4.4</td>\n",
       "      <td>6.8</td>\n",
       "      <td>46.0</td>\n",
       "      <td>4.0</td>\n",
       "      <td>15.0</td>\n",
       "      <td>79.0</td>\n",
       "      <td>58.0</td>\n",
       "      <td>...</td>\n",
       "      <td>0</td>\n",
       "      <td>0</td>\n",
       "      <td>0</td>\n",
       "      <td>0</td>\n",
       "      <td>0</td>\n",
       "      <td>0</td>\n",
       "      <td>1</td>\n",
       "      <td>0</td>\n",
       "      <td>0</td>\n",
       "      <td>1</td>\n",
       "    </tr>\n",
       "    <tr>\n",
       "      <th>...</th>\n",
       "      <td>...</td>\n",
       "      <td>...</td>\n",
       "      <td>...</td>\n",
       "      <td>...</td>\n",
       "      <td>...</td>\n",
       "      <td>...</td>\n",
       "      <td>...</td>\n",
       "      <td>...</td>\n",
       "      <td>...</td>\n",
       "      <td>...</td>\n",
       "      <td>...</td>\n",
       "      <td>...</td>\n",
       "      <td>...</td>\n",
       "      <td>...</td>\n",
       "      <td>...</td>\n",
       "      <td>...</td>\n",
       "      <td>...</td>\n",
       "      <td>...</td>\n",
       "      <td>...</td>\n",
       "      <td>...</td>\n",
       "      <td>...</td>\n",
       "    </tr>\n",
       "    <tr>\n",
       "      <th>39995</th>\n",
       "      <td>12.7</td>\n",
       "      <td>21.2</td>\n",
       "      <td>0.2</td>\n",
       "      <td>4.4</td>\n",
       "      <td>6.8</td>\n",
       "      <td>37.0</td>\n",
       "      <td>13.0</td>\n",
       "      <td>19.0</td>\n",
       "      <td>48.0</td>\n",
       "      <td>35.0</td>\n",
       "      <td>...</td>\n",
       "      <td>0</td>\n",
       "      <td>0</td>\n",
       "      <td>0</td>\n",
       "      <td>0</td>\n",
       "      <td>0</td>\n",
       "      <td>0</td>\n",
       "      <td>1</td>\n",
       "      <td>0</td>\n",
       "      <td>1</td>\n",
       "      <td>0</td>\n",
       "    </tr>\n",
       "    <tr>\n",
       "      <th>39996</th>\n",
       "      <td>19.1</td>\n",
       "      <td>28.6</td>\n",
       "      <td>0.0</td>\n",
       "      <td>5.4</td>\n",
       "      <td>7.7</td>\n",
       "      <td>50.0</td>\n",
       "      <td>22.0</td>\n",
       "      <td>35.0</td>\n",
       "      <td>73.0</td>\n",
       "      <td>65.0</td>\n",
       "      <td>...</td>\n",
       "      <td>0</td>\n",
       "      <td>0</td>\n",
       "      <td>0</td>\n",
       "      <td>0</td>\n",
       "      <td>0</td>\n",
       "      <td>0</td>\n",
       "      <td>0</td>\n",
       "      <td>0</td>\n",
       "      <td>1</td>\n",
       "      <td>0</td>\n",
       "    </tr>\n",
       "    <tr>\n",
       "      <th>39997</th>\n",
       "      <td>20.4</td>\n",
       "      <td>36.4</td>\n",
       "      <td>0.0</td>\n",
       "      <td>4.4</td>\n",
       "      <td>6.8</td>\n",
       "      <td>41.0</td>\n",
       "      <td>0.0</td>\n",
       "      <td>9.0</td>\n",
       "      <td>70.0</td>\n",
       "      <td>48.0</td>\n",
       "      <td>...</td>\n",
       "      <td>0</td>\n",
       "      <td>1</td>\n",
       "      <td>0</td>\n",
       "      <td>0</td>\n",
       "      <td>0</td>\n",
       "      <td>0</td>\n",
       "      <td>0</td>\n",
       "      <td>0</td>\n",
       "      <td>1</td>\n",
       "      <td>0</td>\n",
       "    </tr>\n",
       "    <tr>\n",
       "      <th>39998</th>\n",
       "      <td>1.8</td>\n",
       "      <td>18.1</td>\n",
       "      <td>0.0</td>\n",
       "      <td>4.4</td>\n",
       "      <td>6.8</td>\n",
       "      <td>33.0</td>\n",
       "      <td>2.0</td>\n",
       "      <td>19.0</td>\n",
       "      <td>70.0</td>\n",
       "      <td>59.0</td>\n",
       "      <td>...</td>\n",
       "      <td>0</td>\n",
       "      <td>0</td>\n",
       "      <td>0</td>\n",
       "      <td>0</td>\n",
       "      <td>0</td>\n",
       "      <td>0</td>\n",
       "      <td>0</td>\n",
       "      <td>0</td>\n",
       "      <td>1</td>\n",
       "      <td>0</td>\n",
       "    </tr>\n",
       "    <tr>\n",
       "      <th>39999</th>\n",
       "      <td>16.3</td>\n",
       "      <td>35.0</td>\n",
       "      <td>0.0</td>\n",
       "      <td>8.0</td>\n",
       "      <td>6.8</td>\n",
       "      <td>48.0</td>\n",
       "      <td>9.0</td>\n",
       "      <td>20.0</td>\n",
       "      <td>67.0</td>\n",
       "      <td>31.0</td>\n",
       "      <td>...</td>\n",
       "      <td>0</td>\n",
       "      <td>0</td>\n",
       "      <td>0</td>\n",
       "      <td>0</td>\n",
       "      <td>0</td>\n",
       "      <td>0</td>\n",
       "      <td>0</td>\n",
       "      <td>0</td>\n",
       "      <td>1</td>\n",
       "      <td>0</td>\n",
       "    </tr>\n",
       "  </tbody>\n",
       "</table>\n",
       "<p>40000 rows × 123 columns</p>\n",
       "</div>"
      ],
      "text/plain": [
       "       MinTemp  MaxTemp  Rainfall  Evaporation  Sunshine  WindGustSpeed  \\\n",
       "0         15.2     24.3       0.0          4.4       6.8           39.0   \n",
       "1         13.9     21.6       8.8          3.2       6.6           44.0   \n",
       "2          9.5     24.2       0.0          4.4       6.8           41.0   \n",
       "3         16.3     20.7       4.4          4.4       6.8           41.0   \n",
       "4         15.2     25.1       3.8          4.4       6.8           46.0   \n",
       "...        ...      ...       ...          ...       ...            ...   \n",
       "39995     12.7     21.2       0.2          4.4       6.8           37.0   \n",
       "39996     19.1     28.6       0.0          5.4       7.7           50.0   \n",
       "39997     20.4     36.4       0.0          4.4       6.8           41.0   \n",
       "39998      1.8     18.1       0.0          4.4       6.8           33.0   \n",
       "39999     16.3     35.0       0.0          8.0       6.8           48.0   \n",
       "\n",
       "       WindSpeed9am  WindSpeed3pm  Humidity9am  Humidity3pm  ...  \\\n",
       "0               9.0          19.0         70.0         58.0  ...   \n",
       "1               4.0          11.0         88.0         74.0  ...   \n",
       "2               4.0           4.0         56.0         33.0  ...   \n",
       "3               7.0           7.0         96.0         82.0  ...   \n",
       "4               4.0          15.0         79.0         58.0  ...   \n",
       "...             ...           ...          ...          ...  ...   \n",
       "39995          13.0          19.0         48.0         35.0  ...   \n",
       "39996          22.0          35.0         73.0         65.0  ...   \n",
       "39997           0.0           9.0         70.0         48.0  ...   \n",
       "39998           2.0          19.0         70.0         59.0  ...   \n",
       "39999           9.0          20.0         67.0         31.0  ...   \n",
       "\n",
       "       WindDir3pm_S  WindDir3pm_SE  WindDir3pm_SSE  WindDir3pm_SSW  \\\n",
       "0                 0              0               0               0   \n",
       "1                 0              0               0               0   \n",
       "2                 0              0               0               0   \n",
       "3                 0              1               0               0   \n",
       "4                 0              0               0               0   \n",
       "...             ...            ...             ...             ...   \n",
       "39995             0              0               0               0   \n",
       "39996             0              0               0               0   \n",
       "39997             0              1               0               0   \n",
       "39998             0              0               0               0   \n",
       "39999             0              0               0               0   \n",
       "\n",
       "       WindDir3pm_SW  WindDir3pm_W WindDir3pm_WNW  WindDir3pm_WSW  \\\n",
       "0                  1             0              0               0   \n",
       "1                  0             0              0               0   \n",
       "2                  1             0              0               0   \n",
       "3                  0             0              0               0   \n",
       "4                  0             0              1               0   \n",
       "...              ...           ...            ...             ...   \n",
       "39995              0             0              1               0   \n",
       "39996              0             0              0               0   \n",
       "39997              0             0              0               0   \n",
       "39998              0             0              0               0   \n",
       "39999              0             0              0               0   \n",
       "\n",
       "       RainToday_No  RainToday_Yes  \n",
       "0                 1              0  \n",
       "1                 0              1  \n",
       "2                 1              0  \n",
       "3                 0              1  \n",
       "4                 0              1  \n",
       "...             ...            ...  \n",
       "39995             1              0  \n",
       "39996             1              0  \n",
       "39997             1              0  \n",
       "39998             1              0  \n",
       "39999             1              0  \n",
       "\n",
       "[40000 rows x 123 columns]"
      ]
     },
     "execution_count": 22,
     "metadata": {},
     "output_type": "execute_result"
    }
   ],
   "source": [
    "df_encoded"
   ]
  },
  {
   "cell_type": "code",
   "execution_count": 23,
   "id": "e72b7703",
   "metadata": {
    "deletable": false,
    "editable": false,
    "nbgrader": {
     "cell_type": "code",
     "checksum": "d47868b30b23e92090f95128ae48583c",
     "grade": true,
     "grade_id": "cell-d955129a3bd33ef9",
     "locked": true,
     "points": 2,
     "schema_version": 3,
     "solution": false,
     "task": false
    }
   },
   "outputs": [],
   "source": [
    "assert df_encoded.shape[1] == 123, \"After encoding there will be 123 columns. \""
   ]
  },
  {
   "cell_type": "code",
   "execution_count": 24,
   "id": "ba1e6c88-ea0c-4a68-b3fe-6c9c2d6fa77e",
   "metadata": {
    "scrolled": true
   },
   "outputs": [
    {
     "name": "stdout",
     "output_type": "stream",
     "text": [
      "<class 'pandas.core.frame.DataFrame'>\n",
      "RangeIndex: 40000 entries, 0 to 39999\n",
      "Data columns (total 123 columns):\n",
      " #    Column                     Dtype  \n",
      "---   ------                     -----  \n",
      " 0    MinTemp                    float64\n",
      " 1    MaxTemp                    float64\n",
      " 2    Rainfall                   float64\n",
      " 3    Evaporation                float64\n",
      " 4    Sunshine                   float64\n",
      " 5    WindGustSpeed              float64\n",
      " 6    WindSpeed9am               float64\n",
      " 7    WindSpeed3pm               float64\n",
      " 8    Humidity9am                float64\n",
      " 9    Humidity3pm                float64\n",
      " 10   Pressure9am                float64\n",
      " 11   Pressure3pm                float64\n",
      " 12   Cloud9am                   float64\n",
      " 13   Cloud3pm                   float64\n",
      " 14   Temp9am                    float64\n",
      " 15   Temp3pm                    float64\n",
      " 16   RainTomorrow               object \n",
      " 17   Year                       int64  \n",
      " 18   Month                      int64  \n",
      " 19   Day                        int64  \n",
      " 20   TempRange                  float64\n",
      " 21   PressureChange             float64\n",
      " 22   AverageHumidity            float64\n",
      " 23   WindSpeedDiff              float64\n",
      " 24   Location_Adelaide          uint8  \n",
      " 25   Location_Albany            uint8  \n",
      " 26   Location_Albury            uint8  \n",
      " 27   Location_AliceSprings      uint8  \n",
      " 28   Location_BadgerysCreek     uint8  \n",
      " 29   Location_Ballarat          uint8  \n",
      " 30   Location_Bendigo           uint8  \n",
      " 31   Location_Brisbane          uint8  \n",
      " 32   Location_Cairns            uint8  \n",
      " 33   Location_Canberra          uint8  \n",
      " 34   Location_Cobar             uint8  \n",
      " 35   Location_CoffsHarbour      uint8  \n",
      " 36   Location_Dartmoor          uint8  \n",
      " 37   Location_Darwin            uint8  \n",
      " 38   Location_GoldCoast         uint8  \n",
      " 39   Location_Hobart            uint8  \n",
      " 40   Location_Katherine         uint8  \n",
      " 41   Location_Launceston        uint8  \n",
      " 42   Location_Melbourne         uint8  \n",
      " 43   Location_MelbourneAirport  uint8  \n",
      " 44   Location_Mildura           uint8  \n",
      " 45   Location_Moree             uint8  \n",
      " 46   Location_MountGambier      uint8  \n",
      " 47   Location_MountGinini       uint8  \n",
      " 48   Location_Newcastle         uint8  \n",
      " 49   Location_Nhil              uint8  \n",
      " 50   Location_NorahHead         uint8  \n",
      " 51   Location_NorfolkIsland     uint8  \n",
      " 52   Location_Nuriootpa         uint8  \n",
      " 53   Location_PearceRAAF        uint8  \n",
      " 54   Location_Penrith           uint8  \n",
      " 55   Location_Perth             uint8  \n",
      " 56   Location_PerthAirport      uint8  \n",
      " 57   Location_Portland          uint8  \n",
      " 58   Location_Richmond          uint8  \n",
      " 59   Location_Sale              uint8  \n",
      " 60   Location_SalmonGums        uint8  \n",
      " 61   Location_Sydney            uint8  \n",
      " 62   Location_SydneyAirport     uint8  \n",
      " 63   Location_Townsville        uint8  \n",
      " 64   Location_Tuggeranong       uint8  \n",
      " 65   Location_Uluru             uint8  \n",
      " 66   Location_WaggaWagga        uint8  \n",
      " 67   Location_Walpole           uint8  \n",
      " 68   Location_Watsonia          uint8  \n",
      " 69   Location_Williamtown       uint8  \n",
      " 70   Location_Witchcliffe       uint8  \n",
      " 71   Location_Wollongong        uint8  \n",
      " 72   Location_Woomera           uint8  \n",
      " 73   WindGustDir_E              uint8  \n",
      " 74   WindGustDir_ENE            uint8  \n",
      " 75   WindGustDir_ESE            uint8  \n",
      " 76   WindGustDir_N              uint8  \n",
      " 77   WindGustDir_NE             uint8  \n",
      " 78   WindGustDir_NNE            uint8  \n",
      " 79   WindGustDir_NNW            uint8  \n",
      " 80   WindGustDir_NW             uint8  \n",
      " 81   WindGustDir_S              uint8  \n",
      " 82   WindGustDir_SE             uint8  \n",
      " 83   WindGustDir_SSE            uint8  \n",
      " 84   WindGustDir_SSW            uint8  \n",
      " 85   WindGustDir_SW             uint8  \n",
      " 86   WindGustDir_W              uint8  \n",
      " 87   WindGustDir_WNW            uint8  \n",
      " 88   WindGustDir_WSW            uint8  \n",
      " 89   WindDir9am_E               uint8  \n",
      " 90   WindDir9am_ENE             uint8  \n",
      " 91   WindDir9am_ESE             uint8  \n",
      " 92   WindDir9am_N               uint8  \n",
      " 93   WindDir9am_NE              uint8  \n",
      " 94   WindDir9am_NNE             uint8  \n",
      " 95   WindDir9am_NNW             uint8  \n",
      " 96   WindDir9am_NW              uint8  \n",
      " 97   WindDir9am_S               uint8  \n",
      " 98   WindDir9am_SE              uint8  \n",
      " 99   WindDir9am_SSE             uint8  \n",
      " 100  WindDir9am_SSW             uint8  \n",
      " 101  WindDir9am_SW              uint8  \n",
      " 102  WindDir9am_W               uint8  \n",
      " 103  WindDir9am_WNW             uint8  \n",
      " 104  WindDir9am_WSW             uint8  \n",
      " 105  WindDir3pm_E               uint8  \n",
      " 106  WindDir3pm_ENE             uint8  \n",
      " 107  WindDir3pm_ESE             uint8  \n",
      " 108  WindDir3pm_N               uint8  \n",
      " 109  WindDir3pm_NE              uint8  \n",
      " 110  WindDir3pm_NNE             uint8  \n",
      " 111  WindDir3pm_NNW             uint8  \n",
      " 112  WindDir3pm_NW              uint8  \n",
      " 113  WindDir3pm_S               uint8  \n",
      " 114  WindDir3pm_SE              uint8  \n",
      " 115  WindDir3pm_SSE             uint8  \n",
      " 116  WindDir3pm_SSW             uint8  \n",
      " 117  WindDir3pm_SW              uint8  \n",
      " 118  WindDir3pm_W               uint8  \n",
      " 119  WindDir3pm_WNW             uint8  \n",
      " 120  WindDir3pm_WSW             uint8  \n",
      " 121  RainToday_No               uint8  \n",
      " 122  RainToday_Yes              uint8  \n",
      "dtypes: float64(20), int64(3), object(1), uint8(99)\n",
      "memory usage: 11.1+ MB\n"
     ]
    }
   ],
   "source": [
    "df_encoded.info(verbose=True)"
   ]
  },
  {
   "cell_type": "code",
   "execution_count": 25,
   "id": "a7d28f8f-333d-4348-850e-056cb41bf0d7",
   "metadata": {},
   "outputs": [],
   "source": [
    "from sklearn.preprocessing import LabelEncoder\n",
    "le = LabelEncoder()"
   ]
  },
  {
   "cell_type": "code",
   "execution_count": 26,
   "id": "f6d68ad4-3b2a-49b2-9de4-e7c2f52a2fac",
   "metadata": {},
   "outputs": [],
   "source": [
    "df_encoded[\"RainTomorrow\"] = le.fit_transform(df_encoded[\"RainTomorrow\"])"
   ]
  },
  {
   "cell_type": "code",
   "execution_count": 27,
   "id": "ade0b2e4-6a48-4832-b4b7-cfe0495539b6",
   "metadata": {},
   "outputs": [
    {
     "data": {
      "text/plain": [
       "0        1\n",
       "1        1\n",
       "2        1\n",
       "3        1\n",
       "4        1\n",
       "        ..\n",
       "39995    0\n",
       "39996    0\n",
       "39997    0\n",
       "39998    0\n",
       "39999    0\n",
       "Name: RainTomorrow, Length: 40000, dtype: int32"
      ]
     },
     "execution_count": 27,
     "metadata": {},
     "output_type": "execute_result"
    }
   ],
   "source": [
    "df_encoded[\"RainTomorrow\"]"
   ]
  },
  {
   "cell_type": "markdown",
   "id": "3fd88ed5",
   "metadata": {
    "deletable": false,
    "editable": false,
    "nbgrader": {
     "cell_type": "markdown",
     "checksum": "8daf5b43a5c0962905ffd75d1447dc11",
     "grade": false,
     "grade_id": "cell-10380faefc719976",
     "locked": true,
     "schema_version": 3,
     "solution": false,
     "task": false
    }
   },
   "source": [
    "### Feature Scaling "
   ]
  },
  {
   "cell_type": "markdown",
   "id": "c422b957",
   "metadata": {
    "deletable": false,
    "editable": false,
    "nbgrader": {
     "cell_type": "markdown",
     "checksum": "36321c43781c6aed0b47d3322e2c7810",
     "grade": false,
     "grade_id": "cell-128ecd4664dae397",
     "locked": true,
     "schema_version": 3,
     "solution": false,
     "task": false
    }
   },
   "source": [
    "In the next step, we will scale the numerical columns"
   ]
  },
  {
   "cell_type": "code",
   "execution_count": 28,
   "id": "f4740039",
   "metadata": {
    "deletable": false,
    "nbgrader": {
     "cell_type": "code",
     "checksum": "449031ab75f02851d6620a088ff36d6c",
     "grade": false,
     "grade_id": "cell-9e4d8c21d45614bb",
     "locked": false,
     "schema_version": 3,
     "solution": true,
     "task": false
    }
   },
   "outputs": [],
   "source": [
    "#Scaling the Numerical variables \n",
    "from sklearn.preprocessing import MinMaxScaler\n",
    "\n",
    "mm = MinMaxScaler()"
   ]
  },
  {
   "cell_type": "code",
   "execution_count": 29,
   "id": "32bb2f04-10e5-4d8f-896b-229c75aadf53",
   "metadata": {},
   "outputs": [],
   "source": [
    "df_scaled_array = mm.fit_transform(df[numerical])"
   ]
  },
  {
   "cell_type": "code",
   "execution_count": 30,
   "id": "a9ec66a3-85e0-4cc6-948a-af9f0430269b",
   "metadata": {},
   "outputs": [
    {
     "data": {
      "text/plain": [
       "array([[0.55581948, 0.55009452, 0.        , ..., 0.88888889, 0.54978355,\n",
       "        0.51067961],\n",
       "       [0.52494062, 0.49905482, 1.        , ..., 0.55555556, 0.52380952,\n",
       "        0.49320388],\n",
       "       [0.42042755, 0.54820416, 0.        , ..., 0.        , 0.52380952,\n",
       "        0.57087379],\n",
       "       ...,\n",
       "       [0.67933492, 0.77882798, 0.        , ..., 0.44444444, 0.74025974,\n",
       "        0.78446602],\n",
       "       [0.23752969, 0.43289225, 0.        , ..., 0.11111111, 0.36363636,\n",
       "        0.43300971],\n",
       "       [0.58194774, 0.75236295, 0.        , ..., 0.33333333, 0.67965368,\n",
       "        0.76504854]])"
      ]
     },
     "execution_count": 30,
     "metadata": {},
     "output_type": "execute_result"
    }
   ],
   "source": [
    "df_scaled_array"
   ]
  },
  {
   "cell_type": "code",
   "execution_count": 31,
   "id": "65fab6f8-95f5-4482-8978-7248ce72a5a4",
   "metadata": {},
   "outputs": [
    {
     "data": {
      "text/plain": [
       "(40000, 16)"
      ]
     },
     "execution_count": 31,
     "metadata": {},
     "output_type": "execute_result"
    }
   ],
   "source": [
    "df_scaled_array.shape"
   ]
  },
  {
   "cell_type": "code",
   "execution_count": 32,
   "id": "4d99e395",
   "metadata": {
    "deletable": false,
    "editable": false,
    "nbgrader": {
     "cell_type": "code",
     "checksum": "4da06e2c3ef319e35cb8118fc79846ef",
     "grade": false,
     "grade_id": "cell-a17ca678a4b99baf",
     "locked": true,
     "schema_version": 3,
     "solution": false,
     "task": false
    }
   },
   "outputs": [],
   "source": [
    "# Storing the scaled datapoints in the dataframe nsame df_Scaled\n",
    "df_scaled = pd.DataFrame(df_scaled_array, columns=[numerical])"
   ]
  },
  {
   "cell_type": "code",
   "execution_count": null,
   "id": "d17f7346",
   "metadata": {
    "deletable": false,
    "editable": false,
    "nbgrader": {
     "cell_type": "code",
     "checksum": "f67314725a2246c8fd1a06532a7f4971",
     "grade": true,
     "grade_id": "cell-55a2759f821bd90b",
     "locked": true,
     "points": 2,
     "schema_version": 3,
     "solution": false,
     "task": false
    }
   },
   "outputs": [],
   "source": []
  },
  {
   "cell_type": "markdown",
   "id": "49814eb5",
   "metadata": {
    "deletable": false,
    "editable": false,
    "nbgrader": {
     "cell_type": "markdown",
     "checksum": "1fa864a7748a99bea41f1729fe29fb73",
     "grade": false,
     "grade_id": "cell-80b2dca2b62510bf",
     "locked": true,
     "schema_version": 3,
     "solution": false,
     "task": false
    }
   },
   "source": [
    "Create a combined dataframe with all the encoded , scaled and target column "
   ]
  },
  {
   "cell_type": "code",
   "execution_count": 33,
   "id": "84f4f407",
   "metadata": {
    "deletable": false,
    "editable": false,
    "nbgrader": {
     "cell_type": "code",
     "checksum": "eb3f896d41d40132271193228c91553c",
     "grade": false,
     "grade_id": "cell-848498820a6287f7",
     "locked": true,
     "schema_version": 3,
     "solution": false,
     "task": false
    }
   },
   "outputs": [],
   "source": [
    "final_df= pd.concat([df_scaled,df_encoded] , axis =1 )"
   ]
  },
  {
   "cell_type": "code",
   "execution_count": 34,
   "id": "98a38b30",
   "metadata": {
    "deletable": false,
    "editable": false,
    "nbgrader": {
     "cell_type": "code",
     "checksum": "612681989c47c5459bc34b90e5a14977",
     "grade": false,
     "grade_id": "cell-7e5f97a3b71f68f1",
     "locked": true,
     "schema_version": 3,
     "solution": false,
     "task": false
    }
   },
   "outputs": [],
   "source": [
    "# Modify only the tuple column names\n",
    "new_column_names = [('_'.join(col) if isinstance(col, tuple) else col) for col in final_df.columns]\n",
    "final_df.columns = new_column_names"
   ]
  },
  {
   "cell_type": "code",
   "execution_count": 35,
   "id": "43be5f2c",
   "metadata": {
    "deletable": false,
    "editable": false,
    "nbgrader": {
     "cell_type": "code",
     "checksum": "40d8fcfc144f6af6a5f6f3d35e2ef271",
     "grade": false,
     "grade_id": "cell-3ef443e0a098120b",
     "locked": true,
     "schema_version": 3,
     "solution": false,
     "task": false
    }
   },
   "outputs": [],
   "source": [
    "# Finally dropping all the null values from our dataset\n",
    "final_df.dropna(axis=0, inplace=True)"
   ]
  },
  {
   "cell_type": "code",
   "execution_count": 36,
   "id": "dfec4f26",
   "metadata": {},
   "outputs": [
    {
     "data": {
      "text/html": [
       "<div>\n",
       "<style scoped>\n",
       "    .dataframe tbody tr th:only-of-type {\n",
       "        vertical-align: middle;\n",
       "    }\n",
       "\n",
       "    .dataframe tbody tr th {\n",
       "        vertical-align: top;\n",
       "    }\n",
       "\n",
       "    .dataframe thead th {\n",
       "        text-align: right;\n",
       "    }\n",
       "</style>\n",
       "<table border=\"1\" class=\"dataframe\">\n",
       "  <thead>\n",
       "    <tr style=\"text-align: right;\">\n",
       "      <th></th>\n",
       "      <th>MinTemp</th>\n",
       "      <th>MaxTemp</th>\n",
       "      <th>Rainfall</th>\n",
       "      <th>Evaporation</th>\n",
       "      <th>Sunshine</th>\n",
       "      <th>WindGustSpeed</th>\n",
       "      <th>WindSpeed9am</th>\n",
       "      <th>WindSpeed3pm</th>\n",
       "      <th>Humidity9am</th>\n",
       "      <th>Humidity3pm</th>\n",
       "      <th>...</th>\n",
       "      <th>WindDir3pm_S</th>\n",
       "      <th>WindDir3pm_SE</th>\n",
       "      <th>WindDir3pm_SSE</th>\n",
       "      <th>WindDir3pm_SSW</th>\n",
       "      <th>WindDir3pm_SW</th>\n",
       "      <th>WindDir3pm_W</th>\n",
       "      <th>WindDir3pm_WNW</th>\n",
       "      <th>WindDir3pm_WSW</th>\n",
       "      <th>RainToday_No</th>\n",
       "      <th>RainToday_Yes</th>\n",
       "    </tr>\n",
       "  </thead>\n",
       "  <tbody>\n",
       "    <tr>\n",
       "      <th>0</th>\n",
       "      <td>0.555819</td>\n",
       "      <td>0.550095</td>\n",
       "      <td>0.000000</td>\n",
       "      <td>0.550</td>\n",
       "      <td>0.475524</td>\n",
       "      <td>0.250000</td>\n",
       "      <td>0.152542</td>\n",
       "      <td>0.333333</td>\n",
       "      <td>0.693878</td>\n",
       "      <td>0.58</td>\n",
       "      <td>...</td>\n",
       "      <td>0</td>\n",
       "      <td>0</td>\n",
       "      <td>0</td>\n",
       "      <td>0</td>\n",
       "      <td>1</td>\n",
       "      <td>0</td>\n",
       "      <td>0</td>\n",
       "      <td>0</td>\n",
       "      <td>1</td>\n",
       "      <td>0</td>\n",
       "    </tr>\n",
       "    <tr>\n",
       "      <th>1</th>\n",
       "      <td>0.524941</td>\n",
       "      <td>0.499055</td>\n",
       "      <td>1.000000</td>\n",
       "      <td>0.400</td>\n",
       "      <td>0.461538</td>\n",
       "      <td>0.289062</td>\n",
       "      <td>0.067797</td>\n",
       "      <td>0.192982</td>\n",
       "      <td>0.877551</td>\n",
       "      <td>0.74</td>\n",
       "      <td>...</td>\n",
       "      <td>0</td>\n",
       "      <td>0</td>\n",
       "      <td>0</td>\n",
       "      <td>0</td>\n",
       "      <td>0</td>\n",
       "      <td>0</td>\n",
       "      <td>0</td>\n",
       "      <td>0</td>\n",
       "      <td>0</td>\n",
       "      <td>1</td>\n",
       "    </tr>\n",
       "    <tr>\n",
       "      <th>2</th>\n",
       "      <td>0.420428</td>\n",
       "      <td>0.548204</td>\n",
       "      <td>0.000000</td>\n",
       "      <td>0.550</td>\n",
       "      <td>0.475524</td>\n",
       "      <td>0.265625</td>\n",
       "      <td>0.067797</td>\n",
       "      <td>0.070175</td>\n",
       "      <td>0.551020</td>\n",
       "      <td>0.33</td>\n",
       "      <td>...</td>\n",
       "      <td>0</td>\n",
       "      <td>0</td>\n",
       "      <td>0</td>\n",
       "      <td>0</td>\n",
       "      <td>1</td>\n",
       "      <td>0</td>\n",
       "      <td>0</td>\n",
       "      <td>0</td>\n",
       "      <td>1</td>\n",
       "      <td>0</td>\n",
       "    </tr>\n",
       "    <tr>\n",
       "      <th>3</th>\n",
       "      <td>0.581948</td>\n",
       "      <td>0.482042</td>\n",
       "      <td>0.500000</td>\n",
       "      <td>0.550</td>\n",
       "      <td>0.475524</td>\n",
       "      <td>0.265625</td>\n",
       "      <td>0.118644</td>\n",
       "      <td>0.122807</td>\n",
       "      <td>0.959184</td>\n",
       "      <td>0.82</td>\n",
       "      <td>...</td>\n",
       "      <td>0</td>\n",
       "      <td>1</td>\n",
       "      <td>0</td>\n",
       "      <td>0</td>\n",
       "      <td>0</td>\n",
       "      <td>0</td>\n",
       "      <td>0</td>\n",
       "      <td>0</td>\n",
       "      <td>0</td>\n",
       "      <td>1</td>\n",
       "    </tr>\n",
       "    <tr>\n",
       "      <th>4</th>\n",
       "      <td>0.555819</td>\n",
       "      <td>0.565217</td>\n",
       "      <td>0.431818</td>\n",
       "      <td>0.550</td>\n",
       "      <td>0.475524</td>\n",
       "      <td>0.304688</td>\n",
       "      <td>0.067797</td>\n",
       "      <td>0.263158</td>\n",
       "      <td>0.785714</td>\n",
       "      <td>0.58</td>\n",
       "      <td>...</td>\n",
       "      <td>0</td>\n",
       "      <td>0</td>\n",
       "      <td>0</td>\n",
       "      <td>0</td>\n",
       "      <td>0</td>\n",
       "      <td>0</td>\n",
       "      <td>1</td>\n",
       "      <td>0</td>\n",
       "      <td>0</td>\n",
       "      <td>1</td>\n",
       "    </tr>\n",
       "    <tr>\n",
       "      <th>...</th>\n",
       "      <td>...</td>\n",
       "      <td>...</td>\n",
       "      <td>...</td>\n",
       "      <td>...</td>\n",
       "      <td>...</td>\n",
       "      <td>...</td>\n",
       "      <td>...</td>\n",
       "      <td>...</td>\n",
       "      <td>...</td>\n",
       "      <td>...</td>\n",
       "      <td>...</td>\n",
       "      <td>...</td>\n",
       "      <td>...</td>\n",
       "      <td>...</td>\n",
       "      <td>...</td>\n",
       "      <td>...</td>\n",
       "      <td>...</td>\n",
       "      <td>...</td>\n",
       "      <td>...</td>\n",
       "      <td>...</td>\n",
       "      <td>...</td>\n",
       "    </tr>\n",
       "    <tr>\n",
       "      <th>39995</th>\n",
       "      <td>0.496437</td>\n",
       "      <td>0.491493</td>\n",
       "      <td>0.022727</td>\n",
       "      <td>0.550</td>\n",
       "      <td>0.475524</td>\n",
       "      <td>0.234375</td>\n",
       "      <td>0.220339</td>\n",
       "      <td>0.333333</td>\n",
       "      <td>0.469388</td>\n",
       "      <td>0.35</td>\n",
       "      <td>...</td>\n",
       "      <td>0</td>\n",
       "      <td>0</td>\n",
       "      <td>0</td>\n",
       "      <td>0</td>\n",
       "      <td>0</td>\n",
       "      <td>0</td>\n",
       "      <td>1</td>\n",
       "      <td>0</td>\n",
       "      <td>1</td>\n",
       "      <td>0</td>\n",
       "    </tr>\n",
       "    <tr>\n",
       "      <th>39996</th>\n",
       "      <td>0.648456</td>\n",
       "      <td>0.631380</td>\n",
       "      <td>0.000000</td>\n",
       "      <td>0.675</td>\n",
       "      <td>0.538462</td>\n",
       "      <td>0.335938</td>\n",
       "      <td>0.372881</td>\n",
       "      <td>0.614035</td>\n",
       "      <td>0.724490</td>\n",
       "      <td>0.65</td>\n",
       "      <td>...</td>\n",
       "      <td>0</td>\n",
       "      <td>0</td>\n",
       "      <td>0</td>\n",
       "      <td>0</td>\n",
       "      <td>0</td>\n",
       "      <td>0</td>\n",
       "      <td>0</td>\n",
       "      <td>0</td>\n",
       "      <td>1</td>\n",
       "      <td>0</td>\n",
       "    </tr>\n",
       "    <tr>\n",
       "      <th>39997</th>\n",
       "      <td>0.679335</td>\n",
       "      <td>0.778828</td>\n",
       "      <td>0.000000</td>\n",
       "      <td>0.550</td>\n",
       "      <td>0.475524</td>\n",
       "      <td>0.265625</td>\n",
       "      <td>0.000000</td>\n",
       "      <td>0.157895</td>\n",
       "      <td>0.693878</td>\n",
       "      <td>0.48</td>\n",
       "      <td>...</td>\n",
       "      <td>0</td>\n",
       "      <td>1</td>\n",
       "      <td>0</td>\n",
       "      <td>0</td>\n",
       "      <td>0</td>\n",
       "      <td>0</td>\n",
       "      <td>0</td>\n",
       "      <td>0</td>\n",
       "      <td>1</td>\n",
       "      <td>0</td>\n",
       "    </tr>\n",
       "    <tr>\n",
       "      <th>39998</th>\n",
       "      <td>0.237530</td>\n",
       "      <td>0.432892</td>\n",
       "      <td>0.000000</td>\n",
       "      <td>0.550</td>\n",
       "      <td>0.475524</td>\n",
       "      <td>0.203125</td>\n",
       "      <td>0.033898</td>\n",
       "      <td>0.333333</td>\n",
       "      <td>0.693878</td>\n",
       "      <td>0.59</td>\n",
       "      <td>...</td>\n",
       "      <td>0</td>\n",
       "      <td>0</td>\n",
       "      <td>0</td>\n",
       "      <td>0</td>\n",
       "      <td>0</td>\n",
       "      <td>0</td>\n",
       "      <td>0</td>\n",
       "      <td>0</td>\n",
       "      <td>1</td>\n",
       "      <td>0</td>\n",
       "    </tr>\n",
       "    <tr>\n",
       "      <th>39999</th>\n",
       "      <td>0.581948</td>\n",
       "      <td>0.752363</td>\n",
       "      <td>0.000000</td>\n",
       "      <td>1.000</td>\n",
       "      <td>0.475524</td>\n",
       "      <td>0.320312</td>\n",
       "      <td>0.152542</td>\n",
       "      <td>0.350877</td>\n",
       "      <td>0.663265</td>\n",
       "      <td>0.31</td>\n",
       "      <td>...</td>\n",
       "      <td>0</td>\n",
       "      <td>0</td>\n",
       "      <td>0</td>\n",
       "      <td>0</td>\n",
       "      <td>0</td>\n",
       "      <td>0</td>\n",
       "      <td>0</td>\n",
       "      <td>0</td>\n",
       "      <td>1</td>\n",
       "      <td>0</td>\n",
       "    </tr>\n",
       "  </tbody>\n",
       "</table>\n",
       "<p>40000 rows × 139 columns</p>\n",
       "</div>"
      ],
      "text/plain": [
       "        MinTemp   MaxTemp  Rainfall  Evaporation  Sunshine  WindGustSpeed  \\\n",
       "0      0.555819  0.550095  0.000000        0.550  0.475524       0.250000   \n",
       "1      0.524941  0.499055  1.000000        0.400  0.461538       0.289062   \n",
       "2      0.420428  0.548204  0.000000        0.550  0.475524       0.265625   \n",
       "3      0.581948  0.482042  0.500000        0.550  0.475524       0.265625   \n",
       "4      0.555819  0.565217  0.431818        0.550  0.475524       0.304688   \n",
       "...         ...       ...       ...          ...       ...            ...   \n",
       "39995  0.496437  0.491493  0.022727        0.550  0.475524       0.234375   \n",
       "39996  0.648456  0.631380  0.000000        0.675  0.538462       0.335938   \n",
       "39997  0.679335  0.778828  0.000000        0.550  0.475524       0.265625   \n",
       "39998  0.237530  0.432892  0.000000        0.550  0.475524       0.203125   \n",
       "39999  0.581948  0.752363  0.000000        1.000  0.475524       0.320312   \n",
       "\n",
       "       WindSpeed9am  WindSpeed3pm  Humidity9am  Humidity3pm  ...  \\\n",
       "0          0.152542      0.333333     0.693878         0.58  ...   \n",
       "1          0.067797      0.192982     0.877551         0.74  ...   \n",
       "2          0.067797      0.070175     0.551020         0.33  ...   \n",
       "3          0.118644      0.122807     0.959184         0.82  ...   \n",
       "4          0.067797      0.263158     0.785714         0.58  ...   \n",
       "...             ...           ...          ...          ...  ...   \n",
       "39995      0.220339      0.333333     0.469388         0.35  ...   \n",
       "39996      0.372881      0.614035     0.724490         0.65  ...   \n",
       "39997      0.000000      0.157895     0.693878         0.48  ...   \n",
       "39998      0.033898      0.333333     0.693878         0.59  ...   \n",
       "39999      0.152542      0.350877     0.663265         0.31  ...   \n",
       "\n",
       "       WindDir3pm_S  WindDir3pm_SE  WindDir3pm_SSE  WindDir3pm_SSW  \\\n",
       "0                 0              0               0               0   \n",
       "1                 0              0               0               0   \n",
       "2                 0              0               0               0   \n",
       "3                 0              1               0               0   \n",
       "4                 0              0               0               0   \n",
       "...             ...            ...             ...             ...   \n",
       "39995             0              0               0               0   \n",
       "39996             0              0               0               0   \n",
       "39997             0              1               0               0   \n",
       "39998             0              0               0               0   \n",
       "39999             0              0               0               0   \n",
       "\n",
       "       WindDir3pm_SW  WindDir3pm_W  WindDir3pm_WNW  WindDir3pm_WSW  \\\n",
       "0                  1             0               0               0   \n",
       "1                  0             0               0               0   \n",
       "2                  1             0               0               0   \n",
       "3                  0             0               0               0   \n",
       "4                  0             0               1               0   \n",
       "...              ...           ...             ...             ...   \n",
       "39995              0             0               1               0   \n",
       "39996              0             0               0               0   \n",
       "39997              0             0               0               0   \n",
       "39998              0             0               0               0   \n",
       "39999              0             0               0               0   \n",
       "\n",
       "       RainToday_No  RainToday_Yes  \n",
       "0                 1              0  \n",
       "1                 0              1  \n",
       "2                 1              0  \n",
       "3                 0              1  \n",
       "4                 0              1  \n",
       "...             ...            ...  \n",
       "39995             1              0  \n",
       "39996             1              0  \n",
       "39997             1              0  \n",
       "39998             1              0  \n",
       "39999             1              0  \n",
       "\n",
       "[40000 rows x 139 columns]"
      ]
     },
     "execution_count": 36,
     "metadata": {},
     "output_type": "execute_result"
    }
   ],
   "source": [
    "final_df"
   ]
  },
  {
   "cell_type": "markdown",
   "id": "42cb38ef",
   "metadata": {
    "deletable": false,
    "editable": false,
    "nbgrader": {
     "cell_type": "markdown",
     "checksum": "288d2cbbec4086a38760b54e37336b0f",
     "grade": false,
     "grade_id": "cell-f0eec08589b9c81e",
     "locked": true,
     "schema_version": 3,
     "solution": false,
     "task": false
    }
   },
   "source": [
    "After the null value treatement, we will build the model on the rest of the data"
   ]
  },
  {
   "cell_type": "code",
   "execution_count": 37,
   "id": "aebd935c-fdfa-4415-a268-c2a365805d18",
   "metadata": {},
   "outputs": [],
   "source": [
    "X = final_df.drop([\"RainTomorrow\"], axis=1)\n",
    "y = final_df[\"RainTomorrow\"]"
   ]
  },
  {
   "cell_type": "code",
   "execution_count": 38,
   "id": "71ba4f23",
   "metadata": {
    "deletable": false,
    "nbgrader": {
     "cell_type": "code",
     "checksum": "dd9c61a6dd5afcc3b0b34244d880ca8b",
     "grade": false,
     "grade_id": "cell-a66a72b15c36f986",
     "locked": false,
     "schema_version": 3,
     "solution": true,
     "task": false
    }
   },
   "outputs": [],
   "source": [
    "#splitting of df to training and testing with 0.25 as Test size \n",
    "# your code here\n",
    "from sklearn.model_selection import train_test_split\n",
    "\n",
    "X_train, X_test, y_train, y_test = train_test_split(X, y, test_size=0.25, random_state=42)"
   ]
  },
  {
   "cell_type": "code",
   "execution_count": 39,
   "id": "505cf179",
   "metadata": {
    "deletable": false,
    "editable": false,
    "nbgrader": {
     "cell_type": "code",
     "checksum": "fa08d16cb46d3a5c57a2f1b86a04d3c2",
     "grade": false,
     "grade_id": "cell-2217e2b216393723",
     "locked": true,
     "schema_version": 3,
     "solution": false,
     "task": false
    }
   },
   "outputs": [
    {
     "data": {
      "text/plain": [
       "((30000, 138), (10000, 138), (30000,), (10000,))"
      ]
     },
     "execution_count": 39,
     "metadata": {},
     "output_type": "execute_result"
    }
   ],
   "source": [
    "X_train.shape, X_test.shape, y_train.shape,y_test.shape"
   ]
  },
  {
   "cell_type": "code",
   "execution_count": null,
   "id": "6defe202",
   "metadata": {
    "deletable": false,
    "editable": false,
    "nbgrader": {
     "cell_type": "code",
     "checksum": "54e71a4ad7b0c3f3b1567bbdbb23cae0",
     "grade": true,
     "grade_id": "cell-a613499f914e68fe",
     "locked": true,
     "points": 2,
     "schema_version": 3,
     "solution": false,
     "task": false
    }
   },
   "outputs": [],
   "source": []
  },
  {
   "cell_type": "code",
   "execution_count": 40,
   "id": "465efaf6",
   "metadata": {
    "deletable": false,
    "editable": false,
    "nbgrader": {
     "cell_type": "code",
     "checksum": "d7ccc1fed6c02b98f5cdf8bd7824835b",
     "grade": false,
     "grade_id": "cell-c2c78004d19c412e",
     "locked": true,
     "schema_version": 3,
     "solution": false,
     "task": false
    }
   },
   "outputs": [
    {
     "data": {
      "text/html": [
       "<style>#sk-container-id-1 {color: black;background-color: white;}#sk-container-id-1 pre{padding: 0;}#sk-container-id-1 div.sk-toggleable {background-color: white;}#sk-container-id-1 label.sk-toggleable__label {cursor: pointer;display: block;width: 100%;margin-bottom: 0;padding: 0.3em;box-sizing: border-box;text-align: center;}#sk-container-id-1 label.sk-toggleable__label-arrow:before {content: \"▸\";float: left;margin-right: 0.25em;color: #696969;}#sk-container-id-1 label.sk-toggleable__label-arrow:hover:before {color: black;}#sk-container-id-1 div.sk-estimator:hover label.sk-toggleable__label-arrow:before {color: black;}#sk-container-id-1 div.sk-toggleable__content {max-height: 0;max-width: 0;overflow: hidden;text-align: left;background-color: #f0f8ff;}#sk-container-id-1 div.sk-toggleable__content pre {margin: 0.2em;color: black;border-radius: 0.25em;background-color: #f0f8ff;}#sk-container-id-1 input.sk-toggleable__control:checked~div.sk-toggleable__content {max-height: 200px;max-width: 100%;overflow: auto;}#sk-container-id-1 input.sk-toggleable__control:checked~label.sk-toggleable__label-arrow:before {content: \"▾\";}#sk-container-id-1 div.sk-estimator input.sk-toggleable__control:checked~label.sk-toggleable__label {background-color: #d4ebff;}#sk-container-id-1 div.sk-label input.sk-toggleable__control:checked~label.sk-toggleable__label {background-color: #d4ebff;}#sk-container-id-1 input.sk-hidden--visually {border: 0;clip: rect(1px 1px 1px 1px);clip: rect(1px, 1px, 1px, 1px);height: 1px;margin: -1px;overflow: hidden;padding: 0;position: absolute;width: 1px;}#sk-container-id-1 div.sk-estimator {font-family: monospace;background-color: #f0f8ff;border: 1px dotted black;border-radius: 0.25em;box-sizing: border-box;margin-bottom: 0.5em;}#sk-container-id-1 div.sk-estimator:hover {background-color: #d4ebff;}#sk-container-id-1 div.sk-parallel-item::after {content: \"\";width: 100%;border-bottom: 1px solid gray;flex-grow: 1;}#sk-container-id-1 div.sk-label:hover label.sk-toggleable__label {background-color: #d4ebff;}#sk-container-id-1 div.sk-serial::before {content: \"\";position: absolute;border-left: 1px solid gray;box-sizing: border-box;top: 0;bottom: 0;left: 50%;z-index: 0;}#sk-container-id-1 div.sk-serial {display: flex;flex-direction: column;align-items: center;background-color: white;padding-right: 0.2em;padding-left: 0.2em;position: relative;}#sk-container-id-1 div.sk-item {position: relative;z-index: 1;}#sk-container-id-1 div.sk-parallel {display: flex;align-items: stretch;justify-content: center;background-color: white;position: relative;}#sk-container-id-1 div.sk-item::before, #sk-container-id-1 div.sk-parallel-item::before {content: \"\";position: absolute;border-left: 1px solid gray;box-sizing: border-box;top: 0;bottom: 0;left: 50%;z-index: -1;}#sk-container-id-1 div.sk-parallel-item {display: flex;flex-direction: column;z-index: 1;position: relative;background-color: white;}#sk-container-id-1 div.sk-parallel-item:first-child::after {align-self: flex-end;width: 50%;}#sk-container-id-1 div.sk-parallel-item:last-child::after {align-self: flex-start;width: 50%;}#sk-container-id-1 div.sk-parallel-item:only-child::after {width: 0;}#sk-container-id-1 div.sk-dashed-wrapped {border: 1px dashed gray;margin: 0 0.4em 0.5em 0.4em;box-sizing: border-box;padding-bottom: 0.4em;background-color: white;}#sk-container-id-1 div.sk-label label {font-family: monospace;font-weight: bold;display: inline-block;line-height: 1.2em;}#sk-container-id-1 div.sk-label-container {text-align: center;}#sk-container-id-1 div.sk-container {/* jupyter's `normalize.less` sets `[hidden] { display: none; }` but bootstrap.min.css set `[hidden] { display: none !important; }` so we also need the `!important` here to be able to override the default hidden behavior on the sphinx rendered scikit-learn.org. See: https://github.com/scikit-learn/scikit-learn/issues/21755 */display: inline-block !important;position: relative;}#sk-container-id-1 div.sk-text-repr-fallback {display: none;}</style><div id=\"sk-container-id-1\" class=\"sk-top-container\"><div class=\"sk-text-repr-fallback\"><pre>LogisticRegression(C=10, random_state=0, solver=&#x27;liblinear&#x27;)</pre><b>In a Jupyter environment, please rerun this cell to show the HTML representation or trust the notebook. <br />On GitHub, the HTML representation is unable to render, please try loading this page with nbviewer.org.</b></div><div class=\"sk-container\" hidden><div class=\"sk-item\"><div class=\"sk-estimator sk-toggleable\"><input class=\"sk-toggleable__control sk-hidden--visually\" id=\"sk-estimator-id-1\" type=\"checkbox\" checked><label for=\"sk-estimator-id-1\" class=\"sk-toggleable__label sk-toggleable__label-arrow\">LogisticRegression</label><div class=\"sk-toggleable__content\"><pre>LogisticRegression(C=10, random_state=0, solver=&#x27;liblinear&#x27;)</pre></div></div></div></div></div>"
      ],
      "text/plain": [
       "LogisticRegression(C=10, random_state=0, solver='liblinear')"
      ]
     },
     "execution_count": 40,
     "metadata": {},
     "output_type": "execute_result"
    }
   ],
   "source": [
    "# Train a logistic regression model on the training set\n",
    "from sklearn.linear_model import LogisticRegression\n",
    "\n",
    "# instantiate the model\n",
    "logreg = LogisticRegression(solver='liblinear', random_state=0, C=10)\n",
    "\n",
    "# fit the model\n",
    "logreg.fit(X_train, y_train)"
   ]
  },
  {
   "cell_type": "markdown",
   "id": "443ece9a",
   "metadata": {
    "deletable": false,
    "editable": false,
    "nbgrader": {
     "cell_type": "markdown",
     "checksum": "1ad9a99d212300b45beef013ed1ada8b",
     "grade": false,
     "grade_id": "cell-dbfeefb6cb370b5b",
     "locked": true,
     "schema_version": 3,
     "solution": false,
     "task": false
    }
   },
   "source": [
    "## Prediction"
   ]
  },
  {
   "cell_type": "code",
   "execution_count": 41,
   "id": "eee92149",
   "metadata": {
    "deletable": false,
    "editable": false,
    "nbgrader": {
     "cell_type": "code",
     "checksum": "76856221ccce51d32a22126603c328c7",
     "grade": false,
     "grade_id": "cell-5d0f2dbcf836fd0f",
     "locked": true,
     "schema_version": 3,
     "solution": false,
     "task": false
    }
   },
   "outputs": [
    {
     "data": {
      "text/plain": [
       "array([0, 0, 0, ..., 0, 1, 1])"
      ]
     },
     "execution_count": 41,
     "metadata": {},
     "output_type": "execute_result"
    }
   ],
   "source": [
    "#prediction on training\n",
    "y_pred_train = logreg.predict(X_train)\n",
    "y_pred_train"
   ]
  },
  {
   "cell_type": "code",
   "execution_count": 42,
   "id": "65483cd1",
   "metadata": {
    "deletable": false,
    "editable": false,
    "nbgrader": {
     "cell_type": "code",
     "checksum": "aba14ccc8e55a59637620c41ae134314",
     "grade": false,
     "grade_id": "cell-f46ac7262f126799",
     "locked": true,
     "schema_version": 3,
     "solution": false,
     "task": false
    }
   },
   "outputs": [
    {
     "data": {
      "text/plain": [
       "array([0, 0, 1, ..., 1, 1, 1])"
      ]
     },
     "execution_count": 42,
     "metadata": {},
     "output_type": "execute_result"
    }
   ],
   "source": [
    "#prediction on testing \n",
    "y_pred_test = logreg.predict(X_test)\n",
    "\n",
    "y_pred_test"
   ]
  },
  {
   "cell_type": "markdown",
   "id": "1c170280",
   "metadata": {
    "deletable": false,
    "editable": false,
    "nbgrader": {
     "cell_type": "markdown",
     "checksum": "9d1336f07121f81a08887791a3fb72b0",
     "grade": false,
     "grade_id": "cell-c6b2416a295eeda8",
     "locked": true,
     "schema_version": 3,
     "solution": false,
     "task": false
    }
   },
   "source": [
    "## Evaluation"
   ]
  },
  {
   "cell_type": "code",
   "execution_count": 43,
   "id": "b740ff7f",
   "metadata": {
    "deletable": false,
    "editable": false,
    "nbgrader": {
     "cell_type": "code",
     "checksum": "63b55960355b5c276abc7727de43dd6f",
     "grade": false,
     "grade_id": "cell-c154628ccf5ac3fd",
     "locked": true,
     "schema_version": 3,
     "solution": false,
     "task": false
    }
   },
   "outputs": [
    {
     "name": "stdout",
     "output_type": "stream",
     "text": [
      "Model accuracy score: 0.7927\n"
     ]
    }
   ],
   "source": [
    "# Training Accuracy\n",
    "from sklearn.metrics import accuracy_score\n",
    "print('Model accuracy score: {0:0.4f}'. format(accuracy_score(y_train, y_pred_train)))"
   ]
  },
  {
   "cell_type": "code",
   "execution_count": 44,
   "id": "6e52f216",
   "metadata": {
    "deletable": false,
    "editable": false,
    "nbgrader": {
     "cell_type": "code",
     "checksum": "f35bec03f521ec69276f6cac6e850b50",
     "grade": false,
     "grade_id": "cell-2b196108bf9a5fb7",
     "locked": true,
     "schema_version": 3,
     "solution": false,
     "task": false
    }
   },
   "outputs": [
    {
     "name": "stdout",
     "output_type": "stream",
     "text": [
      "Model accuracy score: 0.7828\n"
     ]
    }
   ],
   "source": [
    "# Testing Accuracy\n",
    "from sklearn.metrics import accuracy_score, f1_score\n",
    "print('Model accuracy score: {0:0.4f}'. format(accuracy_score(y_test, y_pred_test)))"
   ]
  },
  {
   "cell_type": "markdown",
   "id": "d41353dc",
   "metadata": {
    "deletable": false,
    "editable": false,
    "nbgrader": {
     "cell_type": "markdown",
     "checksum": "703e0433b94108b40d4e373c5d2073e7",
     "grade": false,
     "grade_id": "cell-a66467c511c25b0a",
     "locked": true,
     "schema_version": 3,
     "solution": false,
     "task": false
    }
   },
   "source": [
    "## Feature Selection\n",
    "### We can Try and reduce the number of variables and see how the model performs. "
   ]
  },
  {
   "cell_type": "markdown",
   "id": "ffa0dc5a",
   "metadata": {
    "deletable": false,
    "editable": false,
    "nbgrader": {
     "cell_type": "markdown",
     "checksum": "ff424188f739d065db41bd7fb984897c",
     "grade": false,
     "grade_id": "cell-a98538c31adbdcae",
     "locked": true,
     "schema_version": 3,
     "solution": false,
     "task": false
    }
   },
   "source": [
    "In the case of Logistic regression, we can find out the coefficients of the variables from the equation and \n",
    "then use selected top variables with higher values of coefficients and train the model on it. If the model retains the accuracy and performance, we can use those variables only, so that not much time and memory has been used.\n",
    "Also this method is not genralised since selecting independent factors depends on various other things like its relation with target variable, noise in the variable. etc. "
   ]
  },
  {
   "cell_type": "code",
   "execution_count": 45,
   "id": "6387b1e1",
   "metadata": {
    "deletable": false,
    "editable": false,
    "nbgrader": {
     "cell_type": "code",
     "checksum": "eae45d40203f82dda8cc44628004ea86",
     "grade": false,
     "grade_id": "cell-089bc889fcc37357",
     "locked": true,
     "schema_version": 3,
     "solution": false,
     "task": false
    }
   },
   "outputs": [
    {
     "data": {
      "text/plain": [
       "[('WindSpeedDiff', 0.7001460840241324),\n",
       " ('Location_Penrith', 0.6739058233836696),\n",
       " ('Location_Bendigo', 0.6702800606655229),\n",
       " ('Location_Perth', 0.5912232275361898),\n",
       " ('Location_Watsonia', 0.531144964117055),\n",
       " ('Location_Nuriootpa', 0.44443790467043504),\n",
       " ('WindDir3pm_NNE', 0.41815015393695565),\n",
       " ('WindDir3pm_NNW', 0.3990885353269873),\n",
       " ('Location_Albany', 0.3963994697607993),\n",
       " ('WindDir9am_NE', 0.3844488017497208),\n",
       " ('WindDir3pm_ESE', 0.31387685393410725),\n",
       " ('Location_Williamtown', 0.29917433845255287),\n",
       " ('Location_Uluru', 0.2906290386982325),\n",
       " ('Location_Sale', 0.28934091713150356),\n",
       " ('Location_PearceRAAF', 0.260130799957399),\n",
       " ('WindDir9am_E', 0.24497347279336484),\n",
       " ('Location_Launceston', 0.22986307909127363),\n",
       " ('Location_Moree', 0.21591977985811803),\n",
       " ('Location_Canberra', 0.18203927545162668),\n",
       " ('Location_Townsville', 0.17072663195573318),\n",
       " ('Location_Ballarat', 0.1607546240309112),\n",
       " ('Location_PerthAirport', 0.1502736234433819),\n",
       " ('Location_SalmonGums', 0.1430155250692302),\n",
       " ('WindDir9am_WNW', 0.14005078414455818),\n",
       " ('Location_CoffsHarbour', 0.1368247766472205),\n",
       " ('WindGustDir_SSW', 0.12865989316912746),\n",
       " ('WindGustDir_NW', 0.12595289023945608),\n",
       " ('TempRange', 0.125244057880988),\n",
       " ('Location_AliceSprings', 0.12084625739533067),\n",
       " ('RainToday_No', 0.11821171689332924),\n",
       " ('WindDir9am_N', 0.1168565368742349),\n",
       " ('Cloud3pm', 0.11682354154738846),\n",
       " ('WindDir9am_NNW', 0.10925208295034163),\n",
       " ('Location_Brisbane', 0.10802041350562464),\n",
       " ('WindDir3pm_W', 0.10672531239123025),\n",
       " ('WindGustDir_SE', 0.1019035789746274),\n",
       " ('WindGustDir_S', 0.09847536837334048),\n",
       " ('WindDir9am_ESE', 0.09013702154270725),\n",
       " ('Location_NorfolkIsland', 0.0782856046794229),\n",
       " ('WindDir3pm_SSE', 0.0781461720467433),\n",
       " ('Rainfall', 0.07268074256402281),\n",
       " ('Location_Mildura', 0.06965017779890773),\n",
       " ('Location_Walpole', 0.06654193927101151),\n",
       " ('WindGustDir_WNW', 0.056171210719485096),\n",
       " ('Humidity3pm', 0.04843717173691362),\n",
       " ('WindGustDir_ENE', 0.04281092842430359),\n",
       " ('Pressure9am', 0.04035973981138315),\n",
       " ('Location_Adelaide', 0.03658148958766036),\n",
       " ('Temp3pm', 0.02989086286918684),\n",
       " ('Location_Cobar', 0.029218909402758994),\n",
       " ('WindGustSpeed', 0.028482072020208124),\n",
       " ('AverageHumidity', 0.02595952253074309),\n",
       " ('WindDir3pm_NE', 0.025485470777375552),\n",
       " ('Location_Portland', 0.02378447227636763),\n",
       " ('PressureChange', 0.021123630125538955),\n",
       " ('WindGustDir_NNE', 0.020964599073676142),\n",
       " ('RainTomorrow', 0.019898797029952967),\n",
       " ('Year', 0.014413163622677529),\n",
       " ('WindGustDir_SW', 0.010948539241739205),\n",
       " ('WindSpeed9am', 0.009395503378701176),\n",
       " ('Location_Woomera', 0.009256518003302726),\n",
       " ('Temp9am', 0.008067870229495285),\n",
       " ('MinTemp', 0.0044110883442763805),\n",
       " ('WindGustDir_SSE', 0.004360935644465838),\n",
       " ('WindDir9am_NNE', 0.003669798191805309),\n",
       " ('Location_MelbourneAirport', 0.0006023254420586251),\n",
       " ('WindDir9am_SW', -0.0011918649664971997),\n",
       " ('Cloud9am', -0.0019466034787078085),\n",
       " ('Month', -0.0038021521640665664),\n",
       " ('WindSpeed3pm', -0.0043504043760368444),\n",
       " ('Humidity9am', -0.006189909892927193),\n",
       " ('Location_Albury', -0.008534011036510029),\n",
       " ('Location_Cairns', -0.011036519234540753),\n",
       " ('Evaporation', -0.01253463663560821),\n",
       " ('WindDir9am_W', -0.02063847006318627),\n",
       " ('MaxTemp', -0.023665756585476014),\n",
       " ('Day', -0.02807684491061061),\n",
       " ('WindGustDir_ESE', -0.03269757615250888),\n",
       " ('WindDir9am_SSW', -0.03305296483755004),\n",
       " ('WindDir3pm_SW', -0.034628986869215526),\n",
       " ('WindGustDir_NNW', -0.035200449532752635),\n",
       " ('Location_WaggaWagga', -0.038776009347448584),\n",
       " ('WindGustDir_E', -0.04341146020074006),\n",
       " ('WindDir3pm_NW', -0.04567913374074227),\n",
       " ('Location_Sydney', -0.05480091890195244),\n",
       " ('WindGustDir_WSW', -0.06004812976471381),\n",
       " ('WindDir3pm_S', -0.06020148141762722),\n",
       " ('WindDir3pm_WSW', -0.07885209087347878),\n",
       " ('Pressure3pm', -0.08488430839014334),\n",
       " ('WindDir3pm_E', -0.0860040679260739),\n",
       " ('WindGustDir_W', -0.09593634201214049),\n",
       " ('Location_Tuggeranong', -0.10255717565447155),\n",
       " ('WindGustDir_N', -0.10726922956977064),\n",
       " ('WindDir9am_S', -0.12781498634985922),\n",
       " ('Sunshine', -0.12837521836007568),\n",
       " ('WindDir9am_SSE', -0.1327327096122617),\n",
       " ('WindDir9am_ENE', -0.13904856101038618),\n",
       " ('WindDir3pm_WNW', -0.14124825187889245),\n",
       " ('Location_Wollongong', -0.14833637241057246),\n",
       " ('WindDir3pm_ENE', -0.1800250811539709),\n",
       " ('WindDir3pm_SSW', -0.18511476125612406),\n",
       " ('WindDir3pm_SE', -0.18552601487563047),\n",
       " ('Location_NorahHead', -0.1871995935495799),\n",
       " ('WindDir3pm_N', -0.1890588762964886),\n",
       " ('WindDir9am_WSW', -0.1946262169819418),\n",
       " ('Location_Richmond', -0.19914215982978042),\n",
       " ('Location_MountGinini', -0.2337248201748435),\n",
       " ('WindDir9am_NW', -0.24391785633058455),\n",
       " ('WindGustDir_NE', -0.24562977837877265),\n",
       " ('Location_Newcastle', -0.2758195639710481),\n",
       " ('Location_Melbourne', -0.28089331045246135),\n",
       " ('WindDir9am_SE', -0.29158332929565317),\n",
       " ('Location_BadgerysCreek', -0.30439270089612885),\n",
       " ('Location_Dartmoor', -0.36985880441892166),\n",
       " ('Location_Darwin', -0.37396289142626216),\n",
       " ('Location_Katherine', -0.40803801904313014),\n",
       " ('Location_GoldCoast', -0.4880233962333363),\n",
       " ('Location_Nhil', -0.5780377872989548),\n",
       " ('Location_SydneyAirport', -0.6054403664243112),\n",
       " ('Location_Hobart', -0.7272186682761207),\n",
       " ('Location_MountGambier', -0.7648857877206565),\n",
       " ('Location_Witchcliffe', -0.8697230309864898)]"
      ]
     },
     "execution_count": 45,
     "metadata": {},
     "output_type": "execute_result"
    }
   ],
   "source": [
    "# Get the coefficients of the model\n",
    "coefficients = logreg.coef_[0]\n",
    "\n",
    "# Mapping feature names with their coefficients\n",
    "coefficients_dict = dict(zip(final_df.columns, coefficients))\n",
    "\n",
    "# Sorting and displaying the feature importance\n",
    "\n",
    "coefficients_dict_logr = sorted(coefficients_dict.items(), key=lambda x: x[1], reverse=True)\n",
    "coefficients_dict_logr"
   ]
  },
  {
   "cell_type": "code",
   "execution_count": 46,
   "id": "bf9133be",
   "metadata": {
    "deletable": false,
    "editable": false,
    "nbgrader": {
     "cell_type": "code",
     "checksum": "185d1ec05270351ea5df6723c50c0d2c",
     "grade": false,
     "grade_id": "cell-6bda00061bbdf798",
     "locked": true,
     "schema_version": 3,
     "solution": false,
     "task": false
    }
   },
   "outputs": [
    {
     "data": {
      "text/plain": [
       "['WindSpeedDiff',\n",
       " 'Location_Penrith',\n",
       " 'Location_Bendigo',\n",
       " 'Location_Perth',\n",
       " 'Location_Watsonia',\n",
       " 'Location_Nuriootpa',\n",
       " 'WindDir3pm_NNE',\n",
       " 'WindDir3pm_NNW',\n",
       " 'Location_Albany',\n",
       " 'WindDir9am_NE']"
      ]
     },
     "execution_count": 46,
     "metadata": {},
     "output_type": "execute_result"
    }
   ],
   "source": [
    "#Lets pick the top 10 features with greater coeffecient values.\n",
    "\n",
    "coefficients_dict_logr = sorted(coefficients_dict.items(), key=lambda x: x[1], reverse=True)\n",
    "\n",
    "top_10_feature_names = [feature[0] for feature in coefficients_dict_logr[ :10]]\n",
    "\n",
    "# Displaying the top 3 feature names\n",
    "top_10_feature_names"
   ]
  },
  {
   "cell_type": "code",
   "execution_count": 47,
   "id": "45e5f8a6",
   "metadata": {
    "deletable": false,
    "editable": false,
    "nbgrader": {
     "cell_type": "code",
     "checksum": "ded2ac0cedbf46480c8bee6d5c94a49f",
     "grade": false,
     "grade_id": "cell-192f054e24a041b3",
     "locked": true,
     "schema_version": 3,
     "solution": false,
     "task": false
    }
   },
   "outputs": [],
   "source": [
    "top_10_feature_names.append(\"RainTomorrow\")"
   ]
  },
  {
   "cell_type": "code",
   "execution_count": 48,
   "id": "49deff9b",
   "metadata": {
    "deletable": false,
    "editable": false,
    "nbgrader": {
     "cell_type": "code",
     "checksum": "163a31273513038cb692accb75cfc255",
     "grade": false,
     "grade_id": "cell-ec50e2a9b0369a07",
     "locked": true,
     "schema_version": 3,
     "solution": false,
     "task": false
    }
   },
   "outputs": [
    {
     "data": {
      "text/html": [
       "<div>\n",
       "<style scoped>\n",
       "    .dataframe tbody tr th:only-of-type {\n",
       "        vertical-align: middle;\n",
       "    }\n",
       "\n",
       "    .dataframe tbody tr th {\n",
       "        vertical-align: top;\n",
       "    }\n",
       "\n",
       "    .dataframe thead th {\n",
       "        text-align: right;\n",
       "    }\n",
       "</style>\n",
       "<table border=\"1\" class=\"dataframe\">\n",
       "  <thead>\n",
       "    <tr style=\"text-align: right;\">\n",
       "      <th></th>\n",
       "      <th>WindSpeedDiff</th>\n",
       "      <th>Location_Penrith</th>\n",
       "      <th>Location_Bendigo</th>\n",
       "      <th>Location_Perth</th>\n",
       "      <th>Location_Watsonia</th>\n",
       "      <th>Location_Nuriootpa</th>\n",
       "      <th>WindDir3pm_NNE</th>\n",
       "      <th>WindDir3pm_NNW</th>\n",
       "      <th>Location_Albany</th>\n",
       "      <th>WindDir9am_NE</th>\n",
       "      <th>RainTomorrow</th>\n",
       "    </tr>\n",
       "  </thead>\n",
       "  <tbody>\n",
       "    <tr>\n",
       "      <th>0</th>\n",
       "      <td>25.0</td>\n",
       "      <td>0</td>\n",
       "      <td>0</td>\n",
       "      <td>0</td>\n",
       "      <td>0</td>\n",
       "      <td>0</td>\n",
       "      <td>0</td>\n",
       "      <td>0</td>\n",
       "      <td>0</td>\n",
       "      <td>0</td>\n",
       "      <td>1</td>\n",
       "    </tr>\n",
       "    <tr>\n",
       "      <th>1</th>\n",
       "      <td>36.5</td>\n",
       "      <td>0</td>\n",
       "      <td>0</td>\n",
       "      <td>0</td>\n",
       "      <td>0</td>\n",
       "      <td>0</td>\n",
       "      <td>0</td>\n",
       "      <td>0</td>\n",
       "      <td>0</td>\n",
       "      <td>0</td>\n",
       "      <td>1</td>\n",
       "    </tr>\n",
       "    <tr>\n",
       "      <th>2</th>\n",
       "      <td>37.0</td>\n",
       "      <td>0</td>\n",
       "      <td>0</td>\n",
       "      <td>0</td>\n",
       "      <td>0</td>\n",
       "      <td>0</td>\n",
       "      <td>0</td>\n",
       "      <td>0</td>\n",
       "      <td>0</td>\n",
       "      <td>0</td>\n",
       "      <td>1</td>\n",
       "    </tr>\n",
       "    <tr>\n",
       "      <th>3</th>\n",
       "      <td>34.0</td>\n",
       "      <td>0</td>\n",
       "      <td>0</td>\n",
       "      <td>0</td>\n",
       "      <td>0</td>\n",
       "      <td>0</td>\n",
       "      <td>0</td>\n",
       "      <td>0</td>\n",
       "      <td>0</td>\n",
       "      <td>0</td>\n",
       "      <td>1</td>\n",
       "    </tr>\n",
       "    <tr>\n",
       "      <th>4</th>\n",
       "      <td>36.5</td>\n",
       "      <td>0</td>\n",
       "      <td>0</td>\n",
       "      <td>0</td>\n",
       "      <td>0</td>\n",
       "      <td>0</td>\n",
       "      <td>0</td>\n",
       "      <td>0</td>\n",
       "      <td>0</td>\n",
       "      <td>0</td>\n",
       "      <td>1</td>\n",
       "    </tr>\n",
       "  </tbody>\n",
       "</table>\n",
       "</div>"
      ],
      "text/plain": [
       "   WindSpeedDiff  Location_Penrith  Location_Bendigo  Location_Perth  \\\n",
       "0           25.0                 0                 0               0   \n",
       "1           36.5                 0                 0               0   \n",
       "2           37.0                 0                 0               0   \n",
       "3           34.0                 0                 0               0   \n",
       "4           36.5                 0                 0               0   \n",
       "\n",
       "   Location_Watsonia  Location_Nuriootpa  WindDir3pm_NNE  WindDir3pm_NNW  \\\n",
       "0                  0                   0               0               0   \n",
       "1                  0                   0               0               0   \n",
       "2                  0                   0               0               0   \n",
       "3                  0                   0               0               0   \n",
       "4                  0                   0               0               0   \n",
       "\n",
       "   Location_Albany  WindDir9am_NE  RainTomorrow  \n",
       "0                0              0             1  \n",
       "1                0              0             1  \n",
       "2                0              0             1  \n",
       "3                0              0             1  \n",
       "4                0              0             1  "
      ]
     },
     "execution_count": 48,
     "metadata": {},
     "output_type": "execute_result"
    }
   ],
   "source": [
    "final_df[top_10_feature_names].head()"
   ]
  },
  {
   "cell_type": "code",
   "execution_count": 49,
   "id": "bc690601",
   "metadata": {
    "deletable": false,
    "editable": false,
    "nbgrader": {
     "cell_type": "code",
     "checksum": "e45e90ef64241857e29bd963245a7337",
     "grade": false,
     "grade_id": "cell-8b763521e7c00065",
     "locked": true,
     "schema_version": 3,
     "solution": false,
     "task": false
    }
   },
   "outputs": [],
   "source": [
    "df_new = final_df[top_10_feature_names]"
   ]
  },
  {
   "cell_type": "code",
   "execution_count": 50,
   "id": "88cc9ec9",
   "metadata": {
    "deletable": false,
    "editable": false,
    "nbgrader": {
     "cell_type": "code",
     "checksum": "7d1c331b0cfd18858a1e1f2c387cfe09",
     "grade": false,
     "grade_id": "cell-4d7a64904c9e44bb",
     "locked": true,
     "schema_version": 3,
     "solution": false,
     "task": false
    }
   },
   "outputs": [
    {
     "data": {
      "text/plain": [
       "WindSpeedDiff         0\n",
       "Location_Penrith      0\n",
       "Location_Bendigo      0\n",
       "Location_Perth        0\n",
       "Location_Watsonia     0\n",
       "Location_Nuriootpa    0\n",
       "WindDir3pm_NNE        0\n",
       "WindDir3pm_NNW        0\n",
       "Location_Albany       0\n",
       "WindDir9am_NE         0\n",
       "RainTomorrow          0\n",
       "dtype: int64"
      ]
     },
     "execution_count": 50,
     "metadata": {},
     "output_type": "execute_result"
    }
   ],
   "source": [
    "df_new.isna().sum()"
   ]
  },
  {
   "cell_type": "markdown",
   "id": "fa672cbb",
   "metadata": {
    "deletable": false,
    "editable": false,
    "nbgrader": {
     "cell_type": "markdown",
     "checksum": "8f590c99b4095faee19fe92d7b7876ed",
     "grade": false,
     "grade_id": "cell-7fd86819de749f27",
     "locked": true,
     "schema_version": 3,
     "solution": false,
     "task": false
    }
   },
   "source": [
    "## Evaluation"
   ]
  },
  {
   "cell_type": "code",
   "execution_count": 51,
   "id": "53d9b7fe",
   "metadata": {
    "deletable": false,
    "editable": false,
    "nbgrader": {
     "cell_type": "code",
     "checksum": "8acb0ff42f92d0582a44228e8a07bdd1",
     "grade": false,
     "grade_id": "cell-6b762d4b8afd1626",
     "locked": true,
     "schema_version": 3,
     "solution": false,
     "task": false
    }
   },
   "outputs": [
    {
     "name": "stdout",
     "output_type": "stream",
     "text": [
      "Model accuracy score: 0.7828\n"
     ]
    }
   ],
   "source": [
    "# Testing the performance of the model on the final dataset with selected features\n",
    "X_train, X_test, y_train, y_test= train_test_split(df_new.drop('RainTomorrow', axis = 1), df_new['RainTomorrow'] , test_size=0.25,shuffle=True, random_state=42)\n",
    "\n",
    "\n",
    "# train a logistic regression model on the training set\n",
    "from sklearn.linear_model import LogisticRegression\n",
    "\n",
    "\n",
    "# instantiate the model\n",
    "logreg = LogisticRegression(solver='liblinear', random_state=42, C=5)\n",
    "\n",
    "# fit the model\n",
    "logreg.fit(X_train, y_train)\n",
    "\n",
    "from sklearn.metrics import accuracy_score\n",
    "y_pred_test11 = logreg.predict(X_test)\n",
    "print('Model accuracy score: {0:0.4f}'. format(accuracy_score(y_test, y_pred_test)))"
   ]
  },
  {
   "cell_type": "markdown",
   "id": "c5cc58ab",
   "metadata": {
    "deletable": false,
    "editable": false,
    "nbgrader": {
     "cell_type": "markdown",
     "checksum": "fee63d0f6b538f6ed0de8de50bc7d777",
     "grade": false,
     "grade_id": "cell-01e150ec8e03b593",
     "locked": true,
     "schema_version": 3,
     "solution": false,
     "task": false
    }
   },
   "source": [
    "# Hyper Parameter Tuning"
   ]
  },
  {
   "cell_type": "markdown",
   "id": "80fd7b05",
   "metadata": {
    "deletable": false,
    "editable": false,
    "nbgrader": {
     "cell_type": "markdown",
     "checksum": "57afcd73ab365890d2a0e072d8d98771",
     "grade": false,
     "grade_id": "cell-16689f081da94c7b",
     "locked": true,
     "schema_version": 3,
     "solution": false,
     "task": false
    }
   },
   "source": [
    "Lets See what are best best paramters for training the data on logistic regression. This Process of tuning can take a lot of time, depending on number of fits and folds and data points and memory and GPU of your computer."
   ]
  },
  {
   "cell_type": "code",
   "execution_count": 52,
   "id": "c480e81a",
   "metadata": {
    "deletable": false,
    "editable": false,
    "nbgrader": {
     "cell_type": "code",
     "checksum": "6bb756b0e8db55ca6e0c17141fcce832",
     "grade": false,
     "grade_id": "cell-788f535f3d331d1e",
     "locked": true,
     "schema_version": 3,
     "solution": false,
     "task": false
    }
   },
   "outputs": [
    {
     "name": "stdout",
     "output_type": "stream",
     "text": [
      "Fitting 5 folds for each of 5 candidates, totalling 25 fits\n"
     ]
    },
    {
     "data": {
      "text/html": [
       "<style>#sk-container-id-2 {color: black;background-color: white;}#sk-container-id-2 pre{padding: 0;}#sk-container-id-2 div.sk-toggleable {background-color: white;}#sk-container-id-2 label.sk-toggleable__label {cursor: pointer;display: block;width: 100%;margin-bottom: 0;padding: 0.3em;box-sizing: border-box;text-align: center;}#sk-container-id-2 label.sk-toggleable__label-arrow:before {content: \"▸\";float: left;margin-right: 0.25em;color: #696969;}#sk-container-id-2 label.sk-toggleable__label-arrow:hover:before {color: black;}#sk-container-id-2 div.sk-estimator:hover label.sk-toggleable__label-arrow:before {color: black;}#sk-container-id-2 div.sk-toggleable__content {max-height: 0;max-width: 0;overflow: hidden;text-align: left;background-color: #f0f8ff;}#sk-container-id-2 div.sk-toggleable__content pre {margin: 0.2em;color: black;border-radius: 0.25em;background-color: #f0f8ff;}#sk-container-id-2 input.sk-toggleable__control:checked~div.sk-toggleable__content {max-height: 200px;max-width: 100%;overflow: auto;}#sk-container-id-2 input.sk-toggleable__control:checked~label.sk-toggleable__label-arrow:before {content: \"▾\";}#sk-container-id-2 div.sk-estimator input.sk-toggleable__control:checked~label.sk-toggleable__label {background-color: #d4ebff;}#sk-container-id-2 div.sk-label input.sk-toggleable__control:checked~label.sk-toggleable__label {background-color: #d4ebff;}#sk-container-id-2 input.sk-hidden--visually {border: 0;clip: rect(1px 1px 1px 1px);clip: rect(1px, 1px, 1px, 1px);height: 1px;margin: -1px;overflow: hidden;padding: 0;position: absolute;width: 1px;}#sk-container-id-2 div.sk-estimator {font-family: monospace;background-color: #f0f8ff;border: 1px dotted black;border-radius: 0.25em;box-sizing: border-box;margin-bottom: 0.5em;}#sk-container-id-2 div.sk-estimator:hover {background-color: #d4ebff;}#sk-container-id-2 div.sk-parallel-item::after {content: \"\";width: 100%;border-bottom: 1px solid gray;flex-grow: 1;}#sk-container-id-2 div.sk-label:hover label.sk-toggleable__label {background-color: #d4ebff;}#sk-container-id-2 div.sk-serial::before {content: \"\";position: absolute;border-left: 1px solid gray;box-sizing: border-box;top: 0;bottom: 0;left: 50%;z-index: 0;}#sk-container-id-2 div.sk-serial {display: flex;flex-direction: column;align-items: center;background-color: white;padding-right: 0.2em;padding-left: 0.2em;position: relative;}#sk-container-id-2 div.sk-item {position: relative;z-index: 1;}#sk-container-id-2 div.sk-parallel {display: flex;align-items: stretch;justify-content: center;background-color: white;position: relative;}#sk-container-id-2 div.sk-item::before, #sk-container-id-2 div.sk-parallel-item::before {content: \"\";position: absolute;border-left: 1px solid gray;box-sizing: border-box;top: 0;bottom: 0;left: 50%;z-index: -1;}#sk-container-id-2 div.sk-parallel-item {display: flex;flex-direction: column;z-index: 1;position: relative;background-color: white;}#sk-container-id-2 div.sk-parallel-item:first-child::after {align-self: flex-end;width: 50%;}#sk-container-id-2 div.sk-parallel-item:last-child::after {align-self: flex-start;width: 50%;}#sk-container-id-2 div.sk-parallel-item:only-child::after {width: 0;}#sk-container-id-2 div.sk-dashed-wrapped {border: 1px dashed gray;margin: 0 0.4em 0.5em 0.4em;box-sizing: border-box;padding-bottom: 0.4em;background-color: white;}#sk-container-id-2 div.sk-label label {font-family: monospace;font-weight: bold;display: inline-block;line-height: 1.2em;}#sk-container-id-2 div.sk-label-container {text-align: center;}#sk-container-id-2 div.sk-container {/* jupyter's `normalize.less` sets `[hidden] { display: none; }` but bootstrap.min.css set `[hidden] { display: none !important; }` so we also need the `!important` here to be able to override the default hidden behavior on the sphinx rendered scikit-learn.org. See: https://github.com/scikit-learn/scikit-learn/issues/21755 */display: inline-block !important;position: relative;}#sk-container-id-2 div.sk-text-repr-fallback {display: none;}</style><div id=\"sk-container-id-2\" class=\"sk-top-container\"><div class=\"sk-text-repr-fallback\"><pre>GridSearchCV(estimator=LogisticRegression(C=5, random_state=42,\n",
       "                                          solver=&#x27;liblinear&#x27;),\n",
       "             param_grid=[{&#x27;penalty&#x27;: [&#x27;l1&#x27;, &#x27;l2&#x27;]}, {&#x27;C&#x27;: [1, 10, 100]}],\n",
       "             scoring=&#x27;accuracy&#x27;, verbose=1)</pre><b>In a Jupyter environment, please rerun this cell to show the HTML representation or trust the notebook. <br />On GitHub, the HTML representation is unable to render, please try loading this page with nbviewer.org.</b></div><div class=\"sk-container\" hidden><div class=\"sk-item sk-dashed-wrapped\"><div class=\"sk-label-container\"><div class=\"sk-label sk-toggleable\"><input class=\"sk-toggleable__control sk-hidden--visually\" id=\"sk-estimator-id-2\" type=\"checkbox\" ><label for=\"sk-estimator-id-2\" class=\"sk-toggleable__label sk-toggleable__label-arrow\">GridSearchCV</label><div class=\"sk-toggleable__content\"><pre>GridSearchCV(estimator=LogisticRegression(C=5, random_state=42,\n",
       "                                          solver=&#x27;liblinear&#x27;),\n",
       "             param_grid=[{&#x27;penalty&#x27;: [&#x27;l1&#x27;, &#x27;l2&#x27;]}, {&#x27;C&#x27;: [1, 10, 100]}],\n",
       "             scoring=&#x27;accuracy&#x27;, verbose=1)</pre></div></div></div><div class=\"sk-parallel\"><div class=\"sk-parallel-item\"><div class=\"sk-item\"><div class=\"sk-label-container\"><div class=\"sk-label sk-toggleable\"><input class=\"sk-toggleable__control sk-hidden--visually\" id=\"sk-estimator-id-3\" type=\"checkbox\" ><label for=\"sk-estimator-id-3\" class=\"sk-toggleable__label sk-toggleable__label-arrow\">estimator: LogisticRegression</label><div class=\"sk-toggleable__content\"><pre>LogisticRegression(C=5, random_state=42, solver=&#x27;liblinear&#x27;)</pre></div></div></div><div class=\"sk-serial\"><div class=\"sk-item\"><div class=\"sk-estimator sk-toggleable\"><input class=\"sk-toggleable__control sk-hidden--visually\" id=\"sk-estimator-id-4\" type=\"checkbox\" ><label for=\"sk-estimator-id-4\" class=\"sk-toggleable__label sk-toggleable__label-arrow\">LogisticRegression</label><div class=\"sk-toggleable__content\"><pre>LogisticRegression(C=5, random_state=42, solver=&#x27;liblinear&#x27;)</pre></div></div></div></div></div></div></div></div></div></div>"
      ],
      "text/plain": [
       "GridSearchCV(estimator=LogisticRegression(C=5, random_state=42,\n",
       "                                          solver='liblinear'),\n",
       "             param_grid=[{'penalty': ['l1', 'l2']}, {'C': [1, 10, 100]}],\n",
       "             scoring='accuracy', verbose=1)"
      ]
     },
     "execution_count": 52,
     "metadata": {},
     "output_type": "execute_result"
    }
   ],
   "source": [
    "from sklearn.model_selection import GridSearchCV\n",
    "\n",
    "\n",
    "parameters = [{'penalty':['l1','l2']}, \n",
    "              {'C':[1, 10, 100]}]\n",
    "\n",
    "\n",
    "\n",
    "grid_search = GridSearchCV(estimator = logreg,  \n",
    "                           param_grid = parameters,\n",
    "                           scoring = 'accuracy',\n",
    "                           #cv = 5,\n",
    "                           verbose=1)\n",
    "\n",
    "\n",
    "grid_search.fit(X_train, y_train)"
   ]
  },
  {
   "cell_type": "code",
   "execution_count": 53,
   "id": "4c612b7d",
   "metadata": {
    "deletable": false,
    "editable": false,
    "nbgrader": {
     "cell_type": "code",
     "checksum": "7c025ed60a2b3b2e5500d3a807231848",
     "grade": false,
     "grade_id": "cell-18899eeb92b4439a",
     "locked": true,
     "schema_version": 3,
     "solution": false,
     "task": false
    }
   },
   "outputs": [
    {
     "name": "stdout",
     "output_type": "stream",
     "text": [
      "GridSearch CV best score : 0.6124\n",
      "\n",
      "\n",
      "Parameters that give the best results : \n",
      "\n",
      " {'penalty': 'l2'}\n",
      "\n",
      "\n",
      "Estimator that was chosen by the search : \n",
      "\n",
      " LogisticRegression(C=5, random_state=42, solver='liblinear')\n"
     ]
    }
   ],
   "source": [
    "# examine the best model\n",
    "\n",
    "# best score achieved during the GridSearchCV\n",
    "print('GridSearch CV best score : {:.4f}\\n\\n'.format(grid_search.best_score_))\n",
    "\n",
    "# print parameters that give the best results\n",
    "print('Parameters that give the best results :','\\n\\n', (grid_search.best_params_))\n",
    "\n",
    "# print estimator that was chosen by the GridSearch\n",
    "print('\\n\\nEstimator that was chosen by the search :','\\n\\n', (grid_search.best_estimator_))"
   ]
  },
  {
   "cell_type": "markdown",
   "id": "3e20eb92",
   "metadata": {
    "deletable": false,
    "editable": false,
    "nbgrader": {
     "cell_type": "markdown",
     "checksum": "3790dfc437bad66c4e7eafda7451db0f",
     "grade": false,
     "grade_id": "cell-325431bf0281ffda",
     "locked": true,
     "schema_version": 3,
     "solution": false,
     "task": false
    }
   },
   "source": [
    "Now with the values given by paramter tuning, we can set these parameters to fine tune and also use other paramter tuning method to see if there is any improvement"
   ]
  },
  {
   "cell_type": "code",
   "execution_count": 54,
   "id": "e7892ba5",
   "metadata": {
    "deletable": false,
    "editable": false,
    "nbgrader": {
     "cell_type": "code",
     "checksum": "a99b5b35ce23a4a9a57ebb93d81396c4",
     "grade": false,
     "grade_id": "cell-1507bc5986dfe023",
     "locked": true,
     "schema_version": 3,
     "solution": false,
     "task": false
    }
   },
   "outputs": [],
   "source": [
    "# Try your Code using optimised paramters here "
   ]
  },
  {
   "cell_type": "markdown",
   "id": "2252b1c4",
   "metadata": {
    "deletable": false,
    "editable": false,
    "nbgrader": {
     "cell_type": "markdown",
     "checksum": "082b00344850af2231cd1f823b738b40",
     "grade": false,
     "grade_id": "cell-246eac6ae315fdad",
     "locked": true,
     "schema_version": 3,
     "solution": false,
     "task": false
    }
   },
   "source": [
    "As per the model accuracy, the results are almost same, so we can drop the variables and use less number of features, this way training time is reduced, memory used is less. \n",
    "Note : This is an example where our accuracy didn't go down or up much so you must remember feature selection depends on various factors.\n",
    "    \n",
    "It's important to approach the interpretation of feature importance in logistic regression with caution. This includes being mindful of the scale at which the features are measured and acknowledging the possibility of multicollinearity between them. Additionally, one should not draw conclusions about causality from logistic regression models without conducting further validation studies.\n",
    "    "
   ]
  }
 ],
 "metadata": {
  "kernelspec": {
   "display_name": "Python 3 (ipykernel)",
   "language": "python",
   "name": "python3"
  },
  "language_info": {
   "codemirror_mode": {
    "name": "ipython",
    "version": 3
   },
   "file_extension": ".py",
   "mimetype": "text/x-python",
   "name": "python",
   "nbconvert_exporter": "python",
   "pygments_lexer": "ipython3",
   "version": "3.8.18"
  }
 },
 "nbformat": 4,
 "nbformat_minor": 5
}
