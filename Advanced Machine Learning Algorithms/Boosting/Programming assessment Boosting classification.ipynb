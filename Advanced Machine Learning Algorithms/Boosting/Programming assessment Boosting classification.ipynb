{
 "cells": [
  {
   "cell_type": "markdown",
   "id": "02155739",
   "metadata": {
    "deletable": false,
    "editable": false,
    "nbgrader": {
     "cell_type": "markdown",
     "checksum": "d00a71619c460a2a66657cdacc735cfa",
     "grade": false,
     "grade_id": "cell-b9f5f8b65ba0c4af",
     "locked": true,
     "schema_version": 3,
     "solution": false,
     "task": false
    }
   },
   "source": [
    "# PROBLEM STATEMENT \n",
    "\n",
    "Anova Insurance, a global health insurance company, seeks to optimize its insurance policy premium pricing based on the health status of applicants. Understanding an applicant's health condition is crucial for two key decisions:\n",
    "- Determining eligibility for health insurance coverage.\n",
    "- Deciding on premium rates, particularly if the applicant's health indicates higher risks.\n",
    "\n",
    "Your objective is to Develop a predictive model that utilizes health data to classify individuals as 'healthy' or 'unhealthy'. This classification will assist in making informed decisions about insurance policy premium pricing."
   ]
  },
  {
   "cell_type": "markdown",
   "id": "5cceb295",
   "metadata": {
    "deletable": false,
    "editable": false,
    "nbgrader": {
     "cell_type": "markdown",
     "checksum": "9ca417dd6dcca56c268136b0b040303b",
     "grade": false,
     "grade_id": "cell-c6bf81c6d1b8e0db",
     "locked": true,
     "schema_version": 3,
     "solution": false,
     "task": false
    }
   },
   "source": [
    "# OVERVIEW \n",
    "\n",
    "The dataset contains 10,000 rows and 20 columns (original data without preprocessing), the no. of columns becomes 23 post preprocessing because of encoding, the 23 columns includes both numerical and categorical variables. Here is the data dictionary.\n",
    "\n",
    "- Age: Represents the age of the individual. Negative values seem to be present, which might indicate data entry errors or a specific encoding used for certain age groups.\n",
    "\n",
    "- BMI (Body Mass Index): A measure of body fat based on height and weight. Typically, a BMI between 18.5 and 24.9 is considered normal.\n",
    "\n",
    "- Blood_Pressure: Represents systolic blood pressure. Normal blood pressure is usually around 120/80 mmHg.\n",
    "\n",
    "- Cholesterol: This is the cholesterol level in mg/dL. Desirable levels are usually below 200 mg/dL.\n",
    "\n",
    "- Glucose_Level: Indicates blood glucose levels. It might be fasting glucose levels, with normal levels usually ranging from 70 to 99 mg/dL.\n",
    "\n",
    "- Heart_Rate: The number of heartbeats per minute. Normal resting heart rate for adults ranges from 60 to 100 beats per minute.\n",
    "\n",
    "- Sleep_Hours: The average number of hours the individual sleeps per day.\n",
    "\n",
    "- Exercise_Hours: The average number of hours the individual exercises per day. \n",
    "\n",
    "- Water_Intake: The average daily water intake in liters.\n",
    "\n",
    "- Stress_Level: A numerical representation of stress level.\n",
    "\n",
    "- Target: This is a binary outcome variable, with '1' indicating 'Unhealthy' and '0' indicating 'Healthy'.\n",
    "\n",
    "- Smoking: A categorical variable indicating smoking status. Contains values - (0,1,2) which specify the regularity of smoking with 0 being no smoking and 2 being regular smmoking.\n",
    "\n",
    "- Alcohol: A categorical variable indicating alcohol consumption status. Contains values - (0,1,2) which specify the regularity of alcohol consumption with 0 being no consumption quality and 2 being regular consumption.\n",
    "\n",
    "- Diet: A categorical variable indcating the quality of dietary habits. Contains values - (0,1,2) which specify the quality of the habit with 0 being poor diet quality and 2 being good quality.\n",
    "\n",
    "- MentalHealth: Possibly a measure of mental health status. Contains values - (0,1,2) which specify the severity of the mental health with 0 being fine and 2 being highly severe\n",
    "\n",
    "- PhysicalActivity: A categorical variable indicating levels of physical activity. Contains values - (0,1,2) which specify the instensity of the medical history with 0 being no Physical Activity and 2 being regularly active.\n",
    "\n",
    "- MedicalHistory: Indicates the presence of medical conditions or history. Contains values - (0,1,2) which specify the severity of the medical history with 0 being nothing and 2 being highly severe.\n",
    "\n",
    "- Allergies: A categorical variable indicating allergy status. Contains values - (0,1,2) which specify the severity of the allergies with 0 being nothing and 2 being highly severe.\n",
    "\n",
    "- Diet_Type: Categorical variable indicating the type of diet an individual follows. Contains values(Vegetarian, Non-Vegetarian, Vegan). \n",
    "- (this column has been encoded into three different columns during the preprocessing stage)\n",
    " - Diet_Type_Vegan,Diet_Type_Vegetarian\n",
    "\n",
    "- Blood_Group: Indicates the blood group of the individual Contains values (A, B, AB, O), this column values are encoded too .\n",
    "\n",
    "It is clear from the above description that the predictor variable is the 'Target' column.\n"
   ]
  },
  {
   "cell_type": "markdown",
   "id": "9dc58ce4",
   "metadata": {
    "deletable": false,
    "editable": false,
    "nbgrader": {
     "cell_type": "markdown",
     "checksum": "c401d8944b5341f3b10e8c29cb568f0a",
     "grade": false,
     "grade_id": "cell-7c2cfc3b058aebc2",
     "locked": true,
     "schema_version": 3,
     "solution": false,
     "task": false
    }
   },
   "source": [
    "# -----------------------------------------------------------------------------"
   ]
  },
  {
   "cell_type": "markdown",
   "id": "ee821fa2",
   "metadata": {
    "deletable": false,
    "editable": false,
    "nbgrader": {
     "cell_type": "markdown",
     "checksum": "3461821afabaef7a5eb36f315d61e332",
     "grade": false,
     "grade_id": "cell-73902978afe5ada3",
     "locked": true,
     "schema_version": 3,
     "solution": false,
     "task": false
    }
   },
   "source": [
    "## Guidelines to follow in this notebook \n",
    "- The name of the dataframe should be df \n",
    "- Keep the seed value 42\n",
    "- Names of training and testing variables should be X_train, X_test, y_train, y_test\n",
    "- Keep the name of model instance as \"model\", e.g. model = DecisionTreeClassifer()\n",
    "- Keep the predictions on training and testing data in a variable named y_train_pred and y_test_pred respectively."
   ]
  },
  {
   "cell_type": "markdown",
   "id": "81411cf2",
   "metadata": {
    "deletable": false,
    "editable": false,
    "nbgrader": {
     "cell_type": "markdown",
     "checksum": "bd8e733c5c4114c0160a198ee933cf33",
     "grade": false,
     "grade_id": "cell-74e36412b1e5369a",
     "locked": true,
     "schema_version": 3,
     "solution": false,
     "task": false
    }
   },
   "source": [
    "# -------------------------------------------------------------------------------"
   ]
  },
  {
   "cell_type": "markdown",
   "id": "99f74617",
   "metadata": {
    "deletable": false,
    "editable": false,
    "nbgrader": {
     "cell_type": "markdown",
     "checksum": "f11e896bc5167e3f86f9b8bf5553bd11",
     "grade": false,
     "grade_id": "cell-5370e376f14dfa18",
     "locked": true,
     "schema_version": 3,
     "solution": false,
     "task": false
    }
   },
   "source": [
    "\n",
    "Let us begin with importing the necessary libraries."
   ]
  },
  {
   "cell_type": "code",
   "execution_count": 1,
   "id": "14fd6bea",
   "metadata": {
    "deletable": false,
    "editable": false,
    "nbgrader": {
     "cell_type": "code",
     "checksum": "837a049b2404bee6fd6d5bacfc7b5089",
     "grade": false,
     "grade_id": "cell-6868b33a2192f556",
     "locked": true,
     "schema_version": 3,
     "solution": false,
     "task": false
    }
   },
   "outputs": [
    {
     "name": "stdout",
     "output_type": "stream",
     "text": [
      "Requirement already satisfied: xgboost in c:\\programdata\\miniconda3\\lib\\site-packages (2.0.3)\n",
      "Requirement already satisfied: numpy in c:\\programdata\\miniconda3\\lib\\site-packages (from xgboost) (1.24.4)\n",
      "Requirement already satisfied: scipy in c:\\programdata\\miniconda3\\lib\\site-packages (from xgboost) (1.10.1)\n",
      "Requirement already satisfied: lightgbm in c:\\programdata\\miniconda3\\lib\\site-packages (4.2.0)\n",
      "Requirement already satisfied: numpy in c:\\programdata\\miniconda3\\lib\\site-packages (from lightgbm) (1.24.4)\n",
      "Requirement already satisfied: scipy in c:\\programdata\\miniconda3\\lib\\site-packages (from lightgbm) (1.10.1)\n",
      "Requirement already satisfied: catboost in c:\\programdata\\miniconda3\\lib\\site-packages (1.2.2)\n",
      "Requirement already satisfied: graphviz in c:\\programdata\\miniconda3\\lib\\site-packages (from catboost) (0.20.1)\n",
      "Requirement already satisfied: matplotlib in c:\\programdata\\miniconda3\\lib\\site-packages (from catboost) (3.6.0)\n",
      "Requirement already satisfied: numpy>=1.16.0 in c:\\programdata\\miniconda3\\lib\\site-packages (from catboost) (1.24.4)\n",
      "Requirement already satisfied: pandas>=0.24 in c:\\programdata\\miniconda3\\lib\\site-packages (from catboost) (1.5.3)\n",
      "Requirement already satisfied: scipy in c:\\programdata\\miniconda3\\lib\\site-packages (from catboost) (1.10.1)\n",
      "Requirement already satisfied: plotly in c:\\programdata\\miniconda3\\lib\\site-packages (from catboost) (5.18.0)\n",
      "Requirement already satisfied: six in c:\\programdata\\miniconda3\\lib\\site-packages (from catboost) (1.16.0)\n",
      "Requirement already satisfied: python-dateutil>=2.8.1 in c:\\programdata\\miniconda3\\lib\\site-packages (from pandas>=0.24->catboost) (2.8.2)\n",
      "Requirement already satisfied: pytz>=2020.1 in c:\\programdata\\miniconda3\\lib\\site-packages (from pandas>=0.24->catboost) (2023.3.post1)\n",
      "Requirement already satisfied: contourpy>=1.0.1 in c:\\programdata\\miniconda3\\lib\\site-packages (from matplotlib->catboost) (1.1.1)\n",
      "Requirement already satisfied: cycler>=0.10 in c:\\programdata\\miniconda3\\lib\\site-packages (from matplotlib->catboost) (0.12.1)\n",
      "Requirement already satisfied: fonttools>=4.22.0 in c:\\programdata\\miniconda3\\lib\\site-packages (from matplotlib->catboost) (4.47.0)\n",
      "Requirement already satisfied: kiwisolver>=1.0.1 in c:\\programdata\\miniconda3\\lib\\site-packages (from matplotlib->catboost) (1.4.5)\n",
      "Requirement already satisfied: packaging>=20.0 in c:\\programdata\\miniconda3\\lib\\site-packages (from matplotlib->catboost) (23.1)\n",
      "Requirement already satisfied: pillow>=6.2.0 in c:\\programdata\\miniconda3\\lib\\site-packages (from matplotlib->catboost) (10.0.1)\n",
      "Requirement already satisfied: pyparsing>=2.2.1 in c:\\programdata\\miniconda3\\lib\\site-packages (from matplotlib->catboost) (3.1.1)\n",
      "Requirement already satisfied: tenacity>=6.2.0 in c:\\programdata\\miniconda3\\lib\\site-packages (from plotly->catboost) (8.2.3)\n"
     ]
    }
   ],
   "source": [
    "\n",
    "#import relevant data libraries \n",
    "\n",
    "import pandas as pd\n",
    "pd.set_option('display.max_rows', 500)\n",
    "pd.set_option('display.max_columns', 500)\n",
    "pd.set_option('display.width', 1000)\n",
    "\n",
    "from sklearn.model_selection import train_test_split\n",
    "from sklearn.tree import DecisionTreeClassifier\n",
    "from sklearn.ensemble import BaggingClassifier\n",
    "\n",
    "from sklearn.ensemble import RandomForestClassifier\n",
    "from sklearn.metrics import f1_score\n",
    "\n",
    "from collections import OrderedDict\n",
    "from sklearn.datasets import make_classification\n",
    "from sklearn.ensemble import RandomForestClassifier\n",
    "import matplotlib.pyplot as plt\n",
    "from sklearn.ensemble import AdaBoostClassifier\n",
    "from sklearn.ensemble import GradientBoostingClassifier\n",
    "!pip install xgboost\n",
    "import xgboost as xgb\n",
    "!pip install lightgbm\n",
    "from lightgbm import LGBMClassifier\n",
    "!pip install catboost \n",
    "from catboost import CatBoostClassifier\n"
   ]
  },
  {
   "cell_type": "markdown",
   "id": "026d77a3",
   "metadata": {
    "deletable": false,
    "editable": false,
    "nbgrader": {
     "cell_type": "markdown",
     "checksum": "5e9b523ebd4123c79b9218fc1693f53f",
     "grade": false,
     "grade_id": "cell-6ff7e25f85954e0a",
     "locked": true,
     "schema_version": 3,
     "solution": false,
     "task": false
    }
   },
   "source": [
    "## Load the dataset"
   ]
  },
  {
   "cell_type": "code",
   "execution_count": 2,
   "id": "abe9f865",
   "metadata": {
    "deletable": false,
    "editable": false,
    "nbgrader": {
     "cell_type": "code",
     "checksum": "6f81b4845e2c2cde529498265b227a72",
     "grade": false,
     "grade_id": "cell-3493828cce1ed156",
     "locked": true,
     "schema_version": 3,
     "solution": false,
     "task": false
    }
   },
   "outputs": [
    {
     "data": {
      "text/html": [
       "<div>\n",
       "<style scoped>\n",
       "    .dataframe tbody tr th:only-of-type {\n",
       "        vertical-align: middle;\n",
       "    }\n",
       "\n",
       "    .dataframe tbody tr th {\n",
       "        vertical-align: top;\n",
       "    }\n",
       "\n",
       "    .dataframe thead th {\n",
       "        text-align: right;\n",
       "    }\n",
       "</style>\n",
       "<table border=\"1\" class=\"dataframe\">\n",
       "  <thead>\n",
       "    <tr style=\"text-align: right;\">\n",
       "      <th></th>\n",
       "      <th>Age</th>\n",
       "      <th>BMI</th>\n",
       "      <th>Blood_Pressure</th>\n",
       "      <th>Cholesterol</th>\n",
       "      <th>Glucose_Level</th>\n",
       "      <th>Heart_Rate</th>\n",
       "      <th>Sleep_Hours</th>\n",
       "      <th>Exercise_Hours</th>\n",
       "      <th>Water_Intake</th>\n",
       "      <th>Stress_Level</th>\n",
       "      <th>Target</th>\n",
       "      <th>Smoking</th>\n",
       "      <th>Alcohol</th>\n",
       "      <th>Diet</th>\n",
       "      <th>MentalHealth</th>\n",
       "      <th>PhysicalActivity</th>\n",
       "      <th>MedicalHistory</th>\n",
       "      <th>Allergies</th>\n",
       "      <th>Diet_Type__Vegan</th>\n",
       "      <th>Diet_Type__Vegetarian</th>\n",
       "      <th>Blood_Group_AB</th>\n",
       "      <th>Blood_Group_B</th>\n",
       "      <th>Blood_Group_O</th>\n",
       "    </tr>\n",
       "  </thead>\n",
       "  <tbody>\n",
       "    <tr>\n",
       "      <th>0</th>\n",
       "      <td>2.0</td>\n",
       "      <td>26.0</td>\n",
       "      <td>111.0</td>\n",
       "      <td>198.0</td>\n",
       "      <td>99.0</td>\n",
       "      <td>72.0</td>\n",
       "      <td>4.0</td>\n",
       "      <td>1.0</td>\n",
       "      <td>5.0</td>\n",
       "      <td>5.0</td>\n",
       "      <td>1</td>\n",
       "      <td>2</td>\n",
       "      <td>2</td>\n",
       "      <td>1</td>\n",
       "      <td>2</td>\n",
       "      <td>1</td>\n",
       "      <td>0</td>\n",
       "      <td>1</td>\n",
       "      <td>False</td>\n",
       "      <td>True</td>\n",
       "      <td>True</td>\n",
       "      <td>False</td>\n",
       "      <td>False</td>\n",
       "    </tr>\n",
       "    <tr>\n",
       "      <th>1</th>\n",
       "      <td>8.0</td>\n",
       "      <td>24.0</td>\n",
       "      <td>121.0</td>\n",
       "      <td>199.0</td>\n",
       "      <td>103.0</td>\n",
       "      <td>75.0</td>\n",
       "      <td>2.0</td>\n",
       "      <td>1.0</td>\n",
       "      <td>2.0</td>\n",
       "      <td>9.0</td>\n",
       "      <td>1</td>\n",
       "      <td>0</td>\n",
       "      <td>1</td>\n",
       "      <td>1</td>\n",
       "      <td>2</td>\n",
       "      <td>1</td>\n",
       "      <td>2</td>\n",
       "      <td>2</td>\n",
       "      <td>False</td>\n",
       "      <td>False</td>\n",
       "      <td>True</td>\n",
       "      <td>False</td>\n",
       "      <td>False</td>\n",
       "    </tr>\n",
       "    <tr>\n",
       "      <th>2</th>\n",
       "      <td>81.0</td>\n",
       "      <td>27.0</td>\n",
       "      <td>147.0</td>\n",
       "      <td>203.0</td>\n",
       "      <td>100.0</td>\n",
       "      <td>74.0</td>\n",
       "      <td>10.0</td>\n",
       "      <td>-0.0</td>\n",
       "      <td>5.0</td>\n",
       "      <td>1.0</td>\n",
       "      <td>0</td>\n",
       "      <td>2</td>\n",
       "      <td>1</td>\n",
       "      <td>2</td>\n",
       "      <td>0</td>\n",
       "      <td>0</td>\n",
       "      <td>1</td>\n",
       "      <td>0</td>\n",
       "      <td>True</td>\n",
       "      <td>False</td>\n",
       "      <td>False</td>\n",
       "      <td>False</td>\n",
       "      <td>False</td>\n",
       "    </tr>\n",
       "    <tr>\n",
       "      <th>3</th>\n",
       "      <td>25.0</td>\n",
       "      <td>21.0</td>\n",
       "      <td>150.0</td>\n",
       "      <td>199.0</td>\n",
       "      <td>102.0</td>\n",
       "      <td>70.0</td>\n",
       "      <td>7.0</td>\n",
       "      <td>3.0</td>\n",
       "      <td>3.0</td>\n",
       "      <td>3.0</td>\n",
       "      <td>0</td>\n",
       "      <td>2</td>\n",
       "      <td>0</td>\n",
       "      <td>1</td>\n",
       "      <td>2</td>\n",
       "      <td>1</td>\n",
       "      <td>2</td>\n",
       "      <td>0</td>\n",
       "      <td>True</td>\n",
       "      <td>False</td>\n",
       "      <td>False</td>\n",
       "      <td>True</td>\n",
       "      <td>False</td>\n",
       "    </tr>\n",
       "    <tr>\n",
       "      <th>4</th>\n",
       "      <td>24.0</td>\n",
       "      <td>26.0</td>\n",
       "      <td>146.0</td>\n",
       "      <td>202.0</td>\n",
       "      <td>99.0</td>\n",
       "      <td>76.0</td>\n",
       "      <td>10.0</td>\n",
       "      <td>2.0</td>\n",
       "      <td>5.0</td>\n",
       "      <td>1.0</td>\n",
       "      <td>0</td>\n",
       "      <td>0</td>\n",
       "      <td>1</td>\n",
       "      <td>2</td>\n",
       "      <td>0</td>\n",
       "      <td>2</td>\n",
       "      <td>0</td>\n",
       "      <td>2</td>\n",
       "      <td>False</td>\n",
       "      <td>True</td>\n",
       "      <td>False</td>\n",
       "      <td>True</td>\n",
       "      <td>False</td>\n",
       "    </tr>\n",
       "  </tbody>\n",
       "</table>\n",
       "</div>"
      ],
      "text/plain": [
       "    Age   BMI  Blood_Pressure  Cholesterol  Glucose_Level  Heart_Rate  Sleep_Hours  Exercise_Hours  Water_Intake  Stress_Level  Target  Smoking  Alcohol  Diet  MentalHealth  PhysicalActivity  MedicalHistory  Allergies  Diet_Type__Vegan  Diet_Type__Vegetarian  Blood_Group_AB  Blood_Group_B  Blood_Group_O\n",
       "0   2.0  26.0           111.0        198.0           99.0        72.0          4.0             1.0           5.0           5.0       1        2        2     1             2                 1               0          1             False                   True            True          False          False\n",
       "1   8.0  24.0           121.0        199.0          103.0        75.0          2.0             1.0           2.0           9.0       1        0        1     1             2                 1               2          2             False                  False            True          False          False\n",
       "2  81.0  27.0           147.0        203.0          100.0        74.0         10.0            -0.0           5.0           1.0       0        2        1     2             0                 0               1          0              True                  False           False          False          False\n",
       "3  25.0  21.0           150.0        199.0          102.0        70.0          7.0             3.0           3.0           3.0       0        2        0     1             2                 1               2          0              True                  False           False           True          False\n",
       "4  24.0  26.0           146.0        202.0           99.0        76.0         10.0             2.0           5.0           1.0       0        0        1     2             0                 2               0          2             False                   True           False           True          False"
      ]
     },
     "execution_count": 2,
     "metadata": {},
     "output_type": "execute_result"
    }
   ],
   "source": [
    "#Load the dataset\n",
    "df = pd.read_csv('Healthcare_Dataset_Preprocessednew.csv')\n",
    "df.head()"
   ]
  },
  {
   "cell_type": "code",
   "execution_count": 3,
   "id": "ca98da6a",
   "metadata": {
    "deletable": false,
    "editable": false,
    "nbgrader": {
     "cell_type": "code",
     "checksum": "faa493023825613733b43728b4f1d19a",
     "grade": false,
     "grade_id": "cell-dc1d01d951e4b91f",
     "locked": true,
     "schema_version": 3,
     "solution": false,
     "task": false
    }
   },
   "outputs": [
    {
     "data": {
      "text/plain": [
       "(9549, 23)"
      ]
     },
     "execution_count": 3,
     "metadata": {},
     "output_type": "execute_result"
    }
   ],
   "source": [
    "#shape of data\n",
    "df.shape\n"
   ]
  },
  {
   "cell_type": "code",
   "execution_count": 4,
   "id": "97a29cb5",
   "metadata": {
    "deletable": false,
    "editable": false,
    "nbgrader": {
     "cell_type": "code",
     "checksum": "3a015f1269f09c3862c7f18c2fe3f825",
     "grade": false,
     "grade_id": "cell-2855a1ab47a133c9",
     "locked": true,
     "schema_version": 3,
     "solution": false,
     "task": false
    }
   },
   "outputs": [
    {
     "data": {
      "text/plain": [
       "Index(['Age', 'BMI', 'Blood_Pressure', 'Cholesterol', 'Glucose_Level', 'Heart_Rate', 'Sleep_Hours', 'Exercise_Hours', 'Water_Intake', 'Stress_Level', 'Target', 'Smoking', 'Alcohol', 'Diet', 'MentalHealth', 'PhysicalActivity', 'MedicalHistory', 'Allergies', 'Diet_Type__Vegan', 'Diet_Type__Vegetarian', 'Blood_Group_AB', 'Blood_Group_B', 'Blood_Group_O'], dtype='object')"
      ]
     },
     "execution_count": 4,
     "metadata": {},
     "output_type": "execute_result"
    }
   ],
   "source": [
    "# Column names in the dataset\n",
    "df.columns"
   ]
  },
  {
   "cell_type": "markdown",
   "id": "88065ba0",
   "metadata": {
    "deletable": false,
    "editable": false,
    "nbgrader": {
     "cell_type": "markdown",
     "checksum": "a1d7373129aa638520d942ecb4c3c9ad",
     "grade": false,
     "grade_id": "cell-83a3001ed3e7f30a",
     "locked": true,
     "schema_version": 3,
     "solution": false,
     "task": false
    }
   },
   "source": [
    "# Separate the indpendent features in the dataframe 'X' and  the target in a variable 'y '\n"
   ]
  },
  {
   "cell_type": "code",
   "execution_count": 5,
   "id": "f3f7f155",
   "metadata": {
    "deletable": false,
    "nbgrader": {
     "cell_type": "code",
     "checksum": "bdd34dcd36c8b28bb73b73f4d3f20419",
     "grade": false,
     "grade_id": "cell-03aeb917f862eb43",
     "locked": false,
     "schema_version": 3,
     "solution": true,
     "task": false
    }
   },
   "outputs": [],
   "source": [
    "# your code here\n",
    "X = df.drop(['Target'], axis=1)\n",
    "y = df['Target']"
   ]
  },
  {
   "cell_type": "code",
   "execution_count": 6,
   "id": "f9bc992f",
   "metadata": {
    "deletable": false,
    "editable": false,
    "nbgrader": {
     "cell_type": "code",
     "checksum": "24aae850fd0b20fa66de7138cdd64fa8",
     "grade": false,
     "grade_id": "cell-319dec5f2d62b2a5",
     "locked": true,
     "schema_version": 3,
     "solution": false,
     "task": false
    }
   },
   "outputs": [
    {
     "data": {
      "text/plain": [
       "((9549, 22), (9549,))"
      ]
     },
     "execution_count": 6,
     "metadata": {},
     "output_type": "execute_result"
    }
   ],
   "source": [
    "X.shape , y.shape"
   ]
  },
  {
   "cell_type": "code",
   "execution_count": null,
   "id": "83be0dda",
   "metadata": {
    "deletable": false,
    "editable": false,
    "nbgrader": {
     "cell_type": "code",
     "checksum": "69d9ddc299dfed192caab7bb85c3eb1d",
     "grade": true,
     "grade_id": "cell-c1a78a0af3eaf3d3",
     "locked": true,
     "points": 2,
     "schema_version": 3,
     "solution": false,
     "task": false
    }
   },
   "outputs": [],
   "source": []
  },
  {
   "cell_type": "markdown",
   "id": "2cf13d1b",
   "metadata": {
    "deletable": false,
    "editable": false,
    "nbgrader": {
     "cell_type": "markdown",
     "checksum": "cec00ec78cf16b5e98981e4a70aff0f5",
     "grade": false,
     "grade_id": "cell-1f9c0123faeac681",
     "locked": true,
     "schema_version": 3,
     "solution": false,
     "task": false
    }
   },
   "source": [
    "# Splitting Dataset into Train and Test Sets\n"
   ]
  },
  {
   "cell_type": "code",
   "execution_count": 7,
   "id": "8fc912dd",
   "metadata": {
    "deletable": false,
    "nbgrader": {
     "cell_type": "code",
     "checksum": "63d76be8ac96e4f4e3502a2d3341b01e",
     "grade": false,
     "grade_id": "cell-2f0f4b155b1a7859",
     "locked": false,
     "schema_version": 3,
     "solution": true,
     "task": false
    }
   },
   "outputs": [],
   "source": [
    "# Splitting the dataset into training and testing sets keeping the test size as 25% and seed value as 42\n",
    "\n",
    "# your code here\n",
    "X_train, X_test, y_train, y_test = train_test_split(X, y, test_size=0.25, random_state=42)"
   ]
  },
  {
   "cell_type": "code",
   "execution_count": null,
   "id": "d27c54d1",
   "metadata": {
    "deletable": false,
    "editable": false,
    "nbgrader": {
     "cell_type": "code",
     "checksum": "09bbd339836709e8cb97e1440fdd478e",
     "grade": true,
     "grade_id": "cell-a00e8554b95f924a",
     "locked": true,
     "points": 2,
     "schema_version": 3,
     "solution": false,
     "task": false
    }
   },
   "outputs": [],
   "source": []
  },
  {
   "cell_type": "markdown",
   "id": "f45d1f58",
   "metadata": {
    "deletable": false,
    "editable": false,
    "nbgrader": {
     "cell_type": "markdown",
     "checksum": "d9d4b71684c0d46334a1a034e26b0ab3",
     "grade": false,
     "grade_id": "cell-bb8fe5824361f769",
     "locked": true,
     "schema_version": 3,
     "solution": false,
     "task": false
    }
   },
   "source": [
    "# Create a simple Decision tree \n",
    "\n",
    "The first step is to train the model using simple decision tree "
   ]
  },
  {
   "cell_type": "code",
   "execution_count": 8,
   "id": "2eb7c1a4",
   "metadata": {
    "deletable": false,
    "nbgrader": {
     "cell_type": "code",
     "checksum": "c414581566da97a70f2302ebcec420f2",
     "grade": false,
     "grade_id": "cell-7f0afa6c40ec7eb2",
     "locked": false,
     "schema_version": 3,
     "solution": true,
     "task": false
    }
   },
   "outputs": [],
   "source": [
    "# Initialize a simple Decision Tree classifier with depth 15 and seed 42. Name it 'model' and then fit it \n",
    "# your code here\n",
    "model = DecisionTreeClassifier(max_depth=15, random_state=42)"
   ]
  },
  {
   "cell_type": "code",
   "execution_count": 9,
   "id": "a857a592",
   "metadata": {
    "deletable": false,
    "editable": false,
    "nbgrader": {
     "cell_type": "code",
     "checksum": "97e7b0ed4ccce5d2713b0b5ccfed8a56",
     "grade": true,
     "grade_id": "cell-af006460199d3a77",
     "locked": true,
     "points": 3,
     "schema_version": 3,
     "solution": false,
     "task": false
    }
   },
   "outputs": [],
   "source": [
    "## Begin hidden test\n",
    "assert model.max_depth == 15, \"Max_depth is not set to 15\"\n",
    "## End hidden test"
   ]
  },
  {
   "cell_type": "code",
   "execution_count": 10,
   "id": "8146b1dc",
   "metadata": {
    "deletable": false,
    "nbgrader": {
     "cell_type": "code",
     "checksum": "93231f34f006802a07fcc948ffb7adec",
     "grade": false,
     "grade_id": "cell-94f0a1add824afce",
     "locked": false,
     "schema_version": 3,
     "solution": true,
     "task": false
    }
   },
   "outputs": [
    {
     "data": {
      "text/html": [
       "<style>#sk-container-id-1 {color: black;background-color: white;}#sk-container-id-1 pre{padding: 0;}#sk-container-id-1 div.sk-toggleable {background-color: white;}#sk-container-id-1 label.sk-toggleable__label {cursor: pointer;display: block;width: 100%;margin-bottom: 0;padding: 0.3em;box-sizing: border-box;text-align: center;}#sk-container-id-1 label.sk-toggleable__label-arrow:before {content: \"▸\";float: left;margin-right: 0.25em;color: #696969;}#sk-container-id-1 label.sk-toggleable__label-arrow:hover:before {color: black;}#sk-container-id-1 div.sk-estimator:hover label.sk-toggleable__label-arrow:before {color: black;}#sk-container-id-1 div.sk-toggleable__content {max-height: 0;max-width: 0;overflow: hidden;text-align: left;background-color: #f0f8ff;}#sk-container-id-1 div.sk-toggleable__content pre {margin: 0.2em;color: black;border-radius: 0.25em;background-color: #f0f8ff;}#sk-container-id-1 input.sk-toggleable__control:checked~div.sk-toggleable__content {max-height: 200px;max-width: 100%;overflow: auto;}#sk-container-id-1 input.sk-toggleable__control:checked~label.sk-toggleable__label-arrow:before {content: \"▾\";}#sk-container-id-1 div.sk-estimator input.sk-toggleable__control:checked~label.sk-toggleable__label {background-color: #d4ebff;}#sk-container-id-1 div.sk-label input.sk-toggleable__control:checked~label.sk-toggleable__label {background-color: #d4ebff;}#sk-container-id-1 input.sk-hidden--visually {border: 0;clip: rect(1px 1px 1px 1px);clip: rect(1px, 1px, 1px, 1px);height: 1px;margin: -1px;overflow: hidden;padding: 0;position: absolute;width: 1px;}#sk-container-id-1 div.sk-estimator {font-family: monospace;background-color: #f0f8ff;border: 1px dotted black;border-radius: 0.25em;box-sizing: border-box;margin-bottom: 0.5em;}#sk-container-id-1 div.sk-estimator:hover {background-color: #d4ebff;}#sk-container-id-1 div.sk-parallel-item::after {content: \"\";width: 100%;border-bottom: 1px solid gray;flex-grow: 1;}#sk-container-id-1 div.sk-label:hover label.sk-toggleable__label {background-color: #d4ebff;}#sk-container-id-1 div.sk-serial::before {content: \"\";position: absolute;border-left: 1px solid gray;box-sizing: border-box;top: 0;bottom: 0;left: 50%;z-index: 0;}#sk-container-id-1 div.sk-serial {display: flex;flex-direction: column;align-items: center;background-color: white;padding-right: 0.2em;padding-left: 0.2em;position: relative;}#sk-container-id-1 div.sk-item {position: relative;z-index: 1;}#sk-container-id-1 div.sk-parallel {display: flex;align-items: stretch;justify-content: center;background-color: white;position: relative;}#sk-container-id-1 div.sk-item::before, #sk-container-id-1 div.sk-parallel-item::before {content: \"\";position: absolute;border-left: 1px solid gray;box-sizing: border-box;top: 0;bottom: 0;left: 50%;z-index: -1;}#sk-container-id-1 div.sk-parallel-item {display: flex;flex-direction: column;z-index: 1;position: relative;background-color: white;}#sk-container-id-1 div.sk-parallel-item:first-child::after {align-self: flex-end;width: 50%;}#sk-container-id-1 div.sk-parallel-item:last-child::after {align-self: flex-start;width: 50%;}#sk-container-id-1 div.sk-parallel-item:only-child::after {width: 0;}#sk-container-id-1 div.sk-dashed-wrapped {border: 1px dashed gray;margin: 0 0.4em 0.5em 0.4em;box-sizing: border-box;padding-bottom: 0.4em;background-color: white;}#sk-container-id-1 div.sk-label label {font-family: monospace;font-weight: bold;display: inline-block;line-height: 1.2em;}#sk-container-id-1 div.sk-label-container {text-align: center;}#sk-container-id-1 div.sk-container {/* jupyter's `normalize.less` sets `[hidden] { display: none; }` but bootstrap.min.css set `[hidden] { display: none !important; }` so we also need the `!important` here to be able to override the default hidden behavior on the sphinx rendered scikit-learn.org. See: https://github.com/scikit-learn/scikit-learn/issues/21755 */display: inline-block !important;position: relative;}#sk-container-id-1 div.sk-text-repr-fallback {display: none;}</style><div id=\"sk-container-id-1\" class=\"sk-top-container\"><div class=\"sk-text-repr-fallback\"><pre>DecisionTreeClassifier(max_depth=15, random_state=42)</pre><b>In a Jupyter environment, please rerun this cell to show the HTML representation or trust the notebook. <br />On GitHub, the HTML representation is unable to render, please try loading this page with nbviewer.org.</b></div><div class=\"sk-container\" hidden><div class=\"sk-item\"><div class=\"sk-estimator sk-toggleable\"><input class=\"sk-toggleable__control sk-hidden--visually\" id=\"sk-estimator-id-1\" type=\"checkbox\" checked><label for=\"sk-estimator-id-1\" class=\"sk-toggleable__label sk-toggleable__label-arrow\">DecisionTreeClassifier</label><div class=\"sk-toggleable__content\"><pre>DecisionTreeClassifier(max_depth=15, random_state=42)</pre></div></div></div></div></div>"
      ],
      "text/plain": [
       "DecisionTreeClassifier(max_depth=15, random_state=42)"
      ]
     },
     "execution_count": 10,
     "metadata": {},
     "output_type": "execute_result"
    }
   ],
   "source": [
    "# your code here\n",
    "model.fit(X_train, y_train.values.ravel())"
   ]
  },
  {
   "cell_type": "code",
   "execution_count": 11,
   "id": "3cde5c38-c94b-4102-a8c9-725fa533470c",
   "metadata": {},
   "outputs": [],
   "source": [
    "y_train_pred = model.predict(X_train)\n",
    "y_test_pred = model.predict(X_test)"
   ]
  },
  {
   "cell_type": "markdown",
   "id": "d643e012",
   "metadata": {
    "deletable": false,
    "editable": false,
    "nbgrader": {
     "cell_type": "markdown",
     "checksum": "a1e488e61ce7763fd7251f5f18646b21",
     "grade": false,
     "grade_id": "cell-4a1755d7bf327d62",
     "locked": true,
     "schema_version": 3,
     "solution": false,
     "task": false
    }
   },
   "source": [
    "# Evaluate model performance"
   ]
  },
  {
   "cell_type": "markdown",
   "id": "20a6f4e3",
   "metadata": {
    "deletable": false,
    "editable": false,
    "nbgrader": {
     "cell_type": "markdown",
     "checksum": "6ec382efa6c32cf9aa9fbe69b55374be",
     "grade": false,
     "grade_id": "cell-7caa8acabc3c95de",
     "locked": true,
     "schema_version": 3,
     "solution": false,
     "task": false
    }
   },
   "source": [
    "After creating model and getting the predictions on the test set, \n",
    " calculate f1 score for evaluating the performance of the model "
   ]
  },
  {
   "cell_type": "code",
   "execution_count": 12,
   "id": "738a7c17",
   "metadata": {
    "deletable": false,
    "nbgrader": {
     "cell_type": "code",
     "checksum": "625198f379d4f393b4465804efc41d83",
     "grade": false,
     "grade_id": "cell-6e095f8c130aff64",
     "locked": false,
     "schema_version": 3,
     "solution": true,
     "task": false
    }
   },
   "outputs": [
    {
     "data": {
      "text/plain": [
       "0.903097696584591"
      ]
     },
     "execution_count": 12,
     "metadata": {},
     "output_type": "execute_result"
    }
   ],
   "source": [
    "from sklearn.metrics import f1_score\n",
    "\n",
    "# your code here\n",
    "f1_score(y_test,y_test_pred)"
   ]
  },
  {
   "cell_type": "code",
   "execution_count": null,
   "id": "cbc531a4",
   "metadata": {
    "deletable": false,
    "editable": false,
    "nbgrader": {
     "cell_type": "code",
     "checksum": "f0ecb03b26db444f6a31e70a70cda8c4",
     "grade": true,
     "grade_id": "cell-07f02dd4841a52e7",
     "locked": true,
     "points": 1,
     "schema_version": 3,
     "solution": false,
     "task": false
    }
   },
   "outputs": [],
   "source": []
  },
  {
   "cell_type": "markdown",
   "id": "9c28b43b",
   "metadata": {
    "deletable": false,
    "editable": false,
    "nbgrader": {
     "cell_type": "markdown",
     "checksum": "453c6d95bfbb833bac19a87207b830c1",
     "grade": false,
     "grade_id": "cell-f50a940bdac19a5d",
     "locked": true,
     "schema_version": 3,
     "solution": false,
     "task": false
    }
   },
   "source": [
    "# APPLY ADABOOST ALGORITHM FOR TRAINING "
   ]
  },
  {
   "cell_type": "markdown",
   "id": "d9843b1c",
   "metadata": {
    "deletable": false,
    "editable": false,
    "nbgrader": {
     "cell_type": "markdown",
     "checksum": "d2c351baefa8f75197545b4d57ccef9b",
     "grade": false,
     "grade_id": "cell-7b852a1ff2fdbf6e",
     "locked": true,
     "schema_version": 3,
     "solution": false,
     "task": false
    }
   },
   "source": [
    "After creating simple decision tree, its now time to create classifier model using AdaBoostClassifier "
   ]
  },
  {
   "cell_type": "code",
   "execution_count": 13,
   "id": "a0efc00e",
   "metadata": {
    "deletable": false,
    "nbgrader": {
     "cell_type": "code",
     "checksum": "c99da689b2fe2cb493efc13f4aa4e430",
     "grade": false,
     "grade_id": "cell-d9be0970df96e6c5",
     "locked": false,
     "schema_version": 3,
     "solution": true,
     "task": false
    }
   },
   "outputs": [
    {
     "data": {
      "text/html": [
       "<style>#sk-container-id-2 {color: black;background-color: white;}#sk-container-id-2 pre{padding: 0;}#sk-container-id-2 div.sk-toggleable {background-color: white;}#sk-container-id-2 label.sk-toggleable__label {cursor: pointer;display: block;width: 100%;margin-bottom: 0;padding: 0.3em;box-sizing: border-box;text-align: center;}#sk-container-id-2 label.sk-toggleable__label-arrow:before {content: \"▸\";float: left;margin-right: 0.25em;color: #696969;}#sk-container-id-2 label.sk-toggleable__label-arrow:hover:before {color: black;}#sk-container-id-2 div.sk-estimator:hover label.sk-toggleable__label-arrow:before {color: black;}#sk-container-id-2 div.sk-toggleable__content {max-height: 0;max-width: 0;overflow: hidden;text-align: left;background-color: #f0f8ff;}#sk-container-id-2 div.sk-toggleable__content pre {margin: 0.2em;color: black;border-radius: 0.25em;background-color: #f0f8ff;}#sk-container-id-2 input.sk-toggleable__control:checked~div.sk-toggleable__content {max-height: 200px;max-width: 100%;overflow: auto;}#sk-container-id-2 input.sk-toggleable__control:checked~label.sk-toggleable__label-arrow:before {content: \"▾\";}#sk-container-id-2 div.sk-estimator input.sk-toggleable__control:checked~label.sk-toggleable__label {background-color: #d4ebff;}#sk-container-id-2 div.sk-label input.sk-toggleable__control:checked~label.sk-toggleable__label {background-color: #d4ebff;}#sk-container-id-2 input.sk-hidden--visually {border: 0;clip: rect(1px 1px 1px 1px);clip: rect(1px, 1px, 1px, 1px);height: 1px;margin: -1px;overflow: hidden;padding: 0;position: absolute;width: 1px;}#sk-container-id-2 div.sk-estimator {font-family: monospace;background-color: #f0f8ff;border: 1px dotted black;border-radius: 0.25em;box-sizing: border-box;margin-bottom: 0.5em;}#sk-container-id-2 div.sk-estimator:hover {background-color: #d4ebff;}#sk-container-id-2 div.sk-parallel-item::after {content: \"\";width: 100%;border-bottom: 1px solid gray;flex-grow: 1;}#sk-container-id-2 div.sk-label:hover label.sk-toggleable__label {background-color: #d4ebff;}#sk-container-id-2 div.sk-serial::before {content: \"\";position: absolute;border-left: 1px solid gray;box-sizing: border-box;top: 0;bottom: 0;left: 50%;z-index: 0;}#sk-container-id-2 div.sk-serial {display: flex;flex-direction: column;align-items: center;background-color: white;padding-right: 0.2em;padding-left: 0.2em;position: relative;}#sk-container-id-2 div.sk-item {position: relative;z-index: 1;}#sk-container-id-2 div.sk-parallel {display: flex;align-items: stretch;justify-content: center;background-color: white;position: relative;}#sk-container-id-2 div.sk-item::before, #sk-container-id-2 div.sk-parallel-item::before {content: \"\";position: absolute;border-left: 1px solid gray;box-sizing: border-box;top: 0;bottom: 0;left: 50%;z-index: -1;}#sk-container-id-2 div.sk-parallel-item {display: flex;flex-direction: column;z-index: 1;position: relative;background-color: white;}#sk-container-id-2 div.sk-parallel-item:first-child::after {align-self: flex-end;width: 50%;}#sk-container-id-2 div.sk-parallel-item:last-child::after {align-self: flex-start;width: 50%;}#sk-container-id-2 div.sk-parallel-item:only-child::after {width: 0;}#sk-container-id-2 div.sk-dashed-wrapped {border: 1px dashed gray;margin: 0 0.4em 0.5em 0.4em;box-sizing: border-box;padding-bottom: 0.4em;background-color: white;}#sk-container-id-2 div.sk-label label {font-family: monospace;font-weight: bold;display: inline-block;line-height: 1.2em;}#sk-container-id-2 div.sk-label-container {text-align: center;}#sk-container-id-2 div.sk-container {/* jupyter's `normalize.less` sets `[hidden] { display: none; }` but bootstrap.min.css set `[hidden] { display: none !important; }` so we also need the `!important` here to be able to override the default hidden behavior on the sphinx rendered scikit-learn.org. See: https://github.com/scikit-learn/scikit-learn/issues/21755 */display: inline-block !important;position: relative;}#sk-container-id-2 div.sk-text-repr-fallback {display: none;}</style><div id=\"sk-container-id-2\" class=\"sk-top-container\"><div class=\"sk-text-repr-fallback\"><pre>AdaBoostClassifier(random_state=42)</pre><b>In a Jupyter environment, please rerun this cell to show the HTML representation or trust the notebook. <br />On GitHub, the HTML representation is unable to render, please try loading this page with nbviewer.org.</b></div><div class=\"sk-container\" hidden><div class=\"sk-item\"><div class=\"sk-estimator sk-toggleable\"><input class=\"sk-toggleable__control sk-hidden--visually\" id=\"sk-estimator-id-2\" type=\"checkbox\" checked><label for=\"sk-estimator-id-2\" class=\"sk-toggleable__label sk-toggleable__label-arrow\">AdaBoostClassifier</label><div class=\"sk-toggleable__content\"><pre>AdaBoostClassifier(random_state=42)</pre></div></div></div></div></div>"
      ],
      "text/plain": [
       "AdaBoostClassifier(random_state=42)"
      ]
     },
     "execution_count": 13,
     "metadata": {},
     "output_type": "execute_result"
    }
   ],
   "source": [
    "\n",
    "# your code here\n",
    "model = AdaBoostClassifier(random_state=42)\n",
    "# Train the AdaBoost model\n",
    "model.fit(X_train, y_train.values.ravel())"
   ]
  },
  {
   "cell_type": "markdown",
   "id": "c320781b",
   "metadata": {
    "deletable": false,
    "editable": false,
    "nbgrader": {
     "cell_type": "markdown",
     "checksum": "8bc82d5da8c127317619bc9be2a7a7de",
     "grade": false,
     "grade_id": "cell-f3f5cee9f70a4915",
     "locked": true,
     "schema_version": 3,
     "solution": false,
     "task": false
    }
   },
   "source": [
    "After training the model using AdaBoostClassifier , do prediction on the test data and calculate f1 score for evaluation"
   ]
  },
  {
   "cell_type": "code",
   "execution_count": 14,
   "id": "737d48f3",
   "metadata": {
    "deletable": false,
    "editable": false,
    "nbgrader": {
     "cell_type": "code",
     "checksum": "ba9663ae292b9fa84234d4dfda5ae688",
     "grade": false,
     "grade_id": "cell-d011bd3ad7e3d294",
     "locked": true,
     "schema_version": 3,
     "solution": false,
     "task": false
    }
   },
   "outputs": [],
   "source": [
    "# Predict on training and validation data\n",
    "y_pred_train = model.predict(X_train)\n",
    "y_pred_test = model.predict(X_test)"
   ]
  },
  {
   "cell_type": "code",
   "execution_count": 15,
   "id": "63ad8285",
   "metadata": {
    "deletable": false,
    "nbgrader": {
     "cell_type": "code",
     "checksum": "93d4b42af0059eaf1a56fef3e21a43f5",
     "grade": false,
     "grade_id": "cell-ffa36d2556fb0641",
     "locked": false,
     "schema_version": 3,
     "solution": true,
     "task": false
    }
   },
   "outputs": [
    {
     "data": {
      "text/plain": [
       "0.903097696584591"
      ]
     },
     "execution_count": 15,
     "metadata": {},
     "output_type": "execute_result"
    }
   ],
   "source": [
    "from sklearn.metrics import f1_score\n",
    "# your code here\n",
    "f1_score(y_test,y_test_pred)"
   ]
  },
  {
   "cell_type": "code",
   "execution_count": null,
   "id": "03a6bdce",
   "metadata": {
    "deletable": false,
    "editable": false,
    "nbgrader": {
     "cell_type": "code",
     "checksum": "a4c7e6cfe6a15420a8d17317a1abcb7c",
     "grade": true,
     "grade_id": "cell-2235d7485226df2d",
     "locked": true,
     "points": 2,
     "schema_version": 3,
     "solution": false,
     "task": false
    }
   },
   "outputs": [],
   "source": []
  },
  {
   "cell_type": "markdown",
   "id": "8773d3c9",
   "metadata": {
    "deletable": false,
    "editable": false,
    "nbgrader": {
     "cell_type": "markdown",
     "checksum": "b594269a4486a0bd075f22651cbc2b30",
     "grade": false,
     "grade_id": "cell-a562814a6256645c",
     "locked": true,
     "schema_version": 3,
     "solution": false,
     "task": false
    }
   },
   "source": [
    "# APPLY GRADIENT BOOSTING \n",
    "\n",
    "### Now use GradientBoostingClassifier for training the model \n"
   ]
  },
  {
   "cell_type": "code",
   "execution_count": 16,
   "id": "b32acd30",
   "metadata": {
    "deletable": false,
    "nbgrader": {
     "cell_type": "code",
     "checksum": "63d2b19009c68d1603611c6e2042f675",
     "grade": false,
     "grade_id": "cell-41421b7013a91946",
     "locked": false,
     "schema_version": 3,
     "solution": true,
     "task": false
    }
   },
   "outputs": [
    {
     "data": {
      "text/html": [
       "<style>#sk-container-id-3 {color: black;background-color: white;}#sk-container-id-3 pre{padding: 0;}#sk-container-id-3 div.sk-toggleable {background-color: white;}#sk-container-id-3 label.sk-toggleable__label {cursor: pointer;display: block;width: 100%;margin-bottom: 0;padding: 0.3em;box-sizing: border-box;text-align: center;}#sk-container-id-3 label.sk-toggleable__label-arrow:before {content: \"▸\";float: left;margin-right: 0.25em;color: #696969;}#sk-container-id-3 label.sk-toggleable__label-arrow:hover:before {color: black;}#sk-container-id-3 div.sk-estimator:hover label.sk-toggleable__label-arrow:before {color: black;}#sk-container-id-3 div.sk-toggleable__content {max-height: 0;max-width: 0;overflow: hidden;text-align: left;background-color: #f0f8ff;}#sk-container-id-3 div.sk-toggleable__content pre {margin: 0.2em;color: black;border-radius: 0.25em;background-color: #f0f8ff;}#sk-container-id-3 input.sk-toggleable__control:checked~div.sk-toggleable__content {max-height: 200px;max-width: 100%;overflow: auto;}#sk-container-id-3 input.sk-toggleable__control:checked~label.sk-toggleable__label-arrow:before {content: \"▾\";}#sk-container-id-3 div.sk-estimator input.sk-toggleable__control:checked~label.sk-toggleable__label {background-color: #d4ebff;}#sk-container-id-3 div.sk-label input.sk-toggleable__control:checked~label.sk-toggleable__label {background-color: #d4ebff;}#sk-container-id-3 input.sk-hidden--visually {border: 0;clip: rect(1px 1px 1px 1px);clip: rect(1px, 1px, 1px, 1px);height: 1px;margin: -1px;overflow: hidden;padding: 0;position: absolute;width: 1px;}#sk-container-id-3 div.sk-estimator {font-family: monospace;background-color: #f0f8ff;border: 1px dotted black;border-radius: 0.25em;box-sizing: border-box;margin-bottom: 0.5em;}#sk-container-id-3 div.sk-estimator:hover {background-color: #d4ebff;}#sk-container-id-3 div.sk-parallel-item::after {content: \"\";width: 100%;border-bottom: 1px solid gray;flex-grow: 1;}#sk-container-id-3 div.sk-label:hover label.sk-toggleable__label {background-color: #d4ebff;}#sk-container-id-3 div.sk-serial::before {content: \"\";position: absolute;border-left: 1px solid gray;box-sizing: border-box;top: 0;bottom: 0;left: 50%;z-index: 0;}#sk-container-id-3 div.sk-serial {display: flex;flex-direction: column;align-items: center;background-color: white;padding-right: 0.2em;padding-left: 0.2em;position: relative;}#sk-container-id-3 div.sk-item {position: relative;z-index: 1;}#sk-container-id-3 div.sk-parallel {display: flex;align-items: stretch;justify-content: center;background-color: white;position: relative;}#sk-container-id-3 div.sk-item::before, #sk-container-id-3 div.sk-parallel-item::before {content: \"\";position: absolute;border-left: 1px solid gray;box-sizing: border-box;top: 0;bottom: 0;left: 50%;z-index: -1;}#sk-container-id-3 div.sk-parallel-item {display: flex;flex-direction: column;z-index: 1;position: relative;background-color: white;}#sk-container-id-3 div.sk-parallel-item:first-child::after {align-self: flex-end;width: 50%;}#sk-container-id-3 div.sk-parallel-item:last-child::after {align-self: flex-start;width: 50%;}#sk-container-id-3 div.sk-parallel-item:only-child::after {width: 0;}#sk-container-id-3 div.sk-dashed-wrapped {border: 1px dashed gray;margin: 0 0.4em 0.5em 0.4em;box-sizing: border-box;padding-bottom: 0.4em;background-color: white;}#sk-container-id-3 div.sk-label label {font-family: monospace;font-weight: bold;display: inline-block;line-height: 1.2em;}#sk-container-id-3 div.sk-label-container {text-align: center;}#sk-container-id-3 div.sk-container {/* jupyter's `normalize.less` sets `[hidden] { display: none; }` but bootstrap.min.css set `[hidden] { display: none !important; }` so we also need the `!important` here to be able to override the default hidden behavior on the sphinx rendered scikit-learn.org. See: https://github.com/scikit-learn/scikit-learn/issues/21755 */display: inline-block !important;position: relative;}#sk-container-id-3 div.sk-text-repr-fallback {display: none;}</style><div id=\"sk-container-id-3\" class=\"sk-top-container\"><div class=\"sk-text-repr-fallback\"><pre>GradientBoostingClassifier(random_state=42)</pre><b>In a Jupyter environment, please rerun this cell to show the HTML representation or trust the notebook. <br />On GitHub, the HTML representation is unable to render, please try loading this page with nbviewer.org.</b></div><div class=\"sk-container\" hidden><div class=\"sk-item\"><div class=\"sk-estimator sk-toggleable\"><input class=\"sk-toggleable__control sk-hidden--visually\" id=\"sk-estimator-id-3\" type=\"checkbox\" checked><label for=\"sk-estimator-id-3\" class=\"sk-toggleable__label sk-toggleable__label-arrow\">GradientBoostingClassifier</label><div class=\"sk-toggleable__content\"><pre>GradientBoostingClassifier(random_state=42)</pre></div></div></div></div></div>"
      ],
      "text/plain": [
       "GradientBoostingClassifier(random_state=42)"
      ]
     },
     "execution_count": 16,
     "metadata": {},
     "output_type": "execute_result"
    }
   ],
   "source": [
    "model = GradientBoostingClassifier(random_state=42)\n",
    "model.fit(X_train, y_train.values.ravel())"
   ]
  },
  {
   "cell_type": "markdown",
   "id": "a304fa4d",
   "metadata": {
    "deletable": false,
    "editable": false,
    "nbgrader": {
     "cell_type": "markdown",
     "checksum": "fe38604899c01d164c89b76be5809e46",
     "grade": false,
     "grade_id": "cell-0ccbe73521ac3a90",
     "locked": true,
     "schema_version": 3,
     "solution": false,
     "task": false
    }
   },
   "source": [
    "## Evaluation"
   ]
  },
  {
   "cell_type": "markdown",
   "id": "2a2506ff",
   "metadata": {
    "deletable": false,
    "editable": false,
    "nbgrader": {
     "cell_type": "markdown",
     "checksum": "e63a08bb23569f9737b59ed9fb434f77",
     "grade": false,
     "grade_id": "cell-93e363f8fd8b249f",
     "locked": true,
     "schema_version": 3,
     "solution": false,
     "task": false
    }
   },
   "source": [
    "Prediciton on training and testing data using GradientBoostingClassifier and then calculate f1 score "
   ]
  },
  {
   "cell_type": "code",
   "execution_count": 17,
   "id": "ac96c679",
   "metadata": {
    "deletable": false,
    "nbgrader": {
     "cell_type": "code",
     "checksum": "b93a36a22451bb75c8c6e274a493d962",
     "grade": false,
     "grade_id": "cell-b7277ccd9508aa4e",
     "locked": false,
     "schema_version": 3,
     "solution": true,
     "task": false
    }
   },
   "outputs": [],
   "source": [
    "y_pred_train = model.predict(X_train)\n",
    "y_pred_test = model.predict(X_test)"
   ]
  },
  {
   "cell_type": "code",
   "execution_count": 18,
   "id": "3b5a3831",
   "metadata": {
    "deletable": false,
    "nbgrader": {
     "cell_type": "code",
     "checksum": "5d1aa893ea4aaf6b76292a9ae0cdc871",
     "grade": false,
     "grade_id": "cell-9ea03aa00c137df1",
     "locked": false,
     "schema_version": 3,
     "solution": true,
     "task": false
    }
   },
   "outputs": [
    {
     "data": {
      "text/plain": [
       "0.903097696584591"
      ]
     },
     "execution_count": 18,
     "metadata": {},
     "output_type": "execute_result"
    }
   ],
   "source": [
    "f1_score(y_test,y_test_pred)"
   ]
  },
  {
   "cell_type": "code",
   "execution_count": null,
   "id": "141e5c3b",
   "metadata": {
    "deletable": false,
    "editable": false,
    "nbgrader": {
     "cell_type": "code",
     "checksum": "12a1b46f76909654c8ab6b68a7affdce",
     "grade": true,
     "grade_id": "cell-83b63df4d495b4db",
     "locked": true,
     "points": 4,
     "schema_version": 3,
     "solution": false,
     "task": false
    }
   },
   "outputs": [],
   "source": []
  },
  {
   "cell_type": "markdown",
   "id": "13afd9cd",
   "metadata": {
    "deletable": false,
    "editable": false,
    "nbgrader": {
     "cell_type": "markdown",
     "checksum": "3480ba9728caeb403f2bbc225a4b66c7",
     "grade": false,
     "grade_id": "cell-51b00a74ca7a0c06",
     "locked": true,
     "schema_version": 3,
     "solution": false,
     "task": false
    }
   },
   "source": [
    "# APPLY XGBOOST \n",
    "\n",
    "### Here, use XGBClassifier to train the model.\n"
   ]
  },
  {
   "cell_type": "code",
   "execution_count": 19,
   "id": "44cf6136",
   "metadata": {
    "deletable": false,
    "nbgrader": {
     "cell_type": "code",
     "checksum": "21b0825956a9cbcf4ccdb48f59220ba8",
     "grade": false,
     "grade_id": "cell-8fa1a789e3a71b45",
     "locked": false,
     "schema_version": 3,
     "solution": true,
     "task": false
    }
   },
   "outputs": [
    {
     "data": {
      "text/html": [
       "<style>#sk-container-id-4 {color: black;background-color: white;}#sk-container-id-4 pre{padding: 0;}#sk-container-id-4 div.sk-toggleable {background-color: white;}#sk-container-id-4 label.sk-toggleable__label {cursor: pointer;display: block;width: 100%;margin-bottom: 0;padding: 0.3em;box-sizing: border-box;text-align: center;}#sk-container-id-4 label.sk-toggleable__label-arrow:before {content: \"▸\";float: left;margin-right: 0.25em;color: #696969;}#sk-container-id-4 label.sk-toggleable__label-arrow:hover:before {color: black;}#sk-container-id-4 div.sk-estimator:hover label.sk-toggleable__label-arrow:before {color: black;}#sk-container-id-4 div.sk-toggleable__content {max-height: 0;max-width: 0;overflow: hidden;text-align: left;background-color: #f0f8ff;}#sk-container-id-4 div.sk-toggleable__content pre {margin: 0.2em;color: black;border-radius: 0.25em;background-color: #f0f8ff;}#sk-container-id-4 input.sk-toggleable__control:checked~div.sk-toggleable__content {max-height: 200px;max-width: 100%;overflow: auto;}#sk-container-id-4 input.sk-toggleable__control:checked~label.sk-toggleable__label-arrow:before {content: \"▾\";}#sk-container-id-4 div.sk-estimator input.sk-toggleable__control:checked~label.sk-toggleable__label {background-color: #d4ebff;}#sk-container-id-4 div.sk-label input.sk-toggleable__control:checked~label.sk-toggleable__label {background-color: #d4ebff;}#sk-container-id-4 input.sk-hidden--visually {border: 0;clip: rect(1px 1px 1px 1px);clip: rect(1px, 1px, 1px, 1px);height: 1px;margin: -1px;overflow: hidden;padding: 0;position: absolute;width: 1px;}#sk-container-id-4 div.sk-estimator {font-family: monospace;background-color: #f0f8ff;border: 1px dotted black;border-radius: 0.25em;box-sizing: border-box;margin-bottom: 0.5em;}#sk-container-id-4 div.sk-estimator:hover {background-color: #d4ebff;}#sk-container-id-4 div.sk-parallel-item::after {content: \"\";width: 100%;border-bottom: 1px solid gray;flex-grow: 1;}#sk-container-id-4 div.sk-label:hover label.sk-toggleable__label {background-color: #d4ebff;}#sk-container-id-4 div.sk-serial::before {content: \"\";position: absolute;border-left: 1px solid gray;box-sizing: border-box;top: 0;bottom: 0;left: 50%;z-index: 0;}#sk-container-id-4 div.sk-serial {display: flex;flex-direction: column;align-items: center;background-color: white;padding-right: 0.2em;padding-left: 0.2em;position: relative;}#sk-container-id-4 div.sk-item {position: relative;z-index: 1;}#sk-container-id-4 div.sk-parallel {display: flex;align-items: stretch;justify-content: center;background-color: white;position: relative;}#sk-container-id-4 div.sk-item::before, #sk-container-id-4 div.sk-parallel-item::before {content: \"\";position: absolute;border-left: 1px solid gray;box-sizing: border-box;top: 0;bottom: 0;left: 50%;z-index: -1;}#sk-container-id-4 div.sk-parallel-item {display: flex;flex-direction: column;z-index: 1;position: relative;background-color: white;}#sk-container-id-4 div.sk-parallel-item:first-child::after {align-self: flex-end;width: 50%;}#sk-container-id-4 div.sk-parallel-item:last-child::after {align-self: flex-start;width: 50%;}#sk-container-id-4 div.sk-parallel-item:only-child::after {width: 0;}#sk-container-id-4 div.sk-dashed-wrapped {border: 1px dashed gray;margin: 0 0.4em 0.5em 0.4em;box-sizing: border-box;padding-bottom: 0.4em;background-color: white;}#sk-container-id-4 div.sk-label label {font-family: monospace;font-weight: bold;display: inline-block;line-height: 1.2em;}#sk-container-id-4 div.sk-label-container {text-align: center;}#sk-container-id-4 div.sk-container {/* jupyter's `normalize.less` sets `[hidden] { display: none; }` but bootstrap.min.css set `[hidden] { display: none !important; }` so we also need the `!important` here to be able to override the default hidden behavior on the sphinx rendered scikit-learn.org. See: https://github.com/scikit-learn/scikit-learn/issues/21755 */display: inline-block !important;position: relative;}#sk-container-id-4 div.sk-text-repr-fallback {display: none;}</style><div id=\"sk-container-id-4\" class=\"sk-top-container\"><div class=\"sk-text-repr-fallback\"><pre>XGBClassifier(base_score=None, booster=None, callbacks=None,\n",
       "              colsample_bylevel=None, colsample_bynode=None,\n",
       "              colsample_bytree=None, device=None, early_stopping_rounds=None,\n",
       "              enable_categorical=False, eval_metric=None, feature_types=None,\n",
       "              gamma=None, grow_policy=None, importance_type=None,\n",
       "              interaction_constraints=None, learning_rate=None, max_bin=None,\n",
       "              max_cat_threshold=None, max_cat_to_onehot=None,\n",
       "              max_delta_step=None, max_depth=None, max_leaves=None,\n",
       "              min_child_weight=None, missing=nan, monotone_constraints=None,\n",
       "              multi_strategy=None, n_estimators=None, n_jobs=None,\n",
       "              num_parallel_tree=None, random_state=42, ...)</pre><b>In a Jupyter environment, please rerun this cell to show the HTML representation or trust the notebook. <br />On GitHub, the HTML representation is unable to render, please try loading this page with nbviewer.org.</b></div><div class=\"sk-container\" hidden><div class=\"sk-item\"><div class=\"sk-estimator sk-toggleable\"><input class=\"sk-toggleable__control sk-hidden--visually\" id=\"sk-estimator-id-4\" type=\"checkbox\" checked><label for=\"sk-estimator-id-4\" class=\"sk-toggleable__label sk-toggleable__label-arrow\">XGBClassifier</label><div class=\"sk-toggleable__content\"><pre>XGBClassifier(base_score=None, booster=None, callbacks=None,\n",
       "              colsample_bylevel=None, colsample_bynode=None,\n",
       "              colsample_bytree=None, device=None, early_stopping_rounds=None,\n",
       "              enable_categorical=False, eval_metric=None, feature_types=None,\n",
       "              gamma=None, grow_policy=None, importance_type=None,\n",
       "              interaction_constraints=None, learning_rate=None, max_bin=None,\n",
       "              max_cat_threshold=None, max_cat_to_onehot=None,\n",
       "              max_delta_step=None, max_depth=None, max_leaves=None,\n",
       "              min_child_weight=None, missing=nan, monotone_constraints=None,\n",
       "              multi_strategy=None, n_estimators=None, n_jobs=None,\n",
       "              num_parallel_tree=None, random_state=42, ...)</pre></div></div></div></div></div>"
      ],
      "text/plain": [
       "XGBClassifier(base_score=None, booster=None, callbacks=None,\n",
       "              colsample_bylevel=None, colsample_bynode=None,\n",
       "              colsample_bytree=None, device=None, early_stopping_rounds=None,\n",
       "              enable_categorical=False, eval_metric=None, feature_types=None,\n",
       "              gamma=None, grow_policy=None, importance_type=None,\n",
       "              interaction_constraints=None, learning_rate=None, max_bin=None,\n",
       "              max_cat_threshold=None, max_cat_to_onehot=None,\n",
       "              max_delta_step=None, max_depth=None, max_leaves=None,\n",
       "              min_child_weight=None, missing=nan, monotone_constraints=None,\n",
       "              multi_strategy=None, n_estimators=None, n_jobs=None,\n",
       "              num_parallel_tree=None, random_state=42, ...)"
      ]
     },
     "execution_count": 19,
     "metadata": {},
     "output_type": "execute_result"
    }
   ],
   "source": [
    "from xgboost import XGBClassifier\n",
    "\n",
    "model = XGBClassifier(random_state=42)\n",
    "model.fit(X_train, y_train.values.ravel())"
   ]
  },
  {
   "cell_type": "code",
   "execution_count": 20,
   "id": "2fc0f057",
   "metadata": {
    "deletable": false,
    "nbgrader": {
     "cell_type": "code",
     "checksum": "7465ce13633708f01c4b96bd989bd6cf",
     "grade": false,
     "grade_id": "cell-232929f197a03beb",
     "locked": false,
     "schema_version": 3,
     "solution": true,
     "task": false
    }
   },
   "outputs": [],
   "source": [
    "y_pred_train = model.predict(X_train)\n",
    "y_pred_test = model.predict(X_test)"
   ]
  },
  {
   "cell_type": "code",
   "execution_count": 21,
   "id": "5bde0903",
   "metadata": {
    "deletable": false,
    "nbgrader": {
     "cell_type": "code",
     "checksum": "dd493f12de23b542c6d3a99a062241e5",
     "grade": false,
     "grade_id": "cell-acce8aa2748578d5",
     "locked": false,
     "schema_version": 3,
     "solution": true,
     "task": false
    }
   },
   "outputs": [
    {
     "data": {
      "text/plain": [
       "0.903097696584591"
      ]
     },
     "execution_count": 21,
     "metadata": {},
     "output_type": "execute_result"
    }
   ],
   "source": [
    "f1_score(y_test,y_test_pred)"
   ]
  },
  {
   "cell_type": "code",
   "execution_count": null,
   "id": "79f56a6d",
   "metadata": {
    "deletable": false,
    "editable": false,
    "nbgrader": {
     "cell_type": "code",
     "checksum": "b35c5d693a9aea3112f50d3128245dc2",
     "grade": true,
     "grade_id": "cell-d66e72a32f15e595",
     "locked": true,
     "points": 4,
     "schema_version": 3,
     "solution": false,
     "task": false
    }
   },
   "outputs": [],
   "source": []
  },
  {
   "cell_type": "markdown",
   "id": "a0e8270b",
   "metadata": {
    "deletable": false,
    "editable": false,
    "nbgrader": {
     "cell_type": "markdown",
     "checksum": "86efa21f5e7723277f9661a7d4b19eea",
     "grade": false,
     "grade_id": "cell-98f064441528ef84",
     "locked": true,
     "schema_version": 3,
     "solution": false,
     "task": false
    }
   },
   "source": [
    "# APPLY LIGHTGBM \n",
    "\n",
    "### TRAIN MODEL WITH LGBMClassifier this time "
   ]
  },
  {
   "cell_type": "code",
   "execution_count": 22,
   "id": "7a3b2f6c",
   "metadata": {
    "deletable": false,
    "nbgrader": {
     "cell_type": "code",
     "checksum": "d140ce46b1947fe01218bb04750318f5",
     "grade": false,
     "grade_id": "cell-c5ce26b288580bce",
     "locked": false,
     "schema_version": 3,
     "solution": true,
     "task": false
    }
   },
   "outputs": [
    {
     "name": "stdout",
     "output_type": "stream",
     "text": [
      "[LightGBM] [Info] Number of positive: 3709, number of negative: 3452\n",
      "[LightGBM] [Info] Auto-choosing row-wise multi-threading, the overhead of testing was 0.000266 seconds.\n",
      "You can set `force_row_wise=true` to remove the overhead.\n",
      "And if memory is not enough, you can set `force_col_wise=true`.\n",
      "[LightGBM] [Info] Total Bins 396\n",
      "[LightGBM] [Info] Number of data points in the train set: 7161, number of used features: 22\n",
      "[LightGBM] [Info] [binary:BoostFromScore]: pavg=0.517944 -> initscore=0.071809\n",
      "[LightGBM] [Info] Start training from score 0.071809\n"
     ]
    },
    {
     "data": {
      "text/html": [
       "<style>#sk-container-id-5 {color: black;background-color: white;}#sk-container-id-5 pre{padding: 0;}#sk-container-id-5 div.sk-toggleable {background-color: white;}#sk-container-id-5 label.sk-toggleable__label {cursor: pointer;display: block;width: 100%;margin-bottom: 0;padding: 0.3em;box-sizing: border-box;text-align: center;}#sk-container-id-5 label.sk-toggleable__label-arrow:before {content: \"▸\";float: left;margin-right: 0.25em;color: #696969;}#sk-container-id-5 label.sk-toggleable__label-arrow:hover:before {color: black;}#sk-container-id-5 div.sk-estimator:hover label.sk-toggleable__label-arrow:before {color: black;}#sk-container-id-5 div.sk-toggleable__content {max-height: 0;max-width: 0;overflow: hidden;text-align: left;background-color: #f0f8ff;}#sk-container-id-5 div.sk-toggleable__content pre {margin: 0.2em;color: black;border-radius: 0.25em;background-color: #f0f8ff;}#sk-container-id-5 input.sk-toggleable__control:checked~div.sk-toggleable__content {max-height: 200px;max-width: 100%;overflow: auto;}#sk-container-id-5 input.sk-toggleable__control:checked~label.sk-toggleable__label-arrow:before {content: \"▾\";}#sk-container-id-5 div.sk-estimator input.sk-toggleable__control:checked~label.sk-toggleable__label {background-color: #d4ebff;}#sk-container-id-5 div.sk-label input.sk-toggleable__control:checked~label.sk-toggleable__label {background-color: #d4ebff;}#sk-container-id-5 input.sk-hidden--visually {border: 0;clip: rect(1px 1px 1px 1px);clip: rect(1px, 1px, 1px, 1px);height: 1px;margin: -1px;overflow: hidden;padding: 0;position: absolute;width: 1px;}#sk-container-id-5 div.sk-estimator {font-family: monospace;background-color: #f0f8ff;border: 1px dotted black;border-radius: 0.25em;box-sizing: border-box;margin-bottom: 0.5em;}#sk-container-id-5 div.sk-estimator:hover {background-color: #d4ebff;}#sk-container-id-5 div.sk-parallel-item::after {content: \"\";width: 100%;border-bottom: 1px solid gray;flex-grow: 1;}#sk-container-id-5 div.sk-label:hover label.sk-toggleable__label {background-color: #d4ebff;}#sk-container-id-5 div.sk-serial::before {content: \"\";position: absolute;border-left: 1px solid gray;box-sizing: border-box;top: 0;bottom: 0;left: 50%;z-index: 0;}#sk-container-id-5 div.sk-serial {display: flex;flex-direction: column;align-items: center;background-color: white;padding-right: 0.2em;padding-left: 0.2em;position: relative;}#sk-container-id-5 div.sk-item {position: relative;z-index: 1;}#sk-container-id-5 div.sk-parallel {display: flex;align-items: stretch;justify-content: center;background-color: white;position: relative;}#sk-container-id-5 div.sk-item::before, #sk-container-id-5 div.sk-parallel-item::before {content: \"\";position: absolute;border-left: 1px solid gray;box-sizing: border-box;top: 0;bottom: 0;left: 50%;z-index: -1;}#sk-container-id-5 div.sk-parallel-item {display: flex;flex-direction: column;z-index: 1;position: relative;background-color: white;}#sk-container-id-5 div.sk-parallel-item:first-child::after {align-self: flex-end;width: 50%;}#sk-container-id-5 div.sk-parallel-item:last-child::after {align-self: flex-start;width: 50%;}#sk-container-id-5 div.sk-parallel-item:only-child::after {width: 0;}#sk-container-id-5 div.sk-dashed-wrapped {border: 1px dashed gray;margin: 0 0.4em 0.5em 0.4em;box-sizing: border-box;padding-bottom: 0.4em;background-color: white;}#sk-container-id-5 div.sk-label label {font-family: monospace;font-weight: bold;display: inline-block;line-height: 1.2em;}#sk-container-id-5 div.sk-label-container {text-align: center;}#sk-container-id-5 div.sk-container {/* jupyter's `normalize.less` sets `[hidden] { display: none; }` but bootstrap.min.css set `[hidden] { display: none !important; }` so we also need the `!important` here to be able to override the default hidden behavior on the sphinx rendered scikit-learn.org. See: https://github.com/scikit-learn/scikit-learn/issues/21755 */display: inline-block !important;position: relative;}#sk-container-id-5 div.sk-text-repr-fallback {display: none;}</style><div id=\"sk-container-id-5\" class=\"sk-top-container\"><div class=\"sk-text-repr-fallback\"><pre>LGBMClassifier(random_state=42)</pre><b>In a Jupyter environment, please rerun this cell to show the HTML representation or trust the notebook. <br />On GitHub, the HTML representation is unable to render, please try loading this page with nbviewer.org.</b></div><div class=\"sk-container\" hidden><div class=\"sk-item\"><div class=\"sk-estimator sk-toggleable\"><input class=\"sk-toggleable__control sk-hidden--visually\" id=\"sk-estimator-id-5\" type=\"checkbox\" checked><label for=\"sk-estimator-id-5\" class=\"sk-toggleable__label sk-toggleable__label-arrow\">LGBMClassifier</label><div class=\"sk-toggleable__content\"><pre>LGBMClassifier(random_state=42)</pre></div></div></div></div></div>"
      ],
      "text/plain": [
       "LGBMClassifier(random_state=42)"
      ]
     },
     "execution_count": 22,
     "metadata": {},
     "output_type": "execute_result"
    }
   ],
   "source": [
    "from lightgbm import LGBMClassifier\n",
    "\n",
    "model = LGBMClassifier(random_state=42)\n",
    "model.fit(X_train, y_train.values.ravel())"
   ]
  },
  {
   "cell_type": "code",
   "execution_count": 23,
   "id": "c8436602",
   "metadata": {
    "deletable": false,
    "editable": false,
    "nbgrader": {
     "cell_type": "code",
     "checksum": "8a220ebff134f0219fa4c12f32647aac",
     "grade": false,
     "grade_id": "cell-100490a550aef753",
     "locked": true,
     "schema_version": 3,
     "solution": false,
     "task": false
    }
   },
   "outputs": [],
   "source": [
    "# Predict on the training and testing data\n",
    "y_train_pred = model.predict(X_train)\n",
    "y_test_pred = model.predict(X_test)\n"
   ]
  },
  {
   "cell_type": "code",
   "execution_count": 24,
   "id": "7a2d26a1",
   "metadata": {
    "deletable": false,
    "nbgrader": {
     "cell_type": "code",
     "checksum": "6831de58172a437c8e82db2f8a2d2405",
     "grade": false,
     "grade_id": "cell-fb45246d751b99c0",
     "locked": false,
     "schema_version": 3,
     "solution": true,
     "task": false
    }
   },
   "outputs": [
    {
     "data": {
      "text/plain": [
       "0.9511811023622048"
      ]
     },
     "execution_count": 24,
     "metadata": {},
     "output_type": "execute_result"
    }
   ],
   "source": [
    "f1_score(y_test,y_test_pred)"
   ]
  },
  {
   "cell_type": "code",
   "execution_count": null,
   "id": "21dc192a",
   "metadata": {
    "deletable": false,
    "editable": false,
    "nbgrader": {
     "cell_type": "code",
     "checksum": "06a2f6f651a08c254d3504636ebbf99e",
     "grade": true,
     "grade_id": "cell-d7fbcddebc3cde64",
     "locked": true,
     "points": 2,
     "schema_version": 3,
     "solution": false,
     "task": false
    }
   },
   "outputs": [],
   "source": []
  },
  {
   "cell_type": "markdown",
   "id": "caae5a62",
   "metadata": {
    "deletable": false,
    "editable": false,
    "nbgrader": {
     "cell_type": "markdown",
     "checksum": "2f4b51011ca139e4b1ae172f6bb8d756",
     "grade": false,
     "grade_id": "cell-f30735ea0e551bf4",
     "locked": true,
     "schema_version": 3,
     "solution": false,
     "task": false
    }
   },
   "source": [
    "# APPLY CATBOOST \n",
    "\n",
    "### Train model with CatBoostClassifier "
   ]
  },
  {
   "cell_type": "code",
   "execution_count": 25,
   "id": "174d4130",
   "metadata": {
    "deletable": false,
    "nbgrader": {
     "cell_type": "code",
     "checksum": "61d6fd2c657efed2e4e8f35cd70b8694",
     "grade": false,
     "grade_id": "cell-7f2fc5358a8b3e80",
     "locked": false,
     "schema_version": 3,
     "solution": true,
     "task": false
    }
   },
   "outputs": [
    {
     "name": "stdout",
     "output_type": "stream",
     "text": [
      "Learning rate set to 0.023879\n",
      "0:\tlearn: 0.6749614\ttotal: 156ms\tremaining: 2m 35s\n",
      "1:\tlearn: 0.6560950\ttotal: 168ms\tremaining: 1m 24s\n",
      "2:\tlearn: 0.6380358\ttotal: 180ms\tremaining: 59.8s\n",
      "3:\tlearn: 0.6204795\ttotal: 185ms\tremaining: 46s\n",
      "4:\tlearn: 0.6054240\ttotal: 190ms\tremaining: 37.9s\n",
      "5:\tlearn: 0.5910817\ttotal: 195ms\tremaining: 32.3s\n",
      "6:\tlearn: 0.5759772\ttotal: 199ms\tremaining: 28.2s\n",
      "7:\tlearn: 0.5627926\ttotal: 202ms\tremaining: 25s\n",
      "8:\tlearn: 0.5511314\ttotal: 206ms\tremaining: 22.7s\n",
      "9:\tlearn: 0.5395501\ttotal: 210ms\tremaining: 20.8s\n",
      "10:\tlearn: 0.5284412\ttotal: 215ms\tremaining: 19.3s\n",
      "11:\tlearn: 0.5172321\ttotal: 219ms\tremaining: 18.1s\n",
      "12:\tlearn: 0.5091017\ttotal: 225ms\tremaining: 17.1s\n",
      "13:\tlearn: 0.5001794\ttotal: 228ms\tremaining: 16.1s\n",
      "14:\tlearn: 0.4927348\ttotal: 232ms\tremaining: 15.3s\n",
      "15:\tlearn: 0.4844060\ttotal: 237ms\tremaining: 14.6s\n",
      "16:\tlearn: 0.4759033\ttotal: 241ms\tremaining: 14s\n",
      "17:\tlearn: 0.4676664\ttotal: 245ms\tremaining: 13.4s\n",
      "18:\tlearn: 0.4600816\ttotal: 249ms\tremaining: 12.9s\n",
      "19:\tlearn: 0.4523975\ttotal: 253ms\tremaining: 12.4s\n",
      "20:\tlearn: 0.4460134\ttotal: 257ms\tremaining: 12s\n",
      "21:\tlearn: 0.4393873\ttotal: 261ms\tremaining: 11.6s\n",
      "22:\tlearn: 0.4347643\ttotal: 265ms\tremaining: 11.3s\n",
      "23:\tlearn: 0.4300681\ttotal: 269ms\tremaining: 10.9s\n",
      "24:\tlearn: 0.4239405\ttotal: 273ms\tremaining: 10.6s\n",
      "25:\tlearn: 0.4176790\ttotal: 277ms\tremaining: 10.4s\n",
      "26:\tlearn: 0.4118124\ttotal: 281ms\tremaining: 10.1s\n",
      "27:\tlearn: 0.4069225\ttotal: 284ms\tremaining: 9.87s\n",
      "28:\tlearn: 0.4014102\ttotal: 288ms\tremaining: 9.65s\n",
      "29:\tlearn: 0.3953200\ttotal: 292ms\tremaining: 9.45s\n",
      "30:\tlearn: 0.3899873\ttotal: 296ms\tremaining: 9.25s\n",
      "31:\tlearn: 0.3850104\ttotal: 301ms\tremaining: 9.11s\n",
      "32:\tlearn: 0.3802279\ttotal: 305ms\tremaining: 8.94s\n",
      "33:\tlearn: 0.3761310\ttotal: 309ms\tremaining: 8.78s\n",
      "34:\tlearn: 0.3720776\ttotal: 313ms\tremaining: 8.62s\n",
      "35:\tlearn: 0.3685830\ttotal: 317ms\tremaining: 8.5s\n",
      "36:\tlearn: 0.3645560\ttotal: 322ms\tremaining: 8.37s\n",
      "37:\tlearn: 0.3614238\ttotal: 325ms\tremaining: 8.24s\n",
      "38:\tlearn: 0.3571094\ttotal: 329ms\tremaining: 8.11s\n",
      "39:\tlearn: 0.3529694\ttotal: 334ms\tremaining: 8.02s\n",
      "40:\tlearn: 0.3488227\ttotal: 339ms\tremaining: 7.93s\n",
      "41:\tlearn: 0.3455022\ttotal: 343ms\tremaining: 7.83s\n",
      "42:\tlearn: 0.3418117\ttotal: 348ms\tremaining: 7.74s\n",
      "43:\tlearn: 0.3392661\ttotal: 354ms\tremaining: 7.68s\n",
      "44:\tlearn: 0.3362682\ttotal: 358ms\tremaining: 7.59s\n",
      "45:\tlearn: 0.3339386\ttotal: 362ms\tremaining: 7.5s\n",
      "46:\tlearn: 0.3305839\ttotal: 368ms\tremaining: 7.46s\n",
      "47:\tlearn: 0.3280202\ttotal: 372ms\tremaining: 7.38s\n",
      "48:\tlearn: 0.3251811\ttotal: 376ms\tremaining: 7.29s\n",
      "49:\tlearn: 0.3225062\ttotal: 381ms\tremaining: 7.23s\n",
      "50:\tlearn: 0.3199493\ttotal: 385ms\tremaining: 7.17s\n",
      "51:\tlearn: 0.3174753\ttotal: 389ms\tremaining: 7.1s\n",
      "52:\tlearn: 0.3148556\ttotal: 393ms\tremaining: 7.02s\n",
      "53:\tlearn: 0.3124968\ttotal: 399ms\tremaining: 6.99s\n",
      "54:\tlearn: 0.3105024\ttotal: 403ms\tremaining: 6.93s\n",
      "55:\tlearn: 0.3082974\ttotal: 407ms\tremaining: 6.86s\n",
      "56:\tlearn: 0.3062927\ttotal: 411ms\tremaining: 6.8s\n",
      "57:\tlearn: 0.3043661\ttotal: 417ms\tremaining: 6.78s\n",
      "58:\tlearn: 0.3024376\ttotal: 422ms\tremaining: 6.73s\n",
      "59:\tlearn: 0.3004401\ttotal: 426ms\tremaining: 6.67s\n",
      "60:\tlearn: 0.2988871\ttotal: 433ms\tremaining: 6.67s\n",
      "61:\tlearn: 0.2974881\ttotal: 438ms\tremaining: 6.62s\n",
      "62:\tlearn: 0.2949163\ttotal: 442ms\tremaining: 6.57s\n",
      "63:\tlearn: 0.2934121\ttotal: 448ms\tremaining: 6.54s\n",
      "64:\tlearn: 0.2921087\ttotal: 453ms\tremaining: 6.51s\n",
      "65:\tlearn: 0.2904869\ttotal: 457ms\tremaining: 6.46s\n",
      "66:\tlearn: 0.2886352\ttotal: 462ms\tremaining: 6.43s\n",
      "67:\tlearn: 0.2867583\ttotal: 466ms\tremaining: 6.39s\n",
      "68:\tlearn: 0.2847022\ttotal: 471ms\tremaining: 6.35s\n",
      "69:\tlearn: 0.2828945\ttotal: 474ms\tremaining: 6.3s\n",
      "70:\tlearn: 0.2811120\ttotal: 480ms\tremaining: 6.29s\n",
      "71:\tlearn: 0.2787269\ttotal: 485ms\tremaining: 6.25s\n",
      "72:\tlearn: 0.2770541\ttotal: 489ms\tremaining: 6.2s\n",
      "73:\tlearn: 0.2756528\ttotal: 493ms\tremaining: 6.16s\n",
      "74:\tlearn: 0.2738285\ttotal: 497ms\tremaining: 6.13s\n",
      "75:\tlearn: 0.2723779\ttotal: 501ms\tremaining: 6.09s\n",
      "76:\tlearn: 0.2710908\ttotal: 504ms\tremaining: 6.04s\n",
      "77:\tlearn: 0.2700592\ttotal: 508ms\tremaining: 6s\n",
      "78:\tlearn: 0.2687945\ttotal: 512ms\tremaining: 5.97s\n",
      "79:\tlearn: 0.2680362\ttotal: 516ms\tremaining: 5.93s\n",
      "80:\tlearn: 0.2670760\ttotal: 519ms\tremaining: 5.89s\n",
      "81:\tlearn: 0.2659862\ttotal: 523ms\tremaining: 5.85s\n",
      "82:\tlearn: 0.2646438\ttotal: 527ms\tremaining: 5.82s\n",
      "83:\tlearn: 0.2638544\ttotal: 530ms\tremaining: 5.78s\n",
      "84:\tlearn: 0.2623368\ttotal: 534ms\tremaining: 5.75s\n",
      "85:\tlearn: 0.2610260\ttotal: 538ms\tremaining: 5.72s\n",
      "86:\tlearn: 0.2597065\ttotal: 542ms\tremaining: 5.69s\n",
      "87:\tlearn: 0.2581020\ttotal: 546ms\tremaining: 5.65s\n",
      "88:\tlearn: 0.2566359\ttotal: 549ms\tremaining: 5.62s\n",
      "89:\tlearn: 0.2555804\ttotal: 553ms\tremaining: 5.59s\n",
      "90:\tlearn: 0.2540340\ttotal: 557ms\tremaining: 5.56s\n",
      "91:\tlearn: 0.2532187\ttotal: 561ms\tremaining: 5.53s\n",
      "92:\tlearn: 0.2524000\ttotal: 565ms\tremaining: 5.51s\n",
      "93:\tlearn: 0.2506828\ttotal: 569ms\tremaining: 5.48s\n",
      "94:\tlearn: 0.2496658\ttotal: 573ms\tremaining: 5.46s\n",
      "95:\tlearn: 0.2488997\ttotal: 577ms\tremaining: 5.43s\n",
      "96:\tlearn: 0.2478614\ttotal: 581ms\tremaining: 5.4s\n",
      "97:\tlearn: 0.2467403\ttotal: 584ms\tremaining: 5.38s\n",
      "98:\tlearn: 0.2456832\ttotal: 588ms\tremaining: 5.35s\n",
      "99:\tlearn: 0.2449376\ttotal: 593ms\tremaining: 5.34s\n",
      "100:\tlearn: 0.2439254\ttotal: 597ms\tremaining: 5.32s\n",
      "101:\tlearn: 0.2427475\ttotal: 601ms\tremaining: 5.29s\n",
      "102:\tlearn: 0.2418851\ttotal: 605ms\tremaining: 5.27s\n",
      "103:\tlearn: 0.2409307\ttotal: 610ms\tremaining: 5.25s\n",
      "104:\tlearn: 0.2398792\ttotal: 615ms\tremaining: 5.24s\n",
      "105:\tlearn: 0.2388413\ttotal: 621ms\tremaining: 5.24s\n",
      "106:\tlearn: 0.2377031\ttotal: 626ms\tremaining: 5.22s\n",
      "107:\tlearn: 0.2363260\ttotal: 631ms\tremaining: 5.21s\n",
      "108:\tlearn: 0.2357354\ttotal: 636ms\tremaining: 5.2s\n",
      "109:\tlearn: 0.2348651\ttotal: 642ms\tremaining: 5.19s\n",
      "110:\tlearn: 0.2344231\ttotal: 647ms\tremaining: 5.18s\n",
      "111:\tlearn: 0.2334806\ttotal: 651ms\tremaining: 5.16s\n",
      "112:\tlearn: 0.2326972\ttotal: 657ms\tremaining: 5.16s\n",
      "113:\tlearn: 0.2318604\ttotal: 662ms\tremaining: 5.14s\n",
      "114:\tlearn: 0.2313676\ttotal: 666ms\tremaining: 5.12s\n",
      "115:\tlearn: 0.2304542\ttotal: 672ms\tremaining: 5.12s\n",
      "116:\tlearn: 0.2295377\ttotal: 677ms\tremaining: 5.11s\n",
      "117:\tlearn: 0.2286360\ttotal: 681ms\tremaining: 5.09s\n",
      "118:\tlearn: 0.2279460\ttotal: 686ms\tremaining: 5.08s\n",
      "119:\tlearn: 0.2269046\ttotal: 691ms\tremaining: 5.07s\n",
      "120:\tlearn: 0.2257561\ttotal: 695ms\tremaining: 5.05s\n",
      "121:\tlearn: 0.2248914\ttotal: 699ms\tremaining: 5.03s\n",
      "122:\tlearn: 0.2242619\ttotal: 705ms\tremaining: 5.03s\n",
      "123:\tlearn: 0.2236724\ttotal: 710ms\tremaining: 5.01s\n",
      "124:\tlearn: 0.2231120\ttotal: 713ms\tremaining: 4.99s\n",
      "125:\tlearn: 0.2223736\ttotal: 719ms\tremaining: 4.99s\n",
      "126:\tlearn: 0.2214803\ttotal: 723ms\tremaining: 4.97s\n",
      "127:\tlearn: 0.2204022\ttotal: 727ms\tremaining: 4.95s\n",
      "128:\tlearn: 0.2197610\ttotal: 731ms\tremaining: 4.94s\n",
      "129:\tlearn: 0.2189453\ttotal: 737ms\tremaining: 4.93s\n",
      "130:\tlearn: 0.2181165\ttotal: 741ms\tremaining: 4.92s\n",
      "131:\tlearn: 0.2170193\ttotal: 745ms\tremaining: 4.9s\n",
      "132:\tlearn: 0.2165382\ttotal: 750ms\tremaining: 4.89s\n",
      "133:\tlearn: 0.2161802\ttotal: 755ms\tremaining: 4.88s\n",
      "134:\tlearn: 0.2156842\ttotal: 759ms\tremaining: 4.86s\n",
      "135:\tlearn: 0.2147427\ttotal: 763ms\tremaining: 4.84s\n",
      "136:\tlearn: 0.2140339\ttotal: 768ms\tremaining: 4.84s\n",
      "137:\tlearn: 0.2134584\ttotal: 772ms\tremaining: 4.82s\n",
      "138:\tlearn: 0.2126596\ttotal: 776ms\tremaining: 4.81s\n",
      "139:\tlearn: 0.2121512\ttotal: 780ms\tremaining: 4.79s\n",
      "140:\tlearn: 0.2112349\ttotal: 785ms\tremaining: 4.78s\n",
      "141:\tlearn: 0.2108235\ttotal: 789ms\tremaining: 4.77s\n",
      "142:\tlearn: 0.2103086\ttotal: 793ms\tremaining: 4.75s\n",
      "143:\tlearn: 0.2098425\ttotal: 797ms\tremaining: 4.74s\n",
      "144:\tlearn: 0.2096305\ttotal: 801ms\tremaining: 4.72s\n",
      "145:\tlearn: 0.2089137\ttotal: 804ms\tremaining: 4.71s\n",
      "146:\tlearn: 0.2084137\ttotal: 808ms\tremaining: 4.69s\n",
      "147:\tlearn: 0.2078543\ttotal: 812ms\tremaining: 4.67s\n",
      "148:\tlearn: 0.2070796\ttotal: 816ms\tremaining: 4.66s\n",
      "149:\tlearn: 0.2065894\ttotal: 820ms\tremaining: 4.65s\n",
      "150:\tlearn: 0.2057293\ttotal: 824ms\tremaining: 4.63s\n",
      "151:\tlearn: 0.2053130\ttotal: 828ms\tremaining: 4.62s\n",
      "152:\tlearn: 0.2048241\ttotal: 832ms\tremaining: 4.6s\n",
      "153:\tlearn: 0.2040788\ttotal: 837ms\tremaining: 4.6s\n",
      "154:\tlearn: 0.2035741\ttotal: 841ms\tremaining: 4.58s\n",
      "155:\tlearn: 0.2029304\ttotal: 845ms\tremaining: 4.57s\n",
      "156:\tlearn: 0.2025858\ttotal: 850ms\tremaining: 4.56s\n",
      "157:\tlearn: 0.2020433\ttotal: 854ms\tremaining: 4.55s\n",
      "158:\tlearn: 0.2016966\ttotal: 858ms\tremaining: 4.54s\n",
      "159:\tlearn: 0.2012668\ttotal: 862ms\tremaining: 4.53s\n",
      "160:\tlearn: 0.2006422\ttotal: 866ms\tremaining: 4.51s\n",
      "161:\tlearn: 0.2002202\ttotal: 870ms\tremaining: 4.5s\n",
      "162:\tlearn: 0.1995478\ttotal: 874ms\tremaining: 4.49s\n",
      "163:\tlearn: 0.1990844\ttotal: 878ms\tremaining: 4.48s\n",
      "164:\tlearn: 0.1984658\ttotal: 882ms\tremaining: 4.46s\n",
      "165:\tlearn: 0.1978213\ttotal: 886ms\tremaining: 4.45s\n",
      "166:\tlearn: 0.1974142\ttotal: 890ms\tremaining: 4.44s\n",
      "167:\tlearn: 0.1967737\ttotal: 894ms\tremaining: 4.43s\n",
      "168:\tlearn: 0.1965470\ttotal: 898ms\tremaining: 4.42s\n",
      "169:\tlearn: 0.1962077\ttotal: 902ms\tremaining: 4.4s\n",
      "170:\tlearn: 0.1957994\ttotal: 906ms\tremaining: 4.39s\n",
      "171:\tlearn: 0.1950060\ttotal: 909ms\tremaining: 4.38s\n",
      "172:\tlearn: 0.1943989\ttotal: 913ms\tremaining: 4.37s\n",
      "173:\tlearn: 0.1939142\ttotal: 918ms\tremaining: 4.36s\n",
      "174:\tlearn: 0.1933594\ttotal: 922ms\tremaining: 4.34s\n",
      "175:\tlearn: 0.1930070\ttotal: 926ms\tremaining: 4.33s\n",
      "176:\tlearn: 0.1922483\ttotal: 930ms\tremaining: 4.32s\n",
      "177:\tlearn: 0.1917338\ttotal: 934ms\tremaining: 4.31s\n",
      "178:\tlearn: 0.1910942\ttotal: 938ms\tremaining: 4.3s\n",
      "179:\tlearn: 0.1905932\ttotal: 942ms\tremaining: 4.29s\n",
      "180:\tlearn: 0.1903150\ttotal: 946ms\tremaining: 4.28s\n",
      "181:\tlearn: 0.1898713\ttotal: 950ms\tremaining: 4.27s\n",
      "182:\tlearn: 0.1895137\ttotal: 954ms\tremaining: 4.26s\n",
      "183:\tlearn: 0.1891341\ttotal: 959ms\tremaining: 4.25s\n",
      "184:\tlearn: 0.1888144\ttotal: 964ms\tremaining: 4.24s\n",
      "185:\tlearn: 0.1884970\ttotal: 968ms\tremaining: 4.24s\n",
      "186:\tlearn: 0.1882584\ttotal: 972ms\tremaining: 4.23s\n",
      "187:\tlearn: 0.1877688\ttotal: 978ms\tremaining: 4.22s\n",
      "188:\tlearn: 0.1876120\ttotal: 982ms\tremaining: 4.21s\n",
      "189:\tlearn: 0.1874758\ttotal: 987ms\tremaining: 4.21s\n",
      "190:\tlearn: 0.1870792\ttotal: 994ms\tremaining: 4.21s\n",
      "191:\tlearn: 0.1867035\ttotal: 998ms\tremaining: 4.2s\n",
      "192:\tlearn: 0.1859759\ttotal: 1s\tremaining: 4.19s\n",
      "193:\tlearn: 0.1858598\ttotal: 1.01s\tremaining: 4.19s\n",
      "194:\tlearn: 0.1856359\ttotal: 1.01s\tremaining: 4.18s\n",
      "195:\tlearn: 0.1851024\ttotal: 1.02s\tremaining: 4.17s\n",
      "196:\tlearn: 0.1846989\ttotal: 1.02s\tremaining: 4.16s\n",
      "197:\tlearn: 0.1843599\ttotal: 1.03s\tremaining: 4.16s\n",
      "198:\tlearn: 0.1841088\ttotal: 1.03s\tremaining: 4.15s\n",
      "199:\tlearn: 0.1837373\ttotal: 1.03s\tremaining: 4.14s\n",
      "200:\tlearn: 0.1833241\ttotal: 1.04s\tremaining: 4.13s\n",
      "201:\tlearn: 0.1830467\ttotal: 1.04s\tremaining: 4.13s\n",
      "202:\tlearn: 0.1826662\ttotal: 1.05s\tremaining: 4.12s\n",
      "203:\tlearn: 0.1822273\ttotal: 1.05s\tremaining: 4.11s\n",
      "204:\tlearn: 0.1818991\ttotal: 1.06s\tremaining: 4.11s\n",
      "205:\tlearn: 0.1815599\ttotal: 1.06s\tremaining: 4.1s\n",
      "206:\tlearn: 0.1813339\ttotal: 1.07s\tremaining: 4.09s\n",
      "207:\tlearn: 0.1807975\ttotal: 1.07s\tremaining: 4.09s\n",
      "208:\tlearn: 0.1805709\ttotal: 1.08s\tremaining: 4.08s\n",
      "209:\tlearn: 0.1801742\ttotal: 1.08s\tremaining: 4.07s\n",
      "210:\tlearn: 0.1795810\ttotal: 1.09s\tremaining: 4.07s\n",
      "211:\tlearn: 0.1793345\ttotal: 1.09s\tremaining: 4.06s\n",
      "212:\tlearn: 0.1790351\ttotal: 1.1s\tremaining: 4.05s\n",
      "213:\tlearn: 0.1787883\ttotal: 1.1s\tremaining: 4.04s\n",
      "214:\tlearn: 0.1784136\ttotal: 1.11s\tremaining: 4.04s\n",
      "215:\tlearn: 0.1778219\ttotal: 1.11s\tremaining: 4.03s\n",
      "216:\tlearn: 0.1774035\ttotal: 1.11s\tremaining: 4.02s\n",
      "217:\tlearn: 0.1770656\ttotal: 1.12s\tremaining: 4.02s\n",
      "218:\tlearn: 0.1765092\ttotal: 1.12s\tremaining: 4.01s\n",
      "219:\tlearn: 0.1760353\ttotal: 1.13s\tremaining: 4s\n",
      "220:\tlearn: 0.1759457\ttotal: 1.13s\tremaining: 3.99s\n",
      "221:\tlearn: 0.1755037\ttotal: 1.14s\tremaining: 3.99s\n",
      "222:\tlearn: 0.1752941\ttotal: 1.14s\tremaining: 3.98s\n",
      "223:\tlearn: 0.1748160\ttotal: 1.15s\tremaining: 3.97s\n",
      "224:\tlearn: 0.1746241\ttotal: 1.15s\tremaining: 3.97s\n",
      "225:\tlearn: 0.1741657\ttotal: 1.16s\tremaining: 3.96s\n",
      "226:\tlearn: 0.1737711\ttotal: 1.16s\tremaining: 3.95s\n",
      "227:\tlearn: 0.1734252\ttotal: 1.16s\tremaining: 3.94s\n",
      "228:\tlearn: 0.1731337\ttotal: 1.17s\tremaining: 3.94s\n",
      "229:\tlearn: 0.1727243\ttotal: 1.17s\tremaining: 3.93s\n",
      "230:\tlearn: 0.1723065\ttotal: 1.18s\tremaining: 3.92s\n",
      "231:\tlearn: 0.1718986\ttotal: 1.18s\tremaining: 3.91s\n",
      "232:\tlearn: 0.1715894\ttotal: 1.18s\tremaining: 3.9s\n",
      "233:\tlearn: 0.1714060\ttotal: 1.19s\tremaining: 3.89s\n",
      "234:\tlearn: 0.1712774\ttotal: 1.19s\tremaining: 3.88s\n",
      "235:\tlearn: 0.1708713\ttotal: 1.2s\tremaining: 3.87s\n",
      "236:\tlearn: 0.1706819\ttotal: 1.2s\tremaining: 3.87s\n",
      "237:\tlearn: 0.1704454\ttotal: 1.2s\tremaining: 3.86s\n",
      "238:\tlearn: 0.1702808\ttotal: 1.21s\tremaining: 3.85s\n",
      "239:\tlearn: 0.1697639\ttotal: 1.21s\tremaining: 3.84s\n",
      "240:\tlearn: 0.1695164\ttotal: 1.22s\tremaining: 3.83s\n",
      "241:\tlearn: 0.1691427\ttotal: 1.22s\tremaining: 3.82s\n",
      "242:\tlearn: 0.1689477\ttotal: 1.22s\tremaining: 3.81s\n",
      "243:\tlearn: 0.1686710\ttotal: 1.23s\tremaining: 3.81s\n",
      "244:\tlearn: 0.1684639\ttotal: 1.23s\tremaining: 3.8s\n",
      "245:\tlearn: 0.1682697\ttotal: 1.24s\tremaining: 3.79s\n",
      "246:\tlearn: 0.1678798\ttotal: 1.24s\tremaining: 3.78s\n",
      "247:\tlearn: 0.1677346\ttotal: 1.24s\tremaining: 3.77s\n",
      "248:\tlearn: 0.1676080\ttotal: 1.25s\tremaining: 3.76s\n",
      "249:\tlearn: 0.1672991\ttotal: 1.25s\tremaining: 3.75s\n",
      "250:\tlearn: 0.1670690\ttotal: 1.25s\tremaining: 3.75s\n",
      "251:\tlearn: 0.1667709\ttotal: 1.26s\tremaining: 3.74s\n",
      "252:\tlearn: 0.1666257\ttotal: 1.26s\tremaining: 3.74s\n",
      "253:\tlearn: 0.1664142\ttotal: 1.27s\tremaining: 3.73s\n",
      "254:\tlearn: 0.1661383\ttotal: 1.27s\tremaining: 3.72s\n",
      "255:\tlearn: 0.1656932\ttotal: 1.28s\tremaining: 3.71s\n",
      "256:\tlearn: 0.1655033\ttotal: 1.28s\tremaining: 3.71s\n",
      "257:\tlearn: 0.1649218\ttotal: 1.29s\tremaining: 3.7s\n",
      "258:\tlearn: 0.1648408\ttotal: 1.29s\tremaining: 3.69s\n",
      "259:\tlearn: 0.1646368\ttotal: 1.29s\tremaining: 3.69s\n",
      "260:\tlearn: 0.1643686\ttotal: 1.3s\tremaining: 3.68s\n",
      "261:\tlearn: 0.1637533\ttotal: 1.3s\tremaining: 3.67s\n",
      "262:\tlearn: 0.1635146\ttotal: 1.31s\tremaining: 3.66s\n",
      "263:\tlearn: 0.1632884\ttotal: 1.31s\tremaining: 3.65s\n",
      "264:\tlearn: 0.1629647\ttotal: 1.31s\tremaining: 3.65s\n",
      "265:\tlearn: 0.1626754\ttotal: 1.32s\tremaining: 3.64s\n",
      "266:\tlearn: 0.1624056\ttotal: 1.32s\tremaining: 3.63s\n",
      "267:\tlearn: 0.1621007\ttotal: 1.33s\tremaining: 3.62s\n",
      "268:\tlearn: 0.1617164\ttotal: 1.33s\tremaining: 3.62s\n",
      "269:\tlearn: 0.1615043\ttotal: 1.33s\tremaining: 3.61s\n",
      "270:\tlearn: 0.1614008\ttotal: 1.34s\tremaining: 3.6s\n",
      "271:\tlearn: 0.1611084\ttotal: 1.34s\tremaining: 3.59s\n",
      "272:\tlearn: 0.1608468\ttotal: 1.34s\tremaining: 3.58s\n",
      "273:\tlearn: 0.1606704\ttotal: 1.35s\tremaining: 3.58s\n",
      "274:\tlearn: 0.1603365\ttotal: 1.35s\tremaining: 3.57s\n",
      "275:\tlearn: 0.1601291\ttotal: 1.36s\tremaining: 3.56s\n",
      "276:\tlearn: 0.1598193\ttotal: 1.36s\tremaining: 3.55s\n",
      "277:\tlearn: 0.1596856\ttotal: 1.36s\tremaining: 3.54s\n",
      "278:\tlearn: 0.1593788\ttotal: 1.37s\tremaining: 3.54s\n",
      "279:\tlearn: 0.1590825\ttotal: 1.37s\tremaining: 3.53s\n",
      "280:\tlearn: 0.1586173\ttotal: 1.38s\tremaining: 3.52s\n",
      "281:\tlearn: 0.1584666\ttotal: 1.38s\tremaining: 3.52s\n",
      "282:\tlearn: 0.1582265\ttotal: 1.38s\tremaining: 3.51s\n",
      "283:\tlearn: 0.1581246\ttotal: 1.39s\tremaining: 3.5s\n",
      "284:\tlearn: 0.1577042\ttotal: 1.39s\tremaining: 3.49s\n",
      "285:\tlearn: 0.1574386\ttotal: 1.4s\tremaining: 3.49s\n",
      "286:\tlearn: 0.1571062\ttotal: 1.4s\tremaining: 3.48s\n",
      "287:\tlearn: 0.1567325\ttotal: 1.4s\tremaining: 3.47s\n",
      "288:\tlearn: 0.1564182\ttotal: 1.41s\tremaining: 3.46s\n",
      "289:\tlearn: 0.1560628\ttotal: 1.41s\tremaining: 3.46s\n",
      "290:\tlearn: 0.1557296\ttotal: 1.42s\tremaining: 3.45s\n",
      "291:\tlearn: 0.1555639\ttotal: 1.42s\tremaining: 3.44s\n",
      "292:\tlearn: 0.1554410\ttotal: 1.42s\tremaining: 3.44s\n",
      "293:\tlearn: 0.1552625\ttotal: 1.43s\tremaining: 3.43s\n",
      "294:\tlearn: 0.1550806\ttotal: 1.43s\tremaining: 3.42s\n",
      "295:\tlearn: 0.1550185\ttotal: 1.44s\tremaining: 3.41s\n",
      "296:\tlearn: 0.1547244\ttotal: 1.44s\tremaining: 3.41s\n",
      "297:\tlearn: 0.1546350\ttotal: 1.44s\tremaining: 3.4s\n",
      "298:\tlearn: 0.1544424\ttotal: 1.45s\tremaining: 3.39s\n",
      "299:\tlearn: 0.1541073\ttotal: 1.45s\tremaining: 3.38s\n",
      "300:\tlearn: 0.1538449\ttotal: 1.45s\tremaining: 3.38s\n",
      "301:\tlearn: 0.1536012\ttotal: 1.46s\tremaining: 3.37s\n",
      "302:\tlearn: 0.1532891\ttotal: 1.46s\tremaining: 3.36s\n",
      "303:\tlearn: 0.1531854\ttotal: 1.47s\tremaining: 3.36s\n",
      "304:\tlearn: 0.1528344\ttotal: 1.47s\tremaining: 3.35s\n",
      "305:\tlearn: 0.1526549\ttotal: 1.48s\tremaining: 3.35s\n",
      "306:\tlearn: 0.1524865\ttotal: 1.48s\tremaining: 3.34s\n",
      "307:\tlearn: 0.1523670\ttotal: 1.49s\tremaining: 3.34s\n",
      "308:\tlearn: 0.1520620\ttotal: 1.49s\tremaining: 3.33s\n",
      "309:\tlearn: 0.1519796\ttotal: 1.49s\tremaining: 3.32s\n",
      "310:\tlearn: 0.1518152\ttotal: 1.5s\tremaining: 3.32s\n",
      "311:\tlearn: 0.1514469\ttotal: 1.5s\tremaining: 3.31s\n",
      "312:\tlearn: 0.1512608\ttotal: 1.5s\tremaining: 3.3s\n",
      "313:\tlearn: 0.1511267\ttotal: 1.51s\tremaining: 3.3s\n",
      "314:\tlearn: 0.1508152\ttotal: 1.51s\tremaining: 3.29s\n",
      "315:\tlearn: 0.1505979\ttotal: 1.52s\tremaining: 3.28s\n",
      "316:\tlearn: 0.1502522\ttotal: 1.52s\tremaining: 3.28s\n",
      "317:\tlearn: 0.1501252\ttotal: 1.52s\tremaining: 3.27s\n",
      "318:\tlearn: 0.1497441\ttotal: 1.53s\tremaining: 3.26s\n",
      "319:\tlearn: 0.1493909\ttotal: 1.53s\tremaining: 3.26s\n",
      "320:\tlearn: 0.1491766\ttotal: 1.54s\tremaining: 3.25s\n",
      "321:\tlearn: 0.1489595\ttotal: 1.54s\tremaining: 3.24s\n",
      "322:\tlearn: 0.1486022\ttotal: 1.54s\tremaining: 3.24s\n",
      "323:\tlearn: 0.1482949\ttotal: 1.55s\tremaining: 3.23s\n",
      "324:\tlearn: 0.1479963\ttotal: 1.55s\tremaining: 3.23s\n",
      "325:\tlearn: 0.1477759\ttotal: 1.56s\tremaining: 3.22s\n",
      "326:\tlearn: 0.1474097\ttotal: 1.56s\tremaining: 3.22s\n",
      "327:\tlearn: 0.1472367\ttotal: 1.57s\tremaining: 3.21s\n",
      "328:\tlearn: 0.1468576\ttotal: 1.57s\tremaining: 3.21s\n",
      "329:\tlearn: 0.1466091\ttotal: 1.57s\tremaining: 3.2s\n",
      "330:\tlearn: 0.1464259\ttotal: 1.58s\tremaining: 3.19s\n",
      "331:\tlearn: 0.1462845\ttotal: 1.58s\tremaining: 3.19s\n",
      "332:\tlearn: 0.1461855\ttotal: 1.59s\tremaining: 3.18s\n",
      "333:\tlearn: 0.1459363\ttotal: 1.59s\tremaining: 3.18s\n",
      "334:\tlearn: 0.1457645\ttotal: 1.6s\tremaining: 3.17s\n",
      "335:\tlearn: 0.1455953\ttotal: 1.6s\tremaining: 3.16s\n",
      "336:\tlearn: 0.1453567\ttotal: 1.61s\tremaining: 3.16s\n",
      "337:\tlearn: 0.1452250\ttotal: 1.61s\tremaining: 3.16s\n",
      "338:\tlearn: 0.1451485\ttotal: 1.61s\tremaining: 3.15s\n",
      "339:\tlearn: 0.1448805\ttotal: 1.62s\tremaining: 3.15s\n",
      "340:\tlearn: 0.1447983\ttotal: 1.63s\tremaining: 3.14s\n",
      "341:\tlearn: 0.1446853\ttotal: 1.63s\tremaining: 3.13s\n",
      "342:\tlearn: 0.1446462\ttotal: 1.63s\tremaining: 3.13s\n",
      "343:\tlearn: 0.1445711\ttotal: 1.64s\tremaining: 3.13s\n",
      "344:\tlearn: 0.1443746\ttotal: 1.64s\tremaining: 3.12s\n",
      "345:\tlearn: 0.1440511\ttotal: 1.65s\tremaining: 3.11s\n",
      "346:\tlearn: 0.1439046\ttotal: 1.65s\tremaining: 3.11s\n",
      "347:\tlearn: 0.1436834\ttotal: 1.66s\tremaining: 3.1s\n",
      "348:\tlearn: 0.1434333\ttotal: 1.66s\tremaining: 3.1s\n",
      "349:\tlearn: 0.1431989\ttotal: 1.67s\tremaining: 3.09s\n",
      "350:\tlearn: 0.1430464\ttotal: 1.67s\tremaining: 3.09s\n",
      "351:\tlearn: 0.1427987\ttotal: 1.68s\tremaining: 3.08s\n",
      "352:\tlearn: 0.1426156\ttotal: 1.68s\tremaining: 3.08s\n",
      "353:\tlearn: 0.1424854\ttotal: 1.69s\tremaining: 3.08s\n",
      "354:\tlearn: 0.1421678\ttotal: 1.69s\tremaining: 3.07s\n",
      "355:\tlearn: 0.1420351\ttotal: 1.7s\tremaining: 3.07s\n",
      "356:\tlearn: 0.1418813\ttotal: 1.7s\tremaining: 3.07s\n",
      "357:\tlearn: 0.1416609\ttotal: 1.71s\tremaining: 3.06s\n",
      "358:\tlearn: 0.1414699\ttotal: 1.71s\tremaining: 3.05s\n",
      "359:\tlearn: 0.1413980\ttotal: 1.72s\tremaining: 3.05s\n",
      "360:\tlearn: 0.1412278\ttotal: 1.72s\tremaining: 3.04s\n",
      "361:\tlearn: 0.1409866\ttotal: 1.72s\tremaining: 3.04s\n",
      "362:\tlearn: 0.1407351\ttotal: 1.73s\tremaining: 3.03s\n",
      "363:\tlearn: 0.1405663\ttotal: 1.73s\tremaining: 3.03s\n",
      "364:\tlearn: 0.1402584\ttotal: 1.74s\tremaining: 3.02s\n",
      "365:\tlearn: 0.1401735\ttotal: 1.74s\tremaining: 3.02s\n",
      "366:\tlearn: 0.1399827\ttotal: 1.75s\tremaining: 3.01s\n",
      "367:\tlearn: 0.1397154\ttotal: 1.75s\tremaining: 3.01s\n",
      "368:\tlearn: 0.1395177\ttotal: 1.75s\tremaining: 3s\n",
      "369:\tlearn: 0.1392454\ttotal: 1.76s\tremaining: 3s\n",
      "370:\tlearn: 0.1389773\ttotal: 1.76s\tremaining: 2.99s\n",
      "371:\tlearn: 0.1388034\ttotal: 1.77s\tremaining: 2.98s\n",
      "372:\tlearn: 0.1385399\ttotal: 1.77s\tremaining: 2.98s\n",
      "373:\tlearn: 0.1382996\ttotal: 1.78s\tremaining: 2.97s\n",
      "374:\tlearn: 0.1381359\ttotal: 1.78s\tremaining: 2.97s\n",
      "375:\tlearn: 0.1380981\ttotal: 1.78s\tremaining: 2.96s\n",
      "376:\tlearn: 0.1378140\ttotal: 1.79s\tremaining: 2.95s\n",
      "377:\tlearn: 0.1376815\ttotal: 1.79s\tremaining: 2.95s\n",
      "378:\tlearn: 0.1375182\ttotal: 1.79s\tremaining: 2.94s\n",
      "379:\tlearn: 0.1373238\ttotal: 1.8s\tremaining: 2.94s\n",
      "380:\tlearn: 0.1371175\ttotal: 1.8s\tremaining: 2.93s\n",
      "381:\tlearn: 0.1370001\ttotal: 1.81s\tremaining: 2.92s\n",
      "382:\tlearn: 0.1367611\ttotal: 1.81s\tremaining: 2.92s\n",
      "383:\tlearn: 0.1365167\ttotal: 1.81s\tremaining: 2.91s\n",
      "384:\tlearn: 0.1364642\ttotal: 1.82s\tremaining: 2.9s\n",
      "385:\tlearn: 0.1363258\ttotal: 1.82s\tremaining: 2.9s\n",
      "386:\tlearn: 0.1360691\ttotal: 1.83s\tremaining: 2.9s\n",
      "387:\tlearn: 0.1359410\ttotal: 1.83s\tremaining: 2.89s\n",
      "388:\tlearn: 0.1356446\ttotal: 1.84s\tremaining: 2.88s\n",
      "389:\tlearn: 0.1354163\ttotal: 1.84s\tremaining: 2.88s\n",
      "390:\tlearn: 0.1352478\ttotal: 1.84s\tremaining: 2.87s\n",
      "391:\tlearn: 0.1350710\ttotal: 1.85s\tremaining: 2.87s\n",
      "392:\tlearn: 0.1349325\ttotal: 1.85s\tremaining: 2.86s\n",
      "393:\tlearn: 0.1347174\ttotal: 1.86s\tremaining: 2.85s\n",
      "394:\tlearn: 0.1345233\ttotal: 1.86s\tremaining: 2.85s\n",
      "395:\tlearn: 0.1342884\ttotal: 1.86s\tremaining: 2.84s\n",
      "396:\tlearn: 0.1339820\ttotal: 1.87s\tremaining: 2.84s\n",
      "397:\tlearn: 0.1337554\ttotal: 1.87s\tremaining: 2.83s\n",
      "398:\tlearn: 0.1335311\ttotal: 1.88s\tremaining: 2.83s\n",
      "399:\tlearn: 0.1333382\ttotal: 1.88s\tremaining: 2.82s\n",
      "400:\tlearn: 0.1330765\ttotal: 1.89s\tremaining: 2.82s\n",
      "401:\tlearn: 0.1328985\ttotal: 1.89s\tremaining: 2.81s\n",
      "402:\tlearn: 0.1327082\ttotal: 1.89s\tremaining: 2.81s\n",
      "403:\tlearn: 0.1325491\ttotal: 1.9s\tremaining: 2.8s\n",
      "404:\tlearn: 0.1323655\ttotal: 1.9s\tremaining: 2.8s\n",
      "405:\tlearn: 0.1322991\ttotal: 1.91s\tremaining: 2.79s\n",
      "406:\tlearn: 0.1321494\ttotal: 1.91s\tremaining: 2.78s\n",
      "407:\tlearn: 0.1319432\ttotal: 1.92s\tremaining: 2.78s\n",
      "408:\tlearn: 0.1316914\ttotal: 1.92s\tremaining: 2.77s\n",
      "409:\tlearn: 0.1316453\ttotal: 1.92s\tremaining: 2.77s\n",
      "410:\tlearn: 0.1313816\ttotal: 1.93s\tremaining: 2.76s\n",
      "411:\tlearn: 0.1311577\ttotal: 1.93s\tremaining: 2.75s\n",
      "412:\tlearn: 0.1311336\ttotal: 1.93s\tremaining: 2.75s\n",
      "413:\tlearn: 0.1310005\ttotal: 1.94s\tremaining: 2.74s\n",
      "414:\tlearn: 0.1307897\ttotal: 1.94s\tremaining: 2.74s\n",
      "415:\tlearn: 0.1305324\ttotal: 1.95s\tremaining: 2.73s\n",
      "416:\tlearn: 0.1304541\ttotal: 1.95s\tremaining: 2.73s\n",
      "417:\tlearn: 0.1303439\ttotal: 1.95s\tremaining: 2.72s\n",
      "418:\tlearn: 0.1303282\ttotal: 1.96s\tremaining: 2.71s\n",
      "419:\tlearn: 0.1301221\ttotal: 1.96s\tremaining: 2.71s\n",
      "420:\tlearn: 0.1299857\ttotal: 1.96s\tremaining: 2.7s\n",
      "421:\tlearn: 0.1298001\ttotal: 1.97s\tremaining: 2.7s\n",
      "422:\tlearn: 0.1297488\ttotal: 1.97s\tremaining: 2.69s\n",
      "423:\tlearn: 0.1294981\ttotal: 1.98s\tremaining: 2.68s\n",
      "424:\tlearn: 0.1293166\ttotal: 1.98s\tremaining: 2.68s\n",
      "425:\tlearn: 0.1291723\ttotal: 1.98s\tremaining: 2.67s\n",
      "426:\tlearn: 0.1290375\ttotal: 1.99s\tremaining: 2.67s\n",
      "427:\tlearn: 0.1288063\ttotal: 1.99s\tremaining: 2.66s\n",
      "428:\tlearn: 0.1285824\ttotal: 2s\tremaining: 2.66s\n",
      "429:\tlearn: 0.1284147\ttotal: 2s\tremaining: 2.65s\n",
      "430:\tlearn: 0.1282893\ttotal: 2s\tremaining: 2.65s\n",
      "431:\tlearn: 0.1281074\ttotal: 2.01s\tremaining: 2.64s\n",
      "432:\tlearn: 0.1279289\ttotal: 2.01s\tremaining: 2.63s\n",
      "433:\tlearn: 0.1277175\ttotal: 2.02s\tremaining: 2.63s\n",
      "434:\tlearn: 0.1275023\ttotal: 2.02s\tremaining: 2.62s\n",
      "435:\tlearn: 0.1273521\ttotal: 2.02s\tremaining: 2.62s\n",
      "436:\tlearn: 0.1273345\ttotal: 2.03s\tremaining: 2.61s\n",
      "437:\tlearn: 0.1271833\ttotal: 2.03s\tremaining: 2.6s\n",
      "438:\tlearn: 0.1270334\ttotal: 2.04s\tremaining: 2.6s\n",
      "439:\tlearn: 0.1268181\ttotal: 2.04s\tremaining: 2.6s\n",
      "440:\tlearn: 0.1266386\ttotal: 2.04s\tremaining: 2.59s\n",
      "441:\tlearn: 0.1265420\ttotal: 2.05s\tremaining: 2.59s\n",
      "442:\tlearn: 0.1263788\ttotal: 2.05s\tremaining: 2.58s\n",
      "443:\tlearn: 0.1263047\ttotal: 2.06s\tremaining: 2.58s\n",
      "444:\tlearn: 0.1260900\ttotal: 2.06s\tremaining: 2.57s\n",
      "445:\tlearn: 0.1259365\ttotal: 2.06s\tremaining: 2.56s\n",
      "446:\tlearn: 0.1257303\ttotal: 2.07s\tremaining: 2.56s\n",
      "447:\tlearn: 0.1256659\ttotal: 2.07s\tremaining: 2.55s\n",
      "448:\tlearn: 0.1254390\ttotal: 2.08s\tremaining: 2.55s\n",
      "449:\tlearn: 0.1252759\ttotal: 2.08s\tremaining: 2.54s\n",
      "450:\tlearn: 0.1251312\ttotal: 2.08s\tremaining: 2.54s\n",
      "451:\tlearn: 0.1249825\ttotal: 2.09s\tremaining: 2.53s\n",
      "452:\tlearn: 0.1248067\ttotal: 2.09s\tremaining: 2.52s\n",
      "453:\tlearn: 0.1246010\ttotal: 2.1s\tremaining: 2.52s\n",
      "454:\tlearn: 0.1245050\ttotal: 2.1s\tremaining: 2.52s\n",
      "455:\tlearn: 0.1243778\ttotal: 2.1s\tremaining: 2.51s\n",
      "456:\tlearn: 0.1242375\ttotal: 2.11s\tremaining: 2.51s\n",
      "457:\tlearn: 0.1240078\ttotal: 2.11s\tremaining: 2.5s\n",
      "458:\tlearn: 0.1238253\ttotal: 2.12s\tremaining: 2.5s\n",
      "459:\tlearn: 0.1236495\ttotal: 2.12s\tremaining: 2.49s\n",
      "460:\tlearn: 0.1234275\ttotal: 2.13s\tremaining: 2.49s\n",
      "461:\tlearn: 0.1231915\ttotal: 2.13s\tremaining: 2.48s\n",
      "462:\tlearn: 0.1231511\ttotal: 2.14s\tremaining: 2.48s\n",
      "463:\tlearn: 0.1229816\ttotal: 2.14s\tremaining: 2.47s\n",
      "464:\tlearn: 0.1228040\ttotal: 2.14s\tremaining: 2.47s\n",
      "465:\tlearn: 0.1226337\ttotal: 2.15s\tremaining: 2.46s\n",
      "466:\tlearn: 0.1224270\ttotal: 2.15s\tremaining: 2.46s\n",
      "467:\tlearn: 0.1222863\ttotal: 2.16s\tremaining: 2.45s\n",
      "468:\tlearn: 0.1221075\ttotal: 2.16s\tremaining: 2.45s\n",
      "469:\tlearn: 0.1220340\ttotal: 2.17s\tremaining: 2.44s\n",
      "470:\tlearn: 0.1218725\ttotal: 2.17s\tremaining: 2.44s\n",
      "471:\tlearn: 0.1216875\ttotal: 2.18s\tremaining: 2.43s\n",
      "472:\tlearn: 0.1214174\ttotal: 2.18s\tremaining: 2.43s\n",
      "473:\tlearn: 0.1211907\ttotal: 2.19s\tremaining: 2.43s\n",
      "474:\tlearn: 0.1210153\ttotal: 2.19s\tremaining: 2.42s\n",
      "475:\tlearn: 0.1209066\ttotal: 2.2s\tremaining: 2.42s\n",
      "476:\tlearn: 0.1207723\ttotal: 2.2s\tremaining: 2.41s\n",
      "477:\tlearn: 0.1206361\ttotal: 2.21s\tremaining: 2.41s\n",
      "478:\tlearn: 0.1204214\ttotal: 2.21s\tremaining: 2.4s\n",
      "479:\tlearn: 0.1202974\ttotal: 2.22s\tremaining: 2.4s\n",
      "480:\tlearn: 0.1201243\ttotal: 2.22s\tremaining: 2.4s\n",
      "481:\tlearn: 0.1200603\ttotal: 2.22s\tremaining: 2.39s\n",
      "482:\tlearn: 0.1199220\ttotal: 2.23s\tremaining: 2.39s\n",
      "483:\tlearn: 0.1198552\ttotal: 2.23s\tremaining: 2.38s\n",
      "484:\tlearn: 0.1196363\ttotal: 2.24s\tremaining: 2.38s\n",
      "485:\tlearn: 0.1194384\ttotal: 2.24s\tremaining: 2.37s\n",
      "486:\tlearn: 0.1193670\ttotal: 2.25s\tremaining: 2.37s\n",
      "487:\tlearn: 0.1192862\ttotal: 2.25s\tremaining: 2.36s\n",
      "488:\tlearn: 0.1191691\ttotal: 2.25s\tremaining: 2.36s\n",
      "489:\tlearn: 0.1190586\ttotal: 2.26s\tremaining: 2.35s\n",
      "490:\tlearn: 0.1188650\ttotal: 2.26s\tremaining: 2.35s\n",
      "491:\tlearn: 0.1186403\ttotal: 2.27s\tremaining: 2.34s\n",
      "492:\tlearn: 0.1184648\ttotal: 2.27s\tremaining: 2.34s\n",
      "493:\tlearn: 0.1183034\ttotal: 2.28s\tremaining: 2.33s\n",
      "494:\tlearn: 0.1182030\ttotal: 2.28s\tremaining: 2.33s\n",
      "495:\tlearn: 0.1180840\ttotal: 2.28s\tremaining: 2.32s\n",
      "496:\tlearn: 0.1179528\ttotal: 2.29s\tremaining: 2.31s\n",
      "497:\tlearn: 0.1179442\ttotal: 2.29s\tremaining: 2.31s\n",
      "498:\tlearn: 0.1177764\ttotal: 2.29s\tremaining: 2.3s\n",
      "499:\tlearn: 0.1176293\ttotal: 2.3s\tremaining: 2.3s\n",
      "500:\tlearn: 0.1174652\ttotal: 2.3s\tremaining: 2.29s\n",
      "501:\tlearn: 0.1173622\ttotal: 2.31s\tremaining: 2.29s\n",
      "502:\tlearn: 0.1171465\ttotal: 2.31s\tremaining: 2.28s\n",
      "503:\tlearn: 0.1170799\ttotal: 2.31s\tremaining: 2.28s\n",
      "504:\tlearn: 0.1170620\ttotal: 2.32s\tremaining: 2.27s\n",
      "505:\tlearn: 0.1169958\ttotal: 2.32s\tremaining: 2.27s\n",
      "506:\tlearn: 0.1169434\ttotal: 2.33s\tremaining: 2.26s\n",
      "507:\tlearn: 0.1168692\ttotal: 2.33s\tremaining: 2.26s\n",
      "508:\tlearn: 0.1167871\ttotal: 2.33s\tremaining: 2.25s\n",
      "509:\tlearn: 0.1166209\ttotal: 2.34s\tremaining: 2.25s\n",
      "510:\tlearn: 0.1165834\ttotal: 2.34s\tremaining: 2.24s\n",
      "511:\tlearn: 0.1164928\ttotal: 2.35s\tremaining: 2.24s\n",
      "512:\tlearn: 0.1163207\ttotal: 2.35s\tremaining: 2.23s\n",
      "513:\tlearn: 0.1161677\ttotal: 2.36s\tremaining: 2.23s\n",
      "514:\tlearn: 0.1161606\ttotal: 2.36s\tremaining: 2.22s\n",
      "515:\tlearn: 0.1160308\ttotal: 2.36s\tremaining: 2.22s\n",
      "516:\tlearn: 0.1160186\ttotal: 2.37s\tremaining: 2.21s\n",
      "517:\tlearn: 0.1158756\ttotal: 2.37s\tremaining: 2.21s\n",
      "518:\tlearn: 0.1157457\ttotal: 2.38s\tremaining: 2.2s\n",
      "519:\tlearn: 0.1155498\ttotal: 2.38s\tremaining: 2.2s\n",
      "520:\tlearn: 0.1153463\ttotal: 2.38s\tremaining: 2.19s\n",
      "521:\tlearn: 0.1151218\ttotal: 2.39s\tremaining: 2.19s\n",
      "522:\tlearn: 0.1151117\ttotal: 2.39s\tremaining: 2.18s\n",
      "523:\tlearn: 0.1151050\ttotal: 2.39s\tremaining: 2.17s\n",
      "524:\tlearn: 0.1149547\ttotal: 2.4s\tremaining: 2.17s\n",
      "525:\tlearn: 0.1148646\ttotal: 2.4s\tremaining: 2.17s\n",
      "526:\tlearn: 0.1147728\ttotal: 2.41s\tremaining: 2.16s\n",
      "527:\tlearn: 0.1146134\ttotal: 2.41s\tremaining: 2.15s\n",
      "528:\tlearn: 0.1146075\ttotal: 2.41s\tremaining: 2.15s\n",
      "529:\tlearn: 0.1144063\ttotal: 2.42s\tremaining: 2.14s\n",
      "530:\tlearn: 0.1142754\ttotal: 2.42s\tremaining: 2.14s\n",
      "531:\tlearn: 0.1142653\ttotal: 2.42s\tremaining: 2.13s\n",
      "532:\tlearn: 0.1142077\ttotal: 2.43s\tremaining: 2.13s\n",
      "533:\tlearn: 0.1141144\ttotal: 2.43s\tremaining: 2.12s\n",
      "534:\tlearn: 0.1139810\ttotal: 2.44s\tremaining: 2.12s\n",
      "535:\tlearn: 0.1139584\ttotal: 2.44s\tremaining: 2.11s\n",
      "536:\tlearn: 0.1138574\ttotal: 2.44s\tremaining: 2.11s\n",
      "537:\tlearn: 0.1138463\ttotal: 2.45s\tremaining: 2.1s\n",
      "538:\tlearn: 0.1138085\ttotal: 2.45s\tremaining: 2.1s\n",
      "539:\tlearn: 0.1138028\ttotal: 2.46s\tremaining: 2.09s\n",
      "540:\tlearn: 0.1136771\ttotal: 2.46s\tremaining: 2.09s\n",
      "541:\tlearn: 0.1135433\ttotal: 2.46s\tremaining: 2.08s\n",
      "542:\tlearn: 0.1133546\ttotal: 2.47s\tremaining: 2.08s\n",
      "543:\tlearn: 0.1132162\ttotal: 2.47s\tremaining: 2.07s\n",
      "544:\tlearn: 0.1130256\ttotal: 2.48s\tremaining: 2.07s\n",
      "545:\tlearn: 0.1128315\ttotal: 2.48s\tremaining: 2.06s\n",
      "546:\tlearn: 0.1126775\ttotal: 2.48s\tremaining: 2.06s\n",
      "547:\tlearn: 0.1125156\ttotal: 2.49s\tremaining: 2.05s\n",
      "548:\tlearn: 0.1125106\ttotal: 2.49s\tremaining: 2.05s\n",
      "549:\tlearn: 0.1124435\ttotal: 2.5s\tremaining: 2.04s\n",
      "550:\tlearn: 0.1122718\ttotal: 2.5s\tremaining: 2.04s\n",
      "551:\tlearn: 0.1121222\ttotal: 2.5s\tremaining: 2.03s\n",
      "552:\tlearn: 0.1120566\ttotal: 2.51s\tremaining: 2.03s\n",
      "553:\tlearn: 0.1119262\ttotal: 2.51s\tremaining: 2.02s\n",
      "554:\tlearn: 0.1117309\ttotal: 2.52s\tremaining: 2.02s\n",
      "555:\tlearn: 0.1116060\ttotal: 2.52s\tremaining: 2.01s\n",
      "556:\tlearn: 0.1114855\ttotal: 2.52s\tremaining: 2.01s\n",
      "557:\tlearn: 0.1114150\ttotal: 2.53s\tremaining: 2s\n",
      "558:\tlearn: 0.1113191\ttotal: 2.53s\tremaining: 2s\n",
      "559:\tlearn: 0.1111797\ttotal: 2.54s\tremaining: 1.99s\n",
      "560:\tlearn: 0.1110757\ttotal: 2.54s\tremaining: 1.99s\n",
      "561:\tlearn: 0.1109473\ttotal: 2.55s\tremaining: 1.99s\n",
      "562:\tlearn: 0.1107791\ttotal: 2.55s\tremaining: 1.98s\n",
      "563:\tlearn: 0.1106627\ttotal: 2.56s\tremaining: 1.98s\n",
      "564:\tlearn: 0.1104943\ttotal: 2.56s\tremaining: 1.97s\n",
      "565:\tlearn: 0.1104351\ttotal: 2.56s\tremaining: 1.97s\n",
      "566:\tlearn: 0.1102631\ttotal: 2.57s\tremaining: 1.96s\n",
      "567:\tlearn: 0.1101739\ttotal: 2.57s\tremaining: 1.96s\n",
      "568:\tlearn: 0.1100529\ttotal: 2.58s\tremaining: 1.95s\n",
      "569:\tlearn: 0.1099392\ttotal: 2.58s\tremaining: 1.95s\n",
      "570:\tlearn: 0.1098361\ttotal: 2.59s\tremaining: 1.94s\n",
      "571:\tlearn: 0.1097224\ttotal: 2.59s\tremaining: 1.94s\n",
      "572:\tlearn: 0.1096330\ttotal: 2.59s\tremaining: 1.93s\n",
      "573:\tlearn: 0.1095217\ttotal: 2.6s\tremaining: 1.93s\n",
      "574:\tlearn: 0.1093904\ttotal: 2.6s\tremaining: 1.92s\n",
      "575:\tlearn: 0.1092244\ttotal: 2.61s\tremaining: 1.92s\n",
      "576:\tlearn: 0.1091823\ttotal: 2.61s\tremaining: 1.91s\n",
      "577:\tlearn: 0.1090836\ttotal: 2.61s\tremaining: 1.91s\n",
      "578:\tlearn: 0.1089615\ttotal: 2.62s\tremaining: 1.9s\n",
      "579:\tlearn: 0.1088717\ttotal: 2.62s\tremaining: 1.9s\n",
      "580:\tlearn: 0.1086758\ttotal: 2.63s\tremaining: 1.89s\n",
      "581:\tlearn: 0.1086346\ttotal: 2.63s\tremaining: 1.89s\n",
      "582:\tlearn: 0.1085777\ttotal: 2.63s\tremaining: 1.88s\n",
      "583:\tlearn: 0.1085417\ttotal: 2.64s\tremaining: 1.88s\n",
      "584:\tlearn: 0.1084065\ttotal: 2.64s\tremaining: 1.87s\n",
      "585:\tlearn: 0.1083473\ttotal: 2.64s\tremaining: 1.87s\n",
      "586:\tlearn: 0.1082280\ttotal: 2.65s\tremaining: 1.86s\n",
      "587:\tlearn: 0.1080995\ttotal: 2.65s\tremaining: 1.86s\n",
      "588:\tlearn: 0.1079702\ttotal: 2.66s\tremaining: 1.85s\n",
      "589:\tlearn: 0.1079467\ttotal: 2.66s\tremaining: 1.85s\n",
      "590:\tlearn: 0.1078603\ttotal: 2.66s\tremaining: 1.84s\n",
      "591:\tlearn: 0.1077775\ttotal: 2.67s\tremaining: 1.84s\n",
      "592:\tlearn: 0.1076714\ttotal: 2.67s\tremaining: 1.83s\n",
      "593:\tlearn: 0.1076466\ttotal: 2.67s\tremaining: 1.83s\n",
      "594:\tlearn: 0.1075800\ttotal: 2.68s\tremaining: 1.82s\n",
      "595:\tlearn: 0.1073471\ttotal: 2.68s\tremaining: 1.82s\n",
      "596:\tlearn: 0.1072054\ttotal: 2.69s\tremaining: 1.81s\n",
      "597:\tlearn: 0.1070936\ttotal: 2.69s\tremaining: 1.81s\n",
      "598:\tlearn: 0.1068565\ttotal: 2.7s\tremaining: 1.8s\n",
      "599:\tlearn: 0.1068521\ttotal: 2.7s\tremaining: 1.8s\n",
      "600:\tlearn: 0.1067732\ttotal: 2.7s\tremaining: 1.79s\n",
      "601:\tlearn: 0.1066120\ttotal: 2.71s\tremaining: 1.79s\n",
      "602:\tlearn: 0.1064727\ttotal: 2.71s\tremaining: 1.79s\n",
      "603:\tlearn: 0.1064300\ttotal: 2.72s\tremaining: 1.78s\n",
      "604:\tlearn: 0.1063405\ttotal: 2.72s\tremaining: 1.78s\n",
      "605:\tlearn: 0.1063133\ttotal: 2.73s\tremaining: 1.77s\n",
      "606:\tlearn: 0.1061419\ttotal: 2.73s\tremaining: 1.77s\n",
      "607:\tlearn: 0.1060674\ttotal: 2.74s\tremaining: 1.76s\n",
      "608:\tlearn: 0.1058865\ttotal: 2.74s\tremaining: 1.76s\n",
      "609:\tlearn: 0.1057064\ttotal: 2.75s\tremaining: 1.76s\n",
      "610:\tlearn: 0.1056311\ttotal: 2.75s\tremaining: 1.75s\n",
      "611:\tlearn: 0.1056054\ttotal: 2.76s\tremaining: 1.75s\n",
      "612:\tlearn: 0.1055830\ttotal: 2.76s\tremaining: 1.74s\n",
      "613:\tlearn: 0.1054378\ttotal: 2.77s\tremaining: 1.74s\n",
      "614:\tlearn: 0.1052895\ttotal: 2.77s\tremaining: 1.73s\n",
      "615:\tlearn: 0.1051050\ttotal: 2.77s\tremaining: 1.73s\n",
      "616:\tlearn: 0.1049604\ttotal: 2.78s\tremaining: 1.73s\n",
      "617:\tlearn: 0.1048050\ttotal: 2.78s\tremaining: 1.72s\n",
      "618:\tlearn: 0.1047465\ttotal: 2.79s\tremaining: 1.72s\n",
      "619:\tlearn: 0.1047197\ttotal: 2.79s\tremaining: 1.71s\n",
      "620:\tlearn: 0.1045927\ttotal: 2.8s\tremaining: 1.71s\n",
      "621:\tlearn: 0.1044844\ttotal: 2.8s\tremaining: 1.7s\n",
      "622:\tlearn: 0.1043540\ttotal: 2.81s\tremaining: 1.7s\n",
      "623:\tlearn: 0.1042059\ttotal: 2.81s\tremaining: 1.69s\n",
      "624:\tlearn: 0.1040952\ttotal: 2.81s\tremaining: 1.69s\n",
      "625:\tlearn: 0.1040318\ttotal: 2.82s\tremaining: 1.68s\n",
      "626:\tlearn: 0.1039633\ttotal: 2.82s\tremaining: 1.68s\n",
      "627:\tlearn: 0.1039189\ttotal: 2.83s\tremaining: 1.68s\n",
      "628:\tlearn: 0.1038661\ttotal: 2.83s\tremaining: 1.67s\n",
      "629:\tlearn: 0.1037343\ttotal: 2.84s\tremaining: 1.67s\n",
      "630:\tlearn: 0.1035958\ttotal: 2.84s\tremaining: 1.66s\n",
      "631:\tlearn: 0.1034968\ttotal: 2.85s\tremaining: 1.66s\n",
      "632:\tlearn: 0.1033171\ttotal: 2.85s\tremaining: 1.65s\n",
      "633:\tlearn: 0.1031932\ttotal: 2.85s\tremaining: 1.65s\n",
      "634:\tlearn: 0.1031354\ttotal: 2.86s\tremaining: 1.64s\n",
      "635:\tlearn: 0.1029839\ttotal: 2.86s\tremaining: 1.64s\n",
      "636:\tlearn: 0.1028790\ttotal: 2.87s\tremaining: 1.63s\n",
      "637:\tlearn: 0.1027482\ttotal: 2.87s\tremaining: 1.63s\n",
      "638:\tlearn: 0.1026510\ttotal: 2.88s\tremaining: 1.63s\n",
      "639:\tlearn: 0.1025065\ttotal: 2.88s\tremaining: 1.62s\n",
      "640:\tlearn: 0.1024179\ttotal: 2.88s\tremaining: 1.61s\n",
      "641:\tlearn: 0.1022743\ttotal: 2.89s\tremaining: 1.61s\n",
      "642:\tlearn: 0.1021689\ttotal: 2.89s\tremaining: 1.61s\n",
      "643:\tlearn: 0.1020366\ttotal: 2.9s\tremaining: 1.6s\n",
      "644:\tlearn: 0.1018904\ttotal: 2.9s\tremaining: 1.6s\n",
      "645:\tlearn: 0.1017426\ttotal: 2.9s\tremaining: 1.59s\n",
      "646:\tlearn: 0.1016322\ttotal: 2.91s\tremaining: 1.59s\n",
      "647:\tlearn: 0.1015309\ttotal: 2.91s\tremaining: 1.58s\n",
      "648:\tlearn: 0.1014190\ttotal: 2.92s\tremaining: 1.58s\n",
      "649:\tlearn: 0.1013563\ttotal: 2.92s\tremaining: 1.57s\n",
      "650:\tlearn: 0.1012615\ttotal: 2.92s\tremaining: 1.57s\n",
      "651:\tlearn: 0.1011498\ttotal: 2.93s\tremaining: 1.56s\n",
      "652:\tlearn: 0.1010621\ttotal: 2.93s\tremaining: 1.56s\n",
      "653:\tlearn: 0.1010417\ttotal: 2.94s\tremaining: 1.55s\n",
      "654:\tlearn: 0.1009469\ttotal: 2.94s\tremaining: 1.55s\n",
      "655:\tlearn: 0.1008458\ttotal: 2.95s\tremaining: 1.54s\n",
      "656:\tlearn: 0.1008260\ttotal: 2.95s\tremaining: 1.54s\n",
      "657:\tlearn: 0.1007686\ttotal: 2.96s\tremaining: 1.54s\n",
      "658:\tlearn: 0.1006065\ttotal: 2.96s\tremaining: 1.53s\n",
      "659:\tlearn: 0.1005670\ttotal: 2.96s\tremaining: 1.53s\n",
      "660:\tlearn: 0.1004956\ttotal: 2.97s\tremaining: 1.52s\n",
      "661:\tlearn: 0.1003769\ttotal: 2.97s\tremaining: 1.52s\n",
      "662:\tlearn: 0.1002039\ttotal: 2.98s\tremaining: 1.51s\n",
      "663:\tlearn: 0.1001026\ttotal: 2.98s\tremaining: 1.51s\n",
      "664:\tlearn: 0.0999232\ttotal: 2.98s\tremaining: 1.5s\n",
      "665:\tlearn: 0.0997956\ttotal: 2.99s\tremaining: 1.5s\n",
      "666:\tlearn: 0.0996632\ttotal: 2.99s\tremaining: 1.49s\n",
      "667:\tlearn: 0.0995676\ttotal: 3s\tremaining: 1.49s\n",
      "668:\tlearn: 0.0994764\ttotal: 3s\tremaining: 1.48s\n",
      "669:\tlearn: 0.0994195\ttotal: 3s\tremaining: 1.48s\n",
      "670:\tlearn: 0.0992936\ttotal: 3.01s\tremaining: 1.48s\n",
      "671:\tlearn: 0.0991984\ttotal: 3.01s\tremaining: 1.47s\n",
      "672:\tlearn: 0.0991743\ttotal: 3.02s\tremaining: 1.47s\n",
      "673:\tlearn: 0.0991556\ttotal: 3.02s\tremaining: 1.46s\n",
      "674:\tlearn: 0.0990288\ttotal: 3.02s\tremaining: 1.46s\n",
      "675:\tlearn: 0.0989516\ttotal: 3.03s\tremaining: 1.45s\n",
      "676:\tlearn: 0.0988712\ttotal: 3.03s\tremaining: 1.45s\n",
      "677:\tlearn: 0.0987509\ttotal: 3.04s\tremaining: 1.44s\n",
      "678:\tlearn: 0.0986642\ttotal: 3.04s\tremaining: 1.44s\n",
      "679:\tlearn: 0.0985354\ttotal: 3.04s\tremaining: 1.43s\n",
      "680:\tlearn: 0.0984304\ttotal: 3.05s\tremaining: 1.43s\n",
      "681:\tlearn: 0.0982672\ttotal: 3.05s\tremaining: 1.42s\n",
      "682:\tlearn: 0.0982282\ttotal: 3.06s\tremaining: 1.42s\n",
      "683:\tlearn: 0.0981715\ttotal: 3.06s\tremaining: 1.41s\n",
      "684:\tlearn: 0.0980281\ttotal: 3.06s\tremaining: 1.41s\n",
      "685:\tlearn: 0.0978661\ttotal: 3.07s\tremaining: 1.4s\n",
      "686:\tlearn: 0.0977533\ttotal: 3.07s\tremaining: 1.4s\n",
      "687:\tlearn: 0.0976838\ttotal: 3.08s\tremaining: 1.39s\n",
      "688:\tlearn: 0.0975985\ttotal: 3.08s\tremaining: 1.39s\n",
      "689:\tlearn: 0.0975418\ttotal: 3.08s\tremaining: 1.39s\n",
      "690:\tlearn: 0.0974265\ttotal: 3.09s\tremaining: 1.38s\n",
      "691:\tlearn: 0.0973448\ttotal: 3.09s\tremaining: 1.38s\n",
      "692:\tlearn: 0.0972827\ttotal: 3.1s\tremaining: 1.37s\n",
      "693:\tlearn: 0.0971680\ttotal: 3.1s\tremaining: 1.37s\n",
      "694:\tlearn: 0.0970812\ttotal: 3.1s\tremaining: 1.36s\n",
      "695:\tlearn: 0.0969830\ttotal: 3.11s\tremaining: 1.36s\n",
      "696:\tlearn: 0.0968363\ttotal: 3.11s\tremaining: 1.35s\n",
      "697:\tlearn: 0.0967492\ttotal: 3.11s\tremaining: 1.35s\n",
      "698:\tlearn: 0.0966449\ttotal: 3.12s\tremaining: 1.34s\n",
      "699:\tlearn: 0.0966218\ttotal: 3.12s\tremaining: 1.34s\n",
      "700:\tlearn: 0.0965198\ttotal: 3.13s\tremaining: 1.33s\n",
      "701:\tlearn: 0.0964522\ttotal: 3.13s\tremaining: 1.33s\n",
      "702:\tlearn: 0.0963581\ttotal: 3.13s\tremaining: 1.32s\n",
      "703:\tlearn: 0.0962295\ttotal: 3.14s\tremaining: 1.32s\n",
      "704:\tlearn: 0.0960798\ttotal: 3.14s\tremaining: 1.31s\n",
      "705:\tlearn: 0.0960118\ttotal: 3.15s\tremaining: 1.31s\n",
      "706:\tlearn: 0.0959675\ttotal: 3.15s\tremaining: 1.31s\n",
      "707:\tlearn: 0.0958564\ttotal: 3.15s\tremaining: 1.3s\n",
      "708:\tlearn: 0.0957078\ttotal: 3.16s\tremaining: 1.3s\n",
      "709:\tlearn: 0.0956000\ttotal: 3.16s\tremaining: 1.29s\n",
      "710:\tlearn: 0.0955488\ttotal: 3.17s\tremaining: 1.29s\n",
      "711:\tlearn: 0.0954871\ttotal: 3.17s\tremaining: 1.28s\n",
      "712:\tlearn: 0.0954400\ttotal: 3.18s\tremaining: 1.28s\n",
      "713:\tlearn: 0.0954222\ttotal: 3.18s\tremaining: 1.27s\n",
      "714:\tlearn: 0.0952412\ttotal: 3.19s\tremaining: 1.27s\n",
      "715:\tlearn: 0.0951682\ttotal: 3.19s\tremaining: 1.26s\n",
      "716:\tlearn: 0.0951382\ttotal: 3.19s\tremaining: 1.26s\n",
      "717:\tlearn: 0.0950749\ttotal: 3.2s\tremaining: 1.25s\n",
      "718:\tlearn: 0.0949819\ttotal: 3.2s\tremaining: 1.25s\n",
      "719:\tlearn: 0.0948825\ttotal: 3.21s\tremaining: 1.25s\n",
      "720:\tlearn: 0.0947621\ttotal: 3.21s\tremaining: 1.24s\n",
      "721:\tlearn: 0.0946617\ttotal: 3.21s\tremaining: 1.24s\n",
      "722:\tlearn: 0.0945617\ttotal: 3.22s\tremaining: 1.23s\n",
      "723:\tlearn: 0.0944647\ttotal: 3.22s\tremaining: 1.23s\n",
      "724:\tlearn: 0.0944171\ttotal: 3.23s\tremaining: 1.22s\n",
      "725:\tlearn: 0.0943392\ttotal: 3.23s\tremaining: 1.22s\n",
      "726:\tlearn: 0.0942639\ttotal: 3.23s\tremaining: 1.21s\n",
      "727:\tlearn: 0.0941958\ttotal: 3.24s\tremaining: 1.21s\n",
      "728:\tlearn: 0.0941203\ttotal: 3.24s\tremaining: 1.21s\n",
      "729:\tlearn: 0.0939700\ttotal: 3.25s\tremaining: 1.2s\n",
      "730:\tlearn: 0.0939077\ttotal: 3.25s\tremaining: 1.2s\n",
      "731:\tlearn: 0.0938553\ttotal: 3.26s\tremaining: 1.19s\n",
      "732:\tlearn: 0.0937594\ttotal: 3.26s\tremaining: 1.19s\n",
      "733:\tlearn: 0.0937278\ttotal: 3.27s\tremaining: 1.18s\n",
      "734:\tlearn: 0.0936757\ttotal: 3.27s\tremaining: 1.18s\n",
      "735:\tlearn: 0.0936236\ttotal: 3.27s\tremaining: 1.17s\n",
      "736:\tlearn: 0.0935571\ttotal: 3.28s\tremaining: 1.17s\n",
      "737:\tlearn: 0.0935421\ttotal: 3.28s\tremaining: 1.17s\n",
      "738:\tlearn: 0.0934301\ttotal: 3.29s\tremaining: 1.16s\n",
      "739:\tlearn: 0.0933879\ttotal: 3.29s\tremaining: 1.16s\n",
      "740:\tlearn: 0.0932723\ttotal: 3.3s\tremaining: 1.15s\n",
      "741:\tlearn: 0.0931329\ttotal: 3.3s\tremaining: 1.15s\n",
      "742:\tlearn: 0.0929760\ttotal: 3.31s\tremaining: 1.14s\n",
      "743:\tlearn: 0.0928828\ttotal: 3.31s\tremaining: 1.14s\n",
      "744:\tlearn: 0.0928439\ttotal: 3.31s\tremaining: 1.13s\n",
      "745:\tlearn: 0.0928026\ttotal: 3.32s\tremaining: 1.13s\n",
      "746:\tlearn: 0.0927875\ttotal: 3.32s\tremaining: 1.13s\n",
      "747:\tlearn: 0.0927729\ttotal: 3.33s\tremaining: 1.12s\n",
      "748:\tlearn: 0.0926627\ttotal: 3.33s\tremaining: 1.12s\n",
      "749:\tlearn: 0.0925850\ttotal: 3.33s\tremaining: 1.11s\n",
      "750:\tlearn: 0.0924874\ttotal: 3.34s\tremaining: 1.11s\n",
      "751:\tlearn: 0.0924029\ttotal: 3.35s\tremaining: 1.1s\n",
      "752:\tlearn: 0.0923215\ttotal: 3.35s\tremaining: 1.1s\n",
      "753:\tlearn: 0.0921951\ttotal: 3.35s\tremaining: 1.09s\n",
      "754:\tlearn: 0.0920813\ttotal: 3.36s\tremaining: 1.09s\n",
      "755:\tlearn: 0.0919382\ttotal: 3.36s\tremaining: 1.08s\n",
      "756:\tlearn: 0.0918480\ttotal: 3.37s\tremaining: 1.08s\n",
      "757:\tlearn: 0.0917919\ttotal: 3.37s\tremaining: 1.08s\n",
      "758:\tlearn: 0.0916938\ttotal: 3.38s\tremaining: 1.07s\n",
      "759:\tlearn: 0.0916699\ttotal: 3.38s\tremaining: 1.07s\n",
      "760:\tlearn: 0.0916478\ttotal: 3.39s\tremaining: 1.06s\n",
      "761:\tlearn: 0.0915209\ttotal: 3.39s\tremaining: 1.06s\n",
      "762:\tlearn: 0.0915003\ttotal: 3.4s\tremaining: 1.05s\n",
      "763:\tlearn: 0.0914376\ttotal: 3.4s\tremaining: 1.05s\n",
      "764:\tlearn: 0.0913307\ttotal: 3.4s\tremaining: 1.05s\n",
      "765:\tlearn: 0.0912552\ttotal: 3.41s\tremaining: 1.04s\n",
      "766:\tlearn: 0.0911817\ttotal: 3.41s\tremaining: 1.04s\n",
      "767:\tlearn: 0.0911598\ttotal: 3.42s\tremaining: 1.03s\n",
      "768:\tlearn: 0.0910487\ttotal: 3.42s\tremaining: 1.03s\n",
      "769:\tlearn: 0.0910450\ttotal: 3.42s\tremaining: 1.02s\n",
      "770:\tlearn: 0.0910316\ttotal: 3.43s\tremaining: 1.02s\n",
      "771:\tlearn: 0.0909214\ttotal: 3.43s\tremaining: 1.01s\n",
      "772:\tlearn: 0.0908543\ttotal: 3.44s\tremaining: 1.01s\n",
      "773:\tlearn: 0.0908414\ttotal: 3.44s\tremaining: 1s\n",
      "774:\tlearn: 0.0908190\ttotal: 3.44s\tremaining: 1s\n",
      "775:\tlearn: 0.0907477\ttotal: 3.45s\tremaining: 995ms\n",
      "776:\tlearn: 0.0906541\ttotal: 3.45s\tremaining: 991ms\n",
      "777:\tlearn: 0.0905505\ttotal: 3.46s\tremaining: 986ms\n",
      "778:\tlearn: 0.0904792\ttotal: 3.46s\tremaining: 982ms\n",
      "779:\tlearn: 0.0904046\ttotal: 3.46s\tremaining: 977ms\n",
      "780:\tlearn: 0.0903184\ttotal: 3.47s\tremaining: 973ms\n",
      "781:\tlearn: 0.0902205\ttotal: 3.47s\tremaining: 968ms\n",
      "782:\tlearn: 0.0901293\ttotal: 3.48s\tremaining: 963ms\n",
      "783:\tlearn: 0.0901164\ttotal: 3.48s\tremaining: 959ms\n",
      "784:\tlearn: 0.0900452\ttotal: 3.48s\tremaining: 954ms\n",
      "785:\tlearn: 0.0899384\ttotal: 3.49s\tremaining: 950ms\n",
      "786:\tlearn: 0.0899145\ttotal: 3.49s\tremaining: 945ms\n",
      "787:\tlearn: 0.0897913\ttotal: 3.5s\tremaining: 940ms\n",
      "788:\tlearn: 0.0896729\ttotal: 3.5s\tremaining: 936ms\n",
      "789:\tlearn: 0.0895500\ttotal: 3.5s\tremaining: 932ms\n",
      "790:\tlearn: 0.0894957\ttotal: 3.51s\tremaining: 927ms\n",
      "791:\tlearn: 0.0894115\ttotal: 3.51s\tremaining: 922ms\n",
      "792:\tlearn: 0.0893159\ttotal: 3.52s\tremaining: 918ms\n",
      "793:\tlearn: 0.0893128\ttotal: 3.52s\tremaining: 914ms\n",
      "794:\tlearn: 0.0892218\ttotal: 3.52s\tremaining: 909ms\n",
      "795:\tlearn: 0.0891075\ttotal: 3.53s\tremaining: 905ms\n",
      "796:\tlearn: 0.0890197\ttotal: 3.53s\tremaining: 900ms\n",
      "797:\tlearn: 0.0889701\ttotal: 3.54s\tremaining: 896ms\n",
      "798:\tlearn: 0.0888656\ttotal: 3.54s\tremaining: 891ms\n",
      "799:\tlearn: 0.0888607\ttotal: 3.54s\tremaining: 886ms\n",
      "800:\tlearn: 0.0887810\ttotal: 3.55s\tremaining: 882ms\n",
      "801:\tlearn: 0.0886838\ttotal: 3.55s\tremaining: 877ms\n",
      "802:\tlearn: 0.0885419\ttotal: 3.56s\tremaining: 873ms\n",
      "803:\tlearn: 0.0885340\ttotal: 3.56s\tremaining: 868ms\n",
      "804:\tlearn: 0.0884724\ttotal: 3.56s\tremaining: 864ms\n",
      "805:\tlearn: 0.0883734\ttotal: 3.57s\tremaining: 859ms\n",
      "806:\tlearn: 0.0883280\ttotal: 3.58s\tremaining: 855ms\n",
      "807:\tlearn: 0.0882821\ttotal: 3.58s\tremaining: 851ms\n",
      "808:\tlearn: 0.0882348\ttotal: 3.58s\tremaining: 846ms\n",
      "809:\tlearn: 0.0881479\ttotal: 3.59s\tremaining: 842ms\n",
      "810:\tlearn: 0.0880003\ttotal: 3.59s\tremaining: 837ms\n",
      "811:\tlearn: 0.0879874\ttotal: 3.6s\tremaining: 833ms\n",
      "812:\tlearn: 0.0878877\ttotal: 3.6s\tremaining: 828ms\n",
      "813:\tlearn: 0.0878528\ttotal: 3.6s\tremaining: 824ms\n",
      "814:\tlearn: 0.0877833\ttotal: 3.61s\tremaining: 819ms\n",
      "815:\tlearn: 0.0877467\ttotal: 3.61s\tremaining: 815ms\n",
      "816:\tlearn: 0.0876406\ttotal: 3.62s\tremaining: 810ms\n",
      "817:\tlearn: 0.0875190\ttotal: 3.62s\tremaining: 806ms\n",
      "818:\tlearn: 0.0874875\ttotal: 3.62s\tremaining: 801ms\n",
      "819:\tlearn: 0.0874164\ttotal: 3.63s\tremaining: 796ms\n",
      "820:\tlearn: 0.0873461\ttotal: 3.63s\tremaining: 792ms\n",
      "821:\tlearn: 0.0872130\ttotal: 3.63s\tremaining: 787ms\n",
      "822:\tlearn: 0.0871151\ttotal: 3.64s\tremaining: 783ms\n",
      "823:\tlearn: 0.0870290\ttotal: 3.64s\tremaining: 778ms\n",
      "824:\tlearn: 0.0869273\ttotal: 3.65s\tremaining: 774ms\n",
      "825:\tlearn: 0.0869164\ttotal: 3.65s\tremaining: 769ms\n",
      "826:\tlearn: 0.0868897\ttotal: 3.65s\tremaining: 764ms\n",
      "827:\tlearn: 0.0867956\ttotal: 3.66s\tremaining: 760ms\n",
      "828:\tlearn: 0.0867221\ttotal: 3.66s\tremaining: 755ms\n",
      "829:\tlearn: 0.0866386\ttotal: 3.67s\tremaining: 751ms\n",
      "830:\tlearn: 0.0865858\ttotal: 3.67s\tremaining: 746ms\n",
      "831:\tlearn: 0.0865287\ttotal: 3.67s\tremaining: 742ms\n",
      "832:\tlearn: 0.0863897\ttotal: 3.68s\tremaining: 737ms\n",
      "833:\tlearn: 0.0863250\ttotal: 3.68s\tremaining: 733ms\n",
      "834:\tlearn: 0.0862344\ttotal: 3.68s\tremaining: 728ms\n",
      "835:\tlearn: 0.0861453\ttotal: 3.69s\tremaining: 724ms\n",
      "836:\tlearn: 0.0860808\ttotal: 3.69s\tremaining: 719ms\n",
      "837:\tlearn: 0.0860479\ttotal: 3.7s\tremaining: 715ms\n",
      "838:\tlearn: 0.0860377\ttotal: 3.7s\tremaining: 710ms\n",
      "839:\tlearn: 0.0859401\ttotal: 3.7s\tremaining: 705ms\n",
      "840:\tlearn: 0.0858018\ttotal: 3.71s\tremaining: 701ms\n",
      "841:\tlearn: 0.0856670\ttotal: 3.71s\tremaining: 696ms\n",
      "842:\tlearn: 0.0856420\ttotal: 3.71s\tremaining: 692ms\n",
      "843:\tlearn: 0.0855308\ttotal: 3.72s\tremaining: 687ms\n",
      "844:\tlearn: 0.0854637\ttotal: 3.72s\tremaining: 683ms\n",
      "845:\tlearn: 0.0853886\ttotal: 3.73s\tremaining: 678ms\n",
      "846:\tlearn: 0.0853136\ttotal: 3.73s\tremaining: 674ms\n",
      "847:\tlearn: 0.0853129\ttotal: 3.73s\tremaining: 669ms\n",
      "848:\tlearn: 0.0852182\ttotal: 3.74s\tremaining: 665ms\n",
      "849:\tlearn: 0.0850665\ttotal: 3.74s\tremaining: 660ms\n",
      "850:\tlearn: 0.0849586\ttotal: 3.75s\tremaining: 656ms\n",
      "851:\tlearn: 0.0848908\ttotal: 3.75s\tremaining: 651ms\n",
      "852:\tlearn: 0.0848883\ttotal: 3.75s\tremaining: 647ms\n",
      "853:\tlearn: 0.0847977\ttotal: 3.76s\tremaining: 642ms\n",
      "854:\tlearn: 0.0847020\ttotal: 3.76s\tremaining: 638ms\n",
      "855:\tlearn: 0.0846353\ttotal: 3.76s\tremaining: 633ms\n",
      "856:\tlearn: 0.0845564\ttotal: 3.77s\tremaining: 629ms\n",
      "857:\tlearn: 0.0844232\ttotal: 3.77s\tremaining: 624ms\n",
      "858:\tlearn: 0.0843130\ttotal: 3.78s\tremaining: 620ms\n",
      "859:\tlearn: 0.0842873\ttotal: 3.78s\tremaining: 615ms\n",
      "860:\tlearn: 0.0841474\ttotal: 3.78s\tremaining: 611ms\n",
      "861:\tlearn: 0.0841289\ttotal: 3.79s\tremaining: 607ms\n",
      "862:\tlearn: 0.0840818\ttotal: 3.79s\tremaining: 602ms\n",
      "863:\tlearn: 0.0840746\ttotal: 3.8s\tremaining: 598ms\n",
      "864:\tlearn: 0.0840626\ttotal: 3.8s\tremaining: 593ms\n",
      "865:\tlearn: 0.0840353\ttotal: 3.81s\tremaining: 589ms\n",
      "866:\tlearn: 0.0839358\ttotal: 3.81s\tremaining: 584ms\n",
      "867:\tlearn: 0.0837942\ttotal: 3.81s\tremaining: 580ms\n",
      "868:\tlearn: 0.0837250\ttotal: 3.82s\tremaining: 575ms\n",
      "869:\tlearn: 0.0835901\ttotal: 3.82s\tremaining: 571ms\n",
      "870:\tlearn: 0.0834955\ttotal: 3.83s\tremaining: 567ms\n",
      "871:\tlearn: 0.0834207\ttotal: 3.83s\tremaining: 562ms\n",
      "872:\tlearn: 0.0833010\ttotal: 3.83s\tremaining: 558ms\n",
      "873:\tlearn: 0.0832153\ttotal: 3.84s\tremaining: 553ms\n",
      "874:\tlearn: 0.0831916\ttotal: 3.84s\tremaining: 549ms\n",
      "875:\tlearn: 0.0831201\ttotal: 3.85s\tremaining: 544ms\n",
      "876:\tlearn: 0.0830958\ttotal: 3.85s\tremaining: 540ms\n",
      "877:\tlearn: 0.0829839\ttotal: 3.85s\tremaining: 535ms\n",
      "878:\tlearn: 0.0829338\ttotal: 3.86s\tremaining: 531ms\n",
      "879:\tlearn: 0.0828908\ttotal: 3.86s\tremaining: 527ms\n",
      "880:\tlearn: 0.0828315\ttotal: 3.86s\tremaining: 522ms\n",
      "881:\tlearn: 0.0827420\ttotal: 3.87s\tremaining: 518ms\n",
      "882:\tlearn: 0.0826990\ttotal: 3.87s\tremaining: 513ms\n",
      "883:\tlearn: 0.0826100\ttotal: 3.88s\tremaining: 509ms\n",
      "884:\tlearn: 0.0825453\ttotal: 3.88s\tremaining: 504ms\n",
      "885:\tlearn: 0.0825222\ttotal: 3.88s\tremaining: 500ms\n",
      "886:\tlearn: 0.0824341\ttotal: 3.89s\tremaining: 495ms\n",
      "887:\tlearn: 0.0824036\ttotal: 3.89s\tremaining: 491ms\n",
      "888:\tlearn: 0.0823129\ttotal: 3.9s\tremaining: 486ms\n",
      "889:\tlearn: 0.0822093\ttotal: 3.9s\tremaining: 482ms\n",
      "890:\tlearn: 0.0821983\ttotal: 3.9s\tremaining: 478ms\n",
      "891:\tlearn: 0.0820893\ttotal: 3.91s\tremaining: 473ms\n",
      "892:\tlearn: 0.0819904\ttotal: 3.91s\tremaining: 469ms\n",
      "893:\tlearn: 0.0819003\ttotal: 3.92s\tremaining: 464ms\n",
      "894:\tlearn: 0.0817804\ttotal: 3.92s\tremaining: 460ms\n",
      "895:\tlearn: 0.0817562\ttotal: 3.92s\tremaining: 455ms\n",
      "896:\tlearn: 0.0817102\ttotal: 3.93s\tremaining: 451ms\n",
      "897:\tlearn: 0.0816535\ttotal: 3.93s\tremaining: 447ms\n",
      "898:\tlearn: 0.0815572\ttotal: 3.94s\tremaining: 442ms\n",
      "899:\tlearn: 0.0815224\ttotal: 3.94s\tremaining: 438ms\n",
      "900:\tlearn: 0.0814728\ttotal: 3.94s\tremaining: 433ms\n",
      "901:\tlearn: 0.0814140\ttotal: 3.95s\tremaining: 429ms\n",
      "902:\tlearn: 0.0813151\ttotal: 3.95s\tremaining: 424ms\n",
      "903:\tlearn: 0.0812819\ttotal: 3.96s\tremaining: 420ms\n",
      "904:\tlearn: 0.0811824\ttotal: 3.96s\tremaining: 416ms\n",
      "905:\tlearn: 0.0811528\ttotal: 3.96s\tremaining: 411ms\n",
      "906:\tlearn: 0.0810744\ttotal: 3.97s\tremaining: 407ms\n",
      "907:\tlearn: 0.0810108\ttotal: 3.97s\tremaining: 402ms\n",
      "908:\tlearn: 0.0809261\ttotal: 3.97s\tremaining: 398ms\n",
      "909:\tlearn: 0.0808740\ttotal: 3.98s\tremaining: 393ms\n",
      "910:\tlearn: 0.0808129\ttotal: 3.98s\tremaining: 389ms\n",
      "911:\tlearn: 0.0807746\ttotal: 3.99s\tremaining: 385ms\n",
      "912:\tlearn: 0.0806547\ttotal: 3.99s\tremaining: 380ms\n",
      "913:\tlearn: 0.0805484\ttotal: 4s\tremaining: 376ms\n",
      "914:\tlearn: 0.0805091\ttotal: 4s\tremaining: 372ms\n",
      "915:\tlearn: 0.0804395\ttotal: 4s\tremaining: 367ms\n",
      "916:\tlearn: 0.0803567\ttotal: 4.01s\tremaining: 363ms\n",
      "917:\tlearn: 0.0802745\ttotal: 4.01s\tremaining: 359ms\n",
      "918:\tlearn: 0.0801191\ttotal: 4.02s\tremaining: 354ms\n",
      "919:\tlearn: 0.0801043\ttotal: 4.02s\tremaining: 350ms\n",
      "920:\tlearn: 0.0800295\ttotal: 4.03s\tremaining: 345ms\n",
      "921:\tlearn: 0.0799222\ttotal: 4.03s\tremaining: 341ms\n",
      "922:\tlearn: 0.0798636\ttotal: 4.04s\tremaining: 337ms\n",
      "923:\tlearn: 0.0798544\ttotal: 4.04s\tremaining: 332ms\n",
      "924:\tlearn: 0.0798123\ttotal: 4.04s\tremaining: 328ms\n",
      "925:\tlearn: 0.0797367\ttotal: 4.05s\tremaining: 323ms\n",
      "926:\tlearn: 0.0796853\ttotal: 4.05s\tremaining: 319ms\n",
      "927:\tlearn: 0.0796765\ttotal: 4.05s\tremaining: 315ms\n",
      "928:\tlearn: 0.0796382\ttotal: 4.06s\tremaining: 310ms\n",
      "929:\tlearn: 0.0795644\ttotal: 4.06s\tremaining: 306ms\n",
      "930:\tlearn: 0.0795420\ttotal: 4.07s\tremaining: 301ms\n",
      "931:\tlearn: 0.0794940\ttotal: 4.07s\tremaining: 297ms\n",
      "932:\tlearn: 0.0794159\ttotal: 4.07s\tremaining: 293ms\n",
      "933:\tlearn: 0.0793358\ttotal: 4.08s\tremaining: 288ms\n",
      "934:\tlearn: 0.0792505\ttotal: 4.08s\tremaining: 284ms\n",
      "935:\tlearn: 0.0792292\ttotal: 4.08s\tremaining: 279ms\n",
      "936:\tlearn: 0.0791412\ttotal: 4.09s\tremaining: 275ms\n",
      "937:\tlearn: 0.0790707\ttotal: 4.09s\tremaining: 271ms\n",
      "938:\tlearn: 0.0790152\ttotal: 4.1s\tremaining: 266ms\n",
      "939:\tlearn: 0.0789743\ttotal: 4.1s\tremaining: 262ms\n",
      "940:\tlearn: 0.0789240\ttotal: 4.1s\tremaining: 257ms\n",
      "941:\tlearn: 0.0788142\ttotal: 4.11s\tremaining: 253ms\n",
      "942:\tlearn: 0.0787047\ttotal: 4.11s\tremaining: 249ms\n",
      "943:\tlearn: 0.0786391\ttotal: 4.12s\tremaining: 244ms\n",
      "944:\tlearn: 0.0785217\ttotal: 4.12s\tremaining: 240ms\n",
      "945:\tlearn: 0.0784830\ttotal: 4.12s\tremaining: 235ms\n",
      "946:\tlearn: 0.0784348\ttotal: 4.13s\tremaining: 231ms\n",
      "947:\tlearn: 0.0783654\ttotal: 4.13s\tremaining: 227ms\n",
      "948:\tlearn: 0.0783281\ttotal: 4.14s\tremaining: 222ms\n",
      "949:\tlearn: 0.0782591\ttotal: 4.14s\tremaining: 218ms\n",
      "950:\tlearn: 0.0781380\ttotal: 4.14s\tremaining: 214ms\n",
      "951:\tlearn: 0.0781349\ttotal: 4.15s\tremaining: 209ms\n",
      "952:\tlearn: 0.0780394\ttotal: 4.15s\tremaining: 205ms\n",
      "953:\tlearn: 0.0780362\ttotal: 4.16s\tremaining: 200ms\n",
      "954:\tlearn: 0.0780206\ttotal: 4.16s\tremaining: 196ms\n",
      "955:\tlearn: 0.0779633\ttotal: 4.16s\tremaining: 192ms\n",
      "956:\tlearn: 0.0779330\ttotal: 4.17s\tremaining: 187ms\n",
      "957:\tlearn: 0.0778524\ttotal: 4.17s\tremaining: 183ms\n",
      "958:\tlearn: 0.0777779\ttotal: 4.17s\tremaining: 178ms\n",
      "959:\tlearn: 0.0777215\ttotal: 4.18s\tremaining: 174ms\n",
      "960:\tlearn: 0.0776693\ttotal: 4.18s\tremaining: 170ms\n",
      "961:\tlearn: 0.0775821\ttotal: 4.19s\tremaining: 165ms\n",
      "962:\tlearn: 0.0775603\ttotal: 4.19s\tremaining: 161ms\n",
      "963:\tlearn: 0.0774364\ttotal: 4.2s\tremaining: 157ms\n",
      "964:\tlearn: 0.0773744\ttotal: 4.2s\tremaining: 152ms\n",
      "965:\tlearn: 0.0772840\ttotal: 4.2s\tremaining: 148ms\n",
      "966:\tlearn: 0.0772204\ttotal: 4.21s\tremaining: 144ms\n",
      "967:\tlearn: 0.0771742\ttotal: 4.21s\tremaining: 139ms\n",
      "968:\tlearn: 0.0771136\ttotal: 4.22s\tremaining: 135ms\n",
      "969:\tlearn: 0.0769671\ttotal: 4.22s\tremaining: 131ms\n",
      "970:\tlearn: 0.0769537\ttotal: 4.23s\tremaining: 126ms\n",
      "971:\tlearn: 0.0768883\ttotal: 4.23s\tremaining: 122ms\n",
      "972:\tlearn: 0.0768527\ttotal: 4.23s\tremaining: 118ms\n",
      "973:\tlearn: 0.0768460\ttotal: 4.24s\tremaining: 113ms\n",
      "974:\tlearn: 0.0768024\ttotal: 4.24s\tremaining: 109ms\n",
      "975:\tlearn: 0.0767631\ttotal: 4.25s\tremaining: 104ms\n",
      "976:\tlearn: 0.0767491\ttotal: 4.25s\tremaining: 100ms\n",
      "977:\tlearn: 0.0766507\ttotal: 4.25s\tremaining: 95.7ms\n",
      "978:\tlearn: 0.0766341\ttotal: 4.26s\tremaining: 91.3ms\n",
      "979:\tlearn: 0.0765993\ttotal: 4.26s\tremaining: 87ms\n",
      "980:\tlearn: 0.0764921\ttotal: 4.26s\tremaining: 82.6ms\n",
      "981:\tlearn: 0.0764303\ttotal: 4.27s\tremaining: 78.3ms\n",
      "982:\tlearn: 0.0763296\ttotal: 4.27s\tremaining: 73.9ms\n",
      "983:\tlearn: 0.0762627\ttotal: 4.28s\tremaining: 69.6ms\n",
      "984:\tlearn: 0.0762388\ttotal: 4.28s\tremaining: 65.2ms\n",
      "985:\tlearn: 0.0762135\ttotal: 4.29s\tremaining: 60.8ms\n",
      "986:\tlearn: 0.0761540\ttotal: 4.29s\tremaining: 56.5ms\n",
      "987:\tlearn: 0.0760894\ttotal: 4.29s\tremaining: 52.1ms\n",
      "988:\tlearn: 0.0760014\ttotal: 4.3s\tremaining: 47.8ms\n",
      "989:\tlearn: 0.0759664\ttotal: 4.3s\tremaining: 43.4ms\n",
      "990:\tlearn: 0.0759052\ttotal: 4.3s\tremaining: 39.1ms\n",
      "991:\tlearn: 0.0758505\ttotal: 4.31s\tremaining: 34.7ms\n",
      "992:\tlearn: 0.0758363\ttotal: 4.31s\tremaining: 30.4ms\n",
      "993:\tlearn: 0.0757866\ttotal: 4.32s\tremaining: 26.1ms\n",
      "994:\tlearn: 0.0757521\ttotal: 4.32s\tremaining: 21.7ms\n",
      "995:\tlearn: 0.0756724\ttotal: 4.32s\tremaining: 17.4ms\n",
      "996:\tlearn: 0.0756186\ttotal: 4.33s\tremaining: 13ms\n",
      "997:\tlearn: 0.0754700\ttotal: 4.33s\tremaining: 8.68ms\n",
      "998:\tlearn: 0.0753521\ttotal: 4.33s\tremaining: 4.34ms\n",
      "999:\tlearn: 0.0752824\ttotal: 4.34s\tremaining: 0us\n"
     ]
    },
    {
     "data": {
      "text/plain": [
       "<catboost.core.CatBoostClassifier at 0x1d4913d4cd0>"
      ]
     },
     "execution_count": 25,
     "metadata": {},
     "output_type": "execute_result"
    }
   ],
   "source": [
    "from catboost import CatBoostClassifier\n",
    "\n",
    "model = CatBoostClassifier(random_state=42)\n",
    "\n",
    "model.fit(X_train, y_train.values.ravel())"
   ]
  },
  {
   "cell_type": "code",
   "execution_count": 26,
   "id": "5ffd8200",
   "metadata": {
    "deletable": false,
    "nbgrader": {
     "cell_type": "code",
     "checksum": "7f7ce5c77fda51e226e912ebf986fb23",
     "grade": false,
     "grade_id": "cell-91aded2c00c87230",
     "locked": false,
     "schema_version": 3,
     "solution": true,
     "task": false
    }
   },
   "outputs": [],
   "source": [
    "y_train_pred = model.predict(X_train)\n",
    "y_test_pred = model.predict(X_test)"
   ]
  },
  {
   "cell_type": "code",
   "execution_count": 27,
   "id": "de1db02e",
   "metadata": {
    "deletable": false,
    "nbgrader": {
     "cell_type": "code",
     "checksum": "3952f0df59ae5a9463abd4ccb5772d60",
     "grade": false,
     "grade_id": "cell-20064a5991d16a83",
     "locked": false,
     "schema_version": 3,
     "solution": true,
     "task": false
    }
   },
   "outputs": [
    {
     "data": {
      "text/plain": [
       "0.9569680221081721"
      ]
     },
     "execution_count": 27,
     "metadata": {},
     "output_type": "execute_result"
    }
   ],
   "source": [
    "f1_score(y_test,y_test_pred)"
   ]
  },
  {
   "cell_type": "code",
   "execution_count": null,
   "id": "7af0725e",
   "metadata": {
    "deletable": false,
    "editable": false,
    "nbgrader": {
     "cell_type": "code",
     "checksum": "a739b196a84287d165d5f0825b7aa67e",
     "grade": true,
     "grade_id": "cell-8b4497c5fb187ba0",
     "locked": true,
     "points": 5,
     "schema_version": 3,
     "solution": false,
     "task": false
    }
   },
   "outputs": [],
   "source": []
  },
  {
   "cell_type": "markdown",
   "id": "99bf4a98",
   "metadata": {
    "deletable": false,
    "editable": false,
    "nbgrader": {
     "cell_type": "markdown",
     "checksum": "04289a03f6aa301ee4a709476cb499ff",
     "grade": false,
     "grade_id": "cell-7077c3658a85b904",
     "locked": true,
     "schema_version": 3,
     "solution": false,
     "task": false
    }
   },
   "source": [
    "The performance of various boosting techniques depends on multiple hyperparamters and dataset provided for training. \n",
    "With gradient boosting, good precision can be achieved in reducing errors. There are multiple advantages in using gradient boosting as compared to adaboost. Also XgBoost is again evolved version of gradient boosting. Being versatile and capability of handling large datasets makes it more popular. While CatBoost is popular to handle categorical variables more vigourously and doesnt require encoding for the same.\n",
    "\n",
    "\n"
   ]
  }
 ],
 "metadata": {
  "kernelspec": {
   "display_name": "Python 3 (ipykernel)",
   "language": "python",
   "name": "python3"
  },
  "language_info": {
   "codemirror_mode": {
    "name": "ipython",
    "version": 3
   },
   "file_extension": ".py",
   "mimetype": "text/x-python",
   "name": "python",
   "nbconvert_exporter": "python",
   "pygments_lexer": "ipython3",
   "version": "3.8.18"
  }
 },
 "nbformat": 4,
 "nbformat_minor": 5
}
