{
 "cells": [
  {
   "cell_type": "markdown",
   "id": "476b995d",
   "metadata": {},
   "source": [
    "The initial steps remain the same, where we import the necessary libraries, separate the dependent and independent variables, and split the dataset."
   ]
  },
  {
   "cell_type": "code",
   "execution_count": 14,
   "id": "0ddecd85",
   "metadata": {},
   "outputs": [],
   "source": [
    "import os\n",
    "import pandas as pd\n",
    "import numpy as np\n",
    "import matplotlib.pyplot as plt\n",
    "from sklearn.model_selection import train_test_split\n",
    "from sklearn.linear_model import LinearRegression\n",
    "from sklearn.linear_model import ElasticNetCV"
   ]
  },
  {
   "cell_type": "code",
   "execution_count": 15,
   "id": "a7fe74f3",
   "metadata": {},
   "outputs": [],
   "source": [
    "# read the data\n",
    "df = pd.read_csv(\"Energy_Efficiency_Overfit_Dataset_Updated.csv\")"
   ]
  },
  {
   "cell_type": "code",
   "execution_count": 16,
   "id": "a05df284",
   "metadata": {},
   "outputs": [],
   "source": [
    "# separate the dependent and independent variables\n",
    "X = df.drop('Energy_Efficiency_Rating', axis = 1)\n",
    "y = df['Energy_Efficiency_Rating']"
   ]
  },
  {
   "cell_type": "code",
   "execution_count": 17,
   "id": "563cc4e7",
   "metadata": {},
   "outputs": [],
   "source": [
    "# split the dataset into train and test\n",
    "X_train, X_test, y_train, y_test = train_test_split(X, y, test_size=0.3, random_state=42)"
   ]
  },
  {
   "cell_type": "markdown",
   "id": "d2fcea00",
   "metadata": {},
   "source": [
    "Now, let us move ahead and Perform Elastic Net regularization."
   ]
  },
  {
   "cell_type": "markdown",
   "id": "82bce46b",
   "metadata": {},
   "source": [
    "Starting off with the initilization part, we'll use the ElasticNetCV to find the best alpha and L1 ratio through the process of cross-validation.\n",
    "\n",
    "For this we will create an array of possible alpha values as done in lasso and ridge and then use 10 fold cross validation."
   ]
  },
  {
   "cell_type": "code",
   "execution_count": 18,
   "id": "4929b39d",
   "metadata": {},
   "outputs": [
    {
     "data": {
      "text/plain": [
       "array([ 0.        ,  0.52631579,  1.05263158,  1.57894737,  2.10526316,\n",
       "        2.63157895,  3.15789474,  3.68421053,  4.21052632,  4.73684211,\n",
       "        5.26315789,  5.78947368,  6.31578947,  6.84210526,  7.36842105,\n",
       "        7.89473684,  8.42105263,  8.94736842,  9.47368421, 10.        ])"
      ]
     },
     "execution_count": 18,
     "metadata": {},
     "output_type": "execute_result"
    }
   ],
   "source": [
    "# create an array with 20 numbers equllay spaced between 0 to 10\n",
    "alphas = np.linspace(0, 10, 20)\n",
    "alphas"
   ]
  },
  {
   "cell_type": "markdown",
   "id": "07ece758",
   "metadata": {},
   "source": [
    "One thing to note while using cross validation within elastic net is the l1_ratio parameter.\n",
    "\n",
    "The l1_ratio parameter controls the mix between L1 (Lasso) and L2 (Ridge) regularization. In our code, we have used a list of ratios to consider (e.g., 0.1, 0.5, 0.7, etc.). A l1_ratio of 1 corresponds to pure L1 regularization (Lasso), while a l1_ratio of 0 corresponds to pure L2 regularization (Ridge). By specifying a range of values, you allow the model to select the best mix of L1 and L2 regularization through cross-validation.\n",
    "\n",
    "So let's run this code and fit it on the training data."
   ]
  },
  {
   "cell_type": "code",
   "execution_count": 10,
   "id": "7e471d30",
   "metadata": {},
   "outputs": [
    {
     "name": "stderr",
     "output_type": "stream",
     "text": [
      "C:\\Users\\Sushant\\anaconda3\\lib\\site-packages\\sklearn\\linear_model\\_coordinate_descent.py:633: UserWarning: Coordinate descent with alpha=0 may lead to unexpected results and is discouraged.\n",
      "  model = cd_fast.enet_coordinate_descent_gram(\n",
      "C:\\Users\\Sushant\\anaconda3\\lib\\site-packages\\sklearn\\linear_model\\_coordinate_descent.py:633: ConvergenceWarning: Objective did not converge. You might want to increase the number of iterations. Duality gap: 1195.9244204873758, tolerance: 4.484421350867124\n",
      "  model = cd_fast.enet_coordinate_descent_gram(\n",
      "C:\\Users\\Sushant\\anaconda3\\lib\\site-packages\\sklearn\\linear_model\\_coordinate_descent.py:633: UserWarning: Coordinate descent with alpha=0 may lead to unexpected results and is discouraged.\n",
      "  model = cd_fast.enet_coordinate_descent_gram(\n",
      "C:\\Users\\Sushant\\anaconda3\\lib\\site-packages\\sklearn\\linear_model\\_coordinate_descent.py:633: ConvergenceWarning: Objective did not converge. You might want to increase the number of iterations. Duality gap: 1155.5939743219496, tolerance: 4.518696718917111\n",
      "  model = cd_fast.enet_coordinate_descent_gram(\n",
      "C:\\Users\\Sushant\\anaconda3\\lib\\site-packages\\sklearn\\linear_model\\_coordinate_descent.py:633: UserWarning: Coordinate descent with alpha=0 may lead to unexpected results and is discouraged.\n",
      "  model = cd_fast.enet_coordinate_descent_gram(\n",
      "C:\\Users\\Sushant\\anaconda3\\lib\\site-packages\\sklearn\\linear_model\\_coordinate_descent.py:633: ConvergenceWarning: Objective did not converge. You might want to increase the number of iterations. Duality gap: 1140.6946024278222, tolerance: 4.7882776308630435\n",
      "  model = cd_fast.enet_coordinate_descent_gram(\n",
      "C:\\Users\\Sushant\\anaconda3\\lib\\site-packages\\sklearn\\linear_model\\_coordinate_descent.py:633: UserWarning: Coordinate descent with alpha=0 may lead to unexpected results and is discouraged.\n",
      "  model = cd_fast.enet_coordinate_descent_gram(\n",
      "C:\\Users\\Sushant\\anaconda3\\lib\\site-packages\\sklearn\\linear_model\\_coordinate_descent.py:633: ConvergenceWarning: Objective did not converge. You might want to increase the number of iterations. Duality gap: 1262.7197417460484, tolerance: 4.523553771776862\n",
      "  model = cd_fast.enet_coordinate_descent_gram(\n",
      "C:\\Users\\Sushant\\anaconda3\\lib\\site-packages\\sklearn\\linear_model\\_coordinate_descent.py:633: UserWarning: Coordinate descent with alpha=0 may lead to unexpected results and is discouraged.\n",
      "  model = cd_fast.enet_coordinate_descent_gram(\n",
      "C:\\Users\\Sushant\\anaconda3\\lib\\site-packages\\sklearn\\linear_model\\_coordinate_descent.py:633: ConvergenceWarning: Objective did not converge. You might want to increase the number of iterations. Duality gap: 1290.0600197836975, tolerance: 4.822783202358667\n",
      "  model = cd_fast.enet_coordinate_descent_gram(\n",
      "C:\\Users\\Sushant\\anaconda3\\lib\\site-packages\\sklearn\\linear_model\\_coordinate_descent.py:633: UserWarning: Coordinate descent with alpha=0 may lead to unexpected results and is discouraged.\n",
      "  model = cd_fast.enet_coordinate_descent_gram(\n",
      "C:\\Users\\Sushant\\anaconda3\\lib\\site-packages\\sklearn\\linear_model\\_coordinate_descent.py:633: ConvergenceWarning: Objective did not converge. You might want to increase the number of iterations. Duality gap: 1227.6188012320417, tolerance: 4.4069280326046805\n",
      "  model = cd_fast.enet_coordinate_descent_gram(\n",
      "C:\\Users\\Sushant\\anaconda3\\lib\\site-packages\\sklearn\\linear_model\\_coordinate_descent.py:633: UserWarning: Coordinate descent with alpha=0 may lead to unexpected results and is discouraged.\n",
      "  model = cd_fast.enet_coordinate_descent_gram(\n",
      "C:\\Users\\Sushant\\anaconda3\\lib\\site-packages\\sklearn\\linear_model\\_coordinate_descent.py:633: ConvergenceWarning: Objective did not converge. You might want to increase the number of iterations. Duality gap: 1118.1932662645922, tolerance: 4.849214215897236\n",
      "  model = cd_fast.enet_coordinate_descent_gram(\n",
      "C:\\Users\\Sushant\\anaconda3\\lib\\site-packages\\sklearn\\linear_model\\_coordinate_descent.py:633: UserWarning: Coordinate descent with alpha=0 may lead to unexpected results and is discouraged.\n",
      "  model = cd_fast.enet_coordinate_descent_gram(\n",
      "C:\\Users\\Sushant\\anaconda3\\lib\\site-packages\\sklearn\\linear_model\\_coordinate_descent.py:633: ConvergenceWarning: Objective did not converge. You might want to increase the number of iterations. Duality gap: 1095.574021392873, tolerance: 4.2815973097318585\n",
      "  model = cd_fast.enet_coordinate_descent_gram(\n",
      "C:\\Users\\Sushant\\anaconda3\\lib\\site-packages\\sklearn\\linear_model\\_coordinate_descent.py:633: UserWarning: Coordinate descent with alpha=0 may lead to unexpected results and is discouraged.\n",
      "  model = cd_fast.enet_coordinate_descent_gram(\n",
      "C:\\Users\\Sushant\\anaconda3\\lib\\site-packages\\sklearn\\linear_model\\_coordinate_descent.py:633: ConvergenceWarning: Objective did not converge. You might want to increase the number of iterations. Duality gap: 1142.847713389223, tolerance: 4.846841737561287\n",
      "  model = cd_fast.enet_coordinate_descent_gram(\n",
      "C:\\Users\\Sushant\\anaconda3\\lib\\site-packages\\sklearn\\linear_model\\_coordinate_descent.py:633: UserWarning: Coordinate descent with alpha=0 may lead to unexpected results and is discouraged.\n",
      "  model = cd_fast.enet_coordinate_descent_gram(\n",
      "C:\\Users\\Sushant\\anaconda3\\lib\\site-packages\\sklearn\\linear_model\\_coordinate_descent.py:633: ConvergenceWarning: Objective did not converge. You might want to increase the number of iterations. Duality gap: 1177.503362454605, tolerance: 4.639576483655909\n",
      "  model = cd_fast.enet_coordinate_descent_gram(\n",
      "C:\\Users\\Sushant\\anaconda3\\lib\\site-packages\\sklearn\\linear_model\\_coordinate_descent.py:633: UserWarning: Coordinate descent with alpha=0 may lead to unexpected results and is discouraged.\n",
      "  model = cd_fast.enet_coordinate_descent_gram(\n",
      "C:\\Users\\Sushant\\anaconda3\\lib\\site-packages\\sklearn\\linear_model\\_coordinate_descent.py:633: ConvergenceWarning: Objective did not converge. You might want to increase the number of iterations. Duality gap: 1195.924420487303, tolerance: 4.484421350867124\n",
      "  model = cd_fast.enet_coordinate_descent_gram(\n",
      "C:\\Users\\Sushant\\anaconda3\\lib\\site-packages\\sklearn\\linear_model\\_coordinate_descent.py:633: UserWarning: Coordinate descent with alpha=0 may lead to unexpected results and is discouraged.\n",
      "  model = cd_fast.enet_coordinate_descent_gram(\n",
      "C:\\Users\\Sushant\\anaconda3\\lib\\site-packages\\sklearn\\linear_model\\_coordinate_descent.py:633: ConvergenceWarning: Objective did not converge. You might want to increase the number of iterations. Duality gap: 1155.5939743216004, tolerance: 4.518696718917111\n",
      "  model = cd_fast.enet_coordinate_descent_gram(\n",
      "C:\\Users\\Sushant\\anaconda3\\lib\\site-packages\\sklearn\\linear_model\\_coordinate_descent.py:633: UserWarning: Coordinate descent with alpha=0 may lead to unexpected results and is discouraged.\n",
      "  model = cd_fast.enet_coordinate_descent_gram(\n",
      "C:\\Users\\Sushant\\anaconda3\\lib\\site-packages\\sklearn\\linear_model\\_coordinate_descent.py:633: ConvergenceWarning: Objective did not converge. You might want to increase the number of iterations. Duality gap: 1140.694602428055, tolerance: 4.7882776308630435\n",
      "  model = cd_fast.enet_coordinate_descent_gram(\n",
      "C:\\Users\\Sushant\\anaconda3\\lib\\site-packages\\sklearn\\linear_model\\_coordinate_descent.py:633: UserWarning: Coordinate descent with alpha=0 may lead to unexpected results and is discouraged.\n",
      "  model = cd_fast.enet_coordinate_descent_gram(\n",
      "C:\\Users\\Sushant\\anaconda3\\lib\\site-packages\\sklearn\\linear_model\\_coordinate_descent.py:633: ConvergenceWarning: Objective did not converge. You might want to increase the number of iterations. Duality gap: 1262.7197417459247, tolerance: 4.523553771776862\n",
      "  model = cd_fast.enet_coordinate_descent_gram(\n",
      "C:\\Users\\Sushant\\anaconda3\\lib\\site-packages\\sklearn\\linear_model\\_coordinate_descent.py:633: UserWarning: Coordinate descent with alpha=0 may lead to unexpected results and is discouraged.\n",
      "  model = cd_fast.enet_coordinate_descent_gram(\n",
      "C:\\Users\\Sushant\\anaconda3\\lib\\site-packages\\sklearn\\linear_model\\_coordinate_descent.py:633: ConvergenceWarning: Objective did not converge. You might want to increase the number of iterations. Duality gap: 1290.0600197836902, tolerance: 4.822783202358667\n",
      "  model = cd_fast.enet_coordinate_descent_gram(\n",
      "C:\\Users\\Sushant\\anaconda3\\lib\\site-packages\\sklearn\\linear_model\\_coordinate_descent.py:633: UserWarning: Coordinate descent with alpha=0 may lead to unexpected results and is discouraged.\n",
      "  model = cd_fast.enet_coordinate_descent_gram(\n",
      "C:\\Users\\Sushant\\anaconda3\\lib\\site-packages\\sklearn\\linear_model\\_coordinate_descent.py:633: ConvergenceWarning: Objective did not converge. You might want to increase the number of iterations. Duality gap: 1227.61880123202, tolerance: 4.4069280326046805\n",
      "  model = cd_fast.enet_coordinate_descent_gram(\n",
      "C:\\Users\\Sushant\\anaconda3\\lib\\site-packages\\sklearn\\linear_model\\_coordinate_descent.py:633: UserWarning: Coordinate descent with alpha=0 may lead to unexpected results and is discouraged.\n",
      "  model = cd_fast.enet_coordinate_descent_gram(\n"
     ]
    },
    {
     "name": "stderr",
     "output_type": "stream",
     "text": [
      "C:\\Users\\Sushant\\anaconda3\\lib\\site-packages\\sklearn\\linear_model\\_coordinate_descent.py:633: ConvergenceWarning: Objective did not converge. You might want to increase the number of iterations. Duality gap: 1118.193266264534, tolerance: 4.849214215897236\n",
      "  model = cd_fast.enet_coordinate_descent_gram(\n",
      "C:\\Users\\Sushant\\anaconda3\\lib\\site-packages\\sklearn\\linear_model\\_coordinate_descent.py:633: UserWarning: Coordinate descent with alpha=0 may lead to unexpected results and is discouraged.\n",
      "  model = cd_fast.enet_coordinate_descent_gram(\n",
      "C:\\Users\\Sushant\\anaconda3\\lib\\site-packages\\sklearn\\linear_model\\_coordinate_descent.py:633: ConvergenceWarning: Objective did not converge. You might want to increase the number of iterations. Duality gap: 1095.574021392873, tolerance: 4.2815973097318585\n",
      "  model = cd_fast.enet_coordinate_descent_gram(\n",
      "C:\\Users\\Sushant\\anaconda3\\lib\\site-packages\\sklearn\\linear_model\\_coordinate_descent.py:633: UserWarning: Coordinate descent with alpha=0 may lead to unexpected results and is discouraged.\n",
      "  model = cd_fast.enet_coordinate_descent_gram(\n",
      "C:\\Users\\Sushant\\anaconda3\\lib\\site-packages\\sklearn\\linear_model\\_coordinate_descent.py:633: ConvergenceWarning: Objective did not converge. You might want to increase the number of iterations. Duality gap: 1142.8477133888446, tolerance: 4.846841737561287\n",
      "  model = cd_fast.enet_coordinate_descent_gram(\n",
      "C:\\Users\\Sushant\\anaconda3\\lib\\site-packages\\sklearn\\linear_model\\_coordinate_descent.py:633: UserWarning: Coordinate descent with alpha=0 may lead to unexpected results and is discouraged.\n",
      "  model = cd_fast.enet_coordinate_descent_gram(\n",
      "C:\\Users\\Sushant\\anaconda3\\lib\\site-packages\\sklearn\\linear_model\\_coordinate_descent.py:633: ConvergenceWarning: Objective did not converge. You might want to increase the number of iterations. Duality gap: 1177.5033624545977, tolerance: 4.639576483655909\n",
      "  model = cd_fast.enet_coordinate_descent_gram(\n",
      "C:\\Users\\Sushant\\anaconda3\\lib\\site-packages\\sklearn\\linear_model\\_coordinate_descent.py:633: UserWarning: Coordinate descent with alpha=0 may lead to unexpected results and is discouraged.\n",
      "  model = cd_fast.enet_coordinate_descent_gram(\n",
      "C:\\Users\\Sushant\\anaconda3\\lib\\site-packages\\sklearn\\linear_model\\_coordinate_descent.py:633: ConvergenceWarning: Objective did not converge. You might want to increase the number of iterations. Duality gap: 1195.924420487434, tolerance: 4.484421350867124\n",
      "  model = cd_fast.enet_coordinate_descent_gram(\n",
      "C:\\Users\\Sushant\\anaconda3\\lib\\site-packages\\sklearn\\linear_model\\_coordinate_descent.py:633: UserWarning: Coordinate descent with alpha=0 may lead to unexpected results and is discouraged.\n",
      "  model = cd_fast.enet_coordinate_descent_gram(\n",
      "C:\\Users\\Sushant\\anaconda3\\lib\\site-packages\\sklearn\\linear_model\\_coordinate_descent.py:633: ConvergenceWarning: Objective did not converge. You might want to increase the number of iterations. Duality gap: 1155.5939743217823, tolerance: 4.518696718917111\n",
      "  model = cd_fast.enet_coordinate_descent_gram(\n",
      "C:\\Users\\Sushant\\anaconda3\\lib\\site-packages\\sklearn\\linear_model\\_coordinate_descent.py:633: UserWarning: Coordinate descent with alpha=0 may lead to unexpected results and is discouraged.\n",
      "  model = cd_fast.enet_coordinate_descent_gram(\n",
      "C:\\Users\\Sushant\\anaconda3\\lib\\site-packages\\sklearn\\linear_model\\_coordinate_descent.py:633: ConvergenceWarning: Objective did not converge. You might want to increase the number of iterations. Duality gap: 1140.694602428055, tolerance: 4.7882776308630435\n",
      "  model = cd_fast.enet_coordinate_descent_gram(\n",
      "C:\\Users\\Sushant\\anaconda3\\lib\\site-packages\\sklearn\\linear_model\\_coordinate_descent.py:633: UserWarning: Coordinate descent with alpha=0 may lead to unexpected results and is discouraged.\n",
      "  model = cd_fast.enet_coordinate_descent_gram(\n",
      "C:\\Users\\Sushant\\anaconda3\\lib\\site-packages\\sklearn\\linear_model\\_coordinate_descent.py:633: ConvergenceWarning: Objective did not converge. You might want to increase the number of iterations. Duality gap: 1262.7197417459174, tolerance: 4.523553771776862\n",
      "  model = cd_fast.enet_coordinate_descent_gram(\n",
      "C:\\Users\\Sushant\\anaconda3\\lib\\site-packages\\sklearn\\linear_model\\_coordinate_descent.py:633: UserWarning: Coordinate descent with alpha=0 may lead to unexpected results and is discouraged.\n",
      "  model = cd_fast.enet_coordinate_descent_gram(\n",
      "C:\\Users\\Sushant\\anaconda3\\lib\\site-packages\\sklearn\\linear_model\\_coordinate_descent.py:633: ConvergenceWarning: Objective did not converge. You might want to increase the number of iterations. Duality gap: 1290.0600197837266, tolerance: 4.822783202358667\n",
      "  model = cd_fast.enet_coordinate_descent_gram(\n",
      "C:\\Users\\Sushant\\anaconda3\\lib\\site-packages\\sklearn\\linear_model\\_coordinate_descent.py:633: UserWarning: Coordinate descent with alpha=0 may lead to unexpected results and is discouraged.\n",
      "  model = cd_fast.enet_coordinate_descent_gram(\n",
      "C:\\Users\\Sushant\\anaconda3\\lib\\site-packages\\sklearn\\linear_model\\_coordinate_descent.py:633: ConvergenceWarning: Objective did not converge. You might want to increase the number of iterations. Duality gap: 1227.6188012321218, tolerance: 4.4069280326046805\n",
      "  model = cd_fast.enet_coordinate_descent_gram(\n",
      "C:\\Users\\Sushant\\anaconda3\\lib\\site-packages\\sklearn\\linear_model\\_coordinate_descent.py:633: UserWarning: Coordinate descent with alpha=0 may lead to unexpected results and is discouraged.\n",
      "  model = cd_fast.enet_coordinate_descent_gram(\n",
      "C:\\Users\\Sushant\\anaconda3\\lib\\site-packages\\sklearn\\linear_model\\_coordinate_descent.py:633: ConvergenceWarning: Objective did not converge. You might want to increase the number of iterations. Duality gap: 1118.1932662644977, tolerance: 4.849214215897236\n",
      "  model = cd_fast.enet_coordinate_descent_gram(\n",
      "C:\\Users\\Sushant\\anaconda3\\lib\\site-packages\\sklearn\\linear_model\\_coordinate_descent.py:633: UserWarning: Coordinate descent with alpha=0 may lead to unexpected results and is discouraged.\n",
      "  model = cd_fast.enet_coordinate_descent_gram(\n",
      "C:\\Users\\Sushant\\anaconda3\\lib\\site-packages\\sklearn\\linear_model\\_coordinate_descent.py:633: ConvergenceWarning: Objective did not converge. You might want to increase the number of iterations. Duality gap: 1095.5740213927784, tolerance: 4.2815973097318585\n",
      "  model = cd_fast.enet_coordinate_descent_gram(\n",
      "C:\\Users\\Sushant\\anaconda3\\lib\\site-packages\\sklearn\\linear_model\\_coordinate_descent.py:633: UserWarning: Coordinate descent with alpha=0 may lead to unexpected results and is discouraged.\n",
      "  model = cd_fast.enet_coordinate_descent_gram(\n",
      "C:\\Users\\Sushant\\anaconda3\\lib\\site-packages\\sklearn\\linear_model\\_coordinate_descent.py:633: ConvergenceWarning: Objective did not converge. You might want to increase the number of iterations. Duality gap: 1142.8477133892302, tolerance: 4.846841737561287\n",
      "  model = cd_fast.enet_coordinate_descent_gram(\n",
      "C:\\Users\\Sushant\\anaconda3\\lib\\site-packages\\sklearn\\linear_model\\_coordinate_descent.py:633: UserWarning: Coordinate descent with alpha=0 may lead to unexpected results and is discouraged.\n",
      "  model = cd_fast.enet_coordinate_descent_gram(\n",
      "C:\\Users\\Sushant\\anaconda3\\lib\\site-packages\\sklearn\\linear_model\\_coordinate_descent.py:633: ConvergenceWarning: Objective did not converge. You might want to increase the number of iterations. Duality gap: 1177.5033624546631, tolerance: 4.639576483655909\n",
      "  model = cd_fast.enet_coordinate_descent_gram(\n",
      "C:\\Users\\Sushant\\anaconda3\\lib\\site-packages\\sklearn\\linear_model\\_coordinate_descent.py:633: UserWarning: Coordinate descent with alpha=0 may lead to unexpected results and is discouraged.\n",
      "  model = cd_fast.enet_coordinate_descent_gram(\n",
      "C:\\Users\\Sushant\\anaconda3\\lib\\site-packages\\sklearn\\linear_model\\_coordinate_descent.py:633: ConvergenceWarning: Objective did not converge. You might want to increase the number of iterations. Duality gap: 1195.9244204874703, tolerance: 4.484421350867124\n",
      "  model = cd_fast.enet_coordinate_descent_gram(\n",
      "C:\\Users\\Sushant\\anaconda3\\lib\\site-packages\\sklearn\\linear_model\\_coordinate_descent.py:633: UserWarning: Coordinate descent with alpha=0 may lead to unexpected results and is discouraged.\n",
      "  model = cd_fast.enet_coordinate_descent_gram(\n",
      "C:\\Users\\Sushant\\anaconda3\\lib\\site-packages\\sklearn\\linear_model\\_coordinate_descent.py:633: ConvergenceWarning: Objective did not converge. You might want to increase the number of iterations. Duality gap: 1155.593974321746, tolerance: 4.518696718917111\n",
      "  model = cd_fast.enet_coordinate_descent_gram(\n",
      "C:\\Users\\Sushant\\anaconda3\\lib\\site-packages\\sklearn\\linear_model\\_coordinate_descent.py:633: UserWarning: Coordinate descent with alpha=0 may lead to unexpected results and is discouraged.\n",
      "  model = cd_fast.enet_coordinate_descent_gram(\n",
      "C:\\Users\\Sushant\\anaconda3\\lib\\site-packages\\sklearn\\linear_model\\_coordinate_descent.py:633: ConvergenceWarning: Objective did not converge. You might want to increase the number of iterations. Duality gap: 1140.6946024277058, tolerance: 4.7882776308630435\n",
      "  model = cd_fast.enet_coordinate_descent_gram(\n",
      "C:\\Users\\Sushant\\anaconda3\\lib\\site-packages\\sklearn\\linear_model\\_coordinate_descent.py:633: UserWarning: Coordinate descent with alpha=0 may lead to unexpected results and is discouraged.\n",
      "  model = cd_fast.enet_coordinate_descent_gram(\n",
      "C:\\Users\\Sushant\\anaconda3\\lib\\site-packages\\sklearn\\linear_model\\_coordinate_descent.py:633: ConvergenceWarning: Objective did not converge. You might want to increase the number of iterations. Duality gap: 1262.719741746092, tolerance: 4.523553771776862\n",
      "  model = cd_fast.enet_coordinate_descent_gram(\n",
      "C:\\Users\\Sushant\\anaconda3\\lib\\site-packages\\sklearn\\linear_model\\_coordinate_descent.py:633: UserWarning: Coordinate descent with alpha=0 may lead to unexpected results and is discouraged.\n",
      "  model = cd_fast.enet_coordinate_descent_gram(\n",
      "C:\\Users\\Sushant\\anaconda3\\lib\\site-packages\\sklearn\\linear_model\\_coordinate_descent.py:633: ConvergenceWarning: Objective did not converge. You might want to increase the number of iterations. Duality gap: 1290.060019783683, tolerance: 4.822783202358667\n",
      "  model = cd_fast.enet_coordinate_descent_gram(\n",
      "C:\\Users\\Sushant\\anaconda3\\lib\\site-packages\\sklearn\\linear_model\\_coordinate_descent.py:633: UserWarning: Coordinate descent with alpha=0 may lead to unexpected results and is discouraged.\n",
      "  model = cd_fast.enet_coordinate_descent_gram(\n"
     ]
    },
    {
     "name": "stderr",
     "output_type": "stream",
     "text": [
      "C:\\Users\\Sushant\\anaconda3\\lib\\site-packages\\sklearn\\linear_model\\_coordinate_descent.py:633: ConvergenceWarning: Objective did not converge. You might want to increase the number of iterations. Duality gap: 1227.6188012320854, tolerance: 4.4069280326046805\n",
      "  model = cd_fast.enet_coordinate_descent_gram(\n",
      "C:\\Users\\Sushant\\anaconda3\\lib\\site-packages\\sklearn\\linear_model\\_coordinate_descent.py:633: UserWarning: Coordinate descent with alpha=0 may lead to unexpected results and is discouraged.\n",
      "  model = cd_fast.enet_coordinate_descent_gram(\n",
      "C:\\Users\\Sushant\\anaconda3\\lib\\site-packages\\sklearn\\linear_model\\_coordinate_descent.py:633: ConvergenceWarning: Objective did not converge. You might want to increase the number of iterations. Duality gap: 1118.1932662645922, tolerance: 4.849214215897236\n",
      "  model = cd_fast.enet_coordinate_descent_gram(\n",
      "C:\\Users\\Sushant\\anaconda3\\lib\\site-packages\\sklearn\\linear_model\\_coordinate_descent.py:633: UserWarning: Coordinate descent with alpha=0 may lead to unexpected results and is discouraged.\n",
      "  model = cd_fast.enet_coordinate_descent_gram(\n",
      "C:\\Users\\Sushant\\anaconda3\\lib\\site-packages\\sklearn\\linear_model\\_coordinate_descent.py:633: ConvergenceWarning: Objective did not converge. You might want to increase the number of iterations. Duality gap: 1095.5740213927565, tolerance: 4.2815973097318585\n",
      "  model = cd_fast.enet_coordinate_descent_gram(\n",
      "C:\\Users\\Sushant\\anaconda3\\lib\\site-packages\\sklearn\\linear_model\\_coordinate_descent.py:633: UserWarning: Coordinate descent with alpha=0 may lead to unexpected results and is discouraged.\n",
      "  model = cd_fast.enet_coordinate_descent_gram(\n",
      "C:\\Users\\Sushant\\anaconda3\\lib\\site-packages\\sklearn\\linear_model\\_coordinate_descent.py:633: ConvergenceWarning: Objective did not converge. You might want to increase the number of iterations. Duality gap: 1142.8477133892593, tolerance: 4.846841737561287\n",
      "  model = cd_fast.enet_coordinate_descent_gram(\n",
      "C:\\Users\\Sushant\\anaconda3\\lib\\site-packages\\sklearn\\linear_model\\_coordinate_descent.py:633: UserWarning: Coordinate descent with alpha=0 may lead to unexpected results and is discouraged.\n",
      "  model = cd_fast.enet_coordinate_descent_gram(\n",
      "C:\\Users\\Sushant\\anaconda3\\lib\\site-packages\\sklearn\\linear_model\\_coordinate_descent.py:633: ConvergenceWarning: Objective did not converge. You might want to increase the number of iterations. Duality gap: 1177.5033624545467, tolerance: 4.639576483655909\n",
      "  model = cd_fast.enet_coordinate_descent_gram(\n",
      "C:\\Users\\Sushant\\anaconda3\\lib\\site-packages\\sklearn\\linear_model\\_coordinate_descent.py:633: UserWarning: Coordinate descent with alpha=0 may lead to unexpected results and is discouraged.\n",
      "  model = cd_fast.enet_coordinate_descent_gram(\n",
      "C:\\Users\\Sushant\\anaconda3\\lib\\site-packages\\sklearn\\linear_model\\_coordinate_descent.py:633: ConvergenceWarning: Objective did not converge. You might want to increase the number of iterations. Duality gap: 1195.9244204873685, tolerance: 4.484421350867124\n",
      "  model = cd_fast.enet_coordinate_descent_gram(\n",
      "C:\\Users\\Sushant\\anaconda3\\lib\\site-packages\\sklearn\\linear_model\\_coordinate_descent.py:633: UserWarning: Coordinate descent with alpha=0 may lead to unexpected results and is discouraged.\n",
      "  model = cd_fast.enet_coordinate_descent_gram(\n",
      "C:\\Users\\Sushant\\anaconda3\\lib\\site-packages\\sklearn\\linear_model\\_coordinate_descent.py:633: ConvergenceWarning: Objective did not converge. You might want to increase the number of iterations. Duality gap: 1155.5939743220224, tolerance: 4.518696718917111\n",
      "  model = cd_fast.enet_coordinate_descent_gram(\n",
      "C:\\Users\\Sushant\\anaconda3\\lib\\site-packages\\sklearn\\linear_model\\_coordinate_descent.py:633: UserWarning: Coordinate descent with alpha=0 may lead to unexpected results and is discouraged.\n",
      "  model = cd_fast.enet_coordinate_descent_gram(\n",
      "C:\\Users\\Sushant\\anaconda3\\lib\\site-packages\\sklearn\\linear_model\\_coordinate_descent.py:633: ConvergenceWarning: Objective did not converge. You might want to increase the number of iterations. Duality gap: 1140.6946024280987, tolerance: 4.7882776308630435\n",
      "  model = cd_fast.enet_coordinate_descent_gram(\n",
      "C:\\Users\\Sushant\\anaconda3\\lib\\site-packages\\sklearn\\linear_model\\_coordinate_descent.py:633: UserWarning: Coordinate descent with alpha=0 may lead to unexpected results and is discouraged.\n",
      "  model = cd_fast.enet_coordinate_descent_gram(\n",
      "C:\\Users\\Sushant\\anaconda3\\lib\\site-packages\\sklearn\\linear_model\\_coordinate_descent.py:633: ConvergenceWarning: Objective did not converge. You might want to increase the number of iterations. Duality gap: 1262.7197417460047, tolerance: 4.523553771776862\n",
      "  model = cd_fast.enet_coordinate_descent_gram(\n",
      "C:\\Users\\Sushant\\anaconda3\\lib\\site-packages\\sklearn\\linear_model\\_coordinate_descent.py:633: UserWarning: Coordinate descent with alpha=0 may lead to unexpected results and is discouraged.\n",
      "  model = cd_fast.enet_coordinate_descent_gram(\n",
      "C:\\Users\\Sushant\\anaconda3\\lib\\site-packages\\sklearn\\linear_model\\_coordinate_descent.py:633: ConvergenceWarning: Objective did not converge. You might want to increase the number of iterations. Duality gap: 1290.0600197836757, tolerance: 4.822783202358667\n",
      "  model = cd_fast.enet_coordinate_descent_gram(\n",
      "C:\\Users\\Sushant\\anaconda3\\lib\\site-packages\\sklearn\\linear_model\\_coordinate_descent.py:633: UserWarning: Coordinate descent with alpha=0 may lead to unexpected results and is discouraged.\n",
      "  model = cd_fast.enet_coordinate_descent_gram(\n",
      "C:\\Users\\Sushant\\anaconda3\\lib\\site-packages\\sklearn\\linear_model\\_coordinate_descent.py:633: ConvergenceWarning: Objective did not converge. You might want to increase the number of iterations. Duality gap: 1227.6188012321363, tolerance: 4.4069280326046805\n",
      "  model = cd_fast.enet_coordinate_descent_gram(\n",
      "C:\\Users\\Sushant\\anaconda3\\lib\\site-packages\\sklearn\\linear_model\\_coordinate_descent.py:633: UserWarning: Coordinate descent with alpha=0 may lead to unexpected results and is discouraged.\n",
      "  model = cd_fast.enet_coordinate_descent_gram(\n",
      "C:\\Users\\Sushant\\anaconda3\\lib\\site-packages\\sklearn\\linear_model\\_coordinate_descent.py:633: ConvergenceWarning: Objective did not converge. You might want to increase the number of iterations. Duality gap: 1118.193266264454, tolerance: 4.849214215897236\n",
      "  model = cd_fast.enet_coordinate_descent_gram(\n",
      "C:\\Users\\Sushant\\anaconda3\\lib\\site-packages\\sklearn\\linear_model\\_coordinate_descent.py:633: UserWarning: Coordinate descent with alpha=0 may lead to unexpected results and is discouraged.\n",
      "  model = cd_fast.enet_coordinate_descent_gram(\n",
      "C:\\Users\\Sushant\\anaconda3\\lib\\site-packages\\sklearn\\linear_model\\_coordinate_descent.py:633: ConvergenceWarning: Objective did not converge. You might want to increase the number of iterations. Duality gap: 1095.5740213928366, tolerance: 4.2815973097318585\n",
      "  model = cd_fast.enet_coordinate_descent_gram(\n",
      "C:\\Users\\Sushant\\anaconda3\\lib\\site-packages\\sklearn\\linear_model\\_coordinate_descent.py:633: UserWarning: Coordinate descent with alpha=0 may lead to unexpected results and is discouraged.\n",
      "  model = cd_fast.enet_coordinate_descent_gram(\n",
      "C:\\Users\\Sushant\\anaconda3\\lib\\site-packages\\sklearn\\linear_model\\_coordinate_descent.py:633: ConvergenceWarning: Objective did not converge. You might want to increase the number of iterations. Duality gap: 1142.8477133892738, tolerance: 4.846841737561287\n",
      "  model = cd_fast.enet_coordinate_descent_gram(\n",
      "C:\\Users\\Sushant\\anaconda3\\lib\\site-packages\\sklearn\\linear_model\\_coordinate_descent.py:633: UserWarning: Coordinate descent with alpha=0 may lead to unexpected results and is discouraged.\n",
      "  model = cd_fast.enet_coordinate_descent_gram(\n",
      "C:\\Users\\Sushant\\anaconda3\\lib\\site-packages\\sklearn\\linear_model\\_coordinate_descent.py:633: ConvergenceWarning: Objective did not converge. You might want to increase the number of iterations. Duality gap: 1177.503362454554, tolerance: 4.639576483655909\n",
      "  model = cd_fast.enet_coordinate_descent_gram(\n",
      "C:\\Users\\Sushant\\anaconda3\\lib\\site-packages\\sklearn\\linear_model\\_coordinate_descent.py:633: UserWarning: Coordinate descent with alpha=0 may lead to unexpected results and is discouraged.\n",
      "  model = cd_fast.enet_coordinate_descent_gram(\n",
      "C:\\Users\\Sushant\\anaconda3\\lib\\site-packages\\sklearn\\linear_model\\_coordinate_descent.py:633: ConvergenceWarning: Objective did not converge. You might want to increase the number of iterations. Duality gap: 1195.9244204873175, tolerance: 4.484421350867124\n",
      "  model = cd_fast.enet_coordinate_descent_gram(\n",
      "C:\\Users\\Sushant\\anaconda3\\lib\\site-packages\\sklearn\\linear_model\\_coordinate_descent.py:633: UserWarning: Coordinate descent with alpha=0 may lead to unexpected results and is discouraged.\n",
      "  model = cd_fast.enet_coordinate_descent_gram(\n",
      "C:\\Users\\Sushant\\anaconda3\\lib\\site-packages\\sklearn\\linear_model\\_coordinate_descent.py:633: ConvergenceWarning: Objective did not converge. You might want to increase the number of iterations. Duality gap: 1155.593974321746, tolerance: 4.518696718917111\n",
      "  model = cd_fast.enet_coordinate_descent_gram(\n",
      "C:\\Users\\Sushant\\anaconda3\\lib\\site-packages\\sklearn\\linear_model\\_coordinate_descent.py:633: UserWarning: Coordinate descent with alpha=0 may lead to unexpected results and is discouraged.\n",
      "  model = cd_fast.enet_coordinate_descent_gram(\n"
     ]
    },
    {
     "name": "stderr",
     "output_type": "stream",
     "text": [
      "C:\\Users\\Sushant\\anaconda3\\lib\\site-packages\\sklearn\\linear_model\\_coordinate_descent.py:633: ConvergenceWarning: Objective did not converge. You might want to increase the number of iterations. Duality gap: 1140.6946024277495, tolerance: 4.7882776308630435\n",
      "  model = cd_fast.enet_coordinate_descent_gram(\n",
      "C:\\Users\\Sushant\\anaconda3\\lib\\site-packages\\sklearn\\linear_model\\_coordinate_descent.py:633: UserWarning: Coordinate descent with alpha=0 may lead to unexpected results and is discouraged.\n",
      "  model = cd_fast.enet_coordinate_descent_gram(\n",
      "C:\\Users\\Sushant\\anaconda3\\lib\\site-packages\\sklearn\\linear_model\\_coordinate_descent.py:633: ConvergenceWarning: Objective did not converge. You might want to increase the number of iterations. Duality gap: 1262.7197417459101, tolerance: 4.523553771776862\n",
      "  model = cd_fast.enet_coordinate_descent_gram(\n",
      "C:\\Users\\Sushant\\anaconda3\\lib\\site-packages\\sklearn\\linear_model\\_coordinate_descent.py:633: UserWarning: Coordinate descent with alpha=0 may lead to unexpected results and is discouraged.\n",
      "  model = cd_fast.enet_coordinate_descent_gram(\n",
      "C:\\Users\\Sushant\\anaconda3\\lib\\site-packages\\sklearn\\linear_model\\_coordinate_descent.py:633: ConvergenceWarning: Objective did not converge. You might want to increase the number of iterations. Duality gap: 1290.0600197836684, tolerance: 4.822783202358667\n",
      "  model = cd_fast.enet_coordinate_descent_gram(\n",
      "C:\\Users\\Sushant\\anaconda3\\lib\\site-packages\\sklearn\\linear_model\\_coordinate_descent.py:633: UserWarning: Coordinate descent with alpha=0 may lead to unexpected results and is discouraged.\n",
      "  model = cd_fast.enet_coordinate_descent_gram(\n",
      "C:\\Users\\Sushant\\anaconda3\\lib\\site-packages\\sklearn\\linear_model\\_coordinate_descent.py:633: ConvergenceWarning: Objective did not converge. You might want to increase the number of iterations. Duality gap: 1227.61880123218, tolerance: 4.4069280326046805\n",
      "  model = cd_fast.enet_coordinate_descent_gram(\n",
      "C:\\Users\\Sushant\\anaconda3\\lib\\site-packages\\sklearn\\linear_model\\_coordinate_descent.py:633: UserWarning: Coordinate descent with alpha=0 may lead to unexpected results and is discouraged.\n",
      "  model = cd_fast.enet_coordinate_descent_gram(\n",
      "C:\\Users\\Sushant\\anaconda3\\lib\\site-packages\\sklearn\\linear_model\\_coordinate_descent.py:633: ConvergenceWarning: Objective did not converge. You might want to increase the number of iterations. Duality gap: 1118.1932662644685, tolerance: 4.849214215897236\n",
      "  model = cd_fast.enet_coordinate_descent_gram(\n",
      "C:\\Users\\Sushant\\anaconda3\\lib\\site-packages\\sklearn\\linear_model\\_coordinate_descent.py:633: UserWarning: Coordinate descent with alpha=0 may lead to unexpected results and is discouraged.\n",
      "  model = cd_fast.enet_coordinate_descent_gram(\n",
      "C:\\Users\\Sushant\\anaconda3\\lib\\site-packages\\sklearn\\linear_model\\_coordinate_descent.py:633: ConvergenceWarning: Objective did not converge. You might want to increase the number of iterations. Duality gap: 1095.5740213928511, tolerance: 4.2815973097318585\n",
      "  model = cd_fast.enet_coordinate_descent_gram(\n",
      "C:\\Users\\Sushant\\anaconda3\\lib\\site-packages\\sklearn\\linear_model\\_coordinate_descent.py:633: UserWarning: Coordinate descent with alpha=0 may lead to unexpected results and is discouraged.\n",
      "  model = cd_fast.enet_coordinate_descent_gram(\n",
      "C:\\Users\\Sushant\\anaconda3\\lib\\site-packages\\sklearn\\linear_model\\_coordinate_descent.py:633: ConvergenceWarning: Objective did not converge. You might want to increase the number of iterations. Duality gap: 1142.8477133892447, tolerance: 4.846841737561287\n",
      "  model = cd_fast.enet_coordinate_descent_gram(\n",
      "C:\\Users\\Sushant\\anaconda3\\lib\\site-packages\\sklearn\\linear_model\\_coordinate_descent.py:633: UserWarning: Coordinate descent with alpha=0 may lead to unexpected results and is discouraged.\n",
      "  model = cd_fast.enet_coordinate_descent_gram(\n",
      "C:\\Users\\Sushant\\anaconda3\\lib\\site-packages\\sklearn\\linear_model\\_coordinate_descent.py:633: ConvergenceWarning: Objective did not converge. You might want to increase the number of iterations. Duality gap: 1177.5033624545977, tolerance: 4.639576483655909\n",
      "  model = cd_fast.enet_coordinate_descent_gram(\n",
      "C:\\Users\\Sushant\\anaconda3\\lib\\site-packages\\sklearn\\linear_model\\_coordinate_descent.py:633: UserWarning: Coordinate descent with alpha=0 may lead to unexpected results and is discouraged.\n",
      "  model = cd_fast.enet_coordinate_descent_gram(\n",
      "C:\\Users\\Sushant\\anaconda3\\lib\\site-packages\\sklearn\\linear_model\\_coordinate_descent.py:633: ConvergenceWarning: Objective did not converge. You might want to increase the number of iterations. Duality gap: 1195.9244204874703, tolerance: 4.484421350867124\n",
      "  model = cd_fast.enet_coordinate_descent_gram(\n",
      "C:\\Users\\Sushant\\anaconda3\\lib\\site-packages\\sklearn\\linear_model\\_coordinate_descent.py:633: UserWarning: Coordinate descent with alpha=0 may lead to unexpected results and is discouraged.\n",
      "  model = cd_fast.enet_coordinate_descent_gram(\n",
      "C:\\Users\\Sushant\\anaconda3\\lib\\site-packages\\sklearn\\linear_model\\_coordinate_descent.py:633: ConvergenceWarning: Objective did not converge. You might want to increase the number of iterations. Duality gap: 1155.5939743220515, tolerance: 4.518696718917111\n",
      "  model = cd_fast.enet_coordinate_descent_gram(\n",
      "C:\\Users\\Sushant\\anaconda3\\lib\\site-packages\\sklearn\\linear_model\\_coordinate_descent.py:633: UserWarning: Coordinate descent with alpha=0 may lead to unexpected results and is discouraged.\n",
      "  model = cd_fast.enet_coordinate_descent_gram(\n",
      "C:\\Users\\Sushant\\anaconda3\\lib\\site-packages\\sklearn\\linear_model\\_coordinate_descent.py:633: ConvergenceWarning: Objective did not converge. You might want to increase the number of iterations. Duality gap: 1140.6946024279096, tolerance: 4.7882776308630435\n",
      "  model = cd_fast.enet_coordinate_descent_gram(\n",
      "C:\\Users\\Sushant\\anaconda3\\lib\\site-packages\\sklearn\\linear_model\\_coordinate_descent.py:633: UserWarning: Coordinate descent with alpha=0 may lead to unexpected results and is discouraged.\n",
      "  model = cd_fast.enet_coordinate_descent_gram(\n",
      "C:\\Users\\Sushant\\anaconda3\\lib\\site-packages\\sklearn\\linear_model\\_coordinate_descent.py:633: ConvergenceWarning: Objective did not converge. You might want to increase the number of iterations. Duality gap: 1262.7197417460775, tolerance: 4.523553771776862\n",
      "  model = cd_fast.enet_coordinate_descent_gram(\n",
      "C:\\Users\\Sushant\\anaconda3\\lib\\site-packages\\sklearn\\linear_model\\_coordinate_descent.py:633: UserWarning: Coordinate descent with alpha=0 may lead to unexpected results and is discouraged.\n",
      "  model = cd_fast.enet_coordinate_descent_gram(\n",
      "C:\\Users\\Sushant\\anaconda3\\lib\\site-packages\\sklearn\\linear_model\\_coordinate_descent.py:633: ConvergenceWarning: Objective did not converge. You might want to increase the number of iterations. Duality gap: 1290.0600197837048, tolerance: 4.822783202358667\n",
      "  model = cd_fast.enet_coordinate_descent_gram(\n",
      "C:\\Users\\Sushant\\anaconda3\\lib\\site-packages\\sklearn\\linear_model\\_coordinate_descent.py:633: UserWarning: Coordinate descent with alpha=0 may lead to unexpected results and is discouraged.\n",
      "  model = cd_fast.enet_coordinate_descent_gram(\n",
      "C:\\Users\\Sushant\\anaconda3\\lib\\site-packages\\sklearn\\linear_model\\_coordinate_descent.py:633: ConvergenceWarning: Objective did not converge. You might want to increase the number of iterations. Duality gap: 1227.6188012321581, tolerance: 4.4069280326046805\n",
      "  model = cd_fast.enet_coordinate_descent_gram(\n",
      "C:\\Users\\Sushant\\anaconda3\\lib\\site-packages\\sklearn\\linear_model\\_coordinate_descent.py:633: UserWarning: Coordinate descent with alpha=0 may lead to unexpected results and is discouraged.\n",
      "  model = cd_fast.enet_coordinate_descent_gram(\n",
      "C:\\Users\\Sushant\\anaconda3\\lib\\site-packages\\sklearn\\linear_model\\_coordinate_descent.py:633: ConvergenceWarning: Objective did not converge. You might want to increase the number of iterations. Duality gap: 1118.1932662646432, tolerance: 4.849214215897236\n",
      "  model = cd_fast.enet_coordinate_descent_gram(\n",
      "C:\\Users\\Sushant\\anaconda3\\lib\\site-packages\\sklearn\\linear_model\\_coordinate_descent.py:633: UserWarning: Coordinate descent with alpha=0 may lead to unexpected results and is discouraged.\n",
      "  model = cd_fast.enet_coordinate_descent_gram(\n",
      "C:\\Users\\Sushant\\anaconda3\\lib\\site-packages\\sklearn\\linear_model\\_coordinate_descent.py:633: ConvergenceWarning: Objective did not converge. You might want to increase the number of iterations. Duality gap: 1095.5740213928075, tolerance: 4.2815973097318585\n",
      "  model = cd_fast.enet_coordinate_descent_gram(\n",
      "C:\\Users\\Sushant\\anaconda3\\lib\\site-packages\\sklearn\\linear_model\\_coordinate_descent.py:633: UserWarning: Coordinate descent with alpha=0 may lead to unexpected results and is discouraged.\n",
      "  model = cd_fast.enet_coordinate_descent_gram(\n"
     ]
    },
    {
     "name": "stderr",
     "output_type": "stream",
     "text": [
      "C:\\Users\\Sushant\\anaconda3\\lib\\site-packages\\sklearn\\linear_model\\_coordinate_descent.py:633: ConvergenceWarning: Objective did not converge. You might want to increase the number of iterations. Duality gap: 1142.847713389121, tolerance: 4.846841737561287\n",
      "  model = cd_fast.enet_coordinate_descent_gram(\n",
      "C:\\Users\\Sushant\\anaconda3\\lib\\site-packages\\sklearn\\linear_model\\_coordinate_descent.py:633: UserWarning: Coordinate descent with alpha=0 may lead to unexpected results and is discouraged.\n",
      "  model = cd_fast.enet_coordinate_descent_gram(\n",
      "C:\\Users\\Sushant\\anaconda3\\lib\\site-packages\\sklearn\\linear_model\\_coordinate_descent.py:633: ConvergenceWarning: Objective did not converge. You might want to increase the number of iterations. Duality gap: 1177.5033624545686, tolerance: 4.639576483655909\n",
      "  model = cd_fast.enet_coordinate_descent_gram(\n"
     ]
    },
    {
     "data": {
      "text/plain": [
       "ElasticNetCV(alphas=array([ 0.        ,  0.52631579,  1.05263158,  1.57894737,  2.10526316,\n",
       "        2.63157895,  3.15789474,  3.68421053,  4.21052632,  4.73684211,\n",
       "        5.26315789,  5.78947368,  6.31578947,  6.84210526,  7.36842105,\n",
       "        7.89473684,  8.42105263,  8.94736842,  9.47368421, 10.        ]),\n",
       "             cv=10, l1_ratio=[0.1, 0.5, 0.7, 0.9, 0.95, 0.99, 1],\n",
       "             max_iter=10000)"
      ]
     },
     "execution_count": 10,
     "metadata": {},
     "output_type": "execute_result"
    }
   ],
   "source": [
    "# Initialize ElasticNetCV to find the best alpha and l1_ratio\n",
    "elastic_net_cv = ElasticNetCV(alphas=alphas, cv=10, max_iter=10000, l1_ratio=[.1, .5, .7, .9, .95, .99, 1])\n",
    "elastic_net_cv.fit(X_train, y_train)"
   ]
  },
  {
   "cell_type": "markdown",
   "id": "c4fdb9ae",
   "metadata": {},
   "source": [
    "Now let us calculate the best alpha using the .alpha parameter and the best l1 ratio."
   ]
  },
  {
   "cell_type": "code",
   "execution_count": 19,
   "id": "53e3fb49",
   "metadata": {},
   "outputs": [],
   "source": [
    "# retrieve the best alpha and l1_ratio\n",
    "best_alpha_enet = elastic_net_cv.alpha_\n",
    "best_l1_ratio = elastic_net_cv.l1_ratio_"
   ]
  },
  {
   "cell_type": "code",
   "execution_count": 20,
   "id": "9d8ca893",
   "metadata": {},
   "outputs": [
    {
     "data": {
      "text/plain": [
       "(0.1, 0.5263157894736842)"
      ]
     },
     "execution_count": 20,
     "metadata": {},
     "output_type": "execute_result"
    }
   ],
   "source": [
    "# print the l1_ratio and best_alpha value\n",
    "(best_l1_ratio, best_alpha_enet)"
   ]
  },
  {
   "cell_type": "markdown",
   "id": "a066eaf6",
   "metadata": {},
   "source": [
    "Now let us fit ElasticNet model with the best alpha and l1_ratio to the training data and find the r2 score for both train and test."
   ]
  },
  {
   "cell_type": "code",
   "execution_count": 13,
   "id": "3e50f87a",
   "metadata": {},
   "outputs": [
    {
     "data": {
      "text/plain": [
       "(0.9412833484776975, 0.8727794722404822)"
      ]
     },
     "execution_count": 13,
     "metadata": {},
     "output_type": "execute_result"
    }
   ],
   "source": [
    "# R-squared scores for the Ridge model\n",
    "r2_train_enet = elastic_net_cv.score(X_train, y_train)\n",
    "r2_test_enet = elastic_net_cv.score(X_test, y_test)\n",
    "\n",
    "r2_train_enet, r2_test_enet"
   ]
  },
  {
   "cell_type": "markdown",
   "id": "8e0e1941",
   "metadata": {},
   "source": [
    "With this, we have got the r-squared value for both the training and test sets. The performance is very similar to what we achieved with L2 regualrization. As a result, comparitively we can see that L1 regularization is the most effective technique in our case because of the smallest difference between the training and test sets."
   ]
  },
  {
   "cell_type": "markdown",
   "id": "7aec6e56",
   "metadata": {},
   "source": [
    "Lastly, let's check the coefficients of the elastic net model."
   ]
  },
  {
   "cell_type": "code",
   "execution_count": 24,
   "id": "2fc539b9",
   "metadata": {},
   "outputs": [
    {
     "data": {
      "text/plain": [
       "Wall_Area              0.299674\n",
       "Roof_Area              0.245787\n",
       "Window_Area            0.260984\n",
       "Overall_Height        -0.001212\n",
       "Outdoor_Temperature   -0.091724\n",
       "Humidity              -0.061354\n",
       "Noise_Feature_1       -0.123267\n",
       "Noise_Feature_2        0.019370\n",
       "Noise_Feature_3       -0.075433\n",
       "Noise_Feature_4        0.125379\n",
       "Noise_Feature_5        0.099198\n",
       "Noise_Feature_6        0.171870\n",
       "Noise_Feature_7       -0.000000\n",
       "Noise_Feature_8        0.533941\n",
       "Noise_Feature_9        0.000095\n",
       "Noise_Feature_10       0.000000\n",
       "Orientation_East       0.233718\n",
       "Orientation_North     -0.247003\n",
       "Orientation_South      0.439144\n",
       "Orientation_West      -0.425870\n",
       "Glazing_Type_Type_A    0.000000\n",
       "Glazing_Type_Type_B    0.000000\n",
       "Glazing_Type_Type_C   -0.077079\n",
       "dtype: float64"
      ]
     },
     "execution_count": 24,
     "metadata": {},
     "output_type": "execute_result"
    }
   ],
   "source": [
    "# fit the coefficients after elastic net regularization\n",
    "coefficients_after_enet = pd.Series(elastic_net_cv.coef_, index=X_train.columns)\n",
    "coefficients_after_enet"
   ]
  },
  {
   "cell_type": "markdown",
   "id": "82d9f637",
   "metadata": {},
   "source": [
    "As we can observe ealstic net has combined the specialties of L1 and L2 regualrization. It has reduced the coefficients of some features whereas completely reducing some coefficients to absolute zero. This is how Elatic Net is a hybrid solution."
   ]
  },
  {
   "cell_type": "code",
   "execution_count": null,
   "id": "73295d84",
   "metadata": {},
   "outputs": [],
   "source": []
  }
 ],
 "metadata": {
  "kernelspec": {
   "display_name": "Python 3 (ipykernel)",
   "language": "python",
   "name": "python3"
  },
  "language_info": {
   "codemirror_mode": {
    "name": "ipython",
    "version": 3
   },
   "file_extension": ".py",
   "mimetype": "text/x-python",
   "name": "python",
   "nbconvert_exporter": "python",
   "pygments_lexer": "ipython3",
   "version": "3.9.13"
  }
 },
 "nbformat": 4,
 "nbformat_minor": 5
}
