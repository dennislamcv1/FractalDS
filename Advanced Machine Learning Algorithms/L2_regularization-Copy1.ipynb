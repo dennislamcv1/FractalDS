{
 "cells": [
  {
   "cell_type": "markdown",
   "id": "e995ba77",
   "metadata": {},
   "source": [
    "The initial steps remain the same, where we import the necessary libraries, separate the dependent and independent variables, and split the dataset."
   ]
  },
  {
   "cell_type": "code",
   "execution_count": 155,
   "id": "3a56a20a",
   "metadata": {},
   "outputs": [],
   "source": [
    "# import the necessary libraries\n",
    "import os\n",
    "import pandas as pd\n",
    "import numpy as np\n",
    "import matplotlib.pyplot as plt\n",
    "from sklearn.model_selection import train_test_split\n",
    "from sklearn.linear_model import LinearRegression\n",
    "from sklearn.metrics import r2_score\n",
    "from sklearn.linear_model import RidgeCV, Ridge\n"
   ]
  },
  {
   "cell_type": "code",
   "execution_count": 156,
   "id": "282fa3cf",
   "metadata": {},
   "outputs": [],
   "source": [
    "# read the dataset\n",
    "df = pd.read_csv(\"Energy_Efficiency_Overfit_Dataset_Updated.csv\")"
   ]
  },
  {
   "cell_type": "code",
   "execution_count": 157,
   "id": "919fa39a",
   "metadata": {},
   "outputs": [],
   "source": [
    "# separate the dependent and independent variables\n",
    "X = df.drop('Energy_Efficiency_Rating', axis = 1)\n",
    "y = df['Energy_Efficiency_Rating']"
   ]
  },
  {
   "cell_type": "code",
   "execution_count": 158,
   "id": "a564aa42",
   "metadata": {},
   "outputs": [],
   "source": [
    "# split the data into train and test\n",
    "X_train, X_test, y_train, y_test = train_test_split(X, y, test_size=0.3, random_state=42)"
   ]
  },
  {
   "cell_type": "markdown",
   "id": "e18a4bde",
   "metadata": {},
   "source": [
    "<p style = 'color:green'><b>Run all the cells above before you begin</b><p>"
   ]
  },
  {
   "cell_type": "markdown",
   "id": "f27a12c5",
   "metadata": {},
   "source": [
    "# L2 Regularization on Original Dataset"
   ]
  },
  {
   "cell_type": "markdown",
   "id": "8cd66d88",
   "metadata": {},
   "source": [
    "Now, we know that l2 reduces the coefficients to a value close to zero. To check this we can compare the coefficient values that we get from standard linear regression and compare it with the coefficients we get after applying L2 regularization. Let's begin with fitting the linear regression on the original dataset and get the coefficient values for each feature."
   ]
  },
  {
   "cell_type": "code",
   "execution_count": 161,
   "id": "17653051",
   "metadata": {},
   "outputs": [
    {
     "data": {
      "text/plain": [
       "LinearRegression()"
      ]
     },
     "execution_count": 161,
     "metadata": {},
     "output_type": "execute_result"
    }
   ],
   "source": [
    "# fti the linear regression model\n",
    "linear_model = LinearRegression()\n",
    "linear_model.fit(X_train, y_train)"
   ]
  },
  {
   "cell_type": "code",
   "execution_count": 162,
   "id": "ed6e0dd6",
   "metadata": {},
   "outputs": [
    {
     "data": {
      "text/plain": [
       "Wall_Area              0.302253\n",
       "Roof_Area              0.241509\n",
       "Window_Area            0.259234\n",
       "Overall_Height        -0.103891\n",
       "Outdoor_Temperature   -0.080775\n",
       "Humidity              -0.066741\n",
       "Noise_Feature_1       -1.157413\n",
       "Noise_Feature_2        0.456279\n",
       "Noise_Feature_3       -1.231271\n",
       "Noise_Feature_4       -0.009997\n",
       "Noise_Feature_5        0.815266\n",
       "Noise_Feature_6        1.790095\n",
       "Noise_Feature_7       -0.289109\n",
       "Noise_Feature_8        4.026383\n",
       "Noise_Feature_9        0.855612\n",
       "Noise_Feature_10      -0.977680\n",
       "Orientation_East       0.919734\n",
       "Orientation_North     -0.817762\n",
       "Orientation_South      1.497093\n",
       "Orientation_West      -1.599065\n",
       "Glazing_Type_Type_A    0.264858\n",
       "Glazing_Type_Type_B    0.139014\n",
       "Glazing_Type_Type_C   -0.403872\n",
       "dtype: float64"
      ]
     },
     "execution_count": 162,
     "metadata": {},
     "output_type": "execute_result"
    }
   ],
   "source": [
    "# Get the coefficients of the features before L2 regularization\n",
    "coefficients_before_l2 = pd.Series(linear_model.coef_, index=X_train.columns)\n",
    "coefficients_before_l2"
   ]
  },
  {
   "cell_type": "markdown",
   "id": "bc61b0e2",
   "metadata": {},
   "source": [
    "Now, let us get the coefficients for ridge regularization. Just like we did for Lasso, we will first create an array of possible alpha values using numpy linspace, then we will construct the ridge_cv 10-fold cross validation models to get the model with the best value of alpha."
   ]
  },
  {
   "cell_type": "code",
   "execution_count": 173,
   "id": "ffe15f41",
   "metadata": {},
   "outputs": [
    {
     "data": {
      "text/plain": [
       "array([ 0.        ,  0.52631579,  1.05263158,  1.57894737,  2.10526316,\n",
       "        2.63157895,  3.15789474,  3.68421053,  4.21052632,  4.73684211,\n",
       "        5.26315789,  5.78947368,  6.31578947,  6.84210526,  7.36842105,\n",
       "        7.89473684,  8.42105263,  8.94736842,  9.47368421, 10.        ])"
      ]
     },
     "execution_count": 173,
     "metadata": {},
     "output_type": "execute_result"
    }
   ],
   "source": [
    "# Create an array with 20 numbers equally spaced between 0 to 10\n",
    "alphas = np.linspace(0, 10, 20)\n",
    "alphas"
   ]
  },
  {
   "cell_type": "code",
   "execution_count": 174,
   "id": "c0b58ecb",
   "metadata": {
    "scrolled": true
   },
   "outputs": [
    {
     "name": "stderr",
     "output_type": "stream",
     "text": [
      "C:\\Users\\Sushant\\anaconda3\\lib\\site-packages\\sklearn\\linear_model\\_ridge.py:157: LinAlgWarning: Ill-conditioned matrix (rcond=2.6113e-20): result may not be accurate.\n",
      "  return linalg.solve(A, Xy, sym_pos=True, overwrite_a=True).T\n",
      "C:\\Users\\Sushant\\anaconda3\\lib\\site-packages\\sklearn\\linear_model\\_ridge.py:157: LinAlgWarning: Ill-conditioned matrix (rcond=2.17122e-20): result may not be accurate.\n",
      "  return linalg.solve(A, Xy, sym_pos=True, overwrite_a=True).T\n",
      "C:\\Users\\Sushant\\anaconda3\\lib\\site-packages\\sklearn\\linear_model\\_ridge.py:157: LinAlgWarning: Ill-conditioned matrix (rcond=6.60474e-20): result may not be accurate.\n",
      "  return linalg.solve(A, Xy, sym_pos=True, overwrite_a=True).T\n",
      "C:\\Users\\Sushant\\anaconda3\\lib\\site-packages\\sklearn\\linear_model\\_ridge.py:157: LinAlgWarning: Ill-conditioned matrix (rcond=2.41638e-20): result may not be accurate.\n",
      "  return linalg.solve(A, Xy, sym_pos=True, overwrite_a=True).T\n",
      "C:\\Users\\Sushant\\anaconda3\\lib\\site-packages\\sklearn\\linear_model\\_ridge.py:157: LinAlgWarning: Ill-conditioned matrix (rcond=5.41323e-20): result may not be accurate.\n",
      "  return linalg.solve(A, Xy, sym_pos=True, overwrite_a=True).T\n"
     ]
    },
    {
     "data": {
      "text/plain": [
       "RidgeCV(alphas=array([ 0.        ,  0.52631579,  1.05263158,  1.57894737,  2.10526316,\n",
       "        2.63157895,  3.15789474,  3.68421053,  4.21052632,  4.73684211,\n",
       "        5.26315789,  5.78947368,  6.31578947,  6.84210526,  7.36842105,\n",
       "        7.89473684,  8.42105263,  8.94736842,  9.47368421, 10.        ]),\n",
       "        cv=10, scoring='r2')"
      ]
     },
     "execution_count": 174,
     "metadata": {},
     "output_type": "execute_result"
    }
   ],
   "source": [
    "# Initialize RidgeCV to find the best alpha for L2 regularization\n",
    "ridge_cv = RidgeCV(alphas=alphas, cv=10, scoring='r2')\n",
    "ridge_cv.fit(X_train, y_train)"
   ]
  },
  {
   "cell_type": "markdown",
   "id": "02ce9b9f",
   "metadata": {},
   "source": [
    "We can see the possible alpha values above. Lets get the best apha using the .alpha function."
   ]
  },
  {
   "cell_type": "code",
   "execution_count": 175,
   "id": "1250f40a",
   "metadata": {},
   "outputs": [
    {
     "data": {
      "text/plain": [
       "10.0"
      ]
     },
     "execution_count": 175,
     "metadata": {},
     "output_type": "execute_result"
    }
   ],
   "source": [
    "# Find the best alpha value\n",
    "best_alpha_ridge = ridge_cv.alpha_\n",
    "best_alpha_ridge"
   ]
  },
  {
   "cell_type": "markdown",
   "id": "258cfa4d",
   "metadata": {},
   "source": [
    "Since we got an alpha which was at the end of the list of alphas that we were trying, let's re-build a model by expanding the range of alphas to vary from 10 to 30. "
   ]
  },
  {
   "cell_type": "code",
   "execution_count": 176,
   "id": "a079198f",
   "metadata": {},
   "outputs": [
    {
     "data": {
      "text/plain": [
       "24.736842105263158"
      ]
     },
     "execution_count": 176,
     "metadata": {},
     "output_type": "execute_result"
    }
   ],
   "source": [
    "# Create an array with 20 numbers equally spaced between 0 to 10\n",
    "alphas = np.linspace(10, 30, 20)\n",
    "# Initialize RidgeCV to find the best alpha for L2 regularization\n",
    "ridge_cv = RidgeCV(alphas=alphas, cv=10, scoring='r2')\n",
    "ridge_cv.fit(X_train, y_train)\n",
    "ridge_cv.alpha_"
   ]
  },
  {
   "cell_type": "markdown",
   "id": "3395880f",
   "metadata": {},
   "source": [
    "Now, we can observe that the best aplha is 24.7, which is also in the middle of the range that we specified. The model with the best alpha is automatically saved in the Ridge_CV model instance.Let's use it to get the coefficients of the model."
   ]
  },
  {
   "cell_type": "code",
   "execution_count": 177,
   "id": "a0428da2",
   "metadata": {},
   "outputs": [],
   "source": [
    "# fit the coefficients after L2 regularization\n",
    "coefficients_after_l2 = pd.Series(ridge_cv.coef_, index=X_train.columns)"
   ]
  },
  {
   "cell_type": "code",
   "execution_count": 179,
   "id": "977e6e5a",
   "metadata": {
    "scrolled": true
   },
   "outputs": [
    {
     "data": {
      "text/html": [
       "<div>\n",
       "<style scoped>\n",
       "    .dataframe tbody tr th:only-of-type {\n",
       "        vertical-align: middle;\n",
       "    }\n",
       "\n",
       "    .dataframe tbody tr th {\n",
       "        vertical-align: top;\n",
       "    }\n",
       "\n",
       "    .dataframe thead th {\n",
       "        text-align: right;\n",
       "    }\n",
       "</style>\n",
       "<table border=\"1\" class=\"dataframe\">\n",
       "  <thead>\n",
       "    <tr style=\"text-align: right;\">\n",
       "      <th></th>\n",
       "      <th>Standard Regularization</th>\n",
       "      <th>After L2 Regularization</th>\n",
       "    </tr>\n",
       "  </thead>\n",
       "  <tbody>\n",
       "    <tr>\n",
       "      <th>Wall_Area</th>\n",
       "      <td>0.302253</td>\n",
       "      <td>0.300379</td>\n",
       "    </tr>\n",
       "    <tr>\n",
       "      <th>Roof_Area</th>\n",
       "      <td>0.241509</td>\n",
       "      <td>0.244928</td>\n",
       "    </tr>\n",
       "    <tr>\n",
       "      <th>Window_Area</th>\n",
       "      <td>0.259234</td>\n",
       "      <td>0.259251</td>\n",
       "    </tr>\n",
       "    <tr>\n",
       "      <th>Overall_Height</th>\n",
       "      <td>-0.103891</td>\n",
       "      <td>-0.059810</td>\n",
       "    </tr>\n",
       "    <tr>\n",
       "      <th>Outdoor_Temperature</th>\n",
       "      <td>-0.080775</td>\n",
       "      <td>-0.090001</td>\n",
       "    </tr>\n",
       "    <tr>\n",
       "      <th>Humidity</th>\n",
       "      <td>-0.066741</td>\n",
       "      <td>-0.066190</td>\n",
       "    </tr>\n",
       "    <tr>\n",
       "      <th>Noise_Feature_1</th>\n",
       "      <td>-1.157413</td>\n",
       "      <td>-0.426444</td>\n",
       "    </tr>\n",
       "    <tr>\n",
       "      <th>Noise_Feature_2</th>\n",
       "      <td>0.456279</td>\n",
       "      <td>0.211002</td>\n",
       "    </tr>\n",
       "    <tr>\n",
       "      <th>Noise_Feature_3</th>\n",
       "      <td>-1.231271</td>\n",
       "      <td>-0.358951</td>\n",
       "    </tr>\n",
       "    <tr>\n",
       "      <th>Noise_Feature_4</th>\n",
       "      <td>-0.009997</td>\n",
       "      <td>0.359567</td>\n",
       "    </tr>\n",
       "    <tr>\n",
       "      <th>Noise_Feature_5</th>\n",
       "      <td>0.815266</td>\n",
       "      <td>0.364230</td>\n",
       "    </tr>\n",
       "    <tr>\n",
       "      <th>Noise_Feature_6</th>\n",
       "      <td>1.790095</td>\n",
       "      <td>0.549308</td>\n",
       "    </tr>\n",
       "    <tr>\n",
       "      <th>Noise_Feature_7</th>\n",
       "      <td>-0.289109</td>\n",
       "      <td>-0.144183</td>\n",
       "    </tr>\n",
       "    <tr>\n",
       "      <th>Noise_Feature_8</th>\n",
       "      <td>4.026383</td>\n",
       "      <td>1.313388</td>\n",
       "    </tr>\n",
       "    <tr>\n",
       "      <th>Noise_Feature_9</th>\n",
       "      <td>0.855612</td>\n",
       "      <td>0.216612</td>\n",
       "    </tr>\n",
       "    <tr>\n",
       "      <th>Noise_Feature_10</th>\n",
       "      <td>-0.977680</td>\n",
       "      <td>-0.091581</td>\n",
       "    </tr>\n",
       "    <tr>\n",
       "      <th>Orientation_East</th>\n",
       "      <td>0.919734</td>\n",
       "      <td>0.512368</td>\n",
       "    </tr>\n",
       "    <tr>\n",
       "      <th>Orientation_North</th>\n",
       "      <td>-0.817762</td>\n",
       "      <td>-0.532346</td>\n",
       "    </tr>\n",
       "    <tr>\n",
       "      <th>Orientation_South</th>\n",
       "      <td>1.497093</td>\n",
       "      <td>0.869266</td>\n",
       "    </tr>\n",
       "    <tr>\n",
       "      <th>Orientation_West</th>\n",
       "      <td>-1.599065</td>\n",
       "      <td>-0.849289</td>\n",
       "    </tr>\n",
       "    <tr>\n",
       "      <th>Glazing_Type_Type_A</th>\n",
       "      <td>0.264858</td>\n",
       "      <td>0.116924</td>\n",
       "    </tr>\n",
       "    <tr>\n",
       "      <th>Glazing_Type_Type_B</th>\n",
       "      <td>0.139014</td>\n",
       "      <td>0.084735</td>\n",
       "    </tr>\n",
       "    <tr>\n",
       "      <th>Glazing_Type_Type_C</th>\n",
       "      <td>-0.403872</td>\n",
       "      <td>-0.201659</td>\n",
       "    </tr>\n",
       "  </tbody>\n",
       "</table>\n",
       "</div>"
      ],
      "text/plain": [
       "                     Standard Regularization  After L2 Regularization\n",
       "Wall_Area                           0.302253                 0.300379\n",
       "Roof_Area                           0.241509                 0.244928\n",
       "Window_Area                         0.259234                 0.259251\n",
       "Overall_Height                     -0.103891                -0.059810\n",
       "Outdoor_Temperature                -0.080775                -0.090001\n",
       "Humidity                           -0.066741                -0.066190\n",
       "Noise_Feature_1                    -1.157413                -0.426444\n",
       "Noise_Feature_2                     0.456279                 0.211002\n",
       "Noise_Feature_3                    -1.231271                -0.358951\n",
       "Noise_Feature_4                    -0.009997                 0.359567\n",
       "Noise_Feature_5                     0.815266                 0.364230\n",
       "Noise_Feature_6                     1.790095                 0.549308\n",
       "Noise_Feature_7                    -0.289109                -0.144183\n",
       "Noise_Feature_8                     4.026383                 1.313388\n",
       "Noise_Feature_9                     0.855612                 0.216612\n",
       "Noise_Feature_10                   -0.977680                -0.091581\n",
       "Orientation_East                    0.919734                 0.512368\n",
       "Orientation_North                  -0.817762                -0.532346\n",
       "Orientation_South                   1.497093                 0.869266\n",
       "Orientation_West                   -1.599065                -0.849289\n",
       "Glazing_Type_Type_A                 0.264858                 0.116924\n",
       "Glazing_Type_Type_B                 0.139014                 0.084735\n",
       "Glazing_Type_Type_C                -0.403872                -0.201659"
      ]
     },
     "execution_count": 179,
     "metadata": {},
     "output_type": "execute_result"
    }
   ],
   "source": [
    "# Compare the coefficients before and after L2 regularization\n",
    "coefficients_comparison = pd.DataFrame({\n",
    "    'Standard Regularization': coefficients_before_l2,\n",
    "    'After L2 Regularization': coefficients_after_l2\n",
    "})\n",
    "\n",
    "coefficients_comparison"
   ]
  },
  {
   "cell_type": "markdown",
   "id": "bf322458",
   "metadata": {},
   "source": [
    "As you can observe almost all the coefficients have decreased in magnitude after applying L2 regularization, which is consistent with the expected behavior of Ridge regression. It penalizes the size of coefficients, thus shrinking them towards zero but not setting them to zero.\n",
    "The coefficients associated with some Noise_Feature variables have shown significant shrinkage for example Noise_feature 6 and 8. This suggests that these may have been contributing to overfitting in the __non-regularized model__.\n",
    "Similarly, the coefficients of Orientation and Glazing type features have also reduced.\n"
   ]
  },
  {
   "cell_type": "markdown",
   "id": "a54130bc",
   "metadata": {},
   "source": [
    "Now, comes the last step, where we need to Calculate the R-squared score for both the training and testing sets to evaluate the performance of the model  with ridge regularization."
   ]
  },
  {
   "cell_type": "code",
   "execution_count": 181,
   "id": "7cfd278e",
   "metadata": {},
   "outputs": [
    {
     "data": {
      "text/plain": [
       "(0.9447358107549229, 0.8721256088178196)"
      ]
     },
     "execution_count": 181,
     "metadata": {},
     "output_type": "execute_result"
    }
   ],
   "source": [
    "# R-squared scores for the Ridge model\n",
    "r2_train_ridge = ridge_cv.score(X_train, y_train)\n",
    "r2_test_ridge = ridge_cv.score(X_test, y_test)\n",
    "\n",
    "\n",
    "r2_train_ridge, r2_test_ridge"
   ]
  },
  {
   "cell_type": "markdown",
   "id": "3726b710",
   "metadata": {},
   "source": [
    "Here we can see that the Ridge model achieved an R-squared value of about 0.94 on the training set, which is slightly higher than 0.93 achieved with L1 regularization. When we step into the testing ground, the Ridge model presented an R-squared value of approximately 0.87,which is the similar to L1 model. This is a slightly more overfitting model compare to L1 regulalrization.\n",
    "\n"
   ]
  },
  {
   "cell_type": "code",
   "execution_count": null,
   "id": "1685c004",
   "metadata": {},
   "outputs": [],
   "source": []
  }
 ],
 "metadata": {
  "kernelspec": {
   "display_name": "Python 3 (ipykernel)",
   "language": "python",
   "name": "python3"
  },
  "language_info": {
   "codemirror_mode": {
    "name": "ipython",
    "version": 3
   },
   "file_extension": ".py",
   "mimetype": "text/x-python",
   "name": "python",
   "nbconvert_exporter": "python",
   "pygments_lexer": "ipython3",
   "version": "3.9.13"
  }
 },
 "nbformat": 4,
 "nbformat_minor": 5
}
