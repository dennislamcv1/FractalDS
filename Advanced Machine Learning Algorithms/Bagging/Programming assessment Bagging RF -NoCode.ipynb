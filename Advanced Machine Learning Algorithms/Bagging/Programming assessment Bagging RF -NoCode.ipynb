{
 "cells": [
  {
   "cell_type": "markdown",
   "id": "03eb21c8",
   "metadata": {
    "deletable": false,
    "editable": false,
    "nbgrader": {
     "cell_type": "markdown",
     "checksum": "afe868b1341cd673f534d1673924d831",
     "grade": false,
     "grade_id": "cell-de80a1cbf4e7d2fa",
     "locked": true,
     "schema_version": 3,
     "solution": false,
     "task": false
    }
   },
   "source": [
    "# PROBLEM STATEMENT \n",
    "Anova Insurance, a global health insurance company, seeks to optimize its insurance policy premium pricing based on the health status of applicants. Understanding an applicant's health condition is crucial for two key decisions:\n",
    "- Determining eligibility for health insurance coverage.\n",
    "- Deciding on premium rates, particularly if the applicant's health indicates higher risks.\n",
    "\n",
    "Your objective is to Develop a predictive model that utilizes health data to classify individuals as 'healthy' or 'unhealthy'. This classification will assist in making informed decisions about insurance policy premium pricing."
   ]
  },
  {
   "cell_type": "markdown",
   "id": "59dd839b",
   "metadata": {
    "deletable": false,
    "editable": false,
    "nbgrader": {
     "cell_type": "markdown",
     "checksum": "71365719475723c2f00213eb19a250d3",
     "grade": false,
     "grade_id": "cell-25b6b08240bedb1a",
     "locked": true,
     "schema_version": 3,
     "solution": false,
     "task": false
    }
   },
   "source": [
    "# OVERVIEW \n",
    "\n",
    "The dataset contains 9549 rows and 20 columns (original data without preprocessing), the no. of columns becomes 23 post preprocessing because of encoding, the 23 columns includes both numerical and categorical variables. Here is the data dictionary.\n",
    "\n",
    "- Age: Represents the age of the individual. Negative values seem to be present, which might indicate data entry errors or a specific encoding used for certain age groups.\n",
    "\n",
    "- BMI (Body Mass Index): A measure of body fat based on height and weight. Typically, a BMI between 18.5 and 24.9 is considered normal.\n",
    "\n",
    "- Blood_Pressure: Represents systolic blood pressure. Normal blood pressure is usually around 120/80 mmHg.\n",
    "\n",
    "- Cholesterol: This is the cholesterol level in mg/dL. Desirable levels are usually below 200 mg/dL.\n",
    "\n",
    "- Glucose_Level: Indicates blood glucose levels. It might be fasting glucose levels, with normal levels usually ranging from 70 to 99 mg/dL.\n",
    "\n",
    "- Heart_Rate: The number of heartbeats per minute. Normal resting heart rate for adults ranges from 60 to 100 beats per minute.\n",
    "\n",
    "- Sleep_Hours: The average number of hours the individual sleeps per day.\n",
    "\n",
    "- Exercise_Hours: The average number of hours the individual exercises per day. \n",
    "\n",
    "- Water_Intake: The average daily water intake in liters.\n",
    "\n",
    "- Stress_Level: A numerical representation of stress level.\n",
    "\n",
    "- Target: This is a binary outcome variable, with '1' indicating 'Unhealthy' and '0' indicating 'Healthy'.\n",
    "\n",
    "- Smoking: A categorical variable indicating smoking status. Contains values - (0,1,2) which specify the regularity of smoking with 0 being no smoking and 2 being regular smmoking.\n",
    "\n",
    "- Alcohol: A categorical variable indicating alcohol consumption status. Contains values - (0,1,2) which specify the regularity of alcohol consumption with 0 being no consumption quality and 2 being regular consumption.\n",
    "\n",
    "- Diet: A categorical variable indcating the quality of dietary habits. Contains values - (0,1,2) which specify the quality of the habit with 0 being poor diet quality and 2 being good quality.\n",
    "\n",
    "- MentalHealth: Possibly a measure of mental health status. Contains values - (0,1,2) which specify the severity of the mental health with 0 being fine and 2 being highly severe\n",
    "\n",
    "- PhysicalActivity: A categorical variable indicating levels of physical activity. Contains values - (0,1,2) which specify the instensity of the medical history with 0 being no Physical Activity and 2 being regularly active.\n",
    "\n",
    "- MedicalHistory: Indicates the presence of medical conditions or history. Contains values - (0,1,2) which specify the severity of the medical history with 0 being nothing and 2 being highly severe.\n",
    "\n",
    "- Allergies: A categorical variable indicating allergy status. Contains values - (0,1,2) which specify the severity of the allergies with 0 being nothing and 2 being highly severe.\n",
    "\n",
    "- Diet_Type: Categorical variable indicating the type of diet an individual follows. Contains values(Vegetarian, Non-Vegetarian, Vegan). \n",
    "- (this column has been encoded into three different columns during the preprocessing stage)\n",
    " - Diet_Type_Vegan,Diet_Type_Vegetarian\n",
    "\n",
    "- Blood_Group: Indicates the blood group of the individual Contains values (A, B, AB, O), this column values are encoded too .\n",
    "\n"
   ]
  },
  {
   "cell_type": "markdown",
   "id": "377bc0d5",
   "metadata": {
    "deletable": false,
    "editable": false,
    "nbgrader": {
     "cell_type": "markdown",
     "checksum": "389ed7952d832fb43ce020cb63431274",
     "grade": false,
     "grade_id": "cell-894bc33bd6fd00ca",
     "locked": true,
     "schema_version": 3,
     "solution": false,
     "task": false
    }
   },
   "source": [
    "It is clear from the above description that the predictor variable is the 'Target' column.\n",
    "\n",
    "Let us begin with importing the necessary libraries. And read the data."
   ]
  },
  {
   "cell_type": "markdown",
   "id": "a7f8b082",
   "metadata": {
    "deletable": false,
    "editable": false,
    "nbgrader": {
     "cell_type": "markdown",
     "checksum": "1fc770e0c4f88343738c562133ff85ad",
     "grade": false,
     "grade_id": "cell-2aa5735759490e58",
     "locked": true,
     "schema_version": 3,
     "solution": false,
     "task": false
    }
   },
   "source": [
    "## ------------------------------------------------------------------------------------"
   ]
  },
  {
   "cell_type": "markdown",
   "id": "e0c916c4",
   "metadata": {
    "deletable": false,
    "editable": false,
    "nbgrader": {
     "cell_type": "markdown",
     "checksum": "d12de18dee1cd653bdc5fad43ab3e6ad",
     "grade": false,
     "grade_id": "cell-5e6b072cd0ad5a11",
     "locked": true,
     "schema_version": 3,
     "solution": false,
     "task": false
    }
   },
   "source": [
    "## Guidelines to follow in this notebook \n",
    "- The name of the dataframe should be df \n",
    "- Keep the seed value 42\n",
    "- Names of training and testing variables should be X_train, X_test, y_train, y_test\n",
    "- Keep the name of model instance as \"model\", e.g. model = DecisionTreeClassifer()\n",
    "- Keep the predictions on training and testing data in a variable named y_train_pred and y_test_pred respectively."
   ]
  },
  {
   "cell_type": "markdown",
   "id": "6b6192c7",
   "metadata": {
    "deletable": false,
    "editable": false,
    "nbgrader": {
     "cell_type": "markdown",
     "checksum": "163f2588c1e99aa1b5c84ced73ccd2cf",
     "grade": false,
     "grade_id": "cell-7cbd0b0cbfcebefc",
     "locked": true,
     "schema_version": 3,
     "solution": false,
     "task": false
    }
   },
   "source": [
    "## ---------------------------------------------------------------------------------"
   ]
  },
  {
   "cell_type": "code",
   "execution_count": null,
   "id": "023ea967",
   "metadata": {
    "deletable": false,
    "editable": false,
    "nbgrader": {
     "cell_type": "code",
     "checksum": "cef89191816553a534a21e463e4c38e6",
     "grade": false,
     "grade_id": "cell-f7f307c2998261b1",
     "locked": true,
     "schema_version": 3,
     "solution": false,
     "task": false
    }
   },
   "outputs": [],
   "source": [
    "# import necessary libraries \n",
    "import pandas as pd\n",
    "\n",
    "from sklearn.model_selection import train_test_split\n",
    "from sklearn.tree import DecisionTreeClassifier\n",
    "from sklearn.ensemble import BaggingClassifier\n",
    "\n",
    "from sklearn.ensemble import RandomForestClassifier\n",
    "from sklearn.metrics import f1_score\n",
    "\n",
    "from collections import OrderedDict\n",
    "from sklearn.datasets import make_classification\n",
    "from sklearn.ensemble import RandomForestClassifier\n",
    "import matplotlib.pyplot as plt\n",
    " "
   ]
  },
  {
   "cell_type": "code",
   "execution_count": null,
   "id": "0f68fceb",
   "metadata": {
    "deletable": false,
    "editable": false,
    "nbgrader": {
     "cell_type": "code",
     "checksum": "12be9b4df03464ed0de16a0f3b54e355",
     "grade": false,
     "grade_id": "cell-991fd3ebbf325f25",
     "locked": true,
     "schema_version": 3,
     "solution": false,
     "task": false
    }
   },
   "outputs": [],
   "source": [
    "\n",
    "# Load the dataset\n",
    "df = pd.read_csv('Healthcare_Dataset_Preprocessednew.csv')\n",
    "df.head()"
   ]
  },
  {
   "cell_type": "code",
   "execution_count": null,
   "id": "0ea84c44",
   "metadata": {
    "deletable": false,
    "editable": false,
    "nbgrader": {
     "cell_type": "code",
     "checksum": "a4e2d79533fd6714ce6a1249c033ce60",
     "grade": false,
     "grade_id": "cell-4c90e3232975a8d9",
     "locked": true,
     "schema_version": 3,
     "solution": false,
     "task": false
    }
   },
   "outputs": [],
   "source": [
    "#shape of data\n",
    "df.shape"
   ]
  },
  {
   "cell_type": "code",
   "execution_count": null,
   "id": "f32948b2",
   "metadata": {
    "deletable": false,
    "editable": false,
    "nbgrader": {
     "cell_type": "code",
     "checksum": "f6f516ef77e13525fc4582ea62d012fb",
     "grade": false,
     "grade_id": "cell-22d74d58b6d05085",
     "locked": true,
     "schema_version": 3,
     "solution": false,
     "task": false
    }
   },
   "outputs": [],
   "source": [
    "#names of all columns \n",
    "df.columns"
   ]
  },
  {
   "cell_type": "markdown",
   "id": "62cd1407",
   "metadata": {
    "deletable": false,
    "editable": false,
    "nbgrader": {
     "cell_type": "markdown",
     "checksum": "d3a600ece322a915a043d0f15c20faa4",
     "grade": false,
     "grade_id": "cell-2eeabcc9a8b89303",
     "locked": true,
     "schema_version": 3,
     "solution": false,
     "task": false
    }
   },
   "source": [
    "# Separate the indpendent features in the dataframe 'X' and  the target in a variable 'y '\n"
   ]
  },
  {
   "cell_type": "code",
   "execution_count": null,
   "id": "64b9c8be",
   "metadata": {
    "deletable": false,
    "nbgrader": {
     "cell_type": "code",
     "checksum": "8d38ac26c16c7bc402ef28ee85ac19e4",
     "grade": false,
     "grade_id": "cell-39235095ea5d27b5",
     "locked": false,
     "schema_version": 3,
     "solution": true,
     "task": false
    }
   },
   "outputs": [],
   "source": [
    "# Write your code below\n",
    "# your code here\n",
    "raise NotImplementedError"
   ]
  },
  {
   "cell_type": "markdown",
   "id": "46e7e456",
   "metadata": {
    "deletable": false,
    "editable": false,
    "nbgrader": {
     "cell_type": "markdown",
     "checksum": "ec821f102a5799597db57a497637652e",
     "grade": false,
     "grade_id": "cell-0d4109f385ed4069",
     "locked": true,
     "schema_version": 3,
     "solution": false,
     "task": false
    }
   },
   "source": [
    "Check the shape of the dataframes X and y"
   ]
  },
  {
   "cell_type": "code",
   "execution_count": null,
   "id": "f152924d",
   "metadata": {
    "deletable": false,
    "editable": false,
    "nbgrader": {
     "cell_type": "code",
     "checksum": "4b4a84d14369e72b2e80a608a3580ec5",
     "grade": true,
     "grade_id": "cell-d3d3d7fa647fc772",
     "locked": true,
     "points": 2,
     "schema_version": 3,
     "solution": false,
     "task": false
    }
   },
   "outputs": [],
   "source": []
  },
  {
   "cell_type": "markdown",
   "id": "a0a2f57c",
   "metadata": {
    "deletable": false,
    "editable": false,
    "nbgrader": {
     "cell_type": "markdown",
     "checksum": "3e8eca60cffe90e1a277711ff568b1d5",
     "grade": false,
     "grade_id": "cell-af22ae2a8d9a3bd8",
     "locked": true,
     "schema_version": 3,
     "solution": false,
     "task": false
    }
   },
   "source": [
    "# Splitting Dataset into Train and Test Sets\n",
    "\n",
    "This step is a standard procedure in machine learning for preparing data before training a model. It ensures that there is a separate dataset for evaluating the model's performance, which helps in assessing how well the model will perform on unseen data."
   ]
  },
  {
   "cell_type": "code",
   "execution_count": null,
   "id": "3fe81476",
   "metadata": {
    "deletable": false,
    "nbgrader": {
     "cell_type": "code",
     "checksum": "6379202ff82beeddc152b21d26c17b40",
     "grade": false,
     "grade_id": "cell-b8a56c88fd7416dc",
     "locked": false,
     "schema_version": 3,
     "solution": true,
     "task": false
    }
   },
   "outputs": [],
   "source": [
    "# Split data into training and test with test size 25% with seed/random state 42.\n",
    "\n",
    "# your code here\n",
    "raise NotImplementedError"
   ]
  },
  {
   "cell_type": "code",
   "execution_count": null,
   "id": "c9f3298e",
   "metadata": {
    "deletable": false,
    "editable": false,
    "nbgrader": {
     "cell_type": "code",
     "checksum": "5090bb40fdf2107ea282ddd3272c36c9",
     "grade": true,
     "grade_id": "cell-031a03a299580546",
     "locked": true,
     "points": 2,
     "schema_version": 3,
     "solution": false,
     "task": false
    }
   },
   "outputs": [],
   "source": []
  },
  {
   "cell_type": "markdown",
   "id": "e1bd2e44",
   "metadata": {
    "deletable": false,
    "editable": false,
    "nbgrader": {
     "cell_type": "markdown",
     "checksum": "d03b8524ae9c8e2617e4b2cec27bd3d0",
     "grade": false,
     "grade_id": "cell-d90b9f0ebc8a532c",
     "locked": true,
     "schema_version": 3,
     "solution": false,
     "task": false
    }
   },
   "source": [
    "# Train a simple Decision tree classifer \n",
    "The first step is to train the model using  DecisionTreeClassifier and the name the instance as \"model\""
   ]
  },
  {
   "cell_type": "code",
   "execution_count": null,
   "id": "39a38862",
   "metadata": {
    "deletable": false,
    "nbgrader": {
     "cell_type": "code",
     "checksum": "4ee489519132eedd80b643efca25fc7e",
     "grade": false,
     "grade_id": "cell-a2fd95ae524ed384",
     "locked": false,
     "schema_version": 3,
     "solution": true,
     "task": false
    }
   },
   "outputs": [],
   "source": [
    "#keeping the seed factor 42 in all the classifiers built keeping the default parameters\n",
    "# your code here\n",
    "raise NotImplementedError\n",
    "\n",
    "y_pred_train = model.predict(X_train)\n",
    "y_pred_test = model.predict(X_test)"
   ]
  },
  {
   "cell_type": "markdown",
   "id": "bbd75ed2",
   "metadata": {
    "deletable": false,
    "editable": false,
    "nbgrader": {
     "cell_type": "markdown",
     "checksum": "ef0dfaaa805d934e2d2d2c399c295216",
     "grade": false,
     "grade_id": "cell-79b5877b4a9cb505",
     "locked": true,
     "schema_version": 3,
     "solution": false,
     "task": false
    }
   },
   "source": [
    "Calculate f1 score for evaluating the performance of the model "
   ]
  },
  {
   "cell_type": "code",
   "execution_count": null,
   "id": "23c98fd1",
   "metadata": {
    "deletable": false,
    "editable": false,
    "nbgrader": {
     "cell_type": "code",
     "checksum": "be7cbea186783176d210bcb0e011e2e5",
     "grade": false,
     "grade_id": "cell-5bc1679a42df0e9c",
     "locked": true,
     "schema_version": 3,
     "solution": false,
     "task": false
    }
   },
   "outputs": [],
   "source": [
    "f1 = f1_score(y_train, y_pred_train)\n",
    "print(f\"F1 Score on Train: {round(f1, 2)}\")\n",
    "\n",
    "f1 = f1_score(y_test, y_pred_test)\n",
    "print(f\"F1 Score on Test: {round(f1, 2)}\")"
   ]
  },
  {
   "cell_type": "markdown",
   "id": "28822d6e",
   "metadata": {
    "deletable": false,
    "editable": false,
    "nbgrader": {
     "cell_type": "markdown",
     "checksum": "68d5efa06e44c79f90cad62c03330a68",
     "grade": false,
     "grade_id": "cell-40de3d083050ef57",
     "locked": true,
     "schema_version": 3,
     "solution": false,
     "task": false
    }
   },
   "source": [
    "# Train Decision Tree with depth and leaf samples stated. \n",
    "Earlier a decision tree model with default parameters was created, here we are going to tune hyperparameters and train the model using a different Decision Tree with instance name as \"model\""
   ]
  },
  {
   "cell_type": "code",
   "execution_count": null,
   "id": "e91d1a90",
   "metadata": {
    "deletable": false,
    "nbgrader": {
     "cell_type": "code",
     "checksum": "a3f5ffe3e1d49ce502cb76412be2416e",
     "grade": false,
     "grade_id": "cell-8ed64e0e77c12a1d",
     "locked": false,
     "schema_version": 3,
     "solution": true,
     "task": false
    }
   },
   "outputs": [],
   "source": [
    "# make a decision tree Classifer with depth 20, leaf samples 10\n",
    "# your code here\n",
    "raise NotImplementedError"
   ]
  },
  {
   "cell_type": "code",
   "execution_count": null,
   "id": "d3aef416",
   "metadata": {
    "deletable": false,
    "editable": false,
    "nbgrader": {
     "cell_type": "code",
     "checksum": "111c5fed76dec231136a69322ef254af",
     "grade": true,
     "grade_id": "cell-6d2209d1c6f5439c",
     "locked": true,
     "points": 3,
     "schema_version": 3,
     "solution": false,
     "task": false
    }
   },
   "outputs": [],
   "source": [
    "## Begin hidden test\n",
    "assert model.max_depth == 20, \"Max_depth is not set to 20\"\n",
    "assert model.min_samples_leaf == 10, \"Max_depth is not set to 20\"\n",
    "## End hidden test"
   ]
  },
  {
   "cell_type": "markdown",
   "id": "b29291a7",
   "metadata": {
    "deletable": false,
    "editable": false,
    "nbgrader": {
     "cell_type": "markdown",
     "checksum": "2b2e2ec53dd95e9cffb2d3b00e15a3a2",
     "grade": false,
     "grade_id": "cell-792589b8f000c5f9",
     "locked": true,
     "schema_version": 3,
     "solution": false,
     "task": false
    }
   },
   "source": [
    "## Make Predictions on training and testing data"
   ]
  },
  {
   "cell_type": "code",
   "execution_count": null,
   "id": "c8b59f75",
   "metadata": {
    "deletable": false,
    "nbgrader": {
     "cell_type": "code",
     "checksum": "a5573dfd4a0651df02807f961e263b44",
     "grade": false,
     "grade_id": "cell-25ecac9f22fbe678",
     "locked": false,
     "schema_version": 3,
     "solution": true,
     "task": false
    }
   },
   "outputs": [],
   "source": [
    "#prediction on train and test data\n",
    "# your code here\n",
    "raise NotImplementedError"
   ]
  },
  {
   "cell_type": "markdown",
   "id": "85d82ebe",
   "metadata": {
    "deletable": false,
    "editable": false,
    "nbgrader": {
     "cell_type": "markdown",
     "checksum": "ed09bfe32619cf80c77aa20088c5ca89",
     "grade": false,
     "grade_id": "cell-1ead73a3fb973b84",
     "locked": true,
     "schema_version": 3,
     "solution": false,
     "task": false
    }
   },
   "source": [
    "## Compute f1 score for predictions on training as well as testing data "
   ]
  },
  {
   "cell_type": "code",
   "execution_count": null,
   "id": "f756e6f4",
   "metadata": {
    "deletable": false,
    "nbgrader": {
     "cell_type": "code",
     "checksum": "271d0ebba01ad6080d089a0b6df7bd93",
     "grade": false,
     "grade_id": "cell-5437e0b83b0ba460",
     "locked": false,
     "schema_version": 3,
     "solution": true,
     "task": false
    }
   },
   "outputs": [],
   "source": [
    "# your code here\n",
    "raise NotImplementedError\n"
   ]
  },
  {
   "cell_type": "code",
   "execution_count": null,
   "id": "f767198b",
   "metadata": {
    "deletable": false,
    "editable": false,
    "nbgrader": {
     "cell_type": "code",
     "checksum": "b0e13b90fcceb851680b88895a390664",
     "grade": true,
     "grade_id": "cell-30909b140c458f79",
     "locked": true,
     "points": 3,
     "schema_version": 3,
     "solution": false,
     "task": false
    }
   },
   "outputs": [],
   "source": []
  },
  {
   "cell_type": "markdown",
   "id": "89086c88",
   "metadata": {
    "deletable": false,
    "editable": false,
    "nbgrader": {
     "cell_type": "markdown",
     "checksum": "f657e0616f3ee761e47a890644d16541",
     "grade": false,
     "grade_id": "cell-7c7a37f7f21b7912",
     "locked": true,
     "schema_version": 3,
     "solution": false,
     "task": false
    }
   },
   "source": [
    "# Build a Bagging model using base classifier as decision tree\n",
    " Create a base classifier using decision tree and use the base classifier for creating bagging classifier"
   ]
  },
  {
   "cell_type": "code",
   "execution_count": null,
   "id": "98413bc8",
   "metadata": {
    "deletable": false,
    "nbgrader": {
     "cell_type": "code",
     "checksum": "d8cdccbcec485fce2edfaaa2ba7b1f3d",
     "grade": false,
     "grade_id": "cell-2ff3966d48220a30",
     "locked": false,
     "schema_version": 3,
     "solution": true,
     "task": false
    }
   },
   "outputs": [],
   "source": [
    "# Create a decision tree base classifier with depth 20 and leaf sample 10\n",
    "# your code here\n",
    "raise NotImplementedError"
   ]
  },
  {
   "cell_type": "code",
   "execution_count": null,
   "id": "0930a09f",
   "metadata": {
    "deletable": false,
    "editable": false,
    "nbgrader": {
     "cell_type": "code",
     "checksum": "b5c39a3f35ae66c361851b5e4383420f",
     "grade": false,
     "grade_id": "cell-ad98c9917b50e67a",
     "locked": true,
     "schema_version": 3,
     "solution": false,
     "task": false
    }
   },
   "outputs": [],
   "source": [
    "# Fit the BaggingClassifier on the training data\n",
    "bagging_classifier.fit(X_train, y_train)"
   ]
  },
  {
   "cell_type": "markdown",
   "id": "0c5a7d89",
   "metadata": {
    "deletable": false,
    "editable": false,
    "nbgrader": {
     "cell_type": "markdown",
     "checksum": "8772279e986d2ae7b9339bc75f420bbf",
     "grade": false,
     "grade_id": "cell-17e64325b6cb302f",
     "locked": true,
     "schema_version": 3,
     "solution": false,
     "task": false
    }
   },
   "source": [
    "## Make Predictions on training and testing data\n"
   ]
  },
  {
   "cell_type": "code",
   "execution_count": null,
   "id": "69a0ab8f",
   "metadata": {
    "deletable": false,
    "nbgrader": {
     "cell_type": "code",
     "checksum": "c3ee8f203dad3d93a5113061b1a17490",
     "grade": false,
     "grade_id": "cell-714211e08cabf64a",
     "locked": false,
     "schema_version": 3,
     "solution": true,
     "task": false
    }
   },
   "outputs": [],
   "source": [
    "# Predict on train and testing data\n",
    "# your code here\n",
    "raise NotImplementedError"
   ]
  },
  {
   "cell_type": "code",
   "execution_count": null,
   "id": "fa68e2ec",
   "metadata": {
    "deletable": false,
    "editable": false,
    "nbgrader": {
     "cell_type": "code",
     "checksum": "bf696f9997b86b5a0dfa1f4b05a536d5",
     "grade": false,
     "grade_id": "cell-411c99f9e8fceb97",
     "locked": true,
     "schema_version": 3,
     "solution": false,
     "task": false
    }
   },
   "outputs": [],
   "source": [
    "# get f1 score for trsin data\n",
    "f1 = f1_score(y_train, y_pred_train)\n",
    "print(f\"F1 Score Train: {round(f1, 2)}\")"
   ]
  },
  {
   "cell_type": "markdown",
   "id": "40796cca",
   "metadata": {},
   "source": [
    "## Use F1 score evaluation metrics to see performance on testing data "
   ]
  },
  {
   "cell_type": "code",
   "execution_count": null,
   "id": "70e7856c",
   "metadata": {
    "deletable": false,
    "nbgrader": {
     "cell_type": "code",
     "checksum": "4780afa12ba848d24ca8355155f065d4",
     "grade": false,
     "grade_id": "cell-30a7a78e3d7ce4ea",
     "locked": false,
     "schema_version": 3,
     "solution": true,
     "task": false
    }
   },
   "outputs": [],
   "source": [
    "# your code here\n",
    "raise NotImplementedError"
   ]
  },
  {
   "cell_type": "code",
   "execution_count": null,
   "id": "6495c100",
   "metadata": {
    "deletable": false,
    "editable": false,
    "nbgrader": {
     "cell_type": "code",
     "checksum": "fcd0781504994db621d442b5d25d078c",
     "grade": true,
     "grade_id": "cell-79d8d445194dedfe",
     "locked": true,
     "points": 2,
     "schema_version": 3,
     "solution": false,
     "task": false
    }
   },
   "outputs": [],
   "source": []
  },
  {
   "cell_type": "markdown",
   "id": "0cd22469",
   "metadata": {
    "deletable": false,
    "editable": false,
    "nbgrader": {
     "cell_type": "markdown",
     "checksum": "c4e02eb0c2b8fd2d28d44dc36a917754",
     "grade": false,
     "grade_id": "cell-bdc1cf493f7ecbd2",
     "locked": true,
     "schema_version": 3,
     "solution": false,
     "task": false
    }
   },
   "source": [
    "## Build a Random Forest Classifier "
   ]
  },
  {
   "cell_type": "code",
   "execution_count": null,
   "id": "e8df9529",
   "metadata": {
    "deletable": false,
    "nbgrader": {
     "cell_type": "code",
     "checksum": "bb4f521e03eca9b288702b92a7e0504a",
     "grade": false,
     "grade_id": "cell-2ec1ff3626c0f6af",
     "locked": false,
     "schema_version": 3,
     "solution": true,
     "task": false
    }
   },
   "outputs": [],
   "source": [
    "from sklearn.ensemble import RandomForestClassifier\n",
    "\n",
    "# Create a Random forest classifer with depth=10, no. of trees=101,random_state=42, and leaf sample 10\n",
    "# your code here\n",
    "raise NotImplementedError\n",
    "\n"
   ]
  },
  {
   "cell_type": "markdown",
   "id": "1e696ef1",
   "metadata": {
    "deletable": false,
    "editable": false,
    "nbgrader": {
     "cell_type": "markdown",
     "checksum": "d2ef3e287bb1d01f94108c8d385f815a",
     "grade": false,
     "grade_id": "cell-0676b08fe5ad6e52",
     "locked": true,
     "schema_version": 3,
     "solution": false,
     "task": false
    }
   },
   "source": [
    "Making predictions on training data using the model and calculating f1 score."
   ]
  },
  {
   "cell_type": "code",
   "execution_count": null,
   "id": "e019835f",
   "metadata": {
    "deletable": false,
    "editable": false,
    "nbgrader": {
     "cell_type": "code",
     "checksum": "ee02b950cc1e22eb0ccbf93f47b11eb4",
     "grade": false,
     "grade_id": "cell-59260fd581110c54",
     "locked": true,
     "schema_version": 3,
     "solution": false,
     "task": false
    }
   },
   "outputs": [],
   "source": [
    "\n",
    "# Making predictions on training data\n",
    "y_train_pred = model.predict(X_train)\n",
    "# Calculate F1 score for training data\n",
    "f1 = f1_score(y_train, y_train_pred)\n",
    "\n",
    "# Print the F1 scores\n",
    "print(f\"F1 Score Train: {round(f1, 2)}\")\n",
    "\n"
   ]
  },
  {
   "cell_type": "markdown",
   "id": "af3bb0c5",
   "metadata": {
    "deletable": false,
    "editable": false,
    "nbgrader": {
     "cell_type": "markdown",
     "checksum": "ad6b1c957c7069a8f7d738b952bb250b",
     "grade": false,
     "grade_id": "cell-73cc35b3ef6d16e5",
     "locked": true,
     "schema_version": 3,
     "solution": false,
     "task": false
    }
   },
   "source": [
    "## Make predictions on the testing data using the model and calculate f1 score.\n"
   ]
  },
  {
   "cell_type": "code",
   "execution_count": null,
   "id": "a93fc0a1",
   "metadata": {
    "deletable": false,
    "nbgrader": {
     "cell_type": "code",
     "checksum": "ed3900103c02d940a3387f7e58214eb6",
     "grade": false,
     "grade_id": "cell-72551a98d843f0e1",
     "locked": false,
     "schema_version": 3,
     "solution": true,
     "task": false
    }
   },
   "outputs": [],
   "source": [
    "# your code here\n",
    "raise NotImplementedError"
   ]
  },
  {
   "cell_type": "code",
   "execution_count": null,
   "id": "0fbc3d15",
   "metadata": {
    "deletable": false,
    "editable": false,
    "nbgrader": {
     "cell_type": "code",
     "checksum": "5cd085fd99ed17e0758187a84b230bc9",
     "grade": true,
     "grade_id": "cell-7da0f941c907aa32",
     "locked": true,
     "points": 3,
     "schema_version": 3,
     "solution": false,
     "task": false
    }
   },
   "outputs": [],
   "source": []
  },
  {
   "cell_type": "markdown",
   "id": "2a5dace4",
   "metadata": {
    "deletable": false,
    "editable": false,
    "nbgrader": {
     "cell_type": "markdown",
     "checksum": "203d1eb9b878f8036249524af42ba7d5",
     "grade": false,
     "grade_id": "cell-5c8860c91164bddf",
     "locked": true,
     "schema_version": 3,
     "solution": false,
     "task": false
    }
   },
   "source": [
    "# APPLY ENSEMBLE LEARNING WITH RANDOM FOREST CLASSIFIER \n",
    "- Create an ensemble classifier using base classifier as Randomforest \n",
    "- After creating ensemble classifier, calculate Out of Bags error with a range of 60-100 trees\n",
    "- Generate \"Out of Bags error v/s No. of trees plot\" "
   ]
  },
  {
   "cell_type": "code",
   "execution_count": null,
   "id": "9f6e362a",
   "metadata": {
    "deletable": false,
    "editable": false,
    "nbgrader": {
     "cell_type": "code",
     "checksum": "b903ff28536e18391fa5b05285d613ac",
     "grade": false,
     "grade_id": "cell-9f8d71e0785444e2",
     "locked": true,
     "schema_version": 3,
     "solution": false,
     "task": false
    }
   },
   "outputs": [],
   "source": [
    "# #create a list named ensemble_clfs which store the tuple with 2 values which contains\n",
    "# #1.randomclassifer's name\n",
    "# #2.classifier and its paramters where max_depth =20, 10 trees, with all CPU (n_jobs=-1), warm start and oob_score set true. \n",
    "\n",
    "\n",
    "ensemble_clfs = [\n",
    "    (\n",
    "        \"RandomForestClassifier\",\n",
    "        RandomForestClassifier(max_depth=20, min_samples_leaf=10, n_estimators=10, n_jobs=-1,verbose=1,\n",
    "            warm_start=True,\n",
    "            oob_score=True,\n",
    "            random_state=42,\n",
    "        )),\n",
    "]\n",
    "\n",
    "# with the range of n_estimators between 60 to 200, calculate out of bags error.\n",
    "# Map a classifier name to a list of (<n_estimators>, <error rate>) pairs.\n",
    "error_rate = OrderedDict((label, []) for label, _ in ensemble_clfs)\n",
    "\n",
    "\n",
    "# Range of `n_estimators` values to explore.\n",
    "min_estimators = 60\n",
    "max_estimators = 200\n",
    "\n",
    "for label, clf in ensemble_clfs:\n",
    "    for i in range(min_estimators, max_estimators + 1, 5):\n",
    "        clf.set_params(n_estimators=i)\n",
    "        clf.fit(X_train, y_train)\n",
    "\n",
    "        # Record the OOB error for each `n_estimators=i` setting.\n",
    "        oob_error = 1 - clf.oob_score_\n",
    "        error_rate[label].append((i, oob_error))\n",
    "\n",
    "\n",
    "# Generate the \"OOB error rate\" vs. \"n_estimators\" plot.\n",
    "for label, clf_err in error_rate.items():\n",
    "    xs, ys = zip(*clf_err)\n",
    "    plt.plot(xs, ys, label=label)\n",
    "\n",
    "plt.xlim(min_estimators, max_estimators)\n",
    "plt.xlabel(\"n_estimators\")\n",
    "plt.ylabel(\"OOB error rate\")\n",
    "plt.legend(loc=\"upper right\")\n",
    "plt.show()\n"
   ]
  },
  {
   "cell_type": "markdown",
   "id": "f5df0d7d",
   "metadata": {
    "deletable": false,
    "editable": false,
    "nbgrader": {
     "cell_type": "markdown",
     "checksum": "698ee09b7cd3b46729513f1a43d0cf0a",
     "grade": false,
     "grade_id": "cell-085efc5a7fc60581",
     "locked": true,
     "schema_version": 3,
     "solution": false,
     "task": false
    }
   },
   "source": [
    "With the help of plot, identify where the no. of trees show similar error values and then \n",
    "create No. of trees somewhere between 110 to 135 since the error value is similar. \n",
    "calculate f1 Score for training and testing using the selected parameters \n"
   ]
  },
  {
   "cell_type": "code",
   "execution_count": null,
   "id": "25915674",
   "metadata": {
    "deletable": false,
    "nbgrader": {
     "cell_type": "code",
     "checksum": "c86c8397c21551cda85923c4762748d4",
     "grade": false,
     "grade_id": "cell-299649906f205710",
     "locked": false,
     "schema_version": 3,
     "solution": true,
     "task": false
    }
   },
   "outputs": [],
   "source": [
    "# CREATE A RANDOM FOREST WITH No. OF TREES BETWEEN 110 to 135.\n",
    "# CALCULATE f1 Score for training and testing \n",
    "\n",
    "from sklearn.ensemble import RandomForestClassifier\n",
    "\n",
    "\n",
    "# your code here\n",
    "raise NotImplementedError\n",
    "\n",
    "# Predict on training data\n",
    "y_train_pred = rf_classifier.predict(X_train)\n",
    "\n",
    "# Calculate F1 score for training data\n",
    "f1 = f1_score(y_train, y_train_pred)\n",
    "\n",
    "# Print the F1 scores\n",
    "print(f\"F1 Score Train: {round(f1, 2)}\")\n",
    "\n",
    "# Predict on validation data\n",
    "y_test_pred = rf_classifier.predict(X_test)\n",
    "\n",
    "# Calculate F1 score for validation data\n",
    "f1 = f1_score(y_test, y_test_pred)\n",
    "\n",
    "print(f\"F1 Score Testing: {round(f1, 2)}\")\n"
   ]
  },
  {
   "cell_type": "code",
   "execution_count": null,
   "id": "ec796854",
   "metadata": {
    "deletable": false,
    "editable": false,
    "nbgrader": {
     "cell_type": "code",
     "checksum": "9e3b03ac029186ecc2a65809731ae309",
     "grade": true,
     "grade_id": "cell-5b924dc58d4b7baf",
     "locked": true,
     "points": 5,
     "schema_version": 3,
     "solution": false,
     "task": false
    }
   },
   "outputs": [],
   "source": []
  },
  {
   "cell_type": "markdown",
   "id": "b4c02f94",
   "metadata": {
    "deletable": false,
    "editable": false,
    "nbgrader": {
     "cell_type": "markdown",
     "checksum": "0c309395df0f4d2f0b624c6faf42f447",
     "grade": false,
     "grade_id": "cell-6643dbc6e35c287e",
     "locked": true,
     "schema_version": 3,
     "solution": false,
     "task": false
    }
   },
   "source": [
    "In Conclusion,\n",
    "You can see the f1 scores computed using different algorithms and compare the performance of models.\n",
    "However In all cases, the relatively high F1 scores indicate that bagging is an excellent approach for \n",
    "the classification problem. Monitor and validation on new data is always suggested to ensure continued model accuracy and relevance. \n"
   ]
  }
 ],
 "metadata": {
  "kernelspec": {
   "display_name": "Python 3 (ipykernel)",
   "language": "python",
   "name": "python3"
  },
  "language_info": {
   "codemirror_mode": {
    "name": "ipython",
    "version": 3
   },
   "file_extension": ".py",
   "mimetype": "text/x-python",
   "name": "python",
   "nbconvert_exporter": "python",
   "pygments_lexer": "ipython3",
   "version": "3.10.6"
  }
 },
 "nbformat": 4,
 "nbformat_minor": 5
}
