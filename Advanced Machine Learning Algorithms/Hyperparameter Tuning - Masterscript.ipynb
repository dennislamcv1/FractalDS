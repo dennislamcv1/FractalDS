{
 "cells": [
  {
   "cell_type": "markdown",
   "id": "5fc9e06f",
   "metadata": {},
   "source": [
    "# Hyperparameter Tuning\n",
    "\n"
   ]
  },
  {
   "cell_type": "markdown",
   "id": "22909fe5",
   "metadata": {},
   "source": [
    "Hello learners!! So far we had theoritical understanding of hyperparameter tuning and its techniques. In this video, let us explore the first technique of Hyperparameter tuning - grid search.\n",
    "\n",
    "We will begin with the basics. Import all the necessary libraries and read the dataset we prepared in the previous lesson."
   ]
  },
  {
   "cell_type": "code",
   "execution_count": 25,
   "id": "f71fdedf",
   "metadata": {},
   "outputs": [],
   "source": [
    "#import relevant libraries\n",
    "import pandas as pd\n",
    "import numpy as np\n",
    "from sklearn.ensemble import GradientBoostingClassifier\n",
    "from sklearn.tree import DecisionTreeClassifier\n",
    "from sklearn.metrics import f1_score\n",
    "from skopt import BayesSearchCV\n",
    "# parameter ranges are specified by one of below\n",
    "from skopt.space import Real, Integer"
   ]
  },
  {
   "cell_type": "code",
   "execution_count": 26,
   "id": "8c4c03d3",
   "metadata": {},
   "outputs": [],
   "source": [
    "#read train, validation and test data\n",
    "df_train = pd.read_csv('train_new.csv')\n",
    "df_test = pd.read_csv('test_new.csv')\n",
    "df_val = pd.read_csv('val_new.csv')"
   ]
  },
  {
   "cell_type": "code",
   "execution_count": 27,
   "id": "eb00e67b",
   "metadata": {},
   "outputs": [],
   "source": [
    "x_train = df_train.drop(['Units_sold>1000'], axis = 1)\n",
    "y_train = df_train['Units_sold>1000']"
   ]
  },
  {
   "cell_type": "code",
   "execution_count": 28,
   "id": "50367873",
   "metadata": {},
   "outputs": [],
   "source": [
    "x_test = df_test.drop(['Units_sold>1000'], axis = 1)\n",
    "y_test = df_test['Units_sold>1000']"
   ]
  },
  {
   "cell_type": "code",
   "execution_count": 29,
   "id": "fb805842",
   "metadata": {},
   "outputs": [],
   "source": [
    "x_val = df_val.drop(['Units_sold>1000'], axis = 1)\n",
    "y_val = df_val['Units_sold>1000']"
   ]
  },
  {
   "cell_type": "markdown",
   "id": "036add4e",
   "metadata": {},
   "source": [
    "## Video 2 : Grid Search\n",
    "\n",
    "<p style = 'color:green'><b>Run all the cells above before you begin</b><p>"
   ]
  },
  {
   "cell_type": "markdown",
   "id": "498ad82a",
   "metadata": {},
   "source": [
    "We have been using GradientBoostClassifier to make our predictions throughput this module. We will continue to do so.\n",
    "\n",
    "We have been using 3 hyperparameters in GradientBoostClassifier - n_estimators, max_depth and min_leaf_sample. But this time instead of min_sample leaves, we will use lerning_rate as it is an important parameter for gradient boosting. \n",
    "\n",
    "- n-estimator controls the number of decision trees which will be built in sequence in a boosted ensemble model. So, increaing the nummber of estimators will lead to better performance of model, but a very high number will lead to overfitting. Since our goal is to increase the performance of the model on test data, we will check the performance of the model across a list of values - [50, 100, 200, 300, 400].\n",
    "\n",
    "- Now max_depth is used to set the depth of the tree. Higher the number, more the model learns from training data and hence may result in overfitting. Since our model was slightly overfitting at the end of feature engineering  at a max_depth of 9. Let us set the range between 6 to 14 with a gap of 2.\n",
    "\n",
    "- The learning_rate ontrols the weightage each model gets for the final prediction. A higher value of learning_rate can lead to overfit models. So far we have been using the default value of 0.1. But we will be trying two other values i.e. 0.2 and 0.3 along with the default value this time. \n",
    "\n",
    "So let us begin with grid search by importing the relevant library."
   ]
  },
  {
   "cell_type": "code",
   "execution_count": 30,
   "id": "1e5ea341",
   "metadata": {},
   "outputs": [],
   "source": [
    "from sklearn.model_selection import GridSearchCV"
   ]
  },
  {
   "cell_type": "markdown",
   "id": "bbe5e021",
   "metadata": {},
   "source": [
    "Then, we set the parameter grid with the values discussed above. The grid has to be presented in a dictionary format with the key being the name of the hyperparameter and the value being the list of values we want to try."
   ]
  },
  {
   "cell_type": "code",
   "execution_count": 31,
   "id": "456257d6",
   "metadata": {},
   "outputs": [],
   "source": [
    "param_grid = {\n",
    "    'n_estimators': [50, 100, 200, 300, 400],\n",
    "    'max_depth': range(6, 13, 2),\n",
    "    'learning_rate': [0.1, 0.2, 0.3]\n",
    "}"
   ]
  },
  {
   "cell_type": "markdown",
   "id": "d1775b4f",
   "metadata": {},
   "source": [
    "Then let's create an instance model_GBC that saves the GradientBoostingClassifier with it's default values."
   ]
  },
  {
   "cell_type": "code",
   "execution_count": 32,
   "id": "50cfefee",
   "metadata": {},
   "outputs": [],
   "source": [
    "model_GBC = GradientBoostingClassifier(random_state=42)"
   ]
  },
  {
   "cell_type": "markdown",
   "id": "d0d87bf5",
   "metadata": {},
   "source": [
    "Now, comes the step where we create the grid_search_cv instance which contains all the details or rules relevant for creation of the multiple models with different hyperparameters."
   ]
  },
  {
   "cell_type": "code",
   "execution_count": 33,
   "id": "2056be6e",
   "metadata": {},
   "outputs": [],
   "source": [
    "grid_search_cv = GridSearchCV(estimator=model_GBC, param_grid=param_grid, n_jobs=-1, verbose=2,\n",
    "                      cv=5, scoring='f1')"
   ]
  },
  {
   "cell_type": "markdown",
   "id": "6bd3a722",
   "metadata": {},
   "source": [
    "Now, let us fit this instance to our training data. Note that, this may take some time as we are building 60 combination of models and each combination is training on 5 data samples since we are using 5-fold cross validation. For context, it took us 17 minutes to execute this code. Also, the verbose parameter will showcase the result of training on different folds as it happens.\n",
    "\n",
    "Note that, by adding %%time in the beginning of the cell, you can get teh time taken for code block to execute."
   ]
  },
  {
   "cell_type": "code",
   "execution_count": 34,
   "id": "d6251c01",
   "metadata": {
    "scrolled": true
   },
   "outputs": [
    {
     "name": "stdout",
     "output_type": "stream",
     "text": [
      "Fitting 5 folds for each of 60 candidates, totalling 300 fits\n",
      "CPU times: user 43.2 s, sys: 558 ms, total: 43.7 s\n",
      "Wall time: 17min 40s\n"
     ]
    },
    {
     "data": {
      "text/html": [
       "<style>#sk-container-id-5 {color: black;}#sk-container-id-5 pre{padding: 0;}#sk-container-id-5 div.sk-toggleable {background-color: white;}#sk-container-id-5 label.sk-toggleable__label {cursor: pointer;display: block;width: 100%;margin-bottom: 0;padding: 0.3em;box-sizing: border-box;text-align: center;}#sk-container-id-5 label.sk-toggleable__label-arrow:before {content: \"▸\";float: left;margin-right: 0.25em;color: #696969;}#sk-container-id-5 label.sk-toggleable__label-arrow:hover:before {color: black;}#sk-container-id-5 div.sk-estimator:hover label.sk-toggleable__label-arrow:before {color: black;}#sk-container-id-5 div.sk-toggleable__content {max-height: 0;max-width: 0;overflow: hidden;text-align: left;background-color: #f0f8ff;}#sk-container-id-5 div.sk-toggleable__content pre {margin: 0.2em;color: black;border-radius: 0.25em;background-color: #f0f8ff;}#sk-container-id-5 input.sk-toggleable__control:checked~div.sk-toggleable__content {max-height: 200px;max-width: 100%;overflow: auto;}#sk-container-id-5 input.sk-toggleable__control:checked~label.sk-toggleable__label-arrow:before {content: \"▾\";}#sk-container-id-5 div.sk-estimator input.sk-toggleable__control:checked~label.sk-toggleable__label {background-color: #d4ebff;}#sk-container-id-5 div.sk-label input.sk-toggleable__control:checked~label.sk-toggleable__label {background-color: #d4ebff;}#sk-container-id-5 input.sk-hidden--visually {border: 0;clip: rect(1px 1px 1px 1px);clip: rect(1px, 1px, 1px, 1px);height: 1px;margin: -1px;overflow: hidden;padding: 0;position: absolute;width: 1px;}#sk-container-id-5 div.sk-estimator {font-family: monospace;background-color: #f0f8ff;border: 1px dotted black;border-radius: 0.25em;box-sizing: border-box;margin-bottom: 0.5em;}#sk-container-id-5 div.sk-estimator:hover {background-color: #d4ebff;}#sk-container-id-5 div.sk-parallel-item::after {content: \"\";width: 100%;border-bottom: 1px solid gray;flex-grow: 1;}#sk-container-id-5 div.sk-label:hover label.sk-toggleable__label {background-color: #d4ebff;}#sk-container-id-5 div.sk-serial::before {content: \"\";position: absolute;border-left: 1px solid gray;box-sizing: border-box;top: 0;bottom: 0;left: 50%;z-index: 0;}#sk-container-id-5 div.sk-serial {display: flex;flex-direction: column;align-items: center;background-color: white;padding-right: 0.2em;padding-left: 0.2em;position: relative;}#sk-container-id-5 div.sk-item {position: relative;z-index: 1;}#sk-container-id-5 div.sk-parallel {display: flex;align-items: stretch;justify-content: center;background-color: white;position: relative;}#sk-container-id-5 div.sk-item::before, #sk-container-id-5 div.sk-parallel-item::before {content: \"\";position: absolute;border-left: 1px solid gray;box-sizing: border-box;top: 0;bottom: 0;left: 50%;z-index: -1;}#sk-container-id-5 div.sk-parallel-item {display: flex;flex-direction: column;z-index: 1;position: relative;background-color: white;}#sk-container-id-5 div.sk-parallel-item:first-child::after {align-self: flex-end;width: 50%;}#sk-container-id-5 div.sk-parallel-item:last-child::after {align-self: flex-start;width: 50%;}#sk-container-id-5 div.sk-parallel-item:only-child::after {width: 0;}#sk-container-id-5 div.sk-dashed-wrapped {border: 1px dashed gray;margin: 0 0.4em 0.5em 0.4em;box-sizing: border-box;padding-bottom: 0.4em;background-color: white;}#sk-container-id-5 div.sk-label label {font-family: monospace;font-weight: bold;display: inline-block;line-height: 1.2em;}#sk-container-id-5 div.sk-label-container {text-align: center;}#sk-container-id-5 div.sk-container {/* jupyter's `normalize.less` sets `[hidden] { display: none; }` but bootstrap.min.css set `[hidden] { display: none !important; }` so we also need the `!important` here to be able to override the default hidden behavior on the sphinx rendered scikit-learn.org. See: https://github.com/scikit-learn/scikit-learn/issues/21755 */display: inline-block !important;position: relative;}#sk-container-id-5 div.sk-text-repr-fallback {display: none;}</style><div id=\"sk-container-id-5\" class=\"sk-top-container\"><div class=\"sk-text-repr-fallback\"><pre>GridSearchCV(cv=5, estimator=GradientBoostingClassifier(random_state=42),\n",
       "             n_jobs=-1,\n",
       "             param_grid={&#x27;learning_rate&#x27;: [0.1, 0.2, 0.3],\n",
       "                         &#x27;max_depth&#x27;: range(6, 13, 2),\n",
       "                         &#x27;n_estimators&#x27;: [50, 100, 200, 300, 400]},\n",
       "             scoring=&#x27;f1&#x27;, verbose=2)</pre><b>In a Jupyter environment, please rerun this cell to show the HTML representation or trust the notebook. <br />On GitHub, the HTML representation is unable to render, please try loading this page with nbviewer.org.</b></div><div class=\"sk-container\" hidden><div class=\"sk-item sk-dashed-wrapped\"><div class=\"sk-label-container\"><div class=\"sk-label sk-toggleable\"><input class=\"sk-toggleable__control sk-hidden--visually\" id=\"sk-estimator-id-9\" type=\"checkbox\" ><label for=\"sk-estimator-id-9\" class=\"sk-toggleable__label sk-toggleable__label-arrow\">GridSearchCV</label><div class=\"sk-toggleable__content\"><pre>GridSearchCV(cv=5, estimator=GradientBoostingClassifier(random_state=42),\n",
       "             n_jobs=-1,\n",
       "             param_grid={&#x27;learning_rate&#x27;: [0.1, 0.2, 0.3],\n",
       "                         &#x27;max_depth&#x27;: range(6, 13, 2),\n",
       "                         &#x27;n_estimators&#x27;: [50, 100, 200, 300, 400]},\n",
       "             scoring=&#x27;f1&#x27;, verbose=2)</pre></div></div></div><div class=\"sk-parallel\"><div class=\"sk-parallel-item\"><div class=\"sk-item\"><div class=\"sk-label-container\"><div class=\"sk-label sk-toggleable\"><input class=\"sk-toggleable__control sk-hidden--visually\" id=\"sk-estimator-id-10\" type=\"checkbox\" ><label for=\"sk-estimator-id-10\" class=\"sk-toggleable__label sk-toggleable__label-arrow\">estimator: GradientBoostingClassifier</label><div class=\"sk-toggleable__content\"><pre>GradientBoostingClassifier(random_state=42)</pre></div></div></div><div class=\"sk-serial\"><div class=\"sk-item\"><div class=\"sk-estimator sk-toggleable\"><input class=\"sk-toggleable__control sk-hidden--visually\" id=\"sk-estimator-id-11\" type=\"checkbox\" ><label for=\"sk-estimator-id-11\" class=\"sk-toggleable__label sk-toggleable__label-arrow\">GradientBoostingClassifier</label><div class=\"sk-toggleable__content\"><pre>GradientBoostingClassifier(random_state=42)</pre></div></div></div></div></div></div></div></div></div></div>"
      ],
      "text/plain": [
       "GridSearchCV(cv=5, estimator=GradientBoostingClassifier(random_state=42),\n",
       "             n_jobs=-1,\n",
       "             param_grid={'learning_rate': [0.1, 0.2, 0.3],\n",
       "                         'max_depth': range(6, 13, 2),\n",
       "                         'n_estimators': [50, 100, 200, 300, 400]},\n",
       "             scoring='f1', verbose=2)"
      ]
     },
     "execution_count": 34,
     "metadata": {},
     "output_type": "execute_result"
    }
   ],
   "source": [
    "%%time\n",
    "grid_search_cv.fit(x_train, y_train)"
   ]
  },
  {
   "cell_type": "markdown",
   "id": "40afde6a",
   "metadata": {},
   "source": [
    "Now, let us get the best values hyperparameter values and the best cross validation score."
   ]
  },
  {
   "cell_type": "code",
   "execution_count": 36,
   "id": "532df591",
   "metadata": {
    "scrolled": true
   },
   "outputs": [
    {
     "data": {
      "text/html": [
       "<style>#sk-container-id-7 {color: black;}#sk-container-id-7 pre{padding: 0;}#sk-container-id-7 div.sk-toggleable {background-color: white;}#sk-container-id-7 label.sk-toggleable__label {cursor: pointer;display: block;width: 100%;margin-bottom: 0;padding: 0.3em;box-sizing: border-box;text-align: center;}#sk-container-id-7 label.sk-toggleable__label-arrow:before {content: \"▸\";float: left;margin-right: 0.25em;color: #696969;}#sk-container-id-7 label.sk-toggleable__label-arrow:hover:before {color: black;}#sk-container-id-7 div.sk-estimator:hover label.sk-toggleable__label-arrow:before {color: black;}#sk-container-id-7 div.sk-toggleable__content {max-height: 0;max-width: 0;overflow: hidden;text-align: left;background-color: #f0f8ff;}#sk-container-id-7 div.sk-toggleable__content pre {margin: 0.2em;color: black;border-radius: 0.25em;background-color: #f0f8ff;}#sk-container-id-7 input.sk-toggleable__control:checked~div.sk-toggleable__content {max-height: 200px;max-width: 100%;overflow: auto;}#sk-container-id-7 input.sk-toggleable__control:checked~label.sk-toggleable__label-arrow:before {content: \"▾\";}#sk-container-id-7 div.sk-estimator input.sk-toggleable__control:checked~label.sk-toggleable__label {background-color: #d4ebff;}#sk-container-id-7 div.sk-label input.sk-toggleable__control:checked~label.sk-toggleable__label {background-color: #d4ebff;}#sk-container-id-7 input.sk-hidden--visually {border: 0;clip: rect(1px 1px 1px 1px);clip: rect(1px, 1px, 1px, 1px);height: 1px;margin: -1px;overflow: hidden;padding: 0;position: absolute;width: 1px;}#sk-container-id-7 div.sk-estimator {font-family: monospace;background-color: #f0f8ff;border: 1px dotted black;border-radius: 0.25em;box-sizing: border-box;margin-bottom: 0.5em;}#sk-container-id-7 div.sk-estimator:hover {background-color: #d4ebff;}#sk-container-id-7 div.sk-parallel-item::after {content: \"\";width: 100%;border-bottom: 1px solid gray;flex-grow: 1;}#sk-container-id-7 div.sk-label:hover label.sk-toggleable__label {background-color: #d4ebff;}#sk-container-id-7 div.sk-serial::before {content: \"\";position: absolute;border-left: 1px solid gray;box-sizing: border-box;top: 0;bottom: 0;left: 50%;z-index: 0;}#sk-container-id-7 div.sk-serial {display: flex;flex-direction: column;align-items: center;background-color: white;padding-right: 0.2em;padding-left: 0.2em;position: relative;}#sk-container-id-7 div.sk-item {position: relative;z-index: 1;}#sk-container-id-7 div.sk-parallel {display: flex;align-items: stretch;justify-content: center;background-color: white;position: relative;}#sk-container-id-7 div.sk-item::before, #sk-container-id-7 div.sk-parallel-item::before {content: \"\";position: absolute;border-left: 1px solid gray;box-sizing: border-box;top: 0;bottom: 0;left: 50%;z-index: -1;}#sk-container-id-7 div.sk-parallel-item {display: flex;flex-direction: column;z-index: 1;position: relative;background-color: white;}#sk-container-id-7 div.sk-parallel-item:first-child::after {align-self: flex-end;width: 50%;}#sk-container-id-7 div.sk-parallel-item:last-child::after {align-self: flex-start;width: 50%;}#sk-container-id-7 div.sk-parallel-item:only-child::after {width: 0;}#sk-container-id-7 div.sk-dashed-wrapped {border: 1px dashed gray;margin: 0 0.4em 0.5em 0.4em;box-sizing: border-box;padding-bottom: 0.4em;background-color: white;}#sk-container-id-7 div.sk-label label {font-family: monospace;font-weight: bold;display: inline-block;line-height: 1.2em;}#sk-container-id-7 div.sk-label-container {text-align: center;}#sk-container-id-7 div.sk-container {/* jupyter's `normalize.less` sets `[hidden] { display: none; }` but bootstrap.min.css set `[hidden] { display: none !important; }` so we also need the `!important` here to be able to override the default hidden behavior on the sphinx rendered scikit-learn.org. See: https://github.com/scikit-learn/scikit-learn/issues/21755 */display: inline-block !important;position: relative;}#sk-container-id-7 div.sk-text-repr-fallback {display: none;}</style><div id=\"sk-container-id-7\" class=\"sk-top-container\"><div class=\"sk-text-repr-fallback\"><pre>GradientBoostingClassifier(learning_rate=0.3, max_depth=10, n_estimators=400,\n",
       "                           random_state=42)</pre><b>In a Jupyter environment, please rerun this cell to show the HTML representation or trust the notebook. <br />On GitHub, the HTML representation is unable to render, please try loading this page with nbviewer.org.</b></div><div class=\"sk-container\" hidden><div class=\"sk-item\"><div class=\"sk-estimator sk-toggleable\"><input class=\"sk-toggleable__control sk-hidden--visually\" id=\"sk-estimator-id-13\" type=\"checkbox\" checked><label for=\"sk-estimator-id-13\" class=\"sk-toggleable__label sk-toggleable__label-arrow\">GradientBoostingClassifier</label><div class=\"sk-toggleable__content\"><pre>GradientBoostingClassifier(learning_rate=0.3, max_depth=10, n_estimators=400,\n",
       "                           random_state=42)</pre></div></div></div></div></div>"
      ],
      "text/plain": [
       "GradientBoostingClassifier(learning_rate=0.3, max_depth=10, n_estimators=400,\n",
       "                           random_state=42)"
      ]
     },
     "execution_count": 36,
     "metadata": {},
     "output_type": "execute_result"
    }
   ],
   "source": [
    "# Best performing model\n",
    "grid_search_cv.best_estimator_"
   ]
  },
  {
   "cell_type": "code",
   "execution_count": 37,
   "id": "8ef9ba12",
   "metadata": {},
   "outputs": [
    {
     "data": {
      "text/plain": [
       "{'learning_rate': 0.3, 'max_depth': 10, 'n_estimators': 400}"
      ]
     },
     "execution_count": 37,
     "metadata": {},
     "output_type": "execute_result"
    }
   ],
   "source": [
    "# Best performing model\n",
    "grid_search_cv.best_params_"
   ]
  },
  {
   "cell_type": "markdown",
   "id": "ee4c21ff",
   "metadata": {},
   "source": [
    "We can see that for learning_rate and n_estimators, we are getting a value at the extreme ends of their respective ranges. This suggests that there might be better performing hyperparameters outside the current range you have explored. This situation often indicates that the search space is not adequately covering the optimal hyperparameter values. For now, we are continuing with these values. You can experiment with further values by changing the values in the parameter grid we defined above."
   ]
  },
  {
   "cell_type": "code",
   "execution_count": 39,
   "id": "c9979cd4",
   "metadata": {},
   "outputs": [
    {
     "data": {
      "text/plain": [
       "0.9077340243467941"
      ]
     },
     "execution_count": 39,
     "metadata": {},
     "output_type": "execute_result"
    }
   ],
   "source": [
    "# Mean cross-validated F1 score of the best estimator\n",
    "grid_search_cv.best_score_"
   ]
  },
  {
   "cell_type": "markdown",
   "id": "e9a3f8d9",
   "metadata": {},
   "source": [
    "We can see that the cross validation score is almost a percent higher than what we got at the end of feature selection in the last lesson. But to be really convinced with the performance, we need to check the performance on  the validation set. Note that the grid_search_cv instance automatically stores the model with the best hyperparameters within it."
   ]
  },
  {
   "cell_type": "code",
   "execution_count": 40,
   "id": "5e526f82",
   "metadata": {},
   "outputs": [
    {
     "name": "stdout",
     "output_type": "stream",
     "text": [
      "F1 Score on Train data: 1.0\n",
      "F1 Score on Val data: 0.9122368146758391\n"
     ]
    }
   ],
   "source": [
    "#predict the dependent values\n",
    "y_train_grid_search_pred = grid_search_cv.predict(x_train)\n",
    "y_val_grid_search_pred = grid_search_cv.predict(x_val)\n",
    "\n",
    "f1_train_grid_search = f1_score(y_train, y_train_grid_search_pred)\n",
    "f1_val_grid_search = f1_score(y_val, y_val_grid_search_pred)\n",
    "\n",
    "print(\"F1 Score on Train data:\", f1_train_grid_search)\n",
    "print(\"F1 Score on Val data:\", f1_val_grid_search)"
   ]
  },
  {
   "cell_type": "markdown",
   "id": "453be2ae",
   "metadata": {},
   "source": [
    "And as we can see, overfitting model, with a perfect score of 1 on training data and a 91.22% score on the validation data which is our highest."
   ]
  },
  {
   "cell_type": "markdown",
   "id": "ff32d354",
   "metadata": {},
   "source": [
    "And with that we come to the end of this video where we have successfully implemented grid search cv. Without much manual trial and error, we were easily able to generate a higher performing model using grid search, But it comes with its own advantages and disadvantages. Let us discuss this next.\n",
    "\n",
    "__Jump to PPT__"
   ]
  },
  {
   "cell_type": "markdown",
   "id": "627db157",
   "metadata": {},
   "source": [
    "## Video 3 - RandomizedSearchCV\n",
    "<p style = 'color:green'><b>Run all the cells above before you begin</b><p>\n"
   ]
  },
  {
   "cell_type": "markdown",
   "id": "e1f86149",
   "metadata": {},
   "source": [
    "The entire process remains the same as we did in gridsearch. So we will move through this quickly."
   ]
  },
  {
   "cell_type": "markdown",
   "id": "af52748b",
   "metadata": {},
   "source": [
    "Let us begin with importing the relevant library."
   ]
  },
  {
   "cell_type": "code",
   "execution_count": 41,
   "id": "1f238f2f",
   "metadata": {},
   "outputs": [],
   "source": [
    "from sklearn.model_selection import RandomizedSearchCV"
   ]
  },
  {
   "cell_type": "markdown",
   "id": "29c5ba2c",
   "metadata": {},
   "source": [
    "Then we set the instance for random cv containing all the details or rules relevant for creation of the multiple models. The only difference here being we have an additional rule which says we will only iterate through any 10 random combinations of hyperparameters.\n",
    "\n",
    "Unlike GridSearchCV, which exhaustively tries all possible combinations of the specified hyperparameters, RandomizedSearchCV randomly selects combinations. This can be significantly faster, especially when the hyperparameter space is large and only a limited number of iterations are needed to find a good combination."
   ]
  },
  {
   "cell_type": "code",
   "execution_count": 42,
   "id": "05d6ada9",
   "metadata": {},
   "outputs": [],
   "source": [
    "random_cv = RandomizedSearchCV(estimator=model_GBC, n_iter=10, \n",
    "                               param_distributions=param_grid, n_jobs=-1, \n",
    "                               cv=5, scoring='f1')"
   ]
  },
  {
   "cell_type": "markdown",
   "id": "7e272f4d",
   "metadata": {},
   "source": [
    "Now we fit the model, find the best score and the estimator."
   ]
  },
  {
   "cell_type": "code",
   "execution_count": 43,
   "id": "27fc4c71",
   "metadata": {},
   "outputs": [
    {
     "name": "stdout",
     "output_type": "stream",
     "text": [
      "CPU times: user 42.8 s, sys: 230 ms, total: 43 s\n",
      "Wall time: 3min 11s\n"
     ]
    },
    {
     "data": {
      "text/html": [
       "<style>#sk-container-id-8 {color: black;}#sk-container-id-8 pre{padding: 0;}#sk-container-id-8 div.sk-toggleable {background-color: white;}#sk-container-id-8 label.sk-toggleable__label {cursor: pointer;display: block;width: 100%;margin-bottom: 0;padding: 0.3em;box-sizing: border-box;text-align: center;}#sk-container-id-8 label.sk-toggleable__label-arrow:before {content: \"▸\";float: left;margin-right: 0.25em;color: #696969;}#sk-container-id-8 label.sk-toggleable__label-arrow:hover:before {color: black;}#sk-container-id-8 div.sk-estimator:hover label.sk-toggleable__label-arrow:before {color: black;}#sk-container-id-8 div.sk-toggleable__content {max-height: 0;max-width: 0;overflow: hidden;text-align: left;background-color: #f0f8ff;}#sk-container-id-8 div.sk-toggleable__content pre {margin: 0.2em;color: black;border-radius: 0.25em;background-color: #f0f8ff;}#sk-container-id-8 input.sk-toggleable__control:checked~div.sk-toggleable__content {max-height: 200px;max-width: 100%;overflow: auto;}#sk-container-id-8 input.sk-toggleable__control:checked~label.sk-toggleable__label-arrow:before {content: \"▾\";}#sk-container-id-8 div.sk-estimator input.sk-toggleable__control:checked~label.sk-toggleable__label {background-color: #d4ebff;}#sk-container-id-8 div.sk-label input.sk-toggleable__control:checked~label.sk-toggleable__label {background-color: #d4ebff;}#sk-container-id-8 input.sk-hidden--visually {border: 0;clip: rect(1px 1px 1px 1px);clip: rect(1px, 1px, 1px, 1px);height: 1px;margin: -1px;overflow: hidden;padding: 0;position: absolute;width: 1px;}#sk-container-id-8 div.sk-estimator {font-family: monospace;background-color: #f0f8ff;border: 1px dotted black;border-radius: 0.25em;box-sizing: border-box;margin-bottom: 0.5em;}#sk-container-id-8 div.sk-estimator:hover {background-color: #d4ebff;}#sk-container-id-8 div.sk-parallel-item::after {content: \"\";width: 100%;border-bottom: 1px solid gray;flex-grow: 1;}#sk-container-id-8 div.sk-label:hover label.sk-toggleable__label {background-color: #d4ebff;}#sk-container-id-8 div.sk-serial::before {content: \"\";position: absolute;border-left: 1px solid gray;box-sizing: border-box;top: 0;bottom: 0;left: 50%;z-index: 0;}#sk-container-id-8 div.sk-serial {display: flex;flex-direction: column;align-items: center;background-color: white;padding-right: 0.2em;padding-left: 0.2em;position: relative;}#sk-container-id-8 div.sk-item {position: relative;z-index: 1;}#sk-container-id-8 div.sk-parallel {display: flex;align-items: stretch;justify-content: center;background-color: white;position: relative;}#sk-container-id-8 div.sk-item::before, #sk-container-id-8 div.sk-parallel-item::before {content: \"\";position: absolute;border-left: 1px solid gray;box-sizing: border-box;top: 0;bottom: 0;left: 50%;z-index: -1;}#sk-container-id-8 div.sk-parallel-item {display: flex;flex-direction: column;z-index: 1;position: relative;background-color: white;}#sk-container-id-8 div.sk-parallel-item:first-child::after {align-self: flex-end;width: 50%;}#sk-container-id-8 div.sk-parallel-item:last-child::after {align-self: flex-start;width: 50%;}#sk-container-id-8 div.sk-parallel-item:only-child::after {width: 0;}#sk-container-id-8 div.sk-dashed-wrapped {border: 1px dashed gray;margin: 0 0.4em 0.5em 0.4em;box-sizing: border-box;padding-bottom: 0.4em;background-color: white;}#sk-container-id-8 div.sk-label label {font-family: monospace;font-weight: bold;display: inline-block;line-height: 1.2em;}#sk-container-id-8 div.sk-label-container {text-align: center;}#sk-container-id-8 div.sk-container {/* jupyter's `normalize.less` sets `[hidden] { display: none; }` but bootstrap.min.css set `[hidden] { display: none !important; }` so we also need the `!important` here to be able to override the default hidden behavior on the sphinx rendered scikit-learn.org. See: https://github.com/scikit-learn/scikit-learn/issues/21755 */display: inline-block !important;position: relative;}#sk-container-id-8 div.sk-text-repr-fallback {display: none;}</style><div id=\"sk-container-id-8\" class=\"sk-top-container\"><div class=\"sk-text-repr-fallback\"><pre>RandomizedSearchCV(cv=5, estimator=GradientBoostingClassifier(random_state=42),\n",
       "                   n_jobs=-1,\n",
       "                   param_distributions={&#x27;learning_rate&#x27;: [0.1, 0.2, 0.3],\n",
       "                                        &#x27;max_depth&#x27;: range(6, 13, 2),\n",
       "                                        &#x27;n_estimators&#x27;: [50, 100, 200, 300,\n",
       "                                                         400]},\n",
       "                   scoring=&#x27;f1&#x27;)</pre><b>In a Jupyter environment, please rerun this cell to show the HTML representation or trust the notebook. <br />On GitHub, the HTML representation is unable to render, please try loading this page with nbviewer.org.</b></div><div class=\"sk-container\" hidden><div class=\"sk-item sk-dashed-wrapped\"><div class=\"sk-label-container\"><div class=\"sk-label sk-toggleable\"><input class=\"sk-toggleable__control sk-hidden--visually\" id=\"sk-estimator-id-14\" type=\"checkbox\" ><label for=\"sk-estimator-id-14\" class=\"sk-toggleable__label sk-toggleable__label-arrow\">RandomizedSearchCV</label><div class=\"sk-toggleable__content\"><pre>RandomizedSearchCV(cv=5, estimator=GradientBoostingClassifier(random_state=42),\n",
       "                   n_jobs=-1,\n",
       "                   param_distributions={&#x27;learning_rate&#x27;: [0.1, 0.2, 0.3],\n",
       "                                        &#x27;max_depth&#x27;: range(6, 13, 2),\n",
       "                                        &#x27;n_estimators&#x27;: [50, 100, 200, 300,\n",
       "                                                         400]},\n",
       "                   scoring=&#x27;f1&#x27;)</pre></div></div></div><div class=\"sk-parallel\"><div class=\"sk-parallel-item\"><div class=\"sk-item\"><div class=\"sk-label-container\"><div class=\"sk-label sk-toggleable\"><input class=\"sk-toggleable__control sk-hidden--visually\" id=\"sk-estimator-id-15\" type=\"checkbox\" ><label for=\"sk-estimator-id-15\" class=\"sk-toggleable__label sk-toggleable__label-arrow\">estimator: GradientBoostingClassifier</label><div class=\"sk-toggleable__content\"><pre>GradientBoostingClassifier(random_state=42)</pre></div></div></div><div class=\"sk-serial\"><div class=\"sk-item\"><div class=\"sk-estimator sk-toggleable\"><input class=\"sk-toggleable__control sk-hidden--visually\" id=\"sk-estimator-id-16\" type=\"checkbox\" ><label for=\"sk-estimator-id-16\" class=\"sk-toggleable__label sk-toggleable__label-arrow\">GradientBoostingClassifier</label><div class=\"sk-toggleable__content\"><pre>GradientBoostingClassifier(random_state=42)</pre></div></div></div></div></div></div></div></div></div></div>"
      ],
      "text/plain": [
       "RandomizedSearchCV(cv=5, estimator=GradientBoostingClassifier(random_state=42),\n",
       "                   n_jobs=-1,\n",
       "                   param_distributions={'learning_rate': [0.1, 0.2, 0.3],\n",
       "                                        'max_depth': range(6, 13, 2),\n",
       "                                        'n_estimators': [50, 100, 200, 300,\n",
       "                                                         400]},\n",
       "                   scoring='f1')"
      ]
     },
     "execution_count": 43,
     "metadata": {},
     "output_type": "execute_result"
    }
   ],
   "source": [
    "%%time\n",
    "random_cv.fit(x_train, y_train)"
   ]
  },
  {
   "cell_type": "markdown",
   "id": "c6ae5d7b",
   "metadata": {},
   "source": [
    "Notice how we only took less than 4 minutes as compared to the whopping 17 minutes to execute the grid search code. Now let us get the best values of parameters."
   ]
  },
  {
   "cell_type": "code",
   "execution_count": 48,
   "id": "1deb6fe9",
   "metadata": {},
   "outputs": [
    {
     "data": {
      "text/html": [
       "<style>#sk-container-id-10 {color: black;}#sk-container-id-10 pre{padding: 0;}#sk-container-id-10 div.sk-toggleable {background-color: white;}#sk-container-id-10 label.sk-toggleable__label {cursor: pointer;display: block;width: 100%;margin-bottom: 0;padding: 0.3em;box-sizing: border-box;text-align: center;}#sk-container-id-10 label.sk-toggleable__label-arrow:before {content: \"▸\";float: left;margin-right: 0.25em;color: #696969;}#sk-container-id-10 label.sk-toggleable__label-arrow:hover:before {color: black;}#sk-container-id-10 div.sk-estimator:hover label.sk-toggleable__label-arrow:before {color: black;}#sk-container-id-10 div.sk-toggleable__content {max-height: 0;max-width: 0;overflow: hidden;text-align: left;background-color: #f0f8ff;}#sk-container-id-10 div.sk-toggleable__content pre {margin: 0.2em;color: black;border-radius: 0.25em;background-color: #f0f8ff;}#sk-container-id-10 input.sk-toggleable__control:checked~div.sk-toggleable__content {max-height: 200px;max-width: 100%;overflow: auto;}#sk-container-id-10 input.sk-toggleable__control:checked~label.sk-toggleable__label-arrow:before {content: \"▾\";}#sk-container-id-10 div.sk-estimator input.sk-toggleable__control:checked~label.sk-toggleable__label {background-color: #d4ebff;}#sk-container-id-10 div.sk-label input.sk-toggleable__control:checked~label.sk-toggleable__label {background-color: #d4ebff;}#sk-container-id-10 input.sk-hidden--visually {border: 0;clip: rect(1px 1px 1px 1px);clip: rect(1px, 1px, 1px, 1px);height: 1px;margin: -1px;overflow: hidden;padding: 0;position: absolute;width: 1px;}#sk-container-id-10 div.sk-estimator {font-family: monospace;background-color: #f0f8ff;border: 1px dotted black;border-radius: 0.25em;box-sizing: border-box;margin-bottom: 0.5em;}#sk-container-id-10 div.sk-estimator:hover {background-color: #d4ebff;}#sk-container-id-10 div.sk-parallel-item::after {content: \"\";width: 100%;border-bottom: 1px solid gray;flex-grow: 1;}#sk-container-id-10 div.sk-label:hover label.sk-toggleable__label {background-color: #d4ebff;}#sk-container-id-10 div.sk-serial::before {content: \"\";position: absolute;border-left: 1px solid gray;box-sizing: border-box;top: 0;bottom: 0;left: 50%;z-index: 0;}#sk-container-id-10 div.sk-serial {display: flex;flex-direction: column;align-items: center;background-color: white;padding-right: 0.2em;padding-left: 0.2em;position: relative;}#sk-container-id-10 div.sk-item {position: relative;z-index: 1;}#sk-container-id-10 div.sk-parallel {display: flex;align-items: stretch;justify-content: center;background-color: white;position: relative;}#sk-container-id-10 div.sk-item::before, #sk-container-id-10 div.sk-parallel-item::before {content: \"\";position: absolute;border-left: 1px solid gray;box-sizing: border-box;top: 0;bottom: 0;left: 50%;z-index: -1;}#sk-container-id-10 div.sk-parallel-item {display: flex;flex-direction: column;z-index: 1;position: relative;background-color: white;}#sk-container-id-10 div.sk-parallel-item:first-child::after {align-self: flex-end;width: 50%;}#sk-container-id-10 div.sk-parallel-item:last-child::after {align-self: flex-start;width: 50%;}#sk-container-id-10 div.sk-parallel-item:only-child::after {width: 0;}#sk-container-id-10 div.sk-dashed-wrapped {border: 1px dashed gray;margin: 0 0.4em 0.5em 0.4em;box-sizing: border-box;padding-bottom: 0.4em;background-color: white;}#sk-container-id-10 div.sk-label label {font-family: monospace;font-weight: bold;display: inline-block;line-height: 1.2em;}#sk-container-id-10 div.sk-label-container {text-align: center;}#sk-container-id-10 div.sk-container {/* jupyter's `normalize.less` sets `[hidden] { display: none; }` but bootstrap.min.css set `[hidden] { display: none !important; }` so we also need the `!important` here to be able to override the default hidden behavior on the sphinx rendered scikit-learn.org. See: https://github.com/scikit-learn/scikit-learn/issues/21755 */display: inline-block !important;position: relative;}#sk-container-id-10 div.sk-text-repr-fallback {display: none;}</style><div id=\"sk-container-id-10\" class=\"sk-top-container\"><div class=\"sk-text-repr-fallback\"><pre>GradientBoostingClassifier(learning_rate=0.3, max_depth=10, n_estimators=400,\n",
       "                           random_state=42)</pre><b>In a Jupyter environment, please rerun this cell to show the HTML representation or trust the notebook. <br />On GitHub, the HTML representation is unable to render, please try loading this page with nbviewer.org.</b></div><div class=\"sk-container\" hidden><div class=\"sk-item\"><div class=\"sk-estimator sk-toggleable\"><input class=\"sk-toggleable__control sk-hidden--visually\" id=\"sk-estimator-id-18\" type=\"checkbox\" checked><label for=\"sk-estimator-id-18\" class=\"sk-toggleable__label sk-toggleable__label-arrow\">GradientBoostingClassifier</label><div class=\"sk-toggleable__content\"><pre>GradientBoostingClassifier(learning_rate=0.3, max_depth=10, n_estimators=400,\n",
       "                           random_state=42)</pre></div></div></div></div></div>"
      ],
      "text/plain": [
       "GradientBoostingClassifier(learning_rate=0.3, max_depth=10, n_estimators=400,\n",
       "                           random_state=42)"
      ]
     },
     "execution_count": 48,
     "metadata": {},
     "output_type": "execute_result"
    }
   ],
   "source": [
    "#best model estimator as per random search\n",
    "random_cv.best_estimator_"
   ]
  },
  {
   "cell_type": "code",
   "execution_count": 49,
   "id": "edf391b4",
   "metadata": {},
   "outputs": [
    {
     "data": {
      "text/plain": [
       "{'n_estimators': 400, 'max_depth': 10, 'learning_rate': 0.3}"
      ]
     },
     "execution_count": 49,
     "metadata": {},
     "output_type": "execute_result"
    }
   ],
   "source": [
    "random_cv.best_params_"
   ]
  },
  {
   "cell_type": "markdown",
   "id": "129d246c",
   "metadata": {},
   "source": [
    "Notice how random search found the same parameters as grid search in a fraction of time. This is because we have not looked at the entire pool of combinations of hyperparameters. Next lets check the score on cross validation."
   ]
  },
  {
   "cell_type": "code",
   "execution_count": 50,
   "id": "5e436116",
   "metadata": {},
   "outputs": [
    {
     "data": {
      "text/plain": [
       "0.9077340243467941"
      ]
     },
     "execution_count": 50,
     "metadata": {},
     "output_type": "execute_result"
    }
   ],
   "source": [
    "#cross validation score for the best model after random search\n",
    "random_cv.best_score_"
   ]
  },
  {
   "cell_type": "markdown",
   "id": "5a7c6cc4",
   "metadata": {},
   "source": [
    "The score looks good. Now let us check the score on validation set."
   ]
  },
  {
   "cell_type": "code",
   "execution_count": 47,
   "id": "7e1c55e5",
   "metadata": {
    "scrolled": true
   },
   "outputs": [
    {
     "name": "stdout",
     "output_type": "stream",
     "text": [
      "F1 Score on Train data: 1.0\n",
      "F1 Score on Val data: 0.9122368146758391\n",
      "[CV] END ...learning_rate=0.1, max_depth=6, n_estimators=100; total time=   7.6s\n",
      "[CV] END ...learning_rate=0.1, max_depth=6, n_estimators=300; total time=  26.1s\n",
      "[CV] END ...learning_rate=0.1, max_depth=6, n_estimators=400; total time=  31.7s\n",
      "[CV] END ...learning_rate=0.1, max_depth=8, n_estimators=300; total time=  33.7s\n",
      "[CV] END ...learning_rate=0.1, max_depth=8, n_estimators=400; total time=  44.8s\n",
      "[CV] END ..learning_rate=0.1, max_depth=10, n_estimators=300; total time=  44.0s\n",
      "[CV] END ..learning_rate=0.1, max_depth=10, n_estimators=400; total time=  56.9s\n",
      "[CV] END ..learning_rate=0.1, max_depth=12, n_estimators=300; total time=  51.7s\n",
      "[CV] END ..learning_rate=0.1, max_depth=12, n_estimators=400; total time= 1.2min\n",
      "[CV] END ...learning_rate=0.2, max_depth=6, n_estimators=400; total time=  33.7s\n",
      "[CV] END ...learning_rate=0.2, max_depth=8, n_estimators=200; total time=  22.4s\n",
      "[CV] END ...learning_rate=0.2, max_depth=8, n_estimators=400; total time=  44.8s\n",
      "[CV] END ..learning_rate=0.2, max_depth=10, n_estimators=100; total time=  14.2s\n",
      "[CV] END ..learning_rate=0.2, max_depth=10, n_estimators=200; total time=  28.7s\n",
      "[CV] END ..learning_rate=0.2, max_depth=10, n_estimators=400; total time=  57.1s\n",
      "[CV] END ..learning_rate=0.2, max_depth=12, n_estimators=200; total time=  35.1s\n",
      "[CV] END ..learning_rate=0.2, max_depth=12, n_estimators=300; total time=  53.0s\n",
      "[CV] END ...learning_rate=0.3, max_depth=6, n_estimators=100; total time=   8.5s\n",
      "[CV] END ...learning_rate=0.3, max_depth=6, n_estimators=100; total time=   8.6s\n",
      "[CV] END ...learning_rate=0.3, max_depth=6, n_estimators=200; total time=  17.1s\n",
      "[CV] END ...learning_rate=0.3, max_depth=6, n_estimators=300; total time=  25.5s\n",
      "[CV] END ....learning_rate=0.3, max_depth=8, n_estimators=50; total time=   5.6s\n",
      "[CV] END ....learning_rate=0.3, max_depth=8, n_estimators=50; total time=   5.6s\n",
      "[CV] END ...learning_rate=0.3, max_depth=8, n_estimators=100; total time=  11.3s\n",
      "[CV] END ...learning_rate=0.3, max_depth=8, n_estimators=100; total time=  11.4s\n",
      "[CV] END ...learning_rate=0.3, max_depth=8, n_estimators=300; total time=  34.0s\n",
      "[CV] END ...learning_rate=0.3, max_depth=10, n_estimators=50; total time=   7.1s\n",
      "[CV] END ...learning_rate=0.3, max_depth=10, n_estimators=50; total time=   8.0s\n",
      "[CV] END ...learning_rate=0.3, max_depth=10, n_estimators=50; total time=   7.2s\n",
      "[CV] END ..learning_rate=0.3, max_depth=10, n_estimators=100; total time=  14.7s\n",
      "[CV] END ..learning_rate=0.3, max_depth=10, n_estimators=200; total time=  31.0s\n",
      "[CV] END ..learning_rate=0.3, max_depth=10, n_estimators=400; total time=  58.5s\n",
      "[CV] END ..learning_rate=0.3, max_depth=12, n_estimators=100; total time=  18.0s\n",
      "[CV] END ..learning_rate=0.3, max_depth=12, n_estimators=300; total time=  48.4s\n",
      "[CV] END ..learning_rate=0.3, max_depth=12, n_estimators=400; total time=  39.3s\n",
      "[CV] END ....learning_rate=0.1, max_depth=6, n_estimators=50; total time=   3.6s\n",
      "[CV] END ...learning_rate=0.1, max_depth=6, n_estimators=100; total time=   8.9s\n",
      "[CV] END ...learning_rate=0.1, max_depth=6, n_estimators=300; total time=  25.1s\n",
      "[CV] END ...learning_rate=0.1, max_depth=6, n_estimators=400; total time=  31.9s\n",
      "[CV] END ...learning_rate=0.1, max_depth=8, n_estimators=300; total time=  34.0s\n",
      "[CV] END ...learning_rate=0.1, max_depth=10, n_estimators=50; total time=   7.4s\n",
      "[CV] END ...learning_rate=0.1, max_depth=10, n_estimators=50; total time=   7.4s\n",
      "[CV] END ...learning_rate=0.1, max_depth=10, n_estimators=50; total time=   7.0s\n",
      "[CV] END ..learning_rate=0.1, max_depth=10, n_estimators=100; total time=  14.4s\n",
      "[CV] END ..learning_rate=0.1, max_depth=10, n_estimators=200; total time=  29.0s\n",
      "[CV] END ..learning_rate=0.1, max_depth=10, n_estimators=400; total time=  58.0s\n",
      "[CV] END ..learning_rate=0.1, max_depth=12, n_estimators=100; total time=  17.7s\n",
      "[CV] END ..learning_rate=0.1, max_depth=12, n_estimators=300; total time=  52.0s\n",
      "[CV] END ..learning_rate=0.1, max_depth=12, n_estimators=400; total time= 1.2min\n",
      "[CV] END ...learning_rate=0.2, max_depth=6, n_estimators=400; total time=  33.7s\n",
      "[CV] END ...learning_rate=0.2, max_depth=8, n_estimators=200; total time=  22.3s\n",
      "[CV] END ...learning_rate=0.2, max_depth=8, n_estimators=400; total time=  45.0s\n",
      "[CV] END ..learning_rate=0.2, max_depth=10, n_estimators=100; total time=  14.2s\n",
      "[CV] END ..learning_rate=0.2, max_depth=10, n_estimators=300; total time=  42.9s\n",
      "[CV] END ..learning_rate=0.2, max_depth=10, n_estimators=400; total time=  56.9s\n",
      "[CV] END ..learning_rate=0.2, max_depth=12, n_estimators=300; total time=  52.9s\n",
      "[CV] END ..learning_rate=0.2, max_depth=12, n_estimators=400; total time= 1.2min\n",
      "[CV] END ...learning_rate=0.3, max_depth=6, n_estimators=400; total time=  34.0s\n",
      "[CV] END ...learning_rate=0.3, max_depth=8, n_estimators=200; total time=  22.6s\n",
      "[CV] END ...learning_rate=0.3, max_depth=8, n_estimators=400; total time=  46.1s\n",
      "[CV] END ..learning_rate=0.3, max_depth=10, n_estimators=100; total time=  14.9s\n",
      "[CV] END ..learning_rate=0.3, max_depth=10, n_estimators=200; total time=  31.2s\n",
      "[CV] END ..learning_rate=0.3, max_depth=10, n_estimators=400; total time=  58.5s\n",
      "[CV] END ..learning_rate=0.3, max_depth=12, n_estimators=200; total time=  35.8s\n",
      "[CV] END ..learning_rate=0.3, max_depth=12, n_estimators=300; total time=  49.1s\n",
      "[CV] END ....learning_rate=0.1, max_depth=6, n_estimators=50; total time=   3.6s\n",
      "[CV] END ...learning_rate=0.1, max_depth=6, n_estimators=100; total time=   9.0s\n",
      "[CV] END ...learning_rate=0.1, max_depth=6, n_estimators=300; total time=  25.3s\n",
      "[CV] END ....learning_rate=0.1, max_depth=8, n_estimators=50; total time=   5.2s\n",
      "[CV] END ....learning_rate=0.1, max_depth=8, n_estimators=50; total time=   5.2s\n",
      "[CV] END ....learning_rate=0.1, max_depth=8, n_estimators=50; total time=   5.3s\n",
      "[CV] END ...learning_rate=0.1, max_depth=8, n_estimators=100; total time=  10.7s\n",
      "[CV] END ...learning_rate=0.1, max_depth=8, n_estimators=200; total time=  22.4s\n",
      "[CV] END ...learning_rate=0.1, max_depth=8, n_estimators=400; total time=  44.8s\n",
      "[CV] END ..learning_rate=0.1, max_depth=10, n_estimators=100; total time=  14.3s\n",
      "[CV] END ..learning_rate=0.1, max_depth=10, n_estimators=300; total time=  44.0s\n",
      "[CV] END ..learning_rate=0.1, max_depth=10, n_estimators=400; total time=  56.8s\n",
      "[CV] END ..learning_rate=0.1, max_depth=12, n_estimators=300; total time=  52.1s\n",
      "[CV] END ....learning_rate=0.2, max_depth=6, n_estimators=50; total time=   4.2s\n",
      "[CV] END ....learning_rate=0.2, max_depth=6, n_estimators=50; total time=   4.2s\n",
      "[CV] END ....learning_rate=0.2, max_depth=6, n_estimators=50; total time=   4.2s\n",
      "[CV] END ....learning_rate=0.2, max_depth=6, n_estimators=50; total time=   4.3s\n",
      "[CV] END ....learning_rate=0.2, max_depth=6, n_estimators=50; total time=   4.1s\n",
      "[CV] END ...learning_rate=0.2, max_depth=6, n_estimators=100; total time=   8.4s\n",
      "[CV] END ...learning_rate=0.2, max_depth=6, n_estimators=200; total time=  16.8s\n",
      "[CV] END ...learning_rate=0.2, max_depth=6, n_estimators=300; total time=  25.2s\n",
      "[CV] END ...learning_rate=0.2, max_depth=6, n_estimators=400; total time=  33.6s\n",
      "[CV] END ...learning_rate=0.2, max_depth=8, n_estimators=300; total time=  33.6s\n",
      "[CV] END ...learning_rate=0.2, max_depth=8, n_estimators=400; total time=  45.0s\n",
      "[CV] END ..learning_rate=0.2, max_depth=10, n_estimators=300; total time=  42.8s\n",
      "[CV] END ..learning_rate=0.2, max_depth=10, n_estimators=400; total time=  57.0s\n",
      "[CV] END ..learning_rate=0.2, max_depth=12, n_estimators=300; total time=  53.2s\n",
      "[CV] END ....learning_rate=0.3, max_depth=6, n_estimators=50; total time=   4.2s\n",
      "[CV] END ....learning_rate=0.3, max_depth=6, n_estimators=50; total time=   4.2s\n",
      "[CV] END ....learning_rate=0.3, max_depth=6, n_estimators=50; total time=   4.2s\n",
      "[CV] END ....learning_rate=0.3, max_depth=6, n_estimators=50; total time=   4.4s\n",
      "[CV] END ....learning_rate=0.3, max_depth=6, n_estimators=50; total time=   4.2s\n",
      "[CV] END ...learning_rate=0.3, max_depth=6, n_estimators=100; total time=   8.6s\n",
      "[CV] END ...learning_rate=0.3, max_depth=6, n_estimators=200; total time=  16.8s\n",
      "[CV] END ...learning_rate=0.3, max_depth=6, n_estimators=300; total time=  25.3s\n",
      "[CV] END ...learning_rate=0.3, max_depth=6, n_estimators=400; total time=  33.9s\n",
      "[CV] END ...learning_rate=0.3, max_depth=8, n_estimators=200; total time=  22.5s\n",
      "[CV] END ...learning_rate=0.3, max_depth=8, n_estimators=400; total time=  46.5s\n",
      "[CV] END ..learning_rate=0.3, max_depth=10, n_estimators=200; total time=  30.3s\n",
      "[CV] END ..learning_rate=0.3, max_depth=10, n_estimators=300; total time=  44.6s\n",
      "[CV] END ...learning_rate=0.3, max_depth=12, n_estimators=50; total time=   9.0s\n",
      "[CV] END ..learning_rate=0.3, max_depth=12, n_estimators=100; total time=  17.6s\n",
      "[CV] END ..learning_rate=0.3, max_depth=12, n_estimators=200; total time=  35.9s\n",
      "[CV] END ..learning_rate=0.3, max_depth=12, n_estimators=300; total time=  47.6s\n",
      "[CV] END ....learning_rate=0.1, max_depth=6, n_estimators=50; total time=   3.6s\n",
      "[CV] END ...learning_rate=0.1, max_depth=6, n_estimators=200; total time=  18.1s\n",
      "[CV] END ...learning_rate=0.1, max_depth=6, n_estimators=300; total time=  23.8s\n",
      "[CV] END ....learning_rate=0.1, max_depth=8, n_estimators=50; total time=   5.2s\n",
      "[CV] END ...learning_rate=0.1, max_depth=8, n_estimators=100; total time=  10.9s\n",
      "[CV] END ...learning_rate=0.1, max_depth=8, n_estimators=200; total time=  21.9s\n",
      "[CV] END ...learning_rate=0.1, max_depth=8, n_estimators=300; total time=  34.0s\n",
      "[CV] END ...learning_rate=0.1, max_depth=10, n_estimators=50; total time=   7.0s\n",
      "[CV] END ..learning_rate=0.1, max_depth=10, n_estimators=100; total time=  14.4s\n",
      "[CV] END ..learning_rate=0.1, max_depth=10, n_estimators=200; total time=  28.6s\n",
      "[CV] END ..learning_rate=0.1, max_depth=10, n_estimators=400; total time=  58.1s\n",
      "[CV] END ..learning_rate=0.1, max_depth=12, n_estimators=100; total time=  17.5s\n",
      "[CV] END ..learning_rate=0.1, max_depth=12, n_estimators=200; total time=  34.7s\n",
      "[CV] END ..learning_rate=0.1, max_depth=12, n_estimators=400; total time= 1.2min\n",
      "[CV] END ...learning_rate=0.2, max_depth=6, n_estimators=300; total time=  25.2s\n",
      "[CV] END ...learning_rate=0.2, max_depth=6, n_estimators=400; total time=  33.7s\n",
      "[CV] END ...learning_rate=0.2, max_depth=8, n_estimators=300; total time=  33.8s\n",
      "[CV] END ...learning_rate=0.2, max_depth=8, n_estimators=400; total time=  44.8s\n",
      "[CV] END ..learning_rate=0.2, max_depth=10, n_estimators=300; total time=  43.1s\n",
      "[CV] END ...learning_rate=0.2, max_depth=12, n_estimators=50; total time=   8.8s\n",
      "[CV] END ...learning_rate=0.2, max_depth=12, n_estimators=50; total time=   8.8s\n",
      "[CV] END ...learning_rate=0.2, max_depth=12, n_estimators=50; total time=   9.0s\n",
      "[CV] END ..learning_rate=0.2, max_depth=12, n_estimators=100; total time=  17.6s\n",
      "[CV] END ..learning_rate=0.2, max_depth=12, n_estimators=200; total time=  35.1s\n",
      "[CV] END ..learning_rate=0.2, max_depth=12, n_estimators=400; total time= 1.2min\n",
      "[CV] END ...learning_rate=0.3, max_depth=6, n_estimators=200; total time=  17.0s\n",
      "[CV] END ...learning_rate=0.3, max_depth=6, n_estimators=300; total time=  25.6s\n",
      "[CV] END ....learning_rate=0.3, max_depth=8, n_estimators=50; total time=   5.7s\n",
      "[CV] END ...learning_rate=0.3, max_depth=8, n_estimators=100; total time=  11.4s\n",
      "[CV] END ...learning_rate=0.3, max_depth=8, n_estimators=200; total time=  22.4s\n",
      "[CV] END ...learning_rate=0.3, max_depth=8, n_estimators=300; total time=  34.6s\n",
      "[CV] END ...learning_rate=0.3, max_depth=10, n_estimators=50; total time=   7.4s\n",
      "[CV] END ..learning_rate=0.3, max_depth=10, n_estimators=100; total time=  14.7s\n",
      "[CV] END ..learning_rate=0.3, max_depth=10, n_estimators=200; total time=  30.5s\n",
      "[CV] END ..learning_rate=0.3, max_depth=10, n_estimators=300; total time=  44.1s\n",
      "[CV] END ...learning_rate=0.3, max_depth=12, n_estimators=50; total time=   9.1s\n",
      "[CV] END ..learning_rate=0.3, max_depth=12, n_estimators=100; total time=  17.7s\n",
      "[CV] END ..learning_rate=0.3, max_depth=12, n_estimators=200; total time=  36.3s\n",
      "[CV] END ..learning_rate=0.3, max_depth=12, n_estimators=400; total time=  48.0s\n"
     ]
    },
    {
     "name": "stdout",
     "output_type": "stream",
     "text": [
      "[CV] END ...learning_rate=0.1, max_depth=6, n_estimators=100; total time=   7.5s\n",
      "[CV] END ...learning_rate=0.1, max_depth=6, n_estimators=200; total time=  18.1s\n",
      "[CV] END ...learning_rate=0.1, max_depth=6, n_estimators=400; total time=  31.8s\n",
      "[CV] END ...learning_rate=0.1, max_depth=8, n_estimators=200; total time=  21.9s\n",
      "[CV] END ...learning_rate=0.1, max_depth=8, n_estimators=300; total time=  34.4s\n",
      "[CV] END ...learning_rate=0.1, max_depth=10, n_estimators=50; total time=   7.0s\n",
      "[CV] END ..learning_rate=0.1, max_depth=10, n_estimators=100; total time=  14.2s\n",
      "[CV] END ..learning_rate=0.1, max_depth=10, n_estimators=200; total time=  28.6s\n",
      "[CV] END ..learning_rate=0.1, max_depth=10, n_estimators=300; total time=  44.1s\n",
      "[CV] END ...learning_rate=0.1, max_depth=12, n_estimators=50; total time=   9.3s\n",
      "[CV] END ..learning_rate=0.1, max_depth=12, n_estimators=100; total time=  17.8s\n",
      "[CV] END ..learning_rate=0.1, max_depth=12, n_estimators=200; total time=  34.8s\n",
      "[CV] END ..learning_rate=0.1, max_depth=12, n_estimators=400; total time= 1.2min\n",
      "[CV] END ...learning_rate=0.2, max_depth=6, n_estimators=200; total time=  16.8s\n",
      "[CV] END ...learning_rate=0.2, max_depth=6, n_estimators=300; total time=  25.4s\n",
      "[CV] END ....learning_rate=0.2, max_depth=8, n_estimators=50; total time=   5.6s\n",
      "[CV] END ...learning_rate=0.2, max_depth=8, n_estimators=100; total time=  11.3s\n",
      "[CV] END ...learning_rate=0.2, max_depth=8, n_estimators=100; total time=  11.3s\n",
      "[CV] END ...learning_rate=0.2, max_depth=8, n_estimators=300; total time=  33.6s\n",
      "[CV] END ...learning_rate=0.2, max_depth=10, n_estimators=50; total time=   7.1s\n",
      "[CV] END ...learning_rate=0.2, max_depth=10, n_estimators=50; total time=   7.3s\n",
      "[CV] END ...learning_rate=0.2, max_depth=10, n_estimators=50; total time=   7.0s\n",
      "[CV] END ..learning_rate=0.2, max_depth=10, n_estimators=100; total time=  14.3s\n",
      "[CV] END ..learning_rate=0.2, max_depth=10, n_estimators=200; total time=  28.8s\n",
      "[CV] END ..learning_rate=0.2, max_depth=10, n_estimators=400; total time=  56.8s\n",
      "[CV] END ..learning_rate=0.2, max_depth=12, n_estimators=100; total time=  17.6s\n",
      "[CV] END ..learning_rate=0.2, max_depth=12, n_estimators=300; total time=  53.0s\n",
      "[CV] END ..learning_rate=0.2, max_depth=12, n_estimators=400; total time= 1.2min\n",
      "[CV] END ...learning_rate=0.3, max_depth=6, n_estimators=400; total time=  34.0s\n",
      "[CV] END ...learning_rate=0.3, max_depth=8, n_estimators=200; total time=  22.6s\n",
      "[CV] END ...learning_rate=0.3, max_depth=8, n_estimators=400; total time=  46.3s\n",
      "[CV] END ..learning_rate=0.3, max_depth=10, n_estimators=100; total time=  14.9s\n",
      "[CV] END ..learning_rate=0.3, max_depth=10, n_estimators=300; total time=  45.9s\n",
      "[CV] END ..learning_rate=0.3, max_depth=10, n_estimators=400; total time=  58.2s\n",
      "[CV] END ..learning_rate=0.3, max_depth=12, n_estimators=300; total time=  48.8s\n",
      "[CV] END ..learning_rate=0.3, max_depth=12, n_estimators=400; total time=  40.4s\n",
      "[CV] END ...learning_rate=0.1, max_depth=6, n_estimators=100; total time=   7.5s\n",
      "[CV] END ...learning_rate=0.1, max_depth=6, n_estimators=200; total time=  18.2s\n",
      "[CV] END ...learning_rate=0.1, max_depth=6, n_estimators=400; total time=  31.8s\n",
      "[CV] END ...learning_rate=0.1, max_depth=8, n_estimators=100; total time=  10.9s\n",
      "[CV] END ...learning_rate=0.1, max_depth=8, n_estimators=300; total time=  34.0s\n",
      "[CV] END ...learning_rate=0.1, max_depth=8, n_estimators=400; total time=  44.8s\n",
      "[CV] END ..learning_rate=0.1, max_depth=10, n_estimators=300; total time=  44.4s\n",
      "[CV] END ...learning_rate=0.1, max_depth=12, n_estimators=50; total time=   8.9s\n",
      "[CV] END ...learning_rate=0.1, max_depth=12, n_estimators=50; total time=   9.4s\n",
      "[CV] END ...learning_rate=0.1, max_depth=12, n_estimators=50; total time=   9.3s\n",
      "[CV] END ..learning_rate=0.1, max_depth=12, n_estimators=100; total time=  17.6s\n",
      "[CV] END ..learning_rate=0.1, max_depth=12, n_estimators=200; total time=  34.8s\n",
      "[CV] END ..learning_rate=0.1, max_depth=12, n_estimators=400; total time= 1.2min\n",
      "[CV] END ...learning_rate=0.2, max_depth=6, n_estimators=200; total time=  16.8s\n",
      "[CV] END ...learning_rate=0.2, max_depth=6, n_estimators=400; total time=  33.6s\n",
      "[CV] END ...learning_rate=0.2, max_depth=8, n_estimators=100; total time=  11.1s\n",
      "[CV] END ...learning_rate=0.2, max_depth=8, n_estimators=200; total time=  22.4s\n",
      "[CV] END ...learning_rate=0.2, max_depth=8, n_estimators=400; total time=  44.8s\n",
      "[CV] END ..learning_rate=0.2, max_depth=10, n_estimators=200; total time=  28.6s\n",
      "[CV] END ..learning_rate=0.2, max_depth=10, n_estimators=300; total time=  42.9s\n",
      "[CV] END ...learning_rate=0.2, max_depth=12, n_estimators=50; total time=   8.8s\n",
      "[CV] END ..learning_rate=0.2, max_depth=12, n_estimators=100; total time=  17.7s\n",
      "[CV] END ..learning_rate=0.2, max_depth=12, n_estimators=200; total time=  35.0s\n",
      "[CV] END ..learning_rate=0.2, max_depth=12, n_estimators=300; total time=  52.9s\n",
      "[CV] END ...learning_rate=0.3, max_depth=6, n_estimators=100; total time=   8.5s\n",
      "[CV] END ...learning_rate=0.3, max_depth=6, n_estimators=100; total time=   8.6s\n",
      "[CV] END ...learning_rate=0.3, max_depth=6, n_estimators=200; total time=  16.9s\n",
      "[CV] END ...learning_rate=0.3, max_depth=6, n_estimators=300; total time=  25.4s\n",
      "[CV] END ....learning_rate=0.3, max_depth=8, n_estimators=50; total time=   5.6s\n",
      "[CV] END ....learning_rate=0.3, max_depth=8, n_estimators=50; total time=   5.6s\n",
      "[CV] END ...learning_rate=0.3, max_depth=8, n_estimators=100; total time=  11.3s\n",
      "[CV] END ...learning_rate=0.3, max_depth=8, n_estimators=200; total time=  22.5s\n",
      "[CV] END ...learning_rate=0.3, max_depth=8, n_estimators=300; total time=  34.4s\n",
      "[CV] END ...learning_rate=0.3, max_depth=10, n_estimators=50; total time=   7.4s\n",
      "[CV] END ..learning_rate=0.3, max_depth=10, n_estimators=100; total time=  14.8s\n",
      "[CV] END ..learning_rate=0.3, max_depth=10, n_estimators=200; total time=  30.6s\n",
      "[CV] END ..learning_rate=0.3, max_depth=10, n_estimators=400; total time=  58.5s\n",
      "[CV] END ..learning_rate=0.3, max_depth=12, n_estimators=100; total time=  17.6s\n",
      "[CV] END ..learning_rate=0.3, max_depth=12, n_estimators=200; total time=  36.2s\n",
      "[CV] END ..learning_rate=0.3, max_depth=12, n_estimators=400; total time=  44.8s\n",
      "[CV] END ....learning_rate=0.1, max_depth=6, n_estimators=50; total time=   3.6s\n",
      "[CV] END ...learning_rate=0.1, max_depth=6, n_estimators=200; total time=  18.3s\n",
      "[CV] END ...learning_rate=0.1, max_depth=6, n_estimators=300; total time=  23.7s\n",
      "[CV] END ....learning_rate=0.1, max_depth=8, n_estimators=50; total time=   5.2s\n",
      "[CV] END ...learning_rate=0.1, max_depth=8, n_estimators=100; total time=  11.0s\n",
      "[CV] END ...learning_rate=0.1, max_depth=8, n_estimators=200; total time=  22.0s\n",
      "[CV] END ...learning_rate=0.1, max_depth=8, n_estimators=400; total time=  45.1s\n",
      "[CV] END ..learning_rate=0.1, max_depth=10, n_estimators=100; total time=  14.2s\n",
      "[CV] END ..learning_rate=0.1, max_depth=10, n_estimators=200; total time=  29.4s\n",
      "[CV] END ..learning_rate=0.1, max_depth=10, n_estimators=400; total time=  57.7s\n",
      "[CV] END ..learning_rate=0.1, max_depth=12, n_estimators=200; total time=  35.1s\n",
      "[CV] END ..learning_rate=0.1, max_depth=12, n_estimators=300; total time=  51.9s\n",
      "[CV] END ...learning_rate=0.2, max_depth=6, n_estimators=100; total time=   8.3s\n",
      "[CV] END ...learning_rate=0.2, max_depth=6, n_estimators=100; total time=   8.5s\n",
      "[CV] END ...learning_rate=0.2, max_depth=6, n_estimators=200; total time=  16.8s\n",
      "[CV] END ...learning_rate=0.2, max_depth=6, n_estimators=300; total time=  25.3s\n",
      "[CV] END ....learning_rate=0.2, max_depth=8, n_estimators=50; total time=   5.7s\n",
      "[CV] END ....learning_rate=0.2, max_depth=8, n_estimators=50; total time=   5.6s\n",
      "[CV] END ...learning_rate=0.2, max_depth=8, n_estimators=100; total time=  11.2s\n",
      "[CV] END ...learning_rate=0.2, max_depth=8, n_estimators=200; total time=  22.4s\n",
      "[CV] END ...learning_rate=0.2, max_depth=8, n_estimators=300; total time=  33.6s\n",
      "[CV] END ...learning_rate=0.2, max_depth=10, n_estimators=50; total time=   7.2s\n",
      "[CV] END ..learning_rate=0.2, max_depth=10, n_estimators=100; total time=  14.3s\n",
      "[CV] END ..learning_rate=0.2, max_depth=10, n_estimators=200; total time=  28.8s\n",
      "[CV] END ..learning_rate=0.2, max_depth=10, n_estimators=300; total time=  42.6s\n",
      "[CV] END ...learning_rate=0.2, max_depth=12, n_estimators=50; total time=   9.0s\n",
      "[CV] END ..learning_rate=0.2, max_depth=12, n_estimators=100; total time=  17.7s\n",
      "[CV] END ..learning_rate=0.2, max_depth=12, n_estimators=200; total time=  35.2s\n",
      "[CV] END ..learning_rate=0.2, max_depth=12, n_estimators=400; total time= 1.2min\n",
      "[CV] END ...learning_rate=0.3, max_depth=6, n_estimators=200; total time=  17.2s\n",
      "[CV] END ...learning_rate=0.3, max_depth=6, n_estimators=400; total time=  33.9s\n",
      "[CV] END ...learning_rate=0.3, max_depth=8, n_estimators=100; total time=  11.3s\n",
      "[CV] END ...learning_rate=0.3, max_depth=8, n_estimators=300; total time=  33.9s\n",
      "[CV] END ...learning_rate=0.3, max_depth=8, n_estimators=400; total time=  46.5s\n",
      "[CV] END ..learning_rate=0.3, max_depth=10, n_estimators=300; total time=  46.0s\n",
      "[CV] END ..learning_rate=0.3, max_depth=10, n_estimators=400; total time=  57.8s\n",
      "[CV] END ..learning_rate=0.3, max_depth=12, n_estimators=300; total time=  50.9s\n"
     ]
    },
    {
     "name": "stdout",
     "output_type": "stream",
     "text": [
      "[CV] END ....learning_rate=0.1, max_depth=6, n_estimators=50; total time=   3.6s\n",
      "[CV] END ...learning_rate=0.1, max_depth=6, n_estimators=200; total time=  18.3s\n",
      "[CV] END ...learning_rate=0.1, max_depth=6, n_estimators=400; total time=  31.6s\n",
      "[CV] END ...learning_rate=0.1, max_depth=8, n_estimators=100; total time=  10.9s\n",
      "[CV] END ...learning_rate=0.1, max_depth=8, n_estimators=200; total time=  22.5s\n",
      "[CV] END ...learning_rate=0.1, max_depth=8, n_estimators=400; total time=  44.9s\n",
      "[CV] END ..learning_rate=0.1, max_depth=10, n_estimators=200; total time=  28.6s\n",
      "[CV] END ..learning_rate=0.1, max_depth=10, n_estimators=300; total time=  44.1s\n",
      "[CV] END ...learning_rate=0.1, max_depth=12, n_estimators=50; total time=   9.4s\n",
      "[CV] END ..learning_rate=0.1, max_depth=12, n_estimators=100; total time=  17.7s\n",
      "[CV] END ..learning_rate=0.1, max_depth=12, n_estimators=200; total time=  34.6s\n",
      "[CV] END ..learning_rate=0.1, max_depth=12, n_estimators=300; total time=  51.7s\n",
      "[CV] END ...learning_rate=0.2, max_depth=6, n_estimators=100; total time=   8.3s\n",
      "[CV] END ...learning_rate=0.2, max_depth=6, n_estimators=100; total time=   8.5s\n",
      "[CV] END ...learning_rate=0.2, max_depth=6, n_estimators=200; total time=  16.7s\n",
      "[CV] END ...learning_rate=0.2, max_depth=6, n_estimators=300; total time=  25.4s\n",
      "[CV] END ....learning_rate=0.2, max_depth=8, n_estimators=50; total time=   5.6s\n",
      "[CV] END ....learning_rate=0.2, max_depth=8, n_estimators=50; total time=   5.5s\n",
      "[CV] END ...learning_rate=0.2, max_depth=8, n_estimators=100; total time=  11.2s\n",
      "[CV] END ...learning_rate=0.2, max_depth=8, n_estimators=200; total time=  22.5s\n",
      "[CV] END ...learning_rate=0.2, max_depth=8, n_estimators=300; total time=  33.6s\n",
      "[CV] END ...learning_rate=0.2, max_depth=10, n_estimators=50; total time=   7.2s\n",
      "[CV] END ..learning_rate=0.2, max_depth=10, n_estimators=100; total time=  14.3s\n",
      "[CV] END ..learning_rate=0.2, max_depth=10, n_estimators=200; total time=  28.8s\n",
      "[CV] END ..learning_rate=0.2, max_depth=10, n_estimators=400; total time=  56.6s\n",
      "[CV] END ..learning_rate=0.2, max_depth=12, n_estimators=100; total time=  17.6s\n",
      "[CV] END ..learning_rate=0.2, max_depth=12, n_estimators=200; total time=  35.1s\n",
      "[CV] END ..learning_rate=0.2, max_depth=12, n_estimators=400; total time= 1.2min\n",
      "[CV] END ...learning_rate=0.3, max_depth=6, n_estimators=300; total time=  25.3s\n",
      "[CV] END ...learning_rate=0.3, max_depth=6, n_estimators=400; total time=  33.9s\n",
      "[CV] END ...learning_rate=0.3, max_depth=8, n_estimators=300; total time=  33.9s\n",
      "[CV] END ...learning_rate=0.3, max_depth=8, n_estimators=400; total time=  46.4s\n",
      "[CV] END ..learning_rate=0.3, max_depth=10, n_estimators=300; total time=  46.2s\n",
      "[CV] END ...learning_rate=0.3, max_depth=12, n_estimators=50; total time=   8.9s\n",
      "[CV] END ...learning_rate=0.3, max_depth=12, n_estimators=50; total time=   8.9s\n",
      "[CV] END ...learning_rate=0.3, max_depth=12, n_estimators=50; total time=   9.1s\n",
      "[CV] END ..learning_rate=0.3, max_depth=12, n_estimators=100; total time=  17.6s\n",
      "[CV] END ..learning_rate=0.3, max_depth=12, n_estimators=200; total time=  36.1s\n",
      "[CV] END ..learning_rate=0.3, max_depth=12, n_estimators=400; total time=  47.2s\n"
     ]
    }
   ],
   "source": [
    "y_train_randomcv_pred = random_cv.predict(x_train)\n",
    "\n",
    "y_val_randomcv_pred = random_cv.predict(x_val)\n",
    "\n",
    "f1_train_randomcv = f1_score(y_train, y_train_randomcv_pred)\n",
    "f1_val_randomcv = f1_score(y_val, y_val_randomcv_pred)\n",
    "\n",
    "print(\"F1 Score on Train data:\", f1_train_randomcv)\n",
    "print(\"F1 Score on Val data:\", f1_val_randomcv)"
   ]
  },
  {
   "cell_type": "markdown",
   "id": "909b0e12",
   "metadata": {},
   "source": [
    "And we can see that we have got the same score, with minimal effort as compared to grid search which used had to work extra and generate 300 different models. Now let us understand the advantages and disadvantages of this method."
   ]
  },
  {
   "cell_type": "markdown",
   "id": "d46a26b8",
   "metadata": {},
   "source": [
    "__Jump to PPT__"
   ]
  },
  {
   "cell_type": "markdown",
   "id": "2d5b9cb4",
   "metadata": {},
   "source": [
    "## Video 5 - Bayesian Optimization\n",
    "<p style = 'color:green'><b>Run all the cells above before you begin</b><p>\n"
   ]
  },
  {
   "cell_type": "markdown",
   "id": "eb43d205",
   "metadata": {},
   "source": [
    "Let us begin with importing the libraries. We will import the BayesSearchCV class from skopt library.\n",
    "Scikit-Optimize, or skopt, is a simple and efficient library to minimize (very) expensive functions. It is made on top of numpy, SciPy and Scikit-Learn"
   ]
  },
  {
   "cell_type": "code",
   "execution_count": 9,
   "id": "0870d7ec",
   "metadata": {},
   "outputs": [],
   "source": [
    "from skopt import BayesSearchCV\n",
    "# parameter ranges are specified by one of below\n",
    "from skopt.space import Real, Integer"
   ]
  },
  {
   "cell_type": "markdown",
   "id": "085b739e",
   "metadata": {},
   "source": [
    "Now let us set up and configure an instance of BayesSearchCV which contains the parameters in a dictionary, and the model that will be used for predictions during Bayesian Optimization. We will be using the same parameters as before.\n",
    "\n",
    "Then we add the n_iter, random_state and n_jobs. "
   ]
  },
  {
   "cell_type": "code",
   "execution_count": 12,
   "id": "7c8c152b",
   "metadata": {},
   "outputs": [],
   "source": [
    "# log-uniform: understand as search over p = exp(x) by varying x\n",
    "opt = BayesSearchCV(\n",
    "    GradientBoostingClassifier(),\n",
    "    {\n",
    "        'learning_rate': Real(0.1, 0.3),\n",
    "        'max_depth': Integer(6, 13),\n",
    "        'n_estimators': Integer(50, 500),\n",
    "    },\n",
    "    n_iter=10,\n",
    "    random_state=0,\n",
    "    n_jobs=-1\n",
    ")"
   ]
  },
  {
   "cell_type": "markdown",
   "id": "abbdc53f",
   "metadata": {},
   "source": [
    "Next, we fit the trian data to the opt instance we defined above. And as usual, this will take time to run. As you can see, it took us more tha7 minutes to run this code. "
   ]
  },
  {
   "cell_type": "code",
   "execution_count": 13,
   "id": "1cf6f662",
   "metadata": {},
   "outputs": [
    {
     "name": "stdout",
     "output_type": "stream",
     "text": [
      "CPU times: user 30.7 s, sys: 1.78 s, total: 32.4 s\n",
      "Wall time: 7min 29s\n"
     ]
    }
   ],
   "source": [
    "%%time\n",
    "_ = opt.fit(x_train, y_train)"
   ]
  },
  {
   "cell_type": "markdown",
   "id": "ce6b318f",
   "metadata": {},
   "source": [
    "Now, we find the best paramaters."
   ]
  },
  {
   "cell_type": "code",
   "execution_count": 15,
   "id": "4d0bc894",
   "metadata": {
    "scrolled": false
   },
   "outputs": [
    {
     "data": {
      "text/plain": [
       "OrderedDict([('learning_rate', 0.29342624497686),\n",
       "             ('max_depth', 11),\n",
       "             ('n_estimators', 242)])"
      ]
     },
     "execution_count": 15,
     "metadata": {},
     "output_type": "execute_result"
    }
   ],
   "source": [
    "opt.best_params_"
   ]
  },
  {
   "cell_type": "markdown",
   "id": "1d222781",
   "metadata": {},
   "source": [
    "The benefit of using bayesian search is that, we may get any value of parameter that lies between the defined range as compared to grid search or random cv, that sticks to just the combination of values defined in the parameter grid.\n",
    "Now let us get the scores on train and validation data."
   ]
  },
  {
   "cell_type": "code",
   "execution_count": 14,
   "id": "99db96fc",
   "metadata": {},
   "outputs": [
    {
     "name": "stdout",
     "output_type": "stream",
     "text": [
      "1.0\n",
      "0.8937850229240958\n"
     ]
    }
   ],
   "source": [
    "print(opt.score(x_train, y_train))\n",
    "print(opt.score(x_val, y_val))"
   ]
  },
  {
   "cell_type": "markdown",
   "id": "a51c1b39",
   "metadata": {},
   "source": [
    "As we can see, we are getting an extremely overfit model, which performs lower as compared to random search. But the good thing is.... there is scope to get a better model by increasing the number of models or iterations. But this will come at the cost of a higher run time.\n",
    "\n",
    "With that, let us jump to the advantages and disadvantages of Bayesian Optimization."
   ]
  },
  {
   "cell_type": "code",
   "execution_count": null,
   "id": "104e4dde",
   "metadata": {},
   "outputs": [],
   "source": []
  }
 ],
 "metadata": {
  "kernelspec": {
   "display_name": "Python 3 (ipykernel)",
   "language": "python",
   "name": "python3"
  },
  "language_info": {
   "codemirror_mode": {
    "name": "ipython",
    "version": 3
   },
   "file_extension": ".py",
   "mimetype": "text/x-python",
   "name": "python",
   "nbconvert_exporter": "python",
   "pygments_lexer": "ipython3",
   "version": "3.10.13"
  }
 },
 "nbformat": 4,
 "nbformat_minor": 5
}
