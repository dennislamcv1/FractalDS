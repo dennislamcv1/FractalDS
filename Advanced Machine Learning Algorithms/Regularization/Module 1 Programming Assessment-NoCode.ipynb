{
 "cells": [
  {
   "cell_type": "markdown",
   "id": "fde4348b",
   "metadata": {
    "deletable": false,
    "editable": false,
    "nbgrader": {
     "cell_type": "markdown",
     "checksum": "6977be866870dc17776619ace83c3118",
     "grade": false,
     "grade_id": "cell-41bc5cabfc30d8b2",
     "locked": true,
     "schema_version": 3,
     "solution": false,
     "task": false
    }
   },
   "source": [
    "## Problem Statement\n",
    "Develop a predictive model using employee data to classify individuals as likely to stay or leave the company. This classification will assist in making informed decisions about employee retention strategies and workplace improvements."
   ]
  },
  {
   "cell_type": "markdown",
   "id": "71b1895f",
   "metadata": {
    "deletable": false,
    "editable": false,
    "nbgrader": {
     "cell_type": "markdown",
     "checksum": "c86a2f89ec44f8b8356ecea917678def",
     "grade": false,
     "grade_id": "cell-b549f33acb03c8db",
     "locked": true,
     "schema_version": 3,
     "solution": false,
     "task": false
    }
   },
   "source": [
    "## Overview\n",
    "The dataset contains 900 rows and 15 columns, representing various employee metrics. The data aims to reflect realistic scenarios in a corporate setting, encompassing professional and personal employee metrics. Below is a brief overview of the dataset columns:\n",
    "\n",
    "1. JobSatisfaction: Employee's job satisfaction level.\n",
    "\n",
    "2. PerformanceRating: Performance rating given by the company.\n",
    "\n",
    "3. YearsAtCompany: Total number of years the employee has been with the company.\n",
    "\n",
    "4. WorkLifeBalance: Rating of how well the employee feels they balance work and personal life.\n",
    "\n",
    "5. DistanceFromHome: Distance from the employee's home to the workplace.\n",
    "\n",
    "6. MonthlyIncome: The monthly income of the employee.\n",
    "\n",
    "7. EducationLevel: The highest level of education attained by the employee.\n",
    "\n",
    "8. Age: The age of the employee.\n",
    "\n",
    "9. NumCompaniesWorked: The number of companies the employee has worked at before joining the current company.\n",
    "\n",
    "10. EmployeeRole: The role or position of the employee within the company.\n",
    "\n",
    "11. AnnualBonus: Annual bonus received by the employee.\n",
    "\n",
    "12. TrainingHours: Number of hours spent in training programs.\n",
    "\n",
    "13. Department: Department in which the employee works.\n",
    "\n",
    "14. AnnualBonus_Squared: Square of the annual bonus (a polynomial feature).\n",
    "\n",
    "15. AnnualBonus_TrainingHours_Interaction: Interaction term between annual bonus and training hours.\n"
   ]
  },
  {
   "cell_type": "markdown",
   "id": "3e42727a",
   "metadata": {
    "deletable": false,
    "editable": false,
    "nbgrader": {
     "cell_type": "markdown",
     "checksum": "889133a6a0e87810a106fb9b55fe9fdd",
     "grade": false,
     "grade_id": "cell-fb6dcae0ff082d42",
     "locked": true,
     "schema_version": 3,
     "solution": false,
     "task": false
    }
   },
   "source": [
    "It is clear from the above description that the EmployeeTurnover is the 'Target' column.\n",
    "\n",
    "Binary outcome variable, with '1' indicating the employee is likely to leave (turnover) and '0' indicating the employee is likely to stay. Understanding factors leading to turnover is crucial for the company to develop effective employee retention strategies and improve overall workplace satisfaction."
   ]
  },
  {
   "cell_type": "markdown",
   "id": "a57463bb",
   "metadata": {
    "deletable": false,
    "editable": false,
    "nbgrader": {
     "cell_type": "markdown",
     "checksum": "709f8231b19c55cffa91f866d90e95ba",
     "grade": false,
     "grade_id": "cell-69acc9b1b7228413",
     "locked": true,
     "schema_version": 3,
     "solution": false,
     "task": false
    }
   },
   "source": [
    "Let us begin with importing the necessary libraries. And read the data."
   ]
  },
  {
   "cell_type": "code",
   "execution_count": null,
   "id": "101333fc",
   "metadata": {
    "deletable": false,
    "editable": false,
    "nbgrader": {
     "cell_type": "code",
     "checksum": "61a0b17a9d2f27e27324aef296031234",
     "grade": false,
     "grade_id": "cell-9284071f55a1e6e2",
     "locked": true,
     "schema_version": 3,
     "solution": false,
     "task": false
    }
   },
   "outputs": [],
   "source": [
    "# Necessary library imports for data processing\n",
    "import numpy as np\n",
    "import pandas as pd\n",
    "from sklearn.model_selection import train_test_split\n",
    "from sklearn.linear_model import LogisticRegression, LogisticRegressionCV\n",
    "from sklearn.metrics import classification_report, f1_score"
   ]
  },
  {
   "cell_type": "markdown",
   "id": "f7eaf471",
   "metadata": {
    "deletable": false,
    "editable": false,
    "nbgrader": {
     "cell_type": "markdown",
     "checksum": "3e3f026b89b2e48fbc70455ecaf9ea90",
     "grade": false,
     "grade_id": "cell-07e27da27d9d4236",
     "locked": true,
     "schema_version": 3,
     "solution": false,
     "task": false
    }
   },
   "source": [
    "Now load the data"
   ]
  },
  {
   "cell_type": "code",
   "execution_count": null,
   "id": "1fd53ed5",
   "metadata": {
    "deletable": false,
    "editable": false,
    "nbgrader": {
     "cell_type": "code",
     "checksum": "ec451eb50b24139e4cdf9212a7dc55a0",
     "grade": false,
     "grade_id": "cell-2e4e918f95ec9231",
     "locked": true,
     "schema_version": 3,
     "solution": false,
     "task": false
    }
   },
   "outputs": [],
   "source": [
    "# Load the dataset\n",
    "df = pd.read_csv('modified_employee_turnover.csv')\n",
    "df.head()"
   ]
  },
  {
   "cell_type": "code",
   "execution_count": null,
   "id": "add8f7df",
   "metadata": {
    "deletable": false,
    "editable": false,
    "nbgrader": {
     "cell_type": "code",
     "checksum": "815dda5cb08f2bc8504b263e6d34e2b2",
     "grade": false,
     "grade_id": "cell-dec25570e352f71a",
     "locked": true,
     "schema_version": 3,
     "solution": false,
     "task": false
    }
   },
   "outputs": [],
   "source": [
    "df.shape"
   ]
  },
  {
   "cell_type": "markdown",
   "id": "f8028bff",
   "metadata": {
    "deletable": false,
    "editable": false,
    "nbgrader": {
     "cell_type": "markdown",
     "checksum": "42c2a84fbfdaf7c81207298fd2ffa949",
     "grade": false,
     "grade_id": "cell-e4e7d0054a6627da",
     "locked": true,
     "schema_version": 3,
     "solution": false,
     "task": false
    }
   },
   "source": [
    "This shows that the dataset has 16 features and 1350  number of observations. "
   ]
  },
  {
   "cell_type": "markdown",
   "id": "820784d7",
   "metadata": {
    "deletable": false,
    "editable": false,
    "nbgrader": {
     "cell_type": "markdown",
     "checksum": "a19730ea82ceca44231316b338ea6389",
     "grade": false,
     "grade_id": "cell-2047da07cd5a94b1",
     "locked": true,
     "schema_version": 3,
     "solution": false,
     "task": false
    }
   },
   "source": [
    "## Let's separate the features (X) and the target variable (y)\n",
    "\n",
    "The target variable 'Employee_Turnover' is what the model aims to predict, and it is separated from the input features to ensure the model is trained correctly."
   ]
  },
  {
   "cell_type": "code",
   "execution_count": null,
   "id": "80c01cb9",
   "metadata": {
    "deletable": false,
    "nbgrader": {
     "cell_type": "code",
     "checksum": "c89ba0238bfc8d66705f2c84923a6a83",
     "grade": false,
     "grade_id": "cell-8cd584b5e53e8c5d",
     "locked": false,
     "schema_version": 3,
     "solution": true,
     "task": false
    }
   },
   "outputs": [],
   "source": [
    "# Dropping 'Target' column to avoid muticollinearity\n",
    "# Write your code below\n",
    "# your code here\n",
    "raise NotImplementedError"
   ]
  },
  {
   "cell_type": "code",
   "execution_count": null,
   "id": "16ab73d9",
   "metadata": {
    "deletable": false,
    "editable": false,
    "nbgrader": {
     "cell_type": "code",
     "checksum": "03e35187cac06d2307eab59f644f6e32",
     "grade": true,
     "grade_id": "cell-893455a528960cc7",
     "locked": true,
     "points": 2,
     "schema_version": 3,
     "solution": false,
     "task": false
    }
   },
   "outputs": [],
   "source": []
  },
  {
   "cell_type": "markdown",
   "id": "2e659b7f",
   "metadata": {
    "deletable": false,
    "editable": false,
    "nbgrader": {
     "cell_type": "markdown",
     "checksum": "bd4cf1b8cbf067818eb86e6fcd5f659a",
     "grade": false,
     "grade_id": "cell-01d7603eb12a95cf",
     "locked": true,
     "schema_version": 3,
     "solution": false,
     "task": false
    }
   },
   "source": [
    "# Splitting Dataset into Train and Test Sets\n",
    "\n",
    "\n",
    "This step is a standard procedure in machine learning for preparing data before training a model. It ensures that there is a separate dataset for evaluating the model's performance, which helps in assessing how well the model will perform on unseen data. Split the data in 70:30 ratio. Name the variables as follows- X_train, X_test, y_train, y_test.\n",
    "\n",
    "And use the random_state as 42.\n"
   ]
  },
  {
   "cell_type": "code",
   "execution_count": null,
   "id": "e9cc1e3e",
   "metadata": {
    "deletable": false,
    "nbgrader": {
     "cell_type": "code",
     "checksum": "60ddcfa89532c38fb9ec2e5a8757eb7c",
     "grade": false,
     "grade_id": "cell-b950ec849faa5cc8",
     "locked": false,
     "schema_version": 3,
     "solution": true,
     "task": false
    }
   },
   "outputs": [],
   "source": [
    "# Splitting the dataset into training and testing sets\n",
    "# your code here\n",
    "raise NotImplementedError"
   ]
  },
  {
   "cell_type": "code",
   "execution_count": null,
   "id": "8991626d",
   "metadata": {
    "deletable": false,
    "editable": false,
    "nbgrader": {
     "cell_type": "code",
     "checksum": "7a43770f542e16ef5d4aaea487b3be2a",
     "grade": true,
     "grade_id": "cell-8c9cafaf142f65ef",
     "locked": true,
     "points": 2,
     "schema_version": 3,
     "solution": false,
     "task": false
    }
   },
   "outputs": [],
   "source": []
  },
  {
   "cell_type": "markdown",
   "id": "7fc797ce",
   "metadata": {
    "deletable": false,
    "editable": false,
    "nbgrader": {
     "cell_type": "markdown",
     "checksum": "94e99c9507f0982b3be4dab8c003cf4d",
     "grade": false,
     "grade_id": "cell-a51867a28122047f",
     "locked": true,
     "schema_version": 3,
     "solution": false,
     "task": false
    }
   },
   "source": [
    "# Apply Logistic Regression without Regularization \n"
   ]
  },
  {
   "cell_type": "markdown",
   "id": "f93c2113",
   "metadata": {
    "deletable": false,
    "editable": false,
    "nbgrader": {
     "cell_type": "markdown",
     "checksum": "56f4981a54a414515bcc7e07f21f4aa1",
     "grade": false,
     "grade_id": "cell-e8e2749eeb4a0abc",
     "locked": true,
     "schema_version": 3,
     "solution": false,
     "task": false
    }
   },
   "source": [
    "After training, it's time to fit our model in 'logistic_no_reg'. First we will be evaluating the base model. Meaning this model will have no regularization. Let the max_iterations be 10000 and n_jobs is -1."
   ]
  },
  {
   "cell_type": "code",
   "execution_count": null,
   "id": "617a0cf2",
   "metadata": {
    "deletable": false,
    "nbgrader": {
     "cell_type": "code",
     "checksum": "b807582b48b3ecd67c47dc062e862ae2",
     "grade": false,
     "grade_id": "cell-81d2a60af1e476f9",
     "locked": false,
     "schema_version": 3,
     "solution": true,
     "task": false
    }
   },
   "outputs": [],
   "source": [
    "# Logistic regression without regularization\n",
    "# Write your code below\n",
    "# your code here\n",
    "raise NotImplementedError"
   ]
  },
  {
   "cell_type": "code",
   "execution_count": null,
   "id": "7c5cf5a6",
   "metadata": {
    "deletable": false,
    "editable": false,
    "nbgrader": {
     "cell_type": "code",
     "checksum": "ee943ebd0e63f01b00bbeca9b74878f3",
     "grade": false,
     "grade_id": "cell-9dae3a69e7162e4e",
     "locked": true,
     "schema_version": 3,
     "solution": false,
     "task": false
    }
   },
   "outputs": [],
   "source": [
    "# Evaluate the model without regularization for train data\n",
    "y_train_pred_no_reg = logistic_no_reg.predict(X_train)\n",
    "f1_no_reg_train = f1_score(y_train, y_train_pred_no_reg)\n",
    "print(\"F1 Score without Regularization:\", f1_no_reg_train)"
   ]
  },
  {
   "cell_type": "code",
   "execution_count": null,
   "id": "677c6e3d",
   "metadata": {
    "deletable": false,
    "editable": false,
    "nbgrader": {
     "cell_type": "code",
     "checksum": "c3e72bf26f7fa3be9251afedb97808ce",
     "grade": false,
     "grade_id": "cell-b08c336649109f53",
     "locked": true,
     "schema_version": 3,
     "solution": false,
     "task": false
    }
   },
   "outputs": [],
   "source": [
    "# Evaluate the model without regularization for train data\n",
    "y_test_pred_no_reg = logistic_no_reg.predict(X_test)\n",
    "f1_no_reg_test = f1_score(y_test, y_test_pred_no_reg)\n",
    "print(\"F1 Score without Regularization:\", f1_no_reg_test)"
   ]
  },
  {
   "cell_type": "code",
   "execution_count": null,
   "id": "d9b170f5",
   "metadata": {
    "deletable": false,
    "editable": false,
    "nbgrader": {
     "cell_type": "code",
     "checksum": "20154ab8fe7dce9fa95fdd243cc2482e",
     "grade": true,
     "grade_id": "cell-df0eb80164d3215e",
     "locked": true,
     "points": 2,
     "schema_version": 3,
     "solution": false,
     "task": false
    }
   },
   "outputs": [],
   "source": [
    "assert f1_no_reg_train > 0.86, \"F1 score for train data does not match the expected value\"\n",
    "assert f1_no_reg_test > 0.84, \"F1 score for test data does not match the expected value\""
   ]
  },
  {
   "cell_type": "markdown",
   "id": "458b360b",
   "metadata": {
    "deletable": false,
    "editable": false,
    "nbgrader": {
     "cell_type": "markdown",
     "checksum": "dcc88713a50f2cf87bfdb7fb467ca25b",
     "grade": false,
     "grade_id": "cell-296595a79d03091b",
     "locked": true,
     "schema_version": 3,
     "solution": false,
     "task": false
    }
   },
   "source": [
    "\n",
    "Lets move forward and apply L1 regularization for automatic feature selection"
   ]
  },
  {
   "cell_type": "markdown",
   "id": "17b516f9",
   "metadata": {
    "deletable": false,
    "editable": false,
    "nbgrader": {
     "cell_type": "markdown",
     "checksum": "46eb7ff3633e01a9db7144338c3ff108",
     "grade": false,
     "grade_id": "cell-09fcef5cc64f01e8",
     "locked": true,
     "schema_version": 3,
     "solution": false,
     "task": false
    }
   },
   "source": [
    "# Apply Logistic Regression with L1 Regularization \n",
    "\n",
    "It's time to fit our model in 'logistic_l1_cv'."
   ]
  },
  {
   "cell_type": "code",
   "execution_count": null,
   "id": "bd0112ff",
   "metadata": {
    "deletable": false,
    "editable": false,
    "nbgrader": {
     "cell_type": "code",
     "checksum": "2c4a14d835250609ce97e54a15e6d32b",
     "grade": false,
     "grade_id": "cell-1b121a6dc2ad98bc",
     "locked": true,
     "schema_version": 3,
     "solution": false,
     "task": false
    }
   },
   "outputs": [],
   "source": [
    "# Definig a range for Cs\n",
    "Cs = np.linspace(0.001,10,20)"
   ]
  },
  {
   "cell_type": "code",
   "execution_count": null,
   "id": "6541f98f",
   "metadata": {
    "deletable": false,
    "nbgrader": {
     "cell_type": "code",
     "checksum": "16d6b03cdda5fe8bddf429b35b36ce55",
     "grade": false,
     "grade_id": "cell-bec636a2e0fc537f",
     "locked": false,
     "schema_version": 3,
     "solution": true,
     "task": false
    }
   },
   "outputs": [],
   "source": [
    "# Logistic regression with L1 regularization using cross-validation to find the best C\n",
    "# Write your code below\n",
    "# your code here\n",
    "raise NotImplementedError"
   ]
  },
  {
   "cell_type": "markdown",
   "id": "820d23d9",
   "metadata": {
    "deletable": false,
    "editable": false,
    "nbgrader": {
     "cell_type": "markdown",
     "checksum": "8eaa5ebc301c8a123530a2b9f185b05c",
     "grade": false,
     "grade_id": "cell-fff2d8d813bc0523",
     "locked": true,
     "schema_version": 3,
     "solution": false,
     "task": false
    }
   },
   "source": [
    "### Lets now examine the Regularization Strengths"
   ]
  },
  {
   "cell_type": "code",
   "execution_count": null,
   "id": "5acf1ca4",
   "metadata": {
    "deletable": false,
    "editable": false,
    "nbgrader": {
     "cell_type": "code",
     "checksum": "ed8641c3d9b4b81b2cfe730284847b1a",
     "grade": false,
     "grade_id": "cell-539835eef3f56444",
     "locked": true,
     "schema_version": 3,
     "solution": false,
     "task": false
    }
   },
   "outputs": [],
   "source": [
    "logistic_l1_cv.Cs_"
   ]
  },
  {
   "cell_type": "code",
   "execution_count": null,
   "id": "3929ac22",
   "metadata": {
    "deletable": false,
    "editable": false,
    "nbgrader": {
     "cell_type": "code",
     "checksum": "fef57b94c097274368a3d73d03bdbe92",
     "grade": false,
     "grade_id": "cell-b0a671c5e00816c2",
     "locked": true,
     "schema_version": 3,
     "solution": false,
     "task": false
    }
   },
   "outputs": [],
   "source": [
    "best_C = logistic_l1_cv.C_\n",
    "print(f\"The best Cs value is: {best_C}\")"
   ]
  },
  {
   "cell_type": "markdown",
   "id": "a8db17ae",
   "metadata": {
    "deletable": false,
    "editable": false,
    "nbgrader": {
     "cell_type": "markdown",
     "checksum": "bd58bd1244fbc8f2d53bdf340de6a7bc",
     "grade": false,
     "grade_id": "cell-9f9563e3265f557c",
     "locked": true,
     "schema_version": 3,
     "solution": false,
     "task": false
    }
   },
   "source": [
    "## We can see that the peak comes at 1.57"
   ]
  },
  {
   "cell_type": "markdown",
   "id": "543d054d",
   "metadata": {
    "deletable": false,
    "editable": false,
    "nbgrader": {
     "cell_type": "markdown",
     "checksum": "276e962575521eac658aa05a55a9c9ee",
     "grade": false,
     "grade_id": "cell-1d44f3d73ba585a2",
     "locked": true,
     "schema_version": 3,
     "solution": false,
     "task": false
    }
   },
   "source": [
    "Next apply Logistic regression with L1 regularization in 'logistic_l1_cv' using cross-validation(cv=5), and peak value 0.35 for C value.\n",
    "Penalty would remain L1, solver would be liblinear and max_iter=10000"
   ]
  },
  {
   "cell_type": "code",
   "execution_count": null,
   "id": "7dbe1348",
   "metadata": {
    "deletable": false,
    "nbgrader": {
     "cell_type": "code",
     "checksum": "61d2c4b9613fcb795bcea47f392480f7",
     "grade": false,
     "grade_id": "cell-b4b742b5373ad0e2",
     "locked": false,
     "schema_version": 3,
     "solution": true,
     "task": false
    }
   },
   "outputs": [],
   "source": [
    "# Logistic regression with L1 regularization using cross-validation\n",
    "# Write your code below\n",
    "# your code here\n",
    "raise NotImplementedError"
   ]
  },
  {
   "cell_type": "code",
   "execution_count": null,
   "id": "ed22ed88",
   "metadata": {
    "deletable": false,
    "editable": false,
    "nbgrader": {
     "cell_type": "code",
     "checksum": "f3e7241d9d2e6e9d6888a24e3c429bfa",
     "grade": false,
     "grade_id": "cell-12bc8bc8d4b78308",
     "locked": true,
     "schema_version": 3,
     "solution": false,
     "task": false
    }
   },
   "outputs": [],
   "source": [
    "# Evaluate the model with L1 regularization on train data\n",
    "y_train_pred_l1 = logistic_l1_cv.predict(X_train)\n",
    "f1_l1_train = f1_score(y_train, y_train_pred_l1)\n",
    "print(\"F1 Score with L1 Regularization on train data :\", f1_l1_train)"
   ]
  },
  {
   "cell_type": "code",
   "execution_count": null,
   "id": "51d7fb5a",
   "metadata": {
    "deletable": false,
    "editable": false,
    "nbgrader": {
     "cell_type": "code",
     "checksum": "f5c4b405fc5461390bd04a2dfec2b148",
     "grade": false,
     "grade_id": "cell-03e387c1d377ab95",
     "locked": true,
     "schema_version": 3,
     "solution": false,
     "task": false
    }
   },
   "outputs": [],
   "source": [
    "# Evaluate the model with L1 regularization on train data\n",
    "y_test_pred_l1 = logistic_l1_cv.predict(X_test)\n",
    "f1_l1_test = f1_score(y_test, y_test_pred_l1)\n",
    "print(\"F1 Score with L1 Regularization on test data :\", f1_l1_test)"
   ]
  },
  {
   "cell_type": "code",
   "execution_count": null,
   "id": "b4a79983",
   "metadata": {
    "deletable": false,
    "editable": false,
    "nbgrader": {
     "cell_type": "code",
     "checksum": "8c0c2047b6aa7872392d7d316704b5de",
     "grade": true,
     "grade_id": "cell-c563e282f9e0f1e7",
     "locked": true,
     "points": 3,
     "schema_version": 3,
     "solution": false,
     "task": false
    }
   },
   "outputs": [],
   "source": [
    "assert f1_l1_train > 0.87, \"F1 score for train data does not match the expected value\"\n",
    "assert f1_l1_test > 0.85, \"F1 score for test data does not match the expected value\""
   ]
  },
  {
   "cell_type": "markdown",
   "id": "3b3f8a62",
   "metadata": {
    "deletable": false,
    "editable": false,
    "nbgrader": {
     "cell_type": "markdown",
     "checksum": "194a740253a51bdc0548c29d51dcf71a",
     "grade": false,
     "grade_id": "cell-ca7b99463637bba4",
     "locked": true,
     "schema_version": 3,
     "solution": false,
     "task": false
    }
   },
   "source": [
    "An F1 score of around 0.871 for the training set and 0.840 for the test set with L1 regularization suggests that your logistic regression model performs well.\n",
    "\n",
    "The model not only fits the training data well but also generalizes adequately to new, unseen data. The use of L1 regularization seems to have helped in maintaining this balance, potentially by eliminating irrelevant features and reducing overfitting."
   ]
  },
  {
   "cell_type": "markdown",
   "id": "82e1811a",
   "metadata": {
    "deletable": false,
    "editable": false,
    "nbgrader": {
     "cell_type": "markdown",
     "checksum": "82ae061c8e8a63a6148b89c816aab576",
     "grade": false,
     "grade_id": "cell-098972ed5b2a3361",
     "locked": true,
     "schema_version": 3,
     "solution": false,
     "task": false
    }
   },
   "source": [
    "# Apply Logistic Regression with L2 Regularization on train data\n",
    "\n",
    "Next apply Logistic regression with L2 regularization in 'logistic_l2_cv' using cross-validation(cv=5), default C value."
   ]
  },
  {
   "cell_type": "code",
   "execution_count": null,
   "id": "1c9740f0",
   "metadata": {
    "deletable": false,
    "editable": false,
    "nbgrader": {
     "cell_type": "code",
     "checksum": "9d7703253c0c653e4d8a0b190293a75d",
     "grade": false,
     "grade_id": "cell-17a1d87dc8e7717a",
     "locked": true,
     "schema_version": 3,
     "solution": false,
     "task": false
    }
   },
   "outputs": [],
   "source": [
    "# Definig a range for Cs\n",
    "Cs = np.linspace(0.001,10,20)"
   ]
  },
  {
   "cell_type": "code",
   "execution_count": null,
   "id": "0dffba0c",
   "metadata": {
    "deletable": false,
    "editable": false,
    "nbgrader": {
     "cell_type": "code",
     "checksum": "853c23928bf96adab78edb5c3b0ee7d2",
     "grade": false,
     "grade_id": "cell-fc73344e9230a62a",
     "locked": true,
     "schema_version": 3,
     "solution": false,
     "task": false
    }
   },
   "outputs": [],
   "source": [
    "# Logistic regression with L2 regularization using cross-validation to find the best C\n",
    "# Write your code below\n",
    "logistic_l2_cv = LogisticRegressionCV(Cs=Cs, \n",
    "                                      penalty='l2',\n",
    "                                      solver= 'liblinear',\n",
    "                                      cv=5, \n",
    "                                      max_iter=10000,\n",
    "                                      n_jobs=-1)\n",
    "logistic_l2_cv.fit(X_train, y_train)"
   ]
  },
  {
   "cell_type": "code",
   "execution_count": null,
   "id": "c4da261b",
   "metadata": {
    "deletable": false,
    "editable": false,
    "nbgrader": {
     "cell_type": "code",
     "checksum": "4f21e5e05be374b6bdbfe7b821a6118e",
     "grade": false,
     "grade_id": "cell-c244d84a381b1767",
     "locked": true,
     "schema_version": 3,
     "solution": false,
     "task": false
    }
   },
   "outputs": [],
   "source": [
    "logistic_l2_cv.Cs_"
   ]
  },
  {
   "cell_type": "code",
   "execution_count": null,
   "id": "22f903a3",
   "metadata": {
    "deletable": false,
    "editable": false,
    "nbgrader": {
     "cell_type": "code",
     "checksum": "029c503aa5d07e3627ecca8638865c20",
     "grade": false,
     "grade_id": "cell-2256c8521a3ed15e",
     "locked": true,
     "schema_version": 3,
     "solution": false,
     "task": false
    }
   },
   "outputs": [],
   "source": [
    "logistic_l2_cv.C_"
   ]
  },
  {
   "cell_type": "markdown",
   "id": "4a0e3efc",
   "metadata": {
    "deletable": false,
    "editable": false,
    "nbgrader": {
     "cell_type": "markdown",
     "checksum": "dffec851656e95c70401e5bc4edccd69",
     "grade": false,
     "grade_id": "cell-6f1d88ca078e58dc",
     "locked": true,
     "schema_version": 3,
     "solution": false,
     "task": false
    }
   },
   "source": [
    "## Peak at 3.15\n",
    "\n",
    "Apply Logistic regression with L2 regularization in 'logistic_l2_cv' using cross-validation with peak value from the plot. "
   ]
  },
  {
   "cell_type": "code",
   "execution_count": null,
   "id": "2c845135",
   "metadata": {
    "deletable": false,
    "nbgrader": {
     "cell_type": "code",
     "checksum": "8352cf5d1cb1571907b706d45144de0b",
     "grade": false,
     "grade_id": "cell-10246495711c0dda",
     "locked": false,
     "schema_version": 3,
     "solution": true,
     "task": false
    }
   },
   "outputs": [],
   "source": [
    "# Logistic regression with L2 regularization using cross-validation to find the best C\n",
    "#Write your code below\n",
    "# your code here\n",
    "raise NotImplementedError"
   ]
  },
  {
   "cell_type": "code",
   "execution_count": null,
   "id": "e4ed38c7",
   "metadata": {
    "deletable": false,
    "editable": false,
    "nbgrader": {
     "cell_type": "code",
     "checksum": "b6e280aaae9f39c2b4b66ae0840c5d1a",
     "grade": false,
     "grade_id": "cell-dd365cf18be1dd30",
     "locked": true,
     "schema_version": 3,
     "solution": false,
     "task": false
    }
   },
   "outputs": [],
   "source": [
    "# Evaluate the model with L2 regularization on old train data\n",
    "y_train_pred_l2 = logistic_l2_cv.predict(X_train)\n",
    "f1_l2_train = f1_score(y_train, y_train_pred_l2)\n",
    "print(\"F1 Score with L2 Regularization:\", f1_l2_train)"
   ]
  },
  {
   "cell_type": "code",
   "execution_count": null,
   "id": "5586e6d0",
   "metadata": {
    "deletable": false,
    "editable": false,
    "nbgrader": {
     "cell_type": "code",
     "checksum": "99e9db24ee19d0e4c1660717f7480bd3",
     "grade": false,
     "grade_id": "cell-28309a8b009c241f",
     "locked": true,
     "schema_version": 3,
     "solution": false,
     "task": false
    }
   },
   "outputs": [],
   "source": [
    "# Evaluate the model with L2 regularization on old test data\n",
    "y_test_pred_l2 = logistic_l2_cv.predict(X_test)\n",
    "f1_l2_test = f1_score(y_test, y_test_pred_l2)\n",
    "print(\"F1 Score with L2 Regularization:\", f1_l2_test)"
   ]
  },
  {
   "cell_type": "code",
   "execution_count": null,
   "id": "30b6f2c8",
   "metadata": {
    "deletable": false,
    "editable": false,
    "nbgrader": {
     "cell_type": "code",
     "checksum": "bcd752743cb64207088c0e5de6b96aed",
     "grade": true,
     "grade_id": "cell-8eea3f99de9e8244",
     "locked": true,
     "points": 3,
     "schema_version": 3,
     "solution": false,
     "task": false
    }
   },
   "outputs": [],
   "source": [
    "assert f1_l2_train > 0.86, \"F1 score for train data does not match the expected value\"\n",
    "assert f1_l2_test > 0.84, \"F1 score for test data does not match the expected value\""
   ]
  },
  {
   "cell_type": "markdown",
   "id": "fd2f11f1",
   "metadata": {},
   "source": [
    "An F1 score of around 0.86 for one dataset and 0.847 for the other dataset in the context of L2 regularization indicates that your logistic regression model performs well on both the dataset it was trained on and on new, unseen data. The scores suggest that the model is accurately predicting the target variable, maintaining a balance between precision and recall, and the L2 regularization is likely helping to enhance the model's ability to generalize."
   ]
  },
  {
   "cell_type": "markdown",
   "id": "9eef224c",
   "metadata": {
    "deletable": false,
    "editable": false,
    "nbgrader": {
     "cell_type": "markdown",
     "checksum": "12b889940b9a725bf97b17654a4493b6",
     "grade": false,
     "grade_id": "cell-a69ebff66d963e84",
     "locked": true,
     "schema_version": 3,
     "solution": false,
     "task": false
    }
   },
   "source": [
    "## ElasticNet Regularization\n",
    "\n",
    "Apply Logistic regression with ElasticNet regularization in 'logistic_en_cv' using cross-validation"
   ]
  },
  {
   "cell_type": "code",
   "execution_count": null,
   "id": "f6638967",
   "metadata": {
    "deletable": false,
    "editable": false,
    "nbgrader": {
     "cell_type": "code",
     "checksum": "ec121d70ab9e359c1d87531822c35d93",
     "grade": false,
     "grade_id": "cell-b543d3be53834067",
     "locked": true,
     "schema_version": 3,
     "solution": false,
     "task": false
    }
   },
   "outputs": [],
   "source": [
    "# Definig a range for Cs\n",
    "Cs = np.linspace(0.001,10,20)"
   ]
  },
  {
   "cell_type": "code",
   "execution_count": null,
   "id": "35d798d0",
   "metadata": {
    "deletable": false,
    "nbgrader": {
     "cell_type": "code",
     "checksum": "a0bb419d5e7ccfb7e7720e68b2c08493",
     "grade": false,
     "grade_id": "cell-4fe01e59b9989344",
     "locked": false,
     "schema_version": 3,
     "solution": true,
     "task": false
    }
   },
   "outputs": [],
   "source": [
    "# Logistic regression with ElasticNet regularization using cross-validation\n",
    "# Write your code below\n",
    "# your code here\n",
    "raise NotImplementedError"
   ]
  },
  {
   "cell_type": "code",
   "execution_count": null,
   "id": "31138db8",
   "metadata": {
    "deletable": false,
    "editable": false,
    "nbgrader": {
     "cell_type": "code",
     "checksum": "8d693e2ce8e2898836ff88783b566ac3",
     "grade": false,
     "grade_id": "cell-f5da0e442fd168c9",
     "locked": true,
     "schema_version": 3,
     "solution": false,
     "task": false
    }
   },
   "outputs": [],
   "source": [
    "logistic_en_cv.fit(X_train, y_train)"
   ]
  },
  {
   "cell_type": "code",
   "execution_count": null,
   "id": "ca80a2ab",
   "metadata": {
    "deletable": false,
    "editable": false,
    "nbgrader": {
     "cell_type": "code",
     "checksum": "64a7ec5b4fa8aa4cc6c318694d9ca1a6",
     "grade": false,
     "grade_id": "cell-5e4d9c024d37fb64",
     "locked": true,
     "schema_version": 3,
     "solution": false,
     "task": false
    }
   },
   "outputs": [],
   "source": [
    "# Evaluate the model\n",
    "\n",
    "y_train_pred_elastic = logistic_en_cv.predict(X_train)\n",
    "f1_elastic_train = f1_score(y_train, y_train_pred_elastic)\n",
    "print(\"F1 Score with Elastic Net Regularization on Train Set:\", f1_elastic_train)"
   ]
  },
  {
   "cell_type": "code",
   "execution_count": null,
   "id": "5162bba8",
   "metadata": {
    "deletable": false,
    "editable": false,
    "nbgrader": {
     "cell_type": "code",
     "checksum": "dcee529d1de85fd2aa13a51951a1958c",
     "grade": false,
     "grade_id": "cell-2e2670d57de406ae",
     "locked": true,
     "schema_version": 3,
     "solution": false,
     "task": false
    }
   },
   "outputs": [],
   "source": [
    "y_test_pred_elastic = logistic_en_cv.predict(X_test)\n",
    "f1_elastic_test = f1_score(y_test, y_test_pred_elastic)\n",
    "print(\"F1 Score with Elastic Net Regularization on Test Set:\", f1_elastic_test)"
   ]
  },
  {
   "cell_type": "code",
   "execution_count": null,
   "id": "b522bff5",
   "metadata": {
    "deletable": false,
    "editable": false,
    "nbgrader": {
     "cell_type": "code",
     "checksum": "bf2aad9052817e93ac598a95536f847e",
     "grade": true,
     "grade_id": "cell-1832b5bc325bfc89",
     "locked": true,
     "points": 3,
     "schema_version": 3,
     "solution": false,
     "task": false
    }
   },
   "outputs": [],
   "source": [
    "assert f1_elastic_train > 0.87, \"F1 score for train data does not match the expected value\"\n",
    "assert f1_elastic_test > 0.84, \"F1 score for test data does not match the expected value\""
   ]
  },
  {
   "cell_type": "markdown",
   "id": "447abbce",
   "metadata": {
    "deletable": false,
    "editable": false,
    "nbgrader": {
     "cell_type": "markdown",
     "checksum": "e49d7c87f17ff3141f4fc2c9ab574194",
     "grade": false,
     "grade_id": "cell-c4440e252517dbfa",
     "locked": true,
     "schema_version": 3,
     "solution": false,
     "task": false
    }
   },
   "source": [
    "## What this mean for the Business"
   ]
  },
  {
   "cell_type": "markdown",
   "id": "3ada3c8a",
   "metadata": {
    "deletable": false,
    "editable": false,
    "nbgrader": {
     "cell_type": "markdown",
     "checksum": "564a532797a76e5aed5ec1a6d7c297c3",
     "grade": false,
     "grade_id": "cell-d5c5316fba09e5f7",
     "locked": true,
     "schema_version": 3,
     "solution": false,
     "task": false
    }
   },
   "source": [
    "In a business context, choosing the right model depends on the specific needs and constraints of the business problem. For instance:\n",
    "\n",
    "1. If feature interpretability is important (i.e., understanding which features are driving the predictions), L1 regularization might be preferred despite its slightly higher tendency to overfit.\n",
    "\n",
    "2. If the business needs a more generalized model that is robust to various types of data, the model with L2 regularization or the one without any regularization might be more appropriate.\n",
    "\n",
    "3. If there's a need for a balance between feature selection and model complexity, Elastic Net could be the way to go.\n",
    "\n",
    "In all cases, the relatively high F1 scores indicate that logistic regression is a competent approach for the classification task at hand, capable of providing reliable insights for informed decision-making in the business. Regular monitoring and validation on new data are recommended to ensure continued model accuracy and relevance."
   ]
  }
 ],
 "metadata": {
  "kernelspec": {
   "display_name": "Python 3 (ipykernel)",
   "language": "python",
   "name": "python3"
  },
  "language_info": {
   "codemirror_mode": {
    "name": "ipython",
    "version": 3
   },
   "file_extension": ".py",
   "mimetype": "text/x-python",
   "name": "python",
   "nbconvert_exporter": "python",
   "pygments_lexer": "ipython3",
   "version": "3.10.6"
  }
 },
 "nbformat": 4,
 "nbformat_minor": 5
}
