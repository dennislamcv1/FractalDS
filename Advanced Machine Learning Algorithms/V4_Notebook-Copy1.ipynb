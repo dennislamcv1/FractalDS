{
 "cells": [
  {
   "cell_type": "code",
   "execution_count": 1,
   "id": "5ebbfe36",
   "metadata": {},
   "outputs": [],
   "source": [
    "import os\n",
    "import pandas as pd\n",
    "import numpy as np\n",
    "import matplotlib.pyplot as plt\n",
    "from sklearn.model_selection import train_test_split\n",
    "from sklearn.linear_model import LinearRegression\n",
    "from sklearn.metrics import r2_score"
   ]
  },
  {
   "cell_type": "code",
   "execution_count": 2,
   "id": "05f63490",
   "metadata": {},
   "outputs": [],
   "source": [
    "os.chdir = (r':D:\\FCDS\\Regularization')"
   ]
  },
  {
   "cell_type": "code",
   "execution_count": 3,
   "id": "c29e6dc2",
   "metadata": {},
   "outputs": [],
   "source": [
    "train_df = pd.read_csv(\"train.csv\")"
   ]
  },
  {
   "cell_type": "code",
   "execution_count": 4,
   "id": "cfe73f58",
   "metadata": {},
   "outputs": [],
   "source": [
    "validate_df = pd.read_csv(\"validation.csv\")"
   ]
  },
  {
   "cell_type": "code",
   "execution_count": 5,
   "id": "8943d54a",
   "metadata": {},
   "outputs": [],
   "source": [
    "train_df = train_df.drop(columns=['Units_sold>1000'])\n",
    "validate_df = validate_df.drop(columns=['Units_sold>1000'])"
   ]
  },
  {
   "cell_type": "code",
   "execution_count": 6,
   "id": "b76a9e20",
   "metadata": {},
   "outputs": [],
   "source": [
    "train_df_encoded = pd.get_dummies(train_df, columns=['Segment'], drop_first=True)\n",
    "validate_df_encoded = pd.get_dummies(validate_df, columns=['Segment'], drop_first=True)"
   ]
  },
  {
   "cell_type": "code",
   "execution_count": 7,
   "id": "ae1d7539",
   "metadata": {},
   "outputs": [],
   "source": [
    "# Separate features and target for both datasets\n",
    "X_train = train_df_encoded.drop('Units_sold', axis=1)\n",
    "y_train = train_df_encoded['Units_sold']\n",
    "\n",
    "X_validate = validate_df_encoded.drop('Units_sold', axis=1)\n",
    "y_validate = validate_df_encoded['Units_sold']"
   ]
  },
  {
   "cell_type": "code",
   "execution_count": 8,
   "id": "286154f2",
   "metadata": {},
   "outputs": [],
   "source": [
    "# Initialize the linear regression model\n",
    "model = LinearRegression()\n"
   ]
  },
  {
   "cell_type": "code",
   "execution_count": 9,
   "id": "8685844b",
   "metadata": {},
   "outputs": [
    {
     "data": {
      "text/plain": [
       "LinearRegression()"
      ]
     },
     "execution_count": 9,
     "metadata": {},
     "output_type": "execute_result"
    }
   ],
   "source": [
    "# Train the model using the training data\n",
    "model.fit(X_train, y_train)"
   ]
  },
  {
   "cell_type": "code",
   "execution_count": 10,
   "id": "d843b7c9",
   "metadata": {},
   "outputs": [],
   "source": [
    "# Predict on the training data and the validation data\n",
    "train_predictions = model.predict(X_train)\n",
    "validate_predictions = model.predict(X_validate)"
   ]
  },
  {
   "cell_type": "code",
   "execution_count": 11,
   "id": "6c51f4e7",
   "metadata": {},
   "outputs": [],
   "source": [
    "# Calculate R-squared for both datasets\n",
    "train_r2 = r2_score(y_train, train_predictions)\n",
    "validate_r2 = r2_score(y_validate, validate_predictions)\n"
   ]
  },
  {
   "cell_type": "code",
   "execution_count": 12,
   "id": "658d5bba",
   "metadata": {
    "scrolled": false
   },
   "outputs": [
    {
     "name": "stdout",
     "output_type": "stream",
     "text": [
      "Training R^2: 0.4607\n",
      "Validation R^2: 0.4630\n"
     ]
    }
   ],
   "source": [
    "# Print out the metrics\n",
    "print(\"Training R^2: {:.4f}\".format(train_r2))\n",
    "print(\"Validation R^2: {:.4f}\".format(validate_r2))\n"
   ]
  },
  {
   "cell_type": "code",
   "execution_count": null,
   "id": "5743642c",
   "metadata": {},
   "outputs": [],
   "source": []
  },
  {
   "cell_type": "code",
   "execution_count": null,
   "id": "58a0befc",
   "metadata": {},
   "outputs": [],
   "source": []
  }
 ],
 "metadata": {
  "kernelspec": {
   "display_name": "Python 3 (ipykernel)",
   "language": "python",
   "name": "python3"
  },
  "language_info": {
   "codemirror_mode": {
    "name": "ipython",
    "version": 3
   },
   "file_extension": ".py",
   "mimetype": "text/x-python",
   "name": "python",
   "nbconvert_exporter": "python",
   "pygments_lexer": "ipython3",
   "version": "3.9.13"
  }
 },
 "nbformat": 4,
 "nbformat_minor": 5
}
