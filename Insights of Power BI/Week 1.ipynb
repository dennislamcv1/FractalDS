{
 "cells": [
  {
   "cell_type": "markdown",
   "metadata": {},
   "source": [
    "# Helping Elevate Resort to solve Business problems"
   ]
  },
  {
   "cell_type": "markdown",
   "metadata": {},
   "source": [
    "**==========================================================================================================**"
   ]
  },
  {
   "cell_type": "markdown",
   "metadata": {},
   "source": [
    "**==========================================================================================================**"
   ]
  },
  {
   "cell_type": "markdown",
   "metadata": {},
   "source": [
    "## Import Libraries"
   ]
  },
  {
   "cell_type": "code",
   "execution_count": 1,
   "metadata": {},
   "outputs": [
    {
     "data": {
      "application/javascript": [
       "IPython.notebook.set_autosave_interval(60000)"
      ]
     },
     "metadata": {},
     "output_type": "display_data"
    },
    {
     "name": "stdout",
     "output_type": "stream",
     "text": [
      "Autosaving every 60 seconds\n"
     ]
    }
   ],
   "source": [
    "import numpy as np\n",
    "#from numpy import count_nonzero, median, mean\n",
    "import pandas as pd\n",
    "from pandas.plotting import scatter_matrix\n",
    "import matplotlib.pyplot as plt\n",
    "import seaborn as sns\n",
    "import random\n",
    "#import squarify\n",
    "\n",
    "import datetime\n",
    "from datetime import datetime, timedelta, date\n",
    "\n",
    "\n",
    "#import os\n",
    "#import zipfile\n",
    "import scipy\n",
    "from scipy import stats\n",
    "from scipy.stats.mstats import normaltest # D'Agostino K^2 Test\n",
    "from scipy.stats import boxcox\n",
    "from collections import Counter\n",
    "\n",
    "%matplotlib inline\n",
    "#sets the default autosave frequency in seconds\n",
    "%autosave 60 \n",
    "sns.set_style('dark')\n",
    "sns.set(font_scale=1.2)\n",
    "#sns.set(rc={'figure.figsize':(14,10)})\n",
    "\n",
    "plt.rc('axes', titlesize=9)\n",
    "plt.rc('axes', labelsize=14)\n",
    "plt.rc('xtick', labelsize=12)\n",
    "plt.rc('ytick', labelsize=12)\n",
    "\n",
    "import warnings\n",
    "warnings.filterwarnings('ignore')\n",
    "\n",
    "pd.set_option('display.max_columns',None)\n",
    "#pd.set_option('display.max_rows',None)\n",
    "pd.set_option('display.width', 1000)\n",
    "pd.set_option('display.float_format','{:.2f}'.format)\n",
    "\n",
    "random.seed(0)\n",
    "np.random.seed(0)\n",
    "np.set_printoptions(suppress=True)"
   ]
  },
  {
   "cell_type": "markdown",
   "metadata": {},
   "source": [
    "**==========================================================================================================**"
   ]
  },
  {
   "cell_type": "markdown",
   "metadata": {},
   "source": [
    "## Import Data"
   ]
  },
  {
   "cell_type": "code",
   "execution_count": 2,
   "metadata": {},
   "outputs": [],
   "source": [
    "df = pd.read_csv(\"hotel_bookings.csv\")"
   ]
  },
  {
   "cell_type": "markdown",
   "metadata": {},
   "source": [
    "**==========================================================================================================**"
   ]
  },
  {
   "cell_type": "markdown",
   "metadata": {},
   "source": [
    "## Data Quick Glance"
   ]
  },
  {
   "cell_type": "code",
   "execution_count": 3,
   "metadata": {},
   "outputs": [
    {
     "data": {
      "text/html": [
       "<div>\n",
       "<style scoped>\n",
       "    .dataframe tbody tr th:only-of-type {\n",
       "        vertical-align: middle;\n",
       "    }\n",
       "\n",
       "    .dataframe tbody tr th {\n",
       "        vertical-align: top;\n",
       "    }\n",
       "\n",
       "    .dataframe thead th {\n",
       "        text-align: right;\n",
       "    }\n",
       "</style>\n",
       "<table border=\"1\" class=\"dataframe\">\n",
       "  <thead>\n",
       "    <tr style=\"text-align: right;\">\n",
       "      <th></th>\n",
       "      <th>Booking ID</th>\n",
       "      <th>hotel</th>\n",
       "      <th>lead_time</th>\n",
       "      <th>arrival_date_year</th>\n",
       "      <th>arrival_date_month</th>\n",
       "      <th>arrival_month_code</th>\n",
       "      <th>arrival_date_week_number</th>\n",
       "      <th>arrival_date_day_of_month</th>\n",
       "      <th>Date</th>\n",
       "      <th>stays_in_weekend_nights</th>\n",
       "      <th>stays_in_week_nights</th>\n",
       "      <th>length of stay</th>\n",
       "      <th>adults</th>\n",
       "      <th>children</th>\n",
       "      <th>babies</th>\n",
       "      <th>meal</th>\n",
       "      <th>Country Code</th>\n",
       "      <th>market_segment</th>\n",
       "      <th>is_repeated_guest</th>\n",
       "      <th>reserved_room_type</th>\n",
       "      <th>assigned_room_type</th>\n",
       "      <th>booking_changes</th>\n",
       "      <th>deposit_type</th>\n",
       "      <th>agent</th>\n",
       "      <th>days_in_waiting_list</th>\n",
       "      <th>customer_type</th>\n",
       "      <th>adr</th>\n",
       "      <th>required_car_parking_spaces</th>\n",
       "      <th>total_of_special_requests</th>\n",
       "      <th>reservation_status</th>\n",
       "      <th>is_cancelled</th>\n",
       "    </tr>\n",
       "  </thead>\n",
       "  <tbody>\n",
       "    <tr>\n",
       "      <th>0</th>\n",
       "      <td>14039</td>\n",
       "      <td>Resort Hotel</td>\n",
       "      <td>342</td>\n",
       "      <td>2015</td>\n",
       "      <td>July</td>\n",
       "      <td>7</td>\n",
       "      <td>27</td>\n",
       "      <td>1</td>\n",
       "      <td>7/1/2015</td>\n",
       "      <td>0</td>\n",
       "      <td>0</td>\n",
       "      <td>0</td>\n",
       "      <td>2</td>\n",
       "      <td>0</td>\n",
       "      <td>0</td>\n",
       "      <td>BB</td>\n",
       "      <td>PRT</td>\n",
       "      <td>Direct</td>\n",
       "      <td>0</td>\n",
       "      <td>D</td>\n",
       "      <td>D</td>\n",
       "      <td>3</td>\n",
       "      <td>No Deposit</td>\n",
       "      <td>NaN</td>\n",
       "      <td>0</td>\n",
       "      <td>Transient</td>\n",
       "      <td>0.00</td>\n",
       "      <td>0</td>\n",
       "      <td>0</td>\n",
       "      <td>Check-Out</td>\n",
       "      <td>0</td>\n",
       "    </tr>\n",
       "    <tr>\n",
       "      <th>1</th>\n",
       "      <td>14038</td>\n",
       "      <td>Resort Hotel</td>\n",
       "      <td>737</td>\n",
       "      <td>2015</td>\n",
       "      <td>July</td>\n",
       "      <td>7</td>\n",
       "      <td>27</td>\n",
       "      <td>1</td>\n",
       "      <td>7/1/2015</td>\n",
       "      <td>0</td>\n",
       "      <td>0</td>\n",
       "      <td>0</td>\n",
       "      <td>2</td>\n",
       "      <td>0</td>\n",
       "      <td>0</td>\n",
       "      <td>BB</td>\n",
       "      <td>PRT</td>\n",
       "      <td>Direct</td>\n",
       "      <td>0</td>\n",
       "      <td>D</td>\n",
       "      <td>D</td>\n",
       "      <td>4</td>\n",
       "      <td>No Deposit</td>\n",
       "      <td>NaN</td>\n",
       "      <td>0</td>\n",
       "      <td>Transient</td>\n",
       "      <td>0.00</td>\n",
       "      <td>0</td>\n",
       "      <td>0</td>\n",
       "      <td>Check-Out</td>\n",
       "      <td>0</td>\n",
       "    </tr>\n",
       "    <tr>\n",
       "      <th>2</th>\n",
       "      <td>48516</td>\n",
       "      <td>Resort Hotel</td>\n",
       "      <td>7</td>\n",
       "      <td>2015</td>\n",
       "      <td>July</td>\n",
       "      <td>7</td>\n",
       "      <td>27</td>\n",
       "      <td>1</td>\n",
       "      <td>7/1/2015</td>\n",
       "      <td>0</td>\n",
       "      <td>1</td>\n",
       "      <td>1</td>\n",
       "      <td>1</td>\n",
       "      <td>0</td>\n",
       "      <td>0</td>\n",
       "      <td>BB</td>\n",
       "      <td>GBR</td>\n",
       "      <td>Direct</td>\n",
       "      <td>0</td>\n",
       "      <td>I</td>\n",
       "      <td>D</td>\n",
       "      <td>0</td>\n",
       "      <td>No Deposit</td>\n",
       "      <td>NaN</td>\n",
       "      <td>0</td>\n",
       "      <td>Transient</td>\n",
       "      <td>75.00</td>\n",
       "      <td>0</td>\n",
       "      <td>0</td>\n",
       "      <td>Check-Out</td>\n",
       "      <td>0</td>\n",
       "    </tr>\n",
       "    <tr>\n",
       "      <th>3</th>\n",
       "      <td>27243</td>\n",
       "      <td>Resort Hotel</td>\n",
       "      <td>13</td>\n",
       "      <td>2015</td>\n",
       "      <td>July</td>\n",
       "      <td>7</td>\n",
       "      <td>27</td>\n",
       "      <td>1</td>\n",
       "      <td>7/1/2015</td>\n",
       "      <td>0</td>\n",
       "      <td>1</td>\n",
       "      <td>1</td>\n",
       "      <td>1</td>\n",
       "      <td>0</td>\n",
       "      <td>0</td>\n",
       "      <td>BB</td>\n",
       "      <td>GBR</td>\n",
       "      <td>Corporate</td>\n",
       "      <td>0</td>\n",
       "      <td>I</td>\n",
       "      <td>I</td>\n",
       "      <td>0</td>\n",
       "      <td>No Deposit</td>\n",
       "      <td>304.00</td>\n",
       "      <td>0</td>\n",
       "      <td>Transient</td>\n",
       "      <td>75.00</td>\n",
       "      <td>0</td>\n",
       "      <td>0</td>\n",
       "      <td>Check-Out</td>\n",
       "      <td>0</td>\n",
       "    </tr>\n",
       "    <tr>\n",
       "      <th>4</th>\n",
       "      <td>101346</td>\n",
       "      <td>Resort Hotel</td>\n",
       "      <td>14</td>\n",
       "      <td>2015</td>\n",
       "      <td>July</td>\n",
       "      <td>7</td>\n",
       "      <td>27</td>\n",
       "      <td>1</td>\n",
       "      <td>7/1/2015</td>\n",
       "      <td>0</td>\n",
       "      <td>2</td>\n",
       "      <td>2</td>\n",
       "      <td>2</td>\n",
       "      <td>0</td>\n",
       "      <td>0</td>\n",
       "      <td>BB</td>\n",
       "      <td>GBR</td>\n",
       "      <td>Online TA</td>\n",
       "      <td>0</td>\n",
       "      <td>I</td>\n",
       "      <td>I</td>\n",
       "      <td>0</td>\n",
       "      <td>No Deposit</td>\n",
       "      <td>240.00</td>\n",
       "      <td>0</td>\n",
       "      <td>Transient</td>\n",
       "      <td>98.00</td>\n",
       "      <td>0</td>\n",
       "      <td>1</td>\n",
       "      <td>Check-Out</td>\n",
       "      <td>0</td>\n",
       "    </tr>\n",
       "  </tbody>\n",
       "</table>\n",
       "</div>"
      ],
      "text/plain": [
       "   Booking ID         hotel  lead_time  arrival_date_year arrival_date_month  arrival_month_code  arrival_date_week_number  arrival_date_day_of_month     Date   stays_in_weekend_nights  stays_in_week_nights  length of stay  adults  children  babies meal Country Code market_segment  is_repeated_guest reserved_room_type assigned_room_type  booking_changes deposit_type  agent  days_in_waiting_list customer_type   adr  required_car_parking_spaces  total_of_special_requests reservation_status  is_cancelled\n",
       "0       14039  Resort Hotel        342               2015               July                   7                        27                          1  7/1/2015                        0                     0               0       2         0       0   BB          PRT         Direct                  0                  D                  D                3   No Deposit    NaN                     0     Transient  0.00                            0                          0          Check-Out             0\n",
       "1       14038  Resort Hotel        737               2015               July                   7                        27                          1  7/1/2015                        0                     0               0       2         0       0   BB          PRT         Direct                  0                  D                  D                4   No Deposit    NaN                     0     Transient  0.00                            0                          0          Check-Out             0\n",
       "2       48516  Resort Hotel          7               2015               July                   7                        27                          1  7/1/2015                        0                     1               1       1         0       0   BB          GBR         Direct                  0                  I                  D                0   No Deposit    NaN                     0     Transient 75.00                            0                          0          Check-Out             0\n",
       "3       27243  Resort Hotel         13               2015               July                   7                        27                          1  7/1/2015                        0                     1               1       1         0       0   BB          GBR      Corporate                  0                  I                  I                0   No Deposit 304.00                     0     Transient 75.00                            0                          0          Check-Out             0\n",
       "4      101346  Resort Hotel         14               2015               July                   7                        27                          1  7/1/2015                        0                     2               2       2         0       0   BB          GBR      Online TA                  0                  I                  I                0   No Deposit 240.00                     0     Transient 98.00                            0                          1          Check-Out             0"
      ]
     },
     "execution_count": 3,
     "metadata": {},
     "output_type": "execute_result"
    }
   ],
   "source": [
    "df.head()"
   ]
  },
  {
   "cell_type": "code",
   "execution_count": 4,
   "metadata": {},
   "outputs": [
    {
     "name": "stdout",
     "output_type": "stream",
     "text": [
      "<class 'pandas.core.frame.DataFrame'>\n",
      "RangeIndex: 118987 entries, 0 to 118986\n",
      "Data columns (total 31 columns):\n",
      " #   Column                       Non-Null Count   Dtype  \n",
      "---  ------                       --------------   -----  \n",
      " 0   Booking ID                   118987 non-null  int64  \n",
      " 1   hotel                        118987 non-null  object \n",
      " 2   lead_time                    118987 non-null  int64  \n",
      " 3   arrival_date_year            118987 non-null  int64  \n",
      " 4   arrival_date_month           118987 non-null  object \n",
      " 5   arrival_month_code           118987 non-null  int64  \n",
      " 6   arrival_date_week_number     118987 non-null  int64  \n",
      " 7   arrival_date_day_of_month    118987 non-null  int64  \n",
      " 8   Date                         118987 non-null  object \n",
      " 9   stays_in_weekend_nights      118987 non-null  int64  \n",
      " 10  stays_in_week_nights         118987 non-null  int64  \n",
      " 11  length of stay               118987 non-null  int64  \n",
      " 12  adults                       118987 non-null  int64  \n",
      " 13  children                     118987 non-null  int64  \n",
      " 14  babies                       118987 non-null  int64  \n",
      " 15  meal                         118987 non-null  object \n",
      " 16  Country Code                 118509 non-null  object \n",
      " 17  market_segment               118987 non-null  object \n",
      " 18  is_repeated_guest            118987 non-null  int64  \n",
      " 19  reserved_room_type           118987 non-null  object \n",
      " 20  assigned_room_type           118987 non-null  object \n",
      " 21  booking_changes              118987 non-null  int64  \n",
      " 22  deposit_type                 118987 non-null  object \n",
      " 23  agent                        102724 non-null  float64\n",
      " 24  days_in_waiting_list         118987 non-null  int64  \n",
      " 25  customer_type                118987 non-null  object \n",
      " 26  adr                          118987 non-null  float64\n",
      " 27  required_car_parking_spaces  118987 non-null  int64  \n",
      " 28  total_of_special_requests    118987 non-null  int64  \n",
      " 29  reservation_status           118987 non-null  object \n",
      " 30  is_cancelled                 118987 non-null  int64  \n",
      "dtypes: float64(2), int64(18), object(11)\n",
      "memory usage: 28.1+ MB\n"
     ]
    }
   ],
   "source": [
    "df.info()"
   ]
  },
  {
   "cell_type": "code",
   "execution_count": 5,
   "metadata": {},
   "outputs": [
    {
     "data": {
      "text/plain": [
       "int64      18\n",
       "object     11\n",
       "float64     2\n",
       "dtype: int64"
      ]
     },
     "execution_count": 5,
     "metadata": {},
     "output_type": "execute_result"
    }
   ],
   "source": [
    "df.dtypes.value_counts()"
   ]
  },
  {
   "cell_type": "code",
   "execution_count": null,
   "metadata": {},
   "outputs": [],
   "source": [
    "# Descriptive Statistical Analysis\n",
    "df.describe(include=\"all\")"
   ]
  },
  {
   "cell_type": "code",
   "execution_count": null,
   "metadata": {},
   "outputs": [],
   "source": [
    "# Descriptive Statistical Analysis\n",
    "df.describe(include=[\"int\", \"float\"])"
   ]
  },
  {
   "cell_type": "code",
   "execution_count": null,
   "metadata": {},
   "outputs": [],
   "source": [
    "# Descriptive Statistical Analysis\n",
    "df.describe(include=\"object\")"
   ]
  },
  {
   "cell_type": "code",
   "execution_count": null,
   "metadata": {},
   "outputs": [],
   "source": [
    "df.columns"
   ]
  },
  {
   "cell_type": "code",
   "execution_count": null,
   "metadata": {},
   "outputs": [],
   "source": [
    "df.shape"
   ]
  },
  {
   "cell_type": "code",
   "execution_count": 6,
   "metadata": {},
   "outputs": [
    {
     "data": {
      "text/plain": [
       "Booking ID                         0\n",
       "hotel                              0\n",
       "lead_time                          0\n",
       "arrival_date_year                  0\n",
       "arrival_date_month                 0\n",
       "arrival_month_code                 0\n",
       "arrival_date_week_number           0\n",
       "arrival_date_day_of_month          0\n",
       "Date                               0\n",
       "stays_in_weekend_nights            0\n",
       "stays_in_week_nights               0\n",
       "length of stay                     0\n",
       "adults                             0\n",
       "children                           0\n",
       "babies                             0\n",
       "meal                               0\n",
       "Country Code                     478\n",
       "market_segment                     0\n",
       "is_repeated_guest                  0\n",
       "reserved_room_type                 0\n",
       "assigned_room_type                 0\n",
       "booking_changes                    0\n",
       "deposit_type                       0\n",
       "agent                          16263\n",
       "days_in_waiting_list               0\n",
       "customer_type                      0\n",
       "adr                                0\n",
       "required_car_parking_spaces        0\n",
       "total_of_special_requests          0\n",
       "reservation_status                 0\n",
       "is_cancelled                       0\n",
       "dtype: int64"
      ]
     },
     "execution_count": 6,
     "metadata": {},
     "output_type": "execute_result"
    }
   ],
   "source": [
    "df.isnull().sum()"
   ]
  },
  {
   "cell_type": "code",
   "execution_count": null,
   "metadata": {},
   "outputs": [],
   "source": [
    "df.fillna(0, inplace=True)"
   ]
  },
  {
   "cell_type": "code",
   "execution_count": null,
   "metadata": {},
   "outputs": [],
   "source": [
    "df.duplicated().sum()"
   ]
  },
  {
   "cell_type": "markdown",
   "metadata": {},
   "source": [
    "Elevate Resort wants to analyze the distribution of bookings(Booking ID) across different room types(reserved_room_type).  Which of the below visualization types should they use to visualize this information?"
   ]
  },
  {
   "cell_type": "code",
   "execution_count": 11,
   "metadata": {},
   "outputs": [
    {
     "data": {
      "text/plain": [
       "reserved_room_type\n",
       "A    84079\n",
       "B     1029\n",
       "C      921\n",
       "D    18641\n",
       "E     6518\n",
       "F     2813\n",
       "G     2598\n",
       "H      559\n",
       "I     1826\n",
       "L        3\n",
       "Name: Booking ID, dtype: int64"
      ]
     },
     "execution_count": 11,
     "metadata": {},
     "output_type": "execute_result"
    }
   ],
   "source": [
    "df.groupby(\"reserved_room_type\")[\"Booking ID\"].count()"
   ]
  },
  {
   "cell_type": "markdown",
   "metadata": {},
   "source": [
    "Question 2\n",
    "\n",
    "Visualize the distribution of bookings(Booking ID) across different room types(reserved_room_type) in Power BI. Which of the below room types had the highest number of bookings?"
   ]
  },
  {
   "cell_type": "code",
   "execution_count": 13,
   "metadata": {},
   "outputs": [
    {
     "data": {
      "image/png": "[encoded data removed]",
      "text/plain": [
       "<Figure size 864x360 with 1 Axes>"
      ]
     },
     "metadata": {},
     "output_type": "display_data"
    }
   ],
   "source": [
    "df.groupby(\"reserved_room_type\")[\"Booking ID\"].count().plot(kind = \"bar\", figsize = (12,5), fontsize = 12)\n",
    "plt.show()"
   ]
  },
  {
   "cell_type": "markdown",
   "metadata": {},
   "source": [
    "Using Power BI, find out which is the most popular room assigned to people who have booked a room with Elevate resorts. Also, find the percentage of the most popular room assigned(assigned_room_type)."
   ]
  },
  {
   "cell_type": "code",
   "execution_count": 16,
   "metadata": {},
   "outputs": [
    {
     "data": {
      "image/png": "[encoded data removed]",
      "text/plain": [
       "<Figure size 864x360 with 1 Axes>"
      ]
     },
     "metadata": {},
     "output_type": "display_data"
    }
   ],
   "source": [
    "df.groupby(\"assigned_room_type\")[\"hotel\"].count().plot(kind = \"bar\", figsize = (12,5), fontsize = 12)\n",
    "plt.show()"
   ]
  },
  {
   "cell_type": "code",
   "execution_count": 20,
   "metadata": {},
   "outputs": [
    {
     "data": {
      "text/plain": [
       "assigned_room_type\n",
       "A    72625\n",
       "B     2110\n",
       "C     2329\n",
       "D    24800\n",
       "E     7798\n",
       "F     3604\n",
       "G     3112\n",
       "H      668\n",
       "I     1753\n",
       "K      187\n",
       "L        1\n",
       "Name: hotel, dtype: int64"
      ]
     },
     "execution_count": 20,
     "metadata": {},
     "output_type": "execute_result"
    }
   ],
   "source": [
    "assigned = df.groupby(\"assigned_room_type\")[\"hotel\"].count()\n",
    "assigned"
   ]
  },
  {
   "cell_type": "code",
   "execution_count": 21,
   "metadata": {},
   "outputs": [
    {
     "data": {
      "text/plain": [
       "61.03607957171791"
      ]
     },
     "execution_count": 21,
     "metadata": {},
     "output_type": "execute_result"
    }
   ],
   "source": [
    "72625/118987 * 100"
   ]
  },
  {
   "cell_type": "markdown",
   "metadata": {},
   "source": [
    "Question 4\n",
    "\n",
    "The marketing team at the Elevator Resort wants to analyze the booking trends(Booking ID) across market segments(market_segment). They need to visualize the booking volumes for each market segment over the years (Date column) Help them by providing the solutions to the below questions.\n",
    "\n",
    "Which market segment consistently has the highest booking volumes over the years?"
   ]
  },
  {
   "cell_type": "code",
   "execution_count": 24,
   "metadata": {},
   "outputs": [
    {
     "data": {
      "text/plain": [
       "0         2015\n",
       "1         2015\n",
       "2         2015\n",
       "3         2015\n",
       "4         2015\n",
       "          ... \n",
       "118982    2017\n",
       "118983    2017\n",
       "118984    2017\n",
       "118985    2017\n",
       "118986    2017\n",
       "Name: arrival_date_year, Length: 118987, dtype: int64"
      ]
     },
     "execution_count": 24,
     "metadata": {},
     "output_type": "execute_result"
    }
   ],
   "source": [
    "df.arrival_date_year"
   ]
  },
  {
   "cell_type": "code",
   "execution_count": 26,
   "metadata": {},
   "outputs": [
    {
     "data": {
      "text/plain": [
       "market_segment  arrival_date_year\n",
       "Aviation        2016                   127\n",
       "                2017                   108\n",
       "Complementary   2015                   162\n",
       "                2016                   355\n",
       "                2017                   207\n",
       "Corporate       2015                  1167\n",
       "                2016                  2557\n",
       "                2017                  1558\n",
       "Direct          2015                  2305\n",
       "                2016                  5635\n",
       "                2017                  4613\n",
       "Groups          2015                  6092\n",
       "                2016                  7853\n",
       "                2017                  5846\n",
       "Offline TA/TO   2015                  6072\n",
       "                2016                 12449\n",
       "                2017                  5658\n",
       "Online TA       2015                  6152\n",
       "                2016                 27502\n",
       "                2017                 22567\n",
       "Undefined       2015                     2\n",
       "Name: Booking ID, dtype: int64"
      ]
     },
     "execution_count": 26,
     "metadata": {},
     "output_type": "execute_result"
    }
   ],
   "source": [
    "df.groupby([\"market_segment\",\"arrival_date_year\"])[\"Booking ID\"].count()"
   ]
  },
  {
   "cell_type": "markdown",
   "metadata": {},
   "source": [
    "Question 5\n",
    "\n",
    "Between Groups and Direct market segments(market_segments) which has the most number of bookings in the year 2016? (Hint - Use “arrival_date_year” column to get the answer by year) "
   ]
  },
  {
   "cell_type": "code",
   "execution_count": 28,
   "metadata": {},
   "outputs": [
    {
     "data": {
      "text/plain": [
       "market_segment  arrival_date_year\n",
       "Aviation        2016                   127\n",
       "                2017                   108\n",
       "Complementary   2015                   162\n",
       "                2016                   355\n",
       "                2017                   207\n",
       "Corporate       2015                  1167\n",
       "                2016                  2557\n",
       "                2017                  1558\n",
       "Direct          2015                  2305\n",
       "                2016                  5635\n",
       "                2017                  4613\n",
       "Groups          2015                  6092\n",
       "                2016                  7853\n",
       "                2017                  5846\n",
       "Offline TA/TO   2015                  6072\n",
       "                2016                 12449\n",
       "                2017                  5658\n",
       "Online TA       2015                  6152\n",
       "                2016                 27502\n",
       "                2017                 22567\n",
       "Undefined       2015                     2\n",
       "Name: Booking ID, dtype: int64"
      ]
     },
     "execution_count": 28,
     "metadata": {},
     "output_type": "execute_result"
    }
   ],
   "source": [
    "df.groupby([\"market_segment\",\"arrival_date_year\"])[\"Booking ID\"].count()"
   ]
  },
  {
   "cell_type": "markdown",
   "metadata": {},
   "source": [
    "Elevate Resort wants to analyze the cancellation pattern(is_cancelled) across all the months(arrival_month_code) of 2016.  They want to know in which month of 2016 did they get the most number of cancellations. Visualize this in Power BI and select the right answer.  (Hint - Use “arrival_date_year” column to get answer by year)"
   ]
  },
  {
   "cell_type": "code",
   "execution_count": 36,
   "metadata": {},
   "outputs": [
    {
     "data": {
      "text/plain": [
       "is_cancelled  arrival_date_month  arrival_date_year\n",
       "0             April               2016                 16332\n",
       "                                  2017                 15324\n",
       "              August              2015                 22000\n",
       "                                  2016                 27360\n",
       "                                  2017                 25344\n",
       "              December            2015                 27996\n",
       "                                  2016                 31644\n",
       "              February            2016                  5894\n",
       "                                  2017                  6124\n",
       "              January             2016                  1855\n",
       "                                  2017                  2750\n",
       "              July                2015                 11907\n",
       "                                  2016                 22932\n",
       "                                  2017                 24150\n",
       "              June                2016                 24048\n",
       "                                  2017                 23376\n",
       "              March               2016                 11265\n",
       "                                  2017                 11226\n",
       "              May                 2016                 20665\n",
       "                                  2017                 21825\n",
       "              November            2015                 21153\n",
       "                                  2016                 37092\n",
       "              October             2015                 41130\n",
       "                                  2016                 42870\n",
       "              September           2015                 36225\n",
       "                                  2016                 35685\n",
       "1             April               2016                  5336\n",
       "                                  2017                  7236\n",
       "              August              2015                  9032\n",
       "                                  2016                 12880\n",
       "                                  2017                 14016\n",
       "              December            2015                  6852\n",
       "                                  2016                 14340\n",
       "              February            2016                  1848\n",
       "                                  2017                  2202\n",
       "              January             2016                   383\n",
       "                                  2017                   915\n",
       "              July                2015                  7511\n",
       "                                  2016                  8862\n",
       "                                  2017                 12915\n",
       "              June                2016                  7644\n",
       "                                  2017                 10434\n",
       "              March               2016                  3162\n",
       "                                  2017                  3600\n",
       "              May                 2016                  6670\n",
       "                                  2017                  9660\n",
       "              November            2015                  4554\n",
       "                                  2016                 11616\n",
       "              October             2015                  8360\n",
       "                                  2016                 18950\n",
       "              September           2015                  9756\n",
       "                                  2016                 12735\n",
       "Name: arrival_month_code, dtype: int64"
      ]
     },
     "execution_count": 36,
     "metadata": {},
     "output_type": "execute_result"
    }
   ],
   "source": [
    "df.groupby([\"is_cancelled\",\"arrival_date_month\",\"arrival_date_year\"])[\"arrival_month_code\"].sum()"
   ]
  },
  {
   "cell_type": "markdown",
   "metadata": {},
   "source": [
    "Elevate Resorts plans to maintain and prepare the parking area to meet the parking requirements month on month(arrival_month_code). Which month in 2016 saw the maximum number of cars being parked(required_car_parking_spaces)? (Hint - Use “arrival_date_year” column to get answer by year) "
   ]
  },
  {
   "cell_type": "code",
   "execution_count": 41,
   "metadata": {},
   "outputs": [
    {
     "data": {
      "text/plain": [
       "arrival_date_year  arrival_month_code\n",
       "2015               7                     216\n",
       "                   8                     248\n",
       "                   9                     215\n",
       "                   10                    250\n",
       "                   11                    192\n",
       "                   12                    231\n",
       "2016               1                     209\n",
       "                   2                     267\n",
       "                   3                     356\n",
       "                   4                     318\n",
       "                   5                     334\n",
       "                   6                     314\n",
       "                   7                     376\n",
       "                   8                     451\n",
       "                   9                     332\n",
       "                   10                    380\n",
       "                   11                    264\n",
       "                   12                    270\n",
       "2017               1                     281\n",
       "                   2                     242\n",
       "                   3                     244\n",
       "                   4                     314\n",
       "                   5                     279\n",
       "                   6                     294\n",
       "                   7                     277\n",
       "                   8                     301\n",
       "Name: required_car_parking_spaces, dtype: int64"
      ]
     },
     "execution_count": 41,
     "metadata": {},
     "output_type": "execute_result"
    }
   ],
   "source": [
    "df.groupby([\"arrival_date_year\",\"arrival_month_code\"])[\"required_car_parking_spaces\"].sum()"
   ]
  },
  {
   "cell_type": "markdown",
   "metadata": {},
   "source": [
    "**==========================================================================================================**"
   ]
  },
  {
   "cell_type": "markdown",
   "metadata": {},
   "source": [
    "`\n",
    "sns.FacetGrid(data,  row=None,  col=None,  hue=None,  col_wrap=None,\n",
    "    sharex=True, sharey=True,  height=3,  aspect=1,  palette=None,  row_order=None,  col_order=None,\n",
    "    hue_order=None,  hue_kws=None,  dropna=False, legend_out=True,  despine=True,\n",
    "    margin_titles=False,  xlim=None,  ylim=None,  subplot_kws=None,  gridspec_kws=None, size=None)\n",
    "`"
   ]
  },
  {
   "cell_type": "code",
   "execution_count": null,
   "metadata": {},
   "outputs": [],
   "source": [
    "sns.FacetGrid(data=df, col=\"label\")"
   ]
  },
  {
   "cell_type": "code",
   "execution_count": null,
   "metadata": {},
   "outputs": [],
   "source": [
    "g = sns.FacetGrid(data=df, col=\"label\", height=3, aspect=1)\n",
    "\n",
    "g.map(sns.boxplot, \"drives\")\n",
    "\n",
    "g.fig.suptitle(\"My super title\", y=1.05)\n",
    "\n",
    "\n",
    "plt.show()"
   ]
  },
  {
   "cell_type": "code",
   "execution_count": null,
   "metadata": {},
   "outputs": [],
   "source": [
    "g = sns.FacetGrid(data=df, col=\"gender\", hue=None, col_wrap=None, height=3, aspect=2, margin_titles=True)\n",
    "g.map(sns.histplot, \"age\")\n",
    "g.add_legend()\n",
    "plt.show()"
   ]
  },
  {
   "cell_type": "code",
   "execution_count": null,
   "metadata": {},
   "outputs": [],
   "source": [
    "g = sns.FacetGrid(data=df, col=\"merchantstate\", hue=None, col_wrap=4, height=3, aspect=2, margin_titles=True)\n",
    "g.map(sns.kdeplot, \"amount\", color=\"green\")\n",
    "g.add_legend()\n",
    "plt.show()"
   ]
  },
  {
   "cell_type": "code",
   "execution_count": null,
   "metadata": {},
   "outputs": [],
   "source": [
    "g = sns.FacetGrid(data=df, col=\"merchantstate\", row=\"gender\", hue=None, col_wrap=None, height=3, aspect=2, margin_titles=True)\n",
    "g.map(sns.regplot, \"balance\", \"amount\", color=\"red\", fit_reg=True, x_jitter=None)\n",
    "g.add_legend()\n",
    "plt.show()"
   ]
  },
  {
   "cell_type": "code",
   "execution_count": null,
   "metadata": {},
   "outputs": [],
   "source": [
    "g = sns.FacetGrid(tips, col=\"day\", height=4, aspect=.5)\n",
    "g.map(sns.barplot, \"sex\", \"total_bill\", order=[\"Male\", \"Female\"])\n",
    "g.add_legend()\n",
    "plt.show()"
   ]
  },
  {
   "cell_type": "code",
   "execution_count": null,
   "metadata": {},
   "outputs": [],
   "source": [
    "g = sns.FacetGrid(attend, col=\"subject\", col_wrap=4, height=2, ylim=(0, 10))\n",
    "g.map(sns.pointplot, \"solutions\", \"score\", order=[1, 2, 3], color=\".3\", errorbar=None)"
   ]
  },
  {
   "cell_type": "code",
   "execution_count": null,
   "metadata": {},
   "outputs": [],
   "source": [
    "g = sns.FacetGrid(tips, row=\"sex\", col=\"smoker\", margin_titles=True, height=2.5)\n",
    "g.map(sns.scatterplot, \"total_bill\", \"tip\", color=\"#334488\")\n",
    "g.set_axis_labels(\"Total bill (US Dollars)\", \"Tip\")\n",
    "g.set(xticks=[10, 30, 50], yticks=[2, 6, 10])\n",
    "g.figure.subplots_adjust(wspace=.02, hspace=.02)"
   ]
  },
  {
   "cell_type": "markdown",
   "metadata": {},
   "source": [
    "**==========================================================================================================**"
   ]
  },
  {
   "cell_type": "code",
   "execution_count": null,
   "metadata": {},
   "outputs": [],
   "source": [
    "df.columns"
   ]
  },
  {
   "cell_type": "code",
   "execution_count": null,
   "metadata": {},
   "outputs": [],
   "source": [
    "df_year = df.groupby([\"year\"], as_index=False).mean()\n",
    "df_year.head()"
   ]
  },
  {
   "cell_type": "code",
   "execution_count": null,
   "metadata": {},
   "outputs": [],
   "source": [
    "df_year[\"pop\"] = df_year[\"population\"]/1000000"
   ]
  },
  {
   "cell_type": "code",
   "execution_count": null,
   "metadata": {},
   "outputs": [],
   "source": [
    "df_year[\"gdpnorm\"] = df_year[\"gdp\"]/100000000"
   ]
  },
  {
   "cell_type": "code",
   "execution_count": null,
   "metadata": {},
   "outputs": [],
   "source": [
    "df2 = df_year[['infant_mortality', 'life_expectancy', 'fertility','pop', 'gdpnorm']]\n",
    "df2.head()"
   ]
  },
  {
   "cell_type": "markdown",
   "metadata": {},
   "source": [
    "**==========================================================================================================**"
   ]
  },
  {
   "cell_type": "markdown",
   "metadata": {},
   "source": [
    "## Histogram"
   ]
  },
  {
   "cell_type": "markdown",
   "metadata": {},
   "source": [
    "### Pandas Version"
   ]
  },
  {
   "cell_type": "code",
   "execution_count": null,
   "metadata": {
    "scrolled": false
   },
   "outputs": [],
   "source": [
    "df.hist(bins=50, figsize=(20,80), layout=(len(df.columns),2), grid=False)\n",
    "plt.suptitle('Histogram Feature Distribution', x=0.5, y=1.02, ha='center', fontsize=20)\n",
    "\n",
    "plt.tight_layout()\n",
    "plt.show()"
   ]
  },
  {
   "cell_type": "code",
   "execution_count": null,
   "metadata": {},
   "outputs": [],
   "source": [
    "df_year.plot.hist(figsize=(10, 10), subplots=True)\n",
    "plt.show()"
   ]
  },
  {
   "cell_type": "code",
   "execution_count": null,
   "metadata": {},
   "outputs": [],
   "source": [
    "df2.plot.hist(figsize=(10, 10), bins=20, subplots=False, stacked = True, orientation = 'horizontal')\n",
    "plt.show()"
   ]
  },
  {
   "cell_type": "code",
   "execution_count": null,
   "metadata": {},
   "outputs": [],
   "source": [
    "df.year.plot(kind = \"hist\", figsize = (12,5), fontsize = 15, bins = 80, density = True)\n",
    "plt.show()"
   ]
  },
  {
   "cell_type": "code",
   "execution_count": null,
   "metadata": {},
   "outputs": [],
   "source": [
    "df.duration.hist(figsize = (12,8), bins = 80, xlabelsize=15, ylabelsize= 15, cumulative = True)\n",
    "plt.show()"
   ]
  },
  {
   "cell_type": "code",
   "execution_count": null,
   "metadata": {},
   "outputs": [],
   "source": [
    "df.amount.plot.hist(figsize = (12,8))\n",
    "plt.show()"
   ]
  },
  {
   "cell_type": "code",
   "execution_count": null,
   "metadata": {},
   "outputs": [],
   "source": [
    "#Plot 2 by 2 subplots\n",
    "\n",
    "fig, ((ax1, ax2), (ax3, ax4)) = plt.subplots(2,2, sharex=False, sharey=False, figsize=(20,15))\n",
    "fig.suptitle('Main Title', y=1.0, size = 20)\n",
    "\n",
    "df.plot.hist(y=\"age\", bins=10, color='darkblue', ax=ax1)\n",
    "ax1.set_title(\"Title\")\n",
    "ax1.set(xlabel=\"x\", ylabel=\"y\")\n",
    "\n",
    "\n",
    "df.plot.hist(y=\"balance\", bins=10, ax=ax2)\n",
    "ax2.set_title(\"Title\")\n",
    "ax2.set(xlabel=\"x\", ylabel=\"y\")\n",
    "\n",
    "df.plot.hist(y=\"amount\", bins=10, ax=ax3)\n",
    "ax3.set_title(\"Title\")\n",
    "ax3.set(xlabel=\"x\", ylabel=\"y\")\n",
    "\n",
    "df.plot.hist(y=\"age\", bins=10, ax=ax4)\n",
    "ax4.set_title(\"Title\")\n",
    "ax4.set(xlabel=\"x\", ylabel=\"y\")\n",
    "\n",
    "plt.tight_layout()\n",
    "plt.show()"
   ]
  },
  {
   "cell_type": "markdown",
   "metadata": {},
   "source": [
    "### Matplotlib Version"
   ]
  },
  {
   "cell_type": "code",
   "execution_count": null,
   "metadata": {},
   "outputs": [],
   "source": [
    "fig, ax = plt.subplots(figsize=(12,8))\n",
    "ax.hist(x=df.amount, bins = 10, density=False, cumulative=False, color=None)\n",
    "plt.show()"
   ]
  },
  {
   "cell_type": "code",
   "execution_count": null,
   "metadata": {},
   "outputs": [],
   "source": [
    "# plt.subplot(2,2,1)\n",
    "# plt.subplot(2,2,2)\n",
    "# plt.subplot(2,2,3)\n",
    "# plt.subplot(2,2,4)\n",
    "# plt.show()\n",
    "# plt.tight_layout()"
   ]
  },
  {
   "cell_type": "markdown",
   "metadata": {},
   "source": [
    "### Seaborn Version"
   ]
  },
  {
   "cell_type": "code",
   "execution_count": null,
   "metadata": {},
   "outputs": [],
   "source": [
    "fig, ax = plt.subplots(figsize=(12,5))\n",
    "\n",
    "sns.histplot(x=df.amount, data=df, bins=10)\n",
    "\n",
    "plt.show()"
   ]
  },
  {
   "cell_type": "code",
   "execution_count": null,
   "metadata": {},
   "outputs": [],
   "source": [
    "#Plot 2 by 2 subplots\n",
    "\n",
    "fig, ((ax1, ax2), (ax3, ax4)) = plt.subplots(2,2, sharex=False, sharey=False, figsize=(20,15))\n",
    "fig.suptitle('Main Title', y=1.0, size = 20)\n",
    "\n",
    "sns.histplot(data=df, x=df.age, y=None, hue=None, ax=ax1)\n",
    "ax1.set_title(\"Title\")\n",
    "ax1.set(xlabel=\"x\", ylabel=\"y\")\n",
    "\n",
    "\n",
    "sns.histplot(data=df, x=df.age, y=None, hue=None, ax=ax2)\n",
    "ax2.set_title(\"Title\")\n",
    "ax2.set(xlabel=\"x\", ylabel=\"y\")\n",
    "\n",
    "sns.histplot(data=df, x=df.age, y=None, hue=None, ax=ax3)\n",
    "ax3.set_title(\"Title\")\n",
    "ax3.set(xlabel=\"x\", ylabel=\"y\")\n",
    "\n",
    "sns.histplot(data=df, x=df.age, y=None, hue=None, ax=ax4)\n",
    "ax4.set_title(\"Title\")\n",
    "ax4.set(xlabel=\"x\", ylabel=\"y\")\n",
    "\n",
    "plt.tight_layout()\n",
    "plt.show()"
   ]
  },
  {
   "cell_type": "code",
   "execution_count": null,
   "metadata": {},
   "outputs": [],
   "source": [
    "# Create stacked histogram to compare department distribution of employees who left to that of employees who didn't\n",
    "plt.figure(figsize=(11,8))\n",
    "sns.histplot(data=df1, x='department', hue='left', discrete=1, \n",
    "             hue_order=[0, 1], multiple='dodge', shrink=.5)\n",
    "plt.xticks(rotation='45')\n",
    "plt.title('Counts of stayed/left by department', fontsize=14);"
   ]
  },
  {
   "cell_type": "code",
   "execution_count": null,
   "metadata": {},
   "outputs": [],
   "source": []
  },
  {
   "cell_type": "markdown",
   "metadata": {},
   "source": [
    "**==========================================================================================================**"
   ]
  },
  {
   "cell_type": "markdown",
   "metadata": {},
   "source": [
    "## Bar Plots"
   ]
  },
  {
   "cell_type": "markdown",
   "metadata": {},
   "source": [
    "### Pandas Version"
   ]
  },
  {
   "cell_type": "code",
   "execution_count": null,
   "metadata": {},
   "outputs": [],
   "source": [
    "df_year[\"infant_mortality\"].plot(kind = \"bar\", figsize=(12,8))\n",
    "#df_year[\"infant_mortaility\"].plot.bar()\n",
    "plt.show()"
   ]
  },
  {
   "cell_type": "code",
   "execution_count": null,
   "metadata": {},
   "outputs": [],
   "source": [
    "df_year.plot(x=\"year\", y=\"fertility\", kind =\"bar\", figsize=(12,8))\n",
    "plt.show()"
   ]
  },
  {
   "cell_type": "code",
   "execution_count": null,
   "metadata": {},
   "outputs": [],
   "source": [
    "df2.plot.bar(stacked = True, figsize=(12,8))\n",
    "plt.show()"
   ]
  },
  {
   "cell_type": "code",
   "execution_count": null,
   "metadata": {},
   "outputs": [],
   "source": [
    "df2.plot.barh(stacked = True, figsize=(12,8))\n",
    "plt.show()"
   ]
  },
  {
   "cell_type": "markdown",
   "metadata": {},
   "source": [
    "### Matplotlib Version"
   ]
  },
  {
   "cell_type": "code",
   "execution_count": null,
   "metadata": {},
   "outputs": [],
   "source": [
    "df.columns"
   ]
  },
  {
   "cell_type": "code",
   "execution_count": null,
   "metadata": {},
   "outputs": [],
   "source": [
    "fig, ax = plt.subplots(figsize=(12,8))\n",
    "ax.bar(x=df.txn_description, height=df.balance)\n",
    "ax.set(title=\"title\", xlabel=\"x\", ylabel=\"y\")\n",
    "\n",
    "plt.show()"
   ]
  },
  {
   "cell_type": "code",
   "execution_count": null,
   "metadata": {},
   "outputs": [],
   "source": [
    "fig, ax = plt.subplots(figsize=(12,8))\n",
    "ax.barh(y=df.txn_description, width=df.balance)\n",
    "ax.set(title=\"title\", xlabel=\"x\", ylabel=\"y\")\n",
    "ax.set_xlabel('xlabel', fontsize=15)\n",
    "ax.set_ylabel('ylabel', fontsize=15)\n",
    "\n",
    "plt.show()"
   ]
  },
  {
   "cell_type": "markdown",
   "metadata": {},
   "source": [
    "### Seaborn Version"
   ]
  },
  {
   "cell_type": "code",
   "execution_count": null,
   "metadata": {},
   "outputs": [],
   "source": [
    "df.head(1)"
   ]
  },
  {
   "cell_type": "code",
   "execution_count": null,
   "metadata": {},
   "outputs": [],
   "source": [
    "sns.catplot(x=\"txndescription\", y=\"amount\", kind='bar', data=df, hue ='gender', aspect=2, height=6)\n",
    "plt.show()"
   ]
  },
  {
   "cell_type": "code",
   "execution_count": null,
   "metadata": {},
   "outputs": [],
   "source": [
    "sns.catplot(x=\"txndescription\", y=\"amount\", kind='bar', data=df, hue ='gender', aspect=2, height=6, palette=\"viridis\")\n",
    "plt.show()"
   ]
  },
  {
   "cell_type": "code",
   "execution_count": null,
   "metadata": {
    "scrolled": false
   },
   "outputs": [],
   "source": [
    "# Plot 4 rows and 1 column (can be expanded)\n",
    "\n",
    "fig, ax = plt.subplots(4,1, sharex=False, figsize=(16,16))\n",
    "fig.suptitle('Main Title', y=1.0)\n",
    "\n",
    "\n",
    "sns.barplot(x=\"txndescription\", y=\"amount\", hue=None, ci=95, data=df, orient=None, ax=ax[0])\n",
    "ax[0].set_title('Title of the first chart')\n",
    "#ax[0].tick_params('x', labelrotation=45)\n",
    "ax[0].set_xlabel(\"\")\n",
    "ax[0].set_ylabel(\"\")\n",
    "\n",
    "sns.barplot(x=\"gender\", y=\"amount\", hue=None, ci=95, data=df, orient=None, ax=ax[1])\n",
    "ax[1].set_title('Title of the second chart')\n",
    "#ax[1].tick_params('x', labelrotation=45)\n",
    "ax[1].set_xlabel(\"\")\n",
    "ax[1].set_ylabel(\"\")\n",
    "\n",
    "sns.barplot(x=\"merchantstate\", y=\"amount\", hue=None, ci=95, data=df, orient=None, ax=ax[2])\n",
    "ax[2].set_title('Title of the third chart')\n",
    "#ax[2].tick_params('x', labelrotation=45)\n",
    "ax[2].set_xlabel(\"\")\n",
    "ax[2].set_ylabel(\"\")\n",
    "\n",
    "sns.barplot(x=\"movement\", y=\"amount\", hue=None, ci=95, data=df, ax=ax[3])\n",
    "ax[3].set_title('Title of the fourth chart')\n",
    "#ax[3].tick_params('x', labelrotation=45)\n",
    "ax[3].set_xlabel(\"\")\n",
    "ax[3].set_ylabel(\"\")\n",
    "\n",
    "plt.ticklabel_format(style='plain', axis='y')\n",
    "plt.tight_layout()\n",
    "plt.show()"
   ]
  },
  {
   "cell_type": "code",
   "execution_count": null,
   "metadata": {},
   "outputs": [],
   "source": [
    "# Sort Barplots by Values and Single Plot\n",
    "\n",
    "fig = plt.figure(figsize=(20,10))\n",
    "\n",
    "\n",
    "sns.barplot(x=None, y=df.vendorid2, data=df,\n",
    "            order=df.sort_values('vendorid2', ascending=False).index)\n",
    "plt.title(\"\", size=20)\n",
    "plt.xlabel(\"\")\n",
    "plt.ylabel(\"\")\n",
    "plt.xticks(rotation=90)\n",
    "plt.ticklabel_format(style='plain', axis='y')\n",
    "\n",
    "plt.tight_layout()\n",
    "plt.show()"
   ]
  },
  {
   "cell_type": "markdown",
   "metadata": {},
   "source": [
    "## Side by Side Bar Plots"
   ]
  },
  {
   "cell_type": "code",
   "execution_count": null,
   "metadata": {},
   "outputs": [],
   "source": [
    "df4 = pd.melt(df3, id_vars=\"cardID\")\n",
    "df4"
   ]
  },
  {
   "cell_type": "code",
   "execution_count": null,
   "metadata": {},
   "outputs": [],
   "source": [
    "plt.figure(figsize=(20,5))\n",
    "sns.factorplot(x = 'a', y='b', hue=\"c\" , data=df4, kind='bar')\n",
    "plt.show()"
   ]
  },
  {
   "cell_type": "markdown",
   "metadata": {},
   "source": [
    "## Horizontal/Vertical Stacked Column Bar Chart"
   ]
  },
  {
   "cell_type": "code",
   "execution_count": null,
   "metadata": {},
   "outputs": [],
   "source": [
    "# Create a stacked bar plot to visualize number of employees across department, comparing those who left with those who didn't\n",
    "# In the legend, 0 (purple color) represents employees who did not leave, 1 (red color) represents employees who left\n",
    "pd.crosstab(df1[\"department\"], df1[\"left\"]).plot(kind ='bar',color='mr')\n",
    "plt.title('Counts of employees who left versus stayed across department')\n",
    "plt.ylabel('Employee count')\n",
    "plt.xlabel('Department')\n",
    "plt.show()"
   ]
  },
  {
   "cell_type": "markdown",
   "metadata": {},
   "source": [
    "**==========================================================================================================**"
   ]
  },
  {
   "cell_type": "markdown",
   "metadata": {},
   "source": [
    "## Scatter Plots\n",
    "\n",
    "A `scatter plot` (2D) is a useful method of comparing variables against each other. `Scatter` plots look similar to `line plots` in that they both map independent and dependent variables on a 2D graph. While the data points are connected together by a line in a line plot, they are not connected in a scatter plot. The data in a scatter plot is considered to express a trend. With further analysis using tools like regression, we can mathematically calculate this relationship and use it to predict trends outside the dataset."
   ]
  },
  {
   "cell_type": "markdown",
   "metadata": {},
   "source": [
    "### Pandas Version"
   ]
  },
  {
   "cell_type": "code",
   "execution_count": null,
   "metadata": {},
   "outputs": [],
   "source": [
    "df2.head()"
   ]
  },
  {
   "cell_type": "code",
   "execution_count": null,
   "metadata": {},
   "outputs": [],
   "source": [
    "df2.plot.scatter(x=\"infant_mortality\" , y=\"life_expectancy\", c=None, figsize=(12,8))\n",
    "\n",
    "plt.show()"
   ]
  },
  {
   "cell_type": "code",
   "execution_count": null,
   "metadata": {},
   "outputs": [],
   "source": [
    "df2.plot.scatter(x=\"infant_mortality\" , y=\"life_expectancy\", c=\"fertility\", figsize=(12,8))\n",
    "\n",
    "plt.show()"
   ]
  },
  {
   "cell_type": "code",
   "execution_count": null,
   "metadata": {},
   "outputs": [],
   "source": [
    "ax = df2.plot.scatter(x=\"infant_mortality\" , y=\"life_expectancy\", figsize=(12,8))\n",
    "df2.plot.scatter(x=\"infant_mortality\" , y=\"pop\", ax=ax, color='r')\n",
    "plt.show()"
   ]
  },
  {
   "cell_type": "code",
   "execution_count": null,
   "metadata": {},
   "outputs": [],
   "source": [
    "fig, ax = plt.subplots(figsize=(12,8))\n",
    "df.plot(kind=\"scatter\", x=\"amount\", y=\"balance\", color=(0.0, 0.0, 0.8), label='Inline label', ax=ax)\n",
    "\n",
    "ax.set(title=\"title\",\n",
    "       xlabel=\"x\",\n",
    "       ylabel=\"y\")\n",
    "\n",
    "ax.axhline(y=100000, linewidth=3, color=\"red\", linestyle=\"--\")\n",
    "ax.legend()\n",
    "ax.set_xlim([0, 2000])\n",
    "ax.set_ylim([0, 150000])\n",
    "plt.show()"
   ]
  },
  {
   "cell_type": "code",
   "execution_count": null,
   "metadata": {
    "scrolled": false
   },
   "outputs": [],
   "source": [
    "#Plot 2 by 2 subplots\n",
    "\n",
    "fig, ((ax1, ax2), (ax3, ax4)) = plt.subplots(2,2, sharex=False, sharey=False, figsize=(20,15))\n",
    "fig.suptitle('Main Title', y=1.0, size = 20)\n",
    "\n",
    "df.plot.scatter(x=\"age\", y=\"amount\", s=None, c='b', ax=ax1)\n",
    "ax1.set_title(\"Title\")\n",
    "ax1.set(xlabel=\"x\", ylabel=\"y\")\n",
    "#ax1.set_xlim([0, 0])\n",
    "#ax1.set_ylim([0, 0])\n",
    "\n",
    "df.plot.scatter(x=\"age\", y=\"amount\", s=None, c='b', ax=ax2)\n",
    "ax2.set_title(\"Title\")\n",
    "ax2.set(xlabel=\"x\", ylabel=\"y\")\n",
    "\n",
    "df.plot.scatter(x=\"age\", y=\"amount\", s=None, c='b', ax=ax3)\n",
    "ax3.set_title(\"Title\")\n",
    "ax3.set(xlabel=\"x\", ylabel=\"y\")\n",
    "\n",
    "df.plot.scatter(x=\"age\", y=\"amount\", s=None, c='b', ax=ax4)\n",
    "ax4.set_title(\"Title\")\n",
    "ax4.set(xlabel=\"x\", ylabel=\"y\")\n",
    "\n",
    "plt.tight_layout()\n",
    "plt.show()"
   ]
  },
  {
   "cell_type": "markdown",
   "metadata": {},
   "source": [
    "### Matplotlib Version"
   ]
  },
  {
   "cell_type": "code",
   "execution_count": null,
   "metadata": {},
   "outputs": [],
   "source": [
    "fig, ax = plt.subplots(figsize=(12,8))\n",
    "ax.scatter(x=df.date, y=df.amount, s=20, alpha=1.0, cmap=\"viridis\")\n",
    "plt.show()\n",
    "#plt.colorbar()"
   ]
  },
  {
   "cell_type": "code",
   "execution_count": null,
   "metadata": {},
   "outputs": [],
   "source": [
    "df.columns"
   ]
  },
  {
   "cell_type": "markdown",
   "metadata": {},
   "source": [
    "### Seaborn Version"
   ]
  },
  {
   "cell_type": "code",
   "execution_count": null,
   "metadata": {
    "scrolled": false
   },
   "outputs": [],
   "source": [
    "#Plot 2 by 2 subplots\n",
    "\n",
    "fig, ((ax1, ax2), (ax3, ax4)) = plt.subplots(2,2, sharex=False, sharey=False, figsize=(20,15))\n",
    "fig.suptitle('Main Title', y=1.0, size = 20)\n",
    "\n",
    "\n",
    "sns.scatterplot(x=\"age\", y=\"amount\", data=df, color='darkblue', s=200, ax=ax1)\n",
    "ax1.set_title(\"Title\", size = 20)\n",
    "ax1.set(xlabel=\"x\", ylabel=\"y\")\n",
    "#ax1.set_xlim([0, 0])\n",
    "#ax1.set_ylim([0, 0])\n",
    "\n",
    "sns.scatterplot(x=\"age\", y=\"amount\", data=df, color='darkblue', s=200, ax=ax2)\n",
    "ax2.set_title(\"Title\", size = 20)\n",
    "ax2.set(xlabel=\"x\", ylabel=\"y\")\n",
    "\n",
    "sns.scatterplot(x=\"age\", y=\"amount\", data=df, color='darkblue', s=200, ax=ax3)\n",
    "ax3.set_title(\"Title\", size = 20)\n",
    "ax3.set(xlabel=\"x\", ylabel=\"y\")\n",
    "\n",
    "sns.scatterplot(x=\"age\", y=\"amount\", data=df, color='darkblue', s=200, ax=ax4)\n",
    "ax4.set_title(\"Title\", size = 20)\n",
    "ax4.set(xlabel=\"xb\", ylabel=\"y\")\n",
    "\n",
    "\n",
    "plt.tight_layout()\n",
    "plt.show()"
   ]
  },
  {
   "cell_type": "code",
   "execution_count": null,
   "metadata": {},
   "outputs": [],
   "source": [
    "# Create scatterplot of `average_monthly_hours` versus `satisfaction_level`, comparing employees who stayed versus those who left\n",
    "plt.figure(figsize=(16, 9))\n",
    "sns.scatterplot(data=df1, x='average_monthly_hours', y='satisfaction_level', hue='left', alpha=0.4)\n",
    "plt.axvline(x=166.67, color='#ff6361', label='166.67 hrs./mo.', ls='--')\n",
    "plt.legend(labels=['166.67 hrs./mo.', 'left', 'stayed'])\n",
    "plt.title('Monthly hours by last evaluation score', fontsize='14')\n",
    "plt.show()"
   ]
  },
  {
   "cell_type": "code",
   "execution_count": null,
   "metadata": {},
   "outputs": [],
   "source": [
    "# Create plot to examine relationship between `average_monthly_hours` and `promotion_last_5years`\n",
    "plt.figure(figsize=(16, 3))\n",
    "sns.scatterplot(data=df1, x='average_monthly_hours', y='promotion_last_5years', hue='left', alpha=0.4)\n",
    "plt.axvline(x=166.67, color='#ff6361', ls='--')\n",
    "plt.legend(labels=['166.67 hrs./mo.', 'left', 'stayed'])\n",
    "plt.title('Monthly hours by promotion last 5 years', fontsize='14');"
   ]
  },
  {
   "cell_type": "markdown",
   "metadata": {},
   "source": [
    "**==========================================================================================================**"
   ]
  },
  {
   "cell_type": "markdown",
   "metadata": {},
   "source": [
    "## Rel Plot\n",
    "\n",
    "To make complex comparisons easier, Seaborn provides a function called relplot, which is short for relationship plot. relplot takes some of the same arguments as scatterplot, such as data, x, y, and hue, but adds other arguments as well. \n",
    "\n",
    "\n",
    "sns.replot has the parameters height and aspect that control the dimensions of each subplot it would generate. You can use those to set your width and height, where width = aspect * height\n",
    "\n",
    "**Splitting the Figure into Subplots / Facets**\n",
    "\n",
    "As seen in the figures above, it can become confusing to distinguish the different categories (lithologies) when they are all lying on top of each other. One way around this is to create multiple subplots, one for each category"
   ]
  },
  {
   "cell_type": "markdown",
   "metadata": {},
   "source": [
    "### Matplotlib Version"
   ]
  },
  {
   "cell_type": "markdown",
   "metadata": {},
   "source": [
    "### Seaborn Version"
   ]
  },
  {
   "cell_type": "code",
   "execution_count": null,
   "metadata": {},
   "outputs": [],
   "source": [
    "df.columns"
   ]
  },
  {
   "cell_type": "code",
   "execution_count": null,
   "metadata": {},
   "outputs": [],
   "source": [
    "sns.relplot(x=df.age, y=df.amount, data=df, hue=df.gender, size=None, style=df.gender, col=None, height=5, aspect=2)\n",
    "plt.show()"
   ]
  },
  {
   "cell_type": "code",
   "execution_count": null,
   "metadata": {
    "scrolled": false
   },
   "outputs": [],
   "source": [
    "sns.relplot(x=df.age, y=df.amount, data=df, kind=\"line\", height=5, aspect=2, ci=None)\n",
    "plt.show()"
   ]
  },
  {
   "cell_type": "markdown",
   "metadata": {},
   "source": [
    "### Relplot subplots"
   ]
  },
  {
   "cell_type": "code",
   "execution_count": null,
   "metadata": {},
   "outputs": [],
   "source": [
    "sns.relplot(x=df.age, y=df.amount, data=df, height=5, aspect=2, ci=None, col=df.txndescription, col_wrap=2)\n",
    "plt.show()"
   ]
  },
  {
   "cell_type": "code",
   "execution_count": null,
   "metadata": {},
   "outputs": [],
   "source": [
    "sns.relplot(x=df.age, y=df.balance, data=df, height=5, aspect=2, ci=None, col=df.movement, col_wrap=2)\n",
    "plt.show()"
   ]
  },
  {
   "cell_type": "code",
   "execution_count": null,
   "metadata": {},
   "outputs": [],
   "source": [
    "sns.relplot(x=df.age, y=df.balance, data=df, height=5, aspect=2, ci=None, col=df.movement, col_wrap=2, hue=df.gender)\n",
    "plt.show()"
   ]
  },
  {
   "cell_type": "markdown",
   "metadata": {},
   "source": [
    "**==========================================================================================================**"
   ]
  },
  {
   "cell_type": "markdown",
   "metadata": {},
   "source": [
    "## Line Plots\n",
    "\n",
    "**What is a line plot and why use it?**\n",
    "\n",
    "A line chart or line plot is a type of plot which displays information as a series of data points called 'markers' connected by straight line segments. It is a basic type of chart common in many fields.\n",
    "Use line plot when you have a continuous data set. These are best suited for trend-based visualizations of data over a period of time.\n",
    "\n",
    "Line plot is a handy tool to display several dependent variables against one independent variable. However, it is recommended that no more than 5-10 lines on a single graph; any more than that and it becomes difficult to interpret."
   ]
  },
  {
   "cell_type": "markdown",
   "metadata": {},
   "source": [
    "### Pandas Method"
   ]
  },
  {
   "cell_type": "code",
   "execution_count": null,
   "metadata": {},
   "outputs": [],
   "source": [
    "df.plot(subplots = True, figsize=(15, 30), sharex=False, sharey=False)\n",
    "\n",
    "plt.tight_layout()\n",
    "plt.show()"
   ]
  },
  {
   "cell_type": "code",
   "execution_count": null,
   "metadata": {},
   "outputs": [],
   "source": [
    "df2.plot(subplots=True, sharex = False, layout = (3, 2), figsize = (12, 8))\n",
    "\n",
    "plt.tight_layout()\n",
    "plt.show()"
   ]
  },
  {
   "cell_type": "code",
   "execution_count": null,
   "metadata": {},
   "outputs": [],
   "source": [
    "df.head()"
   ]
  },
  {
   "cell_type": "code",
   "execution_count": null,
   "metadata": {},
   "outputs": [],
   "source": [
    "df.year.plot(subplots=True, figsize=(15, 5), legend = False, title=\"title\")\n",
    "plt.show()"
   ]
  },
  {
   "cell_type": "code",
   "execution_count": null,
   "metadata": {},
   "outputs": [],
   "source": [
    "x = df.infant_mortality\n",
    "ax = x.plot()\n",
    "df.year.plot(subplots=False, figsize=(15, 5), secondary_y= True, legend = True, title=\"title\")\n",
    "plt.show()"
   ]
  },
  {
   "cell_type": "code",
   "execution_count": null,
   "metadata": {
    "scrolled": false
   },
   "outputs": [],
   "source": [
    "df_ts.age.plot(figsize=(12, 5), fontsize= 13, c = \"darkblue\")\n",
    "plt.title(\"Title\", fontsize = 15)\n",
    "plt.legend(loc = 3, fontsize = 15)\n",
    "plt.xlabel(\"x\", fontsize = 13)\n",
    "plt.ylabel(\"y\", fontsize = 13)\n",
    "#plt.text(1000, 2600, 'Insert Text')\n",
    "#plt.grid()\n",
    "plt.show()"
   ]
  },
  {
   "cell_type": "markdown",
   "metadata": {},
   "source": [
    "### Matplotlib Version"
   ]
  },
  {
   "cell_type": "code",
   "execution_count": null,
   "metadata": {},
   "outputs": [],
   "source": [
    "fig, ax = plt.subplots(figsize=(12,5))\n",
    "ax.plot(df_ts.index, c=\"blue\", linewidth=2, linestyle = \"--\", markersize=5)\n",
    "#ax.set(title=\"Plot\", xlabel=\"x\", ylabel=\"y\")\n",
    "\n",
    "ax.set_xlabel(\"x\")\n",
    "ax.set_ylabel(\"y\")\n",
    "ax.set_xlim()\n",
    "ax.set_ylim()\n",
    "ax.set_title(\"Plot\")\n",
    "ax.legend([\"legend\"], loc='best')\n",
    "plt.show()"
   ]
  },
  {
   "cell_type": "code",
   "execution_count": null,
   "metadata": {},
   "outputs": [],
   "source": [
    "fig, ax = plt.subplots(nrows=2, ncols=2, figsize=(12,8))\n",
    "\n",
    "ax[0,0].plot(df_ts.balance)\n",
    "ax[0,0].set_xlabel(\"x\")\n",
    "ax[0,0].set_ylabel(\"y\")\n",
    "ax[0,0].set_title(\"title\")\n",
    "\n",
    "ax[0,1].plot(df_ts.age)\n",
    "ax[0,1].set_xlabel(\"x\")\n",
    "ax[0,1].set_ylabel(\"y\")\n",
    "ax[0,1].set_title(\"title\")\n",
    "\n",
    "ax[1,0].plot(df_ts.balance)\n",
    "ax[1,0].set_xlabel(\"x\")\n",
    "ax[1,0].set_ylabel(\"y\")\n",
    "ax[1,0].set_title(\"title\")\n",
    "\n",
    "ax[1,1].plot(df_ts.amount)\n",
    "ax[1,1].set_xlabel(\"x\")\n",
    "ax[1,1].set_ylabel(\"y\")\n",
    "ax[1,1].set_title(\"title\")\n",
    "\n",
    "plt.tight_layout()\n",
    "plt.show()"
   ]
  },
  {
   "cell_type": "code",
   "execution_count": null,
   "metadata": {},
   "outputs": [],
   "source": [
    "# Save Image\n",
    "# fig.savefig()"
   ]
  },
  {
   "cell_type": "markdown",
   "metadata": {},
   "source": [
    "### Seaborn Version"
   ]
  },
  {
   "cell_type": "code",
   "execution_count": null,
   "metadata": {
    "scrolled": false
   },
   "outputs": [],
   "source": [
    "fig, ((ax1, ax2, ax3)) = plt.subplots(nrows=3, ncols=1, figsize=(12,8))\n",
    "\n",
    "sns.lineplot(x ='date', y ='amount', style=None, hue=None, data=df_ts, markers=True, ci=95, ax=ax1)\n",
    "ax1.set_title(\"Title\", size = 20)\n",
    "ax1.set(xlabel=\"x\", ylabel=\"y\")\n",
    "#ax1.set_xlim([0, 0])\n",
    "#ax1.set_ylim([0, 0])\n",
    "\n",
    "sns.lineplot(x ='date', y ='amount', style=None, hue=None, data=df_ts, markers=True, ci=95, ax=ax2)\n",
    "ax2.set_title(\"Title\", size = 20)\n",
    "ax2.set(xlabel=\"x\", ylabel=\"y\")\n",
    "#ax2.set_xlim([0, 0])\n",
    "#ax2.set_ylim([0, 0])\n",
    "\n",
    "sns.lineplot(x ='date', y ='amount', style=None, hue=None, data=df_ts, markers=True, ci=95, ax=ax3)\n",
    "ax3.set_title(\"Title\", size = 20)\n",
    "ax3.set(xlabel=\"x\", ylabel=\"y\")\n",
    "#ax3.set_xlim([0, 0])\n",
    "#ax3.set_ylim([0, 0])\n",
    "\n",
    "plt.tight_layout()\n",
    "plt.show()"
   ]
  },
  {
   "cell_type": "code",
   "execution_count": null,
   "metadata": {},
   "outputs": [],
   "source": [
    "fig = plt.figure(figsize=(30,10))\n",
    "sns.lineplot(x=df_ts.index, y=df_ts.amount, data=df_ts, estimator='mean')\n",
    "plt.title(\"\", fontsize=20)\n",
    "plt.xlabel(\"\", fontsize=20)\n",
    "plt.ylabel(\"\", fontsize=20)\n",
    "plt.legend(['',''])\n",
    "plt.show()"
   ]
  },
  {
   "cell_type": "code",
   "execution_count": null,
   "metadata": {},
   "outputs": [],
   "source": [
    "fig = plt.figure(figsize=(30,10))\n",
    "sns.lineplot(x=df.month,y=df.amount,data=df, estimator=None)\n",
    "plt.title(\"\", fontsize=20)\n",
    "plt.xlabel(\"\", fontsize=20)\n",
    "plt.ylabel(\"\", fontsize=20)\n",
    "plt.legend(['',''])\n",
    "plt.show()"
   ]
  },
  {
   "cell_type": "code",
   "execution_count": null,
   "metadata": {},
   "outputs": [],
   "source": [
    "fig = plt.figure(figsize=(30,10))\n",
    "sns.lineplot(x=df.month,y=df.amount,data=df, estimator=None)\n",
    "plt.title(\"\", fontsize=20)\n",
    "plt.xlabel(\"\", fontsize=20)\n",
    "plt.ylabel(\"\", fontsize=20)\n",
    "plt.legend(['',''])\n",
    "plt.show()"
   ]
  },
  {
   "cell_type": "markdown",
   "metadata": {},
   "source": [
    "**==========================================================================================================**"
   ]
  },
  {
   "cell_type": "markdown",
   "metadata": {},
   "source": [
    "## Point Plot "
   ]
  },
  {
   "cell_type": "code",
   "execution_count": null,
   "metadata": {},
   "outputs": [],
   "source": [
    "df.head(1)"
   ]
  },
  {
   "cell_type": "code",
   "execution_count": null,
   "metadata": {},
   "outputs": [],
   "source": [
    "sns.catplot(x ='gender', y='age', hue=None, kind='point', data=df)\n",
    "plt.show()"
   ]
  },
  {
   "cell_type": "markdown",
   "metadata": {},
   "source": [
    "**==========================================================================================================**"
   ]
  },
  {
   "cell_type": "markdown",
   "metadata": {},
   "source": [
    "## Box Plots\n",
    "\n",
    "A `box plot` is a way of statistically representing the *distribution* of the data through five main dimensions:\n",
    "\n",
    "*   **Minimum:** The smallest number in the dataset excluding the outliers.\n",
    "*   **First quartile:** Middle number between the `minimum` and the `median`.\n",
    "*   **Second quartile (Median):** Middle number of the (sorted) dataset.\n",
    "*   **Third quartile:** Middle number between `median` and `maximum`.\n",
    "*   **Maximum:** The largest number in the dataset excluding the outliers."
   ]
  },
  {
   "cell_type": "markdown",
   "metadata": {},
   "source": [
    "### Pandas Version"
   ]
  },
  {
   "cell_type": "code",
   "execution_count": null,
   "metadata": {},
   "outputs": [],
   "source": [
    "df.boxplot(figsize=(20,10), color='blue', fontsize=15, grid=False)\n",
    "plt.suptitle('BoxPlots Feature Distribution', x=0.5, y=1.02, ha='center', fontsize=20)\n",
    "plt.xticks(rotation=45)\n",
    "plt.tight_layout()\n",
    "plt.show()"
   ]
  },
  {
   "cell_type": "code",
   "execution_count": null,
   "metadata": {},
   "outputs": [],
   "source": [
    "df2.plot(kind='box', figsize=(12, 5), subplots=False)\n",
    "\n",
    "plt.suptitle('title', size = 15)\n",
    "plt.ylabel('y')\n",
    "\n",
    "plt.show()"
   ]
  },
  {
   "cell_type": "code",
   "execution_count": null,
   "metadata": {},
   "outputs": [],
   "source": [
    "# horizontal box plots\n",
    "df2.plot(kind='box', figsize=(10, 7), color='blue', vert=False)\n",
    "\n",
    "plt.title('Title', size = 15)\n",
    "plt.xlabel('x')\n",
    "\n",
    "plt.show()"
   ]
  },
  {
   "cell_type": "markdown",
   "metadata": {},
   "source": [
    "### Matplotlib Version"
   ]
  },
  {
   "cell_type": "code",
   "execution_count": null,
   "metadata": {},
   "outputs": [],
   "source": [
    "fig, ax = plt.subplots(figsize=(12,5))\n",
    "ax.boxplot(df.amount, vert=True)\n",
    "ax.set(title=\"title\", xlabel=\"x\", ylabel=\"y\")\n",
    "\n",
    "ax.legend([\"legend\"])\n",
    "plt.show()"
   ]
  },
  {
   "cell_type": "code",
   "execution_count": null,
   "metadata": {},
   "outputs": [],
   "source": [
    "fig, ax = plt.subplots(nrows=2, ncols=2, figsize=(12,8))\n",
    "\n",
    "ax[0,0].boxplot(df.amount, vert=False)\n",
    "ax[0,0].set_xlabel(\"x\")\n",
    "ax[0,0].set_ylabel(\"y\")\n",
    "ax[0,0].set_title(\"title\")\n",
    "\n",
    "ax[0,1].boxplot(df.amount, vert=False)\n",
    "ax[0,1].set_xlabel(\"x\")\n",
    "ax[0,1].set_ylabel(\"y\")\n",
    "ax[0,1].set_title(\"title\")\n",
    "\n",
    "ax[1,0].boxplot(df.amount, vert=False)\n",
    "ax[1,0].set_xlabel(\"x\")\n",
    "ax[1,0].set_ylabel(\"y\")\n",
    "ax[1,0].set_title(\"title\")\n",
    "\n",
    "ax[1,1].boxplot(df.amount, vert=False)\n",
    "ax[1,1].set_xlabel(\"x\")\n",
    "ax[1,1].set_ylabel(\"y\")\n",
    "ax[1,1].set_title(\"title\")\n",
    "\n",
    "plt.tight_layout()\n",
    "plt.show()"
   ]
  },
  {
   "cell_type": "markdown",
   "metadata": {},
   "source": [
    "### Seaborn Version"
   ]
  },
  {
   "cell_type": "code",
   "execution_count": null,
   "metadata": {},
   "outputs": [],
   "source": [
    "# Create boxplot to visualize the outliers\n",
    "### YOUR CODE HERE ###\n",
    "\n",
    "g = sns.boxplot(data=df[[\"passenger_count\",\"tip_amount\",\"total_amount\", \"trip_duration\"]], showfliers=True);\n",
    "g.set_title(\"4 Variables with Outliers\",fontsize=20)"
   ]
  },
  {
   "cell_type": "code",
   "execution_count": null,
   "metadata": {},
   "outputs": [],
   "source": [
    "# Create boxplot to visualize distribution of data without outliers\n",
    "### YOUR CODE HERE ###\n",
    "\n",
    "g = sns.boxplot(data=df[[\"passenger_count\",\"tip_amount\",\"total_amount\", \"trip_duration\"]], showfliers=False);\n",
    "g.set_title(\"4 Variables without Outliers\",fontsize=20)"
   ]
  },
  {
   "cell_type": "code",
   "execution_count": null,
   "metadata": {
    "scrolled": false
   },
   "outputs": [],
   "source": [
    "#Plot 2 by 2 subplots\n",
    "\n",
    "fig, ((ax1, ax2), (ax3, ax4)) = plt.subplots(2,2, sharex=False, figsize=(20,20))\n",
    "fig.suptitle('Main Title', y=1.0)\n",
    "\n",
    "sns.boxplot(x=\"cyl\", y=\"mpg\", data=df, ax=ax1)\n",
    "ax1.set_title('Title of the first chart', size=20)\n",
    "#ax1.tick_params('x', labelrotation=45)\n",
    "ax1.set_xlabel(\"\")\n",
    "ax1.set_ylabel(\"\")\n",
    "\n",
    "sns.boxplot(x=\"gear\", y=\"mpg\", data=df, ax=ax2)\n",
    "ax2.set_title('Title of the second chart', size=20)\n",
    "#ax2.tick_params('x', labelrotation=45)\n",
    "ax2.set_xlabel(\"\")\n",
    "ax2.set_ylabel(\"\")\n",
    "\n",
    "sns.boxplot(x=\"carb\", y=\"mpg\", data=df, ax=ax3)\n",
    "ax3.set_title('Title of the third chart', size=20)\n",
    "#ax3.tick_params('x', labelrotation=45)\n",
    "ax3.set_xlabel(\"\")\n",
    "ax3.set_ylabel(\"\")\n",
    "\n",
    "sns.boxplot(x=\"\", y=\"\", data=df, ax=ax4)\n",
    "ax4.set_title('Title of the fourth chart', size=20)\n",
    "#ax4.tick_params('x', labelrotation=45)\n",
    "ax4.set_xlabel(\"\")\n",
    "ax4.set_ylabel(\"\")\n",
    "\n",
    "plt.tight_layout()\n",
    "plt.show()"
   ]
  },
  {
   "cell_type": "code",
   "execution_count": null,
   "metadata": {},
   "outputs": [],
   "source": [
    "# Create a boxplot to visualize distribution of `tenure` and detect any outliers\n",
    "plt.figure(figsize=(6,6))\n",
    "plt.title('Boxplot to detect outliers for tenure', fontsize=12)\n",
    "plt.xticks(fontsize=12)\n",
    "plt.yticks(fontsize=12)\n",
    "sns.boxplot(x=df1['tenure'])\n",
    "plt.show()"
   ]
  },
  {
   "cell_type": "code",
   "execution_count": null,
   "metadata": {},
   "outputs": [],
   "source": [
    "# Set figure and axes\n",
    "fig, ax = plt.subplots(1, 2, figsize = (22,8))\n",
    "\n",
    "# Create boxplot showing `average_monthly_hours` distributions for `number_project`, comparing employees who stayed versus those who left\n",
    "sns.boxplot(data=df1, x='average_monthly_hours', y='number_project', hue='left', orient=\"h\", ax=ax[0])\n",
    "ax[0].invert_yaxis()\n",
    "ax[0].set_title('Monthly hours by number of projects', fontsize='14')\n",
    "\n",
    "# Create histogram showing distribution of `number_project`, comparing employees who stayed versus those who left\n",
    "tenure_stay = df1[df1['left']==0]['number_project']\n",
    "tenure_left = df1[df1['left']==1]['number_project']\n",
    "sns.histplot(data=df1, x='number_project', hue='left', multiple='dodge', shrink=2, ax=ax[1])\n",
    "ax[1].set_title('Number of projects histogram', fontsize='14')\n",
    "\n",
    "# Display the plots\n",
    "plt.show()"
   ]
  },
  {
   "cell_type": "markdown",
   "metadata": {},
   "source": [
    "**==========================================================================================================**"
   ]
  },
  {
   "cell_type": "markdown",
   "metadata": {},
   "source": [
    "## Boxen Plot"
   ]
  },
  {
   "cell_type": "markdown",
   "metadata": {},
   "source": [
    "### Seaborn Version"
   ]
  },
  {
   "cell_type": "code",
   "execution_count": null,
   "metadata": {},
   "outputs": [],
   "source": [
    "df.columns"
   ]
  },
  {
   "cell_type": "code",
   "execution_count": null,
   "metadata": {},
   "outputs": [],
   "source": [
    "sns.catplot(x='txndescription', y='amount', kind='boxen', data=df, ci=95, height=6, aspect=2)\n",
    "plt.show()"
   ]
  },
  {
   "cell_type": "code",
   "execution_count": null,
   "metadata": {},
   "outputs": [],
   "source": [
    "sns.catplot(x='txndescription', y='amount', kind='boxen', hue='gender', data=df, ci=95, height=6, aspect=2)\n",
    "plt.show()"
   ]
  },
  {
   "cell_type": "markdown",
   "metadata": {},
   "source": [
    "**==========================================================================================================**"
   ]
  },
  {
   "cell_type": "markdown",
   "metadata": {},
   "source": [
    "## Violin Plot"
   ]
  },
  {
   "cell_type": "code",
   "execution_count": null,
   "metadata": {},
   "outputs": [],
   "source": [
    "fig, ax = plt.subplots(figsize=(12,8))\n",
    "\n",
    "sns.violinplot(x=\"movement\", y=\"balance\", hue=\"gender\", data=df)\n",
    "\n",
    "ax.set_title('Title', size=15)\n",
    "ax.tick_params('x', labelrotation=45)\n",
    "ax.set_xlabel(\"\")\n",
    "ax.set_ylabel(\"\")\n",
    "#ax.legend()\n",
    "\n",
    "plt.show()"
   ]
  },
  {
   "cell_type": "code",
   "execution_count": null,
   "metadata": {},
   "outputs": [],
   "source": [
    "sns.catplot(x='balance', y='movement', data=df, kind='violin', hue='gender', split = True, height=6, aspect=2)\n",
    "plt.show()"
   ]
  },
  {
   "cell_type": "markdown",
   "metadata": {},
   "source": [
    "**==========================================================================================================**"
   ]
  },
  {
   "cell_type": "markdown",
   "metadata": {},
   "source": [
    "## Count Plots"
   ]
  },
  {
   "cell_type": "markdown",
   "metadata": {},
   "source": [
    "### Matplotlib Version"
   ]
  },
  {
   "cell_type": "code",
   "execution_count": null,
   "metadata": {},
   "outputs": [],
   "source": []
  },
  {
   "cell_type": "markdown",
   "metadata": {},
   "source": [
    "### Seaborn Version"
   ]
  },
  {
   "cell_type": "code",
   "execution_count": null,
   "metadata": {},
   "outputs": [],
   "source": [
    "df.select_dtypes(include=\"object\")"
   ]
  },
  {
   "cell_type": "code",
   "execution_count": null,
   "metadata": {},
   "outputs": [],
   "source": [
    "fig, ax = plt.subplots(figsize=(12,8))\n",
    "\n",
    "sns.countplot(x=\"txndescription\", data=df)\n",
    "ax.set_title('Title', size=15)\n",
    "ax.tick_params('x', labelrotation=45)\n",
    "ax.set_xlabel(\"\")\n",
    "ax.set_ylabel(\"\")\n",
    "#ax.legend()\n",
    "\n",
    "plt.show()"
   ]
  },
  {
   "cell_type": "code",
   "execution_count": null,
   "metadata": {},
   "outputs": [],
   "source": [
    "fig, ax = plt.subplots(figsize=(12,8))\n",
    "\n",
    "sns.countplot(x=\"gender\", data=df)\n",
    "ax.set_title('Title', size=15)\n",
    "ax.tick_params('x', labelrotation=45)\n",
    "ax.set_xlabel(\"\")\n",
    "ax.set_ylabel(\"\")\n",
    "#ax.legend()\n",
    "\n",
    "plt.show()"
   ]
  },
  {
   "cell_type": "code",
   "execution_count": null,
   "metadata": {},
   "outputs": [],
   "source": [
    "fig, ax = plt.subplots(figsize=(12,8))\n",
    "\n",
    "sns.countplot(x=\"merchantstate\", hue=\"movement\", data=df)\n",
    "ax.set_title('Title', size=15)\n",
    "ax.tick_params('x', labelrotation=45)\n",
    "ax.set_xlabel(\"\")\n",
    "ax.set_ylabel(\"\")\n",
    "#ax.legend()\n",
    "\n",
    "plt.show()"
   ]
  },
  {
   "cell_type": "code",
   "execution_count": null,
   "metadata": {},
   "outputs": [],
   "source": [
    "fig, ax = plt.subplots(figsize=(12,8))\n",
    "\n",
    "sns.countplot(x=\"merchantsuburb\", data=df)\n",
    "ax.set_title('Title', size=15)\n",
    "ax.tick_params('x', labelrotation=45)\n",
    "ax.set_xlabel(\"\")\n",
    "ax.set_ylabel(\"\")\n",
    "#ax.legend()\n",
    "\n",
    "plt.show()"
   ]
  },
  {
   "cell_type": "code",
   "execution_count": null,
   "metadata": {},
   "outputs": [],
   "source": [
    "#Plot 2 by 2 subplots\n",
    "\n",
    "fig, ((ax1, ax2), (ax3, ax4)) = plt.subplots(2,2, sharex=False, figsize=(20,20))\n",
    "fig.suptitle('Main Title', y=1.0)\n",
    "\n",
    "sns.countplot(x=\"\", data=df, ax=ax1)\n",
    "ax1.set_title('Title of the first chart', size=20)\n",
    "#ax1.tick_params('x', labelrotation=45)\n",
    "ax1.set_xlabel(\"\")\n",
    "ax1.set_ylabel(\"\")\n",
    "\n",
    "sns.countplot(x=\"\", data=df, ax=ax2)\n",
    "ax2.set_title('Title of the second chart', size=20)\n",
    "#ax2.tick_params('x', labelrotation=45)\n",
    "ax2.set_xlabel(\"\")\n",
    "ax2.set_ylabel(\"\")\n",
    "\n",
    "sns.countplot(x=\"\", data=df, ax=ax3)\n",
    "ax3.set_title('Title of the third chart', size=20)\n",
    "#ax3.tick_params('x', labelrotation=45)\n",
    "ax3.set_xlabel(\"\")\n",
    "ax3.set_ylabel(\"\")\n",
    "\n",
    "sns.countplot(x=\"\", data=df, ax=ax4)\n",
    "ax4.set_title('Title of the fourth chart', size=20)\n",
    "#ax4.tick_params('x', labelrotation=45)\n",
    "ax4.set_xlabel(\"\")\n",
    "ax4.set_ylabel(\"\")\n",
    "\n",
    "plt.tight_layout()\n",
    "plt.show()"
   ]
  },
  {
   "cell_type": "markdown",
   "metadata": {},
   "source": [
    "**==========================================================================================================**"
   ]
  },
  {
   "cell_type": "markdown",
   "metadata": {},
   "source": [
    "## Strip Plot"
   ]
  },
  {
   "cell_type": "code",
   "execution_count": null,
   "metadata": {},
   "outputs": [],
   "source": [
    "df.head(1)"
   ]
  },
  {
   "cell_type": "code",
   "execution_count": null,
   "metadata": {},
   "outputs": [],
   "source": [
    "fig, ax = plt.subplots(figsize=(12,8))\n",
    "\n",
    "sns.stripplot(x=\"movement\", y=\"balance\", hue=\"gender\", data=df, jitter=True)\n",
    "\n",
    "ax.set_title('Title', size=15)\n",
    "ax.tick_params('x', labelrotation=45)\n",
    "ax.set_xlabel(\"\")\n",
    "ax.set_ylabel(\"\")\n",
    "#ax.legend()\n",
    "\n",
    "plt.show()"
   ]
  },
  {
   "cell_type": "markdown",
   "metadata": {},
   "source": [
    "**==========================================================================================================**"
   ]
  },
  {
   "cell_type": "markdown",
   "metadata": {},
   "source": [
    "## Swarm Plot"
   ]
  },
  {
   "cell_type": "code",
   "execution_count": null,
   "metadata": {},
   "outputs": [],
   "source": [
    "fig, ax = plt.subplots(figsize=(12,8))\n",
    "\n",
    "sns.swarmplot(x=\"movement\", y=\"age\", hue=\"gender\", data=df)\n",
    "\n",
    "ax.set_title('Title', size=15)\n",
    "ax.tick_params('x', labelrotation=45)\n",
    "ax.set_xlabel(\"\")\n",
    "ax.set_ylabel(\"\")\n",
    "#ax.legend()\n",
    "\n",
    "plt.show()"
   ]
  },
  {
   "cell_type": "markdown",
   "metadata": {},
   "source": [
    "## Category Plots"
   ]
  },
  {
   "cell_type": "markdown",
   "metadata": {},
   "source": [
    "### Matplotlib Version"
   ]
  },
  {
   "cell_type": "markdown",
   "metadata": {},
   "source": [
    "### Seaborn Version"
   ]
  },
  {
   "cell_type": "code",
   "execution_count": null,
   "metadata": {},
   "outputs": [],
   "source": [
    "df.head(1)"
   ]
  },
  {
   "cell_type": "code",
   "execution_count": null,
   "metadata": {},
   "outputs": [],
   "source": [
    "sns.catplot(x=\"movement\", y=\"age\", data=df, height=8, aspect=2, ci=None, kind=\"strip\")\n",
    "plt.xlabel(\"x\",fontsize=20)\n",
    "plt.ylabel(\"y\",fontsize=20)\n",
    "plt.show()"
   ]
  },
  {
   "cell_type": "code",
   "execution_count": null,
   "metadata": {},
   "outputs": [],
   "source": [
    "sns.catplot(x=\"movement\", y=\"age\", data=df, height=8, aspect=2, ci=None, kind=\"swarm\")\n",
    "plt.xlabel(\"x\",fontsize=20)\n",
    "plt.ylabel(\"y\",fontsize=20)\n",
    "plt.show()"
   ]
  },
  {
   "cell_type": "code",
   "execution_count": null,
   "metadata": {},
   "outputs": [],
   "source": [
    "sns.catplot(x=\"movement\", y=\"age\", data=df, height=8, aspect=2, ci=None, kind=\"boxen\")\n",
    "plt.xlabel(\"x\",fontsize=20)\n",
    "plt.ylabel(\"y\",fontsize=20)\n",
    "plt.show()"
   ]
  },
  {
   "cell_type": "code",
   "execution_count": null,
   "metadata": {},
   "outputs": [],
   "source": [
    "sns.catplot(x=\"movement\", y=\"age\", hue=\"gender\", data=df, height=8, aspect=2, ci=None, kind=\"box\")\n",
    "plt.xlabel(\"x\",fontsize=20)\n",
    "plt.ylabel(\"y\",fontsize=20)\n",
    "plt.show()"
   ]
  },
  {
   "cell_type": "code",
   "execution_count": null,
   "metadata": {},
   "outputs": [],
   "source": [
    "sns.catplot(x=\"age\", y=\"amount\", hue=\"gender\", data=df, height=8, aspect=2, ci=None, kind=\"box\")\n",
    "plt.xlabel(\"x\",fontsize=20)\n",
    "plt.xlim(0, 7)\n",
    "plt.ylabel(\"y\",fontsize=20)\n",
    "plt.show()"
   ]
  },
  {
   "cell_type": "code",
   "execution_count": null,
   "metadata": {},
   "outputs": [],
   "source": []
  },
  {
   "cell_type": "code",
   "execution_count": null,
   "metadata": {},
   "outputs": [],
   "source": [
    "plt.figure(figsize=(20,20))\n",
    "\n",
    "\n",
    "g = sns.catplot(x='', hue = '', row = '', kind='count', data=df, height = 3, aspect = 1)\n",
    "\n",
    "g.set_xlabels(\"x\")\n",
    "g.set_ylabels(\"y\")\n",
    "g.set(xlim=(0,10))\n",
    "g.set(ylim=(0,100))\n",
    "\n",
    "\n",
    "\n",
    "g.set_xticklabels(rotation=90)\n",
    "g.set_yticklabels(rotation=90)\n",
    "\n",
    "\n",
    "plt.suptitle('', x=0.5, y=1.02, ha='center', fontsize=20)\n",
    "\n",
    "plt.tight_layout()\n",
    "plt.show()"
   ]
  },
  {
   "cell_type": "code",
   "execution_count": null,
   "metadata": {},
   "outputs": [],
   "source": [
    "plt.figure(figsize=(20,20))\n",
    "\n",
    "sns.catplot(x=\"calories\", y=\"restaurant\",\n",
    "\n",
    "                hue=\"is_salad\", ci=None,\n",
    "\n",
    "                data=df_calories, color=None, linewidth=3, showfliers = False,\n",
    "\n",
    "                orient=\"h\", height=20, aspect=1, palette=None,\n",
    "\n",
    "                kind=\"box\", dodge=True)\n",
    "\n",
    "plt.xlabel(\"\", size=20)\n",
    "plt.ylabel(\"\", size=20)\n",
    "plt.suptitle('', x=0.5, y=1.02, ha='center', fontsize=20)\n",
    "\n",
    "plt.tight_layout()\n",
    "plt.show()"
   ]
  },
  {
   "cell_type": "markdown",
   "metadata": {},
   "source": [
    "**==========================================================================================================**"
   ]
  },
  {
   "cell_type": "markdown",
   "metadata": {},
   "source": [
    "## Joint Plot\n",
    "\n",
    "jointplot is a figure-level function so putting them in subplots is very hacky"
   ]
  },
  {
   "cell_type": "markdown",
   "metadata": {},
   "source": [
    "### Matplotlib Version"
   ]
  },
  {
   "cell_type": "markdown",
   "metadata": {},
   "source": [
    "### Seaborn Version"
   ]
  },
  {
   "cell_type": "code",
   "execution_count": null,
   "metadata": {},
   "outputs": [],
   "source": [
    "df.head()"
   ]
  },
  {
   "cell_type": "code",
   "execution_count": null,
   "metadata": {
    "scrolled": false
   },
   "outputs": [],
   "source": [
    "# Stack Jointplots in long format\n",
    "\n",
    "sns.jointplot(x='age', y='amount', data=df, kind='scatter')\n",
    "\n",
    "sns.jointplot(x='age', y='amount', data=df, kind='kde')\n",
    "\n",
    "sns.jointplot(x='age', y='amount', data=df, kind='hist')\n",
    "\n",
    "sns.jointplot(x='age', y='amount', data=df, kind='hex')\n",
    "\n",
    "sns.jointplot(x='age', y='amount', data=df, kind='reg')\n",
    "\n",
    "sns.jointplot(x='age', y='amount', data=df, kind='resid')\n",
    "\n",
    "plt.show()"
   ]
  },
  {
   "cell_type": "code",
   "execution_count": null,
   "metadata": {},
   "outputs": [],
   "source": [
    "sns.jointplot(x='', y='',data=df, kind='reg',scatter_kws={'color':'k'},line_kws={'color':'red'})\n",
    "\n",
    "sns.jointplot(x='', y='',data=df, kind='reg',scatter_kws={'color':'k'},line_kws={'color':'red'})\n",
    "\n",
    "sns.lmplot(x='num_items', y='total_value', data=df, scatter_kws={'s': 1, 'alpha': 0.1}, height=5, aspect=1,\n",
    "           line_kws={'lw': 2, 'color': 'red'})\n",
    "\n",
    "sns.lmplot(x='num_items', y='total_value', data=df, scatter_kws={'s': 1, 'alpha': 0.1}, height=5, aspect=1,\n",
    "           line_kws={'lw': 2, 'color': 'red'})\n",
    "\n",
    "plt.tight_layout()\n",
    "plt.show()"
   ]
  },
  {
   "cell_type": "markdown",
   "metadata": {},
   "source": [
    "**==========================================================================================================**"
   ]
  },
  {
   "cell_type": "markdown",
   "metadata": {},
   "source": [
    "## Heatmap"
   ]
  },
  {
   "cell_type": "markdown",
   "metadata": {},
   "source": [
    "### Matplotlib Version"
   ]
  },
  {
   "cell_type": "markdown",
   "metadata": {},
   "source": [
    "### Seaborn Version"
   ]
  },
  {
   "cell_type": "code",
   "execution_count": null,
   "metadata": {},
   "outputs": [],
   "source": [
    "df.head()"
   ]
  },
  {
   "cell_type": "code",
   "execution_count": null,
   "metadata": {},
   "outputs": [],
   "source": [
    "plt.figure(figsize=(16,9))\n",
    "sns.heatmap(data=df.corr(), cmap=\"coolwarm\", annot=True, fmt='.2f', linewidths=2)\n",
    "plt.title(\"Correlation Heatmap\", fontsize=20)\n",
    "plt.show()"
   ]
  },
  {
   "cell_type": "markdown",
   "metadata": {},
   "source": [
    "**==========================================================================================================**"
   ]
  },
  {
   "cell_type": "markdown",
   "metadata": {},
   "source": [
    "## Regression plot"
   ]
  },
  {
   "cell_type": "markdown",
   "metadata": {},
   "source": [
    "### Matplotlib Version"
   ]
  },
  {
   "cell_type": "markdown",
   "metadata": {},
   "source": [
    "### Seaborn Version"
   ]
  },
  {
   "cell_type": "code",
   "execution_count": null,
   "metadata": {},
   "outputs": [],
   "source": [
    "# Plot 1 rows and 2 columns (can be expanded)\n",
    "line_color = {'color': 'red'}\n",
    "fig, ax = plt.subplots(1,2, sharex=False, figsize=(16,5))\n",
    "fig.suptitle('Regression Plots')\n",
    "\n",
    "sns.regplot(x=df.wt, y=df.mpg, data=df, ax=ax[0], ci=None, line_kws=line_color)\n",
    "ax[0].set_title('title')\n",
    "#ax[0].tick_params('x', labelrotation=45)\n",
    "ax[0].set_xlabel(\"x\")\n",
    "ax[0].set_ylabel(\"y\")`\n",
    "\n",
    "sns.regplot(x=df.hum, y=df.cnt, data=df, ax=ax[1], ci=None, line_kws=line_color)\n",
    "ax[1].set_title('title')\n",
    "#ax[1].tick_params('x', labelrotation=45)\n",
    "ax[1].set_xlabel(\"x\")\n",
    "ax[1].set_ylabel(\"y\")\n",
    "\n",
    "plt.ticklabel_format(style='plain', axis='y')\n",
    "plt.tight_layout()\n",
    "plt.show()"
   ]
  },
  {
   "cell_type": "code",
   "execution_count": null,
   "metadata": {},
   "outputs": [],
   "source": [
    "plt.figure(figsize=(15, 10))\n",
    "sns.regplot(x='year', y='total', data=df_tot, color='green', marker='+')\n",
    "plt.show()"
   ]
  },
  {
   "cell_type": "code",
   "execution_count": null,
   "metadata": {},
   "outputs": [],
   "source": [
    "plt.figure(figsize=(15, 10))\n",
    "ax = sns.regplot(x='year', y='total', data=df_tot, color='green', marker='+', scatter_kws={'s': 200})\n",
    "\n",
    "ax.set(xlabel='Year', ylabel='Total Immigration') # add x- and y-labels\n",
    "ax.set_title('Total Immigration to Canada from 1980 - 2013') # add title\n",
    "plt.show()"
   ]
  },
  {
   "cell_type": "code",
   "execution_count": null,
   "metadata": {},
   "outputs": [],
   "source": [
    "line_color = {'color': 'red'}\n",
    "fig , ax = plt.subplots(2,2, figsize=(20,20))\n",
    "\n",
    "#Feature\n",
    "\n",
    "ax1 = sns.regplot(x=X_test.bmi, y=lr_pred, line_kws=line_color, ax=ax[0,0])\n",
    "ax1.set_xlabel(\"x\")\n",
    "ax1.set_ylabel(\"y\")\n",
    "ax1.set_title(\"Plot 1\", size=15)\n",
    "\n",
    "#Feature\n",
    "\n",
    "ax2 = sns.regplot(x=X_test.s5, y=lr_pred, line_kws=line_color, ax=ax[0,1])\n",
    "ax2.set_xlabel(\"x\")\n",
    "ax2.set_ylabel(\"y\")\n",
    "ax2.set_title(\"Plot 2\", size=15)\n",
    "\n",
    "#Feature\n",
    "\n",
    "ax3 = sns.regplot(x=X_test.bp, y=lr_pred, line_kws=line_color, ax=ax[1,0])\n",
    "ax3.set_xlabel(\"x\")\n",
    "ax3.set_ylabel(\"y\")\n",
    "ax3.set_title(\"Plot 3\", size=15)\n",
    "\n",
    "#Feature\n",
    "\n",
    "ax4 = sns.regplot(x=X_test.s4, y=lr_pred, line_kws=line_color, ax=ax[1,1])\n",
    "ax4.set_xlabel(\"x\")\n",
    "ax4.set_ylabel(\"y\")\n",
    "ax4.set_title(\"Plot 4\", size=15)\n",
    "plt.suptitle('Regression Plots', x=0.5, y=0.9, ha='center', fontsize=20)\n",
    "plt.show()"
   ]
  },
  {
   "cell_type": "markdown",
   "metadata": {},
   "source": [
    "**==========================================================================================================**"
   ]
  },
  {
   "cell_type": "markdown",
   "metadata": {},
   "source": [
    "## Pairplots"
   ]
  },
  {
   "cell_type": "markdown",
   "metadata": {},
   "source": [
    "### Matplotlib Version"
   ]
  },
  {
   "cell_type": "markdown",
   "metadata": {},
   "source": [
    "### Seaborn Version"
   ]
  },
  {
   "cell_type": "code",
   "execution_count": null,
   "metadata": {},
   "outputs": [],
   "source": [
    "df.head(1)"
   ]
  },
  {
   "cell_type": "code",
   "execution_count": null,
   "metadata": {},
   "outputs": [],
   "source": [
    "df.columns"
   ]
  },
  {
   "cell_type": "code",
   "execution_count": null,
   "metadata": {},
   "outputs": [],
   "source": [
    "# Take only continous variables\n",
    "\n",
    "df_cont = df[['age', 'balance', 'amount']]"
   ]
  },
  {
   "cell_type": "code",
   "execution_count": null,
   "metadata": {},
   "outputs": [],
   "source": [
    "sns.pairplot(df_cont.sample(300), height=4, aspect=1)\n",
    "plt.suptitle('Pairplots of features', x=0.5, y=1.02, ha='center', fontsize=20)\n",
    "\n",
    "plt.show()"
   ]
  },
  {
   "cell_type": "code",
   "execution_count": null,
   "metadata": {},
   "outputs": [],
   "source": [
    "# Compare to target variable\n",
    "\n",
    "plt.figure(figsize=(20,20))\n",
    "plt.suptitle('Pairplots of features', x=0.5, y=1.02, ha='center', fontsize=20)\n",
    "sns.pairplot(df.sample(300), x_vars=['tripdistance', 'fareamount', 'tipamount', \n",
    "              'totalamount'], y_vars=[\"duration\"])\n",
    "plt.show()"
   ]
  },
  {
   "cell_type": "code",
   "execution_count": null,
   "metadata": {},
   "outputs": [],
   "source": [
    "# For small sample size\n",
    "plt.figure(figsize=(20,20))\n",
    "plt.suptitle('Pairplots of features', x=0.5, y=1.02, ha='center', fontsize=20)\n",
    "sns.pairplot(df)\n",
    "plt.show()"
   ]
  },
  {
   "cell_type": "markdown",
   "metadata": {},
   "source": [
    "**==========================================================================================================**"
   ]
  },
  {
   "cell_type": "markdown",
   "metadata": {},
   "source": [
    "## PairGrid"
   ]
  },
  {
   "cell_type": "code",
   "execution_count": null,
   "metadata": {},
   "outputs": [],
   "source": [
    "g = sns.PairGrid(df_cont.sample(300))\n",
    "g.map_diag(sns.kdeplot)\n",
    "g.map_offdiag(sns.kdeplot, n_levels = 10)\n",
    "\n",
    "plt.show()"
   ]
  },
  {
   "cell_type": "code",
   "execution_count": null,
   "metadata": {},
   "outputs": [],
   "source": [
    "g = sns.PairGrid(df_cont.sample(300))\n",
    "g.map_diag(sns.kdeplot)\n",
    "g.map_offdiag(sns.scatterplot)\n",
    "\n",
    "plt.show()"
   ]
  },
  {
   "cell_type": "code",
   "execution_count": null,
   "metadata": {},
   "outputs": [],
   "source": [
    "g = sns.PairGrid(iris)\n",
    "g.map_diag(sns.histplot)\n",
    "g.map_offdiag(sns.scatterplot)"
   ]
  },
  {
   "cell_type": "code",
   "execution_count": null,
   "metadata": {},
   "outputs": [],
   "source": [
    "g = sns.PairGrid(iris, hue=\"species\")\n",
    "g.map_diag(sns.histplot)\n",
    "g.map_offdiag(sns.scatterplot)\n",
    "g.add_legend()"
   ]
  },
  {
   "cell_type": "code",
   "execution_count": null,
   "metadata": {},
   "outputs": [],
   "source": [
    "g = sns.PairGrid(iris, vars=[\"sepal_length\", \"sepal_width\"], hue=\"species\")\n",
    "g.map(sns.scatterplot)"
   ]
  },
  {
   "cell_type": "markdown",
   "metadata": {},
   "source": [
    "**==========================================================================================================**"
   ]
  },
  {
   "cell_type": "markdown",
   "metadata": {},
   "source": [
    "## Area Plot"
   ]
  },
  {
   "cell_type": "code",
   "execution_count": null,
   "metadata": {},
   "outputs": [],
   "source": [
    "df2.head()"
   ]
  },
  {
   "cell_type": "code",
   "execution_count": null,
   "metadata": {},
   "outputs": [],
   "source": [
    "df2.plot(kind = \"area\", title = \"title\", figsize=(15, 10))\n",
    "\n",
    "plt.show()"
   ]
  },
  {
   "cell_type": "code",
   "execution_count": null,
   "metadata": {},
   "outputs": [],
   "source": [
    "df2.plot(kind = \"area\", title = \"title\", figsize=(15, 10), stacked = False, alpha=0.5)\n",
    "\n",
    "plt.show()"
   ]
  },
  {
   "cell_type": "markdown",
   "metadata": {},
   "source": [
    "**==========================================================================================================**"
   ]
  },
  {
   "cell_type": "markdown",
   "metadata": {},
   "source": [
    "## Hex Plot"
   ]
  },
  {
   "cell_type": "markdown",
   "metadata": {},
   "source": [
    "### Pandas version"
   ]
  },
  {
   "cell_type": "code",
   "execution_count": null,
   "metadata": {},
   "outputs": [],
   "source": [
    "df2.plot.hexbin(x = 'life_expectancy', y = 'pop', gridsize=10, C = \"infant_mortality\", figsize=(12,8))\n",
    "\n",
    "plt.title(\"title\")\n",
    "plt.xlabel(\"X\")\n",
    "plt.ylabel(\"Y\")\n",
    "plt.show()"
   ]
  },
  {
   "cell_type": "markdown",
   "metadata": {},
   "source": [
    "**==========================================================================================================**"
   ]
  },
  {
   "cell_type": "markdown",
   "metadata": {},
   "source": [
    "## Pie Charts\n",
    "\n",
    "A `pie chart` is a circular graphic that displays numeric proportions by dividing a circle (or pie) into proportional slices. You are most likely already familiar with pie charts as it is widely used in business and media. We can create pie charts in Matplotlib by passing in the `kind=pie` keyword.\n",
    "\n",
    "*   `autopct` -  is a string or function used to label the wedges with their numeric value. The label will be placed inside the wedge. If it is a format string, the label will be `fmt%pct`.\n",
    "*   `startangle` - rotates the start of the pie chart by angle degrees counterclockwise from the x-axis.\n",
    "*   `shadow` - Draws a shadow beneath the pie (to give a 3D feel)."
   ]
  },
  {
   "cell_type": "markdown",
   "metadata": {},
   "source": [
    "### Pandas version"
   ]
  },
  {
   "cell_type": "code",
   "execution_count": null,
   "metadata": {},
   "outputs": [],
   "source": [
    "df2.iloc[0]"
   ]
  },
  {
   "cell_type": "code",
   "execution_count": null,
   "metadata": {},
   "outputs": [],
   "source": [
    "df2.iloc[0].plot.pie(figsize = (12, 8))\n",
    "\n",
    "plt.show()"
   ]
  },
  {
   "cell_type": "code",
   "execution_count": null,
   "metadata": {},
   "outputs": [],
   "source": [
    "df3 = df2.head(3).T\n",
    "df3"
   ]
  },
  {
   "cell_type": "code",
   "execution_count": null,
   "metadata": {},
   "outputs": [],
   "source": [
    "df3.plot.pie(subplots=True, figsize = (30, 30))\n",
    "plt.show()"
   ]
  },
  {
   "cell_type": "code",
   "execution_count": null,
   "metadata": {},
   "outputs": [],
   "source": [
    "df3.plot.pie(subplots=True, figsize = (30, 30), fontsize = 24)\n",
    "plt.show()"
   ]
  },
  {
   "cell_type": "code",
   "execution_count": null,
   "metadata": {},
   "outputs": [],
   "source": [
    "df3.plot.pie(subplots=True, figsize = (30, 30), fontsize = 24, autopct = '%.2f')\n",
    "plt.show()"
   ]
  },
  {
   "cell_type": "code",
   "execution_count": null,
   "metadata": {},
   "outputs": [],
   "source": []
  },
  {
   "cell_type": "markdown",
   "metadata": {},
   "source": [
    "### Matplotlib Version"
   ]
  },
  {
   "cell_type": "code",
   "execution_count": null,
   "metadata": {},
   "outputs": [],
   "source": [
    "df.groupby(['txn_description'])[\"age\"].mean()"
   ]
  },
  {
   "cell_type": "code",
   "execution_count": null,
   "metadata": {},
   "outputs": [],
   "source": [
    "fig, ax = plt.subplots(figsize=(12,8))\n",
    "ax.pie(x=df.groupby(['txn_description'])[\"age\"].mean(), autopct='%.2f')\n",
    "\n",
    "plt.show()"
   ]
  },
  {
   "cell_type": "markdown",
   "metadata": {},
   "source": [
    "### Seaborn Version"
   ]
  },
  {
   "cell_type": "code",
   "execution_count": null,
   "metadata": {},
   "outputs": [],
   "source": [
    "df.head()"
   ]
  },
  {
   "cell_type": "code",
   "execution_count": null,
   "metadata": {},
   "outputs": [],
   "source": [
    "piechartdf = df.groupby([\"vendorid2\"], as_index=False)[\"duration\"].mean()\n",
    "piechartdf"
   ]
  },
  {
   "cell_type": "code",
   "execution_count": null,
   "metadata": {},
   "outputs": [],
   "source": [
    "# autopct create %, start angle represent starting point\n",
    "piechartdf['duration'].plot(kind='pie',\n",
    "                            figsize=(15, 6),\n",
    "                            autopct='%1.1f%%', # add in percentages\n",
    "                            startangle=90,     # start angle 90° (Africa)\n",
    "                            shadow=False,       # add shadow      \n",
    "                            )\n",
    "\n",
    "plt.title('Title', size=15)\n",
    "plt.axis('equal') # Sets the pie chart to look like a circle.\n",
    "\n",
    "plt.show()"
   ]
  },
  {
   "cell_type": "code",
   "execution_count": null,
   "metadata": {},
   "outputs": [],
   "source": [
    "colors_list = ['gold', 'yellowgreen', 'lightcoral', 'lightskyblue', 'lightgreen', 'pink']\n",
    "explode_list = [0.1, 0, 0, 0, 0.1, 0.1] # ratio for each continent with which to offset each wedge.\n",
    "\n",
    "piechartdf['mpg'].plot(kind='pie',\n",
    "                            figsize=(15, 6),\n",
    "                            autopct='%1.1f%%', \n",
    "                            startangle=90,    \n",
    "                            shadow=False,       \n",
    "                            labels=None,         # turn off labels on pie chart\n",
    "                            pctdistance=1.12,    # the ratio between the center of each pie slice and the start of the text generated by autopct \n",
    "                            colors=colors_list,  # add custom colors\n",
    "                            #explode=explode_list # 'explode' lowest 3 continents\n",
    "                            )\n",
    "\n",
    "# scale the title up by 12% to match pctdistance\n",
    "plt.title('Title', y=1.12, size=20) \n",
    "\n",
    "plt.axis('equal') \n",
    "\n",
    "# add legend\n",
    "plt.legend(labels=piechartdf.index, loc='upper left') \n",
    "\n",
    "plt.show()"
   ]
  },
  {
   "cell_type": "markdown",
   "metadata": {},
   "source": [
    "**==========================================================================================================**"
   ]
  },
  {
   "cell_type": "markdown",
   "metadata": {},
   "source": [
    "**==========================================================================================================**"
   ]
  },
  {
   "cell_type": "markdown",
   "metadata": {},
   "source": [
    "#### Python code done by Dennis Lam"
   ]
  }
 ],
 "metadata": {
  "kernelspec": {
   "display_name": "Python 3 (ipykernel)",
   "language": "python",
   "name": "python3"
  },
  "language_info": {
   "codemirror_mode": {
    "name": "ipython",
    "version": 3
   },
   "file_extension": ".py",
   "mimetype": "text/x-python",
   "name": "python",
   "nbconvert_exporter": "python",
   "pygments_lexer": "ipython3",
   "version": "3.9.12"
  }
 },
 "nbformat": 4,
 "nbformat_minor": 4
}
