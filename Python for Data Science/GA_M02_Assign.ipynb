{
 "cells": [
  {
   "cell_type": "markdown",
   "metadata": {
    "deletable": false,
    "editable": false,
    "nbgrader": {
     "cell_type": "markdown",
     "checksum": "8aba4075efbe1bb66797f0601b36aa6f",
     "grade": false,
     "grade_id": "cell-26c43e97431a59bf",
     "locked": true,
     "schema_version": 3,
     "solution": false,
     "task": false
    }
   },
   "source": [
    "### Graded Lab 2\n",
    "\n",
    "Hello ! Welcome to Graded Lab of Module 2.\n",
    "Here we will be working on an exciting business problem with help of interesting datasets.\n",
    "Lets look at the problem statement,\n",
    "\n",
    "*Client: ABC Retail, Incorporated, rest-of-the-world division* \n",
    "\n",
    "***Project name: Online retail sales analysis*** \n",
    "\n",
    "An online retailer, ABC, Inc., operates in nearly 100 countries worldwide, selling furniture, office supplies and technology products to customers in three segments: consumer, corporate and home office. ABC, Inc. is a US-based company, and it has two major divisions: US and rest of the world. We are working with the rest of the world division of the company. \n",
    "\n",
    "They have provided us with online sales transaction data from 2011 to 2014.\n",
    "\n",
    "We are given 3 datasets:-\n",
    "\n",
    "1. Data on each sale; 51290 records; all data in US dollars\n",
    "It contains fields like\n",
    "**order_id** (identifier) ,order_date ,ship_date ,ship_mode ,**customer_id**(identifier) ,product_id ,category ,sub_category ,product_name ,sales ,quantity ,discount ,profit ,shipping_cost ,order_priority ,**vendor_code** (identifier) \n",
    "\n",
    "\n",
    "2. Data on the customers; 1590 records \n",
    "It contains fields like\n",
    "**customer_id** (identifier) ,customer_name ,city ,state ,country ,postal_code ,segment ,market ,region \n",
    "\n",
    "3. Data on vendors who supply the retailer; 65 records \n",
    "It contains fields like\n",
    "vendor ,**vendor_code** (identifier) \n",
    "\n",
    "We need to analyze the data and need to provide answers to different questions asked by company officials."
   ]
  },
  {
   "cell_type": "code",
   "execution_count": 1,
   "metadata": {
    "deletable": false,
    "editable": false,
    "nbgrader": {
     "cell_type": "code",
     "checksum": "f7033522777d16029863d84243f0dc17",
     "grade": false,
     "grade_id": "cell-a3917e0dac14206f",
     "locked": true,
     "schema_version": 3,
     "solution": false,
     "task": false
    }
   },
   "outputs": [
    {
     "data": {
      "text/html": [
       "<div>\n",
       "<style scoped>\n",
       "    .dataframe tbody tr th:only-of-type {\n",
       "        vertical-align: middle;\n",
       "    }\n",
       "\n",
       "    .dataframe tbody tr th {\n",
       "        vertical-align: top;\n",
       "    }\n",
       "\n",
       "    .dataframe thead th {\n",
       "        text-align: right;\n",
       "    }\n",
       "</style>\n",
       "<table border=\"1\" class=\"dataframe\">\n",
       "  <thead>\n",
       "    <tr style=\"text-align: right;\">\n",
       "      <th></th>\n",
       "      <th>row_id</th>\n",
       "      <th>order_id</th>\n",
       "      <th>order_date</th>\n",
       "      <th>ship_date</th>\n",
       "      <th>ship_mode</th>\n",
       "      <th>customer_id</th>\n",
       "      <th>product_id</th>\n",
       "      <th>category</th>\n",
       "      <th>sub_category</th>\n",
       "      <th>product_name</th>\n",
       "      <th>sales</th>\n",
       "      <th>quantity</th>\n",
       "      <th>discount</th>\n",
       "      <th>profit</th>\n",
       "      <th>shipping_cost</th>\n",
       "      <th>order_priority</th>\n",
       "      <th>vendor_code</th>\n",
       "    </tr>\n",
       "  </thead>\n",
       "  <tbody>\n",
       "    <tr>\n",
       "      <th>0</th>\n",
       "      <td>1</td>\n",
       "      <td>MX-2014-143658</td>\n",
       "      <td>02/10/2014</td>\n",
       "      <td>06/10/2014</td>\n",
       "      <td>Standard Class</td>\n",
       "      <td>SC-20575</td>\n",
       "      <td>OFF-LA-10002782</td>\n",
       "      <td>Office Supplies</td>\n",
       "      <td>Labels</td>\n",
       "      <td>Hon File Folder Labels, Adjustable</td>\n",
       "      <td>13.08</td>\n",
       "      <td>3</td>\n",
       "      <td>0.0</td>\n",
       "      <td>4.56</td>\n",
       "      <td>1.03</td>\n",
       "      <td>Medium</td>\n",
       "      <td>VE_001</td>\n",
       "    </tr>\n",
       "    <tr>\n",
       "      <th>1</th>\n",
       "      <td>2</td>\n",
       "      <td>MX-2012-155047</td>\n",
       "      <td>15/10/2012</td>\n",
       "      <td>20/10/2012</td>\n",
       "      <td>Standard Class</td>\n",
       "      <td>KW-16570</td>\n",
       "      <td>FUR-FU-10004015</td>\n",
       "      <td>Furniture</td>\n",
       "      <td>Furnishings</td>\n",
       "      <td>Tenex Clock, Durable</td>\n",
       "      <td>252.16</td>\n",
       "      <td>8</td>\n",
       "      <td>0.0</td>\n",
       "      <td>90.72</td>\n",
       "      <td>13.45</td>\n",
       "      <td>Medium</td>\n",
       "      <td>VE_002</td>\n",
       "    </tr>\n",
       "    <tr>\n",
       "      <th>2</th>\n",
       "      <td>3</td>\n",
       "      <td>MX-2012-155047</td>\n",
       "      <td>15/10/2012</td>\n",
       "      <td>20/10/2012</td>\n",
       "      <td>Standard Class</td>\n",
       "      <td>KW-16570</td>\n",
       "      <td>FUR-BO-10002352</td>\n",
       "      <td>Furniture</td>\n",
       "      <td>Bookcases</td>\n",
       "      <td>Ikea 3-Shelf Cabinet, Mobile</td>\n",
       "      <td>193.28</td>\n",
       "      <td>2</td>\n",
       "      <td>0.0</td>\n",
       "      <td>54.08</td>\n",
       "      <td>9.63</td>\n",
       "      <td>Medium</td>\n",
       "      <td>VE_003</td>\n",
       "    </tr>\n",
       "    <tr>\n",
       "      <th>3</th>\n",
       "      <td>4</td>\n",
       "      <td>MX-2012-155047</td>\n",
       "      <td>15/10/2012</td>\n",
       "      <td>20/10/2012</td>\n",
       "      <td>Standard Class</td>\n",
       "      <td>KW-16570</td>\n",
       "      <td>OFF-BI-10004428</td>\n",
       "      <td>Office Supplies</td>\n",
       "      <td>Binders</td>\n",
       "      <td>Cardinal Binder, Clear</td>\n",
       "      <td>35.44</td>\n",
       "      <td>4</td>\n",
       "      <td>0.0</td>\n",
       "      <td>4.96</td>\n",
       "      <td>1.37</td>\n",
       "      <td>Medium</td>\n",
       "      <td>VE_004</td>\n",
       "    </tr>\n",
       "    <tr>\n",
       "      <th>4</th>\n",
       "      <td>5</td>\n",
       "      <td>MX-2012-155047</td>\n",
       "      <td>15/10/2012</td>\n",
       "      <td>20/10/2012</td>\n",
       "      <td>Standard Class</td>\n",
       "      <td>KW-16570</td>\n",
       "      <td>OFF-AR-10004594</td>\n",
       "      <td>Office Supplies</td>\n",
       "      <td>Art</td>\n",
       "      <td>Sanford Canvas, Water Color</td>\n",
       "      <td>71.60</td>\n",
       "      <td>2</td>\n",
       "      <td>0.0</td>\n",
       "      <td>11.44</td>\n",
       "      <td>3.79</td>\n",
       "      <td>Medium</td>\n",
       "      <td>VE_005</td>\n",
       "    </tr>\n",
       "  </tbody>\n",
       "</table>\n",
       "</div>"
      ],
      "text/plain": [
       "   row_id        order_id  order_date   ship_date       ship_mode customer_id  \\\n",
       "0       1  MX-2014-143658  02/10/2014  06/10/2014  Standard Class    SC-20575   \n",
       "1       2  MX-2012-155047  15/10/2012  20/10/2012  Standard Class    KW-16570   \n",
       "2       3  MX-2012-155047  15/10/2012  20/10/2012  Standard Class    KW-16570   \n",
       "3       4  MX-2012-155047  15/10/2012  20/10/2012  Standard Class    KW-16570   \n",
       "4       5  MX-2012-155047  15/10/2012  20/10/2012  Standard Class    KW-16570   \n",
       "\n",
       "        product_id         category sub_category  \\\n",
       "0  OFF-LA-10002782  Office Supplies       Labels   \n",
       "1  FUR-FU-10004015        Furniture  Furnishings   \n",
       "2  FUR-BO-10002352        Furniture    Bookcases   \n",
       "3  OFF-BI-10004428  Office Supplies      Binders   \n",
       "4  OFF-AR-10004594  Office Supplies          Art   \n",
       "\n",
       "                         product_name   sales  quantity  discount  profit  \\\n",
       "0  Hon File Folder Labels, Adjustable   13.08         3       0.0    4.56   \n",
       "1                Tenex Clock, Durable  252.16         8       0.0   90.72   \n",
       "2        Ikea 3-Shelf Cabinet, Mobile  193.28         2       0.0   54.08   \n",
       "3              Cardinal Binder, Clear   35.44         4       0.0    4.96   \n",
       "4         Sanford Canvas, Water Color   71.60         2       0.0   11.44   \n",
       "\n",
       "   shipping_cost order_priority vendor_code  \n",
       "0           1.03         Medium      VE_001  \n",
       "1          13.45         Medium      VE_002  \n",
       "2           9.63         Medium      VE_003  \n",
       "3           1.37         Medium      VE_004  \n",
       "4           3.79         Medium      VE_005  "
      ]
     },
     "execution_count": 1,
     "metadata": {},
     "output_type": "execute_result"
    }
   ],
   "source": [
    "# importing libraries\n",
    "import pandas as pd\n",
    "import numpy as np\n",
    "\n",
    "### Reading sales data\n",
    "sales = pd.read_csv('sales_data.csv')\n",
    "\n",
    "### Reading customer data\n",
    "cust = pd.read_csv(r'customers.csv',encoding='iso-8859-1')\n",
    "\n",
    "### Reading vendor data\n",
    "vend = pd.read_csv(r'vendors.csv')\n",
    "\n",
    "sales.head()"
   ]
  },
  {
   "cell_type": "code",
   "execution_count": 2,
   "metadata": {},
   "outputs": [],
   "source": [
    "pd.set_option('display.max_columns',None)\n",
    "#pd.set_option('display.max_rows',None)\n",
    "pd.set_option('display.width', 1000)\n",
    "pd.set_option('display.float_format','{:.4f}'.format)"
   ]
  },
  {
   "cell_type": "code",
   "execution_count": null,
   "metadata": {},
   "outputs": [],
   "source": [
    "cust.head()"
   ]
  },
  {
   "cell_type": "code",
   "execution_count": null,
   "metadata": {},
   "outputs": [],
   "source": [
    "vend.head()"
   ]
  },
  {
   "cell_type": "markdown",
   "metadata": {},
   "source": [
    "*-----------------------------------------------------------------------------*"
   ]
  },
  {
   "cell_type": "code",
   "execution_count": null,
   "metadata": {},
   "outputs": [],
   "source": [
    "df = sales.merge(right=vend, how=\"left\", on=\"vendor_code\")"
   ]
  },
  {
   "cell_type": "code",
   "execution_count": null,
   "metadata": {},
   "outputs": [],
   "source": [
    "df.head()"
   ]
  },
  {
   "cell_type": "code",
   "execution_count": null,
   "metadata": {},
   "outputs": [],
   "source": [
    "df2 = df.merge(right=cust, how=\"left\", on=\"customer_id\")"
   ]
  },
  {
   "cell_type": "code",
   "execution_count": null,
   "metadata": {},
   "outputs": [],
   "source": [
    "df2"
   ]
  },
  {
   "cell_type": "code",
   "execution_count": null,
   "metadata": {},
   "outputs": [],
   "source": [
    "df2[\"order_date\"] = pd.to_datetime(df2['order_date'], format='%d/%m/%Y')"
   ]
  },
  {
   "cell_type": "code",
   "execution_count": null,
   "metadata": {},
   "outputs": [],
   "source": [
    "df2.head()"
   ]
  },
  {
   "cell_type": "code",
   "execution_count": null,
   "metadata": {},
   "outputs": [],
   "source": [
    "df2.info()"
   ]
  },
  {
   "cell_type": "markdown",
   "metadata": {},
   "source": [
    "*-----------------------------------------------------------------------------*"
   ]
  },
  {
   "cell_type": "markdown",
   "metadata": {
    "deletable": false,
    "editable": false,
    "nbgrader": {
     "cell_type": "markdown",
     "checksum": "8a7dde4f89b8413892e88fa760fca305",
     "grade": false,
     "grade_id": "cell-2dd5a47e86fb3e16",
     "locked": true,
     "schema_version": 3,
     "solution": false,
     "task": false
    }
   },
   "source": [
    "In order to solve the next questions , we need to combine all the 3 datasets into a single dataframe such that every details of sales dataframe are intact. So here we have written a data processing function.\n",
    "There are 2 tasks which are to be performed.\n",
    "1. Merge/ Join all the 3 datasets into a single dataframe such that every details of sales dataframe are intact. (Understand which should be the joining key , type of join , refer .merge() function of pandas)\n",
    "2. Convert 'order_date' into a datetime column.\n",
    "**Return output as a dataframe**"
   ]
  },
  {
   "cell_type": "code",
   "execution_count": 3,
   "metadata": {
    "deletable": false,
    "nbgrader": {
     "cell_type": "code",
     "checksum": "83d15370af539ca54bb1de52e97932b0",
     "grade": false,
     "grade_id": "cell-21a002bcfcc3cec1",
     "locked": false,
     "schema_version": 3,
     "solution": true,
     "task": false
    }
   },
   "outputs": [],
   "source": [
    "#### data_merging & order_date processing , data1 will be sales , data2 will be customer dataset & data3 will be vendor dataset.\n",
    "\n",
    "def data_process(data1,data2,data3):\n",
    "    # your code here\n",
    "    df = data1.merge(right=data3, how=\"left\", on=\"vendor_code\")\n",
    "    df2 = df.merge(right=data2, how=\"left\", on=\"customer_id\")\n",
    "    df2[\"order_date\"] = pd.to_datetime(df2['order_date'], format='%d/%m/%Y')\n",
    "    return df2"
   ]
  },
  {
   "cell_type": "code",
   "execution_count": 4,
   "metadata": {},
   "outputs": [],
   "source": [
    "sales= data_process(data1=sales.copy(),data2=cust.copy(),data3=vend.copy())"
   ]
  },
  {
   "cell_type": "code",
   "execution_count": 5,
   "metadata": {
    "deletable": false,
    "editable": false,
    "nbgrader": {
     "cell_type": "code",
     "checksum": "71ee5855615bfc243926dd28210fa6d9",
     "grade": true,
     "grade_id": "cell-e52e2a36b201dfa4",
     "locked": true,
     "points": 0,
     "schema_version": 3,
     "solution": false,
     "task": false
    }
   },
   "outputs": [],
   "source": [
    "assert sales['order_date'].dtypes=='<M8[ns]' ,'Make sure that you have converted order_date into a datetime format correctly.'\n",
    "assert sales.shape== (51290,26) ,'Checking size and shape of dataframe after merging is a very important check.'"
   ]
  },
  {
   "cell_type": "code",
   "execution_count": 6,
   "metadata": {},
   "outputs": [
    {
     "data": {
      "text/plain": [
       "Index(['row_id', 'order_id', 'order_date', 'ship_date', 'ship_mode', 'customer_id', 'product_id', 'category', 'sub_category', 'product_name', 'sales', 'quantity', 'discount', 'profit', 'shipping_cost', 'order_priority', 'vendor_code', 'vendor', 'customer_name', 'city', 'state', 'country', 'postal_code', 'segment', 'market', 'region'], dtype='object')"
      ]
     },
     "execution_count": 6,
     "metadata": {},
     "output_type": "execute_result"
    }
   ],
   "source": [
    "sales.columns"
   ]
  },
  {
   "cell_type": "code",
   "execution_count": 7,
   "metadata": {},
   "outputs": [
    {
     "data": {
      "text/html": [
       "<div>\n",
       "<style scoped>\n",
       "    .dataframe tbody tr th:only-of-type {\n",
       "        vertical-align: middle;\n",
       "    }\n",
       "\n",
       "    .dataframe tbody tr th {\n",
       "        vertical-align: top;\n",
       "    }\n",
       "\n",
       "    .dataframe thead th {\n",
       "        text-align: right;\n",
       "    }\n",
       "</style>\n",
       "<table border=\"1\" class=\"dataframe\">\n",
       "  <thead>\n",
       "    <tr style=\"text-align: right;\">\n",
       "      <th></th>\n",
       "      <th>row_id</th>\n",
       "      <th>order_id</th>\n",
       "      <th>order_date</th>\n",
       "      <th>ship_date</th>\n",
       "      <th>ship_mode</th>\n",
       "      <th>customer_id</th>\n",
       "      <th>product_id</th>\n",
       "      <th>category</th>\n",
       "      <th>sub_category</th>\n",
       "      <th>product_name</th>\n",
       "      <th>sales</th>\n",
       "      <th>quantity</th>\n",
       "      <th>discount</th>\n",
       "      <th>profit</th>\n",
       "      <th>shipping_cost</th>\n",
       "      <th>order_priority</th>\n",
       "      <th>vendor_code</th>\n",
       "      <th>vendor</th>\n",
       "      <th>customer_name</th>\n",
       "      <th>city</th>\n",
       "      <th>state</th>\n",
       "      <th>country</th>\n",
       "      <th>postal_code</th>\n",
       "      <th>segment</th>\n",
       "      <th>market</th>\n",
       "      <th>region</th>\n",
       "    </tr>\n",
       "  </thead>\n",
       "  <tbody>\n",
       "    <tr>\n",
       "      <th>0</th>\n",
       "      <td>1</td>\n",
       "      <td>MX-2014-143658</td>\n",
       "      <td>2014-10-02</td>\n",
       "      <td>06/10/2014</td>\n",
       "      <td>Standard Class</td>\n",
       "      <td>SC-20575</td>\n",
       "      <td>OFF-LA-10002782</td>\n",
       "      <td>Office Supplies</td>\n",
       "      <td>Labels</td>\n",
       "      <td>Hon File Folder Labels, Adjustable</td>\n",
       "      <td>13.0800</td>\n",
       "      <td>3</td>\n",
       "      <td>0.0000</td>\n",
       "      <td>4.5600</td>\n",
       "      <td>1.0300</td>\n",
       "      <td>Medium</td>\n",
       "      <td>VE_001</td>\n",
       "      <td>Accenco</td>\n",
       "      <td>Sonia Cooley</td>\n",
       "      <td>Mexico City</td>\n",
       "      <td>Distrito Federal</td>\n",
       "      <td>Mexico</td>\n",
       "      <td>NaN</td>\n",
       "      <td>Consumer</td>\n",
       "      <td>LATAM</td>\n",
       "      <td>LATAM-North</td>\n",
       "    </tr>\n",
       "    <tr>\n",
       "      <th>1</th>\n",
       "      <td>2</td>\n",
       "      <td>MX-2012-155047</td>\n",
       "      <td>2012-10-15</td>\n",
       "      <td>20/10/2012</td>\n",
       "      <td>Standard Class</td>\n",
       "      <td>KW-16570</td>\n",
       "      <td>FUR-FU-10004015</td>\n",
       "      <td>Furniture</td>\n",
       "      <td>Furnishings</td>\n",
       "      <td>Tenex Clock, Durable</td>\n",
       "      <td>252.1600</td>\n",
       "      <td>8</td>\n",
       "      <td>0.0000</td>\n",
       "      <td>90.7200</td>\n",
       "      <td>13.4500</td>\n",
       "      <td>Medium</td>\n",
       "      <td>VE_002</td>\n",
       "      <td>Ace Corporation</td>\n",
       "      <td>Kelly Williams</td>\n",
       "      <td>Dos Quebradas</td>\n",
       "      <td>Risaralda</td>\n",
       "      <td>Colombia</td>\n",
       "      <td>NaN</td>\n",
       "      <td>Consumer</td>\n",
       "      <td>LATAM</td>\n",
       "      <td>LATAM-South</td>\n",
       "    </tr>\n",
       "    <tr>\n",
       "      <th>2</th>\n",
       "      <td>3</td>\n",
       "      <td>MX-2012-155047</td>\n",
       "      <td>2012-10-15</td>\n",
       "      <td>20/10/2012</td>\n",
       "      <td>Standard Class</td>\n",
       "      <td>KW-16570</td>\n",
       "      <td>FUR-BO-10002352</td>\n",
       "      <td>Furniture</td>\n",
       "      <td>Bookcases</td>\n",
       "      <td>Ikea 3-Shelf Cabinet, Mobile</td>\n",
       "      <td>193.2800</td>\n",
       "      <td>2</td>\n",
       "      <td>0.0000</td>\n",
       "      <td>54.0800</td>\n",
       "      <td>9.6300</td>\n",
       "      <td>Medium</td>\n",
       "      <td>VE_003</td>\n",
       "      <td>Nero</td>\n",
       "      <td>Kelly Williams</td>\n",
       "      <td>Dos Quebradas</td>\n",
       "      <td>Risaralda</td>\n",
       "      <td>Colombia</td>\n",
       "      <td>NaN</td>\n",
       "      <td>Consumer</td>\n",
       "      <td>LATAM</td>\n",
       "      <td>LATAM-South</td>\n",
       "    </tr>\n",
       "    <tr>\n",
       "      <th>3</th>\n",
       "      <td>4</td>\n",
       "      <td>MX-2012-155047</td>\n",
       "      <td>2012-10-15</td>\n",
       "      <td>20/10/2012</td>\n",
       "      <td>Standard Class</td>\n",
       "      <td>KW-16570</td>\n",
       "      <td>OFF-BI-10004428</td>\n",
       "      <td>Office Supplies</td>\n",
       "      <td>Binders</td>\n",
       "      <td>Cardinal Binder, Clear</td>\n",
       "      <td>35.4400</td>\n",
       "      <td>4</td>\n",
       "      <td>0.0000</td>\n",
       "      <td>4.9600</td>\n",
       "      <td>1.3700</td>\n",
       "      <td>Medium</td>\n",
       "      <td>VE_004</td>\n",
       "      <td>Rushcorp</td>\n",
       "      <td>Kelly Williams</td>\n",
       "      <td>Dos Quebradas</td>\n",
       "      <td>Risaralda</td>\n",
       "      <td>Colombia</td>\n",
       "      <td>NaN</td>\n",
       "      <td>Consumer</td>\n",
       "      <td>LATAM</td>\n",
       "      <td>LATAM-South</td>\n",
       "    </tr>\n",
       "    <tr>\n",
       "      <th>4</th>\n",
       "      <td>5</td>\n",
       "      <td>MX-2012-155047</td>\n",
       "      <td>2012-10-15</td>\n",
       "      <td>20/10/2012</td>\n",
       "      <td>Standard Class</td>\n",
       "      <td>KW-16570</td>\n",
       "      <td>OFF-AR-10004594</td>\n",
       "      <td>Office Supplies</td>\n",
       "      <td>Art</td>\n",
       "      <td>Sanford Canvas, Water Color</td>\n",
       "      <td>71.6000</td>\n",
       "      <td>2</td>\n",
       "      <td>0.0000</td>\n",
       "      <td>11.4400</td>\n",
       "      <td>3.7900</td>\n",
       "      <td>Medium</td>\n",
       "      <td>VE_005</td>\n",
       "      <td>Low Tide Corp</td>\n",
       "      <td>Kelly Williams</td>\n",
       "      <td>Dos Quebradas</td>\n",
       "      <td>Risaralda</td>\n",
       "      <td>Colombia</td>\n",
       "      <td>NaN</td>\n",
       "      <td>Consumer</td>\n",
       "      <td>LATAM</td>\n",
       "      <td>LATAM-South</td>\n",
       "    </tr>\n",
       "  </tbody>\n",
       "</table>\n",
       "</div>"
      ],
      "text/plain": [
       "   row_id        order_id order_date   ship_date       ship_mode customer_id       product_id         category sub_category                        product_name    sales  quantity  discount  profit  shipping_cost order_priority vendor_code           vendor   customer_name           city             state   country  postal_code   segment market       region\n",
       "0       1  MX-2014-143658 2014-10-02  06/10/2014  Standard Class    SC-20575  OFF-LA-10002782  Office Supplies       Labels  Hon File Folder Labels, Adjustable  13.0800         3    0.0000  4.5600         1.0300         Medium      VE_001          Accenco    Sonia Cooley    Mexico City  Distrito Federal    Mexico          NaN  Consumer  LATAM  LATAM-North\n",
       "1       2  MX-2012-155047 2012-10-15  20/10/2012  Standard Class    KW-16570  FUR-FU-10004015        Furniture  Furnishings                Tenex Clock, Durable 252.1600         8    0.0000 90.7200        13.4500         Medium      VE_002  Ace Corporation  Kelly Williams  Dos Quebradas         Risaralda  Colombia          NaN  Consumer  LATAM  LATAM-South\n",
       "2       3  MX-2012-155047 2012-10-15  20/10/2012  Standard Class    KW-16570  FUR-BO-10002352        Furniture    Bookcases        Ikea 3-Shelf Cabinet, Mobile 193.2800         2    0.0000 54.0800         9.6300         Medium      VE_003             Nero  Kelly Williams  Dos Quebradas         Risaralda  Colombia          NaN  Consumer  LATAM  LATAM-South\n",
       "3       4  MX-2012-155047 2012-10-15  20/10/2012  Standard Class    KW-16570  OFF-BI-10004428  Office Supplies      Binders              Cardinal Binder, Clear  35.4400         4    0.0000  4.9600         1.3700         Medium      VE_004         Rushcorp  Kelly Williams  Dos Quebradas         Risaralda  Colombia          NaN  Consumer  LATAM  LATAM-South\n",
       "4       5  MX-2012-155047 2012-10-15  20/10/2012  Standard Class    KW-16570  OFF-AR-10004594  Office Supplies          Art         Sanford Canvas, Water Color  71.6000         2    0.0000 11.4400         3.7900         Medium      VE_005    Low Tide Corp  Kelly Williams  Dos Quebradas         Risaralda  Colombia          NaN  Consumer  LATAM  LATAM-South"
      ]
     },
     "execution_count": 7,
     "metadata": {},
     "output_type": "execute_result"
    }
   ],
   "source": [
    "sales.head()"
   ]
  },
  {
   "cell_type": "code",
   "execution_count": 8,
   "metadata": {},
   "outputs": [
    {
     "data": {
      "text/plain": [
       "(51290, 26)"
      ]
     },
     "execution_count": 8,
     "metadata": {},
     "output_type": "execute_result"
    }
   ],
   "source": [
    "sales.shape"
   ]
  },
  {
   "cell_type": "markdown",
   "metadata": {
    "deletable": false,
    "editable": false,
    "nbgrader": {
     "cell_type": "markdown",
     "checksum": "b4b28a18315198fbb29993ae18ba7a89",
     "grade": false,
     "grade_id": "cell-6b5b2fd3d2be44db",
     "locked": true,
     "schema_version": 3,
     "solution": false,
     "task": false
    }
   },
   "source": [
    "### Q1. Return the top three subcategories that yield the best percentage profit? Return output as list of sub-categories, list of percentage values (rounded upto 2 decimals)."
   ]
  },
  {
   "cell_type": "markdown",
   "metadata": {},
   "source": [
    "*-----------------------------------------------------------------------------*"
   ]
  },
  {
   "cell_type": "code",
   "execution_count": null,
   "metadata": {},
   "outputs": [],
   "source": [
    "sales.groupby(\"sub_category\")[\"profit\"].sum().nlargest(n=3)"
   ]
  },
  {
   "cell_type": "code",
   "execution_count": null,
   "metadata": {},
   "outputs": [],
   "source": [
    "sales.groupby(\"sub_category\")[\"profit\"].sum().nlargest(n=3).keys()"
   ]
  },
  {
   "cell_type": "code",
   "execution_count": null,
   "metadata": {},
   "outputs": [],
   "source": [
    "sales[\"profit\"].sum()"
   ]
  },
  {
   "cell_type": "code",
   "execution_count": null,
   "metadata": {},
   "outputs": [],
   "source": [
    "top3 = pd.DataFrame(sales.groupby(\"sub_category\", as_index=False)[\"profit\"].sum())\n",
    "top3"
   ]
  },
  {
   "cell_type": "code",
   "execution_count": null,
   "metadata": {},
   "outputs": [],
   "source": [
    "top3[\"percent\"] = (top3[\"profit\"] / sales[\"profit\"].sum()) * 100"
   ]
  },
  {
   "cell_type": "code",
   "execution_count": null,
   "metadata": {},
   "outputs": [],
   "source": [
    "top3"
   ]
  },
  {
   "cell_type": "code",
   "execution_count": null,
   "metadata": {},
   "outputs": [],
   "source": [
    "sub_categories = list(top3.sub_category)\n",
    "sub_categories"
   ]
  },
  {
   "cell_type": "markdown",
   "metadata": {},
   "source": [
    "*-----------------------------------------------------------------------------*"
   ]
  },
  {
   "cell_type": "code",
   "execution_count": null,
   "metadata": {
    "deletable": false,
    "nbgrader": {
     "cell_type": "code",
     "checksum": "b0611cf8ccdaf89c1e37d0f8c5c571d2",
     "grade": false,
     "grade_id": "cell-baeb2bd6b317d7c2",
     "locked": false,
     "schema_version": 3,
     "solution": true,
     "task": false
    }
   },
   "outputs": [],
   "source": [
    "def top_3_sales(data):\n",
    "        \n",
    "    # Group by sub_category and sum the profits for each sub_category\n",
    "    sub_category_profit = data.groupby(\"sub_category\")[\"profit\"].sum().reset_index()\n",
    "    \n",
    "    # Sort the subcategories by profit in descending order and select the top 3\n",
    "    top3 = sub_category_profit.nlargest(3, \"profit\")\n",
    "    \n",
    "    # Calculate the percentage profit for each subcategory\n",
    "    total_profit = sub_category_profit[\"profit\"].sum()\n",
    "    top3[\"percent\"] = (top3[\"profit\"] / total_profit * 100).round(2)\n",
    "    \n",
    "    # Extract the subcategories and their corresponding percentage values\n",
    "    sub_categories = top3[\"sub_category\"].tolist()\n",
    "    perc_values = top3[\"percent\"].tolist()\n",
    "    \n",
    "    return sub_categories, perc_values"
   ]
  },
  {
   "cell_type": "code",
   "execution_count": null,
   "metadata": {
    "deletable": false,
    "editable": false,
    "nbgrader": {
     "cell_type": "code",
     "checksum": "fc22b9a2a52695f7c762df3533f2d94f",
     "grade": true,
     "grade_id": "cell-3826b4716b6578dd",
     "locked": true,
     "points": 5,
     "schema_version": 3,
     "solution": false,
     "task": false
    }
   },
   "outputs": [],
   "source": [
    "assert len(top_3_sales(data=sales)[0])==3,\"Please include list of top 3 sub-categories only\"\n",
    "assert type(top_3_sales(data=sales)[0])==list,\"Output type should be list only.\""
   ]
  },
  {
   "cell_type": "code",
   "execution_count": null,
   "metadata": {
    "deletable": false,
    "editable": false,
    "nbgrader": {
     "cell_type": "code",
     "checksum": "0ec84391fd8515c6538cc9f5e15665d0",
     "grade": true,
     "grade_id": "cell-a849b08051e5b706",
     "locked": true,
     "points": 5,
     "schema_version": 3,
     "solution": false,
     "task": false
    }
   },
   "outputs": [],
   "source": [
    "# autograder cells , please do not alter/ delete /edit this cell"
   ]
  },
  {
   "cell_type": "markdown",
   "metadata": {
    "deletable": false,
    "editable": false,
    "nbgrader": {
     "cell_type": "markdown",
     "checksum": "f68e94b9aeb4f384d9d25f0f84076002",
     "grade": false,
     "grade_id": "cell-3f944e704aa0253f",
     "locked": true,
     "schema_version": 3,
     "solution": false,
     "task": false
    }
   },
   "source": [
    "### Q2.\tWhich city has the highest sales ?"
   ]
  },
  {
   "cell_type": "markdown",
   "metadata": {},
   "source": [
    "*-----------------------------------------------------------------------------*"
   ]
  },
  {
   "cell_type": "code",
   "execution_count": null,
   "metadata": {},
   "outputs": [],
   "source": [
    "sales.groupby(\"city\", as_index=False)[\"sales\"].sum().sort_values(by=\"sales\", ascending=False)"
   ]
  },
  {
   "cell_type": "code",
   "execution_count": null,
   "metadata": {},
   "outputs": [],
   "source": [
    "df1 = sales.groupby(\"city\", as_index=False)[\"sales\"].sum().sort_values(by=\"sales\", ascending=False)\n",
    "df1"
   ]
  },
  {
   "cell_type": "code",
   "execution_count": null,
   "metadata": {},
   "outputs": [],
   "source": [
    "df1.iloc[0:1][\"city\"]"
   ]
  },
  {
   "cell_type": "code",
   "execution_count": null,
   "metadata": {},
   "outputs": [],
   "source": [
    "df1.iloc[0:1][\"city\"].astype(\"str\")"
   ]
  },
  {
   "cell_type": "code",
   "execution_count": null,
   "metadata": {},
   "outputs": [],
   "source": [
    "df1"
   ]
  },
  {
   "cell_type": "markdown",
   "metadata": {},
   "source": [
    "*-----------------------------------------------------------------------------*"
   ]
  },
  {
   "cell_type": "code",
   "execution_count": null,
   "metadata": {
    "deletable": false,
    "nbgrader": {
     "cell_type": "code",
     "checksum": "ea592c47a31e9184ea6c33f0c888c7f5",
     "grade": false,
     "grade_id": "cell-d9f21a4f52e97f2d",
     "locked": false,
     "schema_version": 3,
     "solution": true,
     "task": false
    }
   },
   "outputs": [],
   "source": [
    "def top_city_sales(data):\n",
    "    \n",
    "    df1 = data.groupby(\"city\", as_index=False)[\"sales\"].sum().sort_values(by=\"sales\", ascending=False)\n",
    "    \n",
    "    return df1['city'].values[0]"
   ]
  },
  {
   "cell_type": "code",
   "execution_count": null,
   "metadata": {
    "deletable": false,
    "editable": false,
    "nbgrader": {
     "cell_type": "code",
     "checksum": "46f70b536d262181c73777e8639be399",
     "grade": true,
     "grade_id": "cell-a2adc54841783950",
     "locked": true,
     "points": 5,
     "schema_version": 3,
     "solution": false,
     "task": false
    }
   },
   "outputs": [],
   "source": [
    "assert type(top_city_sales(data=sales))==str,\"Please make sure that output is in string format\""
   ]
  },
  {
   "cell_type": "code",
   "execution_count": null,
   "metadata": {
    "deletable": false,
    "editable": false,
    "nbgrader": {
     "cell_type": "code",
     "checksum": "cb44b7382ba801f6d04868732229de9a",
     "grade": true,
     "grade_id": "cell-4e536adeb5512294",
     "locked": true,
     "points": 5,
     "schema_version": 3,
     "solution": false,
     "task": false
    }
   },
   "outputs": [],
   "source": [
    "# autograder cells , please do not alter/ delete /edit this cell"
   ]
  },
  {
   "cell_type": "markdown",
   "metadata": {
    "deletable": false,
    "editable": false,
    "nbgrader": {
     "cell_type": "markdown",
     "checksum": "b59ef2f43e0287605dc0cb93c5092f8b",
     "grade": false,
     "grade_id": "cell-1e85520473c1a994",
     "locked": true,
     "schema_version": 3,
     "solution": false,
     "task": false
    }
   },
   "source": [
    "### Q.3. In year 2013 , which country has reported lowest profit ? \n",
    "**(Calculate order year from order_date column.)**"
   ]
  },
  {
   "cell_type": "markdown",
   "metadata": {},
   "source": [
    "*-----------------------------------------------------------------------------*"
   ]
  },
  {
   "cell_type": "code",
   "execution_count": null,
   "metadata": {},
   "outputs": [],
   "source": [
    "sales.head()"
   ]
  },
  {
   "cell_type": "code",
   "execution_count": null,
   "metadata": {},
   "outputs": [],
   "source": [
    "sales[\"year\"] = sales[\"order_date\"].dt.year"
   ]
  },
  {
   "cell_type": "code",
   "execution_count": null,
   "metadata": {},
   "outputs": [],
   "source": [
    "sales.head()"
   ]
  },
  {
   "cell_type": "code",
   "execution_count": null,
   "metadata": {},
   "outputs": [],
   "source": [
    "year2013 = sales[sales[\"year\"] == 2013]\n",
    "year2013"
   ]
  },
  {
   "cell_type": "code",
   "execution_count": null,
   "metadata": {},
   "outputs": [],
   "source": [
    "year2013.describe()"
   ]
  },
  {
   "cell_type": "code",
   "execution_count": null,
   "metadata": {},
   "outputs": [],
   "source": [
    "year2013[\"profit\"].min()"
   ]
  },
  {
   "cell_type": "code",
   "execution_count": null,
   "metadata": {},
   "outputs": [],
   "source": [
    "countrymin = year2013[\"country\"][year2013[\"profit\"] == year2013[\"profit\"].min()]\n",
    "countrymin"
   ]
  },
  {
   "cell_type": "code",
   "execution_count": null,
   "metadata": {},
   "outputs": [],
   "source": [
    "countrymin.values[0]"
   ]
  },
  {
   "cell_type": "markdown",
   "metadata": {},
   "source": [
    "*-----------------------------------------------------------------------------*"
   ]
  },
  {
   "cell_type": "code",
   "execution_count": null,
   "metadata": {
    "deletable": false,
    "nbgrader": {
     "cell_type": "code",
     "checksum": "e8dec1564573ef49088aedc4f25a8aea",
     "grade": false,
     "grade_id": "cell-d953dc7d357bedac",
     "locked": false,
     "schema_version": 3,
     "solution": true,
     "task": false
    }
   },
   "outputs": [],
   "source": [
    "def lowest_profit_country(data):\n",
    "    \n",
    "    # Filter the data to include only records from the year 2013\n",
    "    year2013_data = data[data[\"order_date\"].dt.year == 2013]\n",
    "    \n",
    "    # Find the row with the lowest profit in the year 2013\n",
    "    lowest_profit_row = year2013_data[year2013_data[\"profit\"] == year2013_data[\"profit\"].min()]\n",
    "    \n",
    "    # Extract the country from the row with the lowest profit\n",
    "    country_with_lowest_profit = lowest_profit_row[\"country\"].values[0]\n",
    "    \n",
    "    return country_with_lowest_profit"
   ]
  },
  {
   "cell_type": "code",
   "execution_count": null,
   "metadata": {
    "deletable": false,
    "editable": false,
    "nbgrader": {
     "cell_type": "code",
     "checksum": "ad0caf049565608c85693afb7dc6dcf2",
     "grade": true,
     "grade_id": "cell-c56e95301db9434c",
     "locked": true,
     "points": 5,
     "schema_version": 3,
     "solution": false,
     "task": false
    }
   },
   "outputs": [],
   "source": [
    "assert type(lowest_profit_country(data=sales))==str,\"Please make sure that output is in string format\""
   ]
  },
  {
   "cell_type": "code",
   "execution_count": null,
   "metadata": {
    "deletable": false,
    "editable": false,
    "nbgrader": {
     "cell_type": "code",
     "checksum": "da1c700efb7f20ce1690f575364aa576",
     "grade": true,
     "grade_id": "cell-9751a68aabf608d7",
     "locked": true,
     "points": 5,
     "schema_version": 3,
     "solution": false,
     "task": false
    }
   },
   "outputs": [],
   "source": [
    "# autograder cells , please do not alter/ delete /edit this cell"
   ]
  },
  {
   "cell_type": "markdown",
   "metadata": {},
   "source": [
    "### Q.4. For which market segment we could observe 2nd highest discount ?"
   ]
  },
  {
   "cell_type": "markdown",
   "metadata": {},
   "source": [
    "*-----------------------------------------------------------------------------*"
   ]
  },
  {
   "cell_type": "code",
   "execution_count": null,
   "metadata": {},
   "outputs": [],
   "source": [
    "sales.head()"
   ]
  },
  {
   "cell_type": "code",
   "execution_count": null,
   "metadata": {},
   "outputs": [],
   "source": [
    "market_segment_discount = sales.groupby(\"market\")[\"discount\"].count()\n",
    "market_segment_discount"
   ]
  },
  {
   "cell_type": "code",
   "execution_count": null,
   "metadata": {},
   "outputs": [],
   "source": [
    "# Group the data by \"market\" and calculate the total discount for each segment\n",
    "market_segment_discount = sales.groupby(\"market\")[\"discount\"].sum().reset_index()\n",
    "market_segment_discount"
   ]
  },
  {
   "cell_type": "code",
   "execution_count": null,
   "metadata": {},
   "outputs": [],
   "source": [
    "# Sort the segments by discount in descending order\n",
    "sorted_segments = market_segment_discount.sort_values(by=\"discount\", ascending=False)\n",
    "sorted_segments"
   ]
  },
  {
   "cell_type": "code",
   "execution_count": null,
   "metadata": {},
   "outputs": [],
   "source": [
    "# Select the second row (assuming at least two different segments exist)\n",
    "second_highest_discount_segment = sorted_segments.iloc[1][\"market\"]\n",
    "second_highest_discount_segment"
   ]
  },
  {
   "cell_type": "markdown",
   "metadata": {},
   "source": [
    "*-----------------------------------------------------------------------------*"
   ]
  },
  {
   "cell_type": "code",
   "execution_count": null,
   "metadata": {
    "deletable": false,
    "nbgrader": {
     "cell_type": "code",
     "checksum": "b0c790a2527a4a0ea8ad4dc169d842ad",
     "grade": false,
     "grade_id": "cell-2dcfa33d66fab066",
     "locked": false,
     "schema_version": 3,
     "solution": true,
     "task": false
    }
   },
   "outputs": [],
   "source": [
    "def second_highest_discount_market(data):\n",
    "    market_segment_discount = data.groupby(\"market\")[\"discount\"].sum().reset_index()\n",
    "    sorted_segments = market_segment_discount.sort_values(by=\"discount\", ascending=False)\n",
    "    second_highest_discount_segment = sorted_segments.iloc[1][\"market\"]\n",
    "    \n",
    "    return second_highest_discount_segment"
   ]
  },
  {
   "cell_type": "code",
   "execution_count": null,
   "metadata": {
    "deletable": false,
    "editable": false,
    "nbgrader": {
     "cell_type": "code",
     "checksum": "e25f91e5fae95abfd97716c0f1ea9c14",
     "grade": true,
     "grade_id": "cell-e89b4f5212d9af8c",
     "locked": true,
     "points": 5,
     "schema_version": 3,
     "solution": false,
     "task": false
    }
   },
   "outputs": [],
   "source": [
    "assert type(second_highest_discount_market(data=sales))==str,\"Please make sure that output is in string format\""
   ]
  },
  {
   "cell_type": "code",
   "execution_count": null,
   "metadata": {
    "deletable": false,
    "editable": false,
    "nbgrader": {
     "cell_type": "code",
     "checksum": "2e3e9a62623a9aa68d726ce7885d2be5",
     "grade": true,
     "grade_id": "cell-e9bfdf6a222a9834",
     "locked": true,
     "points": 5,
     "schema_version": 3,
     "solution": false,
     "task": false
    }
   },
   "outputs": [],
   "source": [
    "# autograder cells , please do not alter/ delete /edit this cell"
   ]
  },
  {
   "cell_type": "markdown",
   "metadata": {
    "deletable": false,
    "editable": false,
    "nbgrader": {
     "cell_type": "markdown",
     "checksum": "63c0f51652abb507895ce8a14a33605f",
     "grade": false,
     "grade_id": "cell-c3bbdffbbf5b01d3",
     "locked": true,
     "schema_version": 3,
     "solution": false,
     "task": false
    }
   },
   "source": [
    "### Q5.\tWhich product was sold the most (in terms of quantity) within the subcategory ‘Copiers’ and how many units were sold? Return output as a tuple (product name, quantities sold)"
   ]
  },
  {
   "cell_type": "markdown",
   "metadata": {},
   "source": [
    "*-----------------------------------------------------------------------------*"
   ]
  },
  {
   "cell_type": "code",
   "execution_count": 9,
   "metadata": {},
   "outputs": [
    {
     "data": {
      "text/html": [
       "<div>\n",
       "<style scoped>\n",
       "    .dataframe tbody tr th:only-of-type {\n",
       "        vertical-align: middle;\n",
       "    }\n",
       "\n",
       "    .dataframe tbody tr th {\n",
       "        vertical-align: top;\n",
       "    }\n",
       "\n",
       "    .dataframe thead th {\n",
       "        text-align: right;\n",
       "    }\n",
       "</style>\n",
       "<table border=\"1\" class=\"dataframe\">\n",
       "  <thead>\n",
       "    <tr style=\"text-align: right;\">\n",
       "      <th></th>\n",
       "      <th>row_id</th>\n",
       "      <th>order_id</th>\n",
       "      <th>order_date</th>\n",
       "      <th>ship_date</th>\n",
       "      <th>ship_mode</th>\n",
       "      <th>customer_id</th>\n",
       "      <th>product_id</th>\n",
       "      <th>category</th>\n",
       "      <th>sub_category</th>\n",
       "      <th>product_name</th>\n",
       "      <th>sales</th>\n",
       "      <th>quantity</th>\n",
       "      <th>discount</th>\n",
       "      <th>profit</th>\n",
       "      <th>shipping_cost</th>\n",
       "      <th>order_priority</th>\n",
       "      <th>vendor_code</th>\n",
       "      <th>vendor</th>\n",
       "      <th>customer_name</th>\n",
       "      <th>city</th>\n",
       "      <th>state</th>\n",
       "      <th>country</th>\n",
       "      <th>postal_code</th>\n",
       "      <th>segment</th>\n",
       "      <th>market</th>\n",
       "      <th>region</th>\n",
       "    </tr>\n",
       "  </thead>\n",
       "  <tbody>\n",
       "    <tr>\n",
       "      <th>0</th>\n",
       "      <td>1</td>\n",
       "      <td>MX-2014-143658</td>\n",
       "      <td>2014-10-02</td>\n",
       "      <td>06/10/2014</td>\n",
       "      <td>Standard Class</td>\n",
       "      <td>SC-20575</td>\n",
       "      <td>OFF-LA-10002782</td>\n",
       "      <td>Office Supplies</td>\n",
       "      <td>Labels</td>\n",
       "      <td>Hon File Folder Labels, Adjustable</td>\n",
       "      <td>13.0800</td>\n",
       "      <td>3</td>\n",
       "      <td>0.0000</td>\n",
       "      <td>4.5600</td>\n",
       "      <td>1.0300</td>\n",
       "      <td>Medium</td>\n",
       "      <td>VE_001</td>\n",
       "      <td>Accenco</td>\n",
       "      <td>Sonia Cooley</td>\n",
       "      <td>Mexico City</td>\n",
       "      <td>Distrito Federal</td>\n",
       "      <td>Mexico</td>\n",
       "      <td>NaN</td>\n",
       "      <td>Consumer</td>\n",
       "      <td>LATAM</td>\n",
       "      <td>LATAM-North</td>\n",
       "    </tr>\n",
       "    <tr>\n",
       "      <th>1</th>\n",
       "      <td>2</td>\n",
       "      <td>MX-2012-155047</td>\n",
       "      <td>2012-10-15</td>\n",
       "      <td>20/10/2012</td>\n",
       "      <td>Standard Class</td>\n",
       "      <td>KW-16570</td>\n",
       "      <td>FUR-FU-10004015</td>\n",
       "      <td>Furniture</td>\n",
       "      <td>Furnishings</td>\n",
       "      <td>Tenex Clock, Durable</td>\n",
       "      <td>252.1600</td>\n",
       "      <td>8</td>\n",
       "      <td>0.0000</td>\n",
       "      <td>90.7200</td>\n",
       "      <td>13.4500</td>\n",
       "      <td>Medium</td>\n",
       "      <td>VE_002</td>\n",
       "      <td>Ace Corporation</td>\n",
       "      <td>Kelly Williams</td>\n",
       "      <td>Dos Quebradas</td>\n",
       "      <td>Risaralda</td>\n",
       "      <td>Colombia</td>\n",
       "      <td>NaN</td>\n",
       "      <td>Consumer</td>\n",
       "      <td>LATAM</td>\n",
       "      <td>LATAM-South</td>\n",
       "    </tr>\n",
       "    <tr>\n",
       "      <th>2</th>\n",
       "      <td>3</td>\n",
       "      <td>MX-2012-155047</td>\n",
       "      <td>2012-10-15</td>\n",
       "      <td>20/10/2012</td>\n",
       "      <td>Standard Class</td>\n",
       "      <td>KW-16570</td>\n",
       "      <td>FUR-BO-10002352</td>\n",
       "      <td>Furniture</td>\n",
       "      <td>Bookcases</td>\n",
       "      <td>Ikea 3-Shelf Cabinet, Mobile</td>\n",
       "      <td>193.2800</td>\n",
       "      <td>2</td>\n",
       "      <td>0.0000</td>\n",
       "      <td>54.0800</td>\n",
       "      <td>9.6300</td>\n",
       "      <td>Medium</td>\n",
       "      <td>VE_003</td>\n",
       "      <td>Nero</td>\n",
       "      <td>Kelly Williams</td>\n",
       "      <td>Dos Quebradas</td>\n",
       "      <td>Risaralda</td>\n",
       "      <td>Colombia</td>\n",
       "      <td>NaN</td>\n",
       "      <td>Consumer</td>\n",
       "      <td>LATAM</td>\n",
       "      <td>LATAM-South</td>\n",
       "    </tr>\n",
       "    <tr>\n",
       "      <th>3</th>\n",
       "      <td>4</td>\n",
       "      <td>MX-2012-155047</td>\n",
       "      <td>2012-10-15</td>\n",
       "      <td>20/10/2012</td>\n",
       "      <td>Standard Class</td>\n",
       "      <td>KW-16570</td>\n",
       "      <td>OFF-BI-10004428</td>\n",
       "      <td>Office Supplies</td>\n",
       "      <td>Binders</td>\n",
       "      <td>Cardinal Binder, Clear</td>\n",
       "      <td>35.4400</td>\n",
       "      <td>4</td>\n",
       "      <td>0.0000</td>\n",
       "      <td>4.9600</td>\n",
       "      <td>1.3700</td>\n",
       "      <td>Medium</td>\n",
       "      <td>VE_004</td>\n",
       "      <td>Rushcorp</td>\n",
       "      <td>Kelly Williams</td>\n",
       "      <td>Dos Quebradas</td>\n",
       "      <td>Risaralda</td>\n",
       "      <td>Colombia</td>\n",
       "      <td>NaN</td>\n",
       "      <td>Consumer</td>\n",
       "      <td>LATAM</td>\n",
       "      <td>LATAM-South</td>\n",
       "    </tr>\n",
       "    <tr>\n",
       "      <th>4</th>\n",
       "      <td>5</td>\n",
       "      <td>MX-2012-155047</td>\n",
       "      <td>2012-10-15</td>\n",
       "      <td>20/10/2012</td>\n",
       "      <td>Standard Class</td>\n",
       "      <td>KW-16570</td>\n",
       "      <td>OFF-AR-10004594</td>\n",
       "      <td>Office Supplies</td>\n",
       "      <td>Art</td>\n",
       "      <td>Sanford Canvas, Water Color</td>\n",
       "      <td>71.6000</td>\n",
       "      <td>2</td>\n",
       "      <td>0.0000</td>\n",
       "      <td>11.4400</td>\n",
       "      <td>3.7900</td>\n",
       "      <td>Medium</td>\n",
       "      <td>VE_005</td>\n",
       "      <td>Low Tide Corp</td>\n",
       "      <td>Kelly Williams</td>\n",
       "      <td>Dos Quebradas</td>\n",
       "      <td>Risaralda</td>\n",
       "      <td>Colombia</td>\n",
       "      <td>NaN</td>\n",
       "      <td>Consumer</td>\n",
       "      <td>LATAM</td>\n",
       "      <td>LATAM-South</td>\n",
       "    </tr>\n",
       "  </tbody>\n",
       "</table>\n",
       "</div>"
      ],
      "text/plain": [
       "   row_id        order_id order_date   ship_date       ship_mode customer_id       product_id         category sub_category                        product_name    sales  quantity  discount  profit  shipping_cost order_priority vendor_code           vendor   customer_name           city             state   country  postal_code   segment market       region\n",
       "0       1  MX-2014-143658 2014-10-02  06/10/2014  Standard Class    SC-20575  OFF-LA-10002782  Office Supplies       Labels  Hon File Folder Labels, Adjustable  13.0800         3    0.0000  4.5600         1.0300         Medium      VE_001          Accenco    Sonia Cooley    Mexico City  Distrito Federal    Mexico          NaN  Consumer  LATAM  LATAM-North\n",
       "1       2  MX-2012-155047 2012-10-15  20/10/2012  Standard Class    KW-16570  FUR-FU-10004015        Furniture  Furnishings                Tenex Clock, Durable 252.1600         8    0.0000 90.7200        13.4500         Medium      VE_002  Ace Corporation  Kelly Williams  Dos Quebradas         Risaralda  Colombia          NaN  Consumer  LATAM  LATAM-South\n",
       "2       3  MX-2012-155047 2012-10-15  20/10/2012  Standard Class    KW-16570  FUR-BO-10002352        Furniture    Bookcases        Ikea 3-Shelf Cabinet, Mobile 193.2800         2    0.0000 54.0800         9.6300         Medium      VE_003             Nero  Kelly Williams  Dos Quebradas         Risaralda  Colombia          NaN  Consumer  LATAM  LATAM-South\n",
       "3       4  MX-2012-155047 2012-10-15  20/10/2012  Standard Class    KW-16570  OFF-BI-10004428  Office Supplies      Binders              Cardinal Binder, Clear  35.4400         4    0.0000  4.9600         1.3700         Medium      VE_004         Rushcorp  Kelly Williams  Dos Quebradas         Risaralda  Colombia          NaN  Consumer  LATAM  LATAM-South\n",
       "4       5  MX-2012-155047 2012-10-15  20/10/2012  Standard Class    KW-16570  OFF-AR-10004594  Office Supplies          Art         Sanford Canvas, Water Color  71.6000         2    0.0000 11.4400         3.7900         Medium      VE_005    Low Tide Corp  Kelly Williams  Dos Quebradas         Risaralda  Colombia          NaN  Consumer  LATAM  LATAM-South"
      ]
     },
     "execution_count": 9,
     "metadata": {},
     "output_type": "execute_result"
    }
   ],
   "source": [
    "sales.head()"
   ]
  },
  {
   "cell_type": "code",
   "execution_count": 10,
   "metadata": {},
   "outputs": [
    {
     "data": {
      "text/html": [
       "<div>\n",
       "<style scoped>\n",
       "    .dataframe tbody tr th:only-of-type {\n",
       "        vertical-align: middle;\n",
       "    }\n",
       "\n",
       "    .dataframe tbody tr th {\n",
       "        vertical-align: top;\n",
       "    }\n",
       "\n",
       "    .dataframe thead th {\n",
       "        text-align: right;\n",
       "    }\n",
       "</style>\n",
       "<table border=\"1\" class=\"dataframe\">\n",
       "  <thead>\n",
       "    <tr style=\"text-align: right;\">\n",
       "      <th></th>\n",
       "      <th>row_id</th>\n",
       "      <th>order_id</th>\n",
       "      <th>order_date</th>\n",
       "      <th>ship_date</th>\n",
       "      <th>ship_mode</th>\n",
       "      <th>customer_id</th>\n",
       "      <th>product_id</th>\n",
       "      <th>category</th>\n",
       "      <th>sub_category</th>\n",
       "      <th>product_name</th>\n",
       "      <th>sales</th>\n",
       "      <th>quantity</th>\n",
       "      <th>discount</th>\n",
       "      <th>profit</th>\n",
       "      <th>shipping_cost</th>\n",
       "      <th>order_priority</th>\n",
       "      <th>vendor_code</th>\n",
       "      <th>vendor</th>\n",
       "      <th>customer_name</th>\n",
       "      <th>city</th>\n",
       "      <th>state</th>\n",
       "      <th>country</th>\n",
       "      <th>postal_code</th>\n",
       "      <th>segment</th>\n",
       "      <th>market</th>\n",
       "      <th>region</th>\n",
       "    </tr>\n",
       "  </thead>\n",
       "  <tbody>\n",
       "    <tr>\n",
       "      <th>25</th>\n",
       "      <td>26</td>\n",
       "      <td>MX-2014-120607</td>\n",
       "      <td>2014-06-18</td>\n",
       "      <td>25/06/2014</td>\n",
       "      <td>Standard Class</td>\n",
       "      <td>SP-20650</td>\n",
       "      <td>TEC-CO-10003541</td>\n",
       "      <td>Technology</td>\n",
       "      <td>Copiers</td>\n",
       "      <td>HP Copy Machine, Color</td>\n",
       "      <td>326.1863</td>\n",
       "      <td>2</td>\n",
       "      <td>0.0020</td>\n",
       "      <td>64.7063</td>\n",
       "      <td>16.7800</td>\n",
       "      <td>Medium</td>\n",
       "      <td>VE_011</td>\n",
       "      <td>Energy Systems</td>\n",
       "      <td>Stephanie Phelps</td>\n",
       "      <td>Coyoacán</td>\n",
       "      <td>Distrito Federal</td>\n",
       "      <td>Mexico</td>\n",
       "      <td>NaN</td>\n",
       "      <td>Corporate</td>\n",
       "      <td>LATAM</td>\n",
       "      <td>LATAM-North</td>\n",
       "    </tr>\n",
       "    <tr>\n",
       "      <th>32</th>\n",
       "      <td>33</td>\n",
       "      <td>US-2013-167129</td>\n",
       "      <td>2013-05-24</td>\n",
       "      <td>31/05/2013</td>\n",
       "      <td>Standard Class</td>\n",
       "      <td>SC-20050</td>\n",
       "      <td>TEC-CO-10004904</td>\n",
       "      <td>Technology</td>\n",
       "      <td>Copiers</td>\n",
       "      <td>Sharp Fax Machine, Digital</td>\n",
       "      <td>941.7782</td>\n",
       "      <td>8</td>\n",
       "      <td>0.4020</td>\n",
       "      <td>-601.7418</td>\n",
       "      <td>80.2800</td>\n",
       "      <td>Medium</td>\n",
       "      <td>VE_008</td>\n",
       "      <td>Fireworth</td>\n",
       "      <td>Sample Company A</td>\n",
       "      <td>Tegucigalpa</td>\n",
       "      <td>Francisco Morazán</td>\n",
       "      <td>Honduras</td>\n",
       "      <td>NaN</td>\n",
       "      <td>Home Office</td>\n",
       "      <td>LATAM</td>\n",
       "      <td>LATAM-Central</td>\n",
       "    </tr>\n",
       "    <tr>\n",
       "      <th>47</th>\n",
       "      <td>48</td>\n",
       "      <td>US-2012-151372</td>\n",
       "      <td>2012-04-27</td>\n",
       "      <td>02/05/2012</td>\n",
       "      <td>Standard Class</td>\n",
       "      <td>AS-10240</td>\n",
       "      <td>TEC-CO-10001756</td>\n",
       "      <td>Technology</td>\n",
       "      <td>Copiers</td>\n",
       "      <td>Canon Personal Copier, Color</td>\n",
       "      <td>153.4075</td>\n",
       "      <td>2</td>\n",
       "      <td>0.2020</td>\n",
       "      <td>36.1275</td>\n",
       "      <td>14.2500</td>\n",
       "      <td>Medium</td>\n",
       "      <td>VE_008</td>\n",
       "      <td>Fireworth</td>\n",
       "      <td>Alan Shonely</td>\n",
       "      <td>Santo Domingo</td>\n",
       "      <td>Santo Domingo</td>\n",
       "      <td>Dominican Republic</td>\n",
       "      <td>NaN</td>\n",
       "      <td>Consumer</td>\n",
       "      <td>LATAM</td>\n",
       "      <td>Caribbean</td>\n",
       "    </tr>\n",
       "    <tr>\n",
       "      <th>51</th>\n",
       "      <td>52</td>\n",
       "      <td>US-2011-150987</td>\n",
       "      <td>2011-04-02</td>\n",
       "      <td>06/04/2011</td>\n",
       "      <td>Second Class</td>\n",
       "      <td>DW-13480</td>\n",
       "      <td>TEC-CO-10003142</td>\n",
       "      <td>Technology</td>\n",
       "      <td>Copiers</td>\n",
       "      <td>Hewlett Fax and Copier, Laser</td>\n",
       "      <td>230.6725</td>\n",
       "      <td>3</td>\n",
       "      <td>0.4020</td>\n",
       "      <td>-85.6475</td>\n",
       "      <td>9.8100</td>\n",
       "      <td>Medium</td>\n",
       "      <td>VE_011</td>\n",
       "      <td>Energy Systems</td>\n",
       "      <td>Dianna Wilson</td>\n",
       "      <td>Tegucigalpa</td>\n",
       "      <td>Francisco Morazán</td>\n",
       "      <td>Honduras</td>\n",
       "      <td>NaN</td>\n",
       "      <td>Home Office</td>\n",
       "      <td>LATAM</td>\n",
       "      <td>LATAM-Central</td>\n",
       "    </tr>\n",
       "    <tr>\n",
       "      <th>52</th>\n",
       "      <td>53</td>\n",
       "      <td>US-2011-150987</td>\n",
       "      <td>2011-04-02</td>\n",
       "      <td>06/04/2011</td>\n",
       "      <td>Second Class</td>\n",
       "      <td>DW-13480</td>\n",
       "      <td>TEC-CO-10001756</td>\n",
       "      <td>Technology</td>\n",
       "      <td>Copiers</td>\n",
       "      <td>Canon Personal Copier, Color</td>\n",
       "      <td>172.4393</td>\n",
       "      <td>3</td>\n",
       "      <td>0.4020</td>\n",
       "      <td>-3.4807</td>\n",
       "      <td>5.5700</td>\n",
       "      <td>Medium</td>\n",
       "      <td>VE_015</td>\n",
       "      <td>Phantomnnite</td>\n",
       "      <td>Dianna Wilson</td>\n",
       "      <td>Tegucigalpa</td>\n",
       "      <td>Francisco Morazán</td>\n",
       "      <td>Honduras</td>\n",
       "      <td>NaN</td>\n",
       "      <td>Home Office</td>\n",
       "      <td>LATAM</td>\n",
       "      <td>LATAM-Central</td>\n",
       "    </tr>\n",
       "    <tr>\n",
       "      <th>...</th>\n",
       "      <td>...</td>\n",
       "      <td>...</td>\n",
       "      <td>...</td>\n",
       "      <td>...</td>\n",
       "      <td>...</td>\n",
       "      <td>...</td>\n",
       "      <td>...</td>\n",
       "      <td>...</td>\n",
       "      <td>...</td>\n",
       "      <td>...</td>\n",
       "      <td>...</td>\n",
       "      <td>...</td>\n",
       "      <td>...</td>\n",
       "      <td>...</td>\n",
       "      <td>...</td>\n",
       "      <td>...</td>\n",
       "      <td>...</td>\n",
       "      <td>...</td>\n",
       "      <td>...</td>\n",
       "      <td>...</td>\n",
       "      <td>...</td>\n",
       "      <td>...</td>\n",
       "      <td>...</td>\n",
       "      <td>...</td>\n",
       "      <td>...</td>\n",
       "      <td>...</td>\n",
       "    </tr>\n",
       "    <tr>\n",
       "      <th>51196</th>\n",
       "      <td>51197</td>\n",
       "      <td>NI-2011-3090</td>\n",
       "      <td>2011-04-08</td>\n",
       "      <td>10/04/2011</td>\n",
       "      <td>Second Class</td>\n",
       "      <td>JH-5910</td>\n",
       "      <td>TEC-SHA-10001413</td>\n",
       "      <td>Technology</td>\n",
       "      <td>Copiers</td>\n",
       "      <td>Sharp Personal Copier, Color</td>\n",
       "      <td>218.5920</td>\n",
       "      <td>6</td>\n",
       "      <td>0.7000</td>\n",
       "      <td>-313.4880</td>\n",
       "      <td>8.7300</td>\n",
       "      <td>Medium</td>\n",
       "      <td>VE_064</td>\n",
       "      <td>Chief Industries</td>\n",
       "      <td>Jonathan Howell</td>\n",
       "      <td>L'viv</td>\n",
       "      <td>L'viv</td>\n",
       "      <td>Ukraine</td>\n",
       "      <td>NaN</td>\n",
       "      <td>Consumer</td>\n",
       "      <td>EMEA</td>\n",
       "      <td>EMEA</td>\n",
       "    </tr>\n",
       "    <tr>\n",
       "      <th>51216</th>\n",
       "      <td>51217</td>\n",
       "      <td>GG-2014-4090</td>\n",
       "      <td>2014-08-11</td>\n",
       "      <td>16/08/2014</td>\n",
       "      <td>Standard Class</td>\n",
       "      <td>SJ-10215</td>\n",
       "      <td>TEC-HEW-10004833</td>\n",
       "      <td>Technology</td>\n",
       "      <td>Copiers</td>\n",
       "      <td>Hewlett Ink, Color</td>\n",
       "      <td>600.4800</td>\n",
       "      <td>4</td>\n",
       "      <td>0.0000</td>\n",
       "      <td>84.0000</td>\n",
       "      <td>44.9200</td>\n",
       "      <td>Medium</td>\n",
       "      <td>VE_052</td>\n",
       "      <td>Trekords</td>\n",
       "      <td>Sarah Jordon</td>\n",
       "      <td>Mallawi</td>\n",
       "      <td>Al Minya</td>\n",
       "      <td>Egypt</td>\n",
       "      <td>NaN</td>\n",
       "      <td>Consumer</td>\n",
       "      <td>Africa</td>\n",
       "      <td>Africa</td>\n",
       "    </tr>\n",
       "    <tr>\n",
       "      <th>51251</th>\n",
       "      <td>51252</td>\n",
       "      <td>IZ-2012-3720</td>\n",
       "      <td>2012-10-17</td>\n",
       "      <td>21/10/2012</td>\n",
       "      <td>Standard Class</td>\n",
       "      <td>PB-9150</td>\n",
       "      <td>TEC-SHA-10001413</td>\n",
       "      <td>Technology</td>\n",
       "      <td>Copiers</td>\n",
       "      <td>Sharp Personal Copier, Color</td>\n",
       "      <td>121.4400</td>\n",
       "      <td>1</td>\n",
       "      <td>0.0000</td>\n",
       "      <td>32.7600</td>\n",
       "      <td>5.2700</td>\n",
       "      <td>Medium</td>\n",
       "      <td>VE_052</td>\n",
       "      <td>Trekords</td>\n",
       "      <td>Philip Brown</td>\n",
       "      <td>Lagos</td>\n",
       "      <td>Lagos</td>\n",
       "      <td>Nigeria</td>\n",
       "      <td>NaN</td>\n",
       "      <td>Consumer</td>\n",
       "      <td>Africa</td>\n",
       "      <td>Africa</td>\n",
       "    </tr>\n",
       "    <tr>\n",
       "      <th>51272</th>\n",
       "      <td>51273</td>\n",
       "      <td>TU-2012-1600</td>\n",
       "      <td>2012-02-15</td>\n",
       "      <td>19/02/2012</td>\n",
       "      <td>Standard Class</td>\n",
       "      <td>AH-195</td>\n",
       "      <td>TEC-HEW-10004522</td>\n",
       "      <td>Technology</td>\n",
       "      <td>Copiers</td>\n",
       "      <td>Hewlett Copy Machine, Color</td>\n",
       "      <td>636.2640</td>\n",
       "      <td>6</td>\n",
       "      <td>0.6000</td>\n",
       "      <td>-413.6760</td>\n",
       "      <td>41.7400</td>\n",
       "      <td>Medium</td>\n",
       "      <td>VE_052</td>\n",
       "      <td>Trekords</td>\n",
       "      <td>Alan Haines</td>\n",
       "      <td>Waterloo</td>\n",
       "      <td>Ontario</td>\n",
       "      <td>Canada</td>\n",
       "      <td>NaN</td>\n",
       "      <td>Corporate</td>\n",
       "      <td>Canada</td>\n",
       "      <td>Canada</td>\n",
       "    </tr>\n",
       "    <tr>\n",
       "      <th>51273</th>\n",
       "      <td>51274</td>\n",
       "      <td>TU-2012-1600</td>\n",
       "      <td>2012-02-15</td>\n",
       "      <td>19/02/2012</td>\n",
       "      <td>Standard Class</td>\n",
       "      <td>AH-195</td>\n",
       "      <td>TEC-BRO-10000381</td>\n",
       "      <td>Technology</td>\n",
       "      <td>Copiers</td>\n",
       "      <td>Brother Fax and Copier, Laser</td>\n",
       "      <td>153.1920</td>\n",
       "      <td>2</td>\n",
       "      <td>0.6000</td>\n",
       "      <td>-134.0880</td>\n",
       "      <td>7.9600</td>\n",
       "      <td>Medium</td>\n",
       "      <td>VE_052</td>\n",
       "      <td>Trekords</td>\n",
       "      <td>Alan Haines</td>\n",
       "      <td>Waterloo</td>\n",
       "      <td>Ontario</td>\n",
       "      <td>Canada</td>\n",
       "      <td>NaN</td>\n",
       "      <td>Corporate</td>\n",
       "      <td>Canada</td>\n",
       "      <td>Canada</td>\n",
       "    </tr>\n",
       "  </tbody>\n",
       "</table>\n",
       "<p>2223 rows × 26 columns</p>\n",
       "</div>"
      ],
      "text/plain": [
       "       row_id        order_id order_date   ship_date       ship_mode customer_id        product_id    category sub_category                   product_name    sales  quantity  discount    profit  shipping_cost order_priority vendor_code            vendor     customer_name           city              state             country  postal_code      segment  market         region\n",
       "25         26  MX-2014-120607 2014-06-18  25/06/2014  Standard Class    SP-20650   TEC-CO-10003541  Technology      Copiers         HP Copy Machine, Color 326.1863         2    0.0020   64.7063        16.7800         Medium      VE_011    Energy Systems  Stephanie Phelps       Coyoacán   Distrito Federal              Mexico          NaN    Corporate   LATAM    LATAM-North\n",
       "32         33  US-2013-167129 2013-05-24  31/05/2013  Standard Class    SC-20050   TEC-CO-10004904  Technology      Copiers     Sharp Fax Machine, Digital 941.7782         8    0.4020 -601.7418        80.2800         Medium      VE_008         Fireworth  Sample Company A    Tegucigalpa  Francisco Morazán            Honduras          NaN  Home Office   LATAM  LATAM-Central\n",
       "47         48  US-2012-151372 2012-04-27  02/05/2012  Standard Class    AS-10240   TEC-CO-10001756  Technology      Copiers   Canon Personal Copier, Color 153.4075         2    0.2020   36.1275        14.2500         Medium      VE_008         Fireworth      Alan Shonely  Santo Domingo      Santo Domingo  Dominican Republic          NaN     Consumer   LATAM      Caribbean\n",
       "51         52  US-2011-150987 2011-04-02  06/04/2011    Second Class    DW-13480   TEC-CO-10003142  Technology      Copiers  Hewlett Fax and Copier, Laser 230.6725         3    0.4020  -85.6475         9.8100         Medium      VE_011    Energy Systems     Dianna Wilson    Tegucigalpa  Francisco Morazán            Honduras          NaN  Home Office   LATAM  LATAM-Central\n",
       "52         53  US-2011-150987 2011-04-02  06/04/2011    Second Class    DW-13480   TEC-CO-10001756  Technology      Copiers   Canon Personal Copier, Color 172.4393         3    0.4020   -3.4807         5.5700         Medium      VE_015      Phantomnnite     Dianna Wilson    Tegucigalpa  Francisco Morazán            Honduras          NaN  Home Office   LATAM  LATAM-Central\n",
       "...       ...             ...        ...         ...             ...         ...               ...         ...          ...                            ...      ...       ...       ...       ...            ...            ...         ...               ...               ...            ...                ...                 ...          ...          ...     ...            ...\n",
       "51196   51197    NI-2011-3090 2011-04-08  10/04/2011    Second Class     JH-5910  TEC-SHA-10001413  Technology      Copiers   Sharp Personal Copier, Color 218.5920         6    0.7000 -313.4880         8.7300         Medium      VE_064  Chief Industries   Jonathan Howell          L'viv              L'viv             Ukraine          NaN     Consumer    EMEA           EMEA\n",
       "51216   51217    GG-2014-4090 2014-08-11  16/08/2014  Standard Class    SJ-10215  TEC-HEW-10004833  Technology      Copiers             Hewlett Ink, Color 600.4800         4    0.0000   84.0000        44.9200         Medium      VE_052          Trekords      Sarah Jordon        Mallawi           Al Minya               Egypt          NaN     Consumer  Africa         Africa\n",
       "51251   51252    IZ-2012-3720 2012-10-17  21/10/2012  Standard Class     PB-9150  TEC-SHA-10001413  Technology      Copiers   Sharp Personal Copier, Color 121.4400         1    0.0000   32.7600         5.2700         Medium      VE_052          Trekords      Philip Brown          Lagos              Lagos             Nigeria          NaN     Consumer  Africa         Africa\n",
       "51272   51273    TU-2012-1600 2012-02-15  19/02/2012  Standard Class      AH-195  TEC-HEW-10004522  Technology      Copiers    Hewlett Copy Machine, Color 636.2640         6    0.6000 -413.6760        41.7400         Medium      VE_052          Trekords       Alan Haines       Waterloo            Ontario              Canada          NaN    Corporate  Canada         Canada\n",
       "51273   51274    TU-2012-1600 2012-02-15  19/02/2012  Standard Class      AH-195  TEC-BRO-10000381  Technology      Copiers  Brother Fax and Copier, Laser 153.1920         2    0.6000 -134.0880         7.9600         Medium      VE_052          Trekords       Alan Haines       Waterloo            Ontario              Canada          NaN    Corporate  Canada         Canada\n",
       "\n",
       "[2223 rows x 26 columns]"
      ]
     },
     "execution_count": 10,
     "metadata": {},
     "output_type": "execute_result"
    }
   ],
   "source": [
    "copier = sales[sales[\"sub_category\"] == \"Copiers\"]\n",
    "copier"
   ]
  },
  {
   "cell_type": "code",
   "execution_count": 12,
   "metadata": {},
   "outputs": [
    {
     "data": {
      "text/plain": [
       "row_id               0\n",
       "order_id             0\n",
       "order_date           0\n",
       "ship_date            0\n",
       "ship_mode           82\n",
       "customer_id          0\n",
       "product_id           0\n",
       "category             0\n",
       "sub_category         0\n",
       "product_name        61\n",
       "sales                0\n",
       "quantity             0\n",
       "discount             0\n",
       "profit               0\n",
       "shipping_cost        0\n",
       "order_priority      47\n",
       "vendor_code          0\n",
       "vendor               0\n",
       "customer_name        0\n",
       "city                 0\n",
       "state                0\n",
       "country              0\n",
       "postal_code       2223\n",
       "segment              0\n",
       "market               0\n",
       "region               0\n",
       "dtype: int64"
      ]
     },
     "execution_count": 12,
     "metadata": {},
     "output_type": "execute_result"
    }
   ],
   "source": [
    "copier.isna().sum()"
   ]
  },
  {
   "cell_type": "code",
   "execution_count": 15,
   "metadata": {},
   "outputs": [
    {
     "data": {
      "text/plain": [
       "Hewlett Copy Machine, Color           44\n",
       "Brother Copy Machine, Color           40\n",
       "HP Copy Machine, Color                36\n",
       "Sharp Copy Machine, Color             32\n",
       "Canon Fax Machine, Digital            25\n",
       "                                      ..\n",
       "Canon PC1060 Personal Laser Copier     4\n",
       "Canon PC1080F Personal Copier          4\n",
       "Sharp AL-1530CS Digital Copier         4\n",
       "Canon PC940 Copier                     3\n",
       "Canon Image Class D660 Copier          2\n",
       "Name: product_name, Length: 129, dtype: int64"
      ]
     },
     "execution_count": 15,
     "metadata": {},
     "output_type": "execute_result"
    }
   ],
   "source": [
    "copier[\"product_name\"].value_counts()"
   ]
  },
  {
   "cell_type": "code",
   "execution_count": 16,
   "metadata": {},
   "outputs": [
    {
     "data": {
      "text/plain": [
       "'Hewlett Copy Machine, Color'"
      ]
     },
     "execution_count": 16,
     "metadata": {},
     "output_type": "execute_result"
    }
   ],
   "source": [
    "most_sold_product = str(copier[\"product_name\"].value_counts().idxmax())\n",
    "most_sold_product"
   ]
  },
  {
   "cell_type": "code",
   "execution_count": 17,
   "metadata": {},
   "outputs": [
    {
     "data": {
      "text/plain": [
       "44"
      ]
     },
     "execution_count": 17,
     "metadata": {},
     "output_type": "execute_result"
    }
   ],
   "source": [
    "quantity_sold = np.int64(copier[\"product_name\"].value_counts().max())\n",
    "quantity_sold"
   ]
  },
  {
   "cell_type": "markdown",
   "metadata": {},
   "source": [
    "*-----------------------------------------------------------------------------*"
   ]
  },
  {
   "cell_type": "code",
   "execution_count": null,
   "metadata": {
    "deletable": false,
    "nbgrader": {
     "cell_type": "code",
     "checksum": "8383beb26507c74efd7cdf244ac9eeef",
     "grade": false,
     "grade_id": "cell-2372c765dbb61495",
     "locked": false,
     "schema_version": 3,
     "solution": true,
     "task": false
    }
   },
   "outputs": [],
   "source": [
    "def copier_sales(data):\n",
    "    copier = data[data[\"sub_category\"] == \"Copiers\"]\n",
    "    \n",
    "    # Find the product with the maximum quantity sold within the \"Copiers\" subcategory\n",
    "    most_sold_product = str(copier[\"product_name\"].value_counts().idxmax())\n",
    "    quantity_sold = np.int64(copier[\"product_name\"].value_counts().max())\n",
    "    \n",
    "    return most_sold_product, quantity_sold"
   ]
  },
  {
   "cell_type": "code",
   "execution_count": null,
   "metadata": {},
   "outputs": [],
   "source": [
    "copier_sales(data=sales)[0]"
   ]
  },
  {
   "cell_type": "code",
   "execution_count": null,
   "metadata": {},
   "outputs": [],
   "source": [
    "copier_sales(data=sales)[1]"
   ]
  },
  {
   "cell_type": "code",
   "execution_count": null,
   "metadata": {
    "deletable": false,
    "editable": false,
    "nbgrader": {
     "cell_type": "code",
     "checksum": "96f066b3fdf4a906817a637309784ee6",
     "grade": true,
     "grade_id": "cell-d88992c7c676a693",
     "locked": true,
     "points": 5,
     "schema_version": 3,
     "solution": false,
     "task": false
    }
   },
   "outputs": [],
   "source": [
    "assert type(copier_sales(data=sales)[0])==str,\"Please check the data type of answer , product name should be string.\"\n",
    "assert type(copier_sales(data=sales)[1])==np.int64,\"Please check the data type of answer , quantity sold should be an integer.\""
   ]
  },
  {
   "cell_type": "code",
   "execution_count": null,
   "metadata": {
    "deletable": false,
    "editable": false,
    "nbgrader": {
     "cell_type": "code",
     "checksum": "3ccb81238917ced389e243ecae1f8c01",
     "grade": true,
     "grade_id": "cell-7523c1f6679181a6",
     "locked": true,
     "points": 5,
     "schema_version": 3,
     "solution": false,
     "task": false
    }
   },
   "outputs": [],
   "source": [
    "# autograder cells , please do not alter/ delete /edit this cell"
   ]
  },
  {
   "cell_type": "markdown",
   "metadata": {
    "deletable": false,
    "editable": false,
    "nbgrader": {
     "cell_type": "markdown",
     "checksum": "f3529b9a41e50bd6a003909fe2d875ed",
     "grade": false,
     "grade_id": "cell-7d4673f0c3ddbce3",
     "locked": true,
     "schema_version": 3,
     "solution": false,
     "task": false
    }
   },
   "source": [
    "### Q6.\tIn 2014, which customer (identify by name) contributed to the highest total profit and how much was it (Round it to 4 digits) ? Return output as a tuple (customer name, profit)"
   ]
  },
  {
   "cell_type": "markdown",
   "metadata": {},
   "source": [
    "*-----------------------------------------------------------------------------*"
   ]
  },
  {
   "cell_type": "code",
   "execution_count": null,
   "metadata": {},
   "outputs": [],
   "source": [
    "sales.head()"
   ]
  },
  {
   "cell_type": "code",
   "execution_count": null,
   "metadata": {},
   "outputs": [],
   "source": [
    "sales.dtypes"
   ]
  },
  {
   "cell_type": "code",
   "execution_count": null,
   "metadata": {},
   "outputs": [],
   "source": [
    "sales[\"year\"] = sales[\"order_date\"].dt.year"
   ]
  },
  {
   "cell_type": "code",
   "execution_count": null,
   "metadata": {},
   "outputs": [],
   "source": [
    "sales.head()"
   ]
  },
  {
   "cell_type": "code",
   "execution_count": null,
   "metadata": {},
   "outputs": [],
   "source": [
    "year2014 = sales[sales[\"year\"] == 2014]"
   ]
  },
  {
   "cell_type": "code",
   "execution_count": null,
   "metadata": {},
   "outputs": [],
   "source": [
    "year2014.head()"
   ]
  },
  {
   "cell_type": "code",
   "execution_count": null,
   "metadata": {},
   "outputs": [],
   "source": [
    "ans = pd.DataFrame(year2014.groupby(\"customer_name\", as_index=False)[\"profit\"].sum().nlargest(1, \"profit\"))\n",
    "ans"
   ]
  },
  {
   "cell_type": "code",
   "execution_count": null,
   "metadata": {},
   "outputs": [],
   "source": [
    "ans.iloc[:, 0]"
   ]
  },
  {
   "cell_type": "code",
   "execution_count": null,
   "metadata": {},
   "outputs": [],
   "source": [
    "ans[\"customer_name\"].item()"
   ]
  },
  {
   "cell_type": "code",
   "execution_count": null,
   "metadata": {},
   "outputs": [],
   "source": [
    "ans[\"profit\"].item()"
   ]
  },
  {
   "cell_type": "code",
   "execution_count": null,
   "metadata": {},
   "outputs": [],
   "source": [
    "type(ans[\"profit\"].item())"
   ]
  },
  {
   "cell_type": "code",
   "execution_count": null,
   "metadata": {},
   "outputs": [],
   "source": [
    "ans.iloc[:, 1]"
   ]
  },
  {
   "cell_type": "code",
   "execution_count": null,
   "metadata": {},
   "outputs": [],
   "source": [
    "ans.iloc[:, 0] , ans.iloc[:, 1]"
   ]
  },
  {
   "cell_type": "markdown",
   "metadata": {},
   "source": [
    "*-----------------------------------------------------------------------------*"
   ]
  },
  {
   "cell_type": "code",
   "execution_count": null,
   "metadata": {
    "deletable": false,
    "nbgrader": {
     "cell_type": "code",
     "checksum": "0ad59585f585cfbb2b4751899897881e",
     "grade": false,
     "grade_id": "cell-2f80a755e05bee76",
     "locked": false,
     "schema_version": 3,
     "solution": true,
     "task": false
    }
   },
   "outputs": [],
   "source": [
    "def cust_prof(data):      \n",
    "    ### Extract order year from order date. You can use dt.year functions\n",
    "    # your code here\n",
    "    \n",
    "    data['order_year'] = data[\"order_date\"].dt.year\n",
    "    \n",
    "    ### Filter data for yr 2014\n",
    "    sales_yr= data[data[\"order_year\"] == 2014]\n",
    "    \n",
    "    \n",
    "    #### Aggregate the profits wrto customer name , you can make use of .groupby() function in pandas\n",
    "    cust_profit = sales_yr.groupby('customer_name')['profit'].sum().reset_index()\n",
    "    #print(cust_profit) \n",
    "    ### Round the profit column to 4 decimal numbers  ,You can make use of round() function for rounding off \n",
    "    cust_profit['profit'] = cust_profit['profit'].round(4)\n",
    "    #print(cust_profit['profit'])\n",
    "    ## sort the dataframe with decreasing order of profits.\n",
    "    highest_profit_customer = cust_profit.nlargest(1, 'profit')\n",
    "    #print(highest_profit_customer)\n",
    "    ### Store customer_name with highest profit in variables below. \n",
    "    customer_name = highest_profit_customer['customer_name'].values[0]\n",
    "    customer_profit = highest_profit_customer['profit'].values[0]\n",
    "    \n",
    "    \n",
    "    return customer_name,customer_profit"
   ]
  },
  {
   "cell_type": "code",
   "execution_count": null,
   "metadata": {
    "deletable": false,
    "editable": false,
    "nbgrader": {
     "cell_type": "code",
     "checksum": "17707ba83b8b74f63de37390df959b82",
     "grade": true,
     "grade_id": "cell-0659fb2c54ca2128",
     "locked": true,
     "points": 10,
     "schema_version": 3,
     "solution": false,
     "task": false
    }
   },
   "outputs": [],
   "source": [
    "assert type(cust_prof(data=sales)[0])==str,\"Please check the data type of answer , customer name should be string.\"\n",
    "assert type(cust_prof(data=sales)[1])==np.float64,\"Please check the data type of answer , profit recorded should be float.\""
   ]
  },
  {
   "cell_type": "code",
   "execution_count": null,
   "metadata": {
    "deletable": false,
    "editable": false,
    "nbgrader": {
     "cell_type": "code",
     "checksum": "bdc77e2a0f3c00b79189fece1b6a9bd0",
     "grade": true,
     "grade_id": "cell-1fa5045852195c41",
     "locked": true,
     "points": 10,
     "schema_version": 3,
     "solution": false,
     "task": false
    }
   },
   "outputs": [],
   "source": [
    "# autograder cells , please do not alter/ delete /edit this cell"
   ]
  },
  {
   "cell_type": "markdown",
   "metadata": {
    "deletable": false,
    "editable": false,
    "nbgrader": {
     "cell_type": "markdown",
     "checksum": "a8323869d66b02aefb106d728ea34ff7",
     "grade": false,
     "grade_id": "cell-01e1a000155e7e1e",
     "locked": true,
     "schema_version": 3,
     "solution": false,
     "task": false
    }
   },
   "source": [
    "### Q7.\tHow much do the different categories of items contribute to total sales? \n",
    "**Return output dataframe consisting 2 columns 'category' (product category),'sales_perc' (sales % values).**\n",
    "\n",
    "**Make sure to round off sales percentage values to 2 decimals.**"
   ]
  },
  {
   "cell_type": "markdown",
   "metadata": {},
   "source": [
    "*-----------------------------------------------------------------------------*"
   ]
  },
  {
   "cell_type": "code",
   "execution_count": null,
   "metadata": {},
   "outputs": [],
   "source": [
    "sales.head()"
   ]
  },
  {
   "cell_type": "code",
   "execution_count": null,
   "metadata": {},
   "outputs": [],
   "source": [
    "# Group the data by 'category' and calculate the sum of sales for each category\n",
    "category_sales = sales.groupby('category')['sales'].sum().reset_index()\n",
    "category_sales"
   ]
  },
  {
   "cell_type": "code",
   "execution_count": null,
   "metadata": {},
   "outputs": [],
   "source": [
    "# Calculate the total sales across all categories\n",
    "total_sales = category_sales['sales'].sum()\n",
    "total_sales"
   ]
  },
  {
   "cell_type": "code",
   "execution_count": null,
   "metadata": {},
   "outputs": [],
   "source": [
    "# Calculate the sales percentage for each category and round to 2 decimals\n",
    "category_sales['sales_perc'] = (category_sales['sales'] / total_sales * 100).round(2)\n",
    "category_sales"
   ]
  },
  {
   "cell_type": "code",
   "execution_count": null,
   "metadata": {},
   "outputs": [],
   "source": [
    "category_sales.set_index(keys=\"category\", inplace=True)"
   ]
  },
  {
   "cell_type": "code",
   "execution_count": null,
   "metadata": {},
   "outputs": [],
   "source": [
    "category_sales"
   ]
  },
  {
   "cell_type": "markdown",
   "metadata": {},
   "source": [
    "*-----------------------------------------------------------------------------*"
   ]
  },
  {
   "cell_type": "code",
   "execution_count": null,
   "metadata": {
    "deletable": false,
    "nbgrader": {
     "cell_type": "code",
     "checksum": "bbfd0d7a0f101c5506bdecd4eeaa3321",
     "grade": false,
     "grade_id": "cell-aeeb4124ab318d78",
     "locked": false,
     "schema_version": 3,
     "solution": true,
     "task": false
    }
   },
   "outputs": [],
   "source": [
    "def cat_sales_contri(data):\n",
    "    # Group the data by 'category' and calculate the sum of sales for each category\n",
    "    category_sales = data.groupby('category')['sales'].sum().reset_index()\n",
    "    \n",
    "    # Calculate the total sales across all categories\n",
    "    total_sales = category_sales['sales'].sum()\n",
    "    \n",
    "    # Calculate the sales percentage for each category and round to 2 decimals\n",
    "    category_sales['sales_perc'] = (category_sales['sales'] / total_sales * 100).round(2)\n",
    "    \n",
    "    category_sales.set_index(keys=\"category\", inplace=True)\n",
    "    \n",
    "    return category_sales"
   ]
  },
  {
   "cell_type": "code",
   "execution_count": null,
   "metadata": {
    "deletable": false,
    "editable": false,
    "nbgrader": {
     "cell_type": "code",
     "checksum": "068ed77521d25c553a2ba388f0bc4560",
     "grade": true,
     "grade_id": "cell-a509c09c77a96597",
     "locked": true,
     "points": 5,
     "schema_version": 3,
     "solution": false,
     "task": false
    }
   },
   "outputs": [],
   "source": [
    "assert type(cat_sales_contri(data=sales))==pd.DataFrame,\"Please check the data type of answer , it should be a dataframe.\"\n",
    "assert cat_sales_contri(data=sales).shape==(3,2),\"Please check the data shape, total row count should be equal to number of unique categories.\""
   ]
  },
  {
   "cell_type": "code",
   "execution_count": null,
   "metadata": {
    "deletable": false,
    "editable": false,
    "nbgrader": {
     "cell_type": "code",
     "checksum": "751e821fb476136fbb723a646401b325",
     "grade": true,
     "grade_id": "cell-bbb943a227501894",
     "locked": true,
     "points": 5,
     "schema_version": 3,
     "solution": false,
     "task": false
    }
   },
   "outputs": [],
   "source": [
    "# autograder cells , please do not alter/ delete /edit this cell"
   ]
  },
  {
   "cell_type": "markdown",
   "metadata": {
    "deletable": false,
    "editable": false,
    "nbgrader": {
     "cell_type": "markdown",
     "checksum": "60836c0d3edfc1471150663cb1d9ec25",
     "grade": false,
     "grade_id": "cell-d679ced554385437",
     "locked": true,
     "schema_version": 3,
     "solution": false,
     "task": false
    }
   },
   "source": [
    "### Q8. Can we identify the customers who have not made any purchases in the last 12 months, so that we can send them some promotional material to encourage them to come back and shop with us? \n",
    "\n",
    "**Return the output as a data frame with three columns: 'customer_name','customer_id' and 'Total_sales' (total sales amount that customer has accrued). Make sure that you are returning the mentioned column names in same sequence & as same spelled.**"
   ]
  },
  {
   "cell_type": "markdown",
   "metadata": {
    "deletable": false,
    "editable": false,
    "nbgrader": {
     "cell_type": "markdown",
     "checksum": "6f9ab9ab84f7ddbe1f0e509681eed223",
     "grade": false,
     "grade_id": "cell-6908547840ef5a6d",
     "locked": true,
     "schema_version": 3,
     "solution": false,
     "task": false
    }
   },
   "source": [
    "**Hint:-**\n",
    "\n",
    "You might think of working on this logic\n",
    "\n",
    "1. Calculate latest order date for every customer\n",
    "2. Calculate yr back order date by offsetting latest date by 365 days (you can make use of pd.DateOffset(days=) function)\n",
    "3. Check if order date is in between yr_back_order date and latest_order_date, create binary flag.\n",
    "4. For every customer,you will get multiple order dates which are before yr old order date. Aggregate the flag at user level.\n",
    "5. Check for a customer if all the flags indicating that order date are before 1 yr then mark that customer as one who hasnt made any transations in last yr.\n",
    "6. Take out its name by joining with customer data and aggregate it for finding total sales. "
   ]
  },
  {
   "cell_type": "code",
   "execution_count": null,
   "metadata": {},
   "outputs": [],
   "source": [
    "sales.info()"
   ]
  },
  {
   "cell_type": "code",
   "execution_count": null,
   "metadata": {},
   "outputs": [],
   "source": [
    "sales.shape"
   ]
  },
  {
   "cell_type": "markdown",
   "metadata": {},
   "source": [
    "### Using CGPT"
   ]
  },
  {
   "cell_type": "code",
   "execution_count": null,
   "metadata": {},
   "outputs": [],
   "source": [
    "# Group by customer_id and consider the latest order_date\n",
    "purchase_date = sales.groupby('customer_id')['order_date'].max().reset_index()\n",
    "purchase_date.rename(columns={'order_date': 'latest_purchase_date'}, inplace=True)\n",
    "purchase_date"
   ]
  },
  {
   "cell_type": "code",
   "execution_count": null,
   "metadata": {},
   "outputs": [],
   "source": [
    "# Calculate 'yr_back_order_date' by offsetting the latest_purchase_date by 365 days\n",
    "purchase_date['yr_back_order_date'] = purchase_date['latest_purchase_date'] - pd.DateOffset(days=365)\n",
    "purchase_date"
   ]
  },
  {
   "cell_type": "code",
   "execution_count": null,
   "metadata": {},
   "outputs": [],
   "source": [
    "# Offset the latest_purchase_date by 1 more day to avoid intersection with latest_order_date\n",
    "purchase_date['latest_purchase_date'] =  purchase_date['latest_purchase_date'] + pd.DateOffset(days=1)\n",
    "purchase_date"
   ]
  },
  {
   "cell_type": "code",
   "execution_count": null,
   "metadata": {},
   "outputs": [],
   "source": [
    "# Merge the purchase_date data with the original sales data\n",
    "sales = sales.merge(purchase_date, on='customer_id', how='left')\n",
    "sales.head()"
   ]
  },
  {
   "cell_type": "code",
   "execution_count": null,
   "metadata": {},
   "outputs": [],
   "source": [
    "# Check if the order_date falls between 'yr_back_order_date' and 'latest_purchase_date', if yes, flag it as 1, else 0\n",
    "sales['purchase_flag'] = ((sales['order_date'] >= sales['yr_back_order_date']) & (sales['order_date'] <= sales['latest_purchase_date'])).astype(int)\n",
    "\n",
    "sales.head()"
   ]
  },
  {
   "cell_type": "code",
   "execution_count": null,
   "metadata": {},
   "outputs": [],
   "source": [
    "# Calculate the sum of all flags per customer_id\n",
    "purchase_in_last_yr = sales.groupby('customer_id')['purchase_flag'].sum().reset_index()\n",
    "purchase_in_last_yr.rename(columns={'purchase_flag': 'purchases_in_last_yr'}, inplace=True)\n",
    "purchase_in_last_yr.head()"
   ]
  },
  {
   "cell_type": "code",
   "execution_count": null,
   "metadata": {},
   "outputs": [],
   "source": [
    "(purchase_in_last_yr[\"purchases_in_last_yr\"] == 0).sum()"
   ]
  },
  {
   "cell_type": "code",
   "execution_count": null,
   "metadata": {},
   "outputs": [],
   "source": [
    "# Merge the purchase_in_last_yr with sales data\n",
    "sales = sales.merge(purchase_in_last_yr, on='customer_id', how='left')\n",
    "\n",
    "sales.head()"
   ]
  },
  {
   "cell_type": "code",
   "execution_count": null,
   "metadata": {},
   "outputs": [],
   "source": [
    "# Select the customers who have 0 in 'purchases_in_last_yr', as they haven't purchased anything in the last year\n",
    "sales_df = sales[sales['purchase_flag'] == 0]\n",
    "sales_df.head()"
   ]
  },
  {
   "cell_type": "code",
   "execution_count": null,
   "metadata": {},
   "outputs": [],
   "source": [
    "sales_df_1= sales_df.groupby(['customer_name', 'customer_id'])['sales'].sum().reset_index()\n",
    "sales_df_1.head()"
   ]
  },
  {
   "cell_type": "code",
   "execution_count": null,
   "metadata": {},
   "outputs": [],
   "source": [
    "sales_df_1.rename(columns={'sales': 'Total_sales'}, inplace=True)\n",
    "sales_df_1.head()"
   ]
  },
  {
   "cell_type": "code",
   "execution_count": null,
   "metadata": {},
   "outputs": [],
   "source": [
    "sales_df_1[['customer_name','customer_id','Total_sales']]"
   ]
  },
  {
   "cell_type": "code",
   "execution_count": null,
   "metadata": {
    "nbgrader": {
     "cell_type": "code",
     "checksum": "dcd1bb2e0555441b875594a7432a423e",
     "grade": false,
     "grade_id": "cell-3fca9a4c82b93bf0",
     "locked": false,
     "schema_version": 3,
     "solution": true,
     "task": false
    }
   },
   "outputs": [],
   "source": [
    "def cust_purc(data):\n",
    "    # your code here\n",
    "    \n",
    "    ### Groupby customer_id & consider latest order_date, name this dataframe as purchase_date. \n",
    "    purchase_date=data.groupby('customer_id')['order_date'].max().reset_index()\n",
    "    purchase_date.rename(columns={'order_date':'latest_purchase_date'}, inplace=True)\n",
    "    \n",
    "    #### Calculate 'yr_back_order_date' by offsetting the latest_purchase_date by 365 days , make use of pd.DateOffset() function.\n",
    "    purchase_date['yr_back_order_date']= purchase_date['latest_purchase_date'] - pd.DateOffset(days=365)\n",
    "    \n",
    "    ### Offset the latest_purchase_date by 1 more day in order to avoid intersection with latest_order_date.\n",
    "    purchase_date['latest_purchase_date'] += pd.DateOffset(days=1)\n",
    "    \n",
    "    ### We have purchase-date data ready with us so now its time to merge it with original sales data\n",
    "    data=data.merge(purchase_date, on='customer_id', how='left')\n",
    "    \n",
    "    #### Check if order_date falls in between 'yr_back_order_date','latest_purchase_date' , if 'yes' flag it as 1 else 0. \n",
    "    data['purchase_flag'] = ((data['order_date'] >= data['yr_back_order_date']) & (data['order_date'] < data['latest_purchase_date'])).astype(int)\n",
    "\n",
    "    #### Calculate sum of all flag per customer_id by using groupby() function, call this flag total as '# purchases_in_last_yr'\n",
    "    purchase_in_last_yr=data.groupby('customer_id')['purchase_flag'].sum().reset_index()\n",
    "    purchase_in_last_yr.rename(columns={'purchase_flag':'# purchases_in_last_yr'},inplace=True)\n",
    "    \n",
    "    \n",
    "    #### Merge the purchase_in_lst_yr with sales data.\n",
    "    data=data.merge(purchase_in_last_yr, on='customer_id', how='left')\n",
    "    \n",
    "    #### Select the customers who have 0 in '# purchases_in_last_yr' as this will be customers who havent purchased anything in last yr.\n",
    "    sales_df= data[data['# purchases_in_last_yr'] == 0]\n",
    "    \n",
    "    ### Its time to do final aggregation for selected customers cosnider their name , id & aggregate it on sales column for getting total sales.\n",
    "    sales_df_1 = sales_df.groupby(['customer_name', 'customer_id'])['sales'].sum().reset_index()\n",
    "    sales_df_1.rename(columns={'sales': 'Total_sales'}, inplace=True)\n",
    "    return sales_df_1[['customer_name','customer_id','Total_sales']] ### You can replace sales_df_1 by your dataframe name.\n"
   ]
  },
  {
   "cell_type": "markdown",
   "metadata": {},
   "source": [
    "### Using Bing"
   ]
  },
  {
   "cell_type": "code",
   "execution_count": null,
   "metadata": {},
   "outputs": [],
   "source": [
    "sales.head()"
   ]
  },
  {
   "cell_type": "code",
   "execution_count": null,
   "metadata": {},
   "outputs": [],
   "source": [
    "# calculate latest order date for every customer\n",
    "latest_order_date = sales.groupby('customer_id')['order_date'].max().reset_index()\n",
    "latest_order_date"
   ]
  },
  {
   "cell_type": "code",
   "execution_count": null,
   "metadata": {},
   "outputs": [],
   "source": [
    "# calculate year back order date by offsetting latest date by 365 days\n",
    "year_back_order_date = latest_order_date.copy()\n",
    "year_back_order_date['order_date'] = year_back_order_date['order_date'] - pd.DateOffset(years=1)\n",
    "year_back_order_date"
   ]
  },
  {
   "cell_type": "code",
   "execution_count": null,
   "metadata": {},
   "outputs": [],
   "source": [
    "# check if order date is in between year_back_order date and latest_order_date, create binary flag\n",
    "sales = pd.merge(sales, latest_order_date, on = ['customer_id'], how='left', suffixes=('_original', '_latest'))\n",
    "sales.head()"
   ]
  },
  {
   "cell_type": "code",
   "execution_count": null,
   "metadata": {},
   "outputs": [],
   "source": [
    "sales = pd.merge(sales, year_back_order_date, on=['customer_id'], how='left', suffixes=('_original', '_back'))\n",
    "sales.head()"
   ]
  },
  {
   "cell_type": "code",
   "execution_count": null,
   "metadata": {},
   "outputs": [],
   "source": [
    "sales.columns"
   ]
  },
  {
   "cell_type": "code",
   "execution_count": null,
   "metadata": {},
   "outputs": [],
   "source": [
    "sales['flag'] = np.where((sales['order_date_original'] >= sales['order_date']) & (sales['order_date_original'] <= sales['order_date_latest']), 1, 0)"
   ]
  },
  {
   "cell_type": "code",
   "execution_count": null,
   "metadata": {},
   "outputs": [],
   "source": [
    "sales.head()"
   ]
  },
  {
   "cell_type": "code",
   "execution_count": null,
   "metadata": {},
   "outputs": [],
   "source": [
    "# aggregate the flag at user level\n",
    "sales_agg = sales.groupby('customer_id')['flag'].sum().reset_index()\n",
    "sales_agg"
   ]
  },
  {
   "cell_type": "code",
   "execution_count": null,
   "metadata": {},
   "outputs": [],
   "source": [
    "# check for a customer if all the flags indicating that order date are before 1 yr then mark that customer as one who hasn't made any transactions in last yr\n",
    "sales_agg['no_purchase_last_year'] = np.where(sales_agg['flag'] == 0, 1, 0)\n",
    "sales_agg"
   ]
  },
  {
   "cell_type": "code",
   "execution_count": null,
   "metadata": {},
   "outputs": [],
   "source": [
    "# take out its name by joining with customer data and aggregate it for finding total sales\n",
    "sales_agg = pd.merge(sales_agg, sales[['customer_id', 'customer_name', 'sales']].drop_duplicates(), on='customer_id', how='left')\n",
    "sales_agg"
   ]
  },
  {
   "cell_type": "code",
   "execution_count": null,
   "metadata": {},
   "outputs": [],
   "source": [
    "sales_agg"
   ]
  },
  {
   "cell_type": "code",
   "execution_count": null,
   "metadata": {},
   "outputs": [],
   "source": [
    "sales_agg = sales_agg.groupby(['customer_id', 'customer_name'])['sales'].sum().reset_index()\n",
    "sales_agg"
   ]
  },
  {
   "cell_type": "code",
   "execution_count": null,
   "metadata": {},
   "outputs": [],
   "source": [
    "sales_agg = sales_agg[sales_agg['no_purchase_last_year'] == 1][['customer_name', 'customer_id', 'sales']]"
   ]
  },
  {
   "cell_type": "code",
   "execution_count": null,
   "metadata": {
    "deletable": false,
    "nbgrader": {
     "cell_type": "code",
     "checksum": "dcd1bb2e0555441b875594a7432a423e",
     "grade": false,
     "grade_id": "cell-3fca9a4c82b93bf0",
     "locked": false,
     "schema_version": 3,
     "solution": true,
     "task": false
    }
   },
   "outputs": [],
   "source": [
    "def cust_purc(data):\n",
    "    \n",
    "    # calculate latest order date for every customer\n",
    "    latest_order_date = data.groupby('customer_id')['order_date'].max().reset_index()\n",
    "\n",
    "    # calculate year back order date by offsetting latest date by 365 days\n",
    "    year_back_order_date = latest_order_date.copy()\n",
    "    year_back_order_date['order_date'] = year_back_order_date['order_date'] - pd.DateOffset(years=1)\n",
    "    \n",
    "    # check if order date is in between year_back_order date and latest_order_date, create binary flag\n",
    "    data = pd.merge(data, latest_order_date, on=['customer_id', 'order_date'], how='left')\n",
    "    data = pd.merge(data, year_back_order_date, on=['customer_id'], how='left')\n",
    "    data['flag'] = np.where((data['order_date'] >= data['order_date_y']) & (data['order_date'] <= data['order_date_x']), 1, 0)"
   ]
  },
  {
   "cell_type": "markdown",
   "metadata": {},
   "source": [
    "### Using Bard"
   ]
  },
  {
   "cell_type": "code",
   "execution_count": null,
   "metadata": {},
   "outputs": [],
   "source": [
    "# Groupby customer_id & consider latest order_date, name this dataframe as purchase_date\n",
    "purchase_date = sales.groupby('customer_id')['order_date'].max().reset_index().rename(columns={'order_date': 'latest_purchase_date'})\n",
    "purchase_date"
   ]
  },
  {
   "cell_type": "code",
   "execution_count": null,
   "metadata": {},
   "outputs": [],
   "source": [
    "# Calculate 'yr_back_order_date' by offsetting the latest_purchase_date by 365 days, make use of pd.DateOffset() function\n",
    "purchase_date['yr_back_order_date'] = purchase_date['latest_purchase_date'] - pd.DateOffset(days=365)\n",
    "purchase_date"
   ]
  },
  {
   "cell_type": "code",
   "execution_count": null,
   "metadata": {},
   "outputs": [],
   "source": []
  },
  {
   "cell_type": "code",
   "execution_count": null,
   "metadata": {},
   "outputs": [],
   "source": []
  },
  {
   "cell_type": "code",
   "execution_count": null,
   "metadata": {},
   "outputs": [],
   "source": [
    "def cust_purc(data):\n",
    "    # Groupby customer_id & consider latest order_date, name this dataframe as purchase_date\n",
    "    purchase_date = data.groupby('customer_id')['order_date'].max().reset_index().rename(columns={'order_date': 'latest_purchase_date'})\n",
    "\n",
    "    # Calculate 'yr_back_order_date' by offsetting the latest_purchase_date by 365 days, make use of pd.DateOffset() function\n",
    "    purchase_date['yr_back_order_date'] = purchase_date['latest_purchase_date'] - pd.DateOffset(days=365)\n",
    "\n",
    "    # Offset the latest_purchase_date by 1 more day in order to avoid intersection with latest_order_date\n",
    "    purchase_date['latest_purchase_date'] = purchase_date['latest_purchase_date'] + pd.DateOffset(days=1)\n",
    "\n",
    "    # Merge the purchase-date data with original sales data\n",
    "    data = data.merge(purchase_date, on='customer_id', how='left')\n",
    "\n",
    "    # Check if order_date falls in between 'yr_back_order_date','latest_purchase_date' , if 'yes' flag it as 1 else 0\n",
    "    data['purchase_flag'] = data['order_date'].between(purchase_date['yr_back_order_date'], purchase_date['latest_purchase_date']).map({True: 1, False: 0})\n",
    "\n",
    "    # Calculate sum of all flag per customer_id by using groupby() function, call this flag total as '# purchases_in_last_yr'\n",
    "    purchase_in_lst_yr = data.groupby('customer_id')['purchase_flag'].sum().reset_index().rename(columns={'purchase_flag': '# purchases_in_last_yr'})\n",
    "\n",
    "    # Merge the purchase_in_lst_yr with sales data\n",
    "    data = data.merge(purchase_in_lst_yr, on='customer_id', how='left')\n",
    "\n",
    "    # Select the customers who have 0 in '# purchases_in_last_yr' as this will be customers who havent purchased anything in last yr\n",
    "    sales_df = data[data['# purchases_in_last_yr'] == 0]\n",
    "\n",
    "    # Do final aggregation for selected customers cosnider their name , id & aggregate it on sales column for getting total sales\n",
    "    sales_df_1 = sales_df.groupby(['customer_name', 'customer_id'])['sales'].sum().reset_index()\n",
    "\n",
    "    return sales_df_1[['customer_name', 'customer_id', 'Total_sales']]"
   ]
  },
  {
   "cell_type": "code",
   "execution_count": null,
   "metadata": {},
   "outputs": [],
   "source": []
  },
  {
   "cell_type": "code",
   "execution_count": null,
   "metadata": {
    "deletable": false,
    "editable": false,
    "nbgrader": {
     "cell_type": "code",
     "checksum": "b69862a14d10d58c4f0486c8eb2aa35e",
     "grade": true,
     "grade_id": "cell-af43b1cfc50161bf",
     "locked": true,
     "points": 10,
     "schema_version": 3,
     "solution": false,
     "task": false
    }
   },
   "outputs": [],
   "source": [
    "assert type(cust_purc(data=sales))==pd.DataFrame,\"Please check the data type of answer , it should be dataframe.\"\n",
    "assert cust_purc(data=sales).shape==(109,3),\"Please check the data shape.\""
   ]
  },
  {
   "cell_type": "code",
   "execution_count": null,
   "metadata": {
    "deletable": false,
    "editable": false,
    "nbgrader": {
     "cell_type": "code",
     "checksum": "dc524f425d479775831a2eb162a7f502",
     "grade": true,
     "grade_id": "cell-a75ce88e766af09e",
     "locked": true,
     "points": 10,
     "schema_version": 3,
     "solution": false,
     "task": false
    }
   },
   "outputs": [],
   "source": [
    "# autograder cells , please do not alter/ delete /edit this cell"
   ]
  },
  {
   "cell_type": "markdown",
   "metadata": {},
   "source": [
    "# Total Grade Obtained =  65/100 points earned"
   ]
  },
  {
   "cell_type": "code",
   "execution_count": null,
   "metadata": {},
   "outputs": [],
   "source": []
  }
 ],
 "metadata": {
  "kernelspec": {
   "display_name": "Python 3 (ipykernel)",
   "language": "python",
   "name": "python3"
  },
  "language_info": {
   "codemirror_mode": {
    "name": "ipython",
    "version": 3
   },
   "file_extension": ".py",
   "mimetype": "text/x-python",
   "name": "python",
   "nbconvert_exporter": "python",
   "pygments_lexer": "ipython3",
   "version": "3.9.12"
  }
 },
 "nbformat": 4,
 "nbformat_minor": 4
}
