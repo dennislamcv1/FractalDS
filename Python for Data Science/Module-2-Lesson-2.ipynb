{
 "cells": [
  {
   "cell_type": "markdown",
   "id": "d448738f",
   "metadata": {},
   "source": [
    "### Lesson 2: DataFrame fundamentals and indexing"
   ]
  },
  {
   "cell_type": "markdown",
   "id": "f13f7f06",
   "metadata": {},
   "source": [
    "### Part 2.2.1  : Crafting DataFrames\n",
    "- The dataframe is most widely used data structure by data scientists\n",
    "- When we read the data file (csv, excel etc.) using pandas read_csv or read_excel functions, the outcome will be a dataframe.\n",
    "- We can perform various operations on rows and columns of the dataframe like indexing, subsetting, grouping etc.\n",
    "- Each column in a dataframe is called a Series.\n",
    "- Let us now explore the fundamentals of the dataframe."
   ]
  },
  {
   "cell_type": "markdown",
   "id": "293c3541",
   "metadata": {},
   "source": [
    "#### We can create a dataframe by using a combination of data structures like list, dictionary and series. So, let us first understand lists, dictionary and series\n"
   ]
  },
  {
   "cell_type": "markdown",
   "id": "24b9a8d5",
   "metadata": {},
   "source": [
    "###### A list is a data structure in Python which is a sequence of elements, which can be of different types"
   ]
  },
  {
   "cell_type": "code",
   "execution_count": 1,
   "id": "72229669",
   "metadata": {
    "code_folding": []
   },
   "outputs": [],
   "source": [
    "# create a simple list\n",
    "ls = [1,2,3.02,'x', 10]"
   ]
  },
  {
   "cell_type": "code",
   "execution_count": 2,
   "id": "b3d7d9a2",
   "metadata": {
    "code_folding": []
   },
   "outputs": [
    {
     "name": "stdout",
     "output_type": "stream",
     "text": [
      "[1, 2, 3.02, 'x', 10]\n"
     ]
    }
   ],
   "source": [
    "# print the list\n",
    "print(ls)"
   ]
  },
  {
   "cell_type": "code",
   "execution_count": 3,
   "id": "1d6964d8",
   "metadata": {
    "code_folding": []
   },
   "outputs": [
    {
     "name": "stdout",
     "output_type": "stream",
     "text": [
      "<class 'list'>\n"
     ]
    }
   ],
   "source": [
    "#ls is of type list\n",
    "print(type(ls))  "
   ]
  },
  {
   "cell_type": "code",
   "execution_count": 4,
   "id": "4d7553ec",
   "metadata": {
    "code_folding": []
   },
   "outputs": [],
   "source": [
    "# reading data from the keyboard and create a list\n",
    "\n",
    "ls=[]   # create empty list"
   ]
  },
  {
   "cell_type": "code",
   "execution_count": 5,
   "id": "67ba4292",
   "metadata": {},
   "outputs": [
    {
     "name": "stdout",
     "output_type": "stream",
     "text": [
      "[]\n"
     ]
    }
   ],
   "source": [
    "print(ls)"
   ]
  },
  {
   "cell_type": "code",
   "execution_count": 6,
   "id": "694dd8a0",
   "metadata": {
    "code_folding": []
   },
   "outputs": [
    {
     "name": "stdout",
     "output_type": "stream",
     "text": [
      "Enter a value:1\n",
      "Enter a value:2\n",
      "Enter a value:3\n"
     ]
    }
   ],
   "source": [
    "# we will use the input() function to read the data from keyboard\n",
    "# we will use a for loop to read multiple elements\n",
    "\n",
    "\n",
    "for i in range(3):           # the loop gets executed 3 times, as range() function has default starting value as 0\n",
    "    ls.append(input('Enter a value:'))    #input() function reads the data "
   ]
  },
  {
   "cell_type": "code",
   "execution_count": 7,
   "id": "16e97cc1",
   "metadata": {
    "code_folding": []
   },
   "outputs": [
    {
     "name": "stdout",
     "output_type": "stream",
     "text": [
      "['1', '2', '3']\n"
     ]
    }
   ],
   "source": [
    "# print the contents of the list    \n",
    "print(ls)"
   ]
  },
  {
   "cell_type": "markdown",
   "id": "c777d7c2",
   "metadata": {},
   "source": [
    "**NOTE:**\n",
    "- List is one of the most widely used the data structures in Python\n",
    "- There are several built-in methods which are used for operations on lists like append(), extend(), copy, count(), insert(), pop(), sort() etc. We will use them as and when required."
   ]
  },
  {
   "cell_type": "markdown",
   "id": "c8c6cd82",
   "metadata": {},
   "source": [
    "###### A dictionary is a data structure in Python which is a sequence of key:value paired elements"
   ]
  },
  {
   "cell_type": "code",
   "execution_count": 8,
   "id": "8aa3b6da",
   "metadata": {
    "code_folding": []
   },
   "outputs": [
    {
     "name": "stdout",
     "output_type": "stream",
     "text": [
      "{'Mike': 25, 'Jack': 23, 'Tom': 20}\n"
     ]
    }
   ],
   "source": [
    "# create a dictionary of name:age pairs\n",
    "d = {'Mike':25, 'Jack':23, 'Tom':20}\n",
    "print(d)"
   ]
  },
  {
   "cell_type": "code",
   "execution_count": 9,
   "id": "d9813b77",
   "metadata": {
    "code_folding": []
   },
   "outputs": [
    {
     "name": "stdout",
     "output_type": "stream",
     "text": [
      "{'Mike': 25, 'Jack': 23, 'Tom': 20, 'Jerry': 21}\n"
     ]
    }
   ],
   "source": [
    "# adding a new pair to the existing dictionary\n",
    "d['Jerry']=21\n",
    "print(d)"
   ]
  },
  {
   "cell_type": "code",
   "execution_count": 10,
   "id": "880087dd",
   "metadata": {
    "code_folding": []
   },
   "outputs": [
    {
     "name": "stdout",
     "output_type": "stream",
     "text": [
      "[('Mike', 25), ('Jack', 23), ('Tom', 20), ('Jerry', 21)]\n"
     ]
    }
   ],
   "source": [
    "# use items() method to display dictionary contents\n",
    "print(list(d.items()))"
   ]
  },
  {
   "cell_type": "markdown",
   "id": "8961a5b4",
   "metadata": {},
   "source": [
    "**NOTE:**\n",
    "- Each record/row in a dataframe is treated as a dictionary, where keys are the column headers and the values are elements in the row.\n",
    "- So, understanding basics of dictionary is helpful when you create a dataframe. \n",
    "- Dictionary object supports few methods like items(), keys(), values() etc to extract the elements within the dictionary. We will use them as and when required."
   ]
  },
  {
   "cell_type": "markdown",
   "id": "d8fb6b8d",
   "metadata": {},
   "source": [
    "###### Series is a data structure in Pandas which is a single column vector containing elements"
   ]
  },
  {
   "cell_type": "code",
   "execution_count": 11,
   "id": "a69d519f",
   "metadata": {},
   "outputs": [],
   "source": [
    "import pandas as pd"
   ]
  },
  {
   "cell_type": "code",
   "execution_count": 12,
   "id": "13f739bc",
   "metadata": {
    "code_folding": []
   },
   "outputs": [
    {
     "name": "stdout",
     "output_type": "stream",
     "text": [
      "0    10\n",
      "1    20\n",
      "2    30\n",
      "3    40\n",
      "dtype: int64\n"
     ]
    }
   ],
   "source": [
    "# create a series of elements\n",
    "s = pd.Series([10,20,30,40])\n",
    "print(s)"
   ]
  },
  {
   "cell_type": "code",
   "execution_count": 13,
   "id": "81a24b51",
   "metadata": {
    "code_folding": []
   },
   "outputs": [
    {
     "name": "stdout",
     "output_type": "stream",
     "text": [
      "30\n"
     ]
    }
   ],
   "source": [
    "# access the elements of a series\n",
    "print(s[2])"
   ]
  },
  {
   "cell_type": "code",
   "execution_count": 14,
   "id": "57739361",
   "metadata": {
    "code_folding": []
   },
   "outputs": [
    {
     "name": "stdout",
     "output_type": "stream",
     "text": [
      "first     10\n",
      "second    20\n",
      "third     30\n",
      "fourth    40\n",
      "dtype: int64\n"
     ]
    }
   ],
   "source": [
    "# give a user-defined index to series elements\n",
    "s1 = pd.Series([10,20,30,40],index=['first', 'second','third','fourth'])\n",
    "print(s1)"
   ]
  },
  {
   "cell_type": "code",
   "execution_count": 15,
   "id": "1869afd1",
   "metadata": {
    "code_folding": []
   },
   "outputs": [
    {
     "name": "stdout",
     "output_type": "stream",
     "text": [
      "20\n",
      "20\n"
     ]
    }
   ],
   "source": [
    "# access using either default index or user-defined index\n",
    "print(s1['second'])\n",
    "print(s1[1])"
   ]
  },
  {
   "cell_type": "markdown",
   "id": "dddc8988",
   "metadata": {},
   "source": [
    "**NOTE:**\n",
    "- Each column in a dataframe is treated as a series.\n",
    "- So, whenever you would like to operate on only one column of the dataframe, we must use built-in operations meant for series."
   ]
  },
  {
   "cell_type": "markdown",
   "id": "36efd62b",
   "metadata": {},
   "source": [
    "#### Creating DataFrame using Lists, Dictionaries and Series"
   ]
  },
  {
   "cell_type": "code",
   "execution_count": 16,
   "id": "a422b958",
   "metadata": {
    "code_folding": []
   },
   "outputs": [],
   "source": [
    "# create a list of indices\n",
    "index_list=['Company A','Company B','Company C','Company D','Company E','Company F']"
   ]
  },
  {
   "cell_type": "code",
   "execution_count": 17,
   "id": "136981a0",
   "metadata": {
    "code_folding": []
   },
   "outputs": [],
   "source": [
    "# create a data frame, where key is the company name and values are the series \n",
    "#map the values with the index_list while creating the series\n",
    "\n",
    "company_dir = {'Closing price': pd.Series([346.15,0.59,459,0.52,589.8,158.88], \n",
    "                                        index=index_list),\n",
    "             \n",
    "                'EPS': pd.Series([1133.43,36.05,145.02, 4.5, 31.44,380.64],\n",
    "                                 index=index_list),\n",
    "                \n",
    "                'Beta': pd.Series([1,2,3,4,5,6],index=index_list),\n",
    "                'P/E': pd.Series([10,20,30,40,60,50], index=index_list),\n",
    "                'Market Cap(B)': pd.Series([1254.05, 43.2, 2300, 5.6, 773.8, 521.56], index=index_list)\n",
    "                \n",
    "               }"
   ]
  },
  {
   "cell_type": "code",
   "execution_count": 18,
   "id": "60b3d435",
   "metadata": {},
   "outputs": [
    {
     "data": {
      "text/plain": [
       "{'Closing price': Company A    346.15\n",
       " Company B      0.59\n",
       " Company C    459.00\n",
       " Company D      0.52\n",
       " Company E    589.80\n",
       " Company F    158.88\n",
       " dtype: float64,\n",
       " 'EPS': Company A    1133.43\n",
       " Company B      36.05\n",
       " Company C     145.02\n",
       " Company D       4.50\n",
       " Company E      31.44\n",
       " Company F     380.64\n",
       " dtype: float64,\n",
       " 'Beta': Company A    1\n",
       " Company B    2\n",
       " Company C    3\n",
       " Company D    4\n",
       " Company E    5\n",
       " Company F    6\n",
       " dtype: int64,\n",
       " 'P/E': Company A    10\n",
       " Company B    20\n",
       " Company C    30\n",
       " Company D    40\n",
       " Company E    60\n",
       " Company F    50\n",
       " dtype: int64,\n",
       " 'Market Cap(B)': Company A    1254.05\n",
       " Company B      43.20\n",
       " Company C    2300.00\n",
       " Company D       5.60\n",
       " Company E     773.80\n",
       " Company F     521.56\n",
       " dtype: float64}"
      ]
     },
     "execution_count": 18,
     "metadata": {},
     "output_type": "execute_result"
    }
   ],
   "source": [
    "company_dir"
   ]
  },
  {
   "cell_type": "code",
   "execution_count": 19,
   "id": "f135e1df",
   "metadata": {
    "code_folding": []
   },
   "outputs": [
    {
     "data": {
      "text/html": [
       "<div>\n",
       "<style scoped>\n",
       "    .dataframe tbody tr th:only-of-type {\n",
       "        vertical-align: middle;\n",
       "    }\n",
       "\n",
       "    .dataframe tbody tr th {\n",
       "        vertical-align: top;\n",
       "    }\n",
       "\n",
       "    .dataframe thead th {\n",
       "        text-align: right;\n",
       "    }\n",
       "</style>\n",
       "<table border=\"1\" class=\"dataframe\">\n",
       "  <thead>\n",
       "    <tr style=\"text-align: right;\">\n",
       "      <th></th>\n",
       "      <th>Closing price</th>\n",
       "      <th>EPS</th>\n",
       "      <th>Beta</th>\n",
       "      <th>P/E</th>\n",
       "      <th>Market Cap(B)</th>\n",
       "    </tr>\n",
       "  </thead>\n",
       "  <tbody>\n",
       "    <tr>\n",
       "      <th>Company A</th>\n",
       "      <td>346.15</td>\n",
       "      <td>1133.43</td>\n",
       "      <td>1</td>\n",
       "      <td>10</td>\n",
       "      <td>1254.05</td>\n",
       "    </tr>\n",
       "    <tr>\n",
       "      <th>Company B</th>\n",
       "      <td>0.59</td>\n",
       "      <td>36.05</td>\n",
       "      <td>2</td>\n",
       "      <td>20</td>\n",
       "      <td>43.20</td>\n",
       "    </tr>\n",
       "    <tr>\n",
       "      <th>Company C</th>\n",
       "      <td>459.00</td>\n",
       "      <td>145.02</td>\n",
       "      <td>3</td>\n",
       "      <td>30</td>\n",
       "      <td>2300.00</td>\n",
       "    </tr>\n",
       "    <tr>\n",
       "      <th>Company D</th>\n",
       "      <td>0.52</td>\n",
       "      <td>4.50</td>\n",
       "      <td>4</td>\n",
       "      <td>40</td>\n",
       "      <td>5.60</td>\n",
       "    </tr>\n",
       "    <tr>\n",
       "      <th>Company E</th>\n",
       "      <td>589.80</td>\n",
       "      <td>31.44</td>\n",
       "      <td>5</td>\n",
       "      <td>60</td>\n",
       "      <td>773.80</td>\n",
       "    </tr>\n",
       "    <tr>\n",
       "      <th>Company F</th>\n",
       "      <td>158.88</td>\n",
       "      <td>380.64</td>\n",
       "      <td>6</td>\n",
       "      <td>50</td>\n",
       "      <td>521.56</td>\n",
       "    </tr>\n",
       "  </tbody>\n",
       "</table>\n",
       "</div>"
      ],
      "text/plain": [
       "           Closing price      EPS  Beta  P/E  Market Cap(B)\n",
       "Company A         346.15  1133.43     1   10        1254.05\n",
       "Company B           0.59    36.05     2   20          43.20\n",
       "Company C         459.00   145.02     3   30        2300.00\n",
       "Company D           0.52     4.50     4   40           5.60\n",
       "Company E         589.80    31.44     5   60         773.80\n",
       "Company F         158.88   380.64     6   50         521.56"
      ]
     },
     "execution_count": 19,
     "metadata": {},
     "output_type": "execute_result"
    }
   ],
   "source": [
    "companydf = pd.DataFrame(company_dir)\n",
    "companydf"
   ]
  },
  {
   "cell_type": "markdown",
   "id": "c6a1d3b1",
   "metadata": {},
   "source": [
    "**NOTE:**\n",
    "- We created a new dataframe using various data structures here. \n",
    "- There are multiple other ways to do so, but we will not explore those, because most of time we will be using business data which will be already saved in Excel or CSV formats"
   ]
  },
  {
   "cell_type": "code",
   "execution_count": null,
   "id": "6ac28d98",
   "metadata": {},
   "outputs": [],
   "source": []
  },
  {
   "cell_type": "code",
   "execution_count": null,
   "id": "dd4a3ebc",
   "metadata": {},
   "outputs": [],
   "source": []
  },
  {
   "cell_type": "code",
   "execution_count": null,
   "id": "8cc7642c",
   "metadata": {},
   "outputs": [],
   "source": []
  },
  {
   "cell_type": "markdown",
   "id": "f1b65516",
   "metadata": {},
   "source": [
    "### Part 2.2.2  : Slicing with precision\n",
    "- Slicing is a way of extracting the subset of the dataframe.\n",
    "- We can extract the required rows and columns by using appropriate indices for slicing.\n",
    "- There are two methods ***loc()*** and ***iloc()*** that can be used to create subsets of the data\n",
    "- We will use the ***companydf*** dataframe created in the previous video to demonstrate these concepts"
   ]
  },
  {
   "cell_type": "code",
   "execution_count": 20,
   "id": "e0508f8f",
   "metadata": {
    "code_folding": []
   },
   "outputs": [
    {
     "data": {
      "text/html": [
       "<div>\n",
       "<style scoped>\n",
       "    .dataframe tbody tr th:only-of-type {\n",
       "        vertical-align: middle;\n",
       "    }\n",
       "\n",
       "    .dataframe tbody tr th {\n",
       "        vertical-align: top;\n",
       "    }\n",
       "\n",
       "    .dataframe thead th {\n",
       "        text-align: right;\n",
       "    }\n",
       "</style>\n",
       "<table border=\"1\" class=\"dataframe\">\n",
       "  <thead>\n",
       "    <tr style=\"text-align: right;\">\n",
       "      <th></th>\n",
       "      <th>Closing price</th>\n",
       "      <th>EPS</th>\n",
       "      <th>Beta</th>\n",
       "      <th>P/E</th>\n",
       "      <th>Market Cap(B)</th>\n",
       "    </tr>\n",
       "  </thead>\n",
       "  <tbody>\n",
       "    <tr>\n",
       "      <th>Company A</th>\n",
       "      <td>346.15</td>\n",
       "      <td>1133.43</td>\n",
       "      <td>1</td>\n",
       "      <td>10</td>\n",
       "      <td>1254.05</td>\n",
       "    </tr>\n",
       "    <tr>\n",
       "      <th>Company B</th>\n",
       "      <td>0.59</td>\n",
       "      <td>36.05</td>\n",
       "      <td>2</td>\n",
       "      <td>20</td>\n",
       "      <td>43.20</td>\n",
       "    </tr>\n",
       "    <tr>\n",
       "      <th>Company C</th>\n",
       "      <td>459.00</td>\n",
       "      <td>145.02</td>\n",
       "      <td>3</td>\n",
       "      <td>30</td>\n",
       "      <td>2300.00</td>\n",
       "    </tr>\n",
       "    <tr>\n",
       "      <th>Company D</th>\n",
       "      <td>0.52</td>\n",
       "      <td>4.50</td>\n",
       "      <td>4</td>\n",
       "      <td>40</td>\n",
       "      <td>5.60</td>\n",
       "    </tr>\n",
       "    <tr>\n",
       "      <th>Company E</th>\n",
       "      <td>589.80</td>\n",
       "      <td>31.44</td>\n",
       "      <td>5</td>\n",
       "      <td>60</td>\n",
       "      <td>773.80</td>\n",
       "    </tr>\n",
       "    <tr>\n",
       "      <th>Company F</th>\n",
       "      <td>158.88</td>\n",
       "      <td>380.64</td>\n",
       "      <td>6</td>\n",
       "      <td>50</td>\n",
       "      <td>521.56</td>\n",
       "    </tr>\n",
       "  </tbody>\n",
       "</table>\n",
       "</div>"
      ],
      "text/plain": [
       "           Closing price      EPS  Beta  P/E  Market Cap(B)\n",
       "Company A         346.15  1133.43     1   10        1254.05\n",
       "Company B           0.59    36.05     2   20          43.20\n",
       "Company C         459.00   145.02     3   30        2300.00\n",
       "Company D           0.52     4.50     4   40           5.60\n",
       "Company E         589.80    31.44     5   60         773.80\n",
       "Company F         158.88   380.64     6   50         521.56"
      ]
     },
     "execution_count": 20,
     "metadata": {},
     "output_type": "execute_result"
    }
   ],
   "source": [
    "#let us view the data frame\n",
    "companydf"
   ]
  },
  {
   "cell_type": "code",
   "execution_count": 21,
   "id": "b60d5f29",
   "metadata": {
    "code_folding": []
   },
   "outputs": [
    {
     "data": {
      "text/html": [
       "<div>\n",
       "<style scoped>\n",
       "    .dataframe tbody tr th:only-of-type {\n",
       "        vertical-align: middle;\n",
       "    }\n",
       "\n",
       "    .dataframe tbody tr th {\n",
       "        vertical-align: top;\n",
       "    }\n",
       "\n",
       "    .dataframe thead th {\n",
       "        text-align: right;\n",
       "    }\n",
       "</style>\n",
       "<table border=\"1\" class=\"dataframe\">\n",
       "  <thead>\n",
       "    <tr style=\"text-align: right;\">\n",
       "      <th></th>\n",
       "      <th>Closing price</th>\n",
       "      <th>EPS</th>\n",
       "      <th>Beta</th>\n",
       "      <th>P/E</th>\n",
       "      <th>Market Cap(B)</th>\n",
       "    </tr>\n",
       "  </thead>\n",
       "  <tbody>\n",
       "    <tr>\n",
       "      <th>Company B</th>\n",
       "      <td>0.59</td>\n",
       "      <td>36.05</td>\n",
       "      <td>2</td>\n",
       "      <td>20</td>\n",
       "      <td>43.2</td>\n",
       "    </tr>\n",
       "    <tr>\n",
       "      <th>Company C</th>\n",
       "      <td>459.00</td>\n",
       "      <td>145.02</td>\n",
       "      <td>3</td>\n",
       "      <td>30</td>\n",
       "      <td>2300.0</td>\n",
       "    </tr>\n",
       "    <tr>\n",
       "      <th>Company D</th>\n",
       "      <td>0.52</td>\n",
       "      <td>4.50</td>\n",
       "      <td>4</td>\n",
       "      <td>40</td>\n",
       "      <td>5.6</td>\n",
       "    </tr>\n",
       "  </tbody>\n",
       "</table>\n",
       "</div>"
      ],
      "text/plain": [
       "           Closing price     EPS  Beta  P/E  Market Cap(B)\n",
       "Company B           0.59   36.05     2   20           43.2\n",
       "Company C         459.00  145.02     3   30         2300.0\n",
       "Company D           0.52    4.50     4   40            5.6"
      ]
     },
     "execution_count": 21,
     "metadata": {},
     "output_type": "execute_result"
    }
   ],
   "source": [
    "#extract only few rows by specifying starting and ending row indices\n",
    "#the first index in the slicing is included and the last index is not\n",
    "\n",
    "companydf[1:4]    "
   ]
  },
  {
   "cell_type": "code",
   "execution_count": 22,
   "id": "f0baf13e",
   "metadata": {
    "code_folding": []
   },
   "outputs": [
    {
     "data": {
      "text/html": [
       "<div>\n",
       "<style scoped>\n",
       "    .dataframe tbody tr th:only-of-type {\n",
       "        vertical-align: middle;\n",
       "    }\n",
       "\n",
       "    .dataframe tbody tr th {\n",
       "        vertical-align: top;\n",
       "    }\n",
       "\n",
       "    .dataframe thead th {\n",
       "        text-align: right;\n",
       "    }\n",
       "</style>\n",
       "<table border=\"1\" class=\"dataframe\">\n",
       "  <thead>\n",
       "    <tr style=\"text-align: right;\">\n",
       "      <th></th>\n",
       "      <th>Closing price</th>\n",
       "      <th>EPS</th>\n",
       "      <th>Beta</th>\n",
       "      <th>P/E</th>\n",
       "      <th>Market Cap(B)</th>\n",
       "    </tr>\n",
       "  </thead>\n",
       "  <tbody>\n",
       "    <tr>\n",
       "      <th>Company D</th>\n",
       "      <td>0.52</td>\n",
       "      <td>4.50</td>\n",
       "      <td>4</td>\n",
       "      <td>40</td>\n",
       "      <td>5.60</td>\n",
       "    </tr>\n",
       "    <tr>\n",
       "      <th>Company E</th>\n",
       "      <td>589.80</td>\n",
       "      <td>31.44</td>\n",
       "      <td>5</td>\n",
       "      <td>60</td>\n",
       "      <td>773.80</td>\n",
       "    </tr>\n",
       "    <tr>\n",
       "      <th>Company F</th>\n",
       "      <td>158.88</td>\n",
       "      <td>380.64</td>\n",
       "      <td>6</td>\n",
       "      <td>50</td>\n",
       "      <td>521.56</td>\n",
       "    </tr>\n",
       "  </tbody>\n",
       "</table>\n",
       "</div>"
      ],
      "text/plain": [
       "           Closing price     EPS  Beta  P/E  Market Cap(B)\n",
       "Company D           0.52    4.50     4   40           5.60\n",
       "Company E         589.80   31.44     5   60         773.80\n",
       "Company F         158.88  380.64     6   50         521.56"
      ]
     },
     "execution_count": 22,
     "metadata": {},
     "output_type": "execute_result"
    }
   ],
   "source": [
    "#The dataframe can understand the negative indices, where -1, -2 etc. indicates the rows from the last \n",
    "\n",
    "companydf[-3:]    #extract rows from the index -3 till the end of the dataframe"
   ]
  },
  {
   "cell_type": "code",
   "execution_count": 23,
   "id": "ed99b888",
   "metadata": {
    "code_folding": []
   },
   "outputs": [
    {
     "data": {
      "text/plain": [
       "Company A    1133.43\n",
       "Company B      36.05\n",
       "Company C     145.02\n",
       "Company D       4.50\n",
       "Company E      31.44\n",
       "Company F     380.64\n",
       "Name: EPS, dtype: float64"
      ]
     },
     "execution_count": 23,
     "metadata": {},
     "output_type": "execute_result"
    }
   ],
   "source": [
    "#extract only a particular column \n",
    "companydf['EPS']    #observe that the result is a series "
   ]
  },
  {
   "cell_type": "code",
   "execution_count": 24,
   "id": "5af8fc5c",
   "metadata": {
    "code_folding": []
   },
   "outputs": [
    {
     "data": {
      "text/plain": [
       "Company B    2\n",
       "Company C    3\n",
       "Company D    4\n",
       "Name: Beta, dtype: int64"
      ]
     },
     "execution_count": 24,
     "metadata": {},
     "output_type": "execute_result"
    }
   ],
   "source": [
    "#extract one column with required rows\n",
    "companydf['Beta'][1:4]     #column is extracted first, and from that series, required rows are sliced"
   ]
  },
  {
   "cell_type": "markdown",
   "id": "8c8c5eb8",
   "metadata": {},
   "source": [
    "#### Using functions `loc()` and `iloc()`\n",
    "- `loc` gets rows (or columns) with particular labels/header name for both rows and columns\n",
    "- `iloc` gets rows (or columns) at particular positions (so it only takes integers)."
   ]
  },
  {
   "cell_type": "code",
   "execution_count": 25,
   "id": "50448e7a",
   "metadata": {
    "code_folding": []
   },
   "outputs": [
    {
     "data": {
      "text/html": [
       "<div>\n",
       "<style scoped>\n",
       "    .dataframe tbody tr th:only-of-type {\n",
       "        vertical-align: middle;\n",
       "    }\n",
       "\n",
       "    .dataframe tbody tr th {\n",
       "        vertical-align: top;\n",
       "    }\n",
       "\n",
       "    .dataframe thead th {\n",
       "        text-align: right;\n",
       "    }\n",
       "</style>\n",
       "<table border=\"1\" class=\"dataframe\">\n",
       "  <thead>\n",
       "    <tr style=\"text-align: right;\">\n",
       "      <th></th>\n",
       "      <th>Closing price</th>\n",
       "      <th>EPS</th>\n",
       "      <th>Beta</th>\n",
       "      <th>P/E</th>\n",
       "      <th>Market Cap(B)</th>\n",
       "    </tr>\n",
       "  </thead>\n",
       "  <tbody>\n",
       "    <tr>\n",
       "      <th>Company B</th>\n",
       "      <td>0.59</td>\n",
       "      <td>36.05</td>\n",
       "      <td>2</td>\n",
       "      <td>20</td>\n",
       "      <td>43.2</td>\n",
       "    </tr>\n",
       "    <tr>\n",
       "      <th>Company C</th>\n",
       "      <td>459.00</td>\n",
       "      <td>145.02</td>\n",
       "      <td>3</td>\n",
       "      <td>30</td>\n",
       "      <td>2300.0</td>\n",
       "    </tr>\n",
       "    <tr>\n",
       "      <th>Company D</th>\n",
       "      <td>0.52</td>\n",
       "      <td>4.50</td>\n",
       "      <td>4</td>\n",
       "      <td>40</td>\n",
       "      <td>5.6</td>\n",
       "    </tr>\n",
       "  </tbody>\n",
       "</table>\n",
       "</div>"
      ],
      "text/plain": [
       "           Closing price     EPS  Beta  P/E  Market Cap(B)\n",
       "Company B           0.59   36.05     2   20           43.2\n",
       "Company C         459.00  145.02     3   30         2300.0\n",
       "Company D           0.52    4.50     4   40            5.6"
      ]
     },
     "execution_count": 25,
     "metadata": {},
     "output_type": "execute_result"
    }
   ],
   "source": [
    "# We must give the actual indices which are in string format\n",
    "companydf.loc['Company B': 'Company D']       #note that both starting and ending indices are inclusive"
   ]
  },
  {
   "cell_type": "code",
   "execution_count": 26,
   "id": "316af4a8",
   "metadata": {
    "code_folding": []
   },
   "outputs": [
    {
     "data": {
      "text/html": [
       "<div>\n",
       "<style scoped>\n",
       "    .dataframe tbody tr th:only-of-type {\n",
       "        vertical-align: middle;\n",
       "    }\n",
       "\n",
       "    .dataframe tbody tr th {\n",
       "        vertical-align: top;\n",
       "    }\n",
       "\n",
       "    .dataframe thead th {\n",
       "        text-align: right;\n",
       "    }\n",
       "</style>\n",
       "<table border=\"1\" class=\"dataframe\">\n",
       "  <thead>\n",
       "    <tr style=\"text-align: right;\">\n",
       "      <th></th>\n",
       "      <th>EPS</th>\n",
       "      <th>Beta</th>\n",
       "    </tr>\n",
       "  </thead>\n",
       "  <tbody>\n",
       "    <tr>\n",
       "      <th>Company B</th>\n",
       "      <td>36.05</td>\n",
       "      <td>2</td>\n",
       "    </tr>\n",
       "    <tr>\n",
       "      <th>Company C</th>\n",
       "      <td>145.02</td>\n",
       "      <td>3</td>\n",
       "    </tr>\n",
       "    <tr>\n",
       "      <th>Company D</th>\n",
       "      <td>4.50</td>\n",
       "      <td>4</td>\n",
       "    </tr>\n",
       "  </tbody>\n",
       "</table>\n",
       "</div>"
      ],
      "text/plain": [
       "              EPS  Beta\n",
       "Company B   36.05     2\n",
       "Company C  145.02     3\n",
       "Company D    4.50     4"
      ]
     },
     "execution_count": 26,
     "metadata": {},
     "output_type": "execute_result"
    }
   ],
   "source": [
    "# observe the list of column names used to extract only the required columns\n",
    "companydf.loc['Company B': 'Company D'][['EPS', 'Beta']] "
   ]
  },
  {
   "cell_type": "code",
   "execution_count": 27,
   "id": "66686cd1",
   "metadata": {
    "code_folding": []
   },
   "outputs": [
    {
     "ename": "TypeError",
     "evalue": "cannot do slice indexing on Index with these indexers [3] of type int",
     "output_type": "error",
     "traceback": [
      "\u001b[1;31m---------------------------------------------------------------------------\u001b[0m",
      "\u001b[1;31mTypeError\u001b[0m                                 Traceback (most recent call last)",
      "Cell \u001b[1;32mIn[27], line 2\u001b[0m\n\u001b[0;32m      1\u001b[0m \u001b[38;5;66;03m#following code generates error, because the row indices of the data frame are not numbers\u001b[39;00m\n\u001b[1;32m----> 2\u001b[0m \u001b[43mcompanydf\u001b[49m\u001b[38;5;241;43m.\u001b[39;49m\u001b[43mloc\u001b[49m\u001b[43m[\u001b[49m\u001b[43m:\u001b[49m\u001b[38;5;241;43m3\u001b[39;49m\u001b[43m]\u001b[49m\n",
      "File \u001b[1;32mC:\\ProgramData\\Anaconda3\\lib\\site-packages\\pandas\\core\\indexing.py:1073\u001b[0m, in \u001b[0;36m_LocationIndexer.__getitem__\u001b[1;34m(self, key)\u001b[0m\n\u001b[0;32m   1070\u001b[0m axis \u001b[38;5;241m=\u001b[39m \u001b[38;5;28mself\u001b[39m\u001b[38;5;241m.\u001b[39maxis \u001b[38;5;129;01mor\u001b[39;00m \u001b[38;5;241m0\u001b[39m\n\u001b[0;32m   1072\u001b[0m maybe_callable \u001b[38;5;241m=\u001b[39m com\u001b[38;5;241m.\u001b[39mapply_if_callable(key, \u001b[38;5;28mself\u001b[39m\u001b[38;5;241m.\u001b[39mobj)\n\u001b[1;32m-> 1073\u001b[0m \u001b[38;5;28;01mreturn\u001b[39;00m \u001b[38;5;28;43mself\u001b[39;49m\u001b[38;5;241;43m.\u001b[39;49m\u001b[43m_getitem_axis\u001b[49m\u001b[43m(\u001b[49m\u001b[43mmaybe_callable\u001b[49m\u001b[43m,\u001b[49m\u001b[43m \u001b[49m\u001b[43maxis\u001b[49m\u001b[38;5;241;43m=\u001b[39;49m\u001b[43maxis\u001b[49m\u001b[43m)\u001b[49m\n",
      "File \u001b[1;32mC:\\ProgramData\\Anaconda3\\lib\\site-packages\\pandas\\core\\indexing.py:1290\u001b[0m, in \u001b[0;36m_LocIndexer._getitem_axis\u001b[1;34m(self, key, axis)\u001b[0m\n\u001b[0;32m   1288\u001b[0m \u001b[38;5;28;01mif\u001b[39;00m \u001b[38;5;28misinstance\u001b[39m(key, \u001b[38;5;28mslice\u001b[39m):\n\u001b[0;32m   1289\u001b[0m     \u001b[38;5;28mself\u001b[39m\u001b[38;5;241m.\u001b[39m_validate_key(key, axis)\n\u001b[1;32m-> 1290\u001b[0m     \u001b[38;5;28;01mreturn\u001b[39;00m \u001b[38;5;28;43mself\u001b[39;49m\u001b[38;5;241;43m.\u001b[39;49m\u001b[43m_get_slice_axis\u001b[49m\u001b[43m(\u001b[49m\u001b[43mkey\u001b[49m\u001b[43m,\u001b[49m\u001b[43m \u001b[49m\u001b[43maxis\u001b[49m\u001b[38;5;241;43m=\u001b[39;49m\u001b[43maxis\u001b[49m\u001b[43m)\u001b[49m\n\u001b[0;32m   1291\u001b[0m \u001b[38;5;28;01melif\u001b[39;00m com\u001b[38;5;241m.\u001b[39mis_bool_indexer(key):\n\u001b[0;32m   1292\u001b[0m     \u001b[38;5;28;01mreturn\u001b[39;00m \u001b[38;5;28mself\u001b[39m\u001b[38;5;241m.\u001b[39m_getbool_axis(key, axis\u001b[38;5;241m=\u001b[39maxis)\n",
      "File \u001b[1;32mC:\\ProgramData\\Anaconda3\\lib\\site-packages\\pandas\\core\\indexing.py:1324\u001b[0m, in \u001b[0;36m_LocIndexer._get_slice_axis\u001b[1;34m(self, slice_obj, axis)\u001b[0m\n\u001b[0;32m   1321\u001b[0m     \u001b[38;5;28;01mreturn\u001b[39;00m obj\u001b[38;5;241m.\u001b[39mcopy(deep\u001b[38;5;241m=\u001b[39m\u001b[38;5;28;01mFalse\u001b[39;00m)\n\u001b[0;32m   1323\u001b[0m labels \u001b[38;5;241m=\u001b[39m obj\u001b[38;5;241m.\u001b[39m_get_axis(axis)\n\u001b[1;32m-> 1324\u001b[0m indexer \u001b[38;5;241m=\u001b[39m \u001b[43mlabels\u001b[49m\u001b[38;5;241;43m.\u001b[39;49m\u001b[43mslice_indexer\u001b[49m\u001b[43m(\u001b[49m\u001b[43mslice_obj\u001b[49m\u001b[38;5;241;43m.\u001b[39;49m\u001b[43mstart\u001b[49m\u001b[43m,\u001b[49m\u001b[43m \u001b[49m\u001b[43mslice_obj\u001b[49m\u001b[38;5;241;43m.\u001b[39;49m\u001b[43mstop\u001b[49m\u001b[43m,\u001b[49m\u001b[43m \u001b[49m\u001b[43mslice_obj\u001b[49m\u001b[38;5;241;43m.\u001b[39;49m\u001b[43mstep\u001b[49m\u001b[43m)\u001b[49m\n\u001b[0;32m   1326\u001b[0m \u001b[38;5;28;01mif\u001b[39;00m \u001b[38;5;28misinstance\u001b[39m(indexer, \u001b[38;5;28mslice\u001b[39m):\n\u001b[0;32m   1327\u001b[0m     \u001b[38;5;28;01mreturn\u001b[39;00m \u001b[38;5;28mself\u001b[39m\u001b[38;5;241m.\u001b[39mobj\u001b[38;5;241m.\u001b[39m_slice(indexer, axis\u001b[38;5;241m=\u001b[39maxis)\n",
      "File \u001b[1;32mC:\\ProgramData\\Anaconda3\\lib\\site-packages\\pandas\\core\\indexes\\base.py:6559\u001b[0m, in \u001b[0;36mIndex.slice_indexer\u001b[1;34m(self, start, end, step, kind)\u001b[0m\n\u001b[0;32m   6516\u001b[0m \u001b[38;5;250m\u001b[39m\u001b[38;5;124;03m\"\"\"\u001b[39;00m\n\u001b[0;32m   6517\u001b[0m \u001b[38;5;124;03mCompute the slice indexer for input labels and step.\u001b[39;00m\n\u001b[0;32m   6518\u001b[0m \n\u001b[1;32m   (...)\u001b[0m\n\u001b[0;32m   6555\u001b[0m \u001b[38;5;124;03mslice(1, 3, None)\u001b[39;00m\n\u001b[0;32m   6556\u001b[0m \u001b[38;5;124;03m\"\"\"\u001b[39;00m\n\u001b[0;32m   6557\u001b[0m \u001b[38;5;28mself\u001b[39m\u001b[38;5;241m.\u001b[39m_deprecated_arg(kind, \u001b[38;5;124m\"\u001b[39m\u001b[38;5;124mkind\u001b[39m\u001b[38;5;124m\"\u001b[39m, \u001b[38;5;124m\"\u001b[39m\u001b[38;5;124mslice_indexer\u001b[39m\u001b[38;5;124m\"\u001b[39m)\n\u001b[1;32m-> 6559\u001b[0m start_slice, end_slice \u001b[38;5;241m=\u001b[39m \u001b[38;5;28;43mself\u001b[39;49m\u001b[38;5;241;43m.\u001b[39;49m\u001b[43mslice_locs\u001b[49m\u001b[43m(\u001b[49m\u001b[43mstart\u001b[49m\u001b[43m,\u001b[49m\u001b[43m \u001b[49m\u001b[43mend\u001b[49m\u001b[43m,\u001b[49m\u001b[43m \u001b[49m\u001b[43mstep\u001b[49m\u001b[38;5;241;43m=\u001b[39;49m\u001b[43mstep\u001b[49m\u001b[43m)\u001b[49m\n\u001b[0;32m   6561\u001b[0m \u001b[38;5;66;03m# return a slice\u001b[39;00m\n\u001b[0;32m   6562\u001b[0m \u001b[38;5;28;01mif\u001b[39;00m \u001b[38;5;129;01mnot\u001b[39;00m is_scalar(start_slice):\n",
      "File \u001b[1;32mC:\\ProgramData\\Anaconda3\\lib\\site-packages\\pandas\\core\\indexes\\base.py:6773\u001b[0m, in \u001b[0;36mIndex.slice_locs\u001b[1;34m(self, start, end, step, kind)\u001b[0m\n\u001b[0;32m   6771\u001b[0m end_slice \u001b[38;5;241m=\u001b[39m \u001b[38;5;28;01mNone\u001b[39;00m\n\u001b[0;32m   6772\u001b[0m \u001b[38;5;28;01mif\u001b[39;00m end \u001b[38;5;129;01mis\u001b[39;00m \u001b[38;5;129;01mnot\u001b[39;00m \u001b[38;5;28;01mNone\u001b[39;00m:\n\u001b[1;32m-> 6773\u001b[0m     end_slice \u001b[38;5;241m=\u001b[39m \u001b[38;5;28;43mself\u001b[39;49m\u001b[38;5;241;43m.\u001b[39;49m\u001b[43mget_slice_bound\u001b[49m\u001b[43m(\u001b[49m\u001b[43mend\u001b[49m\u001b[43m,\u001b[49m\u001b[43m \u001b[49m\u001b[38;5;124;43m\"\u001b[39;49m\u001b[38;5;124;43mright\u001b[39;49m\u001b[38;5;124;43m\"\u001b[39;49m\u001b[43m)\u001b[49m\n\u001b[0;32m   6774\u001b[0m \u001b[38;5;28;01mif\u001b[39;00m end_slice \u001b[38;5;129;01mis\u001b[39;00m \u001b[38;5;28;01mNone\u001b[39;00m:\n\u001b[0;32m   6775\u001b[0m     end_slice \u001b[38;5;241m=\u001b[39m \u001b[38;5;28mlen\u001b[39m(\u001b[38;5;28mself\u001b[39m)\n",
      "File \u001b[1;32mC:\\ProgramData\\Anaconda3\\lib\\site-packages\\pandas\\core\\indexes\\base.py:6676\u001b[0m, in \u001b[0;36mIndex.get_slice_bound\u001b[1;34m(self, label, side, kind)\u001b[0m\n\u001b[0;32m   6672\u001b[0m original_label \u001b[38;5;241m=\u001b[39m label\n\u001b[0;32m   6674\u001b[0m \u001b[38;5;66;03m# For datetime indices label may be a string that has to be converted\u001b[39;00m\n\u001b[0;32m   6675\u001b[0m \u001b[38;5;66;03m# to datetime boundary according to its resolution.\u001b[39;00m\n\u001b[1;32m-> 6676\u001b[0m label \u001b[38;5;241m=\u001b[39m \u001b[38;5;28;43mself\u001b[39;49m\u001b[38;5;241;43m.\u001b[39;49m\u001b[43m_maybe_cast_slice_bound\u001b[49m\u001b[43m(\u001b[49m\u001b[43mlabel\u001b[49m\u001b[43m,\u001b[49m\u001b[43m \u001b[49m\u001b[43mside\u001b[49m\u001b[43m)\u001b[49m\n\u001b[0;32m   6678\u001b[0m \u001b[38;5;66;03m# we need to look up the label\u001b[39;00m\n\u001b[0;32m   6679\u001b[0m \u001b[38;5;28;01mtry\u001b[39;00m:\n",
      "File \u001b[1;32mC:\\ProgramData\\Anaconda3\\lib\\site-packages\\pandas\\core\\indexes\\base.py:6623\u001b[0m, in \u001b[0;36mIndex._maybe_cast_slice_bound\u001b[1;34m(self, label, side, kind)\u001b[0m\n\u001b[0;32m   6618\u001b[0m \u001b[38;5;66;03m# We are a plain index here (sub-class override this method if they\u001b[39;00m\n\u001b[0;32m   6619\u001b[0m \u001b[38;5;66;03m# wish to have special treatment for floats/ints, e.g. Float64Index and\u001b[39;00m\n\u001b[0;32m   6620\u001b[0m \u001b[38;5;66;03m# datetimelike Indexes\u001b[39;00m\n\u001b[0;32m   6621\u001b[0m \u001b[38;5;66;03m# reject them, if index does not contain label\u001b[39;00m\n\u001b[0;32m   6622\u001b[0m \u001b[38;5;28;01mif\u001b[39;00m (is_float(label) \u001b[38;5;129;01mor\u001b[39;00m is_integer(label)) \u001b[38;5;129;01mand\u001b[39;00m label \u001b[38;5;129;01mnot\u001b[39;00m \u001b[38;5;129;01min\u001b[39;00m \u001b[38;5;28mself\u001b[39m:\n\u001b[1;32m-> 6623\u001b[0m     \u001b[38;5;28;01mraise\u001b[39;00m \u001b[38;5;28mself\u001b[39m\u001b[38;5;241m.\u001b[39m_invalid_indexer(\u001b[38;5;124m\"\u001b[39m\u001b[38;5;124mslice\u001b[39m\u001b[38;5;124m\"\u001b[39m, label)\n\u001b[0;32m   6625\u001b[0m \u001b[38;5;28;01mreturn\u001b[39;00m label\n",
      "\u001b[1;31mTypeError\u001b[0m: cannot do slice indexing on Index with these indexers [3] of type int"
     ]
    }
   ],
   "source": [
    "#following code generates error, because the row indices of the data frame are not numbers\n",
    "companydf.loc[:3]    "
   ]
  },
  {
   "cell_type": "code",
   "execution_count": 28,
   "id": "cb731d14",
   "metadata": {
    "code_folding": []
   },
   "outputs": [
    {
     "data": {
      "text/html": [
       "<div>\n",
       "<style scoped>\n",
       "    .dataframe tbody tr th:only-of-type {\n",
       "        vertical-align: middle;\n",
       "    }\n",
       "\n",
       "    .dataframe tbody tr th {\n",
       "        vertical-align: top;\n",
       "    }\n",
       "\n",
       "    .dataframe thead th {\n",
       "        text-align: right;\n",
       "    }\n",
       "</style>\n",
       "<table border=\"1\" class=\"dataframe\">\n",
       "  <thead>\n",
       "    <tr style=\"text-align: right;\">\n",
       "      <th></th>\n",
       "      <th>Closing price</th>\n",
       "      <th>EPS</th>\n",
       "    </tr>\n",
       "  </thead>\n",
       "  <tbody>\n",
       "    <tr>\n",
       "      <th>Company B</th>\n",
       "      <td>0.59</td>\n",
       "      <td>36.05</td>\n",
       "    </tr>\n",
       "    <tr>\n",
       "      <th>Company C</th>\n",
       "      <td>459.00</td>\n",
       "      <td>145.02</td>\n",
       "    </tr>\n",
       "  </tbody>\n",
       "</table>\n",
       "</div>"
      ],
      "text/plain": [
       "           Closing price     EPS\n",
       "Company B           0.59   36.05\n",
       "Company C         459.00  145.02"
      ]
     },
     "execution_count": 28,
     "metadata": {},
     "output_type": "execute_result"
    }
   ],
   "source": [
    "# when you want to extract the rows and columns using the index positions, use iloc()\n",
    "# Extract using column number\n",
    "companydf.iloc[1:3,0:2]   #row numbers 1, 2 and column numbers 0 and 1 are displayed\n"
   ]
  },
  {
   "cell_type": "code",
   "execution_count": 29,
   "id": "b17a9f4e",
   "metadata": {
    "code_folding": []
   },
   "outputs": [
    {
     "data": {
      "text/html": [
       "<div>\n",
       "<style scoped>\n",
       "    .dataframe tbody tr th:only-of-type {\n",
       "        vertical-align: middle;\n",
       "    }\n",
       "\n",
       "    .dataframe tbody tr th {\n",
       "        vertical-align: top;\n",
       "    }\n",
       "\n",
       "    .dataframe thead th {\n",
       "        text-align: right;\n",
       "    }\n",
       "</style>\n",
       "<table border=\"1\" class=\"dataframe\">\n",
       "  <thead>\n",
       "    <tr style=\"text-align: right;\">\n",
       "      <th></th>\n",
       "      <th>EPS</th>\n",
       "      <th>Market Cap(B)</th>\n",
       "      <th>P/E</th>\n",
       "    </tr>\n",
       "  </thead>\n",
       "  <tbody>\n",
       "    <tr>\n",
       "      <th>Company A</th>\n",
       "      <td>1133.43</td>\n",
       "      <td>1254.05</td>\n",
       "      <td>10</td>\n",
       "    </tr>\n",
       "    <tr>\n",
       "      <th>Company B</th>\n",
       "      <td>36.05</td>\n",
       "      <td>43.20</td>\n",
       "      <td>20</td>\n",
       "    </tr>\n",
       "    <tr>\n",
       "      <th>Company C</th>\n",
       "      <td>145.02</td>\n",
       "      <td>2300.00</td>\n",
       "      <td>30</td>\n",
       "    </tr>\n",
       "    <tr>\n",
       "      <th>Company D</th>\n",
       "      <td>4.50</td>\n",
       "      <td>5.60</td>\n",
       "      <td>40</td>\n",
       "    </tr>\n",
       "    <tr>\n",
       "      <th>Company E</th>\n",
       "      <td>31.44</td>\n",
       "      <td>773.80</td>\n",
       "      <td>60</td>\n",
       "    </tr>\n",
       "    <tr>\n",
       "      <th>Company F</th>\n",
       "      <td>380.64</td>\n",
       "      <td>521.56</td>\n",
       "      <td>50</td>\n",
       "    </tr>\n",
       "  </tbody>\n",
       "</table>\n",
       "</div>"
      ],
      "text/plain": [
       "               EPS  Market Cap(B)  P/E\n",
       "Company A  1133.43        1254.05   10\n",
       "Company B    36.05          43.20   20\n",
       "Company C   145.02        2300.00   30\n",
       "Company D     4.50           5.60   40\n",
       "Company E    31.44         773.80   60\n",
       "Company F   380.64         521.56   50"
      ]
     },
     "execution_count": 29,
     "metadata": {},
     "output_type": "execute_result"
    }
   ],
   "source": [
    "#we can use lists to select any row/column, not necessarily in a sequence\n",
    "companydf.iloc[:,[1,4,3]]  #all rows of columns 1, 3 and 4 are displayed"
   ]
  },
  {
   "cell_type": "code",
   "execution_count": 30,
   "id": "50de5cfb",
   "metadata": {
    "code_folding": []
   },
   "outputs": [
    {
     "data": {
      "text/html": [
       "<div>\n",
       "<style scoped>\n",
       "    .dataframe tbody tr th:only-of-type {\n",
       "        vertical-align: middle;\n",
       "    }\n",
       "\n",
       "    .dataframe tbody tr th {\n",
       "        vertical-align: top;\n",
       "    }\n",
       "\n",
       "    .dataframe thead th {\n",
       "        text-align: right;\n",
       "    }\n",
       "</style>\n",
       "<table border=\"1\" class=\"dataframe\">\n",
       "  <thead>\n",
       "    <tr style=\"text-align: right;\">\n",
       "      <th></th>\n",
       "      <th>EPS</th>\n",
       "      <th>P/E</th>\n",
       "    </tr>\n",
       "  </thead>\n",
       "  <tbody>\n",
       "    <tr>\n",
       "      <th>Company A</th>\n",
       "      <td>1133.43</td>\n",
       "      <td>10</td>\n",
       "    </tr>\n",
       "    <tr>\n",
       "      <th>Company C</th>\n",
       "      <td>145.02</td>\n",
       "      <td>30</td>\n",
       "    </tr>\n",
       "  </tbody>\n",
       "</table>\n",
       "</div>"
      ],
      "text/plain": [
       "               EPS  P/E\n",
       "Company A  1133.43   10\n",
       "Company C   145.02   30"
      ]
     },
     "execution_count": 30,
     "metadata": {},
     "output_type": "execute_result"
    }
   ],
   "source": [
    "#row 0 and 2 of column 1 and 3  are displayed\n",
    "companydf.iloc[[0,2],[1,3]]   "
   ]
  },
  {
   "cell_type": "markdown",
   "id": "ad042e05",
   "metadata": {},
   "source": [
    "### Part 2.2.3  : Changing the indices and saving the new dataframe"
   ]
  },
  {
   "cell_type": "markdown",
   "id": "4a5a553a",
   "metadata": {},
   "source": [
    "- We will look at how to turn an index column into one of the attributes in the dataframe, and vice-versa\n",
    "- Also, we will see how to change the name of a column\n",
    "- For demonstrating these, we will use **companydf** dataframe created earlier."
   ]
  },
  {
   "cell_type": "code",
   "execution_count": 31,
   "id": "571e6880",
   "metadata": {
    "code_folding": []
   },
   "outputs": [
    {
     "data": {
      "text/html": [
       "<div>\n",
       "<style scoped>\n",
       "    .dataframe tbody tr th:only-of-type {\n",
       "        vertical-align: middle;\n",
       "    }\n",
       "\n",
       "    .dataframe tbody tr th {\n",
       "        vertical-align: top;\n",
       "    }\n",
       "\n",
       "    .dataframe thead th {\n",
       "        text-align: right;\n",
       "    }\n",
       "</style>\n",
       "<table border=\"1\" class=\"dataframe\">\n",
       "  <thead>\n",
       "    <tr style=\"text-align: right;\">\n",
       "      <th></th>\n",
       "      <th>Closing price</th>\n",
       "      <th>EPS</th>\n",
       "      <th>Beta</th>\n",
       "      <th>P/E</th>\n",
       "      <th>Market Cap(B)</th>\n",
       "    </tr>\n",
       "  </thead>\n",
       "  <tbody>\n",
       "    <tr>\n",
       "      <th>Company A</th>\n",
       "      <td>346.15</td>\n",
       "      <td>1133.43</td>\n",
       "      <td>1</td>\n",
       "      <td>10</td>\n",
       "      <td>1254.05</td>\n",
       "    </tr>\n",
       "    <tr>\n",
       "      <th>Company B</th>\n",
       "      <td>0.59</td>\n",
       "      <td>36.05</td>\n",
       "      <td>2</td>\n",
       "      <td>20</td>\n",
       "      <td>43.20</td>\n",
       "    </tr>\n",
       "    <tr>\n",
       "      <th>Company C</th>\n",
       "      <td>459.00</td>\n",
       "      <td>145.02</td>\n",
       "      <td>3</td>\n",
       "      <td>30</td>\n",
       "      <td>2300.00</td>\n",
       "    </tr>\n",
       "    <tr>\n",
       "      <th>Company D</th>\n",
       "      <td>0.52</td>\n",
       "      <td>4.50</td>\n",
       "      <td>4</td>\n",
       "      <td>40</td>\n",
       "      <td>5.60</td>\n",
       "    </tr>\n",
       "    <tr>\n",
       "      <th>Company E</th>\n",
       "      <td>589.80</td>\n",
       "      <td>31.44</td>\n",
       "      <td>5</td>\n",
       "      <td>60</td>\n",
       "      <td>773.80</td>\n",
       "    </tr>\n",
       "    <tr>\n",
       "      <th>Company F</th>\n",
       "      <td>158.88</td>\n",
       "      <td>380.64</td>\n",
       "      <td>6</td>\n",
       "      <td>50</td>\n",
       "      <td>521.56</td>\n",
       "    </tr>\n",
       "  </tbody>\n",
       "</table>\n",
       "</div>"
      ],
      "text/plain": [
       "           Closing price      EPS  Beta  P/E  Market Cap(B)\n",
       "Company A         346.15  1133.43     1   10        1254.05\n",
       "Company B           0.59    36.05     2   20          43.20\n",
       "Company C         459.00   145.02     3   30        2300.00\n",
       "Company D           0.52     4.50     4   40           5.60\n",
       "Company E         589.80    31.44     5   60         773.80\n",
       "Company F         158.88   380.64     6   50         521.56"
      ]
     },
     "execution_count": 31,
     "metadata": {},
     "output_type": "execute_result"
    }
   ],
   "source": [
    "# view the dataframe\n",
    "companydf"
   ]
  },
  {
   "cell_type": "code",
   "execution_count": 32,
   "id": "a95de803",
   "metadata": {
    "code_folding": []
   },
   "outputs": [
    {
     "data": {
      "text/html": [
       "<div>\n",
       "<style scoped>\n",
       "    .dataframe tbody tr th:only-of-type {\n",
       "        vertical-align: middle;\n",
       "    }\n",
       "\n",
       "    .dataframe tbody tr th {\n",
       "        vertical-align: top;\n",
       "    }\n",
       "\n",
       "    .dataframe thead th {\n",
       "        text-align: right;\n",
       "    }\n",
       "</style>\n",
       "<table border=\"1\" class=\"dataframe\">\n",
       "  <thead>\n",
       "    <tr style=\"text-align: right;\">\n",
       "      <th></th>\n",
       "      <th>index</th>\n",
       "      <th>Closing price</th>\n",
       "      <th>EPS</th>\n",
       "      <th>Beta</th>\n",
       "      <th>P/E</th>\n",
       "      <th>Market Cap(B)</th>\n",
       "    </tr>\n",
       "  </thead>\n",
       "  <tbody>\n",
       "    <tr>\n",
       "      <th>0</th>\n",
       "      <td>Company A</td>\n",
       "      <td>346.15</td>\n",
       "      <td>1133.43</td>\n",
       "      <td>1</td>\n",
       "      <td>10</td>\n",
       "      <td>1254.05</td>\n",
       "    </tr>\n",
       "    <tr>\n",
       "      <th>1</th>\n",
       "      <td>Company B</td>\n",
       "      <td>0.59</td>\n",
       "      <td>36.05</td>\n",
       "      <td>2</td>\n",
       "      <td>20</td>\n",
       "      <td>43.20</td>\n",
       "    </tr>\n",
       "    <tr>\n",
       "      <th>2</th>\n",
       "      <td>Company C</td>\n",
       "      <td>459.00</td>\n",
       "      <td>145.02</td>\n",
       "      <td>3</td>\n",
       "      <td>30</td>\n",
       "      <td>2300.00</td>\n",
       "    </tr>\n",
       "    <tr>\n",
       "      <th>3</th>\n",
       "      <td>Company D</td>\n",
       "      <td>0.52</td>\n",
       "      <td>4.50</td>\n",
       "      <td>4</td>\n",
       "      <td>40</td>\n",
       "      <td>5.60</td>\n",
       "    </tr>\n",
       "    <tr>\n",
       "      <th>4</th>\n",
       "      <td>Company E</td>\n",
       "      <td>589.80</td>\n",
       "      <td>31.44</td>\n",
       "      <td>5</td>\n",
       "      <td>60</td>\n",
       "      <td>773.80</td>\n",
       "    </tr>\n",
       "    <tr>\n",
       "      <th>5</th>\n",
       "      <td>Company F</td>\n",
       "      <td>158.88</td>\n",
       "      <td>380.64</td>\n",
       "      <td>6</td>\n",
       "      <td>50</td>\n",
       "      <td>521.56</td>\n",
       "    </tr>\n",
       "  </tbody>\n",
       "</table>\n",
       "</div>"
      ],
      "text/plain": [
       "       index  Closing price      EPS  Beta  P/E  Market Cap(B)\n",
       "0  Company A         346.15  1133.43     1   10        1254.05\n",
       "1  Company B           0.59    36.05     2   20          43.20\n",
       "2  Company C         459.00   145.02     3   30        2300.00\n",
       "3  Company D           0.52     4.50     4   40           5.60\n",
       "4  Company E         589.80    31.44     5   60         773.80\n",
       "5  Company F         158.88   380.64     6   50         521.56"
      ]
     },
     "execution_count": 32,
     "metadata": {},
     "output_type": "execute_result"
    }
   ],
   "source": [
    "# use the reset_index() method to make the existing indices a column of the data frame\n",
    "companydf.reset_index(inplace = True)\n",
    "companydf"
   ]
  },
  {
   "cell_type": "code",
   "execution_count": 33,
   "id": "b6b4d66c",
   "metadata": {
    "code_folding": []
   },
   "outputs": [
    {
     "data": {
      "text/html": [
       "<div>\n",
       "<style scoped>\n",
       "    .dataframe tbody tr th:only-of-type {\n",
       "        vertical-align: middle;\n",
       "    }\n",
       "\n",
       "    .dataframe tbody tr th {\n",
       "        vertical-align: top;\n",
       "    }\n",
       "\n",
       "    .dataframe thead th {\n",
       "        text-align: right;\n",
       "    }\n",
       "</style>\n",
       "<table border=\"1\" class=\"dataframe\">\n",
       "  <thead>\n",
       "    <tr style=\"text-align: right;\">\n",
       "      <th></th>\n",
       "      <th>Company names</th>\n",
       "      <th>Closing price</th>\n",
       "      <th>EPS</th>\n",
       "      <th>Beta</th>\n",
       "      <th>P/E</th>\n",
       "      <th>Market Cap(B)</th>\n",
       "    </tr>\n",
       "  </thead>\n",
       "  <tbody>\n",
       "    <tr>\n",
       "      <th>0</th>\n",
       "      <td>Company A</td>\n",
       "      <td>346.15</td>\n",
       "      <td>1133.43</td>\n",
       "      <td>1</td>\n",
       "      <td>10</td>\n",
       "      <td>1254.05</td>\n",
       "    </tr>\n",
       "    <tr>\n",
       "      <th>1</th>\n",
       "      <td>Company B</td>\n",
       "      <td>0.59</td>\n",
       "      <td>36.05</td>\n",
       "      <td>2</td>\n",
       "      <td>20</td>\n",
       "      <td>43.20</td>\n",
       "    </tr>\n",
       "    <tr>\n",
       "      <th>2</th>\n",
       "      <td>Company C</td>\n",
       "      <td>459.00</td>\n",
       "      <td>145.02</td>\n",
       "      <td>3</td>\n",
       "      <td>30</td>\n",
       "      <td>2300.00</td>\n",
       "    </tr>\n",
       "    <tr>\n",
       "      <th>3</th>\n",
       "      <td>Company D</td>\n",
       "      <td>0.52</td>\n",
       "      <td>4.50</td>\n",
       "      <td>4</td>\n",
       "      <td>40</td>\n",
       "      <td>5.60</td>\n",
       "    </tr>\n",
       "    <tr>\n",
       "      <th>4</th>\n",
       "      <td>Company E</td>\n",
       "      <td>589.80</td>\n",
       "      <td>31.44</td>\n",
       "      <td>5</td>\n",
       "      <td>60</td>\n",
       "      <td>773.80</td>\n",
       "    </tr>\n",
       "    <tr>\n",
       "      <th>5</th>\n",
       "      <td>Company F</td>\n",
       "      <td>158.88</td>\n",
       "      <td>380.64</td>\n",
       "      <td>6</td>\n",
       "      <td>50</td>\n",
       "      <td>521.56</td>\n",
       "    </tr>\n",
       "  </tbody>\n",
       "</table>\n",
       "</div>"
      ],
      "text/plain": [
       "  Company names  Closing price      EPS  Beta  P/E  Market Cap(B)\n",
       "0     Company A         346.15  1133.43     1   10        1254.05\n",
       "1     Company B           0.59    36.05     2   20          43.20\n",
       "2     Company C         459.00   145.02     3   30        2300.00\n",
       "3     Company D           0.52     4.50     4   40           5.60\n",
       "4     Company E         589.80    31.44     5   60         773.80\n",
       "5     Company F         158.88   380.64     6   50         521.56"
      ]
     },
     "execution_count": 33,
     "metadata": {},
     "output_type": "execute_result"
    }
   ],
   "source": [
    "# give a new name to this column\n",
    "companydf.rename(columns={'index':'Company names'},inplace=True)\n",
    "companydf"
   ]
  },
  {
   "cell_type": "code",
   "execution_count": 34,
   "id": "18a6dfcc",
   "metadata": {
    "code_folding": []
   },
   "outputs": [
    {
     "data": {
      "text/html": [
       "<div>\n",
       "<style scoped>\n",
       "    .dataframe tbody tr th:only-of-type {\n",
       "        vertical-align: middle;\n",
       "    }\n",
       "\n",
       "    .dataframe tbody tr th {\n",
       "        vertical-align: top;\n",
       "    }\n",
       "\n",
       "    .dataframe thead th {\n",
       "        text-align: right;\n",
       "    }\n",
       "</style>\n",
       "<table border=\"1\" class=\"dataframe\">\n",
       "  <thead>\n",
       "    <tr style=\"text-align: right;\">\n",
       "      <th></th>\n",
       "      <th>Closing price</th>\n",
       "      <th>EPS</th>\n",
       "      <th>Beta</th>\n",
       "      <th>P/E</th>\n",
       "      <th>Market Cap(B)</th>\n",
       "    </tr>\n",
       "    <tr>\n",
       "      <th>Company names</th>\n",
       "      <th></th>\n",
       "      <th></th>\n",
       "      <th></th>\n",
       "      <th></th>\n",
       "      <th></th>\n",
       "    </tr>\n",
       "  </thead>\n",
       "  <tbody>\n",
       "    <tr>\n",
       "      <th>Company A</th>\n",
       "      <td>346.15</td>\n",
       "      <td>1133.43</td>\n",
       "      <td>1</td>\n",
       "      <td>10</td>\n",
       "      <td>1254.05</td>\n",
       "    </tr>\n",
       "    <tr>\n",
       "      <th>Company B</th>\n",
       "      <td>0.59</td>\n",
       "      <td>36.05</td>\n",
       "      <td>2</td>\n",
       "      <td>20</td>\n",
       "      <td>43.20</td>\n",
       "    </tr>\n",
       "    <tr>\n",
       "      <th>Company C</th>\n",
       "      <td>459.00</td>\n",
       "      <td>145.02</td>\n",
       "      <td>3</td>\n",
       "      <td>30</td>\n",
       "      <td>2300.00</td>\n",
       "    </tr>\n",
       "    <tr>\n",
       "      <th>Company D</th>\n",
       "      <td>0.52</td>\n",
       "      <td>4.50</td>\n",
       "      <td>4</td>\n",
       "      <td>40</td>\n",
       "      <td>5.60</td>\n",
       "    </tr>\n",
       "    <tr>\n",
       "      <th>Company E</th>\n",
       "      <td>589.80</td>\n",
       "      <td>31.44</td>\n",
       "      <td>5</td>\n",
       "      <td>60</td>\n",
       "      <td>773.80</td>\n",
       "    </tr>\n",
       "    <tr>\n",
       "      <th>Company F</th>\n",
       "      <td>158.88</td>\n",
       "      <td>380.64</td>\n",
       "      <td>6</td>\n",
       "      <td>50</td>\n",
       "      <td>521.56</td>\n",
       "    </tr>\n",
       "  </tbody>\n",
       "</table>\n",
       "</div>"
      ],
      "text/plain": [
       "               Closing price      EPS  Beta  P/E  Market Cap(B)\n",
       "Company names                                                  \n",
       "Company A             346.15  1133.43     1   10        1254.05\n",
       "Company B               0.59    36.05     2   20          43.20\n",
       "Company C             459.00   145.02     3   30        2300.00\n",
       "Company D               0.52     4.50     4   40           5.60\n",
       "Company E             589.80    31.44     5   60         773.80\n",
       "Company F             158.88   380.64     6   50         521.56"
      ]
     },
     "execution_count": 34,
     "metadata": {},
     "output_type": "execute_result"
    }
   ],
   "source": [
    "# choose a column and make it the index of the dataframe\n",
    "companydf=companydf.set_index('Company names')\n",
    "companydf"
   ]
  },
  {
   "cell_type": "markdown",
   "id": "5c718d29",
   "metadata": {},
   "source": [
    "##### Save the dataframe into a file"
   ]
  },
  {
   "cell_type": "code",
   "execution_count": 35,
   "id": "f48c8da7",
   "metadata": {
    "code_folding": []
   },
   "outputs": [],
   "source": [
    "# save the data to a CSV\n",
    "companydf.to_csv('CompanyData.csv')"
   ]
  },
  {
   "cell_type": "code",
   "execution_count": null,
   "id": "b0f2c38b",
   "metadata": {},
   "outputs": [],
   "source": []
  },
  {
   "cell_type": "code",
   "execution_count": null,
   "id": "24b67529",
   "metadata": {},
   "outputs": [],
   "source": []
  }
 ],
 "metadata": {
  "kernelspec": {
   "display_name": "Python 3 (ipykernel)",
   "language": "python",
   "name": "python3"
  },
  "language_info": {
   "codemirror_mode": {
    "name": "ipython",
    "version": 3
   },
   "file_extension": ".py",
   "mimetype": "text/x-python",
   "name": "python",
   "nbconvert_exporter": "python",
   "pygments_lexer": "ipython3",
   "version": "3.9.12"
  }
 },
 "nbformat": 4,
 "nbformat_minor": 5
}
