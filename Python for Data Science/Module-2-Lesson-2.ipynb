{
 "cells": [
  {
   "cell_type": "markdown",
   "id": "d448738f",
   "metadata": {},
   "source": [
    "### Lesson 2: DataFrame fundamentals and indexing"
   ]
  },
  {
   "cell_type": "markdown",
   "id": "f13f7f06",
   "metadata": {},
   "source": [
    "### Part 2.2.1  : Crafting DataFrames\n",
    "- The dataframe is most widely used data structure by data scientists\n",
    "- When we read the data file (csv, excel etc.) using pandas read_csv or read_excel functions, the outcome will be a dataframe.\n",
    "- We can perform various operations on rows and columns of the dataframe like indexing, subsetting, grouping etc.\n",
    "- Each column in a dataframe is called a Series.\n",
    "- Let us now explore the fundamentals of the dataframe."
   ]
  },
  {
   "cell_type": "markdown",
   "id": "293c3541",
   "metadata": {},
   "source": [
    "#### We can create a dataframe by using a combination of data structures like list, dictionary and series. So, let us first understand lists, dictionary and series\n"
   ]
  },
  {
   "cell_type": "markdown",
   "id": "24b9a8d5",
   "metadata": {},
   "source": [
    "###### A list is a data structure in Python which is a sequence of elements, which can be of different types"
   ]
  },
  {
   "cell_type": "code",
   "execution_count": null,
   "id": "72229669",
   "metadata": {
    "code_folding": []
   },
   "outputs": [],
   "source": [
    "# create a simple list\n",
    "ls = [1,2,3.02,'x', 10]"
   ]
  },
  {
   "cell_type": "code",
   "execution_count": null,
   "id": "b3d7d9a2",
   "metadata": {
    "code_folding": []
   },
   "outputs": [],
   "source": [
    "# print the list\n",
    "print(ls)"
   ]
  },
  {
   "cell_type": "code",
   "execution_count": null,
   "id": "1d6964d8",
   "metadata": {
    "code_folding": []
   },
   "outputs": [],
   "source": [
    "#ls is of type list\n",
    "print(type(ls))  "
   ]
  },
  {
   "cell_type": "code",
   "execution_count": null,
   "id": "4d7553ec",
   "metadata": {
    "code_folding": []
   },
   "outputs": [],
   "source": [
    "# reading data from the keyboard and create a list\n",
    "\n",
    "ls=[]   # create empty list"
   ]
  },
  {
   "cell_type": "code",
   "execution_count": null,
   "id": "67ba4292",
   "metadata": {},
   "outputs": [],
   "source": [
    "print(ls)"
   ]
  },
  {
   "cell_type": "code",
   "execution_count": null,
   "id": "694dd8a0",
   "metadata": {
    "code_folding": []
   },
   "outputs": [],
   "source": [
    "# we will use the input() function to read the data from keyboard\n",
    "# we will use a for loop to read multiple elements\n",
    "\n",
    "\n",
    "for i in range(3):           # the loop gets executed 3 times, as range() function has default starting value as 0\n",
    "    ls.append(input('Enter a value:'))    #input() function reads the data "
   ]
  },
  {
   "cell_type": "code",
   "execution_count": null,
   "id": "16e97cc1",
   "metadata": {
    "code_folding": []
   },
   "outputs": [],
   "source": [
    "# print the contents of the list    \n",
    "print(ls)"
   ]
  },
  {
   "cell_type": "markdown",
   "id": "c777d7c2",
   "metadata": {},
   "source": [
    "**NOTE:**\n",
    "- List is one of the most widely used the data structures in Python\n",
    "- There are several built-in methods which are used for operations on lists like append(), extend(), copy, count(), insert(), pop(), sort() etc. We will use them as and when required."
   ]
  },
  {
   "cell_type": "markdown",
   "id": "c8c6cd82",
   "metadata": {},
   "source": [
    "###### A dictionary is a data structure in Python which is a sequence of key:value paired elements"
   ]
  },
  {
   "cell_type": "code",
   "execution_count": null,
   "id": "8aa3b6da",
   "metadata": {
    "code_folding": []
   },
   "outputs": [],
   "source": [
    "# create a dictionary of name:age pairs\n",
    "d = {'Mike':25, 'Jack':23, 'Tom':20}\n",
    "print(d)"
   ]
  },
  {
   "cell_type": "code",
   "execution_count": null,
   "id": "d9813b77",
   "metadata": {
    "code_folding": []
   },
   "outputs": [],
   "source": [
    "# adding a new pair to the existing dictionary\n",
    "d['Jerry']=21\n",
    "print(d)"
   ]
  },
  {
   "cell_type": "code",
   "execution_count": null,
   "id": "880087dd",
   "metadata": {
    "code_folding": []
   },
   "outputs": [],
   "source": [
    "# use items() method to display dictionary contents\n",
    "print(list(d.items()))"
   ]
  },
  {
   "cell_type": "markdown",
   "id": "8961a5b4",
   "metadata": {},
   "source": [
    "**NOTE:**\n",
    "- Each record/row in a dataframe is treated as a dictionary, where keys are the column headers and the values are elements in the row.\n",
    "- So, understanding basics of dictionary is helpful when you create a dataframe. \n",
    "- Dictionary object supports few methods like items(), keys(), values() etc to extract the elements within the dictionary. We will use them as and when required."
   ]
  },
  {
   "cell_type": "markdown",
   "id": "d8fb6b8d",
   "metadata": {},
   "source": [
    "###### Series is a data structure in Pandas which is a single column vector containing elements"
   ]
  },
  {
   "cell_type": "code",
   "execution_count": 79,
   "id": "a69d519f",
   "metadata": {},
   "outputs": [],
   "source": [
    "import pandas as pd"
   ]
  },
  {
   "cell_type": "code",
   "execution_count": null,
   "id": "13f739bc",
   "metadata": {
    "code_folding": []
   },
   "outputs": [],
   "source": [
    "# create a series of elements\n",
    "s = pd.Series([10,20,30,40])\n",
    "print(s)"
   ]
  },
  {
   "cell_type": "code",
   "execution_count": null,
   "id": "81a24b51",
   "metadata": {
    "code_folding": []
   },
   "outputs": [],
   "source": [
    "# access the elements of a series\n",
    "print(s[2])"
   ]
  },
  {
   "cell_type": "code",
   "execution_count": null,
   "id": "57739361",
   "metadata": {
    "code_folding": []
   },
   "outputs": [],
   "source": [
    "# give a user-defined index to series elements\n",
    "s1 = pd.Series([10,20,30,40],index=['first', 'second','third','fourth'])\n",
    "print(s1)"
   ]
  },
  {
   "cell_type": "code",
   "execution_count": null,
   "id": "1869afd1",
   "metadata": {
    "code_folding": []
   },
   "outputs": [],
   "source": [
    "# access using either default index or user-defined index\n",
    "print(s1['second'])\n",
    "print(s1[1])"
   ]
  },
  {
   "cell_type": "markdown",
   "id": "dddc8988",
   "metadata": {},
   "source": [
    "**NOTE:**\n",
    "- Each column in a dataframe is treated as a series.\n",
    "- So, whenever you would like to operate on only one column of the dataframe, we must use built-in operations meant for series."
   ]
  },
  {
   "cell_type": "markdown",
   "id": "36efd62b",
   "metadata": {},
   "source": [
    "#### Creating DataFrame using Lists, Dictionaries and Series"
   ]
  },
  {
   "cell_type": "code",
   "execution_count": 81,
   "id": "a422b958",
   "metadata": {
    "code_folding": []
   },
   "outputs": [],
   "source": [
    "# create a list of indices\n",
    "index_list=['Company A','Company B','Company C','Company D','Company E','Company F']"
   ]
  },
  {
   "cell_type": "code",
   "execution_count": 82,
   "id": "136981a0",
   "metadata": {
    "code_folding": []
   },
   "outputs": [],
   "source": [
    "# create a data frame, where key is the company name and values are the series \n",
    "#map the values with the index_list while creating the series\n",
    "\n",
    "company_dir = {'Closing price': pd.Series([346.15,0.59,459,0.52,589.8,158.88], \n",
    "                                        index=index_list),\n",
    "             \n",
    "                'EPS': pd.Series([1133.43,36.05,145.02, 4.5, 31.44,380.64],\n",
    "                                 index=index_list),\n",
    "                \n",
    "                'Beta': pd.Series([1,2,3,4,5,6],index=index_list),\n",
    "                'P/E': pd.Series([10,20,30,40,60,50], index=index_list),\n",
    "                'Market Cap(B)': pd.Series([1254.05, 43.2, 2300, 5.6, 773.8, 521.56], index=index_list)\n",
    "                \n",
    "               }"
   ]
  },
  {
   "cell_type": "code",
   "execution_count": null,
   "id": "60b3d435",
   "metadata": {},
   "outputs": [],
   "source": [
    "company_dir"
   ]
  },
  {
   "cell_type": "code",
   "execution_count": 83,
   "id": "f135e1df",
   "metadata": {
    "code_folding": []
   },
   "outputs": [
    {
     "data": {
      "text/html": [
       "<div>\n",
       "<style scoped>\n",
       "    .dataframe tbody tr th:only-of-type {\n",
       "        vertical-align: middle;\n",
       "    }\n",
       "\n",
       "    .dataframe tbody tr th {\n",
       "        vertical-align: top;\n",
       "    }\n",
       "\n",
       "    .dataframe thead th {\n",
       "        text-align: right;\n",
       "    }\n",
       "</style>\n",
       "<table border=\"1\" class=\"dataframe\">\n",
       "  <thead>\n",
       "    <tr style=\"text-align: right;\">\n",
       "      <th></th>\n",
       "      <th>Closing price</th>\n",
       "      <th>EPS</th>\n",
       "      <th>Beta</th>\n",
       "      <th>P/E</th>\n",
       "      <th>Market Cap(B)</th>\n",
       "    </tr>\n",
       "  </thead>\n",
       "  <tbody>\n",
       "    <tr>\n",
       "      <th>Company A</th>\n",
       "      <td>346.15</td>\n",
       "      <td>1133.43</td>\n",
       "      <td>1</td>\n",
       "      <td>10</td>\n",
       "      <td>1254.05</td>\n",
       "    </tr>\n",
       "    <tr>\n",
       "      <th>Company B</th>\n",
       "      <td>0.59</td>\n",
       "      <td>36.05</td>\n",
       "      <td>2</td>\n",
       "      <td>20</td>\n",
       "      <td>43.20</td>\n",
       "    </tr>\n",
       "    <tr>\n",
       "      <th>Company C</th>\n",
       "      <td>459.00</td>\n",
       "      <td>145.02</td>\n",
       "      <td>3</td>\n",
       "      <td>30</td>\n",
       "      <td>2300.00</td>\n",
       "    </tr>\n",
       "    <tr>\n",
       "      <th>Company D</th>\n",
       "      <td>0.52</td>\n",
       "      <td>4.50</td>\n",
       "      <td>4</td>\n",
       "      <td>40</td>\n",
       "      <td>5.60</td>\n",
       "    </tr>\n",
       "    <tr>\n",
       "      <th>Company E</th>\n",
       "      <td>589.80</td>\n",
       "      <td>31.44</td>\n",
       "      <td>5</td>\n",
       "      <td>60</td>\n",
       "      <td>773.80</td>\n",
       "    </tr>\n",
       "    <tr>\n",
       "      <th>Company F</th>\n",
       "      <td>158.88</td>\n",
       "      <td>380.64</td>\n",
       "      <td>6</td>\n",
       "      <td>50</td>\n",
       "      <td>521.56</td>\n",
       "    </tr>\n",
       "  </tbody>\n",
       "</table>\n",
       "</div>"
      ],
      "text/plain": [
       "           Closing price      EPS  Beta  P/E  Market Cap(B)\n",
       "Company A         346.15  1133.43     1   10        1254.05\n",
       "Company B           0.59    36.05     2   20          43.20\n",
       "Company C         459.00   145.02     3   30        2300.00\n",
       "Company D           0.52     4.50     4   40           5.60\n",
       "Company E         589.80    31.44     5   60         773.80\n",
       "Company F         158.88   380.64     6   50         521.56"
      ]
     },
     "execution_count": 83,
     "metadata": {},
     "output_type": "execute_result"
    }
   ],
   "source": [
    "companydf = pd.DataFrame(company_dir)\n",
    "companydf"
   ]
  },
  {
   "cell_type": "markdown",
   "id": "c6a1d3b1",
   "metadata": {},
   "source": [
    "**NOTE:**\n",
    "- We created a new dataframe using various data structures here. \n",
    "- There are multiple other ways to do so, but we will not explore those, because most of time we will be using business data which will be already saved in Excel or CSV formats"
   ]
  },
  {
   "cell_type": "code",
   "execution_count": null,
   "id": "6ac28d98",
   "metadata": {},
   "outputs": [],
   "source": []
  },
  {
   "cell_type": "code",
   "execution_count": null,
   "id": "dd4a3ebc",
   "metadata": {},
   "outputs": [],
   "source": []
  },
  {
   "cell_type": "code",
   "execution_count": null,
   "id": "8cc7642c",
   "metadata": {},
   "outputs": [],
   "source": []
  },
  {
   "cell_type": "markdown",
   "id": "f1b65516",
   "metadata": {},
   "source": [
    "### Part 2.2.2  : Slicing with precision\n",
    "- Slicing is a way of extracting the subset of the dataframe.\n",
    "- We can extract the required rows and columns by using appropriate indices for slicing.\n",
    "- There are two methods ***loc()*** and ***iloc()*** that can be used to create subsets of the data\n",
    "- We will use the ***companydf*** dataframe created in the previous video to demonstrate these concepts"
   ]
  },
  {
   "cell_type": "code",
   "execution_count": null,
   "id": "e0508f8f",
   "metadata": {
    "code_folding": []
   },
   "outputs": [],
   "source": [
    "#let us view the data frame\n",
    "companydf"
   ]
  },
  {
   "cell_type": "code",
   "execution_count": null,
   "id": "b60d5f29",
   "metadata": {
    "code_folding": []
   },
   "outputs": [],
   "source": [
    "#extract only few rows by specifying starting and ending row indices\n",
    "#the first index in the slicing is included and the last index is not\n",
    "\n",
    "companydf[1:4]    "
   ]
  },
  {
   "cell_type": "code",
   "execution_count": null,
   "id": "f0baf13e",
   "metadata": {
    "code_folding": []
   },
   "outputs": [],
   "source": [
    "#The dataframe can understand the negative indices, where -1, -2 etc. indicates the rows from the last \n",
    "\n",
    "companydf[-3:]    #extract rows from the index -3 till the end of the dataframe"
   ]
  },
  {
   "cell_type": "code",
   "execution_count": null,
   "id": "ed99b888",
   "metadata": {
    "code_folding": []
   },
   "outputs": [],
   "source": [
    "#extract only a particular column \n",
    "companydf['EPS']    #observe that the result is a series "
   ]
  },
  {
   "cell_type": "code",
   "execution_count": null,
   "id": "5af8fc5c",
   "metadata": {
    "code_folding": []
   },
   "outputs": [],
   "source": [
    "#extract one column with required rows\n",
    "companydf['Beta'][1:4]     #column is extracted first, and from that series, required rows are sliced"
   ]
  },
  {
   "cell_type": "markdown",
   "id": "8c8c5eb8",
   "metadata": {},
   "source": [
    "#### Using functions `loc()` and `iloc()`\n",
    "- `loc` gets rows (or columns) with particular labels/header name for both rows and columns\n",
    "- `iloc` gets rows (or columns) at particular positions (so it only takes integers)."
   ]
  },
  {
   "cell_type": "code",
   "execution_count": null,
   "id": "50448e7a",
   "metadata": {
    "code_folding": []
   },
   "outputs": [],
   "source": [
    "# We must give the actual indices which are in string format\n",
    "companydf.loc['Company B': 'Company D']       #note that both starting and ending indices are inclusive"
   ]
  },
  {
   "cell_type": "code",
   "execution_count": null,
   "id": "316af4a8",
   "metadata": {
    "code_folding": []
   },
   "outputs": [],
   "source": [
    "# observe the list of column names used to extract only the required columns\n",
    "companydf.loc['Company B': 'Company D'][['EPS', 'Beta']] "
   ]
  },
  {
   "cell_type": "code",
   "execution_count": null,
   "id": "66686cd1",
   "metadata": {
    "code_folding": []
   },
   "outputs": [],
   "source": [
    "#following code generates error, because the row indices of the data frame are not numbers\n",
    "companydf.loc[:3]    "
   ]
  },
  {
   "cell_type": "code",
   "execution_count": null,
   "id": "cb731d14",
   "metadata": {
    "code_folding": []
   },
   "outputs": [],
   "source": [
    "# when you want to extract the rows and columns using the index positions, use iloc()\n",
    "# Extract using column number\n",
    "companydf.iloc[1:3,0:2]   #row numbers 1, 2 and column numbers 0 and 1 are displayed\n"
   ]
  },
  {
   "cell_type": "code",
   "execution_count": null,
   "id": "b17a9f4e",
   "metadata": {
    "code_folding": []
   },
   "outputs": [],
   "source": [
    "#we can use lists to select any row/column, not necessarily in a sequence\n",
    "companydf.iloc[:,[1,4,3]]  #all rows of columns 1, 3 and 4 are displayed"
   ]
  },
  {
   "cell_type": "code",
   "execution_count": null,
   "id": "50de5cfb",
   "metadata": {
    "code_folding": []
   },
   "outputs": [],
   "source": [
    "#row 0 and 2 of column 1 and 3  are displayed\n",
    "companydf.iloc[[0,2],[1,3]]   "
   ]
  },
  {
   "cell_type": "markdown",
   "id": "ad042e05",
   "metadata": {},
   "source": [
    "### Part 2.2.3  : Changing the indices and saving the new dataframe"
   ]
  },
  {
   "cell_type": "markdown",
   "id": "4a5a553a",
   "metadata": {},
   "source": [
    "- We will look at how to turn an index column into one of the attributes in the dataframe, and vice-versa\n",
    "- Also, we will see how to change the name of a column\n",
    "- For demonstrating these, we will use **companydf** dataframe created earlier."
   ]
  },
  {
   "cell_type": "code",
   "execution_count": 85,
   "id": "571e6880",
   "metadata": {
    "code_folding": []
   },
   "outputs": [
    {
     "data": {
      "text/html": [
       "<div>\n",
       "<style scoped>\n",
       "    .dataframe tbody tr th:only-of-type {\n",
       "        vertical-align: middle;\n",
       "    }\n",
       "\n",
       "    .dataframe tbody tr th {\n",
       "        vertical-align: top;\n",
       "    }\n",
       "\n",
       "    .dataframe thead th {\n",
       "        text-align: right;\n",
       "    }\n",
       "</style>\n",
       "<table border=\"1\" class=\"dataframe\">\n",
       "  <thead>\n",
       "    <tr style=\"text-align: right;\">\n",
       "      <th></th>\n",
       "      <th>Closing price</th>\n",
       "      <th>EPS</th>\n",
       "      <th>Beta</th>\n",
       "      <th>P/E</th>\n",
       "      <th>Market Cap(B)</th>\n",
       "    </tr>\n",
       "  </thead>\n",
       "  <tbody>\n",
       "    <tr>\n",
       "      <th>Company A</th>\n",
       "      <td>346.15</td>\n",
       "      <td>1133.43</td>\n",
       "      <td>1</td>\n",
       "      <td>10</td>\n",
       "      <td>1254.05</td>\n",
       "    </tr>\n",
       "    <tr>\n",
       "      <th>Company B</th>\n",
       "      <td>0.59</td>\n",
       "      <td>36.05</td>\n",
       "      <td>2</td>\n",
       "      <td>20</td>\n",
       "      <td>43.20</td>\n",
       "    </tr>\n",
       "    <tr>\n",
       "      <th>Company C</th>\n",
       "      <td>459.00</td>\n",
       "      <td>145.02</td>\n",
       "      <td>3</td>\n",
       "      <td>30</td>\n",
       "      <td>2300.00</td>\n",
       "    </tr>\n",
       "    <tr>\n",
       "      <th>Company D</th>\n",
       "      <td>0.52</td>\n",
       "      <td>4.50</td>\n",
       "      <td>4</td>\n",
       "      <td>40</td>\n",
       "      <td>5.60</td>\n",
       "    </tr>\n",
       "    <tr>\n",
       "      <th>Company E</th>\n",
       "      <td>589.80</td>\n",
       "      <td>31.44</td>\n",
       "      <td>5</td>\n",
       "      <td>60</td>\n",
       "      <td>773.80</td>\n",
       "    </tr>\n",
       "    <tr>\n",
       "      <th>Company F</th>\n",
       "      <td>158.88</td>\n",
       "      <td>380.64</td>\n",
       "      <td>6</td>\n",
       "      <td>50</td>\n",
       "      <td>521.56</td>\n",
       "    </tr>\n",
       "  </tbody>\n",
       "</table>\n",
       "</div>"
      ],
      "text/plain": [
       "           Closing price      EPS  Beta  P/E  Market Cap(B)\n",
       "Company A         346.15  1133.43     1   10        1254.05\n",
       "Company B           0.59    36.05     2   20          43.20\n",
       "Company C         459.00   145.02     3   30        2300.00\n",
       "Company D           0.52     4.50     4   40           5.60\n",
       "Company E         589.80    31.44     5   60         773.80\n",
       "Company F         158.88   380.64     6   50         521.56"
      ]
     },
     "execution_count": 85,
     "metadata": {},
     "output_type": "execute_result"
    }
   ],
   "source": [
    "# view the dataframe\n",
    "companydf"
   ]
  },
  {
   "cell_type": "code",
   "execution_count": 86,
   "id": "a95de803",
   "metadata": {
    "code_folding": []
   },
   "outputs": [
    {
     "data": {
      "text/html": [
       "<div>\n",
       "<style scoped>\n",
       "    .dataframe tbody tr th:only-of-type {\n",
       "        vertical-align: middle;\n",
       "    }\n",
       "\n",
       "    .dataframe tbody tr th {\n",
       "        vertical-align: top;\n",
       "    }\n",
       "\n",
       "    .dataframe thead th {\n",
       "        text-align: right;\n",
       "    }\n",
       "</style>\n",
       "<table border=\"1\" class=\"dataframe\">\n",
       "  <thead>\n",
       "    <tr style=\"text-align: right;\">\n",
       "      <th></th>\n",
       "      <th>index</th>\n",
       "      <th>Closing price</th>\n",
       "      <th>EPS</th>\n",
       "      <th>Beta</th>\n",
       "      <th>P/E</th>\n",
       "      <th>Market Cap(B)</th>\n",
       "    </tr>\n",
       "  </thead>\n",
       "  <tbody>\n",
       "    <tr>\n",
       "      <th>0</th>\n",
       "      <td>Company A</td>\n",
       "      <td>346.15</td>\n",
       "      <td>1133.43</td>\n",
       "      <td>1</td>\n",
       "      <td>10</td>\n",
       "      <td>1254.05</td>\n",
       "    </tr>\n",
       "    <tr>\n",
       "      <th>1</th>\n",
       "      <td>Company B</td>\n",
       "      <td>0.59</td>\n",
       "      <td>36.05</td>\n",
       "      <td>2</td>\n",
       "      <td>20</td>\n",
       "      <td>43.20</td>\n",
       "    </tr>\n",
       "    <tr>\n",
       "      <th>2</th>\n",
       "      <td>Company C</td>\n",
       "      <td>459.00</td>\n",
       "      <td>145.02</td>\n",
       "      <td>3</td>\n",
       "      <td>30</td>\n",
       "      <td>2300.00</td>\n",
       "    </tr>\n",
       "    <tr>\n",
       "      <th>3</th>\n",
       "      <td>Company D</td>\n",
       "      <td>0.52</td>\n",
       "      <td>4.50</td>\n",
       "      <td>4</td>\n",
       "      <td>40</td>\n",
       "      <td>5.60</td>\n",
       "    </tr>\n",
       "    <tr>\n",
       "      <th>4</th>\n",
       "      <td>Company E</td>\n",
       "      <td>589.80</td>\n",
       "      <td>31.44</td>\n",
       "      <td>5</td>\n",
       "      <td>60</td>\n",
       "      <td>773.80</td>\n",
       "    </tr>\n",
       "    <tr>\n",
       "      <th>5</th>\n",
       "      <td>Company F</td>\n",
       "      <td>158.88</td>\n",
       "      <td>380.64</td>\n",
       "      <td>6</td>\n",
       "      <td>50</td>\n",
       "      <td>521.56</td>\n",
       "    </tr>\n",
       "  </tbody>\n",
       "</table>\n",
       "</div>"
      ],
      "text/plain": [
       "       index  Closing price      EPS  Beta  P/E  Market Cap(B)\n",
       "0  Company A         346.15  1133.43     1   10        1254.05\n",
       "1  Company B           0.59    36.05     2   20          43.20\n",
       "2  Company C         459.00   145.02     3   30        2300.00\n",
       "3  Company D           0.52     4.50     4   40           5.60\n",
       "4  Company E         589.80    31.44     5   60         773.80\n",
       "5  Company F         158.88   380.64     6   50         521.56"
      ]
     },
     "execution_count": 86,
     "metadata": {},
     "output_type": "execute_result"
    }
   ],
   "source": [
    "# use the reset_index() method to make the existing indices a column of the data frame\n",
    "companydf.reset_index(inplace = True)\n",
    "companydf"
   ]
  },
  {
   "cell_type": "code",
   "execution_count": 87,
   "id": "b6b4d66c",
   "metadata": {
    "code_folding": []
   },
   "outputs": [
    {
     "data": {
      "text/html": [
       "<div>\n",
       "<style scoped>\n",
       "    .dataframe tbody tr th:only-of-type {\n",
       "        vertical-align: middle;\n",
       "    }\n",
       "\n",
       "    .dataframe tbody tr th {\n",
       "        vertical-align: top;\n",
       "    }\n",
       "\n",
       "    .dataframe thead th {\n",
       "        text-align: right;\n",
       "    }\n",
       "</style>\n",
       "<table border=\"1\" class=\"dataframe\">\n",
       "  <thead>\n",
       "    <tr style=\"text-align: right;\">\n",
       "      <th></th>\n",
       "      <th>Company names</th>\n",
       "      <th>Closing price</th>\n",
       "      <th>EPS</th>\n",
       "      <th>Beta</th>\n",
       "      <th>P/E</th>\n",
       "      <th>Market Cap(B)</th>\n",
       "    </tr>\n",
       "  </thead>\n",
       "  <tbody>\n",
       "    <tr>\n",
       "      <th>0</th>\n",
       "      <td>Company A</td>\n",
       "      <td>346.15</td>\n",
       "      <td>1133.43</td>\n",
       "      <td>1</td>\n",
       "      <td>10</td>\n",
       "      <td>1254.05</td>\n",
       "    </tr>\n",
       "    <tr>\n",
       "      <th>1</th>\n",
       "      <td>Company B</td>\n",
       "      <td>0.59</td>\n",
       "      <td>36.05</td>\n",
       "      <td>2</td>\n",
       "      <td>20</td>\n",
       "      <td>43.20</td>\n",
       "    </tr>\n",
       "    <tr>\n",
       "      <th>2</th>\n",
       "      <td>Company C</td>\n",
       "      <td>459.00</td>\n",
       "      <td>145.02</td>\n",
       "      <td>3</td>\n",
       "      <td>30</td>\n",
       "      <td>2300.00</td>\n",
       "    </tr>\n",
       "    <tr>\n",
       "      <th>3</th>\n",
       "      <td>Company D</td>\n",
       "      <td>0.52</td>\n",
       "      <td>4.50</td>\n",
       "      <td>4</td>\n",
       "      <td>40</td>\n",
       "      <td>5.60</td>\n",
       "    </tr>\n",
       "    <tr>\n",
       "      <th>4</th>\n",
       "      <td>Company E</td>\n",
       "      <td>589.80</td>\n",
       "      <td>31.44</td>\n",
       "      <td>5</td>\n",
       "      <td>60</td>\n",
       "      <td>773.80</td>\n",
       "    </tr>\n",
       "    <tr>\n",
       "      <th>5</th>\n",
       "      <td>Company F</td>\n",
       "      <td>158.88</td>\n",
       "      <td>380.64</td>\n",
       "      <td>6</td>\n",
       "      <td>50</td>\n",
       "      <td>521.56</td>\n",
       "    </tr>\n",
       "  </tbody>\n",
       "</table>\n",
       "</div>"
      ],
      "text/plain": [
       "  Company names  Closing price      EPS  Beta  P/E  Market Cap(B)\n",
       "0     Company A         346.15  1133.43     1   10        1254.05\n",
       "1     Company B           0.59    36.05     2   20          43.20\n",
       "2     Company C         459.00   145.02     3   30        2300.00\n",
       "3     Company D           0.52     4.50     4   40           5.60\n",
       "4     Company E         589.80    31.44     5   60         773.80\n",
       "5     Company F         158.88   380.64     6   50         521.56"
      ]
     },
     "execution_count": 87,
     "metadata": {},
     "output_type": "execute_result"
    }
   ],
   "source": [
    "# give a new name to this column\n",
    "companydf.rename(columns={'index':'Company names'},inplace=True)\n",
    "companydf"
   ]
  },
  {
   "cell_type": "code",
   "execution_count": 88,
   "id": "18a6dfcc",
   "metadata": {
    "code_folding": []
   },
   "outputs": [
    {
     "data": {
      "text/html": [
       "<div>\n",
       "<style scoped>\n",
       "    .dataframe tbody tr th:only-of-type {\n",
       "        vertical-align: middle;\n",
       "    }\n",
       "\n",
       "    .dataframe tbody tr th {\n",
       "        vertical-align: top;\n",
       "    }\n",
       "\n",
       "    .dataframe thead th {\n",
       "        text-align: right;\n",
       "    }\n",
       "</style>\n",
       "<table border=\"1\" class=\"dataframe\">\n",
       "  <thead>\n",
       "    <tr style=\"text-align: right;\">\n",
       "      <th></th>\n",
       "      <th>Closing price</th>\n",
       "      <th>EPS</th>\n",
       "      <th>Beta</th>\n",
       "      <th>P/E</th>\n",
       "      <th>Market Cap(B)</th>\n",
       "    </tr>\n",
       "    <tr>\n",
       "      <th>Company names</th>\n",
       "      <th></th>\n",
       "      <th></th>\n",
       "      <th></th>\n",
       "      <th></th>\n",
       "      <th></th>\n",
       "    </tr>\n",
       "  </thead>\n",
       "  <tbody>\n",
       "    <tr>\n",
       "      <th>Company A</th>\n",
       "      <td>346.15</td>\n",
       "      <td>1133.43</td>\n",
       "      <td>1</td>\n",
       "      <td>10</td>\n",
       "      <td>1254.05</td>\n",
       "    </tr>\n",
       "    <tr>\n",
       "      <th>Company B</th>\n",
       "      <td>0.59</td>\n",
       "      <td>36.05</td>\n",
       "      <td>2</td>\n",
       "      <td>20</td>\n",
       "      <td>43.20</td>\n",
       "    </tr>\n",
       "    <tr>\n",
       "      <th>Company C</th>\n",
       "      <td>459.00</td>\n",
       "      <td>145.02</td>\n",
       "      <td>3</td>\n",
       "      <td>30</td>\n",
       "      <td>2300.00</td>\n",
       "    </tr>\n",
       "    <tr>\n",
       "      <th>Company D</th>\n",
       "      <td>0.52</td>\n",
       "      <td>4.50</td>\n",
       "      <td>4</td>\n",
       "      <td>40</td>\n",
       "      <td>5.60</td>\n",
       "    </tr>\n",
       "    <tr>\n",
       "      <th>Company E</th>\n",
       "      <td>589.80</td>\n",
       "      <td>31.44</td>\n",
       "      <td>5</td>\n",
       "      <td>60</td>\n",
       "      <td>773.80</td>\n",
       "    </tr>\n",
       "    <tr>\n",
       "      <th>Company F</th>\n",
       "      <td>158.88</td>\n",
       "      <td>380.64</td>\n",
       "      <td>6</td>\n",
       "      <td>50</td>\n",
       "      <td>521.56</td>\n",
       "    </tr>\n",
       "  </tbody>\n",
       "</table>\n",
       "</div>"
      ],
      "text/plain": [
       "               Closing price      EPS  Beta  P/E  Market Cap(B)\n",
       "Company names                                                  \n",
       "Company A             346.15  1133.43     1   10        1254.05\n",
       "Company B               0.59    36.05     2   20          43.20\n",
       "Company C             459.00   145.02     3   30        2300.00\n",
       "Company D               0.52     4.50     4   40           5.60\n",
       "Company E             589.80    31.44     5   60         773.80\n",
       "Company F             158.88   380.64     6   50         521.56"
      ]
     },
     "execution_count": 88,
     "metadata": {},
     "output_type": "execute_result"
    }
   ],
   "source": [
    "# choose a column and make it the index of the dataframe\n",
    "companydf=companydf.set_index('Company names')\n",
    "companydf"
   ]
  },
  {
   "cell_type": "markdown",
   "id": "5c718d29",
   "metadata": {},
   "source": [
    "##### Save the dataframe into a file"
   ]
  },
  {
   "cell_type": "code",
   "execution_count": 89,
   "id": "f48c8da7",
   "metadata": {
    "code_folding": []
   },
   "outputs": [],
   "source": [
    "# save the data to a CSV\n",
    "companydf.to_csv('CompanyData.csv')"
   ]
  },
  {
   "cell_type": "code",
   "execution_count": null,
   "id": "b0f2c38b",
   "metadata": {},
   "outputs": [],
   "source": []
  },
  {
   "cell_type": "code",
   "execution_count": null,
   "id": "24b67529",
   "metadata": {},
   "outputs": [],
   "source": []
  }
 ],
 "metadata": {
  "kernelspec": {
   "display_name": "Python 3 (ipykernel)",
   "language": "python",
   "name": "python3"
  },
  "language_info": {
   "codemirror_mode": {
    "name": "ipython",
    "version": 3
   },
   "file_extension": ".py",
   "mimetype": "text/x-python",
   "name": "python",
   "nbconvert_exporter": "python",
   "pygments_lexer": "ipython3",
   "version": "3.9.13"
  }
 },
 "nbformat": 4,
 "nbformat_minor": 5
}
