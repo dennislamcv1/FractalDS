{
 "cells": [
  {
   "cell_type": "markdown",
   "id": "090d6cf6",
   "metadata": {},
   "source": [
    "## Module 3: Exploratory data analysis  "
   ]
  },
  {
   "cell_type": "markdown",
   "id": "8095674f",
   "metadata": {},
   "source": [
    "### Lesson 4: Enhancing data visualizations\n",
    "- We have seen several ways of plotting graphs to depict data and analyses visually.\n",
    "- In this lesson, we will look at enhancing our plots for better story telling."
   ]
  },
  {
   "cell_type": "markdown",
   "id": "ebf1b981",
   "metadata": {},
   "source": [
    "### Part 3.4.1  : Making better visuals - Part I"
   ]
  },
  {
   "cell_type": "code",
   "execution_count": 1,
   "id": "0064b7a0",
   "metadata": {
    "code_folding": []
   },
   "outputs": [],
   "source": [
    "# import the required packages\n",
    "import pandas as pd\n",
    "import numpy as np\n",
    "import matplotlib.pyplot as plt\n",
    "import seaborn as sns\n",
    "import warnings\n",
    "\n",
    "# suppress all warnings\n",
    "warnings.filterwarnings(\"ignore\")"
   ]
  },
  {
   "cell_type": "code",
   "execution_count": 2,
   "id": "0f7ed6f3",
   "metadata": {
    "code_folding": []
   },
   "outputs": [
    {
     "data": {
      "text/html": [
       "<div>\n",
       "<style scoped>\n",
       "    .dataframe tbody tr th:only-of-type {\n",
       "        vertical-align: middle;\n",
       "    }\n",
       "\n",
       "    .dataframe tbody tr th {\n",
       "        vertical-align: top;\n",
       "    }\n",
       "\n",
       "    .dataframe thead th {\n",
       "        text-align: right;\n",
       "    }\n",
       "</style>\n",
       "<table border=\"1\" class=\"dataframe\">\n",
       "  <thead>\n",
       "    <tr style=\"text-align: right;\">\n",
       "      <th></th>\n",
       "      <th>SKU ID</th>\n",
       "      <th>Date</th>\n",
       "      <th>Manufacturer</th>\n",
       "      <th>Sector</th>\n",
       "      <th>Category</th>\n",
       "      <th>Segment</th>\n",
       "      <th>Brand</th>\n",
       "      <th>Revenue($)</th>\n",
       "      <th>Units_sold</th>\n",
       "      <th>Page_traffic</th>\n",
       "    </tr>\n",
       "  </thead>\n",
       "  <tbody>\n",
       "    <tr>\n",
       "      <th>0</th>\n",
       "      <td>SKU1029</td>\n",
       "      <td>05-01-21</td>\n",
       "      <td>Synergix solutions</td>\n",
       "      <td>Oral Care</td>\n",
       "      <td>Toothpaste</td>\n",
       "      <td>Whitening Toothpaste</td>\n",
       "      <td>Close-up</td>\n",
       "      <td>0</td>\n",
       "      <td>0</td>\n",
       "      <td>0</td>\n",
       "    </tr>\n",
       "    <tr>\n",
       "      <th>1</th>\n",
       "      <td>SKU1054</td>\n",
       "      <td>05-08-21</td>\n",
       "      <td>Synergix solutions</td>\n",
       "      <td>Oral Care</td>\n",
       "      <td>Toothpaste</td>\n",
       "      <td>Fluoride-Free Toothpaste</td>\n",
       "      <td>Tom's of Maine</td>\n",
       "      <td>0</td>\n",
       "      <td>0</td>\n",
       "      <td>0</td>\n",
       "    </tr>\n",
       "    <tr>\n",
       "      <th>2</th>\n",
       "      <td>SKU1068</td>\n",
       "      <td>01-08-22</td>\n",
       "      <td>Synergix solutions</td>\n",
       "      <td>Oral Care</td>\n",
       "      <td>Toothpaste</td>\n",
       "      <td>Fluoride-Free Toothpaste</td>\n",
       "      <td>Himalaya Herbals</td>\n",
       "      <td>0</td>\n",
       "      <td>0</td>\n",
       "      <td>0</td>\n",
       "    </tr>\n",
       "    <tr>\n",
       "      <th>3</th>\n",
       "      <td>SKU1056</td>\n",
       "      <td>11-05-22</td>\n",
       "      <td>Synergix solutions</td>\n",
       "      <td>Oral Care</td>\n",
       "      <td>Toothpaste</td>\n",
       "      <td>Fluoride-Free Toothpaste</td>\n",
       "      <td>Tom's of Maine</td>\n",
       "      <td>0</td>\n",
       "      <td>0</td>\n",
       "      <td>0</td>\n",
       "    </tr>\n",
       "    <tr>\n",
       "      <th>4</th>\n",
       "      <td>SKU1061</td>\n",
       "      <td>12-10-22</td>\n",
       "      <td>Synergix solutions</td>\n",
       "      <td>Oral Care</td>\n",
       "      <td>Toothpaste</td>\n",
       "      <td>Fluoride-Free Toothpaste</td>\n",
       "      <td>Himalaya Herbals</td>\n",
       "      <td>0</td>\n",
       "      <td>0</td>\n",
       "      <td>0</td>\n",
       "    </tr>\n",
       "  </tbody>\n",
       "</table>\n",
       "</div>"
      ],
      "text/plain": [
       "    SKU ID      Date         Manufacturer     Sector    Category  \\\n",
       "0  SKU1029  05-01-21  Synergix solutions   Oral Care  Toothpaste   \n",
       "1  SKU1054  05-08-21  Synergix solutions   Oral Care  Toothpaste   \n",
       "2  SKU1068  01-08-22  Synergix solutions   Oral Care  Toothpaste   \n",
       "3  SKU1056  11-05-22  Synergix solutions   Oral Care  Toothpaste   \n",
       "4  SKU1061  12-10-22  Synergix solutions   Oral Care  Toothpaste   \n",
       "\n",
       "                    Segment             Brand  Revenue($)  Units_sold  \\\n",
       "0      Whitening Toothpaste          Close-up           0           0   \n",
       "1  Fluoride-Free Toothpaste    Tom's of Maine           0           0   \n",
       "2  Fluoride-Free Toothpaste  Himalaya Herbals           0           0   \n",
       "3  Fluoride-Free Toothpaste    Tom's of Maine           0           0   \n",
       "4  Fluoride-Free Toothpaste  Himalaya Herbals           0           0   \n",
       "\n",
       "   Page_traffic  \n",
       "0             0  \n",
       "1             0  \n",
       "2             0  \n",
       "3             0  \n",
       "4             0  "
      ]
     },
     "execution_count": 2,
     "metadata": {},
     "output_type": "execute_result"
    }
   ],
   "source": [
    "#read the data\n",
    "pos_data = pd.read_csv('POS_CleanData.csv')\n",
    "pos_data.head()   "
   ]
  },
  {
   "cell_type": "markdown",
   "id": "8bf61a42",
   "metadata": {},
   "source": [
    "#### Comparison of revenue among all the segments wherever revenue was not zero"
   ]
  },
  {
   "cell_type": "code",
   "execution_count": 3,
   "id": "0af76b4a",
   "metadata": {},
   "outputs": [
    {
     "data": {
      "text/html": [
       "<div>\n",
       "<style scoped>\n",
       "    .dataframe tbody tr th:only-of-type {\n",
       "        vertical-align: middle;\n",
       "    }\n",
       "\n",
       "    .dataframe tbody tr th {\n",
       "        vertical-align: top;\n",
       "    }\n",
       "\n",
       "    .dataframe thead th {\n",
       "        text-align: right;\n",
       "    }\n",
       "</style>\n",
       "<table border=\"1\" class=\"dataframe\">\n",
       "  <thead>\n",
       "    <tr style=\"text-align: right;\">\n",
       "      <th></th>\n",
       "      <th>SKU ID</th>\n",
       "      <th>Date</th>\n",
       "      <th>Manufacturer</th>\n",
       "      <th>Sector</th>\n",
       "      <th>Category</th>\n",
       "      <th>Segment</th>\n",
       "      <th>Brand</th>\n",
       "      <th>Revenue($)</th>\n",
       "      <th>Units_sold</th>\n",
       "      <th>Page_traffic</th>\n",
       "    </tr>\n",
       "  </thead>\n",
       "  <tbody>\n",
       "    <tr>\n",
       "      <th>5</th>\n",
       "      <td>SKU1019</td>\n",
       "      <td>3/20/2021</td>\n",
       "      <td>Synergix solutions</td>\n",
       "      <td>Oral Care</td>\n",
       "      <td>Toothpaste</td>\n",
       "      <td>Whitening Toothpaste</td>\n",
       "      <td>Colgate</td>\n",
       "      <td>8239</td>\n",
       "      <td>864</td>\n",
       "      <td>3543</td>\n",
       "    </tr>\n",
       "    <tr>\n",
       "      <th>6</th>\n",
       "      <td>SKU1021</td>\n",
       "      <td>04-09-22</td>\n",
       "      <td>Synergix solutions</td>\n",
       "      <td>Oral Care</td>\n",
       "      <td>Toothpaste</td>\n",
       "      <td>Whitening Toothpaste</td>\n",
       "      <td>Close-up</td>\n",
       "      <td>25243</td>\n",
       "      <td>1513</td>\n",
       "      <td>5639</td>\n",
       "    </tr>\n",
       "    <tr>\n",
       "      <th>7</th>\n",
       "      <td>SKU1044</td>\n",
       "      <td>4/23/2022</td>\n",
       "      <td>Synergix solutions</td>\n",
       "      <td>Oral Care</td>\n",
       "      <td>Toothpaste</td>\n",
       "      <td>Sensitivity Toothpaste</td>\n",
       "      <td>Sensodyne</td>\n",
       "      <td>24707</td>\n",
       "      <td>1509</td>\n",
       "      <td>5161</td>\n",
       "    </tr>\n",
       "    <tr>\n",
       "      <th>8</th>\n",
       "      <td>SKU1017</td>\n",
       "      <td>06-11-22</td>\n",
       "      <td>Synergix solutions</td>\n",
       "      <td>Oral Care</td>\n",
       "      <td>Toothpaste</td>\n",
       "      <td>Whitening Toothpaste</td>\n",
       "      <td>Colgate</td>\n",
       "      <td>25987</td>\n",
       "      <td>1449</td>\n",
       "      <td>4400</td>\n",
       "    </tr>\n",
       "    <tr>\n",
       "      <th>9</th>\n",
       "      <td>SKU1017</td>\n",
       "      <td>7/30/2022</td>\n",
       "      <td>Synergix solutions</td>\n",
       "      <td>Oral Care</td>\n",
       "      <td>Toothpaste</td>\n",
       "      <td>Whitening Toothpaste</td>\n",
       "      <td>Colgate</td>\n",
       "      <td>25605</td>\n",
       "      <td>1468</td>\n",
       "      <td>4833</td>\n",
       "    </tr>\n",
       "  </tbody>\n",
       "</table>\n",
       "</div>"
      ],
      "text/plain": [
       "    SKU ID       Date         Manufacturer     Sector    Category  \\\n",
       "5  SKU1019  3/20/2021  Synergix solutions   Oral Care  Toothpaste   \n",
       "6  SKU1021   04-09-22  Synergix solutions   Oral Care  Toothpaste   \n",
       "7  SKU1044  4/23/2022  Synergix solutions   Oral Care  Toothpaste   \n",
       "8  SKU1017   06-11-22  Synergix solutions   Oral Care  Toothpaste   \n",
       "9  SKU1017  7/30/2022  Synergix solutions   Oral Care  Toothpaste   \n",
       "\n",
       "                  Segment      Brand  Revenue($)  Units_sold  Page_traffic  \n",
       "5    Whitening Toothpaste    Colgate        8239         864          3543  \n",
       "6    Whitening Toothpaste   Close-up       25243        1513          5639  \n",
       "7  Sensitivity Toothpaste  Sensodyne       24707        1509          5161  \n",
       "8    Whitening Toothpaste    Colgate       25987        1449          4400  \n",
       "9    Whitening Toothpaste    Colgate       25605        1468          4833  "
      ]
     },
     "execution_count": 3,
     "metadata": {},
     "output_type": "execute_result"
    }
   ],
   "source": [
    "df_NonZeroRev = pos_data.loc[pos_data['Revenue($)'] != 0]\n",
    "df_NonZeroRev.head()"
   ]
  },
  {
   "cell_type": "code",
   "execution_count": 4,
   "id": "39999f66",
   "metadata": {},
   "outputs": [
    {
     "data": {
      "text/plain": [
       "(19030, 10)"
      ]
     },
     "execution_count": 4,
     "metadata": {},
     "output_type": "execute_result"
    }
   ],
   "source": [
    "df_NonZeroRev.shape"
   ]
  },
  {
   "cell_type": "code",
   "execution_count": 5,
   "id": "2aab4dbe",
   "metadata": {
    "code_folding": []
   },
   "outputs": [
    {
     "data": {
      "text/html": [
       "<div>\n",
       "<style scoped>\n",
       "    .dataframe tbody tr th:only-of-type {\n",
       "        vertical-align: middle;\n",
       "    }\n",
       "\n",
       "    .dataframe tbody tr th {\n",
       "        vertical-align: top;\n",
       "    }\n",
       "\n",
       "    .dataframe thead th {\n",
       "        text-align: right;\n",
       "    }\n",
       "</style>\n",
       "<table border=\"1\" class=\"dataframe\">\n",
       "  <thead>\n",
       "    <tr style=\"text-align: right;\">\n",
       "      <th></th>\n",
       "      <th>Revenue($)</th>\n",
       "    </tr>\n",
       "    <tr>\n",
       "      <th>Segment</th>\n",
       "      <th></th>\n",
       "    </tr>\n",
       "  </thead>\n",
       "  <tbody>\n",
       "    <tr>\n",
       "      <th>Acne</th>\n",
       "      <td>8030417</td>\n",
       "    </tr>\n",
       "    <tr>\n",
       "      <th>Alcohol-Free Mouthwash</th>\n",
       "      <td>6455108</td>\n",
       "    </tr>\n",
       "    <tr>\n",
       "      <th>Anti-aging</th>\n",
       "      <td>50130741</td>\n",
       "    </tr>\n",
       "    <tr>\n",
       "      <th>Breath-Freshening Mouthwash</th>\n",
       "      <td>5615592</td>\n",
       "    </tr>\n",
       "    <tr>\n",
       "      <th>Conditioners</th>\n",
       "      <td>14522060</td>\n",
       "    </tr>\n",
       "    <tr>\n",
       "      <th>Dryer Sheets</th>\n",
       "      <td>15705592</td>\n",
       "    </tr>\n",
       "    <tr>\n",
       "      <th>Electric Toothbrushes</th>\n",
       "      <td>15786214</td>\n",
       "    </tr>\n",
       "    <tr>\n",
       "      <th>Fluoride Mouthwash</th>\n",
       "      <td>6378728</td>\n",
       "    </tr>\n",
       "    <tr>\n",
       "      <th>Fluoride-Free Toothpaste</th>\n",
       "      <td>9316420</td>\n",
       "    </tr>\n",
       "    <tr>\n",
       "      <th>Kids Toothbrushes</th>\n",
       "      <td>14841313</td>\n",
       "    </tr>\n",
       "    <tr>\n",
       "      <th>Liquid</th>\n",
       "      <td>103536572</td>\n",
       "    </tr>\n",
       "    <tr>\n",
       "      <th>Manual Toothbrushes</th>\n",
       "      <td>15048718</td>\n",
       "    </tr>\n",
       "    <tr>\n",
       "      <th>Pods</th>\n",
       "      <td>13619832</td>\n",
       "    </tr>\n",
       "    <tr>\n",
       "      <th>Powder</th>\n",
       "      <td>87893932</td>\n",
       "    </tr>\n",
       "    <tr>\n",
       "      <th>Sensitivity Toothpaste</th>\n",
       "      <td>9170170</td>\n",
       "    </tr>\n",
       "    <tr>\n",
       "      <th>Shampoo</th>\n",
       "      <td>36657767</td>\n",
       "    </tr>\n",
       "    <tr>\n",
       "      <th>Suncreens</th>\n",
       "      <td>24393194</td>\n",
       "    </tr>\n",
       "    <tr>\n",
       "      <th>Whitening Toothpaste</th>\n",
       "      <td>9408829</td>\n",
       "    </tr>\n",
       "  </tbody>\n",
       "</table>\n",
       "</div>"
      ],
      "text/plain": [
       "                             Revenue($)\n",
       "Segment                                \n",
       "Acne                            8030417\n",
       "Alcohol-Free Mouthwash          6455108\n",
       "Anti-aging                     50130741\n",
       "Breath-Freshening Mouthwash     5615592\n",
       "Conditioners                   14522060\n",
       "Dryer Sheets                   15705592\n",
       "Electric Toothbrushes          15786214\n",
       "Fluoride Mouthwash              6378728\n",
       "Fluoride-Free Toothpaste        9316420\n",
       "Kids Toothbrushes              14841313\n",
       "Liquid                        103536572\n",
       "Manual Toothbrushes            15048718\n",
       "Pods                           13619832\n",
       "Powder                         87893932\n",
       "Sensitivity Toothpaste          9170170\n",
       "Shampoo                        36657767\n",
       "Suncreens                      24393194\n",
       "Whitening Toothpaste            9408829"
      ]
     },
     "execution_count": 5,
     "metadata": {},
     "output_type": "execute_result"
    }
   ],
   "source": [
    "# calculate total revenue by segment\n",
    "df_NonZeroRev.groupby('Segment').sum(numeric_only = True).drop(['Units_sold', 'Page_traffic'], axis=1)"
   ]
  },
  {
   "cell_type": "code",
   "execution_count": 6,
   "id": "a9e31a79",
   "metadata": {
    "code_folding": []
   },
   "outputs": [
    {
     "data": {
      "text/plain": [
       "Text(0.5, 1.0, 'Boxplot of revenue by segment')"
      ]
     },
     "execution_count": 6,
     "metadata": {},
     "output_type": "execute_result"
    },
    {
     "data": {
      "image/png": "[encoded data removed]",
      "text/plain": [
       "<Figure size 432x288 with 1 Axes>"
      ]
     },
     "metadata": {
      "needs_background": "light"
     },
     "output_type": "display_data"
    }
   ],
   "source": [
    "# Create a grouped boxplot showing revenue by segment\n",
    "plt.figure(figsize = (6, 4))\n",
    "sns.boxplot(x = 'Segment',y = 'Revenue($)',data = df_NonZeroRev)\n",
    "# Rotate x-axis labels\n",
    "plt.xticks(fontsize = 8,rotation = 90)  # Specify the rotation angle (in degrees)\n",
    "\n",
    "# Add labels and title\n",
    "plt.xlabel(\"Segment\")\n",
    "plt.ylabel(\"Revenue\")\n",
    "plt.title(\"Boxplot of revenue by segment\")"
   ]
  },
  {
   "cell_type": "markdown",
   "id": "a299ed2f",
   "metadata": {},
   "source": [
    "#### Comparison of page traffic among all the categories"
   ]
  },
  {
   "cell_type": "code",
   "execution_count": 7,
   "id": "093e545e",
   "metadata": {
    "code_folding": []
   },
   "outputs": [
    {
     "data": {
      "text/plain": [
       "Text(0.5, 1.0, 'Boxplot showing page traffic across categories')"
      ]
     },
     "execution_count": 7,
     "metadata": {},
     "output_type": "execute_result"
    },
    {
     "data": {
      "image/png": "[encoded data removed]",
      "text/plain": [
       "<Figure size 432x288 with 1 Axes>"
      ]
     },
     "metadata": {
      "needs_background": "light"
     },
     "output_type": "display_data"
    }
   ],
   "source": [
    "# Create a grouped boxplot\n",
    "plt.figure(figsize = (6, 4))\n",
    "sns.boxplot(x = 'Category',y = 'Page_traffic',data = df_NonZeroRev)\n",
    "# Rotate x-axis labels\n",
    "plt.xticks(fontsize = 8,rotation = 90)  # Specify the rotation angle (in degrees)\n",
    "\n",
    "# Add labels and title\n",
    "plt.xlabel(\"Category\")\n",
    "plt.ylabel(\"Page_traffic\")\n",
    "plt.title(\"Boxplot showing page traffic across categories\")"
   ]
  },
  {
   "cell_type": "code",
   "execution_count": null,
   "id": "77d0d839",
   "metadata": {},
   "outputs": [],
   "source": []
  },
  {
   "cell_type": "code",
   "execution_count": null,
   "id": "a7d2be94",
   "metadata": {},
   "outputs": [],
   "source": []
  },
  {
   "cell_type": "code",
   "execution_count": null,
   "id": "ec716028",
   "metadata": {},
   "outputs": [],
   "source": []
  },
  {
   "cell_type": "code",
   "execution_count": null,
   "id": "1a7b09eb",
   "metadata": {},
   "outputs": [],
   "source": []
  },
  {
   "cell_type": "code",
   "execution_count": null,
   "id": "6b244f48",
   "metadata": {},
   "outputs": [],
   "source": []
  },
  {
   "cell_type": "markdown",
   "id": "14ae074b",
   "metadata": {},
   "source": [
    "### Part 3.4.2  : Making better visuals - Part II"
   ]
  },
  {
   "cell_type": "markdown",
   "id": "61d921d7",
   "metadata": {},
   "source": [
    "#### Visualize the distribution of revenue among different sectors"
   ]
  },
  {
   "cell_type": "code",
   "execution_count": 8,
   "id": "93ba3b5a",
   "metadata": {
    "code_folding": []
   },
   "outputs": [],
   "source": [
    "# first subset the data according to sector\n",
    "df_oral = pos_data.loc[pos_data['Sector']=='Oral Care']\n",
    "df_fabric = pos_data.loc[pos_data['Sector']=='Fabric Care']\n",
    "df_beauty = pos_data.loc[pos_data['Sector']=='Beauty and Personal Care']"
   ]
  },
  {
   "cell_type": "code",
   "execution_count": 9,
   "id": "ccd601f7",
   "metadata": {
    "code_folding": []
   },
   "outputs": [
    {
     "data": {
      "image/png": "[encoded data removed]",
      "text/plain": [
       "<Figure size 432x288 with 1 Axes>"
      ]
     },
     "metadata": {
      "needs_background": "light"
     },
     "output_type": "display_data"
    }
   ],
   "source": [
    "# create a kernel density estimate (KDE) plot for each sector, all on the same graph\n",
    "fig, ax1 = plt.subplots(figsize=(6, 4))\n",
    "sns.kdeplot(data = df_oral['Revenue($)'].cumsum(),\n",
    "            color = 'crimson', label = 'Oral Care', fill = True, ax = ax1)\n",
    "sns.kdeplot(data = df_fabric['Revenue($)'].cumsum(),\n",
    "            color = 'limegreen', label = 'Fabric Care', fill = True, ax = ax1)\n",
    "sns.kdeplot(data = df_beauty['Revenue($)'].cumsum(),\n",
    "            color = 'blue', label = 'Beauty & Personal Care', fill = True, ax = ax1)\n",
    "ax1.legend()\n",
    "plt.tight_layout()\n",
    "plt.show()"
   ]
  },
  {
   "cell_type": "markdown",
   "id": "f8453b4c",
   "metadata": {},
   "source": [
    "***Inference:***\n",
    "- The above plot shows the distribution of revenue for all three sectors.\n",
    "- Fabric Care revenue is distributed from \\\\$0 to \\\\$2.5M with almost equal density.\n",
    "- Oral Care products have high revenue between \\\\$0 and \\\\$1M.\n",
    "- Beauty & Personal care products have revenue between \\\\$0 and|\\\\$1.5M. "
   ]
  },
  {
   "cell_type": "markdown",
   "id": "d4a68f80",
   "metadata": {},
   "source": [
    "#### Display the quantile distribution of page traffic versus revenue\n",
    "- First find the values of Q1, Q2 and Q3 for page traffic\n",
    "- Then create a scatter plot of page traffic versus revenue with different colors for the points in different quartiles."
   ]
  },
  {
   "cell_type": "code",
   "execution_count": 10,
   "id": "ce2ac7af",
   "metadata": {},
   "outputs": [
    {
     "data": {
      "text/plain": [
       "count    31057.000000\n",
       "mean      2051.972051\n",
       "std       1978.479920\n",
       "min          0.000000\n",
       "25%          0.000000\n",
       "50%       1960.000000\n",
       "75%       3646.000000\n",
       "max      10696.000000\n",
       "Name: Page_traffic, dtype: float64"
      ]
     },
     "execution_count": 10,
     "metadata": {},
     "output_type": "execute_result"
    }
   ],
   "source": [
    "pos_data['Page_traffic'].describe()"
   ]
  },
  {
   "cell_type": "markdown",
   "id": "c20bc8ac",
   "metadata": {},
   "source": [
    "**We can see that min value and Q1 both are zero. So, let's plot from Q2 onwards.**"
   ]
  },
  {
   "cell_type": "code",
   "execution_count": 11,
   "id": "3e4d8583",
   "metadata": {
    "code_folding": []
   },
   "outputs": [],
   "source": [
    "# define different colors according to quartile values\n",
    "colors = np.where(pos_data['Page_traffic'] <= 1960,'red',\\\n",
    "                  np.where(pos_data['Page_traffic'] <= 3646,'blue','green'))"
   ]
  },
  {
   "cell_type": "code",
   "execution_count": 12,
   "id": "2b94afe9",
   "metadata": {},
   "outputs": [
    {
     "data": {
      "text/plain": [
       "array(['red', 'red', 'red', ..., 'red', 'red', 'red'], dtype='<U5')"
      ]
     },
     "execution_count": 12,
     "metadata": {},
     "output_type": "execute_result"
    }
   ],
   "source": [
    "colors"
   ]
  },
  {
   "cell_type": "code",
   "execution_count": 13,
   "id": "a8496772",
   "metadata": {
    "code_folding": []
   },
   "outputs": [
    {
     "data": {
      "image/png": "[encoded data removed]",
      "text/plain": [
       "<Figure size 432x288 with 1 Axes>"
      ]
     },
     "metadata": {
      "needs_background": "light"
     },
     "output_type": "display_data"
    }
   ],
   "source": [
    "# a scatter plot with point colored according to quartile values\n",
    "plt.figure(figsize=(6, 4))\n",
    "plt.scatter(x = pos_data['Page_traffic'], y = pos_data['Revenue($)'], c = colors)\n",
    "plt.xlabel(\"Page Traffic\")\n",
    "plt.ylabel(\"Revenue\")\n",
    "plt.show()"
   ]
  },
  {
   "cell_type": "markdown",
   "id": "76292fd7",
   "metadata": {},
   "source": [
    "***Explanation:***\n",
    "- Using the numpy method `where()`, we define a nested condition to specify three different colors for page traffic.\n",
    "- When page traffic is less than or equal to 1960 (Q2 or median), we use red, for the page traffic between 1960 and 3646 (Q3), we choose blue, and for all the values above Q3, we use green."
   ]
  },
  {
   "cell_type": "code",
   "execution_count": null,
   "id": "d0a5c4aa",
   "metadata": {},
   "outputs": [],
   "source": []
  },
  {
   "cell_type": "code",
   "execution_count": null,
   "id": "f6b3d943",
   "metadata": {},
   "outputs": [],
   "source": []
  },
  {
   "cell_type": "code",
   "execution_count": null,
   "id": "bccc9552",
   "metadata": {},
   "outputs": [],
   "source": []
  },
  {
   "cell_type": "code",
   "execution_count": null,
   "id": "7cb065ad",
   "metadata": {},
   "outputs": [],
   "source": []
  },
  {
   "cell_type": "code",
   "execution_count": null,
   "id": "d3935876",
   "metadata": {},
   "outputs": [],
   "source": []
  },
  {
   "cell_type": "markdown",
   "id": "592fef10",
   "metadata": {},
   "source": [
    "### Part 3.4.3  : Making better visuals - Part III"
   ]
  },
  {
   "cell_type": "markdown",
   "id": "149c444a",
   "metadata": {},
   "source": [
    "#### Stacked bar plot\n",
    "- A stacked bar plot is a type of bar plot where multiple bars are stacked on top of each other within each category, showing how different parts contribute to the whole for each category. \n",
    "- This is useful when you want to compare the parts of a whole for different categories. "
   ]
  },
  {
   "cell_type": "code",
   "execution_count": 14,
   "id": "add4f2cd",
   "metadata": {
    "code_folding": []
   },
   "outputs": [
    {
     "data": {
      "text/html": [
       "<div>\n",
       "<style scoped>\n",
       "    .dataframe tbody tr th:only-of-type {\n",
       "        vertical-align: middle;\n",
       "    }\n",
       "\n",
       "    .dataframe tbody tr th {\n",
       "        vertical-align: top;\n",
       "    }\n",
       "\n",
       "    .dataframe thead th {\n",
       "        text-align: right;\n",
       "    }\n",
       "</style>\n",
       "<table border=\"1\" class=\"dataframe\">\n",
       "  <thead>\n",
       "    <tr style=\"text-align: right;\">\n",
       "      <th>Category</th>\n",
       "      <th>Fabric Softeners</th>\n",
       "      <th>Haircare</th>\n",
       "      <th>Laundry Detergents</th>\n",
       "      <th>Mouthwash</th>\n",
       "      <th>Skincare</th>\n",
       "      <th>Toothbrushes</th>\n",
       "      <th>Toothpaste</th>\n",
       "    </tr>\n",
       "    <tr>\n",
       "      <th>Sector</th>\n",
       "      <th></th>\n",
       "      <th></th>\n",
       "      <th></th>\n",
       "      <th></th>\n",
       "      <th></th>\n",
       "      <th></th>\n",
       "      <th></th>\n",
       "    </tr>\n",
       "  </thead>\n",
       "  <tbody>\n",
       "    <tr>\n",
       "      <th>Beauty and Personal Care</th>\n",
       "      <td>NaN</td>\n",
       "      <td>14173.311271</td>\n",
       "      <td>NaN</td>\n",
       "      <td>NaN</td>\n",
       "      <td>14639.892179</td>\n",
       "      <td>NaN</td>\n",
       "      <td>NaN</td>\n",
       "    </tr>\n",
       "    <tr>\n",
       "      <th>Fabric Care</th>\n",
       "      <td>14494.723468</td>\n",
       "      <td>NaN</td>\n",
       "      <td>14172.142646</td>\n",
       "      <td>NaN</td>\n",
       "      <td>NaN</td>\n",
       "      <td>NaN</td>\n",
       "      <td>NaN</td>\n",
       "    </tr>\n",
       "    <tr>\n",
       "      <th>Oral Care</th>\n",
       "      <td>NaN</td>\n",
       "      <td>NaN</td>\n",
       "      <td>NaN</td>\n",
       "      <td>14607.62312</td>\n",
       "      <td>NaN</td>\n",
       "      <td>14336.548964</td>\n",
       "      <td>14666.361199</td>\n",
       "    </tr>\n",
       "  </tbody>\n",
       "</table>\n",
       "</div>"
      ],
      "text/plain": [
       "Category                  Fabric Softeners      Haircare  Laundry Detergents  \\\n",
       "Sector                                                                         \n",
       "Beauty and Personal Care               NaN  14173.311271                 NaN   \n",
       "Fabric Care                   14494.723468           NaN        14172.142646   \n",
       "Oral Care                              NaN           NaN                 NaN   \n",
       "\n",
       "Category                    Mouthwash      Skincare  Toothbrushes  \\\n",
       "Sector                                                              \n",
       "Beauty and Personal Care          NaN  14639.892179           NaN   \n",
       "Fabric Care                       NaN           NaN           NaN   \n",
       "Oral Care                 14607.62312           NaN  14336.548964   \n",
       "\n",
       "Category                    Toothpaste  \n",
       "Sector                                  \n",
       "Beauty and Personal Care           NaN  \n",
       "Fabric Care                        NaN  \n",
       "Oral Care                 14666.361199  "
      ]
     },
     "execution_count": 14,
     "metadata": {},
     "output_type": "execute_result"
    }
   ],
   "source": [
    "# Create a pivot table to prepare the data for a stacked bar plot\n",
    "pivot_table = pos_data.groupby(['Sector', 'Category'])['Revenue($)'].mean().unstack()\n",
    "pivot_table"
   ]
  },
  {
   "cell_type": "code",
   "execution_count": 15,
   "id": "eb6e1244",
   "metadata": {
    "code_folding": []
   },
   "outputs": [
    {
     "data": {
      "text/plain": [
       "<Figure size 360x216 with 0 Axes>"
      ]
     },
     "metadata": {},
     "output_type": "display_data"
    },
    {
     "data": {
      "image/png": "[encoded data removed]",
      "text/plain": [
       "<Figure size 432x288 with 1 Axes>"
      ]
     },
     "metadata": {
      "needs_background": "light"
     },
     "output_type": "display_data"
    }
   ],
   "source": [
    "# create the stacked bar plot\n",
    "plt.figure(figsize = (5, 3))\n",
    "pivot_table.plot(kind = 'bar', stacked = True, colormap = 'Set2')\n",
    "plt.xlabel(\"Sector\")\n",
    "plt.ylabel(\"Average Revenue($)\")\n",
    "plt.title(\"Stacked Bar Plot: Average Revenue($) by Sector and Category\",fontsize=10)\n",
    "plt.xticks(fontsize = 8,rotation = 0)\n",
    "\n",
    "plt.legend(loc = 'upper left', fontsize = 8)\n",
    "plt.show()"
   ]
  },
  {
   "cell_type": "markdown",
   "id": "e068fa3b",
   "metadata": {},
   "source": [
    "#### Subplots\n",
    "- When we would like to see more than one graph at a time, we use subplots.\n",
    "- `plt.subplots()` allows you to create a grid of subplots within a single figure. \n",
    "- Subplots are useful when you want to display multiple plots together for comparison or visualization of related data. \n",
    "- `plt.subplots()` returns both a figure object and an array of subplot objects that you can use to customize and add plots to."
   ]
  },
  {
   "cell_type": "markdown",
   "id": "b8329b8e",
   "metadata": {},
   "source": [
    "#### Visualize the distribution of revenue per SKU ID and observe the outliers\n",
    "- Use the horizontal box plot and the KDE plot to visualize simultaneously\n",
    "- This type of plots will help us to observe the outliers through box plot as well as on the distribution curve"
   ]
  },
  {
   "cell_type": "code",
   "execution_count": 16,
   "id": "a357ee81",
   "metadata": {
    "code_folding": []
   },
   "outputs": [
    {
     "data": {
      "text/plain": [
       "<Axes: xlabel='Revenue($)', ylabel='Density'>"
      ]
     },
     "execution_count": 16,
     "metadata": {},
     "output_type": "execute_result"
    },
    {
     "data": {
      "image/png": "[encoded data removed]",
      "text/plain": [
       "<Figure size 432x288 with 2 Axes>"
      ]
     },
     "metadata": {
      "needs_background": "light"
     },
     "output_type": "display_data"
    }
   ],
   "source": [
    "# create a combination boxplot and histogram\n",
    "f, (ax_box,ax_hist) = plt.subplots(2, gridspec_kw = {'height_ratios': (0.35,0.65)})\n",
    "df = df_NonZeroRev.groupby('SKU ID').mean(numeric_only = True)\n",
    "sns.boxplot(df['Revenue($)'], ax = ax_box)\n",
    "sns.distplot(df['Revenue($)'], ax = ax_hist, kde = True, bins = 20)"
   ]
  },
  {
   "cell_type": "code",
   "execution_count": 17,
   "id": "9463c809",
   "metadata": {
    "code_folding": []
   },
   "outputs": [
    {
     "data": {
      "image/png": "[encoded data removed]",
      "text/plain": [
       "<Figure size 432x288 with 2 Axes>"
      ]
     },
     "metadata": {
      "needs_background": "light"
     },
     "output_type": "display_data"
    }
   ],
   "source": [
    "# replot with tight layout\n",
    "f, (ax_box,ax_hist) = plt.subplots(2, gridspec_kw = {'height_ratios': (0.3,0.6)})\n",
    "df = df_NonZeroRev.groupby('SKU ID').mean(numeric_only = True)\n",
    "sns.boxplot(df['Revenue($)'], ax = ax_box)\n",
    "sns.distplot(df['Revenue($)'], ax = ax_hist, kde = True, bins = 20)\n",
    "f.tight_layout()"
   ]
  },
  {
   "cell_type": "markdown",
   "id": "3dade08d",
   "metadata": {},
   "source": [
    "#### Compare the revenue of various categories under 3 sectors"
   ]
  },
  {
   "cell_type": "code",
   "execution_count": 18,
   "id": "4e7bc9da",
   "metadata": {
    "code_folding": []
   },
   "outputs": [],
   "source": [
    "# subset the data according to sector\n",
    "df_oral = pos_data.loc[pos_data['Sector'] == 'Oral Care']\n",
    "df_fabric = pos_data.loc[pos_data['Sector'] == 'Fabric Care']\n",
    "df_beauty = pos_data.loc[pos_data['Sector'] == 'Beauty and Personal Care']"
   ]
  },
  {
   "cell_type": "code",
   "execution_count": 19,
   "id": "140d01dc",
   "metadata": {
    "code_folding": [],
    "scrolled": true
   },
   "outputs": [
    {
     "data": {
      "image/png": "[encoded data removed]",
      "text/plain": [
       "<Figure size 720x288 with 3 Axes>"
      ]
     },
     "metadata": {
      "needs_background": "light"
     },
     "output_type": "display_data"
    }
   ],
   "source": [
    "# create bar plots of revenue by category, by sector\n",
    "fig, axes = plt.subplots(nrows = 1, ncols = 3, figsize = (10, 4))\n",
    "\n",
    "axes[0].bar(df_oral['Category'],df_oral['Revenue($)'])\n",
    "axes[0].set_title('Oral Care', fontsize = 8)\n",
    "Oral_labels = list(df_oral.Category.unique())\n",
    "axes[0].set_xticklabels(Oral_labels, fontsize = 8,rotation = 70)\n",
    "\n",
    "axes[1].bar(df_fabric['Category'],df_fabric['Revenue($)'])\n",
    "axes[1].set_title('Fabric Care', fontsize = 8)\n",
    "Fabric_labels = list(df_fabric.Category.unique())\n",
    "axes[1].set_xticklabels(Fabric_labels, fontsize = 8,rotation = 70)\n",
    "\n",
    "axes[2].bar(df_beauty['Category'],df_beauty['Revenue($)'])\n",
    "axes[2].set_title('Beauty and Personal Care', fontsize = 8)\n",
    "Beauty_labels = list(df_beauty.Category.unique())\n",
    "axes[2].set_xticklabels(Beauty_labels, fontsize = 8,rotation = 70)\n",
    "\n",
    "# adjust layout so that everything fits in the plot area\n",
    "plt.tight_layout()\n",
    "\n",
    "# Show the plots\n",
    "plt.show()\n"
   ]
  },
  {
   "cell_type": "code",
   "execution_count": null,
   "id": "3cee99ec",
   "metadata": {},
   "outputs": [],
   "source": []
  },
  {
   "cell_type": "code",
   "execution_count": null,
   "id": "68db0fef",
   "metadata": {},
   "outputs": [],
   "source": []
  },
  {
   "cell_type": "code",
   "execution_count": null,
   "id": "72c30b98",
   "metadata": {},
   "outputs": [],
   "source": []
  },
  {
   "cell_type": "code",
   "execution_count": null,
   "id": "5940e49e",
   "metadata": {},
   "outputs": [],
   "source": []
  },
  {
   "cell_type": "code",
   "execution_count": null,
   "id": "dfa7b269",
   "metadata": {},
   "outputs": [],
   "source": []
  }
 ],
 "metadata": {
  "kernelspec": {
   "display_name": "Python 3 (ipykernel)",
   "language": "python",
   "name": "python3"
  },
  "language_info": {
   "codemirror_mode": {
    "name": "ipython",
    "version": 3
   },
   "file_extension": ".py",
   "mimetype": "text/x-python",
   "name": "python",
   "nbconvert_exporter": "python",
   "pygments_lexer": "ipython3",
   "version": "3.9.12"
  }
 },
 "nbformat": 4,
 "nbformat_minor": 5
}
