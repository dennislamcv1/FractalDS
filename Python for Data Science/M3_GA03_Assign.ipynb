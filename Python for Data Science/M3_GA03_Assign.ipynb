{
 "cells": [
  {
   "cell_type": "markdown",
   "id": "8c14d137",
   "metadata": {
    "deletable": false,
    "editable": false,
    "nbgrader": {
     "cell_type": "markdown",
     "checksum": "9d41f8b9ec688cf6802b2d21d448e3d1",
     "grade": false,
     "grade_id": "cell-1dcd1c702a9b63ca",
     "locked": true,
     "schema_version": 3,
     "solution": false,
     "task": false
    }
   },
   "source": [
    "### Graded Lab 3\n",
    "\n",
    "Hello ! Welcome to Graded Lab of Module 3.\n",
    "\n",
    "Working on the same analysis task.\n",
    "\n",
    "* Here we will work on correlations between variables , testing few of the hypothesis business wants us to test.\n",
    "\n",
    "In case if you are not able to recollect the problem description and data description then mentioning it below.\n",
    "\n",
    "Lets look at the problem statement,\n",
    "\n",
    "*Client: ABC Retail, Incorporated, rest-of-the-world division* \n",
    "\n",
    "***Project name: Online retail sales analysis*** \n",
    "\n",
    "An online retailer, ABC, Inc., operates in nearly 100 countries worldwide, selling furniture, office supplies and technology products to customers in three segments: consumer, corporate and home office. ABC, Inc. is a US-based company, and it has two major divisions: US and rest of the world. We are working with the rest of the world division of the company. \n",
    "\n",
    "They have provided us with online sales transaction data from 2011 to 2014.\n",
    "\n",
    "We are given 3 datasets:-\n",
    "\n",
    "1. Data on each sale; 51290 records; all data in US dollars\n",
    "It contains fields like\n",
    "**order_id** (identifier) ,order_date ,ship_date ,ship_mode ,**customer_id**(identifier) ,product_id ,category ,sub_category ,product_name ,sales ,quantity ,discount ,profit ,shipping_cost ,order_priority ,**vendor_code** (identifier) \n",
    "\n",
    "\n",
    "2. Data on the customers; 1590 records \n",
    "It contains fields like\n",
    "**customer_id** (identifier) ,customer_name ,city ,state ,country ,postal_code ,segment ,market ,region \n",
    "\n",
    "3. Data on vendors who supply the retailer; 65 records \n",
    "It contains fields like\n",
    "vendor ,**vendor_code** (identifier) \n",
    "\n",
    "We need to analyze the data and need to provide answers to different questions asked by company officials."
   ]
  },
  {
   "cell_type": "code",
   "execution_count": null,
   "id": "79fe33e5",
   "metadata": {
    "code_folding": [
     0
    ],
    "deletable": false,
    "editable": false,
    "nbgrader": {
     "cell_type": "code",
     "checksum": "6410c360b75bad748e960d9faf4d4b78",
     "grade": false,
     "grade_id": "cell-2973368d3268fc09",
     "locked": true,
     "schema_version": 3,
     "solution": false,
     "task": false
    }
   },
   "outputs": [],
   "source": [
    "# importing libraries\n",
    "import pandas as pd\n",
    "import numpy as np\n",
    "import seaborn as sns\n",
    "import matplotlib.pyplot as plt\n",
    "from scipy.stats import norm\n",
    "from itertools import combinations\n",
    "from scipy import stats\n",
    "from statsmodels.stats import weightstats as ztests\n",
    "\n",
    "\n",
    "### Reading sales data\n",
    "sales = pd.read_csv('sales_data.csv')\n",
    "\n",
    "### Reading customer data\n",
    "cust = pd.read_csv(r'customers.csv',encoding='iso-8859-1')\n",
    "\n",
    "### Reading vendor data\n",
    "vend = pd.read_csv(r'vendors.csv')\n",
    "\n",
    "sales.head()"
   ]
  },
  {
   "cell_type": "code",
   "execution_count": null,
   "id": "a42c6fd4",
   "metadata": {},
   "outputs": [],
   "source": [
    "pd.set_option('display.max_columns',None)\n",
    "#pd.set_option('display.max_rows',None)\n",
    "pd.set_option('display.width', 1000)\n",
    "pd.set_option('display.float_format','{:.4f}'.format)"
   ]
  },
  {
   "cell_type": "code",
   "execution_count": null,
   "id": "5dbf60a8",
   "metadata": {},
   "outputs": [],
   "source": [
    "sales.shape, cust.shape, vend.shape"
   ]
  },
  {
   "cell_type": "code",
   "execution_count": null,
   "id": "f18de2d4",
   "metadata": {},
   "outputs": [],
   "source": [
    "cust.head()"
   ]
  },
  {
   "cell_type": "code",
   "execution_count": null,
   "id": "6345c402",
   "metadata": {},
   "outputs": [],
   "source": [
    "vend.head()"
   ]
  },
  {
   "cell_type": "markdown",
   "id": "61083e7f",
   "metadata": {
    "deletable": false,
    "editable": false,
    "nbgrader": {
     "cell_type": "markdown",
     "checksum": "a9bdcd2b639bde32261c8bffe87db225",
     "grade": false,
     "grade_id": "cell-467b0f3178603064",
     "locked": true,
     "schema_version": 3,
     "solution": false,
     "task": false
    }
   },
   "source": [
    "In order to solve the next questions , we need to combine all the 3 datasets into a single dataframe such that every details of sales dataframe are intact. So here we have written a data processing function.\n",
    "There are 2 tasks which are to be performed.\n",
    "1. Merge/ Join all the 3 datasets into a single dataframe such that every details of sales dataframe are intact. (Understand which should be the joining key , type of join , refer .merge() function of pandas)\n",
    "2. Convert 'order_date' into a datetime column.\n",
    "**Return output as a dataframe**"
   ]
  },
  {
   "cell_type": "code",
   "execution_count": null,
   "id": "a445cefe",
   "metadata": {
    "deletable": false,
    "nbgrader": {
     "cell_type": "code",
     "checksum": "e3d44295e14e91c5bf2e9d1ae703481f",
     "grade": false,
     "grade_id": "cell-d6f0b3d1d3b16d3f",
     "locked": false,
     "schema_version": 3,
     "solution": true,
     "task": false
    }
   },
   "outputs": [],
   "source": [
    "#### data_merging & order_date processing , data1 will be sales , data2 will be customer dataset & data3 will be vendor dataset.\n",
    "\n",
    "def data_process(data1,data2,data3):\n",
    "    df = data1.merge(right=data3, how=\"left\", on=\"vendor_code\")\n",
    "    df2 = df.merge(right=data2, how=\"left\", on=\"customer_id\")\n",
    "    df2[\"order_date\"] = pd.to_datetime(df2['order_date'], format='%d/%m/%Y')\n",
    "    return df2"
   ]
  },
  {
   "cell_type": "code",
   "execution_count": null,
   "id": "1108a020",
   "metadata": {
    "deletable": false,
    "editable": false,
    "nbgrader": {
     "cell_type": "code",
     "checksum": "2cc507dc498afd1e0a1ef46e93004db3",
     "grade": false,
     "grade_id": "cell-51373e1027f3d8d3",
     "locked": true,
     "schema_version": 3,
     "solution": false,
     "task": false
    }
   },
   "outputs": [],
   "source": [
    "sales= data_process(data1=sales.copy(),data2=cust.copy(),data3=vend.copy())"
   ]
  },
  {
   "cell_type": "code",
   "execution_count": null,
   "id": "3ce919b5",
   "metadata": {},
   "outputs": [],
   "source": [
    "sales.shape"
   ]
  },
  {
   "cell_type": "code",
   "execution_count": null,
   "id": "5609bbb0",
   "metadata": {
    "deletable": false,
    "editable": false,
    "nbgrader": {
     "cell_type": "code",
     "checksum": "dfdee570c88a4a9e34d750227da67c73",
     "grade": true,
     "grade_id": "cell-6e7272d20447184e",
     "locked": true,
     "points": 0,
     "schema_version": 3,
     "solution": false,
     "task": false
    }
   },
   "outputs": [],
   "source": [
    "assert sales['order_date'].dtypes=='<M8[ns]' ,'Make sure that you have converted order_date into a datetime format correctly.'\n",
    "assert sales.shape== (51290,26) ,'Checking size and shape of dataframe after merging is a very important check.'"
   ]
  },
  {
   "cell_type": "markdown",
   "id": "c8fac608",
   "metadata": {
    "deletable": false,
    "editable": false,
    "nbgrader": {
     "cell_type": "markdown",
     "checksum": "0103edfc30fc77f3bd3939995c86f7c6",
     "grade": false,
     "grade_id": "cell-b926f03f7c984908",
     "locked": true,
     "schema_version": 3,
     "solution": false,
     "task": false
    }
   },
   "source": [
    "### Q1. What is skewness,skewness type ,kurtosis, kurtosis type for profit column ? \n",
    "#### Return output in tuple format.Eg :- (-1, \"Left-skewed\", 2, \"Platykurtic\"). Make sure to round off answer to 2 decimals."
   ]
  },
  {
   "cell_type": "markdown",
   "id": "7b12ecd6",
   "metadata": {
    "deletable": false,
    "editable": false,
    "nbgrader": {
     "cell_type": "markdown",
     "checksum": "3168c75286c4d33c913001da6f8ec300",
     "grade": false,
     "grade_id": "cell-4b4344a41922232e",
     "locked": true,
     "schema_version": 3,
     "solution": false,
     "task": false
    }
   },
   "source": [
    "Note:-\n",
    "1. Skewness type takes 3 values :- Right-skewed (Skewness >0) ,Left-skewed (Skewness <0), Symmetric (Skewness = 0)\n",
    "2. Kurtosis type takes 3 values :- Platykurtic (kurtosis < 3) ,Leptokurtic (kurtosis > 3), Mesokurtic (kurtosis = 3)"
   ]
  },
  {
   "cell_type": "code",
   "execution_count": null,
   "id": "4677e277",
   "metadata": {},
   "outputs": [],
   "source": [
    "skewness = round(stats.skew(sales.profit), 2)"
   ]
  },
  {
   "cell_type": "code",
   "execution_count": null,
   "id": "cac8f5e8",
   "metadata": {},
   "outputs": [],
   "source": [
    "skewness"
   ]
  },
  {
   "cell_type": "code",
   "execution_count": null,
   "id": "27d1e135",
   "metadata": {},
   "outputs": [],
   "source": [
    "skewness_type = \"Right-skewed\" if skewness > 0 else \"Left-skewed\" if skewness < 0 else \"Symmetric\"\n",
    "skewness_type"
   ]
  },
  {
   "cell_type": "code",
   "execution_count": null,
   "id": "7edd8e83",
   "metadata": {},
   "outputs": [],
   "source": [
    "kurtosis = round(stats.kurtosis(sales.profit), 2)\n",
    "kurtosis"
   ]
  },
  {
   "cell_type": "code",
   "execution_count": null,
   "id": "db0646e8",
   "metadata": {},
   "outputs": [],
   "source": [
    "kurtosis_type = \"Leptokurtic\" if kurtosis > 3 else \"Platykurtic\" if kurtosis < 3 else \"Mesokurtic\"\n",
    "kurtosis_type"
   ]
  },
  {
   "cell_type": "code",
   "execution_count": null,
   "id": "19d73a30",
   "metadata": {},
   "outputs": [],
   "source": [
    "result = (skewness, skewness_type, kurtosis, kurtosis_type)\n",
    "result"
   ]
  },
  {
   "cell_type": "markdown",
   "id": "9125649b",
   "metadata": {},
   "source": [
    "*** ----------------------------------------------------------- ***"
   ]
  },
  {
   "cell_type": "code",
   "execution_count": null,
   "id": "06351d96",
   "metadata": {
    "deletable": false,
    "nbgrader": {
     "cell_type": "code",
     "checksum": "b3c18122633c8fa46d6e4098a8fa266c",
     "grade": false,
     "grade_id": "cell-15b38d6aecccc0d5",
     "locked": false,
     "schema_version": 3,
     "solution": true,
     "task": false
    }
   },
   "outputs": [],
   "source": [
    "def skew_kurt(data,column):  \n",
    "    \n",
    "    column_data = data[column]\n",
    "    \n",
    "    skewness = round(stats.skew(column_data), 2)\n",
    "    skewness_type = \"Right-skewed\" if skewness > 0 else \"Left-skewed\" if skewness < 0 else \"Symmetric\"\n",
    "\n",
    "    kurtosis = round(stats.kurtosis(column_data), 2)\n",
    "    kurtosis_type = \"Leptokurtic\" if kurtosis > 3 else \"Platykurtic\" if kurtosis < 3 else \"Mesokurtic\"\n",
    "\n",
    "    result = (skewness, skewness_type, kurtosis, kurtosis_type)\n",
    "    \n",
    "    return result"
   ]
  },
  {
   "cell_type": "code",
   "execution_count": null,
   "id": "96cc2b3b",
   "metadata": {
    "deletable": false,
    "editable": false,
    "nbgrader": {
     "cell_type": "code",
     "checksum": "acb56bde9feb79d1ee8e2eb74d08132e",
     "grade": true,
     "grade_id": "cell-484293228e575f1b",
     "locked": true,
     "points": 5,
     "schema_version": 3,
     "solution": false,
     "task": false
    }
   },
   "outputs": [],
   "source": [
    "assert type(skew_kurt(data=sales,column='profit'))==tuple, \"Please provide output in a tuple format.\"\n",
    "assert len(skew_kurt(data=sales,column='profit'))==4,\"Please include skewness , skewness_type , kurtosis & kurtosis_type.\"\n",
    "assert skew_kurt(data=sales,column='profit')[1] in [\"Right-skewed\",\"Left-skewed\",\"Symmetric\"],\"Please include from the listed types only , also make sure that spelling is correct.\"\n",
    "assert skew_kurt(data=sales,column='profit')[3] in [\"Platykurtic\",\"Leptokurtic\",\"Mesokurtic\"],\"Please include from the listed types only , also make sure that spelling is correct.\""
   ]
  },
  {
   "cell_type": "code",
   "execution_count": null,
   "id": "76344469",
   "metadata": {
    "deletable": false,
    "editable": false,
    "nbgrader": {
     "cell_type": "code",
     "checksum": "9355216007796955b4536dec3356fa33",
     "grade": true,
     "grade_id": "cell-69fee297270967e0",
     "locked": true,
     "points": 5,
     "schema_version": 3,
     "solution": false,
     "task": false
    }
   },
   "outputs": [],
   "source": [
    "# autograder cells , please do not alter/ delete /edit this cell"
   ]
  },
  {
   "cell_type": "markdown",
   "id": "ae4a677e",
   "metadata": {
    "deletable": false,
    "editable": false,
    "nbgrader": {
     "cell_type": "markdown",
     "checksum": "0fd61fe60f289426ac94bc3447edafc8",
     "grade": false,
     "grade_id": "cell-b2842afe965d1a15",
     "locked": true,
     "schema_version": 3,
     "solution": false,
     "task": false
    }
   },
   "source": [
    "### Q2.\tWhat is correlation between different numerical variables ? ('sales', 'quantity', 'discount', 'profit', 'shipping_cost')\n",
    "### Return a dataframe with 3 columns : Variable 1 , Variable 2 , Correlation. Make sure to sort dataframe with respect to highest absolute correlation & one variable pair occurs only once."
   ]
  },
  {
   "cell_type": "code",
   "execution_count": null,
   "id": "e76a89b1",
   "metadata": {},
   "outputs": [],
   "source": [
    "sales.columns"
   ]
  },
  {
   "cell_type": "code",
   "execution_count": null,
   "id": "8172eb08",
   "metadata": {},
   "outputs": [],
   "source": [
    "df = sales[['sales', 'quantity', 'discount', 'profit', 'shipping_cost']]\n",
    "df.head()"
   ]
  },
  {
   "cell_type": "code",
   "execution_count": null,
   "id": "68ff91f1",
   "metadata": {},
   "outputs": [],
   "source": [
    "# Calculate the correlation matrix\n",
    "correlation_matrix = df.corr()\n",
    "correlation_matrix"
   ]
  },
  {
   "cell_type": "code",
   "execution_count": null,
   "id": "164be4f2",
   "metadata": {},
   "outputs": [],
   "source": [
    "# Create a DataFrame to store the correlation values and their pairs\n",
    "correlation_data = []\n",
    "\n",
    "# Iterate through the upper triangle of the correlation matrix to avoid duplicate pairs\n",
    "for i in range(len(df.columns)):\n",
    "    for j in range(i + 1, len(df.columns)):\n",
    "        variable_1 = df.columns[i]\n",
    "        variable_2 = df.columns[j]\n",
    "        corr = correlation_matrix.iloc[i, j]\n",
    "        correlation_data.append([variable_1, variable_2, corr])"
   ]
  },
  {
   "cell_type": "code",
   "execution_count": null,
   "id": "37a9902c",
   "metadata": {},
   "outputs": [],
   "source": [
    "correlation_data"
   ]
  },
  {
   "cell_type": "code",
   "execution_count": null,
   "id": "27241d93",
   "metadata": {},
   "outputs": [],
   "source": [
    "# Create the DataFrame with the correlation values\n",
    "pair_df = pd.DataFrame(correlation_data, columns=['Variable 1', 'Variable 2', 'Correlation'])\n",
    "pair_df"
   ]
  },
  {
   "cell_type": "code",
   "execution_count": null,
   "id": "83a6837f",
   "metadata": {},
   "outputs": [],
   "source": [
    "# Sort the DataFrame by the absolute correlation values in descending order\n",
    "pair_df = pair_df.reindex(pair_df['Correlation'].abs().sort_values(ascending=False).index)\n",
    "\n",
    "# Reset the index of the resulting DataFrame\n",
    "pair_df = pair_df.reset_index(drop=True)"
   ]
  },
  {
   "cell_type": "code",
   "execution_count": null,
   "id": "e43985c3",
   "metadata": {},
   "outputs": [],
   "source": [
    "pair_df"
   ]
  },
  {
   "cell_type": "code",
   "execution_count": null,
   "id": "1ffbfd72",
   "metadata": {
    "deletable": false,
    "nbgrader": {
     "cell_type": "code",
     "checksum": "0e2de7a02d9c26e9f992829c4701492e",
     "grade": false,
     "grade_id": "cell-891376cce26eb132",
     "locked": false,
     "schema_version": 3,
     "solution": true,
     "task": false
    }
   },
   "outputs": [],
   "source": [
    "def corr_sales(data):\n",
    "    data = data[['sales', 'quantity', 'discount', 'profit', 'shipping_cost']]\n",
    "    \n",
    "    correlation_matrix = data.corr()\n",
    "    \n",
    "    correlation_data = []\n",
    "    \n",
    "    for i in range(len(data.columns)):\n",
    "        for j in range(i + 1, len(data.columns)):\n",
    "            variable_1 = data.columns[i]\n",
    "            variable_2 = data.columns[j]\n",
    "            corr = correlation_matrix.iloc[i, j]\n",
    "            correlation_data.append([variable_1, variable_2, corr])\n",
    "    \n",
    "    pair_df = pd.DataFrame(correlation_data, columns=['variable_1', 'variable_2', 'corr'])\n",
    "    \n",
    "    pair_df = pair_df.reindex(pair_df['corr'].abs().sort_values(ascending=False).index)\n",
    "    \n",
    "    pair_df = pair_df.reset_index(drop=True)\n",
    "    \n",
    "    return pair_df[['variable_1','variable_2','corr']]"
   ]
  },
  {
   "cell_type": "code",
   "execution_count": null,
   "id": "42af3f68",
   "metadata": {},
   "outputs": [],
   "source": [
    "corr_sales(sales)"
   ]
  },
  {
   "cell_type": "code",
   "execution_count": null,
   "id": "477b5188",
   "metadata": {
    "deletable": false,
    "editable": false,
    "nbgrader": {
     "cell_type": "code",
     "checksum": "0db59d1bf957937aa2e0644879b57bf3",
     "grade": true,
     "grade_id": "cell-d39bc7b2a3f0e000",
     "locked": true,
     "points": 5,
     "schema_version": 3,
     "solution": false,
     "task": false
    }
   },
   "outputs": [],
   "source": [
    "assert type(corr_sales(data=sales))==pd.DataFrame, \"Please provide output in dataframe format.\"\n",
    "assert all(corr_sales(data=sales).columns==['variable_1', 'variable_2', 'corr']), \"Make sure your output columns are named as 'variable_1', 'variable_2', 'corr'.\"\n",
    "assert corr_sales(data=sales).shape[1]==3, \"Make sure you are returning only 3 columns.\"\n",
    "assert corr_sales(data=sales).shape[0]==10, \"Make sure you are returning all possible combinations.\""
   ]
  },
  {
   "cell_type": "code",
   "execution_count": null,
   "id": "8fdfadc9",
   "metadata": {
    "deletable": false,
    "editable": false,
    "nbgrader": {
     "cell_type": "code",
     "checksum": "c79176eda986ae2e6f39a6410aba51d7",
     "grade": true,
     "grade_id": "cell-e680b68e89f9759a",
     "locked": true,
     "points": 5,
     "schema_version": 3,
     "solution": false,
     "task": false
    }
   },
   "outputs": [],
   "source": [
    "# autograder cells , please do not alter/ delete /edit this cell"
   ]
  },
  {
   "cell_type": "markdown",
   "id": "fa083beb",
   "metadata": {
    "deletable": false,
    "editable": false,
    "nbgrader": {
     "cell_type": "markdown",
     "checksum": "061797233f8b0a9a386c2b8392aa9dca",
     "grade": false,
     "grade_id": "cell-b6503fb1dd730176",
     "locked": true,
     "schema_version": 3,
     "solution": false,
     "task": false
    }
   },
   "source": [
    "### Q3.\t Plot a box plot for sales in 'Furniture' category and tell on which side of box-plot you were able to see outliers.\n",
    "\n",
    "### Return output from one of the following choices : 1. both_sides , 2. upper_whisker , 3. lower_whisker"
   ]
  },
  {
   "cell_type": "code",
   "execution_count": null,
   "id": "90c6b3d4",
   "metadata": {},
   "outputs": [],
   "source": [
    "sales.category.unique()"
   ]
  },
  {
   "cell_type": "code",
   "execution_count": null,
   "id": "ac654b58",
   "metadata": {},
   "outputs": [],
   "source": [
    "furniture_data = sales[sales['category'] == 'Furniture']\n",
    "furniture_data.head()"
   ]
  },
  {
   "cell_type": "code",
   "execution_count": null,
   "id": "b3609a1a",
   "metadata": {},
   "outputs": [],
   "source": [
    "plt.figure(figsize=(12,8))\n",
    "sns.boxplot(data=furniture_data, x=\"sales\")\n",
    "plt.show()"
   ]
  },
  {
   "cell_type": "code",
   "execution_count": null,
   "id": "edda8dff",
   "metadata": {
    "deletable": false,
    "nbgrader": {
     "cell_type": "code",
     "checksum": "d601e42813c2ee64456ba7c7cd333472",
     "grade": false,
     "grade_id": "cell-c3127d529f222152",
     "locked": false,
     "schema_version": 3,
     "solution": true,
     "task": false
    }
   },
   "outputs": [],
   "source": [
    "def outlier_sales(data): \n",
    "    furniture_data = data[data['category'] == 'Furniture']\n",
    "    sns.boxplot(data=furniture_data, x=\"sales\")\n",
    "    outliers_whiskers = \"upper_whisker\"\n",
    "    return outliers_whiskers # outlier_whsikers is a variable in where you will store answer selected from this 3 options : 1. both_sides , 2. upper_whisker , 3. lower_whisker"
   ]
  },
  {
   "cell_type": "code",
   "execution_count": null,
   "id": "70415462",
   "metadata": {},
   "outputs": [],
   "source": [
    "outlier_sales(sales)"
   ]
  },
  {
   "cell_type": "code",
   "execution_count": null,
   "id": "cd900c8d",
   "metadata": {
    "deletable": false,
    "editable": false,
    "nbgrader": {
     "cell_type": "code",
     "checksum": "3773cffdae5d1d33e38c7da7314d33a7",
     "grade": true,
     "grade_id": "cell-aae54343919bbde4",
     "locked": true,
     "points": 10,
     "schema_version": 3,
     "solution": false,
     "task": false
    }
   },
   "outputs": [],
   "source": [
    "# autograder cells , please do not alter/ delete /edit this cell"
   ]
  },
  {
   "cell_type": "markdown",
   "id": "68e0312a",
   "metadata": {
    "deletable": false,
    "editable": false,
    "nbgrader": {
     "cell_type": "markdown",
     "checksum": "e8620be4eabb25a938f4f48abb5711aa",
     "grade": false,
     "grade_id": "cell-9375fa2df9bb2b3f",
     "locked": true,
     "schema_version": 3,
     "solution": false,
     "task": false
    }
   },
   "source": [
    "### Q4.\tWhat is probability that profit lies between 13 & 25.\n",
    "Return output as float type ,rounded upto 4 decimals."
   ]
  },
  {
   "cell_type": "code",
   "execution_count": null,
   "id": "92266a09",
   "metadata": {},
   "outputs": [],
   "source": [
    "sales.profit.values"
   ]
  },
  {
   "cell_type": "code",
   "execution_count": null,
   "id": "4f6d1365",
   "metadata": {},
   "outputs": [],
   "source": [
    "lower_bound = 13\n",
    "upper_bound = 25"
   ]
  },
  {
   "cell_type": "code",
   "execution_count": null,
   "id": "856bfd75",
   "metadata": {},
   "outputs": [],
   "source": [
    "profits_in_range = [profit for profit in sales.profit.values if lower_bound <= profit <= upper_bound]"
   ]
  },
  {
   "cell_type": "code",
   "execution_count": null,
   "id": "c866aa7b",
   "metadata": {},
   "outputs": [],
   "source": [
    "profits_in_range [:5]"
   ]
  },
  {
   "cell_type": "code",
   "execution_count": null,
   "id": "f6cb2b9f",
   "metadata": {},
   "outputs": [],
   "source": [
    "probability = len(profits_in_range) / len(sales.profit.values)"
   ]
  },
  {
   "cell_type": "code",
   "execution_count": null,
   "id": "683e0560",
   "metadata": {},
   "outputs": [],
   "source": [
    "probability = round(probability, 4)"
   ]
  },
  {
   "cell_type": "code",
   "execution_count": null,
   "id": "b3c88e08",
   "metadata": {},
   "outputs": [],
   "source": [
    "np.float64(probability)"
   ]
  },
  {
   "cell_type": "code",
   "execution_count": null,
   "id": "b0bfa478",
   "metadata": {},
   "outputs": [],
   "source": [
    "type(probability)"
   ]
  },
  {
   "cell_type": "code",
   "execution_count": null,
   "id": "7b15776a",
   "metadata": {
    "deletable": false,
    "nbgrader": {
     "cell_type": "code",
     "checksum": "41e2085e80633501293dc73c2e65bed4",
     "grade": false,
     "grade_id": "cell-91216071cd4b7a14",
     "locked": false,
     "schema_version": 3,
     "solution": true,
     "task": false
    }
   },
   "outputs": [],
   "source": [
    "def prob(data,lower_bound,upper_bound):\n",
    "    \n",
    "    data = data.profit.values\n",
    "    profits_in_range = [profit for profit in data if lower_bound <= profit <= upper_bound]\n",
    "    probability = len(profits_in_range) / len(data)\n",
    "    probability = round(probability, 4)\n",
    "    probability = np.float64(probability)\n",
    "    return probability"
   ]
  },
  {
   "cell_type": "code",
   "execution_count": null,
   "id": "40a15bcd",
   "metadata": {},
   "outputs": [],
   "source": [
    "prob(sales, 13, 25)"
   ]
  },
  {
   "cell_type": "code",
   "execution_count": null,
   "id": "fbee939a",
   "metadata": {
    "deletable": false,
    "editable": false,
    "nbgrader": {
     "cell_type": "code",
     "checksum": "c97bc1a50fc8b2cbc07b50f827c5e6f1",
     "grade": true,
     "grade_id": "cell-b4e6e62544e5e4c0",
     "locked": true,
     "points": 5,
     "schema_version": 3,
     "solution": false,
     "task": false
    }
   },
   "outputs": [],
   "source": [
    "assert type(prob(data=sales,lower_bound=13,upper_bound=25))==np.float64, 'Make sure that you are returning output as float type , it should be rounded up to 4 decimals.'\n",
    "assert (prob(data=sales,lower_bound=13,upper_bound=25)>=0) & (prob(data=sales,lower_bound=13,upper_bound=25)<=1), 'Remember probability always lies between 0 to 1.'"
   ]
  },
  {
   "cell_type": "code",
   "execution_count": null,
   "id": "91190710",
   "metadata": {
    "deletable": false,
    "editable": false,
    "nbgrader": {
     "cell_type": "code",
     "checksum": "883b91b6043c6447418369aa1f5e34bc",
     "grade": true,
     "grade_id": "cell-10113b1e8f9ae5f7",
     "locked": true,
     "points": 5,
     "schema_version": 3,
     "solution": false,
     "task": false
    }
   },
   "outputs": [],
   "source": [
    "# autograder cells , please do not alter/ delete /edit this cell"
   ]
  },
  {
   "cell_type": "markdown",
   "id": "892b3409",
   "metadata": {
    "deletable": false,
    "editable": false,
    "nbgrader": {
     "cell_type": "markdown",
     "checksum": "975e430d23ae851b67c2a881cf237441",
     "grade": false,
     "grade_id": "cell-3be9fb23869fdf76",
     "locked": true,
     "schema_version": 3,
     "solution": false,
     "task": false
    }
   },
   "source": [
    "###  Q.5) Company's Sales team found an interesting insight from past study. Study said that on a 3-yr scale  avg quantities sold comes out to be 3. Now they want to test if the avergae quantities sold number has increased or not i.e they wish to understand if average quantities sold are greater than a previously known value i.e 3 or not , Our data is on  3 yrs horizon. So they have asked you to draw a sample of size 300 from sales data, analyze and report findings. Select alpha (level of significance) as 0.05.\n",
    "\n",
    "**Return output as tuple consisting of  (statistics_value, p-value, decision). Make sure to round up statistics_value & p-value to 4 decimals. Your code will be tested on an input sample (sample_1).**\n",
    "\n",
    "\n",
    "For eg :- (1.267,0.045,'Reject Null hypothesis')\n",
    "\n",
    "Where ,stastics:- It is calculated statistic from appropriate test.\n",
    "\n",
    "p-value :- probability value\n",
    "\n",
    "Decision :- You have to select from the 2 choices 1.'Reject Null Hypothesis' , 2.'Do not Reject Null Hypothesis''"
   ]
  },
  {
   "cell_type": "markdown",
   "id": "bbd8f04c",
   "metadata": {
    "deletable": false,
    "editable": false,
    "nbgrader": {
     "cell_type": "markdown",
     "checksum": "fce492ba6c253476208c26384b44dcbf",
     "grade": false,
     "grade_id": "cell-7dcf80f9a2915dd6",
     "locked": true,
     "schema_version": 3,
     "solution": false,
     "task": false
    }
   },
   "source": [
    "**Hint:**\n",
    "\n",
    "We are trying to test a hypothesis whether average quantities data for sales data are greater than previously known value 3 or not ?\n",
    "In order to solve this problem , Think on the lines below.\n",
    "\n",
    "H0: Average quantities sold = previously_known_population_value (3)\n",
    "\n",
    "H1: Average quantities sold > previously_known_population_value (3) \n",
    "\n",
    "We will use 1 sample z-test with alernative type as 'larger'  for solving this problem."
   ]
  },
  {
   "cell_type": "code",
   "execution_count": null,
   "id": "3250c7f5",
   "metadata": {
    "deletable": false,
    "editable": false,
    "nbgrader": {
     "cell_type": "code",
     "checksum": "2c2bf75e2fa3636baa55ccd3287f473b",
     "grade": true,
     "grade_id": "cell-46345c338cdc876b",
     "locked": true,
     "points": 0,
     "schema_version": 3,
     "solution": false,
     "task": false
    }
   },
   "outputs": [],
   "source": [
    "# autograder cells , please do not alter/ delete /edit this cell."
   ]
  },
  {
   "cell_type": "code",
   "execution_count": null,
   "id": "cae8e281",
   "metadata": {},
   "outputs": [],
   "source": [
    "sales.head()"
   ]
  },
  {
   "cell_type": "code",
   "execution_count": null,
   "id": "94d53248",
   "metadata": {
    "deletable": false,
    "nbgrader": {
     "cell_type": "code",
     "checksum": "01e4b915df49f2b58141b17ee18e64d8",
     "grade": false,
     "grade_id": "cell-64ca11743fc74606",
     "locked": false,
     "schema_version": 3,
     "solution": true,
     "task": false
    }
   },
   "outputs": [],
   "source": [
    "def one_sample_ztest(sample1,alpha,popn_value):\n",
    "    ## sample1(quantity) will be a list of values with length 100.\n",
    "    # Calculate the sample mean and standard error\n",
    "    sample_mean = sum(sample1) / len(sample1)\n",
    "    sample_std = (sum([(x - sample_mean) ** 2 for x in sample1]) / (len(sample1) - 1)) ** 0.5\n",
    "    sample_size = len(sample1)\n",
    "    \n",
    "    # Calculate the Z-statistic\n",
    "    z_statistic = (sample_mean - popn_value) / (sample_std / (sample_size ** 0.5))\n",
    "    \n",
    "    # Calculate the p-value\n",
    "    p_value = 1 - stats.norm.cdf(z_statistic)\n",
    "    \n",
    "    # Make a decision based on the alpha level\n",
    "    if p_value < alpha:\n",
    "        decision = \"Reject H0\"\n",
    "    else:\n",
    "        decision = \"Fail to reject H0\"\n",
    "    \n",
    "    return round(z_statistic,4), round(p_value,4), decision  "
   ]
  },
  {
   "cell_type": "code",
   "execution_count": null,
   "id": "6681055c",
   "metadata": {},
   "outputs": [],
   "source": [
    "sales[\"quantity\"].value_counts()"
   ]
  },
  {
   "cell_type": "code",
   "execution_count": null,
   "id": "b197de6e",
   "metadata": {},
   "outputs": [],
   "source": [
    "sample1 = sales[\"quantity\"].sample(n=300)"
   ]
  },
  {
   "cell_type": "code",
   "execution_count": null,
   "id": "cccfd1b3",
   "metadata": {},
   "outputs": [],
   "source": [
    "alpha = 0.05"
   ]
  },
  {
   "cell_type": "code",
   "execution_count": null,
   "id": "c2bd6da1",
   "metadata": {},
   "outputs": [],
   "source": [
    "popn_value = 3"
   ]
  },
  {
   "cell_type": "code",
   "execution_count": null,
   "id": "6b3c743e",
   "metadata": {},
   "outputs": [],
   "source": [
    "one_sample_ztest(sample1,alpha,popn_value)"
   ]
  },
  {
   "cell_type": "code",
   "execution_count": null,
   "id": "3f969a8d",
   "metadata": {
    "deletable": false,
    "editable": false,
    "nbgrader": {
     "cell_type": "code",
     "checksum": "6f1bf3da1f2b24be435dd1c82b2e76ae",
     "grade": true,
     "grade_id": "cell-f949706e3f6b68fc",
     "locked": true,
     "points": 10,
     "schema_version": 3,
     "solution": false,
     "task": false
    }
   },
   "outputs": [],
   "source": [
    "# autograder cells , please do not alter/ delete /edit this cell"
   ]
  },
  {
   "cell_type": "markdown",
   "id": "955e48a2",
   "metadata": {
    "deletable": false,
    "editable": false,
    "nbgrader": {
     "cell_type": "markdown",
     "checksum": "a93e11fc5e7eac5157655a6a3918b417",
     "grade": false,
     "grade_id": "cell-4d8b263d6f04068d",
     "locked": true,
     "schema_version": 3,
     "solution": false,
     "task": false
    }
   },
   "source": [
    "### Q.6)  Sales team is interested in knowing if furniture & office supply products sell equally or is there any differece between their sells so they ask us to draw a sample of size 22 from furniture & sample of size 25 from Office Supplies from sales dataset and report findings. Select alpha (level of significance) as 0.05.\n",
    "\n",
    "**Return output as tuple consisting of (statistics_value, p-value, decision). Make sure that stastics,p-value are rounded upto 4 digits.Your code will be tested on 2 input samples (sample_1,sample_2).**\n",
    "\n",
    "For eg :- (1.267,0.045,'Reject Null hypothesis')\n",
    "\n",
    "Where ,stastics:- It is calculated statistic from chosen test.\n",
    "\n",
    "p-value :- probability value\n",
    "\n",
    "Decision :- 'Reject Null Hypothesis' , ''Do not Reject Null Hypothesis''\n",
    "\n"
   ]
  },
  {
   "cell_type": "code",
   "execution_count": null,
   "id": "22b71f97",
   "metadata": {},
   "outputs": [],
   "source": [
    "sales[\"category\"].value_counts()"
   ]
  },
  {
   "cell_type": "code",
   "execution_count": null,
   "id": "0a101e5c",
   "metadata": {},
   "outputs": [],
   "source": [
    "furnsales = sales[sales[\"category\"] == \"Furniture\"].sample(n=22)"
   ]
  },
  {
   "cell_type": "code",
   "execution_count": null,
   "id": "87606a4c",
   "metadata": {},
   "outputs": [],
   "source": [
    "furnsales.head()"
   ]
  },
  {
   "cell_type": "code",
   "execution_count": null,
   "id": "999edfb9",
   "metadata": {},
   "outputs": [],
   "source": [
    "sample1 = furnsales[[\"sales\"]]\n",
    "\n",
    "sample1"
   ]
  },
  {
   "cell_type": "code",
   "execution_count": null,
   "id": "c4ea5379",
   "metadata": {},
   "outputs": [],
   "source": [
    "officesales = sales[sales[\"category\"] == \"Office Supplies\"].sample(n=25)"
   ]
  },
  {
   "cell_type": "code",
   "execution_count": null,
   "id": "b12a75e8",
   "metadata": {},
   "outputs": [],
   "source": [
    "officesales.head()"
   ]
  },
  {
   "cell_type": "code",
   "execution_count": null,
   "id": "2a21c555",
   "metadata": {},
   "outputs": [],
   "source": [
    "sample2 = officesales[[\"sales\"]]\n",
    "\n",
    "sample2"
   ]
  },
  {
   "cell_type": "code",
   "execution_count": null,
   "id": "06a2e712",
   "metadata": {},
   "outputs": [],
   "source": [
    "statistic, p_value = stats.ttest_ind(sample1, sample2, equal_var=False)"
   ]
  },
  {
   "cell_type": "code",
   "execution_count": null,
   "id": "f2d40ce7",
   "metadata": {},
   "outputs": [],
   "source": [
    "statistic"
   ]
  },
  {
   "cell_type": "code",
   "execution_count": null,
   "id": "1e1075c2",
   "metadata": {},
   "outputs": [],
   "source": [
    "p_value"
   ]
  },
  {
   "cell_type": "code",
   "execution_count": null,
   "id": "471e93ea",
   "metadata": {
    "deletable": false,
    "editable": false,
    "nbgrader": {
     "cell_type": "code",
     "checksum": "68a996cd788c691b0041c6457ead6303",
     "grade": true,
     "grade_id": "cell-dac552359a4f2eb8",
     "locked": true,
     "points": 0,
     "schema_version": 3,
     "solution": false,
     "task": false
    }
   },
   "outputs": [],
   "source": [
    "# autograder cells , please do not alter/ delete /edit this cell."
   ]
  },
  {
   "cell_type": "code",
   "execution_count": null,
   "id": "be56c38f",
   "metadata": {
    "deletable": false,
    "nbgrader": {
     "cell_type": "code",
     "checksum": "a1824b02c5eeb4e7270c0bd36665c311",
     "grade": false,
     "grade_id": "cell-ea9ba7ce1cdf4790",
     "locked": false,
     "schema_version": 3,
     "solution": true,
     "task": false
    }
   },
   "outputs": [],
   "source": [
    "def hypo_test(sample1,sample2,alpha):\n",
    "    ## sample1(furniture sales) will be a list of values with length 22.\n",
    "    ## sample2(office supplies sales) will be a list of values with length 25.\n",
    "    # your code here\n",
    "    \n",
    "    \n",
    "    \n",
    "    # Perform a two-sample t-test\n",
    "    statistic, p_value = stats.ttest_ind(sample1, sample2, equal_var=False)\n",
    "    \n",
    "    # Check if the p-value is less than alpha to make a decision\n",
    "    if p_value < alpha:\n",
    "        decision = \"Reject null hypothesis\"\n",
    "    else:\n",
    "        decision = \"Do not Reject Null Hypothesis\"\n",
    "        \n",
    "    # Round the statistic and p-value for output\n",
    "    statistic = statistic[0]\n",
    "    p_value = p_value[0]\n",
    "    \n",
    "    #statistic = round(statistic, 4)\n",
    "    #p_value = round(p_value, 4)\n",
    "        \n",
    "    return round(statistic, 4), round(p_value, 4), decision"
   ]
  },
  {
   "cell_type": "code",
   "execution_count": null,
   "id": "7cb15da3",
   "metadata": {},
   "outputs": [],
   "source": [
    "sample_1 = sample1\n",
    "sample_2 = sample2\n",
    "alpha = 0.05"
   ]
  },
  {
   "cell_type": "code",
   "execution_count": null,
   "id": "2b4a036d",
   "metadata": {},
   "outputs": [],
   "source": [
    "hypo_test(sample_1,sample_2,alpha)"
   ]
  },
  {
   "cell_type": "code",
   "execution_count": null,
   "id": "fa766529",
   "metadata": {
    "deletable": false,
    "editable": false,
    "nbgrader": {
     "cell_type": "code",
     "checksum": "c0c82358dc30643e0e23f45e6b071c9e",
     "grade": true,
     "grade_id": "cell-6884a77818761b56",
     "locked": true,
     "points": 13,
     "schema_version": 3,
     "solution": false,
     "task": false
    }
   },
   "outputs": [],
   "source": [
    "# autograder cells , please do not alter/ delete /edit this cell\n",
    "### Hidden test 1"
   ]
  },
  {
   "cell_type": "code",
   "execution_count": null,
   "id": "6605592d",
   "metadata": {
    "deletable": false,
    "editable": false,
    "nbgrader": {
     "cell_type": "code",
     "checksum": "67ea3d19d9bdf3a022fe5eaa84436ce9",
     "grade": true,
     "grade_id": "cell-eeb975b0e1b969db",
     "locked": true,
     "points": 13,
     "schema_version": 3,
     "solution": false,
     "task": false
    }
   },
   "outputs": [],
   "source": [
    "# autograder cells , please do not alter/ delete /edit this cell\n",
    "### Hidden test 2"
   ]
  },
  {
   "cell_type": "code",
   "execution_count": null,
   "id": "f805ed48",
   "metadata": {
    "deletable": false,
    "editable": false,
    "nbgrader": {
     "cell_type": "code",
     "checksum": "c339cafc9b0c5e0bede6e0bafd6006c6",
     "grade": true,
     "grade_id": "cell-b4a5ed1c86e547f1",
     "locked": true,
     "points": 4,
     "schema_version": 3,
     "solution": false,
     "task": false
    }
   },
   "outputs": [],
   "source": [
    "# autograder cells , please do not alter/ delete /edit this cell\n",
    "### Hidden test 2"
   ]
  },
  {
   "cell_type": "markdown",
   "id": "890bdcf8",
   "metadata": {
    "deletable": false,
    "editable": false,
    "nbgrader": {
     "cell_type": "markdown",
     "checksum": "0e3f7719c922932922ed6764f85b7c12",
     "grade": false,
     "grade_id": "cell-c6046bddb91f0416",
     "locked": true,
     "schema_version": 3,
     "solution": false,
     "task": false
    }
   },
   "source": [
    "## Great Job ! ! !\n",
    "Business team is happy with your work they wish to test couple of more things & require your help."
   ]
  },
  {
   "cell_type": "markdown",
   "id": "4425d166",
   "metadata": {
    "deletable": false,
    "editable": false,
    "nbgrader": {
     "cell_type": "markdown",
     "checksum": "e3944bcebf365933fe5691d042e4bb75",
     "grade": false,
     "grade_id": "cell-57b757bf2162ba6d",
     "locked": true,
     "schema_version": 3,
     "solution": false,
     "task": false
    }
   },
   "source": [
    "### Q.6)  Sales team is interested in knowing if profits in EMEA & Africa region are same or not. Test the hypothesis. Select alpha (level of significance) as 0.05.\n",
    "\n",
    "**Return output as tuple consisting of (statistics_value,p-value,decision). Make sure that stastics,p-value are rounded upto 4 digits.Your code will be tested on 2 input samples (sample_1,sample_2).**\n",
    "\n",
    "\n",
    "For eg :- (1.267,0.045,'Reject Null hypothesis')\n",
    "\n",
    "Where ,statistics_value:- It is calculated statistic from chosen test.\n",
    "\n",
    "p-value :- probability value\n",
    "\n",
    "Decision :- 'Reject Null Hypothesis' , ''Do not Reject Null Hypothesis''\n",
    "\n"
   ]
  },
  {
   "cell_type": "code",
   "execution_count": null,
   "id": "11aed82a",
   "metadata": {
    "deletable": false,
    "editable": false,
    "nbgrader": {
     "cell_type": "code",
     "checksum": "be9abb2e596516444b8bd327eb6c3101",
     "grade": true,
     "grade_id": "cell-f574c945ccc7952e",
     "locked": true,
     "points": 0,
     "schema_version": 3,
     "solution": false,
     "task": false
    }
   },
   "outputs": [],
   "source": [
    "# autograder cells , please do not alter/ delete /edit this cell"
   ]
  },
  {
   "cell_type": "code",
   "execution_count": null,
   "id": "6c268919",
   "metadata": {
    "deletable": false,
    "nbgrader": {
     "cell_type": "code",
     "checksum": "b855385cf6d0c8a9633be15698e9cd1a",
     "grade": false,
     "grade_id": "cell-9a6efa7bc0d65e78",
     "locked": false,
     "schema_version": 3,
     "solution": true,
     "task": false
    }
   },
   "outputs": [],
   "source": [
    "def hypo_test(sample1,sample2,alpha):\n",
    "    ## sample_1 (EMEA region) will be a list of values with length 500.\n",
    "    ## sample_2 (Africa region) will be a list of values with length 567.\n",
    "    \n",
    "    \n",
    "    # Perform a two-sample t-test\n",
    "    statistic, p_value = stats.ttest_ind(sample1, sample2, equal_var=False)\n",
    "    \n",
    "    # Check if the p-value is less than alpha to make a decision\n",
    "    if p_value < alpha:\n",
    "        decision = \"Reject null hypothesis\"\n",
    "    else:\n",
    "        decision = \"Do not Reject Null Hypothesis\"\n",
    "        \n",
    "    # Round the statistic and p-value for output\n",
    "    statistic = statistic[0]\n",
    "    p_value = p_value[0]\n",
    "    \n",
    "    return round(statistic,4),round(p_value,4),decision"
   ]
  },
  {
   "cell_type": "code",
   "execution_count": null,
   "id": "d81f2c1c",
   "metadata": {
    "deletable": false,
    "editable": false,
    "nbgrader": {
     "cell_type": "code",
     "checksum": "3aa8b21de9713015a0d28b1a0d866a7f",
     "grade": true,
     "grade_id": "cell-33092e29128eb474",
     "locked": true,
     "points": 8,
     "schema_version": 3,
     "solution": false,
     "task": false
    }
   },
   "outputs": [],
   "source": [
    "# autograder cells , please do not alter/ delete /edit this cell\n",
    "### Hidden test 1"
   ]
  },
  {
   "cell_type": "code",
   "execution_count": null,
   "id": "93e44153",
   "metadata": {
    "deletable": false,
    "editable": false,
    "nbgrader": {
     "cell_type": "code",
     "checksum": "e1bf2a28da43aacfa6b8624e1766859f",
     "grade": true,
     "grade_id": "cell-7e5ee2d1fd5220a4",
     "locked": true,
     "points": 9,
     "schema_version": 3,
     "solution": false,
     "task": false
    }
   },
   "outputs": [],
   "source": [
    "# autograder cells , please do not alter/ delete /edit this cell\n",
    "### Hidden test 2"
   ]
  },
  {
   "cell_type": "code",
   "execution_count": null,
   "id": "177e555c",
   "metadata": {
    "deletable": false,
    "editable": false,
    "nbgrader": {
     "cell_type": "code",
     "checksum": "eee681c6baa6ee754274d907c38cc034",
     "grade": true,
     "grade_id": "cell-ced6f05e544babe6",
     "locked": true,
     "points": 3,
     "schema_version": 3,
     "solution": false,
     "task": false
    }
   },
   "outputs": [],
   "source": [
    "# autograder cells , please do not alter/ delete /edit this cell\n",
    "### Hidden test 3"
   ]
  },
  {
   "cell_type": "markdown",
   "id": "5ef45c86",
   "metadata": {},
   "source": [
    "# 15/100 points earned"
   ]
  }
 ],
 "metadata": {
  "kernelspec": {
   "display_name": "Python 3 (ipykernel)",
   "language": "python",
   "name": "python3"
  },
  "language_info": {
   "codemirror_mode": {
    "name": "ipython",
    "version": 3
   },
   "file_extension": ".py",
   "mimetype": "text/x-python",
   "name": "python",
   "nbconvert_exporter": "python",
   "pygments_lexer": "ipython3",
   "version": "3.9.12"
  }
 },
 "nbformat": 4,
 "nbformat_minor": 5
}
