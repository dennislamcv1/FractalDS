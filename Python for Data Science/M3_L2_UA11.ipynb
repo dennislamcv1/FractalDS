{
 "cells": [
  {
   "cell_type": "markdown",
   "metadata": {},
   "source": [
    "# Lab for module 3 lesson 2"
   ]
  },
  {
   "cell_type": "markdown",
   "metadata": {},
   "source": [
    "Topics covered\n",
    "- Binomial distribution\n",
    "- Poisson distribution\n",
    "- Normal distribution"
   ]
  },
  {
   "cell_type": "markdown",
   "metadata": {},
   "source": [
    "### Q1. A company manufactures light bulbs, and it is known that 8% of the bulbs produced are defective. If a customer purchases 15 bulbs, what is the probability that exactly 2 of them are defective?"
   ]
  },
  {
   "cell_type": "code",
   "execution_count": 1,
   "metadata": {},
   "outputs": [],
   "source": [
    "# write your code here"
   ]
  },
  {
   "cell_type": "markdown",
   "metadata": {},
   "source": [
    "### Q2. A website claims that 30% of its users click on a certain advertisement link. If the advertisement is shown to 50 users, what is the probability that exactly 20 of them click on the link?"
   ]
  },
  {
   "cell_type": "code",
   "execution_count": 2,
   "metadata": {},
   "outputs": [],
   "source": [
    "# write your code here"
   ]
  },
  {
   "cell_type": "markdown",
   "metadata": {},
   "source": [
    "### Q3. A deck of cards contains 52 cards, with 4 suits and 13 ranks in each suit. If 7 cards are drawn randomly without replacement, what is the probability that exactly 3 of them are hearts?\n",
    "\n",
    "**Hint:** Think about how you define *success* and *failure*"
   ]
  },
  {
   "cell_type": "code",
   "execution_count": 3,
   "metadata": {},
   "outputs": [],
   "source": [
    "# write your code here"
   ]
  },
  {
   "cell_type": "markdown",
   "metadata": {},
   "source": [
    "### Q4. A call center receives an average of 25 customer calls per hour. What is the probability that they receive exactly 30 calls in a given hour?"
   ]
  },
  {
   "cell_type": "code",
   "execution_count": 4,
   "metadata": {},
   "outputs": [],
   "source": [
    "# write your code here"
   ]
  },
  {
   "cell_type": "markdown",
   "metadata": {},
   "source": [
    "### Q5. In a city, accidents occur at an average rate of 2.5 accidents per day. What is the probability that there are no accidents on a particular day?"
   ]
  },
  {
   "cell_type": "code",
   "execution_count": 5,
   "metadata": {},
   "outputs": [],
   "source": [
    "# write your code here"
   ]
  },
  {
   "cell_type": "markdown",
   "metadata": {},
   "source": [
    "### Q6. A bakery sells, on average, 15 croissants during the morning rush hour. What is the probability that they sell more than 20 croissants in the next morning rush hour?"
   ]
  },
  {
   "cell_type": "code",
   "execution_count": 6,
   "metadata": {},
   "outputs": [],
   "source": [
    "# write your code here"
   ]
  },
  {
   "cell_type": "markdown",
   "metadata": {},
   "source": [
    "### Q7. The heights of adult males in a population follow a normal distribution with a mean of 162 cm and a standard deviation of 6.8 cam. What percentage of adult males are shorter than 158 inches?"
   ]
  },
  {
   "cell_type": "code",
   "execution_count": 7,
   "metadata": {},
   "outputs": [],
   "source": [
    "# write your code here"
   ]
  },
  {
   "cell_type": "markdown",
   "metadata": {},
   "source": [
    "### Q8. The scores on a standardized test follow a normal distribution with a mean of 500 and a standard deviation of 100. What is the probability that a randomly selected student scored between 450 and 600?"
   ]
  },
  {
   "cell_type": "code",
   "execution_count": 8,
   "metadata": {},
   "outputs": [],
   "source": [
    "# write your code here"
   ]
  },
  {
   "cell_type": "markdown",
   "metadata": {},
   "source": [
    "### Q9. The time it takes a computer to perform a certain task follows a normal distribution with a mean of 12 seconds and a standard deviation of 2 seconds. What percentage of tasks are completed in less than 10 seconds?"
   ]
  },
  {
   "cell_type": "code",
   "execution_count": 9,
   "metadata": {},
   "outputs": [],
   "source": [
    "# write your code here"
   ]
  },
  {
   "cell_type": "markdown",
   "metadata": {},
   "source": [
    "# Solution"
   ]
  },
  {
   "cell_type": "code",
   "execution_count": 10,
   "metadata": {},
   "outputs": [
    {
     "name": "stdout",
     "output_type": "stream",
     "text": [
      "The probability that exactly 2 bulbs are defective is 0.227306\n"
     ]
    }
   ],
   "source": [
    "# Q.1:-\n",
    "### Here we are trying to get probability for no of success , we have probability of success , no of trials. This is setup for binomial distribution. \n",
    "import warnings\n",
    "# Use the warning filter context manager to temporarily suppress warnings\n",
    "warnings.filterwarnings(\"ignore\")\n",
    "from scipy.stats import binom\n",
    "\n",
    "n = 15  # Number of bulbs purchased\n",
    "p = 0.08  # Probability of a bulb being defective\n",
    "k = 2  # Number of defective bulbs\n",
    "\n",
    "# Probability Mass Function (PMF) for exactly 2 defective bulbs\n",
    "probability_pmf = binom.pmf(k, n, p)\n",
    "\n",
    "\n",
    "print(f\"The probability that exactly 2 bulbs are defective is {probability_pmf:.6f}\")\n"
   ]
  },
  {
   "cell_type": "code",
   "execution_count": 11,
   "metadata": {},
   "outputs": [
    {
     "name": "stdout",
     "output_type": "stream",
     "text": [
      "The probability that exactly 20 users click on the link is 0.037039\n"
     ]
    }
   ],
   "source": [
    "# Q.2:-\n",
    "from scipy.stats import binom\n",
    "\n",
    "n = 50  # Number of users shown the advertisement\n",
    "p = 0.30  # Probability of clicking on the link\n",
    "k = 20  # Number of users who click on the link\n",
    "\n",
    "# Probability Mass Function (PMF) for exactly 20 clicks\n",
    "probability_pmf = binom.pmf(k, n, p)\n",
    "\n",
    "\n",
    "print(f\"The probability that exactly 20 users click on the link is {probability_pmf:.6f}\")\n"
   ]
  },
  {
   "cell_type": "code",
   "execution_count": 12,
   "metadata": {},
   "outputs": [
    {
     "name": "stdout",
     "output_type": "stream",
     "text": [
      "The probability that exactly 3 cards are hearts is 0.173035\n"
     ]
    }
   ],
   "source": [
    "# Q.3:-\n",
    "from scipy.stats import binom\n",
    "\n",
    "n = 7\n",
    "k = 3\n",
    "p = 13/52  # Probability of drawing a heart\n",
    "\n",
    "# Probability Mass Function (PMF) for exactly 3 hearts\n",
    "probability_pmf = binom.pmf(k, n, p)\n",
    "\n",
    "print(f\"The probability that exactly 3 cards are hearts is {probability_pmf:.6f}\")"
   ]
  },
  {
   "cell_type": "code",
   "execution_count": 13,
   "metadata": {},
   "outputs": [
    {
     "name": "stdout",
     "output_type": "stream",
     "text": [
      "The probability of receiving exactly 30 calls is 0.045413\n"
     ]
    }
   ],
   "source": [
    "# Q.4:-\n",
    "### Here we are trying to get probability of a rare event.Rare event in this case is customer calls per hour. This is setup for poisson distribution. \n",
    "\n",
    "from scipy.stats import poisson\n",
    "\n",
    "lambda_ = 25  # Average rate of customer calls per hour\n",
    "k = 30  # Number of calls\n",
    "\n",
    "# Probability Mass Function (PMF) for exactly 30 calls\n",
    "probability_pmf = poisson.pmf(k, lambda_)\n",
    "\n",
    "\n",
    "print(f\"The probability of receiving exactly 30 calls is {probability_pmf:.6f}\")\n"
   ]
  },
  {
   "cell_type": "code",
   "execution_count": 14,
   "metadata": {},
   "outputs": [
    {
     "name": "stdout",
     "output_type": "stream",
     "text": [
      "The probability of having zero accidents is 0.082085\n"
     ]
    }
   ],
   "source": [
    "# Q.5:-\n",
    "from scipy.stats import poisson\n",
    "\n",
    "lambda_ = 2.5  # Average rate of accidents per day\n",
    "k = 0  # Number of accidents\n",
    "\n",
    "# Probability Mass Function (PMF) for zero accidents\n",
    "probability_pmf = poisson.pmf(k, lambda_)\n",
    "\n",
    "print(f\"The probability of having zero accidents is {probability_pmf:.6f}\")\n"
   ]
  },
  {
   "cell_type": "code",
   "execution_count": 15,
   "metadata": {},
   "outputs": [
    {
     "name": "stdout",
     "output_type": "stream",
     "text": [
      "The probability of selling more than 20 croissants is 0.082971\n"
     ]
    }
   ],
   "source": [
    "# Q.6:-\n",
    "from scipy.stats import poisson\n",
    "\n",
    "lambda_ = 15  # Average rate of croissants sold during the morning rush hour\n",
    "k = 20  # Number of croissants\n",
    "\n",
    "probability_cdf=poisson.cdf(k, lambda_)\n",
    "\n",
    "# Calculate the probability of selling more than 20 croissants\n",
    "probability_more_than_20 = 1 - probability_cdf\n",
    "\n",
    "print(f\"The probability of selling more than 20 croissants is {probability_more_than_20:.6f}\")\n"
   ]
  },
  {
   "cell_type": "code",
   "execution_count": 16,
   "metadata": {},
   "outputs": [
    {
     "name": "stdout",
     "output_type": "stream",
     "text": [
      "The percentage of adult males shorter than 158 cm is approximately 27.82%\n"
     ]
    }
   ],
   "source": [
    "#Q.7:-\n",
    "\n",
    "from scipy.stats import norm\n",
    "\n",
    "# Define the parameters of the normal distribution\n",
    "mean = 162  # Mean height in cm\n",
    "std_dev = 6.8  # Standard deviation in cm\n",
    "\n",
    "# Height you want to calculate the probability for\n",
    "height = 158  # cm\n",
    "\n",
    "# Calculate the z-score\n",
    "z_score = (height - mean) / std_dev\n",
    "\n",
    "# Calculate the cumulative probability (percentage)\n",
    "probability = norm.cdf(z_score)\n",
    "\n",
    "# Convert to percentage\n",
    "percentage = probability * 100\n",
    "\n",
    "print(f\"The percentage of adult males shorter than {height} cm is approximately {percentage:.2f}%\")\n"
   ]
  },
  {
   "cell_type": "code",
   "execution_count": 17,
   "metadata": {},
   "outputs": [
    {
     "name": "stdout",
     "output_type": "stream",
     "text": [
      "The probability of scoring between 450 and 600 is approximately 0.5328\n"
     ]
    }
   ],
   "source": [
    "# Q.8:-\n",
    "from scipy.stats import norm\n",
    "\n",
    "# Define the parameters of the normal distribution\n",
    "mean = 500  # Mean test score\n",
    "std_dev = 100  # Standard deviation of test scores\n",
    "\n",
    "# Define the lower and upper bounds of the score range\n",
    "lower_bound = 450\n",
    "upper_bound = 600\n",
    "\n",
    "# Calculate the z-scores for the lower and upper bounds\n",
    "z_lower = (lower_bound - mean) / std_dev\n",
    "z_upper = (upper_bound - mean) / std_dev\n",
    "\n",
    "# Calculate the cumulative probabilities for the lower and upper bounds\n",
    "probability_lower = norm.cdf(z_lower)\n",
    "probability_upper = norm.cdf(z_upper)\n",
    "\n",
    "# Calculate the probability of scoring between 450 and 600\n",
    "probability_between = probability_upper - probability_lower\n",
    "\n",
    "print(f\"The probability of scoring between 450 and 600 is approximately {probability_between:.4f}\")\n"
   ]
  },
  {
   "cell_type": "code",
   "execution_count": 18,
   "metadata": {},
   "outputs": [
    {
     "name": "stdout",
     "output_type": "stream",
     "text": [
      "The percentage of tasks completed in less than 10 seconds is approximately 15.87%\n"
     ]
    }
   ],
   "source": [
    "# Q.9:-\n",
    "from scipy.stats import norm\n",
    "\n",
    "# Define the parameters of the normal distribution\n",
    "mean = 12  # Mean time in seconds\n",
    "std_dev = 2  # Standard deviation of time in seconds\n",
    "\n",
    "# Define the time threshold (10 seconds)\n",
    "threshold_time = 10\n",
    "\n",
    "# Calculate the z-score for the threshold time\n",
    "z_score = (threshold_time - mean) / std_dev\n",
    "\n",
    "# Calculate the cumulative probability for the threshold time\n",
    "probability_less_than_10_seconds = norm.cdf(z_score)\n",
    "\n",
    "# Convert to percentage\n",
    "percentage = probability_less_than_10_seconds * 100\n",
    "\n",
    "print(f\"The percentage of tasks completed in less than 10 seconds is approximately {percentage:.2f}%\")\n"
   ]
  }
 ],
 "metadata": {
  "kernelspec": {
   "display_name": "Python 3",
   "language": "python",
   "name": "python3"
  },
  "language_info": {
   "codemirror_mode": {
    "name": "ipython",
    "version": 3
   },
   "file_extension": ".py",
   "mimetype": "text/x-python",
   "name": "python",
   "nbconvert_exporter": "python",
   "pygments_lexer": "ipython3",
   "version": "3.7.6"
  }
 },
 "nbformat": 4,
 "nbformat_minor": 5
}
