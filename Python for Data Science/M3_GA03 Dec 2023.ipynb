{
 "cells": [
  {
   "cell_type": "markdown",
   "id": "530f6a95",
   "metadata": {
    "deletable": false,
    "editable": false,
    "nbgrader": {
     "cell_type": "markdown",
     "checksum": "9d41f8b9ec688cf6802b2d21d448e3d1",
     "grade": false,
     "grade_id": "cell-1dcd1c702a9b63ca",
     "locked": true,
     "schema_version": 3,
     "solution": false,
     "task": false
    }
   },
   "source": [
    "### Graded Lab 3\n",
    "\n",
    "Hello ! Welcome to Graded Lab of Module 3.\n",
    "\n",
    "Working on the same analysis task.\n",
    "\n",
    "* Here we will work on correlations between variables , testing few of the hypothesis business wants us to test.\n",
    "\n",
    "In case if you are not able to recollect the problem description and data description then mentioning it below.\n",
    "\n",
    "Lets look at the problem statement,\n",
    "\n",
    "*Client: ABC Retail, Incorporated, rest-of-the-world division* \n",
    "\n",
    "***Project name: Online retail sales analysis*** \n",
    "\n",
    "An online retailer, ABC, Inc., operates in nearly 100 countries worldwide, selling furniture, office supplies and technology products to customers in three segments: consumer, corporate and home office. ABC, Inc. is a US-based company, and it has two major divisions: US and rest of the world. We are working with the rest of the world division of the company. \n",
    "\n",
    "They have provided us with online sales transaction data from 2011 to 2014.\n",
    "\n",
    "We are given 3 datasets:-\n",
    "\n",
    "1. Data on each sale; 51290 records; all data in US dollars\n",
    "It contains fields like\n",
    "**order_id** (identifier) ,order_date ,ship_date ,ship_mode ,**customer_id**(identifier) ,product_id ,category ,sub_category ,product_name ,sales ,quantity ,discount ,profit ,shipping_cost ,order_priority ,**vendor_code** (identifier) \n",
    "\n",
    "\n",
    "2. Data on the customers; 1590 records \n",
    "It contains fields like\n",
    "**customer_id** (identifier) ,customer_name ,city ,state ,country ,postal_code ,segment ,market ,region \n",
    "\n",
    "3. Data on vendors who supply the retailer; 65 records \n",
    "It contains fields like\n",
    "vendor ,**vendor_code** (identifier) \n",
    "\n",
    "We need to analyze the data and need to provide answers to different questions asked by company officials."
   ]
  },
  {
   "cell_type": "code",
   "execution_count": 1,
   "id": "fb1246bf",
   "metadata": {
    "code_folding": [
     0
    ],
    "deletable": false,
    "editable": false,
    "nbgrader": {
     "cell_type": "code",
     "checksum": "6410c360b75bad748e960d9faf4d4b78",
     "grade": false,
     "grade_id": "cell-2973368d3268fc09",
     "locked": true,
     "schema_version": 3,
     "solution": false,
     "task": false
    }
   },
   "outputs": [
    {
     "data": {
      "text/html": [
       "<div>\n",
       "<style scoped>\n",
       "    .dataframe tbody tr th:only-of-type {\n",
       "        vertical-align: middle;\n",
       "    }\n",
       "\n",
       "    .dataframe tbody tr th {\n",
       "        vertical-align: top;\n",
       "    }\n",
       "\n",
       "    .dataframe thead th {\n",
       "        text-align: right;\n",
       "    }\n",
       "</style>\n",
       "<table border=\"1\" class=\"dataframe\">\n",
       "  <thead>\n",
       "    <tr style=\"text-align: right;\">\n",
       "      <th></th>\n",
       "      <th>row_id</th>\n",
       "      <th>order_id</th>\n",
       "      <th>order_date</th>\n",
       "      <th>ship_date</th>\n",
       "      <th>ship_mode</th>\n",
       "      <th>customer_id</th>\n",
       "      <th>product_id</th>\n",
       "      <th>category</th>\n",
       "      <th>sub_category</th>\n",
       "      <th>product_name</th>\n",
       "      <th>sales</th>\n",
       "      <th>quantity</th>\n",
       "      <th>discount</th>\n",
       "      <th>profit</th>\n",
       "      <th>shipping_cost</th>\n",
       "      <th>order_priority</th>\n",
       "      <th>vendor_code</th>\n",
       "    </tr>\n",
       "  </thead>\n",
       "  <tbody>\n",
       "    <tr>\n",
       "      <th>0</th>\n",
       "      <td>1</td>\n",
       "      <td>MX-2014-143658</td>\n",
       "      <td>02/10/2014</td>\n",
       "      <td>06/10/2014</td>\n",
       "      <td>Standard Class</td>\n",
       "      <td>SC-20575</td>\n",
       "      <td>OFF-LA-10002782</td>\n",
       "      <td>Office Supplies</td>\n",
       "      <td>Labels</td>\n",
       "      <td>Hon File Folder Labels, Adjustable</td>\n",
       "      <td>13.08</td>\n",
       "      <td>3</td>\n",
       "      <td>0.0</td>\n",
       "      <td>4.56</td>\n",
       "      <td>1.03</td>\n",
       "      <td>Medium</td>\n",
       "      <td>VE_001</td>\n",
       "    </tr>\n",
       "    <tr>\n",
       "      <th>1</th>\n",
       "      <td>2</td>\n",
       "      <td>MX-2012-155047</td>\n",
       "      <td>15/10/2012</td>\n",
       "      <td>20/10/2012</td>\n",
       "      <td>Standard Class</td>\n",
       "      <td>KW-16570</td>\n",
       "      <td>FUR-FU-10004015</td>\n",
       "      <td>Furniture</td>\n",
       "      <td>Furnishings</td>\n",
       "      <td>Tenex Clock, Durable</td>\n",
       "      <td>252.16</td>\n",
       "      <td>8</td>\n",
       "      <td>0.0</td>\n",
       "      <td>90.72</td>\n",
       "      <td>13.45</td>\n",
       "      <td>Medium</td>\n",
       "      <td>VE_002</td>\n",
       "    </tr>\n",
       "    <tr>\n",
       "      <th>2</th>\n",
       "      <td>3</td>\n",
       "      <td>MX-2012-155047</td>\n",
       "      <td>15/10/2012</td>\n",
       "      <td>20/10/2012</td>\n",
       "      <td>Standard Class</td>\n",
       "      <td>KW-16570</td>\n",
       "      <td>FUR-BO-10002352</td>\n",
       "      <td>Furniture</td>\n",
       "      <td>Bookcases</td>\n",
       "      <td>Ikea 3-Shelf Cabinet, Mobile</td>\n",
       "      <td>193.28</td>\n",
       "      <td>2</td>\n",
       "      <td>0.0</td>\n",
       "      <td>54.08</td>\n",
       "      <td>9.63</td>\n",
       "      <td>Medium</td>\n",
       "      <td>VE_003</td>\n",
       "    </tr>\n",
       "    <tr>\n",
       "      <th>3</th>\n",
       "      <td>4</td>\n",
       "      <td>MX-2012-155047</td>\n",
       "      <td>15/10/2012</td>\n",
       "      <td>20/10/2012</td>\n",
       "      <td>Standard Class</td>\n",
       "      <td>KW-16570</td>\n",
       "      <td>OFF-BI-10004428</td>\n",
       "      <td>Office Supplies</td>\n",
       "      <td>Binders</td>\n",
       "      <td>Cardinal Binder, Clear</td>\n",
       "      <td>35.44</td>\n",
       "      <td>4</td>\n",
       "      <td>0.0</td>\n",
       "      <td>4.96</td>\n",
       "      <td>1.37</td>\n",
       "      <td>Medium</td>\n",
       "      <td>VE_004</td>\n",
       "    </tr>\n",
       "    <tr>\n",
       "      <th>4</th>\n",
       "      <td>5</td>\n",
       "      <td>MX-2012-155047</td>\n",
       "      <td>15/10/2012</td>\n",
       "      <td>20/10/2012</td>\n",
       "      <td>Standard Class</td>\n",
       "      <td>KW-16570</td>\n",
       "      <td>OFF-AR-10004594</td>\n",
       "      <td>Office Supplies</td>\n",
       "      <td>Art</td>\n",
       "      <td>Sanford Canvas, Water Color</td>\n",
       "      <td>71.60</td>\n",
       "      <td>2</td>\n",
       "      <td>0.0</td>\n",
       "      <td>11.44</td>\n",
       "      <td>3.79</td>\n",
       "      <td>Medium</td>\n",
       "      <td>VE_005</td>\n",
       "    </tr>\n",
       "  </tbody>\n",
       "</table>\n",
       "</div>"
      ],
      "text/plain": [
       "   row_id        order_id  order_date   ship_date       ship_mode customer_id  \\\n",
       "0       1  MX-2014-143658  02/10/2014  06/10/2014  Standard Class    SC-20575   \n",
       "1       2  MX-2012-155047  15/10/2012  20/10/2012  Standard Class    KW-16570   \n",
       "2       3  MX-2012-155047  15/10/2012  20/10/2012  Standard Class    KW-16570   \n",
       "3       4  MX-2012-155047  15/10/2012  20/10/2012  Standard Class    KW-16570   \n",
       "4       5  MX-2012-155047  15/10/2012  20/10/2012  Standard Class    KW-16570   \n",
       "\n",
       "        product_id         category sub_category  \\\n",
       "0  OFF-LA-10002782  Office Supplies       Labels   \n",
       "1  FUR-FU-10004015        Furniture  Furnishings   \n",
       "2  FUR-BO-10002352        Furniture    Bookcases   \n",
       "3  OFF-BI-10004428  Office Supplies      Binders   \n",
       "4  OFF-AR-10004594  Office Supplies          Art   \n",
       "\n",
       "                         product_name   sales  quantity  discount  profit  \\\n",
       "0  Hon File Folder Labels, Adjustable   13.08         3       0.0    4.56   \n",
       "1                Tenex Clock, Durable  252.16         8       0.0   90.72   \n",
       "2        Ikea 3-Shelf Cabinet, Mobile  193.28         2       0.0   54.08   \n",
       "3              Cardinal Binder, Clear   35.44         4       0.0    4.96   \n",
       "4         Sanford Canvas, Water Color   71.60         2       0.0   11.44   \n",
       "\n",
       "   shipping_cost order_priority vendor_code  \n",
       "0           1.03         Medium      VE_001  \n",
       "1          13.45         Medium      VE_002  \n",
       "2           9.63         Medium      VE_003  \n",
       "3           1.37         Medium      VE_004  \n",
       "4           3.79         Medium      VE_005  "
      ]
     },
     "execution_count": 1,
     "metadata": {},
     "output_type": "execute_result"
    }
   ],
   "source": [
    "# importing libraries\n",
    "import pandas as pd\n",
    "import numpy as np\n",
    "import seaborn as sns\n",
    "import matplotlib.pyplot as plt\n",
    "from scipy.stats import norm\n",
    "from itertools import combinations\n",
    "from scipy import stats\n",
    "from statsmodels.stats import weightstats as ztests\n",
    "\n",
    "\n",
    "### Reading sales data\n",
    "sales = pd.read_csv('sales_data.csv')\n",
    "\n",
    "### Reading customer data\n",
    "cust = pd.read_csv(r'customers.csv',encoding='iso-8859-1')\n",
    "\n",
    "### Reading vendor data\n",
    "vend = pd.read_csv(r'vendors.csv')\n",
    "\n",
    "sales.head()"
   ]
  },
  {
   "cell_type": "markdown",
   "id": "74ed1b7e",
   "metadata": {
    "deletable": false,
    "editable": false,
    "nbgrader": {
     "cell_type": "markdown",
     "checksum": "a9bdcd2b639bde32261c8bffe87db225",
     "grade": false,
     "grade_id": "cell-467b0f3178603064",
     "locked": true,
     "schema_version": 3,
     "solution": false,
     "task": false
    }
   },
   "source": [
    "In order to solve the next questions , we need to combine all the 3 datasets into a single dataframe such that every details of sales dataframe are intact. So here we have written a data processing function.\n",
    "There are 2 tasks which are to be performed.\n",
    "1. Merge/ Join all the 3 datasets into a single dataframe such that every details of sales dataframe are intact. (Understand which should be the joining key , type of join , refer .merge() function of pandas)\n",
    "2. Convert 'order_date' into a datetime column.\n",
    "**Return output as a dataframe**"
   ]
  },
  {
   "cell_type": "code",
   "execution_count": 2,
   "id": "af62aa83",
   "metadata": {
    "deletable": false,
    "nbgrader": {
     "cell_type": "code",
     "checksum": "e3d44295e14e91c5bf2e9d1ae703481f",
     "grade": false,
     "grade_id": "cell-d6f0b3d1d3b16d3f",
     "locked": false,
     "schema_version": 3,
     "solution": true,
     "task": false
    }
   },
   "outputs": [],
   "source": [
    "#### data_merging & order_date processing , data1 will be sales , data2 will be customer dataset & data3 will be vendor dataset.\n",
    "\n",
    "def data_process(data1,data2,data3):\n",
    "    data = data1.merge(right=data2, how=\"inner\", on=\"customer_id\")\n",
    "    data = data.merge(right=data3, how=\"inner\", on=\"vendor_code\")\n",
    "    data[\"order_date\"] = pd.to_datetime(data['order_date'], format='%d/%m/%Y')\n",
    "    return data"
   ]
  },
  {
   "cell_type": "code",
   "execution_count": 3,
   "id": "f8289658",
   "metadata": {
    "deletable": false,
    "editable": false,
    "nbgrader": {
     "cell_type": "code",
     "checksum": "2cc507dc498afd1e0a1ef46e93004db3",
     "grade": false,
     "grade_id": "cell-51373e1027f3d8d3",
     "locked": true,
     "schema_version": 3,
     "solution": false,
     "task": false
    }
   },
   "outputs": [],
   "source": [
    "sales= data_process(data1=sales.copy(),data2=cust.copy(),data3=vend.copy())"
   ]
  },
  {
   "cell_type": "code",
   "execution_count": 4,
   "id": "5086d29b",
   "metadata": {
    "deletable": false,
    "editable": false,
    "nbgrader": {
     "cell_type": "code",
     "checksum": "dfdee570c88a4a9e34d750227da67c73",
     "grade": true,
     "grade_id": "cell-6e7272d20447184e",
     "locked": true,
     "points": 0,
     "schema_version": 3,
     "solution": false,
     "task": false
    }
   },
   "outputs": [],
   "source": [
    "assert sales['order_date'].dtypes=='<M8[ns]' ,'Make sure that you have converted order_date into a datetime format correctly.'\n",
    "assert sales.shape== (51290,26) ,'Checking size and shape of dataframe after merging is a very important check.'"
   ]
  },
  {
   "cell_type": "markdown",
   "id": "d318060c",
   "metadata": {
    "deletable": false,
    "editable": false,
    "nbgrader": {
     "cell_type": "markdown",
     "checksum": "83037b0cd0901edc4739142ea98cfb67",
     "grade": false,
     "grade_id": "cell-b926f03f7c984908",
     "locked": true,
     "schema_version": 3,
     "solution": false,
     "task": false
    }
   },
   "source": [
    "### Q1. What is skewness,skewness type ,kurtosis, kurtosis type for profit column ? \n",
    "#### Return output in tuple format.Eg :- (-1, \"Left-skewed\", 2, \"Platykurtic\"). Make sure to round off answer to 2 decimals.\n"
   ]
  },
  {
   "cell_type": "markdown",
   "id": "0e31dcae",
   "metadata": {
    "deletable": false,
    "editable": false,
    "nbgrader": {
     "cell_type": "markdown",
     "checksum": "3168c75286c4d33c913001da6f8ec300",
     "grade": false,
     "grade_id": "cell-4b4344a41922232e",
     "locked": true,
     "schema_version": 3,
     "solution": false,
     "task": false
    }
   },
   "source": [
    "Note:-\n",
    "1. Skewness type takes 3 values :- Right-skewed (Skewness >0) ,Left-skewed (Skewness <0), Symmetric (Skewness = 0)\n",
    "2. Kurtosis type takes 3 values :- Platykurtic (kurtosis < 3) ,Leptokurtic (kurtosis > 3), Mesokurtic (kurtosis = 3)"
   ]
  },
  {
   "cell_type": "code",
   "execution_count": null,
   "id": "3d9437bc",
   "metadata": {
    "deletable": false,
    "nbgrader": {
     "cell_type": "code",
     "checksum": "b3c18122633c8fa46d6e4098a8fa266c",
     "grade": false,
     "grade_id": "cell-15b38d6aecccc0d5",
     "locked": false,
     "schema_version": 3,
     "solution": true,
     "task": false
    }
   },
   "outputs": [],
   "source": [
    "def skew_kurt(data,column):    \n",
    "    column_data = data[column]\n",
    "    \n",
    "    skewness = round(stats.skew(column_data), 2)\n",
    "    skewness_type = \"Right-skewed\" if skewness > 0 else \"Left-skewed\" if skewness < 0 else \"Symmetric\"\n",
    "\n",
    "    kurtosis = round(stats.kurtosis(column_data), 2)\n",
    "    kurtosis_type = \"Leptokurtic\" if kurtosis > 3 else \"Platykurtic\" if kurtosis < 3 else \"Mesokurtic\"\n",
    "\n",
    "    result = (skewness, skewness_type, kurtosis, kurtosis_type)\n",
    "    \n",
    "    return result"
   ]
  },
  {
   "cell_type": "code",
   "execution_count": null,
   "id": "b481dcc2",
   "metadata": {
    "deletable": false,
    "editable": false,
    "nbgrader": {
     "cell_type": "code",
     "checksum": "acb56bde9feb79d1ee8e2eb74d08132e",
     "grade": true,
     "grade_id": "cell-484293228e575f1b",
     "locked": true,
     "points": 5,
     "schema_version": 3,
     "solution": false,
     "task": false
    }
   },
   "outputs": [],
   "source": [
    "assert type(skew_kurt(data=sales,column='profit'))==tuple, \"Please provide output in a tuple format.\"\n",
    "assert len(skew_kurt(data=sales,column='profit'))==4,\"Please include skewness , skewness_type , kurtosis & kurtosis_type.\"\n",
    "assert skew_kurt(data=sales,column='profit')[1] in [\"Right-skewed\",\"Left-skewed\",\"Symmetric\"],\"Please include from the listed types only , also make sure that spelling is correct.\"\n",
    "assert skew_kurt(data=sales,column='profit')[3] in [\"Platykurtic\",\"Leptokurtic\",\"Mesokurtic\"],\"Please include from the listed types only , also make sure that spelling is correct.\""
   ]
  },
  {
   "cell_type": "code",
   "execution_count": null,
   "id": "576bb441",
   "metadata": {
    "deletable": false,
    "editable": false,
    "nbgrader": {
     "cell_type": "code",
     "checksum": "c4cbcdbf1269785c6e8ece70c471d9c6",
     "grade": true,
     "grade_id": "cell-69fee297270967e0",
     "locked": true,
     "points": 5,
     "schema_version": 3,
     "solution": false,
     "task": false
    }
   },
   "outputs": [],
   "source": [
    "# autograder cells , please do not alter/ delete /edit this cell,Kindly ignore this cell."
   ]
  },
  {
   "cell_type": "markdown",
   "id": "35808d04",
   "metadata": {
    "deletable": false,
    "editable": false,
    "nbgrader": {
     "cell_type": "markdown",
     "checksum": "2468830d22fa3be5447b1aefae3a2c05",
     "grade": false,
     "grade_id": "cell-b2842afe965d1a15",
     "locked": true,
     "schema_version": 3,
     "solution": false,
     "task": false
    }
   },
   "source": [
    "### Q2.\tWhat is correlation between different numerical variables ? ('sales', 'quantity', 'discount', 'profit', 'shipping_cost')\n",
    "### Return a dataframe with 3 columns : Variable 1 , Variable 2 , Correlation. \n",
    "### Round off correlation values upto 4 decimals.\n",
    "### Sort dataframe with respect to highest absolute correlation & make sure that one variable pair occurs only once. For eg : (Col A , Col B) has occured then (Col B , Col A) cant occur."
   ]
  },
  {
   "cell_type": "code",
   "execution_count": null,
   "id": "d9380b98",
   "metadata": {
    "deletable": false,
    "nbgrader": {
     "cell_type": "code",
     "checksum": "0e2de7a02d9c26e9f992829c4701492e",
     "grade": false,
     "grade_id": "cell-891376cce26eb132",
     "locked": false,
     "schema_version": 3,
     "solution": true,
     "task": false
    }
   },
   "outputs": [],
   "source": [
    "def corr_sales(data):\n",
    "    \n",
    "    data = data[['sales', 'quantity', 'discount', 'profit', 'shipping_cost']]\n",
    "    \n",
    "    correlation_matrix = data.corr()\n",
    "    \n",
    "    correlation_data = []\n",
    "    \n",
    "    for i in range(len(data.columns)):\n",
    "        for j in range(i + 1, len(data.columns)):\n",
    "            variable_1 = data.columns[i]\n",
    "            variable_2 = data.columns[j]\n",
    "            corr = correlation_matrix.iloc[i, j]\n",
    "            correlation_data.append([variable_1, variable_2, corr])\n",
    "    \n",
    "    pair_df = pd.DataFrame(correlation_data, columns=['variable_1', 'variable_2', 'corr'])\n",
    "    \n",
    "    pair_df = pair_df.reindex(pair_df['corr'].abs().sort_values(ascending=False).index)\n",
    "    \n",
    "    pair_df = pair_df.reset_index(drop=True)\n",
    "    \n",
    "    return pair_df[['variable_1','variable_2','corr']].round(4)"
   ]
  },
  {
   "cell_type": "code",
   "execution_count": null,
   "id": "506f505f",
   "metadata": {
    "deletable": false,
    "editable": false,
    "nbgrader": {
     "cell_type": "code",
     "checksum": "04f6fb38d907a8f9d34c2c2883bdcd52",
     "grade": true,
     "grade_id": "cell-d39bc7b2a3f0e000",
     "locked": true,
     "points": 7,
     "schema_version": 3,
     "solution": false,
     "task": false
    }
   },
   "outputs": [],
   "source": [
    "assert type(corr_sales(data=sales))==pd.DataFrame, \"Please provide output in dataframe format.\"\n",
    "assert all(corr_sales(data=sales).columns==['variable_1', 'variable_2', 'corr']), \"Make sure your output columns are named as 'variable_1', 'variable_2', 'corr'.\"\n",
    "assert corr_sales(data=sales).shape[1]==3, \"Make sure you are returning only 3 columns.\"\n",
    "assert corr_sales(data=sales).shape[0]==10, \"Make sure you are returning all possible combinations.\"\n",
    "assert list(corr_sales(data=sales)['corr'])[0]== 0.7681, \"Please provide correct value , make sure that answer is rounded upto 4 digits.\"\n",
    "assert list(corr_sales(data=sales)['corr'])[-1]== -0.0199, \"Please provide correct value , make sure that answer is rounded upto 4 digits.\""
   ]
  },
  {
   "cell_type": "code",
   "execution_count": null,
   "id": "4d9d0ee5",
   "metadata": {
    "deletable": false,
    "editable": false,
    "nbgrader": {
     "cell_type": "code",
     "checksum": "0592805b360289ba0cc496dfc8dcf879",
     "grade": true,
     "grade_id": "cell-e680b68e89f9759a",
     "locked": true,
     "points": 3,
     "schema_version": 3,
     "solution": false,
     "task": false
    }
   },
   "outputs": [],
   "source": [
    "# autograder cells , please do not alter/ delete /edit this cell,Kindly ignore this cell."
   ]
  },
  {
   "cell_type": "markdown",
   "id": "e98ed50b",
   "metadata": {
    "deletable": false,
    "editable": false,
    "nbgrader": {
     "cell_type": "markdown",
     "checksum": "a942bc80dd617502599022f923e3840a",
     "grade": false,
     "grade_id": "cell-b6503fb1dd730176",
     "locked": true,
     "schema_version": 3,
     "solution": false,
     "task": false
    }
   },
   "source": [
    "### Q3.\t Plot a box plot for sales in 'Furniture' category and tell on which side of box-plot you were able to see outliers.\n",
    "\n",
    "### Store the output in 'outliers_whiskers' variable. Output should be from one of the following choices : 'both_sides' , 'upper_whisker' ,'lower_whisker'. "
   ]
  },
  {
   "cell_type": "code",
   "execution_count": null,
   "id": "d918611a",
   "metadata": {
    "deletable": false,
    "nbgrader": {
     "cell_type": "code",
     "checksum": "14efec76d27444556352602595cb1960",
     "grade": false,
     "grade_id": "cell-c3127d529f222152",
     "locked": false,
     "schema_version": 3,
     "solution": true,
     "task": false
    }
   },
   "outputs": [],
   "source": [
    "def outlier_sales(data): \n",
    "    furniture_data = data[data['category'] == 'Furniture']\n",
    "    sns.boxplot(data=furniture_data, x=\"sales\")\n",
    "    outliers_whiskers = \"upper_whisker\"\n",
    "    return outliers_whiskers # outlier_whsikers is a variable in where you will store answer selected from this 3 options : both_sides , upper_whisker , lower_whisker"
   ]
  },
  {
   "cell_type": "code",
   "execution_count": null,
   "id": "5e8610fa",
   "metadata": {
    "deletable": false,
    "editable": false,
    "nbgrader": {
     "cell_type": "code",
     "checksum": "11ab0f73152fb981c4e954d14b1d1dee",
     "grade": true,
     "grade_id": "cell-aae54343919bbde4",
     "locked": true,
     "points": 10,
     "schema_version": 3,
     "solution": false,
     "task": false
    }
   },
   "outputs": [],
   "source": [
    "# autograder cells , please do not alter/ delete /edit this cell,Kindly ignore this cell."
   ]
  },
  {
   "cell_type": "markdown",
   "id": "39437ad9",
   "metadata": {
    "deletable": false,
    "editable": false,
    "nbgrader": {
     "cell_type": "markdown",
     "checksum": "4e844f861c09a92f014a7e19493fe729",
     "grade": false,
     "grade_id": "cell-9375fa2df9bb2b3f",
     "locked": true,
     "schema_version": 3,
     "solution": false,
     "task": false
    }
   },
   "source": [
    "### Q4.\tWhat is probability that profit lies between 13 & 25.\n",
    "Return output as float type (check if output dtype is numpy.float64) ,rounded upto 4 decimals."
   ]
  },
  {
   "cell_type": "code",
   "execution_count": null,
   "id": "f7ce94e6",
   "metadata": {
    "deletable": false,
    "nbgrader": {
     "cell_type": "code",
     "checksum": "41e2085e80633501293dc73c2e65bed4",
     "grade": false,
     "grade_id": "cell-91216071cd4b7a14",
     "locked": false,
     "schema_version": 3,
     "solution": true,
     "task": false
    }
   },
   "outputs": [],
   "source": [
    "def prob(data,lower_bound,upper_bound):\n",
    "    # your code here"
   ]
  },
  {
   "cell_type": "code",
   "execution_count": null,
   "id": "624e0c2a",
   "metadata": {
    "deletable": false,
    "editable": false,
    "nbgrader": {
     "cell_type": "code",
     "checksum": "aa5d9eabdd41e66011e4c3edea1c4d9d",
     "grade": true,
     "grade_id": "cell-b4e6e62544e5e4c0",
     "locked": true,
     "points": 5,
     "schema_version": 3,
     "solution": false,
     "task": false
    }
   },
   "outputs": [],
   "source": [
    "assert type(prob(data=sales,lower_bound=13,upper_bound=25))==np.float64, 'Make sure that you are returning output as float64 (check if output dtype is numpy.float64) type , it should be rounded up to 4 decimals.'\n",
    "assert (prob(data=sales,lower_bound=13,upper_bound=25)>=0) & (prob(data=sales,lower_bound=13,upper_bound=25)<=1), 'Remember probability always lies between 0 to 1.'"
   ]
  },
  {
   "cell_type": "code",
   "execution_count": null,
   "id": "8988919e",
   "metadata": {
    "deletable": false,
    "editable": false,
    "nbgrader": {
     "cell_type": "code",
     "checksum": "8bac27f43df2c6cc069683aadc8e7f3d",
     "grade": true,
     "grade_id": "cell-10113b1e8f9ae5f7",
     "locked": true,
     "points": 5,
     "schema_version": 3,
     "solution": false,
     "task": false
    }
   },
   "outputs": [],
   "source": [
    "# autograder cells , please do not alter/ delete /edit this cell,Kindly ignore this cell.\n"
   ]
  },
  {
   "cell_type": "markdown",
   "id": "9959e3d1",
   "metadata": {
    "deletable": false,
    "editable": false,
    "nbgrader": {
     "cell_type": "markdown",
     "checksum": "825f1aeb30514522aaf057a3a9418d64",
     "grade": false,
     "grade_id": "cell-3be9fb23869fdf76",
     "locked": true,
     "schema_version": 3,
     "solution": false,
     "task": false
    }
   },
   "source": [
    "###  Q.5) Company's Sales team found an interesting insight from past study. Study said that on a 3-yr scale  avg quantities sold comes out to be 3. Now they want to test if the average quantities sold number has increased or not i.e they wish to understand if average quantities sold are greater than a previously known value i.e 3 or not , Our data is on  3 yrs horizon. So they have asked you to draw a sample of size 100 from sales data, analyze and report findings. Select alpha (level of significance) as 0.05.\n",
    "\n",
    "**Return output as tuple consisting of  (statistics_value, p-value, decision). Make sure to round up statistics_value & p-value to 4 decimals. Your code will be tested on an input sample (sample_1).**\n",
    "\n",
    "\n",
    "For eg :- (1.267,0.045,'Reject Null hypothesis')\n",
    "\n",
    "Where ,stastics:- It is calculated statistic from appropriate test.\n",
    "\n",
    "p-value :- probability value\n",
    "\n",
    "Decision :- You have to select from the 2 choices 'Reject Null Hypothesis' , 'Do not Reject Null Hypothesis''"
   ]
  },
  {
   "cell_type": "markdown",
   "id": "41ceba5a",
   "metadata": {
    "deletable": false,
    "editable": false,
    "nbgrader": {
     "cell_type": "markdown",
     "checksum": "fce492ba6c253476208c26384b44dcbf",
     "grade": false,
     "grade_id": "cell-7dcf80f9a2915dd6",
     "locked": true,
     "schema_version": 3,
     "solution": false,
     "task": false
    }
   },
   "source": [
    "**Hint:**\n",
    "\n",
    "We are trying to test a hypothesis whether average quantities data for sales data are greater than previously known value 3 or not ?\n",
    "In order to solve this problem , Think on the lines below.\n",
    "\n",
    "H0: Average quantities sold = previously_known_population_value (3)\n",
    "\n",
    "H1: Average quantities sold > previously_known_population_value (3) \n",
    "\n",
    "We will use 1 sample z-test with alernative type as 'larger'  for solving this problem."
   ]
  },
  {
   "cell_type": "code",
   "execution_count": 5,
   "id": "6a12ec25-a520-4c4c-ae6b-0b7b23009cd5",
   "metadata": {},
   "outputs": [],
   "source": [
    "### Reading sales data\n",
    "sales = pd.read_csv('sales_data.csv')"
   ]
  },
  {
   "cell_type": "code",
   "execution_count": 6,
   "id": "5d07d1ca",
   "metadata": {
    "deletable": false,
    "editable": false,
    "nbgrader": {
     "cell_type": "code",
     "checksum": "40cac4dbdc8099cd66dacee83538d1b7",
     "grade": false,
     "grade_id": "cell-46345c338cdc876b",
     "locked": true,
     "schema_version": 3,
     "solution": false,
     "task": false
    }
   },
   "outputs": [
    {
     "name": "stdout",
     "output_type": "stream",
     "text": [
      "length of sold 'quantity' sample is 100\n"
     ]
    }
   ],
   "source": [
    "# Please do not alter/ delete /edit this cell.\n",
    "\n",
    "from scipy import stats\n",
    "from statsmodels.stats.weightstats import ztest as ztest\n",
    "import random\n",
    "random.seed(9001)\n",
    "\n",
    "sampleSize=100\n",
    "group_A= sales['quantity']\n",
    "sample_1 =  random.sample([x for x in group_A], sampleSize)\n",
    "\n",
    "## sample for sold quantities is given as sample_1\n",
    "print(f\"length of sold 'quantity' sample is {len(sample_1)}\")"
   ]
  },
  {
   "cell_type": "code",
   "execution_count": 8,
   "id": "f238de88-66fb-4452-9b41-639362390053",
   "metadata": {},
   "outputs": [
    {
     "data": {
      "text/plain": [
       "3.42"
      ]
     },
     "execution_count": 8,
     "metadata": {},
     "output_type": "execute_result"
    }
   ],
   "source": [
    "np.mean(sample_1)"
   ]
  },
  {
   "cell_type": "code",
   "execution_count": 9,
   "id": "77d6988d",
   "metadata": {
    "deletable": false,
    "editable": false,
    "nbgrader": {
     "cell_type": "code",
     "checksum": "48dcc3638bac9b31cf14731871ecd7ec",
     "grade": true,
     "grade_id": "cell-9284ea7b5f59aada",
     "locked": true,
     "points": 0,
     "schema_version": 3,
     "solution": false,
     "task": false
    }
   },
   "outputs": [],
   "source": [
    "assert np.mean(sample_1)==3.42 , \"If the sales dataframe is not being created properly then sample mean will not match ,check the creation of sales datafarme again.\""
   ]
  },
  {
   "cell_type": "code",
   "execution_count": 17,
   "id": "cd18bc37",
   "metadata": {
    "deletable": false,
    "nbgrader": {
     "cell_type": "code",
     "checksum": "01e4b915df49f2b58141b17ee18e64d8",
     "grade": false,
     "grade_id": "cell-64ca11743fc74606",
     "locked": false,
     "schema_version": 3,
     "solution": true,
     "task": false
    }
   },
   "outputs": [],
   "source": [
    "def one_sample_ztest(sample1,alpha,popn_value):\n",
    "    ## sample1(quantity) will be a list of values with length 100.\n",
    "\n",
    "    # Perform one-sample z-test\n",
    "    z_statistic, p_value = ztest(sample1, value=popn_value, alternative='larger')\n",
    "\n",
    "    # Compare p-value with alpha to make a decision\n",
    "    if p_value < alpha:\n",
    "        decision = \"Reject Null Hypothesis\"\n",
    "    else:\n",
    "        decision = \"Do not Reject Null Hypothesis\"\n",
    "    \n",
    "    return round(z_statistic,4), round(p_value,4), decision  "
   ]
  },
  {
   "cell_type": "code",
   "execution_count": 18,
   "id": "985eb0ab",
   "metadata": {
    "deletable": false,
    "editable": false,
    "nbgrader": {
     "cell_type": "code",
     "checksum": "cc6706b4fa2fe66fb2f0c134fb17ae32",
     "grade": true,
     "grade_id": "cell-f949706e3f6b68fc",
     "locked": true,
     "points": 10,
     "schema_version": 3,
     "solution": false,
     "task": false
    }
   },
   "outputs": [],
   "source": [
    "# autograder cells , please do not alter/ delete /edit this cell,Kindly ignore this cell."
   ]
  },
  {
   "cell_type": "code",
   "execution_count": 19,
   "id": "fda325f6-b602-40a3-898f-fc8277bb5acd",
   "metadata": {},
   "outputs": [
    {
     "data": {
      "text/plain": [
       "(1.8498, 0.0322, 'Reject Null Hypothesis')"
      ]
     },
     "execution_count": 19,
     "metadata": {},
     "output_type": "execute_result"
    }
   ],
   "source": [
    "one_sample_ztest(sample1=sample_1,alpha=0.05,popn_value=3)"
   ]
  },
  {
   "cell_type": "markdown",
   "id": "ef4f9430",
   "metadata": {
    "deletable": false,
    "editable": false,
    "nbgrader": {
     "cell_type": "markdown",
     "checksum": "a93e11fc5e7eac5157655a6a3918b417",
     "grade": false,
     "grade_id": "cell-4d8b263d6f04068d",
     "locked": true,
     "schema_version": 3,
     "solution": false,
     "task": false
    }
   },
   "source": [
    "### Q.6)  Sales team is interested in knowing if furniture & office supply products sell equally or is there any differece between their sells so they ask us to draw a sample of size 22 from furniture & sample of size 25 from Office Supplies from sales dataset and report findings. Select alpha (level of significance) as 0.05.\n",
    "\n",
    "**Return output as tuple consisting of (statistics_value, p-value, decision). Make sure that stastics,p-value are rounded upto 4 digits.Your code will be tested on 2 input samples (sample_1,sample_2).**\n",
    "\n",
    "For eg :- (1.267,0.045,'Reject Null hypothesis')\n",
    "\n",
    "Where ,stastics:- It is calculated statistic from chosen test.\n",
    "\n",
    "p-value :- probability value\n",
    "\n",
    "Decision :- 'Reject Null Hypothesis' , ''Do not Reject Null Hypothesis''\n",
    "\n"
   ]
  },
  {
   "cell_type": "code",
   "execution_count": null,
   "id": "c7775ea0",
   "metadata": {
    "deletable": false,
    "editable": false,
    "nbgrader": {
     "cell_type": "code",
     "checksum": "357f22e1d8aa529d523704d6a3b91e01",
     "grade": false,
     "grade_id": "cell-dac552359a4f2eb8",
     "locked": true,
     "schema_version": 3,
     "solution": false,
     "task": false
    }
   },
   "outputs": [],
   "source": [
    "# Please do not alter/ delete /edit this cell.\n",
    "\n",
    "import random\n",
    "random.seed(9001)\n",
    "\n",
    "\n",
    "sampleSize=22\n",
    "group_A= sales[sales['category']=='Furniture']['sales']\n",
    "sample_1 =  random.sample([x for x in group_A], sampleSize)\n",
    "\n",
    "\n",
    "\n",
    "sampleSize=25\n",
    "group_B= sales[sales['category']=='Office Supplies']['sales']\n",
    "sample_2 =  random.sample([x for x in group_B], sampleSize)\n",
    "\n",
    "\n",
    "## sample for Furniture sales is given as sample_1\n",
    "print(f'length of Furniture sales sample is {len(sample_1)}')\n",
    "## sample for Office Supply sales is given as sample_2\n",
    "print(f'length of Office Supply sales sample is {len(sample_2)}')"
   ]
  },
  {
   "cell_type": "code",
   "execution_count": null,
   "id": "c0b0c4dd",
   "metadata": {
    "deletable": false,
    "editable": false,
    "nbgrader": {
     "cell_type": "code",
     "checksum": "d2057b7cede52268b16a3babfa120d9b",
     "grade": true,
     "grade_id": "cell-16e7cce812f1dd10",
     "locked": true,
     "points": 0,
     "schema_version": 3,
     "solution": false,
     "task": false
    }
   },
   "outputs": [],
   "source": [
    "assert round(np.mean(sample_1),2)==367.13 , \"If the sales dataframe is not being created properly then sample mean will not match ,check the creation of sales datafarme again.\"\n",
    "assert round(np.mean(sample_2),2)==92.96 , \"If the sales dataframe is not being created properly then sample mean will not match ,check the creation of sales datafarme again.\""
   ]
  },
  {
   "cell_type": "code",
   "execution_count": null,
   "id": "bbee1844",
   "metadata": {
    "deletable": false,
    "nbgrader": {
     "cell_type": "code",
     "checksum": "a1824b02c5eeb4e7270c0bd36665c311",
     "grade": false,
     "grade_id": "cell-ea9ba7ce1cdf4790",
     "locked": false,
     "schema_version": 3,
     "solution": true,
     "task": false
    }
   },
   "outputs": [],
   "source": [
    "def hypo_test(sample1,sample2,alpha):\n",
    "    ## sample1(furniture sales) will be a list of values with length 22.\n",
    "    ## sample2(office supplies sales) will be a list of values with length 25.\n",
    "    # your code here\n",
    "    return round(statistic,4),round(p_value,4),decision"
   ]
  },
  {
   "cell_type": "code",
   "execution_count": null,
   "id": "1bffb76f",
   "metadata": {
    "deletable": false,
    "editable": false,
    "nbgrader": {
     "cell_type": "code",
     "checksum": "eaa9504a4c82d5bb21963a01a7885f9d",
     "grade": true,
     "grade_id": "cell-6884a77818761b56",
     "locked": true,
     "points": 13,
     "schema_version": 3,
     "solution": false,
     "task": false
    }
   },
   "outputs": [],
   "source": [
    "# autograder cells , please do not alter/ delete /edit this cell,Kindly ignore this cell.\n",
    "### Hidden test 1"
   ]
  },
  {
   "cell_type": "code",
   "execution_count": null,
   "id": "1d8559b3",
   "metadata": {
    "deletable": false,
    "editable": false,
    "nbgrader": {
     "cell_type": "code",
     "checksum": "854dbbdeaa3a37b33841003dae0b5236",
     "grade": true,
     "grade_id": "cell-eeb975b0e1b969db",
     "locked": true,
     "points": 13,
     "schema_version": 3,
     "solution": false,
     "task": false
    }
   },
   "outputs": [],
   "source": [
    "# autograder cells , please do not alter/ delete /edit this cell,Kindly ignore this cell.\n",
    "### Hidden test 2"
   ]
  },
  {
   "cell_type": "code",
   "execution_count": null,
   "id": "181b0c82",
   "metadata": {
    "deletable": false,
    "editable": false,
    "nbgrader": {
     "cell_type": "code",
     "checksum": "be2efe9f8ca6020b91b642f58ba90305",
     "grade": true,
     "grade_id": "cell-b4a5ed1c86e547f1",
     "locked": true,
     "points": 4,
     "schema_version": 3,
     "solution": false,
     "task": false
    }
   },
   "outputs": [],
   "source": [
    "# autograder cells , please do not alter/ delete /edit this cell,Kindly ignore this cell.\n",
    "### Hidden test 2"
   ]
  },
  {
   "cell_type": "markdown",
   "id": "4275c9af",
   "metadata": {
    "deletable": false,
    "editable": false,
    "nbgrader": {
     "cell_type": "markdown",
     "checksum": "0e3f7719c922932922ed6764f85b7c12",
     "grade": false,
     "grade_id": "cell-c6046bddb91f0416",
     "locked": true,
     "schema_version": 3,
     "solution": false,
     "task": false
    }
   },
   "source": [
    "## Great Job ! ! !\n",
    "Business team is happy with your work they wish to test couple of more things & require your help."
   ]
  },
  {
   "cell_type": "markdown",
   "id": "0ee381f2",
   "metadata": {
    "deletable": false,
    "editable": false,
    "nbgrader": {
     "cell_type": "markdown",
     "checksum": "ac74ad6359aa5282814fb16102db6022",
     "grade": false,
     "grade_id": "cell-57b757bf2162ba6d",
     "locked": true,
     "schema_version": 3,
     "solution": false,
     "task": false
    }
   },
   "source": [
    "### Q.7)  Sales team is interested in knowing if profits in EMEA & Africa region are same or not. Test the hypothesis. Select alpha (level of significance) as 0.05.\n",
    "\n",
    "**Return output as tuple consisting of (statistics_value,p-value,decision). Make sure that stastics,p-value are rounded upto 4 digits.Your code will be tested on 2 input samples (sample_1,sample_2).**\n",
    "\n",
    "\n",
    "For eg :- (1.267,0.045,'Reject Null hypothesis')\n",
    "\n",
    "Where ,statistics_value:- It is calculated statistic from chosen test.\n",
    "\n",
    "p-value :- probability value\n",
    "\n",
    "Decision :- 'Reject Null Hypothesis' , ''Do not Reject Null Hypothesis''\n",
    "\n"
   ]
  },
  {
   "cell_type": "code",
   "execution_count": null,
   "id": "34587e87",
   "metadata": {
    "deletable": false,
    "editable": false,
    "nbgrader": {
     "cell_type": "code",
     "checksum": "4a40ac573a0ad97ef61d0d54d0ea3e46",
     "grade": false,
     "grade_id": "cell-f574c945ccc7952e",
     "locked": true,
     "schema_version": 3,
     "solution": false,
     "task": false
    }
   },
   "outputs": [],
   "source": [
    "# Please do not alter/ delete /edit this cell\n",
    "import random\n",
    "random.seed(9001)\n",
    "\n",
    "sampleSize=500\n",
    "group_A= sales[sales['region']=='EMEA']['profit']\n",
    "sample_1 =  random.sample([x for x in group_A], sampleSize)\n",
    "\n",
    "sampleSize=567\n",
    "group_B= sales[sales['region']=='Africa']['profit']\n",
    "sample_2 =  random.sample([x for x in group_B], sampleSize)\n",
    "\n",
    "## sample for EMEA is given as sample_1\n",
    "print(f'length of EMEA sample is {len(sample_1)}')\n",
    "## sample for Africa is given as sample_2\n",
    "print(f'length of Africa sample is {len(sample_2)}')"
   ]
  },
  {
   "cell_type": "code",
   "execution_count": null,
   "id": "f33ff438",
   "metadata": {
    "deletable": false,
    "editable": false,
    "nbgrader": {
     "cell_type": "code",
     "checksum": "572a41e65a472e6001dd0ff97dd7ce12",
     "grade": true,
     "grade_id": "cell-00857b7d8bcf1ec1",
     "locked": true,
     "points": 0,
     "schema_version": 3,
     "solution": false,
     "task": false
    }
   },
   "outputs": [],
   "source": [
    "assert round(np.mean(sample_1),2)==13.45 , \"If the sales dataframe is not being created properly then sample mean will not match ,check the creation of sales datafarme again.\"\n",
    "assert round(np.mean(sample_2),2)==27.44 , \"If the sales dataframe is not being created properly then sample mean will not match ,check the creation of sales datafarme again.\""
   ]
  },
  {
   "cell_type": "code",
   "execution_count": null,
   "id": "af58adf5",
   "metadata": {
    "deletable": false,
    "nbgrader": {
     "cell_type": "code",
     "checksum": "b855385cf6d0c8a9633be15698e9cd1a",
     "grade": false,
     "grade_id": "cell-9a6efa7bc0d65e78",
     "locked": false,
     "schema_version": 3,
     "solution": true,
     "task": false
    }
   },
   "outputs": [],
   "source": [
    "def hypo_test(sample1,sample2,alpha):\n",
    "    ## sample_1 (EMEA region) will be a list of values with length 500.\n",
    "    ## sample_2 (Africa region) will be a list of values with length 567.\n",
    "    # your code here\n",
    "    return round(statistic,4),round(p_value,4),decision"
   ]
  },
  {
   "cell_type": "code",
   "execution_count": null,
   "id": "ddd7752e",
   "metadata": {
    "deletable": false,
    "editable": false,
    "nbgrader": {
     "cell_type": "code",
     "checksum": "f7a174100844e94912a7a3661e2654ea",
     "grade": true,
     "grade_id": "cell-33092e29128eb474",
     "locked": true,
     "points": 8,
     "schema_version": 3,
     "solution": false,
     "task": false
    }
   },
   "outputs": [],
   "source": [
    "# autograder cells , please do not alter/ delete /edit this cell,Kindly ignore this cell.\n",
    "### Hidden test 1"
   ]
  },
  {
   "cell_type": "code",
   "execution_count": null,
   "id": "21477847",
   "metadata": {
    "deletable": false,
    "editable": false,
    "nbgrader": {
     "cell_type": "code",
     "checksum": "8428bfbfdaf8c0e9035d6a91a8f250bd",
     "grade": true,
     "grade_id": "cell-7e5ee2d1fd5220a4",
     "locked": true,
     "points": 9,
     "schema_version": 3,
     "solution": false,
     "task": false
    }
   },
   "outputs": [],
   "source": [
    "# autograder cells , please do not alter/ delete /edit this cell,Kindly ignore this cell.\n",
    "### Hidden test 2"
   ]
  },
  {
   "cell_type": "code",
   "execution_count": null,
   "id": "03eca8ae",
   "metadata": {
    "deletable": false,
    "editable": false,
    "nbgrader": {
     "cell_type": "code",
     "checksum": "c4d4f08c783f1b11b2bba548000d06a2",
     "grade": true,
     "grade_id": "cell-ced6f05e544babe6",
     "locked": true,
     "points": 3,
     "schema_version": 3,
     "solution": false,
     "task": false
    }
   },
   "outputs": [],
   "source": [
    "# autograder cells , please do not alter/ delete /edit this cell,Kindly ignore this cell.\n",
    "### Hidden test 3"
   ]
  }
 ],
 "metadata": {
  "kernelspec": {
   "display_name": "Python 3 (ipykernel)",
   "language": "python",
   "name": "python3"
  },
  "language_info": {
   "codemirror_mode": {
    "name": "ipython",
    "version": 3
   },
   "file_extension": ".py",
   "mimetype": "text/x-python",
   "name": "python",
   "nbconvert_exporter": "python",
   "pygments_lexer": "ipython3",
   "version": "3.8.18"
  }
 },
 "nbformat": 4,
 "nbformat_minor": 5
}
