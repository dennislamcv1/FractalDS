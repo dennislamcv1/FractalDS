{
 "cells": [
  {
   "cell_type": "markdown",
   "id": "090d6cf6",
   "metadata": {},
   "source": [
    "## Module 3: Exploratory data analysis  "
   ]
  },
  {
   "cell_type": "markdown",
   "id": "8095674f",
   "metadata": {},
   "source": [
    "### Lesson 2: Understanding Data Distributions\n",
    "- In this lesson, we are going to discuss some of the common shapes of the data distributions that we see in real time applications.\n",
    "- Data distribution refers to the way data points are spread or distributed across different values in a dataset. In other words, it describes the pattern or shape that the data takes on when plotted on a graph. Understanding the distribution of data is essential for gaining insights into the characteristics of the data, making informed decisions, and selecting appropriate statistical methods for analysis.\n",
    "- One of the key aspects of a data distribution include *probability distribution*.\n",
    "\n",
    "##### Let us understand few key words now.\n",
    "- **Random experiment:** \n",
    "    - It is a process or procedure that generates outcomes in an unpredictable manner. \n",
    "    - It's a fundamental concept in probability theory and is used to study and model uncertain events. \n",
    "    - Random experiments are essential for understanding and quantifying uncertainty in various real-world situations.\n",
    "- **Random variable:** \n",
    "    - It is the outcome of random experiment. \n",
    "    - That is, random variable is a variable whose value is determined by chance, but it can take one of the values out of several possible outcomes of a random experiment. \n",
    "    - For example, tossing a coin is a random experiment, and the random variable may have the value head or tail.\n",
    "\n",
    "- **Probability distribution:** \n",
    "    - It is a mathematical function that defines the likelihood of different outcomes or events in a random experiment or process. \n",
    "    - In simpler terms, a probability distribution tells us how likely different outcomes are to occur. \n",
    "    - It assigns probabilities to different possible values or ranges of values that a random variable can take on. \n",
    "    - Two important types of probability distributions are:\n",
    "        - **Discrete Probability Distribution:** This type of distribution deals with discrete random variables, which can only take specific, distinct values. Examples include the binomial distribution (for counting successes in a fixed number of trials) and the Poisson distribution (for counting rare events occurring in a fixed interval).\n",
    "        - **Continuous Probability Distribution:** These distributions are associated with continuous random variables, which can take any value within a certain range. Examples include the normal distribution (often called the bell curve), which is commonly used to model various natural phenomena like heights and weights.\n",
    "        \n",
    "\n",
    "**In the couple of few lectures, we will see few important distributions and their features and use-cases in real time.**"
   ]
  },
  {
   "cell_type": "markdown",
   "id": "5bddf222",
   "metadata": {},
   "source": [
    "### Part 3.2.2  : Some other common shapes of data - Part I \n",
    "#### Binomial distribution\n",
    "- The binomial distribution is frequently used to model the number of successes in a sample of size n drawn with replacement from a population of size N.\n",
    "- the binomial distribution with parameters n and p is the discrete probability distribution of the number of successes(x) in a sequence of n independent experiments, each asking a yes–no question, and each with its own Boolean-valued outcome: success (with probability $p$) or failure (with probability $q = 1 − p$). \n",
    "- A single success/failure experiment is also called a Bernoulli trial or Bernoulli experiment. That is, when n = 1, the binomial distribution is a Bernoulli distribution.\n",
    "- The probability mass function (PMF) of a binomial distribution gives the probability of observing a specific number of successes in a fixed number of independent Bernoulli trials. \n",
    "- Mathematically, the pmf of binomial distribution is as below:\n",
    "\n",
    "$$\n",
    "\\begin{align}\n",
    "P(X=x) = \\binom{n}{x}p^x q^{(n-x)}\n",
    "\\end{align}\n",
    "$$\n"
   ]
  },
  {
   "cell_type": "markdown",
   "id": "d15bc166",
   "metadata": {},
   "source": [
    "- The mean of Binomial distribution is $np$ and the variance is $npq$\n",
    "- Cumulative distribution function (CDF) of a binomial distribution gives the probability of observing up to a certain number of successes in a fixed number of independent Bernoulli trials.\n",
    "- That is,\n",
    "    $$F(x) = P(X ≤ x) $$\n",
    "\n",
    "- **NOTE**:\n",
    "    1. P(a < X ≤ b) = F(b) - F(a)\n",
    "    2. The probability that a random variable X is greater than a value a is equal to 1 - P(X ≤ a), which is 1 - F(a)."
   ]
  },
  {
   "cell_type": "markdown",
   "id": "db557869",
   "metadata": {},
   "source": [
    "**Let us see some simple examples on binomial distribution**"
   ]
  },
  {
   "cell_type": "markdown",
   "id": "259227f5",
   "metadata": {},
   "source": [
    "###### Example:\n",
    "Consider a random experiment of tossing a coin 6 times. Find the following:\n",
    "1. What is the probability of getting exactly 0 heads ?\n",
    "2. What is the proability of getting 2 or less number of heads?\n",
    "\n",
    "***Solution***:\n",
    "\n",
    "Here, $n= 6$, $p=q=\\frac{1}{2}$ and $x=0$\n",
    "\n",
    "1. We need to find $P(X=0)$ and  $P(X\\le 2)$\n",
    "   \n",
    "2. We need to find $P(x<=2)= P(x=0) + P(x=1) + P(x=2)$"
   ]
  },
  {
   "cell_type": "code",
   "execution_count": 1,
   "id": "81a7cc3c",
   "metadata": {},
   "outputs": [],
   "source": [
    "from scipy.stats import binom\n",
    "# binom.pmf has a syntax as: pmf(x,n,p)"
   ]
  },
  {
   "cell_type": "code",
   "execution_count": 2,
   "id": "918d61e2",
   "metadata": {},
   "outputs": [
    {
     "name": "stdout",
     "output_type": "stream",
     "text": [
      "Probability of getting exactly 0 heads when a coin is tossed 6 times = 0.015625\n"
     ]
    }
   ],
   "source": [
    "# P(X=0)\n",
    "print(\"Probability of getting exactly 0 heads when a coin is tossed 6 times =\", binom.pmf(0,6,0.5))"
   ]
  },
  {
   "cell_type": "code",
   "execution_count": 3,
   "id": "47d14f4e",
   "metadata": {},
   "outputs": [
    {
     "name": "stdout",
     "output_type": "stream",
     "text": [
      "Probability of getting at the most 2 heads = 0.34\n"
     ]
    }
   ],
   "source": [
    "p= binom.pmf(0,6,0.5) + binom.pmf(1,6,0.5) + binom.pmf(2,6,0.5)\n",
    "print(\"Probability of getting at the most 2 heads =\", round(p,2))"
   ]
  },
  {
   "cell_type": "code",
   "execution_count": 4,
   "id": "39494578",
   "metadata": {},
   "outputs": [
    {
     "name": "stdout",
     "output_type": "stream",
     "text": [
      "Probability of getting at the most 2 heads = 0.34\n"
     ]
    }
   ],
   "source": [
    "#Alternatively, we can use Cumulative probability\n",
    "print(\"Probability of getting at the most 2 heads =\",round(binom.cdf(2,6,0.5),2))"
   ]
  },
  {
   "cell_type": "markdown",
   "id": "a47d32ba",
   "metadata": {},
   "source": [
    "###### Example:\n",
    "Assume that there is a road junction and several vehicles passes by everyday. Some drivers will ask for the direction at that junction. The probability of a driver seeking for direction is 0.45.  On a given day, you observe 200 vehicles passing through the junction. Then, what is the probability that\n",
    "- exactly 100 drivers will stop and ask for direction?\n",
    "- atleast 50 drivers will ask for direction?\n",
    "- at the most 20 drivers will ask for direction?"
   ]
  },
  {
   "cell_type": "markdown",
   "id": "167322c0",
   "metadata": {},
   "source": [
    "1. Exactly 100 drivers will stop and ask for direction:\n",
    "n = 200, p =0.45, q = 0.55, and x=100\n",
    "P(X=x) = ?"
   ]
  },
  {
   "cell_type": "code",
   "execution_count": 5,
   "id": "fa7392b4",
   "metadata": {
    "code_folding": []
   },
   "outputs": [
    {
     "data": {
      "text/plain": [
       "0.02"
      ]
     },
     "execution_count": 5,
     "metadata": {},
     "output_type": "execute_result"
    }
   ],
   "source": [
    "#exactly 100 drivers will stop and ask for direction\n",
    "# P(X=100)\n",
    "round(binom.pmf(100,200,0.45),2)"
   ]
  },
  {
   "cell_type": "code",
   "execution_count": 6,
   "id": "43f063d1",
   "metadata": {
    "code_folding": []
   },
   "outputs": [
    {
     "data": {
      "text/plain": [
       "0.99999999844398"
      ]
     },
     "execution_count": 6,
     "metadata": {},
     "output_type": "execute_result"
    }
   ],
   "source": [
    "# atleast 50 stop and ask direction \n",
    "# P(X>=50) = 1 - p(X<=49)\n",
    "1- binom.cdf(49,200,0.45)"
   ]
  },
  {
   "cell_type": "markdown",
   "id": "e5345985",
   "metadata": {},
   "source": [
    "***Inference:***\n",
    "- We can see that probability of at least 50 drivers stop and ask the direction is very high, almost equal to 1.\n",
    "- This is because, as per the information given, p=0.45 implies that out of 100 drivers, 45 will bound to ask for direction.\n",
    "- So, when we check for 'at least 50', it is obvious that we get almost certain answer."
   ]
  },
  {
   "cell_type": "code",
   "execution_count": 7,
   "id": "e3f30203",
   "metadata": {
    "code_folding": []
   },
   "outputs": [
    {
     "data": {
      "text/plain": [
       "3.978917632494828e-27"
      ]
     },
     "execution_count": 7,
     "metadata": {},
     "output_type": "execute_result"
    }
   ],
   "source": [
    "#at the most 20 drivers stop and ask direction \n",
    "# p(X<=20)\n",
    "binom.cdf(20,200,0.45)"
   ]
  },
  {
   "cell_type": "markdown",
   "id": "630f6ca8",
   "metadata": {},
   "source": [
    "***Inference:***\n",
    "- We can see that probability of at most 20 drivers stop and ask the direction is very low, almost equal to 0.\n",
    "- This is because, as per the information given, p=0.45 implies that out of 100 drivers, 45 will bound to ask for direction.\n",
    "- So, when we check for 'at the most 5=20', it is obvious that we are checking for almost an impossible situation and hence the result is zero."
   ]
  },
  {
   "cell_type": "markdown",
   "id": "04c64147",
   "metadata": {},
   "source": [
    "#### We will now visualize how the shape of binomial distribution would be."
   ]
  },
  {
   "cell_type": "code",
   "execution_count": 8,
   "id": "8d25cef9",
   "metadata": {},
   "outputs": [
    {
     "data": {
      "image/png": "[encoded data removed]",
      "text/plain": [
       "<Figure size 576x216 with 2 Axes>"
      ]
     },
     "metadata": {
      "needs_background": "light"
     },
     "output_type": "display_data"
    }
   ],
   "source": [
    "import numpy as np\n",
    "import matplotlib.pyplot as plt\n",
    "from scipy.stats import binom\n",
    "\n",
    "# Define parameters of the binomial distribution\n",
    "n = 10  # Number of trials\n",
    "p = 0.5  # Probability of success\n",
    "\n",
    "# Generate a range of k (number of successes) values\n",
    "k_values = np.arange(0, n+1)\n",
    "\n",
    "# Calculate PMF and CDF values for each k value\n",
    "pmf_values = binom.pmf(k_values, n, p)\n",
    "cdf_values = binom.cdf(k_values, n, p)\n",
    "\n",
    "# Plot PMF\n",
    "plt.figure(figsize=(8, 3))\n",
    "plt.subplot(1, 2, 1)\n",
    "plt.stem(k_values, pmf_values, basefmt='b', linefmt='b', markerfmt='bo')\n",
    "plt.title('Binomial Distribution PMF')\n",
    "plt.xlabel('k (Number of Successes)')\n",
    "plt.ylabel('PMF')\n",
    "\n",
    "# Plot CDF\n",
    "plt.subplot(1, 2, 2)\n",
    "plt.step(k_values, cdf_values, color='orange', where='post')\n",
    "plt.title('Binomial Distribution CDF')\n",
    "plt.xlabel('k (Number of Successes)')\n",
    "plt.ylabel('CDF')\n",
    "\n",
    "plt.tight_layout()\n",
    "plt.show()\n"
   ]
  },
  {
   "cell_type": "markdown",
   "id": "fce3a47f",
   "metadata": {},
   "source": [
    "#### Let's apply the knowledge of binomial distribution on a dataset:\n",
    "- There is a data containing information about a campagin conducted for credit-card holders. The attributes like Card_ID, Campaign_Response, Reg Date, Gender and Birth date are available.\n",
    "- The campaign response tells us whether a person has responded positively to the campaign.\n",
    "- Based on this dataset, find out:\n",
    "    - the probability that upto 15 customers will respond to campaign out of 150 randomly selected customers.\n",
    "    - the probability that between 15 and 20 customers will respond to campaign out of 150 randomly selected customers?"
   ]
  },
  {
   "cell_type": "code",
   "execution_count": 9,
   "id": "c58d22ba",
   "metadata": {},
   "outputs": [],
   "source": [
    "import pandas as pd"
   ]
  },
  {
   "cell_type": "code",
   "execution_count": 10,
   "id": "344664b5",
   "metadata": {},
   "outputs": [
    {
     "data": {
      "text/html": [
       "<div>\n",
       "<style scoped>\n",
       "    .dataframe tbody tr th:only-of-type {\n",
       "        vertical-align: middle;\n",
       "    }\n",
       "\n",
       "    .dataframe tbody tr th {\n",
       "        vertical-align: top;\n",
       "    }\n",
       "\n",
       "    .dataframe thead th {\n",
       "        text-align: right;\n",
       "    }\n",
       "</style>\n",
       "<table border=\"1\" class=\"dataframe\">\n",
       "  <thead>\n",
       "    <tr style=\"text-align: right;\">\n",
       "      <th></th>\n",
       "      <th>Card_ID</th>\n",
       "      <th>Campaign_Response</th>\n",
       "      <th>Registration_Date</th>\n",
       "      <th>Gender</th>\n",
       "      <th>Birth_Date</th>\n",
       "    </tr>\n",
       "  </thead>\n",
       "  <tbody>\n",
       "    <tr>\n",
       "      <th>0</th>\n",
       "      <td>100005950</td>\n",
       "      <td>False</td>\n",
       "      <td>1998-11-18</td>\n",
       "      <td>M</td>\n",
       "      <td>1984-02-06</td>\n",
       "    </tr>\n",
       "    <tr>\n",
       "      <th>1</th>\n",
       "      <td>100022191</td>\n",
       "      <td>True</td>\n",
       "      <td>1999-09-15</td>\n",
       "      <td>F</td>\n",
       "      <td>1959-09-11</td>\n",
       "    </tr>\n",
       "    <tr>\n",
       "      <th>2</th>\n",
       "      <td>100025442</td>\n",
       "      <td>False</td>\n",
       "      <td>1998-05-12</td>\n",
       "      <td>M</td>\n",
       "      <td>1970-08-25</td>\n",
       "    </tr>\n",
       "    <tr>\n",
       "      <th>3</th>\n",
       "      <td>100026513</td>\n",
       "      <td>False</td>\n",
       "      <td>1999-02-12</td>\n",
       "      <td>M</td>\n",
       "      <td>1951-03-12</td>\n",
       "    </tr>\n",
       "    <tr>\n",
       "      <th>4</th>\n",
       "      <td>100039145</td>\n",
       "      <td>False</td>\n",
       "      <td>2000-08-12</td>\n",
       "      <td>M</td>\n",
       "      <td>1949-06-08</td>\n",
       "    </tr>\n",
       "  </tbody>\n",
       "</table>\n",
       "</div>"
      ],
      "text/plain": [
       "     Card_ID  Campaign_Response Registration_Date Gender Birth_Date\n",
       "0  100005950              False        1998-11-18      M 1984-02-06\n",
       "1  100022191               True        1999-09-15      F 1959-09-11\n",
       "2  100025442              False        1998-05-12      M 1970-08-25\n",
       "3  100026513              False        1999-02-12      M 1951-03-12\n",
       "4  100039145              False        2000-08-12      M 1949-06-08"
      ]
     },
     "execution_count": 10,
     "metadata": {},
     "output_type": "execute_result"
    }
   ],
   "source": [
    "camp=pd.read_excel('ProbDist_Data.xlsx',sheet_name='binom')\n",
    "camp.head()"
   ]
  },
  {
   "cell_type": "code",
   "execution_count": 11,
   "id": "31bde536",
   "metadata": {},
   "outputs": [
    {
     "data": {
      "text/plain": [
       "(297, 5)"
      ]
     },
     "execution_count": 11,
     "metadata": {},
     "output_type": "execute_result"
    }
   ],
   "source": [
    "camp.shape"
   ]
  },
  {
   "cell_type": "markdown",
   "id": "a35ad9c3",
   "metadata": {
    "code_folding": []
   },
   "source": [
    "**Compute the probability of success (yes to the campaign response) and failure**\n"
   ]
  },
  {
   "cell_type": "code",
   "execution_count": 12,
   "id": "9f03bd53",
   "metadata": {},
   "outputs": [
    {
     "data": {
      "text/plain": [
       "False    0.835017\n",
       "True     0.164983\n",
       "Name: Campaign_Response, dtype: float64"
      ]
     },
     "execution_count": 12,
     "metadata": {},
     "output_type": "execute_result"
    }
   ],
   "source": [
    "camp['Campaign_Response'].value_counts(normalize=True)"
   ]
  },
  {
   "cell_type": "markdown",
   "id": "64f15fba",
   "metadata": {},
   "source": [
    "###### What is the probability that upto 15 customers will respond to campaign out of 150 randomly selected customers?"
   ]
  },
  {
   "cell_type": "markdown",
   "id": "b0d97ac8",
   "metadata": {},
   "source": [
    "n=150, p= 0.165, P(X<=15)=?"
   ]
  },
  {
   "cell_type": "code",
   "execution_count": 13,
   "id": "b64a710c",
   "metadata": {
    "scrolled": true
   },
   "outputs": [
    {
     "name": "stdout",
     "output_type": "stream",
     "text": [
      "The answer is:  0.02\n"
     ]
    }
   ],
   "source": [
    "#prob of success is rounded off to 3 decimal points\n",
    "print(\"The answer is: \", round(binom.cdf(15,150,0.165),2))"
   ]
  },
  {
   "cell_type": "markdown",
   "id": "a1650a36",
   "metadata": {},
   "source": [
    "###### What is the probability that between 15 and 20 customers will respond to campaign out of 150 randomly selected customers?"
   ]
  },
  {
   "cell_type": "code",
   "execution_count": 14,
   "id": "1d017d9e",
   "metadata": {},
   "outputs": [
    {
     "name": "stdout",
     "output_type": "stream",
     "text": [
      "The answer is:  0.17\n"
     ]
    }
   ],
   "source": [
    "# P(15 <= X <=20) = P(0<= X <=20) - P(0<= X <=14)\n",
    "print(\"The answer is: \",round(binom.cdf(20,150,0.165) - binom.cdf(14, 150, 0.165),2))"
   ]
  },
  {
   "cell_type": "code",
   "execution_count": null,
   "id": "abe7be8f",
   "metadata": {},
   "outputs": [],
   "source": []
  },
  {
   "cell_type": "markdown",
   "id": "74eb233f",
   "metadata": {},
   "source": [
    "### Part 3.2.3  : Some other common shapes of data - Part II \n",
    "\n",
    "#### Poison Distribution\n",
    "- It is a discrete probability distribution that expresses the probability of a given number of events occurring in a fixed interval of time or space if these events occur with a known constant mean rate and independently of the time since the last event.\n",
    "- When the number of successes (p) are very small compared to the number of trials (n), then we go for Poisson distribution. \n",
    "- Examples:\n",
    "    - A call center receives an average of 180 calls per hour, 24 hours a day. The calls are independent; receiving one does not change the probability of when the next one will arrive. The number of calls received during any minute has a Poisson probability distribution: the most likely numbers are 2 and 3 but 1 and 4 are also likely. \n",
    "    - The number of decay events that occur from a radioactive source during a defined observation period.\n",
    "    - The number of road accidents in a given day at a particular road junction. Imagine number of vehicles passing by the junction per day. It is quite a huge number (like 1000, 10000 etc). But, the number of accidents observed per day will be 1 or 2 or at the max 10. So, this number is very small compared to actual number of vehicles that have passed the junction. Thus, this is a poisson distribution. \n",
    "- If X follows poisson distribution with parameter $\\lambda$ then probability mass function is given by\n",
    "\n",
    "$$P(X=x)=\\frac{e^{-\\lambda}\\lambda^{x}}{x!} \\quad  \\forall x=0,1,2,3,4,...$$\n",
    "- Mean=variance=$\\lambda$"
   ]
  },
  {
   "cell_type": "markdown",
   "id": "3abfeac9",
   "metadata": {},
   "source": [
    "##### Example:\n",
    "- Find the Probability of exactly 4 accidents in a month, given that average is 5 accidents/ month.\n",
    "- Solution: Here, $\\lambda = 5$. We need to compute $P(X=4)$"
   ]
  },
  {
   "cell_type": "code",
   "execution_count": 15,
   "id": "4ff267d2",
   "metadata": {},
   "outputs": [],
   "source": [
    "from scipy.stats import poisson"
   ]
  },
  {
   "cell_type": "code",
   "execution_count": 16,
   "id": "64d99024",
   "metadata": {},
   "outputs": [
    {
     "name": "stdout",
     "output_type": "stream",
     "text": [
      "Probability of exactly 4 accidents in a month: 0.18\n"
     ]
    }
   ],
   "source": [
    "#The syntax of poisson.pmf is pmf(x, lambda)\n",
    "print(\"Probability of exactly 4 accidents in a month:\",round(poisson.pmf(4,5),2))"
   ]
  },
  {
   "cell_type": "markdown",
   "id": "f4ea62fc",
   "metadata": {},
   "source": [
    "- What is the probability of 3 or lesser accidents in a month?"
   ]
  },
  {
   "cell_type": "code",
   "execution_count": 17,
   "id": "2ea4bdef",
   "metadata": {
    "code_folding": []
   },
   "outputs": [
    {
     "name": "stdout",
     "output_type": "stream",
     "text": [
      "Probability of at the most 3 accidents in a month: 0.27\n"
     ]
    }
   ],
   "source": [
    "#P(x<=3)=?\n",
    "# use cumulative probability\n",
    "print(\"Probability of at the most 3 accidents in a month:\", round(poisson.cdf(3,5),2))"
   ]
  },
  {
   "cell_type": "markdown",
   "id": "7932b441",
   "metadata": {},
   "source": [
    "- What is the probability that 5  or more accidents in a month?"
   ]
  },
  {
   "cell_type": "code",
   "execution_count": 18,
   "id": "26f43190",
   "metadata": {
    "code_folding": []
   },
   "outputs": [
    {
     "name": "stdout",
     "output_type": "stream",
     "text": [
      "Probability of at least 5 accidents in a month: 0.56\n"
     ]
    }
   ],
   "source": [
    "# Pr(X>=5) =?\n",
    "print(\"Probability of at least 5 accidents in a month:\",round(1- poisson.cdf(4,5),2))"
   ]
  },
  {
   "cell_type": "markdown",
   "id": "70d59a29",
   "metadata": {},
   "source": [
    "#### We will now visualize how the shape of poisson distribution would be."
   ]
  },
  {
   "cell_type": "code",
   "execution_count": 19,
   "id": "cfd4abf8",
   "metadata": {},
   "outputs": [
    {
     "data": {
      "image/png": "[encoded data removed]",
      "text/plain": [
       "<Figure size 576x216 with 2 Axes>"
      ]
     },
     "metadata": {
      "needs_background": "light"
     },
     "output_type": "display_data"
    }
   ],
   "source": [
    "import numpy as np\n",
    "import matplotlib.pyplot as plt\n",
    "from scipy.stats import poisson\n",
    "\n",
    "# Define the average rate (lambda) for the Poisson distribution\n",
    "avg_rate = 3.0\n",
    "\n",
    "# Generate a range of k (number of events) values\n",
    "k_values = np.arange(0, 10)\n",
    "\n",
    "# Calculate PMF and CDF values for each k value\n",
    "pmf_values = poisson.pmf(k_values, avg_rate)\n",
    "cdf_values = poisson.cdf(k_values, avg_rate)\n",
    "\n",
    "# Plot PMF\n",
    "plt.figure(figsize=(8, 3))\n",
    "plt.subplot(1, 2, 1)\n",
    "plt.stem(k_values, pmf_values, basefmt='b', linefmt='b', markerfmt='bo')\n",
    "plt.title('Poisson Distribution PMF')\n",
    "plt.xlabel('k (Number of Events)')\n",
    "plt.ylabel('PMF')\n",
    "\n",
    "# Plot CDF\n",
    "plt.subplot(1, 2, 2)\n",
    "plt.step(k_values, cdf_values, color='orange', where='post')\n",
    "plt.title('Poisson Distribution CDF')\n",
    "plt.xlabel('k (Number of Events)')\n",
    "plt.ylabel('CDF')\n",
    "\n",
    "plt.tight_layout()\n",
    "plt.show()\n"
   ]
  },
  {
   "cell_type": "code",
   "execution_count": null,
   "id": "d5601690",
   "metadata": {},
   "outputs": [],
   "source": []
  },
  {
   "cell_type": "markdown",
   "id": "7634b3aa",
   "metadata": {},
   "source": [
    "#### Let's apply the knowledge of poisson distribution on a dataset:\n",
    "- There is a data containing information about number of items in a buying cart. \n",
    "- Based on this dataset, find out:\n",
    "    - What is the probability of seeing atleast 2 items in the cart?\n",
    "    - What is the probability of seeing 6 to 9 items in the cart?"
   ]
  },
  {
   "cell_type": "code",
   "execution_count": 20,
   "id": "0aa3ce84",
   "metadata": {},
   "outputs": [
    {
     "data": {
      "text/html": [
       "<div>\n",
       "<style scoped>\n",
       "    .dataframe tbody tr th:only-of-type {\n",
       "        vertical-align: middle;\n",
       "    }\n",
       "\n",
       "    .dataframe tbody tr th {\n",
       "        vertical-align: top;\n",
       "    }\n",
       "\n",
       "    .dataframe thead th {\n",
       "        text-align: right;\n",
       "    }\n",
       "</style>\n",
       "<table border=\"1\" class=\"dataframe\">\n",
       "  <thead>\n",
       "    <tr style=\"text-align: right;\">\n",
       "      <th></th>\n",
       "      <th>Cart Addition</th>\n",
       "    </tr>\n",
       "  </thead>\n",
       "  <tbody>\n",
       "    <tr>\n",
       "      <th>0</th>\n",
       "      <td>1</td>\n",
       "    </tr>\n",
       "    <tr>\n",
       "      <th>1</th>\n",
       "      <td>1</td>\n",
       "    </tr>\n",
       "    <tr>\n",
       "      <th>2</th>\n",
       "      <td>9</td>\n",
       "    </tr>\n",
       "    <tr>\n",
       "      <th>3</th>\n",
       "      <td>1</td>\n",
       "    </tr>\n",
       "    <tr>\n",
       "      <th>4</th>\n",
       "      <td>1</td>\n",
       "    </tr>\n",
       "  </tbody>\n",
       "</table>\n",
       "</div>"
      ],
      "text/plain": [
       "   Cart Addition\n",
       "0              1\n",
       "1              1\n",
       "2              9\n",
       "3              1\n",
       "4              1"
      ]
     },
     "execution_count": 20,
     "metadata": {},
     "output_type": "execute_result"
    }
   ],
   "source": [
    "cart=pd.read_excel('ProbDist_Data.xlsx',sheet_name='poisson')\n",
    "cart.head()"
   ]
  },
  {
   "cell_type": "code",
   "execution_count": 21,
   "id": "71b9f48c",
   "metadata": {},
   "outputs": [
    {
     "data": {
      "text/plain": [
       "(49, 1)"
      ]
     },
     "execution_count": 21,
     "metadata": {},
     "output_type": "execute_result"
    }
   ],
   "source": [
    "cart.shape"
   ]
  },
  {
   "cell_type": "code",
   "execution_count": 22,
   "id": "4cc2a135",
   "metadata": {},
   "outputs": [
    {
     "data": {
      "text/plain": [
       "Cart Addition    1.44898\n",
       "dtype: float64"
      ]
     },
     "execution_count": 22,
     "metadata": {},
     "output_type": "execute_result"
    }
   ],
   "source": [
    "#compute mean or the lambda parameter\n",
    "cart.mean() "
   ]
  },
  {
   "cell_type": "markdown",
   "id": "5a82d049",
   "metadata": {},
   "source": [
    "- What is the probability of seeing atleast 2 items in the cart?\n",
    "- Solution: Compute $P(X>=2)$"
   ]
  },
  {
   "cell_type": "code",
   "execution_count": 23,
   "id": "858b0b0b",
   "metadata": {},
   "outputs": [
    {
     "name": "stdout",
     "output_type": "stream",
     "text": [
      "The prob that at least 2 items in the cart:  0.42\n"
     ]
    }
   ],
   "source": [
    "# P(x>=2)= 1-P(x<2)\n",
    "# P(x>=2) = 1- {P(X=0)+P(X=1)}\n",
    "\n",
    "print(\"The prob that at least 2 items in the cart: \", round(1- poisson.cdf(1,1.44898),2))"
   ]
  },
  {
   "cell_type": "markdown",
   "id": "f0e77d76",
   "metadata": {},
   "source": [
    "- What is the probability of seeing 6 to 9 items in the cart?\n",
    "- Solution: Compute $P(6 \\le X \\le 9)$\n",
    "- If we use cumulative distribution function, then \n",
    "$P(6 \\le X \\le 9) = P(X\\le 9) - P(X\\le 6)$"
   ]
  },
  {
   "cell_type": "code",
   "execution_count": 24,
   "id": "63364b62",
   "metadata": {},
   "outputs": [
    {
     "name": "stdout",
     "output_type": "stream",
     "text": [
      "The prob that there are 6 to 9 items in the cart:  0.0038\n"
     ]
    }
   ],
   "source": [
    "print(\"The prob that there are 6 to 9 items in the cart: \", round(poisson.cdf(9,1.45) - poisson.cdf(5,1.45),4))"
   ]
  },
  {
   "cell_type": "code",
   "execution_count": null,
   "id": "90e5cff0",
   "metadata": {},
   "outputs": [],
   "source": []
  },
  {
   "cell_type": "markdown",
   "id": "bf6a0f98",
   "metadata": {},
   "source": [
    "### Part 3.2.4  : Some other common shapes of data - Part III \n",
    "\n",
    "#### Normal Distribution\n",
    "- It is a continuous probability distribution for a real-valued random variable.\n",
    "- For example,\n",
    "    - Marks scored by students in an exam\n",
    "    - Sales of car in an year\n",
    "- The probability density function of Normal distribution with parameters $\\mu$ and $\\sigma$ is given by - "
   ]
  },
  {
   "attachments": {
    "image-2.png": {
     "image/png": "[encoded data removed]"
    }
   },
   "cell_type": "markdown",
   "id": "d6bbee26",
   "metadata": {},
   "source": [
    "![image-2.png](attachment:image-2.png)"
   ]
  },
  {
   "cell_type": "markdown",
   "id": "b265a8cf",
   "metadata": {},
   "source": [
    "##### Empirical Rule\n",
    "- Approximately 68% of all observations fall within one standard deviation of the mean.\n",
    "- Approximately 95% of all observations fall within two standard deviations of the mean.\n",
    "- Approximately 99.7% of all observations fall within three standard deviations of the mean."
   ]
  },
  {
   "attachments": {
    "image.png": {
     "image/png": "[encoded data removed]"
    }
   },
   "cell_type": "markdown",
   "id": "7595125d",
   "metadata": {},
   "source": [
    "![image.png](attachment:image.png)"
   ]
  },
  {
   "cell_type": "markdown",
   "id": "984507f0",
   "metadata": {},
   "source": [
    "###### Example:\n",
    "- Let the average sales of a particular product is 10000 and standard deviation is 2400. \n",
    "\n",
    "***Question:*** What is the probability of getting more than 12000 sales?\n",
    "\n",
    "**Solution:** Given that $\\mu=10000$ and $\\sigma=2400$. We need to compute $P(X>=12000)$\n"
   ]
  },
  {
   "cell_type": "code",
   "execution_count": 25,
   "id": "358bebe0",
   "metadata": {
    "hide_input": false,
    "scrolled": true
   },
   "outputs": [
    {
     "name": "stdout",
     "output_type": "stream",
     "text": [
      "Prob that the sales is more than 12000 is: 0.2\n"
     ]
    }
   ],
   "source": [
    "from scipy.stats import norm\n",
    "print('Prob that the sales is more than 12000 is:', round(1 - norm.cdf(12000,10000,2400),2))"
   ]
  },
  {
   "cell_type": "markdown",
   "id": "ba57d991",
   "metadata": {},
   "source": [
    "***Inference:***\n",
    "- When we know that average sales is 10000 with a standard deviation of 2400, then the chances of having more than 12000 sales is around 20.23%"
   ]
  },
  {
   "cell_type": "markdown",
   "id": "560a7773",
   "metadata": {},
   "source": [
    "***Question:*** What is the probability of getting fewer than 9200 sales?"
   ]
  },
  {
   "cell_type": "code",
   "execution_count": 26,
   "id": "ed08aa44",
   "metadata": {
    "hide_input": false
   },
   "outputs": [
    {
     "name": "stdout",
     "output_type": "stream",
     "text": [
      "Prob that the sales is at the most 9200 is: 0.37\n"
     ]
    }
   ],
   "source": [
    "# P(X<=9200)\n",
    "print('Prob that the sales is at the most 9200 is:', round(norm.cdf(9200,10000,2400),2))"
   ]
  },
  {
   "cell_type": "markdown",
   "id": "0197bc4e",
   "metadata": {},
   "source": [
    "***Question:*** What is the probability of getting between 9000 to 12000 sales? "
   ]
  },
  {
   "cell_type": "code",
   "execution_count": 27,
   "id": "5261e84f",
   "metadata": {
    "hide_input": false
   },
   "outputs": [
    {
     "name": "stdout",
     "output_type": "stream",
     "text": [
      "Prob that the sales is between 9200 and 12000 is: 0.46\n"
     ]
    }
   ],
   "source": [
    "#P(x<=12000)-P(x<=9000)\n",
    "print('Prob that the sales is between 9200 and 12000 is:',round(norm.cdf(12000,10000,2400) - norm.cdf(9000,10000,2400),2))"
   ]
  },
  {
   "cell_type": "markdown",
   "id": "5c6d1c46",
   "metadata": {},
   "source": [
    "##### Risk measurement using Normal distribution\n",
    "- Consider a stock with returns mean=10,std=5. What are the chances that the returns will be < 0?"
   ]
  },
  {
   "cell_type": "code",
   "execution_count": 28,
   "id": "8cacfc04",
   "metadata": {},
   "outputs": [
    {
     "data": {
      "text/plain": [
       "0.0228"
      ]
     },
     "execution_count": 28,
     "metadata": {},
     "output_type": "execute_result"
    }
   ],
   "source": [
    "round(norm.cdf(0,10,5),4)"
   ]
  },
  {
   "cell_type": "markdown",
   "id": "4f5a0119",
   "metadata": {},
   "source": [
    "***Inference:***\n",
    "- Given that, as per the past performance, the returns on the stock is 10% with the standard of deviation of 5% What is the chance of you loosing the money (returns is less than 0%).\n",
    "- The chance of you loosing your money is 0.023. That is, it is around 2.3%"
   ]
  },
  {
   "cell_type": "markdown",
   "id": "10062a71",
   "metadata": {},
   "source": [
    "**Question:** What are the chances of losing money when std=10%?"
   ]
  },
  {
   "cell_type": "code",
   "execution_count": 29,
   "id": "29f48e0e",
   "metadata": {},
   "outputs": [
    {
     "data": {
      "text/plain": [
       "0.1587"
      ]
     },
     "execution_count": 29,
     "metadata": {},
     "output_type": "execute_result"
    }
   ],
   "source": [
    "round(norm.cdf(0,10,10),4)"
   ]
  },
  {
   "cell_type": "markdown",
   "id": "8c0f1259",
   "metadata": {},
   "source": [
    "***As standard deviation of the distribution increases the risk of losing money increases.***"
   ]
  },
  {
   "cell_type": "markdown",
   "id": "d3581e7a",
   "metadata": {},
   "source": [
    "##### Example:\n",
    "A monthly balance in the bank account of credit card holders is assumed to be normally distributed with mean 500USD and variance 100USD. \n",
    "- What is the probability that the balance can be more than  513.5USD?\n",
    "- If there are 1000 customers, \n",
    "    - how many customers will have account balance more than 513.5 USD?\n",
    "    - How many people will have less than 520 USD as their account balance?\n",
    "\n"
   ]
  },
  {
   "cell_type": "code",
   "execution_count": 30,
   "id": "802b83f6",
   "metadata": {},
   "outputs": [],
   "source": [
    "#Let as define variables to store the parameters\n",
    "mu= 500\n",
    "var= 100\n",
    "sd= 10  #as variance is 100, std will be 10"
   ]
  },
  {
   "cell_type": "code",
   "execution_count": 31,
   "id": "74422118",
   "metadata": {},
   "outputs": [
    {
     "name": "stdout",
     "output_type": "stream",
     "text": [
      "Prob that the balance is more than 513.5 USD is : 0.0885\n"
     ]
    }
   ],
   "source": [
    "## p(x>=513.5) =?\n",
    "print('Prob that the balance is more than 513.5 USD is :',round(1 - norm.cdf(513.5,mu,sd),4))     # 8.85% chance"
   ]
  },
  {
   "cell_type": "code",
   "execution_count": 32,
   "id": "3a2a053d",
   "metadata": {},
   "outputs": [
    {
     "name": "stdout",
     "output_type": "stream",
     "text": [
      "Out of 1000 randomly choosen customers, the number of customers with more than 513.5 USD balance is : 89.0\n"
     ]
    }
   ],
   "source": [
    "N= 1000\n",
    "print('Out of 1000 randomly choosen customers, the number of customers with more than 513.5 USD balance is :', \\\n",
    "      round(N* (1-norm.cdf(513.5,mu,sd)),0))"
   ]
  },
  {
   "cell_type": "code",
   "execution_count": 33,
   "id": "c72ca06f",
   "metadata": {},
   "outputs": [
    {
     "name": "stdout",
     "output_type": "stream",
     "text": [
      "Out of 1000 randomly choosen customers, the number of customers with less than 520USD balance is : 977.0\n"
     ]
    }
   ],
   "source": [
    "print('Out of 1000 randomly choosen customers, the number of customers with less than 520USD balance is :', \\\n",
    "    round(N*norm.cdf(520,mu,sd),0))"
   ]
  },
  {
   "cell_type": "markdown",
   "id": "2bd684b7",
   "metadata": {},
   "source": [
    "#### We will now visualize how the shape of poisson distribution would be."
   ]
  },
  {
   "cell_type": "code",
   "execution_count": 34,
   "id": "2e27d553",
   "metadata": {},
   "outputs": [
    {
     "data": {
      "image/png": "[encoded data removed]",
      "text/plain": [
       "<Figure size 576x216 with 2 Axes>"
      ]
     },
     "metadata": {
      "needs_background": "light"
     },
     "output_type": "display_data"
    }
   ],
   "source": [
    "import numpy as np\n",
    "import matplotlib.pyplot as plt\n",
    "from scipy.stats import norm\n",
    "\n",
    "# Define parameters of the normal distribution\n",
    "mean = 0.0\n",
    "std_dev = 1.0\n",
    "\n",
    "# Generate a range of x values\n",
    "x_values = np.linspace(-5, 5, 400)\n",
    "\n",
    "# Calculate PDF and CDF values for each x value\n",
    "pdf_values = norm.pdf(x_values, mean, std_dev)\n",
    "cdf_values = norm.cdf(x_values, mean, std_dev)\n",
    "\n",
    "# Plot PDF\n",
    "plt.figure(figsize=(8, 3))\n",
    "plt.subplot(1, 2, 1)\n",
    "plt.plot(x_values, pdf_values, color='blue')\n",
    "plt.title('Normal Distribution PDF')\n",
    "plt.xlabel('x')\n",
    "plt.ylabel('PDF')\n",
    "\n",
    "# Plot CDF\n",
    "plt.subplot(1, 2, 2)\n",
    "plt.plot(x_values, cdf_values, color='orange')\n",
    "plt.title('Normal Distribution CDF')\n",
    "plt.xlabel('x')\n",
    "plt.ylabel('CDF')\n",
    "\n",
    "plt.tight_layout()\n",
    "plt.show()\n"
   ]
  },
  {
   "cell_type": "code",
   "execution_count": null,
   "id": "d0b84c05",
   "metadata": {},
   "outputs": [],
   "source": []
  },
  {
   "cell_type": "markdown",
   "id": "ed225ee2",
   "metadata": {},
   "source": [
    "### Part 3.2.5  : What is the probability that revenue falls in a given range?\n",
    "Let us use the POS data to apply the normal distribution on a real data set"
   ]
  },
  {
   "cell_type": "code",
   "execution_count": 35,
   "id": "ce45bcb6",
   "metadata": {},
   "outputs": [],
   "source": [
    "# Import the required packages\n",
    "import pandas as pd"
   ]
  },
  {
   "cell_type": "code",
   "execution_count": 36,
   "id": "a482fc85",
   "metadata": {
    "code_folding": []
   },
   "outputs": [
    {
     "data": {
      "text/html": [
       "<div>\n",
       "<style scoped>\n",
       "    .dataframe tbody tr th:only-of-type {\n",
       "        vertical-align: middle;\n",
       "    }\n",
       "\n",
       "    .dataframe tbody tr th {\n",
       "        vertical-align: top;\n",
       "    }\n",
       "\n",
       "    .dataframe thead th {\n",
       "        text-align: right;\n",
       "    }\n",
       "</style>\n",
       "<table border=\"1\" class=\"dataframe\">\n",
       "  <thead>\n",
       "    <tr style=\"text-align: right;\">\n",
       "      <th></th>\n",
       "      <th>SKU ID</th>\n",
       "      <th>Date</th>\n",
       "      <th>Manufacturer</th>\n",
       "      <th>Sector</th>\n",
       "      <th>Category</th>\n",
       "      <th>Segment</th>\n",
       "      <th>Brand</th>\n",
       "      <th>Revenue($)</th>\n",
       "      <th>Units_sold</th>\n",
       "      <th>Page_traffic</th>\n",
       "    </tr>\n",
       "  </thead>\n",
       "  <tbody>\n",
       "    <tr>\n",
       "      <th>0</th>\n",
       "      <td>SKU1029</td>\n",
       "      <td>05-01-21</td>\n",
       "      <td>Synergix solutions</td>\n",
       "      <td>Oral Care</td>\n",
       "      <td>Toothpaste</td>\n",
       "      <td>Whitening Toothpaste</td>\n",
       "      <td>Close-up</td>\n",
       "      <td>0</td>\n",
       "      <td>0</td>\n",
       "      <td>0</td>\n",
       "    </tr>\n",
       "    <tr>\n",
       "      <th>1</th>\n",
       "      <td>SKU1054</td>\n",
       "      <td>05-08-21</td>\n",
       "      <td>Synergix solutions</td>\n",
       "      <td>Oral Care</td>\n",
       "      <td>Toothpaste</td>\n",
       "      <td>Fluoride-Free Toothpaste</td>\n",
       "      <td>Tom's of Maine</td>\n",
       "      <td>0</td>\n",
       "      <td>0</td>\n",
       "      <td>0</td>\n",
       "    </tr>\n",
       "    <tr>\n",
       "      <th>2</th>\n",
       "      <td>SKU1068</td>\n",
       "      <td>01-08-22</td>\n",
       "      <td>Synergix solutions</td>\n",
       "      <td>Oral Care</td>\n",
       "      <td>Toothpaste</td>\n",
       "      <td>Fluoride-Free Toothpaste</td>\n",
       "      <td>Himalaya Herbals</td>\n",
       "      <td>0</td>\n",
       "      <td>0</td>\n",
       "      <td>0</td>\n",
       "    </tr>\n",
       "    <tr>\n",
       "      <th>3</th>\n",
       "      <td>SKU1056</td>\n",
       "      <td>11-05-22</td>\n",
       "      <td>Synergix solutions</td>\n",
       "      <td>Oral Care</td>\n",
       "      <td>Toothpaste</td>\n",
       "      <td>Fluoride-Free Toothpaste</td>\n",
       "      <td>Tom's of Maine</td>\n",
       "      <td>0</td>\n",
       "      <td>0</td>\n",
       "      <td>0</td>\n",
       "    </tr>\n",
       "    <tr>\n",
       "      <th>4</th>\n",
       "      <td>SKU1061</td>\n",
       "      <td>12-10-22</td>\n",
       "      <td>Synergix solutions</td>\n",
       "      <td>Oral Care</td>\n",
       "      <td>Toothpaste</td>\n",
       "      <td>Fluoride-Free Toothpaste</td>\n",
       "      <td>Himalaya Herbals</td>\n",
       "      <td>0</td>\n",
       "      <td>0</td>\n",
       "      <td>0</td>\n",
       "    </tr>\n",
       "  </tbody>\n",
       "</table>\n",
       "</div>"
      ],
      "text/plain": [
       "    SKU ID      Date         Manufacturer     Sector    Category  \\\n",
       "0  SKU1029  05-01-21  Synergix solutions   Oral Care  Toothpaste   \n",
       "1  SKU1054  05-08-21  Synergix solutions   Oral Care  Toothpaste   \n",
       "2  SKU1068  01-08-22  Synergix solutions   Oral Care  Toothpaste   \n",
       "3  SKU1056  11-05-22  Synergix solutions   Oral Care  Toothpaste   \n",
       "4  SKU1061  12-10-22  Synergix solutions   Oral Care  Toothpaste   \n",
       "\n",
       "                    Segment             Brand  Revenue($)  Units_sold  \\\n",
       "0      Whitening Toothpaste          Close-up           0           0   \n",
       "1  Fluoride-Free Toothpaste    Tom's of Maine           0           0   \n",
       "2  Fluoride-Free Toothpaste  Himalaya Herbals           0           0   \n",
       "3  Fluoride-Free Toothpaste    Tom's of Maine           0           0   \n",
       "4  Fluoride-Free Toothpaste  Himalaya Herbals           0           0   \n",
       "\n",
       "   Page_traffic  \n",
       "0             0  \n",
       "1             0  \n",
       "2             0  \n",
       "3             0  \n",
       "4             0  "
      ]
     },
     "execution_count": 36,
     "metadata": {},
     "output_type": "execute_result"
    }
   ],
   "source": [
    "#read the data file\n",
    "pos_data = pd.read_csv('POS_CleanData.csv')\n",
    "pos_data.head()"
   ]
  },
  {
   "cell_type": "markdown",
   "id": "96aaa831",
   "metadata": {},
   "source": [
    "####  What is probability that Revenue lies between  13500 to 19700 ?"
   ]
  },
  {
   "cell_type": "code",
   "execution_count": 37,
   "id": "418c3bea",
   "metadata": {
    "code_folding": []
   },
   "outputs": [
    {
     "name": "stdout",
     "output_type": "stream",
     "text": [
      "Average revenue is: 14377.15\n",
      "Standard deviation of revenue is: 13424.8\n"
     ]
    }
   ],
   "source": [
    "# first calculate the mean and SD of revenue\n",
    "mean_rev = round(pos_data['Revenue($)'].mean(),2)\n",
    "std_rev = round(pos_data['Revenue($)'].std(),2)\n",
    "\n",
    "print('Average revenue is:', mean_rev)\n",
    "print('Standard deviation of revenue is:', std_rev)"
   ]
  },
  {
   "cell_type": "code",
   "execution_count": 38,
   "id": "d48930f8",
   "metadata": {
    "code_folding": []
   },
   "outputs": [
    {
     "name": "stdout",
     "output_type": "stream",
     "text": [
      "Probability that revenue lies between 13500 & 19700 will be given as : 0.18\n"
     ]
    }
   ],
   "source": [
    "# Pr(13500 <= X <= 19700) = Pr(X <= 19700) - Pr(X <= 13500)\n",
    "print('Probability that revenue lies between 13500 & 19700 will be given as :',\\\n",
    "      round(norm.cdf(19700,mean_rev,std_rev)-norm.cdf(13500,mean_rev,std_rev),2))"
   ]
  },
  {
   "cell_type": "markdown",
   "id": "be6cdc94",
   "metadata": {},
   "source": [
    "####  What is probability that Revenue is greater than 43000 ?"
   ]
  },
  {
   "cell_type": "code",
   "execution_count": 39,
   "id": "705f675e",
   "metadata": {
    "code_folding": []
   },
   "outputs": [
    {
     "name": "stdout",
     "output_type": "stream",
     "text": [
      "Probability that revenue is greater than 43000 will be : 0.0165\n"
     ]
    }
   ],
   "source": [
    "# Pr(X > 43000) = 1 - Pr(X < 43000)\n",
    "print('Probability that revenue is greater than 43000 will be :', \\\n",
    "      round(1- norm.cdf(43000,mean_rev,std_rev),4))"
   ]
  },
  {
   "cell_type": "markdown",
   "id": "1d37c289",
   "metadata": {},
   "source": [
    "####  What is probability that Revenue is less than 12000 ?"
   ]
  },
  {
   "cell_type": "code",
   "execution_count": 40,
   "id": "b2b6edbe",
   "metadata": {
    "code_folding": []
   },
   "outputs": [
    {
     "name": "stdout",
     "output_type": "stream",
     "text": [
      "Probability that revenue is less than 12000 will be : 0.4297\n"
     ]
    }
   ],
   "source": [
    "# Pr(X < 12000)\n",
    "print('Probability that revenue is less than 12000 will be :', \\\n",
    "      round(norm.cdf(12000,mean_rev,std_rev),4))"
   ]
  },
  {
   "cell_type": "code",
   "execution_count": null,
   "id": "652f809e",
   "metadata": {},
   "outputs": [],
   "source": []
  },
  {
   "cell_type": "code",
   "execution_count": null,
   "id": "6108dbb2",
   "metadata": {},
   "outputs": [],
   "source": []
  },
  {
   "cell_type": "code",
   "execution_count": null,
   "id": "d3b08e63",
   "metadata": {},
   "outputs": [],
   "source": []
  },
  {
   "cell_type": "code",
   "execution_count": null,
   "id": "b167d444",
   "metadata": {},
   "outputs": [],
   "source": []
  },
  {
   "cell_type": "code",
   "execution_count": null,
   "id": "d41154a5",
   "metadata": {},
   "outputs": [],
   "source": []
  },
  {
   "cell_type": "code",
   "execution_count": null,
   "id": "a5a6f5a1",
   "metadata": {},
   "outputs": [],
   "source": []
  }
 ],
 "metadata": {
  "kernelspec": {
   "display_name": "Python 3 (ipykernel)",
   "language": "python",
   "name": "python3"
  },
  "language_info": {
   "codemirror_mode": {
    "name": "ipython",
    "version": 3
   },
   "file_extension": ".py",
   "mimetype": "text/x-python",
   "name": "python",
   "nbconvert_exporter": "python",
   "pygments_lexer": "ipython3",
   "version": "3.9.12"
  }
 },
 "nbformat": 4,
 "nbformat_minor": 5
}
