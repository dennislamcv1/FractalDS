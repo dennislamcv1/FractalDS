{
 "cells": [
  {
   "cell_type": "markdown",
   "id": "d448738f",
   "metadata": {},
   "source": [
    "### Lesson 4: Manipulation and grouping of data"
   ]
  },
  {
   "cell_type": "markdown",
   "id": "f13f7f06",
   "metadata": {},
   "source": [
    "### Part 2.4.1  : What are the unique products?\n",
    "- In this lecture, we will focus on answering some business questions like:\n",
    "    - how to replace a value by something else in the column?\n",
    "    - what are the unique product sectors are available in the data?\n",
    "    - what is the proportion of each product sector ?\n",
    "    - whether a product of particular brand is listed for sales or not?"
   ]
  },
  {
   "cell_type": "code",
   "execution_count": null,
   "id": "a69d519f",
   "metadata": {},
   "outputs": [],
   "source": [
    "import pandas as pd"
   ]
  },
  {
   "cell_type": "code",
   "execution_count": null,
   "id": "9f889545",
   "metadata": {
    "code_folding": []
   },
   "outputs": [],
   "source": [
    "# Loading the data set which does not contain any missing values\n",
    "pos_data = pd.read_csv('POS_CleanData.csv')\n",
    "pos_data.head()"
   ]
  },
  {
   "cell_type": "code",
   "execution_count": null,
   "id": "f3cf0317",
   "metadata": {
    "code_folding": []
   },
   "outputs": [],
   "source": [
    "# quickly check its shape\n",
    "pos_data.shape"
   ]
  },
  {
   "cell_type": "markdown",
   "id": "bb95cd7b",
   "metadata": {},
   "source": [
    "#### How to replace a value in a column by some other value?\n",
    "- Let us try to replace 'Toothpaste' in the Category column by 'Tooth Paste'"
   ]
  },
  {
   "cell_type": "code",
   "execution_count": null,
   "id": "9e5dee3c",
   "metadata": {
    "code_folding": []
   },
   "outputs": [],
   "source": [
    "# let us make the replacement in the 'Category' column\n",
    "pos_data['Category'] = pos_data['Category'].replace('Toothpaste', 'Tooth Paste')\n",
    "pos_data.head()"
   ]
  },
  {
   "cell_type": "markdown",
   "id": "180d68a5",
   "metadata": {},
   "source": [
    "#### What are the different sectors present in the sales data?\n"
   ]
  },
  {
   "cell_type": "code",
   "execution_count": null,
   "id": "e88aabbb",
   "metadata": {},
   "outputs": [],
   "source": [
    "pos_data['Sector'].unique()"
   ]
  },
  {
   "cell_type": "code",
   "execution_count": null,
   "id": "ada0b4a3",
   "metadata": {
    "code_folding": []
   },
   "outputs": [],
   "source": [
    "# use unique() method and display the result as a list\n",
    "print(\"Different sectors of products available are:\\n\", list(pos_data['Sector'].unique()))"
   ]
  },
  {
   "cell_type": "markdown",
   "id": "96322149",
   "metadata": {},
   "source": [
    "#### How many products belong to each of these sectors?"
   ]
  },
  {
   "cell_type": "code",
   "execution_count": null,
   "id": "08c6bb5d",
   "metadata": {},
   "outputs": [],
   "source": [
    "pos_data['Sector'].value_counts()"
   ]
  },
  {
   "cell_type": "code",
   "execution_count": null,
   "id": "ad593348",
   "metadata": {
    "code_folding": []
   },
   "outputs": [],
   "source": [
    "# use value_counts() method\n",
    "print('Following is the list of sectors along with their count:\\n', pos_data['Sector'].value_counts())"
   ]
  },
  {
   "cell_type": "markdown",
   "id": "b7660756",
   "metadata": {},
   "source": [
    "#### What is the proportion of each sector in the sales data ?"
   ]
  },
  {
   "cell_type": "code",
   "execution_count": null,
   "id": "cfeaa969",
   "metadata": {},
   "outputs": [],
   "source": [
    "pos_data['Sector'].value_counts(normalize=True)"
   ]
  },
  {
   "cell_type": "code",
   "execution_count": null,
   "id": "aa73eb7a",
   "metadata": {
    "code_folding": []
   },
   "outputs": [],
   "source": [
    "# use value_counts() method\n",
    "print('Following is the list of sectors along with their proportion:')\n",
    "round(pos_data['Sector'].value_counts(normalize=True) * 100, 2)"
   ]
  },
  {
   "cell_type": "markdown",
   "id": "0d0c7b3a",
   "metadata": {},
   "source": [
    "**Explanation:**\n",
    "- The `value_counts()` method with the argument `noramalize = True` will display the count in fractions. \n",
    "- When we multiply these fractions by 100, we will get the percentage.\n",
    "- The `round()` function is used to display the percentage with the desired number of decimal places."
   ]
  },
  {
   "cell_type": "markdown",
   "id": "e9afce6c",
   "metadata": {},
   "source": [
    "#### How to check whether a particular categorical value exists in a column?\n",
    "- Let us check whether the 'Lakme' brand exist in the sales data."
   ]
  },
  {
   "cell_type": "code",
   "execution_count": null,
   "id": "b3cb2be2",
   "metadata": {
    "code_folding": []
   },
   "outputs": [],
   "source": [
    "# List out all the unique brands in the data\n",
    "brand_list = pos_data['Brand'].unique().tolist()\n",
    "print(\"Various brands available are:\\n\",brand_list)"
   ]
  },
  {
   "cell_type": "code",
   "execution_count": null,
   "id": "e516377c",
   "metadata": {
    "code_folding": []
   },
   "outputs": [],
   "source": [
    "if 'Lakme' in brand_list:\n",
    "    print('Lakme is one of the brands in POS data')\n",
    "else:\n",
    "    print('Lakme is not in POS data')"
   ]
  },
  {
   "cell_type": "code",
   "execution_count": null,
   "id": "1a0d5411",
   "metadata": {},
   "outputs": [],
   "source": [
    "if 'Tide' in brand_list:\n",
    "    print('Tide is present')\n",
    "else:\n",
    "    print('Tide is absent')"
   ]
  },
  {
   "cell_type": "code",
   "execution_count": null,
   "id": "d56a3c82",
   "metadata": {
    "code_folding": []
   },
   "outputs": [],
   "source": [
    "# alternatively, we can use the following code to do similar task\n",
    "\n",
    "df=pos_data[pos_data['Brand'].isin(['Colgate'])]\n",
    "\n",
    "if df.shape[0] != 0:\n",
    "    print('Colgate is one of the brands in POS data')\n",
    "else:\n",
    "    print('Colgate is not in POS data')"
   ]
  },
  {
   "cell_type": "code",
   "execution_count": null,
   "id": "be815404",
   "metadata": {},
   "outputs": [],
   "source": []
  },
  {
   "cell_type": "code",
   "execution_count": null,
   "id": "54643dcf",
   "metadata": {},
   "outputs": [],
   "source": []
  },
  {
   "cell_type": "code",
   "execution_count": null,
   "id": "0bf6e4ae",
   "metadata": {},
   "outputs": [],
   "source": []
  },
  {
   "cell_type": "code",
   "execution_count": null,
   "id": "34e0da71",
   "metadata": {},
   "outputs": [],
   "source": []
  },
  {
   "cell_type": "markdown",
   "id": "f1b65516",
   "metadata": {},
   "source": [
    "### Part 2.4.2  : How much did we sell per category?\n",
    "- To answer such questions, we use the `groupby()` method.\n",
    "- We will be able answer several business questions like finding total revenue per sector, finding the average revenue per category, finding the average number of visitors to a particular brand's page on the retailer's website etc."
   ]
  },
  {
   "cell_type": "markdown",
   "id": "31c15115",
   "metadata": {},
   "source": [
    "#### What is the total revenue per sector?\n",
    "- Use `groupby()` method with `sum()` to get a dataframe containing sum of revenues for all sectors.\n",
    "- Then display only the revenue column of this dataframe"
   ]
  },
  {
   "cell_type": "code",
   "execution_count": null,
   "id": "f25de5dc",
   "metadata": {},
   "outputs": [],
   "source": [
    "pos_data.head()"
   ]
  },
  {
   "cell_type": "code",
   "execution_count": null,
   "id": "20def6c6",
   "metadata": {},
   "outputs": [],
   "source": [
    "#groupby() is used with sum() to get total \n",
    "df=pos_data.groupby('Sector').sum(numeric_only=True)     #numeric_only makes sure to sum up only the numeric columns in dataframe\n",
    "df"
   ]
  },
  {
   "cell_type": "code",
   "execution_count": null,
   "id": "c71411d2",
   "metadata": {},
   "outputs": [],
   "source": [
    "#display only the total revenue per sector in the descending order\n",
    "df['Revenue($)'].sort_values(ascending = False)"
   ]
  },
  {
   "cell_type": "markdown",
   "id": "f8b98d6c",
   "metadata": {},
   "source": [
    "#### What are the top 3 selling brands?"
   ]
  },
  {
   "cell_type": "code",
   "execution_count": null,
   "id": "42724a84",
   "metadata": {},
   "outputs": [],
   "source": [
    "# first group the data by brand, and then sort the results in descending order\n",
    "df=pos_data.groupby('Brand').sum(numeric_only=True)     \n",
    "df['Revenue($)'].sort_values(ascending = False)[0:3]   #showing only top 3 using slicing"
   ]
  },
  {
   "cell_type": "markdown",
   "id": "336e8875",
   "metadata": {},
   "source": [
    "#### What is the average  sales of each category?"
   ]
  },
  {
   "cell_type": "code",
   "execution_count": null,
   "id": "958cdac5",
   "metadata": {},
   "outputs": [],
   "source": [
    "# group by category, compute mean and round off to 2 decimal points\n",
    "\n",
    "df=pos_data.groupby('Category').mean(numeric_only=True).round(2)   "
   ]
  },
  {
   "cell_type": "code",
   "execution_count": null,
   "id": "89ca1c65",
   "metadata": {},
   "outputs": [],
   "source": [
    "df"
   ]
  },
  {
   "cell_type": "code",
   "execution_count": null,
   "id": "686bc92c",
   "metadata": {},
   "outputs": [],
   "source": [
    "df['Revenue($)']"
   ]
  },
  {
   "cell_type": "code",
   "execution_count": null,
   "id": "e376520b",
   "metadata": {},
   "outputs": [],
   "source": [
    "# sort them to see the categories having top revenues\n",
    "df['Revenue($)'].sort_values(ascending = False)"
   ]
  },
  {
   "cell_type": "markdown",
   "id": "66147389",
   "metadata": {},
   "source": [
    "***Conclusion:***\n",
    "- There is not much difference in the average sales across multiple categories.\n"
   ]
  },
  {
   "cell_type": "markdown",
   "id": "848907c5",
   "metadata": {},
   "source": [
    "#### What is average revenue for each brand? How many distinct products are there in each brand?\n",
    "- To answer this, we need two diffferent aggregation functions - mean of revenue and count of SKU ID.\n",
    "- Hence, we will apply `agg()` method on top of `groupby()`"
   ]
  },
  {
   "cell_type": "code",
   "execution_count": null,
   "id": "03eaed97",
   "metadata": {},
   "outputs": [],
   "source": [
    "df=pos_data.groupby('Brand').agg({'Revenue($)': 'mean', 'SKU ID':'count'}).round(2)"
   ]
  },
  {
   "cell_type": "code",
   "execution_count": null,
   "id": "d84579ed",
   "metadata": {},
   "outputs": [],
   "source": [
    "df"
   ]
  },
  {
   "cell_type": "code",
   "execution_count": null,
   "id": "ab96340f",
   "metadata": {},
   "outputs": [],
   "source": [
    "df=pos_data.groupby('Brand').agg({'Revenue($)': 'mean', 'SKU ID':'count'}).round(2).reset_index()"
   ]
  },
  {
   "cell_type": "code",
   "execution_count": null,
   "id": "4bc7448e",
   "metadata": {},
   "outputs": [],
   "source": [
    "df"
   ]
  },
  {
   "cell_type": "code",
   "execution_count": null,
   "id": "6eb40a35",
   "metadata": {},
   "outputs": [],
   "source": [
    "df = df.rename(columns={'Revenue($)':'Avg Revenue($)', 'SKU ID':'No. of SKU'})\n",
    "df"
   ]
  },
  {
   "cell_type": "markdown",
   "id": "116eddf2",
   "metadata": {},
   "source": [
    "#### What is the best selling segment?"
   ]
  },
  {
   "cell_type": "code",
   "execution_count": null,
   "id": "8ea226d9",
   "metadata": {},
   "outputs": [],
   "source": [
    "df=pos_data.groupby('Segment').sum(numeric_only=True)     "
   ]
  },
  {
   "cell_type": "code",
   "execution_count": null,
   "id": "8345e290",
   "metadata": {},
   "outputs": [],
   "source": [
    "df"
   ]
  },
  {
   "cell_type": "code",
   "execution_count": null,
   "id": "a93d738c",
   "metadata": {
    "scrolled": true
   },
   "outputs": [],
   "source": [
    "df['Revenue($)'].sort_values(ascending = False)"
   ]
  },
  {
   "cell_type": "markdown",
   "id": "b24ba23f",
   "metadata": {},
   "source": [
    "***Explanation:***\n",
    "- We can see that *Liquid* is the best selling segment.\n",
    "- However, it makes sense to know under which category and which sector, this Liquid segment falls into. \n",
    "- To know that we need to group the data based on more than one attribute. We will see such tasks in the next lecture."
   ]
  },
  {
   "cell_type": "code",
   "execution_count": null,
   "id": "3cfbd6e9",
   "metadata": {},
   "outputs": [],
   "source": []
  },
  {
   "cell_type": "markdown",
   "id": "f1c70c28",
   "metadata": {},
   "source": [
    "### Part 2.4.3  : How much did we sell per sector per category\n",
    "- In the previous lecture, we have seen how to group the data based on certain attribute and find the aggregation of values.\n",
    "- We can actually group the data based on more than one attribute, to answer the questions like \"how much is the revenue per category within each sector\" and so on."
   ]
  },
  {
   "cell_type": "code",
   "execution_count": 71,
   "id": "15fbffb1",
   "metadata": {
    "code_folding": []
   },
   "outputs": [
    {
     "data": {
      "text/html": [
       "<div>\n",
       "<style scoped>\n",
       "    .dataframe tbody tr th:only-of-type {\n",
       "        vertical-align: middle;\n",
       "    }\n",
       "\n",
       "    .dataframe tbody tr th {\n",
       "        vertical-align: top;\n",
       "    }\n",
       "\n",
       "    .dataframe thead th {\n",
       "        text-align: right;\n",
       "    }\n",
       "</style>\n",
       "<table border=\"1\" class=\"dataframe\">\n",
       "  <thead>\n",
       "    <tr style=\"text-align: right;\">\n",
       "      <th></th>\n",
       "      <th>SKU ID</th>\n",
       "      <th>Date</th>\n",
       "      <th>Manufacturer</th>\n",
       "      <th>Sector</th>\n",
       "      <th>Category</th>\n",
       "      <th>Segment</th>\n",
       "      <th>Brand</th>\n",
       "      <th>Revenue($)</th>\n",
       "      <th>Units_sold</th>\n",
       "      <th>Page_traffic</th>\n",
       "    </tr>\n",
       "  </thead>\n",
       "  <tbody>\n",
       "    <tr>\n",
       "      <th>0</th>\n",
       "      <td>SKU1029</td>\n",
       "      <td>05-01-21</td>\n",
       "      <td>Synergix solutions</td>\n",
       "      <td>Oral Care</td>\n",
       "      <td>Tooth Paste</td>\n",
       "      <td>Whitening Toothpaste</td>\n",
       "      <td>Close-up</td>\n",
       "      <td>0</td>\n",
       "      <td>0</td>\n",
       "      <td>0</td>\n",
       "    </tr>\n",
       "    <tr>\n",
       "      <th>1</th>\n",
       "      <td>SKU1054</td>\n",
       "      <td>05-08-21</td>\n",
       "      <td>Synergix solutions</td>\n",
       "      <td>Oral Care</td>\n",
       "      <td>Tooth Paste</td>\n",
       "      <td>Fluoride-Free Toothpaste</td>\n",
       "      <td>Tom's of Maine</td>\n",
       "      <td>0</td>\n",
       "      <td>0</td>\n",
       "      <td>0</td>\n",
       "    </tr>\n",
       "    <tr>\n",
       "      <th>2</th>\n",
       "      <td>SKU1068</td>\n",
       "      <td>01-08-22</td>\n",
       "      <td>Synergix solutions</td>\n",
       "      <td>Oral Care</td>\n",
       "      <td>Tooth Paste</td>\n",
       "      <td>Fluoride-Free Toothpaste</td>\n",
       "      <td>Himalaya Herbals</td>\n",
       "      <td>0</td>\n",
       "      <td>0</td>\n",
       "      <td>0</td>\n",
       "    </tr>\n",
       "    <tr>\n",
       "      <th>3</th>\n",
       "      <td>SKU1056</td>\n",
       "      <td>11-05-22</td>\n",
       "      <td>Synergix solutions</td>\n",
       "      <td>Oral Care</td>\n",
       "      <td>Tooth Paste</td>\n",
       "      <td>Fluoride-Free Toothpaste</td>\n",
       "      <td>Tom's of Maine</td>\n",
       "      <td>0</td>\n",
       "      <td>0</td>\n",
       "      <td>0</td>\n",
       "    </tr>\n",
       "    <tr>\n",
       "      <th>4</th>\n",
       "      <td>SKU1061</td>\n",
       "      <td>12-10-22</td>\n",
       "      <td>Synergix solutions</td>\n",
       "      <td>Oral Care</td>\n",
       "      <td>Tooth Paste</td>\n",
       "      <td>Fluoride-Free Toothpaste</td>\n",
       "      <td>Himalaya Herbals</td>\n",
       "      <td>0</td>\n",
       "      <td>0</td>\n",
       "      <td>0</td>\n",
       "    </tr>\n",
       "  </tbody>\n",
       "</table>\n",
       "</div>"
      ],
      "text/plain": [
       "    SKU ID      Date         Manufacturer     Sector     Category  \\\n",
       "0  SKU1029  05-01-21  Synergix solutions   Oral Care  Tooth Paste   \n",
       "1  SKU1054  05-08-21  Synergix solutions   Oral Care  Tooth Paste   \n",
       "2  SKU1068  01-08-22  Synergix solutions   Oral Care  Tooth Paste   \n",
       "3  SKU1056  11-05-22  Synergix solutions   Oral Care  Tooth Paste   \n",
       "4  SKU1061  12-10-22  Synergix solutions   Oral Care  Tooth Paste   \n",
       "\n",
       "                    Segment             Brand  Revenue($)  Units_sold  \\\n",
       "0      Whitening Toothpaste          Close-up           0           0   \n",
       "1  Fluoride-Free Toothpaste    Tom's of Maine           0           0   \n",
       "2  Fluoride-Free Toothpaste  Himalaya Herbals           0           0   \n",
       "3  Fluoride-Free Toothpaste    Tom's of Maine           0           0   \n",
       "4  Fluoride-Free Toothpaste  Himalaya Herbals           0           0   \n",
       "\n",
       "   Page_traffic  \n",
       "0             0  \n",
       "1             0  \n",
       "2             0  \n",
       "3             0  \n",
       "4             0  "
      ]
     },
     "execution_count": 71,
     "metadata": {},
     "output_type": "execute_result"
    }
   ],
   "source": [
    "# view the dataframe\n",
    "pos_data.head()"
   ]
  },
  {
   "cell_type": "markdown",
   "id": "4ca2622a",
   "metadata": {},
   "source": [
    "#### What is the best selling segment?\n",
    "- Earlier, we found that 'Liquid' is the best selling segment.\n",
    "- However, we do not know which category and sector the segment 'Liquid' belongs to.\n",
    "- To understand this, we need to group the data based on more than one attribute.\n",
    "- We must first group the data based on sectors and then on categories within each sector, and then the segment within the category.\n",
    "- We can give the sequence of attributes by which we need to group the data as a list to `groupby()` function"
   ]
  },
  {
   "cell_type": "code",
   "execution_count": 72,
   "id": "f6bbc41d",
   "metadata": {
    "code_folding": []
   },
   "outputs": [
    {
     "data": {
      "text/html": [
       "<div>\n",
       "<style scoped>\n",
       "    .dataframe tbody tr th:only-of-type {\n",
       "        vertical-align: middle;\n",
       "    }\n",
       "\n",
       "    .dataframe tbody tr th {\n",
       "        vertical-align: top;\n",
       "    }\n",
       "\n",
       "    .dataframe thead th {\n",
       "        text-align: right;\n",
       "    }\n",
       "</style>\n",
       "<table border=\"1\" class=\"dataframe\">\n",
       "  <thead>\n",
       "    <tr style=\"text-align: right;\">\n",
       "      <th></th>\n",
       "      <th></th>\n",
       "      <th></th>\n",
       "      <th>Revenue($)</th>\n",
       "      <th>Units_sold</th>\n",
       "      <th>Page_traffic</th>\n",
       "    </tr>\n",
       "    <tr>\n",
       "      <th>Sector</th>\n",
       "      <th>Category</th>\n",
       "      <th>Segment</th>\n",
       "      <th></th>\n",
       "      <th></th>\n",
       "      <th></th>\n",
       "    </tr>\n",
       "  </thead>\n",
       "  <tbody>\n",
       "    <tr>\n",
       "      <th rowspan=\"5\" valign=\"top\">Beauty and Personal Care</th>\n",
       "      <th rowspan=\"2\" valign=\"top\">Haircare</th>\n",
       "      <th>Conditioners</th>\n",
       "      <td>14522060</td>\n",
       "      <td>715094</td>\n",
       "      <td>2075982</td>\n",
       "    </tr>\n",
       "    <tr>\n",
       "      <th>Shampoo</th>\n",
       "      <td>36657767</td>\n",
       "      <td>1784679</td>\n",
       "      <td>5196813</td>\n",
       "    </tr>\n",
       "    <tr>\n",
       "      <th rowspan=\"3\" valign=\"top\">Skincare</th>\n",
       "      <th>Acne</th>\n",
       "      <td>8030417</td>\n",
       "      <td>399199</td>\n",
       "      <td>1125542</td>\n",
       "    </tr>\n",
       "    <tr>\n",
       "      <th>Anti-aging</th>\n",
       "      <td>50130741</td>\n",
       "      <td>2460511</td>\n",
       "      <td>7138576</td>\n",
       "    </tr>\n",
       "    <tr>\n",
       "      <th>Suncreens</th>\n",
       "      <td>24393194</td>\n",
       "      <td>1158106</td>\n",
       "      <td>3394662</td>\n",
       "    </tr>\n",
       "    <tr>\n",
       "      <th rowspan=\"5\" valign=\"top\">Fabric Care</th>\n",
       "      <th rowspan=\"2\" valign=\"top\">Fabric Softeners</th>\n",
       "      <th>Dryer Sheets</th>\n",
       "      <td>15705592</td>\n",
       "      <td>760220</td>\n",
       "      <td>2248320</td>\n",
       "    </tr>\n",
       "    <tr>\n",
       "      <th>Liquid</th>\n",
       "      <td>61188916</td>\n",
       "      <td>2934686</td>\n",
       "      <td>8629916</td>\n",
       "    </tr>\n",
       "    <tr>\n",
       "      <th rowspan=\"3\" valign=\"top\">Laundry Detergents</th>\n",
       "      <th>Liquid</th>\n",
       "      <td>42347656</td>\n",
       "      <td>2074022</td>\n",
       "      <td>6116001</td>\n",
       "    </tr>\n",
       "    <tr>\n",
       "      <th>Pods</th>\n",
       "      <td>13619832</td>\n",
       "      <td>684884</td>\n",
       "      <td>1982919</td>\n",
       "    </tr>\n",
       "    <tr>\n",
       "      <th>Powder</th>\n",
       "      <td>87893932</td>\n",
       "      <td>4348675</td>\n",
       "      <td>12612937</td>\n",
       "    </tr>\n",
       "    <tr>\n",
       "      <th rowspan=\"9\" valign=\"top\">Oral Care</th>\n",
       "      <th rowspan=\"3\" valign=\"top\">Mouthwash</th>\n",
       "      <th>Alcohol-Free Mouthwash</th>\n",
       "      <td>6455108</td>\n",
       "      <td>309350</td>\n",
       "      <td>887083</td>\n",
       "    </tr>\n",
       "    <tr>\n",
       "      <th>Breath-Freshening Mouthwash</th>\n",
       "      <td>5615592</td>\n",
       "      <td>274774</td>\n",
       "      <td>825741</td>\n",
       "    </tr>\n",
       "    <tr>\n",
       "      <th>Fluoride Mouthwash</th>\n",
       "      <td>6378728</td>\n",
       "      <td>302813</td>\n",
       "      <td>919294</td>\n",
       "    </tr>\n",
       "    <tr>\n",
       "      <th rowspan=\"3\" valign=\"top\">Tooth Paste</th>\n",
       "      <th>Fluoride-Free Toothpaste</th>\n",
       "      <td>9316420</td>\n",
       "      <td>459912</td>\n",
       "      <td>1343900</td>\n",
       "    </tr>\n",
       "    <tr>\n",
       "      <th>Sensitivity Toothpaste</th>\n",
       "      <td>9170170</td>\n",
       "      <td>440378</td>\n",
       "      <td>1295139</td>\n",
       "    </tr>\n",
       "    <tr>\n",
       "      <th>Whitening Toothpaste</th>\n",
       "      <td>9408829</td>\n",
       "      <td>450845</td>\n",
       "      <td>1354734</td>\n",
       "    </tr>\n",
       "    <tr>\n",
       "      <th rowspan=\"3\" valign=\"top\">Toothbrushes</th>\n",
       "      <th>Electric Toothbrushes</th>\n",
       "      <td>15786214</td>\n",
       "      <td>764807</td>\n",
       "      <td>2266883</td>\n",
       "    </tr>\n",
       "    <tr>\n",
       "      <th>Kids Toothbrushes</th>\n",
       "      <td>14841313</td>\n",
       "      <td>723733</td>\n",
       "      <td>2102428</td>\n",
       "    </tr>\n",
       "    <tr>\n",
       "      <th>Manual Toothbrushes</th>\n",
       "      <td>15048718</td>\n",
       "      <td>738694</td>\n",
       "      <td>2211226</td>\n",
       "    </tr>\n",
       "  </tbody>\n",
       "</table>\n",
       "</div>"
      ],
      "text/plain": [
       "                                                                         Revenue($)  \\\n",
       "Sector                   Category           Segment                                   \n",
       "Beauty and Personal Care Haircare           Conditioners                   14522060   \n",
       "                                            Shampoo                        36657767   \n",
       "                         Skincare           Acne                            8030417   \n",
       "                                            Anti-aging                     50130741   \n",
       "                                            Suncreens                      24393194   \n",
       "Fabric Care              Fabric Softeners   Dryer Sheets                   15705592   \n",
       "                                            Liquid                         61188916   \n",
       "                         Laundry Detergents Liquid                         42347656   \n",
       "                                            Pods                           13619832   \n",
       "                                            Powder                         87893932   \n",
       "Oral Care                Mouthwash          Alcohol-Free Mouthwash          6455108   \n",
       "                                            Breath-Freshening Mouthwash     5615592   \n",
       "                                            Fluoride Mouthwash              6378728   \n",
       "                         Tooth Paste        Fluoride-Free Toothpaste        9316420   \n",
       "                                            Sensitivity Toothpaste          9170170   \n",
       "                                            Whitening Toothpaste            9408829   \n",
       "                         Toothbrushes       Electric Toothbrushes          15786214   \n",
       "                                            Kids Toothbrushes              14841313   \n",
       "                                            Manual Toothbrushes            15048718   \n",
       "\n",
       "                                                                         Units_sold  \\\n",
       "Sector                   Category           Segment                                   \n",
       "Beauty and Personal Care Haircare           Conditioners                     715094   \n",
       "                                            Shampoo                         1784679   \n",
       "                         Skincare           Acne                             399199   \n",
       "                                            Anti-aging                      2460511   \n",
       "                                            Suncreens                       1158106   \n",
       "Fabric Care              Fabric Softeners   Dryer Sheets                     760220   \n",
       "                                            Liquid                          2934686   \n",
       "                         Laundry Detergents Liquid                          2074022   \n",
       "                                            Pods                             684884   \n",
       "                                            Powder                          4348675   \n",
       "Oral Care                Mouthwash          Alcohol-Free Mouthwash           309350   \n",
       "                                            Breath-Freshening Mouthwash      274774   \n",
       "                                            Fluoride Mouthwash               302813   \n",
       "                         Tooth Paste        Fluoride-Free Toothpaste         459912   \n",
       "                                            Sensitivity Toothpaste           440378   \n",
       "                                            Whitening Toothpaste             450845   \n",
       "                         Toothbrushes       Electric Toothbrushes            764807   \n",
       "                                            Kids Toothbrushes                723733   \n",
       "                                            Manual Toothbrushes              738694   \n",
       "\n",
       "                                                                         Page_traffic  \n",
       "Sector                   Category           Segment                                    \n",
       "Beauty and Personal Care Haircare           Conditioners                      2075982  \n",
       "                                            Shampoo                           5196813  \n",
       "                         Skincare           Acne                              1125542  \n",
       "                                            Anti-aging                        7138576  \n",
       "                                            Suncreens                         3394662  \n",
       "Fabric Care              Fabric Softeners   Dryer Sheets                      2248320  \n",
       "                                            Liquid                            8629916  \n",
       "                         Laundry Detergents Liquid                            6116001  \n",
       "                                            Pods                              1982919  \n",
       "                                            Powder                           12612937  \n",
       "Oral Care                Mouthwash          Alcohol-Free Mouthwash             887083  \n",
       "                                            Breath-Freshening Mouthwash        825741  \n",
       "                                            Fluoride Mouthwash                 919294  \n",
       "                         Tooth Paste        Fluoride-Free Toothpaste          1343900  \n",
       "                                            Sensitivity Toothpaste            1295139  \n",
       "                                            Whitening Toothpaste              1354734  \n",
       "                         Toothbrushes       Electric Toothbrushes             2266883  \n",
       "                                            Kids Toothbrushes                 2102428  \n",
       "                                            Manual Toothbrushes               2211226  "
      ]
     },
     "execution_count": 72,
     "metadata": {},
     "output_type": "execute_result"
    }
   ],
   "source": [
    "# note the sequence of attributes within groupby\n",
    "df = pos_data.groupby(['Sector','Category', 'Segment']).sum(numeric_only=True).round(2)\n",
    "df            #the result is not yet sorted to show the best selling segment. "
   ]
  },
  {
   "cell_type": "code",
   "execution_count": 73,
   "id": "04463691",
   "metadata": {
    "code_folding": []
   },
   "outputs": [
    {
     "data": {
      "text/html": [
       "<div>\n",
       "<style scoped>\n",
       "    .dataframe tbody tr th:only-of-type {\n",
       "        vertical-align: middle;\n",
       "    }\n",
       "\n",
       "    .dataframe tbody tr th {\n",
       "        vertical-align: top;\n",
       "    }\n",
       "\n",
       "    .dataframe thead th {\n",
       "        text-align: right;\n",
       "    }\n",
       "</style>\n",
       "<table border=\"1\" class=\"dataframe\">\n",
       "  <thead>\n",
       "    <tr style=\"text-align: right;\">\n",
       "      <th></th>\n",
       "      <th></th>\n",
       "      <th></th>\n",
       "      <th>Revenue($)</th>\n",
       "    </tr>\n",
       "    <tr>\n",
       "      <th>Sector</th>\n",
       "      <th>Category</th>\n",
       "      <th>Segment</th>\n",
       "      <th></th>\n",
       "    </tr>\n",
       "  </thead>\n",
       "  <tbody>\n",
       "    <tr>\n",
       "      <th rowspan=\"5\" valign=\"top\">Beauty and Personal Care</th>\n",
       "      <th rowspan=\"2\" valign=\"top\">Haircare</th>\n",
       "      <th>Conditioners</th>\n",
       "      <td>14522060</td>\n",
       "    </tr>\n",
       "    <tr>\n",
       "      <th>Shampoo</th>\n",
       "      <td>36657767</td>\n",
       "    </tr>\n",
       "    <tr>\n",
       "      <th rowspan=\"3\" valign=\"top\">Skincare</th>\n",
       "      <th>Acne</th>\n",
       "      <td>8030417</td>\n",
       "    </tr>\n",
       "    <tr>\n",
       "      <th>Anti-aging</th>\n",
       "      <td>50130741</td>\n",
       "    </tr>\n",
       "    <tr>\n",
       "      <th>Suncreens</th>\n",
       "      <td>24393194</td>\n",
       "    </tr>\n",
       "    <tr>\n",
       "      <th rowspan=\"5\" valign=\"top\">Fabric Care</th>\n",
       "      <th rowspan=\"2\" valign=\"top\">Fabric Softeners</th>\n",
       "      <th>Dryer Sheets</th>\n",
       "      <td>15705592</td>\n",
       "    </tr>\n",
       "    <tr>\n",
       "      <th>Liquid</th>\n",
       "      <td>61188916</td>\n",
       "    </tr>\n",
       "    <tr>\n",
       "      <th rowspan=\"3\" valign=\"top\">Laundry Detergents</th>\n",
       "      <th>Liquid</th>\n",
       "      <td>42347656</td>\n",
       "    </tr>\n",
       "    <tr>\n",
       "      <th>Pods</th>\n",
       "      <td>13619832</td>\n",
       "    </tr>\n",
       "    <tr>\n",
       "      <th>Powder</th>\n",
       "      <td>87893932</td>\n",
       "    </tr>\n",
       "    <tr>\n",
       "      <th rowspan=\"9\" valign=\"top\">Oral Care</th>\n",
       "      <th rowspan=\"3\" valign=\"top\">Mouthwash</th>\n",
       "      <th>Alcohol-Free Mouthwash</th>\n",
       "      <td>6455108</td>\n",
       "    </tr>\n",
       "    <tr>\n",
       "      <th>Breath-Freshening Mouthwash</th>\n",
       "      <td>5615592</td>\n",
       "    </tr>\n",
       "    <tr>\n",
       "      <th>Fluoride Mouthwash</th>\n",
       "      <td>6378728</td>\n",
       "    </tr>\n",
       "    <tr>\n",
       "      <th rowspan=\"3\" valign=\"top\">Tooth Paste</th>\n",
       "      <th>Fluoride-Free Toothpaste</th>\n",
       "      <td>9316420</td>\n",
       "    </tr>\n",
       "    <tr>\n",
       "      <th>Sensitivity Toothpaste</th>\n",
       "      <td>9170170</td>\n",
       "    </tr>\n",
       "    <tr>\n",
       "      <th>Whitening Toothpaste</th>\n",
       "      <td>9408829</td>\n",
       "    </tr>\n",
       "    <tr>\n",
       "      <th rowspan=\"3\" valign=\"top\">Toothbrushes</th>\n",
       "      <th>Electric Toothbrushes</th>\n",
       "      <td>15786214</td>\n",
       "    </tr>\n",
       "    <tr>\n",
       "      <th>Kids Toothbrushes</th>\n",
       "      <td>14841313</td>\n",
       "    </tr>\n",
       "    <tr>\n",
       "      <th>Manual Toothbrushes</th>\n",
       "      <td>15048718</td>\n",
       "    </tr>\n",
       "  </tbody>\n",
       "</table>\n",
       "</div>"
      ],
      "text/plain": [
       "                                                                         Revenue($)\n",
       "Sector                   Category           Segment                                \n",
       "Beauty and Personal Care Haircare           Conditioners                   14522060\n",
       "                                            Shampoo                        36657767\n",
       "                         Skincare           Acne                            8030417\n",
       "                                            Anti-aging                     50130741\n",
       "                                            Suncreens                      24393194\n",
       "Fabric Care              Fabric Softeners   Dryer Sheets                   15705592\n",
       "                                            Liquid                         61188916\n",
       "                         Laundry Detergents Liquid                         42347656\n",
       "                                            Pods                           13619832\n",
       "                                            Powder                         87893932\n",
       "Oral Care                Mouthwash          Alcohol-Free Mouthwash          6455108\n",
       "                                            Breath-Freshening Mouthwash     5615592\n",
       "                                            Fluoride Mouthwash              6378728\n",
       "                         Tooth Paste        Fluoride-Free Toothpaste        9316420\n",
       "                                            Sensitivity Toothpaste          9170170\n",
       "                                            Whitening Toothpaste            9408829\n",
       "                         Toothbrushes       Electric Toothbrushes          15786214\n",
       "                                            Kids Toothbrushes              14841313\n",
       "                                            Manual Toothbrushes            15048718"
      ]
     },
     "execution_count": 73,
     "metadata": {},
     "output_type": "execute_result"
    }
   ],
   "source": [
    "# drop the unwanted attributes\n",
    "df=df.drop(['Units_sold', 'Page_traffic'], axis=1)\n",
    "df"
   ]
  },
  {
   "cell_type": "code",
   "execution_count": 74,
   "id": "c0ca2783",
   "metadata": {
    "code_folding": []
   },
   "outputs": [
    {
     "data": {
      "text/html": [
       "<div>\n",
       "<style scoped>\n",
       "    .dataframe tbody tr th:only-of-type {\n",
       "        vertical-align: middle;\n",
       "    }\n",
       "\n",
       "    .dataframe tbody tr th {\n",
       "        vertical-align: top;\n",
       "    }\n",
       "\n",
       "    .dataframe thead th {\n",
       "        text-align: right;\n",
       "    }\n",
       "</style>\n",
       "<table border=\"1\" class=\"dataframe\">\n",
       "  <thead>\n",
       "    <tr style=\"text-align: right;\">\n",
       "      <th></th>\n",
       "      <th></th>\n",
       "      <th></th>\n",
       "      <th>Revenue($)</th>\n",
       "    </tr>\n",
       "    <tr>\n",
       "      <th>Sector</th>\n",
       "      <th>Category</th>\n",
       "      <th>Segment</th>\n",
       "      <th></th>\n",
       "    </tr>\n",
       "  </thead>\n",
       "  <tbody>\n",
       "    <tr>\n",
       "      <th rowspan=\"2\" valign=\"top\">Fabric Care</th>\n",
       "      <th>Laundry Detergents</th>\n",
       "      <th>Powder</th>\n",
       "      <td>87893932</td>\n",
       "    </tr>\n",
       "    <tr>\n",
       "      <th>Fabric Softeners</th>\n",
       "      <th>Liquid</th>\n",
       "      <td>61188916</td>\n",
       "    </tr>\n",
       "    <tr>\n",
       "      <th>Beauty and Personal Care</th>\n",
       "      <th>Skincare</th>\n",
       "      <th>Anti-aging</th>\n",
       "      <td>50130741</td>\n",
       "    </tr>\n",
       "    <tr>\n",
       "      <th>Fabric Care</th>\n",
       "      <th>Laundry Detergents</th>\n",
       "      <th>Liquid</th>\n",
       "      <td>42347656</td>\n",
       "    </tr>\n",
       "    <tr>\n",
       "      <th rowspan=\"2\" valign=\"top\">Beauty and Personal Care</th>\n",
       "      <th>Haircare</th>\n",
       "      <th>Shampoo</th>\n",
       "      <td>36657767</td>\n",
       "    </tr>\n",
       "    <tr>\n",
       "      <th>Skincare</th>\n",
       "      <th>Suncreens</th>\n",
       "      <td>24393194</td>\n",
       "    </tr>\n",
       "    <tr>\n",
       "      <th>Oral Care</th>\n",
       "      <th>Toothbrushes</th>\n",
       "      <th>Electric Toothbrushes</th>\n",
       "      <td>15786214</td>\n",
       "    </tr>\n",
       "    <tr>\n",
       "      <th>Fabric Care</th>\n",
       "      <th>Fabric Softeners</th>\n",
       "      <th>Dryer Sheets</th>\n",
       "      <td>15705592</td>\n",
       "    </tr>\n",
       "    <tr>\n",
       "      <th rowspan=\"2\" valign=\"top\">Oral Care</th>\n",
       "      <th rowspan=\"2\" valign=\"top\">Toothbrushes</th>\n",
       "      <th>Manual Toothbrushes</th>\n",
       "      <td>15048718</td>\n",
       "    </tr>\n",
       "    <tr>\n",
       "      <th>Kids Toothbrushes</th>\n",
       "      <td>14841313</td>\n",
       "    </tr>\n",
       "    <tr>\n",
       "      <th>Beauty and Personal Care</th>\n",
       "      <th>Haircare</th>\n",
       "      <th>Conditioners</th>\n",
       "      <td>14522060</td>\n",
       "    </tr>\n",
       "    <tr>\n",
       "      <th>Fabric Care</th>\n",
       "      <th>Laundry Detergents</th>\n",
       "      <th>Pods</th>\n",
       "      <td>13619832</td>\n",
       "    </tr>\n",
       "    <tr>\n",
       "      <th rowspan=\"3\" valign=\"top\">Oral Care</th>\n",
       "      <th rowspan=\"3\" valign=\"top\">Tooth Paste</th>\n",
       "      <th>Whitening Toothpaste</th>\n",
       "      <td>9408829</td>\n",
       "    </tr>\n",
       "    <tr>\n",
       "      <th>Fluoride-Free Toothpaste</th>\n",
       "      <td>9316420</td>\n",
       "    </tr>\n",
       "    <tr>\n",
       "      <th>Sensitivity Toothpaste</th>\n",
       "      <td>9170170</td>\n",
       "    </tr>\n",
       "    <tr>\n",
       "      <th>Beauty and Personal Care</th>\n",
       "      <th>Skincare</th>\n",
       "      <th>Acne</th>\n",
       "      <td>8030417</td>\n",
       "    </tr>\n",
       "    <tr>\n",
       "      <th rowspan=\"3\" valign=\"top\">Oral Care</th>\n",
       "      <th rowspan=\"3\" valign=\"top\">Mouthwash</th>\n",
       "      <th>Alcohol-Free Mouthwash</th>\n",
       "      <td>6455108</td>\n",
       "    </tr>\n",
       "    <tr>\n",
       "      <th>Fluoride Mouthwash</th>\n",
       "      <td>6378728</td>\n",
       "    </tr>\n",
       "    <tr>\n",
       "      <th>Breath-Freshening Mouthwash</th>\n",
       "      <td>5615592</td>\n",
       "    </tr>\n",
       "  </tbody>\n",
       "</table>\n",
       "</div>"
      ],
      "text/plain": [
       "                                                                         Revenue($)\n",
       "Sector                   Category           Segment                                \n",
       "Fabric Care              Laundry Detergents Powder                         87893932\n",
       "                         Fabric Softeners   Liquid                         61188916\n",
       "Beauty and Personal Care Skincare           Anti-aging                     50130741\n",
       "Fabric Care              Laundry Detergents Liquid                         42347656\n",
       "Beauty and Personal Care Haircare           Shampoo                        36657767\n",
       "                         Skincare           Suncreens                      24393194\n",
       "Oral Care                Toothbrushes       Electric Toothbrushes          15786214\n",
       "Fabric Care              Fabric Softeners   Dryer Sheets                   15705592\n",
       "Oral Care                Toothbrushes       Manual Toothbrushes            15048718\n",
       "                                            Kids Toothbrushes              14841313\n",
       "Beauty and Personal Care Haircare           Conditioners                   14522060\n",
       "Fabric Care              Laundry Detergents Pods                           13619832\n",
       "Oral Care                Tooth Paste        Whitening Toothpaste            9408829\n",
       "                                            Fluoride-Free Toothpaste        9316420\n",
       "                                            Sensitivity Toothpaste          9170170\n",
       "Beauty and Personal Care Skincare           Acne                            8030417\n",
       "Oral Care                Mouthwash          Alcohol-Free Mouthwash          6455108\n",
       "                                            Fluoride Mouthwash              6378728\n",
       "                                            Breath-Freshening Mouthwash     5615592"
      ]
     },
     "execution_count": 74,
     "metadata": {},
     "output_type": "execute_result"
    }
   ],
   "source": [
    "# sort the data based on revenue\n",
    "df=df.sort_values(by=['Revenue($)'], ascending=False)\n",
    "df"
   ]
  },
  {
   "cell_type": "markdown",
   "id": "0f659c31",
   "metadata": {},
   "source": [
    "***Explanation:***\n",
    "- We can now see that powder, and not liquid, is the best selling segment\n",
    "- This is because, *Liquid* is a segment listed under two different categories viz. *Fabric Softeners* and *Laundry Detergents*\n",
    "- This result shows that as a data analyst, we should be cognizant to see the big picture by thinking beyond the boundaries.\n",
    "- Whenever there are hierarchical relationship between the attributes (like in this dataset, the hierarchy is Sector -> Category -> Segment -> Brand), we must use appropriate domain knowledge to infer the outcomes"
   ]
  },
  {
   "cell_type": "markdown",
   "id": "a14853e1",
   "metadata": {},
   "source": [
    "#### How many units were sold per category within each sector?\n",
    "- We must first group the data based on sectors and then on categories within each sector.\n",
    "- We can give the sequence of attributes by which we need to group the data as a list to *groupby()* function"
   ]
  },
  {
   "cell_type": "code",
   "execution_count": 75,
   "id": "43b7b8e2",
   "metadata": {
    "code_folding": []
   },
   "outputs": [
    {
     "data": {
      "text/html": [
       "<div>\n",
       "<style scoped>\n",
       "    .dataframe tbody tr th:only-of-type {\n",
       "        vertical-align: middle;\n",
       "    }\n",
       "\n",
       "    .dataframe tbody tr th {\n",
       "        vertical-align: top;\n",
       "    }\n",
       "\n",
       "    .dataframe thead th {\n",
       "        text-align: right;\n",
       "    }\n",
       "</style>\n",
       "<table border=\"1\" class=\"dataframe\">\n",
       "  <thead>\n",
       "    <tr style=\"text-align: right;\">\n",
       "      <th></th>\n",
       "      <th></th>\n",
       "      <th>Revenue($)</th>\n",
       "      <th>Units_sold</th>\n",
       "      <th>Page_traffic</th>\n",
       "    </tr>\n",
       "    <tr>\n",
       "      <th>Sector</th>\n",
       "      <th>Category</th>\n",
       "      <th></th>\n",
       "      <th></th>\n",
       "      <th></th>\n",
       "    </tr>\n",
       "  </thead>\n",
       "  <tbody>\n",
       "    <tr>\n",
       "      <th rowspan=\"2\" valign=\"top\">Beauty and Personal Care</th>\n",
       "      <th>Haircare</th>\n",
       "      <td>51179827</td>\n",
       "      <td>2499773</td>\n",
       "      <td>7272795</td>\n",
       "    </tr>\n",
       "    <tr>\n",
       "      <th>Skincare</th>\n",
       "      <td>82554352</td>\n",
       "      <td>4017816</td>\n",
       "      <td>11658780</td>\n",
       "    </tr>\n",
       "    <tr>\n",
       "      <th rowspan=\"2\" valign=\"top\">Fabric Care</th>\n",
       "      <th>Fabric Softeners</th>\n",
       "      <td>76894508</td>\n",
       "      <td>3694906</td>\n",
       "      <td>10878236</td>\n",
       "    </tr>\n",
       "    <tr>\n",
       "      <th>Laundry Detergents</th>\n",
       "      <td>143861420</td>\n",
       "      <td>7107581</td>\n",
       "      <td>20711857</td>\n",
       "    </tr>\n",
       "    <tr>\n",
       "      <th rowspan=\"3\" valign=\"top\">Oral Care</th>\n",
       "      <th>Mouthwash</th>\n",
       "      <td>18449428</td>\n",
       "      <td>886937</td>\n",
       "      <td>2632118</td>\n",
       "    </tr>\n",
       "    <tr>\n",
       "      <th>Tooth Paste</th>\n",
       "      <td>27895419</td>\n",
       "      <td>1351135</td>\n",
       "      <td>3993773</td>\n",
       "    </tr>\n",
       "    <tr>\n",
       "      <th>Toothbrushes</th>\n",
       "      <td>45676245</td>\n",
       "      <td>2227234</td>\n",
       "      <td>6580537</td>\n",
       "    </tr>\n",
       "  </tbody>\n",
       "</table>\n",
       "</div>"
      ],
      "text/plain": [
       "                                             Revenue($)  Units_sold  \\\n",
       "Sector                   Category                                     \n",
       "Beauty and Personal Care Haircare              51179827     2499773   \n",
       "                         Skincare              82554352     4017816   \n",
       "Fabric Care              Fabric Softeners      76894508     3694906   \n",
       "                         Laundry Detergents   143861420     7107581   \n",
       "Oral Care                Mouthwash             18449428      886937   \n",
       "                         Tooth Paste           27895419     1351135   \n",
       "                         Toothbrushes          45676245     2227234   \n",
       "\n",
       "                                             Page_traffic  \n",
       "Sector                   Category                          \n",
       "Beauty and Personal Care Haircare                 7272795  \n",
       "                         Skincare                11658780  \n",
       "Fabric Care              Fabric Softeners        10878236  \n",
       "                         Laundry Detergents      20711857  \n",
       "Oral Care                Mouthwash                2632118  \n",
       "                         Tooth Paste              3993773  \n",
       "                         Toothbrushes             6580537  "
      ]
     },
     "execution_count": 75,
     "metadata": {},
     "output_type": "execute_result"
    }
   ],
   "source": [
    "# note that the order of sequence in the list is important\n",
    "\n",
    "Units_perCat_perSect =pos_data.groupby(['Sector','Category']).sum(numeric_only=True).round(2)\n",
    "Units_perCat_perSect"
   ]
  },
  {
   "cell_type": "code",
   "execution_count": 76,
   "id": "abe72fd6",
   "metadata": {
    "code_folding": []
   },
   "outputs": [
    {
     "data": {
      "text/html": [
       "<div>\n",
       "<style scoped>\n",
       "    .dataframe tbody tr th:only-of-type {\n",
       "        vertical-align: middle;\n",
       "    }\n",
       "\n",
       "    .dataframe tbody tr th {\n",
       "        vertical-align: top;\n",
       "    }\n",
       "\n",
       "    .dataframe thead th {\n",
       "        text-align: right;\n",
       "    }\n",
       "</style>\n",
       "<table border=\"1\" class=\"dataframe\">\n",
       "  <thead>\n",
       "    <tr style=\"text-align: right;\">\n",
       "      <th></th>\n",
       "      <th></th>\n",
       "      <th>Units_sold</th>\n",
       "    </tr>\n",
       "    <tr>\n",
       "      <th>Sector</th>\n",
       "      <th>Category</th>\n",
       "      <th></th>\n",
       "    </tr>\n",
       "  </thead>\n",
       "  <tbody>\n",
       "    <tr>\n",
       "      <th rowspan=\"2\" valign=\"top\">Beauty and Personal Care</th>\n",
       "      <th>Haircare</th>\n",
       "      <td>2499773</td>\n",
       "    </tr>\n",
       "    <tr>\n",
       "      <th>Skincare</th>\n",
       "      <td>4017816</td>\n",
       "    </tr>\n",
       "    <tr>\n",
       "      <th rowspan=\"2\" valign=\"top\">Fabric Care</th>\n",
       "      <th>Fabric Softeners</th>\n",
       "      <td>3694906</td>\n",
       "    </tr>\n",
       "    <tr>\n",
       "      <th>Laundry Detergents</th>\n",
       "      <td>7107581</td>\n",
       "    </tr>\n",
       "    <tr>\n",
       "      <th rowspan=\"3\" valign=\"top\">Oral Care</th>\n",
       "      <th>Mouthwash</th>\n",
       "      <td>886937</td>\n",
       "    </tr>\n",
       "    <tr>\n",
       "      <th>Tooth Paste</th>\n",
       "      <td>1351135</td>\n",
       "    </tr>\n",
       "    <tr>\n",
       "      <th>Toothbrushes</th>\n",
       "      <td>2227234</td>\n",
       "    </tr>\n",
       "  </tbody>\n",
       "</table>\n",
       "</div>"
      ],
      "text/plain": [
       "                                             Units_sold\n",
       "Sector                   Category                      \n",
       "Beauty and Personal Care Haircare               2499773\n",
       "                         Skincare               4017816\n",
       "Fabric Care              Fabric Softeners       3694906\n",
       "                         Laundry Detergents     7107581\n",
       "Oral Care                Mouthwash               886937\n",
       "                         Tooth Paste            1351135\n",
       "                         Toothbrushes           2227234"
      ]
     },
     "execution_count": 76,
     "metadata": {},
     "output_type": "execute_result"
    }
   ],
   "source": [
    "# As we are interested only in number of units sold, let us drop the other two columns\n",
    "Units_perCat_perSect=Units_perCat_perSect.drop(['Revenue($)', 'Page_traffic'], axis=1)\n",
    "Units_perCat_perSect"
   ]
  },
  {
   "cell_type": "markdown",
   "id": "f2164df3",
   "metadata": {},
   "source": [
    "#### What percentage of units are sold per category within each sector?\n",
    "- To answer this, let us use the result of the previous question, i.e. the dataframe *Units_perCat_perSect*\n"
   ]
  },
  {
   "cell_type": "code",
   "execution_count": 78,
   "id": "6998719c",
   "metadata": {
    "code_folding": []
   },
   "outputs": [
    {
     "data": {
      "text/html": [
       "<div>\n",
       "<style scoped>\n",
       "    .dataframe tbody tr th:only-of-type {\n",
       "        vertical-align: middle;\n",
       "    }\n",
       "\n",
       "    .dataframe tbody tr th {\n",
       "        vertical-align: top;\n",
       "    }\n",
       "\n",
       "    .dataframe thead th {\n",
       "        text-align: right;\n",
       "    }\n",
       "</style>\n",
       "<table border=\"1\" class=\"dataframe\">\n",
       "  <thead>\n",
       "    <tr style=\"text-align: right;\">\n",
       "      <th></th>\n",
       "      <th></th>\n",
       "      <th>Units_sold</th>\n",
       "      <th>% of Units</th>\n",
       "    </tr>\n",
       "    <tr>\n",
       "      <th>Sector</th>\n",
       "      <th>Category</th>\n",
       "      <th></th>\n",
       "      <th></th>\n",
       "    </tr>\n",
       "  </thead>\n",
       "  <tbody>\n",
       "    <tr>\n",
       "      <th rowspan=\"2\" valign=\"top\">Beauty and Personal Care</th>\n",
       "      <th>Haircare</th>\n",
       "      <td>2499773</td>\n",
       "      <td>38.35</td>\n",
       "    </tr>\n",
       "    <tr>\n",
       "      <th>Skincare</th>\n",
       "      <td>4017816</td>\n",
       "      <td>61.65</td>\n",
       "    </tr>\n",
       "    <tr>\n",
       "      <th rowspan=\"2\" valign=\"top\">Fabric Care</th>\n",
       "      <th>Fabric Softeners</th>\n",
       "      <td>3694906</td>\n",
       "      <td>34.20</td>\n",
       "    </tr>\n",
       "    <tr>\n",
       "      <th>Laundry Detergents</th>\n",
       "      <td>7107581</td>\n",
       "      <td>65.80</td>\n",
       "    </tr>\n",
       "    <tr>\n",
       "      <th rowspan=\"3\" valign=\"top\">Oral Care</th>\n",
       "      <th>Mouthwash</th>\n",
       "      <td>886937</td>\n",
       "      <td>19.86</td>\n",
       "    </tr>\n",
       "    <tr>\n",
       "      <th>Tooth Paste</th>\n",
       "      <td>1351135</td>\n",
       "      <td>30.26</td>\n",
       "    </tr>\n",
       "    <tr>\n",
       "      <th>Toothbrushes</th>\n",
       "      <td>2227234</td>\n",
       "      <td>49.88</td>\n",
       "    </tr>\n",
       "  </tbody>\n",
       "</table>\n",
       "</div>"
      ],
      "text/plain": [
       "                                             Units_sold  % of Units\n",
       "Sector                   Category                                  \n",
       "Beauty and Personal Care Haircare               2499773       38.35\n",
       "                         Skincare               4017816       61.65\n",
       "Fabric Care              Fabric Softeners       3694906       34.20\n",
       "                         Laundry Detergents     7107581       65.80\n",
       "Oral Care                Mouthwash               886937       19.86\n",
       "                         Tooth Paste            1351135       30.26\n",
       "                         Toothbrushes           2227234       49.88"
      ]
     },
     "execution_count": 78,
     "metadata": {},
     "output_type": "execute_result"
    }
   ],
   "source": [
    "# as the code is long, a line-breaker \\ is used\n",
    "# Python will understand that the statments in the next line after \\ is a continuation of the previous code line\n",
    "\n",
    "Units_perCat_perSect['% of Units'] = (100 * Units_perCat_perSect['Units_sold'] / \\\n",
    "                                      Units_perCat_perSect.groupby('Sector')['Units_sold'].transform('sum')).round(2)\n",
    "Units_perCat_perSect"
   ]
  },
  {
   "cell_type": "markdown",
   "id": "08cf5703",
   "metadata": {},
   "source": [
    "**Sometimes, we may need to present the data in a different shape. That is the column headers should be the values of some attribute. In such cases, we can use the `pivot_table()` method.**"
   ]
  },
  {
   "cell_type": "code",
   "execution_count": 79,
   "id": "f5cb23cf",
   "metadata": {
    "code_folding": []
   },
   "outputs": [
    {
     "data": {
      "text/html": [
       "<div>\n",
       "<style scoped>\n",
       "    .dataframe tbody tr th:only-of-type {\n",
       "        vertical-align: middle;\n",
       "    }\n",
       "\n",
       "    .dataframe tbody tr th {\n",
       "        vertical-align: top;\n",
       "    }\n",
       "\n",
       "    .dataframe thead th {\n",
       "        text-align: right;\n",
       "    }\n",
       "</style>\n",
       "<table border=\"1\" class=\"dataframe\">\n",
       "  <thead>\n",
       "    <tr style=\"text-align: right;\">\n",
       "      <th>Sector</th>\n",
       "      <th>Beauty and Personal Care</th>\n",
       "      <th>Fabric Care</th>\n",
       "      <th>Oral Care</th>\n",
       "    </tr>\n",
       "  </thead>\n",
       "  <tbody>\n",
       "    <tr>\n",
       "      <th>Page_traffic</th>\n",
       "      <td>2046.66</td>\n",
       "      <td>2043.87</td>\n",
       "      <td>2079.42</td>\n",
       "    </tr>\n",
       "    <tr>\n",
       "      <th>Revenue($)</th>\n",
       "      <td>14457.75</td>\n",
       "      <td>14282.86</td>\n",
       "      <td>14489.23</td>\n",
       "    </tr>\n",
       "    <tr>\n",
       "      <th>Units_sold</th>\n",
       "      <td>704.60</td>\n",
       "      <td>698.92</td>\n",
       "      <td>703.09</td>\n",
       "    </tr>\n",
       "  </tbody>\n",
       "</table>\n",
       "</div>"
      ],
      "text/plain": [
       "Sector        Beauty and Personal Care  Fabric Care  Oral Care\n",
       "Page_traffic                   2046.66      2043.87    2079.42\n",
       "Revenue($)                    14457.75     14282.86   14489.23\n",
       "Units_sold                      704.60       698.92     703.09"
      ]
     },
     "execution_count": 79,
     "metadata": {},
     "output_type": "execute_result"
    }
   ],
   "source": [
    "import numpy as np\n",
    "df =pd.pivot_table(pos_data,columns='Sector',values=['Revenue($)','Units_sold', 'Page_traffic'],\\\n",
    "                   aggfunc=np.mean).round(2)\n",
    "df"
   ]
  },
  {
   "cell_type": "markdown",
   "id": "ebca4ee4",
   "metadata": {},
   "source": [
    "***Explanation:***\n",
    "- In the above code, we have imported a package called *numpy* indicating Numerical Python.\n",
    "- Numpy is a package in Python, which provides various functionalities related to linear alegebra, vectors etc.\n",
    "- Some of the pandas functions use numpy methods as an argument value, as the one used above."
   ]
  },
  {
   "cell_type": "code",
   "execution_count": null,
   "id": "39c23b8b",
   "metadata": {},
   "outputs": [],
   "source": []
  },
  {
   "cell_type": "code",
   "execution_count": null,
   "id": "c96addce",
   "metadata": {},
   "outputs": [],
   "source": []
  }
 ],
 "metadata": {
  "kernelspec": {
   "display_name": "Python 3 (ipykernel)",
   "language": "python",
   "name": "python3"
  },
  "language_info": {
   "codemirror_mode": {
    "name": "ipython",
    "version": 3
   },
   "file_extension": ".py",
   "mimetype": "text/x-python",
   "name": "python",
   "nbconvert_exporter": "python",
   "pygments_lexer": "ipython3",
   "version": "3.9.13"
  }
 },
 "nbformat": 4,
 "nbformat_minor": 5
}
