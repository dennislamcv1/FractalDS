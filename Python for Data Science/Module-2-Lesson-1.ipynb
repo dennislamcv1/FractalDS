{
 "cells": [
  {
   "cell_type": "markdown",
   "id": "090d6cf6",
   "metadata": {
    "hideCode": false,
    "hideOutput": false,
    "hidePrompt": false,
    "hide_input": false
   },
   "source": [
    "## Module 2: Data wrangling with Python"
   ]
  },
  {
   "cell_type": "markdown",
   "id": "8095674f",
   "metadata": {},
   "source": [
    "### Lesson 1: Getting started with a data set"
   ]
  },
  {
   "cell_type": "markdown",
   "id": "ebf1b981",
   "metadata": {
    "hideCode": false
   },
   "source": [
    "### Part 2.1.1  : Diving into csv data"
   ]
  },
  {
   "cell_type": "markdown",
   "id": "3a6e6262",
   "metadata": {
    "hide_input": false
   },
   "source": [
    "##### Introduction to Pandas\n",
    "- Pandas is an open-source Python library providing high-performance data manipulation and analysis tools. \n",
    "- The name Pandas is derived from the word Panel Data – an econometrics term for multidimensional data.\n",
    "- Using Pandas, we can accomplish the five typical steps in the processing and analysis of data, regardless of the origin of data — load, prepare, manipulate, model, and analyze.\n",
    "\n",
    "##### Key features of Pandas\n",
    "- Fast and efficient DataFrame object with default and customized indexing.\n",
    "- Tools for loading data into in-memory data objects from different file formats.\n",
    "- Data alignment and integrated handling of missing data.\n",
    "- Reshaping and pivoting of data sets.\n",
    "- Label-based slicing, indexing and subsetting of large data sets.\n",
    "- Columns from a data structure can be deleted or inserted.\n",
    "- Group by data for aggregation and transformations.\n",
    "- High performance merging and joining of data.\n",
    "- Time Series functionality.\n",
    "\n",
    "##### Data structures in Pandas\n",
    "- Series: one dimensional\n",
    "- Data frame: 2 dimensional\n",
    "- Panel: 3 dimension and more"
   ]
  },
  {
   "cell_type": "code",
   "execution_count": 1,
   "id": "0064b7a0",
   "metadata": {
    "code_folding": [],
    "hideCode": false,
    "hide_input": false
   },
   "outputs": [],
   "source": [
    "# Import the required packages\n",
    "import pandas as pd"
   ]
  },
  {
   "cell_type": "markdown",
   "id": "b3bfd1a9",
   "metadata": {
    "hideCode": false
   },
   "source": [
    "### Pandas comes with several built-in methods to read multiple types of data like Excel, CSV, JSON, HTML etc."
   ]
  },
  {
   "cell_type": "code",
   "execution_count": 2,
   "id": "0f7ed6f3",
   "metadata": {
    "code_folding": [],
    "hideCode": false,
    "hide_input": false
   },
   "outputs": [],
   "source": [
    "#read the data file\n",
    "pos_data = pd.read_csv('POS_Data.csv')"
   ]
  },
  {
   "cell_type": "code",
   "execution_count": 3,
   "id": "63cef0fc",
   "metadata": {
    "code_folding": [],
    "hideCode": false,
    "hide_input": false
   },
   "outputs": [
    {
     "data": {
      "text/html": [
       "<div>\n",
       "<style scoped>\n",
       "    .dataframe tbody tr th:only-of-type {\n",
       "        vertical-align: middle;\n",
       "    }\n",
       "\n",
       "    .dataframe tbody tr th {\n",
       "        vertical-align: top;\n",
       "    }\n",
       "\n",
       "    .dataframe thead th {\n",
       "        text-align: right;\n",
       "    }\n",
       "</style>\n",
       "<table border=\"1\" class=\"dataframe\">\n",
       "  <thead>\n",
       "    <tr style=\"text-align: right;\">\n",
       "      <th></th>\n",
       "      <th>SKU ID</th>\n",
       "      <th>Date</th>\n",
       "      <th>Manufacturer</th>\n",
       "      <th>Sector</th>\n",
       "      <th>Category</th>\n",
       "      <th>Segment</th>\n",
       "      <th>Brand</th>\n",
       "      <th>Revenue($)</th>\n",
       "      <th>Unit_price</th>\n",
       "      <th>Units_sold</th>\n",
       "      <th>Page_traffic</th>\n",
       "    </tr>\n",
       "  </thead>\n",
       "  <tbody>\n",
       "    <tr>\n",
       "      <th>0</th>\n",
       "      <td>SKU1029</td>\n",
       "      <td>05-01-21</td>\n",
       "      <td>Synergix solutions</td>\n",
       "      <td>Oral Care</td>\n",
       "      <td>Toothpaste</td>\n",
       "      <td>Whitening Toothpaste</td>\n",
       "      <td>Close-up</td>\n",
       "      <td>0</td>\n",
       "      <td>NaN</td>\n",
       "      <td>0</td>\n",
       "      <td>0.0</td>\n",
       "    </tr>\n",
       "    <tr>\n",
       "      <th>1</th>\n",
       "      <td>SKU1054</td>\n",
       "      <td>05-08-21</td>\n",
       "      <td>Synergix solutions</td>\n",
       "      <td>Oral Care</td>\n",
       "      <td>Toothpaste</td>\n",
       "      <td>Fluoride-Free Toothpaste</td>\n",
       "      <td>Tom's of Maine</td>\n",
       "      <td>0</td>\n",
       "      <td>NaN</td>\n",
       "      <td>0</td>\n",
       "      <td>0.0</td>\n",
       "    </tr>\n",
       "    <tr>\n",
       "      <th>2</th>\n",
       "      <td>SKU1068</td>\n",
       "      <td>01-08-22</td>\n",
       "      <td>Synergix solutions</td>\n",
       "      <td>Oral Care</td>\n",
       "      <td>Toothpaste</td>\n",
       "      <td>Fluoride-Free Toothpaste</td>\n",
       "      <td>Himalaya Herbals</td>\n",
       "      <td>0</td>\n",
       "      <td>NaN</td>\n",
       "      <td>0</td>\n",
       "      <td>0.0</td>\n",
       "    </tr>\n",
       "    <tr>\n",
       "      <th>3</th>\n",
       "      <td>SKU1056</td>\n",
       "      <td>11-05-22</td>\n",
       "      <td>Synergix solutions</td>\n",
       "      <td>Oral Care</td>\n",
       "      <td>Toothpaste</td>\n",
       "      <td>Fluoride-Free Toothpaste</td>\n",
       "      <td>Tom's of Maine</td>\n",
       "      <td>0</td>\n",
       "      <td>NaN</td>\n",
       "      <td>0</td>\n",
       "      <td>0.0</td>\n",
       "    </tr>\n",
       "    <tr>\n",
       "      <th>4</th>\n",
       "      <td>SKU1061</td>\n",
       "      <td>12-10-22</td>\n",
       "      <td>Synergix solutions</td>\n",
       "      <td>Oral Care</td>\n",
       "      <td>Toothpaste</td>\n",
       "      <td>Fluoride-Free Toothpaste</td>\n",
       "      <td>Himalaya Herbals</td>\n",
       "      <td>0</td>\n",
       "      <td>NaN</td>\n",
       "      <td>0</td>\n",
       "      <td>0.0</td>\n",
       "    </tr>\n",
       "  </tbody>\n",
       "</table>\n",
       "</div>"
      ],
      "text/plain": [
       "    SKU ID      Date         Manufacturer     Sector    Category  \\\n",
       "0  SKU1029  05-01-21  Synergix solutions   Oral Care  Toothpaste   \n",
       "1  SKU1054  05-08-21  Synergix solutions   Oral Care  Toothpaste   \n",
       "2  SKU1068  01-08-22  Synergix solutions   Oral Care  Toothpaste   \n",
       "3  SKU1056  11-05-22  Synergix solutions   Oral Care  Toothpaste   \n",
       "4  SKU1061  12-10-22  Synergix solutions   Oral Care  Toothpaste   \n",
       "\n",
       "                    Segment             Brand  Revenue($)  Unit_price  \\\n",
       "0      Whitening Toothpaste          Close-up           0         NaN   \n",
       "1  Fluoride-Free Toothpaste    Tom's of Maine           0         NaN   \n",
       "2  Fluoride-Free Toothpaste  Himalaya Herbals           0         NaN   \n",
       "3  Fluoride-Free Toothpaste    Tom's of Maine           0         NaN   \n",
       "4  Fluoride-Free Toothpaste  Himalaya Herbals           0         NaN   \n",
       "\n",
       "   Units_sold  Page_traffic  \n",
       "0           0           0.0  \n",
       "1           0           0.0  \n",
       "2           0           0.0  \n",
       "3           0           0.0  \n",
       "4           0           0.0  "
      ]
     },
     "execution_count": 3,
     "metadata": {},
     "output_type": "execute_result"
    }
   ],
   "source": [
    "# display top few records\n",
    "pos_data.head()"
   ]
  },
  {
   "cell_type": "code",
   "execution_count": 4,
   "id": "66825a1e",
   "metadata": {
    "code_folding": []
   },
   "outputs": [
    {
     "data": {
      "text/html": [
       "<div>\n",
       "<style scoped>\n",
       "    .dataframe tbody tr th:only-of-type {\n",
       "        vertical-align: middle;\n",
       "    }\n",
       "\n",
       "    .dataframe tbody tr th {\n",
       "        vertical-align: top;\n",
       "    }\n",
       "\n",
       "    .dataframe thead th {\n",
       "        text-align: right;\n",
       "    }\n",
       "</style>\n",
       "<table border=\"1\" class=\"dataframe\">\n",
       "  <thead>\n",
       "    <tr style=\"text-align: right;\">\n",
       "      <th></th>\n",
       "      <th>SKU ID</th>\n",
       "      <th>Date</th>\n",
       "      <th>Manufacturer</th>\n",
       "      <th>Sector</th>\n",
       "      <th>Category</th>\n",
       "      <th>Segment</th>\n",
       "      <th>Brand</th>\n",
       "      <th>Revenue($)</th>\n",
       "      <th>Unit_price</th>\n",
       "      <th>Units_sold</th>\n",
       "      <th>Page_traffic</th>\n",
       "    </tr>\n",
       "  </thead>\n",
       "  <tbody>\n",
       "    <tr>\n",
       "      <th>0</th>\n",
       "      <td>SKU1029</td>\n",
       "      <td>05-01-21</td>\n",
       "      <td>Synergix solutions</td>\n",
       "      <td>Oral Care</td>\n",
       "      <td>Toothpaste</td>\n",
       "      <td>Whitening Toothpaste</td>\n",
       "      <td>Close-up</td>\n",
       "      <td>0</td>\n",
       "      <td>NaN</td>\n",
       "      <td>0</td>\n",
       "      <td>0.0</td>\n",
       "    </tr>\n",
       "    <tr>\n",
       "      <th>1</th>\n",
       "      <td>SKU1054</td>\n",
       "      <td>05-08-21</td>\n",
       "      <td>Synergix solutions</td>\n",
       "      <td>Oral Care</td>\n",
       "      <td>Toothpaste</td>\n",
       "      <td>Fluoride-Free Toothpaste</td>\n",
       "      <td>Tom's of Maine</td>\n",
       "      <td>0</td>\n",
       "      <td>NaN</td>\n",
       "      <td>0</td>\n",
       "      <td>0.0</td>\n",
       "    </tr>\n",
       "    <tr>\n",
       "      <th>2</th>\n",
       "      <td>SKU1068</td>\n",
       "      <td>01-08-22</td>\n",
       "      <td>Synergix solutions</td>\n",
       "      <td>Oral Care</td>\n",
       "      <td>Toothpaste</td>\n",
       "      <td>Fluoride-Free Toothpaste</td>\n",
       "      <td>Himalaya Herbals</td>\n",
       "      <td>0</td>\n",
       "      <td>NaN</td>\n",
       "      <td>0</td>\n",
       "      <td>0.0</td>\n",
       "    </tr>\n",
       "    <tr>\n",
       "      <th>3</th>\n",
       "      <td>SKU1056</td>\n",
       "      <td>11-05-22</td>\n",
       "      <td>Synergix solutions</td>\n",
       "      <td>Oral Care</td>\n",
       "      <td>Toothpaste</td>\n",
       "      <td>Fluoride-Free Toothpaste</td>\n",
       "      <td>Tom's of Maine</td>\n",
       "      <td>0</td>\n",
       "      <td>NaN</td>\n",
       "      <td>0</td>\n",
       "      <td>0.0</td>\n",
       "    </tr>\n",
       "    <tr>\n",
       "      <th>4</th>\n",
       "      <td>SKU1061</td>\n",
       "      <td>12-10-22</td>\n",
       "      <td>Synergix solutions</td>\n",
       "      <td>Oral Care</td>\n",
       "      <td>Toothpaste</td>\n",
       "      <td>Fluoride-Free Toothpaste</td>\n",
       "      <td>Himalaya Herbals</td>\n",
       "      <td>0</td>\n",
       "      <td>NaN</td>\n",
       "      <td>0</td>\n",
       "      <td>0.0</td>\n",
       "    </tr>\n",
       "    <tr>\n",
       "      <th>5</th>\n",
       "      <td>SKU1019</td>\n",
       "      <td>3/20/2021</td>\n",
       "      <td>Synergix solutions</td>\n",
       "      <td>Oral Care</td>\n",
       "      <td>Toothpaste</td>\n",
       "      <td>Whitening Toothpaste</td>\n",
       "      <td>Colgate</td>\n",
       "      <td>8239</td>\n",
       "      <td>9.535880</td>\n",
       "      <td>864</td>\n",
       "      <td>3543.0</td>\n",
       "    </tr>\n",
       "    <tr>\n",
       "      <th>6</th>\n",
       "      <td>SKU1021</td>\n",
       "      <td>04-09-22</td>\n",
       "      <td>Synergix solutions</td>\n",
       "      <td>Oral Care</td>\n",
       "      <td>Toothpaste</td>\n",
       "      <td>Whitening Toothpaste</td>\n",
       "      <td>Close-up</td>\n",
       "      <td>25243</td>\n",
       "      <td>16.684071</td>\n",
       "      <td>1513</td>\n",
       "      <td>5639.0</td>\n",
       "    </tr>\n",
       "    <tr>\n",
       "      <th>7</th>\n",
       "      <td>SKU1044</td>\n",
       "      <td>4/23/2022</td>\n",
       "      <td>Synergix solutions</td>\n",
       "      <td>Oral Care</td>\n",
       "      <td>Toothpaste</td>\n",
       "      <td>Sensitivity Toothpaste</td>\n",
       "      <td>Sensodyne</td>\n",
       "      <td>24707</td>\n",
       "      <td>16.373095</td>\n",
       "      <td>1509</td>\n",
       "      <td>5161.0</td>\n",
       "    </tr>\n",
       "  </tbody>\n",
       "</table>\n",
       "</div>"
      ],
      "text/plain": [
       "    SKU ID       Date         Manufacturer     Sector    Category  \\\n",
       "0  SKU1029   05-01-21  Synergix solutions   Oral Care  Toothpaste   \n",
       "1  SKU1054   05-08-21  Synergix solutions   Oral Care  Toothpaste   \n",
       "2  SKU1068   01-08-22  Synergix solutions   Oral Care  Toothpaste   \n",
       "3  SKU1056   11-05-22  Synergix solutions   Oral Care  Toothpaste   \n",
       "4  SKU1061   12-10-22  Synergix solutions   Oral Care  Toothpaste   \n",
       "5  SKU1019  3/20/2021  Synergix solutions   Oral Care  Toothpaste   \n",
       "6  SKU1021   04-09-22  Synergix solutions   Oral Care  Toothpaste   \n",
       "7  SKU1044  4/23/2022  Synergix solutions   Oral Care  Toothpaste   \n",
       "\n",
       "                    Segment             Brand  Revenue($)  Unit_price  \\\n",
       "0      Whitening Toothpaste          Close-up           0         NaN   \n",
       "1  Fluoride-Free Toothpaste    Tom's of Maine           0         NaN   \n",
       "2  Fluoride-Free Toothpaste  Himalaya Herbals           0         NaN   \n",
       "3  Fluoride-Free Toothpaste    Tom's of Maine           0         NaN   \n",
       "4  Fluoride-Free Toothpaste  Himalaya Herbals           0         NaN   \n",
       "5      Whitening Toothpaste           Colgate        8239    9.535880   \n",
       "6      Whitening Toothpaste          Close-up       25243   16.684071   \n",
       "7    Sensitivity Toothpaste         Sensodyne       24707   16.373095   \n",
       "\n",
       "   Units_sold  Page_traffic  \n",
       "0           0           0.0  \n",
       "1           0           0.0  \n",
       "2           0           0.0  \n",
       "3           0           0.0  \n",
       "4           0           0.0  \n",
       "5         864        3543.0  \n",
       "6        1513        5639.0  \n",
       "7        1509        5161.0  "
      ]
     },
     "execution_count": 4,
     "metadata": {},
     "output_type": "execute_result"
    }
   ],
   "source": [
    "# display top 8 records\n",
    "pos_data.head(8)"
   ]
  },
  {
   "cell_type": "code",
   "execution_count": 5,
   "id": "8f40c0db",
   "metadata": {
    "code_folding": [],
    "hideCode": false,
    "hide_input": false
   },
   "outputs": [
    {
     "data": {
      "text/html": [
       "<div>\n",
       "<style scoped>\n",
       "    .dataframe tbody tr th:only-of-type {\n",
       "        vertical-align: middle;\n",
       "    }\n",
       "\n",
       "    .dataframe tbody tr th {\n",
       "        vertical-align: top;\n",
       "    }\n",
       "\n",
       "    .dataframe thead th {\n",
       "        text-align: right;\n",
       "    }\n",
       "</style>\n",
       "<table border=\"1\" class=\"dataframe\">\n",
       "  <thead>\n",
       "    <tr style=\"text-align: right;\">\n",
       "      <th></th>\n",
       "      <th>SKU ID</th>\n",
       "      <th>Date</th>\n",
       "      <th>Manufacturer</th>\n",
       "      <th>Sector</th>\n",
       "      <th>Category</th>\n",
       "      <th>Segment</th>\n",
       "      <th>Brand</th>\n",
       "      <th>Revenue($)</th>\n",
       "      <th>Unit_price</th>\n",
       "      <th>Units_sold</th>\n",
       "      <th>Page_traffic</th>\n",
       "    </tr>\n",
       "  </thead>\n",
       "  <tbody>\n",
       "    <tr>\n",
       "      <th>31180</th>\n",
       "      <td>SKU1307</td>\n",
       "      <td>6/25/2022</td>\n",
       "      <td>Synergix solutions</td>\n",
       "      <td>Beauty and Personal Care</td>\n",
       "      <td>Haircare</td>\n",
       "      <td>Shampoo</td>\n",
       "      <td>Pantene</td>\n",
       "      <td>7728</td>\n",
       "      <td>6.893845</td>\n",
       "      <td>1121</td>\n",
       "      <td>1447.0</td>\n",
       "    </tr>\n",
       "    <tr>\n",
       "      <th>31181</th>\n",
       "      <td>SKU1299</td>\n",
       "      <td>09-10-22</td>\n",
       "      <td>Synergix solutions</td>\n",
       "      <td>Beauty and Personal Care</td>\n",
       "      <td>NaN</td>\n",
       "      <td>Shampoo</td>\n",
       "      <td>Dove</td>\n",
       "      <td>24509</td>\n",
       "      <td>16.504377</td>\n",
       "      <td>1485</td>\n",
       "      <td>2663.0</td>\n",
       "    </tr>\n",
       "    <tr>\n",
       "      <th>31182</th>\n",
       "      <td>SKU1296</td>\n",
       "      <td>11/26/2022</td>\n",
       "      <td>Synergix solutions</td>\n",
       "      <td>Beauty and Personal Care</td>\n",
       "      <td>NaN</td>\n",
       "      <td>Shampoo</td>\n",
       "      <td>Dove</td>\n",
       "      <td>18704</td>\n",
       "      <td>16.321117</td>\n",
       "      <td>1146</td>\n",
       "      <td>1146.0</td>\n",
       "    </tr>\n",
       "    <tr>\n",
       "      <th>31183</th>\n",
       "      <td>SKU1311</td>\n",
       "      <td>12/17/2022</td>\n",
       "      <td>Synergix solutions</td>\n",
       "      <td>Beauty and Personal Care</td>\n",
       "      <td>NaN</td>\n",
       "      <td>Conditioners</td>\n",
       "      <td>Pantene</td>\n",
       "      <td>19292</td>\n",
       "      <td>13.919192</td>\n",
       "      <td>1386</td>\n",
       "      <td>1554.0</td>\n",
       "    </tr>\n",
       "    <tr>\n",
       "      <th>31184</th>\n",
       "      <td>SKU1319</td>\n",
       "      <td>12/24/2022</td>\n",
       "      <td>Synergix solutions</td>\n",
       "      <td>Beauty and Personal Care</td>\n",
       "      <td>Haircare</td>\n",
       "      <td>Conditioners</td>\n",
       "      <td>Pantene</td>\n",
       "      <td>22950</td>\n",
       "      <td>17.887763</td>\n",
       "      <td>1283</td>\n",
       "      <td>1117.0</td>\n",
       "    </tr>\n",
       "  </tbody>\n",
       "</table>\n",
       "</div>"
      ],
      "text/plain": [
       "        SKU ID        Date         Manufacturer                    Sector  \\\n",
       "31180  SKU1307   6/25/2022  Synergix solutions   Beauty and Personal Care   \n",
       "31181  SKU1299    09-10-22  Synergix solutions   Beauty and Personal Care   \n",
       "31182  SKU1296  11/26/2022  Synergix solutions   Beauty and Personal Care   \n",
       "31183  SKU1311  12/17/2022  Synergix solutions   Beauty and Personal Care   \n",
       "31184  SKU1319  12/24/2022  Synergix solutions   Beauty and Personal Care   \n",
       "\n",
       "       Category       Segment    Brand  Revenue($)  Unit_price  Units_sold  \\\n",
       "31180  Haircare       Shampoo  Pantene        7728    6.893845        1121   \n",
       "31181       NaN       Shampoo     Dove       24509   16.504377        1485   \n",
       "31182       NaN       Shampoo     Dove       18704   16.321117        1146   \n",
       "31183       NaN  Conditioners  Pantene       19292   13.919192        1386   \n",
       "31184  Haircare  Conditioners  Pantene       22950   17.887763        1283   \n",
       "\n",
       "       Page_traffic  \n",
       "31180        1447.0  \n",
       "31181        2663.0  \n",
       "31182        1146.0  \n",
       "31183        1554.0  \n",
       "31184        1117.0  "
      ]
     },
     "execution_count": 5,
     "metadata": {},
     "output_type": "execute_result"
    }
   ],
   "source": [
    "# display last 5 records\n",
    "pos_data.tail()   "
   ]
  },
  {
   "cell_type": "code",
   "execution_count": 6,
   "id": "fe763e8e",
   "metadata": {
    "code_folding": [],
    "hideCode": false,
    "hide_input": false
   },
   "outputs": [
    {
     "data": {
      "text/html": [
       "<div>\n",
       "<style scoped>\n",
       "    .dataframe tbody tr th:only-of-type {\n",
       "        vertical-align: middle;\n",
       "    }\n",
       "\n",
       "    .dataframe tbody tr th {\n",
       "        vertical-align: top;\n",
       "    }\n",
       "\n",
       "    .dataframe thead th {\n",
       "        text-align: right;\n",
       "    }\n",
       "</style>\n",
       "<table border=\"1\" class=\"dataframe\">\n",
       "  <thead>\n",
       "    <tr style=\"text-align: right;\">\n",
       "      <th></th>\n",
       "      <th>SKU ID</th>\n",
       "      <th>Date</th>\n",
       "      <th>Manufacturer</th>\n",
       "      <th>Sector</th>\n",
       "      <th>Category</th>\n",
       "      <th>Segment</th>\n",
       "      <th>Brand</th>\n",
       "      <th>Revenue($)</th>\n",
       "      <th>Unit_price</th>\n",
       "      <th>Units_sold</th>\n",
       "      <th>Page_traffic</th>\n",
       "    </tr>\n",
       "  </thead>\n",
       "  <tbody>\n",
       "    <tr>\n",
       "      <th>31182</th>\n",
       "      <td>SKU1296</td>\n",
       "      <td>11/26/2022</td>\n",
       "      <td>Synergix solutions</td>\n",
       "      <td>Beauty and Personal Care</td>\n",
       "      <td>NaN</td>\n",
       "      <td>Shampoo</td>\n",
       "      <td>Dove</td>\n",
       "      <td>18704</td>\n",
       "      <td>16.321117</td>\n",
       "      <td>1146</td>\n",
       "      <td>1146.0</td>\n",
       "    </tr>\n",
       "    <tr>\n",
       "      <th>31183</th>\n",
       "      <td>SKU1311</td>\n",
       "      <td>12/17/2022</td>\n",
       "      <td>Synergix solutions</td>\n",
       "      <td>Beauty and Personal Care</td>\n",
       "      <td>NaN</td>\n",
       "      <td>Conditioners</td>\n",
       "      <td>Pantene</td>\n",
       "      <td>19292</td>\n",
       "      <td>13.919192</td>\n",
       "      <td>1386</td>\n",
       "      <td>1554.0</td>\n",
       "    </tr>\n",
       "    <tr>\n",
       "      <th>31184</th>\n",
       "      <td>SKU1319</td>\n",
       "      <td>12/24/2022</td>\n",
       "      <td>Synergix solutions</td>\n",
       "      <td>Beauty and Personal Care</td>\n",
       "      <td>Haircare</td>\n",
       "      <td>Conditioners</td>\n",
       "      <td>Pantene</td>\n",
       "      <td>22950</td>\n",
       "      <td>17.887763</td>\n",
       "      <td>1283</td>\n",
       "      <td>1117.0</td>\n",
       "    </tr>\n",
       "  </tbody>\n",
       "</table>\n",
       "</div>"
      ],
      "text/plain": [
       "        SKU ID        Date         Manufacturer                    Sector  \\\n",
       "31182  SKU1296  11/26/2022  Synergix solutions   Beauty and Personal Care   \n",
       "31183  SKU1311  12/17/2022  Synergix solutions   Beauty and Personal Care   \n",
       "31184  SKU1319  12/24/2022  Synergix solutions   Beauty and Personal Care   \n",
       "\n",
       "       Category       Segment    Brand  Revenue($)  Unit_price  Units_sold  \\\n",
       "31182       NaN       Shampoo     Dove       18704   16.321117        1146   \n",
       "31183       NaN  Conditioners  Pantene       19292   13.919192        1386   \n",
       "31184  Haircare  Conditioners  Pantene       22950   17.887763        1283   \n",
       "\n",
       "       Page_traffic  \n",
       "31182        1146.0  \n",
       "31183        1554.0  \n",
       "31184        1117.0  "
      ]
     },
     "execution_count": 6,
     "metadata": {},
     "output_type": "execute_result"
    }
   ],
   "source": [
    "# display last 3 records\n",
    "pos_data.tail(3)   "
   ]
  },
  {
   "cell_type": "markdown",
   "id": "6cd52fd8",
   "metadata": {
    "hideCode": false
   },
   "source": [
    "###### How many rows and columns are there in the dataset? "
   ]
  },
  {
   "cell_type": "code",
   "execution_count": 7,
   "id": "39ee0851",
   "metadata": {
    "code_folding": []
   },
   "outputs": [
    {
     "data": {
      "text/plain": [
       "(31185, 11)"
      ]
     },
     "execution_count": 7,
     "metadata": {},
     "output_type": "execute_result"
    }
   ],
   "source": [
    "# use shape attribute of pandas dataframe to check structure of the data\n",
    "pos_data.shape"
   ]
  },
  {
   "cell_type": "markdown",
   "id": "8a54394d",
   "metadata": {},
   "source": [
    "###### What are the various attributes of the data?"
   ]
  },
  {
   "cell_type": "code",
   "execution_count": 8,
   "id": "c3f25197",
   "metadata": {
    "code_folding": [],
    "hideCode": false
   },
   "outputs": [
    {
     "data": {
      "text/plain": [
       "Index(['SKU ID', 'Date', 'Manufacturer', 'Sector', 'Category', 'Segment',\n",
       "       'Brand', 'Revenue($)', 'Unit_price', 'Units_sold', 'Page_traffic'],\n",
       "      dtype='object')"
      ]
     },
     "execution_count": 8,
     "metadata": {},
     "output_type": "execute_result"
    }
   ],
   "source": [
    "#list the columns\n",
    "pos_data.columns"
   ]
  },
  {
   "cell_type": "code",
   "execution_count": null,
   "id": "03be65d7",
   "metadata": {},
   "outputs": [],
   "source": []
  },
  {
   "cell_type": "code",
   "execution_count": null,
   "id": "db43e825",
   "metadata": {},
   "outputs": [],
   "source": []
  },
  {
   "cell_type": "code",
   "execution_count": null,
   "id": "c0baab1f",
   "metadata": {},
   "outputs": [],
   "source": []
  },
  {
   "cell_type": "code",
   "execution_count": null,
   "id": "b54ffbf3",
   "metadata": {},
   "outputs": [],
   "source": []
  },
  {
   "cell_type": "code",
   "execution_count": null,
   "id": "f0c50721",
   "metadata": {},
   "outputs": [],
   "source": []
  },
  {
   "cell_type": "markdown",
   "id": "db9e7f50",
   "metadata": {},
   "source": [
    "### Part 2.1.2  : Data inspection"
   ]
  },
  {
   "cell_type": "code",
   "execution_count": 9,
   "id": "73f02fa8",
   "metadata": {
    "code_folding": []
   },
   "outputs": [
    {
     "name": "stdout",
     "output_type": "stream",
     "text": [
      "<class 'pandas.core.frame.DataFrame'>\n",
      "RangeIndex: 31185 entries, 0 to 31184\n",
      "Data columns (total 11 columns):\n",
      " #   Column        Non-Null Count  Dtype  \n",
      "---  ------        --------------  -----  \n",
      " 0   SKU ID        31185 non-null  object \n",
      " 1   Date          31185 non-null  object \n",
      " 2   Manufacturer  31185 non-null  object \n",
      " 3   Sector        31135 non-null  object \n",
      " 4   Category      31149 non-null  object \n",
      " 5   Segment       31156 non-null  object \n",
      " 6   Brand         31158 non-null  object \n",
      " 7   Revenue($)    31185 non-null  int64  \n",
      " 8   Unit_price    19635 non-null  float64\n",
      " 9   Units_sold    31185 non-null  int64  \n",
      " 10  Page_traffic  31185 non-null  float64\n",
      "dtypes: float64(2), int64(2), object(7)\n",
      "memory usage: 2.6+ MB\n"
     ]
    }
   ],
   "source": [
    "# what is the type of each attribute?\n",
    "pos_data.info()"
   ]
  },
  {
   "cell_type": "markdown",
   "id": "9b07ae92",
   "metadata": {},
   "source": [
    "##### The Page_traffic column indicates the number of visitors to the product page. So, having this number as integer makes more sense."
   ]
  },
  {
   "cell_type": "code",
   "execution_count": 10,
   "id": "d69984b0",
   "metadata": {
    "code_folding": []
   },
   "outputs": [],
   "source": [
    "# convert the attribute into a specific type\n",
    "pos_data.Page_traffic = pos_data.Page_traffic.astype('int64')"
   ]
  },
  {
   "cell_type": "code",
   "execution_count": 11,
   "id": "dfb2b362",
   "metadata": {
    "code_folding": []
   },
   "outputs": [
    {
     "name": "stdout",
     "output_type": "stream",
     "text": [
      "<class 'pandas.core.frame.DataFrame'>\n",
      "RangeIndex: 31185 entries, 0 to 31184\n",
      "Data columns (total 11 columns):\n",
      " #   Column        Non-Null Count  Dtype  \n",
      "---  ------        --------------  -----  \n",
      " 0   SKU ID        31185 non-null  object \n",
      " 1   Date          31185 non-null  object \n",
      " 2   Manufacturer  31185 non-null  object \n",
      " 3   Sector        31135 non-null  object \n",
      " 4   Category      31149 non-null  object \n",
      " 5   Segment       31156 non-null  object \n",
      " 6   Brand         31158 non-null  object \n",
      " 7   Revenue($)    31185 non-null  int64  \n",
      " 8   Unit_price    19635 non-null  float64\n",
      " 9   Units_sold    31185 non-null  int64  \n",
      " 10  Page_traffic  31185 non-null  int64  \n",
      "dtypes: float64(1), int64(3), object(7)\n",
      "memory usage: 2.6+ MB\n"
     ]
    }
   ],
   "source": [
    "#check the data type of Page_traffic again\n",
    "pos_data.info()"
   ]
  },
  {
   "cell_type": "code",
   "execution_count": null,
   "id": "a5cbf5a1",
   "metadata": {},
   "outputs": [],
   "source": []
  },
  {
   "cell_type": "code",
   "execution_count": null,
   "id": "65ebc495",
   "metadata": {},
   "outputs": [],
   "source": []
  },
  {
   "cell_type": "code",
   "execution_count": null,
   "id": "ee6636a3",
   "metadata": {},
   "outputs": [],
   "source": []
  },
  {
   "cell_type": "code",
   "execution_count": null,
   "id": "b7ed1a6a",
   "metadata": {},
   "outputs": [],
   "source": []
  },
  {
   "cell_type": "code",
   "execution_count": null,
   "id": "1bceac77",
   "metadata": {},
   "outputs": [],
   "source": []
  },
  {
   "cell_type": "markdown",
   "id": "da58aad4",
   "metadata": {
    "hideCode": true,
    "hideOutput": false
   },
   "source": [
    "### Part 2.1.3  : Identifying missing data"
   ]
  },
  {
   "cell_type": "code",
   "execution_count": 12,
   "id": "18aa4749",
   "metadata": {
    "code_folding": [],
    "hideCode": true
   },
   "outputs": [
    {
     "data": {
      "text/plain": [
       "SKU ID              0\n",
       "Date                0\n",
       "Manufacturer        0\n",
       "Sector             50\n",
       "Category           36\n",
       "Segment            29\n",
       "Brand              27\n",
       "Revenue($)          0\n",
       "Unit_price      11550\n",
       "Units_sold          0\n",
       "Page_traffic        0\n",
       "dtype: int64"
      ]
     },
     "execution_count": 12,
     "metadata": {},
     "output_type": "execute_result"
    }
   ],
   "source": [
    "# find out the missing values in each attribute\n",
    "pos_data.isna().sum()"
   ]
  },
  {
   "cell_type": "code",
   "execution_count": 13,
   "id": "82318e3f",
   "metadata": {},
   "outputs": [
    {
     "data": {
      "text/html": [
       "<div>\n",
       "<style scoped>\n",
       "    .dataframe tbody tr th:only-of-type {\n",
       "        vertical-align: middle;\n",
       "    }\n",
       "\n",
       "    .dataframe tbody tr th {\n",
       "        vertical-align: top;\n",
       "    }\n",
       "\n",
       "    .dataframe thead th {\n",
       "        text-align: right;\n",
       "    }\n",
       "</style>\n",
       "<table border=\"1\" class=\"dataframe\">\n",
       "  <thead>\n",
       "    <tr style=\"text-align: right;\">\n",
       "      <th></th>\n",
       "      <th>SKU ID</th>\n",
       "      <th>Date</th>\n",
       "      <th>Manufacturer</th>\n",
       "      <th>Sector</th>\n",
       "      <th>Category</th>\n",
       "      <th>Segment</th>\n",
       "      <th>Brand</th>\n",
       "      <th>Revenue($)</th>\n",
       "      <th>Unit_price</th>\n",
       "      <th>Units_sold</th>\n",
       "      <th>Page_traffic</th>\n",
       "    </tr>\n",
       "  </thead>\n",
       "  <tbody>\n",
       "    <tr>\n",
       "      <th>0</th>\n",
       "      <td>False</td>\n",
       "      <td>False</td>\n",
       "      <td>False</td>\n",
       "      <td>False</td>\n",
       "      <td>False</td>\n",
       "      <td>False</td>\n",
       "      <td>False</td>\n",
       "      <td>False</td>\n",
       "      <td>True</td>\n",
       "      <td>False</td>\n",
       "      <td>False</td>\n",
       "    </tr>\n",
       "    <tr>\n",
       "      <th>1</th>\n",
       "      <td>False</td>\n",
       "      <td>False</td>\n",
       "      <td>False</td>\n",
       "      <td>False</td>\n",
       "      <td>False</td>\n",
       "      <td>False</td>\n",
       "      <td>False</td>\n",
       "      <td>False</td>\n",
       "      <td>True</td>\n",
       "      <td>False</td>\n",
       "      <td>False</td>\n",
       "    </tr>\n",
       "    <tr>\n",
       "      <th>2</th>\n",
       "      <td>False</td>\n",
       "      <td>False</td>\n",
       "      <td>False</td>\n",
       "      <td>False</td>\n",
       "      <td>False</td>\n",
       "      <td>False</td>\n",
       "      <td>False</td>\n",
       "      <td>False</td>\n",
       "      <td>True</td>\n",
       "      <td>False</td>\n",
       "      <td>False</td>\n",
       "    </tr>\n",
       "    <tr>\n",
       "      <th>3</th>\n",
       "      <td>False</td>\n",
       "      <td>False</td>\n",
       "      <td>False</td>\n",
       "      <td>False</td>\n",
       "      <td>False</td>\n",
       "      <td>False</td>\n",
       "      <td>False</td>\n",
       "      <td>False</td>\n",
       "      <td>True</td>\n",
       "      <td>False</td>\n",
       "      <td>False</td>\n",
       "    </tr>\n",
       "    <tr>\n",
       "      <th>4</th>\n",
       "      <td>False</td>\n",
       "      <td>False</td>\n",
       "      <td>False</td>\n",
       "      <td>False</td>\n",
       "      <td>False</td>\n",
       "      <td>False</td>\n",
       "      <td>False</td>\n",
       "      <td>False</td>\n",
       "      <td>True</td>\n",
       "      <td>False</td>\n",
       "      <td>False</td>\n",
       "    </tr>\n",
       "    <tr>\n",
       "      <th>...</th>\n",
       "      <td>...</td>\n",
       "      <td>...</td>\n",
       "      <td>...</td>\n",
       "      <td>...</td>\n",
       "      <td>...</td>\n",
       "      <td>...</td>\n",
       "      <td>...</td>\n",
       "      <td>...</td>\n",
       "      <td>...</td>\n",
       "      <td>...</td>\n",
       "      <td>...</td>\n",
       "    </tr>\n",
       "    <tr>\n",
       "      <th>31180</th>\n",
       "      <td>False</td>\n",
       "      <td>False</td>\n",
       "      <td>False</td>\n",
       "      <td>False</td>\n",
       "      <td>False</td>\n",
       "      <td>False</td>\n",
       "      <td>False</td>\n",
       "      <td>False</td>\n",
       "      <td>False</td>\n",
       "      <td>False</td>\n",
       "      <td>False</td>\n",
       "    </tr>\n",
       "    <tr>\n",
       "      <th>31181</th>\n",
       "      <td>False</td>\n",
       "      <td>False</td>\n",
       "      <td>False</td>\n",
       "      <td>False</td>\n",
       "      <td>True</td>\n",
       "      <td>False</td>\n",
       "      <td>False</td>\n",
       "      <td>False</td>\n",
       "      <td>False</td>\n",
       "      <td>False</td>\n",
       "      <td>False</td>\n",
       "    </tr>\n",
       "    <tr>\n",
       "      <th>31182</th>\n",
       "      <td>False</td>\n",
       "      <td>False</td>\n",
       "      <td>False</td>\n",
       "      <td>False</td>\n",
       "      <td>True</td>\n",
       "      <td>False</td>\n",
       "      <td>False</td>\n",
       "      <td>False</td>\n",
       "      <td>False</td>\n",
       "      <td>False</td>\n",
       "      <td>False</td>\n",
       "    </tr>\n",
       "    <tr>\n",
       "      <th>31183</th>\n",
       "      <td>False</td>\n",
       "      <td>False</td>\n",
       "      <td>False</td>\n",
       "      <td>False</td>\n",
       "      <td>True</td>\n",
       "      <td>False</td>\n",
       "      <td>False</td>\n",
       "      <td>False</td>\n",
       "      <td>False</td>\n",
       "      <td>False</td>\n",
       "      <td>False</td>\n",
       "    </tr>\n",
       "    <tr>\n",
       "      <th>31184</th>\n",
       "      <td>False</td>\n",
       "      <td>False</td>\n",
       "      <td>False</td>\n",
       "      <td>False</td>\n",
       "      <td>False</td>\n",
       "      <td>False</td>\n",
       "      <td>False</td>\n",
       "      <td>False</td>\n",
       "      <td>False</td>\n",
       "      <td>False</td>\n",
       "      <td>False</td>\n",
       "    </tr>\n",
       "  </tbody>\n",
       "</table>\n",
       "<p>31185 rows × 11 columns</p>\n",
       "</div>"
      ],
      "text/plain": [
       "       SKU ID   Date  Manufacturer  Sector  Category  Segment  Brand  \\\n",
       "0       False  False         False   False     False    False  False   \n",
       "1       False  False         False   False     False    False  False   \n",
       "2       False  False         False   False     False    False  False   \n",
       "3       False  False         False   False     False    False  False   \n",
       "4       False  False         False   False     False    False  False   \n",
       "...       ...    ...           ...     ...       ...      ...    ...   \n",
       "31180   False  False         False   False     False    False  False   \n",
       "31181   False  False         False   False      True    False  False   \n",
       "31182   False  False         False   False      True    False  False   \n",
       "31183   False  False         False   False      True    False  False   \n",
       "31184   False  False         False   False     False    False  False   \n",
       "\n",
       "       Revenue($)  Unit_price  Units_sold  Page_traffic  \n",
       "0           False        True       False         False  \n",
       "1           False        True       False         False  \n",
       "2           False        True       False         False  \n",
       "3           False        True       False         False  \n",
       "4           False        True       False         False  \n",
       "...           ...         ...         ...           ...  \n",
       "31180       False       False       False         False  \n",
       "31181       False       False       False         False  \n",
       "31182       False       False       False         False  \n",
       "31183       False       False       False         False  \n",
       "31184       False       False       False         False  \n",
       "\n",
       "[31185 rows x 11 columns]"
      ]
     },
     "execution_count": 13,
     "metadata": {},
     "output_type": "execute_result"
    }
   ],
   "source": [
    "pos_data.isna()"
   ]
  },
  {
   "cell_type": "markdown",
   "id": "301c26b7",
   "metadata": {},
   "source": [
    "**NOTE:**\n",
    "- Let us understand what `isna()` does.\n",
    "- It checks for every value in the dataframe for whether it is null or not, and returns a boolean (True or False) value.\n",
    "- True values are treated as 1 and the False values are treated as 0.\n",
    "- When we use `sum()` afterwards, all these values are summed up and returned.\n"
   ]
  },
  {
   "cell_type": "code",
   "execution_count": 14,
   "id": "fdde9178",
   "metadata": {
    "code_folding": [],
    "hideCode": true
   },
   "outputs": [
    {
     "data": {
      "text/plain": [
       "SKU ID              0\n",
       "Date                0\n",
       "Manufacturer        0\n",
       "Sector             50\n",
       "Category           36\n",
       "Segment            29\n",
       "Brand              27\n",
       "Revenue($)          0\n",
       "Unit_price      11550\n",
       "Units_sold          0\n",
       "Page_traffic        0\n",
       "dtype: int64"
      ]
     },
     "execution_count": 14,
     "metadata": {},
     "output_type": "execute_result"
    }
   ],
   "source": [
    "# as an alternative to isna(), we can also use isnull()\n",
    "pos_data.isnull().sum()"
   ]
  },
  {
   "cell_type": "markdown",
   "id": "84e3f9c5",
   "metadata": {},
   "source": [
    "**Analysis:** \n",
    "- We can see that a lot of values are missing in the attribute *Unit_price*.\n",
    "- If we closely look at the data, it is clear that *Revenue* is zero on few dates. And *Units_sold* is also zero on the same rows.\n",
    "- And, if we carefully observe, we can make out that \n",
    "\n",
    "$ UnitPrice = \\frac{Revenue}{UnitsSold} $\n",
    "- So, wherever *Revenue* and *Units_sold* are not available, the *Unit_price* is empty, which in-turn treated by Python as missing values.\n",
    "- During data analysis, we can remove a column from the dataset, if it is a derived attribute from other attributes. This is one of the techniques of feature-engineering, which we will explore more in detail at the later stage.\n",
    "- So, we will now remove the attribute *Unit_price*."
   ]
  },
  {
   "cell_type": "code",
   "execution_count": 15,
   "id": "fa119ed6",
   "metadata": {
    "code_folding": []
   },
   "outputs": [
    {
     "data": {
      "text/html": [
       "<div>\n",
       "<style scoped>\n",
       "    .dataframe tbody tr th:only-of-type {\n",
       "        vertical-align: middle;\n",
       "    }\n",
       "\n",
       "    .dataframe tbody tr th {\n",
       "        vertical-align: top;\n",
       "    }\n",
       "\n",
       "    .dataframe thead th {\n",
       "        text-align: right;\n",
       "    }\n",
       "</style>\n",
       "<table border=\"1\" class=\"dataframe\">\n",
       "  <thead>\n",
       "    <tr style=\"text-align: right;\">\n",
       "      <th></th>\n",
       "      <th>SKU ID</th>\n",
       "      <th>Date</th>\n",
       "      <th>Manufacturer</th>\n",
       "      <th>Sector</th>\n",
       "      <th>Category</th>\n",
       "      <th>Segment</th>\n",
       "      <th>Brand</th>\n",
       "      <th>Revenue($)</th>\n",
       "      <th>Units_sold</th>\n",
       "      <th>Page_traffic</th>\n",
       "    </tr>\n",
       "  </thead>\n",
       "  <tbody>\n",
       "    <tr>\n",
       "      <th>0</th>\n",
       "      <td>SKU1029</td>\n",
       "      <td>05-01-21</td>\n",
       "      <td>Synergix solutions</td>\n",
       "      <td>Oral Care</td>\n",
       "      <td>Toothpaste</td>\n",
       "      <td>Whitening Toothpaste</td>\n",
       "      <td>Close-up</td>\n",
       "      <td>0</td>\n",
       "      <td>0</td>\n",
       "      <td>0</td>\n",
       "    </tr>\n",
       "    <tr>\n",
       "      <th>1</th>\n",
       "      <td>SKU1054</td>\n",
       "      <td>05-08-21</td>\n",
       "      <td>Synergix solutions</td>\n",
       "      <td>Oral Care</td>\n",
       "      <td>Toothpaste</td>\n",
       "      <td>Fluoride-Free Toothpaste</td>\n",
       "      <td>Tom's of Maine</td>\n",
       "      <td>0</td>\n",
       "      <td>0</td>\n",
       "      <td>0</td>\n",
       "    </tr>\n",
       "    <tr>\n",
       "      <th>2</th>\n",
       "      <td>SKU1068</td>\n",
       "      <td>01-08-22</td>\n",
       "      <td>Synergix solutions</td>\n",
       "      <td>Oral Care</td>\n",
       "      <td>Toothpaste</td>\n",
       "      <td>Fluoride-Free Toothpaste</td>\n",
       "      <td>Himalaya Herbals</td>\n",
       "      <td>0</td>\n",
       "      <td>0</td>\n",
       "      <td>0</td>\n",
       "    </tr>\n",
       "    <tr>\n",
       "      <th>3</th>\n",
       "      <td>SKU1056</td>\n",
       "      <td>11-05-22</td>\n",
       "      <td>Synergix solutions</td>\n",
       "      <td>Oral Care</td>\n",
       "      <td>Toothpaste</td>\n",
       "      <td>Fluoride-Free Toothpaste</td>\n",
       "      <td>Tom's of Maine</td>\n",
       "      <td>0</td>\n",
       "      <td>0</td>\n",
       "      <td>0</td>\n",
       "    </tr>\n",
       "    <tr>\n",
       "      <th>4</th>\n",
       "      <td>SKU1061</td>\n",
       "      <td>12-10-22</td>\n",
       "      <td>Synergix solutions</td>\n",
       "      <td>Oral Care</td>\n",
       "      <td>Toothpaste</td>\n",
       "      <td>Fluoride-Free Toothpaste</td>\n",
       "      <td>Himalaya Herbals</td>\n",
       "      <td>0</td>\n",
       "      <td>0</td>\n",
       "      <td>0</td>\n",
       "    </tr>\n",
       "  </tbody>\n",
       "</table>\n",
       "</div>"
      ],
      "text/plain": [
       "    SKU ID      Date         Manufacturer     Sector    Category  \\\n",
       "0  SKU1029  05-01-21  Synergix solutions   Oral Care  Toothpaste   \n",
       "1  SKU1054  05-08-21  Synergix solutions   Oral Care  Toothpaste   \n",
       "2  SKU1068  01-08-22  Synergix solutions   Oral Care  Toothpaste   \n",
       "3  SKU1056  11-05-22  Synergix solutions   Oral Care  Toothpaste   \n",
       "4  SKU1061  12-10-22  Synergix solutions   Oral Care  Toothpaste   \n",
       "\n",
       "                    Segment             Brand  Revenue($)  Units_sold  \\\n",
       "0      Whitening Toothpaste          Close-up           0           0   \n",
       "1  Fluoride-Free Toothpaste    Tom's of Maine           0           0   \n",
       "2  Fluoride-Free Toothpaste  Himalaya Herbals           0           0   \n",
       "3  Fluoride-Free Toothpaste    Tom's of Maine           0           0   \n",
       "4  Fluoride-Free Toothpaste  Himalaya Herbals           0           0   \n",
       "\n",
       "   Page_traffic  \n",
       "0             0  \n",
       "1             0  \n",
       "2             0  \n",
       "3             0  \n",
       "4             0  "
      ]
     },
     "execution_count": 15,
     "metadata": {},
     "output_type": "execute_result"
    }
   ],
   "source": [
    "# drop() method is used for drop a column\n",
    "# Pandas dataframe is a 2 dimensional data, where rows are indicated as axis 0 and columns are indicated as axis 1\n",
    "\n",
    "pos_data = pos_data.drop(['Unit_price'], axis=1)\n",
    "pos_data.head()   #confirm whether the Unit_price column has been removed."
   ]
  },
  {
   "cell_type": "code",
   "execution_count": 16,
   "id": "dc98a591",
   "metadata": {},
   "outputs": [
    {
     "data": {
      "text/plain": [
       "(31185, 10)"
      ]
     },
     "execution_count": 16,
     "metadata": {},
     "output_type": "execute_result"
    }
   ],
   "source": [
    "pos_data.shape"
   ]
  },
  {
   "cell_type": "code",
   "execution_count": 17,
   "id": "01cd3c17",
   "metadata": {
    "code_folding": []
   },
   "outputs": [
    {
     "data": {
      "text/plain": [
       "SKU ID           0\n",
       "Date             0\n",
       "Manufacturer     0\n",
       "Sector          50\n",
       "Category        36\n",
       "Segment         29\n",
       "Brand           27\n",
       "Revenue($)       0\n",
       "Units_sold       0\n",
       "Page_traffic     0\n",
       "dtype: int64"
      ]
     },
     "execution_count": 17,
     "metadata": {},
     "output_type": "execute_result"
    }
   ],
   "source": [
    "# Now check for the missing values again\n",
    "pos_data.isnull().sum()"
   ]
  },
  {
   "cell_type": "markdown",
   "id": "764d4053",
   "metadata": {},
   "source": [
    "##### We can check the proportion of these missing values compared to the original data size"
   ]
  },
  {
   "cell_type": "code",
   "execution_count": 18,
   "id": "a9358198",
   "metadata": {},
   "outputs": [
    {
     "data": {
      "text/plain": [
       "SKU ID          0.000000\n",
       "Date            0.000000\n",
       "Manufacturer    0.000000\n",
       "Sector          0.001603\n",
       "Category        0.001154\n",
       "Segment         0.000930\n",
       "Brand           0.000866\n",
       "Revenue($)      0.000000\n",
       "Units_sold      0.000000\n",
       "Page_traffic    0.000000\n",
       "dtype: float64"
      ]
     },
     "execution_count": 18,
     "metadata": {},
     "output_type": "execute_result"
    }
   ],
   "source": [
    "pos_data.isna().sum()/31185"
   ]
  },
  {
   "cell_type": "code",
   "execution_count": 19,
   "id": "b85161f6",
   "metadata": {
    "code_folding": []
   },
   "outputs": [
    {
     "data": {
      "text/plain": [
       "SKU ID          0.000000\n",
       "Date            0.000000\n",
       "Manufacturer    0.000000\n",
       "Sector          0.001603\n",
       "Category        0.001154\n",
       "Segment         0.000930\n",
       "Brand           0.000866\n",
       "Revenue($)      0.000000\n",
       "Units_sold      0.000000\n",
       "Page_traffic    0.000000\n",
       "dtype: float64"
      ]
     },
     "execution_count": 19,
     "metadata": {},
     "output_type": "execute_result"
    }
   ],
   "source": [
    "# we divide the number for missing values by the total number of records\n",
    "pos_data.isna().sum()/pos_data.shape[0]"
   ]
  },
  {
   "cell_type": "code",
   "execution_count": 20,
   "id": "68036276",
   "metadata": {},
   "outputs": [
    {
     "data": {
      "text/plain": [
       "SKU ID          0.000000\n",
       "Date            0.000000\n",
       "Manufacturer    0.000000\n",
       "Sector          0.160333\n",
       "Category        0.115440\n",
       "Segment         0.092993\n",
       "Brand           0.086580\n",
       "Revenue($)      0.000000\n",
       "Units_sold      0.000000\n",
       "Page_traffic    0.000000\n",
       "dtype: float64"
      ]
     },
     "execution_count": 20,
     "metadata": {},
     "output_type": "execute_result"
    }
   ],
   "source": [
    "pos_data.isna().sum()*100/pos_data.shape[0]"
   ]
  },
  {
   "cell_type": "markdown",
   "id": "367db1d9",
   "metadata": {},
   "source": [
    "**Analysis:**\n",
    "- The missing values are in very small proportion.\n",
    "- When we use the data to build machine learning model building, we usually impute the missing values through certain methods.\n",
    "- However, for the basic data analysis purpose, let us drop the rows containing missing values now.\n",
    "- We will explain about imputation during EDA in module 4"
   ]
  },
  {
   "cell_type": "code",
   "execution_count": 21,
   "id": "c82fdaf0",
   "metadata": {
    "code_folding": []
   },
   "outputs": [],
   "source": [
    "# use dropna() method to drop the rows containing missing vlaues\n",
    "\n",
    "pos_data.dropna(axis=0, inplace=True) "
   ]
  },
  {
   "cell_type": "code",
   "execution_count": 22,
   "id": "aca99df8",
   "metadata": {
    "code_folding": []
   },
   "outputs": [
    {
     "data": {
      "text/plain": [
       "(31057, 10)"
      ]
     },
     "execution_count": 22,
     "metadata": {},
     "output_type": "execute_result"
    }
   ],
   "source": [
    "# the data after removing the missing values\n",
    "pos_data.shape  "
   ]
  },
  {
   "cell_type": "markdown",
   "id": "e53974ee",
   "metadata": {},
   "source": [
    "**NOTE:**\n",
    "- For the remaining part of this module and for Module 3, we will be using this modified data.\n",
    "- So, let us save it on the disk for further usage. "
   ]
  },
  {
   "cell_type": "code",
   "execution_count": 23,
   "id": "5bb31323",
   "metadata": {
    "code_folding": []
   },
   "outputs": [],
   "source": [
    "# use to_csv() method to convert a dataframe into a csv file and to store it on the disk. \n",
    "\n",
    "pos_data.to_csv('POS_CleanData.csv', index=False)"
   ]
  },
  {
   "cell_type": "markdown",
   "id": "e9c76ebd",
   "metadata": {},
   "source": [
    "###### The argument index=False makes sure that the row indices are not being written to the csv file on the disk"
   ]
  }
 ],
 "metadata": {
  "celltoolbar": "Hide code",
  "kernelspec": {
   "display_name": "Python 3 (ipykernel)",
   "language": "python",
   "name": "python3"
  },
  "language_info": {
   "codemirror_mode": {
    "name": "ipython",
    "version": 3
   },
   "file_extension": ".py",
   "mimetype": "text/x-python",
   "name": "python",
   "nbconvert_exporter": "python",
   "pygments_lexer": "ipython3",
   "version": "3.9.12"
  }
 },
 "nbformat": 4,
 "nbformat_minor": 5
}
