{
 "cells": [
  {
   "cell_type": "markdown",
   "metadata": {
    "deletable": false,
    "editable": false,
    "nbgrader": {
     "cell_type": "markdown",
     "checksum": "8aba4075efbe1bb66797f0601b36aa6f",
     "grade": false,
     "grade_id": "cell-26c43e97431a59bf",
     "locked": true,
     "schema_version": 3,
     "solution": false,
     "task": false
    }
   },
   "source": [
    "### Graded Lab 2\n",
    "\n",
    "Hello ! Welcome to Graded Lab of Module 2.\n",
    "Here we will be working on an exciting business problem with help of interesting datasets.\n",
    "Lets look at the problem statement,\n",
    "\n",
    "*Client: ABC Retail, Incorporated, rest-of-the-world division* \n",
    "\n",
    "***Project name: Online retail sales analysis*** \n",
    "\n",
    "An online retailer, ABC, Inc., operates in nearly 100 countries worldwide, selling furniture, office supplies and technology products to customers in three segments: consumer, corporate and home office. ABC, Inc. is a US-based company, and it has two major divisions: US and rest of the world. We are working with the rest of the world division of the company. \n",
    "\n",
    "They have provided us with online sales transaction data from 2011 to 2014.\n",
    "\n",
    "We are given 3 datasets:-\n",
    "\n",
    "1. Data on each sale; 51290 records; all data in US dollars\n",
    "It contains fields like\n",
    "**order_id** (identifier) ,order_date ,ship_date ,ship_mode ,**customer_id**(identifier) ,product_id ,category ,sub_category ,product_name ,sales ,quantity ,discount ,profit ,shipping_cost ,order_priority ,**vendor_code** (identifier) \n",
    "\n",
    "\n",
    "2. Data on the customers; 1590 records \n",
    "It contains fields like\n",
    "**customer_id** (identifier) ,customer_name ,city ,state ,country ,postal_code ,segment ,market ,region \n",
    "\n",
    "3. Data on vendors who supply the retailer; 65 records \n",
    "It contains fields like\n",
    "vendor ,**vendor_code** (identifier) \n",
    "\n",
    "We need to analyze the data and need to provide answers to different questions asked by company officials."
   ]
  },
  {
   "cell_type": "code",
   "execution_count": null,
   "metadata": {
    "deletable": false,
    "editable": false,
    "nbgrader": {
     "cell_type": "code",
     "checksum": "f7033522777d16029863d84243f0dc17",
     "grade": false,
     "grade_id": "cell-a3917e0dac14206f",
     "locked": true,
     "schema_version": 3,
     "solution": false,
     "task": false
    }
   },
   "outputs": [],
   "source": [
    "# importing libraries\n",
    "import pandas as pd\n",
    "import numpy as np\n",
    "\n",
    "### Reading sales data\n",
    "sales = pd.read_csv('sales_data.csv')\n",
    "\n",
    "### Reading customer data\n",
    "cust = pd.read_csv(r'customers.csv',encoding='iso-8859-1')\n",
    "\n",
    "### Reading vendor data\n",
    "vend = pd.read_csv(r'vendors.csv')\n",
    "\n",
    "sales.head()"
   ]
  },
  {
   "cell_type": "code",
   "execution_count": null,
   "metadata": {},
   "outputs": [],
   "source": [
    "pd.set_option('display.max_columns',None)\n",
    "#pd.set_option('display.max_rows',None)\n",
    "pd.set_option('display.width', 1000)\n",
    "pd.set_option('display.float_format','{:.4f}'.format)"
   ]
  },
  {
   "cell_type": "code",
   "execution_count": null,
   "metadata": {},
   "outputs": [],
   "source": [
    "sales.shape, cust.shape, vend.shape"
   ]
  },
  {
   "cell_type": "code",
   "execution_count": null,
   "metadata": {},
   "outputs": [],
   "source": [
    "cust.head()"
   ]
  },
  {
   "cell_type": "code",
   "execution_count": null,
   "metadata": {},
   "outputs": [],
   "source": [
    "vend.head()"
   ]
  },
  {
   "cell_type": "markdown",
   "metadata": {
    "deletable": false,
    "editable": false,
    "nbgrader": {
     "cell_type": "markdown",
     "checksum": "8a7dde4f89b8413892e88fa760fca305",
     "grade": false,
     "grade_id": "cell-2dd5a47e86fb3e16",
     "locked": true,
     "schema_version": 3,
     "solution": false,
     "task": false
    }
   },
   "source": [
    "In order to solve the next questions , we need to combine all the 3 datasets into a single dataframe such that every details of sales dataframe are intact. So here we have written a data processing function.\n",
    "There are 2 tasks which are to be performed.\n",
    "1. Merge/ Join all the 3 datasets into a single dataframe such that every details of sales dataframe are intact. (Understand which should be the joining key , type of join , refer .merge() function of pandas)\n",
    "2. Convert 'order_date' into a datetime column.\n",
    "**Return output as a dataframe**"
   ]
  },
  {
   "cell_type": "code",
   "execution_count": null,
   "metadata": {},
   "outputs": [],
   "source": [
    "df = sales.merge(right=cust, how=\"inner\", on=\"customer_id\")"
   ]
  },
  {
   "cell_type": "code",
   "execution_count": null,
   "metadata": {},
   "outputs": [],
   "source": [
    "df.head()"
   ]
  },
  {
   "cell_type": "code",
   "execution_count": null,
   "metadata": {},
   "outputs": [],
   "source": [
    "df.shape"
   ]
  },
  {
   "cell_type": "code",
   "execution_count": null,
   "metadata": {},
   "outputs": [],
   "source": [
    "df2 = df.merge(right=vend, how=\"inner\", on=\"vendor_code\")"
   ]
  },
  {
   "cell_type": "code",
   "execution_count": null,
   "metadata": {},
   "outputs": [],
   "source": [
    "df2"
   ]
  },
  {
   "cell_type": "code",
   "execution_count": null,
   "metadata": {},
   "outputs": [],
   "source": [
    "df2.shape"
   ]
  },
  {
   "cell_type": "code",
   "execution_count": null,
   "metadata": {},
   "outputs": [],
   "source": [
    "df2[\"order_date\"] = pd.to_datetime(df2['order_date'], format='%d/%m/%Y')"
   ]
  },
  {
   "cell_type": "code",
   "execution_count": null,
   "metadata": {},
   "outputs": [],
   "source": [
    "df2.info()"
   ]
  },
  {
   "cell_type": "markdown",
   "metadata": {},
   "source": [
    "# ---------------------------------------------------------------------------------"
   ]
  },
  {
   "cell_type": "code",
   "execution_count": null,
   "metadata": {
    "deletable": false,
    "nbgrader": {
     "cell_type": "code",
     "checksum": "83d15370af539ca54bb1de52e97932b0",
     "grade": false,
     "grade_id": "cell-21a002bcfcc3cec1",
     "locked": false,
     "schema_version": 3,
     "solution": true,
     "task": false
    }
   },
   "outputs": [],
   "source": [
    "#### data_merging & order_date processing , data1 will be sales , data2 will be customer dataset & data3 will be vendor dataset.\n",
    "\n",
    "def data_process(data1,data2,data3):\n",
    "    data = data1.merge(right=data2, how=\"inner\", on=\"customer_id\")\n",
    "    data = data.merge(right=data3, how=\"inner\", on=\"vendor_code\")\n",
    "    data[\"order_date\"] = pd.to_datetime(data['order_date'], format='%d/%m/%Y')\n",
    "    return data"
   ]
  },
  {
   "cell_type": "code",
   "execution_count": null,
   "metadata": {
    "deletable": false,
    "editable": false,
    "nbgrader": {
     "cell_type": "code",
     "checksum": "de61d3d637e712cfaa7b0212c10cd9b9",
     "grade": false,
     "grade_id": "cell-52f113e83ac2f152",
     "locked": true,
     "schema_version": 3,
     "solution": false,
     "task": false
    }
   },
   "outputs": [],
   "source": [
    "sales= data_process(data1=sales.copy(),data2=cust.copy(),data3=vend.copy())"
   ]
  },
  {
   "cell_type": "code",
   "execution_count": null,
   "metadata": {
    "deletable": false,
    "editable": false,
    "nbgrader": {
     "cell_type": "code",
     "checksum": "71ee5855615bfc243926dd28210fa6d9",
     "grade": true,
     "grade_id": "cell-e52e2a36b201dfa4",
     "locked": true,
     "points": 0,
     "schema_version": 3,
     "solution": false,
     "task": false
    }
   },
   "outputs": [],
   "source": [
    "assert sales['order_date'].dtypes=='<M8[ns]' ,'Make sure that you have converted order_date into a datetime format correctly.'\n",
    "assert sales.shape== (51290,26) ,'Checking size and shape of dataframe after merging is a very important check.'"
   ]
  },
  {
   "cell_type": "code",
   "execution_count": null,
   "metadata": {},
   "outputs": [],
   "source": [
    "sales.columns"
   ]
  },
  {
   "cell_type": "code",
   "execution_count": null,
   "metadata": {},
   "outputs": [],
   "source": [
    "#sales.to_csv(\"salescombine.csv\", index=False)"
   ]
  },
  {
   "cell_type": "markdown",
   "metadata": {
    "deletable": false,
    "editable": false,
    "nbgrader": {
     "cell_type": "markdown",
     "checksum": "b4b28a18315198fbb29993ae18ba7a89",
     "grade": false,
     "grade_id": "cell-6b5b2fd3d2be44db",
     "locked": true,
     "schema_version": 3,
     "solution": false,
     "task": false
    }
   },
   "source": [
    "### Q1. Return the top three subcategories that yield the best percentage profit? Return output as list of sub-categories, list of percentage values (rounded upto 2 decimals)."
   ]
  },
  {
   "cell_type": "code",
   "execution_count": null,
   "metadata": {
    "deletable": false,
    "nbgrader": {
     "cell_type": "code",
     "checksum": "b0611cf8ccdaf89c1e37d0f8c5c571d2",
     "grade": false,
     "grade_id": "cell-baeb2bd6b317d7c2",
     "locked": false,
     "schema_version": 3,
     "solution": true,
     "task": false
    }
   },
   "outputs": [],
   "source": [
    "def top_3_sales(data):\n",
    "    \n",
    "    # Group by sub_category and sum the profits for each sub_category\n",
    "    sub_category_profit = data.groupby(\"sub_category\")[\"profit\"].sum().reset_index()\n",
    "    \n",
    "    # Sort the subcategories by profit in descending order and select the top 3\n",
    "    top3 = sub_category_profit.nlargest(3, \"profit\")\n",
    "    \n",
    "    # Calculate the percentage profit for each subcategory\n",
    "    total_profit = sub_category_profit[\"profit\"].sum()\n",
    "    top3[\"percent\"] = (top3[\"profit\"] / total_profit * 100).round(2)\n",
    "    \n",
    "    # Extract the subcategories and their corresponding percentage values\n",
    "    sub_categories = top3[\"sub_category\"].tolist()\n",
    "    perc_values = top3[\"percent\"].tolist()\n",
    "    \n",
    "    return sub_categories,perc_values"
   ]
  },
  {
   "cell_type": "code",
   "execution_count": null,
   "metadata": {
    "deletable": false,
    "editable": false,
    "nbgrader": {
     "cell_type": "code",
     "checksum": "fc22b9a2a52695f7c762df3533f2d94f",
     "grade": true,
     "grade_id": "cell-3826b4716b6578dd",
     "locked": true,
     "points": 5,
     "schema_version": 3,
     "solution": false,
     "task": false
    }
   },
   "outputs": [],
   "source": [
    "assert len(top_3_sales(data=sales)[0])==3,\"Please include list of top 3 sub-categories only\"\n",
    "assert type(top_3_sales(data=sales)[0])==list,\"Output type should be list only.\""
   ]
  },
  {
   "cell_type": "code",
   "execution_count": null,
   "metadata": {
    "deletable": false,
    "editable": false,
    "nbgrader": {
     "cell_type": "code",
     "checksum": "c043fde4898484df37d90753f2d16cbe",
     "grade": true,
     "grade_id": "cell-a849b08051e5b706",
     "locked": true,
     "points": 5,
     "schema_version": 3,
     "solution": false,
     "task": false
    }
   },
   "outputs": [],
   "source": [
    "# autograder cells , please do not alter/ delete /edit this cell,Kindly ignore this cell."
   ]
  },
  {
   "cell_type": "markdown",
   "metadata": {
    "deletable": false,
    "editable": false,
    "nbgrader": {
     "cell_type": "markdown",
     "checksum": "f68e94b9aeb4f384d9d25f0f84076002",
     "grade": false,
     "grade_id": "cell-3f944e704aa0253f",
     "locked": true,
     "schema_version": 3,
     "solution": false,
     "task": false
    }
   },
   "source": [
    "### Q2.\tWhich city has the highest sales ?"
   ]
  },
  {
   "cell_type": "code",
   "execution_count": null,
   "metadata": {
    "deletable": false,
    "nbgrader": {
     "cell_type": "code",
     "checksum": "ea592c47a31e9184ea6c33f0c888c7f5",
     "grade": false,
     "grade_id": "cell-d9f21a4f52e97f2d",
     "locked": false,
     "schema_version": 3,
     "solution": true,
     "task": false
    }
   },
   "outputs": [],
   "source": [
    "def top_city_sales(data):\n",
    "    \n",
    "    df1 = data.groupby(\"city\", as_index=False)[\"sales\"].sum().sort_values(by=\"sales\", ascending=False)\n",
    "    \n",
    "    return df1['city'].values[0]"
   ]
  },
  {
   "cell_type": "code",
   "execution_count": null,
   "metadata": {
    "deletable": false,
    "editable": false,
    "nbgrader": {
     "cell_type": "code",
     "checksum": "46f70b536d262181c73777e8639be399",
     "grade": true,
     "grade_id": "cell-a2adc54841783950",
     "locked": true,
     "points": 5,
     "schema_version": 3,
     "solution": false,
     "task": false
    }
   },
   "outputs": [],
   "source": [
    "assert type(top_city_sales(data=sales))==str,\"Please make sure that output is in string format\""
   ]
  },
  {
   "cell_type": "code",
   "execution_count": null,
   "metadata": {
    "deletable": false,
    "editable": false,
    "nbgrader": {
     "cell_type": "code",
     "checksum": "1701f0fa1cffa5d5e34021d462313ed9",
     "grade": true,
     "grade_id": "cell-4e536adeb5512294",
     "locked": true,
     "points": 5,
     "schema_version": 3,
     "solution": false,
     "task": false
    }
   },
   "outputs": [],
   "source": [
    "# autograder cells , please do not alter/ delete /edit this cell,Kindly ignore this cell."
   ]
  },
  {
   "cell_type": "markdown",
   "metadata": {
    "deletable": false,
    "editable": false,
    "nbgrader": {
     "cell_type": "markdown",
     "checksum": "b59ef2f43e0287605dc0cb93c5092f8b",
     "grade": false,
     "grade_id": "cell-1e85520473c1a994",
     "locked": true,
     "schema_version": 3,
     "solution": false,
     "task": false
    }
   },
   "source": [
    "### Q.3. In year 2013 , which country has reported lowest profit ? \n",
    "**(Calculate order year from order_date column.)**"
   ]
  },
  {
   "cell_type": "code",
   "execution_count": null,
   "metadata": {
    "deletable": false,
    "nbgrader": {
     "cell_type": "code",
     "checksum": "e8dec1564573ef49088aedc4f25a8aea",
     "grade": false,
     "grade_id": "cell-d953dc7d357bedac",
     "locked": false,
     "schema_version": 3,
     "solution": true,
     "task": false
    }
   },
   "outputs": [],
   "source": [
    "def lowest_profit_country(data):\n",
    "    \n",
    "    # Filter the data to include only records from the year 2013\n",
    "    year2013_data = data[data[\"order_date\"].dt.year == 2013]\n",
    "    \n",
    "    # Find the row with the lowest profit in the year 2013\n",
    "    lowest_profit_row = year2013_data[year2013_data[\"profit\"] == year2013_data[\"profit\"].min()]\n",
    "    \n",
    "    # Extract the country from the row with the lowest profit\n",
    "    country_with_lowest_profit = lowest_profit_row[\"country\"].values[0]\n",
    "    \n",
    "    return country_with_lowest_profit"
   ]
  },
  {
   "cell_type": "code",
   "execution_count": null,
   "metadata": {
    "deletable": false,
    "editable": false,
    "nbgrader": {
     "cell_type": "code",
     "checksum": "ad0caf049565608c85693afb7dc6dcf2",
     "grade": true,
     "grade_id": "cell-c56e95301db9434c",
     "locked": true,
     "points": 5,
     "schema_version": 3,
     "solution": false,
     "task": false
    }
   },
   "outputs": [],
   "source": [
    "assert type(lowest_profit_country(data=sales))==str,\"Please make sure that output is in string format\""
   ]
  },
  {
   "cell_type": "code",
   "execution_count": null,
   "metadata": {
    "deletable": false,
    "editable": false,
    "nbgrader": {
     "cell_type": "code",
     "checksum": "9eb13989e0dfd7655534a2b193e13b60",
     "grade": true,
     "grade_id": "cell-9751a68aabf608d7",
     "locked": true,
     "points": 5,
     "schema_version": 3,
     "solution": false,
     "task": false
    }
   },
   "outputs": [],
   "source": [
    "# autograder cells , please do not alter/ delete /edit this cell,Kindly ignore this cell."
   ]
  },
  {
   "cell_type": "markdown",
   "metadata": {},
   "source": [
    "### Q.4. For which market segment we could observe 2nd highest discount ?"
   ]
  },
  {
   "cell_type": "code",
   "execution_count": null,
   "metadata": {},
   "outputs": [],
   "source": [
    "sales.discount.value_counts()"
   ]
  },
  {
   "cell_type": "code",
   "execution_count": null,
   "metadata": {},
   "outputs": [],
   "source": [
    "market_segment_discount = sales[sales.discount == 0.80]\n",
    "market_segment_discount"
   ]
  },
  {
   "cell_type": "code",
   "execution_count": null,
   "metadata": {},
   "outputs": [],
   "source": [
    "market_segment_discount.market.value_counts()"
   ]
  },
  {
   "cell_type": "code",
   "execution_count": null,
   "metadata": {},
   "outputs": [],
   "source": [
    "def second_highest_discount_market(data):\n",
    "    \n",
    "    market_segment_discount = data[data[\"discount\"] == 0.80]\n",
    "    sorted_segments = market_segment_discount.sort_values(by=\"discount\", ascending=False)\n",
    "    second_highest_discount_segment = sorted_segments.iloc[1][\"market\"]\n",
    "    \n",
    "    return second_highest_discount_segment"
   ]
  },
  {
   "cell_type": "code",
   "execution_count": null,
   "metadata": {
    "deletable": false,
    "nbgrader": {
     "cell_type": "code",
     "checksum": "b0c790a2527a4a0ea8ad4dc169d842ad",
     "grade": false,
     "grade_id": "cell-2dcfa33d66fab066",
     "locked": false,
     "schema_version": 3,
     "solution": true,
     "task": false
    }
   },
   "outputs": [],
   "source": [
    "def second_highest_discount_market(data):\n",
    "    \n",
    "    market_segment_discount = data.groupby(\"market\")[\"discount\"].mean().reset_index()\n",
    "    sorted_segments = market_segment_discount.sort_values(by=\"discount\", ascending=False)\n",
    "    second_highest_discount_segment = sorted_segments.iloc[1][\"market\"]\n",
    "    \n",
    "    return second_highest_discount_segment"
   ]
  },
  {
   "cell_type": "code",
   "execution_count": null,
   "metadata": {
    "deletable": false,
    "editable": false,
    "nbgrader": {
     "cell_type": "code",
     "checksum": "e25f91e5fae95abfd97716c0f1ea9c14",
     "grade": true,
     "grade_id": "cell-e89b4f5212d9af8c",
     "locked": true,
     "points": 5,
     "schema_version": 3,
     "solution": false,
     "task": false
    }
   },
   "outputs": [],
   "source": [
    "assert type(second_highest_discount_market(data=sales))==str,\"Please make sure that output is in string format\""
   ]
  },
  {
   "cell_type": "code",
   "execution_count": null,
   "metadata": {
    "deletable": false,
    "editable": false,
    "nbgrader": {
     "cell_type": "code",
     "checksum": "4b0319b178ef71f59ac098a100353f8a",
     "grade": true,
     "grade_id": "cell-e9bfdf6a222a9834",
     "locked": true,
     "points": 5,
     "schema_version": 3,
     "solution": false,
     "task": false
    }
   },
   "outputs": [],
   "source": [
    "# autograder cells , please do not alter/ delete /edit this cell,Kindly ignore this cell."
   ]
  },
  {
   "cell_type": "code",
   "execution_count": null,
   "metadata": {},
   "outputs": [],
   "source": [
    "second_highest_discount_market(data=sales)"
   ]
  },
  {
   "cell_type": "markdown",
   "metadata": {
    "deletable": false,
    "editable": false,
    "nbgrader": {
     "cell_type": "markdown",
     "checksum": "63c0f51652abb507895ce8a14a33605f",
     "grade": false,
     "grade_id": "cell-c3bbdffbbf5b01d3",
     "locked": true,
     "schema_version": 3,
     "solution": false,
     "task": false
    }
   },
   "source": [
    "### Q5.\tWhich product was sold the most (in terms of quantity) within the subcategory ‘Copiers’ and how many units were sold? Return output as a tuple (product name, quantities sold)"
   ]
  },
  {
   "cell_type": "code",
   "execution_count": null,
   "metadata": {},
   "outputs": [],
   "source": [
    "copier = sales[sales[\"sub_category\"] == \"Copiers\"]\n",
    "copier"
   ]
  },
  {
   "cell_type": "code",
   "execution_count": null,
   "metadata": {},
   "outputs": [],
   "source": [
    "# Group by product_name and sum the quantity\n",
    "total_quantity_by_product = combined_data.groupby('product_name')['quantity'].sum()"
   ]
  },
  {
   "cell_type": "code",
   "execution_count": null,
   "metadata": {},
   "outputs": [],
   "source": []
  },
  {
   "cell_type": "code",
   "execution_count": null,
   "metadata": {
    "deletable": false,
    "nbgrader": {
     "cell_type": "code",
     "checksum": "8383beb26507c74efd7cdf244ac9eeef",
     "grade": false,
     "grade_id": "cell-2372c765dbb61495",
     "locked": false,
     "schema_version": 3,
     "solution": true,
     "task": false
    }
   },
   "outputs": [],
   "source": [
    "def copier_sales(data):\n",
    "    # your code here"
   ]
  },
  {
   "cell_type": "code",
   "execution_count": null,
   "metadata": {
    "deletable": false,
    "editable": false,
    "nbgrader": {
     "cell_type": "code",
     "checksum": "96f066b3fdf4a906817a637309784ee6",
     "grade": true,
     "grade_id": "cell-d88992c7c676a693",
     "locked": true,
     "points": 5,
     "schema_version": 3,
     "solution": false,
     "task": false
    }
   },
   "outputs": [],
   "source": [
    "assert type(copier_sales(data=sales)[0])==str,\"Please check the data type of answer , product name should be string.\"\n",
    "assert type(copier_sales(data=sales)[1])==np.int64,\"Please check the data type of answer , quantity sold should be an integer.\""
   ]
  },
  {
   "cell_type": "code",
   "execution_count": null,
   "metadata": {
    "deletable": false,
    "editable": false,
    "nbgrader": {
     "cell_type": "code",
     "checksum": "a7cb3ba0eff4b150047964d4a25683ba",
     "grade": true,
     "grade_id": "cell-7523c1f6679181a6",
     "locked": true,
     "points": 5,
     "schema_version": 3,
     "solution": false,
     "task": false
    }
   },
   "outputs": [],
   "source": [
    "# autograder cells , please do not alter/ delete /edit this cell,Kindly ignore this cell."
   ]
  },
  {
   "cell_type": "markdown",
   "metadata": {
    "deletable": false,
    "editable": false,
    "nbgrader": {
     "cell_type": "markdown",
     "checksum": "f3529b9a41e50bd6a003909fe2d875ed",
     "grade": false,
     "grade_id": "cell-7d4673f0c3ddbce3",
     "locked": true,
     "schema_version": 3,
     "solution": false,
     "task": false
    }
   },
   "source": [
    "### Q6.\tIn 2014, which customer (identify by name) contributed to the highest total profit and how much was it (Round it to 4 digits) ? Return output as a tuple (customer name, profit)"
   ]
  },
  {
   "cell_type": "code",
   "execution_count": null,
   "metadata": {
    "deletable": false,
    "nbgrader": {
     "cell_type": "code",
     "checksum": "0ad59585f585cfbb2b4751899897881e",
     "grade": false,
     "grade_id": "cell-2f80a755e05bee76",
     "locked": false,
     "schema_version": 3,
     "solution": true,
     "task": false
    }
   },
   "outputs": [],
   "source": [
    "def cust_prof(data):      \n",
    "    ### Extract order year from order date. You can use dt.year functions\n",
    "    # your code here\n",
    "    \n",
    "    data['order_year']=None \n",
    "    \n",
    "    ### Filter data for yr 2014\n",
    "    sales_yr= None\n",
    "    \n",
    "    \n",
    "    #### Aggregate the profits wrto customer name , you can make use of .groupby() function in pandas\n",
    "    cust_profit=None\n",
    "     \n",
    "    ### Round the profit column to 4 decimal numbers  ,You can make use of round() function for rounding off \n",
    "    cust_profit['profit']=None\n",
    "    \n",
    "    ## sort the dataframe with decreasing order of profits.\n",
    "    None\n",
    "    \n",
    "    ### Store customer_name with highest profit in variables below. \n",
    "    customer_name=None\n",
    "    customer_profit=None\n",
    "    \n",
    "    \n",
    "    return customer_name,customer_profit"
   ]
  },
  {
   "cell_type": "code",
   "execution_count": null,
   "metadata": {
    "deletable": false,
    "editable": false,
    "nbgrader": {
     "cell_type": "code",
     "checksum": "17707ba83b8b74f63de37390df959b82",
     "grade": true,
     "grade_id": "cell-0659fb2c54ca2128",
     "locked": true,
     "points": 10,
     "schema_version": 3,
     "solution": false,
     "task": false
    }
   },
   "outputs": [],
   "source": [
    "assert type(cust_prof(data=sales)[0])==str,\"Please check the data type of answer , customer name should be string.\"\n",
    "assert type(cust_prof(data=sales)[1])==np.float64,\"Please check the data type of answer , profit recorded should be float.\""
   ]
  },
  {
   "cell_type": "code",
   "execution_count": null,
   "metadata": {
    "deletable": false,
    "editable": false,
    "nbgrader": {
     "cell_type": "code",
     "checksum": "6b234620331a145a732942ed7ab9be72",
     "grade": true,
     "grade_id": "cell-1fa5045852195c41",
     "locked": true,
     "points": 10,
     "schema_version": 3,
     "solution": false,
     "task": false
    }
   },
   "outputs": [],
   "source": [
    "# autograder cells , please do not alter/ delete /edit this cell,Kindly ignore this cell."
   ]
  },
  {
   "cell_type": "markdown",
   "metadata": {
    "deletable": false,
    "editable": false,
    "nbgrader": {
     "cell_type": "markdown",
     "checksum": "a8323869d66b02aefb106d728ea34ff7",
     "grade": false,
     "grade_id": "cell-01e1a000155e7e1e",
     "locked": true,
     "schema_version": 3,
     "solution": false,
     "task": false
    }
   },
   "source": [
    "### Q7.\tHow much do the different categories of items contribute to total sales? \n",
    "**Return output dataframe consisting 2 columns 'category' (product category),'sales_perc' (sales % values).**\n",
    "\n",
    "**Make sure to round off sales percentage values to 2 decimals.**"
   ]
  },
  {
   "cell_type": "code",
   "execution_count": null,
   "metadata": {
    "deletable": false,
    "nbgrader": {
     "cell_type": "code",
     "checksum": "bbfd0d7a0f101c5506bdecd4eeaa3321",
     "grade": false,
     "grade_id": "cell-aeeb4124ab318d78",
     "locked": false,
     "schema_version": 3,
     "solution": true,
     "task": false
    }
   },
   "outputs": [],
   "source": [
    "def cat_sales_contri(data):\n",
    "    # your code here"
   ]
  },
  {
   "cell_type": "code",
   "execution_count": null,
   "metadata": {
    "deletable": false,
    "editable": false,
    "nbgrader": {
     "cell_type": "code",
     "checksum": "068ed77521d25c553a2ba388f0bc4560",
     "grade": true,
     "grade_id": "cell-a509c09c77a96597",
     "locked": true,
     "points": 5,
     "schema_version": 3,
     "solution": false,
     "task": false
    }
   },
   "outputs": [],
   "source": [
    "assert type(cat_sales_contri(data=sales))==pd.DataFrame,\"Please check the data type of answer , it should be a dataframe.\"\n",
    "assert cat_sales_contri(data=sales).shape==(3,2),\"Please check the data shape, total row count should be equal to number of unique categories.\""
   ]
  },
  {
   "cell_type": "code",
   "execution_count": null,
   "metadata": {
    "deletable": false,
    "editable": false,
    "nbgrader": {
     "cell_type": "code",
     "checksum": "3e306b69ee7d927d8345e133837c7560",
     "grade": true,
     "grade_id": "cell-bbb943a227501894",
     "locked": true,
     "points": 5,
     "schema_version": 3,
     "solution": false,
     "task": false
    }
   },
   "outputs": [],
   "source": [
    "# autograder cells , please do not alter/ delete /edit this cell,Kindly ignore this cell."
   ]
  },
  {
   "cell_type": "markdown",
   "metadata": {
    "deletable": false,
    "editable": false,
    "nbgrader": {
     "cell_type": "markdown",
     "checksum": "60836c0d3edfc1471150663cb1d9ec25",
     "grade": false,
     "grade_id": "cell-d679ced554385437",
     "locked": true,
     "schema_version": 3,
     "solution": false,
     "task": false
    }
   },
   "source": [
    "### Q8. Can we identify the customers who have not made any purchases in the last 12 months, so that we can send them some promotional material to encourage them to come back and shop with us? \n",
    "\n",
    "**Return the output as a data frame with three columns: 'customer_name','customer_id' and 'Total_sales' (total sales amount that customer has accrued). Make sure that you are returning the mentioned column names in same sequence & as same spelled.**"
   ]
  },
  {
   "cell_type": "markdown",
   "metadata": {
    "deletable": false,
    "editable": false,
    "nbgrader": {
     "cell_type": "markdown",
     "checksum": "6f9ab9ab84f7ddbe1f0e509681eed223",
     "grade": false,
     "grade_id": "cell-6908547840ef5a6d",
     "locked": true,
     "schema_version": 3,
     "solution": false,
     "task": false
    }
   },
   "source": [
    "**Hint:-**\n",
    "\n",
    "You might think of working on this logic\n",
    "\n",
    "1. Calculate latest order date for every customer\n",
    "2. Calculate yr back order date by offsetting latest date by 365 days (you can make use of pd.DateOffset(days=) function)\n",
    "3. Check if order date is in between yr_back_order date and latest_order_date, create binary flag.\n",
    "4. For every customer,you will get multiple order dates which are before yr old order date. Aggregate the flag at user level.\n",
    "5. Check for a customer if all the flags indicating that order date are before 1 yr then mark that customer as one who hasnt made any transations in last yr.\n",
    "6. Take out its name by joining with customer data and aggregate it for finding total sales. "
   ]
  },
  {
   "cell_type": "code",
   "execution_count": null,
   "metadata": {
    "deletable": false,
    "nbgrader": {
     "cell_type": "code",
     "checksum": "dcd1bb2e0555441b875594a7432a423e",
     "grade": false,
     "grade_id": "cell-3fca9a4c82b93bf0",
     "locked": false,
     "schema_version": 3,
     "solution": true,
     "task": false
    }
   },
   "outputs": [],
   "source": [
    "def cust_purc(data):\n",
    "    # your code here\n",
    "    \n",
    "    ### Groupby customer_id & consider latest order_date, name this dataframe as purchase_date. \n",
    "    purchase_date=None\n",
    "    purchase_date.rename(columns={'order_date':'latest_purchase_date'},inplace=True)\n",
    "    \n",
    "    #### Calculate 'yr_back_order_date' by offsetting the latest_purchase_date by 365 days , make use of pd.DateOffset() function.\n",
    "    purchase_date['yr_back_order_date']=None\n",
    "    \n",
    "    ### Offset the latest_purchase_date by 1 more day in order to avoid intersection with latest_order_date.\n",
    "    purchase_date['latest_purchase_date']=None\n",
    "    \n",
    "    ### We have purchase-date data ready with us so now its time to merge it with original sales data\n",
    "    data=data.merge(purchase_date,on=None,how=None)\n",
    "    \n",
    "    #### Check if order_date falls in between 'yr_back_order_date','latest_purchase_date' , if 'yes' flag it as 1 else 0. \n",
    "    data['purchase_flag']=None\n",
    "\n",
    "    #### Calculate sum of all flag per customer_id by using groupby() function, call this flag total as '# purchases_in_last_yr'\n",
    "    purchase_in_lst_yr=None\n",
    "    purchase_in_lst_yr.rename(columns={'purchase_flag':'# purchases_in_last_yr'},inplace=True)\n",
    "    \n",
    "    \n",
    "    #### Merge the purchase_in_lst_yr with sales data.\n",
    "    data=data.merge(purchase_in_lst_yr,on=None,how=None)\n",
    "    \n",
    "    #### Select the customers who have 0 in '# purchases_in_last_yr' as this will be customers who havent purchased anything in last yr.\n",
    "    sales_df=None\n",
    "    \n",
    "    ### Its time to do final aggregation for selected customers cosnider their name , id & aggregate it on sales column for getting total sales.\n",
    "    sales_df_1=None\n",
    "    \n",
    "    return sales_df_1[['customer_name','customer_id','Total_sales']] ### You can replace sales_df_1 by your dataframe name.\n"
   ]
  },
  {
   "cell_type": "code",
   "execution_count": null,
   "metadata": {
    "deletable": false,
    "editable": false,
    "nbgrader": {
     "cell_type": "code",
     "checksum": "b69862a14d10d58c4f0486c8eb2aa35e",
     "grade": true,
     "grade_id": "cell-af43b1cfc50161bf",
     "locked": true,
     "points": 10,
     "schema_version": 3,
     "solution": false,
     "task": false
    }
   },
   "outputs": [],
   "source": [
    "assert type(cust_purc(data=sales))==pd.DataFrame,\"Please check the data type of answer , it should be dataframe.\"\n",
    "assert cust_purc(data=sales).shape==(109,3),\"Please check the data shape.\""
   ]
  },
  {
   "cell_type": "code",
   "execution_count": null,
   "metadata": {
    "deletable": false,
    "editable": false,
    "nbgrader": {
     "cell_type": "code",
     "checksum": "e6a0fbb26ff61eb374ba06e52cb799b2",
     "grade": true,
     "grade_id": "cell-a75ce88e766af09e",
     "locked": true,
     "points": 10,
     "schema_version": 3,
     "solution": false,
     "task": false
    }
   },
   "outputs": [],
   "source": [
    "# autograder cells , please do not alter/ delete /edit this cell,Kindly ignore this cell."
   ]
  }
 ],
 "metadata": {
  "kernelspec": {
   "display_name": "Python 3 (ipykernel)",
   "language": "python",
   "name": "python3"
  },
  "language_info": {
   "codemirror_mode": {
    "name": "ipython",
    "version": 3
   },
   "file_extension": ".py",
   "mimetype": "text/x-python",
   "name": "python",
   "nbconvert_exporter": "python",
   "pygments_lexer": "ipython3",
   "version": "3.9.12"
  }
 },
 "nbformat": 4,
 "nbformat_minor": 4
}
