{
 "cells": [
  {
   "cell_type": "markdown",
   "id": "090d6cf6",
   "metadata": {},
   "source": [
    "## Module 4: Data preprocessing\n",
    "In the previous lesson, we discussed missing value treatment, which is one of the steps in data preprocessing. Now, we will learn some techniques for data transformation, another important step in preprocessing."
   ]
  },
  {
   "cell_type": "markdown",
   "id": "8095674f",
   "metadata": {},
   "source": [
    "### Lesson 2: Data Transformation\n",
    "- Data transformation refers to the process of converting data from one format, structure or representation into another. \n",
    "- One of the techniques in data transformation is to convert the categorical data into numerical format."
   ]
  },
  {
   "cell_type": "markdown",
   "id": "b1f63bdf",
   "metadata": {},
   "source": [
    "### Part 4.2.1  :  Working with categoric features\n",
    "Let us first understand the types of categorical data:\n",
    "- **Nominal Data:** \n",
    "    - Nominal data represent distinct categories or labels with no specific order or ranking among them. \n",
    "    - These categories are typically mutually exclusive.\n",
    "    - Examples: colors (red, green, blue), countries (India, USA, France) etc.\n",
    "    - Nominal data can be counted and we can find a mode, but you cannot perform arithmetic operations or calculate measures like the mean or median on nominal data.\n",
    "- **Ordinal Data:**\n",
    "    - Ordinal data also represent categories, but they have a specific order or ranking between them. \n",
    "    - Examples: Education levels (high school, bachelor's, master's), customer satisfaction ratings (very dissatisfied, somewhat dissatisfied, neutral, satisfied, very satisfied).\n",
    "\n",
    "- One can perform basic mathematical operations like counting and finding modes on ordinal data. However, the central tendency measures (mean, median) may not always be meaningful."
   ]
  },
  {
   "cell_type": "markdown",
   "id": "ee1d8c94",
   "metadata": {},
   "source": [
    "## Sometimes data that is actually numeric can also appear to be categoric\n",
    "\n",
    "- **Interval Data:**\n",
    "    - Interval data represent numeric values may be reported as bins. \n",
    "    - For example, score on a test may be reported as 0-10, 10-20, 20-30 etc.\n",
    "    - One can perform arithmetic operations like addition and subtraction on interval data. However, multiplication and division do not make sense. We can calculate measures like the mean and standard deviation.\n",
    "- **Ratio Data:**\n",
    "    - Ratio data is defined as quantitative data, having the same properties as interval data, with an equal and definitive ratio between each data and absolute “zero” being treated as a point of origin. In other words, there can be no negative numerical value in ratio data.\n",
    "    - Ratios between values have a meaningful interpretation.\n",
    "    - Examples: Height, weight, age, income, distance, time (in seconds).\n",
    "    - We can perform all mathematical operations (addition, subtraction, multiplication, division) on ratio data. We can calculate meaningful measures like the mean, median, standard deviation, and meaningful ratios (e.g., income ratios).\n",
    "        \n",
    "- Understanding the data type of the variables is crucial for selecting appropriate statistical techniques and understanding the nature of our data. \n",
    "- Nominal and ordinal data are often qualitative, while interval and ratio data are quantitative. \n",
    "- The choice of data type influences the types of analyses and visualizations that are most appropriate for our data."
   ]
  },
  {
   "cell_type": "markdown",
   "id": "1db33770",
   "metadata": {},
   "source": [
    "#### Data transformation is a crucial step in the data preprocessing pipeline\n",
    "- It helps improve the quality, usability, and compatibility of data for analysis, modeling, and decision-making. \n",
    "- Many analytical and machine learning algorithms require numerical input. Data transformation techniques like one-hot encoding or label encoding are used to convert categorical variables into numerical form, making them suitable for modeling.\n",
    "- In some cases, data transformation is done for compliance and privacy reaons. Transformation techniques can be used to anonymize or mask data to comply with privacy regulations and protect sensitive information."
   ]
  },
  {
   "cell_type": "code",
   "execution_count": null,
   "id": "d12b1ac4",
   "metadata": {},
   "outputs": [],
   "source": []
  },
  {
   "cell_type": "code",
   "execution_count": null,
   "id": "e9ef161f",
   "metadata": {},
   "outputs": [],
   "source": []
  },
  {
   "cell_type": "code",
   "execution_count": null,
   "id": "aac1653a",
   "metadata": {},
   "outputs": [],
   "source": []
  },
  {
   "cell_type": "code",
   "execution_count": null,
   "id": "29d32665",
   "metadata": {},
   "outputs": [],
   "source": []
  },
  {
   "cell_type": "code",
   "execution_count": null,
   "id": "6a8e7a2e",
   "metadata": {},
   "outputs": [],
   "source": []
  },
  {
   "cell_type": "markdown",
   "id": "ebf1b981",
   "metadata": {},
   "source": [
    "### Part 4.2.2  :  Transforming the features\n",
    "- In this lecture, we will discuss the concept of **binning** and **discretization** of the attributes.\n",
    "- Binning and discretization are data preprocessing techniques used to transform continuous or numerical data into discrete categories or intervals. \n",
    "- These techniques are often applied when you want to simplify data, reduce its dimensionality, or make it suitable for specific analysis or modeling methods.\n",
    "\n",
    "#### Binning:\n",
    "- Binning or bucketing, involves dividing a range of continuous values into smaller, discrete intervals or bins.\n",
    "- Binning is useful for:\n",
    "    - **Simplifying data:** Binning can simplify complex data by reducing the number of unique values and highlighting patterns within the data.\n",
    "    - **Reducing noise:** It can help reduce the impact of outliers or extreme values by grouping them with nearby data points.\n",
    "    - **Visualizations:** Binned data is often used for creating histograms, bar charts, or other visualizations to show the distribution of values.\n",
    "- Types of Binning:\n",
    "    - **Equal Width Binning:** Divide the data range into bins of equal width. This approach is straightforward but may not work well if the data distribution is skewed.\n",
    "    - **Equal Frequency Binning:** Create bins such that each bin contains approximately the same number of data points. This can be useful for ensuring each category has a similar representation.\n",
    "    - **Custom Binning:** Define bins based on domain knowledge or specific requirements. This allows for more flexibility in bin creation.\n",
    "    \n",
    "    \n",
    "#### Discretization:\n",
    "- Discretization is the process of converting continuous data into discrete values or categories. \n",
    "- Unlike binning, discretization may not necessarily involve equal-width or equal-frequency intervals.\n",
    "- Discretization is useful for:\n",
    "    - **Making data suitable for algorithms:** Some machine learning algorithms, such as decision trees and association rule mining, work better with discrete data.\n",
    "    - **Handling assumptions:** Discretization can help meet the assumptions of certain statistical tests or models that require categorical data.\n",
    "    - **Interpretability:** Discretized data can be more interpretable and easier to communicate to non-technical audiences.\n",
    "- Few methods of discretization:\n",
    "    - **Fixed Width Discretization:** Similar to equal-width binning, you define fixed-width intervals, and data points are assigned to the appropriate interval based on their values.\n",
    "    - **Quantile-Based Discretization:** Data points are assigned to intervals based on percentiles, such as quartiles or quintiles.\n",
    "    - **Domain-Based Discretization:** Experts or domain knowledge can guide the definition of categories or thresholds based on the context of the data.\n",
    "    "
   ]
  },
  {
   "cell_type": "markdown",
   "id": "cc33cc92",
   "metadata": {},
   "source": [
    "**NOTE:**\n",
    "- Binning and discretization are sometimes used interchangeably because they both involve converting continuous data into discrete categories or intervals. However, discretization is a broad term that encompasses various techniques for converting continuous data into discrete values or categories.\n",
    "- Discretization methods can include not only binning but also other techniques like quantization, clustering, or encoding continuous values as categorical variables.\n",
    "- Discretization methods can be based on statistical considerations, machine learning algorithms (e.g., k-means clustering for discretization), or domain-specific knowledge."
   ]
  },
  {
   "cell_type": "code",
   "execution_count": 1,
   "id": "0064b7a0",
   "metadata": {
    "code_folding": []
   },
   "outputs": [],
   "source": [
    "# Import the required packages\n",
    "import pandas as pd\n",
    "import numpy as np\n",
    "import matplotlib.pyplot as plt\n",
    "import warnings\n",
    "\n",
    "# Suppress all warnings\n",
    "warnings.filterwarnings(\"ignore\")"
   ]
  },
  {
   "cell_type": "markdown",
   "id": "2887c876",
   "metadata": {},
   "source": [
    "#### Bin the *Page_traffic* column\n",
    "- As we have seen earlier, the *Page_traffic* has huge variation.\n",
    "- So, let us bin this continuous numerical variable into 5 different bins and visualize the data."
   ]
  },
  {
   "cell_type": "code",
   "execution_count": 2,
   "id": "9a2a46df",
   "metadata": {
    "code_folding": []
   },
   "outputs": [
    {
     "data": {
      "text/html": [
       "<div>\n",
       "<style scoped>\n",
       "    .dataframe tbody tr th:only-of-type {\n",
       "        vertical-align: middle;\n",
       "    }\n",
       "\n",
       "    .dataframe tbody tr th {\n",
       "        vertical-align: top;\n",
       "    }\n",
       "\n",
       "    .dataframe thead th {\n",
       "        text-align: right;\n",
       "    }\n",
       "</style>\n",
       "<table border=\"1\" class=\"dataframe\">\n",
       "  <thead>\n",
       "    <tr style=\"text-align: right;\">\n",
       "      <th></th>\n",
       "      <th>SKU ID</th>\n",
       "      <th>Date</th>\n",
       "      <th>Manufacturer</th>\n",
       "      <th>Sector</th>\n",
       "      <th>Category</th>\n",
       "      <th>Segment</th>\n",
       "      <th>Brand</th>\n",
       "      <th>Revenue($)</th>\n",
       "      <th>Units_sold</th>\n",
       "      <th>Page_traffic</th>\n",
       "    </tr>\n",
       "  </thead>\n",
       "  <tbody>\n",
       "    <tr>\n",
       "      <th>0</th>\n",
       "      <td>SKU1029</td>\n",
       "      <td>05-01-21</td>\n",
       "      <td>Synergix solutions</td>\n",
       "      <td>Oral Care</td>\n",
       "      <td>Toothpaste</td>\n",
       "      <td>Whitening Toothpaste</td>\n",
       "      <td>Close-up</td>\n",
       "      <td>0</td>\n",
       "      <td>0</td>\n",
       "      <td>0.0</td>\n",
       "    </tr>\n",
       "    <tr>\n",
       "      <th>1</th>\n",
       "      <td>SKU1054</td>\n",
       "      <td>05-08-21</td>\n",
       "      <td>Synergix solutions</td>\n",
       "      <td>Oral Care</td>\n",
       "      <td>Toothpaste</td>\n",
       "      <td>Fluoride-Free Toothpaste</td>\n",
       "      <td>Tom's of Maine</td>\n",
       "      <td>0</td>\n",
       "      <td>0</td>\n",
       "      <td>0.0</td>\n",
       "    </tr>\n",
       "    <tr>\n",
       "      <th>2</th>\n",
       "      <td>SKU1068</td>\n",
       "      <td>01-08-22</td>\n",
       "      <td>Synergix solutions</td>\n",
       "      <td>Oral Care</td>\n",
       "      <td>Toothpaste</td>\n",
       "      <td>Fluoride-Free Toothpaste</td>\n",
       "      <td>Himalaya Herbals</td>\n",
       "      <td>0</td>\n",
       "      <td>0</td>\n",
       "      <td>0.0</td>\n",
       "    </tr>\n",
       "    <tr>\n",
       "      <th>3</th>\n",
       "      <td>SKU1056</td>\n",
       "      <td>11-05-22</td>\n",
       "      <td>Synergix solutions</td>\n",
       "      <td>Oral Care</td>\n",
       "      <td>Toothpaste</td>\n",
       "      <td>Fluoride-Free Toothpaste</td>\n",
       "      <td>Tom's of Maine</td>\n",
       "      <td>0</td>\n",
       "      <td>0</td>\n",
       "      <td>0.0</td>\n",
       "    </tr>\n",
       "    <tr>\n",
       "      <th>4</th>\n",
       "      <td>SKU1061</td>\n",
       "      <td>12-10-22</td>\n",
       "      <td>Synergix solutions</td>\n",
       "      <td>Oral Care</td>\n",
       "      <td>Toothpaste</td>\n",
       "      <td>Fluoride-Free Toothpaste</td>\n",
       "      <td>Himalaya Herbals</td>\n",
       "      <td>0</td>\n",
       "      <td>0</td>\n",
       "      <td>0.0</td>\n",
       "    </tr>\n",
       "  </tbody>\n",
       "</table>\n",
       "</div>"
      ],
      "text/plain": [
       "    SKU ID      Date         Manufacturer     Sector    Category  \\\n",
       "0  SKU1029  05-01-21  Synergix solutions   Oral Care  Toothpaste   \n",
       "1  SKU1054  05-08-21  Synergix solutions   Oral Care  Toothpaste   \n",
       "2  SKU1068  01-08-22  Synergix solutions   Oral Care  Toothpaste   \n",
       "3  SKU1056  11-05-22  Synergix solutions   Oral Care  Toothpaste   \n",
       "4  SKU1061  12-10-22  Synergix solutions   Oral Care  Toothpaste   \n",
       "\n",
       "                    Segment             Brand  Revenue($)  Units_sold  \\\n",
       "0      Whitening Toothpaste          Close-up           0           0   \n",
       "1  Fluoride-Free Toothpaste    Tom's of Maine           0           0   \n",
       "2  Fluoride-Free Toothpaste  Himalaya Herbals           0           0   \n",
       "3  Fluoride-Free Toothpaste    Tom's of Maine           0           0   \n",
       "4  Fluoride-Free Toothpaste  Himalaya Herbals           0           0   \n",
       "\n",
       "   Page_traffic  \n",
       "0           0.0  \n",
       "1           0.0  \n",
       "2           0.0  \n",
       "3           0.0  \n",
       "4           0.0  "
      ]
     },
     "execution_count": 2,
     "metadata": {},
     "output_type": "execute_result"
    }
   ],
   "source": [
    "# read the version of the data where missing values are treated\n",
    "pos_data=pd.read_csv('POS_Filled_Data.csv',index_col=[0])\n",
    "pos_data.head()"
   ]
  },
  {
   "cell_type": "markdown",
   "id": "fd48e46d",
   "metadata": {},
   "source": [
    "We'll use the pandas function `pd.qcut()` to do the binning"
   ]
  },
  {
   "cell_type": "code",
   "execution_count": 3,
   "id": "565486aa",
   "metadata": {
    "code_folding": []
   },
   "outputs": [
    {
     "data": {
      "text/html": [
       "<div>\n",
       "<style scoped>\n",
       "    .dataframe tbody tr th:only-of-type {\n",
       "        vertical-align: middle;\n",
       "    }\n",
       "\n",
       "    .dataframe tbody tr th {\n",
       "        vertical-align: top;\n",
       "    }\n",
       "\n",
       "    .dataframe thead th {\n",
       "        text-align: right;\n",
       "    }\n",
       "</style>\n",
       "<table border=\"1\" class=\"dataframe\">\n",
       "  <thead>\n",
       "    <tr style=\"text-align: right;\">\n",
       "      <th></th>\n",
       "      <th>SKU ID</th>\n",
       "      <th>Date</th>\n",
       "      <th>Manufacturer</th>\n",
       "      <th>Sector</th>\n",
       "      <th>Category</th>\n",
       "      <th>Segment</th>\n",
       "      <th>Brand</th>\n",
       "      <th>Revenue($)</th>\n",
       "      <th>Units_sold</th>\n",
       "      <th>Page_traffic</th>\n",
       "      <th>Page_traffic_bin</th>\n",
       "    </tr>\n",
       "  </thead>\n",
       "  <tbody>\n",
       "    <tr>\n",
       "      <th>20042</th>\n",
       "      <td>SKU1242</td>\n",
       "      <td>7/24/2021</td>\n",
       "      <td>Synergix solutions</td>\n",
       "      <td>Fabric Care</td>\n",
       "      <td>Laundry Detergents</td>\n",
       "      <td>Powder</td>\n",
       "      <td>Gain</td>\n",
       "      <td>18694</td>\n",
       "      <td>1185</td>\n",
       "      <td>4960.0</td>\n",
       "      <td>(3964.0, 10696.0]</td>\n",
       "    </tr>\n",
       "    <tr>\n",
       "      <th>8352</th>\n",
       "      <td>SKU1224</td>\n",
       "      <td>9/18/2021</td>\n",
       "      <td>Synergix solutions</td>\n",
       "      <td>Fabric Care</td>\n",
       "      <td>Fabric Softeners</td>\n",
       "      <td>Dryer Sheets</td>\n",
       "      <td>Gain</td>\n",
       "      <td>26567</td>\n",
       "      <td>1382</td>\n",
       "      <td>1710.0</td>\n",
       "      <td>(734.0, 2753.0]</td>\n",
       "    </tr>\n",
       "    <tr>\n",
       "      <th>25717</th>\n",
       "      <td>SKU1341</td>\n",
       "      <td>10/30/2021</td>\n",
       "      <td>Synergix solutions</td>\n",
       "      <td>Beauty and Personal Care</td>\n",
       "      <td>Skincare</td>\n",
       "      <td>Anti-aging</td>\n",
       "      <td>Clinique</td>\n",
       "      <td>0</td>\n",
       "      <td>0</td>\n",
       "      <td>742.0</td>\n",
       "      <td>(734.0, 2753.0]</td>\n",
       "    </tr>\n",
       "    <tr>\n",
       "      <th>11197</th>\n",
       "      <td>SKU1204</td>\n",
       "      <td>08-07-21</td>\n",
       "      <td>Synergix solutions</td>\n",
       "      <td>Fabric Care</td>\n",
       "      <td>Fabric Softeners</td>\n",
       "      <td>Fabric_Liquid</td>\n",
       "      <td>comfort</td>\n",
       "      <td>25674</td>\n",
       "      <td>1736</td>\n",
       "      <td>5480.0</td>\n",
       "      <td>(3964.0, 10696.0]</td>\n",
       "    </tr>\n",
       "    <tr>\n",
       "      <th>3114</th>\n",
       "      <td>SKU1083</td>\n",
       "      <td>2/27/2021</td>\n",
       "      <td>Synergix solutions</td>\n",
       "      <td>Oral Care</td>\n",
       "      <td>Toothbrushes</td>\n",
       "      <td>Electric Toothbrushes</td>\n",
       "      <td>Oral-B</td>\n",
       "      <td>35822</td>\n",
       "      <td>1267</td>\n",
       "      <td>2011.0</td>\n",
       "      <td>(734.0, 2753.0]</td>\n",
       "    </tr>\n",
       "  </tbody>\n",
       "</table>\n",
       "</div>"
      ],
      "text/plain": [
       "        SKU ID        Date         Manufacturer                    Sector  \\\n",
       "20042  SKU1242   7/24/2021  Synergix solutions                Fabric Care   \n",
       "8352   SKU1224   9/18/2021  Synergix solutions                Fabric Care   \n",
       "25717  SKU1341  10/30/2021  Synergix solutions   Beauty and Personal Care   \n",
       "11197  SKU1204    08-07-21  Synergix solutions                Fabric Care   \n",
       "3114   SKU1083   2/27/2021  Synergix solutions                  Oral Care   \n",
       "\n",
       "                 Category                Segment     Brand  Revenue($)  \\\n",
       "20042  Laundry Detergents                 Powder      Gain       18694   \n",
       "8352     Fabric Softeners           Dryer Sheets      Gain       26567   \n",
       "25717            Skincare             Anti-aging  Clinique           0   \n",
       "11197    Fabric Softeners          Fabric_Liquid   comfort       25674   \n",
       "3114         Toothbrushes  Electric Toothbrushes    Oral-B       35822   \n",
       "\n",
       "       Units_sold  Page_traffic   Page_traffic_bin  \n",
       "20042        1185        4960.0  (3964.0, 10696.0]  \n",
       "8352         1382        1710.0    (734.0, 2753.0]  \n",
       "25717           0         742.0    (734.0, 2753.0]  \n",
       "11197        1736        5480.0  (3964.0, 10696.0]  \n",
       "3114         1267        2011.0    (734.0, 2753.0]  "
      ]
     },
     "execution_count": 3,
     "metadata": {},
     "output_type": "execute_result"
    }
   ],
   "source": [
    "# doing the binning\n",
    "pos_data['Page_traffic_bin'] = pd.qcut(pos_data['Page_traffic'], \\\n",
    "                                       q = 5, precision = 0, duplicates = 'drop')\n",
    "pos_data.sample(100).head()"
   ]
  },
  {
   "cell_type": "markdown",
   "id": "131bcb14",
   "metadata": {},
   "source": [
    "**Explanation:**\n",
    "- We have created a new column to store the binned data.\n",
    "- The pandas `qcut()` method is used to divide the column values into bins.\n",
    "- We are dividing the values into 5 bins. \n",
    "- However, as there are many zeros in this column, the first bin will consists of only zeros and we will get bin ranges as (0,0] for the first bin. We need to use the *duplicates* parameter to drop such bins. \n",
    "- Since page traffic (number of visitors to the web page) should be an integer, we have made the bin boundaries to be integers by setting precision to zero."
   ]
  },
  {
   "cell_type": "code",
   "execution_count": 4,
   "id": "2f136711",
   "metadata": {
    "code_folding": []
   },
   "outputs": [
    {
     "data": {
      "text/plain": [
       "(-1.0, 734.0]        12474\n",
       "(734.0, 2753.0]       6238\n",
       "(2753.0, 3964.0]      6237\n",
       "(3964.0, 10696.0]     6236\n",
       "Name: Page_traffic_bin, dtype: int64"
      ]
     },
     "execution_count": 4,
     "metadata": {},
     "output_type": "execute_result"
    }
   ],
   "source": [
    "# check the number of values in each bin\n",
    "pos_data['Page_traffic_bin'].value_counts()"
   ]
  },
  {
   "cell_type": "markdown",
   "id": "57315d93",
   "metadata": {},
   "source": [
    "**Plot the bar graph of bins and the corresponding frequency**"
   ]
  },
  {
   "cell_type": "code",
   "execution_count": 5,
   "id": "19dc3625",
   "metadata": {
    "code_folding": []
   },
   "outputs": [
    {
     "data": {
      "image/png": "[encoded data removed]",
      "text/plain": [
       "<Figure size 600x400 with 1 Axes>"
      ]
     },
     "metadata": {},
     "output_type": "display_data"
    }
   ],
   "source": [
    "# plot the frequencies\n",
    "ax = pos_data['Page_traffic_bin'].value_counts(sort = False).plot.bar(color = \"b\", figsize = (6,4))\n",
    "plt.xticks(rotation = 0, fontsize = 8)\n",
    "plt.xlabel('Page Traffic',fontsize = 10)\n",
    "plt.ylabel('Frequency',fontsize = 10)\n",
    "plt.show()"
   ]
  },
  {
   "cell_type": "markdown",
   "id": "9c012301",
   "metadata": {},
   "source": [
    "#### Discretize the *Page_traffic* column\n",
    "- Sometimes we may not be interested in the actual number of visitors for the product page on the e-commerce website.\n",
    "- Instead, we may want to understand whether the number of visitors is low, medium or high.\n",
    "- So, let us discretize the *Page_traffic* column in to 3 levels: low, medium and high."
   ]
  },
  {
   "cell_type": "code",
   "execution_count": null,
   "id": "ce48ebba",
   "metadata": {
    "code_folding": []
   },
   "outputs": [],
   "source": [
    "# turning the numeric data in discretized data\n",
    "pos_data['Page_traffic_equal_bin']= pd.cut(pos_data['Page_traffic'], bins = 3, \\\n",
    "                                           labels = ['Low', 'Medium', 'High'])"
   ]
  },
  {
   "cell_type": "code",
   "execution_count": 9,
   "id": "8fa4af7d",
   "metadata": {
    "code_folding": []
   },
   "outputs": [
    {
     "data": {
      "text/html": [
       "<div>\n",
       "<style scoped>\n",
       "    .dataframe tbody tr th:only-of-type {\n",
       "        vertical-align: middle;\n",
       "    }\n",
       "\n",
       "    .dataframe tbody tr th {\n",
       "        vertical-align: top;\n",
       "    }\n",
       "\n",
       "    .dataframe thead th {\n",
       "        text-align: right;\n",
       "    }\n",
       "</style>\n",
       "<table border=\"1\" class=\"dataframe\">\n",
       "  <thead>\n",
       "    <tr style=\"text-align: right;\">\n",
       "      <th></th>\n",
       "      <th>SKU ID</th>\n",
       "      <th>Date</th>\n",
       "      <th>Manufacturer</th>\n",
       "      <th>Sector</th>\n",
       "      <th>Category</th>\n",
       "      <th>Segment</th>\n",
       "      <th>Brand</th>\n",
       "      <th>Revenue($)</th>\n",
       "      <th>Units_sold</th>\n",
       "      <th>Page_traffic</th>\n",
       "      <th>Page_traffic_bin</th>\n",
       "      <th>Page_traffic_equal_bin</th>\n",
       "    </tr>\n",
       "  </thead>\n",
       "  <tbody>\n",
       "    <tr>\n",
       "      <th>16737</th>\n",
       "      <td>SKU1255</td>\n",
       "      <td>1/16/2021</td>\n",
       "      <td>Synergix solutions</td>\n",
       "      <td>Fabric Care</td>\n",
       "      <td>Laundry Detergents</td>\n",
       "      <td>Laundry_Liquid</td>\n",
       "      <td>Gain</td>\n",
       "      <td>41284</td>\n",
       "      <td>1742</td>\n",
       "      <td>6816.0</td>\n",
       "      <td>(3964.0, 10696.0]</td>\n",
       "      <td>Medium</td>\n",
       "    </tr>\n",
       "    <tr>\n",
       "      <th>28976</th>\n",
       "      <td>SKU1300</td>\n",
       "      <td>2/20/2021</td>\n",
       "      <td>Synergix solutions</td>\n",
       "      <td>Beauty and Personal Care</td>\n",
       "      <td>Haircare</td>\n",
       "      <td>Shampoo</td>\n",
       "      <td>Dove</td>\n",
       "      <td>0</td>\n",
       "      <td>0</td>\n",
       "      <td>0.0</td>\n",
       "      <td>(-1.0, 734.0]</td>\n",
       "      <td>Low</td>\n",
       "    </tr>\n",
       "    <tr>\n",
       "      <th>21748</th>\n",
       "      <td>SKU1278</td>\n",
       "      <td>5/28/2022</td>\n",
       "      <td>Synergix solutions</td>\n",
       "      <td>Fabric Care</td>\n",
       "      <td>Laundry Detergents</td>\n",
       "      <td>Pods</td>\n",
       "      <td>Tide</td>\n",
       "      <td>15177</td>\n",
       "      <td>1204</td>\n",
       "      <td>650.0</td>\n",
       "      <td>(-1.0, 734.0]</td>\n",
       "      <td>Low</td>\n",
       "    </tr>\n",
       "    <tr>\n",
       "      <th>16069</th>\n",
       "      <td>SKU1243</td>\n",
       "      <td>10/22/2022</td>\n",
       "      <td>Synergix solutions</td>\n",
       "      <td>Fabric Care</td>\n",
       "      <td>Laundry Detergents</td>\n",
       "      <td>Powder</td>\n",
       "      <td>Gain</td>\n",
       "      <td>0</td>\n",
       "      <td>0</td>\n",
       "      <td>0.0</td>\n",
       "      <td>(-1.0, 734.0]</td>\n",
       "      <td>Low</td>\n",
       "    </tr>\n",
       "    <tr>\n",
       "      <th>26084</th>\n",
       "      <td>SKU1366</td>\n",
       "      <td>8/14/2021</td>\n",
       "      <td>Synergix solutions</td>\n",
       "      <td>Beauty and Personal Care</td>\n",
       "      <td>Skincare</td>\n",
       "      <td>Acne</td>\n",
       "      <td>Neutrogena</td>\n",
       "      <td>18880</td>\n",
       "      <td>1135</td>\n",
       "      <td>2909.0</td>\n",
       "      <td>(2753.0, 3964.0]</td>\n",
       "      <td>Low</td>\n",
       "    </tr>\n",
       "  </tbody>\n",
       "</table>\n",
       "</div>"
      ],
      "text/plain": [
       "        SKU ID        Date         Manufacturer                    Sector  \\\n",
       "16737  SKU1255   1/16/2021  Synergix solutions                Fabric Care   \n",
       "28976  SKU1300   2/20/2021  Synergix solutions   Beauty and Personal Care   \n",
       "21748  SKU1278   5/28/2022  Synergix solutions                Fabric Care   \n",
       "16069  SKU1243  10/22/2022  Synergix solutions                Fabric Care   \n",
       "26084  SKU1366   8/14/2021  Synergix solutions   Beauty and Personal Care   \n",
       "\n",
       "                 Category         Segment       Brand  Revenue($)  Units_sold  \\\n",
       "16737  Laundry Detergents  Laundry_Liquid        Gain       41284        1742   \n",
       "28976            Haircare         Shampoo        Dove           0           0   \n",
       "21748  Laundry Detergents            Pods        Tide       15177        1204   \n",
       "16069  Laundry Detergents          Powder        Gain           0           0   \n",
       "26084            Skincare            Acne  Neutrogena       18880        1135   \n",
       "\n",
       "       Page_traffic   Page_traffic_bin Page_traffic_equal_bin  \n",
       "16737        6816.0  (3964.0, 10696.0]                 Medium  \n",
       "28976           0.0      (-1.0, 734.0]                    Low  \n",
       "21748         650.0      (-1.0, 734.0]                    Low  \n",
       "16069           0.0      (-1.0, 734.0]                    Low  \n",
       "26084        2909.0   (2753.0, 3964.0]                    Low  "
      ]
     },
     "execution_count": 9,
     "metadata": {},
     "output_type": "execute_result"
    }
   ],
   "source": [
    "pos_data.sample(1000).head()"
   ]
  },
  {
   "cell_type": "code",
   "execution_count": 10,
   "id": "b825d835",
   "metadata": {
    "code_folding": []
   },
   "outputs": [
    {
     "data": {
      "text/plain": [
       "Low       22963\n",
       "Medium     8068\n",
       "High        154\n",
       "Name: Page_traffic_equal_bin, dtype: int64"
      ]
     },
     "execution_count": 10,
     "metadata": {},
     "output_type": "execute_result"
    }
   ],
   "source": [
    "# check the number of valeus in each bin\n",
    "pos_data['Page_traffic_equal_bin'].value_counts()"
   ]
  },
  {
   "cell_type": "markdown",
   "id": "8038f18a",
   "metadata": {},
   "source": [
    "**NOTE:**\n",
    "- We have converted the *Page_traffic* column into discrete form with 3 categorical values *Low, Medium* and *High*.\n",
    "- The value of *bins* parameter is taken as 3 indicating we want to have 3 equal distribution of bins.\n",
    "- This type of division makes sure that equal range of values have been put into each cateogry. \n",
    "- We have a lot of zeros in the *Page_traffic* column, resulting in a very high count for the *Low* category.\n"
   ]
  },
  {
   "cell_type": "markdown",
   "id": "a16eade9",
   "metadata": {},
   "source": [
    "#### Illustration of choosing custom edges:\n",
    "- Examine the distribution of 'Page_traffic' to understand its range and distribution.\n",
    "- Based on the distribution and domain knowledge, let us define the edges as 0 (minimum as well as 25th percentile), 2000 (close to 50th percentile), and 4000 (close to 75th percentile), with the maximum value of 'Page_traffic' serving as the upper edge."
   ]
  },
  {
   "cell_type": "code",
   "execution_count": 11,
   "id": "bffbc850",
   "metadata": {
    "code_folding": []
   },
   "outputs": [
    {
     "data": {
      "text/plain": [
       "count    31185.000000\n",
       "mean      2053.829695\n",
       "std       1979.574340\n",
       "min          0.000000\n",
       "25%          0.000000\n",
       "50%       1963.000000\n",
       "75%       3647.000000\n",
       "max      10696.000000\n",
       "Name: Page_traffic, dtype: float64"
      ]
     },
     "execution_count": 11,
     "metadata": {},
     "output_type": "execute_result"
    }
   ],
   "source": [
    "# summary statistics\n",
    "pos_data['Page_traffic'].describe()"
   ]
  },
  {
   "cell_type": "code",
   "execution_count": 12,
   "id": "1dd7fd6f",
   "metadata": {
    "code_folding": []
   },
   "outputs": [],
   "source": [
    "# manually define the bin edges\n",
    "bin_edges = [0, 2000, 4000, pos_data['Page_traffic'].max()]"
   ]
  },
  {
   "cell_type": "code",
   "execution_count": 13,
   "id": "6562113e",
   "metadata": {
    "code_folding": []
   },
   "outputs": [],
   "source": [
    "# cut the data based on these edges\n",
    "pos_data['Page_traffic_custom_bin'] = pd.cut(pos_data['Page_traffic'],\\\n",
    "                                              bins = bin_edges, labels = ['Low', 'Medium', 'High'],\\\n",
    "                                              include_lowest = True)"
   ]
  },
  {
   "cell_type": "code",
   "execution_count": 14,
   "id": "929813bc",
   "metadata": {
    "code_folding": []
   },
   "outputs": [
    {
     "data": {
      "text/html": [
       "<div>\n",
       "<style scoped>\n",
       "    .dataframe tbody tr th:only-of-type {\n",
       "        vertical-align: middle;\n",
       "    }\n",
       "\n",
       "    .dataframe tbody tr th {\n",
       "        vertical-align: top;\n",
       "    }\n",
       "\n",
       "    .dataframe thead th {\n",
       "        text-align: right;\n",
       "    }\n",
       "</style>\n",
       "<table border=\"1\" class=\"dataframe\">\n",
       "  <thead>\n",
       "    <tr style=\"text-align: right;\">\n",
       "      <th></th>\n",
       "      <th>SKU ID</th>\n",
       "      <th>Date</th>\n",
       "      <th>Manufacturer</th>\n",
       "      <th>Sector</th>\n",
       "      <th>Category</th>\n",
       "      <th>Segment</th>\n",
       "      <th>Brand</th>\n",
       "      <th>Revenue($)</th>\n",
       "      <th>Units_sold</th>\n",
       "      <th>Page_traffic</th>\n",
       "      <th>Page_traffic_bin</th>\n",
       "      <th>Page_traffic_equal_bin</th>\n",
       "      <th>Page_traffic_custom_bin</th>\n",
       "    </tr>\n",
       "  </thead>\n",
       "  <tbody>\n",
       "    <tr>\n",
       "      <th>30826</th>\n",
       "      <td>SKU1303</td>\n",
       "      <td>9/25/2021</td>\n",
       "      <td>Synergix solutions</td>\n",
       "      <td>Beauty and Personal Care</td>\n",
       "      <td>Haircare</td>\n",
       "      <td>Shampoo</td>\n",
       "      <td>Pantene</td>\n",
       "      <td>30832</td>\n",
       "      <td>2800</td>\n",
       "      <td>5590.0</td>\n",
       "      <td>(3964.0, 10696.0]</td>\n",
       "      <td>Medium</td>\n",
       "      <td>High</td>\n",
       "    </tr>\n",
       "    <tr>\n",
       "      <th>2682</th>\n",
       "      <td>SKU1099</td>\n",
       "      <td>9/25/2021</td>\n",
       "      <td>Synergix solutions</td>\n",
       "      <td>Oral Care</td>\n",
       "      <td>Toothbrushes</td>\n",
       "      <td>Kids Toothbrushes</td>\n",
       "      <td>Colgate</td>\n",
       "      <td>21422</td>\n",
       "      <td>1744</td>\n",
       "      <td>3366.0</td>\n",
       "      <td>(2753.0, 3964.0]</td>\n",
       "      <td>Low</td>\n",
       "      <td>Medium</td>\n",
       "    </tr>\n",
       "    <tr>\n",
       "      <th>802</th>\n",
       "      <td>SKU1069</td>\n",
       "      <td>3/13/2021</td>\n",
       "      <td>Synergix solutions</td>\n",
       "      <td>Oral Care</td>\n",
       "      <td>Toothpaste</td>\n",
       "      <td>Fluoride-Free Toothpaste</td>\n",
       "      <td>Himalaya Herbals</td>\n",
       "      <td>11503</td>\n",
       "      <td>811</td>\n",
       "      <td>1528.0</td>\n",
       "      <td>(734.0, 2753.0]</td>\n",
       "      <td>Low</td>\n",
       "      <td>Low</td>\n",
       "    </tr>\n",
       "    <tr>\n",
       "      <th>29999</th>\n",
       "      <td>SKU1291</td>\n",
       "      <td>6/26/2021</td>\n",
       "      <td>Synergix solutions</td>\n",
       "      <td>Beauty and Personal Care</td>\n",
       "      <td>Haircare</td>\n",
       "      <td>Shampoo</td>\n",
       "      <td>Dove</td>\n",
       "      <td>0</td>\n",
       "      <td>0</td>\n",
       "      <td>0.0</td>\n",
       "      <td>(-1.0, 734.0]</td>\n",
       "      <td>Low</td>\n",
       "      <td>Low</td>\n",
       "    </tr>\n",
       "    <tr>\n",
       "      <th>6506</th>\n",
       "      <td>SKU1208</td>\n",
       "      <td>5/28/2022</td>\n",
       "      <td>Synergix solutions</td>\n",
       "      <td>Fabric Care</td>\n",
       "      <td>Fabric Softeners</td>\n",
       "      <td>Fabric_Liquid</td>\n",
       "      <td>comfort</td>\n",
       "      <td>0</td>\n",
       "      <td>0</td>\n",
       "      <td>0.0</td>\n",
       "      <td>(-1.0, 734.0]</td>\n",
       "      <td>Low</td>\n",
       "      <td>Low</td>\n",
       "    </tr>\n",
       "  </tbody>\n",
       "</table>\n",
       "</div>"
      ],
      "text/plain": [
       "        SKU ID       Date         Manufacturer                    Sector  \\\n",
       "30826  SKU1303  9/25/2021  Synergix solutions   Beauty and Personal Care   \n",
       "2682   SKU1099  9/25/2021  Synergix solutions                  Oral Care   \n",
       "802    SKU1069  3/13/2021  Synergix solutions                  Oral Care   \n",
       "29999  SKU1291  6/26/2021  Synergix solutions   Beauty and Personal Care   \n",
       "6506   SKU1208  5/28/2022  Synergix solutions                Fabric Care   \n",
       "\n",
       "               Category                   Segment             Brand  \\\n",
       "30826          Haircare                   Shampoo           Pantene   \n",
       "2682       Toothbrushes         Kids Toothbrushes           Colgate   \n",
       "802          Toothpaste  Fluoride-Free Toothpaste  Himalaya Herbals   \n",
       "29999          Haircare                   Shampoo              Dove   \n",
       "6506   Fabric Softeners             Fabric_Liquid           comfort   \n",
       "\n",
       "       Revenue($)  Units_sold  Page_traffic   Page_traffic_bin  \\\n",
       "30826       30832        2800        5590.0  (3964.0, 10696.0]   \n",
       "2682        21422        1744        3366.0   (2753.0, 3964.0]   \n",
       "802         11503         811        1528.0    (734.0, 2753.0]   \n",
       "29999           0           0           0.0      (-1.0, 734.0]   \n",
       "6506            0           0           0.0      (-1.0, 734.0]   \n",
       "\n",
       "      Page_traffic_equal_bin Page_traffic_custom_bin  \n",
       "30826                 Medium                    High  \n",
       "2682                     Low                  Medium  \n",
       "802                      Low                     Low  \n",
       "29999                    Low                     Low  \n",
       "6506                     Low                     Low  "
      ]
     },
     "execution_count": 14,
     "metadata": {},
     "output_type": "execute_result"
    }
   ],
   "source": [
    "# look at a few rows of data\n",
    "pos_data.sample(100).head()"
   ]
  },
  {
   "cell_type": "code",
   "execution_count": 15,
   "id": "7036c1ef",
   "metadata": {
    "code_folding": []
   },
   "outputs": [
    {
     "data": {
      "text/plain": [
       "Low       15703\n",
       "Medium     9415\n",
       "High       6067\n",
       "Name: Page_traffic_custom_bin, dtype: int64"
      ]
     },
     "execution_count": 15,
     "metadata": {},
     "output_type": "execute_result"
    }
   ],
   "source": [
    "# check the frequencies\n",
    "pos_data['Page_traffic_custom_bin'].value_counts()"
   ]
  },
  {
   "cell_type": "markdown",
   "id": "a788f3e3",
   "metadata": {},
   "source": [
    "**We can see that 15703 records have *Page_traffic* between 0 and 2000, 9415 records fall into the range of 2000 to 4000 and 6067 records have *Page_traffic* above 4000**"
   ]
  },
  {
   "cell_type": "code",
   "execution_count": null,
   "id": "11e4d112",
   "metadata": {},
   "outputs": [],
   "source": []
  },
  {
   "cell_type": "code",
   "execution_count": null,
   "id": "8b7f7a96",
   "metadata": {},
   "outputs": [],
   "source": []
  },
  {
   "cell_type": "code",
   "execution_count": null,
   "id": "29fe9088",
   "metadata": {},
   "outputs": [],
   "source": []
  },
  {
   "cell_type": "code",
   "execution_count": null,
   "id": "7bb308f2",
   "metadata": {},
   "outputs": [],
   "source": []
  },
  {
   "cell_type": "code",
   "execution_count": null,
   "id": "c6e6635e",
   "metadata": {},
   "outputs": [],
   "source": []
  },
  {
   "cell_type": "markdown",
   "id": "03525634",
   "metadata": {},
   "source": [
    "### Part 4.2.3 : Encoding categoric features - part I\n",
    "- Encoding categorical features into a numerical format is another essential part of data preprocessing.\n",
    "- Most machine learning model require the data to be in numerical format.\n",
    "- Some of the encoding techniques used to encode the categorical data are:\n",
    "    - **One-hot encoding:**\n",
    "        - Used for nominal data where categories have no inherent order\n",
    "        - One-hot encoding converts each category into a binary vector where each category corresponds to a unique bit (0 or 1).\n",
    "        - Example: Converting \"Red,\" \"Green,\" and \"Blue\" into [1, 0, 0], [0, 1, 0], and [0, 0, 1].\n",
    "        - We can use `OneHotEncoder` from the package **sklearn.preprocessing** to implement one-hot encoding.\n",
    "        - Alternatively, we can use `get_dummies()` from pandas.\n",
    "    - **Label encoding:**\n",
    "        - Used for ordinal data, where there is an inherent order among the categories\n",
    "        - It involves mapping each category to a unique integer.\n",
    "        - Example: Converting \"Bad\", \"Average\" and \"Good\" into 0, 1, and 2.\n",
    "        - However, `LabelEncoder` converts the categories using some arbitrary order (mostly in alphabetical order values), and it cannot guarantee the meaning of the categories being maintained while numbering. For example, \"Good\" may be converted as 1, \"Average\" may be converted as 0 and \"Bad\" as 2. This may lead to the incorrect assumptions by the model, while building ML model.\n",
    "    - **Ordinal encoding:**\n",
    "        - To avoid the possible problem faced in label encoding, we can use ordinal encoding for ordinal data.\n",
    "        - This technique ensures to maintain the hierarchy of the values in categorical variable.\n",
    "        - `OrdinalEncoder` allows us to specify the unique values taken by the categorical variable and hence keeps the appropriate order."
   ]
  },
  {
   "cell_type": "markdown",
   "id": "fe53574c",
   "metadata": {},
   "source": [
    "**Let us create a simple dataset to demonstrate these 3 types of encoding**"
   ]
  },
  {
   "cell_type": "code",
   "execution_count": 16,
   "id": "485ee764",
   "metadata": {
    "code_folding": []
   },
   "outputs": [
    {
     "data": {
      "text/html": [
       "<div>\n",
       "<style scoped>\n",
       "    .dataframe tbody tr th:only-of-type {\n",
       "        vertical-align: middle;\n",
       "    }\n",
       "\n",
       "    .dataframe tbody tr th {\n",
       "        vertical-align: top;\n",
       "    }\n",
       "\n",
       "    .dataframe thead th {\n",
       "        text-align: right;\n",
       "    }\n",
       "</style>\n",
       "<table border=\"1\" class=\"dataframe\">\n",
       "  <thead>\n",
       "    <tr style=\"text-align: right;\">\n",
       "      <th></th>\n",
       "      <th>EmpID</th>\n",
       "      <th>Country</th>\n",
       "      <th>Skill</th>\n",
       "      <th>Performance</th>\n",
       "    </tr>\n",
       "  </thead>\n",
       "  <tbody>\n",
       "    <tr>\n",
       "      <th>0</th>\n",
       "      <td>121</td>\n",
       "      <td>India</td>\n",
       "      <td>Intermediate</td>\n",
       "      <td>Low</td>\n",
       "    </tr>\n",
       "    <tr>\n",
       "      <th>1</th>\n",
       "      <td>54</td>\n",
       "      <td>USA</td>\n",
       "      <td>Basic</td>\n",
       "      <td>Medium</td>\n",
       "    </tr>\n",
       "    <tr>\n",
       "      <th>2</th>\n",
       "      <td>78</td>\n",
       "      <td>India</td>\n",
       "      <td>Intermediate</td>\n",
       "      <td>High</td>\n",
       "    </tr>\n",
       "    <tr>\n",
       "      <th>3</th>\n",
       "      <td>1245</td>\n",
       "      <td>Canada</td>\n",
       "      <td>Advanced</td>\n",
       "      <td>Medium</td>\n",
       "    </tr>\n",
       "    <tr>\n",
       "      <th>4</th>\n",
       "      <td>82</td>\n",
       "      <td>USA</td>\n",
       "      <td>Intermediate</td>\n",
       "      <td>Low</td>\n",
       "    </tr>\n",
       "  </tbody>\n",
       "</table>\n",
       "</div>"
      ],
      "text/plain": [
       "   EmpID Country         Skill Performance\n",
       "0    121   India  Intermediate         Low\n",
       "1     54     USA         Basic      Medium\n",
       "2     78   India  Intermediate        High\n",
       "3   1245  Canada      Advanced      Medium\n",
       "4     82     USA  Intermediate         Low"
      ]
     },
     "execution_count": 16,
     "metadata": {},
     "output_type": "execute_result"
    }
   ],
   "source": [
    "# create an employee data with EmpID, Country, Skill and Performance\n",
    "# Country is nominal data, Skill & Performance are ordinal data\n",
    "\n",
    "data = {'EmpID': [121, 54, 78, 1245, 82],\n",
    "        'Country':['India','USA', 'India','Canada','USA'],\n",
    "        'Skill': ['Intermediate', 'Basic', 'Intermediate','Advanced', 'Intermediate'],\n",
    "        'Performance': ['Low', 'Medium', 'High', 'Medium', 'Low']\n",
    "       }\n",
    "emp_data = pd.DataFrame(data)\n",
    "emp_data"
   ]
  },
  {
   "cell_type": "markdown",
   "id": "cab09ab8",
   "metadata": {},
   "source": [
    "#### Apply one-hot encoding through `get_dummies()` function on Country column"
   ]
  },
  {
   "cell_type": "code",
   "execution_count": 17,
   "id": "ce31ab35",
   "metadata": {
    "code_folding": []
   },
   "outputs": [
    {
     "data": {
      "text/html": [
       "<div>\n",
       "<style scoped>\n",
       "    .dataframe tbody tr th:only-of-type {\n",
       "        vertical-align: middle;\n",
       "    }\n",
       "\n",
       "    .dataframe tbody tr th {\n",
       "        vertical-align: top;\n",
       "    }\n",
       "\n",
       "    .dataframe thead th {\n",
       "        text-align: right;\n",
       "    }\n",
       "</style>\n",
       "<table border=\"1\" class=\"dataframe\">\n",
       "  <thead>\n",
       "    <tr style=\"text-align: right;\">\n",
       "      <th></th>\n",
       "      <th>EmpID</th>\n",
       "      <th>Skill</th>\n",
       "      <th>Performance</th>\n",
       "      <th>Country_Canada</th>\n",
       "      <th>Country_India</th>\n",
       "      <th>Country_USA</th>\n",
       "    </tr>\n",
       "  </thead>\n",
       "  <tbody>\n",
       "    <tr>\n",
       "      <th>0</th>\n",
       "      <td>121</td>\n",
       "      <td>Intermediate</td>\n",
       "      <td>Low</td>\n",
       "      <td>0</td>\n",
       "      <td>1</td>\n",
       "      <td>0</td>\n",
       "    </tr>\n",
       "    <tr>\n",
       "      <th>1</th>\n",
       "      <td>54</td>\n",
       "      <td>Basic</td>\n",
       "      <td>Medium</td>\n",
       "      <td>0</td>\n",
       "      <td>0</td>\n",
       "      <td>1</td>\n",
       "    </tr>\n",
       "    <tr>\n",
       "      <th>2</th>\n",
       "      <td>78</td>\n",
       "      <td>Intermediate</td>\n",
       "      <td>High</td>\n",
       "      <td>0</td>\n",
       "      <td>1</td>\n",
       "      <td>0</td>\n",
       "    </tr>\n",
       "    <tr>\n",
       "      <th>3</th>\n",
       "      <td>1245</td>\n",
       "      <td>Advanced</td>\n",
       "      <td>Medium</td>\n",
       "      <td>1</td>\n",
       "      <td>0</td>\n",
       "      <td>0</td>\n",
       "    </tr>\n",
       "    <tr>\n",
       "      <th>4</th>\n",
       "      <td>82</td>\n",
       "      <td>Intermediate</td>\n",
       "      <td>Low</td>\n",
       "      <td>0</td>\n",
       "      <td>0</td>\n",
       "      <td>1</td>\n",
       "    </tr>\n",
       "  </tbody>\n",
       "</table>\n",
       "</div>"
      ],
      "text/plain": [
       "   EmpID         Skill Performance  Country_Canada  Country_India  Country_USA\n",
       "0    121  Intermediate         Low               0              1            0\n",
       "1     54         Basic      Medium               0              0            1\n",
       "2     78  Intermediate        High               0              1            0\n",
       "3   1245      Advanced      Medium               1              0            0\n",
       "4     82  Intermediate         Low               0              0            1"
      ]
     },
     "execution_count": 17,
     "metadata": {},
     "output_type": "execute_result"
    }
   ],
   "source": [
    "# apply one-hot encoding\n",
    "emp_data = pd.get_dummies(emp_data,  columns=['Country'])\n",
    "emp_data"
   ]
  },
  {
   "cell_type": "markdown",
   "id": "3399a0d7",
   "metadata": {},
   "source": [
    "- When we use `get_dummies()` on the *Country* column, binary vectors are created for each value *India*, *Canada* and *USA*. \n",
    "- The original column is replaced by 3 new columns.\n",
    "- Obviously, the dimensionality of the data increases when we apply one-hot encoding.\n",
    "- That is if there are n unique values in a nominal data column, n different columns get created, one for each possible value of the variable. For a given row, one of these columns will contains a 1 (corresponding to the value) and the rest will be zeros.\n",
    "- We can use the parameter `drop_first = True` to reduce the dimension by 1. "
   ]
  },
  {
   "cell_type": "code",
   "execution_count": 18,
   "id": "45c6508f",
   "metadata": {
    "code_folding": []
   },
   "outputs": [
    {
     "data": {
      "text/html": [
       "<div>\n",
       "<style scoped>\n",
       "    .dataframe tbody tr th:only-of-type {\n",
       "        vertical-align: middle;\n",
       "    }\n",
       "\n",
       "    .dataframe tbody tr th {\n",
       "        vertical-align: top;\n",
       "    }\n",
       "\n",
       "    .dataframe thead th {\n",
       "        text-align: right;\n",
       "    }\n",
       "</style>\n",
       "<table border=\"1\" class=\"dataframe\">\n",
       "  <thead>\n",
       "    <tr style=\"text-align: right;\">\n",
       "      <th></th>\n",
       "      <th>EmpID</th>\n",
       "      <th>Skill</th>\n",
       "      <th>Performance</th>\n",
       "      <th>Country_India</th>\n",
       "      <th>Country_USA</th>\n",
       "    </tr>\n",
       "  </thead>\n",
       "  <tbody>\n",
       "    <tr>\n",
       "      <th>0</th>\n",
       "      <td>121</td>\n",
       "      <td>Intermediate</td>\n",
       "      <td>Low</td>\n",
       "      <td>1</td>\n",
       "      <td>0</td>\n",
       "    </tr>\n",
       "    <tr>\n",
       "      <th>1</th>\n",
       "      <td>54</td>\n",
       "      <td>Basic</td>\n",
       "      <td>Medium</td>\n",
       "      <td>0</td>\n",
       "      <td>1</td>\n",
       "    </tr>\n",
       "    <tr>\n",
       "      <th>2</th>\n",
       "      <td>78</td>\n",
       "      <td>Intermediate</td>\n",
       "      <td>High</td>\n",
       "      <td>1</td>\n",
       "      <td>0</td>\n",
       "    </tr>\n",
       "    <tr>\n",
       "      <th>3</th>\n",
       "      <td>1245</td>\n",
       "      <td>Advanced</td>\n",
       "      <td>Medium</td>\n",
       "      <td>0</td>\n",
       "      <td>0</td>\n",
       "    </tr>\n",
       "    <tr>\n",
       "      <th>4</th>\n",
       "      <td>82</td>\n",
       "      <td>Intermediate</td>\n",
       "      <td>Low</td>\n",
       "      <td>0</td>\n",
       "      <td>1</td>\n",
       "    </tr>\n",
       "  </tbody>\n",
       "</table>\n",
       "</div>"
      ],
      "text/plain": [
       "   EmpID         Skill Performance  Country_India  Country_USA\n",
       "0    121  Intermediate         Low              1            0\n",
       "1     54         Basic      Medium              0            1\n",
       "2     78  Intermediate        High              1            0\n",
       "3   1245      Advanced      Medium              0            0\n",
       "4     82  Intermediate         Low              0            1"
      ]
     },
     "execution_count": 18,
     "metadata": {},
     "output_type": "execute_result"
    }
   ],
   "source": [
    "# one-hot encoding with drop_first\n",
    "emp_data = pd.DataFrame(data)\n",
    "emp_data = pd.get_dummies(emp_data,  columns=['Country'], drop_first = True)\n",
    "emp_data"
   ]
  },
  {
   "cell_type": "markdown",
   "id": "fd89005e",
   "metadata": {},
   "source": [
    "#### Apply label encoding and ordinal encoding on Skill and Performance columns respectively"
   ]
  },
  {
   "cell_type": "code",
   "execution_count": 19,
   "id": "2e16bacd",
   "metadata": {
    "code_folding": []
   },
   "outputs": [],
   "source": [
    "#import the required packages\n",
    "from sklearn.preprocessing import OrdinalEncoder, LabelEncoder"
   ]
  },
  {
   "cell_type": "code",
   "execution_count": 20,
   "id": "80eeef35",
   "metadata": {
    "code_folding": []
   },
   "outputs": [
    {
     "data": {
      "text/html": [
       "<div>\n",
       "<style scoped>\n",
       "    .dataframe tbody tr th:only-of-type {\n",
       "        vertical-align: middle;\n",
       "    }\n",
       "\n",
       "    .dataframe tbody tr th {\n",
       "        vertical-align: top;\n",
       "    }\n",
       "\n",
       "    .dataframe thead th {\n",
       "        text-align: right;\n",
       "    }\n",
       "</style>\n",
       "<table border=\"1\" class=\"dataframe\">\n",
       "  <thead>\n",
       "    <tr style=\"text-align: right;\">\n",
       "      <th></th>\n",
       "      <th>EmpID</th>\n",
       "      <th>Skill</th>\n",
       "      <th>Performance</th>\n",
       "      <th>Country_India</th>\n",
       "      <th>Country_USA</th>\n",
       "    </tr>\n",
       "  </thead>\n",
       "  <tbody>\n",
       "    <tr>\n",
       "      <th>0</th>\n",
       "      <td>121</td>\n",
       "      <td>2</td>\n",
       "      <td>Low</td>\n",
       "      <td>1</td>\n",
       "      <td>0</td>\n",
       "    </tr>\n",
       "    <tr>\n",
       "      <th>1</th>\n",
       "      <td>54</td>\n",
       "      <td>1</td>\n",
       "      <td>Medium</td>\n",
       "      <td>0</td>\n",
       "      <td>1</td>\n",
       "    </tr>\n",
       "    <tr>\n",
       "      <th>2</th>\n",
       "      <td>78</td>\n",
       "      <td>2</td>\n",
       "      <td>High</td>\n",
       "      <td>1</td>\n",
       "      <td>0</td>\n",
       "    </tr>\n",
       "    <tr>\n",
       "      <th>3</th>\n",
       "      <td>1245</td>\n",
       "      <td>0</td>\n",
       "      <td>Medium</td>\n",
       "      <td>0</td>\n",
       "      <td>0</td>\n",
       "    </tr>\n",
       "    <tr>\n",
       "      <th>4</th>\n",
       "      <td>82</td>\n",
       "      <td>2</td>\n",
       "      <td>Low</td>\n",
       "      <td>0</td>\n",
       "      <td>1</td>\n",
       "    </tr>\n",
       "  </tbody>\n",
       "</table>\n",
       "</div>"
      ],
      "text/plain": [
       "   EmpID  Skill Performance  Country_India  Country_USA\n",
       "0    121      2         Low              1            0\n",
       "1     54      1      Medium              0            1\n",
       "2     78      2        High              1            0\n",
       "3   1245      0      Medium              0            0\n",
       "4     82      2         Low              0            1"
      ]
     },
     "execution_count": 20,
     "metadata": {},
     "output_type": "execute_result"
    }
   ],
   "source": [
    "# apply label encoding\n",
    "LE = LabelEncoder()\n",
    "emp_data['Skill'] = LE.fit_transform(emp_data['Skill'])\n",
    "emp_data"
   ]
  },
  {
   "cell_type": "markdown",
   "id": "2e98b734",
   "metadata": {},
   "source": [
    "***Explanation:***\n",
    "- Note that the column Skill had 3 values *Basic, Intermediate, Advanced* and there is a clear order among these values.\n",
    "- The mapping of these into numbers as {Basic:0,  Intermediate:1, Advanced:2} makes sense \n",
    "- But the label encoding has encoded them as: {Basic:1,  Intermediate:2, Advanced:0}, using alphabetical sequence, and thus by violating the meaning of these values. \n",
    "- Hence, one must be careful while using label encoding."
   ]
  },
  {
   "cell_type": "markdown",
   "id": "40b9851e",
   "metadata": {},
   "source": [
    "**Now, let us try ordinal encoding on Performance**"
   ]
  },
  {
   "cell_type": "code",
   "execution_count": 21,
   "id": "492eba1b",
   "metadata": {
    "code_folding": []
   },
   "outputs": [
    {
     "data": {
      "text/html": [
       "<div>\n",
       "<style scoped>\n",
       "    .dataframe tbody tr th:only-of-type {\n",
       "        vertical-align: middle;\n",
       "    }\n",
       "\n",
       "    .dataframe tbody tr th {\n",
       "        vertical-align: top;\n",
       "    }\n",
       "\n",
       "    .dataframe thead th {\n",
       "        text-align: right;\n",
       "    }\n",
       "</style>\n",
       "<table border=\"1\" class=\"dataframe\">\n",
       "  <thead>\n",
       "    <tr style=\"text-align: right;\">\n",
       "      <th></th>\n",
       "      <th>EmpID</th>\n",
       "      <th>Skill</th>\n",
       "      <th>Performance</th>\n",
       "      <th>Country_India</th>\n",
       "      <th>Country_USA</th>\n",
       "    </tr>\n",
       "  </thead>\n",
       "  <tbody>\n",
       "    <tr>\n",
       "      <th>0</th>\n",
       "      <td>121</td>\n",
       "      <td>2</td>\n",
       "      <td>0.0</td>\n",
       "      <td>1</td>\n",
       "      <td>0</td>\n",
       "    </tr>\n",
       "    <tr>\n",
       "      <th>1</th>\n",
       "      <td>54</td>\n",
       "      <td>1</td>\n",
       "      <td>1.0</td>\n",
       "      <td>0</td>\n",
       "      <td>1</td>\n",
       "    </tr>\n",
       "    <tr>\n",
       "      <th>2</th>\n",
       "      <td>78</td>\n",
       "      <td>2</td>\n",
       "      <td>2.0</td>\n",
       "      <td>1</td>\n",
       "      <td>0</td>\n",
       "    </tr>\n",
       "    <tr>\n",
       "      <th>3</th>\n",
       "      <td>1245</td>\n",
       "      <td>0</td>\n",
       "      <td>1.0</td>\n",
       "      <td>0</td>\n",
       "      <td>0</td>\n",
       "    </tr>\n",
       "    <tr>\n",
       "      <th>4</th>\n",
       "      <td>82</td>\n",
       "      <td>2</td>\n",
       "      <td>0.0</td>\n",
       "      <td>0</td>\n",
       "      <td>1</td>\n",
       "    </tr>\n",
       "  </tbody>\n",
       "</table>\n",
       "</div>"
      ],
      "text/plain": [
       "   EmpID  Skill  Performance  Country_India  Country_USA\n",
       "0    121      2          0.0              1            0\n",
       "1     54      1          1.0              0            1\n",
       "2     78      2          2.0              1            0\n",
       "3   1245      0          1.0              0            0\n",
       "4     82      2          0.0              0            1"
      ]
     },
     "execution_count": 21,
     "metadata": {},
     "output_type": "execute_result"
    }
   ],
   "source": [
    "# OrdinalEncoder has an option to provide the order of categorical values \n",
    "# so that it can understand the appropriate relation\n",
    "OE = OrdinalEncoder(categories=[['Low', 'Medium', 'High']])\n",
    "emp_data['Performance'] = OE.fit_transform(emp_data[['Performance']])\n",
    "emp_data"
   ]
  },
  {
   "cell_type": "markdown",
   "id": "8ffd7fcd",
   "metadata": {},
   "source": [
    "***Explanation:***\n",
    "- It is clearly visible now that *Low, Medium, High* have been mapped as 0, 1 and 2 appropriately keeping the inherent order."
   ]
  },
  {
   "cell_type": "code",
   "execution_count": null,
   "id": "417f222c",
   "metadata": {},
   "outputs": [],
   "source": []
  },
  {
   "cell_type": "code",
   "execution_count": null,
   "id": "7117af87",
   "metadata": {},
   "outputs": [],
   "source": []
  },
  {
   "cell_type": "code",
   "execution_count": null,
   "id": "b4bd56de",
   "metadata": {},
   "outputs": [],
   "source": []
  },
  {
   "cell_type": "code",
   "execution_count": null,
   "id": "96a13d3b",
   "metadata": {},
   "outputs": [],
   "source": []
  },
  {
   "cell_type": "code",
   "execution_count": null,
   "id": "b331f676",
   "metadata": {},
   "outputs": [],
   "source": []
  },
  {
   "cell_type": "markdown",
   "id": "12b0b783",
   "metadata": {},
   "source": [
    "### Part 4.2.4 : Encoding categoric features - part II\n",
    "- Let us try to implement the encoding techniques on the POS data."
   ]
  },
  {
   "cell_type": "code",
   "execution_count": 22,
   "id": "04a0be32",
   "metadata": {
    "code_folding": []
   },
   "outputs": [
    {
     "data": {
      "text/html": [
       "<div>\n",
       "<style scoped>\n",
       "    .dataframe tbody tr th:only-of-type {\n",
       "        vertical-align: middle;\n",
       "    }\n",
       "\n",
       "    .dataframe tbody tr th {\n",
       "        vertical-align: top;\n",
       "    }\n",
       "\n",
       "    .dataframe thead th {\n",
       "        text-align: right;\n",
       "    }\n",
       "</style>\n",
       "<table border=\"1\" class=\"dataframe\">\n",
       "  <thead>\n",
       "    <tr style=\"text-align: right;\">\n",
       "      <th></th>\n",
       "      <th>SKU ID</th>\n",
       "      <th>Date</th>\n",
       "      <th>Manufacturer</th>\n",
       "      <th>Sector</th>\n",
       "      <th>Category</th>\n",
       "      <th>Segment</th>\n",
       "      <th>Brand</th>\n",
       "      <th>Revenue($)</th>\n",
       "      <th>Units_sold</th>\n",
       "      <th>Page_traffic</th>\n",
       "      <th>Page_traffic_bin</th>\n",
       "      <th>Page_traffic_equal_bin</th>\n",
       "      <th>Page_traffic_custom_bin</th>\n",
       "    </tr>\n",
       "  </thead>\n",
       "  <tbody>\n",
       "    <tr>\n",
       "      <th>0</th>\n",
       "      <td>SKU1029</td>\n",
       "      <td>05-01-21</td>\n",
       "      <td>Synergix solutions</td>\n",
       "      <td>Oral Care</td>\n",
       "      <td>Toothpaste</td>\n",
       "      <td>Whitening Toothpaste</td>\n",
       "      <td>Close-up</td>\n",
       "      <td>0</td>\n",
       "      <td>0</td>\n",
       "      <td>0.0</td>\n",
       "      <td>(-1.0, 734.0]</td>\n",
       "      <td>Low</td>\n",
       "      <td>Low</td>\n",
       "    </tr>\n",
       "    <tr>\n",
       "      <th>1</th>\n",
       "      <td>SKU1054</td>\n",
       "      <td>05-08-21</td>\n",
       "      <td>Synergix solutions</td>\n",
       "      <td>Oral Care</td>\n",
       "      <td>Toothpaste</td>\n",
       "      <td>Fluoride-Free Toothpaste</td>\n",
       "      <td>Tom's of Maine</td>\n",
       "      <td>0</td>\n",
       "      <td>0</td>\n",
       "      <td>0.0</td>\n",
       "      <td>(-1.0, 734.0]</td>\n",
       "      <td>Low</td>\n",
       "      <td>Low</td>\n",
       "    </tr>\n",
       "    <tr>\n",
       "      <th>2</th>\n",
       "      <td>SKU1068</td>\n",
       "      <td>01-08-22</td>\n",
       "      <td>Synergix solutions</td>\n",
       "      <td>Oral Care</td>\n",
       "      <td>Toothpaste</td>\n",
       "      <td>Fluoride-Free Toothpaste</td>\n",
       "      <td>Himalaya Herbals</td>\n",
       "      <td>0</td>\n",
       "      <td>0</td>\n",
       "      <td>0.0</td>\n",
       "      <td>(-1.0, 734.0]</td>\n",
       "      <td>Low</td>\n",
       "      <td>Low</td>\n",
       "    </tr>\n",
       "    <tr>\n",
       "      <th>3</th>\n",
       "      <td>SKU1056</td>\n",
       "      <td>11-05-22</td>\n",
       "      <td>Synergix solutions</td>\n",
       "      <td>Oral Care</td>\n",
       "      <td>Toothpaste</td>\n",
       "      <td>Fluoride-Free Toothpaste</td>\n",
       "      <td>Tom's of Maine</td>\n",
       "      <td>0</td>\n",
       "      <td>0</td>\n",
       "      <td>0.0</td>\n",
       "      <td>(-1.0, 734.0]</td>\n",
       "      <td>Low</td>\n",
       "      <td>Low</td>\n",
       "    </tr>\n",
       "    <tr>\n",
       "      <th>4</th>\n",
       "      <td>SKU1061</td>\n",
       "      <td>12-10-22</td>\n",
       "      <td>Synergix solutions</td>\n",
       "      <td>Oral Care</td>\n",
       "      <td>Toothpaste</td>\n",
       "      <td>Fluoride-Free Toothpaste</td>\n",
       "      <td>Himalaya Herbals</td>\n",
       "      <td>0</td>\n",
       "      <td>0</td>\n",
       "      <td>0.0</td>\n",
       "      <td>(-1.0, 734.0]</td>\n",
       "      <td>Low</td>\n",
       "      <td>Low</td>\n",
       "    </tr>\n",
       "  </tbody>\n",
       "</table>\n",
       "</div>"
      ],
      "text/plain": [
       "    SKU ID      Date         Manufacturer     Sector    Category  \\\n",
       "0  SKU1029  05-01-21  Synergix solutions   Oral Care  Toothpaste   \n",
       "1  SKU1054  05-08-21  Synergix solutions   Oral Care  Toothpaste   \n",
       "2  SKU1068  01-08-22  Synergix solutions   Oral Care  Toothpaste   \n",
       "3  SKU1056  11-05-22  Synergix solutions   Oral Care  Toothpaste   \n",
       "4  SKU1061  12-10-22  Synergix solutions   Oral Care  Toothpaste   \n",
       "\n",
       "                    Segment             Brand  Revenue($)  Units_sold  \\\n",
       "0      Whitening Toothpaste          Close-up           0           0   \n",
       "1  Fluoride-Free Toothpaste    Tom's of Maine           0           0   \n",
       "2  Fluoride-Free Toothpaste  Himalaya Herbals           0           0   \n",
       "3  Fluoride-Free Toothpaste    Tom's of Maine           0           0   \n",
       "4  Fluoride-Free Toothpaste  Himalaya Herbals           0           0   \n",
       "\n",
       "   Page_traffic Page_traffic_bin Page_traffic_equal_bin  \\\n",
       "0           0.0    (-1.0, 734.0]                    Low   \n",
       "1           0.0    (-1.0, 734.0]                    Low   \n",
       "2           0.0    (-1.0, 734.0]                    Low   \n",
       "3           0.0    (-1.0, 734.0]                    Low   \n",
       "4           0.0    (-1.0, 734.0]                    Low   \n",
       "\n",
       "  Page_traffic_custom_bin  \n",
       "0                     Low  \n",
       "1                     Low  \n",
       "2                     Low  \n",
       "3                     Low  \n",
       "4                     Low  "
      ]
     },
     "execution_count": 22,
     "metadata": {},
     "output_type": "execute_result"
    }
   ],
   "source": [
    "# display the POS data on which have applied binning and discretization earlier\n",
    "pos_data.head()"
   ]
  },
  {
   "cell_type": "markdown",
   "id": "fb84f04c",
   "metadata": {},
   "source": [
    "**NOTE:**\n",
    "- Earlier, we had applied different binning and discretization techniques *Page_traffic* column and created new columns.\n",
    "- Let us keep only one column where equal width binning was used and data was discretized.\n",
    "- Also, note that our POS data has a column called *Manufacturer* which has only one value 'Synergix solutions'. \n",
    "- When we preprocess the data for model building, attributes like this one which have only one value like do not contribute anything to the model. Hence, let us drop this column."
   ]
  },
  {
   "cell_type": "code",
   "execution_count": 23,
   "id": "355d4c67",
   "metadata": {
    "code_folding": []
   },
   "outputs": [
    {
     "data": {
      "text/html": [
       "<div>\n",
       "<style scoped>\n",
       "    .dataframe tbody tr th:only-of-type {\n",
       "        vertical-align: middle;\n",
       "    }\n",
       "\n",
       "    .dataframe tbody tr th {\n",
       "        vertical-align: top;\n",
       "    }\n",
       "\n",
       "    .dataframe thead th {\n",
       "        text-align: right;\n",
       "    }\n",
       "</style>\n",
       "<table border=\"1\" class=\"dataframe\">\n",
       "  <thead>\n",
       "    <tr style=\"text-align: right;\">\n",
       "      <th></th>\n",
       "      <th>SKU ID</th>\n",
       "      <th>Date</th>\n",
       "      <th>Sector</th>\n",
       "      <th>Category</th>\n",
       "      <th>Segment</th>\n",
       "      <th>Brand</th>\n",
       "      <th>Revenue($)</th>\n",
       "      <th>Units_sold</th>\n",
       "      <th>Page_traffic_equal_bin</th>\n",
       "    </tr>\n",
       "  </thead>\n",
       "  <tbody>\n",
       "    <tr>\n",
       "      <th>0</th>\n",
       "      <td>SKU1029</td>\n",
       "      <td>05-01-21</td>\n",
       "      <td>Oral Care</td>\n",
       "      <td>Toothpaste</td>\n",
       "      <td>Whitening Toothpaste</td>\n",
       "      <td>Close-up</td>\n",
       "      <td>0</td>\n",
       "      <td>0</td>\n",
       "      <td>Low</td>\n",
       "    </tr>\n",
       "    <tr>\n",
       "      <th>1</th>\n",
       "      <td>SKU1054</td>\n",
       "      <td>05-08-21</td>\n",
       "      <td>Oral Care</td>\n",
       "      <td>Toothpaste</td>\n",
       "      <td>Fluoride-Free Toothpaste</td>\n",
       "      <td>Tom's of Maine</td>\n",
       "      <td>0</td>\n",
       "      <td>0</td>\n",
       "      <td>Low</td>\n",
       "    </tr>\n",
       "    <tr>\n",
       "      <th>2</th>\n",
       "      <td>SKU1068</td>\n",
       "      <td>01-08-22</td>\n",
       "      <td>Oral Care</td>\n",
       "      <td>Toothpaste</td>\n",
       "      <td>Fluoride-Free Toothpaste</td>\n",
       "      <td>Himalaya Herbals</td>\n",
       "      <td>0</td>\n",
       "      <td>0</td>\n",
       "      <td>Low</td>\n",
       "    </tr>\n",
       "    <tr>\n",
       "      <th>3</th>\n",
       "      <td>SKU1056</td>\n",
       "      <td>11-05-22</td>\n",
       "      <td>Oral Care</td>\n",
       "      <td>Toothpaste</td>\n",
       "      <td>Fluoride-Free Toothpaste</td>\n",
       "      <td>Tom's of Maine</td>\n",
       "      <td>0</td>\n",
       "      <td>0</td>\n",
       "      <td>Low</td>\n",
       "    </tr>\n",
       "    <tr>\n",
       "      <th>4</th>\n",
       "      <td>SKU1061</td>\n",
       "      <td>12-10-22</td>\n",
       "      <td>Oral Care</td>\n",
       "      <td>Toothpaste</td>\n",
       "      <td>Fluoride-Free Toothpaste</td>\n",
       "      <td>Himalaya Herbals</td>\n",
       "      <td>0</td>\n",
       "      <td>0</td>\n",
       "      <td>Low</td>\n",
       "    </tr>\n",
       "  </tbody>\n",
       "</table>\n",
       "</div>"
      ],
      "text/plain": [
       "    SKU ID      Date     Sector    Category                   Segment  \\\n",
       "0  SKU1029  05-01-21  Oral Care  Toothpaste      Whitening Toothpaste   \n",
       "1  SKU1054  05-08-21  Oral Care  Toothpaste  Fluoride-Free Toothpaste   \n",
       "2  SKU1068  01-08-22  Oral Care  Toothpaste  Fluoride-Free Toothpaste   \n",
       "3  SKU1056  11-05-22  Oral Care  Toothpaste  Fluoride-Free Toothpaste   \n",
       "4  SKU1061  12-10-22  Oral Care  Toothpaste  Fluoride-Free Toothpaste   \n",
       "\n",
       "              Brand  Revenue($)  Units_sold Page_traffic_equal_bin  \n",
       "0          Close-up           0           0                    Low  \n",
       "1    Tom's of Maine           0           0                    Low  \n",
       "2  Himalaya Herbals           0           0                    Low  \n",
       "3    Tom's of Maine           0           0                    Low  \n",
       "4  Himalaya Herbals           0           0                    Low  "
      ]
     },
     "execution_count": 23,
     "metadata": {},
     "output_type": "execute_result"
    }
   ],
   "source": [
    "# drop some columns which we are not using right now\n",
    "pos_data=pos_data.drop(['Manufacturer','Page_traffic','Page_traffic_bin','Page_traffic_custom_bin'], axis=1)\n",
    "pos_data.head()"
   ]
  },
  {
   "cell_type": "code",
   "execution_count": 24,
   "id": "e0f01b35",
   "metadata": {
    "code_folding": []
   },
   "outputs": [
    {
     "name": "stdout",
     "output_type": "stream",
     "text": [
      "<class 'pandas.core.frame.DataFrame'>\n",
      "Int64Index: 31185 entries, 0 to 31184\n",
      "Data columns (total 9 columns):\n",
      " #   Column                  Non-Null Count  Dtype   \n",
      "---  ------                  --------------  -----   \n",
      " 0   SKU ID                  31185 non-null  object  \n",
      " 1   Date                    31185 non-null  object  \n",
      " 2   Sector                  31185 non-null  object  \n",
      " 3   Category                31185 non-null  object  \n",
      " 4   Segment                 31185 non-null  object  \n",
      " 5   Brand                   31185 non-null  object  \n",
      " 6   Revenue($)              31185 non-null  int64   \n",
      " 7   Units_sold              31185 non-null  int64   \n",
      " 8   Page_traffic_equal_bin  31185 non-null  category\n",
      "dtypes: category(1), int64(2), object(6)\n",
      "memory usage: 2.2+ MB\n"
     ]
    }
   ],
   "source": [
    "# check the data\n",
    "pos_data.info()"
   ]
  },
  {
   "cell_type": "code",
   "execution_count": 25,
   "id": "f604fd01",
   "metadata": {
    "code_folding": []
   },
   "outputs": [
    {
     "name": "stdout",
     "output_type": "stream",
     "text": [
      "['SKU ID', 'Date', 'Sector', 'Category', 'Segment', 'Brand', 'Page_traffic_equal_bin']\n"
     ]
    }
   ],
   "source": [
    "# select all columns that contain categorical data\n",
    "categorical_columns = pos_data.select_dtypes(include=['object','category']).columns\n",
    "print(list(categorical_columns))"
   ]
  },
  {
   "cell_type": "markdown",
   "id": "4fa92be7",
   "metadata": {},
   "source": [
    "***Analysis to choose appropriate encoding for categorical columns:***\n",
    "- Observe that the *Date* column is being shown as categorical because we haven't converted it to *datetime*. We will do this later.\n",
    "- However, there are a few other attributes which need encoding.\n",
    "- Out of these attributes, *Page_traffic_equal_bin* is ordinal data and we must apply ordinal encoding on this.\n",
    "- However, 'SKU ID', 'Sector', 'Category', 'Segment' and 'Brand' are all nominal data.\n",
    "- If we go by theory, we need to apply one-hot encoding for all these attributes.\n",
    "- But, it will drastically increase the dimensionality of the data."
   ]
  },
  {
   "cell_type": "code",
   "execution_count": 26,
   "id": "0cdb5624",
   "metadata": {
    "code_folding": []
   },
   "outputs": [
    {
     "name": "stdout",
     "output_type": "stream",
     "text": [
      "Number of unique values in SKU ID:  380\n",
      "Number of unique values in Sector:  3\n",
      "Number of unique values in Category:  7\n",
      "Number of unique values in Segment:  19\n",
      "Number of unique values in Brand:  23\n"
     ]
    }
   ],
   "source": [
    "# count unique values\n",
    "print(\"Number of unique values in SKU ID: \", len(pos_data['SKU ID'].unique()))\n",
    "print(\"Number of unique values in Sector: \", len(pos_data['Sector'].unique()))\n",
    "print(\"Number of unique values in Category: \", len(pos_data['Category'].unique()))\n",
    "print(\"Number of unique values in Segment: \", len(pos_data['Segment'].unique()))\n",
    "print(\"Number of unique values in Brand: \", len(pos_data['Brand'].unique()))"
   ]
  },
  {
   "cell_type": "markdown",
   "id": "12195e16",
   "metadata": {},
   "source": [
    "- If we apply one-hot encoding on these columns, hundreds of additional columns would get created, which would lead to computational issues.\n",
    "- It would be better to use label encoding, by arbitrarily numbering the values within each of these attributes.\n"
   ]
  },
  {
   "cell_type": "markdown",
   "id": "9b1ea779",
   "metadata": {},
   "source": [
    "**NOTE:**\n",
    "- To reduce the dimensionality of the data, we may choose to go with label encoding, instead of one-hot encoding.\n",
    "- However, machine learning models like the KNN algorithm, which uses the distance between two rows as the logic for predictive analysis, may not work well in such scenario. \n",
    "- So, while optimizing our decision on encoding, we must also be aware of the possible implications for future analyses."
   ]
  },
  {
   "cell_type": "markdown",
   "id": "f39ec5f2",
   "metadata": {},
   "source": [
    "**Now, let us apply label encoding on these columns:**"
   ]
  },
  {
   "cell_type": "code",
   "execution_count": 27,
   "id": "a14088d7",
   "metadata": {
    "code_folding": []
   },
   "outputs": [],
   "source": [
    "# do some imports\n",
    "from sklearn.preprocessing import LabelEncoder, OrdinalEncoder\n",
    "columns = ['SKU ID', 'Sector', 'Category', 'Segment', 'Brand']"
   ]
  },
  {
   "cell_type": "code",
   "execution_count": 28,
   "id": "ec7b5379",
   "metadata": {
    "code_folding": []
   },
   "outputs": [
    {
     "data": {
      "text/html": [
       "<div>\n",
       "<style scoped>\n",
       "    .dataframe tbody tr th:only-of-type {\n",
       "        vertical-align: middle;\n",
       "    }\n",
       "\n",
       "    .dataframe tbody tr th {\n",
       "        vertical-align: top;\n",
       "    }\n",
       "\n",
       "    .dataframe thead th {\n",
       "        text-align: right;\n",
       "    }\n",
       "</style>\n",
       "<table border=\"1\" class=\"dataframe\">\n",
       "  <thead>\n",
       "    <tr style=\"text-align: right;\">\n",
       "      <th></th>\n",
       "      <th>SKU ID</th>\n",
       "      <th>Date</th>\n",
       "      <th>Sector</th>\n",
       "      <th>Category</th>\n",
       "      <th>Segment</th>\n",
       "      <th>Brand</th>\n",
       "      <th>Revenue($)</th>\n",
       "      <th>Units_sold</th>\n",
       "      <th>Page_traffic_equal_bin</th>\n",
       "    </tr>\n",
       "  </thead>\n",
       "  <tbody>\n",
       "    <tr>\n",
       "      <th>0</th>\n",
       "      <td>18</td>\n",
       "      <td>05-01-21</td>\n",
       "      <td>2</td>\n",
       "      <td>6</td>\n",
       "      <td>18</td>\n",
       "      <td>5</td>\n",
       "      <td>0</td>\n",
       "      <td>0</td>\n",
       "      <td>Low</td>\n",
       "    </tr>\n",
       "    <tr>\n",
       "      <th>1</th>\n",
       "      <td>43</td>\n",
       "      <td>05-08-21</td>\n",
       "      <td>2</td>\n",
       "      <td>6</td>\n",
       "      <td>9</td>\n",
       "      <td>21</td>\n",
       "      <td>0</td>\n",
       "      <td>0</td>\n",
       "      <td>Low</td>\n",
       "    </tr>\n",
       "    <tr>\n",
       "      <th>2</th>\n",
       "      <td>57</td>\n",
       "      <td>01-08-22</td>\n",
       "      <td>2</td>\n",
       "      <td>6</td>\n",
       "      <td>9</td>\n",
       "      <td>11</td>\n",
       "      <td>0</td>\n",
       "      <td>0</td>\n",
       "      <td>Low</td>\n",
       "    </tr>\n",
       "    <tr>\n",
       "      <th>3</th>\n",
       "      <td>45</td>\n",
       "      <td>11-05-22</td>\n",
       "      <td>2</td>\n",
       "      <td>6</td>\n",
       "      <td>9</td>\n",
       "      <td>21</td>\n",
       "      <td>0</td>\n",
       "      <td>0</td>\n",
       "      <td>Low</td>\n",
       "    </tr>\n",
       "    <tr>\n",
       "      <th>4</th>\n",
       "      <td>50</td>\n",
       "      <td>12-10-22</td>\n",
       "      <td>2</td>\n",
       "      <td>6</td>\n",
       "      <td>9</td>\n",
       "      <td>11</td>\n",
       "      <td>0</td>\n",
       "      <td>0</td>\n",
       "      <td>Low</td>\n",
       "    </tr>\n",
       "  </tbody>\n",
       "</table>\n",
       "</div>"
      ],
      "text/plain": [
       "   SKU ID      Date  Sector  Category  Segment  Brand  Revenue($)  Units_sold  \\\n",
       "0      18  05-01-21       2         6       18      5           0           0   \n",
       "1      43  05-08-21       2         6        9     21           0           0   \n",
       "2      57  01-08-22       2         6        9     11           0           0   \n",
       "3      45  11-05-22       2         6        9     21           0           0   \n",
       "4      50  12-10-22       2         6        9     11           0           0   \n",
       "\n",
       "  Page_traffic_equal_bin  \n",
       "0                    Low  \n",
       "1                    Low  \n",
       "2                    Low  \n",
       "3                    Low  \n",
       "4                    Low  "
      ]
     },
     "execution_count": 28,
     "metadata": {},
     "output_type": "execute_result"
    }
   ],
   "source": [
    "# apply label encoding\n",
    "LE = LabelEncoder()\n",
    "for col in columns:\n",
    "    pos_data[col] = LE.fit_transform(pos_data[col])\n",
    "pos_data.head()"
   ]
  },
  {
   "cell_type": "code",
   "execution_count": 29,
   "id": "049ac628",
   "metadata": {
    "code_folding": []
   },
   "outputs": [
    {
     "name": "stdout",
     "output_type": "stream",
     "text": [
      "Number of unique values in SKU ID:  380\n",
      "Number of unique values in Sector:  3\n",
      "Number of unique values in Category:  7\n",
      "Number of unique values in Segment:  19\n",
      "Number of unique values in Brand:  23\n"
     ]
    }
   ],
   "source": [
    "# count unique values\n",
    "print(\"Number of unique values in SKU ID: \", len(pos_data['SKU ID'].unique()))\n",
    "print(\"Number of unique values in Sector: \", len(pos_data['Sector'].unique()))\n",
    "print(\"Number of unique values in Category: \", len(pos_data['Category'].unique()))\n",
    "print(\"Number of unique values in Segment: \", len(pos_data['Segment'].unique()))\n",
    "print(\"Number of unique values in Brand: \", len(pos_data['Brand'].unique()))"
   ]
  },
  {
   "cell_type": "markdown",
   "id": "6569138b",
   "metadata": {},
   "source": [
    "***Inference:***\n",
    "- We can now see that all the nominal columns have been converted into numerical format.\n",
    "- However, the unique numbers which have mapped the unique values remained the same."
   ]
  },
  {
   "cell_type": "markdown",
   "id": "3f0d5b9b",
   "metadata": {},
   "source": [
    "**Apply ordinal encoding on the binned column Page_traffic:**"
   ]
  },
  {
   "cell_type": "code",
   "execution_count": null,
   "id": "3372a67e",
   "metadata": {
    "code_folding": []
   },
   "outputs": [],
   "source": [
    "# apply ordinal encoding\n",
    "OE = OrdinalEncoder(categories=[['Low', 'Medium', 'High']])\n",
    "pos_data['Page_traffic_equal_bin'] = OE.fit_transform(pos_data[['Page_traffic_equal_bin']])"
   ]
  },
  {
   "cell_type": "code",
   "execution_count": 32,
   "id": "6f47c2e7",
   "metadata": {
    "code_folding": []
   },
   "outputs": [
    {
     "data": {
      "text/html": [
       "<div>\n",
       "<style scoped>\n",
       "    .dataframe tbody tr th:only-of-type {\n",
       "        vertical-align: middle;\n",
       "    }\n",
       "\n",
       "    .dataframe tbody tr th {\n",
       "        vertical-align: top;\n",
       "    }\n",
       "\n",
       "    .dataframe thead th {\n",
       "        text-align: right;\n",
       "    }\n",
       "</style>\n",
       "<table border=\"1\" class=\"dataframe\">\n",
       "  <thead>\n",
       "    <tr style=\"text-align: right;\">\n",
       "      <th></th>\n",
       "      <th>SKU ID</th>\n",
       "      <th>Date</th>\n",
       "      <th>Sector</th>\n",
       "      <th>Category</th>\n",
       "      <th>Segment</th>\n",
       "      <th>Brand</th>\n",
       "      <th>Revenue($)</th>\n",
       "      <th>Units_sold</th>\n",
       "      <th>Page_traffic_equal_bin</th>\n",
       "    </tr>\n",
       "  </thead>\n",
       "  <tbody>\n",
       "    <tr>\n",
       "      <th>10341</th>\n",
       "      <td>182</td>\n",
       "      <td>5/14/2022</td>\n",
       "      <td>1</td>\n",
       "      <td>0</td>\n",
       "      <td>7</td>\n",
       "      <td>9</td>\n",
       "      <td>21424</td>\n",
       "      <td>1384</td>\n",
       "      <td>0.0</td>\n",
       "    </tr>\n",
       "    <tr>\n",
       "      <th>9835</th>\n",
       "      <td>184</td>\n",
       "      <td>12/24/2022</td>\n",
       "      <td>1</td>\n",
       "      <td>0</td>\n",
       "      <td>7</td>\n",
       "      <td>9</td>\n",
       "      <td>0</td>\n",
       "      <td>0</td>\n",
       "      <td>0.0</td>\n",
       "    </tr>\n",
       "    <tr>\n",
       "      <th>14942</th>\n",
       "      <td>228</td>\n",
       "      <td>07-03-21</td>\n",
       "      <td>1</td>\n",
       "      <td>2</td>\n",
       "      <td>14</td>\n",
       "      <td>0</td>\n",
       "      <td>18876</td>\n",
       "      <td>1210</td>\n",
       "      <td>1.0</td>\n",
       "    </tr>\n",
       "    <tr>\n",
       "      <th>4733</th>\n",
       "      <td>71</td>\n",
       "      <td>5/21/2022</td>\n",
       "      <td>2</td>\n",
       "      <td>5</td>\n",
       "      <td>6</td>\n",
       "      <td>15</td>\n",
       "      <td>33221</td>\n",
       "      <td>1176</td>\n",
       "      <td>1.0</td>\n",
       "    </tr>\n",
       "    <tr>\n",
       "      <th>4554</th>\n",
       "      <td>103</td>\n",
       "      <td>1/22/2022</td>\n",
       "      <td>2</td>\n",
       "      <td>5</td>\n",
       "      <td>12</td>\n",
       "      <td>15</td>\n",
       "      <td>0</td>\n",
       "      <td>0</td>\n",
       "      <td>0.0</td>\n",
       "    </tr>\n",
       "  </tbody>\n",
       "</table>\n",
       "</div>"
      ],
      "text/plain": [
       "       SKU ID        Date  Sector  Category  Segment  Brand  Revenue($)  \\\n",
       "10341     182   5/14/2022       1         0        7      9       21424   \n",
       "9835      184  12/24/2022       1         0        7      9           0   \n",
       "14942     228    07-03-21       1         2       14      0       18876   \n",
       "4733       71   5/21/2022       2         5        6     15       33221   \n",
       "4554      103   1/22/2022       2         5       12     15           0   \n",
       "\n",
       "       Units_sold  Page_traffic_equal_bin  \n",
       "10341        1384                     0.0  \n",
       "9835            0                     0.0  \n",
       "14942        1210                     1.0  \n",
       "4733         1176                     1.0  \n",
       "4554            0                     0.0  "
      ]
     },
     "execution_count": 32,
     "metadata": {},
     "output_type": "execute_result"
    }
   ],
   "source": [
    "pos_data.sample(100).head()"
   ]
  },
  {
   "cell_type": "code",
   "execution_count": 33,
   "id": "f4b77013",
   "metadata": {
    "code_folding": []
   },
   "outputs": [
    {
     "data": {
      "text/plain": [
       "0.0    22963\n",
       "1.0     8068\n",
       "2.0      154\n",
       "Name: Page_traffic_equal_bin, dtype: int64"
      ]
     },
     "execution_count": 33,
     "metadata": {},
     "output_type": "execute_result"
    }
   ],
   "source": [
    "# check value counts\n",
    "pos_data['Page_traffic_equal_bin'].value_counts()"
   ]
  },
  {
   "cell_type": "markdown",
   "id": "d5184a48",
   "metadata": {},
   "source": [
    "#### Convert the *Date* column into numerical format\n",
    "- In our POS data, the *Date* column is of object/string type. \n",
    "- However, we have earlier converted into *datetime* type and did some good analysis based on month, year etc.\n",
    "- But, when we preprocess the data for ML model building purpose, we need to convert *Date* also into a numeric format.\n",
    "- A good way to convert the *Date* into numerical form is splitting the Day, Month and Year into 3 different columns."
   ]
  },
  {
   "cell_type": "code",
   "execution_count": 34,
   "id": "e49de196",
   "metadata": {
    "code_folding": []
   },
   "outputs": [
    {
     "name": "stdout",
     "output_type": "stream",
     "text": [
      "<class 'pandas.core.frame.DataFrame'>\n",
      "Int64Index: 31185 entries, 0 to 31184\n",
      "Data columns (total 9 columns):\n",
      " #   Column                  Non-Null Count  Dtype         \n",
      "---  ------                  --------------  -----         \n",
      " 0   SKU ID                  31185 non-null  int64         \n",
      " 1   Date                    31185 non-null  datetime64[ns]\n",
      " 2   Sector                  31185 non-null  int64         \n",
      " 3   Category                31185 non-null  int64         \n",
      " 4   Segment                 31185 non-null  int64         \n",
      " 5   Brand                   31185 non-null  int64         \n",
      " 6   Revenue($)              31185 non-null  int64         \n",
      " 7   Units_sold              31185 non-null  int64         \n",
      " 8   Page_traffic_equal_bin  31185 non-null  float64       \n",
      "dtypes: datetime64[ns](1), float64(1), int64(7)\n",
      "memory usage: 2.4 MB\n"
     ]
    }
   ],
   "source": [
    "#convert Date into datetime type\n",
    "pos_data['Date'] = pd.to_datetime(pos_data['Date'])\n",
    "pos_data.info()"
   ]
  },
  {
   "cell_type": "code",
   "execution_count": 35,
   "id": "2b5abe49",
   "metadata": {
    "code_folding": []
   },
   "outputs": [
    {
     "data": {
      "text/html": [
       "<div>\n",
       "<style scoped>\n",
       "    .dataframe tbody tr th:only-of-type {\n",
       "        vertical-align: middle;\n",
       "    }\n",
       "\n",
       "    .dataframe tbody tr th {\n",
       "        vertical-align: top;\n",
       "    }\n",
       "\n",
       "    .dataframe thead th {\n",
       "        text-align: right;\n",
       "    }\n",
       "</style>\n",
       "<table border=\"1\" class=\"dataframe\">\n",
       "  <thead>\n",
       "    <tr style=\"text-align: right;\">\n",
       "      <th></th>\n",
       "      <th>SKU ID</th>\n",
       "      <th>Sector</th>\n",
       "      <th>Category</th>\n",
       "      <th>Segment</th>\n",
       "      <th>Brand</th>\n",
       "      <th>Revenue($)</th>\n",
       "      <th>Units_sold</th>\n",
       "      <th>Page_traffic_equal_bin</th>\n",
       "      <th>Day</th>\n",
       "      <th>Month</th>\n",
       "      <th>Year</th>\n",
       "    </tr>\n",
       "  </thead>\n",
       "  <tbody>\n",
       "    <tr>\n",
       "      <th>0</th>\n",
       "      <td>18</td>\n",
       "      <td>2</td>\n",
       "      <td>6</td>\n",
       "      <td>18</td>\n",
       "      <td>5</td>\n",
       "      <td>0</td>\n",
       "      <td>0</td>\n",
       "      <td>0.0</td>\n",
       "      <td>1</td>\n",
       "      <td>5</td>\n",
       "      <td>2021</td>\n",
       "    </tr>\n",
       "    <tr>\n",
       "      <th>1</th>\n",
       "      <td>43</td>\n",
       "      <td>2</td>\n",
       "      <td>6</td>\n",
       "      <td>9</td>\n",
       "      <td>21</td>\n",
       "      <td>0</td>\n",
       "      <td>0</td>\n",
       "      <td>0.0</td>\n",
       "      <td>8</td>\n",
       "      <td>5</td>\n",
       "      <td>2021</td>\n",
       "    </tr>\n",
       "    <tr>\n",
       "      <th>2</th>\n",
       "      <td>57</td>\n",
       "      <td>2</td>\n",
       "      <td>6</td>\n",
       "      <td>9</td>\n",
       "      <td>11</td>\n",
       "      <td>0</td>\n",
       "      <td>0</td>\n",
       "      <td>0.0</td>\n",
       "      <td>8</td>\n",
       "      <td>1</td>\n",
       "      <td>2022</td>\n",
       "    </tr>\n",
       "    <tr>\n",
       "      <th>3</th>\n",
       "      <td>45</td>\n",
       "      <td>2</td>\n",
       "      <td>6</td>\n",
       "      <td>9</td>\n",
       "      <td>21</td>\n",
       "      <td>0</td>\n",
       "      <td>0</td>\n",
       "      <td>0.0</td>\n",
       "      <td>5</td>\n",
       "      <td>11</td>\n",
       "      <td>2022</td>\n",
       "    </tr>\n",
       "    <tr>\n",
       "      <th>4</th>\n",
       "      <td>50</td>\n",
       "      <td>2</td>\n",
       "      <td>6</td>\n",
       "      <td>9</td>\n",
       "      <td>11</td>\n",
       "      <td>0</td>\n",
       "      <td>0</td>\n",
       "      <td>0.0</td>\n",
       "      <td>10</td>\n",
       "      <td>12</td>\n",
       "      <td>2022</td>\n",
       "    </tr>\n",
       "  </tbody>\n",
       "</table>\n",
       "</div>"
      ],
      "text/plain": [
       "   SKU ID  Sector  Category  Segment  Brand  Revenue($)  Units_sold  \\\n",
       "0      18       2         6       18      5           0           0   \n",
       "1      43       2         6        9     21           0           0   \n",
       "2      57       2         6        9     11           0           0   \n",
       "3      45       2         6        9     21           0           0   \n",
       "4      50       2         6        9     11           0           0   \n",
       "\n",
       "   Page_traffic_equal_bin  Day  Month  Year  \n",
       "0                     0.0    1      5  2021  \n",
       "1                     0.0    8      5  2021  \n",
       "2                     0.0    8      1  2022  \n",
       "3                     0.0    5     11  2022  \n",
       "4                     0.0   10     12  2022  "
      ]
     },
     "execution_count": 35,
     "metadata": {},
     "output_type": "execute_result"
    }
   ],
   "source": [
    "#create three new columns to store day, month and year\n",
    "pos_data['Day'] = pos_data['Date'].dt.day\n",
    "pos_data['Month']  = pos_data['Date'].dt.month\n",
    "pos_data['Year'] =  pos_data['Date'].dt.year\n",
    "\n",
    "#drop the original Date column \n",
    "pos_data= pos_data.drop(['Date'], axis=1)\n",
    "pos_data.head()"
   ]
  },
  {
   "cell_type": "code",
   "execution_count": 36,
   "id": "f49f4f6c",
   "metadata": {
    "code_folding": []
   },
   "outputs": [],
   "source": [
    "#save this dataframe for later use\n",
    "pos_data.to_csv('POS_EncodedData.csv', index=False)"
   ]
  },
  {
   "cell_type": "code",
   "execution_count": null,
   "id": "6b0a8533",
   "metadata": {},
   "outputs": [],
   "source": []
  }
 ],
 "metadata": {
  "kernelspec": {
   "display_name": "Python 3 (ipykernel)",
   "language": "python",
   "name": "python3"
  },
  "language_info": {
   "codemirror_mode": {
    "name": "ipython",
    "version": 3
   },
   "file_extension": ".py",
   "mimetype": "text/x-python",
   "name": "python",
   "nbconvert_exporter": "python",
   "pygments_lexer": "ipython3",
   "version": "3.9.13"
  }
 },
 "nbformat": 4,
 "nbformat_minor": 5
}
