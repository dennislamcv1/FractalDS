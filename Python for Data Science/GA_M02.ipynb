{
 "cells": [
  {
   "cell_type": "markdown",
   "metadata": {
    "deletable": false,
    "editable": false,
    "nbgrader": {
     "cell_type": "markdown",
     "checksum": "8aba4075efbe1bb66797f0601b36aa6f",
     "grade": false,
     "grade_id": "cell-26c43e97431a59bf",
     "locked": true,
     "schema_version": 3,
     "solution": false,
     "task": false
    }
   },
   "source": [
    "### Graded Lab 2\n",
    "\n",
    "Hello ! Welcome to Graded Lab of Module 2.\n",
    "Here we will be working on an exciting business problem with help of interesting datasets.\n",
    "Lets look at the problem statement,\n",
    "\n",
    "*Client: ABC Retail, Incorporated, rest-of-the-world division* \n",
    "\n",
    "***Project name: Online retail sales analysis*** \n",
    "\n",
    "An online retailer, ABC, Inc., operates in nearly 100 countries worldwide, selling furniture, office supplies and technology products to customers in three segments: consumer, corporate and home office. ABC, Inc. is a US-based company, and it has two major divisions: US and rest of the world. We are working with the rest of the world division of the company. \n",
    "\n",
    "They have provided us with online sales transaction data from 2011 to 2014.\n",
    "\n",
    "We are given 3 datasets:-\n",
    "\n",
    "1. Data on each sale; 51290 records; all data in US dollars\n",
    "It contains fields like\n",
    "**order_id** (identifier) ,order_date ,ship_date ,ship_mode ,**customer_id**(identifier) ,product_id ,category ,sub_category ,product_name ,sales ,quantity ,discount ,profit ,shipping_cost ,order_priority ,**vendor_code** (identifier) \n",
    "\n",
    "\n",
    "2. Data on the customers; 1590 records \n",
    "It contains fields like\n",
    "**customer_id** (identifier) ,customer_name ,city ,state ,country ,postal_code ,segment ,market ,region \n",
    "\n",
    "3. Data on vendors who supply the retailer; 65 records \n",
    "It contains fields like\n",
    "vendor ,**vendor_code** (identifier) \n",
    "\n",
    "We need to analyze the data and need to provide answers to different questions asked by company officials."
   ]
  },
  {
   "cell_type": "code",
   "execution_count": null,
   "metadata": {
    "deletable": false,
    "editable": false,
    "nbgrader": {
     "cell_type": "code",
     "checksum": "f7033522777d16029863d84243f0dc17",
     "grade": false,
     "grade_id": "cell-a3917e0dac14206f",
     "locked": true,
     "schema_version": 3,
     "solution": false,
     "task": false
    }
   },
   "outputs": [],
   "source": [
    "# importing libraries\n",
    "import pandas as pd\n",
    "import numpy as np\n",
    "\n",
    "### Reading sales data\n",
    "sales = pd.read_csv('sales_data.csv')\n",
    "\n",
    "### Reading customer data\n",
    "cust = pd.read_csv(r'customers.csv',encoding='iso-8859-1')\n",
    "\n",
    "### Reading vendor data\n",
    "vend = pd.read_csv(r'vendors.csv')\n",
    "\n",
    "sales.head()"
   ]
  },
  {
   "cell_type": "code",
   "execution_count": null,
   "metadata": {},
   "outputs": [],
   "source": [
    "pd.set_option('display.max_columns',None)\n",
    "#pd.set_option('display.max_rows',None)\n",
    "pd.set_option('display.width', 1000)\n",
    "pd.set_option('display.float_format','{:.4f}'.format)"
   ]
  },
  {
   "cell_type": "code",
   "execution_count": null,
   "metadata": {},
   "outputs": [],
   "source": [
    "cust.head()"
   ]
  },
  {
   "cell_type": "code",
   "execution_count": null,
   "metadata": {},
   "outputs": [],
   "source": [
    "vend.head()"
   ]
  },
  {
   "cell_type": "markdown",
   "metadata": {
    "deletable": false,
    "editable": false,
    "nbgrader": {
     "cell_type": "markdown",
     "checksum": "8a7dde4f89b8413892e88fa760fca305",
     "grade": false,
     "grade_id": "cell-2dd5a47e86fb3e16",
     "locked": true,
     "schema_version": 3,
     "solution": false,
     "task": false
    }
   },
   "source": [
    "In order to solve the next questions , we need to combine all the 3 datasets into a single dataframe such that every details of sales dataframe are intact. So here we have written a data processing function.\n",
    "There are 2 tasks which are to be performed.\n",
    "1. Merge/ Join all the 3 datasets into a single dataframe such that every details of sales dataframe are intact. (Understand which should be the joining key , type of join , refer .merge() function of pandas)\n",
    "2. Convert 'order_date' into a datetime column.\n",
    "**Return output as a dataframe**"
   ]
  },
  {
   "cell_type": "code",
   "execution_count": null,
   "metadata": {
    "deletable": false,
    "nbgrader": {
     "cell_type": "code",
     "checksum": "83d15370af539ca54bb1de52e97932b0",
     "grade": false,
     "grade_id": "cell-21a002bcfcc3cec1",
     "locked": false,
     "schema_version": 3,
     "solution": true,
     "task": false
    }
   },
   "outputs": [],
   "source": [
    "#### data_merging & order_date processing , data1 will be sales , data2 will be customer dataset & data3 will be vendor dataset.\n",
    "\n",
    "def data_process(data1,data2,data3):\n",
    "    # your code here\n",
    "    df = sales.merge(right=vend, how=\"left\", on=\"vendor_code\")\n",
    "    df2 = df.merge(right=cust, how=\"left\", on=\"customer_id\")\n",
    "    df2[\"order_date\"] = pd.to_datetime(df2['order_date'], format='%d/%m/%Y')\n",
    "    return df2"
   ]
  },
  {
   "cell_type": "markdown",
   "metadata": {},
   "source": [
    "*-----------------------------------------------------------------------------*"
   ]
  },
  {
   "cell_type": "code",
   "execution_count": null,
   "metadata": {},
   "outputs": [],
   "source": [
    "df = sales.merge(right=vend, how=\"left\", on=\"vendor_code\")"
   ]
  },
  {
   "cell_type": "code",
   "execution_count": null,
   "metadata": {},
   "outputs": [],
   "source": [
    "df.head()"
   ]
  },
  {
   "cell_type": "code",
   "execution_count": null,
   "metadata": {},
   "outputs": [],
   "source": [
    "df2 = df.merge(right=cust, how=\"left\", on=\"customer_id\")"
   ]
  },
  {
   "cell_type": "code",
   "execution_count": null,
   "metadata": {},
   "outputs": [],
   "source": [
    "df2"
   ]
  },
  {
   "cell_type": "code",
   "execution_count": null,
   "metadata": {},
   "outputs": [],
   "source": [
    "df2[\"order_date\"] = pd.to_datetime(df2['order_date'], format='%d/%m/%Y')"
   ]
  },
  {
   "cell_type": "code",
   "execution_count": null,
   "metadata": {},
   "outputs": [],
   "source": [
    "df2.head()"
   ]
  },
  {
   "cell_type": "code",
   "execution_count": null,
   "metadata": {},
   "outputs": [],
   "source": [
    "df2.info()"
   ]
  },
  {
   "cell_type": "markdown",
   "metadata": {},
   "source": [
    "*-----------------------------------------------------------------------------*"
   ]
  },
  {
   "cell_type": "code",
   "execution_count": null,
   "metadata": {},
   "outputs": [],
   "source": [
    "sales= data_process(data1=sales.copy(),data2=cust.copy(),data3=vend.copy())"
   ]
  },
  {
   "cell_type": "code",
   "execution_count": null,
   "metadata": {},
   "outputs": [],
   "source": [
    "#sales = pd.read_csv(\"lab2.csv\", parse_dates=[\"order_date\", \"ship_date\"], dayfirst=True)"
   ]
  },
  {
   "cell_type": "code",
   "execution_count": null,
   "metadata": {
    "deletable": false,
    "editable": false,
    "nbgrader": {
     "cell_type": "code",
     "checksum": "71ee5855615bfc243926dd28210fa6d9",
     "grade": true,
     "grade_id": "cell-e52e2a36b201dfa4",
     "locked": true,
     "points": 0,
     "schema_version": 3,
     "solution": false,
     "task": false
    }
   },
   "outputs": [],
   "source": [
    "assert sales['order_date'].dtypes=='<M8[ns]' ,'Make sure that you have converted order_date into a datetime format correctly.'\n",
    "assert sales.shape== (51290,26) ,'Checking size and shape of dataframe after merging is a very important check.'"
   ]
  },
  {
   "cell_type": "code",
   "execution_count": null,
   "metadata": {},
   "outputs": [],
   "source": [
    "sales.info()"
   ]
  },
  {
   "cell_type": "code",
   "execution_count": null,
   "metadata": {},
   "outputs": [],
   "source": [
    "#sales.to_csv(\"lab2.csv\", index=False)"
   ]
  },
  {
   "cell_type": "markdown",
   "metadata": {
    "deletable": false,
    "editable": false,
    "nbgrader": {
     "cell_type": "markdown",
     "checksum": "b4b28a18315198fbb29993ae18ba7a89",
     "grade": false,
     "grade_id": "cell-6b5b2fd3d2be44db",
     "locked": true,
     "schema_version": 3,
     "solution": false,
     "task": false
    }
   },
   "source": [
    "### Q1. Return the top three subcategories that yield the best percentage profit? Return output as list of sub-categories, list of percentage values (rounded upto 2 decimals)."
   ]
  },
  {
   "cell_type": "markdown",
   "metadata": {},
   "source": [
    "*-----------------------------------------------------------------------------*"
   ]
  },
  {
   "cell_type": "code",
   "execution_count": null,
   "metadata": {},
   "outputs": [],
   "source": [
    "list(sales.groupby(\"sub_category\")[\"profit\"].sum().nlargest(n=3).index)"
   ]
  },
  {
   "cell_type": "code",
   "execution_count": null,
   "metadata": {},
   "outputs": [],
   "source": [
    "sales.groupby(\"sub_category\")[\"profit\"].sum().nlargest(n=3)"
   ]
  },
  {
   "cell_type": "code",
   "execution_count": null,
   "metadata": {},
   "outputs": [],
   "source": [
    "sales[\"profit\"].sum()"
   ]
  },
  {
   "cell_type": "code",
   "execution_count": null,
   "metadata": {},
   "outputs": [],
   "source": [
    "top3 = pd.DataFrame(sales.groupby(\"sub_category\")[\"profit\"].sum().nlargest(n=3))\n",
    "top3"
   ]
  },
  {
   "cell_type": "code",
   "execution_count": null,
   "metadata": {},
   "outputs": [],
   "source": [
    "top3[\"percent\"] = top3[\"profit\"]/sales[\"profit\"].sum()"
   ]
  },
  {
   "cell_type": "code",
   "execution_count": null,
   "metadata": {},
   "outputs": [],
   "source": [
    "top3"
   ]
  },
  {
   "cell_type": "markdown",
   "metadata": {},
   "source": [
    "*-----------------------------------------------------------------------------*"
   ]
  },
  {
   "cell_type": "code",
   "execution_count": null,
   "metadata": {
    "deletable": false,
    "nbgrader": {
     "cell_type": "code",
     "checksum": "b0611cf8ccdaf89c1e37d0f8c5c571d2",
     "grade": false,
     "grade_id": "cell-baeb2bd6b317d7c2",
     "locked": false,
     "schema_version": 3,
     "solution": true,
     "task": false
    }
   },
   "outputs": [],
   "source": [
    "def top_3_sales(data):\n",
    "    sub_categories = list(sales.groupby(\"sub_category\")[\"profit\"].sum().nlargest(n=3).index)\n",
    "    \n",
    "    top3 = pd.DataFrame(sales.groupby(\"sub_category\")[\"profit\"].sum().nlargest(n=3))\n",
    "    \n",
    "    top3[\"percent\"] = top3[\"profit\"]/sales[\"profit\"].sum() \n",
    "    \n",
    "    perc_values = top3[\"percent\"]\n",
    "    \n",
    "    return sub_categories, perc_values"
   ]
  },
  {
   "cell_type": "code",
   "execution_count": null,
   "metadata": {
    "deletable": false,
    "editable": false,
    "nbgrader": {
     "cell_type": "code",
     "checksum": "fc22b9a2a52695f7c762df3533f2d94f",
     "grade": true,
     "grade_id": "cell-3826b4716b6578dd",
     "locked": true,
     "points": 5,
     "schema_version": 3,
     "solution": false,
     "task": false
    }
   },
   "outputs": [],
   "source": [
    "assert len(top_3_sales(data=sales)[0])==3,\"Please include list of top 3 sub-categories only\"\n",
    "assert type(top_3_sales(data=sales)[0])==list,\"Output type should be list only.\""
   ]
  },
  {
   "cell_type": "code",
   "execution_count": null,
   "metadata": {
    "deletable": false,
    "editable": false,
    "nbgrader": {
     "cell_type": "code",
     "checksum": "0ec84391fd8515c6538cc9f5e15665d0",
     "grade": true,
     "grade_id": "cell-a849b08051e5b706",
     "locked": true,
     "points": 5,
     "schema_version": 3,
     "solution": false,
     "task": false
    }
   },
   "outputs": [],
   "source": [
    "# autograder cells , please do not alter/ delete /edit this cell"
   ]
  },
  {
   "cell_type": "markdown",
   "metadata": {
    "deletable": false,
    "editable": false,
    "nbgrader": {
     "cell_type": "markdown",
     "checksum": "f68e94b9aeb4f384d9d25f0f84076002",
     "grade": false,
     "grade_id": "cell-3f944e704aa0253f",
     "locked": true,
     "schema_version": 3,
     "solution": false,
     "task": false
    }
   },
   "source": [
    "### Q2.\tWhich city has the highest sales ?"
   ]
  },
  {
   "cell_type": "markdown",
   "metadata": {},
   "source": [
    "*-----------------------------------------------------------------------------*"
   ]
  },
  {
   "cell_type": "code",
   "execution_count": null,
   "metadata": {},
   "outputs": [],
   "source": [
    "sales.groupby(\"city\", as_index=False)[\"sales\"].sum().sort_values(by=\"sales\", ascending=False)"
   ]
  },
  {
   "cell_type": "code",
   "execution_count": null,
   "metadata": {},
   "outputs": [],
   "source": [
    "df1 = sales.groupby(\"city\", as_index=False)[\"sales\"].sum().sort_values(by=\"sales\", ascending=False)\n",
    "df1"
   ]
  },
  {
   "cell_type": "code",
   "execution_count": null,
   "metadata": {},
   "outputs": [],
   "source": [
    "df1.iloc[0:1][\"city\"]"
   ]
  },
  {
   "cell_type": "code",
   "execution_count": null,
   "metadata": {},
   "outputs": [],
   "source": [
    "df1.iloc[0:1][\"city\"].astype(\"str\")"
   ]
  },
  {
   "cell_type": "code",
   "execution_count": null,
   "metadata": {},
   "outputs": [],
   "source": [
    "df1"
   ]
  },
  {
   "cell_type": "markdown",
   "metadata": {},
   "source": [
    "*-----------------------------------------------------------------------------*"
   ]
  },
  {
   "cell_type": "code",
   "execution_count": null,
   "metadata": {
    "deletable": false,
    "nbgrader": {
     "cell_type": "code",
     "checksum": "ea592c47a31e9184ea6c33f0c888c7f5",
     "grade": false,
     "grade_id": "cell-d9f21a4f52e97f2d",
     "locked": false,
     "schema_version": 3,
     "solution": true,
     "task": false
    }
   },
   "outputs": [],
   "source": [
    "def top_city_sales(data):\n",
    "    df1 = sales.groupby(\"city\", as_index=False)[\"sales\"].sum().sort_values(by=\"sales\", ascending=False)\n",
    "    \n",
    "    return df1['city'].values[0]"
   ]
  },
  {
   "cell_type": "code",
   "execution_count": null,
   "metadata": {
    "deletable": false,
    "editable": false,
    "nbgrader": {
     "cell_type": "code",
     "checksum": "46f70b536d262181c73777e8639be399",
     "grade": true,
     "grade_id": "cell-a2adc54841783950",
     "locked": true,
     "points": 5,
     "schema_version": 3,
     "solution": false,
     "task": false
    }
   },
   "outputs": [],
   "source": [
    "assert type(top_city_sales(data=sales))==str,\"Please make sure that output is in string format\""
   ]
  },
  {
   "cell_type": "code",
   "execution_count": null,
   "metadata": {
    "deletable": false,
    "editable": false,
    "nbgrader": {
     "cell_type": "code",
     "checksum": "cb44b7382ba801f6d04868732229de9a",
     "grade": true,
     "grade_id": "cell-4e536adeb5512294",
     "locked": true,
     "points": 5,
     "schema_version": 3,
     "solution": false,
     "task": false
    }
   },
   "outputs": [],
   "source": [
    "# autograder cells , please do not alter/ delete /edit this cell"
   ]
  },
  {
   "cell_type": "markdown",
   "metadata": {
    "deletable": false,
    "editable": false,
    "nbgrader": {
     "cell_type": "markdown",
     "checksum": "b59ef2f43e0287605dc0cb93c5092f8b",
     "grade": false,
     "grade_id": "cell-1e85520473c1a994",
     "locked": true,
     "schema_version": 3,
     "solution": false,
     "task": false
    }
   },
   "source": [
    "### Q.3. In year 2013 , which country has reported lowest profit ? \n",
    "**(Calculate order year from order_date column.)**"
   ]
  },
  {
   "cell_type": "markdown",
   "metadata": {},
   "source": [
    "*-----------------------------------------------------------------------------*"
   ]
  },
  {
   "cell_type": "code",
   "execution_count": null,
   "metadata": {},
   "outputs": [],
   "source": [
    "sales.head()"
   ]
  },
  {
   "cell_type": "code",
   "execution_count": null,
   "metadata": {},
   "outputs": [],
   "source": [
    "sales[\"year\"] = sales[\"order_date\"].dt.year"
   ]
  },
  {
   "cell_type": "code",
   "execution_count": null,
   "metadata": {},
   "outputs": [],
   "source": [
    "sales.head()"
   ]
  },
  {
   "cell_type": "code",
   "execution_count": null,
   "metadata": {},
   "outputs": [],
   "source": [
    "year2013 = sales[sales[\"year\"] == 2013]\n",
    "year2013"
   ]
  },
  {
   "cell_type": "code",
   "execution_count": null,
   "metadata": {},
   "outputs": [],
   "source": [
    "year2013[\"profit\"].min()"
   ]
  },
  {
   "cell_type": "code",
   "execution_count": null,
   "metadata": {},
   "outputs": [],
   "source": [
    "countrymin = year2013[\"country\"][year2013[\"profit\"] == year2013[\"profit\"].min()]\n",
    "countrymin"
   ]
  },
  {
   "cell_type": "code",
   "execution_count": null,
   "metadata": {},
   "outputs": [],
   "source": [
    "countrymin.values[0]"
   ]
  },
  {
   "cell_type": "markdown",
   "metadata": {},
   "source": [
    "*-----------------------------------------------------------------------------*"
   ]
  },
  {
   "cell_type": "code",
   "execution_count": null,
   "metadata": {
    "deletable": false,
    "nbgrader": {
     "cell_type": "code",
     "checksum": "e8dec1564573ef49088aedc4f25a8aea",
     "grade": false,
     "grade_id": "cell-d953dc7d357bedac",
     "locked": false,
     "schema_version": 3,
     "solution": true,
     "task": false
    }
   },
   "outputs": [],
   "source": [
    "def lowest_profit_country(data):\n",
    "    sales[\"year\"] = sales[\"order_date\"].dt.year\n",
    "    year2013 = sales[sales[\"year\"] == 2013]\n",
    "    countrymin = year2013[\"country\"][year2013[\"profit\"] == year2013[\"profit\"].min()]\n",
    "    \n",
    "    return countrymin.values[0]"
   ]
  },
  {
   "cell_type": "code",
   "execution_count": null,
   "metadata": {
    "deletable": false,
    "editable": false,
    "nbgrader": {
     "cell_type": "code",
     "checksum": "ad0caf049565608c85693afb7dc6dcf2",
     "grade": true,
     "grade_id": "cell-c56e95301db9434c",
     "locked": true,
     "points": 5,
     "schema_version": 3,
     "solution": false,
     "task": false
    }
   },
   "outputs": [],
   "source": [
    "assert type(lowest_profit_country(data=sales))==str,\"Please make sure that output is in string format\""
   ]
  },
  {
   "cell_type": "code",
   "execution_count": null,
   "metadata": {
    "deletable": false,
    "editable": false,
    "nbgrader": {
     "cell_type": "code",
     "checksum": "da1c700efb7f20ce1690f575364aa576",
     "grade": true,
     "grade_id": "cell-9751a68aabf608d7",
     "locked": true,
     "points": 5,
     "schema_version": 3,
     "solution": false,
     "task": false
    }
   },
   "outputs": [],
   "source": [
    "# autograder cells , please do not alter/ delete /edit this cell"
   ]
  },
  {
   "cell_type": "markdown",
   "metadata": {},
   "source": [
    "### Q.4. For which market segment we could observe 2nd highest discount ?"
   ]
  },
  {
   "cell_type": "markdown",
   "metadata": {},
   "source": [
    "*-----------------------------------------------------------------------------*"
   ]
  },
  {
   "cell_type": "code",
   "execution_count": null,
   "metadata": {},
   "outputs": [],
   "source": [
    "sales.discount.nlargest(5)"
   ]
  },
  {
   "cell_type": "code",
   "execution_count": null,
   "metadata": {},
   "outputs": [],
   "source": [
    "dis2 = sales[sales.discount == 0.80]\n",
    "dis2"
   ]
  },
  {
   "cell_type": "code",
   "execution_count": null,
   "metadata": {},
   "outputs": [],
   "source": [
    "dis2[\"market\"].value_counts()"
   ]
  },
  {
   "cell_type": "code",
   "execution_count": null,
   "metadata": {},
   "outputs": [],
   "source": [
    "dis2[\"market\"].values[0]"
   ]
  },
  {
   "cell_type": "markdown",
   "metadata": {},
   "source": [
    "*-----------------------------------------------------------------------------*"
   ]
  },
  {
   "cell_type": "code",
   "execution_count": null,
   "metadata": {
    "deletable": false,
    "nbgrader": {
     "cell_type": "code",
     "checksum": "b0c790a2527a4a0ea8ad4dc169d842ad",
     "grade": false,
     "grade_id": "cell-2dcfa33d66fab066",
     "locked": false,
     "schema_version": 3,
     "solution": true,
     "task": false
    }
   },
   "outputs": [],
   "source": [
    "def second_highest_discount_market(data):\n",
    "    dis2 = sales[sales.discount == 0.80]\n",
    "    return dis2[\"market\"].values[0]"
   ]
  },
  {
   "cell_type": "code",
   "execution_count": null,
   "metadata": {
    "deletable": false,
    "editable": false,
    "nbgrader": {
     "cell_type": "code",
     "checksum": "e25f91e5fae95abfd97716c0f1ea9c14",
     "grade": true,
     "grade_id": "cell-e89b4f5212d9af8c",
     "locked": true,
     "points": 5,
     "schema_version": 3,
     "solution": false,
     "task": false
    }
   },
   "outputs": [],
   "source": [
    "assert type(second_highest_discount_market(data=sales))==str,\"Please make sure that output is in string format\""
   ]
  },
  {
   "cell_type": "code",
   "execution_count": null,
   "metadata": {
    "deletable": false,
    "editable": false,
    "nbgrader": {
     "cell_type": "code",
     "checksum": "2e3e9a62623a9aa68d726ce7885d2be5",
     "grade": true,
     "grade_id": "cell-e9bfdf6a222a9834",
     "locked": true,
     "points": 5,
     "schema_version": 3,
     "solution": false,
     "task": false
    }
   },
   "outputs": [],
   "source": [
    "# autograder cells , please do not alter/ delete /edit this cell"
   ]
  },
  {
   "cell_type": "markdown",
   "metadata": {
    "deletable": false,
    "editable": false,
    "nbgrader": {
     "cell_type": "markdown",
     "checksum": "63c0f51652abb507895ce8a14a33605f",
     "grade": false,
     "grade_id": "cell-c3bbdffbbf5b01d3",
     "locked": true,
     "schema_version": 3,
     "solution": false,
     "task": false
    }
   },
   "source": [
    "### Q5.\tWhich product was sold the most (in terms of quantity) within the subcategory ‘Copiers’ and how many units were sold? Return output as a tuple (product name, quantities sold)"
   ]
  },
  {
   "cell_type": "markdown",
   "metadata": {},
   "source": [
    "*-----------------------------------------------------------------------------*"
   ]
  },
  {
   "cell_type": "code",
   "execution_count": null,
   "metadata": {},
   "outputs": [],
   "source": [
    "sales.head()"
   ]
  },
  {
   "cell_type": "code",
   "execution_count": null,
   "metadata": {},
   "outputs": [],
   "source": [
    "sales[\"sub_category\"].value_counts()"
   ]
  },
  {
   "cell_type": "code",
   "execution_count": null,
   "metadata": {},
   "outputs": [],
   "source": [
    "copier = sales[sales[\"sub_category\"] == \"Copiers\"]\n",
    "copier.head()"
   ]
  },
  {
   "cell_type": "code",
   "execution_count": null,
   "metadata": {},
   "outputs": [],
   "source": [
    "copier[\"product_name\"].value_counts()"
   ]
  },
  {
   "cell_type": "code",
   "execution_count": null,
   "metadata": {},
   "outputs": [],
   "source": [
    "copier[\"product_name\"].value_counts().index[0]"
   ]
  },
  {
   "cell_type": "code",
   "execution_count": null,
   "metadata": {},
   "outputs": [],
   "source": [
    "copier[\"product_name\"].value_counts()[0]"
   ]
  },
  {
   "cell_type": "code",
   "execution_count": null,
   "metadata": {},
   "outputs": [],
   "source": [
    "copier[\"product_name\"].value_counts().index[0], copier[\"product_name\"].value_counts()[0]"
   ]
  },
  {
   "cell_type": "markdown",
   "metadata": {},
   "source": [
    "*-----------------------------------------------------------------------------*"
   ]
  },
  {
   "cell_type": "code",
   "execution_count": null,
   "metadata": {
    "deletable": false,
    "nbgrader": {
     "cell_type": "code",
     "checksum": "8383beb26507c74efd7cdf244ac9eeef",
     "grade": false,
     "grade_id": "cell-2372c765dbb61495",
     "locked": false,
     "schema_version": 3,
     "solution": true,
     "task": false
    }
   },
   "outputs": [],
   "source": [
    "def copier_sales(data):\n",
    "    copier = sales[sales[\"sub_category\"] == \"Copiers\"]\n",
    "    return copier[\"product_name\"].value_counts().index[0], copier[\"product_name\"].value_counts()[0]"
   ]
  },
  {
   "cell_type": "code",
   "execution_count": null,
   "metadata": {
    "deletable": false,
    "editable": false,
    "nbgrader": {
     "cell_type": "code",
     "checksum": "96f066b3fdf4a906817a637309784ee6",
     "grade": true,
     "grade_id": "cell-d88992c7c676a693",
     "locked": true,
     "points": 5,
     "schema_version": 3,
     "solution": false,
     "task": false
    }
   },
   "outputs": [],
   "source": [
    "assert type(copier_sales(data=sales)[0])==str,\"Please check the data type of answer , product name should be string.\"\n",
    "assert type(copier_sales(data=sales)[1])==np.int64,\"Please check the data type of answer , quantity sold should be an integer.\""
   ]
  },
  {
   "cell_type": "code",
   "execution_count": null,
   "metadata": {
    "deletable": false,
    "editable": false,
    "nbgrader": {
     "cell_type": "code",
     "checksum": "3ccb81238917ced389e243ecae1f8c01",
     "grade": true,
     "grade_id": "cell-7523c1f6679181a6",
     "locked": true,
     "points": 5,
     "schema_version": 3,
     "solution": false,
     "task": false
    }
   },
   "outputs": [],
   "source": [
    "# autograder cells , please do not alter/ delete /edit this cell"
   ]
  },
  {
   "cell_type": "markdown",
   "metadata": {
    "deletable": false,
    "editable": false,
    "nbgrader": {
     "cell_type": "markdown",
     "checksum": "f3529b9a41e50bd6a003909fe2d875ed",
     "grade": false,
     "grade_id": "cell-7d4673f0c3ddbce3",
     "locked": true,
     "schema_version": 3,
     "solution": false,
     "task": false
    }
   },
   "source": [
    "### Q6.\tIn 2014, which customer (identify by name) contributed to the highest total profit and how much was it (Round it to 4 digits) ? Return output as a tuple (customer name, profit)"
   ]
  },
  {
   "cell_type": "markdown",
   "metadata": {},
   "source": [
    "*-----------------------------------------------------------------------------*"
   ]
  },
  {
   "cell_type": "code",
   "execution_count": null,
   "metadata": {},
   "outputs": [],
   "source": [
    "sales.head()"
   ]
  },
  {
   "cell_type": "code",
   "execution_count": null,
   "metadata": {},
   "outputs": [],
   "source": [
    "sales.dtypes"
   ]
  },
  {
   "cell_type": "code",
   "execution_count": null,
   "metadata": {},
   "outputs": [],
   "source": [
    "sales[\"year\"] = sales[\"order_date\"].dt.year"
   ]
  },
  {
   "cell_type": "code",
   "execution_count": null,
   "metadata": {},
   "outputs": [],
   "source": [
    "sales.head()"
   ]
  },
  {
   "cell_type": "code",
   "execution_count": null,
   "metadata": {},
   "outputs": [],
   "source": [
    "year2014 = sales[sales[\"year\"] == 2014]"
   ]
  },
  {
   "cell_type": "code",
   "execution_count": null,
   "metadata": {},
   "outputs": [],
   "source": [
    "year2014.head()"
   ]
  },
  {
   "cell_type": "code",
   "execution_count": null,
   "metadata": {},
   "outputs": [],
   "source": [
    "ans = pd.DataFrame(year2014.groupby(\"customer_name\", as_index=False)[\"profit\"].sum().nlargest(1, \"profit\"))\n",
    "ans"
   ]
  },
  {
   "cell_type": "code",
   "execution_count": null,
   "metadata": {},
   "outputs": [],
   "source": [
    "ans.iloc[:, 0]"
   ]
  },
  {
   "cell_type": "code",
   "execution_count": null,
   "metadata": {},
   "outputs": [],
   "source": [
    "ans[\"customer_name\"].item()"
   ]
  },
  {
   "cell_type": "code",
   "execution_count": null,
   "metadata": {},
   "outputs": [],
   "source": [
    "ans[\"profit\"].item()"
   ]
  },
  {
   "cell_type": "code",
   "execution_count": null,
   "metadata": {},
   "outputs": [],
   "source": [
    "type(ans[\"profit\"].item())"
   ]
  },
  {
   "cell_type": "code",
   "execution_count": null,
   "metadata": {},
   "outputs": [],
   "source": [
    "ans.iloc[:, 1]"
   ]
  },
  {
   "cell_type": "code",
   "execution_count": null,
   "metadata": {},
   "outputs": [],
   "source": [
    "ans.iloc[:, 0] , ans.iloc[:, 1]"
   ]
  },
  {
   "cell_type": "markdown",
   "metadata": {},
   "source": [
    "*-----------------------------------------------------------------------------*"
   ]
  },
  {
   "cell_type": "code",
   "execution_count": null,
   "metadata": {
    "deletable": false,
    "nbgrader": {
     "cell_type": "code",
     "checksum": "0ad59585f585cfbb2b4751899897881e",
     "grade": false,
     "grade_id": "cell-2f80a755e05bee76",
     "locked": false,
     "schema_version": 3,
     "solution": true,
     "task": false
    }
   },
   "outputs": [],
   "source": [
    "def cust_prof(data):      \n",
    "    ### Extract order year from order date. You can use dt.year functions\n",
    "    # your code here\n",
    "    \n",
    "    data['order_year'] = data[\"order_date\"].dt.year\n",
    "    \n",
    "    ### Filter data for yr 2014\n",
    "    sales_yr= data[data[\"order_year\"] == 2014]\n",
    "    \n",
    "    \n",
    "    #### Aggregate the profits wrto customer name , you can make use of .groupby() function in pandas\n",
    "    cust_profit = sales_yr.groupby('customer_name')['profit'].sum().reset_index()\n",
    "    #print(cust_profit) \n",
    "    ### Round the profit column to 4 decimal numbers  ,You can make use of round() function for rounding off \n",
    "    cust_profit['profit'] = cust_profit['profit'].round(4)\n",
    "    #print(cust_profit['profit'])\n",
    "    ## sort the dataframe with decreasing order of profits.\n",
    "    highest_profit_customer = cust_profit.nlargest(1, 'profit')\n",
    "    #print(highest_profit_customer)\n",
    "    ### Store customer_name with highest profit in variables below. \n",
    "    customer_name = highest_profit_customer['customer_name'].values[0]\n",
    "    customer_profit = highest_profit_customer['profit'].values[0]\n",
    "    \n",
    "    \n",
    "    return customer_name,customer_profit"
   ]
  },
  {
   "cell_type": "code",
   "execution_count": null,
   "metadata": {
    "deletable": false,
    "editable": false,
    "nbgrader": {
     "cell_type": "code",
     "checksum": "17707ba83b8b74f63de37390df959b82",
     "grade": true,
     "grade_id": "cell-0659fb2c54ca2128",
     "locked": true,
     "points": 10,
     "schema_version": 3,
     "solution": false,
     "task": false
    }
   },
   "outputs": [],
   "source": [
    "assert type(cust_prof(data=sales)[0])==str,\"Please check the data type of answer , customer name should be string.\"\n",
    "assert type(cust_prof(data=sales)[1])==np.float64,\"Please check the data type of answer , profit recorded should be float.\""
   ]
  },
  {
   "cell_type": "code",
   "execution_count": null,
   "metadata": {
    "deletable": false,
    "editable": false,
    "nbgrader": {
     "cell_type": "code",
     "checksum": "bdc77e2a0f3c00b79189fece1b6a9bd0",
     "grade": true,
     "grade_id": "cell-1fa5045852195c41",
     "locked": true,
     "points": 10,
     "schema_version": 3,
     "solution": false,
     "task": false
    }
   },
   "outputs": [],
   "source": [
    "# autograder cells , please do not alter/ delete /edit this cell"
   ]
  },
  {
   "cell_type": "markdown",
   "metadata": {
    "deletable": false,
    "editable": false,
    "nbgrader": {
     "cell_type": "markdown",
     "checksum": "a8323869d66b02aefb106d728ea34ff7",
     "grade": false,
     "grade_id": "cell-01e1a000155e7e1e",
     "locked": true,
     "schema_version": 3,
     "solution": false,
     "task": false
    }
   },
   "source": [
    "### Q7.\tHow much do the different categories of items contribute to total sales? \n",
    "**Return output dataframe consisting 2 columns 'category' (product category),'sales_perc' (sales % values).**\n",
    "\n",
    "**Make sure to round off sales percentage values to 2 decimals.**"
   ]
  },
  {
   "cell_type": "markdown",
   "metadata": {},
   "source": [
    "*-----------------------------------------------------------------------------*"
   ]
  },
  {
   "cell_type": "code",
   "execution_count": null,
   "metadata": {},
   "outputs": [],
   "source": [
    "sales.head()"
   ]
  },
  {
   "cell_type": "code",
   "execution_count": null,
   "metadata": {},
   "outputs": [],
   "source": [
    "sales.category.unique()"
   ]
  },
  {
   "cell_type": "code",
   "execution_count": null,
   "metadata": {},
   "outputs": [],
   "source": [
    "df2 = pd.DataFrame(sales.groupby(\"category\", as_index=False)[\"sales\"].sum())\n",
    "\n",
    "df2"
   ]
  },
  {
   "cell_type": "code",
   "execution_count": null,
   "metadata": {},
   "outputs": [],
   "source": [
    "df2.sales.sum()"
   ]
  },
  {
   "cell_type": "markdown",
   "metadata": {},
   "source": [
    "*-----------------------------------------------------------------------------*"
   ]
  },
  {
   "cell_type": "code",
   "execution_count": null,
   "metadata": {
    "deletable": false,
    "nbgrader": {
     "cell_type": "code",
     "checksum": "bbfd0d7a0f101c5506bdecd4eeaa3321",
     "grade": false,
     "grade_id": "cell-aeeb4124ab318d78",
     "locked": false,
     "schema_version": 3,
     "solution": true,
     "task": false
    }
   },
   "outputs": [],
   "source": [
    "def cat_sales_contri(data):\n",
    "    df2 = pd.DataFrame(data.groupby(\"category\", as_index=False)[\"sales\"].sum())\n",
    "    return df2"
   ]
  },
  {
   "cell_type": "code",
   "execution_count": null,
   "metadata": {
    "deletable": false,
    "editable": false,
    "nbgrader": {
     "cell_type": "code",
     "checksum": "068ed77521d25c553a2ba388f0bc4560",
     "grade": true,
     "grade_id": "cell-a509c09c77a96597",
     "locked": true,
     "points": 5,
     "schema_version": 3,
     "solution": false,
     "task": false
    }
   },
   "outputs": [],
   "source": [
    "assert type(cat_sales_contri(data=sales))==pd.DataFrame,\"Please check the data type of answer , it should be a dataframe.\"\n",
    "assert cat_sales_contri(data=sales).shape==(3,2),\"Please check the data shape, total row count should be equal to number of unique categories.\""
   ]
  },
  {
   "cell_type": "code",
   "execution_count": null,
   "metadata": {
    "deletable": false,
    "editable": false,
    "nbgrader": {
     "cell_type": "code",
     "checksum": "751e821fb476136fbb723a646401b325",
     "grade": true,
     "grade_id": "cell-bbb943a227501894",
     "locked": true,
     "points": 5,
     "schema_version": 3,
     "solution": false,
     "task": false
    }
   },
   "outputs": [],
   "source": [
    "# autograder cells , please do not alter/ delete /edit this cell"
   ]
  },
  {
   "cell_type": "markdown",
   "metadata": {
    "deletable": false,
    "editable": false,
    "nbgrader": {
     "cell_type": "markdown",
     "checksum": "60836c0d3edfc1471150663cb1d9ec25",
     "grade": false,
     "grade_id": "cell-d679ced554385437",
     "locked": true,
     "schema_version": 3,
     "solution": false,
     "task": false
    }
   },
   "source": [
    "### Q8. Can we identify the customers who have not made any purchases in the last 12 months, so that we can send them some promotional material to encourage them to come back and shop with us? \n",
    "\n",
    "**Return the output as a data frame with three columns: 'customer_name','customer_id' and 'Total_sales' (total sales amount that customer has accrued). Make sure that you are returning the mentioned column names in same sequence & as same spelled.**"
   ]
  },
  {
   "cell_type": "markdown",
   "metadata": {
    "deletable": false,
    "editable": false,
    "nbgrader": {
     "cell_type": "markdown",
     "checksum": "6f9ab9ab84f7ddbe1f0e509681eed223",
     "grade": false,
     "grade_id": "cell-6908547840ef5a6d",
     "locked": true,
     "schema_version": 3,
     "solution": false,
     "task": false
    }
   },
   "source": [
    "**Hint:-**\n",
    "\n",
    "You might think of working on this logic\n",
    "\n",
    "1. Calculate latest order date for every customer\n",
    "2. Calculate yr back order date by offsetting latest date by 365 days (you can make use of pd.DateOffset(days=) function)\n",
    "3. Check if order date is in between yr_back_order date and latest_order_date, create binary flag.\n",
    "4. For every customer,you will get multiple order dates which are before yr old order date. Aggregate the flag at user level.\n",
    "5. Check for a customer if all the flags indicating that order date are before 1 yr then mark that customer as one who hasnt made any transations in last yr.\n",
    "6. Take out its name by joining with customer data and aggregate it for finding total sales. "
   ]
  },
  {
   "cell_type": "code",
   "execution_count": null,
   "metadata": {},
   "outputs": [],
   "source": [
    "sales.columns"
   ]
  },
  {
   "cell_type": "code",
   "execution_count": null,
   "metadata": {},
   "outputs": [],
   "source": [
    "sales.shape"
   ]
  },
  {
   "cell_type": "code",
   "execution_count": null,
   "metadata": {},
   "outputs": [],
   "source": [
    "# Group by customer_id and consider the latest order_date\n",
    "purchase_date = sales.groupby('customer_id')['order_date'].max().reset_index()\n",
    "purchase_date.rename(columns={'order_date': 'latest_purchase_date'}, inplace=True)\n",
    "purchase_date"
   ]
  },
  {
   "cell_type": "code",
   "execution_count": null,
   "metadata": {},
   "outputs": [],
   "source": [
    "# Calculate 'yr_back_order_date' by offsetting the latest_purchase_date by 365 days\n",
    "purchase_date['yr_back_order_date'] = purchase_date['latest_purchase_date'] - pd.DateOffset(days=365)\n",
    "purchase_date"
   ]
  },
  {
   "cell_type": "code",
   "execution_count": null,
   "metadata": {},
   "outputs": [],
   "source": [
    "# Offset the latest_purchase_date by 1 more day to avoid intersection with latest_order_date\n",
    "purchase_date['latest_purchase_date'] =  purchase_date['latest_purchase_date'] + pd.DateOffset(days=1)\n",
    "purchase_date"
   ]
  },
  {
   "cell_type": "code",
   "execution_count": null,
   "metadata": {},
   "outputs": [],
   "source": [
    "# Merge the purchase_date data with the original sales data\n",
    "sales = sales.merge(purchase_date, on='customer_id', how='left')\n",
    "sales.head()"
   ]
  },
  {
   "cell_type": "code",
   "execution_count": null,
   "metadata": {},
   "outputs": [],
   "source": [
    "# Check if the order_date falls between 'yr_back_order_date' and 'latest_purchase_date', if yes, flag it as 1, else 0\n",
    "sales['purchase_flag'] = ((sales['order_date'] >= sales['yr_back_order_date']) & (sales['order_date'] <= sales['latest_purchase_date'])).astype(int)\n",
    "\n",
    "sales.head()"
   ]
  },
  {
   "cell_type": "code",
   "execution_count": null,
   "metadata": {},
   "outputs": [],
   "source": [
    "# Calculate the sum of all flags per customer_id\n",
    "purchase_in_last_yr = sales.groupby('customer_id')['purchase_flag'].sum().reset_index()\n",
    "purchase_in_last_yr.rename(columns={'purchase_flag': 'purchases_in_last_yr'}, inplace=True)\n",
    "purchase_in_last_yr.head()"
   ]
  },
  {
   "cell_type": "code",
   "execution_count": null,
   "metadata": {},
   "outputs": [],
   "source": [
    "(purchase_in_last_yr[\"purchases_in_last_yr\"] == 0).sum()"
   ]
  },
  {
   "cell_type": "code",
   "execution_count": null,
   "metadata": {},
   "outputs": [],
   "source": [
    "# Merge the purchase_in_last_yr with sales data\n",
    "sales = sales.merge(purchase_in_last_yr, on='customer_id', how='left')\n",
    "\n",
    "sales.head()"
   ]
  },
  {
   "cell_type": "code",
   "execution_count": null,
   "metadata": {},
   "outputs": [],
   "source": [
    "# Select the customers who have 0 in 'purchases_in_last_yr', as they haven't purchased anything in the last year\n",
    "sales_df = sales[sales['purchase_flag'] == 0]\n",
    "sales_df.head()"
   ]
  },
  {
   "cell_type": "code",
   "execution_count": null,
   "metadata": {},
   "outputs": [],
   "source": [
    "sales_df_1= sales_df.groupby(['customer_name', 'customer_id'])['sales'].sum().reset_index()\n",
    "sales_df_1.head()"
   ]
  },
  {
   "cell_type": "code",
   "execution_count": null,
   "metadata": {},
   "outputs": [],
   "source": [
    "sales_df_1.rename(columns={'sales': 'Total_sales'}, inplace=True)\n",
    "sales_df_1.head()"
   ]
  },
  {
   "cell_type": "code",
   "execution_count": null,
   "metadata": {},
   "outputs": [],
   "source": [
    "sales_df_1[['customer_name','customer_id','Total_sales']]"
   ]
  },
  {
   "cell_type": "code",
   "execution_count": null,
   "metadata": {
    "deletable": false,
    "nbgrader": {
     "cell_type": "code",
     "checksum": "dcd1bb2e0555441b875594a7432a423e",
     "grade": false,
     "grade_id": "cell-3fca9a4c82b93bf0",
     "locked": false,
     "schema_version": 3,
     "solution": true,
     "task": false
    }
   },
   "outputs": [],
   "source": [
    "def cust_purc(data):\n",
    "    # your code here\n",
    "    \n",
    "    ### Groupby customer_id & consider latest order_date, name this dataframe as purchase_date. \n",
    "    purchase_date=data.groupby('customer_id')['order_date'].max().reset_index()\n",
    "    purchase_date.rename(columns={'order_date':'latest_purchase_date'}, inplace=True)\n",
    "    \n",
    "    #### Calculate 'yr_back_order_date' by offsetting the latest_purchase_date by 365 days , make use of pd.DateOffset() function.\n",
    "    purchase_date['yr_back_order_date']= purchase_date['latest_purchase_date'] - pd.DateOffset(days=365)\n",
    "    \n",
    "    ### Offset the latest_purchase_date by 1 more day in order to avoid intersection with latest_order_date.\n",
    "    purchase_date['latest_purchase_date'] += pd.DateOffset(days=1)\n",
    "    \n",
    "    ### We have purchase-date data ready with us so now its time to merge it with original sales data\n",
    "    data=data.merge(purchase_date, on='customer_id', how='left')\n",
    "    \n",
    "    #### Check if order_date falls in between 'yr_back_order_date','latest_purchase_date' , if 'yes' flag it as 1 else 0. \n",
    "    data['purchase_flag'] = ((data['order_date'] >= data['yr_back_order_date']) & (data['order_date'] < data['latest_purchase_date'])).astype(int)\n",
    "\n",
    "    #### Calculate sum of all flag per customer_id by using groupby() function, call this flag total as '# purchases_in_last_yr'\n",
    "    purchase_in_last_yr=data.groupby('customer_id')['purchase_flag'].sum().reset_index()\n",
    "    purchase_in_last_yr.rename(columns={'purchase_flag':'# purchases_in_last_yr'},inplace=True)\n",
    "    \n",
    "    \n",
    "    #### Merge the purchase_in_lst_yr with sales data.\n",
    "    data=data.merge(purchase_in_last_yr, on='customer_id', how='left')\n",
    "    \n",
    "    #### Select the customers who have 0 in '# purchases_in_last_yr' as this will be customers who havent purchased anything in last yr.\n",
    "    sales_df= data[data['# purchases_in_last_yr'] == 0]\n",
    "    \n",
    "    ### Its time to do final aggregation for selected customers cosnider their name , id & aggregate it on sales column for getting total sales.\n",
    "    sales_df_1 = sales_df.groupby(['customer_name', 'customer_id'])['sales'].sum().reset_index()\n",
    "    sales_df_1.rename(columns={'sales': 'Total_sales'}, inplace=True)\n",
    "    return sales_df_1[['customer_name','customer_id','Total_sales']] ### You can replace sales_df_1 by your dataframe name.\n"
   ]
  },
  {
   "cell_type": "code",
   "execution_count": null,
   "metadata": {
    "deletable": false,
    "editable": false,
    "nbgrader": {
     "cell_type": "code",
     "checksum": "b69862a14d10d58c4f0486c8eb2aa35e",
     "grade": true,
     "grade_id": "cell-af43b1cfc50161bf",
     "locked": true,
     "points": 10,
     "schema_version": 3,
     "solution": false,
     "task": false
    }
   },
   "outputs": [],
   "source": [
    "assert type(cust_purc(data=sales))==pd.DataFrame,\"Please check the data type of answer , it should be dataframe.\"\n",
    "assert cust_purc(data=sales).shape==(109,3),\"Please check the data shape.\""
   ]
  },
  {
   "cell_type": "code",
   "execution_count": null,
   "metadata": {
    "deletable": false,
    "editable": false,
    "nbgrader": {
     "cell_type": "code",
     "checksum": "dc524f425d479775831a2eb162a7f502",
     "grade": true,
     "grade_id": "cell-a75ce88e766af09e",
     "locked": true,
     "points": 10,
     "schema_version": 3,
     "solution": false,
     "task": false
    }
   },
   "outputs": [],
   "source": [
    "# autograder cells , please do not alter/ delete /edit this cell"
   ]
  },
  {
   "cell_type": "markdown",
   "metadata": {},
   "source": [
    "# Total Grade Obtained = 55%"
   ]
  },
  {
   "cell_type": "code",
   "execution_count": null,
   "metadata": {},
   "outputs": [],
   "source": []
  }
 ],
 "metadata": {
  "kernelspec": {
   "display_name": "Python 3 (ipykernel)",
   "language": "python",
   "name": "python3"
  },
  "language_info": {
   "codemirror_mode": {
    "name": "ipython",
    "version": 3
   },
   "file_extension": ".py",
   "mimetype": "text/x-python",
   "name": "python",
   "nbconvert_exporter": "python",
   "pygments_lexer": "ipython3",
   "version": "3.9.12"
  }
 },
 "nbformat": 4,
 "nbformat_minor": 4
}
