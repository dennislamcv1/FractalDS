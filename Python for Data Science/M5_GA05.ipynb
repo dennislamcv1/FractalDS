{
 "cells": [
  {
   "cell_type": "markdown",
   "id": "8706e0f4",
   "metadata": {
    "deletable": false,
    "editable": false,
    "nbgrader": {
     "cell_type": "markdown",
     "checksum": "9fc60084b884af807b1eaffbd4e24c7d",
     "grade": false,
     "grade_id": "cell-f7171899571b05ed",
     "locked": true,
     "schema_version": 3,
     "solution": false,
     "task": false
    }
   },
   "source": [
    "### Graded Lab 5\n",
    "\n",
    "Hello ! Welcome to Graded Lab of Module 5.\n",
    "\n",
    "In the last assignment we had worked on missing values & outliers.\n",
    "Its high time when we look at the feature engineering & Principal component analysis.\n",
    "\n",
    "**So lets go ahead with the last graded assignment for the course !**\n",
    "\n",
    "In case if you are not able to recollect the problem description and data description then mentioning it below.\n",
    "\n",
    "Lets look at the problem statement,\n",
    "\n",
    "*Client: ABC Retail, Incorporated, rest-of-the-world division* \n",
    "\n",
    "***Project name: Online retail sales analysis*** \n",
    "\n",
    "An online retailer, ABC, Inc., operates in nearly 100 countries worldwide, selling furniture, office supplies and technology products to customers in three segments: consumer, corporate and home office. ABC, Inc. is a US-based company, and it has two major divisions: US and rest of the world. We are working with the rest of the world division of the company. \n",
    "\n",
    "They have provided us with online sales transaction data from 2011 to 2014.\n",
    "\n",
    "We are given 3 datasets:-\n",
    "\n",
    "1. Data on each sale; 51290 records; all data in US dollars\n",
    "It contains fields like\n",
    "**order_id** (identifier) ,order_date ,ship_date ,ship_mode ,**customer_id**(identifier) ,product_id ,category ,sub_category ,product_name ,sales ,quantity ,discount ,profit ,shipping_cost ,order_priority ,**vendor_code** (identifier) \n",
    "\n",
    "\n",
    "2. Data on the customers; 1590 records \n",
    "It contains fields like\n",
    "**customer_id** (identifier) ,customer_name ,city ,state ,country ,postal_code ,segment ,market ,region \n",
    "\n",
    "3. Data on vendors who supply the retailer; 65 records \n",
    "It contains fields like\n",
    "vendor ,**vendor_code** (identifier) \n",
    "\n",
    "We need to analyze the data and need to provide answer to different questions asked by company officials."
   ]
  },
  {
   "cell_type": "code",
   "execution_count": 1,
   "id": "8fda7304",
   "metadata": {
    "code_folding": [
     0
    ],
    "deletable": false,
    "editable": false,
    "nbgrader": {
     "cell_type": "code",
     "checksum": "9bc1197652bf32abbd6c75aa91d59be8",
     "grade": false,
     "grade_id": "cell-4c17e0403c1c8961",
     "locked": true,
     "schema_version": 3,
     "solution": false,
     "task": false
    }
   },
   "outputs": [
    {
     "data": {
      "text/html": [
       "<div>\n",
       "<style scoped>\n",
       "    .dataframe tbody tr th:only-of-type {\n",
       "        vertical-align: middle;\n",
       "    }\n",
       "\n",
       "    .dataframe tbody tr th {\n",
       "        vertical-align: top;\n",
       "    }\n",
       "\n",
       "    .dataframe thead th {\n",
       "        text-align: right;\n",
       "    }\n",
       "</style>\n",
       "<table border=\"1\" class=\"dataframe\">\n",
       "  <thead>\n",
       "    <tr style=\"text-align: right;\">\n",
       "      <th></th>\n",
       "      <th>row_id</th>\n",
       "      <th>order_id</th>\n",
       "      <th>order_date</th>\n",
       "      <th>ship_date</th>\n",
       "      <th>ship_mode</th>\n",
       "      <th>customer_id</th>\n",
       "      <th>product_id</th>\n",
       "      <th>category</th>\n",
       "      <th>sub_category</th>\n",
       "      <th>product_name</th>\n",
       "      <th>sales</th>\n",
       "      <th>quantity</th>\n",
       "      <th>discount</th>\n",
       "      <th>profit</th>\n",
       "      <th>shipping_cost</th>\n",
       "      <th>order_priority</th>\n",
       "      <th>vendor_code</th>\n",
       "    </tr>\n",
       "  </thead>\n",
       "  <tbody>\n",
       "    <tr>\n",
       "      <th>0</th>\n",
       "      <td>1</td>\n",
       "      <td>MX-2014-143658</td>\n",
       "      <td>02/10/2014</td>\n",
       "      <td>06/10/2014</td>\n",
       "      <td>Standard Class</td>\n",
       "      <td>SC-20575</td>\n",
       "      <td>OFF-LA-10002782</td>\n",
       "      <td>Office Supplies</td>\n",
       "      <td>Labels</td>\n",
       "      <td>Hon File Folder Labels, Adjustable</td>\n",
       "      <td>13.08</td>\n",
       "      <td>3</td>\n",
       "      <td>0.0</td>\n",
       "      <td>4.56</td>\n",
       "      <td>1.03</td>\n",
       "      <td>Medium</td>\n",
       "      <td>VE_001</td>\n",
       "    </tr>\n",
       "    <tr>\n",
       "      <th>1</th>\n",
       "      <td>2</td>\n",
       "      <td>MX-2012-155047</td>\n",
       "      <td>15/10/2012</td>\n",
       "      <td>20/10/2012</td>\n",
       "      <td>Standard Class</td>\n",
       "      <td>KW-16570</td>\n",
       "      <td>FUR-FU-10004015</td>\n",
       "      <td>Furniture</td>\n",
       "      <td>Furnishings</td>\n",
       "      <td>Tenex Clock, Durable</td>\n",
       "      <td>252.16</td>\n",
       "      <td>8</td>\n",
       "      <td>0.0</td>\n",
       "      <td>90.72</td>\n",
       "      <td>13.45</td>\n",
       "      <td>Medium</td>\n",
       "      <td>VE_002</td>\n",
       "    </tr>\n",
       "    <tr>\n",
       "      <th>2</th>\n",
       "      <td>3</td>\n",
       "      <td>MX-2012-155047</td>\n",
       "      <td>15/10/2012</td>\n",
       "      <td>20/10/2012</td>\n",
       "      <td>Standard Class</td>\n",
       "      <td>KW-16570</td>\n",
       "      <td>FUR-BO-10002352</td>\n",
       "      <td>Furniture</td>\n",
       "      <td>Bookcases</td>\n",
       "      <td>Ikea 3-Shelf Cabinet, Mobile</td>\n",
       "      <td>193.28</td>\n",
       "      <td>2</td>\n",
       "      <td>0.0</td>\n",
       "      <td>54.08</td>\n",
       "      <td>9.63</td>\n",
       "      <td>Medium</td>\n",
       "      <td>VE_003</td>\n",
       "    </tr>\n",
       "    <tr>\n",
       "      <th>3</th>\n",
       "      <td>4</td>\n",
       "      <td>MX-2012-155047</td>\n",
       "      <td>15/10/2012</td>\n",
       "      <td>20/10/2012</td>\n",
       "      <td>Standard Class</td>\n",
       "      <td>KW-16570</td>\n",
       "      <td>OFF-BI-10004428</td>\n",
       "      <td>Office Supplies</td>\n",
       "      <td>Binders</td>\n",
       "      <td>Cardinal Binder, Clear</td>\n",
       "      <td>35.44</td>\n",
       "      <td>4</td>\n",
       "      <td>0.0</td>\n",
       "      <td>4.96</td>\n",
       "      <td>1.37</td>\n",
       "      <td>Medium</td>\n",
       "      <td>VE_004</td>\n",
       "    </tr>\n",
       "    <tr>\n",
       "      <th>4</th>\n",
       "      <td>5</td>\n",
       "      <td>MX-2012-155047</td>\n",
       "      <td>15/10/2012</td>\n",
       "      <td>20/10/2012</td>\n",
       "      <td>Standard Class</td>\n",
       "      <td>KW-16570</td>\n",
       "      <td>OFF-AR-10004594</td>\n",
       "      <td>Office Supplies</td>\n",
       "      <td>Art</td>\n",
       "      <td>Sanford Canvas, Water Color</td>\n",
       "      <td>71.60</td>\n",
       "      <td>2</td>\n",
       "      <td>0.0</td>\n",
       "      <td>11.44</td>\n",
       "      <td>3.79</td>\n",
       "      <td>Medium</td>\n",
       "      <td>VE_005</td>\n",
       "    </tr>\n",
       "  </tbody>\n",
       "</table>\n",
       "</div>"
      ],
      "text/plain": [
       "   row_id        order_id  order_date   ship_date       ship_mode customer_id  \\\n",
       "0       1  MX-2014-143658  02/10/2014  06/10/2014  Standard Class    SC-20575   \n",
       "1       2  MX-2012-155047  15/10/2012  20/10/2012  Standard Class    KW-16570   \n",
       "2       3  MX-2012-155047  15/10/2012  20/10/2012  Standard Class    KW-16570   \n",
       "3       4  MX-2012-155047  15/10/2012  20/10/2012  Standard Class    KW-16570   \n",
       "4       5  MX-2012-155047  15/10/2012  20/10/2012  Standard Class    KW-16570   \n",
       "\n",
       "        product_id         category sub_category  \\\n",
       "0  OFF-LA-10002782  Office Supplies       Labels   \n",
       "1  FUR-FU-10004015        Furniture  Furnishings   \n",
       "2  FUR-BO-10002352        Furniture    Bookcases   \n",
       "3  OFF-BI-10004428  Office Supplies      Binders   \n",
       "4  OFF-AR-10004594  Office Supplies          Art   \n",
       "\n",
       "                         product_name   sales  quantity  discount  profit  \\\n",
       "0  Hon File Folder Labels, Adjustable   13.08         3       0.0    4.56   \n",
       "1                Tenex Clock, Durable  252.16         8       0.0   90.72   \n",
       "2        Ikea 3-Shelf Cabinet, Mobile  193.28         2       0.0   54.08   \n",
       "3              Cardinal Binder, Clear   35.44         4       0.0    4.96   \n",
       "4         Sanford Canvas, Water Color   71.60         2       0.0   11.44   \n",
       "\n",
       "   shipping_cost order_priority vendor_code  \n",
       "0           1.03         Medium      VE_001  \n",
       "1          13.45         Medium      VE_002  \n",
       "2           9.63         Medium      VE_003  \n",
       "3           1.37         Medium      VE_004  \n",
       "4           3.79         Medium      VE_005  "
      ]
     },
     "execution_count": 1,
     "metadata": {},
     "output_type": "execute_result"
    }
   ],
   "source": [
    "# importing libraries\n",
    "import pandas as pd\n",
    "import numpy as np\n",
    "import seaborn as sns\n",
    "import matplotlib.pyplot as plt\n",
    "from scipy.stats import norm\n",
    "from itertools import combinations\n",
    "from sklearn.preprocessing import StandardScaler\n",
    "from sklearn.decomposition import PCA\n",
    "\n",
    "### Reading sales data\n",
    "sales = pd.read_csv('sales_data.csv')\n",
    "\n",
    "### Reading customer data\n",
    "cust = pd.read_csv(r'customers.csv',encoding='iso-8859-1')\n",
    "\n",
    "### Reading vendor data\n",
    "vend = pd.read_csv(r'vendors.csv')\n",
    "sales.head()"
   ]
  },
  {
   "cell_type": "code",
   "execution_count": 2,
   "id": "8c1ae83c",
   "metadata": {},
   "outputs": [],
   "source": [
    "pd.set_option('display.max_columns',None)\n",
    "#pd.set_option('display.max_rows',None)\n",
    "pd.set_option('display.width', 1000)\n",
    "pd.set_option('display.float_format','{:.2f}'.format)\n",
    "\n",
    "import datetime\n",
    "import warnings\n",
    "\n",
    "warnings.filterwarnings(\"ignore\")"
   ]
  },
  {
   "cell_type": "code",
   "execution_count": 3,
   "id": "a780eef5",
   "metadata": {},
   "outputs": [
    {
     "data": {
      "text/plain": [
       "((51290, 17), (1590, 9), (65, 2))"
      ]
     },
     "execution_count": 3,
     "metadata": {},
     "output_type": "execute_result"
    }
   ],
   "source": [
    "sales.shape, cust.shape, vend.shape"
   ]
  },
  {
   "cell_type": "code",
   "execution_count": null,
   "id": "1bde782f",
   "metadata": {},
   "outputs": [],
   "source": [
    "cust.head()"
   ]
  },
  {
   "cell_type": "code",
   "execution_count": null,
   "id": "1ec55d70",
   "metadata": {},
   "outputs": [],
   "source": [
    "vend.head()"
   ]
  },
  {
   "cell_type": "markdown",
   "id": "f29ae3ad",
   "metadata": {
    "deletable": false,
    "editable": false,
    "nbgrader": {
     "cell_type": "markdown",
     "checksum": "00eefe9f054d05c8c11ebcfe9bc04a5b",
     "grade": false,
     "grade_id": "cell-4dc354b2761c4e3b",
     "locked": true,
     "schema_version": 3,
     "solution": false,
     "task": false
    }
   },
   "source": [
    "In order to solve the next questions , we need to combine all the 3 datasets into a single dataframe such that every details of sales dataframe are intact. So here we have written a data processing function.\n",
    "There are 2 tasks which are to be performed.\n",
    "1. Merge/ Join all the 3 datasets into a single dataframe such that every details of sales dataframe are intact. (Understand which should be the joining key , type of join , refer .merge() function of pandas)\n",
    "2. Convert 'order_date' into a datetime column.\n",
    "**Return output as a dataframe**"
   ]
  },
  {
   "cell_type": "code",
   "execution_count": 4,
   "id": "4db97122",
   "metadata": {
    "deletable": false,
    "nbgrader": {
     "cell_type": "code",
     "checksum": "bb96071fa0009e8888d15cd2e59a2839",
     "grade": false,
     "grade_id": "cell-171f8d30f5d84056",
     "locked": false,
     "schema_version": 3,
     "solution": true,
     "task": false
    }
   },
   "outputs": [],
   "source": [
    "#### data_merging & order_date processing , data1 will be sales , data2 will be customer dataset & data3 will be vendor dataset.\n",
    "\n",
    "def data_process(data1,data2,data3):\n",
    "    # your code here\n",
    "    df = data1.merge(right=data3, how=\"left\", on=\"vendor_code\")\n",
    "    df2 = df.merge(right=data2, how=\"left\", on=\"customer_id\")\n",
    "    df2[\"order_date\"] = pd.to_datetime(df2['order_date'], format='%d/%m/%Y')\n",
    "    return df2"
   ]
  },
  {
   "cell_type": "code",
   "execution_count": 5,
   "id": "3efecc47",
   "metadata": {
    "deletable": false,
    "editable": false,
    "nbgrader": {
     "cell_type": "code",
     "checksum": "da3c5d11eca78dbf422924bf20f58955",
     "grade": false,
     "grade_id": "cell-45cced5365115e88",
     "locked": true,
     "schema_version": 3,
     "solution": false,
     "task": false
    }
   },
   "outputs": [],
   "source": [
    "sales= data_process(data1=sales.copy(),data2=cust.copy(),data3=vend.copy())"
   ]
  },
  {
   "cell_type": "code",
   "execution_count": 6,
   "id": "26f81006",
   "metadata": {},
   "outputs": [
    {
     "data": {
      "text/plain": [
       "(51290, 26)"
      ]
     },
     "execution_count": 6,
     "metadata": {},
     "output_type": "execute_result"
    }
   ],
   "source": [
    "sales.shape"
   ]
  },
  {
   "cell_type": "code",
   "execution_count": 7,
   "id": "dfcc0c02",
   "metadata": {
    "deletable": false,
    "editable": false,
    "nbgrader": {
     "cell_type": "code",
     "checksum": "40bc744c3c305203bf9d8b365a59b4b7",
     "grade": true,
     "grade_id": "cell-61ebe95bf598597b",
     "locked": true,
     "points": 0,
     "schema_version": 3,
     "solution": false,
     "task": false
    }
   },
   "outputs": [],
   "source": [
    "assert sales['order_date'].dtypes=='<M8[ns]' ,'Make sure if you have converted order_date into a datetime format correctly or not.'\n",
    "assert sales.shape== (51290,26) ,'Checking size and shape of dataframe after merging is a very important check.'"
   ]
  },
  {
   "cell_type": "markdown",
   "id": "80c15263",
   "metadata": {
    "deletable": false,
    "editable": false,
    "nbgrader": {
     "cell_type": "markdown",
     "checksum": "5d8327a70d675ca6e91411fbd9785436",
     "grade": false,
     "grade_id": "cell-71fb2e2dc8baad31",
     "locked": true,
     "schema_version": 3,
     "solution": false,
     "task": false
    }
   },
   "source": [
    "### Q.1) Create a feature for identifying which orders are delivered on weekends. Flag will take value 1 if order is delivered on weekends & 0 otherwise. (Sat & Sun are weekeends). Return  the output series."
   ]
  },
  {
   "cell_type": "code",
   "execution_count": null,
   "id": "192fddc2",
   "metadata": {},
   "outputs": [],
   "source": [
    "sales.columns"
   ]
  },
  {
   "cell_type": "code",
   "execution_count": null,
   "id": "6a34e1bb",
   "metadata": {},
   "outputs": [],
   "source": [
    "sales.head()"
   ]
  },
  {
   "cell_type": "code",
   "execution_count": null,
   "id": "f5d8ba0b",
   "metadata": {},
   "outputs": [],
   "source": [
    "sales['dayweek'] = sales['order_date'].dt.dayofweek"
   ]
  },
  {
   "cell_type": "code",
   "execution_count": null,
   "id": "3d2c8220",
   "metadata": {},
   "outputs": [],
   "source": [
    "sales.head()"
   ]
  },
  {
   "cell_type": "code",
   "execution_count": null,
   "id": "2b93d9a0",
   "metadata": {},
   "outputs": [],
   "source": [
    "sales[\"dayweek\"].value_counts()"
   ]
  },
  {
   "cell_type": "code",
   "execution_count": null,
   "id": "63da95ec",
   "metadata": {},
   "outputs": [],
   "source": [
    "sales['delivered_on_weekend'] = sales['dayweek'].apply(lambda x:1 if x >=5 else 0)"
   ]
  },
  {
   "cell_type": "code",
   "execution_count": null,
   "id": "440369fa",
   "metadata": {},
   "outputs": [],
   "source": [
    "sales.head()"
   ]
  },
  {
   "cell_type": "code",
   "execution_count": null,
   "id": "c38de844",
   "metadata": {},
   "outputs": [],
   "source": [
    "sales['delivered_on_weekend'].value_counts()"
   ]
  },
  {
   "cell_type": "code",
   "execution_count": 8,
   "id": "88c7ecb3",
   "metadata": {
    "deletable": false,
    "nbgrader": {
     "cell_type": "code",
     "checksum": "be1babac654c54c4ac61e7b6923eaf2e",
     "grade": false,
     "grade_id": "cell-da758c3c17ca0ef3",
     "locked": false,
     "schema_version": 3,
     "solution": true,
     "task": false
    }
   },
   "outputs": [],
   "source": [
    "def weekend_flag(data):\n",
    "    \n",
    "  \n",
    "    # dt.dayoftheweek >= 5  # 5 and 6 represent Saturday and Sunday\n",
    "    \n",
    "    data['dayweek'] = data['order_date'].dt.dayofweek\n",
    "\n",
    "    # Create a new column 'delivered_on_weekend' with 1 for weekend deliveries and 0 for others\n",
    "    data['delivered_on_weekend'] = (data['dayweek'].apply(lambda x:1 if x >=5 else 0)).astype(int)\n",
    "    \n",
    "    return data['delivered_on_weekend']"
   ]
  },
  {
   "cell_type": "code",
   "execution_count": 9,
   "id": "e300da66",
   "metadata": {
    "deletable": false,
    "editable": false,
    "nbgrader": {
     "cell_type": "code",
     "checksum": "561e9234baa3650bf2b493de38bbc08b",
     "grade": false,
     "grade_id": "cell-bb6f0475fbd0bab4",
     "locked": true,
     "schema_version": 3,
     "solution": false,
     "task": false
    }
   },
   "outputs": [],
   "source": [
    "sales['weekend_orders']=weekend_flag(data=sales)"
   ]
  },
  {
   "cell_type": "code",
   "execution_count": 10,
   "id": "56743d14",
   "metadata": {
    "deletable": false,
    "editable": false,
    "nbgrader": {
     "cell_type": "code",
     "checksum": "953fd04ec2d8e1539f844bd195e3a998",
     "grade": true,
     "grade_id": "cell-12c0ef94c14c3ef0",
     "locked": true,
     "points": 7,
     "schema_version": 3,
     "solution": false,
     "task": false
    }
   },
   "outputs": [],
   "source": [
    "# autograder cell , please do not alter/ delete /edit this cell\n",
    "assert all(sales['weekend_orders'].unique()==np.array([0, 1])) ,'Make sure that you have created flag correctly'\n"
   ]
  },
  {
   "cell_type": "markdown",
   "id": "f3c98fc6",
   "metadata": {
    "deletable": false,
    "editable": false,
    "nbgrader": {
     "cell_type": "markdown",
     "checksum": "38c89483dd24ad4ebf90b3142bc26129",
     "grade": false,
     "grade_id": "cell-92abb7f69b91b506",
     "locked": true,
     "schema_version": 3,
     "solution": false,
     "task": false
    }
   },
   "source": [
    "### Q.2) Create a feature called 'discount_per_quantity' Return  the output series."
   ]
  },
  {
   "cell_type": "code",
   "execution_count": null,
   "id": "6d3b0be3",
   "metadata": {},
   "outputs": [],
   "source": [
    "sales.discount"
   ]
  },
  {
   "cell_type": "code",
   "execution_count": null,
   "id": "3ac66c78",
   "metadata": {},
   "outputs": [],
   "source": [
    "sales.quantity"
   ]
  },
  {
   "cell_type": "code",
   "execution_count": null,
   "id": "9c2672a0",
   "metadata": {},
   "outputs": [],
   "source": [
    "feature_1(data=sales,col1='discount',col2='quantity')"
   ]
  },
  {
   "cell_type": "code",
   "execution_count": 11,
   "id": "181ea2cf",
   "metadata": {
    "deletable": false,
    "nbgrader": {
     "cell_type": "code",
     "checksum": "1a4553dfa1605ae8c0cc97c832678452",
     "grade": false,
     "grade_id": "cell-bf222819379099c4",
     "locked": false,
     "schema_version": 3,
     "solution": true,
     "task": false
    }
   },
   "outputs": [],
   "source": [
    "def feature_1(data,col1,col2):\n",
    "    data['discount_per_quantity'] = data[col1] / data[col2]\n",
    "    return data['discount_per_quantity']"
   ]
  },
  {
   "cell_type": "code",
   "execution_count": 12,
   "id": "3fa45632",
   "metadata": {
    "deletable": false,
    "editable": false,
    "nbgrader": {
     "cell_type": "code",
     "checksum": "e3952efb9c9a5e72965053d005b24e6a",
     "grade": false,
     "grade_id": "cell-fdf019e6c20aa45e",
     "locked": true,
     "schema_version": 3,
     "solution": false,
     "task": false
    }
   },
   "outputs": [],
   "source": [
    "sales['discount_per_quantity']= feature_1(data=sales,col1='discount',col2='quantity')"
   ]
  },
  {
   "cell_type": "code",
   "execution_count": 13,
   "id": "0279b8bd",
   "metadata": {
    "deletable": false,
    "editable": false,
    "nbgrader": {
     "cell_type": "code",
     "checksum": "ab9a56e0b2a6988d1bba7b130eb72d60",
     "grade": true,
     "grade_id": "cell-1d1c9c0070ebdf4e",
     "locked": true,
     "points": 7,
     "schema_version": 3,
     "solution": false,
     "task": false
    }
   },
   "outputs": [],
   "source": [
    "# autograder cell , please do not alter/ delete /edit this cell"
   ]
  },
  {
   "cell_type": "markdown",
   "id": "9c2345df",
   "metadata": {
    "deletable": false,
    "editable": false,
    "nbgrader": {
     "cell_type": "markdown",
     "checksum": "1dbe4251dfc38440a7048e4ac4092e7a",
     "grade": false,
     "grade_id": "cell-04ae737147acedb6",
     "locked": true,
     "schema_version": 3,
     "solution": false,
     "task": false
    }
   },
   "source": [
    "### Q.3) Create a feature for finding cumulative sales for every customer. Return  the output series."
   ]
  },
  {
   "cell_type": "code",
   "execution_count": null,
   "id": "d9a5807b",
   "metadata": {},
   "outputs": [],
   "source": [
    "sales.sort_values(['customer_id','order_date'],ascending=[1,1],inplace=True)"
   ]
  },
  {
   "cell_type": "code",
   "execution_count": null,
   "id": "c27fc421",
   "metadata": {},
   "outputs": [],
   "source": [
    "sales.head()"
   ]
  },
  {
   "cell_type": "code",
   "execution_count": null,
   "id": "301b47c5",
   "metadata": {},
   "outputs": [],
   "source": [
    "df = pd.DataFrame(sales.groupby(\"customer_id\", as_index=False)[\"sales\"].sum())\n",
    "\n",
    "df"
   ]
  },
  {
   "cell_type": "code",
   "execution_count": 14,
   "id": "9004a24b",
   "metadata": {
    "deletable": false,
    "nbgrader": {
     "cell_type": "code",
     "checksum": "69e435bdc1ceddfdb8f8c7fd5b067e6d",
     "grade": false,
     "grade_id": "cell-23b8a0fddaa72e30",
     "locked": false,
     "schema_version": 3,
     "solution": true,
     "task": false
    }
   },
   "outputs": [],
   "source": [
    "def cumulative_sales(data):\n",
    "    df = data.groupby('customer_id')['sales'].cumsum()\n",
    "    return df"
   ]
  },
  {
   "cell_type": "code",
   "execution_count": 15,
   "id": "ba67e76e",
   "metadata": {
    "deletable": false,
    "editable": false,
    "nbgrader": {
     "cell_type": "code",
     "checksum": "19dbda090f1c9bba93f2fef835d405d8",
     "grade": false,
     "grade_id": "cell-ce218cadc5b9b7b0",
     "locked": true,
     "schema_version": 3,
     "solution": false,
     "task": false
    }
   },
   "outputs": [],
   "source": [
    "### Sorting the dataframe wrto customer_id & order_date\n",
    "sales.sort_values(['customer_id','order_date'],ascending=[1,1],inplace=True)\n",
    "### Applying cumulative_sales function\n",
    "sales['cumulative_sales']=cumulative_sales(data=sales)"
   ]
  },
  {
   "cell_type": "code",
   "execution_count": 16,
   "id": "f2110fba",
   "metadata": {
    "deletable": false,
    "editable": false,
    "nbgrader": {
     "cell_type": "code",
     "checksum": "920b2add206934909360f1bb775efada",
     "grade": true,
     "grade_id": "cell-f88f29cf32252ab7",
     "locked": true,
     "points": 10,
     "schema_version": 3,
     "solution": false,
     "task": false
    }
   },
   "outputs": [],
   "source": [
    "# autograder cell , please do not alter/ delete /edit this cell"
   ]
  },
  {
   "cell_type": "markdown",
   "id": "ba914209",
   "metadata": {
    "deletable": false,
    "editable": false,
    "nbgrader": {
     "cell_type": "markdown",
     "checksum": "b76f87d62ae35b982fc5468cb7252814",
     "grade": false,
     "grade_id": "cell-edca82aa344fa2ed",
     "locked": true,
     "schema_version": 3,
     "solution": false,
     "task": false
    }
   },
   "source": [
    "### Q.4) Please demonstrate how to enhance a given dataset by introducing a new feature that records the frequency of same-day purchases made by each customer. The desired outcome should be a modified dataframe containing a variable named 'same_day_purchase_frequency' which accurately portrays the same-day purchase behavior of individual customers."
   ]
  },
  {
   "cell_type": "code",
   "execution_count": null,
   "id": "0de6eebc",
   "metadata": {},
   "outputs": [],
   "source": [
    "sales.head()"
   ]
  },
  {
   "cell_type": "code",
   "execution_count": null,
   "id": "b807b253",
   "metadata": {},
   "outputs": [],
   "source": [
    "order_counts = sales.groupby(['customer_id', sales['order_date'].dt.date])['order_id'].count().reset_index()"
   ]
  },
  {
   "cell_type": "code",
   "execution_count": null,
   "id": "d6932a40",
   "metadata": {},
   "outputs": [],
   "source": [
    "order_counts"
   ]
  },
  {
   "cell_type": "code",
   "execution_count": null,
   "id": "a13e6008",
   "metadata": {},
   "outputs": [],
   "source": [
    "order_counts.rename(columns={'order_id': 'order_count'}, inplace=True)"
   ]
  },
  {
   "cell_type": "code",
   "execution_count": null,
   "id": "1d4cd854",
   "metadata": {},
   "outputs": [],
   "source": [
    "same_day_purchases = order_counts[order_counts['order_count'] > 1]\n",
    "same_day_purchases"
   ]
  },
  {
   "cell_type": "code",
   "execution_count": null,
   "id": "3d48848b",
   "metadata": {},
   "outputs": [],
   "source": [
    "same_day_purchase_frequency = same_day_purchases.groupby('customer_id')['order_count'].mean().reset_index()\n",
    "same_day_purchase_frequency.rename(columns={'order_count': 'same_day_purchase_frequency'}, inplace=True)\n",
    "same_day_purchase_frequency"
   ]
  },
  {
   "cell_type": "code",
   "execution_count": null,
   "id": "95061ae1",
   "metadata": {},
   "outputs": [],
   "source": [
    "sales = sales.merge(same_day_purchase_frequency, on='customer_id', how='left')"
   ]
  },
  {
   "cell_type": "code",
   "execution_count": null,
   "id": "4d379921",
   "metadata": {},
   "outputs": [],
   "source": [
    "sales.head()"
   ]
  },
  {
   "cell_type": "code",
   "execution_count": 17,
   "id": "d04767e9",
   "metadata": {
    "deletable": false,
    "nbgrader": {
     "cell_type": "code",
     "checksum": "fdb2743d81b7f441c77e26e51ba40bac",
     "grade": false,
     "grade_id": "cell-11502c58370a30cb",
     "locked": false,
     "schema_version": 3,
     "solution": true,
     "task": false
    }
   },
   "outputs": [],
   "source": [
    "def same_day_purchase(data):\n",
    "    \n",
    "    \n",
    "    # Group by 'customer_id' and date, and count the orders, store count of orders in variable named 'order_count'\n",
    "    order_counts = data.groupby(['customer_id', data['order_date'].dt.date])['order_id'].count().reset_index()\n",
    "    order_counts.rename(columns={'order_id': 'order_count'}, inplace=True)\n",
    "    \n",
    "    # Filter for same-day purchases (order_count > 1)\n",
    "    same_day_purchases = order_counts[order_counts['order_count'] > 1]\n",
    "    \n",
    "    \n",
    "    # Group by 'customer_id' and calculate the same-day purchase frequency , name that column as 'same_day_purchase_frequency'\n",
    "    same_day_purchase_frequency = same_day_purchases.groupby('customer_id')['order_count'].mean().reset_index()\n",
    "    same_day_purchase_frequency.rename(columns={'order_count': 'same_day_purchase_frequency'}, inplace=True)\n",
    "    \n",
    "    # Merge the result with the original DataFrame to add the same-day purchase frequency as a new column  \n",
    "    data = data.merge(same_day_purchase_frequency, on='customer_id', how='left')\n",
    "\n",
    "\n",
    "    # Fill missing values with 0 (for customers with no same-day purchases)\n",
    "    data['same_day_purchase_frequency'].fillna(0, inplace=True)\n",
    "\n",
    "    return data"
   ]
  },
  {
   "cell_type": "code",
   "execution_count": 18,
   "id": "5c6bb99d",
   "metadata": {
    "deletable": false,
    "editable": false,
    "nbgrader": {
     "cell_type": "code",
     "checksum": "f15c0a5c08867cd7034429d1fd58627e",
     "grade": true,
     "grade_id": "cell-1a74a24a4da6dd2d",
     "locked": true,
     "points": 30,
     "schema_version": 3,
     "solution": false,
     "task": false
    }
   },
   "outputs": [],
   "source": [
    "sales_new=same_day_purchase(data=sales.copy())\n",
    "# autograder cell , please do not alter/ delete /edit this cell"
   ]
  },
  {
   "cell_type": "markdown",
   "id": "006a0beb",
   "metadata": {
    "deletable": false,
    "editable": false,
    "nbgrader": {
     "cell_type": "markdown",
     "checksum": "a1c9079bd4a05ec2b7d64bf4082fcda8",
     "grade": false,
     "grade_id": "cell-7bdd8d0b6ca47c10",
     "locked": true,
     "schema_version": 3,
     "solution": false,
     "task": false
    }
   },
   "source": [
    "### Q.5) Create a variable which will calculate weighted sales per region. Return  the output series.\n",
    "Weights for every region are :-'LATAM':1, 'EMEA':1.3, 'Africa':2.7, 'Canada':1.4, 'EU':2.8, 'APAC':3.5"
   ]
  },
  {
   "cell_type": "code",
   "execution_count": null,
   "id": "a8bc0cc2",
   "metadata": {},
   "outputs": [],
   "source": [
    "sales.head()"
   ]
  },
  {
   "cell_type": "code",
   "execution_count": null,
   "id": "f9abc5f6",
   "metadata": {},
   "outputs": [],
   "source": [
    "sales.market.value_counts()"
   ]
  },
  {
   "cell_type": "code",
   "execution_count": null,
   "id": "589113ea",
   "metadata": {},
   "outputs": [],
   "source": [
    "# Define a dictionary with region weights\n",
    "region_weights = {\n",
    "        'LATAM': 1,\n",
    "        'EMEA': 1.3,\n",
    "        'Africa': 2.7,\n",
    "        'Canada': 1.4,\n",
    "        'EU': 2.8,\n",
    "        'APAC': 3.5\n",
    "    }"
   ]
  },
  {
   "cell_type": "code",
   "execution_count": null,
   "id": "0ee375ce",
   "metadata": {},
   "outputs": [],
   "source": [
    "weighted_sales_calculation = lambda row: row['sales'] * region_weights.get(row['market'], 1)"
   ]
  },
  {
   "cell_type": "code",
   "execution_count": null,
   "id": "41d73783",
   "metadata": {},
   "outputs": [],
   "source": [
    "sales['weighted_sales'] = sales.apply(weighted_sales_calculation, axis=1)"
   ]
  },
  {
   "cell_type": "code",
   "execution_count": null,
   "id": "4d347a34",
   "metadata": {},
   "outputs": [],
   "source": [
    "sales.head()"
   ]
  },
  {
   "cell_type": "code",
   "execution_count": 21,
   "id": "ad34f172",
   "metadata": {
    "deletable": false,
    "nbgrader": {
     "cell_type": "code",
     "checksum": "20c298d50c1a843850662da6f77a0f4f",
     "grade": false,
     "grade_id": "cell-47084e349b64bd0d",
     "locked": false,
     "schema_version": 3,
     "solution": true,
     "task": false
    }
   },
   "outputs": [],
   "source": [
    "def weighted_sales(data):\n",
    "    # Write a lambda function & apply it to dataframe.Kindly ignore raiseNotImplementError\n",
    "    # Define a dictionary with region weights\n",
    "    region_weights = {\n",
    "        'LATAM': 1,\n",
    "        'EMEA': 1.3,\n",
    "        'Africa': 2.7,\n",
    "        'Canada': 1.4,\n",
    "        'EU': 2.8,\n",
    "        'APAC': 3.5\n",
    "    }\n",
    "    \n",
    "    # Define a lambda function to calculate weighted sales based on 'sales' and 'region' columns\n",
    "    weighted_sales_calculation = lambda row: row['sales'] * region_weights.get(row['market'], 1)\n",
    "\n",
    "    # Apply the lambda function to the DataFrame to calculate weighted sales\n",
    "    data['weighted_sales'] = data.apply(weighted_sales_calculation, axis=1)\n",
    "    \n",
    "    return data"
   ]
  },
  {
   "cell_type": "code",
   "execution_count": 22,
   "id": "36e1c7b2",
   "metadata": {
    "deletable": false,
    "editable": false,
    "nbgrader": {
     "cell_type": "code",
     "checksum": "f027b99d898df5ff494ef6222aa01040",
     "grade": false,
     "grade_id": "cell-e9fad939365ebe57",
     "locked": true,
     "schema_version": 3,
     "solution": false,
     "task": false
    }
   },
   "outputs": [
    {
     "ename": "ValueError",
     "evalue": "Cannot set a DataFrame with multiple columns to the single column weighted_market_sales",
     "output_type": "error",
     "traceback": [
      "\u001b[1;31m---------------------------------------------------------------------------\u001b[0m",
      "\u001b[1;31mValueError\u001b[0m                                Traceback (most recent call last)",
      "\u001b[1;32m~\\AppData\\Local\\Temp\\ipykernel_13408\\1416946598.py\u001b[0m in \u001b[0;36m?\u001b[1;34m()\u001b[0m\n\u001b[1;32m----> 1\u001b[1;33m \u001b[0msales\u001b[0m\u001b[1;33m[\u001b[0m\u001b[1;34m'weighted_market_sales'\u001b[0m\u001b[1;33m]\u001b[0m\u001b[1;33m=\u001b[0m\u001b[0mweighted_sales\u001b[0m\u001b[1;33m(\u001b[0m\u001b[0mdata\u001b[0m\u001b[1;33m=\u001b[0m\u001b[0msales\u001b[0m\u001b[1;33m)\u001b[0m\u001b[1;33m\u001b[0m\u001b[1;33m\u001b[0m\u001b[0m\n\u001b[0m",
      "\u001b[1;32mC:\\ProgramData\\Anaconda3\\lib\\site-packages\\pandas\\core\\frame.py\u001b[0m in \u001b[0;36m?\u001b[1;34m(self, key, value)\u001b[0m\n\u001b[0;32m   3966\u001b[0m             \u001b[0mself\u001b[0m\u001b[1;33m.\u001b[0m\u001b[0m_setitem_frame\u001b[0m\u001b[1;33m(\u001b[0m\u001b[0mkey\u001b[0m\u001b[1;33m,\u001b[0m \u001b[0mvalue\u001b[0m\u001b[1;33m)\u001b[0m\u001b[1;33m\u001b[0m\u001b[1;33m\u001b[0m\u001b[0m\n\u001b[0;32m   3967\u001b[0m         \u001b[1;32melif\u001b[0m \u001b[0misinstance\u001b[0m\u001b[1;33m(\u001b[0m\u001b[0mkey\u001b[0m\u001b[1;33m,\u001b[0m \u001b[1;33m(\u001b[0m\u001b[0mSeries\u001b[0m\u001b[1;33m,\u001b[0m \u001b[0mnp\u001b[0m\u001b[1;33m.\u001b[0m\u001b[0mndarray\u001b[0m\u001b[1;33m,\u001b[0m \u001b[0mlist\u001b[0m\u001b[1;33m,\u001b[0m \u001b[0mIndex\u001b[0m\u001b[1;33m)\u001b[0m\u001b[1;33m)\u001b[0m\u001b[1;33m:\u001b[0m\u001b[1;33m\u001b[0m\u001b[1;33m\u001b[0m\u001b[0m\n\u001b[0;32m   3968\u001b[0m             \u001b[0mself\u001b[0m\u001b[1;33m.\u001b[0m\u001b[0m_setitem_array\u001b[0m\u001b[1;33m(\u001b[0m\u001b[0mkey\u001b[0m\u001b[1;33m,\u001b[0m \u001b[0mvalue\u001b[0m\u001b[1;33m)\u001b[0m\u001b[1;33m\u001b[0m\u001b[1;33m\u001b[0m\u001b[0m\n\u001b[0;32m   3969\u001b[0m         \u001b[1;32melif\u001b[0m \u001b[0misinstance\u001b[0m\u001b[1;33m(\u001b[0m\u001b[0mvalue\u001b[0m\u001b[1;33m,\u001b[0m \u001b[0mDataFrame\u001b[0m\u001b[1;33m)\u001b[0m\u001b[1;33m:\u001b[0m\u001b[1;33m\u001b[0m\u001b[1;33m\u001b[0m\u001b[0m\n\u001b[1;32m-> 3970\u001b[1;33m             \u001b[0mself\u001b[0m\u001b[1;33m.\u001b[0m\u001b[0m_set_item_frame_value\u001b[0m\u001b[1;33m(\u001b[0m\u001b[0mkey\u001b[0m\u001b[1;33m,\u001b[0m \u001b[0mvalue\u001b[0m\u001b[1;33m)\u001b[0m\u001b[1;33m\u001b[0m\u001b[1;33m\u001b[0m\u001b[0m\n\u001b[0m\u001b[0;32m   3971\u001b[0m         elif (\n\u001b[0;32m   3972\u001b[0m             \u001b[0mis_list_like\u001b[0m\u001b[1;33m(\u001b[0m\u001b[0mvalue\u001b[0m\u001b[1;33m)\u001b[0m\u001b[1;33m\u001b[0m\u001b[1;33m\u001b[0m\u001b[0m\n\u001b[0;32m   3973\u001b[0m             \u001b[1;32mand\u001b[0m \u001b[1;32mnot\u001b[0m \u001b[0mself\u001b[0m\u001b[1;33m.\u001b[0m\u001b[0mcolumns\u001b[0m\u001b[1;33m.\u001b[0m\u001b[0mis_unique\u001b[0m\u001b[1;33m\u001b[0m\u001b[1;33m\u001b[0m\u001b[0m\n",
      "\u001b[1;32mC:\\ProgramData\\Anaconda3\\lib\\site-packages\\pandas\\core\\frame.py\u001b[0m in \u001b[0;36m?\u001b[1;34m(self, key, value)\u001b[0m\n\u001b[0;32m   4121\u001b[0m             \u001b[0mself\u001b[0m\u001b[1;33m.\u001b[0m\u001b[0m_set_item_mgr\u001b[0m\u001b[1;33m(\u001b[0m\u001b[0mkey\u001b[0m\u001b[1;33m,\u001b[0m \u001b[0marraylike\u001b[0m\u001b[1;33m)\u001b[0m\u001b[1;33m\u001b[0m\u001b[1;33m\u001b[0m\u001b[0m\n\u001b[0;32m   4122\u001b[0m             \u001b[1;32mreturn\u001b[0m\u001b[1;33m\u001b[0m\u001b[1;33m\u001b[0m\u001b[0m\n\u001b[0;32m   4123\u001b[0m \u001b[1;33m\u001b[0m\u001b[0m\n\u001b[0;32m   4124\u001b[0m         \u001b[1;32mif\u001b[0m \u001b[0mlen\u001b[0m\u001b[1;33m(\u001b[0m\u001b[0mvalue\u001b[0m\u001b[1;33m.\u001b[0m\u001b[0mcolumns\u001b[0m\u001b[1;33m)\u001b[0m \u001b[1;33m!=\u001b[0m \u001b[1;36m1\u001b[0m\u001b[1;33m:\u001b[0m\u001b[1;33m\u001b[0m\u001b[1;33m\u001b[0m\u001b[0m\n\u001b[1;32m-> 4125\u001b[1;33m             raise ValueError(\n\u001b[0m\u001b[0;32m   4126\u001b[0m                 \u001b[1;34m\"Cannot set a DataFrame with multiple columns to the single \"\u001b[0m\u001b[1;33m\u001b[0m\u001b[1;33m\u001b[0m\u001b[0m\n\u001b[0;32m   4127\u001b[0m                 \u001b[1;34mf\"column {key}\"\u001b[0m\u001b[1;33m\u001b[0m\u001b[1;33m\u001b[0m\u001b[0m\n\u001b[0;32m   4128\u001b[0m             )\n",
      "\u001b[1;31mValueError\u001b[0m: Cannot set a DataFrame with multiple columns to the single column weighted_market_sales"
     ]
    }
   ],
   "source": [
    "sales['weighted_market_sales']=weighted_sales(data=sales)"
   ]
  },
  {
   "cell_type": "code",
   "execution_count": 23,
   "id": "70e4dca0",
   "metadata": {
    "deletable": false,
    "editable": false,
    "nbgrader": {
     "cell_type": "code",
     "checksum": "bbe1bd216c3d29a0bc9d65864a378150",
     "grade": true,
     "grade_id": "cell-389d62fab17c8c2f",
     "locked": true,
     "points": 10,
     "schema_version": 3,
     "solution": false,
     "task": false
    }
   },
   "outputs": [],
   "source": [
    "# autograder cell , please do not alter/ delete /edit this cell"
   ]
  },
  {
   "cell_type": "markdown",
   "id": "17036a26",
   "metadata": {
    "deletable": false,
    "editable": false,
    "nbgrader": {
     "cell_type": "markdown",
     "checksum": "9afa77f2faa0eb29cbeb7b2c0dd9381d",
     "grade": false,
     "grade_id": "cell-257ca79e2212fc23",
     "locked": true,
     "schema_version": 3,
     "solution": false,
     "task": false
    }
   },
   "source": [
    "Most of the variables in our data are categorical in nature & for further anlysis purpose if we convert them by ordinal encoding or one hot encoding, we will be left with too many variables.\n",
    "If we have too many variables in the data , it might cause trouble in later stages like machine learning model building.\n",
    "1. Having too many variables can lead to overfitting and poor generalization to new data.\n",
    "2. It can make it difficult to analyze and interpret the data and identify the most important variables.\n",
    "3. It can increase computational complexity and time required to build and train a model.\n",
    "\n",
    "How to deal with this ?\n",
    "\n",
    "Wait , we have learned about **Principal component analysis** , we can leverage that method here for **dimensionality reduction.**"
   ]
  },
  {
   "cell_type": "markdown",
   "id": "a847805e",
   "metadata": {
    "deletable": false,
    "editable": false,
    "nbgrader": {
     "cell_type": "markdown",
     "checksum": "63302da6ba845b2859f2cee3e5198f4d",
     "grade": false,
     "grade_id": "cell-532602ee41242bbd",
     "locked": true,
     "schema_version": 3,
     "solution": false,
     "task": false
    }
   },
   "source": [
    "### Q.6 ) Complete the following code for PCA implementation. Return the no of PC's required for capturing the 80% of variation, variance explained by the PC's ."
   ]
  },
  {
   "cell_type": "code",
   "execution_count": null,
   "id": "dcc96b49",
   "metadata": {},
   "outputs": [],
   "source": [
    "sales.head()"
   ]
  },
  {
   "cell_type": "code",
   "execution_count": null,
   "id": "1acaa360",
   "metadata": {
    "deletable": false,
    "nbgrader": {
     "cell_type": "code",
     "checksum": "73f56d08b62547c5a91e2fa94ccef16b",
     "grade": false,
     "grade_id": "cell-033f0d1768c98329",
     "locked": false,
     "schema_version": 3,
     "solution": true,
     "task": false
    }
   },
   "outputs": [],
   "source": [
    "def PCA(data,target=0.80):\n",
    "    # your code here\n",
    "\n",
    "    # Treating ordinal variable ,\n",
    "    # order_priority : 'Medium':2, 'Low':1, 'High':3, 'Critical':4 \n",
    "    data['order_priority_encoded'] = data['order_priority'].map({'Low': 1, 'Medium': 2, 'High': 3, 'Critical': 4})\n",
    "\n",
    "    \n",
    "    # Treating missing values\n",
    "    # Impute the missing values in 'order_prioirty_encoded','ship_mode' by mode, \n",
    "    data['order_priority_encoded'].fillna(data['order_priority_encoded'].mode()[0], inplace=True)\n",
    "    data['ship_mode'].fillna(data['ship_mode'].mode()[0], inplace=True)\n",
    "\n",
    "    \n",
    "    # Treating Nominal variables ,'ship_mode','category','sub_category' (while encoding them make sure to select k-1 dummy variables for a variable with k categories)\n",
    "    data = pd.get_dummies(data, columns=['ship_mode', 'category', 'sub_category'], drop_first=True)\n",
    "\n",
    "    # Final data selection\n",
    "    # Select all the variables with 'sales','quantity','discount','profit','shipping_cost','order_priority_encoded' & dummies in 'ship_mode','category','sub_category'.\n",
    "    data_1 = data[['sales','quantity','discount','profit','shipping_cost','order_priority_encoded','ship_mode_Same Day','ship_mode_Second Class','ship_mode_Standard Class','category_Office Supplies','category_Technology','sub_category_Appliances','sub_category_Art','sub_category_Binders','sub_category_Bookcases','sub_category_Chairs','sub_category_Copiers','sub_category_Envelopes','sub_category_Fasteners','sub_category_Furnishings','sub_category_Labels','sub_category_Machines','sub_category_Paper','sub_category_Phones','sub_category_Storage','sub_category_Supplies','sub_category_Tables']]\n",
    "\n",
    "    \n",
    "    # Standardize the data\n",
    "    sc = StandardScaler()\n",
    "    \n",
    "    cols = ['sales','quantity','discount','profit','shipping_cost','order_priority_encoded']\n",
    "    for col in cols:\n",
    "        data_1[col] = sc.fit_transform(data_1[cols])\n",
    "\n",
    "    \n",
    "    from sklearn.decomposition import PCA\n",
    "    \n",
    "    # Create a PCA instance    \n",
    "    pca = PCA()\n",
    "    \n",
    "    # Fit PCA to the scaled data\n",
    "    pca.fit(data_1)\n",
    "    \n",
    "    #  Calculate cumulative explained variance\n",
    "    explained_variance_ratio = pca.explained_variance_ratio_\n",
    "    cumulative_variance = np.cumsum(explained_variance_ratio)\n",
    "    \n",
    "    \n",
    "    target_variation=target\n",
    "    n_components = np.argmax(cumulative_variance >= target_variation) + 1\n",
    " \n",
    "    \n",
    "    # Excellent we got no of pcs which are required for capturing the target variation in the data\n",
    "    \n",
    "    ### Fitting PCA again with no of pc's we got above.\n",
    "    pca = PCA(n_components=n_components)\n",
    "    \n",
    "    # Fit PCA to the scaled data\n",
    "    pca.fit(data_1)\n",
    "    \n",
    "    #  Calculate cumulative explained variance\n",
    "    explained_variance_ratio = pca.explained_variance_ratio_\n",
    "       \n",
    "    return n_components,explained_variance_ratio "
   ]
  },
  {
   "cell_type": "code",
   "execution_count": null,
   "id": "36be2ac4",
   "metadata": {
    "deletable": false,
    "editable": false,
    "nbgrader": {
     "cell_type": "code",
     "checksum": "bf324445812da3f7387b05067c4efc98",
     "grade": true,
     "grade_id": "cell-095ce6ebc95af61e",
     "locked": true,
     "points": 30,
     "schema_version": 3,
     "solution": false,
     "task": false
    }
   },
   "outputs": [],
   "source": [
    "# autograder cell , please do not alter/ delete /edit this cell\n",
    "assert type(PCA(data=sales.copy())[0])==np.int64 , 'Number of components required for capturing target variation should be in integer format.'\n",
    "assert type(PCA(data=sales.copy())[1])==np.ndarray , 'Type of variation captured should be in an array format.'"
   ]
  },
  {
   "cell_type": "markdown",
   "id": "69e7ef5b",
   "metadata": {
    "deletable": false,
    "editable": false,
    "nbgrader": {
     "cell_type": "markdown",
     "checksum": "0bc21a347c0d9297f1154aad1ba44873",
     "grade": false,
     "grade_id": "cell-99f83690c838e50a",
     "locked": true,
     "schema_version": 3,
     "solution": false,
     "task": false
    }
   },
   "source": [
    "### Q.7) How much variation was explained by 3rd principal component ? \n",
    "**Round output to 4 digits**"
   ]
  },
  {
   "cell_type": "code",
   "execution_count": null,
   "id": "702c9a51",
   "metadata": {
    "deletable": false,
    "nbgrader": {
     "cell_type": "code",
     "checksum": "6b1d6d3561148f2fb0ea58db6f853f08",
     "grade": false,
     "grade_id": "cell-d668bca10bcf9149",
     "locked": false,
     "schema_version": 3,
     "solution": true,
     "task": false
    }
   },
   "outputs": [],
   "source": [
    "def var_expl(variation_explained):\n",
    "    # Kindly ignore raiseNotImplementError   \n",
    "    # your code here"
   ]
  },
  {
   "cell_type": "code",
   "execution_count": null,
   "id": "898e6a83",
   "metadata": {
    "deletable": false,
    "editable": false,
    "nbgrader": {
     "cell_type": "code",
     "checksum": "8622c8194da9d0e3ae9b3521834e5383",
     "grade": true,
     "grade_id": "cell-cf2fbc4c16e8ba3d",
     "locked": true,
     "points": 6,
     "schema_version": 3,
     "solution": false,
     "task": false
    }
   },
   "outputs": [],
   "source": [
    "# autograder cell , please do not alter/ delete /edit this cell"
   ]
  }
 ],
 "metadata": {
  "kernelspec": {
   "display_name": "Python 3 (ipykernel)",
   "language": "python",
   "name": "python3"
  },
  "language_info": {
   "codemirror_mode": {
    "name": "ipython",
    "version": 3
   },
   "file_extension": ".py",
   "mimetype": "text/x-python",
   "name": "python",
   "nbconvert_exporter": "python",
   "pygments_lexer": "ipython3",
   "version": "3.9.12"
  }
 },
 "nbformat": 4,
 "nbformat_minor": 5
}
