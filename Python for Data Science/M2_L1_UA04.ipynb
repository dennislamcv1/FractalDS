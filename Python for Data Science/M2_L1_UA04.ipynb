{
 "cells": [
  {
   "cell_type": "markdown",
   "metadata": {},
   "source": [
    "# Lab for module 2 lesson 1"
   ]
  },
  {
   "cell_type": "markdown",
   "metadata": {},
   "source": [
    "Topics covered:\n",
    "- reading data from a CSV file\n",
    "- understanding the structure of the data set\n",
    "- identifying the presence and extent of missing data"
   ]
  },
  {
   "cell_type": "markdown",
   "metadata": {},
   "source": [
    "**Problem Statement & Data Description**\n",
    "\n",
    "*Client: ABC Retail, Incorporated, rest-of-the-world division* \n",
    "\n",
    "***Project name: Online retail sales analysis*** \n",
    "\n",
    "An online retailer, ABC, Inc., operates in nearly 100 countries worldwide, selling furniture, office supplies and technology products to customers in three segments: consumer, corporate and home office. ABC, Inc. is a US-based company, and it has two major divisions: US and rest of the world. We are working with the rest of the world division of the company. \n",
    "\n",
    "They have provided us with online sales transaction data from 2011 to 2014.\n",
    "\n",
    "We are given 3 datasets:-\n",
    "\n",
    "1. Data on each sale; 51290 records; all data in US dollars\n",
    "It contains fields like\n",
    "**order_id** (identifier) ,order_date ,ship_date ,ship_mode ,**customer_id**(identifier) ,product_id ,category ,sub_category ,product_name ,sales ,quantity ,discount ,profit ,shipping_cost ,order_priority ,**vendor_code** (identifier) \n",
    "\n",
    "\n",
    "2. Data on the customers; 1590 records \n",
    "It contains fields like\n",
    "**customer_id** (identifier) ,customer_name ,city ,state ,country ,postal_code ,segment ,market ,region \n",
    "\n",
    "3. Data on vendors who supply the retailer; 65 records \n",
    "It contains fields like\n",
    "vendor ,**vendor_code** (identifier) \n",
    "\n",
    "We need to analyze the data and need to provide answer to different questions asked by company officials."
   ]
  },
  {
   "cell_type": "markdown",
   "metadata": {},
   "source": [
    "### Read the retail sales data from the file 'sales_data.csv' and understand its structure"
   ]
  },
  {
   "cell_type": "code",
   "execution_count": 1,
   "metadata": {
    "code_folding": [
     0
    ]
   },
   "outputs": [],
   "source": [
    "# reading the data & library\n",
    "import pandas as pd\n",
    "import warnings\n",
    "# Use the warning filter context manager to temporarily suppress warnings\n",
    "warnings.filterwarnings(\"ignore\")\n",
    "\n",
    "sales = pd.read_csv('sales_data.csv')"
   ]
  },
  {
   "cell_type": "markdown",
   "metadata": {},
   "source": [
    "### Q1. How many rows and columns are in this data set?"
   ]
  },
  {
   "cell_type": "code",
   "execution_count": 2,
   "metadata": {},
   "outputs": [],
   "source": [
    "# write your code here"
   ]
  },
  {
   "cell_type": "markdown",
   "metadata": {},
   "source": [
    "### Q2. What are the different columns, or features, or variables, in this data set?"
   ]
  },
  {
   "cell_type": "code",
   "execution_count": 3,
   "metadata": {},
   "outputs": [],
   "source": [
    "# write your code here"
   ]
  },
  {
   "cell_type": "markdown",
   "metadata": {},
   "source": [
    "### Q3. What is the shipping mode and product category of the first record in the data set?"
   ]
  },
  {
   "cell_type": "code",
   "execution_count": 4,
   "metadata": {},
   "outputs": [],
   "source": [
    "# write your code here"
   ]
  },
  {
   "cell_type": "markdown",
   "metadata": {},
   "source": [
    "### Q4. How many variables are of type 'object', of type 'int64' and of type 'float64'?"
   ]
  },
  {
   "cell_type": "code",
   "execution_count": 5,
   "metadata": {},
   "outputs": [],
   "source": [
    "# write your code here"
   ]
  },
  {
   "cell_type": "markdown",
   "metadata": {},
   "source": [
    "## Understand whether there is missing data, and if so, how much"
   ]
  },
  {
   "cell_type": "markdown",
   "metadata": {},
   "source": [
    "### Q5. Identify which columns have missing data, and how much"
   ]
  },
  {
   "cell_type": "code",
   "execution_count": 6,
   "metadata": {},
   "outputs": [],
   "source": [
    "# write your code here"
   ]
  },
  {
   "cell_type": "markdown",
   "metadata": {},
   "source": [
    "### Q6. As a first attempt at dealing with missing data, remove all rows which have missing values (regardless of which column the missing values are in). How many rows are left after this operation?"
   ]
  },
  {
   "cell_type": "code",
   "execution_count": 7,
   "metadata": {},
   "outputs": [],
   "source": [
    "# write your code here"
   ]
  },
  {
   "cell_type": "markdown",
   "metadata": {},
   "source": [
    "## Solutions"
   ]
  },
  {
   "cell_type": "code",
   "execution_count": 8,
   "metadata": {
    "code_folding": [
     0
    ]
   },
   "outputs": [
    {
     "name": "stdout",
     "output_type": "stream",
     "text": [
      "No of rows :- 51290\n",
      "No of columns :- 17\n"
     ]
    }
   ],
   "source": [
    "# Q1 - No of rows and columns in the dataset\n",
    "print(f'No of rows :- {sales.shape[0]}')\n",
    "print(f'No of columns :- {sales.shape[1]}')"
   ]
  },
  {
   "cell_type": "code",
   "execution_count": 9,
   "metadata": {
    "code_folding": [
     0
    ]
   },
   "outputs": [
    {
     "name": "stdout",
     "output_type": "stream",
     "text": [
      "<class 'pandas.core.frame.DataFrame'>\n",
      "RangeIndex: 51290 entries, 0 to 51289\n",
      "Data columns (total 17 columns):\n",
      " #   Column          Non-Null Count  Dtype  \n",
      "---  ------          --------------  -----  \n",
      " 0   row_id          51290 non-null  int64  \n",
      " 1   order_id        51290 non-null  object \n",
      " 2   order_date      51290 non-null  object \n",
      " 3   ship_date       51290 non-null  object \n",
      " 4   ship_mode       49720 non-null  object \n",
      " 5   customer_id     51290 non-null  object \n",
      " 6   product_id      51290 non-null  object \n",
      " 7   category        51290 non-null  object \n",
      " 8   sub_category    51290 non-null  object \n",
      " 9   product_name    49993 non-null  object \n",
      " 10  sales           51290 non-null  float64\n",
      " 11  quantity        51290 non-null  int64  \n",
      " 12  discount        51290 non-null  float64\n",
      " 13  profit          51290 non-null  float64\n",
      " 14  shipping_cost   51290 non-null  float64\n",
      " 15  order_priority  50244 non-null  object \n",
      " 16  vendor_code     51290 non-null  object \n",
      "dtypes: float64(4), int64(2), object(11)\n",
      "memory usage: 6.7+ MB\n"
     ]
    }
   ],
   "source": [
    "# Q2 - Different columns in data set\n",
    "sales.info()"
   ]
  },
  {
   "cell_type": "code",
   "execution_count": 10,
   "metadata": {
    "code_folding": [
     0
    ]
   },
   "outputs": [
    {
     "name": "stdout",
     "output_type": "stream",
     "text": [
      "   row_id        order_id  order_date   ship_date       ship_mode customer_id  \\\n",
      "0       1  MX-2014-143658  02/10/2014  06/10/2014  Standard Class    SC-20575   \n",
      "\n",
      "        product_id         category sub_category  \\\n",
      "0  OFF-LA-10002782  Office Supplies       Labels   \n",
      "\n",
      "                         product_name  sales  quantity  discount  profit  \\\n",
      "0  Hon File Folder Labels, Adjustable  13.08         3       0.0    4.56   \n",
      "\n",
      "   shipping_cost order_priority vendor_code  \n",
      "0           1.03         Medium      VE_001  \n",
      "Shipping mode is :- Standard Class\n",
      "Product Category is :- Office Supplies\n"
     ]
    }
   ],
   "source": [
    "# Q3 - details from the first record\n",
    "### First record can be accessed with\n",
    "print(sales[0:1])\n",
    "\n",
    "### Shipping mode\n",
    "print(f\"Shipping mode is :- {sales['ship_mode'][0]}\")\n",
    "\n",
    "### Product Category\n",
    "print(f\"Product Category is :- {sales['category'][0]}\")"
   ]
  },
  {
   "cell_type": "code",
   "execution_count": 11,
   "metadata": {
    "code_folding": [
     0
    ]
   },
   "outputs": [
    {
     "name": "stdout",
     "output_type": "stream",
     "text": [
      "Int64 columns are: ['row_id', 'quantity']\n",
      "Float64 columns are: ['sales', 'discount', 'profit', 'shipping_cost']\n",
      "Object type columns are: ['order_id', 'order_date', 'ship_date', 'ship_mode', 'customer_id', 'product_id', 'category', 'sub_category', 'product_name', 'order_priority', 'vendor_code']\n"
     ]
    }
   ],
   "source": [
    "# Q4 - data types of the variables\n",
    "\n",
    "### Integer columns\n",
    "int64_columns =sales.select_dtypes(include=['int64']).columns.tolist()\n",
    "print(f'Int64 columns are: {int64_columns}')\n",
    "\n",
    "### FLoat columns\n",
    "float64_columns = sales.select_dtypes(include=['float']).columns.tolist()\n",
    "print(f'Float64 columns are: {float64_columns}')\n",
    "\n",
    "### object (string) columns\n",
    "object_columns = sales.select_dtypes(include=['O']).columns.tolist()\n",
    "print(f'Object type columns are: {object_columns}')\n",
    "\n"
   ]
  },
  {
   "cell_type": "code",
   "execution_count": 12,
   "metadata": {
    "code_folding": [
     0
    ]
   },
   "outputs": [
    {
     "data": {
      "text/plain": [
       "row_id               0\n",
       "order_id             0\n",
       "order_date           0\n",
       "ship_date            0\n",
       "ship_mode         1570\n",
       "customer_id          0\n",
       "product_id           0\n",
       "category             0\n",
       "sub_category         0\n",
       "product_name      1297\n",
       "sales                0\n",
       "quantity             0\n",
       "discount             0\n",
       "profit               0\n",
       "shipping_cost        0\n",
       "order_priority    1046\n",
       "vendor_code          0\n",
       "dtype: int64"
      ]
     },
     "execution_count": 12,
     "metadata": {},
     "output_type": "execute_result"
    }
   ],
   "source": [
    "# Q5 - presence and extent of missing data\n",
    "sales.isna().sum()"
   ]
  },
  {
   "cell_type": "code",
   "execution_count": 13,
   "metadata": {
    "code_folding": [
     0
    ]
   },
   "outputs": [
    {
     "data": {
      "text/plain": [
       "(47474, 17)"
      ]
     },
     "execution_count": 13,
     "metadata": {},
     "output_type": "execute_result"
    }
   ],
   "source": [
    "# Q6 - drop rows with missing values\n",
    "sales_clean = sales.dropna()\n",
    "sales_clean.shape"
   ]
  }
 ],
 "metadata": {
  "kernelspec": {
   "display_name": "Python 3",
   "language": "python",
   "name": "python3"
  },
  "language_info": {
   "codemirror_mode": {
    "name": "ipython",
    "version": 3
   },
   "file_extension": ".py",
   "mimetype": "text/x-python",
   "name": "python",
   "nbconvert_exporter": "python",
   "pygments_lexer": "ipython3",
   "version": "3.7.6"
  }
 },
 "nbformat": 4,
 "nbformat_minor": 5
}
