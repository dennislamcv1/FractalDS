{
 "cells": [
  {
   "cell_type": "markdown",
   "id": "090d6cf6",
   "metadata": {},
   "source": [
    "## Module 3: Exploratory data analysis  "
   ]
  },
  {
   "cell_type": "markdown",
   "id": "8095674f",
   "metadata": {},
   "source": [
    "### Lesson 5: Comparing two groups: hypothesis testing\n",
    "- A hypothesis is a supposition or proposed explanation made on the basis of limited evidence as a starting point for further investigation.\n",
    "\n",
    "**Examples of hypotheses:**\n",
    "- \"Increasing the amount of sunlight a plant receives will result in faster growth.\"\n",
    "- \"Higher levels of education are associated with increased income.\"\n",
    "- \"An increase in the minimum wage will lead to a decrease in unemployment.\"\n",
    "\n",
    "Hypotheses must be tested using the data available and so should be testable and, ideally, falsifiable. The hypothesis is usually about the population parameters such as mean or proportion and we seek evidence from a sample for the support of the claim."
   ]
  },
  {
   "cell_type": "markdown",
   "id": "ebf1b981",
   "metadata": {},
   "source": [
    "### Part 3.5.1  : Sampling our data\n",
    "- Before getting deeper into hypothesis testing, we must understand some sampling techniques.\n",
    "- A ***population*** is the group of all items of interest. *E.g.*: All the students on university campus\n",
    "- A ***sample*** is a set of data drawn from the studied population. *E.g.*: 500 students from the campus\n",
    "- Few sampling techniques are:\n",
    "    - ***Random Sampling***: Probability of each record being selected into your sample will be equal. If there are $n$ records, probability of choosing any one record is $1/n$.\n",
    "    - ***Stratified Sampling***: Involves dividing the entire population into homogeneous groups called strata. It can be better understood using the below given image:"
   ]
  },
  {
   "attachments": {},
   "cell_type": "markdown",
   "id": "d11e3c5f",
   "metadata": {},
   "source": [
    "<img src=\"Stratified_sampling.png\" alt=\"Drawing\" style=\"width: 400px;\"/>"
   ]
  },
  {
   "cell_type": "markdown",
   "id": "d51706a3",
   "metadata": {},
   "source": [
    "*Image Source: By Dan Kernler - Own work, CC BY-SA 4.0, https://commons.wikimedia.org/w/index.php?curid=36506021*"
   ]
  },
  {
   "cell_type": "markdown",
   "id": "3435ae2c",
   "metadata": {},
   "source": [
    "#### Draw a random sample from POS data"
   ]
  },
  {
   "cell_type": "code",
   "execution_count": null,
   "id": "0064b7a0",
   "metadata": {
    "code_folding": []
   },
   "outputs": [],
   "source": [
    "# Import the required packages\n",
    "import pandas as pd\n",
    "import numpy as np\n",
    "import matplotlib.pyplot as plt\n",
    "import seaborn as sns"
   ]
  },
  {
   "cell_type": "code",
   "execution_count": null,
   "id": "0f7ed6f3",
   "metadata": {
    "code_folding": []
   },
   "outputs": [],
   "source": [
    "#read the data file\n",
    "pos_data= pd.read_csv('POS_CleanData.csv')\n",
    "pos_data.head()"
   ]
  },
  {
   "cell_type": "code",
   "execution_count": null,
   "id": "cb91450f",
   "metadata": {
    "code_folding": []
   },
   "outputs": [],
   "source": [
    "#create a sample of 5 records\n",
    "pos_sample = pos_data.sample(n = 5)\n",
    "pos_sample"
   ]
  },
  {
   "cell_type": "code",
   "execution_count": null,
   "id": "b01f21df",
   "metadata": {
    "code_folding": []
   },
   "outputs": [],
   "source": [
    "#create a sample of 1000 records\n",
    "pos_sample = pos_data.sample(n = 200, random_state = 466)\n",
    "pos_sample.head()"
   ]
  },
  {
   "cell_type": "markdown",
   "id": "2ca89023",
   "metadata": {},
   "source": [
    "***NOTE:***\n",
    "- When we draw the random sample from the dataset, there is no guarantee that we will get a sample which has a similar distribution of the data as that of the population.\n",
    "- To illustrate this, let us check the percentage share of records belonging to each of sectors in the population and in the random sample:"
   ]
  },
  {
   "cell_type": "code",
   "execution_count": null,
   "id": "088440c5",
   "metadata": {
    "code_folding": []
   },
   "outputs": [],
   "source": [
    "# % of records belonging to each sector in POS data\n",
    "round(pos_data.Sector.value_counts(normalize = True),3)*100"
   ]
  },
  {
   "cell_type": "code",
   "execution_count": null,
   "id": "c4557663",
   "metadata": {
    "code_folding": []
   },
   "outputs": [],
   "source": [
    "# % of records belonging to each sector in the random sample\n",
    "round(pos_sample.Sector.value_counts(normalize=True),3)*100"
   ]
  },
  {
   "cell_type": "markdown",
   "id": "67f6f4f0",
   "metadata": {},
   "source": [
    "**To have a sample which represents the true nature of the population, we can use stratified sampling**"
   ]
  },
  {
   "cell_type": "code",
   "execution_count": null,
   "id": "3dae4ed5",
   "metadata": {
    "code_folding": []
   },
   "outputs": [],
   "source": [
    "# stratified sampling\n",
    "from sklearn.model_selection import train_test_split\n",
    "sample1, sample2 = train_test_split(pos_data, test_size = 0.3, \\\n",
    "                                    stratify = pos_data['Sector'], random_state = 1)"
   ]
  },
  {
   "cell_type": "code",
   "execution_count": null,
   "id": "f9470842",
   "metadata": {
    "code_folding": []
   },
   "outputs": [],
   "source": [
    "# print sample sizes\n",
    "print(\"Size of sample1: \", sample1.shape)\n",
    "print(\"Size of sample2: \", sample2.shape)\n"
   ]
  },
  {
   "cell_type": "code",
   "execution_count": null,
   "id": "7fb7b92a",
   "metadata": {
    "code_folding": []
   },
   "outputs": [],
   "source": [
    "# Check value counts as proportions \n",
    "round(sample1.Sector.value_counts(normalize=True),3)*100"
   ]
  },
  {
   "cell_type": "code",
   "execution_count": null,
   "id": "4da66b69",
   "metadata": {
    "code_folding": []
   },
   "outputs": [],
   "source": [
    "# Check value counts as proportions \n",
    "round(sample2.Sector.value_counts(normalize=True),3)*100"
   ]
  },
  {
   "cell_type": "markdown",
   "id": "13e99714",
   "metadata": {},
   "source": [
    "***We can observe that both the samples drawn have same ratio of sectors and it is same as that of the population***"
   ]
  },
  {
   "cell_type": "code",
   "execution_count": null,
   "id": "9aa1522f",
   "metadata": {},
   "outputs": [],
   "source": []
  },
  {
   "cell_type": "code",
   "execution_count": null,
   "id": "cfff76e3",
   "metadata": {},
   "outputs": [],
   "source": []
  },
  {
   "cell_type": "code",
   "execution_count": null,
   "id": "5b9d6462",
   "metadata": {},
   "outputs": [],
   "source": []
  },
  {
   "cell_type": "code",
   "execution_count": null,
   "id": "53ebc3c0",
   "metadata": {},
   "outputs": [],
   "source": []
  },
  {
   "cell_type": "code",
   "execution_count": null,
   "id": "1c1fef8b",
   "metadata": {},
   "outputs": [],
   "source": []
  },
  {
   "cell_type": "markdown",
   "id": "feb9a8bd",
   "metadata": {},
   "source": [
    "### Part 3.5.2  : Introduction to hypothesis testing\n",
    "- Hypothesis testing is a statistical method used to make decisions or draw conclusions about a population based on a sample of data. \n",
    "- It involves formulating a hypothesis (a statement or assumption about a population parameter) and then using sample data to determine whether there is enough evidence to support or reject the hypothesis.\n",
    "- Hypothesis testing is widely used in various fields, including science, engineering, social sciences, and business, to make data-driven decisions, validate assumptions, and test hypotheses about populations. \n",
    "- It's important to note that failing to reject the null hypothesis doesn't prove that the null hypothesis is true; it simply means that there isn't enough evidence to conclude otherwise based on the available data.\n",
    "- Hypothesis testing helps researchers make informed conclusions based on statistical evidence from collected data.\n",
    "\n",
    "The process of hypothesis testing typically involves the following steps:\n",
    "\n",
    "**1. Formulate hypotheses:**\n",
    "- Null Hypothesis ($H_0$): This is the default hypothesis that there is no significant effect or difference. It often represents the *status quo*.\n",
    "- Alternative Hypothesis ($H_1$): This is the hypothesis that contradicts the null hypothesis and suggests that there is a significant effect or difference. It reflects what the researcher is trying to find evidence for.\n",
    "    \n",
    "**2. Choose a significance level (alpha):** The significance level (often denoted as α) is the threshold that defines how strong the evidence needs to be in order to reject the null hypothesis. Commonly used values are 0.05 or 0.01.\n",
    "    \n",
    "**3. Collect and analyze data:** \n",
    "- Collect a sample of data relevant to the hypothesis.\n",
    "- Perform statistical analysis on the sample to calculate test statistics and p-values.\n",
    "    \n",
    "**4. Calculate test statistic:** The test statistic is a numerical value that summarizes the data and is used to assess the compatibility of the sample data with the null hypothesis.\n",
    "    \n",
    "**5. Calculate the *p-value*:** The p-value is a probability that measures the likelihood of observing the sample data, or something more extreme, if the null hypothesis is true. It indicates how strong the evidence against the null hypothesis is.\n",
    "    \n",
    "**6. Make a decision:** \n",
    "- If the *p-value* is less than or equal to the significance level (α), then there is enough evidence to reject the null hypothesis in favor of the alternative hypothesis.\n",
    "- If the *p-value* is greater than the significance level, then there is not enough evidence to reject the null hypothesis.\n",
    "    \n",
    "**7. Draw a conclusion:** Based on the decision, you can draw a conclusion about the hypothesis and its implications for the population.\n"
   ]
  },
  {
   "cell_type": "markdown",
   "id": "20624ba4",
   "metadata": {},
   "source": [
    "**Example** showing the formulation of hypothesis:\n",
    "- Let the population mean = 350 and population standard deviation = 11.3 \n",
    "- Sample size n = 120, Sample mean = 320\n",
    "- $H_0$: Sample mean is same as population mean (the sample is representative of the population)\n",
    "- $H_1$: Sample mean is less than the population mean (the sample is not representative of the population)"
   ]
  },
  {
   "cell_type": "markdown",
   "id": "398cf8de",
   "metadata": {},
   "source": [
    "#### Parametric and Non-parametric tests\n",
    "- A parametric test makes assumptions about a population’s parameters, and a non-parametric test does not assume anything about the underlying distribution.\n",
    "- A parametric test makes assumptions about a population’s parameters:\n",
    "    - Normality : data in each group should be normally distributed.\n",
    "    - Independence : data in each group should be sampled randomly and independently.\n",
    "    - No outliers : no extreme outliers in the data.\n",
    "    - Equal variance : data in each group should have approximately equal variance.\n",
    "- However, a non-parametric test (sometimes referred to as a distribution free test) does not assume anything about the underlying distribution (for ex. data follows normal distribution is an assumption)\n",
    "- For ordinal and categorical data, we use non-parametric tests.\n",
    "- Also, if we doubt the normality of our data, then we use non-parametric tests\n",
    "- Examples of parametric tests: z-test, t-test\n",
    "- Examples of non-parametric tests: $\\chi^2$ test, Kruskal Walli's test etc."
   ]
  },
  {
   "cell_type": "markdown",
   "id": "89ab9f1e",
   "metadata": {},
   "source": [
    "##### One-tailed and two-tailed tests\n",
    "- One-tailed and two-tailed hypothesis testing refer to the ways in which the critical region (the region of extreme values) is defined when performing a hypothesis test. \n",
    "- These terms are used to specify the directionality of the alternative hypothesis and influence how you interpret the test results.\n",
    "- **One-Tailed Hypothesis Testing:**\n",
    "    - In a one-tailed hypothesis test, the alternative hypothesis specifies a directional difference or effect. \n",
    "    - This means that you are interested in whether the parameter of interest is significantly greater than or less than the null hypothesis value. \n",
    "    - The critical region is only on one side of the distribution.\n",
    "    - For a one-tailed test, the hypotheses can be expressed as:\n",
    "        - Null Hypothesis ($H_0$): The parameter is equal to a specific value.\n",
    "        - Alternative Hypothesis ($H_1$): \n",
    "            - One-tailed greater test (positive): The parameter is greater than a specific value.\n",
    "            - One-tailed lesser test (negative): The parameter is less than a specific value.\n",
    "\n",
    "- **Two-Tailed Hypothesis Testing:**\n",
    "    - In a two-tailed hypothesis test, the alternative hypothesis does not specify a directional difference or effect. \n",
    "    - Instead, it is concerned with whether the parameter of interest is significantly different from the null hypothesis value in any direction. \n",
    "    - The critical region is divided between both tails of the distribution.\n",
    "    - For a two-tailed test, the hypotheses can be expressed as:\n",
    "        - Null Hypothesis ($H_0$): The parameter is equal to a specific value.\n",
    "        - Alternative Hypothesis ($H_1$): The parameter is not equal to a specific value.\n",
    "\n",
    "- **How to choose the right test among one-tailed and two-tailed tests?:**\n",
    "    - The choice between one-tailed and two-tailed tests depends on the specific business question and the hypothesis you want to test. \n",
    "    - If you have a clear expectation about the direction of the effect (e.g., you expect a treatment to increase a measurement), you might use a one-tailed test. \n",
    "    - On the other hand, if you are simply looking for a significant difference in either direction without a specific expectation, a two-tailed test is appropriate.\n",
    "    - When interpreting the results of a hypothesis test, consider the context of your study and whether the chosen type of test aligns with your research objectives."
   ]
  },
  {
   "attachments": {},
   "cell_type": "markdown",
   "id": "3ca26ac4",
   "metadata": {},
   "source": [
    "<img src=\"One-Two-TailedTest.png\" alt=\"Drawing\" style=\"width: 600px;\"/>"
   ]
  },
  {
   "cell_type": "markdown",
   "id": "23e38224",
   "metadata": {},
   "source": [
    "***NOTE:***\n",
    "- If we choose the level of significance $\\alpha$ as 0.05, then on one-tailed test, the critical region will be 5% on either positive or negative side of the distribution. \n",
    "- However, when $\\alpha = 0.05$ for a two-tailed test, then the critical region will be 2.5% each on both the sides of the distribution."
   ]
  },
  {
   "cell_type": "markdown",
   "id": "47941df8",
   "metadata": {},
   "source": [
    "#### Type I and Type II Errors\n",
    "- When we do hypothesis testing, there is a possibility of two types of errors resulting from the test.\n",
    "- These are dipicted in the image below:"
   ]
  },
  {
   "cell_type": "markdown",
   "id": "e9fd2928",
   "metadata": {},
   "source": [
    "<img src=\"Type1-2Errors.png\" alt=\"Drawing\" style=\"width: 600px;\"/>"
   ]
  },
  {
   "cell_type": "markdown",
   "id": "1df2241f",
   "metadata": {},
   "source": [
    "*Image Scource: https://www.scribbr.com/statistics/type-i-and-type-ii-errors/*"
   ]
  },
  {
   "cell_type": "markdown",
   "id": "04a276dd",
   "metadata": {},
   "source": [
    "**NOTE:**\n",
    "- In the upcoming lectures, we will perform several hypothesis testing like one-sample z-test, two-sample z-test, t-test, chi-square test etc.\n",
    "- The significance of each of these tests will be explained as we progress. "
   ]
  },
  {
   "cell_type": "code",
   "execution_count": null,
   "id": "2e8fb6c4",
   "metadata": {},
   "outputs": [],
   "source": []
  },
  {
   "cell_type": "code",
   "execution_count": null,
   "id": "fc424603",
   "metadata": {},
   "outputs": [],
   "source": []
  },
  {
   "cell_type": "code",
   "execution_count": null,
   "id": "3d557e20",
   "metadata": {},
   "outputs": [],
   "source": []
  },
  {
   "cell_type": "code",
   "execution_count": null,
   "id": "1bcbbc1f",
   "metadata": {},
   "outputs": [],
   "source": []
  },
  {
   "cell_type": "code",
   "execution_count": null,
   "id": "030042e2",
   "metadata": {},
   "outputs": [],
   "source": []
  },
  {
   "cell_type": "markdown",
   "id": "e4e69a86",
   "metadata": {},
   "source": [
    "### Part 3.5.3  : Hypothesis testing using the Z-test\n",
    "- A z-test is a statistical test used to determine whether a sample mean is significantly different from a known or hypothesized population mean when the population standard deviation is known. \n",
    "- It's commonly used when you have a large sample size and you know the population standard deviation."
   ]
  },
  {
   "cell_type": "markdown",
   "id": "fbc4596b",
   "metadata": {},
   "source": [
    "### One-sample Z-test\n",
    "- A one-sample z-test is a statistical test used to determine whether the mean of a sample is significantly different from a known population mean or a hypothesized population mean. \n",
    "- This test is appropriate when you have a single sample of data and you want to test whether it is consistent with a specific population parameter.\n",
    "- We assume that the population mean and standard deviation are known and population data aproximately follows normal distribution.\n",
    "- The test statistic is given by:\n",
    "\n",
    "$$z=\\frac{\\bar{x}-\\mu}{\\frac{\\sigma}{\\sqrt(n)}}$$\n"
   ]
  },
  {
   "cell_type": "code",
   "execution_count": null,
   "id": "9c853011",
   "metadata": {
    "code_folding": []
   },
   "outputs": [],
   "source": [
    "# check the mean of the revenue column\n",
    "pos_data['Revenue($)'].mean()"
   ]
  },
  {
   "cell_type": "markdown",
   "id": "6d63023c",
   "metadata": {},
   "source": [
    "#### Example 1: Two-tailed hypothesis test on the revenue of the brand *Ariel*\n",
    "**Let us formulate the hypothesis:**\n",
    "- Consider the POS dataset with 31057 records as a sample drawn from the larger sales data from few years.\n",
    "- Let us check whether the revenue generated from the brand *Ariel* is 14350 or not at 5% level of significance.\n",
    "- Let us define the hypothesis:\n",
    "    - $H_0$: Average revenue for the *Ariel* brand is 14350 (sample mean is same as population mean) \n",
    "    - $H_1$: Average revenue for the *Ariel* brand is not 14350 (sample mean is not equal to 14350)\n",
    "    - This can be written as -\n",
    "        - $H_0 : \\mu = 14350 $  \n",
    "        - $H_1 : \\mu \\ne 14350 $\n",
    "- **NOTE** that the value 14350 is used here for illustration purpose. And we are using ***two-tailed test.***"
   ]
  },
  {
   "cell_type": "code",
   "execution_count": null,
   "id": "8c75025f",
   "metadata": {
    "code_folding": []
   },
   "outputs": [],
   "source": [
    "# one-sample two-tailed Z-test\n",
    "from statsmodels.stats import weightstats as wst\n",
    "\n",
    "print('Null Hypothesis (H0): Average revenue for the Ariel brand is 14350')\n",
    "print('Alternative Hypothesis (H1): Average revenue for the Ariel brand is not 14350')\n",
    "\n",
    "alpha = 0.05\n",
    "# subset for brand Ariel\n",
    "df = pos_data.loc[pos_data['Brand']=='Ariel']\n",
    "\n",
    "z_stat, p_value = wst.ztest(df['Revenue($)'],value = 14350)\n",
    "\n",
    "print(f'Test_statistic value is : {round(z_stat,4)}, p-value is : {round(p_value,4)}')\n",
    "\n",
    "if p_value <= alpha:\n",
    "    print(f'Final Conclusion: Reject the null h\n",
    "          ypothesis')\n",
    "else:\n",
    "    print(f'Final Conclusion: Do not reject the null hypothesis')"
   ]
  },
  {
   "cell_type": "markdown",
   "id": "270c911a",
   "metadata": {},
   "source": [
    "***Inference:***\n",
    "- As the computed p-value is greater than the level of significance ($\\alpha$), we don't have enough evidence to reject the null hypothesis.\n"
   ]
  },
  {
   "cell_type": "code",
   "execution_count": null,
   "id": "4b85a5c0",
   "metadata": {},
   "outputs": [],
   "source": [
    "pos_data['Page_traffic'].mean()"
   ]
  },
  {
   "cell_type": "markdown",
   "id": "ebb13063",
   "metadata": {},
   "source": [
    "#### Example 2: one-tailed hypothesis test on the page traffic of sales data\n",
    "**Let us formulate the hypothesis:**\n",
    "- Consider the POS dataset with 31057 records as a sample drawn from the larger sales data from few years.\n",
    "- Let us check whether the page traffic for various products is more than 2000 or not at 5% level of significance.\n",
    "- Let us define the hypothesis:\n",
    "    - $H_0$: Average page traffic for the products is 2000 \n",
    "    - $H_1$: Average page traffic for the products is greater than 2000 \n",
    "    - This can be written as -\n",
    "        - $H_0 : \\mu = 2000 $  \n",
    "        - $H_1 : \\mu > 2000 $\n"
   ]
  },
  {
   "cell_type": "code",
   "execution_count": null,
   "id": "ed546035",
   "metadata": {
    "code_folding": []
   },
   "outputs": [],
   "source": [
    "# one-sample one-tailed Z-test\n",
    "print('Null Hypothesis (H0): Average page traffic for the products is 2000')\n",
    "print('Alternative Hypothesis (H1): Average page traffic for the products is greater than 2000')\n",
    "\n",
    "alpha=0.05\n",
    "# Right tailed test\n",
    "z_stat, p_value = wst.ztest(pos_data['Page_traffic'],value=2000,alternative='larger')  \n",
    "\n",
    "print(f'Test_statistic value is : {round(z_stat,4)}, p-value is : {round(p_value,4)}')\n",
    "\n",
    "if p_value <= alpha:\n",
    "    print(f'Final Conclusion: Reject the null hypothesis')\n",
    "else:\n",
    "    print(f'Final Conclusion: Do not reject the null hypothesis')"
   ]
  },
  {
   "cell_type": "markdown",
   "id": "dfeded9d",
   "metadata": {},
   "source": [
    "***Inference:***\n",
    "- As the computed p-value is smaller than the level of significance ($\\alpha$), we reject the null hypothesis.\n",
    "- Remember, rejection of null hypothesis do not mean that we accept the alternative hypothesis.\n",
    "- Because, we have not tested for the acceptance of the statement given in alternative hypothesis.\n",
    "- That is, meaning of rejecting the null hypothesis implies that we don't have enough evidence to accept the null hypothesis."
   ]
  },
  {
   "cell_type": "code",
   "execution_count": null,
   "id": "edf1c18e",
   "metadata": {},
   "outputs": [],
   "source": []
  },
  {
   "cell_type": "code",
   "execution_count": null,
   "id": "ec2170d3",
   "metadata": {},
   "outputs": [],
   "source": []
  },
  {
   "cell_type": "code",
   "execution_count": null,
   "id": "4bbba95b",
   "metadata": {},
   "outputs": [],
   "source": []
  },
  {
   "cell_type": "code",
   "execution_count": null,
   "id": "89f66f7c",
   "metadata": {},
   "outputs": [],
   "source": []
  },
  {
   "cell_type": "code",
   "execution_count": null,
   "id": "37f1ac6d",
   "metadata": {},
   "outputs": [],
   "source": []
  },
  {
   "cell_type": "markdown",
   "id": "0f10cc65",
   "metadata": {},
   "source": [
    "### Two-sample Z-test\n",
    "- A two-sample z-test is a statistical test used to determine whether the means of two independent samples are significantly different from each other. \n",
    "- This test is appropriate when you have two separate samples and you want to compare whether their means suggest a significant difference in the populations they come from.\n",
    "- The test statistic is given by:\n",
    "\n",
    "$$z=\\frac{\\bar{x_1}- \\bar{x_2}}{\\sqrt(\\frac{s_1^2}{n_1} + \\frac{s_2^2}{n_2})}$$\n",
    "\n",
    "- Here, \n",
    "    - $\\bar{x_1}$ and $\\bar{x_2}$ represents the sample means\n",
    "    - $n_1$ and $n_2$ and the sizes of two samples\n",
    "    - $s_1^2$ and $s_2^2$ are the sample standard deviations"
   ]
  },
  {
   "cell_type": "markdown",
   "id": "3a2edee7",
   "metadata": {},
   "source": [
    "#### Example 1: Two-tailed hypothesis test on the revenue of the brand *Ariel* and *Tide*\n",
    "**Let us formulate the hypothesis:**\n",
    "- Consider the POS dataset with 31057 records as a sample drawn from the larger sales data from few years.\n",
    "- Take a first sample of the data where the brand is *Ariel*, and the second sample as the records where the brand is *Tide*\n",
    "- Let us check whether the revenue generated from the brand *Ariel* is same as that of the brand *Tide* at 5% level of significance.\n",
    "- Let us define the hypothesis:\n",
    "    - $H_0$: Average revenue for the *Ariel* brand is same as the average revenue for the *Tide* brand\n",
    "    - $H_1$: Average revenue for the *Ariel* brand is not same as the average revenue for the *Tide* brand\n",
    "    - This can be written as -\n",
    "        - $H_0 : \\mu_1 = \\mu_2 $  \n",
    "        - $H_1 : \\mu_1\\ne \\mu_2 $\n"
   ]
  },
  {
   "cell_type": "code",
   "execution_count": 70,
   "id": "bca3bc9b",
   "metadata": {
    "code_folding": []
   },
   "outputs": [
    {
     "name": "stdout",
     "output_type": "stream",
     "text": [
      "Null Hypothesis (H0): Average revenue for the Ariel brand is same as the average revenue for the Tide brand\n",
      "Alternative Hypothesis (H1): Average revenue for the Ariel brand is not same as the average revenue for the Tide brand\n",
      "Test_statistic value is : 1.2295, p-value is : 0.2189\n",
      "Final Conclusion: Do not reject the null hypothesis\n"
     ]
    }
   ],
   "source": [
    "# two-sample two-tailed Z-test\n",
    "print('Null Hypothesis (H0): Average revenue for the Ariel brand is same as the average revenue for the Tide brand')\n",
    "print('Alternative Hypothesis (H1): Average revenue for the Ariel brand is not same as the average revenue for the Tide brand')\n",
    "\n",
    "alpha = 0.05\n",
    "#take a data where Brand is Ariel\n",
    "df1 = pos_data.loc[pos_data['Brand']=='Ariel']\n",
    "df2 = pos_data.loc[pos_data['Brand']=='Tide']\n",
    "\n",
    "z_stat, p_value = wst.ztest(df1['Revenue($)'],df2['Revenue($)'])\n",
    "\n",
    "print(f'Test_statistic value is : {round(z_stat,4)}, p-value is : {round(p_value,4)}')\n",
    "\n",
    "if p_value <= alpha:\n",
    "    print(f'Final Conclusion: Reject the null hypothesis')\n",
    "else:\n",
    "    print(f'Final Conclusion: Do not reject the null hypothesis')"
   ]
  },
  {
   "cell_type": "markdown",
   "id": "263b9f24",
   "metadata": {},
   "source": [
    "***Inference:***\n",
    "- As we see, we don't have sufficient evidence to reject the null hypothesis.\n",
    "- So, based on the data available, we can conclude that the revenue generated by the brand *Ariel* and *Tide* are not different."
   ]
  },
  {
   "cell_type": "markdown",
   "id": "3550c0d5",
   "metadata": {},
   "source": [
    "#### Example 2: One-tailed hypothesis test to check whether the online promotion helped to increase the sales.\n",
    "- To perform this test, let us use the dataset obtained from merging POS data and Online data.\n",
    "\n",
    "**Let us formulate the hypothesis:**\n",
    "- Let the sample1 be the products where promotion was not done, and sample2 be the products which were promoted online. \n",
    "- Let us check whether the revenue generated from the promoted products is more than the products without the promotion.\n",
    "- Let us define the hypothesis:\n",
    "    - $H_0$: Average revenue for the promoted and non-promoted products are same\n",
    "    - $H_1$: Average revenue for the non-promoted products are lesser than that of the promoted products\n",
    "    - This can be written as -\n",
    "        - $H_0 : \\mu_1 = \\mu_2 $  \n",
    "        - $H_1 : \\mu_1< \\mu_2 $\n"
   ]
  },
  {
   "cell_type": "code",
   "execution_count": 71,
   "id": "a77237c1",
   "metadata": {},
   "outputs": [
    {
     "data": {
      "text/html": [
       "<div>\n",
       "<style scoped>\n",
       "    .dataframe tbody tr th:only-of-type {\n",
       "        vertical-align: middle;\n",
       "    }\n",
       "\n",
       "    .dataframe tbody tr th {\n",
       "        vertical-align: top;\n",
       "    }\n",
       "\n",
       "    .dataframe thead th {\n",
       "        text-align: right;\n",
       "    }\n",
       "</style>\n",
       "<table border=\"1\" class=\"dataframe\">\n",
       "  <thead>\n",
       "    <tr style=\"text-align: right;\">\n",
       "      <th></th>\n",
       "      <th>SKU ID</th>\n",
       "      <th>Date</th>\n",
       "      <th>Manufacturer</th>\n",
       "      <th>Sector</th>\n",
       "      <th>Category</th>\n",
       "      <th>Segment</th>\n",
       "      <th>Brand</th>\n",
       "      <th>Revenue($)</th>\n",
       "      <th>Units_sold</th>\n",
       "      <th>Page_traffic</th>\n",
       "      <th>Online_Clicks</th>\n",
       "      <th>Online_Cost</th>\n",
       "      <th>Online_Impressions</th>\n",
       "    </tr>\n",
       "  </thead>\n",
       "  <tbody>\n",
       "    <tr>\n",
       "      <th>0</th>\n",
       "      <td>SKU1009</td>\n",
       "      <td>2021-05-01</td>\n",
       "      <td>Synergix solutions</td>\n",
       "      <td>Oral Care</td>\n",
       "      <td>Toothpaste</td>\n",
       "      <td>Whitening Toothpaste</td>\n",
       "      <td>Close-up</td>\n",
       "      <td>0</td>\n",
       "      <td>0</td>\n",
       "      <td>0.0</td>\n",
       "      <td>0.0</td>\n",
       "      <td>0.0</td>\n",
       "      <td>0.0</td>\n",
       "    </tr>\n",
       "    <tr>\n",
       "      <th>1</th>\n",
       "      <td>SKU1009</td>\n",
       "      <td>2021-05-08</td>\n",
       "      <td>Synergix solutions</td>\n",
       "      <td>Oral Care</td>\n",
       "      <td>Toothpaste</td>\n",
       "      <td>Fluoride-Free Toothpaste</td>\n",
       "      <td>Tom's of Maine</td>\n",
       "      <td>0</td>\n",
       "      <td>0</td>\n",
       "      <td>0.0</td>\n",
       "      <td>0.0</td>\n",
       "      <td>0.0</td>\n",
       "      <td>0.0</td>\n",
       "    </tr>\n",
       "    <tr>\n",
       "      <th>2</th>\n",
       "      <td>SKU1009</td>\n",
       "      <td>2022-01-08</td>\n",
       "      <td>Synergix solutions</td>\n",
       "      <td>Oral Care</td>\n",
       "      <td>Toothpaste</td>\n",
       "      <td>Fluoride-Free Toothpaste</td>\n",
       "      <td>Himalaya Herbals</td>\n",
       "      <td>0</td>\n",
       "      <td>0</td>\n",
       "      <td>0.0</td>\n",
       "      <td>0.0</td>\n",
       "      <td>0.0</td>\n",
       "      <td>0.0</td>\n",
       "    </tr>\n",
       "    <tr>\n",
       "      <th>3</th>\n",
       "      <td>SKU1009</td>\n",
       "      <td>2022-11-05</td>\n",
       "      <td>Synergix solutions</td>\n",
       "      <td>Oral Care</td>\n",
       "      <td>Toothpaste</td>\n",
       "      <td>Fluoride-Free Toothpaste</td>\n",
       "      <td>Tom's of Maine</td>\n",
       "      <td>0</td>\n",
       "      <td>0</td>\n",
       "      <td>0.0</td>\n",
       "      <td>0.0</td>\n",
       "      <td>0.0</td>\n",
       "      <td>0.0</td>\n",
       "    </tr>\n",
       "    <tr>\n",
       "      <th>4</th>\n",
       "      <td>SKU1009</td>\n",
       "      <td>2022-12-10</td>\n",
       "      <td>Synergix solutions</td>\n",
       "      <td>Oral Care</td>\n",
       "      <td>Toothpaste</td>\n",
       "      <td>Fluoride-Free Toothpaste</td>\n",
       "      <td>Himalaya Herbals</td>\n",
       "      <td>0</td>\n",
       "      <td>0</td>\n",
       "      <td>0.0</td>\n",
       "      <td>0.0</td>\n",
       "      <td>0.0</td>\n",
       "      <td>0.0</td>\n",
       "    </tr>\n",
       "  </tbody>\n",
       "</table>\n",
       "</div>"
      ],
      "text/plain": [
       "    SKU ID        Date         Manufacturer     Sector    Category  \\\n",
       "0  SKU1009  2021-05-01  Synergix solutions   Oral Care  Toothpaste   \n",
       "1  SKU1009  2021-05-08  Synergix solutions   Oral Care  Toothpaste   \n",
       "2  SKU1009  2022-01-08  Synergix solutions   Oral Care  Toothpaste   \n",
       "3  SKU1009  2022-11-05  Synergix solutions   Oral Care  Toothpaste   \n",
       "4  SKU1009  2022-12-10  Synergix solutions   Oral Care  Toothpaste   \n",
       "\n",
       "                    Segment             Brand  Revenue($)  Units_sold  \\\n",
       "0      Whitening Toothpaste          Close-up           0           0   \n",
       "1  Fluoride-Free Toothpaste    Tom's of Maine           0           0   \n",
       "2  Fluoride-Free Toothpaste  Himalaya Herbals           0           0   \n",
       "3  Fluoride-Free Toothpaste    Tom's of Maine           0           0   \n",
       "4  Fluoride-Free Toothpaste  Himalaya Herbals           0           0   \n",
       "\n",
       "   Page_traffic  Online_Clicks  Online_Cost  Online_Impressions  \n",
       "0           0.0            0.0          0.0                 0.0  \n",
       "1           0.0            0.0          0.0                 0.0  \n",
       "2           0.0            0.0          0.0                 0.0  \n",
       "3           0.0            0.0          0.0                 0.0  \n",
       "4           0.0            0.0          0.0                 0.0  "
      ]
     },
     "execution_count": 71,
     "metadata": {},
     "output_type": "execute_result"
    }
   ],
   "source": [
    "pos_online_merge=pd.read_csv('POS_Online_MergeData.csv')\n",
    "pos_online_merge.head()"
   ]
  },
  {
   "cell_type": "code",
   "execution_count": 72,
   "id": "e4f7503a",
   "metadata": {
    "code_folding": []
   },
   "outputs": [
    {
     "name": "stdout",
     "output_type": "stream",
     "text": [
      "Null Hypothesis (H0): Average revenue for the promoted and non-promoted products are same\n",
      "Alternative Hypothesis (H1): Average revenue for the non-promoted products are lesser than that of the promoted products\n",
      "Test_statistic value is : 0.6602, p-value is : 0.7454\n",
      "Final Conclusion: Do not reject the null hypothesis\n"
     ]
    }
   ],
   "source": [
    "# two-sample one-tailed Z-test\n",
    "print('Null Hypothesis (H0): Average revenue for the promoted and non-promoted products are same')\n",
    "print('Alternative Hypothesis (H1): Average revenue for the non-promoted products are lesser than that of the promoted products')\n",
    "\n",
    "alpha=0.05\n",
    "#take a data where Brand is Ariel\n",
    "df1 = pos_online_merge.loc[pos_online_merge['Online_Impressions']==0]\n",
    "df2 = pos_online_merge.loc[pos_online_merge['Online_Impressions']!=0]\n",
    "\n",
    "z_stat, p_value = wst.ztest(df1['Revenue($)'],df2['Revenue($)'], alternative='smaller')\n",
    "\n",
    "print(f'Test_statistic value is : {round(z_stat,4)}, p-value is : {round(p_value,4)}')\n",
    "\n",
    "if p_value <= alpha:\n",
    "    print(f'Final Conclusion: Reject the null hypothesis')\n",
    "else:\n",
    "    print(f'Final Conclusion: Do not reject the null hypothesis')"
   ]
  },
  {
   "cell_type": "markdown",
   "id": "664904e3",
   "metadata": {},
   "source": [
    "***Inference:***\n",
    "- As we see, we don't have enough evidance to say that promotions helped improve sales\n",
    "- So, we may want to look at the strategies with online promotions and ask why promotions are not helping to improve sales, and what we can do to better utilize the spend on online promotions."
   ]
  },
  {
   "cell_type": "code",
   "execution_count": null,
   "id": "1b577d6a",
   "metadata": {},
   "outputs": [],
   "source": []
  },
  {
   "cell_type": "code",
   "execution_count": null,
   "id": "955da299",
   "metadata": {},
   "outputs": [],
   "source": []
  },
  {
   "cell_type": "code",
   "execution_count": null,
   "id": "7a4e3a73",
   "metadata": {},
   "outputs": [],
   "source": []
  },
  {
   "cell_type": "code",
   "execution_count": null,
   "id": "0902b39b",
   "metadata": {},
   "outputs": [],
   "source": []
  },
  {
   "cell_type": "markdown",
   "id": "c5cafa24",
   "metadata": {},
   "source": [
    "### Part 3.5.4  : Hypothesis testing using the t-test\n",
    "- A t-test is a statistical test used to determine whether the means of two groups are significantly different from each other. \n",
    "- It is commonly used when comparing the means of a continuous variable between two independent groups. \n",
    "- The t-test is especially useful when the sample size is small and the population standard deviation is unknown.\n",
    "- The concepts of *Z-test* and the *t-test* are the same with respect to hypothesis testing.\n",
    "- However there are few differences:\n",
    "    1. The *Z-test* is used for large samples (when sample size is $\\ge$ 30) and the *t-test* is used for small samples (when sample size is < 30)\n",
    "    2. The *Z-test* is used when the population standard deviation (variance) is known. This is often an idealized assumption that might not hold in many real-world cases. The *t-test* is used when the population standard deviation is unknown, and the sample standard deviation is used as an estimate. This is more common in practice as population standard deviations are not often known.\n",
    "- The *t-test* assumes that the population mean is known. "
   ]
  },
  {
   "cell_type": "markdown",
   "id": "cb970e59",
   "metadata": {},
   "source": [
    "#### Example 1: Two-tailed one-sample t-test on the revenues from *Sensitivity Toothpaste*\n",
    "- From the POS data, consider the records belonging to the segment *Sensitivity Toothpaste*\n",
    "- Compute the average revenue of these records, which we can consider as the population mean.\n",
    "- Draw a small random sample from this data. \n",
    "- Check whether the sample has the mean as specific value. \n",
    "\n",
    "**Let us formulate the hypothesis:**\n",
    "- $H_0$: Average revenue for the *Sensitivity Toothpaste* brand is 14500 \n",
    "- $H_1$: Average revenue for the *Sensitivity Toothpaste* brand is not equal to 14500 \n",
    "- This can be written as -\n",
    "    - $H_0 : \\mu = 14500 $  \n",
    "    - $H_1 : \\mu \\ne 14500 $\n"
   ]
  },
  {
   "cell_type": "code",
   "execution_count": 73,
   "id": "90e64035",
   "metadata": {
    "code_folding": []
   },
   "outputs": [
    {
     "data": {
      "text/plain": [
       "(623, 10)"
      ]
     },
     "execution_count": 73,
     "metadata": {},
     "output_type": "execute_result"
    }
   ],
   "source": [
    "# subset the data\n",
    "df=pos_data.loc[pos_data['Segment']=='Sensitivity Toothpaste']\n",
    "df.shape"
   ]
  },
  {
   "cell_type": "code",
   "execution_count": 74,
   "id": "99769185",
   "metadata": {
    "code_folding": []
   },
   "outputs": [
    {
     "name": "stdout",
     "output_type": "stream",
     "text": [
      "14719.37\n"
     ]
    }
   ],
   "source": [
    "# find the mean\n",
    "pop_mean = round(df['Revenue($)'].mean(),2)\n",
    "print(pop_mean)"
   ]
  },
  {
   "cell_type": "code",
   "execution_count": 75,
   "id": "c14348a5",
   "metadata": {
    "code_folding": []
   },
   "outputs": [
    {
     "data": {
      "text/plain": [
       "(12, 10)"
      ]
     },
     "execution_count": 75,
     "metadata": {},
     "output_type": "execute_result"
    }
   ],
   "source": [
    "#create a small sample of sensitivity toothpaste records\n",
    "sample_data = df.sample(n = 12)\n",
    "sample_data.shape"
   ]
  },
  {
   "cell_type": "code",
   "execution_count": 76,
   "id": "37510c6f",
   "metadata": {
    "code_folding": []
   },
   "outputs": [
    {
     "name": "stdout",
     "output_type": "stream",
     "text": [
      "Null Hypothesis (H0): Average revenue for the Sensitivity Toothpaste brand is 14500\n",
      "Alternative Hypothesis (H1): Average revenue for the Sensitivity Toothpaste brand is not equal to 14500\n",
      "Test_statistic value is : -1.2817, p-value is : 0.2263\n",
      "Final Conclusion: Do not reject null hypothesis.\n"
     ]
    }
   ],
   "source": [
    "# one-sample t-test\n",
    "\n",
    "from scipy.stats import ttest_1samp\n",
    "\n",
    "print('Null Hypothesis (H0): Average revenue for the Sensitivity Toothpaste brand is 14500')\n",
    "print('Alternative Hypothesis (H1): Average revenue for the Sensitivity Toothpaste brand is not equal to 14500')\n",
    "\n",
    "alpha=0.05\n",
    "\n",
    "#perform one sample t-test\n",
    "t_statistic,p_value = ttest_1samp(sample_data['Revenue($)'], popmean = pop_mean)\n",
    "\n",
    "print(f'Test_statistic value is : {round(t_statistic,4)}, p-value is : {round(p_value,4)}')\n",
    "\n",
    "if p_value < alpha:\n",
    "    print(f'Final Conclusion: Reject null hypothesis')\n",
    "else:\n",
    "    print(f'Final Conclusion: Do not reject null hypothesis.')"
   ]
  },
  {
   "cell_type": "markdown",
   "id": "c5d92e04",
   "metadata": {},
   "source": [
    "***Inference:***\n",
    "- As per the result of the above test, we do not have enough evidence to reject the null hypothesis. \n",
    "- That is, we may accept that the average revenue of Sensitivity Toothpaste is 14500."
   ]
  },
  {
   "cell_type": "markdown",
   "id": "b6644a51",
   "metadata": {},
   "source": [
    "#### Example 2: Two-tailed two-sample test on the revenues from *Sensitivity Toothpaste* and *Whitening Toothpaste*\n",
    "- Here, we are going to test whether the revenues from sensitivity toothpaste and the whitening toothpaste are same or not\n",
    "- Draw a sample 1 of size 12 from the POS data where the segment is sensitivity toothpaste\n",
    "- Draw a sample 2 of size 15 from the POS data where the segment is whitening toothpaste\n",
    "- Check whether the revenues of these two samples are same\n",
    "\n",
    "**Let us formulate the hypothesis:**\n",
    "- $H_0$: Average revenues for *Sensitivity Toothpaste* and *Whitening Toothpaste* are the same\n",
    "- $H_1$: Average revenues for *Sensitivity Toothpaste* and *Whitening Toothpaste* are not the same\n",
    "- This can be written as -\n",
    "    - $H_0 : \\mu_1 = \\mu_2$  \n",
    "    - $H_1 : \\mu_1\\ne \\mu_2 $"
   ]
  },
  {
   "cell_type": "code",
   "execution_count": 77,
   "id": "138d2ec7",
   "metadata": {
    "code_folding": []
   },
   "outputs": [],
   "source": [
    "# create two subsets of the data\n",
    "from scipy.stats import ttest_ind\n",
    "sample1 = pos_data.loc[pos_data['Segment']=='Sensitivity Toothpaste'].sample(12)\n",
    "sample2 = pos_data.loc[pos_data['Segment']=='Whitening Toothpaste'].sample(15)"
   ]
  },
  {
   "cell_type": "code",
   "execution_count": 78,
   "id": "55580ae3",
   "metadata": {
    "code_folding": []
   },
   "outputs": [
    {
     "data": {
      "text/plain": [
       "((12, 10), (15, 10))"
      ]
     },
     "execution_count": 78,
     "metadata": {},
     "output_type": "execute_result"
    }
   ],
   "source": [
    "# check their sizes\n",
    "sample1.shape, sample2.shape"
   ]
  },
  {
   "cell_type": "code",
   "execution_count": 79,
   "id": "c6a9461f",
   "metadata": {
    "code_folding": []
   },
   "outputs": [
    {
     "name": "stdout",
     "output_type": "stream",
     "text": [
      "Null Hypothesis (H0): Average revenues of the Sensitivity Toothpaste and Whitening Toothpaste are same\n",
      "Alternative Hypothesis (H1): Average revenues of the Sensitivity Toothpaste and Whitening Toothpaste are not same\n",
      "Test_statistic value is : 0.968, p-value is : 0.3423\n",
      "Final Conclusion: Do not reject null hypothesis.\n"
     ]
    }
   ],
   "source": [
    "# two-sample t-test\n",
    "\n",
    "print('Null Hypothesis (H0): Average revenues of the Sensitivity Toothpaste and Whitening Toothpaste are same')\n",
    "print('Alternative Hypothesis (H1): Average revenues of the Sensitivity Toothpaste and Whitening Toothpaste are not same')\n",
    "\n",
    "alpha=0.05\n",
    "\n",
    "t_statistic,p_value = ttest_ind(sample1['Revenue($)'],sample2['Revenue($)'])\n",
    "\n",
    "print(f'Test_statistic value is : {round(t_statistic,4)}, p-value is : {round(p_value,4)}')\n",
    "\n",
    "if p_value < alpha:\n",
    "    print(f'Final Conclusion: Reject null hypothesis')\n",
    "else:\n",
    "    print(f'Final Conclusion: Do not reject null hypothesis.')"
   ]
  },
  {
   "cell_type": "markdown",
   "id": "250e6a70",
   "metadata": {},
   "source": [
    "***Inference:***\n",
    "- As per the results, we may need to say that the revenue of sensitivity toothpaste and whitening toothpaste are same."
   ]
  },
  {
   "cell_type": "code",
   "execution_count": null,
   "id": "ac5e6c25",
   "metadata": {},
   "outputs": [],
   "source": []
  },
  {
   "cell_type": "code",
   "execution_count": null,
   "id": "9d56bc8a",
   "metadata": {},
   "outputs": [],
   "source": []
  },
  {
   "cell_type": "code",
   "execution_count": null,
   "id": "b15804aa",
   "metadata": {},
   "outputs": [],
   "source": []
  },
  {
   "cell_type": "code",
   "execution_count": null,
   "id": "0ee1785b",
   "metadata": {},
   "outputs": [],
   "source": []
  },
  {
   "cell_type": "code",
   "execution_count": null,
   "id": "c39ab2ea",
   "metadata": {},
   "outputs": [],
   "source": []
  },
  {
   "cell_type": "markdown",
   "id": "9b14ef5b",
   "metadata": {},
   "source": [
    "### Part 3.5.5  :  Chi-square ($\\chi^2$) test\n",
    "- A chi-squared ($\\chi^2$) test is a statistical test used to determine whether there is a significant association or relationship between categorical variables. \n",
    "- It is also called the **chi-square test for independence** or the **contingency table test**\n",
    "- It is often applied to data presented in a contingency table, where the rows represent one variable's categories and the columns represent another variable's categories.\n",
    "- The null hypothesis states that the two variables are independent, meaning there is no association between them.\n",
    "- To implement $\\chi^2$ test for independence, we need to keep the data in the form of a ***contingency table (or cross-tab)*** that shows the frequencies in each category for the two variables.\n",
    "\n",
    "**NOTE:**\n",
    "- The POS data has 5 categorical variables (SKU ID, Sector, Category, Segment and Brand). \n",
    "- However, SKU ID is a product ID and all other variables have a hierarchical relationship. \n",
    "- Hence, this data is not suitable to test the association between the variables. \n",
    "- So let us illustrate this concept with a different data set.\n",
    "\n",
    "Note that in another context, the $\\chi^2$ test can also be used to to analyze frequency data and assess whether the observed frequencies differ from the expected frequencies based on a null hypothesis of independence.\n"
   ]
  },
  {
   "cell_type": "markdown",
   "id": "97593346",
   "metadata": {},
   "source": [
    "#### Problem statement\n",
    "- A campaign was conducted for credit card holders to increase their credit limit.\n",
    "- The data consists of information like credit card ID, gender of the card holder, birth date, the date of registration of the credit card and whether they have positively responded to the campaign or not.\n",
    "- Let us now test whether there is an association between the gender of the card holder and their response (True or False) for the campaign.\n",
    "**Formulate the hypothesis:**\n",
    "    - $H_0$: There is no relationship between Gender and Campaign Response\n",
    "    - $H_1$: There is a relationship between Gender and Campaign Response\n"
   ]
  },
  {
   "cell_type": "code",
   "execution_count": 80,
   "id": "24f5e05e",
   "metadata": {
    "code_folding": []
   },
   "outputs": [
    {
     "data": {
      "text/html": [
       "<div>\n",
       "<style scoped>\n",
       "    .dataframe tbody tr th:only-of-type {\n",
       "        vertical-align: middle;\n",
       "    }\n",
       "\n",
       "    .dataframe tbody tr th {\n",
       "        vertical-align: top;\n",
       "    }\n",
       "\n",
       "    .dataframe thead th {\n",
       "        text-align: right;\n",
       "    }\n",
       "</style>\n",
       "<table border=\"1\" class=\"dataframe\">\n",
       "  <thead>\n",
       "    <tr style=\"text-align: right;\">\n",
       "      <th></th>\n",
       "      <th>Card_ID</th>\n",
       "      <th>Campaign_Response</th>\n",
       "      <th>Registration_Date</th>\n",
       "      <th>Gender</th>\n",
       "      <th>Birth_Date</th>\n",
       "    </tr>\n",
       "  </thead>\n",
       "  <tbody>\n",
       "    <tr>\n",
       "      <th>0</th>\n",
       "      <td>100005950</td>\n",
       "      <td>False</td>\n",
       "      <td>1998-11-18</td>\n",
       "      <td>M</td>\n",
       "      <td>1984-02-06</td>\n",
       "    </tr>\n",
       "    <tr>\n",
       "      <th>1</th>\n",
       "      <td>100022191</td>\n",
       "      <td>True</td>\n",
       "      <td>1999-09-15</td>\n",
       "      <td>F</td>\n",
       "      <td>1959-09-11</td>\n",
       "    </tr>\n",
       "    <tr>\n",
       "      <th>2</th>\n",
       "      <td>100025442</td>\n",
       "      <td>False</td>\n",
       "      <td>1998-05-12</td>\n",
       "      <td>M</td>\n",
       "      <td>1970-08-25</td>\n",
       "    </tr>\n",
       "    <tr>\n",
       "      <th>3</th>\n",
       "      <td>100026513</td>\n",
       "      <td>False</td>\n",
       "      <td>1999-02-12</td>\n",
       "      <td>M</td>\n",
       "      <td>1951-03-12</td>\n",
       "    </tr>\n",
       "    <tr>\n",
       "      <th>4</th>\n",
       "      <td>100039145</td>\n",
       "      <td>False</td>\n",
       "      <td>2000-08-12</td>\n",
       "      <td>M</td>\n",
       "      <td>1949-06-08</td>\n",
       "    </tr>\n",
       "  </tbody>\n",
       "</table>\n",
       "</div>"
      ],
      "text/plain": [
       "     Card_ID  Campaign_Response Registration_Date Gender Birth_Date\n",
       "0  100005950              False        1998-11-18      M 1984-02-06\n",
       "1  100022191               True        1999-09-15      F 1959-09-11\n",
       "2  100025442              False        1998-05-12      M 1970-08-25\n",
       "3  100026513              False        1999-02-12      M 1951-03-12\n",
       "4  100039145              False        2000-08-12      M 1949-06-08"
      ]
     },
     "execution_count": 80,
     "metadata": {},
     "output_type": "execute_result"
    }
   ],
   "source": [
    "# read the data\n",
    "data=pd.read_excel(\"CreditCardData.xlsx\")\n",
    "data.head()"
   ]
  },
  {
   "cell_type": "code",
   "execution_count": 81,
   "id": "6c8cd9be",
   "metadata": {
    "code_folding": []
   },
   "outputs": [
    {
     "data": {
      "text/plain": [
       "False    248\n",
       "True      49\n",
       "Name: Campaign_Response, dtype: int64"
      ]
     },
     "execution_count": 81,
     "metadata": {},
     "output_type": "execute_result"
    }
   ],
   "source": [
    "# value counts\n",
    "data.Campaign_Response.value_counts()"
   ]
  },
  {
   "cell_type": "code",
   "execution_count": 82,
   "id": "08167c38",
   "metadata": {
    "code_folding": []
   },
   "outputs": [
    {
     "data": {
      "text/html": [
       "<div>\n",
       "<style scoped>\n",
       "    .dataframe tbody tr th:only-of-type {\n",
       "        vertical-align: middle;\n",
       "    }\n",
       "\n",
       "    .dataframe tbody tr th {\n",
       "        vertical-align: top;\n",
       "    }\n",
       "\n",
       "    .dataframe thead th {\n",
       "        text-align: right;\n",
       "    }\n",
       "</style>\n",
       "<table border=\"1\" class=\"dataframe\">\n",
       "  <thead>\n",
       "    <tr style=\"text-align: right;\">\n",
       "      <th>Campaign_Response</th>\n",
       "      <th>False</th>\n",
       "      <th>True</th>\n",
       "    </tr>\n",
       "    <tr>\n",
       "      <th>Gender</th>\n",
       "      <th></th>\n",
       "      <th></th>\n",
       "    </tr>\n",
       "  </thead>\n",
       "  <tbody>\n",
       "    <tr>\n",
       "      <th>F</th>\n",
       "      <td>102</td>\n",
       "      <td>25</td>\n",
       "    </tr>\n",
       "    <tr>\n",
       "      <th>M</th>\n",
       "      <td>146</td>\n",
       "      <td>24</td>\n",
       "    </tr>\n",
       "  </tbody>\n",
       "</table>\n",
       "</div>"
      ],
      "text/plain": [
       "Campaign_Response  False  True \n",
       "Gender                         \n",
       "F                    102     25\n",
       "M                    146     24"
      ]
     },
     "execution_count": 82,
     "metadata": {},
     "output_type": "execute_result"
    }
   ],
   "source": [
    "# create a contingency table\n",
    "obs=pd.crosstab(data['Gender'],data['Campaign_Response'])\n",
    "obs"
   ]
  },
  {
   "cell_type": "code",
   "execution_count": 83,
   "id": "2ca891a8",
   "metadata": {
    "code_folding": []
   },
   "outputs": [
    {
     "name": "stdout",
     "output_type": "stream",
     "text": [
      "Null Hypothesis (H0): There is no relationship between Gender and Campaign Responce. (independent)\n",
      "Alternative Hypothesis (H1): There is a relatinoship between Gender and Campaign Responce. (dependent)\n",
      "Test_statistic value is : 1.2564, p-value is : 0.2623\n",
      "Final Conclusion: Do not reject null hypothesis.\n"
     ]
    }
   ],
   "source": [
    "# test for association using a chi-square test\n",
    "\n",
    "from scipy.stats import chi2_contingency,chisquare\n",
    "\n",
    "print('Null Hypothesis (H0): There is no relationship between Gender and Campaign Responce. (independent)')\n",
    "print('Alternative Hypothesis (H1): There is a relatinoship between Gender and Campaign Responce. (dependent)')\n",
    "\n",
    "\n",
    "chi_sq_Stat, p_value, deg_freedom, exp_freq = chi2_contingency(obs)\n",
    "\n",
    "print(f'Test_statistic value is : {round(chi_sq_Stat,4)}, p-value is : {round(p_value,4)}')\n",
    "\n",
    "alpha = 0.05\n",
    "if p_value < alpha:\n",
    "    print(f'Final Conclusion: Reject null hypothesis')\n",
    "else:\n",
    "    print(f'Final Conclusion: Do not reject null hypothesis.')\n",
    "    "
   ]
  },
  {
   "cell_type": "markdown",
   "id": "7d6a48e9",
   "metadata": {},
   "source": [
    "***Inference:***\n",
    "- We do not have enough evidance to say that gender has an influence on campaign response. \n",
    "- That means, gender and response are independent of each other."
   ]
  },
  {
   "cell_type": "code",
   "execution_count": null,
   "id": "af518db0",
   "metadata": {},
   "outputs": [],
   "source": []
  },
  {
   "cell_type": "code",
   "execution_count": null,
   "id": "230174f0",
   "metadata": {},
   "outputs": [],
   "source": []
  },
  {
   "cell_type": "code",
   "execution_count": null,
   "id": "9dbf2b8d",
   "metadata": {},
   "outputs": [],
   "source": []
  },
  {
   "cell_type": "code",
   "execution_count": null,
   "id": "f4c5b8f9",
   "metadata": {},
   "outputs": [],
   "source": []
  },
  {
   "cell_type": "code",
   "execution_count": null,
   "id": "f6fade0b",
   "metadata": {},
   "outputs": [],
   "source": []
  }
 ],
 "metadata": {
  "kernelspec": {
   "display_name": "Python 3 (ipykernel)",
   "language": "python",
   "name": "python3"
  },
  "language_info": {
   "codemirror_mode": {
    "name": "ipython",
    "version": 3
   },
   "file_extension": ".py",
   "mimetype": "text/x-python",
   "name": "python",
   "nbconvert_exporter": "python",
   "pygments_lexer": "ipython3",
   "version": "3.9.13"
  }
 },
 "nbformat": 4,
 "nbformat_minor": 5
}
