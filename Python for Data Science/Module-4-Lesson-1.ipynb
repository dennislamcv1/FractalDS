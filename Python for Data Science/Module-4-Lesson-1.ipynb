{
 "cells": [
  {
   "cell_type": "markdown",
   "id": "090d6cf6",
   "metadata": {},
   "source": [
    "# Module 4: Data preprocessing\n",
    "- Data preprocessing is a crucial step in the data analysis pipeline.\n",
    "- It involves cleaning and preparing raw data to make it suitable for further analysis or machine learning.\n",
    "- The quality of your analysis depends on the quality of the preprocessed data.\n",
    "- Here are some key steps in data preprocessing:\n",
    "    - **Handling missing values:**\n",
    "        - Identify and handle missing data using techniques like imputation or deletion, depending on the extent and nature of the missing values.\n",
    "        - Impute (replace) missing values using simple methods like mean or median, or more advanced techniques.\n",
    "    - **Data cleaning:**\n",
    "        - Detect and correct errors or inconsistencies in the data, such as typos, duplicate records, and outliers.\n",
    "        - Remove or correct data entries that are irrelevant, erroneous, or invalid.\n",
    "    - **Data transformation:**\n",
    "        - Encoding the categorical variables into numerical format suitable for the analysis, using techniques like one-hot encoding, label encoding etc.\n",
    "        - Binning and discretization to group the continuous numeric features into bins or discrete intervals, if required. \n",
    "    - **Data normalization:**\n",
    "        - Normalize or standardize numerical features to bring them to a common scale.\n",
    "        - Transform skewed data distributions using techniques like log transformation.\n",
    "    - **Dealing with outliers:**\n",
    "        - Identify and handle outliers that can adversely affect analysis results or model performance.\n",
    "        - Consider whether outliers are genuine data points or errors before deciding to remove or transform them.   \n",
    "    - **Feature selection:**\n",
    "        - Select relevant features that contribute most to the analysis or model performance and remove less important ones.\n",
    "        - Feature selection helps reduce dimensionality and computational complexity. \n",
    "    - **Feature engineering:**\n",
    "      - Create new attributes through feature engineering or extraction, such as generating datetime features from timestamps.\n",
    "      - Form new attributes which embodies the features of existing attributes using techniques like PCA, LDA etc.\n",
    "\n",
    "- In this module, we will discuss some data preprocessing techniques."
   ]
  },
  {
   "cell_type": "markdown",
   "id": "e84e2303",
   "metadata": {},
   "source": [
    "### Part 4.1.1  :  What to do with missing values? - part I"
   ]
  },
  {
   "cell_type": "markdown",
   "id": "8095674f",
   "metadata": {},
   "source": [
    "## Treating Missing Data\n",
    "- Dealing with missing values is an important step in data preprocessing and analysis, as missing data can lead to biased or unreliable results if not handled properly. \n",
    "- There are various strategies for treating missing values, depending on the nature of the data and the reason for the missingness. \n",
    "- Here are some common techniques:\n",
    "    - **Deletion of Missing Data:**\n",
    "        - Removing entire rows with missing values. This can lead to loss of valuable data if the missing values are not randomly distributed.\n",
    "        - Delete a column containing missing values if it has huge amount of data. However, the term huge is relative, and it depends on the business problem and the domain, and the decision is left to the discretion of the data analyst. Because, deletion of a column removes an attribute from the dataset, and one must know how important or not-important that attribute is.\n",
    "    - **Imputation Techniques:** Imputation is the technique to fill the missing value by some other relevant value.\n",
    "        - Mean/Median Imputation: Replacing missing values with the mean or median of the non-missing values in the variable. This method assumes that the missing values are missing at random. When the attribute has many outliers, we might prefer median imputation, since the mean is more influenced by outliers. If there are not a lot of outliers, we can use mean imputation.\n",
    "        - Mode Imputation: Replacing missing categorical values with the mode (most frequent category).\n",
    "        - Interpolation: Linear or spline interpolation can be used for time-series data where missing values are interpolated based on neighboring points.\n",
    "        - Regression Imputation: Predicting the missing values using regression models based on other variables.\n",
    "        - K-Nearest Neighbors (KNN) Imputation: Replacing missing values with the values of the most similar (in terms of other attributes) data points.\n",
    "        - Multiple Imputation: Creating multiple datasets where missing values are imputed differently in each dataset, then analyzing the results using standard methods.\n",
    "    - **Domain Knowledge:**\n",
    "        - Using domain expertise to make educated guesses and fill in missing values. \n",
    "        - This can be especially useful when the nature of the missing values is well understood.\n",
    "- Keep in mind that the choice of missing value treatment depends on the characteristics of your data and the goals of your analysis. Careful consideration is necessary to avoid introducing bias or distorting the results."
   ]
  },
  {
   "cell_type": "markdown",
   "id": "ebf1b981",
   "metadata": {},
   "source": [
    "### Part 4.1.2  :  What to do with missing values? - Part II"
   ]
  },
  {
   "cell_type": "code",
   "execution_count": 73,
   "id": "0064b7a0",
   "metadata": {
    "code_folding": []
   },
   "outputs": [],
   "source": [
    "# import the required packages\n",
    "import pandas as pd\n",
    "import numpy as np\n",
    "import warnings\n",
    "\n",
    "# Suppress all warnings\n",
    "warnings.filterwarnings(\"ignore\")"
   ]
  },
  {
   "cell_type": "code",
   "execution_count": 74,
   "id": "0f7ed6f3",
   "metadata": {
    "code_folding": []
   },
   "outputs": [],
   "source": [
    "#read the data file\n",
    "pos_data = pd.read_csv('POS_Data.csv')"
   ]
  },
  {
   "cell_type": "code",
   "execution_count": 75,
   "id": "e62a0ae4",
   "metadata": {
    "code_folding": []
   },
   "outputs": [
    {
     "data": {
      "text/html": [
       "<div>\n",
       "<style scoped>\n",
       "    .dataframe tbody tr th:only-of-type {\n",
       "        vertical-align: middle;\n",
       "    }\n",
       "\n",
       "    .dataframe tbody tr th {\n",
       "        vertical-align: top;\n",
       "    }\n",
       "\n",
       "    .dataframe thead th {\n",
       "        text-align: right;\n",
       "    }\n",
       "</style>\n",
       "<table border=\"1\" class=\"dataframe\">\n",
       "  <thead>\n",
       "    <tr style=\"text-align: right;\">\n",
       "      <th></th>\n",
       "      <th>SKU ID</th>\n",
       "      <th>Date</th>\n",
       "      <th>Manufacturer</th>\n",
       "      <th>Sector</th>\n",
       "      <th>Category</th>\n",
       "      <th>Segment</th>\n",
       "      <th>Brand</th>\n",
       "      <th>Revenue($)</th>\n",
       "      <th>Unit_price</th>\n",
       "      <th>Units_sold</th>\n",
       "      <th>Page_traffic</th>\n",
       "    </tr>\n",
       "  </thead>\n",
       "  <tbody>\n",
       "    <tr>\n",
       "      <th>0</th>\n",
       "      <td>SKU1029</td>\n",
       "      <td>05-01-21</td>\n",
       "      <td>Synergix solutions</td>\n",
       "      <td>Oral Care</td>\n",
       "      <td>Toothpaste</td>\n",
       "      <td>Whitening Toothpaste</td>\n",
       "      <td>Close-up</td>\n",
       "      <td>0</td>\n",
       "      <td>NaN</td>\n",
       "      <td>0</td>\n",
       "      <td>0.0</td>\n",
       "    </tr>\n",
       "    <tr>\n",
       "      <th>1</th>\n",
       "      <td>SKU1054</td>\n",
       "      <td>05-08-21</td>\n",
       "      <td>Synergix solutions</td>\n",
       "      <td>Oral Care</td>\n",
       "      <td>Toothpaste</td>\n",
       "      <td>Fluoride-Free Toothpaste</td>\n",
       "      <td>Tom's of Maine</td>\n",
       "      <td>0</td>\n",
       "      <td>NaN</td>\n",
       "      <td>0</td>\n",
       "      <td>0.0</td>\n",
       "    </tr>\n",
       "    <tr>\n",
       "      <th>2</th>\n",
       "      <td>SKU1068</td>\n",
       "      <td>01-08-22</td>\n",
       "      <td>Synergix solutions</td>\n",
       "      <td>Oral Care</td>\n",
       "      <td>Toothpaste</td>\n",
       "      <td>Fluoride-Free Toothpaste</td>\n",
       "      <td>Himalaya Herbals</td>\n",
       "      <td>0</td>\n",
       "      <td>NaN</td>\n",
       "      <td>0</td>\n",
       "      <td>0.0</td>\n",
       "    </tr>\n",
       "    <tr>\n",
       "      <th>3</th>\n",
       "      <td>SKU1056</td>\n",
       "      <td>11-05-22</td>\n",
       "      <td>Synergix solutions</td>\n",
       "      <td>Oral Care</td>\n",
       "      <td>Toothpaste</td>\n",
       "      <td>Fluoride-Free Toothpaste</td>\n",
       "      <td>Tom's of Maine</td>\n",
       "      <td>0</td>\n",
       "      <td>NaN</td>\n",
       "      <td>0</td>\n",
       "      <td>0.0</td>\n",
       "    </tr>\n",
       "    <tr>\n",
       "      <th>4</th>\n",
       "      <td>SKU1061</td>\n",
       "      <td>12-10-22</td>\n",
       "      <td>Synergix solutions</td>\n",
       "      <td>Oral Care</td>\n",
       "      <td>Toothpaste</td>\n",
       "      <td>Fluoride-Free Toothpaste</td>\n",
       "      <td>Himalaya Herbals</td>\n",
       "      <td>0</td>\n",
       "      <td>NaN</td>\n",
       "      <td>0</td>\n",
       "      <td>0.0</td>\n",
       "    </tr>\n",
       "  </tbody>\n",
       "</table>\n",
       "</div>"
      ],
      "text/plain": [
       "    SKU ID      Date         Manufacturer     Sector    Category  \\\n",
       "0  SKU1029  05-01-21  Synergix solutions   Oral Care  Toothpaste   \n",
       "1  SKU1054  05-08-21  Synergix solutions   Oral Care  Toothpaste   \n",
       "2  SKU1068  01-08-22  Synergix solutions   Oral Care  Toothpaste   \n",
       "3  SKU1056  11-05-22  Synergix solutions   Oral Care  Toothpaste   \n",
       "4  SKU1061  12-10-22  Synergix solutions   Oral Care  Toothpaste   \n",
       "\n",
       "                    Segment             Brand  Revenue($)  Unit_price  \\\n",
       "0      Whitening Toothpaste          Close-up           0         NaN   \n",
       "1  Fluoride-Free Toothpaste    Tom's of Maine           0         NaN   \n",
       "2  Fluoride-Free Toothpaste  Himalaya Herbals           0         NaN   \n",
       "3  Fluoride-Free Toothpaste    Tom's of Maine           0         NaN   \n",
       "4  Fluoride-Free Toothpaste  Himalaya Herbals           0         NaN   \n",
       "\n",
       "   Units_sold  Page_traffic  \n",
       "0           0           0.0  \n",
       "1           0           0.0  \n",
       "2           0           0.0  \n",
       "3           0           0.0  \n",
       "4           0           0.0  "
      ]
     },
     "execution_count": 75,
     "metadata": {},
     "output_type": "execute_result"
    }
   ],
   "source": [
    "# A quick look at the data\n",
    "pos_data.head()   "
   ]
  },
  {
   "cell_type": "code",
   "execution_count": 76,
   "id": "47636bac",
   "metadata": {
    "code_folding": [
     0
    ]
   },
   "outputs": [
    {
     "data": {
      "text/plain": [
       "(31185, 11)"
      ]
     },
     "execution_count": 76,
     "metadata": {},
     "output_type": "execute_result"
    }
   ],
   "source": [
    "# how many rows and columns?\n",
    "pos_data.shape"
   ]
  },
  {
   "cell_type": "code",
   "execution_count": 77,
   "id": "132b991d",
   "metadata": {
    "code_folding": []
   },
   "outputs": [
    {
     "data": {
      "text/plain": [
       "SKU ID              0\n",
       "Date                0\n",
       "Manufacturer        0\n",
       "Sector             50\n",
       "Category           36\n",
       "Segment            29\n",
       "Brand              27\n",
       "Revenue($)          0\n",
       "Unit_price      11550\n",
       "Units_sold          0\n",
       "Page_traffic        0\n",
       "dtype: int64"
      ]
     },
     "execution_count": 77,
     "metadata": {},
     "output_type": "execute_result"
    }
   ],
   "source": [
    "# find missing values in each column\n",
    "pos_data.isna().sum()"
   ]
  },
  {
   "cell_type": "code",
   "execution_count": 78,
   "id": "2ba96e51",
   "metadata": {
    "code_folding": []
   },
   "outputs": [
    {
     "data": {
      "text/plain": [
       "SKU ID           0.00\n",
       "Date             0.00\n",
       "Manufacturer     0.00\n",
       "Sector           0.16\n",
       "Category         0.12\n",
       "Segment          0.09\n",
       "Brand            0.09\n",
       "Revenue($)       0.00\n",
       "Unit_price      37.04\n",
       "Units_sold       0.00\n",
       "Page_traffic     0.00\n",
       "dtype: float64"
      ]
     },
     "execution_count": 78,
     "metadata": {},
     "output_type": "execute_result"
    }
   ],
   "source": [
    "# check the proportion of missing data\n",
    "round(pos_data.isna().sum()/pos_data.shape[0] * 100,2)"
   ]
  },
  {
   "cell_type": "markdown",
   "id": "2635e782",
   "metadata": {},
   "source": [
    "**Around 37% of data is missing from the column *Unit_price***"
   ]
  },
  {
   "cell_type": "markdown",
   "id": "0d54a087",
   "metadata": {},
   "source": [
    "- We see that the following attributes have the missing information:\n",
    "    - Sector\n",
    "    - Category\n",
    "    - Segment\n",
    "    - Brand\n",
    "    - Unit_price\n",
    "\n",
    "- The first four attributes are categorical variables and Unit_price is a numerical variable.\n",
    "- Each of these variables needs a different strategy to deal with missing data."
   ]
  },
  {
   "cell_type": "markdown",
   "id": "264744ec",
   "metadata": {},
   "source": [
    "#### Dealing with missing values in *Unit_price*\n",
    "- We have discussed earlier in the course that *Unit_price* is a derived column. \n",
    "- That is, if we closely observe the values of *Unit_price*, *Revenue* and *Units_sold*, we can make out that \n",
    "\n",
    "$$ UnitPrice = \\frac{Revenue}{UnitsSold} $$\n",
    "- So, wherever *Revenue* and *Units_sold* are not available, the *Unit_price* is empty, which in-turn treated by Python as missing values.\n",
    "- Hence, we can afford to delete the entire column."
   ]
  },
  {
   "cell_type": "markdown",
   "id": "0cc5289d",
   "metadata": {},
   "source": [
    "**NOTE** that, by deleting this column, we are actually doing two data preprocessing tasks:\n",
    "- Dealing with missing values by removing the column, and \n",
    "- Feature selection by deciding that this attribute is not a relevant one for our analysis and hence reducing the dimensionality of the data."
   ]
  },
  {
   "cell_type": "code",
   "execution_count": 79,
   "id": "d8efb654",
   "metadata": {
    "code_folding": []
   },
   "outputs": [
    {
     "data": {
      "text/plain": [
       "(31185, 10)"
      ]
     },
     "execution_count": 79,
     "metadata": {},
     "output_type": "execute_result"
    }
   ],
   "source": [
    "#drop the column\n",
    "pos_data = pos_data.drop(['Unit_price'], axis=1)\n",
    "pos_data.shape "
   ]
  },
  {
   "cell_type": "code",
   "execution_count": null,
   "id": "2c44054a",
   "metadata": {},
   "outputs": [],
   "source": []
  },
  {
   "cell_type": "code",
   "execution_count": null,
   "id": "461df571",
   "metadata": {},
   "outputs": [],
   "source": []
  },
  {
   "cell_type": "code",
   "execution_count": null,
   "id": "69d326f0",
   "metadata": {},
   "outputs": [],
   "source": []
  },
  {
   "cell_type": "code",
   "execution_count": null,
   "id": "15be1822",
   "metadata": {},
   "outputs": [],
   "source": []
  },
  {
   "cell_type": "code",
   "execution_count": null,
   "id": "0cdad1ff",
   "metadata": {},
   "outputs": [],
   "source": []
  },
  {
   "cell_type": "markdown",
   "id": "ca566b73",
   "metadata": {},
   "source": [
    "### Part 4.1.3  : What to do with missing data - part III"
   ]
  },
  {
   "cell_type": "markdown",
   "id": "0785e3a8",
   "metadata": {},
   "source": [
    "### Dealing with missing values in *Sector, Category, Segment, Brand*\n",
    "- By now we know that there is a hierarchical relationship between these attributes in the same order of their appearance in the dataset. \n",
    "- So, we cannot treat these attributes independently and simply impute the missing values by mode of the column. \n",
    "- Hence, we must apply domain knowledge here and impute with appropriate value.\n",
    "- For example, if a value is missing in *Sector*, we can check the corresponding value in *Category* and/or *Segment* to understand to which sector that particular product belongs."
   ]
  },
  {
   "cell_type": "markdown",
   "id": "f28df90a",
   "metadata": {},
   "source": [
    "**Some observations that will help in designing the logic for filling missing values in these columns:**\n",
    "- We observed earlier in this course that the segment *Liquid* is listed under two different categories viz. *Laundry Detergents* and *Fabric Softeners*.\n",
    "- So, if we write generalized code to search for segment name and then the corresponding category, there will be an ambiguity.\n",
    "- When we goto replacing missing values in the *Brand* column, we will face similar problems.\n",
    "- So, to achieve the right mapping, let us rename *Liquid* to *Laundry_Liquid* when the category is *Laundry Detergents* and to *Fabric_Liquid* when the category is *Fabric Softeners*\n",
    "- **There is a catch here** - There are few records where Category is missing! How do we make out whether the segments in such records are to be filled with *Laundry_Liquid* or *Fabric_Liquid*?\n",
    "- **Answer:** Take the help of *Brand*. We can observe from the dataset that *Tide* and *Gain* are the brand names under *Laundry Detergents* and *Downy* and *comfort* are the brands under *Fabric Softeners*. So, we will use this information as well while replacing the names of *Liquid*.\n",
    "- **Problem is not solved yet!** We have 3 records where Category, Segment and Brand are all missing. We can now take the help of Sector. The segment whose value we are going to modify belongs to Fabric Care.  So, we will take the mode the category (which is Laundry Detergents) and hence replace the segment *Liquid* of these 3 rows as *Laundry_Liquid*"
   ]
  },
  {
   "cell_type": "markdown",
   "id": "f68732e4",
   "metadata": {},
   "source": [
    "**So let's give it a shot**"
   ]
  },
  {
   "cell_type": "code",
   "execution_count": 80,
   "id": "d10c0e20",
   "metadata": {
    "code_folding": []
   },
   "outputs": [
    {
     "data": {
      "text/plain": [
       "Liquid                         7273\n",
       "Powder                         6164\n",
       "Anti-aging                     3406\n",
       "Shampoo                        2545\n",
       "Suncreens                      1676\n",
       "Dryer Sheets                   1090\n",
       "Conditioners                   1075\n",
       "Kids Toothbrushes              1065\n",
       "Manual Toothbrushes            1065\n",
       "Electric Toothbrushes          1061\n",
       "Pods                           1009\n",
       "Fluoride-Free Toothpaste        648\n",
       "Whitening Toothpaste            632\n",
       "Sensitivity Toothpaste          623\n",
       "Acne                            561\n",
       "Alcohol-Free Mouthwash          433\n",
       "Fluoride Mouthwash              426\n",
       "Breath-Freshening Mouthwash     404\n",
       "Name: Segment, dtype: int64"
      ]
     },
     "execution_count": 80,
     "metadata": {},
     "output_type": "execute_result"
    }
   ],
   "source": [
    "# how many of each unique segment do we have?\n",
    "pos_data.Segment.value_counts()"
   ]
  },
  {
   "cell_type": "markdown",
   "id": "28149268",
   "metadata": {},
   "source": [
    "**Observe that Liquid is showing up only once. That means, it is a combined result from two different categories Laundry Detergents and Fabric Softners**"
   ]
  },
  {
   "cell_type": "code",
   "execution_count": 81,
   "id": "8e82fdc4",
   "metadata": {
    "code_folding": []
   },
   "outputs": [
    {
     "data": {
      "text/plain": [
       "0    Laundry Detergents\n",
       "Name: Category, dtype: object"
      ]
     },
     "execution_count": 81,
     "metadata": {},
     "output_type": "execute_result"
    }
   ],
   "source": [
    "# find the mode of the category - this is required when category, segment, brand all are missing\n",
    "pos_data.Category.mode()   "
   ]
  },
  {
   "cell_type": "code",
   "execution_count": 82,
   "id": "803a5682",
   "metadata": {
    "code_folding": []
   },
   "outputs": [],
   "source": [
    "# write a function to perform the replace operation\n",
    "def Replace_Liquid_Segment(row):\n",
    "    if row['Segment']=='Liquid':\n",
    "        if (row['Category']=='Laundry Detergents' or row['Brand']=='Tide' or row['Brand']=='Gain') :\n",
    "            return 'Laundry_Liquid'\n",
    "        elif row['Category']=='Fabric Softeners' or row['Brand']=='Downy' or row['Brand']=='comfort':\n",
    "            return \"Fabric_Liquid\"\n",
    "        else:\n",
    "            return 'Laundry_Liquid'        # using the modal value as the replacement when we run out of options \n",
    "    return row['Segment']"
   ]
  },
  {
   "cell_type": "code",
   "execution_count": 83,
   "id": "8b47405c",
   "metadata": {
    "code_folding": []
   },
   "outputs": [
    {
     "data": {
      "text/plain": [
       "Powder                         6164\n",
       "Fabric_Liquid                  4279\n",
       "Anti-aging                     3406\n",
       "Laundry_Liquid                 2994\n",
       "Shampoo                        2545\n",
       "Suncreens                      1676\n",
       "Dryer Sheets                   1090\n",
       "Conditioners                   1075\n",
       "Kids Toothbrushes              1065\n",
       "Manual Toothbrushes            1065\n",
       "Electric Toothbrushes          1061\n",
       "Pods                           1009\n",
       "Fluoride-Free Toothpaste        648\n",
       "Whitening Toothpaste            632\n",
       "Sensitivity Toothpaste          623\n",
       "Acne                            561\n",
       "Alcohol-Free Mouthwash          433\n",
       "Fluoride Mouthwash              426\n",
       "Breath-Freshening Mouthwash     404\n",
       "Name: Segment, dtype: int64"
      ]
     },
     "execution_count": 83,
     "metadata": {},
     "output_type": "execute_result"
    }
   ],
   "source": [
    "# apply the function to replace \n",
    "pos_data['Segment'] = pos_data.apply(Replace_Liquid_Segment, axis = 1)\n",
    "pos_data.Segment.value_counts()"
   ]
  },
  {
   "cell_type": "markdown",
   "id": "563aaac7",
   "metadata": {},
   "source": [
    "**We can now see that we have two new segment names Fabric_Liquid and Laundry_Liquid, instead of Liquid**"
   ]
  },
  {
   "cell_type": "markdown",
   "id": "b853d980",
   "metadata": {},
   "source": [
    "**Let us now list out the records/rows with missing values. This will later help us to observe these rows to view and confirm whether the correct value is filled or not.**"
   ]
  },
  {
   "cell_type": "code",
   "execution_count": 85,
   "id": "edc664a6",
   "metadata": {
    "code_folding": []
   },
   "outputs": [
    {
     "name": "stdout",
     "output_type": "stream",
     "text": [
      "Total number of rows containing missig values: 128\n",
      "The row numbers containing missing value:\n",
      " [14, 16, 3223, 3229, 3234, 3236, 3238, 7280, 7281, 7282, 7286, 7287, 7335, 7336, 7337, 7351, 7352, 7354, 7355, 7357, 7360, 7361, 7364, 7374, 7375, 7379, 7382, 7395, 7396, 7398, 7400, 7401, 7403, 7410, 7412, 7429, 7430, 7432, 7434, 7463, 7464, 7465, 7467, 7468, 7471, 7472, 7488, 7489, 7493, 7494, 7495, 7497, 7498, 7577, 7578, 7579, 7580, 7581, 7582, 7583, 7586, 7587, 7601, 7602, 7604, 7611, 7612, 7613, 7614, 7615, 7619, 7620, 7623, 7624, 7625, 7626, 7627, 7628, 7629, 10335, 10336, 10337, 10338, 10339, 10340, 10342, 10343, 10344, 10345, 10346, 18061, 18062, 18065, 18066, 18069, 18070, 18071, 18072, 18073, 18074, 18075, 18601, 18605, 18606, 18611, 18614, 18617, 18620, 22790, 22794, 22795, 22796, 22798, 27694, 27697, 27700, 27701, 27703, 31165, 31166, 31167, 31172, 31173, 31176, 31178, 31181, 31182, 31183]\n"
     ]
    }
   ],
   "source": [
    "# check the records with missing values\n",
    "missing_data = pos_data[pos_data.isnull().any(axis = 1)].index.tolist()\n",
    "print('Total number of rows containing missig values:', len(missing_data))\n",
    "print('The row numbers containing missing value:\\n', missing_data)"
   ]
  },
  {
   "cell_type": "code",
   "execution_count": 86,
   "id": "f846b7f2",
   "metadata": {
    "code_folding": []
   },
   "outputs": [
    {
     "data": {
      "text/plain": [
       "SKU ID           0\n",
       "Date             0\n",
       "Manufacturer     0\n",
       "Sector          50\n",
       "Category        36\n",
       "Segment         29\n",
       "Brand           27\n",
       "Revenue($)       0\n",
       "Units_sold       0\n",
       "Page_traffic     0\n",
       "dtype: int64"
      ]
     },
     "execution_count": 86,
     "metadata": {},
     "output_type": "execute_result"
    }
   ],
   "source": [
    "# a quick check on the extent of missing data\n",
    "pos_data.isna().sum()"
   ]
  },
  {
   "cell_type": "markdown",
   "id": "1a552684",
   "metadata": {},
   "source": [
    "### Logic for filling missing values in the *Sector* column\n",
    "1. Create a list of different Sectors (Oral Care, Fabric Care and Beauty & Personal Care)\n",
    "2. Create a dictionary of sector and categories under each sector. Here, sector name will be the key, and a list of categories under each sector will be the corresponding value.\n",
    "3. Create a user-defined function which maps the sector and category.\n",
    "    - Pick a row where sector is missing.\n",
    "    - Check what's the value of category in that row.\n",
    "    - If the category is not a null value, then findout the corresponding sector name using the dictionary created in step (2) above. \n",
    "    - return the value of appropriate sector.\n",
    "4. Use the `apply()` method from pandas to invoke the function created above."
   ]
  },
  {
   "cell_type": "code",
   "execution_count": 90,
   "id": "e47ce2f3",
   "metadata": {
    "code_folding": []
   },
   "outputs": [],
   "source": [
    "# create a list of sectors\n",
    "Sector_List = pos_data['Sector'].value_counts().index.tolist()\n",
    "Sector_Category_dict={}"
   ]
  },
  {
   "cell_type": "code",
   "execution_count": 93,
   "id": "e8cf93a9",
   "metadata": {},
   "outputs": [
    {
     "name": "stdout",
     "output_type": "stream",
     "text": [
      "['Fabric Care', 'Beauty and Personal Care', 'Oral Care']\n"
     ]
    }
   ],
   "source": [
    "print(Sector_List)"
   ]
  },
  {
   "cell_type": "code",
   "execution_count": 94,
   "id": "c20711d4",
   "metadata": {
    "code_folding": []
   },
   "outputs": [
    {
     "data": {
      "text/plain": [
       "{'Fabric Care': ['Laundry Detergents', 'Fabric Softeners'],\n",
       " 'Beauty and Personal Care': ['Skincare', 'Haircare'],\n",
       " 'Oral Care': ['Toothbrushes', 'Toothpaste', 'Mouthwash']}"
      ]
     },
     "execution_count": 94,
     "metadata": {},
     "output_type": "execute_result"
    }
   ],
   "source": [
    "# create a dictionary: sector as key, categories under each sector as a value-list.\n",
    "\n",
    "for i in Sector_List:\n",
    "    Sector_Category_dict[i] = pos_data.loc[pos_data['Sector']==i].Category.value_counts().index.tolist()\n",
    "\n",
    "Sector_Category_dict      #display the dictionary"
   ]
  },
  {
   "cell_type": "code",
   "execution_count": 95,
   "id": "9774d295",
   "metadata": {
    "code_folding": []
   },
   "outputs": [],
   "source": [
    "# define a function to choose the correct Sector based on the value of corresponding Category\n",
    "def Sector_Category_map(row):\n",
    "    if pd.isna(row['Sector']):                    #if sector is null\n",
    "        if not pd.isna(row['Category']):          #if category is not null\n",
    "            for k, v in Sector_Category_dict.items():\n",
    "                if row['Category'] in Sector_Category_dict[k]:\n",
    "                    return k                      # k is the correct sector for category value v\n",
    "    else:\n",
    "        return row['Sector']           #if sector was not null, return the existing value of sector as is"
   ]
  },
  {
   "cell_type": "code",
   "execution_count": 96,
   "id": "56583bdc",
   "metadata": {
    "code_folding": []
   },
   "outputs": [],
   "source": [
    "# use apply() method to call the mapping function created above\n",
    "pos_data['Sector'] = pos_data.apply(Sector_Category_map, axis=1)"
   ]
  },
  {
   "cell_type": "code",
   "execution_count": 97,
   "id": "949d5406",
   "metadata": {
    "code_folding": [
     0
    ]
   },
   "outputs": [
    {
     "data": {
      "text/plain": [
       "SKU ID           0\n",
       "Date             0\n",
       "Manufacturer     0\n",
       "Sector           3\n",
       "Category        36\n",
       "Segment         29\n",
       "Brand           27\n",
       "Revenue($)       0\n",
       "Units_sold       0\n",
       "Page_traffic     0\n",
       "dtype: int64"
      ]
     },
     "execution_count": 97,
     "metadata": {},
     "output_type": "execute_result"
    }
   ],
   "source": [
    "# check missing values now\n",
    "pos_data.isna().sum()"
   ]
  },
  {
   "cell_type": "markdown",
   "id": "af0a799f",
   "metadata": {},
   "source": [
    "- There were 50 rows where *Sector* had a missing value.\n",
    "- After the process, we are now left with 3 missing values in *Sector*.\n",
    "- This is because, the corresponding *Category* is also missing in those rows, and hence we couldn't find the right match."
   ]
  },
  {
   "cell_type": "code",
   "execution_count": null,
   "id": "63595b5e",
   "metadata": {},
   "outputs": [],
   "source": []
  },
  {
   "cell_type": "code",
   "execution_count": null,
   "id": "88cc4855",
   "metadata": {},
   "outputs": [],
   "source": []
  },
  {
   "cell_type": "code",
   "execution_count": null,
   "id": "a9876350",
   "metadata": {},
   "outputs": [],
   "source": []
  },
  {
   "cell_type": "code",
   "execution_count": null,
   "id": "6663a654",
   "metadata": {},
   "outputs": [],
   "source": []
  },
  {
   "cell_type": "code",
   "execution_count": null,
   "id": "48506ca4",
   "metadata": {},
   "outputs": [],
   "source": []
  },
  {
   "cell_type": "markdown",
   "id": "5a9097db",
   "metadata": {},
   "source": [
    "### Part 4.1.4  :  What to do with missing values? - part IV"
   ]
  },
  {
   "cell_type": "markdown",
   "id": "caa752ab",
   "metadata": {},
   "source": [
    "### Logic for filling missing values in *Category* column\n",
    "1. Create a list of different Categories (like Laundry Detergents, Fabric Softners etc.)\n",
    "2. Create a dictionary of category and segment under each category. Here, category name will be the key, and a list of segments under each category will be the corresponding value.\n",
    "3. Create a user-defined function which maps the category and segment (similar to the one we created before for mapping sector and category), and return the appropriate value of category. \n",
    "4. Use the `apply()` method to invoke the function created above."
   ]
  },
  {
   "cell_type": "code",
   "execution_count": 98,
   "id": "513d1443",
   "metadata": {
    "code_folding": []
   },
   "outputs": [
    {
     "name": "stdout",
     "output_type": "stream",
     "text": [
      "['Laundry Detergents', 'Fabric Softeners', 'Skincare', 'Haircare', 'Toothbrushes', 'Toothpaste', 'Mouthwash']\n"
     ]
    }
   ],
   "source": [
    "# create a list of categories\n",
    "CategoryList = list(np.concatenate(list(Sector_Category_dict.values())))\n",
    "print(CategoryList)"
   ]
  },
  {
   "cell_type": "code",
   "execution_count": 99,
   "id": "98224b0e",
   "metadata": {
    "code_folding": []
   },
   "outputs": [],
   "source": [
    "# create a dictionary: category as key, segments under each category as a value-list.\n",
    "Category_Segment_dict={}\n",
    "for i in CategoryList:\n",
    "    Category_Segment_dict[i] = pos_data.loc[pos_data['Category']==i].Segment.value_counts().index.tolist()"
   ]
  },
  {
   "cell_type": "code",
   "execution_count": 100,
   "id": "f54fbb45",
   "metadata": {
    "code_folding": []
   },
   "outputs": [
    {
     "data": {
      "text/plain": [
       "{'Laundry Detergents': ['Powder', 'Laundry_Liquid', 'Pods'],\n",
       " 'Fabric Softeners': ['Fabric_Liquid', 'Dryer Sheets'],\n",
       " 'Skincare': ['Anti-aging', 'Suncreens', 'Acne'],\n",
       " 'Haircare': ['Shampoo', 'Conditioners'],\n",
       " 'Toothbrushes': ['Manual Toothbrushes',\n",
       "  'Kids Toothbrushes',\n",
       "  'Electric Toothbrushes'],\n",
       " 'Toothpaste': ['Fluoride-Free Toothpaste',\n",
       "  'Whitening Toothpaste',\n",
       "  'Sensitivity Toothpaste'],\n",
       " 'Mouthwash': ['Alcohol-Free Mouthwash',\n",
       "  'Fluoride Mouthwash',\n",
       "  'Breath-Freshening Mouthwash']}"
      ]
     },
     "execution_count": 100,
     "metadata": {},
     "output_type": "execute_result"
    }
   ],
   "source": [
    "#display the dictionary\n",
    "Category_Segment_dict           "
   ]
  },
  {
   "cell_type": "code",
   "execution_count": 101,
   "id": "c283a528",
   "metadata": {
    "code_folding": []
   },
   "outputs": [],
   "source": [
    "# define a function to choose the correct Category based on the value of corresponding segment\n",
    "def Category_Segment_map(row):\n",
    "    if pd.isna(row['Category']):                    # if category is null\n",
    "        if not pd.isna(row['Segment']):             # if Segment is not null\n",
    "            for k, v in Category_Segment_dict.items():\n",
    "                if row['Segment'] in Category_Segment_dict[k]:\n",
    "                    return k                         # k is the correct category for the segment value v\n",
    "    return row['Category']                  # if category was not null, return the existing value of category as is"
   ]
  },
  {
   "cell_type": "code",
   "execution_count": 102,
   "id": "00a4b1ca",
   "metadata": {
    "code_folding": []
   },
   "outputs": [
    {
     "data": {
      "text/plain": [
       "SKU ID           0\n",
       "Date             0\n",
       "Manufacturer     0\n",
       "Sector           3\n",
       "Category         0\n",
       "Segment         29\n",
       "Brand           27\n",
       "Revenue($)       0\n",
       "Units_sold       0\n",
       "Page_traffic     0\n",
       "dtype: int64"
      ]
     },
     "execution_count": 102,
     "metadata": {},
     "output_type": "execute_result"
    }
   ],
   "source": [
    "# use apply() method to call the mapping function created above\n",
    "pos_data['Category']=pos_data.apply(Category_Segment_map, axis=1)\n",
    "pos_data.isna().sum()"
   ]
  },
  {
   "cell_type": "markdown",
   "id": "5b412c11",
   "metadata": {},
   "source": [
    "***Inference:***\n",
    "- There were 36 rows where *Category* had a missing value.\n",
    "- After the process, all missing values in *Category* are filled. \n",
    "- This means that there is no row where both *Category* and *Segment* are missing.\n",
    "- Now, given that all categories have filled, we can call the map function between sector and category once again to fill the 3 values of sector, which were remaining in the previous step. "
   ]
  },
  {
   "cell_type": "markdown",
   "id": "f30fe48f",
   "metadata": {},
   "source": [
    "#### Fill missing values in *Sector* column again, as all Categories have been filled now"
   ]
  },
  {
   "cell_type": "code",
   "execution_count": 103,
   "id": "be6e0f6a",
   "metadata": {
    "code_folding": []
   },
   "outputs": [
    {
     "data": {
      "text/plain": [
       "SKU ID           0\n",
       "Date             0\n",
       "Manufacturer     0\n",
       "Sector           0\n",
       "Category         0\n",
       "Segment         29\n",
       "Brand           27\n",
       "Revenue($)       0\n",
       "Units_sold       0\n",
       "Page_traffic     0\n",
       "dtype: int64"
      ]
     },
     "execution_count": 103,
     "metadata": {},
     "output_type": "execute_result"
    }
   ],
   "source": [
    "# since all Categories are now filled, call the function to fill the remaining missing values for Sector\n",
    "pos_data['Sector'] = pos_data.apply(Sector_Category_map, axis = 1)\n",
    "pos_data.isna().sum()"
   ]
  },
  {
   "cell_type": "markdown",
   "id": "01dfc876",
   "metadata": {},
   "source": [
    "- We can now observe that there are no more missing values under *Sector* and *Category*"
   ]
  },
  {
   "cell_type": "code",
   "execution_count": null,
   "id": "e4a0459a",
   "metadata": {},
   "outputs": [],
   "source": []
  },
  {
   "cell_type": "code",
   "execution_count": null,
   "id": "a1d8ddf3",
   "metadata": {},
   "outputs": [],
   "source": []
  },
  {
   "cell_type": "code",
   "execution_count": null,
   "id": "b98aa26e",
   "metadata": {},
   "outputs": [],
   "source": []
  },
  {
   "cell_type": "code",
   "execution_count": null,
   "id": "c4eeb729",
   "metadata": {},
   "outputs": [],
   "source": []
  },
  {
   "cell_type": "code",
   "execution_count": null,
   "id": "34b51962",
   "metadata": {},
   "outputs": [],
   "source": []
  },
  {
   "cell_type": "markdown",
   "id": "0ee48a75",
   "metadata": {},
   "source": [
    "### Part 4.1.5  :  What to do with missing values? - part V"
   ]
  },
  {
   "cell_type": "markdown",
   "id": "0d3ffdc4",
   "metadata": {},
   "source": [
    "### Logic for filling missing values in *Segment* column\n",
    "1. Create a list of different segments (like Powder, Pods etc.)\n",
    "2. Create a dictionary of segment and brand under each segment. Here, segment name will be the key, and a list of brands under each segment will be the value corresponding that key.\n",
    "3. Create a user-defined function which maps the segment and brand, and return the appropriate value of segment. \n",
    "4. Use the `apply()` method to invoke the function created above."
   ]
  },
  {
   "cell_type": "code",
   "execution_count": 104,
   "id": "4afa1eff",
   "metadata": {
    "code_folding": []
   },
   "outputs": [
    {
     "name": "stdout",
     "output_type": "stream",
     "text": [
      "['Powder', 'Laundry_Liquid', 'Pods', 'Fabric_Liquid', 'Dryer Sheets', 'Anti-aging', 'Suncreens', 'Acne', 'Shampoo', 'Conditioners', 'Manual Toothbrushes', 'Kids Toothbrushes', 'Electric Toothbrushes', 'Fluoride-Free Toothpaste', 'Whitening Toothpaste', 'Sensitivity Toothpaste', 'Alcohol-Free Mouthwash', 'Fluoride Mouthwash', 'Breath-Freshening Mouthwash']\n"
     ]
    }
   ],
   "source": [
    "# create the list of segment names\n",
    "SegmentList = list(np.concatenate(list(Category_Segment_dict.values())))\n",
    "print(SegmentList)"
   ]
  },
  {
   "cell_type": "code",
   "execution_count": 105,
   "id": "b1f81c81",
   "metadata": {
    "code_folding": []
   },
   "outputs": [
    {
     "data": {
      "text/plain": [
       "{'Powder': ['Ariel', 'Gain'],\n",
       " 'Laundry_Liquid': ['Tide', 'Gain'],\n",
       " 'Pods': ['Tide', 'Gain'],\n",
       " 'Fabric_Liquid': ['comfort', 'Downy'],\n",
       " 'Dryer Sheets': ['Bounce', 'Gain'],\n",
       " 'Anti-aging': ['Clinique', 'Olay'],\n",
       " 'Suncreens': ['Aveeno', 'Cetaphil'],\n",
       " 'Acne': ['Neutrogena', 'Cetaphil'],\n",
       " 'Shampoo': ['Pantene', 'Dove'],\n",
       " 'Conditioners': ['Dove', 'Pantene'],\n",
       " 'Manual Toothbrushes': ['Colgate', 'Oral-B'],\n",
       " 'Kids Toothbrushes': ['Colgate', 'Oral-B'],\n",
       " 'Electric Toothbrushes': ['Philips', 'Oral-B'],\n",
       " 'Fluoride-Free Toothpaste': [\"Tom's of Maine\", 'Himalaya Herbals'],\n",
       " 'Whitening Toothpaste': ['Close-up', 'Colgate'],\n",
       " 'Sensitivity Toothpaste': ['Sensodyne', 'Colgate'],\n",
       " 'Alcohol-Free Mouthwash': ['Crest', 'Colgate'],\n",
       " 'Fluoride Mouthwash': ['Listerine', 'Crest'],\n",
       " 'Breath-Freshening Mouthwash': ['Scope', 'Colgate']}"
      ]
     },
     "execution_count": 105,
     "metadata": {},
     "output_type": "execute_result"
    }
   ],
   "source": [
    "# create the dictionary\n",
    "Segment_Brand_dict={}\n",
    "for i in SegmentList:\n",
    "    Segment_Brand_dict[i]=pos_data.loc[pos_data['Segment']==i].Brand.value_counts().index.tolist()\n",
    "    \n",
    "Segment_Brand_dict"
   ]
  },
  {
   "cell_type": "code",
   "execution_count": 106,
   "id": "2cfb9d04",
   "metadata": {
    "code_folding": []
   },
   "outputs": [],
   "source": [
    "# define a function to choose the correct Segment based on the value of corresponding Brand\n",
    "def Segment_Brand_map(row):\n",
    "    if pd.isna(row['Segment']):                    #if category is null\n",
    "        if not pd.isna(row['Brand']):          #if Segment is not null\n",
    "            for k, v in Segment_Brand_dict.items():\n",
    "                if row['Brand'] in Segment_Brand_dict[k]:\n",
    "                    return k\n",
    "    else:\n",
    "        return row['Segment']"
   ]
  },
  {
   "cell_type": "code",
   "execution_count": 107,
   "id": "74660dcd",
   "metadata": {
    "code_folding": []
   },
   "outputs": [
    {
     "data": {
      "text/plain": [
       "SKU ID           0\n",
       "Date             0\n",
       "Manufacturer     0\n",
       "Sector           0\n",
       "Category         0\n",
       "Segment          0\n",
       "Brand           27\n",
       "Revenue($)       0\n",
       "Units_sold       0\n",
       "Page_traffic     0\n",
       "dtype: int64"
      ]
     },
     "execution_count": 107,
     "metadata": {},
     "output_type": "execute_result"
    }
   ],
   "source": [
    "# apply the function\n",
    "pos_data['Segment'] = pos_data.apply(Segment_Brand_map, axis = 1)\n",
    "pos_data.isna().sum()"
   ]
  },
  {
   "cell_type": "markdown",
   "id": "6f2599f9",
   "metadata": {},
   "source": [
    "### Logic for filling missing values in *Brand* column\n",
    "- We don't have any further hierarchy after Brand. \n",
    "- So, missing values in Brand should be imputed in a different way.\n",
    "- Check where is NaN in Brand\n",
    "- Then select corresponding Segment, say s\n",
    "- Then get the mode of Brand where segment is s\n",
    "- Fill brand with that mode\n"
   ]
  },
  {
   "cell_type": "code",
   "execution_count": 108,
   "id": "9d2503e5",
   "metadata": {
    "code_folding": []
   },
   "outputs": [],
   "source": [
    "# write a function to fill the brand value based on the mode of existing brands for each segment\n",
    "def Brand_fill(row):\n",
    "    if pd.isna(row['Brand']):\n",
    "        return pos_data.loc[pos_data['Segment']==row['Segment']]['Brand'].mode()[0]\n",
    "\n",
    "    return row['Brand']"
   ]
  },
  {
   "cell_type": "code",
   "execution_count": 109,
   "id": "24b71d8f",
   "metadata": {
    "code_folding": []
   },
   "outputs": [
    {
     "data": {
      "text/plain": [
       "SKU ID          0\n",
       "Date            0\n",
       "Manufacturer    0\n",
       "Sector          0\n",
       "Category        0\n",
       "Segment         0\n",
       "Brand           0\n",
       "Revenue($)      0\n",
       "Units_sold      0\n",
       "Page_traffic    0\n",
       "dtype: int64"
      ]
     },
     "execution_count": 109,
     "metadata": {},
     "output_type": "execute_result"
    }
   ],
   "source": [
    "# apply the function\n",
    "pos_data['Brand']=pos_data.apply(Brand_fill, axis=1)\n",
    "pos_data.isna().sum()"
   ]
  },
  {
   "cell_type": "markdown",
   "id": "9d2a6e59",
   "metadata": {},
   "source": [
    "- We can see that now our data has no more missing values.\n",
    "- Let us store this dataframe in the directory, as we need this for further processes like data normalization, data transformation etc."
   ]
  },
  {
   "cell_type": "code",
   "execution_count": 110,
   "id": "2339ab1d",
   "metadata": {
    "code_folding": [],
    "scrolled": true
   },
   "outputs": [
    {
     "data": {
      "text/html": [
       "<div>\n",
       "<style scoped>\n",
       "    .dataframe tbody tr th:only-of-type {\n",
       "        vertical-align: middle;\n",
       "    }\n",
       "\n",
       "    .dataframe tbody tr th {\n",
       "        vertical-align: top;\n",
       "    }\n",
       "\n",
       "    .dataframe thead th {\n",
       "        text-align: right;\n",
       "    }\n",
       "</style>\n",
       "<table border=\"1\" class=\"dataframe\">\n",
       "  <thead>\n",
       "    <tr style=\"text-align: right;\">\n",
       "      <th></th>\n",
       "      <th>SKU ID</th>\n",
       "      <th>Date</th>\n",
       "      <th>Manufacturer</th>\n",
       "      <th>Sector</th>\n",
       "      <th>Category</th>\n",
       "      <th>Segment</th>\n",
       "      <th>Brand</th>\n",
       "      <th>Revenue($)</th>\n",
       "      <th>Units_sold</th>\n",
       "      <th>Page_traffic</th>\n",
       "    </tr>\n",
       "  </thead>\n",
       "  <tbody>\n",
       "    <tr>\n",
       "      <th>14</th>\n",
       "      <td>SKU1068</td>\n",
       "      <td>10-02-21</td>\n",
       "      <td>Synergix solutions</td>\n",
       "      <td>Oral Care</td>\n",
       "      <td>Toothpaste</td>\n",
       "      <td>Fluoride-Free Toothpaste</td>\n",
       "      <td>Himalaya Herbals</td>\n",
       "      <td>24734</td>\n",
       "      <td>2091</td>\n",
       "      <td>5142.0</td>\n",
       "    </tr>\n",
       "    <tr>\n",
       "      <th>16</th>\n",
       "      <td>SKU1069</td>\n",
       "      <td>10/29/2022</td>\n",
       "      <td>Synergix solutions</td>\n",
       "      <td>Oral Care</td>\n",
       "      <td>Toothpaste</td>\n",
       "      <td>Fluoride-Free Toothpaste</td>\n",
       "      <td>Himalaya Herbals</td>\n",
       "      <td>29246</td>\n",
       "      <td>1774</td>\n",
       "      <td>3593.0</td>\n",
       "    </tr>\n",
       "    <tr>\n",
       "      <th>3223</th>\n",
       "      <td>SKU1130</td>\n",
       "      <td>12-10-22</td>\n",
       "      <td>Synergix solutions</td>\n",
       "      <td>Oral Care</td>\n",
       "      <td>Toothbrushes</td>\n",
       "      <td>Manual Toothbrushes</td>\n",
       "      <td>Colgate</td>\n",
       "      <td>0</td>\n",
       "      <td>0</td>\n",
       "      <td>0.0</td>\n",
       "    </tr>\n",
       "    <tr>\n",
       "      <th>3229</th>\n",
       "      <td>SKU1116</td>\n",
       "      <td>8/28/2021</td>\n",
       "      <td>Synergix solutions</td>\n",
       "      <td>Oral Care</td>\n",
       "      <td>Toothbrushes</td>\n",
       "      <td>Manual Toothbrushes</td>\n",
       "      <td>Oral-B</td>\n",
       "      <td>0</td>\n",
       "      <td>0</td>\n",
       "      <td>0.0</td>\n",
       "    </tr>\n",
       "    <tr>\n",
       "      <th>3234</th>\n",
       "      <td>SKU1119</td>\n",
       "      <td>04-03-21</td>\n",
       "      <td>Synergix solutions</td>\n",
       "      <td>Oral Care</td>\n",
       "      <td>Toothbrushes</td>\n",
       "      <td>Manual Toothbrushes</td>\n",
       "      <td>Oral-B</td>\n",
       "      <td>16435</td>\n",
       "      <td>790</td>\n",
       "      <td>4014.0</td>\n",
       "    </tr>\n",
       "    <tr>\n",
       "      <th>3236</th>\n",
       "      <td>SKU1080</td>\n",
       "      <td>10/23/2021</td>\n",
       "      <td>Synergix solutions</td>\n",
       "      <td>Oral Care</td>\n",
       "      <td>Toothbrushes</td>\n",
       "      <td>Electric Toothbrushes</td>\n",
       "      <td>Philips</td>\n",
       "      <td>29557</td>\n",
       "      <td>1262</td>\n",
       "      <td>3944.0</td>\n",
       "    </tr>\n",
       "    <tr>\n",
       "      <th>3238</th>\n",
       "      <td>SKU1096</td>\n",
       "      <td>6/18/2022</td>\n",
       "      <td>Synergix solutions</td>\n",
       "      <td>Oral Care</td>\n",
       "      <td>Toothbrushes</td>\n",
       "      <td>Kids Toothbrushes</td>\n",
       "      <td>Colgate</td>\n",
       "      <td>34629</td>\n",
       "      <td>1220</td>\n",
       "      <td>3663.0</td>\n",
       "    </tr>\n",
       "    <tr>\n",
       "      <th>7280</th>\n",
       "      <td>SKU1201</td>\n",
       "      <td>10/16/2021</td>\n",
       "      <td>Synergix solutions</td>\n",
       "      <td>Fabric Care</td>\n",
       "      <td>Fabric Softeners</td>\n",
       "      <td>Fabric_Liquid</td>\n",
       "      <td>comfort</td>\n",
       "      <td>28168</td>\n",
       "      <td>1609</td>\n",
       "      <td>3233.0</td>\n",
       "    </tr>\n",
       "    <tr>\n",
       "      <th>7281</th>\n",
       "      <td>SKU1199</td>\n",
       "      <td>11/13/2021</td>\n",
       "      <td>Synergix solutions</td>\n",
       "      <td>Fabric Care</td>\n",
       "      <td>Fabric Softeners</td>\n",
       "      <td>Fabric_Liquid</td>\n",
       "      <td>Downy</td>\n",
       "      <td>23290</td>\n",
       "      <td>1357</td>\n",
       "      <td>3289.0</td>\n",
       "    </tr>\n",
       "    <tr>\n",
       "      <th>7282</th>\n",
       "      <td>SKU1206</td>\n",
       "      <td>12-11-21</td>\n",
       "      <td>Synergix solutions</td>\n",
       "      <td>Fabric Care</td>\n",
       "      <td>Fabric Softeners</td>\n",
       "      <td>Fabric_Liquid</td>\n",
       "      <td>comfort</td>\n",
       "      <td>28117</td>\n",
       "      <td>1489</td>\n",
       "      <td>2714.0</td>\n",
       "    </tr>\n",
       "  </tbody>\n",
       "</table>\n",
       "</div>"
      ],
      "text/plain": [
       "       SKU ID        Date         Manufacturer       Sector          Category  \\\n",
       "14    SKU1068    10-02-21  Synergix solutions     Oral Care        Toothpaste   \n",
       "16    SKU1069  10/29/2022  Synergix solutions     Oral Care        Toothpaste   \n",
       "3223  SKU1130    12-10-22  Synergix solutions     Oral Care      Toothbrushes   \n",
       "3229  SKU1116   8/28/2021  Synergix solutions     Oral Care      Toothbrushes   \n",
       "3234  SKU1119    04-03-21  Synergix solutions     Oral Care      Toothbrushes   \n",
       "3236  SKU1080  10/23/2021  Synergix solutions     Oral Care      Toothbrushes   \n",
       "3238  SKU1096   6/18/2022  Synergix solutions     Oral Care      Toothbrushes   \n",
       "7280  SKU1201  10/16/2021  Synergix solutions   Fabric Care  Fabric Softeners   \n",
       "7281  SKU1199  11/13/2021  Synergix solutions   Fabric Care  Fabric Softeners   \n",
       "7282  SKU1206    12-11-21  Synergix solutions   Fabric Care  Fabric Softeners   \n",
       "\n",
       "                       Segment             Brand  Revenue($)  Units_sold  \\\n",
       "14    Fluoride-Free Toothpaste  Himalaya Herbals       24734        2091   \n",
       "16    Fluoride-Free Toothpaste  Himalaya Herbals       29246        1774   \n",
       "3223       Manual Toothbrushes           Colgate           0           0   \n",
       "3229       Manual Toothbrushes            Oral-B           0           0   \n",
       "3234       Manual Toothbrushes            Oral-B       16435         790   \n",
       "3236     Electric Toothbrushes           Philips       29557        1262   \n",
       "3238         Kids Toothbrushes           Colgate       34629        1220   \n",
       "7280             Fabric_Liquid           comfort       28168        1609   \n",
       "7281             Fabric_Liquid             Downy       23290        1357   \n",
       "7282             Fabric_Liquid           comfort       28117        1489   \n",
       "\n",
       "      Page_traffic  \n",
       "14          5142.0  \n",
       "16          3593.0  \n",
       "3223           0.0  \n",
       "3229           0.0  \n",
       "3234        4014.0  \n",
       "3236        3944.0  \n",
       "3238        3663.0  \n",
       "7280        3233.0  \n",
       "7281        3289.0  \n",
       "7282        2714.0  "
      ]
     },
     "execution_count": 110,
     "metadata": {},
     "output_type": "execute_result"
    }
   ],
   "source": [
    "# observe those 128 rows which had missing values initially\n",
    "# carefully check how the hierarchical relationship between the attributes is maintained while filling the missing values\n",
    "\n",
    "pos_data.loc[missing_data].head(10)"
   ]
  },
  {
   "cell_type": "code",
   "execution_count": 111,
   "id": "b8430458",
   "metadata": {
    "code_folding": []
   },
   "outputs": [],
   "source": [
    "# save this version of the data set\n",
    "pos_data.to_csv('POS_Filled_Data.csv')"
   ]
  },
  {
   "cell_type": "code",
   "execution_count": null,
   "id": "5a6dda10",
   "metadata": {},
   "outputs": [],
   "source": []
  },
  {
   "cell_type": "code",
   "execution_count": null,
   "id": "79e52ab6",
   "metadata": {},
   "outputs": [],
   "source": []
  },
  {
   "cell_type": "code",
   "execution_count": null,
   "id": "97e1cfb8",
   "metadata": {},
   "outputs": [],
   "source": []
  },
  {
   "cell_type": "code",
   "execution_count": null,
   "id": "094bd3af",
   "metadata": {},
   "outputs": [],
   "source": []
  },
  {
   "cell_type": "markdown",
   "id": "6a276450",
   "metadata": {},
   "source": [
    "### Part 4.1.6  : What to do with missing values? - Part VI\n",
    "- We have seen how to use domain knowledge to fill the missing values.\n",
    "- As our POS data had hierarchical relationships among columns, we had to devise the logic needed and had to write a good amount of code to fill the missing values appropriately.\n",
    "- However, not all data has be to treated like this. \n",
    "- We will take another dataset *UsedCars.csv* which has details about the resale price of the cars."
   ]
  },
  {
   "cell_type": "markdown",
   "id": "f8d6163a",
   "metadata": {},
   "source": [
    "**NOTE:**\n",
    "- Sometimes, the dataset may contain special characters to indicate missing values; that is, instead of a blank cell, we may have symbols like *?*, *#* etc. \n",
    "- Sometimes it may be even noted with the text *unavailable*, *unknown* etc.\n",
    "- So, it is always advisable to open the data file using Excel and observe such inconsistencies.\n",
    "- The pandas *read* method will identify a blank cell as a missing value (NaN), but it cannot identify any other charaters. Instead, it will treat it as a genuine cell value. \n",
    "- In such situations, while reading the data, we can specify what characters have to be treated as missing values or na values."
   ]
  },
  {
   "cell_type": "code",
   "execution_count": 112,
   "id": "049f586a",
   "metadata": {
    "code_folding": []
   },
   "outputs": [
    {
     "data": {
      "text/html": [
       "<div>\n",
       "<style scoped>\n",
       "    .dataframe tbody tr th:only-of-type {\n",
       "        vertical-align: middle;\n",
       "    }\n",
       "\n",
       "    .dataframe tbody tr th {\n",
       "        vertical-align: top;\n",
       "    }\n",
       "\n",
       "    .dataframe thead th {\n",
       "        text-align: right;\n",
       "    }\n",
       "</style>\n",
       "<table border=\"1\" class=\"dataframe\">\n",
       "  <thead>\n",
       "    <tr style=\"text-align: right;\">\n",
       "      <th></th>\n",
       "      <th>Price</th>\n",
       "      <th>Age</th>\n",
       "      <th>KM</th>\n",
       "      <th>FuelType</th>\n",
       "      <th>HP</th>\n",
       "      <th>MetColor</th>\n",
       "      <th>Automatic</th>\n",
       "      <th>CC</th>\n",
       "      <th>Doors</th>\n",
       "      <th>Weight</th>\n",
       "    </tr>\n",
       "  </thead>\n",
       "  <tbody>\n",
       "    <tr>\n",
       "      <th>0</th>\n",
       "      <td>13500</td>\n",
       "      <td>23.0</td>\n",
       "      <td>46986.0</td>\n",
       "      <td>Diesel</td>\n",
       "      <td>90.0</td>\n",
       "      <td>1.0</td>\n",
       "      <td>0</td>\n",
       "      <td>2000</td>\n",
       "      <td>three</td>\n",
       "      <td>1165</td>\n",
       "    </tr>\n",
       "    <tr>\n",
       "      <th>1</th>\n",
       "      <td>13750</td>\n",
       "      <td>23.0</td>\n",
       "      <td>72937.0</td>\n",
       "      <td>Diesel</td>\n",
       "      <td>90.0</td>\n",
       "      <td>1.0</td>\n",
       "      <td>0</td>\n",
       "      <td>2000</td>\n",
       "      <td>3</td>\n",
       "      <td>1165</td>\n",
       "    </tr>\n",
       "    <tr>\n",
       "      <th>2</th>\n",
       "      <td>13950</td>\n",
       "      <td>24.0</td>\n",
       "      <td>41711.0</td>\n",
       "      <td>Diesel</td>\n",
       "      <td>90.0</td>\n",
       "      <td>NaN</td>\n",
       "      <td>0</td>\n",
       "      <td>2000</td>\n",
       "      <td>3</td>\n",
       "      <td>1165</td>\n",
       "    </tr>\n",
       "    <tr>\n",
       "      <th>3</th>\n",
       "      <td>14950</td>\n",
       "      <td>26.0</td>\n",
       "      <td>48000.0</td>\n",
       "      <td>Diesel</td>\n",
       "      <td>90.0</td>\n",
       "      <td>0.0</td>\n",
       "      <td>0</td>\n",
       "      <td>2000</td>\n",
       "      <td>3</td>\n",
       "      <td>1165</td>\n",
       "    </tr>\n",
       "    <tr>\n",
       "      <th>4</th>\n",
       "      <td>13750</td>\n",
       "      <td>30.0</td>\n",
       "      <td>38500.0</td>\n",
       "      <td>Diesel</td>\n",
       "      <td>90.0</td>\n",
       "      <td>0.0</td>\n",
       "      <td>0</td>\n",
       "      <td>2000</td>\n",
       "      <td>3</td>\n",
       "      <td>1170</td>\n",
       "    </tr>\n",
       "    <tr>\n",
       "      <th>5</th>\n",
       "      <td>12950</td>\n",
       "      <td>32.0</td>\n",
       "      <td>61000.0</td>\n",
       "      <td>Diesel</td>\n",
       "      <td>90.0</td>\n",
       "      <td>0.0</td>\n",
       "      <td>0</td>\n",
       "      <td>2000</td>\n",
       "      <td>3</td>\n",
       "      <td>1170</td>\n",
       "    </tr>\n",
       "    <tr>\n",
       "      <th>6</th>\n",
       "      <td>16900</td>\n",
       "      <td>27.0</td>\n",
       "      <td>NaN</td>\n",
       "      <td>Diesel</td>\n",
       "      <td>NaN</td>\n",
       "      <td>NaN</td>\n",
       "      <td>0</td>\n",
       "      <td>2000</td>\n",
       "      <td>3</td>\n",
       "      <td>1245</td>\n",
       "    </tr>\n",
       "    <tr>\n",
       "      <th>7</th>\n",
       "      <td>18600</td>\n",
       "      <td>30.0</td>\n",
       "      <td>75889.0</td>\n",
       "      <td>NaN</td>\n",
       "      <td>90.0</td>\n",
       "      <td>1.0</td>\n",
       "      <td>0</td>\n",
       "      <td>2000</td>\n",
       "      <td>3</td>\n",
       "      <td>1245</td>\n",
       "    </tr>\n",
       "    <tr>\n",
       "      <th>8</th>\n",
       "      <td>21500</td>\n",
       "      <td>27.0</td>\n",
       "      <td>19700.0</td>\n",
       "      <td>Petrol</td>\n",
       "      <td>192.0</td>\n",
       "      <td>0.0</td>\n",
       "      <td>0</td>\n",
       "      <td>1800</td>\n",
       "      <td>3</td>\n",
       "      <td>1185</td>\n",
       "    </tr>\n",
       "    <tr>\n",
       "      <th>9</th>\n",
       "      <td>12950</td>\n",
       "      <td>23.0</td>\n",
       "      <td>71138.0</td>\n",
       "      <td>Diesel</td>\n",
       "      <td>NaN</td>\n",
       "      <td>NaN</td>\n",
       "      <td>0</td>\n",
       "      <td>1900</td>\n",
       "      <td>3</td>\n",
       "      <td>1105</td>\n",
       "    </tr>\n",
       "  </tbody>\n",
       "</table>\n",
       "</div>"
      ],
      "text/plain": [
       "   Price   Age       KM FuelType     HP  MetColor  Automatic    CC  Doors  \\\n",
       "0  13500  23.0  46986.0   Diesel   90.0       1.0          0  2000  three   \n",
       "1  13750  23.0  72937.0   Diesel   90.0       1.0          0  2000      3   \n",
       "2  13950  24.0  41711.0   Diesel   90.0       NaN          0  2000      3   \n",
       "3  14950  26.0  48000.0   Diesel   90.0       0.0          0  2000      3   \n",
       "4  13750  30.0  38500.0   Diesel   90.0       0.0          0  2000      3   \n",
       "5  12950  32.0  61000.0   Diesel   90.0       0.0          0  2000      3   \n",
       "6  16900  27.0      NaN   Diesel    NaN       NaN          0  2000      3   \n",
       "7  18600  30.0  75889.0      NaN   90.0       1.0          0  2000      3   \n",
       "8  21500  27.0  19700.0   Petrol  192.0       0.0          0  1800      3   \n",
       "9  12950  23.0  71138.0   Diesel    NaN       NaN          0  1900      3   \n",
       "\n",
       "   Weight  \n",
       "0    1165  \n",
       "1    1165  \n",
       "2    1165  \n",
       "3    1165  \n",
       "4    1170  \n",
       "5    1170  \n",
       "6    1245  \n",
       "7    1245  \n",
       "8    1185  \n",
       "9    1105  "
      ]
     },
     "execution_count": 112,
     "metadata": {},
     "output_type": "execute_result"
    }
   ],
   "source": [
    "#read the data - notice additional parameters to read_csv\n",
    "\n",
    "cars_data = pd.read_csv('UsedCarsPrice.csv',index_col = 0, na_values = [\"??\", \"????\"])\n",
    "cars_data.head(10)"
   ]
  },
  {
   "cell_type": "code",
   "execution_count": 113,
   "id": "bb39251e",
   "metadata": {
    "code_folding": []
   },
   "outputs": [
    {
     "data": {
      "text/plain": [
       "(1436, 10)"
      ]
     },
     "execution_count": 113,
     "metadata": {},
     "output_type": "execute_result"
    }
   ],
   "source": [
    "# check the size of the data set\n",
    "cars_data.shape"
   ]
  },
  {
   "cell_type": "code",
   "execution_count": 114,
   "id": "0030a280",
   "metadata": {
    "code_folding": []
   },
   "outputs": [
    {
     "data": {
      "text/plain": [
       "Price          0\n",
       "Age          100\n",
       "KM            15\n",
       "FuelType     100\n",
       "HP             6\n",
       "MetColor     150\n",
       "Automatic      0\n",
       "CC             0\n",
       "Doors          0\n",
       "Weight         0\n",
       "dtype: int64"
      ]
     },
     "execution_count": 114,
     "metadata": {},
     "output_type": "execute_result"
    }
   ],
   "source": [
    "# quick check of the amount of missing data\n",
    "cars_data.isna().sum()"
   ]
  },
  {
   "cell_type": "markdown",
   "id": "b954f7f4",
   "metadata": {},
   "source": [
    "***NOTE:*** The attributes Age, Kilometers, FuelType, HP and MetColor have missing values"
   ]
  },
  {
   "cell_type": "code",
   "execution_count": 115,
   "id": "5425c9c9",
   "metadata": {
    "code_folding": []
   },
   "outputs": [
    {
     "data": {
      "text/html": [
       "<div>\n",
       "<style scoped>\n",
       "    .dataframe tbody tr th:only-of-type {\n",
       "        vertical-align: middle;\n",
       "    }\n",
       "\n",
       "    .dataframe tbody tr th {\n",
       "        vertical-align: top;\n",
       "    }\n",
       "\n",
       "    .dataframe thead th {\n",
       "        text-align: right;\n",
       "    }\n",
       "</style>\n",
       "<table border=\"1\" class=\"dataframe\">\n",
       "  <thead>\n",
       "    <tr style=\"text-align: right;\">\n",
       "      <th></th>\n",
       "      <th>Price</th>\n",
       "      <th>Age</th>\n",
       "      <th>KM</th>\n",
       "      <th>HP</th>\n",
       "      <th>MetColor</th>\n",
       "      <th>Automatic</th>\n",
       "      <th>CC</th>\n",
       "      <th>Weight</th>\n",
       "    </tr>\n",
       "  </thead>\n",
       "  <tbody>\n",
       "    <tr>\n",
       "      <th>count</th>\n",
       "      <td>1436.000000</td>\n",
       "      <td>1336.000000</td>\n",
       "      <td>1421.000000</td>\n",
       "      <td>1430.000000</td>\n",
       "      <td>1286.000000</td>\n",
       "      <td>1436.000000</td>\n",
       "      <td>1436.000000</td>\n",
       "      <td>1436.00000</td>\n",
       "    </tr>\n",
       "    <tr>\n",
       "      <th>mean</th>\n",
       "      <td>10730.824513</td>\n",
       "      <td>55.672156</td>\n",
       "      <td>68647.239972</td>\n",
       "      <td>101.478322</td>\n",
       "      <td>0.674961</td>\n",
       "      <td>0.055710</td>\n",
       "      <td>1566.827994</td>\n",
       "      <td>1072.45961</td>\n",
       "    </tr>\n",
       "    <tr>\n",
       "      <th>std</th>\n",
       "      <td>3626.964585</td>\n",
       "      <td>18.589804</td>\n",
       "      <td>37333.023589</td>\n",
       "      <td>14.768255</td>\n",
       "      <td>0.468572</td>\n",
       "      <td>0.229441</td>\n",
       "      <td>187.182436</td>\n",
       "      <td>52.64112</td>\n",
       "    </tr>\n",
       "    <tr>\n",
       "      <th>min</th>\n",
       "      <td>4350.000000</td>\n",
       "      <td>1.000000</td>\n",
       "      <td>1.000000</td>\n",
       "      <td>69.000000</td>\n",
       "      <td>0.000000</td>\n",
       "      <td>0.000000</td>\n",
       "      <td>1300.000000</td>\n",
       "      <td>1000.00000</td>\n",
       "    </tr>\n",
       "    <tr>\n",
       "      <th>25%</th>\n",
       "      <td>8450.000000</td>\n",
       "      <td>43.000000</td>\n",
       "      <td>43210.000000</td>\n",
       "      <td>90.000000</td>\n",
       "      <td>0.000000</td>\n",
       "      <td>0.000000</td>\n",
       "      <td>1400.000000</td>\n",
       "      <td>1040.00000</td>\n",
       "    </tr>\n",
       "    <tr>\n",
       "      <th>50%</th>\n",
       "      <td>9900.000000</td>\n",
       "      <td>60.000000</td>\n",
       "      <td>63634.000000</td>\n",
       "      <td>110.000000</td>\n",
       "      <td>1.000000</td>\n",
       "      <td>0.000000</td>\n",
       "      <td>1600.000000</td>\n",
       "      <td>1070.00000</td>\n",
       "    </tr>\n",
       "    <tr>\n",
       "      <th>75%</th>\n",
       "      <td>11950.000000</td>\n",
       "      <td>70.000000</td>\n",
       "      <td>87000.000000</td>\n",
       "      <td>110.000000</td>\n",
       "      <td>1.000000</td>\n",
       "      <td>0.000000</td>\n",
       "      <td>1600.000000</td>\n",
       "      <td>1085.00000</td>\n",
       "    </tr>\n",
       "    <tr>\n",
       "      <th>max</th>\n",
       "      <td>32500.000000</td>\n",
       "      <td>80.000000</td>\n",
       "      <td>243000.000000</td>\n",
       "      <td>192.000000</td>\n",
       "      <td>1.000000</td>\n",
       "      <td>1.000000</td>\n",
       "      <td>2000.000000</td>\n",
       "      <td>1615.00000</td>\n",
       "    </tr>\n",
       "  </tbody>\n",
       "</table>\n",
       "</div>"
      ],
      "text/plain": [
       "              Price          Age             KM           HP     MetColor  \\\n",
       "count   1436.000000  1336.000000    1421.000000  1430.000000  1286.000000   \n",
       "mean   10730.824513    55.672156   68647.239972   101.478322     0.674961   \n",
       "std     3626.964585    18.589804   37333.023589    14.768255     0.468572   \n",
       "min     4350.000000     1.000000       1.000000    69.000000     0.000000   \n",
       "25%     8450.000000    43.000000   43210.000000    90.000000     0.000000   \n",
       "50%     9900.000000    60.000000   63634.000000   110.000000     1.000000   \n",
       "75%    11950.000000    70.000000   87000.000000   110.000000     1.000000   \n",
       "max    32500.000000    80.000000  243000.000000   192.000000     1.000000   \n",
       "\n",
       "         Automatic           CC      Weight  \n",
       "count  1436.000000  1436.000000  1436.00000  \n",
       "mean      0.055710  1566.827994  1072.45961  \n",
       "std       0.229441   187.182436    52.64112  \n",
       "min       0.000000  1300.000000  1000.00000  \n",
       "25%       0.000000  1400.000000  1040.00000  \n",
       "50%       0.000000  1600.000000  1070.00000  \n",
       "75%       0.000000  1600.000000  1085.00000  \n",
       "max       1.000000  2000.000000  1615.00000  "
      ]
     },
     "execution_count": 115,
     "metadata": {},
     "output_type": "execute_result"
    }
   ],
   "source": [
    "# get a basic summary\n",
    "cars_data.describe()"
   ]
  },
  {
   "cell_type": "markdown",
   "id": "4c0ff176",
   "metadata": {},
   "source": [
    "#### Logic for imputation\n",
    "- Age, KM and HP are numeric variables.\n",
    "- We could draw boxplots for these variables and check for the amount of outliers, and decide whether to impute these variables with mean or median.\n",
    "- However, the statistical attributes we get using `describe()` also gives us some idea about the distribution of these variables and the possibility of outliers.\n",
    "- After such analysis, we will impute Age and HP by mean, and KM by median. \n",
    "- The categorical variables like FuelType and MetColor are imputed with mode. Note that, the MetColor has values 0 and 1 indicating whether the car is of metalic color body or not. Though it looks like a numerical variable, it is actually categorical variable containing yes/no.\n",
    "- The `fillna()` method of pandas dataframe is used to fill the missing values."
   ]
  },
  {
   "cell_type": "code",
   "execution_count": 116,
   "id": "e2f24af0",
   "metadata": {},
   "outputs": [],
   "source": [
    "cars_data['Age'].fillna(cars_data['Age'].mean(), inplace=True)\n",
    "cars_data['HP'].fillna(cars_data['HP'].mean(), inplace=True)\n",
    "cars_data['KM'].fillna(cars_data['KM'].median(), inplace=True)\n",
    "cars_data['FuelType'].fillna(cars_data['FuelType'].mode()[0], inplace=True)\n",
    "cars_data['MetColor'].fillna(cars_data['MetColor'].mode()[0], inplace=True)"
   ]
  },
  {
   "cell_type": "code",
   "execution_count": 117,
   "id": "4dec5863",
   "metadata": {},
   "outputs": [
    {
     "data": {
      "text/plain": [
       "Price        0\n",
       "Age          0\n",
       "KM           0\n",
       "FuelType     0\n",
       "HP           0\n",
       "MetColor     0\n",
       "Automatic    0\n",
       "CC           0\n",
       "Doors        0\n",
       "Weight       0\n",
       "dtype: int64"
      ]
     },
     "execution_count": 117,
     "metadata": {},
     "output_type": "execute_result"
    }
   ],
   "source": [
    "cars_data.isna().sum()"
   ]
  },
  {
   "cell_type": "markdown",
   "id": "338e0856",
   "metadata": {},
   "source": [
    "**We can now see that the data set does not contain any more missing values.**"
   ]
  },
  {
   "cell_type": "code",
   "execution_count": null,
   "id": "9fa9c6f8",
   "metadata": {},
   "outputs": [],
   "source": []
  }
 ],
 "metadata": {
  "kernelspec": {
   "display_name": "Python 3 (ipykernel)",
   "language": "python",
   "name": "python3"
  },
  "language_info": {
   "codemirror_mode": {
    "name": "ipython",
    "version": 3
   },
   "file_extension": ".py",
   "mimetype": "text/x-python",
   "name": "python",
   "nbconvert_exporter": "python",
   "pygments_lexer": "ipython3",
   "version": "3.9.13"
  }
 },
 "nbformat": 4,
 "nbformat_minor": 5
}
