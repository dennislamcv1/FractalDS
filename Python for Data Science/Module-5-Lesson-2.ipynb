{
 "cells": [
  {
   "cell_type": "markdown",
   "id": "6494e2b3",
   "metadata": {},
   "source": [
    "## Module 5: Feature engineering"
   ]
  },
  {
   "cell_type": "markdown",
   "id": "7a91d3f6",
   "metadata": {},
   "source": [
    "### Lesson 2: Gen AI in Python"
   ]
  },
  {
   "cell_type": "markdown",
   "id": "2cc761db",
   "metadata": {},
   "source": [
    "### Part 5.2.1: Introduction to Gen AI in Python for Data science\n",
    "- Generative AI and Large Language Models (LLMs) have brought a new dimension to Artificial Intelligence and Machine Learning. \n",
    "- These large language models are being used in various applications across different domains and have opened up new perspectives on AI. \n",
    "- These models are trained on a vast amount of text data from all over the internet and can generate text in a human-like manner. \n",
    "- The most well-known example of an LLM is ChatGPT, developed by OpenAI. \n",
    "- It can perform various tasks, from creating original content to writing code. \n",
    "- Here, we will discuss one of the applications of LLMs - the PandasAI librariy. \n",
    "- PandasAI can be considered as a combination of Pandas library and OpenAI’s GPT. \n",
    "- It is extremely powerful for getting quick insights from data without writing much code.\n",
    "\n",
    "#### What is PandasAI?\n",
    "- It is a new tool for making data analysis and visualization tasks easier.\n",
    "- In Pandas, we have to analyze and manipulate data by writing appropriate code with the help of a bunch of in-built functions and methods. \n",
    "- On the other hand, PandasAI allows us to generate insights from data by simply providing a text prompt. \n",
    "- It is like giving some instructions to any fellow human, who will then be able to understand the execute the tasks assigned. \n",
    "\n",
    "#### Set up an OpenAI Account and Extract the API Key\n",
    "- To use the PandasAI library, we must create an OpenAI account and use the API key. \n",
    "- It can be done as follows:\n",
    "    - Go to https://platform.openai.com and create a personal account.\n",
    "    - Sign in to your account.\n",
    "    - Select **OpenAI** as the option that displayed on the screen.\n",
    "    - Click on Personal on the top right side.\n",
    "    - Select View API keys from the dropdown.\n",
    "    - Create a new secret key.\n",
    "    - Copy and store the secret key to a safe location on your computer.\n",
    "    \n",
    "#### Install PandasAI package\n",
    "- Use the following command in jupyter notebook to install PandasAI:\n",
    "        !pip install pandasai"
   ]
  },
  {
   "cell_type": "markdown",
   "id": "cddd6490",
   "metadata": {},
   "source": [
    "**Arjun, demonstrate the procedure of selecting API key using your openai account**"
   ]
  },
  {
   "cell_type": "code",
   "execution_count": null,
   "id": "11c67e13",
   "metadata": {},
   "outputs": [],
   "source": []
  },
  {
   "cell_type": "markdown",
   "id": "42d73407",
   "metadata": {},
   "source": [
    "### Part 5.2.2: Demonstration of PandasAI - Part I"
   ]
  },
  {
   "cell_type": "code",
   "execution_count": 7,
   "id": "94a73e30",
   "metadata": {},
   "outputs": [],
   "source": [
    "# import the required libraries\n",
    "\n",
    "import pandas as pd\n",
    "from pandasai import PandasAI\n",
    "#from pandasai import SmartDataframe\n",
    "from pandasai.llm.openai import OpenAI"
   ]
  },
  {
   "cell_type": "code",
   "execution_count": 8,
   "id": "96ce07dc",
   "metadata": {},
   "outputs": [],
   "source": [
    "llm = OpenAI(api_token=\"07F7AA2GPT3\")\n",
    "pandas_ai = PandasAI(llm)"
   ]
  },
  {
   "cell_type": "markdown",
   "id": "823f0ceb",
   "metadata": {},
   "source": [
    "**Arjun, use your API key here. Also, we must instruct the post production team to blur your key**\n"
   ]
  },
  {
   "cell_type": "code",
   "execution_count": 9,
   "id": "007d9775",
   "metadata": {},
   "outputs": [
    {
     "data": {
      "text/html": [
       "<div>\n",
       "<style scoped>\n",
       "    .dataframe tbody tr th:only-of-type {\n",
       "        vertical-align: middle;\n",
       "    }\n",
       "\n",
       "    .dataframe tbody tr th {\n",
       "        vertical-align: top;\n",
       "    }\n",
       "\n",
       "    .dataframe thead th {\n",
       "        text-align: right;\n",
       "    }\n",
       "</style>\n",
       "<table border=\"1\" class=\"dataframe\">\n",
       "  <thead>\n",
       "    <tr style=\"text-align: right;\">\n",
       "      <th></th>\n",
       "      <th>SKU ID</th>\n",
       "      <th>Date</th>\n",
       "      <th>Manufacturer</th>\n",
       "      <th>Sector</th>\n",
       "      <th>Category</th>\n",
       "      <th>Segment</th>\n",
       "      <th>Brand</th>\n",
       "      <th>Revenue($)</th>\n",
       "      <th>Unit_price</th>\n",
       "      <th>Units_sold</th>\n",
       "      <th>Page_traffic</th>\n",
       "    </tr>\n",
       "  </thead>\n",
       "  <tbody>\n",
       "    <tr>\n",
       "      <th>0</th>\n",
       "      <td>SKU1029</td>\n",
       "      <td>05-01-21</td>\n",
       "      <td>Synergix solutions</td>\n",
       "      <td>Oral Care</td>\n",
       "      <td>Toothpaste</td>\n",
       "      <td>Whitening Toothpaste</td>\n",
       "      <td>Close-up</td>\n",
       "      <td>0</td>\n",
       "      <td>NaN</td>\n",
       "      <td>0</td>\n",
       "      <td>0.0</td>\n",
       "    </tr>\n",
       "    <tr>\n",
       "      <th>1</th>\n",
       "      <td>SKU1054</td>\n",
       "      <td>05-08-21</td>\n",
       "      <td>Synergix solutions</td>\n",
       "      <td>Oral Care</td>\n",
       "      <td>Toothpaste</td>\n",
       "      <td>Fluoride-Free Toothpaste</td>\n",
       "      <td>Tom's of Maine</td>\n",
       "      <td>0</td>\n",
       "      <td>NaN</td>\n",
       "      <td>0</td>\n",
       "      <td>0.0</td>\n",
       "    </tr>\n",
       "    <tr>\n",
       "      <th>2</th>\n",
       "      <td>SKU1068</td>\n",
       "      <td>01-08-22</td>\n",
       "      <td>Synergix solutions</td>\n",
       "      <td>Oral Care</td>\n",
       "      <td>Toothpaste</td>\n",
       "      <td>Fluoride-Free Toothpaste</td>\n",
       "      <td>Himalaya Herbals</td>\n",
       "      <td>0</td>\n",
       "      <td>NaN</td>\n",
       "      <td>0</td>\n",
       "      <td>0.0</td>\n",
       "    </tr>\n",
       "    <tr>\n",
       "      <th>3</th>\n",
       "      <td>SKU1056</td>\n",
       "      <td>11-05-22</td>\n",
       "      <td>Synergix solutions</td>\n",
       "      <td>Oral Care</td>\n",
       "      <td>Toothpaste</td>\n",
       "      <td>Fluoride-Free Toothpaste</td>\n",
       "      <td>Tom's of Maine</td>\n",
       "      <td>0</td>\n",
       "      <td>NaN</td>\n",
       "      <td>0</td>\n",
       "      <td>0.0</td>\n",
       "    </tr>\n",
       "    <tr>\n",
       "      <th>4</th>\n",
       "      <td>SKU1061</td>\n",
       "      <td>12-10-22</td>\n",
       "      <td>Synergix solutions</td>\n",
       "      <td>Oral Care</td>\n",
       "      <td>Toothpaste</td>\n",
       "      <td>Fluoride-Free Toothpaste</td>\n",
       "      <td>Himalaya Herbals</td>\n",
       "      <td>0</td>\n",
       "      <td>NaN</td>\n",
       "      <td>0</td>\n",
       "      <td>0.0</td>\n",
       "    </tr>\n",
       "  </tbody>\n",
       "</table>\n",
       "</div>"
      ],
      "text/plain": [
       "    SKU ID      Date         Manufacturer     Sector    Category  \\\n",
       "0  SKU1029  05-01-21  Synergix solutions   Oral Care  Toothpaste   \n",
       "1  SKU1054  05-08-21  Synergix solutions   Oral Care  Toothpaste   \n",
       "2  SKU1068  01-08-22  Synergix solutions   Oral Care  Toothpaste   \n",
       "3  SKU1056  11-05-22  Synergix solutions   Oral Care  Toothpaste   \n",
       "4  SKU1061  12-10-22  Synergix solutions   Oral Care  Toothpaste   \n",
       "\n",
       "                    Segment             Brand  Revenue($)  Unit_price  \\\n",
       "0      Whitening Toothpaste          Close-up           0         NaN   \n",
       "1  Fluoride-Free Toothpaste    Tom's of Maine           0         NaN   \n",
       "2  Fluoride-Free Toothpaste  Himalaya Herbals           0         NaN   \n",
       "3  Fluoride-Free Toothpaste    Tom's of Maine           0         NaN   \n",
       "4  Fluoride-Free Toothpaste  Himalaya Herbals           0         NaN   \n",
       "\n",
       "   Units_sold  Page_traffic  \n",
       "0           0           0.0  \n",
       "1           0           0.0  \n",
       "2           0           0.0  \n",
       "3           0           0.0  \n",
       "4           0           0.0  "
      ]
     },
     "execution_count": 9,
     "metadata": {},
     "output_type": "execute_result"
    }
   ],
   "source": [
    "# read the dataset\n",
    "pos_data= pd.read_csv('POS_Data.csv')\n",
    "pos_data.head()"
   ]
  },
  {
   "cell_type": "markdown",
   "id": "383c33f5",
   "metadata": {},
   "source": [
    "**Let us perform some basic operations using appropriate prompt**"
   ]
  },
  {
   "cell_type": "code",
   "execution_count": 10,
   "id": "711b4032",
   "metadata": {},
   "outputs": [
    {
     "name": "stdout",
     "output_type": "stream",
     "text": [
      "Incorrect API key provided: 07F7AA2GPT3. You can find your API key at https://platform.openai.com/account/api-keys.\n"
     ]
    },
    {
     "data": {
      "text/plain": [
       "'Unfortunately, I was not able to answer your question, because of the following error:\\n\\nIncorrect API key provided: 07F7AA2GPT3. You can find your API key at https://platform.openai.com/account/api-keys.\\n'"
      ]
     },
     "execution_count": 10,
     "metadata": {},
     "output_type": "execute_result"
    }
   ],
   "source": [
    "pandas_ai(pos_data, prompt='What is the size of the dataset?')"
   ]
  },
  {
   "cell_type": "markdown",
   "id": "a0a1b737",
   "metadata": {},
   "source": [
    "**We can see the code generated internally to achieve this task, by giving additional parameter:**"
   ]
  },
  {
   "cell_type": "code",
   "execution_count": null,
   "id": "8d4e2cdd",
   "metadata": {},
   "outputs": [],
   "source": [
    "pandas_ai(pos_data, prompt='What is the size of the dataset?',show_code= True)"
   ]
  },
  {
   "cell_type": "code",
   "execution_count": null,
   "id": "752c069b",
   "metadata": {},
   "outputs": [],
   "source": [
    "df.shape"
   ]
  },
  {
   "cell_type": "code",
   "execution_count": null,
   "id": "b5d80c40",
   "metadata": {},
   "outputs": [],
   "source": [
    "#The following code is generated by pandas_ai when you run the above code cell.\n",
    "#We can change the dataframe name, if we want to modify the code. \n",
    "\n",
    "\n",
    "# df.shape  "
   ]
  },
  {
   "cell_type": "code",
   "execution_count": null,
   "id": "30d773a4",
   "metadata": {},
   "outputs": [],
   "source": [
    "pandas_ai(pos_data, prompt='List out the information about the dataset')"
   ]
  },
  {
   "cell_type": "code",
   "execution_count": null,
   "id": "c374e9c3",
   "metadata": {},
   "outputs": [],
   "source": [
    "pandas_ai(pos_data, prompt='Are there any missing values in the data?')"
   ]
  },
  {
   "cell_type": "markdown",
   "id": "4affbbca",
   "metadata": {},
   "source": [
    "#### Prompts to extract more complex information:\n",
    "- Let us design our prompts to extract complex information from the data. \n",
    "- Using Pandas, we would have used methods like *groupby()* and some aggregation functions to achieve these tasks. \n",
    "- However, using PandasAI, we just need to use appropriate prompt."
   ]
  },
  {
   "cell_type": "code",
   "execution_count": null,
   "id": "13d0af5c",
   "metadata": {},
   "outputs": [],
   "source": [
    "pandas_ai(pos_data, prompt='Which sector has highest revenue?')"
   ]
  },
  {
   "attachments": {
    "image-2.png": {
     "image/png": "[encoded data removed]"
    }
   },
   "cell_type": "markdown",
   "id": "c4031a59",
   "metadata": {},
   "source": [
    "If we use *show_code=True* in the above code, we will get the following code:\n",
    "![image-2.png](attachment:image-2.png)"
   ]
  },
  {
   "cell_type": "markdown",
   "id": "b242a049",
   "metadata": {},
   "source": [
    "**Arjun, you can show it by actually using show_code parameter. For the reference, I have added the image here, and not saved the image in the drive, as you can get it by yourself**"
   ]
  },
  {
   "cell_type": "code",
   "execution_count": null,
   "id": "355139a5",
   "metadata": {},
   "outputs": [],
   "source": [
    "pandas_ai(pos_data, prompt='Which brand has highest revenue? And how much?')"
   ]
  },
  {
   "cell_type": "code",
   "execution_count": null,
   "id": "911f398c",
   "metadata": {},
   "outputs": [],
   "source": [
    "pandas_ai(pos_data, prompt='List out average sales for each category')  "
   ]
  },
  {
   "cell_type": "markdown",
   "id": "023112c6",
   "metadata": {},
   "source": [
    "- Note that, the PandasAI is considering units sold column, but not revenue, when we use the prompt as 'average sales'.\n",
    "- So, use appropriate term in the prompt so that we will get what we want."
   ]
  },
  {
   "cell_type": "code",
   "execution_count": null,
   "id": "560955da",
   "metadata": {},
   "outputs": [],
   "source": [
    "#so, use revenue as the term\n",
    "pandas_ai(pos_data, prompt='List out average revenue for each category')"
   ]
  },
  {
   "cell_type": "code",
   "execution_count": null,
   "id": "d6a8ef5d",
   "metadata": {},
   "outputs": [],
   "source": [
    "pandas_ai(pos_data, prompt='List out the brands whose average revenue is more than 15000')"
   ]
  },
  {
   "cell_type": "code",
   "execution_count": null,
   "id": "80b8db32",
   "metadata": {},
   "outputs": [],
   "source": [
    "pandas_ai(pos_data, prompt='List out average revenue for each category, separated by each sector')"
   ]
  },
  {
   "cell_type": "markdown",
   "id": "abf46670",
   "metadata": {},
   "source": [
    "**We can give multiple sentences in the prompt to indicate what exactly we want. It is just like we giving some specific instructions to other person with more details and to get better results.**"
   ]
  },
  {
   "cell_type": "markdown",
   "id": "b13d09d0",
   "metadata": {},
   "source": [
    "**Arjun, in the following prompt, please show the result by keeping just one sentence, then two sentences, then 3 and so on. And hence demonstrate how we can put our results in a better way and to indicate how the LLM internally takes our instrutions. This also indicates the power of right prompts. For example, if you remove the sentence about sorting, the result will not be sorted. If you don't ask to round off, there will be 6 digits after decimal point. \n",
    "I actually kept adding sentences to this one prompt to see the progressive result**"
   ]
  },
  {
   "cell_type": "code",
   "execution_count": null,
   "id": "4c29225e",
   "metadata": {},
   "outputs": [],
   "source": [
    "pandas_ai(pos_data, prompt='List out average revenue for each brand, separated by each category. \\\n",
    "                            And sort them from highest to lowest. Round off the revenue for 2 decimal points. \\\n",
    "                            Rearrange the row numbers from 1')"
   ]
  },
  {
   "cell_type": "code",
   "execution_count": null,
   "id": "0737ae2f",
   "metadata": {},
   "outputs": [],
   "source": []
  },
  {
   "cell_type": "markdown",
   "id": "8154d0f7",
   "metadata": {},
   "source": [
    "### Part 5.2.2: Demonstration of PandasAI - Part II\n",
    "- In this lecture, let us try using the prompts to generage graphs."
   ]
  },
  {
   "cell_type": "code",
   "execution_count": null,
   "id": "8a9d4000",
   "metadata": {},
   "outputs": [],
   "source": [
    "#bar plot\n",
    "pandas_ai(pos_data, prompt='draw a barplot showing the revenue of all the sectors\\\n",
    "                            keep the graph size as 6 by 4')"
   ]
  },
  {
   "cell_type": "code",
   "execution_count": null,
   "id": "409e3fb4",
   "metadata": {},
   "outputs": [],
   "source": [
    "pandas_ai(pos_data, prompt='draw a histogram with kde curve showing the page traffic\\\n",
    "                            keep the graph size as 6 by 4 ')"
   ]
  },
  {
   "cell_type": "code",
   "execution_count": null,
   "id": "f852cff3",
   "metadata": {},
   "outputs": [],
   "source": [
    "pandas_ai(pos_data, prompt='display Boxplot showing page traffic across categories.\\\n",
    "                             keep the graph size as 10 by 8')"
   ]
  },
  {
   "cell_type": "code",
   "execution_count": null,
   "id": "63d4bd7c",
   "metadata": {},
   "outputs": [],
   "source": [
    "pandas_ai(pos_data, prompt='display scatter plot of revenue versus page traffic')"
   ]
  },
  {
   "cell_type": "code",
   "execution_count": null,
   "id": "3e169edc",
   "metadata": {},
   "outputs": [],
   "source": []
  },
  {
   "cell_type": "code",
   "execution_count": null,
   "id": "283089af",
   "metadata": {},
   "outputs": [],
   "source": [
    "#dropping a column\n",
    "pandas_ai(pos_data, prompt='drop the unit price column from the dataset')\n",
    "pos_data.head()"
   ]
  },
  {
   "cell_type": "code",
   "execution_count": null,
   "id": "886693c2",
   "metadata": {},
   "outputs": [],
   "source": []
  },
  {
   "cell_type": "markdown",
   "id": "81fbc7a8",
   "metadata": {},
   "source": [
    "#### Concluding remarks\n",
    "- GenAI is an advancement in the field of AI and it is evolving very fast.\n",
    "- The PandasAI package also has evolved into multiple versions as of now.\n",
    "- We have used the version 0.7.2 in this lecture, which was released in July 2023.\n",
    "- However, at the time of creating this course (Sept 2023), a latest version 1.2.6 is released.\n",
    "- The latest version comes up with new options like `SmartDataFrame`, `SmartDataLake` etc. to have a better interaction with OpenAI and to produce better results.\n",
    "- The new version also has functions like `clean_data`, `impute_missing_values`, `generate_features` etc. to clean the data, to impute the missing values, to implement feature engineering and so on.\n",
    "- However, these functions are very premature in nature as of now, and are capabale of solving very standard problems like imputing the missing values by mean. It do not have capability to understand the relationship between the attributes (how we had in our POS data) and then to impute.\n",
    "- So, the learner may observe more updates on PandasAI in upcoming days.\n",
    "- Anyone interested, can follow the following documentation page:\n",
    "https://pypi.org/project/pandasai/"
   ]
  }
 ],
 "metadata": {
  "kernelspec": {
   "display_name": "Python 3 (ipykernel)",
   "language": "python",
   "name": "python3"
  },
  "language_info": {
   "codemirror_mode": {
    "name": "ipython",
    "version": 3
   },
   "file_extension": ".py",
   "mimetype": "text/x-python",
   "name": "python",
   "nbconvert_exporter": "python",
   "pygments_lexer": "ipython3",
   "version": "3.9.13"
  }
 },
 "nbformat": 4,
 "nbformat_minor": 5
}
