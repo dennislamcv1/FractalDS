{
 "cells": [
  {
   "cell_type": "markdown",
   "id": "b330853e",
   "metadata": {},
   "source": [
    "## Video 8 - Building The Decision Tree Regression Model"
   ]
  },
  {
   "cell_type": "markdown",
   "id": "df53a227",
   "metadata": {},
   "source": [
    "### Importing the required libraries"
   ]
  },
  {
   "cell_type": "code",
   "execution_count": 5,
   "id": "944c0cdc",
   "metadata": {},
   "outputs": [],
   "source": [
    "#Importing libraries\n",
    "import os\n",
    "import pandas as pd\n",
    "import numpy as np"
   ]
  },
  {
   "cell_type": "markdown",
   "id": "4c7e04d8",
   "metadata": {},
   "source": [
    "### Displaying the first five rows"
   ]
  },
  {
   "cell_type": "code",
   "execution_count": 2,
   "id": "0c92e42c",
   "metadata": {
    "scrolled": true
   },
   "outputs": [
    {
     "data": {
      "text/html": [
       "<div>\n",
       "<style scoped>\n",
       "    .dataframe tbody tr th:only-of-type {\n",
       "        vertical-align: middle;\n",
       "    }\n",
       "\n",
       "    .dataframe tbody tr th {\n",
       "        vertical-align: top;\n",
       "    }\n",
       "\n",
       "    .dataframe thead th {\n",
       "        text-align: right;\n",
       "    }\n",
       "</style>\n",
       "<table border=\"1\" class=\"dataframe\">\n",
       "  <thead>\n",
       "    <tr style=\"text-align: right;\">\n",
       "      <th></th>\n",
       "      <th>Page_traffic</th>\n",
       "      <th>Unit_price</th>\n",
       "      <th>Units_sold</th>\n",
       "      <th>Segment</th>\n",
       "      <th>1_Star_Rating</th>\n",
       "      <th>2_Star_Rating</th>\n",
       "      <th>3_Star_Rating</th>\n",
       "      <th>4_Star_Rating</th>\n",
       "      <th>5_Star_Rating</th>\n",
       "      <th>Image_Count</th>\n",
       "      <th>...</th>\n",
       "      <th>Sum of Spend</th>\n",
       "      <th>Online_Clicks</th>\n",
       "      <th>Online_Cost</th>\n",
       "      <th>Online_Impressions</th>\n",
       "      <th>num_unique_campaigns</th>\n",
       "      <th>Clicks_video</th>\n",
       "      <th>Cost_video</th>\n",
       "      <th>Impressions_video</th>\n",
       "      <th>num_unique_campaigns_offline</th>\n",
       "      <th>Units_sold&gt;1000</th>\n",
       "    </tr>\n",
       "  </thead>\n",
       "  <tbody>\n",
       "    <tr>\n",
       "      <th>0</th>\n",
       "      <td>5835.0</td>\n",
       "      <td>22.214389</td>\n",
       "      <td>2071</td>\n",
       "      <td>Skincare</td>\n",
       "      <td>99.0</td>\n",
       "      <td>72.0</td>\n",
       "      <td>194.0</td>\n",
       "      <td>453.0</td>\n",
       "      <td>3272.0</td>\n",
       "      <td>6.0</td>\n",
       "      <td>...</td>\n",
       "      <td>0.0</td>\n",
       "      <td>1271.0</td>\n",
       "      <td>3102.448115</td>\n",
       "      <td>238075.0</td>\n",
       "      <td>6.0</td>\n",
       "      <td>3479.0</td>\n",
       "      <td>40244.28</td>\n",
       "      <td>3856872.0</td>\n",
       "      <td>2.0</td>\n",
       "      <td>1</td>\n",
       "    </tr>\n",
       "    <tr>\n",
       "      <th>1</th>\n",
       "      <td>1881.0</td>\n",
       "      <td>11.870778</td>\n",
       "      <td>681</td>\n",
       "      <td>Skincare</td>\n",
       "      <td>118.0</td>\n",
       "      <td>73.0</td>\n",
       "      <td>200.0</td>\n",
       "      <td>430.0</td>\n",
       "      <td>3084.0</td>\n",
       "      <td>9.0</td>\n",
       "      <td>...</td>\n",
       "      <td>0.0</td>\n",
       "      <td>494.0</td>\n",
       "      <td>1723.716359</td>\n",
       "      <td>75868.0</td>\n",
       "      <td>2.0</td>\n",
       "      <td>0.0</td>\n",
       "      <td>0.00</td>\n",
       "      <td>0.0</td>\n",
       "      <td>0.0</td>\n",
       "      <td>0</td>\n",
       "    </tr>\n",
       "    <tr>\n",
       "      <th>2</th>\n",
       "      <td>2477.0</td>\n",
       "      <td>27.645714</td>\n",
       "      <td>875</td>\n",
       "      <td>Makeup</td>\n",
       "      <td>108.0</td>\n",
       "      <td>85.0</td>\n",
       "      <td>232.0</td>\n",
       "      <td>511.0</td>\n",
       "      <td>3402.0</td>\n",
       "      <td>10.0</td>\n",
       "      <td>...</td>\n",
       "      <td>0.0</td>\n",
       "      <td>0.0</td>\n",
       "      <td>0.000000</td>\n",
       "      <td>0.0</td>\n",
       "      <td>0.0</td>\n",
       "      <td>0.0</td>\n",
       "      <td>0.00</td>\n",
       "      <td>0.0</td>\n",
       "      <td>0.0</td>\n",
       "      <td>0</td>\n",
       "    </tr>\n",
       "    <tr>\n",
       "      <th>3</th>\n",
       "      <td>4087.0</td>\n",
       "      <td>16.896848</td>\n",
       "      <td>1396</td>\n",
       "      <td>Makeup</td>\n",
       "      <td>82.0</td>\n",
       "      <td>64.0</td>\n",
       "      <td>167.0</td>\n",
       "      <td>303.0</td>\n",
       "      <td>2058.0</td>\n",
       "      <td>5.0</td>\n",
       "      <td>...</td>\n",
       "      <td>0.0</td>\n",
       "      <td>0.0</td>\n",
       "      <td>0.000000</td>\n",
       "      <td>0.0</td>\n",
       "      <td>0.0</td>\n",
       "      <td>0.0</td>\n",
       "      <td>0.00</td>\n",
       "      <td>0.0</td>\n",
       "      <td>0.0</td>\n",
       "      <td>1</td>\n",
       "    </tr>\n",
       "    <tr>\n",
       "      <th>4</th>\n",
       "      <td>1446.0</td>\n",
       "      <td>16.357664</td>\n",
       "      <td>822</td>\n",
       "      <td>Hair Care</td>\n",
       "      <td>29.0</td>\n",
       "      <td>24.0</td>\n",
       "      <td>88.0</td>\n",
       "      <td>200.0</td>\n",
       "      <td>1221.0</td>\n",
       "      <td>0.0</td>\n",
       "      <td>...</td>\n",
       "      <td>0.0</td>\n",
       "      <td>0.0</td>\n",
       "      <td>0.000000</td>\n",
       "      <td>0.0</td>\n",
       "      <td>0.0</td>\n",
       "      <td>6024.0</td>\n",
       "      <td>77040.81</td>\n",
       "      <td>7539723.0</td>\n",
       "      <td>2.0</td>\n",
       "      <td>0</td>\n",
       "    </tr>\n",
       "  </tbody>\n",
       "</table>\n",
       "<p>5 rows × 26 columns</p>\n",
       "</div>"
      ],
      "text/plain": [
       "   Page_traffic  Unit_price  Units_sold    Segment  1_Star_Rating  \\\n",
       "0        5835.0   22.214389        2071   Skincare           99.0   \n",
       "1        1881.0   11.870778         681   Skincare          118.0   \n",
       "2        2477.0   27.645714         875     Makeup          108.0   \n",
       "3        4087.0   16.896848        1396     Makeup           82.0   \n",
       "4        1446.0   16.357664         822  Hair Care           29.0   \n",
       "\n",
       "   2_Star_Rating  3_Star_Rating  4_Star_Rating  5_Star_Rating  Image_Count  \\\n",
       "0           72.0          194.0          453.0         3272.0          6.0   \n",
       "1           73.0          200.0          430.0         3084.0          9.0   \n",
       "2           85.0          232.0          511.0         3402.0         10.0   \n",
       "3           64.0          167.0          303.0         2058.0          5.0   \n",
       "4           24.0           88.0          200.0         1221.0          0.0   \n",
       "\n",
       "   ...  Sum of Spend  Online_Clicks  Online_Cost  Online_Impressions  \\\n",
       "0  ...           0.0         1271.0  3102.448115            238075.0   \n",
       "1  ...           0.0          494.0  1723.716359             75868.0   \n",
       "2  ...           0.0            0.0     0.000000                 0.0   \n",
       "3  ...           0.0            0.0     0.000000                 0.0   \n",
       "4  ...           0.0            0.0     0.000000                 0.0   \n",
       "\n",
       "   num_unique_campaigns  Clicks_video  Cost_video  Impressions_video  \\\n",
       "0                   6.0        3479.0    40244.28          3856872.0   \n",
       "1                   2.0           0.0        0.00                0.0   \n",
       "2                   0.0           0.0        0.00                0.0   \n",
       "3                   0.0           0.0        0.00                0.0   \n",
       "4                   0.0        6024.0    77040.81          7539723.0   \n",
       "\n",
       "   num_unique_campaigns_offline  Units_sold>1000  \n",
       "0                           2.0                1  \n",
       "1                           0.0                0  \n",
       "2                           0.0                0  \n",
       "3                           0.0                1  \n",
       "4                           2.0                0  \n",
       "\n",
       "[5 rows x 26 columns]"
      ]
     },
     "execution_count": 2,
     "metadata": {},
     "output_type": "execute_result"
    }
   ],
   "source": [
    "#Loading the data\n",
    "os.chdir(r'C:\\Users\\Deepak\\Downloads')\n",
    "data = pd.read_csv('Synergix_data_preprocessed_new.csv')\n",
    "data.head()"
   ]
  },
  {
   "cell_type": "markdown",
   "id": "653c5552",
   "metadata": {},
   "source": [
    "<h3>Data Preprocessing</h3>"
   ]
  },
  {
   "cell_type": "markdown",
   "id": "f36182eb",
   "metadata": {},
   "source": [
    "#### Adding a new column _Good_By_Bad_Rating_"
   ]
  },
  {
   "cell_type": "code",
   "execution_count": 3,
   "id": "41e2b99c",
   "metadata": {},
   "outputs": [],
   "source": [
    "#Storing the ratio in a list named Rating_ratio\n",
    "Rating_ratio = []\n",
    "for row in data.values:\n",
    "    if(row[4]+row[5] == 0):\n",
    "        if(row[7]+row[8] == 0):\n",
    "            #If all the ratings are zero then overall rating ratio will also be zero\n",
    "            Rating_ratio.append(0.0)\n",
    "        else:\n",
    "            #If only the numerator(1 and 2 star) ratings are zero then adding -99999 to the list temporarily which \n",
    "            #will be taken care of in the next cell.\n",
    "            Rating_ratio.append(-99999)\n",
    "    else:\n",
    "        Rating_ratio.append((int(row[7])+(row[8]))/(int(row[4])+int(row[5])))\n",
    "\n",
    "#replacing -99999 with the maximum ratio in the list\n",
    "max_rating = max(Rating_ratio)\n",
    "for x in range(len(Rating_ratio)):\n",
    "    if(Rating_ratio[x] == -99999):\n",
    "        Rating_ratio[x] = max_rating\n",
    "\n",
    "#adding the column 'Good_By_Bad_Rating' to the dataframe\n",
    "data['Good_By_Bad_Rating'] = Rating_ratio\n",
    "\n",
    "data = data.drop(columns = ['1_Star_Rating', '2_Star_Rating', '3_Star_Rating', '4_Star_Rating', '5_Star_Rating'])"
   ]
  },
  {
   "cell_type": "markdown",
   "id": "4ae1869b",
   "metadata": {},
   "source": [
    "### Performing Label Encoding"
   ]
  },
  {
   "cell_type": "code",
   "execution_count": 4,
   "id": "ecdbbee1",
   "metadata": {},
   "outputs": [],
   "source": [
    "from sklearn.preprocessing import LabelEncoder\n",
    "data [['Segment']]= data [['Segment']].apply(LabelEncoder().fit_transform)"
   ]
  },
  {
   "cell_type": "markdown",
   "id": "eb10d2df",
   "metadata": {},
   "source": [
    "### Separating the feature variable and the target variable"
   ]
  },
  {
   "cell_type": "code",
   "execution_count": 5,
   "id": "349d7a57",
   "metadata": {},
   "outputs": [],
   "source": [
    "data = data.drop(columns = 'Units_sold>1000',axis=1)"
   ]
  },
  {
   "cell_type": "code",
   "execution_count": 6,
   "id": "e5ef765b",
   "metadata": {},
   "outputs": [],
   "source": [
    "X = data.drop(columns = 'Units_sold')\n",
    "y = data['Units_sold']"
   ]
  },
  {
   "cell_type": "markdown",
   "id": "348294c9",
   "metadata": {},
   "source": [
    "<h3>Performing train-test split</h3>"
   ]
  },
  {
   "cell_type": "code",
   "execution_count": 7,
   "id": "64a44ad2",
   "metadata": {},
   "outputs": [],
   "source": [
    "# Importing the train-test split from scikit-learn\n",
    "from sklearn.model_selection import train_test_split"
   ]
  },
  {
   "cell_type": "code",
   "execution_count": 8,
   "id": "f7700fc7",
   "metadata": {},
   "outputs": [],
   "source": [
    "# Performing train and test split\n",
    "X_train, X_test, y_train, y_test = train_test_split(X, y, test_size = 0.30, random_state = 42)"
   ]
  },
  {
   "cell_type": "markdown",
   "id": "c8acfdb9",
   "metadata": {},
   "source": [
    "<h3>Building the model</h3>"
   ]
  },
  {
   "cell_type": "code",
   "execution_count": 13,
   "id": "0615f348",
   "metadata": {},
   "outputs": [],
   "source": [
    "# Import DecisionTreeRegressor from sklearn.tree\n",
    "from sklearn.tree import DecisionTreeRegressor"
   ]
  },
  {
   "cell_type": "code",
   "execution_count": 14,
   "id": "e8ecb08e",
   "metadata": {},
   "outputs": [],
   "source": [
    "# Creating a decision tree classifier object called DT_model\n",
    "DT_model = DecisionTreeRegressor(random_state = 42)"
   ]
  },
  {
   "cell_type": "code",
   "execution_count": 15,
   "id": "8bd8db15",
   "metadata": {
    "scrolled": true
   },
   "outputs": [
    {
     "data": {
      "text/html": [
       "<style>#sk-container-id-2 {color: black;}#sk-container-id-2 pre{padding: 0;}#sk-container-id-2 div.sk-toggleable {background-color: white;}#sk-container-id-2 label.sk-toggleable__label {cursor: pointer;display: block;width: 100%;margin-bottom: 0;padding: 0.3em;box-sizing: border-box;text-align: center;}#sk-container-id-2 label.sk-toggleable__label-arrow:before {content: \"▸\";float: left;margin-right: 0.25em;color: #696969;}#sk-container-id-2 label.sk-toggleable__label-arrow:hover:before {color: black;}#sk-container-id-2 div.sk-estimator:hover label.sk-toggleable__label-arrow:before {color: black;}#sk-container-id-2 div.sk-toggleable__content {max-height: 0;max-width: 0;overflow: hidden;text-align: left;background-color: #f0f8ff;}#sk-container-id-2 div.sk-toggleable__content pre {margin: 0.2em;color: black;border-radius: 0.25em;background-color: #f0f8ff;}#sk-container-id-2 input.sk-toggleable__control:checked~div.sk-toggleable__content {max-height: 200px;max-width: 100%;overflow: auto;}#sk-container-id-2 input.sk-toggleable__control:checked~label.sk-toggleable__label-arrow:before {content: \"▾\";}#sk-container-id-2 div.sk-estimator input.sk-toggleable__control:checked~label.sk-toggleable__label {background-color: #d4ebff;}#sk-container-id-2 div.sk-label input.sk-toggleable__control:checked~label.sk-toggleable__label {background-color: #d4ebff;}#sk-container-id-2 input.sk-hidden--visually {border: 0;clip: rect(1px 1px 1px 1px);clip: rect(1px, 1px, 1px, 1px);height: 1px;margin: -1px;overflow: hidden;padding: 0;position: absolute;width: 1px;}#sk-container-id-2 div.sk-estimator {font-family: monospace;background-color: #f0f8ff;border: 1px dotted black;border-radius: 0.25em;box-sizing: border-box;margin-bottom: 0.5em;}#sk-container-id-2 div.sk-estimator:hover {background-color: #d4ebff;}#sk-container-id-2 div.sk-parallel-item::after {content: \"\";width: 100%;border-bottom: 1px solid gray;flex-grow: 1;}#sk-container-id-2 div.sk-label:hover label.sk-toggleable__label {background-color: #d4ebff;}#sk-container-id-2 div.sk-serial::before {content: \"\";position: absolute;border-left: 1px solid gray;box-sizing: border-box;top: 0;bottom: 0;left: 50%;z-index: 0;}#sk-container-id-2 div.sk-serial {display: flex;flex-direction: column;align-items: center;background-color: white;padding-right: 0.2em;padding-left: 0.2em;position: relative;}#sk-container-id-2 div.sk-item {position: relative;z-index: 1;}#sk-container-id-2 div.sk-parallel {display: flex;align-items: stretch;justify-content: center;background-color: white;position: relative;}#sk-container-id-2 div.sk-item::before, #sk-container-id-2 div.sk-parallel-item::before {content: \"\";position: absolute;border-left: 1px solid gray;box-sizing: border-box;top: 0;bottom: 0;left: 50%;z-index: -1;}#sk-container-id-2 div.sk-parallel-item {display: flex;flex-direction: column;z-index: 1;position: relative;background-color: white;}#sk-container-id-2 div.sk-parallel-item:first-child::after {align-self: flex-end;width: 50%;}#sk-container-id-2 div.sk-parallel-item:last-child::after {align-self: flex-start;width: 50%;}#sk-container-id-2 div.sk-parallel-item:only-child::after {width: 0;}#sk-container-id-2 div.sk-dashed-wrapped {border: 1px dashed gray;margin: 0 0.4em 0.5em 0.4em;box-sizing: border-box;padding-bottom: 0.4em;background-color: white;}#sk-container-id-2 div.sk-label label {font-family: monospace;font-weight: bold;display: inline-block;line-height: 1.2em;}#sk-container-id-2 div.sk-label-container {text-align: center;}#sk-container-id-2 div.sk-container {/* jupyter's `normalize.less` sets `[hidden] { display: none; }` but bootstrap.min.css set `[hidden] { display: none !important; }` so we also need the `!important` here to be able to override the default hidden behavior on the sphinx rendered scikit-learn.org. See: https://github.com/scikit-learn/scikit-learn/issues/21755 */display: inline-block !important;position: relative;}#sk-container-id-2 div.sk-text-repr-fallback {display: none;}</style><div id=\"sk-container-id-2\" class=\"sk-top-container\"><div class=\"sk-text-repr-fallback\"><pre>DecisionTreeRegressor(random_state=42)</pre><b>In a Jupyter environment, please rerun this cell to show the HTML representation or trust the notebook. <br />On GitHub, the HTML representation is unable to render, please try loading this page with nbviewer.org.</b></div><div class=\"sk-container\" hidden><div class=\"sk-item\"><div class=\"sk-estimator sk-toggleable\"><input class=\"sk-toggleable__control sk-hidden--visually\" id=\"sk-estimator-id-2\" type=\"checkbox\" checked><label for=\"sk-estimator-id-2\" class=\"sk-toggleable__label sk-toggleable__label-arrow\">DecisionTreeRegressor</label><div class=\"sk-toggleable__content\"><pre>DecisionTreeRegressor(random_state=42)</pre></div></div></div></div></div>"
      ],
      "text/plain": [
       "DecisionTreeRegressor(random_state=42)"
      ]
     },
     "execution_count": 15,
     "metadata": {},
     "output_type": "execute_result"
    }
   ],
   "source": [
    "# Building the model using the training data\n",
    "DT_model.fit(X_train, y_train)"
   ]
  },
  {
   "cell_type": "code",
   "execution_count": 16,
   "id": "a1a5e7d0",
   "metadata": {},
   "outputs": [],
   "source": [
    "# Perfoming prediction on both the train and test data\n",
    "y_pred_train = DT_model.predict(X_train)\n",
    "y_pred_test = DT_model.predict(X_test)"
   ]
  },
  {
   "cell_type": "markdown",
   "id": "6e41f791",
   "metadata": {},
   "source": [
    "<h3>Evaluating the model</h3>"
   ]
  },
  {
   "cell_type": "code",
   "execution_count": 17,
   "id": "6d34c787",
   "metadata": {},
   "outputs": [],
   "source": [
    "from sklearn.metrics import r2_score"
   ]
  },
  {
   "cell_type": "code",
   "execution_count": 18,
   "id": "9af4b344",
   "metadata": {},
   "outputs": [
    {
     "data": {
      "text/plain": [
       "1.0"
      ]
     },
     "execution_count": 18,
     "metadata": {},
     "output_type": "execute_result"
    }
   ],
   "source": [
    "r2_train = r2_score(y_train, y_pred_train)\n",
    "r2_train"
   ]
  },
  {
   "cell_type": "code",
   "execution_count": 19,
   "id": "e635b225",
   "metadata": {},
   "outputs": [
    {
     "data": {
      "text/plain": [
       "0.5687419312062367"
      ]
     },
     "execution_count": 19,
     "metadata": {},
     "output_type": "execute_result"
    }
   ],
   "source": [
    "r2_test = r2_score(y_test, y_pred_test)\n",
    "r2_test"
   ]
  },
  {
   "cell_type": "markdown",
   "id": "6a9f5e18",
   "metadata": {},
   "source": [
    "<h3>Calculating feature importance</h3>"
   ]
  },
  {
   "cell_type": "code",
   "execution_count": 20,
   "id": "044463b0",
   "metadata": {},
   "outputs": [
    {
     "data": {
      "text/html": [
       "<div>\n",
       "<style scoped>\n",
       "    .dataframe tbody tr th:only-of-type {\n",
       "        vertical-align: middle;\n",
       "    }\n",
       "\n",
       "    .dataframe tbody tr th {\n",
       "        vertical-align: top;\n",
       "    }\n",
       "\n",
       "    .dataframe thead th {\n",
       "        text-align: right;\n",
       "    }\n",
       "</style>\n",
       "<table border=\"1\" class=\"dataframe\">\n",
       "  <thead>\n",
       "    <tr style=\"text-align: right;\">\n",
       "      <th></th>\n",
       "      <th>Col_names</th>\n",
       "      <th>Importance</th>\n",
       "      <th>cum_imp</th>\n",
       "    </tr>\n",
       "  </thead>\n",
       "  <tbody>\n",
       "    <tr>\n",
       "      <th>0</th>\n",
       "      <td>Page_traffic</td>\n",
       "      <td>0.417963</td>\n",
       "      <td>0.417963</td>\n",
       "    </tr>\n",
       "    <tr>\n",
       "      <th>1</th>\n",
       "      <td>Unit_price</td>\n",
       "      <td>0.157714</td>\n",
       "      <td>0.575677</td>\n",
       "    </tr>\n",
       "    <tr>\n",
       "      <th>19</th>\n",
       "      <td>Good_By_Bad_Rating</td>\n",
       "      <td>0.075478</td>\n",
       "      <td>0.651155</td>\n",
       "    </tr>\n",
       "    <tr>\n",
       "      <th>5</th>\n",
       "      <td>Title_Count</td>\n",
       "      <td>0.073342</td>\n",
       "      <td>0.724497</td>\n",
       "    </tr>\n",
       "    <tr>\n",
       "      <th>3</th>\n",
       "      <td>Image_Count</td>\n",
       "      <td>0.050059</td>\n",
       "      <td>0.774556</td>\n",
       "    </tr>\n",
       "    <tr>\n",
       "      <th>6</th>\n",
       "      <td>Description_Length</td>\n",
       "      <td>0.049367</td>\n",
       "      <td>0.823923</td>\n",
       "    </tr>\n",
       "    <tr>\n",
       "      <th>8</th>\n",
       "      <td>Organic Search Rank</td>\n",
       "      <td>0.029333</td>\n",
       "      <td>0.853256</td>\n",
       "    </tr>\n",
       "    <tr>\n",
       "      <th>7</th>\n",
       "      <td>num_unique_Search_Terms</td>\n",
       "      <td>0.028471</td>\n",
       "      <td>0.881727</td>\n",
       "    </tr>\n",
       "    <tr>\n",
       "      <th>2</th>\n",
       "      <td>Segment</td>\n",
       "      <td>0.020882</td>\n",
       "      <td>0.902610</td>\n",
       "    </tr>\n",
       "    <tr>\n",
       "      <th>13</th>\n",
       "      <td>Online_Impressions</td>\n",
       "      <td>0.018842</td>\n",
       "      <td>0.921452</td>\n",
       "    </tr>\n",
       "    <tr>\n",
       "      <th>11</th>\n",
       "      <td>Online_Clicks</td>\n",
       "      <td>0.014327</td>\n",
       "      <td>0.935780</td>\n",
       "    </tr>\n",
       "    <tr>\n",
       "      <th>12</th>\n",
       "      <td>Online_Cost</td>\n",
       "      <td>0.014059</td>\n",
       "      <td>0.949839</td>\n",
       "    </tr>\n",
       "    <tr>\n",
       "      <th>4</th>\n",
       "      <td>Bullet_Count</td>\n",
       "      <td>0.011338</td>\n",
       "      <td>0.961177</td>\n",
       "    </tr>\n",
       "    <tr>\n",
       "      <th>14</th>\n",
       "      <td>num_unique_campaigns</td>\n",
       "      <td>0.009837</td>\n",
       "      <td>0.971014</td>\n",
       "    </tr>\n",
       "    <tr>\n",
       "      <th>16</th>\n",
       "      <td>Cost_video</td>\n",
       "      <td>0.009681</td>\n",
       "      <td>0.980695</td>\n",
       "    </tr>\n",
       "    <tr>\n",
       "      <th>15</th>\n",
       "      <td>Clicks_video</td>\n",
       "      <td>0.006088</td>\n",
       "      <td>0.986783</td>\n",
       "    </tr>\n",
       "    <tr>\n",
       "      <th>17</th>\n",
       "      <td>Impressions_video</td>\n",
       "      <td>0.005151</td>\n",
       "      <td>0.991935</td>\n",
       "    </tr>\n",
       "    <tr>\n",
       "      <th>10</th>\n",
       "      <td>Sum of Spend</td>\n",
       "      <td>0.003793</td>\n",
       "      <td>0.995728</td>\n",
       "    </tr>\n",
       "    <tr>\n",
       "      <th>18</th>\n",
       "      <td>num_unique_campaigns_offline</td>\n",
       "      <td>0.002836</td>\n",
       "      <td>0.998564</td>\n",
       "    </tr>\n",
       "    <tr>\n",
       "      <th>9</th>\n",
       "      <td>Num_of_Promotions</td>\n",
       "      <td>0.001436</td>\n",
       "      <td>1.000000</td>\n",
       "    </tr>\n",
       "  </tbody>\n",
       "</table>\n",
       "</div>"
      ],
      "text/plain": [
       "                       Col_names  Importance   cum_imp\n",
       "0                   Page_traffic    0.417963  0.417963\n",
       "1                     Unit_price    0.157714  0.575677\n",
       "19            Good_By_Bad_Rating    0.075478  0.651155\n",
       "5                    Title_Count    0.073342  0.724497\n",
       "3                    Image_Count    0.050059  0.774556\n",
       "6             Description_Length    0.049367  0.823923\n",
       "8            Organic Search Rank    0.029333  0.853256\n",
       "7        num_unique_Search_Terms    0.028471  0.881727\n",
       "2                        Segment    0.020882  0.902610\n",
       "13            Online_Impressions    0.018842  0.921452\n",
       "11                 Online_Clicks    0.014327  0.935780\n",
       "12                   Online_Cost    0.014059  0.949839\n",
       "4                   Bullet_Count    0.011338  0.961177\n",
       "14          num_unique_campaigns    0.009837  0.971014\n",
       "16                    Cost_video    0.009681  0.980695\n",
       "15                  Clicks_video    0.006088  0.986783\n",
       "17             Impressions_video    0.005151  0.991935\n",
       "10                  Sum of Spend    0.003793  0.995728\n",
       "18  num_unique_campaigns_offline    0.002836  0.998564\n",
       "9              Num_of_Promotions    0.001436  1.000000"
      ]
     },
     "execution_count": 20,
     "metadata": {},
     "output_type": "execute_result"
    }
   ],
   "source": [
    "#Retreiving the score of each feature\n",
    "feature_imp = DT_model.feature_importances_\n",
    "\n",
    "#  Sort the features by importance in descending order in a dataframe.\n",
    "imp = pd.DataFrame({'Col_names': X_train.columns, 'Importance': feature_imp}).sort_values(by='Importance', ascending=False)\n",
    "# Calculate the cumulative sum of the 'Importance' column and store it in a new column called 'cum_imp'\n",
    "imp['cum_imp'] = imp.Importance.cumsum()\n",
    "imp"
   ]
  },
  {
   "cell_type": "code",
   "execution_count": 21,
   "id": "b03a629b",
   "metadata": {},
   "outputs": [
    {
     "data": {
      "text/plain": [
       "['Impressions_video',\n",
       " 'Sum of Spend',\n",
       " 'num_unique_campaigns_offline',\n",
       " 'Num_of_Promotions']"
      ]
     },
     "execution_count": 21,
     "metadata": {},
     "output_type": "execute_result"
    }
   ],
   "source": [
    "drop_col = imp[imp.cum_imp >  0.99]['Col_names'].to_list()\n",
    "drop_col"
   ]
  },
  {
   "cell_type": "code",
   "execution_count": 22,
   "id": "eba0e0be",
   "metadata": {},
   "outputs": [],
   "source": [
    "# Dropping the columns from X_train\n",
    "X_train.drop(columns = drop_col, axis = 1, inplace = True)"
   ]
  },
  {
   "cell_type": "code",
   "execution_count": 23,
   "id": "05905b9b",
   "metadata": {},
   "outputs": [],
   "source": [
    "# Dropping the columns from X_test\n",
    "X_test.drop(columns = drop_col, axis = 1, inplace = True)"
   ]
  },
  {
   "cell_type": "markdown",
   "id": "f4af97bd",
   "metadata": {},
   "source": [
    "<h3>Making predictions using the model</h3>"
   ]
  },
  {
   "cell_type": "code",
   "execution_count": 24,
   "id": "4845ba05",
   "metadata": {},
   "outputs": [],
   "source": [
    "DT_model = DecisionTreeRegressor(random_state = 42)"
   ]
  },
  {
   "cell_type": "code",
   "execution_count": 25,
   "id": "325a7420",
   "metadata": {},
   "outputs": [
    {
     "data": {
      "text/html": [
       "<style>#sk-container-id-3 {color: black;}#sk-container-id-3 pre{padding: 0;}#sk-container-id-3 div.sk-toggleable {background-color: white;}#sk-container-id-3 label.sk-toggleable__label {cursor: pointer;display: block;width: 100%;margin-bottom: 0;padding: 0.3em;box-sizing: border-box;text-align: center;}#sk-container-id-3 label.sk-toggleable__label-arrow:before {content: \"▸\";float: left;margin-right: 0.25em;color: #696969;}#sk-container-id-3 label.sk-toggleable__label-arrow:hover:before {color: black;}#sk-container-id-3 div.sk-estimator:hover label.sk-toggleable__label-arrow:before {color: black;}#sk-container-id-3 div.sk-toggleable__content {max-height: 0;max-width: 0;overflow: hidden;text-align: left;background-color: #f0f8ff;}#sk-container-id-3 div.sk-toggleable__content pre {margin: 0.2em;color: black;border-radius: 0.25em;background-color: #f0f8ff;}#sk-container-id-3 input.sk-toggleable__control:checked~div.sk-toggleable__content {max-height: 200px;max-width: 100%;overflow: auto;}#sk-container-id-3 input.sk-toggleable__control:checked~label.sk-toggleable__label-arrow:before {content: \"▾\";}#sk-container-id-3 div.sk-estimator input.sk-toggleable__control:checked~label.sk-toggleable__label {background-color: #d4ebff;}#sk-container-id-3 div.sk-label input.sk-toggleable__control:checked~label.sk-toggleable__label {background-color: #d4ebff;}#sk-container-id-3 input.sk-hidden--visually {border: 0;clip: rect(1px 1px 1px 1px);clip: rect(1px, 1px, 1px, 1px);height: 1px;margin: -1px;overflow: hidden;padding: 0;position: absolute;width: 1px;}#sk-container-id-3 div.sk-estimator {font-family: monospace;background-color: #f0f8ff;border: 1px dotted black;border-radius: 0.25em;box-sizing: border-box;margin-bottom: 0.5em;}#sk-container-id-3 div.sk-estimator:hover {background-color: #d4ebff;}#sk-container-id-3 div.sk-parallel-item::after {content: \"\";width: 100%;border-bottom: 1px solid gray;flex-grow: 1;}#sk-container-id-3 div.sk-label:hover label.sk-toggleable__label {background-color: #d4ebff;}#sk-container-id-3 div.sk-serial::before {content: \"\";position: absolute;border-left: 1px solid gray;box-sizing: border-box;top: 0;bottom: 0;left: 50%;z-index: 0;}#sk-container-id-3 div.sk-serial {display: flex;flex-direction: column;align-items: center;background-color: white;padding-right: 0.2em;padding-left: 0.2em;position: relative;}#sk-container-id-3 div.sk-item {position: relative;z-index: 1;}#sk-container-id-3 div.sk-parallel {display: flex;align-items: stretch;justify-content: center;background-color: white;position: relative;}#sk-container-id-3 div.sk-item::before, #sk-container-id-3 div.sk-parallel-item::before {content: \"\";position: absolute;border-left: 1px solid gray;box-sizing: border-box;top: 0;bottom: 0;left: 50%;z-index: -1;}#sk-container-id-3 div.sk-parallel-item {display: flex;flex-direction: column;z-index: 1;position: relative;background-color: white;}#sk-container-id-3 div.sk-parallel-item:first-child::after {align-self: flex-end;width: 50%;}#sk-container-id-3 div.sk-parallel-item:last-child::after {align-self: flex-start;width: 50%;}#sk-container-id-3 div.sk-parallel-item:only-child::after {width: 0;}#sk-container-id-3 div.sk-dashed-wrapped {border: 1px dashed gray;margin: 0 0.4em 0.5em 0.4em;box-sizing: border-box;padding-bottom: 0.4em;background-color: white;}#sk-container-id-3 div.sk-label label {font-family: monospace;font-weight: bold;display: inline-block;line-height: 1.2em;}#sk-container-id-3 div.sk-label-container {text-align: center;}#sk-container-id-3 div.sk-container {/* jupyter's `normalize.less` sets `[hidden] { display: none; }` but bootstrap.min.css set `[hidden] { display: none !important; }` so we also need the `!important` here to be able to override the default hidden behavior on the sphinx rendered scikit-learn.org. See: https://github.com/scikit-learn/scikit-learn/issues/21755 */display: inline-block !important;position: relative;}#sk-container-id-3 div.sk-text-repr-fallback {display: none;}</style><div id=\"sk-container-id-3\" class=\"sk-top-container\"><div class=\"sk-text-repr-fallback\"><pre>DecisionTreeRegressor(random_state=42)</pre><b>In a Jupyter environment, please rerun this cell to show the HTML representation or trust the notebook. <br />On GitHub, the HTML representation is unable to render, please try loading this page with nbviewer.org.</b></div><div class=\"sk-container\" hidden><div class=\"sk-item\"><div class=\"sk-estimator sk-toggleable\"><input class=\"sk-toggleable__control sk-hidden--visually\" id=\"sk-estimator-id-3\" type=\"checkbox\" checked><label for=\"sk-estimator-id-3\" class=\"sk-toggleable__label sk-toggleable__label-arrow\">DecisionTreeRegressor</label><div class=\"sk-toggleable__content\"><pre>DecisionTreeRegressor(random_state=42)</pre></div></div></div></div></div>"
      ],
      "text/plain": [
       "DecisionTreeRegressor(random_state=42)"
      ]
     },
     "execution_count": 25,
     "metadata": {},
     "output_type": "execute_result"
    }
   ],
   "source": [
    "DT_model.fit(X_train, y_train)"
   ]
  },
  {
   "cell_type": "code",
   "execution_count": 26,
   "id": "8d0dae4a",
   "metadata": {},
   "outputs": [],
   "source": [
    "y_pred = DT_model.predict(X_test)"
   ]
  },
  {
   "cell_type": "markdown",
   "id": "e1ea5c60",
   "metadata": {},
   "source": [
    "<h3>Evaluating the model</h3>"
   ]
  },
  {
   "cell_type": "code",
   "execution_count": 27,
   "id": "86bf67d2",
   "metadata": {},
   "outputs": [],
   "source": [
    "y_pred_train = DT_model.predict(X_train)"
   ]
  },
  {
   "cell_type": "code",
   "execution_count": 28,
   "id": "5a8f29da",
   "metadata": {},
   "outputs": [
    {
     "data": {
      "text/plain": [
       "1.0"
      ]
     },
     "execution_count": 28,
     "metadata": {},
     "output_type": "execute_result"
    }
   ],
   "source": [
    "r2 = r2_score(y_train, y_pred_train)\n",
    "r2"
   ]
  },
  {
   "cell_type": "code",
   "execution_count": 29,
   "id": "b9cd1fab",
   "metadata": {},
   "outputs": [
    {
     "data": {
      "text/plain": [
       "0.5741323313286454"
      ]
     },
     "execution_count": 29,
     "metadata": {},
     "output_type": "execute_result"
    }
   ],
   "source": [
    "r2 = r2_score(y_test, y_pred)\n",
    "r2"
   ]
  },
  {
   "cell_type": "markdown",
   "id": "c834bafc",
   "metadata": {},
   "source": [
    "### Hyperparameter tuning"
   ]
  },
  {
   "cell_type": "code",
   "execution_count": 30,
   "id": "8b5eaf2b",
   "metadata": {},
   "outputs": [],
   "source": [
    "# Storing the depth used by default in the model\n",
    "depth = DT_model.get_depth()"
   ]
  },
  {
   "cell_type": "code",
   "execution_count": 31,
   "id": "37d6bf37",
   "metadata": {},
   "outputs": [
    {
     "data": {
      "text/plain": [
       "35"
      ]
     },
     "execution_count": 31,
     "metadata": {},
     "output_type": "execute_result"
    }
   ],
   "source": [
    "depth"
   ]
  },
  {
   "cell_type": "code",
   "execution_count": 32,
   "id": "498b6d0d",
   "metadata": {},
   "outputs": [],
   "source": [
    "# List of max_depth values \n",
    "max_depth_list = list(range(depth,0,-3))"
   ]
  },
  {
   "cell_type": "code",
   "execution_count": 33,
   "id": "dd891b6d",
   "metadata": {},
   "outputs": [
    {
     "name": "stdout",
     "output_type": "stream",
     "text": [
      "max_depth = 35|    Train Score = 1.000 |    Test score = 0.574\n",
      "_________________________________________________________________\n",
      "max_depth = 32|    Train Score = 1.000 |    Test score = 0.565\n",
      "_________________________________________________________________\n",
      "max_depth = 29|    Train Score = 1.000 |    Test score = 0.562\n",
      "_________________________________________________________________\n",
      "max_depth = 26|    Train Score = 1.000 |    Test score = 0.562\n",
      "_________________________________________________________________\n",
      "max_depth = 23|    Train Score = 0.997 |    Test score = 0.565\n",
      "_________________________________________________________________\n",
      "max_depth = 20|    Train Score = 0.984 |    Test score = 0.575\n",
      "_________________________________________________________________\n",
      "max_depth = 17|    Train Score = 0.946 |    Test score = 0.595\n",
      "_________________________________________________________________\n",
      "max_depth = 14|    Train Score = 0.867 |    Test score = 0.605\n",
      "_________________________________________________________________\n",
      "max_depth = 11|    Train Score = 0.752 |    Test score = 0.610\n",
      "_________________________________________________________________\n",
      "max_depth = 8|    Train Score = 0.611 |    Test score = 0.570\n",
      "_________________________________________________________________\n",
      "max_depth = 5|    Train Score = 0.489 |    Test score = 0.474\n",
      "_________________________________________________________________\n",
      "max_depth = 2|    Train Score = 0.343 |    Test score = 0.325\n",
      "_________________________________________________________________\n"
     ]
    }
   ],
   "source": [
    "# Dictionary to store the train and test r square scores\n",
    "\n",
    "train_scores = {}\n",
    "test_scores = {}\n",
    "\n",
    "# Loop through max_depth values and train the models\n",
    "for depth in max_depth_list:\n",
    "    # Initialize the Decision Tree model with the current max_depth value\n",
    "    DT_model = DecisionTreeRegressor(max_depth=depth, random_state=42)\n",
    "    \n",
    "    # Train the model\n",
    "    DT_model.fit(X_train, y_train)\n",
    "    \n",
    "    # Make predictions on the train dataset\n",
    "    y_train_pred = DT_model.predict(X_train)\n",
    "\n",
    "    # Make predictions on the test dataset\n",
    "    y_test_pred = DT_model.predict(X_test)\n",
    "    \n",
    "    # Store the train r square score in the dictionary with the max_depth as the key\n",
    "    train_scores[depth] = r2_score(y_train, y_train_pred)\n",
    "    \n",
    "    # Store the test r square score in the dictionary with the max_depth as the key\n",
    "    test_scores[depth] = r2_score(y_test, y_test_pred)\n",
    "    \n",
    "\n",
    "# Print the train and test r square scores for each model\n",
    "for depth in max_depth_list:\n",
    "    print(f\"max_depth = {depth}|\\\n",
    "    Train Score = {train_scores[depth]:.3f} |\\\n",
    "    Test score = {test_scores[depth]:.3f}\")\n",
    "    print('_'*65)"
   ]
  },
  {
   "cell_type": "code",
   "execution_count": null,
   "id": "f66a1e9f",
   "metadata": {},
   "outputs": [],
   "source": [
    "# Dictionary to store the train and test r square scores\n",
    "\n",
    "train_scores = {}\n",
    "test_scores = {}\n",
    "\n",
    "# Fill the values in the below list and assign value to the variable!\n",
    "min_sample_leaf_list = []\n",
    "depth =\n",
    "\n",
    "# Loop through min_sample_leaf values and train the models\n",
    "for min_sample_leaf in min_sample_leaf_list:\n",
    "    \n",
    "    # Initialize the Decision Tree model with the current min_samples_leaf value\n",
    "    DT_model = DecisionTreeRegressor(min_samples_leaf=min_sample_leaf, max_depth=depth, random_state=42)\n",
    "    \n",
    "    # Train the model\n",
    "    DT_model.fit(X_train, y_train)\n",
    "    \n",
    "    # Make predictions on the train dataset\n",
    "    y_train_pred = DT_model.predict(X_train)\n",
    "\n",
    "    # Make predictions on the test dataset\n",
    "    y_test_pred = DT_model.predict(X_test)\n",
    "    \n",
    "    # Store the train r square score in the dictionary with the min_sample_leaf as the key\n",
    "    train_scores[min_sample_leaf] = r2_score (y_train, y_train_pred)\n",
    "    \n",
    "    # Store the test r square score in the dictionary with the min_sample_leaf as the key\n",
    "    test_scores[min_sample_leaf] = r2_score (y_test, y_test_pred)\n",
    "    \n",
    "\n",
    "# Print the train and test r square scores for each model\n",
    "for min_sample_leaf in min_sample_leaf_list:\n",
    "    print(f\"min_sample_leaf = {min_sample_leaf}|\\\n",
    "    Train Score = {train_scores[min_sample_leaf]:.3f} |\\\n",
    "    Test Score = {test_scores[min_sample_leaf]:.3f}\")\n",
    "    print('_'*65)"
   ]
  }
 ],
 "metadata": {
  "kernelspec": {
   "display_name": "Python 3 (ipykernel)",
   "language": "python",
   "name": "python3"
  },
  "language_info": {
   "codemirror_mode": {
    "name": "ipython",
    "version": 3
   },
   "file_extension": ".py",
   "mimetype": "text/x-python",
   "name": "python",
   "nbconvert_exporter": "python",
   "pygments_lexer": "ipython3",
   "version": "3.11.5"
  }
 },
 "nbformat": 4,
 "nbformat_minor": 5
}
