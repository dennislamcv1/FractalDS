{
 "cells": [
  {
   "cell_type": "markdown",
   "id": "3f710eaa",
   "metadata": {},
   "source": [
    "# Video 3.2.1 - Root Mean Squared Error"
   ]
  },
  {
   "cell_type": "code",
   "execution_count": 35,
   "id": "0df9181f",
   "metadata": {},
   "outputs": [],
   "source": [
    "#Importing necessary libraries\n",
    "import pandas as pd\n",
    "import numpy as np\n",
    "import os\n",
    "import matplotlib.pyplot as plt"
   ]
  },
  {
   "cell_type": "code",
   "execution_count": 36,
   "id": "3b652dc9",
   "metadata": {},
   "outputs": [],
   "source": [
    "#changing the work directory\n",
    "os.chdir('/Users/admin/Desktop/Synergyx Dataset')"
   ]
  },
  {
   "cell_type": "code",
   "execution_count": 37,
   "id": "2eb9e756",
   "metadata": {},
   "outputs": [
    {
     "data": {
      "text/html": [
       "<div>\n",
       "<style scoped>\n",
       "    .dataframe tbody tr th:only-of-type {\n",
       "        vertical-align: middle;\n",
       "    }\n",
       "\n",
       "    .dataframe tbody tr th {\n",
       "        vertical-align: top;\n",
       "    }\n",
       "\n",
       "    .dataframe thead th {\n",
       "        text-align: right;\n",
       "    }\n",
       "</style>\n",
       "<table border=\"1\" class=\"dataframe\">\n",
       "  <thead>\n",
       "    <tr style=\"text-align: right;\">\n",
       "      <th></th>\n",
       "      <th>Page_traffic</th>\n",
       "      <th>Unit_price</th>\n",
       "      <th>Units_sold</th>\n",
       "      <th>Segment</th>\n",
       "      <th>1_Star_Rating</th>\n",
       "      <th>2_Star_Rating</th>\n",
       "      <th>3_Star_Rating</th>\n",
       "      <th>4_Star_Rating</th>\n",
       "      <th>5_Star_Rating</th>\n",
       "      <th>Image_Count</th>\n",
       "      <th>...</th>\n",
       "      <th>Sum of Spend</th>\n",
       "      <th>Online_Clicks</th>\n",
       "      <th>Online_Cost</th>\n",
       "      <th>Online_Impressions</th>\n",
       "      <th>num_unique_campaigns</th>\n",
       "      <th>Clicks_video</th>\n",
       "      <th>Cost_video</th>\n",
       "      <th>Impressions_video</th>\n",
       "      <th>num_unique_campaigns_offline</th>\n",
       "      <th>Units_sold&gt;1000</th>\n",
       "    </tr>\n",
       "  </thead>\n",
       "  <tbody>\n",
       "    <tr>\n",
       "      <th>0</th>\n",
       "      <td>5835.0</td>\n",
       "      <td>22.214389</td>\n",
       "      <td>2071</td>\n",
       "      <td>Skincare</td>\n",
       "      <td>99.0</td>\n",
       "      <td>72.0</td>\n",
       "      <td>194.0</td>\n",
       "      <td>453.0</td>\n",
       "      <td>3272.0</td>\n",
       "      <td>6.0</td>\n",
       "      <td>...</td>\n",
       "      <td>0.0</td>\n",
       "      <td>1271.0</td>\n",
       "      <td>3102.448115</td>\n",
       "      <td>238075.0</td>\n",
       "      <td>6.0</td>\n",
       "      <td>3479.0</td>\n",
       "      <td>40244.28</td>\n",
       "      <td>3856872.0</td>\n",
       "      <td>2.0</td>\n",
       "      <td>1</td>\n",
       "    </tr>\n",
       "    <tr>\n",
       "      <th>1</th>\n",
       "      <td>1881.0</td>\n",
       "      <td>11.870778</td>\n",
       "      <td>681</td>\n",
       "      <td>Skincare</td>\n",
       "      <td>118.0</td>\n",
       "      <td>73.0</td>\n",
       "      <td>200.0</td>\n",
       "      <td>430.0</td>\n",
       "      <td>3084.0</td>\n",
       "      <td>9.0</td>\n",
       "      <td>...</td>\n",
       "      <td>0.0</td>\n",
       "      <td>494.0</td>\n",
       "      <td>1723.716359</td>\n",
       "      <td>75868.0</td>\n",
       "      <td>2.0</td>\n",
       "      <td>0.0</td>\n",
       "      <td>0.00</td>\n",
       "      <td>0.0</td>\n",
       "      <td>0.0</td>\n",
       "      <td>0</td>\n",
       "    </tr>\n",
       "    <tr>\n",
       "      <th>2</th>\n",
       "      <td>2477.0</td>\n",
       "      <td>27.645714</td>\n",
       "      <td>875</td>\n",
       "      <td>Makeup</td>\n",
       "      <td>108.0</td>\n",
       "      <td>85.0</td>\n",
       "      <td>232.0</td>\n",
       "      <td>511.0</td>\n",
       "      <td>3402.0</td>\n",
       "      <td>10.0</td>\n",
       "      <td>...</td>\n",
       "      <td>0.0</td>\n",
       "      <td>0.0</td>\n",
       "      <td>0.000000</td>\n",
       "      <td>0.0</td>\n",
       "      <td>0.0</td>\n",
       "      <td>0.0</td>\n",
       "      <td>0.00</td>\n",
       "      <td>0.0</td>\n",
       "      <td>0.0</td>\n",
       "      <td>0</td>\n",
       "    </tr>\n",
       "    <tr>\n",
       "      <th>3</th>\n",
       "      <td>4087.0</td>\n",
       "      <td>16.896848</td>\n",
       "      <td>1396</td>\n",
       "      <td>Makeup</td>\n",
       "      <td>82.0</td>\n",
       "      <td>64.0</td>\n",
       "      <td>167.0</td>\n",
       "      <td>303.0</td>\n",
       "      <td>2058.0</td>\n",
       "      <td>5.0</td>\n",
       "      <td>...</td>\n",
       "      <td>0.0</td>\n",
       "      <td>0.0</td>\n",
       "      <td>0.000000</td>\n",
       "      <td>0.0</td>\n",
       "      <td>0.0</td>\n",
       "      <td>0.0</td>\n",
       "      <td>0.00</td>\n",
       "      <td>0.0</td>\n",
       "      <td>0.0</td>\n",
       "      <td>1</td>\n",
       "    </tr>\n",
       "    <tr>\n",
       "      <th>4</th>\n",
       "      <td>1446.0</td>\n",
       "      <td>16.357664</td>\n",
       "      <td>822</td>\n",
       "      <td>Hair Care</td>\n",
       "      <td>29.0</td>\n",
       "      <td>24.0</td>\n",
       "      <td>88.0</td>\n",
       "      <td>200.0</td>\n",
       "      <td>1221.0</td>\n",
       "      <td>0.0</td>\n",
       "      <td>...</td>\n",
       "      <td>0.0</td>\n",
       "      <td>0.0</td>\n",
       "      <td>0.000000</td>\n",
       "      <td>0.0</td>\n",
       "      <td>0.0</td>\n",
       "      <td>6024.0</td>\n",
       "      <td>77040.81</td>\n",
       "      <td>7539723.0</td>\n",
       "      <td>2.0</td>\n",
       "      <td>0</td>\n",
       "    </tr>\n",
       "  </tbody>\n",
       "</table>\n",
       "<p>5 rows × 26 columns</p>\n",
       "</div>"
      ],
      "text/plain": [
       "   Page_traffic  Unit_price  Units_sold    Segment  1_Star_Rating  \\\n",
       "0        5835.0   22.214389        2071   Skincare           99.0   \n",
       "1        1881.0   11.870778         681   Skincare          118.0   \n",
       "2        2477.0   27.645714         875     Makeup          108.0   \n",
       "3        4087.0   16.896848        1396     Makeup           82.0   \n",
       "4        1446.0   16.357664         822  Hair Care           29.0   \n",
       "\n",
       "   2_Star_Rating  3_Star_Rating  4_Star_Rating  5_Star_Rating  Image_Count  \\\n",
       "0           72.0          194.0          453.0         3272.0          6.0   \n",
       "1           73.0          200.0          430.0         3084.0          9.0   \n",
       "2           85.0          232.0          511.0         3402.0         10.0   \n",
       "3           64.0          167.0          303.0         2058.0          5.0   \n",
       "4           24.0           88.0          200.0         1221.0          0.0   \n",
       "\n",
       "   ...  Sum of Spend  Online_Clicks  Online_Cost  Online_Impressions  \\\n",
       "0  ...           0.0         1271.0  3102.448115            238075.0   \n",
       "1  ...           0.0          494.0  1723.716359             75868.0   \n",
       "2  ...           0.0            0.0     0.000000                 0.0   \n",
       "3  ...           0.0            0.0     0.000000                 0.0   \n",
       "4  ...           0.0            0.0     0.000000                 0.0   \n",
       "\n",
       "   num_unique_campaigns  Clicks_video  Cost_video  Impressions_video  \\\n",
       "0                   6.0        3479.0    40244.28          3856872.0   \n",
       "1                   2.0           0.0        0.00                0.0   \n",
       "2                   0.0           0.0        0.00                0.0   \n",
       "3                   0.0           0.0        0.00                0.0   \n",
       "4                   0.0        6024.0    77040.81          7539723.0   \n",
       "\n",
       "   num_unique_campaigns_offline  Units_sold>1000  \n",
       "0                           2.0                1  \n",
       "1                           0.0                0  \n",
       "2                           0.0                0  \n",
       "3                           0.0                1  \n",
       "4                           2.0                0  \n",
       "\n",
       "[5 rows x 26 columns]"
      ]
     },
     "execution_count": 37,
     "metadata": {},
     "output_type": "execute_result"
    }
   ],
   "source": [
    "#reading the data\n",
    "data = pd.read_csv('Synergix_data_preprocessed_new.csv')\n",
    "data.head()"
   ]
  },
  {
   "cell_type": "code",
   "execution_count": 39,
   "id": "2e501a55",
   "metadata": {},
   "outputs": [],
   "source": [
    "#drop Units_sold column\n",
    "data.drop(columns = 'Units_sold>1000', axis = 1, inplace = True)"
   ]
  },
  {
   "cell_type": "code",
   "execution_count": 40,
   "id": "508b4c96",
   "metadata": {},
   "outputs": [
    {
     "data": {
      "text/html": [
       "<div>\n",
       "<style scoped>\n",
       "    .dataframe tbody tr th:only-of-type {\n",
       "        vertical-align: middle;\n",
       "    }\n",
       "\n",
       "    .dataframe tbody tr th {\n",
       "        vertical-align: top;\n",
       "    }\n",
       "\n",
       "    .dataframe thead th {\n",
       "        text-align: right;\n",
       "    }\n",
       "</style>\n",
       "<table border=\"1\" class=\"dataframe\">\n",
       "  <thead>\n",
       "    <tr style=\"text-align: right;\">\n",
       "      <th></th>\n",
       "      <th>Page_traffic</th>\n",
       "      <th>Unit_price</th>\n",
       "      <th>Units_sold</th>\n",
       "      <th>Segment</th>\n",
       "      <th>1_Star_Rating</th>\n",
       "      <th>2_Star_Rating</th>\n",
       "      <th>3_Star_Rating</th>\n",
       "      <th>4_Star_Rating</th>\n",
       "      <th>5_Star_Rating</th>\n",
       "      <th>Image_Count</th>\n",
       "      <th>...</th>\n",
       "      <th>Num_of_Promotions</th>\n",
       "      <th>Sum of Spend</th>\n",
       "      <th>Online_Clicks</th>\n",
       "      <th>Online_Cost</th>\n",
       "      <th>Online_Impressions</th>\n",
       "      <th>num_unique_campaigns</th>\n",
       "      <th>Clicks_video</th>\n",
       "      <th>Cost_video</th>\n",
       "      <th>Impressions_video</th>\n",
       "      <th>num_unique_campaigns_offline</th>\n",
       "    </tr>\n",
       "  </thead>\n",
       "  <tbody>\n",
       "    <tr>\n",
       "      <th>0</th>\n",
       "      <td>5835.0</td>\n",
       "      <td>22.214389</td>\n",
       "      <td>2071</td>\n",
       "      <td>Skincare</td>\n",
       "      <td>99.0</td>\n",
       "      <td>72.0</td>\n",
       "      <td>194.0</td>\n",
       "      <td>453.0</td>\n",
       "      <td>3272.0</td>\n",
       "      <td>6.0</td>\n",
       "      <td>...</td>\n",
       "      <td>0.0</td>\n",
       "      <td>0.0</td>\n",
       "      <td>1271.0</td>\n",
       "      <td>3102.448115</td>\n",
       "      <td>238075.0</td>\n",
       "      <td>6.0</td>\n",
       "      <td>3479.0</td>\n",
       "      <td>40244.28</td>\n",
       "      <td>3856872.0</td>\n",
       "      <td>2.0</td>\n",
       "    </tr>\n",
       "    <tr>\n",
       "      <th>1</th>\n",
       "      <td>1881.0</td>\n",
       "      <td>11.870778</td>\n",
       "      <td>681</td>\n",
       "      <td>Skincare</td>\n",
       "      <td>118.0</td>\n",
       "      <td>73.0</td>\n",
       "      <td>200.0</td>\n",
       "      <td>430.0</td>\n",
       "      <td>3084.0</td>\n",
       "      <td>9.0</td>\n",
       "      <td>...</td>\n",
       "      <td>0.0</td>\n",
       "      <td>0.0</td>\n",
       "      <td>494.0</td>\n",
       "      <td>1723.716359</td>\n",
       "      <td>75868.0</td>\n",
       "      <td>2.0</td>\n",
       "      <td>0.0</td>\n",
       "      <td>0.00</td>\n",
       "      <td>0.0</td>\n",
       "      <td>0.0</td>\n",
       "    </tr>\n",
       "    <tr>\n",
       "      <th>2</th>\n",
       "      <td>2477.0</td>\n",
       "      <td>27.645714</td>\n",
       "      <td>875</td>\n",
       "      <td>Makeup</td>\n",
       "      <td>108.0</td>\n",
       "      <td>85.0</td>\n",
       "      <td>232.0</td>\n",
       "      <td>511.0</td>\n",
       "      <td>3402.0</td>\n",
       "      <td>10.0</td>\n",
       "      <td>...</td>\n",
       "      <td>0.0</td>\n",
       "      <td>0.0</td>\n",
       "      <td>0.0</td>\n",
       "      <td>0.000000</td>\n",
       "      <td>0.0</td>\n",
       "      <td>0.0</td>\n",
       "      <td>0.0</td>\n",
       "      <td>0.00</td>\n",
       "      <td>0.0</td>\n",
       "      <td>0.0</td>\n",
       "    </tr>\n",
       "    <tr>\n",
       "      <th>3</th>\n",
       "      <td>4087.0</td>\n",
       "      <td>16.896848</td>\n",
       "      <td>1396</td>\n",
       "      <td>Makeup</td>\n",
       "      <td>82.0</td>\n",
       "      <td>64.0</td>\n",
       "      <td>167.0</td>\n",
       "      <td>303.0</td>\n",
       "      <td>2058.0</td>\n",
       "      <td>5.0</td>\n",
       "      <td>...</td>\n",
       "      <td>0.0</td>\n",
       "      <td>0.0</td>\n",
       "      <td>0.0</td>\n",
       "      <td>0.000000</td>\n",
       "      <td>0.0</td>\n",
       "      <td>0.0</td>\n",
       "      <td>0.0</td>\n",
       "      <td>0.00</td>\n",
       "      <td>0.0</td>\n",
       "      <td>0.0</td>\n",
       "    </tr>\n",
       "    <tr>\n",
       "      <th>4</th>\n",
       "      <td>1446.0</td>\n",
       "      <td>16.357664</td>\n",
       "      <td>822</td>\n",
       "      <td>Hair Care</td>\n",
       "      <td>29.0</td>\n",
       "      <td>24.0</td>\n",
       "      <td>88.0</td>\n",
       "      <td>200.0</td>\n",
       "      <td>1221.0</td>\n",
       "      <td>0.0</td>\n",
       "      <td>...</td>\n",
       "      <td>0.0</td>\n",
       "      <td>0.0</td>\n",
       "      <td>0.0</td>\n",
       "      <td>0.000000</td>\n",
       "      <td>0.0</td>\n",
       "      <td>0.0</td>\n",
       "      <td>6024.0</td>\n",
       "      <td>77040.81</td>\n",
       "      <td>7539723.0</td>\n",
       "      <td>2.0</td>\n",
       "    </tr>\n",
       "  </tbody>\n",
       "</table>\n",
       "<p>5 rows × 25 columns</p>\n",
       "</div>"
      ],
      "text/plain": [
       "   Page_traffic  Unit_price  Units_sold    Segment  1_Star_Rating  \\\n",
       "0        5835.0   22.214389        2071   Skincare           99.0   \n",
       "1        1881.0   11.870778         681   Skincare          118.0   \n",
       "2        2477.0   27.645714         875     Makeup          108.0   \n",
       "3        4087.0   16.896848        1396     Makeup           82.0   \n",
       "4        1446.0   16.357664         822  Hair Care           29.0   \n",
       "\n",
       "   2_Star_Rating  3_Star_Rating  4_Star_Rating  5_Star_Rating  Image_Count  \\\n",
       "0           72.0          194.0          453.0         3272.0          6.0   \n",
       "1           73.0          200.0          430.0         3084.0          9.0   \n",
       "2           85.0          232.0          511.0         3402.0         10.0   \n",
       "3           64.0          167.0          303.0         2058.0          5.0   \n",
       "4           24.0           88.0          200.0         1221.0          0.0   \n",
       "\n",
       "   ...  Num_of_Promotions  Sum of Spend  Online_Clicks  Online_Cost  \\\n",
       "0  ...                0.0           0.0         1271.0  3102.448115   \n",
       "1  ...                0.0           0.0          494.0  1723.716359   \n",
       "2  ...                0.0           0.0            0.0     0.000000   \n",
       "3  ...                0.0           0.0            0.0     0.000000   \n",
       "4  ...                0.0           0.0            0.0     0.000000   \n",
       "\n",
       "   Online_Impressions  num_unique_campaigns  Clicks_video  Cost_video  \\\n",
       "0            238075.0                   6.0        3479.0    40244.28   \n",
       "1             75868.0                   2.0           0.0        0.00   \n",
       "2                 0.0                   0.0           0.0        0.00   \n",
       "3                 0.0                   0.0           0.0        0.00   \n",
       "4                 0.0                   0.0        6024.0    77040.81   \n",
       "\n",
       "   Impressions_video  num_unique_campaigns_offline  \n",
       "0          3856872.0                           2.0  \n",
       "1                0.0                           0.0  \n",
       "2                0.0                           0.0  \n",
       "3                0.0                           0.0  \n",
       "4          7539723.0                           2.0  \n",
       "\n",
       "[5 rows x 25 columns]"
      ]
     },
     "execution_count": 40,
     "metadata": {},
     "output_type": "execute_result"
    }
   ],
   "source": [
    "#check the data\n",
    "data.head()"
   ]
  },
  {
   "cell_type": "markdown",
   "id": "777dfe7b",
   "metadata": {},
   "source": [
    "## Good by Bad Ratings"
   ]
  },
  {
   "cell_type": "code",
   "execution_count": 41,
   "id": "2de8d67e",
   "metadata": {},
   "outputs": [],
   "source": [
    "#Storing the ratio in a list named Rating_ratio\n",
    "Rating_ratio = []\n",
    "for row in data.values:\n",
    "    if(row[4]+row[5] == 0):\n",
    "        if(row[7]+row[8] == 0):\n",
    "            #If all the ratings are zero then overall rating ratio will also be zero\n",
    "            Rating_ratio.append(0.0)\n",
    "        else:\n",
    "            #If only the numerator(1 and 2 star) ratings are zero then add -99999 to the list temporarily which \n",
    "            #will be taken care of in the next part of the code\n",
    "            Rating_ratio.append(-99999)\n",
    "    else:\n",
    "        Rating_ratio.append((int(row[7])+int(row[8]))/(int(row[4])+int(row[5])));\n",
    "              \n",
    "\n",
    "#replacing -99999 with the maximum rating in the list\n",
    "max_rating = max(Rating_ratio)\n",
    "for x in range(len(Rating_ratio)):\n",
    "    if(Rating_ratio[x] == -99999):\n",
    "        Rating_ratio[x] = max_rating"
   ]
  },
  {
   "cell_type": "code",
   "execution_count": 42,
   "id": "57396698",
   "metadata": {},
   "outputs": [],
   "source": [
    "#replacing -99999 with the maximum rating in the list\n",
    "max_rating = max(Rating_ratio)\n",
    "for x in range(len(Rating_ratio)):\n",
    "    if(Rating_ratio[x] == -99999):\n",
    "        Rating_ratio[x] = max_rating"
   ]
  },
  {
   "cell_type": "code",
   "execution_count": 43,
   "id": "5357951c",
   "metadata": {},
   "outputs": [],
   "source": [
    "#adding the column 'Good_By_Bad_Rating' to the dataframe\n",
    "data['Good_By_Bad_Rating'] = Rating_ratio"
   ]
  },
  {
   "cell_type": "code",
   "execution_count": 44,
   "id": "ee56622a",
   "metadata": {},
   "outputs": [],
   "source": [
    "#drop the rating columns\n",
    "data.drop(columns = ['1_Star_Rating', '2_Star_Rating', '3_Star_Rating', '4_Star_Rating', '5_Star_Rating'], inplace = True)"
   ]
  },
  {
   "cell_type": "markdown",
   "id": "332d5d30",
   "metadata": {},
   "source": [
    "## One-hot Encoding"
   ]
  },
  {
   "cell_type": "code",
   "execution_count": 45,
   "id": "9fb97aa8",
   "metadata": {},
   "outputs": [
    {
     "data": {
      "text/html": [
       "<div>\n",
       "<style scoped>\n",
       "    .dataframe tbody tr th:only-of-type {\n",
       "        vertical-align: middle;\n",
       "    }\n",
       "\n",
       "    .dataframe tbody tr th {\n",
       "        vertical-align: top;\n",
       "    }\n",
       "\n",
       "    .dataframe thead th {\n",
       "        text-align: right;\n",
       "    }\n",
       "</style>\n",
       "<table border=\"1\" class=\"dataframe\">\n",
       "  <thead>\n",
       "    <tr style=\"text-align: right;\">\n",
       "      <th></th>\n",
       "      <th>Page_traffic</th>\n",
       "      <th>Unit_price</th>\n",
       "      <th>Units_sold</th>\n",
       "      <th>Image_Count</th>\n",
       "      <th>Bullet_Count</th>\n",
       "      <th>Title_Count</th>\n",
       "      <th>Description_Length</th>\n",
       "      <th>num_unique_Search_Terms</th>\n",
       "      <th>Organic Search Rank</th>\n",
       "      <th>Num_of_Promotions</th>\n",
       "      <th>...</th>\n",
       "      <th>Online_Cost</th>\n",
       "      <th>Online_Impressions</th>\n",
       "      <th>num_unique_campaigns</th>\n",
       "      <th>Clicks_video</th>\n",
       "      <th>Cost_video</th>\n",
       "      <th>Impressions_video</th>\n",
       "      <th>num_unique_campaigns_offline</th>\n",
       "      <th>Good_By_Bad_Rating</th>\n",
       "      <th>Segment_Makeup</th>\n",
       "      <th>Segment_Skincare</th>\n",
       "    </tr>\n",
       "  </thead>\n",
       "  <tbody>\n",
       "    <tr>\n",
       "      <th>0</th>\n",
       "      <td>5835.0</td>\n",
       "      <td>22.214389</td>\n",
       "      <td>2071</td>\n",
       "      <td>6.0</td>\n",
       "      <td>6.0</td>\n",
       "      <td>89.0</td>\n",
       "      <td>141.0</td>\n",
       "      <td>3.0</td>\n",
       "      <td>3.0</td>\n",
       "      <td>0.0</td>\n",
       "      <td>...</td>\n",
       "      <td>3102.448115</td>\n",
       "      <td>238075.0</td>\n",
       "      <td>6.0</td>\n",
       "      <td>3479.0</td>\n",
       "      <td>40244.28</td>\n",
       "      <td>3856872.0</td>\n",
       "      <td>2.0</td>\n",
       "      <td>21.783626</td>\n",
       "      <td>False</td>\n",
       "      <td>True</td>\n",
       "    </tr>\n",
       "    <tr>\n",
       "      <th>1</th>\n",
       "      <td>1881.0</td>\n",
       "      <td>11.870778</td>\n",
       "      <td>681</td>\n",
       "      <td>9.0</td>\n",
       "      <td>8.0</td>\n",
       "      <td>126.0</td>\n",
       "      <td>149.0</td>\n",
       "      <td>13.0</td>\n",
       "      <td>16.0</td>\n",
       "      <td>0.0</td>\n",
       "      <td>...</td>\n",
       "      <td>1723.716359</td>\n",
       "      <td>75868.0</td>\n",
       "      <td>2.0</td>\n",
       "      <td>0.0</td>\n",
       "      <td>0.00</td>\n",
       "      <td>0.0</td>\n",
       "      <td>0.0</td>\n",
       "      <td>18.397906</td>\n",
       "      <td>False</td>\n",
       "      <td>True</td>\n",
       "    </tr>\n",
       "    <tr>\n",
       "      <th>2</th>\n",
       "      <td>2477.0</td>\n",
       "      <td>27.645714</td>\n",
       "      <td>875</td>\n",
       "      <td>10.0</td>\n",
       "      <td>7.0</td>\n",
       "      <td>152.0</td>\n",
       "      <td>186.0</td>\n",
       "      <td>4.0</td>\n",
       "      <td>20.0</td>\n",
       "      <td>0.0</td>\n",
       "      <td>...</td>\n",
       "      <td>0.000000</td>\n",
       "      <td>0.0</td>\n",
       "      <td>0.0</td>\n",
       "      <td>0.0</td>\n",
       "      <td>0.00</td>\n",
       "      <td>0.0</td>\n",
       "      <td>0.0</td>\n",
       "      <td>20.274611</td>\n",
       "      <td>True</td>\n",
       "      <td>False</td>\n",
       "    </tr>\n",
       "    <tr>\n",
       "      <th>3</th>\n",
       "      <td>4087.0</td>\n",
       "      <td>16.896848</td>\n",
       "      <td>1396</td>\n",
       "      <td>5.0</td>\n",
       "      <td>7.0</td>\n",
       "      <td>117.0</td>\n",
       "      <td>209.0</td>\n",
       "      <td>7.0</td>\n",
       "      <td>20.0</td>\n",
       "      <td>0.0</td>\n",
       "      <td>...</td>\n",
       "      <td>0.000000</td>\n",
       "      <td>0.0</td>\n",
       "      <td>0.0</td>\n",
       "      <td>0.0</td>\n",
       "      <td>0.00</td>\n",
       "      <td>0.0</td>\n",
       "      <td>0.0</td>\n",
       "      <td>16.171233</td>\n",
       "      <td>True</td>\n",
       "      <td>False</td>\n",
       "    </tr>\n",
       "    <tr>\n",
       "      <th>4</th>\n",
       "      <td>1446.0</td>\n",
       "      <td>16.357664</td>\n",
       "      <td>822</td>\n",
       "      <td>0.0</td>\n",
       "      <td>8.0</td>\n",
       "      <td>165.0</td>\n",
       "      <td>158.0</td>\n",
       "      <td>4.0</td>\n",
       "      <td>16.0</td>\n",
       "      <td>0.0</td>\n",
       "      <td>...</td>\n",
       "      <td>0.000000</td>\n",
       "      <td>0.0</td>\n",
       "      <td>0.0</td>\n",
       "      <td>6024.0</td>\n",
       "      <td>77040.81</td>\n",
       "      <td>7539723.0</td>\n",
       "      <td>2.0</td>\n",
       "      <td>26.811321</td>\n",
       "      <td>False</td>\n",
       "      <td>False</td>\n",
       "    </tr>\n",
       "  </tbody>\n",
       "</table>\n",
       "<p>5 rows × 22 columns</p>\n",
       "</div>"
      ],
      "text/plain": [
       "   Page_traffic  Unit_price  Units_sold  Image_Count  Bullet_Count  \\\n",
       "0        5835.0   22.214389        2071          6.0           6.0   \n",
       "1        1881.0   11.870778         681          9.0           8.0   \n",
       "2        2477.0   27.645714         875         10.0           7.0   \n",
       "3        4087.0   16.896848        1396          5.0           7.0   \n",
       "4        1446.0   16.357664         822          0.0           8.0   \n",
       "\n",
       "   Title_Count  Description_Length  num_unique_Search_Terms  \\\n",
       "0         89.0               141.0                      3.0   \n",
       "1        126.0               149.0                     13.0   \n",
       "2        152.0               186.0                      4.0   \n",
       "3        117.0               209.0                      7.0   \n",
       "4        165.0               158.0                      4.0   \n",
       "\n",
       "   Organic Search Rank  Num_of_Promotions  ...  Online_Cost  \\\n",
       "0                  3.0                0.0  ...  3102.448115   \n",
       "1                 16.0                0.0  ...  1723.716359   \n",
       "2                 20.0                0.0  ...     0.000000   \n",
       "3                 20.0                0.0  ...     0.000000   \n",
       "4                 16.0                0.0  ...     0.000000   \n",
       "\n",
       "   Online_Impressions  num_unique_campaigns  Clicks_video  Cost_video  \\\n",
       "0            238075.0                   6.0        3479.0    40244.28   \n",
       "1             75868.0                   2.0           0.0        0.00   \n",
       "2                 0.0                   0.0           0.0        0.00   \n",
       "3                 0.0                   0.0           0.0        0.00   \n",
       "4                 0.0                   0.0        6024.0    77040.81   \n",
       "\n",
       "   Impressions_video  num_unique_campaigns_offline  Good_By_Bad_Rating  \\\n",
       "0          3856872.0                           2.0           21.783626   \n",
       "1                0.0                           0.0           18.397906   \n",
       "2                0.0                           0.0           20.274611   \n",
       "3                0.0                           0.0           16.171233   \n",
       "4          7539723.0                           2.0           26.811321   \n",
       "\n",
       "   Segment_Makeup  Segment_Skincare  \n",
       "0           False              True  \n",
       "1           False              True  \n",
       "2            True             False  \n",
       "3            True             False  \n",
       "4           False             False  \n",
       "\n",
       "[5 rows x 22 columns]"
      ]
     },
     "execution_count": 45,
     "metadata": {},
     "output_type": "execute_result"
    }
   ],
   "source": [
    "#one-hot encoding\n",
    "data = pd.get_dummies(data, columns = ['Segment'], prefix = 'Segment', drop_first = True)\n",
    "data.head()"
   ]
  },
  {
   "cell_type": "markdown",
   "id": "f4a4e3b4",
   "metadata": {},
   "source": [
    "<h2>Performing Train Test Split</h2>"
   ]
  },
  {
   "cell_type": "code",
   "execution_count": 46,
   "id": "0a697639",
   "metadata": {},
   "outputs": [],
   "source": [
    "#Separating the independent and target variables\n",
    "y = data['Units_sold']\n",
    "X = data.drop(columns = ['Units_sold'], axis = 1)"
   ]
  },
  {
   "cell_type": "code",
   "execution_count": 47,
   "id": "0618d71b",
   "metadata": {},
   "outputs": [
    {
     "data": {
      "text/plain": [
       "((19631, 21), (19631,))"
      ]
     },
     "execution_count": 47,
     "metadata": {},
     "output_type": "execute_result"
    }
   ],
   "source": [
    "#Quick look at the shape of the data\n",
    "X.shape, y.shape"
   ]
  },
  {
   "cell_type": "code",
   "execution_count": 48,
   "id": "21c248ea",
   "metadata": {},
   "outputs": [],
   "source": [
    "#import train test split\n",
    "from sklearn.model_selection import train_test_split"
   ]
  },
  {
   "cell_type": "code",
   "execution_count": 50,
   "id": "a3041171",
   "metadata": {},
   "outputs": [],
   "source": [
    "#split the data into train and test\n",
    "X_train, X_test, y_train, y_test = train_test_split(X, y, test_size = 0.3, random_state = 42)"
   ]
  },
  {
   "cell_type": "code",
   "execution_count": 51,
   "id": "a1fe2c05",
   "metadata": {},
   "outputs": [
    {
     "data": {
      "text/plain": [
       "((13741, 21), (5890, 21), (13741,), (5890,))"
      ]
     },
     "execution_count": 51,
     "metadata": {},
     "output_type": "execute_result"
    }
   ],
   "source": [
    "#A quick look at the shape of the datasets\n",
    "X_train.shape, X_test.shape, y_train.shape, y_test.shape"
   ]
  },
  {
   "cell_type": "markdown",
   "id": "f93850eb",
   "metadata": {},
   "source": [
    "<h2>Feature Scaling</h2>"
   ]
  },
  {
   "cell_type": "code",
   "execution_count": 52,
   "id": "4b472dcd",
   "metadata": {},
   "outputs": [],
   "source": [
    "#import standard scaler\n",
    "from sklearn.preprocessing import StandardScaler"
   ]
  },
  {
   "cell_type": "code",
   "execution_count": 53,
   "id": "1bc8891a",
   "metadata": {},
   "outputs": [],
   "source": [
    "#create an instance for StandardScaler\n",
    "scaler = StandardScaler()"
   ]
  },
  {
   "cell_type": "code",
   "execution_count": 54,
   "id": "2e0cb2f5",
   "metadata": {},
   "outputs": [],
   "source": [
    "#let's transform the train data\n",
    "X_train_scaled = scaler.fit_transform(X_train)"
   ]
  },
  {
   "cell_type": "code",
   "execution_count": 55,
   "id": "98f7ce21",
   "metadata": {},
   "outputs": [],
   "source": [
    "X_test_scaled = scaler.transform(X_test)"
   ]
  },
  {
   "cell_type": "markdown",
   "id": "46b25659",
   "metadata": {},
   "source": [
    "<h2>KNN Model</h2>"
   ]
  },
  {
   "cell_type": "code",
   "execution_count": 56,
   "id": "f2e378b2",
   "metadata": {},
   "outputs": [],
   "source": [
    "#import the necessary class\n",
    "from sklearn.neighbors import KNeighborsRegressor"
   ]
  },
  {
   "cell_type": "code",
   "execution_count": 57,
   "id": "d1ae1a15",
   "metadata": {},
   "outputs": [],
   "source": [
    "#setting the value k or neighbors at 5\n",
    "knn_model = KNeighborsRegressor()"
   ]
  },
  {
   "cell_type": "code",
   "execution_count": 58,
   "id": "30fd1b55",
   "metadata": {
    "scrolled": true
   },
   "outputs": [
    {
     "data": {
      "text/html": [
       "<style>#sk-container-id-2 {color: black;}#sk-container-id-2 pre{padding: 0;}#sk-container-id-2 div.sk-toggleable {background-color: white;}#sk-container-id-2 label.sk-toggleable__label {cursor: pointer;display: block;width: 100%;margin-bottom: 0;padding: 0.3em;box-sizing: border-box;text-align: center;}#sk-container-id-2 label.sk-toggleable__label-arrow:before {content: \"▸\";float: left;margin-right: 0.25em;color: #696969;}#sk-container-id-2 label.sk-toggleable__label-arrow:hover:before {color: black;}#sk-container-id-2 div.sk-estimator:hover label.sk-toggleable__label-arrow:before {color: black;}#sk-container-id-2 div.sk-toggleable__content {max-height: 0;max-width: 0;overflow: hidden;text-align: left;background-color: #f0f8ff;}#sk-container-id-2 div.sk-toggleable__content pre {margin: 0.2em;color: black;border-radius: 0.25em;background-color: #f0f8ff;}#sk-container-id-2 input.sk-toggleable__control:checked~div.sk-toggleable__content {max-height: 200px;max-width: 100%;overflow: auto;}#sk-container-id-2 input.sk-toggleable__control:checked~label.sk-toggleable__label-arrow:before {content: \"▾\";}#sk-container-id-2 div.sk-estimator input.sk-toggleable__control:checked~label.sk-toggleable__label {background-color: #d4ebff;}#sk-container-id-2 div.sk-label input.sk-toggleable__control:checked~label.sk-toggleable__label {background-color: #d4ebff;}#sk-container-id-2 input.sk-hidden--visually {border: 0;clip: rect(1px 1px 1px 1px);clip: rect(1px, 1px, 1px, 1px);height: 1px;margin: -1px;overflow: hidden;padding: 0;position: absolute;width: 1px;}#sk-container-id-2 div.sk-estimator {font-family: monospace;background-color: #f0f8ff;border: 1px dotted black;border-radius: 0.25em;box-sizing: border-box;margin-bottom: 0.5em;}#sk-container-id-2 div.sk-estimator:hover {background-color: #d4ebff;}#sk-container-id-2 div.sk-parallel-item::after {content: \"\";width: 100%;border-bottom: 1px solid gray;flex-grow: 1;}#sk-container-id-2 div.sk-label:hover label.sk-toggleable__label {background-color: #d4ebff;}#sk-container-id-2 div.sk-serial::before {content: \"\";position: absolute;border-left: 1px solid gray;box-sizing: border-box;top: 0;bottom: 0;left: 50%;z-index: 0;}#sk-container-id-2 div.sk-serial {display: flex;flex-direction: column;align-items: center;background-color: white;padding-right: 0.2em;padding-left: 0.2em;position: relative;}#sk-container-id-2 div.sk-item {position: relative;z-index: 1;}#sk-container-id-2 div.sk-parallel {display: flex;align-items: stretch;justify-content: center;background-color: white;position: relative;}#sk-container-id-2 div.sk-item::before, #sk-container-id-2 div.sk-parallel-item::before {content: \"\";position: absolute;border-left: 1px solid gray;box-sizing: border-box;top: 0;bottom: 0;left: 50%;z-index: -1;}#sk-container-id-2 div.sk-parallel-item {display: flex;flex-direction: column;z-index: 1;position: relative;background-color: white;}#sk-container-id-2 div.sk-parallel-item:first-child::after {align-self: flex-end;width: 50%;}#sk-container-id-2 div.sk-parallel-item:last-child::after {align-self: flex-start;width: 50%;}#sk-container-id-2 div.sk-parallel-item:only-child::after {width: 0;}#sk-container-id-2 div.sk-dashed-wrapped {border: 1px dashed gray;margin: 0 0.4em 0.5em 0.4em;box-sizing: border-box;padding-bottom: 0.4em;background-color: white;}#sk-container-id-2 div.sk-label label {font-family: monospace;font-weight: bold;display: inline-block;line-height: 1.2em;}#sk-container-id-2 div.sk-label-container {text-align: center;}#sk-container-id-2 div.sk-container {/* jupyter's `normalize.less` sets `[hidden] { display: none; }` but bootstrap.min.css set `[hidden] { display: none !important; }` so we also need the `!important` here to be able to override the default hidden behavior on the sphinx rendered scikit-learn.org. See: https://github.com/scikit-learn/scikit-learn/issues/21755 */display: inline-block !important;position: relative;}#sk-container-id-2 div.sk-text-repr-fallback {display: none;}</style><div id=\"sk-container-id-2\" class=\"sk-top-container\"><div class=\"sk-text-repr-fallback\"><pre>KNeighborsRegressor()</pre><b>In a Jupyter environment, please rerun this cell to show the HTML representation or trust the notebook. <br />On GitHub, the HTML representation is unable to render, please try loading this page with nbviewer.org.</b></div><div class=\"sk-container\" hidden><div class=\"sk-item\"><div class=\"sk-estimator sk-toggleable\"><input class=\"sk-toggleable__control sk-hidden--visually\" id=\"sk-estimator-id-2\" type=\"checkbox\" checked><label for=\"sk-estimator-id-2\" class=\"sk-toggleable__label sk-toggleable__label-arrow\">KNeighborsRegressor</label><div class=\"sk-toggleable__content\"><pre>KNeighborsRegressor()</pre></div></div></div></div></div>"
      ],
      "text/plain": [
       "KNeighborsRegressor()"
      ]
     },
     "execution_count": 58,
     "metadata": {},
     "output_type": "execute_result"
    }
   ],
   "source": [
    "#training the knn model with train data\n",
    "knn_model.fit(X_train_scaled, y_train)"
   ]
  },
  {
   "cell_type": "code",
   "execution_count": 59,
   "id": "74285b45",
   "metadata": {},
   "outputs": [],
   "source": [
    "#making predictions on the same training data\n",
    "y_train_pred = knn_model.predict(X_train_scaled)"
   ]
  },
  {
   "cell_type": "code",
   "execution_count": 60,
   "id": "75de6604",
   "metadata": {},
   "outputs": [
    {
     "data": {
      "text/plain": [
       "array([1327. , 1114.8,    0. , ..., 1172.6,  572. , 1743.8])"
      ]
     },
     "execution_count": 60,
     "metadata": {},
     "output_type": "execute_result"
    }
   ],
   "source": [
    "#making predictions on the test data based on the learniing from fitting model on the train data\n",
    "y_pred = knn_model.predict(X_test_scaled)\n",
    "y_pred"
   ]
  },
  {
   "cell_type": "markdown",
   "id": "96528797",
   "metadata": {},
   "source": [
    "<h2>Evaluating the Model - MAE and RMSE</h2>"
   ]
  },
  {
   "cell_type": "code",
   "execution_count": 61,
   "id": "6ba1a50c",
   "metadata": {},
   "outputs": [],
   "source": [
    "#import mse and sqrt\n",
    "from sklearn.metrics import mean_squared_error, mean_absolute_error\n",
    "from math import sqrt"
   ]
  },
  {
   "cell_type": "code",
   "execution_count": 62,
   "id": "8269ce8d",
   "metadata": {},
   "outputs": [
    {
     "name": "stdout",
     "output_type": "stream",
     "text": [
      "Train MAE score:  146.77272396477696\n",
      "Test MAE score:  191.74954159592528\n"
     ]
    }
   ],
   "source": [
    "#calculate the mae score\n",
    "train_mae = mean_absolute_error(y_train, y_train_pred)\n",
    "test_mae = mean_absolute_error(y_test, y_pred)\n",
    "print('Train MAE score: ', train_mae)\n",
    "print('Test MAE score: ', test_mae)"
   ]
  },
  {
   "cell_type": "code",
   "execution_count": 63,
   "id": "d6815fb5",
   "metadata": {},
   "outputs": [
    {
     "name": "stdout",
     "output_type": "stream",
     "text": [
      "Train RMSE score:  198.1990616274034\n",
      "Test RMSE score:  257.053211458683\n"
     ]
    }
   ],
   "source": [
    "#calculate the rmse score\n",
    "train_rmse = sqrt(mean_squared_error(y_train, y_train_pred))\n",
    "test_rmse = sqrt(mean_squared_error(y_test, y_pred))\n",
    "print('Train RMSE score: ', train_rmse)\n",
    "print('Test RMSE score: ', test_rmse)"
   ]
  },
  {
   "cell_type": "markdown",
   "id": "1da711cf",
   "metadata": {},
   "source": [
    "<h1> Video 3.2.2 </h1>"
   ]
  },
  {
   "cell_type": "markdown",
   "id": "0dfaa736",
   "metadata": {},
   "source": [
    "## R2 Score"
   ]
  },
  {
   "cell_type": "code",
   "execution_count": 64,
   "id": "08dec6a8",
   "metadata": {},
   "outputs": [
    {
     "name": "stdout",
     "output_type": "stream",
     "text": [
      "Train R2 score:  0.8066205955219263\n",
      "Test R2 score:  0.6855226236540191\n"
     ]
    }
   ],
   "source": [
    "#calculate the R2 score for train and test set\n",
    "from sklearn.metrics import r2_score\n",
    "train_r2 = r2_score(y_train, y_train_pred)\n",
    "test_r2 = r2_score(y_test, y_pred)\n",
    "print('Train R2 score: ', train_r2)\n",
    "print('Test R2 score: ', test_r2)"
   ]
  },
  {
   "cell_type": "markdown",
   "id": "d7c622c3",
   "metadata": {},
   "source": [
    "## Adjusted R2 - Score"
   ]
  },
  {
   "cell_type": "markdown",
   "id": "a377fd0b",
   "metadata": {},
   "source": [
    "Since the formula for Adjusted r2 requires us to use the number of observations and number of variables, we will use the .shape function to get the 'n' and 'p' values in the formula. "
   ]
  },
  {
   "cell_type": "code",
   "execution_count": 67,
   "id": "3c1c1e2a",
   "metadata": {},
   "outputs": [],
   "source": [
    "#extracting the number of variables and observations in train and test data\n",
    "train_n = X_train.shape[0]\n",
    "train_p = X_train.shape[1]\n",
    "test_n = X_test.shape[0]\n",
    "test_p = X_test.shape[1]"
   ]
  },
  {
   "cell_type": "code",
   "execution_count": 68,
   "id": "bc80d656",
   "metadata": {},
   "outputs": [
    {
     "name": "stdout",
     "output_type": "stream",
     "text": [
      "Train Adjusted R2 score: 0.8063245850624148\n",
      "Test Adjusted R2 score: 0.6843971933705724\n"
     ]
    }
   ],
   "source": [
    "#calculate adjusted r2 for train and test data\n",
    "train_adjusted_r2 = 1 - (1 - train_r2) * (train_n - 1) / (train_n - train_p - 1)\n",
    "test_adjusted_r2 = 1 - (1 - test_r2) * (test_n - 1) / (test_n - test_p - 1)\n",
    "print(\"Train Adjusted R2 score:\", train_adjusted_r2)\n",
    "print(\"Test Adjusted R2 score:\", test_adjusted_r2)"
   ]
  },
  {
   "cell_type": "markdown",
   "id": "4f38478a",
   "metadata": {},
   "source": [
    "# Choosing the right value of K"
   ]
  },
  {
   "cell_type": "code",
   "execution_count": 65,
   "id": "40be9e3a",
   "metadata": {},
   "outputs": [],
   "source": [
    "#for loop to get accuracy scores for train and test for k values ranging from 1 to 51\n",
    "train_r2_score = []\n",
    "test_r2_score = []\n",
    "for n in range(1,51):\n",
    "    \n",
    "    knn_model = KNeighborsRegressor(n_neighbors = n)\n",
    "    knn_model.fit(X_train_scaled, y_train)\n",
    "    \n",
    "    y_train_pred = knn_model.predict(X_train_scaled)\n",
    "    y_pred = knn_model.predict(X_test_scaled)\n",
    "    \n",
    "    train_r2_score.append(r2_score(y_train, y_train_pred))\n",
    "    test_r2_score.append(r2_score(y_test, y_pred))"
   ]
  },
  {
   "cell_type": "code",
   "execution_count": 70,
   "id": "ff1860a4",
   "metadata": {},
   "outputs": [
    {
     "data": {
      "image/png": "[encoded data removed]",
      "text/plain": [
       "<Figure size 1400x600 with 1 Axes>"
      ]
     },
     "metadata": {},
     "output_type": "display_data"
    }
   ],
   "source": [
    "#plot the accuracy scores\n",
    "plt.figure(figsize = (14,6))\n",
    "plt.title('r2_score for different K')\n",
    "plt.plot(np.arange(1, len(train_r2_score)+1), train_r2_score, color = 'blue', label = 'train')\n",
    "plt.plot(np.arange(1, len(train_r2_score)+1), test_r2_score, color = 'red', label = 'test')\n",
    "plt.xticks(np.arange(1, len(train_r2_score)+1))\n",
    "plt.xlabel('K_values')\n",
    "plt.ylabel('R2 Scores')\n",
    "plt.legend()\n",
    "plt.grid()\n",
    "plt.show()\n",
    "\n"
   ]
  },
  {
   "cell_type": "markdown",
   "id": "c9c3f068",
   "metadata": {},
   "source": [
    "The graph over here is very similar to what we got for classification. With low number of neighbors from 3-5, we get the highest test performsnce. But, there is significant gap between train and test scores. AS we increase the number of neighbors, the gap between the train and the test reduces. However the performance on the test set goes down gradually. \n",
    "\n",
    "Now, coming to which model we should choose for Synergix, well, there is no right answer to this-\n",
    "- If the business is more concerned about the best-performing model that gives the highest accuracy scores on test data, then k=4 is the best model for Synergix. \n",
    "- On the other hand, if building a consistent model is more important for Synergix, then choosing one of the Good Fit Models would be preferable. \n",
    "\n",
    "For our comparison, let us choose k = 4 as the model of our choice. Just as a reminder, this simple of finding the right hyperparameter is not the best approach. We will learn the recommended practice in the next course.\n"
   ]
  },
  {
   "cell_type": "code",
   "execution_count": 71,
   "id": "ced50367",
   "metadata": {},
   "outputs": [
    {
     "name": "stdout",
     "output_type": "stream",
     "text": [
      "Test R2 score:  0.693208565060998\n"
     ]
    }
   ],
   "source": [
    "#setting the value k or neighbors at 4\n",
    "knn_model = KNeighborsRegressor(4)\n",
    "\n",
    "#training the knn model with train data\n",
    "knn_model.fit(X_train_scaled, y_train)\n",
    "\n",
    "#making predictions on the test data based on the learniing from fitting model on the train data\n",
    "y_pred = knn_model.predict(X_test_scaled)\n",
    "\n",
    "#calculate the R2 score for test set\n",
    "test_r2_4k = r2_score(y_test, y_pred)\n",
    "print('Test R2 score: ', test_r2_4k)"
   ]
  }
 ],
 "metadata": {
  "kernelspec": {
   "display_name": "Python 3 (ipykernel)",
   "language": "python",
   "name": "python3"
  },
  "language_info": {
   "codemirror_mode": {
    "name": "ipython",
    "version": 3
   },
   "file_extension": ".py",
   "mimetype": "text/x-python",
   "name": "python",
   "nbconvert_exporter": "python",
   "pygments_lexer": "ipython3",
   "version": "3.10.13"
  }
 },
 "nbformat": 4,
 "nbformat_minor": 5
}
