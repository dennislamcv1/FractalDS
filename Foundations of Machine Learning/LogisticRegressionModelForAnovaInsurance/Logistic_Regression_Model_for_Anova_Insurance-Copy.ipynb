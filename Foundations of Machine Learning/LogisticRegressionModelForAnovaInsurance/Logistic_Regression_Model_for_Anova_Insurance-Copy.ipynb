{
 "cells": [
  {
   "cell_type": "markdown",
   "metadata": {
    "deletable": false,
    "editable": false,
    "id": "hS7LjgG1F_YE",
    "nbgrader": {
     "cell_type": "markdown",
     "checksum": "631ca0bf7f75675769969f5fa2cca21c",
     "grade": false,
     "grade_id": "cell-a014181cab778514",
     "locked": true,
     "schema_version": 3,
     "solution": false,
     "task": false
    }
   },
   "source": [
    "# Problem Statement\n",
    "Anova Insurance, a global health insurance company, seeks to optimize its insurance policy premium pricing based on the health status of applicants. Understanding an applicant's health condition is crucial for two key decisions:\n",
    "- Determining eligibility for health insurance coverage.\n",
    "- Deciding on premium rates, particularly if the applicant's health indicates higher risks.\n",
    "\n",
    "Your objective is to Develop a predictive model that utilizes health data to classify individuals as 'healthy' or 'unhealthy'. This classification will assist in making informed decisions about insurance policy premium pricing."
   ]
  },
  {
   "cell_type": "markdown",
   "metadata": {
    "deletable": false,
    "editable": false,
    "id": "mJR9nLFeF_Ve",
    "nbgrader": {
     "cell_type": "markdown",
     "checksum": "2bf4ca3a62200bde2d17308e43e9ba3c",
     "grade": false,
     "grade_id": "cell-4efcca559c8749f9",
     "locked": true,
     "schema_version": 3,
     "solution": false,
     "task": false
    }
   },
   "source": [
    "# Dataset Overview\n",
    "The dataset contains 10,000 rows and 20 columns, including both numerical and categorical variables. Some columns have missing values, especially for older individuals, reflecting the scenario where certain health records may not be up-to-date. Here is the data dictionary.\n",
    "\n",
    "- Age: Represents the age of the individual. Negative values seem to be present, which might indicate data entry errors or a specific encoding used for certain age groups.\n",
    "\n",
    "- BMI (Body Mass Index): A measure of body fat based on height and weight. Typically, a BMI between 18.5 and 24.9 is considered normal.\n",
    "\n",
    "- Blood_Pressure: Represents systolic blood pressure. Normal blood pressure is usually around 120/80 mmHg.\n",
    "\n",
    "- Cholesterol: This is the cholesterol level in mg/dL. Desirable levels are usually below 200 mg/dL.\n",
    "\n",
    "- Glucose_Level: Indicates blood glucose levels. It might be fasting glucose levels, with normal levels usually ranging from 70 to 99 mg/dL.\n",
    "\n",
    "- Heart_Rate: The number of heartbeats per minute. Normal resting heart rate for adults ranges from 60 to 100 beats per minute.\n",
    "\n",
    "- Sleep_Hours: The average number of hours the individual sleeps per day.\n",
    "\n",
    "- Exercise_Hours: The average number of hours the individual exercises per day.\n",
    "\n",
    "- Water_Intake: The average daily water intake in liters.\n",
    "\n",
    "- Stress_Level: A numerical representation of stress level.\n",
    "\n",
    "- Target: This is a binary outcome variable, with '1' indicating 'Unhealthy' and '0' indicating 'Healthy'.\n",
    "\n",
    "- Smoking: A categorical variable indicating smoking status. Contains values - (0,1,2) which specify the regularity of smoking with 0 being no smoking and 2 being regular smmoking.\n",
    "\n",
    "- Alcohol: A categorical variable indicating alcohol consumption status. Contains values - (0,1,2) which specify the regularity of alcohol consumption with 0 being no consumption quality and 2 being regular consumption.\n",
    "\n",
    "- Diet: A categorical variable indcating the quality of dietary habits. Contains values - (0,1,2) which specify the quality of the habit with 0 being poor diet quality and 2 being good quality.\n",
    "\n",
    "- MentalHealth: Possibly a measure of mental health status. Contains values - (0,1,2) which specify the severity of the mental health with 0 being fine and 2 being highly severe\n",
    "\n",
    "- PhysicalActivity: A categorical variable indicating levels of physical activity. Contains values - (0,1,2) which specify the instensity of the medical history with 0 being no Physical Activity and 2 being regularly active.\n",
    "\n",
    "- MedicalHistory: Indicates the presence of medical conditions or history. Contains values - (0,1,2) which specify the severity of the medical history with 0 being nothing and 2 being highly severe.\n",
    "\n",
    "- Allergies: A categorical variable indicating allergy status. Contains values - (0,1,2) which specify the severity of the allergies with 0 being nothing and 2 being highly severe.\n",
    "\n",
    "- Diet_Type: Categorical variable indicating the type of diet an individual follows. Contains values(Vegetarian, Non-Vegetarian, Vegan).\n",
    "\n",
    "- Blood_Group: Indicates the blood group of the individual Contains values (A, B, AB, O)."
   ]
  },
  {
   "cell_type": "markdown",
   "metadata": {
    "deletable": false,
    "editable": false,
    "id": "HKNxV0n3F_SD",
    "nbgrader": {
     "cell_type": "markdown",
     "checksum": "3c0cd9c1323d047a63b036c8cc9830d4",
     "grade": false,
     "grade_id": "cell-6013686016ff8ce1",
     "locked": true,
     "schema_version": 3,
     "solution": false,
     "task": false
    }
   },
   "source": [
    "It is clear from the above description that the predictor variable is the 'Target' column."
   ]
  },
  {
   "cell_type": "markdown",
   "metadata": {
    "deletable": false,
    "editable": false,
    "id": "_tY7M9QcF_KN",
    "nbgrader": {
     "cell_type": "markdown",
     "checksum": "0c7efe40afc0048be3fa595eb60e6770",
     "grade": false,
     "grade_id": "cell-05d07dcdf0a15fbc",
     "locked": true,
     "schema_version": 3,
     "solution": false,
     "task": false
    }
   },
   "source": [
    "Let us begin with importing the necessary libraries. And read the data."
   ]
  },
  {
   "cell_type": "code",
   "execution_count": null,
   "metadata": {
    "deletable": false,
    "editable": false,
    "id": "NnmeG9iPESDk",
    "nbgrader": {
     "cell_type": "code",
     "checksum": "cbef54c205d71c93dc4265eaa2ff8ac0",
     "grade": false,
     "grade_id": "cell-5555547c4a668af9",
     "locked": true,
     "schema_version": 3,
     "solution": false,
     "task": false
    }
   },
   "outputs": [],
   "source": [
    "# import necessary libraries\n",
    "import pandas as pd\n",
    "import numpy as np"
   ]
  },
  {
   "cell_type": "code",
   "execution_count": null,
   "metadata": {
    "deletable": false,
    "editable": false,
    "id": "tdJk-wDwGMR9",
    "nbgrader": {
     "cell_type": "code",
     "checksum": "3b586a1dc63b036d2976383188e767a7",
     "grade": false,
     "grade_id": "cell-765178c63c676b7c",
     "locked": true,
     "schema_version": 3,
     "solution": false,
     "task": false
    }
   },
   "outputs": [],
   "source": [
    "# Loading and reading the dataset\n",
    "data = pd.read_csv('Healthcare_Dataset_Preprocessed.csv')\n",
    "data.head()"
   ]
  },
  {
   "cell_type": "markdown",
   "metadata": {
    "deletable": false,
    "editable": false,
    "nbgrader": {
     "cell_type": "markdown",
     "checksum": "909b0e8f61b7f4940971ebf42260f61a",
     "grade": false,
     "grade_id": "cell-2468cba45ab7fa5c",
     "locked": true,
     "schema_version": 3,
     "solution": false,
     "task": false
    }
   },
   "source": [
    "Now, we check the data type of all the columns"
   ]
  },
  {
   "cell_type": "code",
   "execution_count": null,
   "metadata": {
    "deletable": false,
    "editable": false,
    "nbgrader": {
     "cell_type": "code",
     "checksum": "b09f35f122c3f7a3ff5e8c8993a13713",
     "grade": false,
     "grade_id": "cell-bd46c7edf32a9cf6",
     "locked": true,
     "schema_version": 3,
     "solution": false,
     "task": false
    }
   },
   "outputs": [],
   "source": [
    "# Check the data types\n",
    "data.dtypes"
   ]
  },
  {
   "cell_type": "markdown",
   "metadata": {
    "deletable": false,
    "editable": false,
    "nbgrader": {
     "cell_type": "markdown",
     "checksum": "57411887dd381d675cd4a38e884b1da1",
     "grade": false,
     "grade_id": "cell-8b13a789f4b7608a",
     "locked": true,
     "schema_version": 3,
     "solution": false,
     "task": false
    }
   },
   "source": [
    "# Splitting the data into Features and Target"
   ]
  },
  {
   "cell_type": "markdown",
   "metadata": {
    "deletable": false,
    "editable": false,
    "nbgrader": {
     "cell_type": "markdown",
     "checksum": "f15a351bb1c9b84c169b3295876110e2",
     "grade": false,
     "grade_id": "cell-869ff13c8f4328c4",
     "locked": true,
     "schema_version": 3,
     "solution": false,
     "task": false
    }
   },
   "source": [
    "To feed the data into the model, we must split the data into features(X) and target(y)"
   ]
  },
  {
   "cell_type": "code",
   "execution_count": null,
   "metadata": {
    "deletable": false,
    "editable": false,
    "nbgrader": {
     "cell_type": "code",
     "checksum": "53adb97dc0f541691b7e7e82244259dd",
     "grade": false,
     "grade_id": "cell-e01c1182b4365785",
     "locked": true,
     "schema_version": 3,
     "solution": false,
     "task": false
    }
   },
   "outputs": [],
   "source": [
    "# Separate features and target variable\n",
    "X = data.drop(columns = 'Target', axis=1)\n",
    "y = data['Target']"
   ]
  },
  {
   "cell_type": "code",
   "execution_count": null,
   "metadata": {
    "deletable": false,
    "editable": false,
    "nbgrader": {
     "cell_type": "code",
     "checksum": "e8b0a0a52947ae50ef2eca8e2be156c9",
     "grade": false,
     "grade_id": "cell-fcc1ae9f89e61d56",
     "locked": true,
     "schema_version": 3,
     "solution": false,
     "task": false
    }
   },
   "outputs": [],
   "source": [
    "# verify the shape of the X and y\n",
    "X.shape, y.shape"
   ]
  },
  {
   "cell_type": "code",
   "execution_count": null,
   "metadata": {
    "deletable": false,
    "editable": false,
    "nbgrader": {
     "cell_type": "code",
     "checksum": "b0209d46a595047c4fca47ec8103892b",
     "grade": false,
     "grade_id": "cell-8eef9a6f77663c24",
     "locked": true,
     "schema_version": 3,
     "solution": false,
     "task": false
    }
   },
   "outputs": [],
   "source": [
    "# Import statsmodels\n",
    "import statsmodels.api as sm"
   ]
  },
  {
   "cell_type": "markdown",
   "metadata": {
    "deletable": false,
    "editable": false,
    "nbgrader": {
     "cell_type": "markdown",
     "checksum": "1c1d791a6bc691beb61f856ed5af8d88",
     "grade": false,
     "grade_id": "cell-18200c546c233a7f",
     "locked": true,
     "schema_version": 3,
     "solution": false,
     "task": false
    }
   },
   "source": [
    "# Building a Logistic Regression Model"
   ]
  },
  {
   "cell_type": "markdown",
   "metadata": {
    "deletable": false,
    "editable": false,
    "nbgrader": {
     "cell_type": "markdown",
     "checksum": "0294b271a12bfc47963cd450bf716d44",
     "grade": false,
     "grade_id": "cell-9e1fc21eda381bc2",
     "locked": true,
     "schema_version": 3,
     "solution": false,
     "task": false
    }
   },
   "source": [
    "Now let's create a logistic regression model by first adding a constant term to your predictor variables. Then we fit the model to the data and finally get the model summary."
   ]
  },
  {
   "cell_type": "code",
   "execution_count": null,
   "metadata": {
    "deletable": false,
    "editable": false,
    "nbgrader": {
     "cell_type": "code",
     "checksum": "693fbded964a0739aba57094d9384103",
     "grade": false,
     "grade_id": "cell-6a0045ecf864b2c2",
     "locked": true,
     "schema_version": 3,
     "solution": false,
     "task": false
    }
   },
   "outputs": [],
   "source": [
    "#Adding a constant\n",
    "X = sm.add_constant(X)\n",
    "\n",
    "#fitting the model\n",
    "model = sm.Logit(y, X).fit()\n",
    "\n",
    "#Let's take a look at the summary of the model\n",
    "model.summary()"
   ]
  },
  {
   "cell_type": "markdown",
   "metadata": {
    "deletable": false,
    "editable": false,
    "nbgrader": {
     "cell_type": "markdown",
     "checksum": "150e0a626cc64044cd70797df2f8f27b",
     "grade": false,
     "grade_id": "cell-4cb408c0eda7fa8c",
     "locked": true,
     "schema_version": 3,
     "solution": false,
     "task": false
    }
   },
   "source": [
    "# Checking the VIF Scores"
   ]
  },
  {
   "cell_type": "markdown",
   "metadata": {
    "deletable": false,
    "editable": false,
    "nbgrader": {
     "cell_type": "markdown",
     "checksum": "9d9658719b2d00883ae8ff8bb9c7c617",
     "grade": false,
     "grade_id": "cell-40b8110cd25da039",
     "locked": true,
     "schema_version": 3,
     "solution": false,
     "task": false
    }
   },
   "source": [
    "Let's address the issue of highly correlated columns based on VIF scores.\n",
    "\n",
    "Given that Anova is a newly established health insurance company, precision in predictions and informed business decisions are crucial. Ensuring the model's accuracy by leveraging the most reliable features is paramount. Features with high correlations could introduce bias, hence the need to identify and remove these highly correlated features. To start, let's assess the VIF scores across all features."
   ]
  },
  {
   "cell_type": "code",
   "execution_count": null,
   "metadata": {
    "deletable": false,
    "editable": false,
    "nbgrader": {
     "cell_type": "code",
     "checksum": "c0fe6ef7b516d1a1953c96c92534e4de",
     "grade": false,
     "grade_id": "cell-de703cf8f7fbe3fe",
     "locked": true,
     "schema_version": 3,
     "solution": false,
     "task": false
    }
   },
   "outputs": [],
   "source": [
    "# Import variance_inflation_factor\n",
    "from statsmodels.stats.outliers_influence import variance_inflation_factor"
   ]
  },
  {
   "cell_type": "markdown",
   "metadata": {
    "deletable": false,
    "editable": false,
    "nbgrader": {
     "cell_type": "markdown",
     "checksum": "32da90c66549448695e7c114284796dc",
     "grade": false,
     "grade_id": "cell-ac2592b71b0cae23",
     "locked": true,
     "schema_version": 3,
     "solution": false,
     "task": false
    }
   },
   "source": [
    "Steps for the solution:\n",
    "1. **Initialize DataFrame:** Creates an empty DataFrame `vif_data` to store VIF results.\n",
    "\n",
    "2. **Add 'Variable' Column:** Add a column \"Variable\" to `vif_data` with column names from the input DataFrame `data`.\n",
    "\n",
    "3. **Calculate VIF:** Use list comprehension and `variance_inflation_factor` to calculate VIF for each column in `data`.\n",
    "\n",
    "4. **Add 'VIF' Column:** Include a \"VIF\" column in `vif_data` with the calculated VIF scores for each variable.\n",
    "\n",
    "5. **Return DataFrame:** Return the resulting DataFrame `vif_data` containing variables and their respective VIF scores."
   ]
  },
  {
   "cell_type": "code",
   "execution_count": null,
   "metadata": {
    "deletable": false,
    "nbgrader": {
     "cell_type": "code",
     "checksum": "316255944bb8388090c4435d7c1647f0",
     "grade": false,
     "grade_id": "cell-6801aa50e1d8918d",
     "locked": false,
     "schema_version": 3,
     "solution": true,
     "task": false
    }
   },
   "outputs": [],
   "source": [
    "#function to calculate the VIF score\n",
    "def calculate_vif(data):\n",
    "    \"\"\"Calculate VIF for a dataframe.\"\"\"\n",
    "    # your code here\n",
    "    raise NotImplementedError\n",
    "\n",
    "# we run the function on your features to verify whether it is working or not    \n",
    "calculate_vif(X)"
   ]
  },
  {
   "cell_type": "code",
   "execution_count": null,
   "metadata": {
    "deletable": false,
    "editable": false,
    "nbgrader": {
     "cell_type": "code",
     "checksum": "3af6a491ca71fc1cecc970af2e3a8798",
     "grade": true,
     "grade_id": "cell-2ab9c4aac2b7ce0a",
     "locked": true,
     "points": 10,
     "schema_version": 3,
     "solution": false,
     "task": false
    }
   },
   "outputs": [],
   "source": [
    "assert calculate_vif(X).shape == (23,2), 'Please make sure to calculate the VIF score for each column within the feature set \"X\", and store these scores in a DataFrame, associating column names with their respective VIF scores'"
   ]
  },
  {
   "cell_type": "markdown",
   "metadata": {
    "deletable": false,
    "editable": false,
    "nbgrader": {
     "cell_type": "markdown",
     "checksum": "dd3e9b29631cbea7f1928c304143c52e",
     "grade": false,
     "grade_id": "cell-469d211107c7ad10",
     "locked": true,
     "schema_version": 3,
     "solution": false,
     "task": false
    }
   },
   "source": [
    "We notice that some features exhibit a VIF score exceeding 10, signifying strong correlations among them. Hence, it's necessary to address multicollinearity by systematically removing the feature with the highest VIF score in each iteration. This process is repeated until no feature demonstrates a VIF score greater than 10, ensuring the model doesn't contain highly correlated predictors."
   ]
  },
  {
   "cell_type": "markdown",
   "metadata": {
    "deletable": false,
    "editable": false,
    "nbgrader": {
     "cell_type": "markdown",
     "checksum": "9e80b83a4108bba220373feab7471854",
     "grade": false,
     "grade_id": "cell-dd52bbdebc72394a",
     "locked": true,
     "schema_version": 3,
     "solution": false,
     "task": false
    }
   },
   "source": [
    "# Removing features with VIF score > 10"
   ]
  },
  {
   "cell_type": "markdown",
   "metadata": {
    "deletable": false,
    "editable": false,
    "nbgrader": {
     "cell_type": "markdown",
     "checksum": "21f55806c78616d11ae07030b8477956",
     "grade": false,
     "grade_id": "cell-f30046fb2fea741f",
     "locked": true,
     "schema_version": 3,
     "solution": false,
     "task": false
    }
   },
   "source": [
    "Steps for the solution:\n",
    "1. Initialize VIF_features_removed as an empty list.\n",
    "2. While max_vif is greater than the VIF threshold:\n",
    "    \n",
    "    a. Calculate VIF scores for each feature in dataset X using calculate_vif function.\n",
    "    \n",
    "    b. Find the maximum VIF score among all features and assign it to max_vif.\n",
    "    \n",
    "    c. If max_vif exceeds the VIF threshold:\n",
    "        \n",
    "        \n",
    "        i. Identify the feature causing the highest VIF score (max) and store it in 'remove'.\n",
    "\n",
    "        ii. Append the name of the removed feature to VIF_features_removed list.\n",
    "\n",
    "        iii. Remove the identified feature from dataset X.\n",
    "\n",
    "3. End the loop when no feature has a VIF score greater than the threshold."
   ]
  },
  {
   "cell_type": "code",
   "execution_count": null,
   "metadata": {
    "deletable": false,
    "nbgrader": {
     "cell_type": "code",
     "checksum": "83901a46b614330e14e201b94832fdf9",
     "grade": false,
     "grade_id": "cell-6e677fcd56ae8fe9",
     "locked": false,
     "schema_version": 3,
     "solution": true,
     "task": false
    }
   },
   "outputs": [],
   "source": [
    "# Iteratively remove features with the highest VIF\n",
    "vif_threshold = 10\n",
    "max_vif = float('inf')\n",
    "# your code here\n",
    "raise NotImplementedError\n",
    "\n",
    "# Display the features and their VIFs after the iterative removal\n",
    "final_vif = calculate_vif(X)\n",
    "final_vif.sort_values(by='VIF', ascending = False)"
   ]
  },
  {
   "cell_type": "code",
   "execution_count": null,
   "metadata": {
    "deletable": false,
    "editable": false,
    "nbgrader": {
     "cell_type": "code",
     "checksum": "992f6c620dcd191b79c349be2ba7fd94",
     "grade": true,
     "grade_id": "cell-7ea27b9ef54f69a6",
     "locked": true,
     "points": 10,
     "schema_version": 3,
     "solution": false,
     "task": false
    }
   },
   "outputs": [],
   "source": [
    "assert final_vif.shape == (17,2), 'Please make sure to remove all features within the DataFrame \"X\" that possess VIF scores surpassing 10'"
   ]
  },
  {
   "cell_type": "markdown",
   "metadata": {
    "deletable": false,
    "editable": false,
    "nbgrader": {
     "cell_type": "markdown",
     "checksum": "d5163af6fab20041d6d6efa0395359eb",
     "grade": false,
     "grade_id": "cell-e1521e3ec1eef8d8",
     "locked": true,
     "schema_version": 3,
     "solution": false,
     "task": false
    }
   },
   "source": [
    "We verify the shapes of X (features) and y (target)"
   ]
  },
  {
   "cell_type": "code",
   "execution_count": null,
   "metadata": {
    "deletable": false,
    "editable": false,
    "nbgrader": {
     "cell_type": "code",
     "checksum": "e949d7915b9c2c1fef9ac8085b87b016",
     "grade": false,
     "grade_id": "cell-1d6b4b10e501e623",
     "locked": true,
     "schema_version": 3,
     "solution": false,
     "task": false
    }
   },
   "outputs": [],
   "source": [
    "X.shape, y.shape"
   ]
  },
  {
   "cell_type": "markdown",
   "metadata": {
    "deletable": false,
    "editable": false,
    "nbgrader": {
     "cell_type": "markdown",
     "checksum": "b91709109ed38b3368063189d3ae450e",
     "grade": false,
     "grade_id": "cell-9fe4cda2254fcc71",
     "locked": true,
     "schema_version": 3,
     "solution": false,
     "task": false
    }
   },
   "source": [
    "We will make the model once again with the removed feature and see the performance"
   ]
  },
  {
   "cell_type": "code",
   "execution_count": null,
   "metadata": {
    "deletable": false,
    "editable": false,
    "nbgrader": {
     "cell_type": "code",
     "checksum": "cf5050c64c7d58659dce418d871e3ae7",
     "grade": false,
     "grade_id": "cell-1a748c905b555c16",
     "locked": true,
     "schema_version": 3,
     "solution": false,
     "task": false
    }
   },
   "outputs": [],
   "source": [
    "#Adding a constant\n",
    "X = sm.add_constant(X)\n",
    "\n",
    "#fitting the model\n",
    "model = sm.Logit(y, X).fit()\n",
    "\n",
    "#Let's take a look at the summary of the model\n",
    "model.summary()"
   ]
  },
  {
   "cell_type": "markdown",
   "metadata": {
    "deletable": false,
    "editable": false,
    "nbgrader": {
     "cell_type": "markdown",
     "checksum": "1b2ff276ca20e36869ba7a5683b5eb0c",
     "grade": false,
     "grade_id": "cell-34ee9da866512df4",
     "locked": true,
     "schema_version": 3,
     "solution": false,
     "task": false
    }
   },
   "source": [
    "We can see from this model that we recieved a Pseudo R-squ score of 0.05064. To improve this score, we will drop features that have p-value>0.05 as those features will be less significant in our model building process and then we will see the performance of the model once again. "
   ]
  },
  {
   "cell_type": "code",
   "execution_count": null,
   "metadata": {
    "deletable": false,
    "editable": false,
    "nbgrader": {
     "cell_type": "code",
     "checksum": "af3da99d9184b7790e79041f49e27034",
     "grade": false,
     "grade_id": "cell-a67a3f75aaa03195",
     "locked": true,
     "schema_version": 3,
     "solution": false,
     "task": false
    }
   },
   "outputs": [],
   "source": [
    "X.shape, y.shape"
   ]
  },
  {
   "cell_type": "code",
   "execution_count": null,
   "metadata": {
    "deletable": false,
    "editable": false,
    "nbgrader": {
     "cell_type": "code",
     "checksum": "4d1d2264f4d957e58582d2a4358d1fb2",
     "grade": false,
     "grade_id": "cell-42ab954b51aea540",
     "locked": true,
     "schema_version": 3,
     "solution": false,
     "task": false
    }
   },
   "outputs": [],
   "source": [
    "X.drop('const', axis = 1, inplace = True)"
   ]
  },
  {
   "cell_type": "markdown",
   "metadata": {
    "deletable": false,
    "editable": false,
    "nbgrader": {
     "cell_type": "markdown",
     "checksum": "65ca51404b1680402252ba2d06a96060",
     "grade": false,
     "grade_id": "cell-d6fbf1e70d6a22c9",
     "locked": true,
     "schema_version": 3,
     "solution": false,
     "task": false
    }
   },
   "source": [
    "Let's proceed to eliminate columns that exhibit statistical insignificance by examining their respective p-values."
   ]
  },
  {
   "cell_type": "markdown",
   "metadata": {
    "deletable": false,
    "editable": false,
    "nbgrader": {
     "cell_type": "markdown",
     "checksum": "6c3d314f78183d8c15da19a0b1ef1aaa",
     "grade": false,
     "grade_id": "cell-0e0bda2f71e69189",
     "locked": true,
     "schema_version": 3,
     "solution": false,
     "task": false
    }
   },
   "source": [
    "# Checking the P value"
   ]
  },
  {
   "cell_type": "markdown",
   "metadata": {
    "deletable": false,
    "editable": false,
    "nbgrader": {
     "cell_type": "markdown",
     "checksum": "6d244f571e6c23fee6d075526773a8b2",
     "grade": false,
     "grade_id": "cell-3edd19696d3b8153",
     "locked": true,
     "schema_version": 3,
     "solution": false,
     "task": false
    }
   },
   "source": [
    "Steps for the solution:\n",
    "1. Identifies features with p-values exceeding 0.05 as statistically insignificant.\n",
    "2. Removes insignificant features from dataset X."
   ]
  },
  {
   "cell_type": "code",
   "execution_count": null,
   "metadata": {
    "deletable": false,
    "nbgrader": {
     "cell_type": "code",
     "checksum": "46bfcd9b6654c9a2464c1d99b943d435",
     "grade": false,
     "grade_id": "cell-06fcadaa7478e5bb",
     "locked": false,
     "schema_version": 3,
     "solution": true,
     "task": false
    }
   },
   "outputs": [],
   "source": [
    "# Identify features with p-values greater than 0.05\n",
    "# your code here\n",
    "raise NotImplementedError"
   ]
  },
  {
   "cell_type": "code",
   "execution_count": null,
   "metadata": {
    "deletable": false,
    "nbgrader": {
     "cell_type": "code",
     "checksum": "34d64ca6204c0e2f834445816dfc05bf",
     "grade": false,
     "grade_id": "cell-7a1d7e9830b617a6",
     "locked": false,
     "schema_version": 3,
     "solution": true,
     "task": false
    }
   },
   "outputs": [],
   "source": [
    "# Drop those features\n",
    "# your code here\n",
    "raise NotImplementedError"
   ]
  },
  {
   "cell_type": "code",
   "execution_count": null,
   "metadata": {
    "deletable": false,
    "editable": false,
    "nbgrader": {
     "cell_type": "code",
     "checksum": "caa7310b0d73066dddb8f17a281b79d7",
     "grade": true,
     "grade_id": "cell-5e84989425250ef1",
     "locked": true,
     "points": 5,
     "schema_version": 3,
     "solution": false,
     "task": false
    }
   },
   "outputs": [],
   "source": [
    "assert X.shape == (9549,5), 'Please make sure to remove all the features with p-values greater than 0.05'"
   ]
  },
  {
   "cell_type": "code",
   "execution_count": null,
   "metadata": {
    "deletable": false,
    "editable": false,
    "nbgrader": {
     "cell_type": "code",
     "checksum": "814dcbe2c239a3cc6e933516a29eb855",
     "grade": false,
     "grade_id": "cell-b863718228a2b8b9",
     "locked": true,
     "schema_version": 3,
     "solution": false,
     "task": false
    }
   },
   "outputs": [],
   "source": [
    "#Building model using the scaled features\n",
    "#Adding a constant\n",
    "X = sm.add_constant(X)\n",
    "\n",
    "#fitting the model\n",
    "model2 = sm.Logit(y, X).fit()\n",
    "\n",
    "#Let's take a look at the summary of the model\n",
    "model2.summary()"
   ]
  },
  {
   "cell_type": "code",
   "execution_count": null,
   "metadata": {
    "deletable": false,
    "editable": false,
    "nbgrader": {
     "cell_type": "code",
     "checksum": "674e1dc1b6137062bcea6040789b2814",
     "grade": false,
     "grade_id": "cell-9499ec64bb33762d",
     "locked": true,
     "schema_version": 3,
     "solution": false,
     "task": false
    }
   },
   "outputs": [],
   "source": [
    "X.drop(columns = ['const'], inplace = True)"
   ]
  },
  {
   "cell_type": "markdown",
   "metadata": {
    "deletable": false,
    "editable": false,
    "nbgrader": {
     "cell_type": "markdown",
     "checksum": "c4522fed54cfb676ca577c4adcc808d5",
     "grade": false,
     "grade_id": "cell-713a8f74609beb50",
     "locked": true,
     "schema_version": 3,
     "solution": false,
     "task": false
    }
   },
   "source": [
    "# Logistic - Model Building"
   ]
  },
  {
   "cell_type": "markdown",
   "metadata": {
    "deletable": false,
    "editable": false,
    "nbgrader": {
     "cell_type": "markdown",
     "checksum": "29326e90edc157105baadddee2e3e096",
     "grade": false,
     "grade_id": "cell-eb9e34da076b4851",
     "locked": true,
     "schema_version": 3,
     "solution": false,
     "task": false
    }
   },
   "source": [
    "## Dividing the data"
   ]
  },
  {
   "cell_type": "markdown",
   "metadata": {
    "deletable": false,
    "editable": false,
    "nbgrader": {
     "cell_type": "markdown",
     "checksum": "d3d85d11ce68440b9ffa0d33f6e92ce4",
     "grade": false,
     "grade_id": "cell-794148f20ea5796c",
     "locked": true,
     "schema_version": 3,
     "solution": false,
     "task": false
    }
   },
   "source": [
    "Let's perform the train test split. We do a 70:30 split, have random state as 42 and stratify = y."
   ]
  },
  {
   "cell_type": "code",
   "execution_count": null,
   "metadata": {
    "deletable": false,
    "editable": false,
    "nbgrader": {
     "cell_type": "code",
     "checksum": "1783f978131d16dd43c18500919300cd",
     "grade": false,
     "grade_id": "cell-d20b5b39e3c31f3b",
     "locked": true,
     "schema_version": 3,
     "solution": false,
     "task": false
    }
   },
   "outputs": [],
   "source": [
    "from sklearn.model_selection import train_test_split\n",
    "\n",
    "# Split data into training and test sets\n",
    "X_train, X_test, y_train, y_test = train_test_split(X, y, test_size = 0.3, random_state = 42, stratify = y)"
   ]
  },
  {
   "cell_type": "markdown",
   "metadata": {
    "deletable": false,
    "editable": false,
    "nbgrader": {
     "cell_type": "markdown",
     "checksum": "92da020afc4a60dcde06e334fa21f570",
     "grade": false,
     "grade_id": "cell-b6949ce003a99936",
     "locked": true,
     "schema_version": 3,
     "solution": false,
     "task": false
    }
   },
   "source": [
    "Let us proceed to scaling the data before creating the logistic regression model."
   ]
  },
  {
   "cell_type": "markdown",
   "metadata": {
    "deletable": false,
    "editable": false,
    "nbgrader": {
     "cell_type": "markdown",
     "checksum": "10db3c806e3679f3a803b3a8116423a6",
     "grade": false,
     "grade_id": "cell-ee6c0acb2d0c0ba4",
     "locked": true,
     "schema_version": 3,
     "solution": false,
     "task": false
    }
   },
   "source": [
    "## Standard Scaling"
   ]
  },
  {
   "cell_type": "code",
   "execution_count": null,
   "metadata": {
    "deletable": false,
    "editable": false,
    "nbgrader": {
     "cell_type": "code",
     "checksum": "acabaee233a95063eaa183c5f1d1f199",
     "grade": false,
     "grade_id": "cell-c79a116e10b5fb20",
     "locked": true,
     "schema_version": 3,
     "solution": false,
     "task": false
    }
   },
   "outputs": [],
   "source": [
    "# Import StandardScaler\n",
    "from sklearn.preprocessing import StandardScaler"
   ]
  },
  {
   "cell_type": "markdown",
   "metadata": {
    "deletable": false,
    "editable": false,
    "nbgrader": {
     "cell_type": "markdown",
     "checksum": "7477a5e8569ce50b6ceddf06e39b0997",
     "grade": false,
     "grade_id": "cell-2a84ff8035d7ba7d",
     "locked": true,
     "schema_version": 3,
     "solution": false,
     "task": false
    }
   },
   "source": [
    "Now, let's scale the data as usual."
   ]
  },
  {
   "cell_type": "code",
   "execution_count": null,
   "metadata": {
    "deletable": false,
    "editable": false,
    "nbgrader": {
     "cell_type": "code",
     "checksum": "83949dd2b39cbb14fb8ee1da571e17ea",
     "grade": false,
     "grade_id": "cell-0672ae0a793e3241",
     "locked": true,
     "schema_version": 3,
     "solution": false,
     "task": false
    }
   },
   "outputs": [],
   "source": [
    "# Scale both the train and the test data\n",
    "scaler = StandardScaler()\n",
    "X_train_scaled = scaler.fit_transform(X_train)\n",
    "X_test_scaled = scaler.transform(X_test)"
   ]
  },
  {
   "cell_type": "markdown",
   "metadata": {
    "deletable": false,
    "editable": false,
    "nbgrader": {
     "cell_type": "markdown",
     "checksum": "8cddaf9ea5e0497ea50166111bfee710",
     "grade": false,
     "grade_id": "cell-c73befb092402ed7",
     "locked": true,
     "schema_version": 3,
     "solution": false,
     "task": false
    }
   },
   "source": [
    "Let's convert them into a dataframe."
   ]
  },
  {
   "cell_type": "code",
   "execution_count": null,
   "metadata": {
    "deletable": false,
    "editable": false,
    "nbgrader": {
     "cell_type": "code",
     "checksum": "062e7ae1c609d946d65759b5427eacd3",
     "grade": false,
     "grade_id": "cell-da65e698231fd8b0",
     "locked": true,
     "schema_version": 3,
     "solution": false,
     "task": false
    }
   },
   "outputs": [],
   "source": [
    "# Converting train and test scaled data into a dataframe\n",
    "X_train_scaled = pd.DataFrame(X_train_scaled, columns = X.columns)\n",
    "X_test_scaled = pd.DataFrame(X_test_scaled, columns = X.columns)"
   ]
  },
  {
   "cell_type": "markdown",
   "metadata": {
    "deletable": false,
    "editable": false,
    "nbgrader": {
     "cell_type": "markdown",
     "checksum": "0a5b72e8b2ffc737bd368cb120ce3c18",
     "grade": false,
     "grade_id": "cell-67ad116ae6e98e1f",
     "locked": true,
     "schema_version": 3,
     "solution": false,
     "task": false
    }
   },
   "source": [
    "# Model Building"
   ]
  },
  {
   "cell_type": "markdown",
   "metadata": {
    "deletable": false,
    "editable": false,
    "nbgrader": {
     "cell_type": "markdown",
     "checksum": "6832c8245c984573c9467b98dfb47f9d",
     "grade": false,
     "grade_id": "cell-eaef1da73c0596cf",
     "locked": true,
     "schema_version": 3,
     "solution": false,
     "task": false
    }
   },
   "source": [
    "Now let us build the logistic regression model."
   ]
  },
  {
   "cell_type": "code",
   "execution_count": null,
   "metadata": {
    "deletable": false,
    "editable": false,
    "nbgrader": {
     "cell_type": "code",
     "checksum": "15628c711e4ccdc8e84177a6de8999e3",
     "grade": false,
     "grade_id": "cell-6e52c87635754cb3",
     "locked": true,
     "schema_version": 3,
     "solution": false,
     "task": false
    }
   },
   "outputs": [],
   "source": [
    "# Import Logistic Regression\n",
    "from sklearn.linear_model import LogisticRegression"
   ]
  },
  {
   "cell_type": "code",
   "execution_count": null,
   "metadata": {
    "deletable": false,
    "editable": false,
    "nbgrader": {
     "cell_type": "code",
     "checksum": "d9ad6a7798d539a92af6a2aa10c1d6ef",
     "grade": false,
     "grade_id": "cell-b2f270faa0226ad1",
     "locked": true,
     "schema_version": 3,
     "solution": false,
     "task": false
    }
   },
   "outputs": [],
   "source": [
    "# Fitting the logistic regression model\n",
    "logreg = LogisticRegression()\n",
    "logreg.fit(X_train_scaled, y_train)"
   ]
  },
  {
   "cell_type": "code",
   "execution_count": null,
   "metadata": {
    "deletable": false,
    "editable": false,
    "nbgrader": {
     "cell_type": "code",
     "checksum": "a3c5acd2dfdd8f5cea20681f43fcddb3",
     "grade": false,
     "grade_id": "cell-61de6025961a2530",
     "locked": true,
     "schema_version": 3,
     "solution": false,
     "task": false
    }
   },
   "outputs": [],
   "source": [
    "#Making predictions on training and test data\n",
    "y_train_pred = logreg.predict(X_train_scaled)\n",
    "y_test_pred = logreg.predict(X_test_scaled)"
   ]
  },
  {
   "cell_type": "markdown",
   "metadata": {
    "deletable": false,
    "editable": false,
    "nbgrader": {
     "cell_type": "markdown",
     "checksum": "0d6ded4d07c26dc5b526aaf6aa70921f",
     "grade": false,
     "grade_id": "cell-79619be854fd4e90",
     "locked": true,
     "schema_version": 3,
     "solution": false,
     "task": false
    }
   },
   "source": [
    "# Model Evaluation"
   ]
  },
  {
   "cell_type": "markdown",
   "metadata": {
    "deletable": false,
    "editable": false,
    "nbgrader": {
     "cell_type": "markdown",
     "checksum": "f96cf5508419c90d04bd29c6b61e0939",
     "grade": false,
     "grade_id": "cell-106499a9ad3dda5c",
     "locked": true,
     "schema_version": 3,
     "solution": false,
     "task": false
    }
   },
   "source": [
    "Now let us evaluate the model using the f1-score. Store the f1-scores in <b>score_train</b> and <b>score_test</b> variables."
   ]
  },
  {
   "cell_type": "code",
   "execution_count": null,
   "metadata": {
    "deletable": false,
    "editable": false,
    "nbgrader": {
     "cell_type": "code",
     "checksum": "003cc38f57ec5315f83e99864e3264dd",
     "grade": false,
     "grade_id": "cell-3d6fc1610d77a476",
     "locked": true,
     "schema_version": 3,
     "solution": false,
     "task": false
    }
   },
   "outputs": [],
   "source": [
    "# Import f1-score\n",
    "from sklearn.metrics import f1_score"
   ]
  },
  {
   "cell_type": "code",
   "execution_count": null,
   "metadata": {
    "deletable": false,
    "nbgrader": {
     "cell_type": "code",
     "checksum": "dddc4d7a390e84f12f1f483f43b529c4",
     "grade": false,
     "grade_id": "cell-5be59ae0989767e7",
     "locked": false,
     "schema_version": 3,
     "solution": true,
     "task": false
    }
   },
   "outputs": [],
   "source": [
    "# Generate and print the f1-score for train and test\n",
    "# your code here\n",
    "raise NotImplementedError\n",
    "print('Train score: ',score_train)\n",
    "print('Test score: ', score_test)"
   ]
  },
  {
   "cell_type": "code",
   "execution_count": null,
   "metadata": {
    "deletable": false,
    "editable": false,
    "nbgrader": {
     "cell_type": "code",
     "checksum": "26feecd29df3665ce48c171e58596c3e",
     "grade": true,
     "grade_id": "cell-a0cfc0d014f6a5a9",
     "locked": true,
     "points": 5,
     "schema_version": 3,
     "solution": false,
     "task": false
    }
   },
   "outputs": [],
   "source": [
    "assert score_train > 0.64, 'Check if the model has been made after following all the instructions.'\n",
    "assert score_test > 0.63, 'Check if the model has been made after following the instructions.'"
   ]
  },
  {
   "cell_type": "markdown",
   "metadata": {
    "deletable": false,
    "editable": false,
    "nbgrader": {
     "cell_type": "markdown",
     "checksum": "8a5b2e88b9343d762d974ff936ceffe9",
     "grade": false,
     "grade_id": "cell-d85eb6f043fd60fc",
     "locked": true,
     "schema_version": 3,
     "solution": false,
     "task": false
    }
   },
   "source": [
    "Anova is getting an underfitting model. To tackle this they also decide to implement decision trees for this supervised problem."
   ]
  }
 ],
 "metadata": {
  "colab": {
   "provenance": []
  },
  "kernelspec": {
   "display_name": "Python 3 (ipykernel)",
   "language": "python",
   "name": "python3"
  },
  "language_info": {
   "codemirror_mode": {
    "name": "ipython",
    "version": 3
   },
   "file_extension": ".py",
   "mimetype": "text/x-python",
   "name": "python",
   "nbconvert_exporter": "python",
   "pygments_lexer": "ipython3",
   "version": "3.10.6"
  }
 },
 "nbformat": 4,
 "nbformat_minor": 1
}
