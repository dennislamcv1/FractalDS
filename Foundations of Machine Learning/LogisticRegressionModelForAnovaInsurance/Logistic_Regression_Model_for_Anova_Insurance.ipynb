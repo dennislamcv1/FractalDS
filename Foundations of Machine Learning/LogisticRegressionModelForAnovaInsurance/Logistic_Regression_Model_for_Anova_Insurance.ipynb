{
 "cells": [
  {
   "cell_type": "markdown",
   "metadata": {
    "deletable": false,
    "editable": false,
    "id": "hS7LjgG1F_YE",
    "nbgrader": {
     "cell_type": "markdown",
     "checksum": "631ca0bf7f75675769969f5fa2cca21c",
     "grade": false,
     "grade_id": "cell-a014181cab778514",
     "locked": true,
     "schema_version": 3,
     "solution": false,
     "task": false
    }
   },
   "source": [
    "# Problem Statement\n",
    "Anova Insurance, a global health insurance company, seeks to optimize its insurance policy premium pricing based on the health status of applicants. Understanding an applicant's health condition is crucial for two key decisions:\n",
    "- Determining eligibility for health insurance coverage.\n",
    "- Deciding on premium rates, particularly if the applicant's health indicates higher risks.\n",
    "\n",
    "Your objective is to Develop a predictive model that utilizes health data to classify individuals as 'healthy' or 'unhealthy'. This classification will assist in making informed decisions about insurance policy premium pricing."
   ]
  },
  {
   "cell_type": "markdown",
   "metadata": {
    "deletable": false,
    "editable": false,
    "id": "mJR9nLFeF_Ve",
    "nbgrader": {
     "cell_type": "markdown",
     "checksum": "2bf4ca3a62200bde2d17308e43e9ba3c",
     "grade": false,
     "grade_id": "cell-4efcca559c8749f9",
     "locked": true,
     "schema_version": 3,
     "solution": false,
     "task": false
    }
   },
   "source": [
    "# Dataset Overview\n",
    "The dataset contains 10,000 rows and 20 columns, including both numerical and categorical variables. Some columns have missing values, especially for older individuals, reflecting the scenario where certain health records may not be up-to-date. Here is the data dictionary.\n",
    "\n",
    "- Age: Represents the age of the individual. Negative values seem to be present, which might indicate data entry errors or a specific encoding used for certain age groups.\n",
    "\n",
    "- BMI (Body Mass Index): A measure of body fat based on height and weight. Typically, a BMI between 18.5 and 24.9 is considered normal.\n",
    "\n",
    "- Blood_Pressure: Represents systolic blood pressure. Normal blood pressure is usually around 120/80 mmHg.\n",
    "\n",
    "- Cholesterol: This is the cholesterol level in mg/dL. Desirable levels are usually below 200 mg/dL.\n",
    "\n",
    "- Glucose_Level: Indicates blood glucose levels. It might be fasting glucose levels, with normal levels usually ranging from 70 to 99 mg/dL.\n",
    "\n",
    "- Heart_Rate: The number of heartbeats per minute. Normal resting heart rate for adults ranges from 60 to 100 beats per minute.\n",
    "\n",
    "- Sleep_Hours: The average number of hours the individual sleeps per day.\n",
    "\n",
    "- Exercise_Hours: The average number of hours the individual exercises per day.\n",
    "\n",
    "- Water_Intake: The average daily water intake in liters.\n",
    "\n",
    "- Stress_Level: A numerical representation of stress level.\n",
    "\n",
    "- Target: This is a binary outcome variable, with '1' indicating 'Unhealthy' and '0' indicating 'Healthy'.\n",
    "\n",
    "- Smoking: A categorical variable indicating smoking status. Contains values - (0,1,2) which specify the regularity of smoking with 0 being no smoking and 2 being regular smmoking.\n",
    "\n",
    "- Alcohol: A categorical variable indicating alcohol consumption status. Contains values - (0,1,2) which specify the regularity of alcohol consumption with 0 being no consumption quality and 2 being regular consumption.\n",
    "\n",
    "- Diet: A categorical variable indcating the quality of dietary habits. Contains values - (0,1,2) which specify the quality of the habit with 0 being poor diet quality and 2 being good quality.\n",
    "\n",
    "- MentalHealth: Possibly a measure of mental health status. Contains values - (0,1,2) which specify the severity of the mental health with 0 being fine and 2 being highly severe\n",
    "\n",
    "- PhysicalActivity: A categorical variable indicating levels of physical activity. Contains values - (0,1,2) which specify the instensity of the medical history with 0 being no Physical Activity and 2 being regularly active.\n",
    "\n",
    "- MedicalHistory: Indicates the presence of medical conditions or history. Contains values - (0,1,2) which specify the severity of the medical history with 0 being nothing and 2 being highly severe.\n",
    "\n",
    "- Allergies: A categorical variable indicating allergy status. Contains values - (0,1,2) which specify the severity of the allergies with 0 being nothing and 2 being highly severe.\n",
    "\n",
    "- Diet_Type: Categorical variable indicating the type of diet an individual follows. Contains values(Vegetarian, Non-Vegetarian, Vegan).\n",
    "\n",
    "- Blood_Group: Indicates the blood group of the individual Contains values (A, B, AB, O)."
   ]
  },
  {
   "cell_type": "markdown",
   "metadata": {
    "deletable": false,
    "editable": false,
    "id": "HKNxV0n3F_SD",
    "nbgrader": {
     "cell_type": "markdown",
     "checksum": "3c0cd9c1323d047a63b036c8cc9830d4",
     "grade": false,
     "grade_id": "cell-6013686016ff8ce1",
     "locked": true,
     "schema_version": 3,
     "solution": false,
     "task": false
    }
   },
   "source": [
    "It is clear from the above description that the predictor variable is the 'Target' column."
   ]
  },
  {
   "cell_type": "markdown",
   "metadata": {
    "deletable": false,
    "editable": false,
    "id": "_tY7M9QcF_KN",
    "nbgrader": {
     "cell_type": "markdown",
     "checksum": "0c7efe40afc0048be3fa595eb60e6770",
     "grade": false,
     "grade_id": "cell-05d07dcdf0a15fbc",
     "locked": true,
     "schema_version": 3,
     "solution": false,
     "task": false
    }
   },
   "source": [
    "Let us begin with importing the necessary libraries. And read the data."
   ]
  },
  {
   "cell_type": "code",
   "execution_count": 1,
   "metadata": {
    "deletable": false,
    "editable": false,
    "id": "NnmeG9iPESDk",
    "nbgrader": {
     "cell_type": "code",
     "checksum": "cbef54c205d71c93dc4265eaa2ff8ac0",
     "grade": false,
     "grade_id": "cell-5555547c4a668af9",
     "locked": true,
     "schema_version": 3,
     "solution": false,
     "task": false
    }
   },
   "outputs": [],
   "source": [
    "# import necessary libraries\n",
    "import pandas as pd\n",
    "import numpy as np"
   ]
  },
  {
   "cell_type": "code",
   "execution_count": 2,
   "metadata": {
    "deletable": false,
    "editable": false,
    "id": "tdJk-wDwGMR9",
    "nbgrader": {
     "cell_type": "code",
     "checksum": "3b586a1dc63b036d2976383188e767a7",
     "grade": false,
     "grade_id": "cell-765178c63c676b7c",
     "locked": true,
     "schema_version": 3,
     "solution": false,
     "task": false
    }
   },
   "outputs": [
    {
     "data": {
      "text/html": [
       "<div>\n",
       "<style scoped>\n",
       "    .dataframe tbody tr th:only-of-type {\n",
       "        vertical-align: middle;\n",
       "    }\n",
       "\n",
       "    .dataframe tbody tr th {\n",
       "        vertical-align: top;\n",
       "    }\n",
       "\n",
       "    .dataframe thead th {\n",
       "        text-align: right;\n",
       "    }\n",
       "</style>\n",
       "<table border=\"1\" class=\"dataframe\">\n",
       "  <thead>\n",
       "    <tr style=\"text-align: right;\">\n",
       "      <th></th>\n",
       "      <th>Age</th>\n",
       "      <th>BMI</th>\n",
       "      <th>Blood_Pressure</th>\n",
       "      <th>Cholesterol</th>\n",
       "      <th>Glucose_Level</th>\n",
       "      <th>Heart_Rate</th>\n",
       "      <th>Sleep_Hours</th>\n",
       "      <th>Exercise_Hours</th>\n",
       "      <th>Water_Intake</th>\n",
       "      <th>Stress_Level</th>\n",
       "      <th>...</th>\n",
       "      <th>Diet</th>\n",
       "      <th>MentalHealth</th>\n",
       "      <th>PhysicalActivity</th>\n",
       "      <th>MedicalHistory</th>\n",
       "      <th>Allergies</th>\n",
       "      <th>Diet_Type_Vegan</th>\n",
       "      <th>Diet_Type_Vegetarian</th>\n",
       "      <th>Blood_Group_AB</th>\n",
       "      <th>Blood_Group_B</th>\n",
       "      <th>Blood_Group_O</th>\n",
       "    </tr>\n",
       "  </thead>\n",
       "  <tbody>\n",
       "    <tr>\n",
       "      <th>0</th>\n",
       "      <td>2.0</td>\n",
       "      <td>26.0</td>\n",
       "      <td>111.0</td>\n",
       "      <td>198.0</td>\n",
       "      <td>99.0</td>\n",
       "      <td>72.0</td>\n",
       "      <td>4.0</td>\n",
       "      <td>1.0</td>\n",
       "      <td>5.0</td>\n",
       "      <td>5.0</td>\n",
       "      <td>...</td>\n",
       "      <td>1</td>\n",
       "      <td>2</td>\n",
       "      <td>1</td>\n",
       "      <td>0</td>\n",
       "      <td>1</td>\n",
       "      <td>0</td>\n",
       "      <td>1</td>\n",
       "      <td>1</td>\n",
       "      <td>0</td>\n",
       "      <td>0</td>\n",
       "    </tr>\n",
       "    <tr>\n",
       "      <th>1</th>\n",
       "      <td>8.0</td>\n",
       "      <td>24.0</td>\n",
       "      <td>121.0</td>\n",
       "      <td>199.0</td>\n",
       "      <td>103.0</td>\n",
       "      <td>75.0</td>\n",
       "      <td>2.0</td>\n",
       "      <td>1.0</td>\n",
       "      <td>2.0</td>\n",
       "      <td>9.0</td>\n",
       "      <td>...</td>\n",
       "      <td>1</td>\n",
       "      <td>2</td>\n",
       "      <td>1</td>\n",
       "      <td>2</td>\n",
       "      <td>2</td>\n",
       "      <td>0</td>\n",
       "      <td>0</td>\n",
       "      <td>1</td>\n",
       "      <td>0</td>\n",
       "      <td>0</td>\n",
       "    </tr>\n",
       "    <tr>\n",
       "      <th>2</th>\n",
       "      <td>81.0</td>\n",
       "      <td>27.0</td>\n",
       "      <td>147.0</td>\n",
       "      <td>203.0</td>\n",
       "      <td>100.0</td>\n",
       "      <td>74.0</td>\n",
       "      <td>10.0</td>\n",
       "      <td>-0.0</td>\n",
       "      <td>5.0</td>\n",
       "      <td>1.0</td>\n",
       "      <td>...</td>\n",
       "      <td>2</td>\n",
       "      <td>0</td>\n",
       "      <td>0</td>\n",
       "      <td>1</td>\n",
       "      <td>0</td>\n",
       "      <td>1</td>\n",
       "      <td>0</td>\n",
       "      <td>0</td>\n",
       "      <td>0</td>\n",
       "      <td>0</td>\n",
       "    </tr>\n",
       "    <tr>\n",
       "      <th>3</th>\n",
       "      <td>25.0</td>\n",
       "      <td>21.0</td>\n",
       "      <td>150.0</td>\n",
       "      <td>199.0</td>\n",
       "      <td>102.0</td>\n",
       "      <td>70.0</td>\n",
       "      <td>7.0</td>\n",
       "      <td>3.0</td>\n",
       "      <td>3.0</td>\n",
       "      <td>3.0</td>\n",
       "      <td>...</td>\n",
       "      <td>1</td>\n",
       "      <td>2</td>\n",
       "      <td>1</td>\n",
       "      <td>2</td>\n",
       "      <td>0</td>\n",
       "      <td>1</td>\n",
       "      <td>0</td>\n",
       "      <td>0</td>\n",
       "      <td>1</td>\n",
       "      <td>0</td>\n",
       "    </tr>\n",
       "    <tr>\n",
       "      <th>4</th>\n",
       "      <td>24.0</td>\n",
       "      <td>26.0</td>\n",
       "      <td>146.0</td>\n",
       "      <td>202.0</td>\n",
       "      <td>99.0</td>\n",
       "      <td>76.0</td>\n",
       "      <td>10.0</td>\n",
       "      <td>2.0</td>\n",
       "      <td>5.0</td>\n",
       "      <td>1.0</td>\n",
       "      <td>...</td>\n",
       "      <td>2</td>\n",
       "      <td>0</td>\n",
       "      <td>2</td>\n",
       "      <td>0</td>\n",
       "      <td>2</td>\n",
       "      <td>0</td>\n",
       "      <td>1</td>\n",
       "      <td>0</td>\n",
       "      <td>1</td>\n",
       "      <td>0</td>\n",
       "    </tr>\n",
       "  </tbody>\n",
       "</table>\n",
       "<p>5 rows × 23 columns</p>\n",
       "</div>"
      ],
      "text/plain": [
       "    Age   BMI  Blood_Pressure  Cholesterol  Glucose_Level  Heart_Rate  \\\n",
       "0   2.0  26.0           111.0        198.0           99.0        72.0   \n",
       "1   8.0  24.0           121.0        199.0          103.0        75.0   \n",
       "2  81.0  27.0           147.0        203.0          100.0        74.0   \n",
       "3  25.0  21.0           150.0        199.0          102.0        70.0   \n",
       "4  24.0  26.0           146.0        202.0           99.0        76.0   \n",
       "\n",
       "   Sleep_Hours  Exercise_Hours  Water_Intake  Stress_Level  ...  Diet  \\\n",
       "0          4.0             1.0           5.0           5.0  ...     1   \n",
       "1          2.0             1.0           2.0           9.0  ...     1   \n",
       "2         10.0            -0.0           5.0           1.0  ...     2   \n",
       "3          7.0             3.0           3.0           3.0  ...     1   \n",
       "4         10.0             2.0           5.0           1.0  ...     2   \n",
       "\n",
       "   MentalHealth  PhysicalActivity  MedicalHistory  Allergies  Diet_Type_Vegan  \\\n",
       "0             2                 1               0          1                0   \n",
       "1             2                 1               2          2                0   \n",
       "2             0                 0               1          0                1   \n",
       "3             2                 1               2          0                1   \n",
       "4             0                 2               0          2                0   \n",
       "\n",
       "   Diet_Type_Vegetarian  Blood_Group_AB  Blood_Group_B  Blood_Group_O  \n",
       "0                     1               1              0              0  \n",
       "1                     0               1              0              0  \n",
       "2                     0               0              0              0  \n",
       "3                     0               0              1              0  \n",
       "4                     1               0              1              0  \n",
       "\n",
       "[5 rows x 23 columns]"
      ]
     },
     "execution_count": 2,
     "metadata": {},
     "output_type": "execute_result"
    }
   ],
   "source": [
    "# Loading and reading the dataset\n",
    "data = pd.read_csv('Healthcare_Dataset_Preprocessed.csv')\n",
    "data.head()"
   ]
  },
  {
   "cell_type": "markdown",
   "metadata": {
    "deletable": false,
    "editable": false,
    "nbgrader": {
     "cell_type": "markdown",
     "checksum": "909b0e8f61b7f4940971ebf42260f61a",
     "grade": false,
     "grade_id": "cell-2468cba45ab7fa5c",
     "locked": true,
     "schema_version": 3,
     "solution": false,
     "task": false
    }
   },
   "source": [
    "Now, we check the data type of all the columns"
   ]
  },
  {
   "cell_type": "code",
   "execution_count": 3,
   "metadata": {
    "deletable": false,
    "editable": false,
    "nbgrader": {
     "cell_type": "code",
     "checksum": "b09f35f122c3f7a3ff5e8c8993a13713",
     "grade": false,
     "grade_id": "cell-bd46c7edf32a9cf6",
     "locked": true,
     "schema_version": 3,
     "solution": false,
     "task": false
    }
   },
   "outputs": [
    {
     "data": {
      "text/plain": [
       "Age                     float64\n",
       "BMI                     float64\n",
       "Blood_Pressure          float64\n",
       "Cholesterol             float64\n",
       "Glucose_Level           float64\n",
       "Heart_Rate              float64\n",
       "Sleep_Hours             float64\n",
       "Exercise_Hours          float64\n",
       "Water_Intake            float64\n",
       "Stress_Level            float64\n",
       "Target                    int64\n",
       "Smoking                   int64\n",
       "Alcohol                   int64\n",
       "Diet                      int64\n",
       "MentalHealth              int64\n",
       "PhysicalActivity          int64\n",
       "MedicalHistory            int64\n",
       "Allergies                 int64\n",
       "Diet_Type_Vegan           int64\n",
       "Diet_Type_Vegetarian      int64\n",
       "Blood_Group_AB            int64\n",
       "Blood_Group_B             int64\n",
       "Blood_Group_O             int64\n",
       "dtype: object"
      ]
     },
     "execution_count": 3,
     "metadata": {},
     "output_type": "execute_result"
    }
   ],
   "source": [
    "# Check the data types\n",
    "data.dtypes"
   ]
  },
  {
   "cell_type": "markdown",
   "metadata": {
    "deletable": false,
    "editable": false,
    "nbgrader": {
     "cell_type": "markdown",
     "checksum": "57411887dd381d675cd4a38e884b1da1",
     "grade": false,
     "grade_id": "cell-8b13a789f4b7608a",
     "locked": true,
     "schema_version": 3,
     "solution": false,
     "task": false
    }
   },
   "source": [
    "# Splitting the data into Features and Target"
   ]
  },
  {
   "cell_type": "markdown",
   "metadata": {
    "deletable": false,
    "editable": false,
    "nbgrader": {
     "cell_type": "markdown",
     "checksum": "f15a351bb1c9b84c169b3295876110e2",
     "grade": false,
     "grade_id": "cell-869ff13c8f4328c4",
     "locked": true,
     "schema_version": 3,
     "solution": false,
     "task": false
    }
   },
   "source": [
    "To feed the data into the model, we must split the data into features(X) and target(y)"
   ]
  },
  {
   "cell_type": "code",
   "execution_count": 4,
   "metadata": {
    "deletable": false,
    "editable": false,
    "nbgrader": {
     "cell_type": "code",
     "checksum": "53adb97dc0f541691b7e7e82244259dd",
     "grade": false,
     "grade_id": "cell-e01c1182b4365785",
     "locked": true,
     "schema_version": 3,
     "solution": false,
     "task": false
    }
   },
   "outputs": [],
   "source": [
    "# Separate features and target variable\n",
    "X = data.drop(columns = 'Target', axis=1)\n",
    "y = data['Target']"
   ]
  },
  {
   "cell_type": "code",
   "execution_count": 5,
   "metadata": {
    "deletable": false,
    "editable": false,
    "nbgrader": {
     "cell_type": "code",
     "checksum": "e8b0a0a52947ae50ef2eca8e2be156c9",
     "grade": false,
     "grade_id": "cell-fcc1ae9f89e61d56",
     "locked": true,
     "schema_version": 3,
     "solution": false,
     "task": false
    }
   },
   "outputs": [
    {
     "data": {
      "text/plain": [
       "((9549, 22), (9549,))"
      ]
     },
     "execution_count": 5,
     "metadata": {},
     "output_type": "execute_result"
    }
   ],
   "source": [
    "# verify the shape of the X and y\n",
    "X.shape, y.shape"
   ]
  },
  {
   "cell_type": "code",
   "execution_count": 6,
   "metadata": {
    "deletable": false,
    "editable": false,
    "nbgrader": {
     "cell_type": "code",
     "checksum": "b0209d46a595047c4fca47ec8103892b",
     "grade": false,
     "grade_id": "cell-8eef9a6f77663c24",
     "locked": true,
     "schema_version": 3,
     "solution": false,
     "task": false
    }
   },
   "outputs": [],
   "source": [
    "# Import statsmodels\n",
    "import statsmodels.api as sm"
   ]
  },
  {
   "cell_type": "markdown",
   "metadata": {
    "deletable": false,
    "editable": false,
    "nbgrader": {
     "cell_type": "markdown",
     "checksum": "1c1d791a6bc691beb61f856ed5af8d88",
     "grade": false,
     "grade_id": "cell-18200c546c233a7f",
     "locked": true,
     "schema_version": 3,
     "solution": false,
     "task": false
    }
   },
   "source": [
    "# Building a Logistic Regression Model"
   ]
  },
  {
   "cell_type": "markdown",
   "metadata": {
    "deletable": false,
    "editable": false,
    "nbgrader": {
     "cell_type": "markdown",
     "checksum": "0294b271a12bfc47963cd450bf716d44",
     "grade": false,
     "grade_id": "cell-9e1fc21eda381bc2",
     "locked": true,
     "schema_version": 3,
     "solution": false,
     "task": false
    }
   },
   "source": [
    "Now let's create a logistic regression model by first adding a constant term to your predictor variables. Then we fit the model to the data and finally get the model summary."
   ]
  },
  {
   "cell_type": "code",
   "execution_count": 7,
   "metadata": {
    "deletable": false,
    "editable": false,
    "nbgrader": {
     "cell_type": "code",
     "checksum": "693fbded964a0739aba57094d9384103",
     "grade": false,
     "grade_id": "cell-6a0045ecf864b2c2",
     "locked": true,
     "schema_version": 3,
     "solution": false,
     "task": false
    }
   },
   "outputs": [
    {
     "name": "stdout",
     "output_type": "stream",
     "text": [
      "Optimization terminated successfully.\n",
      "         Current function value: 0.415608\n",
      "         Iterations 7\n"
     ]
    },
    {
     "data": {
      "text/html": [
       "<table class=\"simpletable\">\n",
       "<caption>Logit Regression Results</caption>\n",
       "<tr>\n",
       "  <th>Dep. Variable:</th>        <td>Target</td>      <th>  No. Observations:  </th>  <td>  9549</td> \n",
       "</tr>\n",
       "<tr>\n",
       "  <th>Model:</th>                 <td>Logit</td>      <th>  Df Residuals:      </th>  <td>  9526</td> \n",
       "</tr>\n",
       "<tr>\n",
       "  <th>Method:</th>                 <td>MLE</td>       <th>  Df Model:          </th>  <td>    22</td> \n",
       "</tr>\n",
       "<tr>\n",
       "  <th>Date:</th>            <td>Sat, 13 Jan 2024</td> <th>  Pseudo R-squ.:     </th>  <td>0.3996</td> \n",
       "</tr>\n",
       "<tr>\n",
       "  <th>Time:</th>                <td>11:57:18</td>     <th>  Log-Likelihood:    </th> <td> -3968.6</td>\n",
       "</tr>\n",
       "<tr>\n",
       "  <th>converged:</th>             <td>True</td>       <th>  LL-Null:           </th> <td> -6610.1</td>\n",
       "</tr>\n",
       "<tr>\n",
       "  <th>Covariance Type:</th>     <td>nonrobust</td>    <th>  LLR p-value:       </th>  <td> 0.000</td> \n",
       "</tr>\n",
       "</table>\n",
       "<table class=\"simpletable\">\n",
       "<tr>\n",
       "            <td></td>              <th>coef</th>     <th>std err</th>      <th>z</th>      <th>P>|z|</th>  <th>[0.025</th>    <th>0.975]</th>  \n",
       "</tr>\n",
       "<tr>\n",
       "  <th>const</th>                <td>  133.3028</td> <td>    4.800</td> <td>   27.770</td> <td> 0.000</td> <td>  123.894</td> <td>  142.711</td>\n",
       "</tr>\n",
       "<tr>\n",
       "  <th>Age</th>                  <td>   -0.0240</td> <td>    0.001</td> <td>  -16.047</td> <td> 0.000</td> <td>   -0.027</td> <td>   -0.021</td>\n",
       "</tr>\n",
       "<tr>\n",
       "  <th>BMI</th>                  <td>    0.8490</td> <td>    0.024</td> <td>   35.723</td> <td> 0.000</td> <td>    0.802</td> <td>    0.896</td>\n",
       "</tr>\n",
       "<tr>\n",
       "  <th>Blood_Pressure</th>       <td>   -0.0234</td> <td>    0.001</td> <td>  -18.228</td> <td> 0.000</td> <td>   -0.026</td> <td>   -0.021</td>\n",
       "</tr>\n",
       "<tr>\n",
       "  <th>Cholesterol</th>          <td>   -0.6372</td> <td>    0.025</td> <td>  -25.939</td> <td> 0.000</td> <td>   -0.685</td> <td>   -0.589</td>\n",
       "</tr>\n",
       "<tr>\n",
       "  <th>Glucose_Level</th>        <td>   -0.1037</td> <td>    0.025</td> <td>   -4.150</td> <td> 0.000</td> <td>   -0.153</td> <td>   -0.055</td>\n",
       "</tr>\n",
       "<tr>\n",
       "  <th>Heart_Rate</th>           <td>   -0.1746</td> <td>    0.022</td> <td>   -8.012</td> <td> 0.000</td> <td>   -0.217</td> <td>   -0.132</td>\n",
       "</tr>\n",
       "<tr>\n",
       "  <th>Sleep_Hours</th>          <td>    0.1190</td> <td>    0.026</td> <td>    4.545</td> <td> 0.000</td> <td>    0.068</td> <td>    0.170</td>\n",
       "</tr>\n",
       "<tr>\n",
       "  <th>Exercise_Hours</th>       <td>    0.0474</td> <td>    0.024</td> <td>    1.950</td> <td> 0.051</td> <td>   -0.000</td> <td>    0.095</td>\n",
       "</tr>\n",
       "<tr>\n",
       "  <th>Water_Intake</th>         <td>   -0.4777</td> <td>    0.027</td> <td>  -17.495</td> <td> 0.000</td> <td>   -0.531</td> <td>   -0.424</td>\n",
       "</tr>\n",
       "<tr>\n",
       "  <th>Stress_Level</th>         <td>   -0.0576</td> <td>    0.042</td> <td>   -1.358</td> <td> 0.174</td> <td>   -0.141</td> <td>    0.026</td>\n",
       "</tr>\n",
       "<tr>\n",
       "  <th>Smoking</th>              <td>   -0.0341</td> <td>    0.034</td> <td>   -0.990</td> <td> 0.322</td> <td>   -0.102</td> <td>    0.033</td>\n",
       "</tr>\n",
       "<tr>\n",
       "  <th>Alcohol</th>              <td>   -0.0390</td> <td>    0.034</td> <td>   -1.134</td> <td> 0.257</td> <td>   -0.106</td> <td>    0.028</td>\n",
       "</tr>\n",
       "<tr>\n",
       "  <th>Diet</th>                 <td>    0.0143</td> <td>    0.034</td> <td>    0.416</td> <td> 0.677</td> <td>   -0.053</td> <td>    0.082</td>\n",
       "</tr>\n",
       "<tr>\n",
       "  <th>MentalHealth</th>         <td>   -0.0593</td> <td>    0.034</td> <td>   -1.740</td> <td> 0.082</td> <td>   -0.126</td> <td>    0.008</td>\n",
       "</tr>\n",
       "<tr>\n",
       "  <th>PhysicalActivity</th>     <td>    0.0013</td> <td>    0.035</td> <td>    0.039</td> <td> 0.969</td> <td>   -0.067</td> <td>    0.069</td>\n",
       "</tr>\n",
       "<tr>\n",
       "  <th>MedicalHistory</th>       <td>    0.0181</td> <td>    0.034</td> <td>    0.526</td> <td> 0.599</td> <td>   -0.049</td> <td>    0.085</td>\n",
       "</tr>\n",
       "<tr>\n",
       "  <th>Allergies</th>            <td>    0.0052</td> <td>    0.034</td> <td>    0.150</td> <td> 0.881</td> <td>   -0.062</td> <td>    0.073</td>\n",
       "</tr>\n",
       "<tr>\n",
       "  <th>Diet_Type_Vegan</th>      <td>    0.1274</td> <td>    0.069</td> <td>    1.849</td> <td> 0.065</td> <td>   -0.008</td> <td>    0.262</td>\n",
       "</tr>\n",
       "<tr>\n",
       "  <th>Diet_Type_Vegetarian</th> <td>    0.0840</td> <td>    0.069</td> <td>    1.226</td> <td> 0.220</td> <td>   -0.050</td> <td>    0.218</td>\n",
       "</tr>\n",
       "<tr>\n",
       "  <th>Blood_Group_AB</th>       <td>    0.0749</td> <td>    0.080</td> <td>    0.932</td> <td> 0.352</td> <td>   -0.083</td> <td>    0.232</td>\n",
       "</tr>\n",
       "<tr>\n",
       "  <th>Blood_Group_B</th>        <td>    0.0748</td> <td>    0.079</td> <td>    0.948</td> <td> 0.343</td> <td>   -0.080</td> <td>    0.229</td>\n",
       "</tr>\n",
       "<tr>\n",
       "  <th>Blood_Group_O</th>        <td>   -0.0284</td> <td>    0.079</td> <td>   -0.359</td> <td> 0.720</td> <td>   -0.183</td> <td>    0.127</td>\n",
       "</tr>\n",
       "</table>"
      ],
      "text/latex": [
       "\\begin{center}\n",
       "\\begin{tabular}{lclc}\n",
       "\\toprule\n",
       "\\textbf{Dep. Variable:}         &      Target      & \\textbf{  No. Observations:  } &     9549    \\\\\n",
       "\\textbf{Model:}                 &      Logit       & \\textbf{  Df Residuals:      } &     9526    \\\\\n",
       "\\textbf{Method:}                &       MLE        & \\textbf{  Df Model:          } &       22    \\\\\n",
       "\\textbf{Date:}                  & Sat, 13 Jan 2024 & \\textbf{  Pseudo R-squ.:     } &   0.3996    \\\\\n",
       "\\textbf{Time:}                  &     11:57:18     & \\textbf{  Log-Likelihood:    } &   -3968.6   \\\\\n",
       "\\textbf{converged:}             &       True       & \\textbf{  LL-Null:           } &   -6610.1   \\\\\n",
       "\\textbf{Covariance Type:}       &    nonrobust     & \\textbf{  LLR p-value:       } &    0.000    \\\\\n",
       "\\bottomrule\n",
       "\\end{tabular}\n",
       "\\begin{tabular}{lcccccc}\n",
       "                                & \\textbf{coef} & \\textbf{std err} & \\textbf{z} & \\textbf{P$> |$z$|$} & \\textbf{[0.025} & \\textbf{0.975]}  \\\\\n",
       "\\midrule\n",
       "\\textbf{const}                  &     133.3028  &        4.800     &    27.770  &         0.000        &      123.894    &      142.711     \\\\\n",
       "\\textbf{Age}                    &      -0.0240  &        0.001     &   -16.047  &         0.000        &       -0.027    &       -0.021     \\\\\n",
       "\\textbf{BMI}                    &       0.8490  &        0.024     &    35.723  &         0.000        &        0.802    &        0.896     \\\\\n",
       "\\textbf{Blood\\_Pressure}        &      -0.0234  &        0.001     &   -18.228  &         0.000        &       -0.026    &       -0.021     \\\\\n",
       "\\textbf{Cholesterol}            &      -0.6372  &        0.025     &   -25.939  &         0.000        &       -0.685    &       -0.589     \\\\\n",
       "\\textbf{Glucose\\_Level}         &      -0.1037  &        0.025     &    -4.150  &         0.000        &       -0.153    &       -0.055     \\\\\n",
       "\\textbf{Heart\\_Rate}            &      -0.1746  &        0.022     &    -8.012  &         0.000        &       -0.217    &       -0.132     \\\\\n",
       "\\textbf{Sleep\\_Hours}           &       0.1190  &        0.026     &     4.545  &         0.000        &        0.068    &        0.170     \\\\\n",
       "\\textbf{Exercise\\_Hours}        &       0.0474  &        0.024     &     1.950  &         0.051        &       -0.000    &        0.095     \\\\\n",
       "\\textbf{Water\\_Intake}          &      -0.4777  &        0.027     &   -17.495  &         0.000        &       -0.531    &       -0.424     \\\\\n",
       "\\textbf{Stress\\_Level}          &      -0.0576  &        0.042     &    -1.358  &         0.174        &       -0.141    &        0.026     \\\\\n",
       "\\textbf{Smoking}                &      -0.0341  &        0.034     &    -0.990  &         0.322        &       -0.102    &        0.033     \\\\\n",
       "\\textbf{Alcohol}                &      -0.0390  &        0.034     &    -1.134  &         0.257        &       -0.106    &        0.028     \\\\\n",
       "\\textbf{Diet}                   &       0.0143  &        0.034     &     0.416  &         0.677        &       -0.053    &        0.082     \\\\\n",
       "\\textbf{MentalHealth}           &      -0.0593  &        0.034     &    -1.740  &         0.082        &       -0.126    &        0.008     \\\\\n",
       "\\textbf{PhysicalActivity}       &       0.0013  &        0.035     &     0.039  &         0.969        &       -0.067    &        0.069     \\\\\n",
       "\\textbf{MedicalHistory}         &       0.0181  &        0.034     &     0.526  &         0.599        &       -0.049    &        0.085     \\\\\n",
       "\\textbf{Allergies}              &       0.0052  &        0.034     &     0.150  &         0.881        &       -0.062    &        0.073     \\\\\n",
       "\\textbf{Diet\\_Type\\_Vegan}      &       0.1274  &        0.069     &     1.849  &         0.065        &       -0.008    &        0.262     \\\\\n",
       "\\textbf{Diet\\_Type\\_Vegetarian} &       0.0840  &        0.069     &     1.226  &         0.220        &       -0.050    &        0.218     \\\\\n",
       "\\textbf{Blood\\_Group\\_AB}       &       0.0749  &        0.080     &     0.932  &         0.352        &       -0.083    &        0.232     \\\\\n",
       "\\textbf{Blood\\_Group\\_B}        &       0.0748  &        0.079     &     0.948  &         0.343        &       -0.080    &        0.229     \\\\\n",
       "\\textbf{Blood\\_Group\\_O}        &      -0.0284  &        0.079     &    -0.359  &         0.720        &       -0.183    &        0.127     \\\\\n",
       "\\bottomrule\n",
       "\\end{tabular}\n",
       "%\\caption{Logit Regression Results}\n",
       "\\end{center}"
      ],
      "text/plain": [
       "<class 'statsmodels.iolib.summary.Summary'>\n",
       "\"\"\"\n",
       "                           Logit Regression Results                           \n",
       "==============================================================================\n",
       "Dep. Variable:                 Target   No. Observations:                 9549\n",
       "Model:                          Logit   Df Residuals:                     9526\n",
       "Method:                           MLE   Df Model:                           22\n",
       "Date:                Sat, 13 Jan 2024   Pseudo R-squ.:                  0.3996\n",
       "Time:                        11:57:18   Log-Likelihood:                -3968.6\n",
       "converged:                       True   LL-Null:                       -6610.1\n",
       "Covariance Type:            nonrobust   LLR p-value:                     0.000\n",
       "========================================================================================\n",
       "                           coef    std err          z      P>|z|      [0.025      0.975]\n",
       "----------------------------------------------------------------------------------------\n",
       "const                  133.3028      4.800     27.770      0.000     123.894     142.711\n",
       "Age                     -0.0240      0.001    -16.047      0.000      -0.027      -0.021\n",
       "BMI                      0.8490      0.024     35.723      0.000       0.802       0.896\n",
       "Blood_Pressure          -0.0234      0.001    -18.228      0.000      -0.026      -0.021\n",
       "Cholesterol             -0.6372      0.025    -25.939      0.000      -0.685      -0.589\n",
       "Glucose_Level           -0.1037      0.025     -4.150      0.000      -0.153      -0.055\n",
       "Heart_Rate              -0.1746      0.022     -8.012      0.000      -0.217      -0.132\n",
       "Sleep_Hours              0.1190      0.026      4.545      0.000       0.068       0.170\n",
       "Exercise_Hours           0.0474      0.024      1.950      0.051      -0.000       0.095\n",
       "Water_Intake            -0.4777      0.027    -17.495      0.000      -0.531      -0.424\n",
       "Stress_Level            -0.0576      0.042     -1.358      0.174      -0.141       0.026\n",
       "Smoking                 -0.0341      0.034     -0.990      0.322      -0.102       0.033\n",
       "Alcohol                 -0.0390      0.034     -1.134      0.257      -0.106       0.028\n",
       "Diet                     0.0143      0.034      0.416      0.677      -0.053       0.082\n",
       "MentalHealth            -0.0593      0.034     -1.740      0.082      -0.126       0.008\n",
       "PhysicalActivity         0.0013      0.035      0.039      0.969      -0.067       0.069\n",
       "MedicalHistory           0.0181      0.034      0.526      0.599      -0.049       0.085\n",
       "Allergies                0.0052      0.034      0.150      0.881      -0.062       0.073\n",
       "Diet_Type_Vegan          0.1274      0.069      1.849      0.065      -0.008       0.262\n",
       "Diet_Type_Vegetarian     0.0840      0.069      1.226      0.220      -0.050       0.218\n",
       "Blood_Group_AB           0.0749      0.080      0.932      0.352      -0.083       0.232\n",
       "Blood_Group_B            0.0748      0.079      0.948      0.343      -0.080       0.229\n",
       "Blood_Group_O           -0.0284      0.079     -0.359      0.720      -0.183       0.127\n",
       "========================================================================================\n",
       "\"\"\""
      ]
     },
     "execution_count": 7,
     "metadata": {},
     "output_type": "execute_result"
    }
   ],
   "source": [
    "#Adding a constant\n",
    "X = sm.add_constant(X)\n",
    "\n",
    "#fitting the model\n",
    "model = sm.Logit(y, X).fit()\n",
    "\n",
    "#Let's take a look at the summary of the model\n",
    "model.summary()"
   ]
  },
  {
   "cell_type": "markdown",
   "metadata": {
    "deletable": false,
    "editable": false,
    "nbgrader": {
     "cell_type": "markdown",
     "checksum": "150e0a626cc64044cd70797df2f8f27b",
     "grade": false,
     "grade_id": "cell-4cb408c0eda7fa8c",
     "locked": true,
     "schema_version": 3,
     "solution": false,
     "task": false
    }
   },
   "source": [
    "# Checking the VIF Scores"
   ]
  },
  {
   "cell_type": "markdown",
   "metadata": {
    "deletable": false,
    "editable": false,
    "nbgrader": {
     "cell_type": "markdown",
     "checksum": "9d9658719b2d00883ae8ff8bb9c7c617",
     "grade": false,
     "grade_id": "cell-40b8110cd25da039",
     "locked": true,
     "schema_version": 3,
     "solution": false,
     "task": false
    }
   },
   "source": [
    "Let's address the issue of highly correlated columns based on VIF scores.\n",
    "\n",
    "Given that Anova is a newly established health insurance company, precision in predictions and informed business decisions are crucial. Ensuring the model's accuracy by leveraging the most reliable features is paramount. Features with high correlations could introduce bias, hence the need to identify and remove these highly correlated features. To start, let's assess the VIF scores across all features."
   ]
  },
  {
   "cell_type": "code",
   "execution_count": 8,
   "metadata": {
    "deletable": false,
    "editable": false,
    "nbgrader": {
     "cell_type": "code",
     "checksum": "c0fe6ef7b516d1a1953c96c92534e4de",
     "grade": false,
     "grade_id": "cell-de703cf8f7fbe3fe",
     "locked": true,
     "schema_version": 3,
     "solution": false,
     "task": false
    }
   },
   "outputs": [],
   "source": [
    "# Import variance_inflation_factor\n",
    "from statsmodels.stats.outliers_influence import variance_inflation_factor"
   ]
  },
  {
   "cell_type": "markdown",
   "metadata": {
    "deletable": false,
    "editable": false,
    "nbgrader": {
     "cell_type": "markdown",
     "checksum": "32da90c66549448695e7c114284796dc",
     "grade": false,
     "grade_id": "cell-ac2592b71b0cae23",
     "locked": true,
     "schema_version": 3,
     "solution": false,
     "task": false
    }
   },
   "source": [
    "Steps for the solution:\n",
    "1. **Initialize DataFrame:** Creates an empty DataFrame `vif_data` to store VIF results.\n",
    "\n",
    "2. **Add 'Variable' Column:** Add a column \"Variable\" to `vif_data` with column names from the input DataFrame `data`.\n",
    "\n",
    "3. **Calculate VIF:** Use list comprehension and `variance_inflation_factor` to calculate VIF for each column in `data`.\n",
    "\n",
    "4. **Add 'VIF' Column:** Include a \"VIF\" column in `vif_data` with the calculated VIF scores for each variable.\n",
    "\n",
    "5. **Return DataFrame:** Return the resulting DataFrame `vif_data` containing variables and their respective VIF scores."
   ]
  },
  {
   "cell_type": "code",
   "execution_count": 9,
   "metadata": {
    "deletable": false,
    "nbgrader": {
     "cell_type": "code",
     "checksum": "316255944bb8388090c4435d7c1647f0",
     "grade": false,
     "grade_id": "cell-6801aa50e1d8918d",
     "locked": false,
     "schema_version": 3,
     "solution": true,
     "task": false
    }
   },
   "outputs": [
    {
     "data": {
      "text/html": [
       "<div>\n",
       "<style scoped>\n",
       "    .dataframe tbody tr th:only-of-type {\n",
       "        vertical-align: middle;\n",
       "    }\n",
       "\n",
       "    .dataframe tbody tr th {\n",
       "        vertical-align: top;\n",
       "    }\n",
       "\n",
       "    .dataframe thead th {\n",
       "        text-align: right;\n",
       "    }\n",
       "</style>\n",
       "<table border=\"1\" class=\"dataframe\">\n",
       "  <thead>\n",
       "    <tr style=\"text-align: right;\">\n",
       "      <th></th>\n",
       "      <th>Variable</th>\n",
       "      <th>VIF</th>\n",
       "    </tr>\n",
       "  </thead>\n",
       "  <tbody>\n",
       "    <tr>\n",
       "      <th>0</th>\n",
       "      <td>const</td>\n",
       "      <td>21309.981005</td>\n",
       "    </tr>\n",
       "    <tr>\n",
       "      <th>1</th>\n",
       "      <td>Age</td>\n",
       "      <td>1.448242</td>\n",
       "    </tr>\n",
       "    <tr>\n",
       "      <th>2</th>\n",
       "      <td>BMI</td>\n",
       "      <td>1.707676</td>\n",
       "    </tr>\n",
       "    <tr>\n",
       "      <th>3</th>\n",
       "      <td>Blood_Pressure</td>\n",
       "      <td>1.351868</td>\n",
       "    </tr>\n",
       "    <tr>\n",
       "      <th>4</th>\n",
       "      <td>Cholesterol</td>\n",
       "      <td>2.049156</td>\n",
       "    </tr>\n",
       "    <tr>\n",
       "      <th>5</th>\n",
       "      <td>Glucose_Level</td>\n",
       "      <td>3.413105</td>\n",
       "    </tr>\n",
       "    <tr>\n",
       "      <th>6</th>\n",
       "      <td>Heart_Rate</td>\n",
       "      <td>1.554534</td>\n",
       "    </tr>\n",
       "    <tr>\n",
       "      <th>7</th>\n",
       "      <td>Sleep_Hours</td>\n",
       "      <td>4.304752</td>\n",
       "    </tr>\n",
       "    <tr>\n",
       "      <th>8</th>\n",
       "      <td>Exercise_Hours</td>\n",
       "      <td>1.177465</td>\n",
       "    </tr>\n",
       "    <tr>\n",
       "      <th>9</th>\n",
       "      <td>Water_Intake</td>\n",
       "      <td>2.035291</td>\n",
       "    </tr>\n",
       "    <tr>\n",
       "      <th>10</th>\n",
       "      <td>Stress_Level</td>\n",
       "      <td>8.623050</td>\n",
       "    </tr>\n",
       "    <tr>\n",
       "      <th>11</th>\n",
       "      <td>Smoking</td>\n",
       "      <td>1.002034</td>\n",
       "    </tr>\n",
       "    <tr>\n",
       "      <th>12</th>\n",
       "      <td>Alcohol</td>\n",
       "      <td>1.002090</td>\n",
       "    </tr>\n",
       "    <tr>\n",
       "      <th>13</th>\n",
       "      <td>Diet</td>\n",
       "      <td>1.002010</td>\n",
       "    </tr>\n",
       "    <tr>\n",
       "      <th>14</th>\n",
       "      <td>MentalHealth</td>\n",
       "      <td>1.002384</td>\n",
       "    </tr>\n",
       "    <tr>\n",
       "      <th>15</th>\n",
       "      <td>PhysicalActivity</td>\n",
       "      <td>1.002476</td>\n",
       "    </tr>\n",
       "    <tr>\n",
       "      <th>16</th>\n",
       "      <td>MedicalHistory</td>\n",
       "      <td>1.001972</td>\n",
       "    </tr>\n",
       "    <tr>\n",
       "      <th>17</th>\n",
       "      <td>Allergies</td>\n",
       "      <td>1.001751</td>\n",
       "    </tr>\n",
       "    <tr>\n",
       "      <th>18</th>\n",
       "      <td>Diet_Type_Vegan</td>\n",
       "      <td>1.332777</td>\n",
       "    </tr>\n",
       "    <tr>\n",
       "      <th>19</th>\n",
       "      <td>Diet_Type_Vegetarian</td>\n",
       "      <td>1.332843</td>\n",
       "    </tr>\n",
       "    <tr>\n",
       "      <th>20</th>\n",
       "      <td>Blood_Group_AB</td>\n",
       "      <td>1.503684</td>\n",
       "    </tr>\n",
       "    <tr>\n",
       "      <th>21</th>\n",
       "      <td>Blood_Group_B</td>\n",
       "      <td>1.513132</td>\n",
       "    </tr>\n",
       "    <tr>\n",
       "      <th>22</th>\n",
       "      <td>Blood_Group_O</td>\n",
       "      <td>1.510398</td>\n",
       "    </tr>\n",
       "  </tbody>\n",
       "</table>\n",
       "</div>"
      ],
      "text/plain": [
       "                Variable           VIF\n",
       "0                  const  21309.981005\n",
       "1                    Age      1.448242\n",
       "2                    BMI      1.707676\n",
       "3         Blood_Pressure      1.351868\n",
       "4            Cholesterol      2.049156\n",
       "5          Glucose_Level      3.413105\n",
       "6             Heart_Rate      1.554534\n",
       "7            Sleep_Hours      4.304752\n",
       "8         Exercise_Hours      1.177465\n",
       "9           Water_Intake      2.035291\n",
       "10          Stress_Level      8.623050\n",
       "11               Smoking      1.002034\n",
       "12               Alcohol      1.002090\n",
       "13                  Diet      1.002010\n",
       "14          MentalHealth      1.002384\n",
       "15      PhysicalActivity      1.002476\n",
       "16        MedicalHistory      1.001972\n",
       "17             Allergies      1.001751\n",
       "18       Diet_Type_Vegan      1.332777\n",
       "19  Diet_Type_Vegetarian      1.332843\n",
       "20        Blood_Group_AB      1.503684\n",
       "21         Blood_Group_B      1.513132\n",
       "22         Blood_Group_O      1.510398"
      ]
     },
     "execution_count": 9,
     "metadata": {},
     "output_type": "execute_result"
    }
   ],
   "source": [
    "#function to calculate the VIF score\n",
    "def calculate_vif(data):\n",
    "    \"\"\"Calculate VIF for a dataframe.\"\"\"\n",
    "    # your code here\n",
    "    vif_data = pd.DataFrame()\n",
    "    vif_data[\"Variable\"] = data.columns\n",
    "    vif_data[\"VIF\"] = [variance_inflation_factor(data.values, i) for i in range(data.shape[1])]\n",
    "    return vif_data\n",
    "\n",
    "    \n",
    "\n",
    "# we run the function on your features to verify whether it is working or not    \n",
    "calculate_vif(X)"
   ]
  },
  {
   "cell_type": "code",
   "execution_count": 10,
   "metadata": {
    "deletable": false,
    "editable": false,
    "nbgrader": {
     "cell_type": "code",
     "checksum": "3af6a491ca71fc1cecc970af2e3a8798",
     "grade": true,
     "grade_id": "cell-2ab9c4aac2b7ce0a",
     "locked": true,
     "points": 10,
     "schema_version": 3,
     "solution": false,
     "task": false
    }
   },
   "outputs": [],
   "source": [
    "assert calculate_vif(X).shape == (23,2), 'Please make sure to calculate the VIF score for each column within the feature set \"X\", and store these scores in a DataFrame, associating column names with their respective VIF scores'"
   ]
  },
  {
   "cell_type": "markdown",
   "metadata": {
    "deletable": false,
    "editable": false,
    "nbgrader": {
     "cell_type": "markdown",
     "checksum": "dd3e9b29631cbea7f1928c304143c52e",
     "grade": false,
     "grade_id": "cell-469d211107c7ad10",
     "locked": true,
     "schema_version": 3,
     "solution": false,
     "task": false
    }
   },
   "source": [
    "We notice that some features exhibit a VIF score exceeding 10, signifying strong correlations among them. Hence, it's necessary to address multicollinearity by systematically removing the feature with the highest VIF score in each iteration. This process is repeated until no feature demonstrates a VIF score greater than 10, ensuring the model doesn't contain highly correlated predictors."
   ]
  },
  {
   "cell_type": "markdown",
   "metadata": {
    "deletable": false,
    "editable": false,
    "nbgrader": {
     "cell_type": "markdown",
     "checksum": "9e80b83a4108bba220373feab7471854",
     "grade": false,
     "grade_id": "cell-dd52bbdebc72394a",
     "locked": true,
     "schema_version": 3,
     "solution": false,
     "task": false
    }
   },
   "source": [
    "# Removing features with VIF score > 10"
   ]
  },
  {
   "cell_type": "markdown",
   "metadata": {
    "deletable": false,
    "editable": false,
    "nbgrader": {
     "cell_type": "markdown",
     "checksum": "21f55806c78616d11ae07030b8477956",
     "grade": false,
     "grade_id": "cell-f30046fb2fea741f",
     "locked": true,
     "schema_version": 3,
     "solution": false,
     "task": false
    }
   },
   "source": [
    "Steps for the solution:\n",
    "1. Initialize VIF_features_removed as an empty list.\n",
    "2. While max_vif is greater than the VIF threshold:\n",
    "    \n",
    "    a. Calculate VIF scores for each feature in dataset X using calculate_vif function.\n",
    "    \n",
    "    b. Find the maximum VIF score among all features and assign it to max_vif.\n",
    "    \n",
    "    c. If max_vif exceeds the VIF threshold:\n",
    "        \n",
    "        \n",
    "        i. Identify the feature causing the highest VIF score (max) and store it in 'remove'.\n",
    "\n",
    "        ii. Append the name of the removed feature to VIF_features_removed list.\n",
    "\n",
    "        iii. Remove the identified feature from dataset X.\n",
    "\n",
    "3. End the loop when no feature has a VIF score greater than the threshold."
   ]
  },
  {
   "cell_type": "code",
   "execution_count": 11,
   "metadata": {
    "deletable": false,
    "nbgrader": {
     "cell_type": "code",
     "checksum": "83901a46b614330e14e201b94832fdf9",
     "grade": false,
     "grade_id": "cell-6e677fcd56ae8fe9",
     "locked": false,
     "schema_version": 3,
     "solution": true,
     "task": false
    }
   },
   "outputs": [
    {
     "data": {
      "text/html": [
       "<div>\n",
       "<style scoped>\n",
       "    .dataframe tbody tr th:only-of-type {\n",
       "        vertical-align: middle;\n",
       "    }\n",
       "\n",
       "    .dataframe tbody tr th {\n",
       "        vertical-align: top;\n",
       "    }\n",
       "\n",
       "    .dataframe thead th {\n",
       "        text-align: right;\n",
       "    }\n",
       "</style>\n",
       "<table border=\"1\" class=\"dataframe\">\n",
       "  <thead>\n",
       "    <tr style=\"text-align: right;\">\n",
       "      <th></th>\n",
       "      <th>Variable</th>\n",
       "      <th>VIF</th>\n",
       "    </tr>\n",
       "  </thead>\n",
       "  <tbody>\n",
       "    <tr>\n",
       "      <th>1</th>\n",
       "      <td>Sleep_Hours</td>\n",
       "      <td>9.820069</td>\n",
       "    </tr>\n",
       "    <tr>\n",
       "      <th>3</th>\n",
       "      <td>Water_Intake</td>\n",
       "      <td>5.863140</td>\n",
       "    </tr>\n",
       "    <tr>\n",
       "      <th>4</th>\n",
       "      <td>Stress_Level</td>\n",
       "      <td>4.687377</td>\n",
       "    </tr>\n",
       "    <tr>\n",
       "      <th>0</th>\n",
       "      <td>Age</td>\n",
       "      <td>2.870769</td>\n",
       "    </tr>\n",
       "    <tr>\n",
       "      <th>2</th>\n",
       "      <td>Exercise_Hours</td>\n",
       "      <td>2.838009</td>\n",
       "    </tr>\n",
       "    <tr>\n",
       "      <th>9</th>\n",
       "      <td>PhysicalActivity</td>\n",
       "      <td>2.487722</td>\n",
       "    </tr>\n",
       "    <tr>\n",
       "      <th>7</th>\n",
       "      <td>Diet</td>\n",
       "      <td>2.484408</td>\n",
       "    </tr>\n",
       "    <tr>\n",
       "      <th>10</th>\n",
       "      <td>MedicalHistory</td>\n",
       "      <td>2.473794</td>\n",
       "    </tr>\n",
       "    <tr>\n",
       "      <th>5</th>\n",
       "      <td>Smoking</td>\n",
       "      <td>2.446548</td>\n",
       "    </tr>\n",
       "    <tr>\n",
       "      <th>6</th>\n",
       "      <td>Alcohol</td>\n",
       "      <td>2.440187</td>\n",
       "    </tr>\n",
       "    <tr>\n",
       "      <th>8</th>\n",
       "      <td>MentalHealth</td>\n",
       "      <td>2.432655</td>\n",
       "    </tr>\n",
       "    <tr>\n",
       "      <th>11</th>\n",
       "      <td>Allergies</td>\n",
       "      <td>2.420408</td>\n",
       "    </tr>\n",
       "    <tr>\n",
       "      <th>15</th>\n",
       "      <td>Blood_Group_B</td>\n",
       "      <td>1.983160</td>\n",
       "    </tr>\n",
       "    <tr>\n",
       "      <th>16</th>\n",
       "      <td>Blood_Group_O</td>\n",
       "      <td>1.966328</td>\n",
       "    </tr>\n",
       "    <tr>\n",
       "      <th>13</th>\n",
       "      <td>Diet_Type_Vegetarian</td>\n",
       "      <td>1.960584</td>\n",
       "    </tr>\n",
       "    <tr>\n",
       "      <th>12</th>\n",
       "      <td>Diet_Type_Vegan</td>\n",
       "      <td>1.936408</td>\n",
       "    </tr>\n",
       "    <tr>\n",
       "      <th>14</th>\n",
       "      <td>Blood_Group_AB</td>\n",
       "      <td>1.934264</td>\n",
       "    </tr>\n",
       "  </tbody>\n",
       "</table>\n",
       "</div>"
      ],
      "text/plain": [
       "                Variable       VIF\n",
       "1            Sleep_Hours  9.820069\n",
       "3           Water_Intake  5.863140\n",
       "4           Stress_Level  4.687377\n",
       "0                    Age  2.870769\n",
       "2         Exercise_Hours  2.838009\n",
       "9       PhysicalActivity  2.487722\n",
       "7                   Diet  2.484408\n",
       "10        MedicalHistory  2.473794\n",
       "5                Smoking  2.446548\n",
       "6                Alcohol  2.440187\n",
       "8           MentalHealth  2.432655\n",
       "11             Allergies  2.420408\n",
       "15         Blood_Group_B  1.983160\n",
       "16         Blood_Group_O  1.966328\n",
       "13  Diet_Type_Vegetarian  1.960584\n",
       "12       Diet_Type_Vegan  1.936408\n",
       "14        Blood_Group_AB  1.934264"
      ]
     },
     "execution_count": 11,
     "metadata": {},
     "output_type": "execute_result"
    }
   ],
   "source": [
    "# Iteratively remove features with the highest VIF\n",
    "vif_threshold = 10\n",
    "max_vif = float('inf')\n",
    "# your code here\n",
    "while max_vif > vif_threshold:\n",
    "        # Calculate VIF\n",
    "    vif_df = calculate_vif(X)\n",
    "\n",
    "    #Finding the max values of vif scores\n",
    "    max_vif = vif_df[\"VIF\"].max()\n",
    "\n",
    "    # If the maximum VIF is above the threshold, remove that variable\n",
    "    if max_vif > vif_threshold:\n",
    "        remove = vif_df.sort_values(\"VIF\", ascending=False).iloc[0]\n",
    "\n",
    "        #Dropping columns from features simultaneously\n",
    "        X.drop(remove[\"Variable\"], axis=1, inplace = True)\n",
    "\n",
    "# Display the features and their VIFs after the iterative removal\n",
    "final_vif = calculate_vif(X)\n",
    "final_vif.sort_values(by='VIF', ascending = False)"
   ]
  },
  {
   "cell_type": "code",
   "execution_count": 12,
   "metadata": {
    "deletable": false,
    "editable": false,
    "nbgrader": {
     "cell_type": "code",
     "checksum": "992f6c620dcd191b79c349be2ba7fd94",
     "grade": true,
     "grade_id": "cell-7ea27b9ef54f69a6",
     "locked": true,
     "points": 10,
     "schema_version": 3,
     "solution": false,
     "task": false
    }
   },
   "outputs": [],
   "source": [
    "assert final_vif.shape == (17,2), 'Please make sure to remove all features within the DataFrame \"X\" that possess VIF scores surpassing 10'"
   ]
  },
  {
   "cell_type": "markdown",
   "metadata": {
    "deletable": false,
    "editable": false,
    "nbgrader": {
     "cell_type": "markdown",
     "checksum": "d5163af6fab20041d6d6efa0395359eb",
     "grade": false,
     "grade_id": "cell-e1521e3ec1eef8d8",
     "locked": true,
     "schema_version": 3,
     "solution": false,
     "task": false
    }
   },
   "source": [
    "We verify the shapes of X (features) and y (target)"
   ]
  },
  {
   "cell_type": "code",
   "execution_count": 13,
   "metadata": {
    "deletable": false,
    "editable": false,
    "nbgrader": {
     "cell_type": "code",
     "checksum": "e949d7915b9c2c1fef9ac8085b87b016",
     "grade": false,
     "grade_id": "cell-1d6b4b10e501e623",
     "locked": true,
     "schema_version": 3,
     "solution": false,
     "task": false
    }
   },
   "outputs": [
    {
     "data": {
      "text/plain": [
       "((9549, 17), (9549,))"
      ]
     },
     "execution_count": 13,
     "metadata": {},
     "output_type": "execute_result"
    }
   ],
   "source": [
    "X.shape, y.shape"
   ]
  },
  {
   "cell_type": "markdown",
   "metadata": {
    "deletable": false,
    "editable": false,
    "nbgrader": {
     "cell_type": "markdown",
     "checksum": "b91709109ed38b3368063189d3ae450e",
     "grade": false,
     "grade_id": "cell-9fe4cda2254fcc71",
     "locked": true,
     "schema_version": 3,
     "solution": false,
     "task": false
    }
   },
   "source": [
    "We will make the model once again with the removed feature and see the performance"
   ]
  },
  {
   "cell_type": "code",
   "execution_count": 14,
   "metadata": {
    "deletable": false,
    "editable": false,
    "nbgrader": {
     "cell_type": "code",
     "checksum": "cf5050c64c7d58659dce418d871e3ae7",
     "grade": false,
     "grade_id": "cell-1a748c905b555c16",
     "locked": true,
     "schema_version": 3,
     "solution": false,
     "task": false
    }
   },
   "outputs": [
    {
     "name": "stdout",
     "output_type": "stream",
     "text": [
      "Optimization terminated successfully.\n",
      "         Current function value: 0.657178\n",
      "         Iterations 5\n"
     ]
    },
    {
     "data": {
      "text/html": [
       "<table class=\"simpletable\">\n",
       "<caption>Logit Regression Results</caption>\n",
       "<tr>\n",
       "  <th>Dep. Variable:</th>        <td>Target</td>      <th>  No. Observations:  </th>   <td>  9549</td>  \n",
       "</tr>\n",
       "<tr>\n",
       "  <th>Model:</th>                 <td>Logit</td>      <th>  Df Residuals:      </th>   <td>  9531</td>  \n",
       "</tr>\n",
       "<tr>\n",
       "  <th>Method:</th>                 <td>MLE</td>       <th>  Df Model:          </th>   <td>    17</td>  \n",
       "</tr>\n",
       "<tr>\n",
       "  <th>Date:</th>            <td>Sat, 13 Jan 2024</td> <th>  Pseudo R-squ.:     </th>   <td>0.05064</td> \n",
       "</tr>\n",
       "<tr>\n",
       "  <th>Time:</th>                <td>11:57:21</td>     <th>  Log-Likelihood:    </th>  <td> -6275.4</td> \n",
       "</tr>\n",
       "<tr>\n",
       "  <th>converged:</th>             <td>True</td>       <th>  LL-Null:           </th>  <td> -6610.1</td> \n",
       "</tr>\n",
       "<tr>\n",
       "  <th>Covariance Type:</th>     <td>nonrobust</td>    <th>  LLR p-value:       </th> <td>2.729e-131</td>\n",
       "</tr>\n",
       "</table>\n",
       "<table class=\"simpletable\">\n",
       "<tr>\n",
       "            <td></td>              <th>coef</th>     <th>std err</th>      <th>z</th>      <th>P>|z|</th>  <th>[0.025</th>    <th>0.975]</th>  \n",
       "</tr>\n",
       "<tr>\n",
       "  <th>const</th>                <td>   -1.0553</td> <td>    0.190</td> <td>   -5.557</td> <td> 0.000</td> <td>   -1.428</td> <td>   -0.683</td>\n",
       "</tr>\n",
       "<tr>\n",
       "  <th>Age</th>                  <td>   -0.0167</td> <td>    0.001</td> <td>  -17.688</td> <td> 0.000</td> <td>   -0.019</td> <td>   -0.015</td>\n",
       "</tr>\n",
       "<tr>\n",
       "  <th>Sleep_Hours</th>          <td>    0.1640</td> <td>    0.012</td> <td>   13.409</td> <td> 0.000</td> <td>    0.140</td> <td>    0.188</td>\n",
       "</tr>\n",
       "<tr>\n",
       "  <th>Exercise_Hours</th>       <td>   -0.0228</td> <td>    0.016</td> <td>   -1.404</td> <td> 0.160</td> <td>   -0.055</td> <td>    0.009</td>\n",
       "</tr>\n",
       "<tr>\n",
       "  <th>Water_Intake</th>         <td>   -0.0790</td> <td>    0.015</td> <td>   -5.277</td> <td> 0.000</td> <td>   -0.108</td> <td>   -0.050</td>\n",
       "</tr>\n",
       "<tr>\n",
       "  <th>Stress_Level</th>         <td>    0.2012</td> <td>    0.015</td> <td>   13.683</td> <td> 0.000</td> <td>    0.172</td> <td>    0.230</td>\n",
       "</tr>\n",
       "<tr>\n",
       "  <th>Smoking</th>              <td>   -0.0211</td> <td>    0.026</td> <td>   -0.810</td> <td> 0.418</td> <td>   -0.072</td> <td>    0.030</td>\n",
       "</tr>\n",
       "<tr>\n",
       "  <th>Alcohol</th>              <td>    0.0081</td> <td>    0.026</td> <td>    0.312</td> <td> 0.755</td> <td>   -0.043</td> <td>    0.059</td>\n",
       "</tr>\n",
       "<tr>\n",
       "  <th>Diet</th>                 <td>    0.0139</td> <td>    0.026</td> <td>    0.532</td> <td> 0.595</td> <td>   -0.037</td> <td>    0.065</td>\n",
       "</tr>\n",
       "<tr>\n",
       "  <th>MentalHealth</th>         <td>   -0.0351</td> <td>    0.026</td> <td>   -1.360</td> <td> 0.174</td> <td>   -0.086</td> <td>    0.016</td>\n",
       "</tr>\n",
       "<tr>\n",
       "  <th>PhysicalActivity</th>     <td>   -0.0091</td> <td>    0.026</td> <td>   -0.346</td> <td> 0.730</td> <td>   -0.061</td> <td>    0.042</td>\n",
       "</tr>\n",
       "<tr>\n",
       "  <th>MedicalHistory</th>       <td>    0.0032</td> <td>    0.026</td> <td>    0.124</td> <td> 0.901</td> <td>   -0.048</td> <td>    0.054</td>\n",
       "</tr>\n",
       "<tr>\n",
       "  <th>Allergies</th>            <td>   -0.0128</td> <td>    0.026</td> <td>   -0.490</td> <td> 0.624</td> <td>   -0.064</td> <td>    0.038</td>\n",
       "</tr>\n",
       "<tr>\n",
       "  <th>Diet_Type_Vegan</th>      <td>    0.1142</td> <td>    0.052</td> <td>    2.189</td> <td> 0.029</td> <td>    0.012</td> <td>    0.216</td>\n",
       "</tr>\n",
       "<tr>\n",
       "  <th>Diet_Type_Vegetarian</th> <td>    0.0270</td> <td>    0.052</td> <td>    0.522</td> <td> 0.602</td> <td>   -0.075</td> <td>    0.129</td>\n",
       "</tr>\n",
       "<tr>\n",
       "  <th>Blood_Group_AB</th>       <td>    0.0277</td> <td>    0.060</td> <td>    0.458</td> <td> 0.647</td> <td>   -0.091</td> <td>    0.146</td>\n",
       "</tr>\n",
       "<tr>\n",
       "  <th>Blood_Group_B</th>        <td>    0.0176</td> <td>    0.060</td> <td>    0.294</td> <td> 0.769</td> <td>   -0.100</td> <td>    0.135</td>\n",
       "</tr>\n",
       "<tr>\n",
       "  <th>Blood_Group_O</th>        <td>    0.0308</td> <td>    0.060</td> <td>    0.514</td> <td> 0.608</td> <td>   -0.087</td> <td>    0.148</td>\n",
       "</tr>\n",
       "</table>"
      ],
      "text/latex": [
       "\\begin{center}\n",
       "\\begin{tabular}{lclc}\n",
       "\\toprule\n",
       "\\textbf{Dep. Variable:}         &      Target      & \\textbf{  No. Observations:  } &     9549    \\\\\n",
       "\\textbf{Model:}                 &      Logit       & \\textbf{  Df Residuals:      } &     9531    \\\\\n",
       "\\textbf{Method:}                &       MLE        & \\textbf{  Df Model:          } &       17    \\\\\n",
       "\\textbf{Date:}                  & Sat, 13 Jan 2024 & \\textbf{  Pseudo R-squ.:     } &  0.05064    \\\\\n",
       "\\textbf{Time:}                  &     11:57:21     & \\textbf{  Log-Likelihood:    } &   -6275.4   \\\\\n",
       "\\textbf{converged:}             &       True       & \\textbf{  LL-Null:           } &   -6610.1   \\\\\n",
       "\\textbf{Covariance Type:}       &    nonrobust     & \\textbf{  LLR p-value:       } & 2.729e-131  \\\\\n",
       "\\bottomrule\n",
       "\\end{tabular}\n",
       "\\begin{tabular}{lcccccc}\n",
       "                                & \\textbf{coef} & \\textbf{std err} & \\textbf{z} & \\textbf{P$> |$z$|$} & \\textbf{[0.025} & \\textbf{0.975]}  \\\\\n",
       "\\midrule\n",
       "\\textbf{const}                  &      -1.0553  &        0.190     &    -5.557  &         0.000        &       -1.428    &       -0.683     \\\\\n",
       "\\textbf{Age}                    &      -0.0167  &        0.001     &   -17.688  &         0.000        &       -0.019    &       -0.015     \\\\\n",
       "\\textbf{Sleep\\_Hours}           &       0.1640  &        0.012     &    13.409  &         0.000        &        0.140    &        0.188     \\\\\n",
       "\\textbf{Exercise\\_Hours}        &      -0.0228  &        0.016     &    -1.404  &         0.160        &       -0.055    &        0.009     \\\\\n",
       "\\textbf{Water\\_Intake}          &      -0.0790  &        0.015     &    -5.277  &         0.000        &       -0.108    &       -0.050     \\\\\n",
       "\\textbf{Stress\\_Level}          &       0.2012  &        0.015     &    13.683  &         0.000        &        0.172    &        0.230     \\\\\n",
       "\\textbf{Smoking}                &      -0.0211  &        0.026     &    -0.810  &         0.418        &       -0.072    &        0.030     \\\\\n",
       "\\textbf{Alcohol}                &       0.0081  &        0.026     &     0.312  &         0.755        &       -0.043    &        0.059     \\\\\n",
       "\\textbf{Diet}                   &       0.0139  &        0.026     &     0.532  &         0.595        &       -0.037    &        0.065     \\\\\n",
       "\\textbf{MentalHealth}           &      -0.0351  &        0.026     &    -1.360  &         0.174        &       -0.086    &        0.016     \\\\\n",
       "\\textbf{PhysicalActivity}       &      -0.0091  &        0.026     &    -0.346  &         0.730        &       -0.061    &        0.042     \\\\\n",
       "\\textbf{MedicalHistory}         &       0.0032  &        0.026     &     0.124  &         0.901        &       -0.048    &        0.054     \\\\\n",
       "\\textbf{Allergies}              &      -0.0128  &        0.026     &    -0.490  &         0.624        &       -0.064    &        0.038     \\\\\n",
       "\\textbf{Diet\\_Type\\_Vegan}      &       0.1142  &        0.052     &     2.189  &         0.029        &        0.012    &        0.216     \\\\\n",
       "\\textbf{Diet\\_Type\\_Vegetarian} &       0.0270  &        0.052     &     0.522  &         0.602        &       -0.075    &        0.129     \\\\\n",
       "\\textbf{Blood\\_Group\\_AB}       &       0.0277  &        0.060     &     0.458  &         0.647        &       -0.091    &        0.146     \\\\\n",
       "\\textbf{Blood\\_Group\\_B}        &       0.0176  &        0.060     &     0.294  &         0.769        &       -0.100    &        0.135     \\\\\n",
       "\\textbf{Blood\\_Group\\_O}        &       0.0308  &        0.060     &     0.514  &         0.608        &       -0.087    &        0.148     \\\\\n",
       "\\bottomrule\n",
       "\\end{tabular}\n",
       "%\\caption{Logit Regression Results}\n",
       "\\end{center}"
      ],
      "text/plain": [
       "<class 'statsmodels.iolib.summary.Summary'>\n",
       "\"\"\"\n",
       "                           Logit Regression Results                           \n",
       "==============================================================================\n",
       "Dep. Variable:                 Target   No. Observations:                 9549\n",
       "Model:                          Logit   Df Residuals:                     9531\n",
       "Method:                           MLE   Df Model:                           17\n",
       "Date:                Sat, 13 Jan 2024   Pseudo R-squ.:                 0.05064\n",
       "Time:                        11:57:21   Log-Likelihood:                -6275.4\n",
       "converged:                       True   LL-Null:                       -6610.1\n",
       "Covariance Type:            nonrobust   LLR p-value:                2.729e-131\n",
       "========================================================================================\n",
       "                           coef    std err          z      P>|z|      [0.025      0.975]\n",
       "----------------------------------------------------------------------------------------\n",
       "const                   -1.0553      0.190     -5.557      0.000      -1.428      -0.683\n",
       "Age                     -0.0167      0.001    -17.688      0.000      -0.019      -0.015\n",
       "Sleep_Hours              0.1640      0.012     13.409      0.000       0.140       0.188\n",
       "Exercise_Hours          -0.0228      0.016     -1.404      0.160      -0.055       0.009\n",
       "Water_Intake            -0.0790      0.015     -5.277      0.000      -0.108      -0.050\n",
       "Stress_Level             0.2012      0.015     13.683      0.000       0.172       0.230\n",
       "Smoking                 -0.0211      0.026     -0.810      0.418      -0.072       0.030\n",
       "Alcohol                  0.0081      0.026      0.312      0.755      -0.043       0.059\n",
       "Diet                     0.0139      0.026      0.532      0.595      -0.037       0.065\n",
       "MentalHealth            -0.0351      0.026     -1.360      0.174      -0.086       0.016\n",
       "PhysicalActivity        -0.0091      0.026     -0.346      0.730      -0.061       0.042\n",
       "MedicalHistory           0.0032      0.026      0.124      0.901      -0.048       0.054\n",
       "Allergies               -0.0128      0.026     -0.490      0.624      -0.064       0.038\n",
       "Diet_Type_Vegan          0.1142      0.052      2.189      0.029       0.012       0.216\n",
       "Diet_Type_Vegetarian     0.0270      0.052      0.522      0.602      -0.075       0.129\n",
       "Blood_Group_AB           0.0277      0.060      0.458      0.647      -0.091       0.146\n",
       "Blood_Group_B            0.0176      0.060      0.294      0.769      -0.100       0.135\n",
       "Blood_Group_O            0.0308      0.060      0.514      0.608      -0.087       0.148\n",
       "========================================================================================\n",
       "\"\"\""
      ]
     },
     "execution_count": 14,
     "metadata": {},
     "output_type": "execute_result"
    }
   ],
   "source": [
    "#Adding a constant\n",
    "X = sm.add_constant(X)\n",
    "\n",
    "#fitting the model\n",
    "model = sm.Logit(y, X).fit()\n",
    "\n",
    "#Let's take a look at the summary of the model\n",
    "model.summary()"
   ]
  },
  {
   "cell_type": "markdown",
   "metadata": {
    "deletable": false,
    "editable": false,
    "nbgrader": {
     "cell_type": "markdown",
     "checksum": "1b2ff276ca20e36869ba7a5683b5eb0c",
     "grade": false,
     "grade_id": "cell-34ee9da866512df4",
     "locked": true,
     "schema_version": 3,
     "solution": false,
     "task": false
    }
   },
   "source": [
    "We can see from this model that we recieved a Pseudo R-squ score of 0.05064. To improve this score, we will drop features that have p-value>0.05 as those features will be less significant in our model building process and then we will see the performance of the model once again. "
   ]
  },
  {
   "cell_type": "code",
   "execution_count": 15,
   "metadata": {
    "deletable": false,
    "editable": false,
    "nbgrader": {
     "cell_type": "code",
     "checksum": "af3da99d9184b7790e79041f49e27034",
     "grade": false,
     "grade_id": "cell-a67a3f75aaa03195",
     "locked": true,
     "schema_version": 3,
     "solution": false,
     "task": false
    }
   },
   "outputs": [
    {
     "data": {
      "text/plain": [
       "((9549, 18), (9549,))"
      ]
     },
     "execution_count": 15,
     "metadata": {},
     "output_type": "execute_result"
    }
   ],
   "source": [
    "X.shape, y.shape"
   ]
  },
  {
   "cell_type": "code",
   "execution_count": 16,
   "metadata": {
    "deletable": false,
    "editable": false,
    "nbgrader": {
     "cell_type": "code",
     "checksum": "4d1d2264f4d957e58582d2a4358d1fb2",
     "grade": false,
     "grade_id": "cell-42ab954b51aea540",
     "locked": true,
     "schema_version": 3,
     "solution": false,
     "task": false
    }
   },
   "outputs": [],
   "source": [
    "X.drop('const', axis = 1, inplace = True)"
   ]
  },
  {
   "cell_type": "markdown",
   "metadata": {
    "deletable": false,
    "editable": false,
    "nbgrader": {
     "cell_type": "markdown",
     "checksum": "65ca51404b1680402252ba2d06a96060",
     "grade": false,
     "grade_id": "cell-d6fbf1e70d6a22c9",
     "locked": true,
     "schema_version": 3,
     "solution": false,
     "task": false
    }
   },
   "source": [
    "Let's proceed to eliminate columns that exhibit statistical insignificance by examining their respective p-values."
   ]
  },
  {
   "cell_type": "markdown",
   "metadata": {
    "deletable": false,
    "editable": false,
    "nbgrader": {
     "cell_type": "markdown",
     "checksum": "6c3d314f78183d8c15da19a0b1ef1aaa",
     "grade": false,
     "grade_id": "cell-0e0bda2f71e69189",
     "locked": true,
     "schema_version": 3,
     "solution": false,
     "task": false
    }
   },
   "source": [
    "# Checking the P value"
   ]
  },
  {
   "cell_type": "markdown",
   "metadata": {
    "deletable": false,
    "editable": false,
    "nbgrader": {
     "cell_type": "markdown",
     "checksum": "6d244f571e6c23fee6d075526773a8b2",
     "grade": false,
     "grade_id": "cell-3edd19696d3b8153",
     "locked": true,
     "schema_version": 3,
     "solution": false,
     "task": false
    }
   },
   "source": [
    "Steps for the solution:\n",
    "1. Identifies features with p-values exceeding 0.05 as statistically insignificant.\n",
    "2. Removes insignificant features from dataset X."
   ]
  },
  {
   "cell_type": "code",
   "execution_count": 17,
   "metadata": {},
   "outputs": [
    {
     "data": {
      "text/plain": [
       "const                   2.745110e-08\n",
       "Age                     5.183459e-70\n",
       "Sleep_Hours             5.365149e-41\n",
       "Exercise_Hours          1.603146e-01\n",
       "Water_Intake            1.312907e-07\n",
       "Stress_Level            1.275362e-42\n",
       "Smoking                 4.179934e-01\n",
       "Alcohol                 7.552523e-01\n",
       "Diet                    5.947830e-01\n",
       "MentalHealth            1.739667e-01\n",
       "PhysicalActivity        7.296350e-01\n",
       "MedicalHistory          9.010360e-01\n",
       "Allergies               6.241488e-01\n",
       "Diet_Type_Vegan         2.856272e-02\n",
       "Diet_Type_Vegetarian    6.020074e-01\n",
       "Blood_Group_AB          6.469643e-01\n",
       "Blood_Group_B           7.686861e-01\n",
       "Blood_Group_O           6.075067e-01\n",
       "dtype: float64"
      ]
     },
     "execution_count": 17,
     "metadata": {},
     "output_type": "execute_result"
    }
   ],
   "source": [
    "model.pvalues"
   ]
  },
  {
   "cell_type": "code",
   "execution_count": 18,
   "metadata": {
    "deletable": false,
    "nbgrader": {
     "cell_type": "code",
     "checksum": "46bfcd9b6654c9a2464c1d99b943d435",
     "grade": false,
     "grade_id": "cell-06fcadaa7478e5bb",
     "locked": false,
     "schema_version": 3,
     "solution": true,
     "task": false
    }
   },
   "outputs": [
    {
     "name": "stdout",
     "output_type": "stream",
     "text": [
      "Index(['Exercise_Hours', 'Smoking', 'Alcohol', 'Diet', 'MentalHealth',\n",
      "       'PhysicalActivity', 'MedicalHistory', 'Allergies',\n",
      "       'Diet_Type_Vegetarian', 'Blood_Group_AB', 'Blood_Group_B',\n",
      "       'Blood_Group_O'],\n",
      "      dtype='object')\n"
     ]
    }
   ],
   "source": [
    "# Identify features with p-values greater than 0.05\n",
    "# your code here\n",
    "features_to_remove = model.pvalues[model.pvalues > 0.05].index\n",
    "#If constant has a p-value > 0.05, we are not removing it from our X features: {Reason}\n",
    "if 'const' in features_to_remove:\n",
    "    features_to_remove = features_to_remove.drop('const')\n",
    "print(features_to_remove)"
   ]
  },
  {
   "cell_type": "code",
   "execution_count": 19,
   "metadata": {
    "deletable": false,
    "nbgrader": {
     "cell_type": "code",
     "checksum": "34d64ca6204c0e2f834445816dfc05bf",
     "grade": false,
     "grade_id": "cell-7a1d7e9830b617a6",
     "locked": false,
     "schema_version": 3,
     "solution": true,
     "task": false
    }
   },
   "outputs": [
    {
     "data": {
      "text/html": [
       "<div>\n",
       "<style scoped>\n",
       "    .dataframe tbody tr th:only-of-type {\n",
       "        vertical-align: middle;\n",
       "    }\n",
       "\n",
       "    .dataframe tbody tr th {\n",
       "        vertical-align: top;\n",
       "    }\n",
       "\n",
       "    .dataframe thead th {\n",
       "        text-align: right;\n",
       "    }\n",
       "</style>\n",
       "<table border=\"1\" class=\"dataframe\">\n",
       "  <thead>\n",
       "    <tr style=\"text-align: right;\">\n",
       "      <th></th>\n",
       "      <th>Age</th>\n",
       "      <th>Sleep_Hours</th>\n",
       "      <th>Water_Intake</th>\n",
       "      <th>Stress_Level</th>\n",
       "      <th>Diet_Type_Vegan</th>\n",
       "    </tr>\n",
       "  </thead>\n",
       "  <tbody>\n",
       "    <tr>\n",
       "      <th>0</th>\n",
       "      <td>2.0</td>\n",
       "      <td>4.0</td>\n",
       "      <td>5.0</td>\n",
       "      <td>5.0</td>\n",
       "      <td>0</td>\n",
       "    </tr>\n",
       "    <tr>\n",
       "      <th>1</th>\n",
       "      <td>8.0</td>\n",
       "      <td>2.0</td>\n",
       "      <td>2.0</td>\n",
       "      <td>9.0</td>\n",
       "      <td>0</td>\n",
       "    </tr>\n",
       "    <tr>\n",
       "      <th>2</th>\n",
       "      <td>81.0</td>\n",
       "      <td>10.0</td>\n",
       "      <td>5.0</td>\n",
       "      <td>1.0</td>\n",
       "      <td>1</td>\n",
       "    </tr>\n",
       "    <tr>\n",
       "      <th>3</th>\n",
       "      <td>25.0</td>\n",
       "      <td>7.0</td>\n",
       "      <td>3.0</td>\n",
       "      <td>3.0</td>\n",
       "      <td>1</td>\n",
       "    </tr>\n",
       "    <tr>\n",
       "      <th>4</th>\n",
       "      <td>24.0</td>\n",
       "      <td>10.0</td>\n",
       "      <td>5.0</td>\n",
       "      <td>1.0</td>\n",
       "      <td>0</td>\n",
       "    </tr>\n",
       "  </tbody>\n",
       "</table>\n",
       "</div>"
      ],
      "text/plain": [
       "    Age  Sleep_Hours  Water_Intake  Stress_Level  Diet_Type_Vegan\n",
       "0   2.0          4.0           5.0           5.0                0\n",
       "1   8.0          2.0           2.0           9.0                0\n",
       "2  81.0         10.0           5.0           1.0                1\n",
       "3  25.0          7.0           3.0           3.0                1\n",
       "4  24.0         10.0           5.0           1.0                0"
      ]
     },
     "execution_count": 19,
     "metadata": {},
     "output_type": "execute_result"
    }
   ],
   "source": [
    "# Drop those features\n",
    "# your code here\n",
    "X = X.drop(columns=features_to_remove)\n",
    "X.head()"
   ]
  },
  {
   "cell_type": "code",
   "execution_count": 20,
   "metadata": {
    "deletable": false,
    "editable": false,
    "nbgrader": {
     "cell_type": "code",
     "checksum": "caa7310b0d73066dddb8f17a281b79d7",
     "grade": true,
     "grade_id": "cell-5e84989425250ef1",
     "locked": true,
     "points": 5,
     "schema_version": 3,
     "solution": false,
     "task": false
    }
   },
   "outputs": [],
   "source": [
    "assert X.shape == (9549,5), 'Please make sure to remove all the features with p-values greater than 0.05'"
   ]
  },
  {
   "cell_type": "code",
   "execution_count": 21,
   "metadata": {
    "deletable": false,
    "editable": false,
    "nbgrader": {
     "cell_type": "code",
     "checksum": "814dcbe2c239a3cc6e933516a29eb855",
     "grade": false,
     "grade_id": "cell-b863718228a2b8b9",
     "locked": true,
     "schema_version": 3,
     "solution": false,
     "task": false
    }
   },
   "outputs": [
    {
     "name": "stdout",
     "output_type": "stream",
     "text": [
      "Optimization terminated successfully.\n",
      "         Current function value: 0.657476\n",
      "         Iterations 5\n"
     ]
    },
    {
     "data": {
      "text/html": [
       "<table class=\"simpletable\">\n",
       "<caption>Logit Regression Results</caption>\n",
       "<tr>\n",
       "  <th>Dep. Variable:</th>        <td>Target</td>      <th>  No. Observations:  </th>   <td>  9549</td>  \n",
       "</tr>\n",
       "<tr>\n",
       "  <th>Model:</th>                 <td>Logit</td>      <th>  Df Residuals:      </th>   <td>  9543</td>  \n",
       "</tr>\n",
       "<tr>\n",
       "  <th>Method:</th>                 <td>MLE</td>       <th>  Df Model:          </th>   <td>     5</td>  \n",
       "</tr>\n",
       "<tr>\n",
       "  <th>Date:</th>            <td>Sat, 13 Jan 2024</td> <th>  Pseudo R-squ.:     </th>   <td>0.05020</td> \n",
       "</tr>\n",
       "<tr>\n",
       "  <th>Time:</th>                <td>11:57:21</td>     <th>  Log-Likelihood:    </th>  <td> -6278.2</td> \n",
       "</tr>\n",
       "<tr>\n",
       "  <th>converged:</th>             <td>True</td>       <th>  LL-Null:           </th>  <td> -6610.1</td> \n",
       "</tr>\n",
       "<tr>\n",
       "  <th>Covariance Type:</th>     <td>nonrobust</td>    <th>  LLR p-value:       </th> <td>3.434e-141</td>\n",
       "</tr>\n",
       "</table>\n",
       "<table class=\"simpletable\">\n",
       "<tr>\n",
       "         <td></td>            <th>coef</th>     <th>std err</th>      <th>z</th>      <th>P>|z|</th>  <th>[0.025</th>    <th>0.975]</th>  \n",
       "</tr>\n",
       "<tr>\n",
       "  <th>const</th>           <td>   -1.1606</td> <td>    0.159</td> <td>   -7.311</td> <td> 0.000</td> <td>   -1.472</td> <td>   -0.849</td>\n",
       "</tr>\n",
       "<tr>\n",
       "  <th>Age</th>             <td>   -0.0165</td> <td>    0.001</td> <td>  -17.822</td> <td> 0.000</td> <td>   -0.018</td> <td>   -0.015</td>\n",
       "</tr>\n",
       "<tr>\n",
       "  <th>Sleep_Hours</th>     <td>    0.1639</td> <td>    0.012</td> <td>   13.416</td> <td> 0.000</td> <td>    0.140</td> <td>    0.188</td>\n",
       "</tr>\n",
       "<tr>\n",
       "  <th>Water_Intake</th>    <td>   -0.0737</td> <td>    0.014</td> <td>   -5.096</td> <td> 0.000</td> <td>   -0.102</td> <td>   -0.045</td>\n",
       "</tr>\n",
       "<tr>\n",
       "  <th>Stress_Level</th>    <td>    0.2046</td> <td>    0.014</td> <td>   14.158</td> <td> 0.000</td> <td>    0.176</td> <td>    0.233</td>\n",
       "</tr>\n",
       "<tr>\n",
       "  <th>Diet_Type_Vegan</th> <td>    0.1021</td> <td>    0.045</td> <td>    2.259</td> <td> 0.024</td> <td>    0.014</td> <td>    0.191</td>\n",
       "</tr>\n",
       "</table>"
      ],
      "text/latex": [
       "\\begin{center}\n",
       "\\begin{tabular}{lclc}\n",
       "\\toprule\n",
       "\\textbf{Dep. Variable:}    &      Target      & \\textbf{  No. Observations:  } &     9549    \\\\\n",
       "\\textbf{Model:}            &      Logit       & \\textbf{  Df Residuals:      } &     9543    \\\\\n",
       "\\textbf{Method:}           &       MLE        & \\textbf{  Df Model:          } &        5    \\\\\n",
       "\\textbf{Date:}             & Sat, 13 Jan 2024 & \\textbf{  Pseudo R-squ.:     } &  0.05020    \\\\\n",
       "\\textbf{Time:}             &     11:57:21     & \\textbf{  Log-Likelihood:    } &   -6278.2   \\\\\n",
       "\\textbf{converged:}        &       True       & \\textbf{  LL-Null:           } &   -6610.1   \\\\\n",
       "\\textbf{Covariance Type:}  &    nonrobust     & \\textbf{  LLR p-value:       } & 3.434e-141  \\\\\n",
       "\\bottomrule\n",
       "\\end{tabular}\n",
       "\\begin{tabular}{lcccccc}\n",
       "                           & \\textbf{coef} & \\textbf{std err} & \\textbf{z} & \\textbf{P$> |$z$|$} & \\textbf{[0.025} & \\textbf{0.975]}  \\\\\n",
       "\\midrule\n",
       "\\textbf{const}             &      -1.1606  &        0.159     &    -7.311  &         0.000        &       -1.472    &       -0.849     \\\\\n",
       "\\textbf{Age}               &      -0.0165  &        0.001     &   -17.822  &         0.000        &       -0.018    &       -0.015     \\\\\n",
       "\\textbf{Sleep\\_Hours}      &       0.1639  &        0.012     &    13.416  &         0.000        &        0.140    &        0.188     \\\\\n",
       "\\textbf{Water\\_Intake}     &      -0.0737  &        0.014     &    -5.096  &         0.000        &       -0.102    &       -0.045     \\\\\n",
       "\\textbf{Stress\\_Level}     &       0.2046  &        0.014     &    14.158  &         0.000        &        0.176    &        0.233     \\\\\n",
       "\\textbf{Diet\\_Type\\_Vegan} &       0.1021  &        0.045     &     2.259  &         0.024        &        0.014    &        0.191     \\\\\n",
       "\\bottomrule\n",
       "\\end{tabular}\n",
       "%\\caption{Logit Regression Results}\n",
       "\\end{center}"
      ],
      "text/plain": [
       "<class 'statsmodels.iolib.summary.Summary'>\n",
       "\"\"\"\n",
       "                           Logit Regression Results                           \n",
       "==============================================================================\n",
       "Dep. Variable:                 Target   No. Observations:                 9549\n",
       "Model:                          Logit   Df Residuals:                     9543\n",
       "Method:                           MLE   Df Model:                            5\n",
       "Date:                Sat, 13 Jan 2024   Pseudo R-squ.:                 0.05020\n",
       "Time:                        11:57:21   Log-Likelihood:                -6278.2\n",
       "converged:                       True   LL-Null:                       -6610.1\n",
       "Covariance Type:            nonrobust   LLR p-value:                3.434e-141\n",
       "===================================================================================\n",
       "                      coef    std err          z      P>|z|      [0.025      0.975]\n",
       "-----------------------------------------------------------------------------------\n",
       "const              -1.1606      0.159     -7.311      0.000      -1.472      -0.849\n",
       "Age                -0.0165      0.001    -17.822      0.000      -0.018      -0.015\n",
       "Sleep_Hours         0.1639      0.012     13.416      0.000       0.140       0.188\n",
       "Water_Intake       -0.0737      0.014     -5.096      0.000      -0.102      -0.045\n",
       "Stress_Level        0.2046      0.014     14.158      0.000       0.176       0.233\n",
       "Diet_Type_Vegan     0.1021      0.045      2.259      0.024       0.014       0.191\n",
       "===================================================================================\n",
       "\"\"\""
      ]
     },
     "execution_count": 21,
     "metadata": {},
     "output_type": "execute_result"
    }
   ],
   "source": [
    "#Building model using the scaled features\n",
    "#Adding a constant\n",
    "X = sm.add_constant(X)\n",
    "\n",
    "#fitting the model\n",
    "model2 = sm.Logit(y, X).fit()\n",
    "\n",
    "#Let's take a look at the summary of the model\n",
    "model2.summary()"
   ]
  },
  {
   "cell_type": "code",
   "execution_count": 22,
   "metadata": {
    "deletable": false,
    "editable": false,
    "nbgrader": {
     "cell_type": "code",
     "checksum": "674e1dc1b6137062bcea6040789b2814",
     "grade": false,
     "grade_id": "cell-9499ec64bb33762d",
     "locked": true,
     "schema_version": 3,
     "solution": false,
     "task": false
    }
   },
   "outputs": [],
   "source": [
    "X.drop(columns = ['const'], inplace = True)"
   ]
  },
  {
   "cell_type": "markdown",
   "metadata": {
    "deletable": false,
    "editable": false,
    "nbgrader": {
     "cell_type": "markdown",
     "checksum": "c4522fed54cfb676ca577c4adcc808d5",
     "grade": false,
     "grade_id": "cell-713a8f74609beb50",
     "locked": true,
     "schema_version": 3,
     "solution": false,
     "task": false
    }
   },
   "source": [
    "# Logistic - Model Building"
   ]
  },
  {
   "cell_type": "markdown",
   "metadata": {
    "deletable": false,
    "editable": false,
    "nbgrader": {
     "cell_type": "markdown",
     "checksum": "29326e90edc157105baadddee2e3e096",
     "grade": false,
     "grade_id": "cell-eb9e34da076b4851",
     "locked": true,
     "schema_version": 3,
     "solution": false,
     "task": false
    }
   },
   "source": [
    "## Dividing the data"
   ]
  },
  {
   "cell_type": "markdown",
   "metadata": {
    "deletable": false,
    "editable": false,
    "nbgrader": {
     "cell_type": "markdown",
     "checksum": "d3d85d11ce68440b9ffa0d33f6e92ce4",
     "grade": false,
     "grade_id": "cell-794148f20ea5796c",
     "locked": true,
     "schema_version": 3,
     "solution": false,
     "task": false
    }
   },
   "source": [
    "Let's perform the train test split. We do a 70:30 split, have random state as 42 and stratify = y."
   ]
  },
  {
   "cell_type": "code",
   "execution_count": 24,
   "metadata": {
    "deletable": false,
    "editable": false,
    "nbgrader": {
     "cell_type": "code",
     "checksum": "1783f978131d16dd43c18500919300cd",
     "grade": false,
     "grade_id": "cell-d20b5b39e3c31f3b",
     "locked": true,
     "schema_version": 3,
     "solution": false,
     "task": false
    }
   },
   "outputs": [],
   "source": [
    "from sklearn.model_selection import train_test_split\n",
    "\n",
    "# Split data into training and test sets\n",
    "X_train, X_test, y_train, y_test = train_test_split(X, y, test_size = 0.3, random_state = 42, stratify = y)"
   ]
  },
  {
   "cell_type": "markdown",
   "metadata": {
    "deletable": false,
    "editable": false,
    "nbgrader": {
     "cell_type": "markdown",
     "checksum": "92da020afc4a60dcde06e334fa21f570",
     "grade": false,
     "grade_id": "cell-b6949ce003a99936",
     "locked": true,
     "schema_version": 3,
     "solution": false,
     "task": false
    }
   },
   "source": [
    "Let us proceed to scaling the data before creating the logistic regression model."
   ]
  },
  {
   "cell_type": "markdown",
   "metadata": {
    "deletable": false,
    "editable": false,
    "nbgrader": {
     "cell_type": "markdown",
     "checksum": "10db3c806e3679f3a803b3a8116423a6",
     "grade": false,
     "grade_id": "cell-ee6c0acb2d0c0ba4",
     "locked": true,
     "schema_version": 3,
     "solution": false,
     "task": false
    }
   },
   "source": [
    "## Standard Scaling"
   ]
  },
  {
   "cell_type": "code",
   "execution_count": 25,
   "metadata": {
    "deletable": false,
    "editable": false,
    "nbgrader": {
     "cell_type": "code",
     "checksum": "acabaee233a95063eaa183c5f1d1f199",
     "grade": false,
     "grade_id": "cell-c79a116e10b5fb20",
     "locked": true,
     "schema_version": 3,
     "solution": false,
     "task": false
    }
   },
   "outputs": [],
   "source": [
    "# Import StandardScaler\n",
    "from sklearn.preprocessing import StandardScaler"
   ]
  },
  {
   "cell_type": "markdown",
   "metadata": {
    "deletable": false,
    "editable": false,
    "nbgrader": {
     "cell_type": "markdown",
     "checksum": "7477a5e8569ce50b6ceddf06e39b0997",
     "grade": false,
     "grade_id": "cell-2a84ff8035d7ba7d",
     "locked": true,
     "schema_version": 3,
     "solution": false,
     "task": false
    }
   },
   "source": [
    "Now, let's scale the data as usual."
   ]
  },
  {
   "cell_type": "code",
   "execution_count": 26,
   "metadata": {
    "deletable": false,
    "editable": false,
    "nbgrader": {
     "cell_type": "code",
     "checksum": "83949dd2b39cbb14fb8ee1da571e17ea",
     "grade": false,
     "grade_id": "cell-0672ae0a793e3241",
     "locked": true,
     "schema_version": 3,
     "solution": false,
     "task": false
    }
   },
   "outputs": [],
   "source": [
    "# Scale both the train and the test data\n",
    "scaler = StandardScaler()\n",
    "X_train_scaled = scaler.fit_transform(X_train)\n",
    "X_test_scaled = scaler.transform(X_test)"
   ]
  },
  {
   "cell_type": "markdown",
   "metadata": {
    "deletable": false,
    "editable": false,
    "nbgrader": {
     "cell_type": "markdown",
     "checksum": "8cddaf9ea5e0497ea50166111bfee710",
     "grade": false,
     "grade_id": "cell-c73befb092402ed7",
     "locked": true,
     "schema_version": 3,
     "solution": false,
     "task": false
    }
   },
   "source": [
    "Let's convert them into a dataframe."
   ]
  },
  {
   "cell_type": "code",
   "execution_count": 27,
   "metadata": {
    "deletable": false,
    "editable": false,
    "nbgrader": {
     "cell_type": "code",
     "checksum": "062e7ae1c609d946d65759b5427eacd3",
     "grade": false,
     "grade_id": "cell-da65e698231fd8b0",
     "locked": true,
     "schema_version": 3,
     "solution": false,
     "task": false
    }
   },
   "outputs": [],
   "source": [
    "# Converting train and test scaled data into a dataframe\n",
    "X_train_scaled = pd.DataFrame(X_train_scaled, columns = X.columns)\n",
    "X_test_scaled = pd.DataFrame(X_test_scaled, columns = X.columns)"
   ]
  },
  {
   "cell_type": "markdown",
   "metadata": {
    "deletable": false,
    "editable": false,
    "nbgrader": {
     "cell_type": "markdown",
     "checksum": "0a5b72e8b2ffc737bd368cb120ce3c18",
     "grade": false,
     "grade_id": "cell-67ad116ae6e98e1f",
     "locked": true,
     "schema_version": 3,
     "solution": false,
     "task": false
    }
   },
   "source": [
    "# Model Building"
   ]
  },
  {
   "cell_type": "markdown",
   "metadata": {
    "deletable": false,
    "editable": false,
    "nbgrader": {
     "cell_type": "markdown",
     "checksum": "6832c8245c984573c9467b98dfb47f9d",
     "grade": false,
     "grade_id": "cell-eaef1da73c0596cf",
     "locked": true,
     "schema_version": 3,
     "solution": false,
     "task": false
    }
   },
   "source": [
    "Now let us build the logistic regression model."
   ]
  },
  {
   "cell_type": "code",
   "execution_count": 28,
   "metadata": {
    "deletable": false,
    "editable": false,
    "nbgrader": {
     "cell_type": "code",
     "checksum": "15628c711e4ccdc8e84177a6de8999e3",
     "grade": false,
     "grade_id": "cell-6e52c87635754cb3",
     "locked": true,
     "schema_version": 3,
     "solution": false,
     "task": false
    }
   },
   "outputs": [],
   "source": [
    "# Import Logistic Regression\n",
    "from sklearn.linear_model import LogisticRegression"
   ]
  },
  {
   "cell_type": "code",
   "execution_count": 29,
   "metadata": {
    "deletable": false,
    "editable": false,
    "nbgrader": {
     "cell_type": "code",
     "checksum": "d9ad6a7798d539a92af6a2aa10c1d6ef",
     "grade": false,
     "grade_id": "cell-b2f270faa0226ad1",
     "locked": true,
     "schema_version": 3,
     "solution": false,
     "task": false
    }
   },
   "outputs": [
    {
     "data": {
      "text/html": [
       "<style>#sk-container-id-1 {color: black;background-color: white;}#sk-container-id-1 pre{padding: 0;}#sk-container-id-1 div.sk-toggleable {background-color: white;}#sk-container-id-1 label.sk-toggleable__label {cursor: pointer;display: block;width: 100%;margin-bottom: 0;padding: 0.3em;box-sizing: border-box;text-align: center;}#sk-container-id-1 label.sk-toggleable__label-arrow:before {content: \"▸\";float: left;margin-right: 0.25em;color: #696969;}#sk-container-id-1 label.sk-toggleable__label-arrow:hover:before {color: black;}#sk-container-id-1 div.sk-estimator:hover label.sk-toggleable__label-arrow:before {color: black;}#sk-container-id-1 div.sk-toggleable__content {max-height: 0;max-width: 0;overflow: hidden;text-align: left;background-color: #f0f8ff;}#sk-container-id-1 div.sk-toggleable__content pre {margin: 0.2em;color: black;border-radius: 0.25em;background-color: #f0f8ff;}#sk-container-id-1 input.sk-toggleable__control:checked~div.sk-toggleable__content {max-height: 200px;max-width: 100%;overflow: auto;}#sk-container-id-1 input.sk-toggleable__control:checked~label.sk-toggleable__label-arrow:before {content: \"▾\";}#sk-container-id-1 div.sk-estimator input.sk-toggleable__control:checked~label.sk-toggleable__label {background-color: #d4ebff;}#sk-container-id-1 div.sk-label input.sk-toggleable__control:checked~label.sk-toggleable__label {background-color: #d4ebff;}#sk-container-id-1 input.sk-hidden--visually {border: 0;clip: rect(1px 1px 1px 1px);clip: rect(1px, 1px, 1px, 1px);height: 1px;margin: -1px;overflow: hidden;padding: 0;position: absolute;width: 1px;}#sk-container-id-1 div.sk-estimator {font-family: monospace;background-color: #f0f8ff;border: 1px dotted black;border-radius: 0.25em;box-sizing: border-box;margin-bottom: 0.5em;}#sk-container-id-1 div.sk-estimator:hover {background-color: #d4ebff;}#sk-container-id-1 div.sk-parallel-item::after {content: \"\";width: 100%;border-bottom: 1px solid gray;flex-grow: 1;}#sk-container-id-1 div.sk-label:hover label.sk-toggleable__label {background-color: #d4ebff;}#sk-container-id-1 div.sk-serial::before {content: \"\";position: absolute;border-left: 1px solid gray;box-sizing: border-box;top: 0;bottom: 0;left: 50%;z-index: 0;}#sk-container-id-1 div.sk-serial {display: flex;flex-direction: column;align-items: center;background-color: white;padding-right: 0.2em;padding-left: 0.2em;position: relative;}#sk-container-id-1 div.sk-item {position: relative;z-index: 1;}#sk-container-id-1 div.sk-parallel {display: flex;align-items: stretch;justify-content: center;background-color: white;position: relative;}#sk-container-id-1 div.sk-item::before, #sk-container-id-1 div.sk-parallel-item::before {content: \"\";position: absolute;border-left: 1px solid gray;box-sizing: border-box;top: 0;bottom: 0;left: 50%;z-index: -1;}#sk-container-id-1 div.sk-parallel-item {display: flex;flex-direction: column;z-index: 1;position: relative;background-color: white;}#sk-container-id-1 div.sk-parallel-item:first-child::after {align-self: flex-end;width: 50%;}#sk-container-id-1 div.sk-parallel-item:last-child::after {align-self: flex-start;width: 50%;}#sk-container-id-1 div.sk-parallel-item:only-child::after {width: 0;}#sk-container-id-1 div.sk-dashed-wrapped {border: 1px dashed gray;margin: 0 0.4em 0.5em 0.4em;box-sizing: border-box;padding-bottom: 0.4em;background-color: white;}#sk-container-id-1 div.sk-label label {font-family: monospace;font-weight: bold;display: inline-block;line-height: 1.2em;}#sk-container-id-1 div.sk-label-container {text-align: center;}#sk-container-id-1 div.sk-container {/* jupyter's `normalize.less` sets `[hidden] { display: none; }` but bootstrap.min.css set `[hidden] { display: none !important; }` so we also need the `!important` here to be able to override the default hidden behavior on the sphinx rendered scikit-learn.org. See: https://github.com/scikit-learn/scikit-learn/issues/21755 */display: inline-block !important;position: relative;}#sk-container-id-1 div.sk-text-repr-fallback {display: none;}</style><div id=\"sk-container-id-1\" class=\"sk-top-container\"><div class=\"sk-text-repr-fallback\"><pre>LogisticRegression()</pre><b>In a Jupyter environment, please rerun this cell to show the HTML representation or trust the notebook. <br />On GitHub, the HTML representation is unable to render, please try loading this page with nbviewer.org.</b></div><div class=\"sk-container\" hidden><div class=\"sk-item\"><div class=\"sk-estimator sk-toggleable\"><input class=\"sk-toggleable__control sk-hidden--visually\" id=\"sk-estimator-id-1\" type=\"checkbox\" checked><label for=\"sk-estimator-id-1\" class=\"sk-toggleable__label sk-toggleable__label-arrow\">LogisticRegression</label><div class=\"sk-toggleable__content\"><pre>LogisticRegression()</pre></div></div></div></div></div>"
      ],
      "text/plain": [
       "LogisticRegression()"
      ]
     },
     "execution_count": 29,
     "metadata": {},
     "output_type": "execute_result"
    }
   ],
   "source": [
    "# Fitting the logistic regression model\n",
    "logreg = LogisticRegression()\n",
    "logreg.fit(X_train_scaled, y_train)"
   ]
  },
  {
   "cell_type": "code",
   "execution_count": 30,
   "metadata": {
    "deletable": false,
    "editable": false,
    "nbgrader": {
     "cell_type": "code",
     "checksum": "a3c5acd2dfdd8f5cea20681f43fcddb3",
     "grade": false,
     "grade_id": "cell-61de6025961a2530",
     "locked": true,
     "schema_version": 3,
     "solution": false,
     "task": false
    }
   },
   "outputs": [],
   "source": [
    "#Making predictions on training and test data\n",
    "y_train_pred = logreg.predict(X_train_scaled)\n",
    "y_test_pred = logreg.predict(X_test_scaled)"
   ]
  },
  {
   "cell_type": "markdown",
   "metadata": {
    "deletable": false,
    "editable": false,
    "nbgrader": {
     "cell_type": "markdown",
     "checksum": "0d6ded4d07c26dc5b526aaf6aa70921f",
     "grade": false,
     "grade_id": "cell-79619be854fd4e90",
     "locked": true,
     "schema_version": 3,
     "solution": false,
     "task": false
    }
   },
   "source": [
    "# Model Evaluation"
   ]
  },
  {
   "cell_type": "markdown",
   "metadata": {
    "deletable": false,
    "editable": false,
    "nbgrader": {
     "cell_type": "markdown",
     "checksum": "f96cf5508419c90d04bd29c6b61e0939",
     "grade": false,
     "grade_id": "cell-106499a9ad3dda5c",
     "locked": true,
     "schema_version": 3,
     "solution": false,
     "task": false
    }
   },
   "source": [
    "Now let us evaluate the model using the f1-score. Store the f1-scores in <b>score_train</b> and <b>score_test</b> variables."
   ]
  },
  {
   "cell_type": "code",
   "execution_count": 31,
   "metadata": {
    "deletable": false,
    "editable": false,
    "nbgrader": {
     "cell_type": "code",
     "checksum": "003cc38f57ec5315f83e99864e3264dd",
     "grade": false,
     "grade_id": "cell-3d6fc1610d77a476",
     "locked": true,
     "schema_version": 3,
     "solution": false,
     "task": false
    }
   },
   "outputs": [],
   "source": [
    "# Import f1-score\n",
    "from sklearn.metrics import f1_score"
   ]
  },
  {
   "cell_type": "code",
   "execution_count": 32,
   "metadata": {
    "deletable": false,
    "nbgrader": {
     "cell_type": "code",
     "checksum": "dddc4d7a390e84f12f1f483f43b529c4",
     "grade": false,
     "grade_id": "cell-5be59ae0989767e7",
     "locked": false,
     "schema_version": 3,
     "solution": true,
     "task": false
    }
   },
   "outputs": [
    {
     "name": "stdout",
     "output_type": "stream",
     "text": [
      "Train score:  0.6454826982630941\n",
      "Test score:  0.6376448481052301\n"
     ]
    }
   ],
   "source": [
    "# Generate and print the f1-score for train and test\n",
    "# your code here\n",
    "score_train = f1_score(y_train, y_train_pred)\n",
    "score_test = f1_score(y_test, y_test_pred)\n",
    "\n",
    "\n",
    "print('Train score: ',score_train)\n",
    "print('Test score: ', score_test)"
   ]
  },
  {
   "cell_type": "code",
   "execution_count": 33,
   "metadata": {
    "deletable": false,
    "editable": false,
    "nbgrader": {
     "cell_type": "code",
     "checksum": "26feecd29df3665ce48c171e58596c3e",
     "grade": true,
     "grade_id": "cell-a0cfc0d014f6a5a9",
     "locked": true,
     "points": 5,
     "schema_version": 3,
     "solution": false,
     "task": false
    }
   },
   "outputs": [],
   "source": [
    "assert score_train > 0.64, 'Check if the model has been made after following all the instructions.'\n",
    "assert score_test > 0.63, 'Check if the model has been made after following the instructions.'"
   ]
  },
  {
   "cell_type": "markdown",
   "metadata": {
    "deletable": false,
    "editable": false,
    "nbgrader": {
     "cell_type": "markdown",
     "checksum": "8a5b2e88b9343d762d974ff936ceffe9",
     "grade": false,
     "grade_id": "cell-d85eb6f043fd60fc",
     "locked": true,
     "schema_version": 3,
     "solution": false,
     "task": false
    }
   },
   "source": [
    "Anova is getting an underfitting model. To tackle this they also decide to implement decision trees for this supervised problem."
   ]
  }
 ],
 "metadata": {
  "colab": {
   "provenance": []
  },
  "kernelspec": {
   "display_name": "Python 3 (ipykernel)",
   "language": "python",
   "name": "python3"
  },
  "language_info": {
   "codemirror_mode": {
    "name": "ipython",
    "version": 3
   },
   "file_extension": ".py",
   "mimetype": "text/x-python",
   "name": "python",
   "nbconvert_exporter": "python",
   "pygments_lexer": "ipython3",
   "version": "3.8.18"
  }
 },
 "nbformat": 4,
 "nbformat_minor": 4
}
