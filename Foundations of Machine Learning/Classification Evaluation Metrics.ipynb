{
 "cells": [
  {
   "cell_type": "markdown",
   "id": "2f285542",
   "metadata": {},
   "source": [
    "We will choose the number of neighbors as 10 for knn. If you recall from the last module, for Synergix, k=10 will give us a model closer to a good-fit model. Rest of the code remains the same so will quickly execute all the cells."
   ]
  },
  {
   "cell_type": "code",
   "execution_count": 191,
   "id": "8fc3e9a5",
   "metadata": {},
   "outputs": [],
   "source": [
    "#Importing necessary libraries\n",
    "import pandas as pd\n",
    "import numpy as np\n",
    "import os\n",
    "import matplotlib.pyplot as plt"
   ]
  },
  {
   "cell_type": "code",
   "execution_count": 192,
   "id": "81231f02",
   "metadata": {},
   "outputs": [],
   "source": [
    "#changing the work directory\n",
    "os.chdir('/Users/admin/Desktop/Synergyx Dataset')"
   ]
  },
  {
   "cell_type": "code",
   "execution_count": 193,
   "id": "09a8044e",
   "metadata": {},
   "outputs": [
    {
     "data": {
      "text/html": [
       "<div>\n",
       "<style scoped>\n",
       "    .dataframe tbody tr th:only-of-type {\n",
       "        vertical-align: middle;\n",
       "    }\n",
       "\n",
       "    .dataframe tbody tr th {\n",
       "        vertical-align: top;\n",
       "    }\n",
       "\n",
       "    .dataframe thead th {\n",
       "        text-align: right;\n",
       "    }\n",
       "</style>\n",
       "<table border=\"1\" class=\"dataframe\">\n",
       "  <thead>\n",
       "    <tr style=\"text-align: right;\">\n",
       "      <th></th>\n",
       "      <th>Page_traffic</th>\n",
       "      <th>Unit_price</th>\n",
       "      <th>Units_sold</th>\n",
       "      <th>Segment</th>\n",
       "      <th>1_Star_Rating</th>\n",
       "      <th>2_Star_Rating</th>\n",
       "      <th>3_Star_Rating</th>\n",
       "      <th>4_Star_Rating</th>\n",
       "      <th>5_Star_Rating</th>\n",
       "      <th>Image_Count</th>\n",
       "      <th>...</th>\n",
       "      <th>Sum of Spend</th>\n",
       "      <th>Online_Clicks</th>\n",
       "      <th>Online_Cost</th>\n",
       "      <th>Online_Impressions</th>\n",
       "      <th>num_unique_campaigns</th>\n",
       "      <th>Clicks_video</th>\n",
       "      <th>Cost_video</th>\n",
       "      <th>Impressions_video</th>\n",
       "      <th>num_unique_campaigns_offline</th>\n",
       "      <th>Units_sold&gt;1000</th>\n",
       "    </tr>\n",
       "  </thead>\n",
       "  <tbody>\n",
       "    <tr>\n",
       "      <th>0</th>\n",
       "      <td>5835.0</td>\n",
       "      <td>22.214389</td>\n",
       "      <td>2071</td>\n",
       "      <td>Skincare</td>\n",
       "      <td>99.0</td>\n",
       "      <td>72.0</td>\n",
       "      <td>194.0</td>\n",
       "      <td>453.0</td>\n",
       "      <td>3272.0</td>\n",
       "      <td>6.0</td>\n",
       "      <td>...</td>\n",
       "      <td>0.0</td>\n",
       "      <td>1271.0</td>\n",
       "      <td>3102.448115</td>\n",
       "      <td>238075.0</td>\n",
       "      <td>6.0</td>\n",
       "      <td>3479.0</td>\n",
       "      <td>40244.28</td>\n",
       "      <td>3856872.0</td>\n",
       "      <td>2.0</td>\n",
       "      <td>1</td>\n",
       "    </tr>\n",
       "    <tr>\n",
       "      <th>1</th>\n",
       "      <td>1881.0</td>\n",
       "      <td>11.870778</td>\n",
       "      <td>681</td>\n",
       "      <td>Skincare</td>\n",
       "      <td>118.0</td>\n",
       "      <td>73.0</td>\n",
       "      <td>200.0</td>\n",
       "      <td>430.0</td>\n",
       "      <td>3084.0</td>\n",
       "      <td>9.0</td>\n",
       "      <td>...</td>\n",
       "      <td>0.0</td>\n",
       "      <td>494.0</td>\n",
       "      <td>1723.716359</td>\n",
       "      <td>75868.0</td>\n",
       "      <td>2.0</td>\n",
       "      <td>0.0</td>\n",
       "      <td>0.00</td>\n",
       "      <td>0.0</td>\n",
       "      <td>0.0</td>\n",
       "      <td>0</td>\n",
       "    </tr>\n",
       "    <tr>\n",
       "      <th>2</th>\n",
       "      <td>2477.0</td>\n",
       "      <td>27.645714</td>\n",
       "      <td>875</td>\n",
       "      <td>Makeup</td>\n",
       "      <td>108.0</td>\n",
       "      <td>85.0</td>\n",
       "      <td>232.0</td>\n",
       "      <td>511.0</td>\n",
       "      <td>3402.0</td>\n",
       "      <td>10.0</td>\n",
       "      <td>...</td>\n",
       "      <td>0.0</td>\n",
       "      <td>0.0</td>\n",
       "      <td>0.000000</td>\n",
       "      <td>0.0</td>\n",
       "      <td>0.0</td>\n",
       "      <td>0.0</td>\n",
       "      <td>0.00</td>\n",
       "      <td>0.0</td>\n",
       "      <td>0.0</td>\n",
       "      <td>0</td>\n",
       "    </tr>\n",
       "    <tr>\n",
       "      <th>3</th>\n",
       "      <td>4087.0</td>\n",
       "      <td>16.896848</td>\n",
       "      <td>1396</td>\n",
       "      <td>Makeup</td>\n",
       "      <td>82.0</td>\n",
       "      <td>64.0</td>\n",
       "      <td>167.0</td>\n",
       "      <td>303.0</td>\n",
       "      <td>2058.0</td>\n",
       "      <td>5.0</td>\n",
       "      <td>...</td>\n",
       "      <td>0.0</td>\n",
       "      <td>0.0</td>\n",
       "      <td>0.000000</td>\n",
       "      <td>0.0</td>\n",
       "      <td>0.0</td>\n",
       "      <td>0.0</td>\n",
       "      <td>0.00</td>\n",
       "      <td>0.0</td>\n",
       "      <td>0.0</td>\n",
       "      <td>1</td>\n",
       "    </tr>\n",
       "    <tr>\n",
       "      <th>4</th>\n",
       "      <td>1446.0</td>\n",
       "      <td>16.357664</td>\n",
       "      <td>822</td>\n",
       "      <td>Hair Care</td>\n",
       "      <td>29.0</td>\n",
       "      <td>24.0</td>\n",
       "      <td>88.0</td>\n",
       "      <td>200.0</td>\n",
       "      <td>1221.0</td>\n",
       "      <td>0.0</td>\n",
       "      <td>...</td>\n",
       "      <td>0.0</td>\n",
       "      <td>0.0</td>\n",
       "      <td>0.000000</td>\n",
       "      <td>0.0</td>\n",
       "      <td>0.0</td>\n",
       "      <td>6024.0</td>\n",
       "      <td>77040.81</td>\n",
       "      <td>7539723.0</td>\n",
       "      <td>2.0</td>\n",
       "      <td>0</td>\n",
       "    </tr>\n",
       "  </tbody>\n",
       "</table>\n",
       "<p>5 rows × 26 columns</p>\n",
       "</div>"
      ],
      "text/plain": [
       "   Page_traffic  Unit_price  Units_sold    Segment  1_Star_Rating  \\\n",
       "0        5835.0   22.214389        2071   Skincare           99.0   \n",
       "1        1881.0   11.870778         681   Skincare          118.0   \n",
       "2        2477.0   27.645714         875     Makeup          108.0   \n",
       "3        4087.0   16.896848        1396     Makeup           82.0   \n",
       "4        1446.0   16.357664         822  Hair Care           29.0   \n",
       "\n",
       "   2_Star_Rating  3_Star_Rating  4_Star_Rating  5_Star_Rating  Image_Count  \\\n",
       "0           72.0          194.0          453.0         3272.0          6.0   \n",
       "1           73.0          200.0          430.0         3084.0          9.0   \n",
       "2           85.0          232.0          511.0         3402.0         10.0   \n",
       "3           64.0          167.0          303.0         2058.0          5.0   \n",
       "4           24.0           88.0          200.0         1221.0          0.0   \n",
       "\n",
       "   ...  Sum of Spend  Online_Clicks  Online_Cost  Online_Impressions  \\\n",
       "0  ...           0.0         1271.0  3102.448115            238075.0   \n",
       "1  ...           0.0          494.0  1723.716359             75868.0   \n",
       "2  ...           0.0            0.0     0.000000                 0.0   \n",
       "3  ...           0.0            0.0     0.000000                 0.0   \n",
       "4  ...           0.0            0.0     0.000000                 0.0   \n",
       "\n",
       "   num_unique_campaigns  Clicks_video  Cost_video  Impressions_video  \\\n",
       "0                   6.0        3479.0    40244.28          3856872.0   \n",
       "1                   2.0           0.0        0.00                0.0   \n",
       "2                   0.0           0.0        0.00                0.0   \n",
       "3                   0.0           0.0        0.00                0.0   \n",
       "4                   0.0        6024.0    77040.81          7539723.0   \n",
       "\n",
       "   num_unique_campaigns_offline  Units_sold>1000  \n",
       "0                           2.0                1  \n",
       "1                           0.0                0  \n",
       "2                           0.0                0  \n",
       "3                           0.0                1  \n",
       "4                           2.0                0  \n",
       "\n",
       "[5 rows x 26 columns]"
      ]
     },
     "execution_count": 193,
     "metadata": {},
     "output_type": "execute_result"
    }
   ],
   "source": [
    "#reading the data\n",
    "data = pd.read_csv('Synergix_data_preprocessed_new.csv')\n",
    "data.head()"
   ]
  },
  {
   "cell_type": "code",
   "execution_count": 194,
   "id": "6576a4fe",
   "metadata": {},
   "outputs": [],
   "source": [
    "#drop Units_sold column\n",
    "data.drop(columns = 'Units_sold', axis = 1, inplace = True)"
   ]
  },
  {
   "cell_type": "code",
   "execution_count": 195,
   "id": "ed05cbf3",
   "metadata": {},
   "outputs": [
    {
     "data": {
      "text/html": [
       "<div>\n",
       "<style scoped>\n",
       "    .dataframe tbody tr th:only-of-type {\n",
       "        vertical-align: middle;\n",
       "    }\n",
       "\n",
       "    .dataframe tbody tr th {\n",
       "        vertical-align: top;\n",
       "    }\n",
       "\n",
       "    .dataframe thead th {\n",
       "        text-align: right;\n",
       "    }\n",
       "</style>\n",
       "<table border=\"1\" class=\"dataframe\">\n",
       "  <thead>\n",
       "    <tr style=\"text-align: right;\">\n",
       "      <th></th>\n",
       "      <th>Page_traffic</th>\n",
       "      <th>Unit_price</th>\n",
       "      <th>Segment</th>\n",
       "      <th>1_Star_Rating</th>\n",
       "      <th>2_Star_Rating</th>\n",
       "      <th>3_Star_Rating</th>\n",
       "      <th>4_Star_Rating</th>\n",
       "      <th>5_Star_Rating</th>\n",
       "      <th>Image_Count</th>\n",
       "      <th>Bullet_Count</th>\n",
       "      <th>...</th>\n",
       "      <th>Sum of Spend</th>\n",
       "      <th>Online_Clicks</th>\n",
       "      <th>Online_Cost</th>\n",
       "      <th>Online_Impressions</th>\n",
       "      <th>num_unique_campaigns</th>\n",
       "      <th>Clicks_video</th>\n",
       "      <th>Cost_video</th>\n",
       "      <th>Impressions_video</th>\n",
       "      <th>num_unique_campaigns_offline</th>\n",
       "      <th>Units_sold&gt;1000</th>\n",
       "    </tr>\n",
       "  </thead>\n",
       "  <tbody>\n",
       "    <tr>\n",
       "      <th>0</th>\n",
       "      <td>5835.0</td>\n",
       "      <td>22.214389</td>\n",
       "      <td>Skincare</td>\n",
       "      <td>99.0</td>\n",
       "      <td>72.0</td>\n",
       "      <td>194.0</td>\n",
       "      <td>453.0</td>\n",
       "      <td>3272.0</td>\n",
       "      <td>6.0</td>\n",
       "      <td>6.0</td>\n",
       "      <td>...</td>\n",
       "      <td>0.0</td>\n",
       "      <td>1271.0</td>\n",
       "      <td>3102.448115</td>\n",
       "      <td>238075.0</td>\n",
       "      <td>6.0</td>\n",
       "      <td>3479.0</td>\n",
       "      <td>40244.28</td>\n",
       "      <td>3856872.0</td>\n",
       "      <td>2.0</td>\n",
       "      <td>1</td>\n",
       "    </tr>\n",
       "    <tr>\n",
       "      <th>1</th>\n",
       "      <td>1881.0</td>\n",
       "      <td>11.870778</td>\n",
       "      <td>Skincare</td>\n",
       "      <td>118.0</td>\n",
       "      <td>73.0</td>\n",
       "      <td>200.0</td>\n",
       "      <td>430.0</td>\n",
       "      <td>3084.0</td>\n",
       "      <td>9.0</td>\n",
       "      <td>8.0</td>\n",
       "      <td>...</td>\n",
       "      <td>0.0</td>\n",
       "      <td>494.0</td>\n",
       "      <td>1723.716359</td>\n",
       "      <td>75868.0</td>\n",
       "      <td>2.0</td>\n",
       "      <td>0.0</td>\n",
       "      <td>0.00</td>\n",
       "      <td>0.0</td>\n",
       "      <td>0.0</td>\n",
       "      <td>0</td>\n",
       "    </tr>\n",
       "    <tr>\n",
       "      <th>2</th>\n",
       "      <td>2477.0</td>\n",
       "      <td>27.645714</td>\n",
       "      <td>Makeup</td>\n",
       "      <td>108.0</td>\n",
       "      <td>85.0</td>\n",
       "      <td>232.0</td>\n",
       "      <td>511.0</td>\n",
       "      <td>3402.0</td>\n",
       "      <td>10.0</td>\n",
       "      <td>7.0</td>\n",
       "      <td>...</td>\n",
       "      <td>0.0</td>\n",
       "      <td>0.0</td>\n",
       "      <td>0.000000</td>\n",
       "      <td>0.0</td>\n",
       "      <td>0.0</td>\n",
       "      <td>0.0</td>\n",
       "      <td>0.00</td>\n",
       "      <td>0.0</td>\n",
       "      <td>0.0</td>\n",
       "      <td>0</td>\n",
       "    </tr>\n",
       "    <tr>\n",
       "      <th>3</th>\n",
       "      <td>4087.0</td>\n",
       "      <td>16.896848</td>\n",
       "      <td>Makeup</td>\n",
       "      <td>82.0</td>\n",
       "      <td>64.0</td>\n",
       "      <td>167.0</td>\n",
       "      <td>303.0</td>\n",
       "      <td>2058.0</td>\n",
       "      <td>5.0</td>\n",
       "      <td>7.0</td>\n",
       "      <td>...</td>\n",
       "      <td>0.0</td>\n",
       "      <td>0.0</td>\n",
       "      <td>0.000000</td>\n",
       "      <td>0.0</td>\n",
       "      <td>0.0</td>\n",
       "      <td>0.0</td>\n",
       "      <td>0.00</td>\n",
       "      <td>0.0</td>\n",
       "      <td>0.0</td>\n",
       "      <td>1</td>\n",
       "    </tr>\n",
       "    <tr>\n",
       "      <th>4</th>\n",
       "      <td>1446.0</td>\n",
       "      <td>16.357664</td>\n",
       "      <td>Hair Care</td>\n",
       "      <td>29.0</td>\n",
       "      <td>24.0</td>\n",
       "      <td>88.0</td>\n",
       "      <td>200.0</td>\n",
       "      <td>1221.0</td>\n",
       "      <td>0.0</td>\n",
       "      <td>8.0</td>\n",
       "      <td>...</td>\n",
       "      <td>0.0</td>\n",
       "      <td>0.0</td>\n",
       "      <td>0.000000</td>\n",
       "      <td>0.0</td>\n",
       "      <td>0.0</td>\n",
       "      <td>6024.0</td>\n",
       "      <td>77040.81</td>\n",
       "      <td>7539723.0</td>\n",
       "      <td>2.0</td>\n",
       "      <td>0</td>\n",
       "    </tr>\n",
       "  </tbody>\n",
       "</table>\n",
       "<p>5 rows × 25 columns</p>\n",
       "</div>"
      ],
      "text/plain": [
       "   Page_traffic  Unit_price    Segment  1_Star_Rating  2_Star_Rating  \\\n",
       "0        5835.0   22.214389   Skincare           99.0           72.0   \n",
       "1        1881.0   11.870778   Skincare          118.0           73.0   \n",
       "2        2477.0   27.645714     Makeup          108.0           85.0   \n",
       "3        4087.0   16.896848     Makeup           82.0           64.0   \n",
       "4        1446.0   16.357664  Hair Care           29.0           24.0   \n",
       "\n",
       "   3_Star_Rating  4_Star_Rating  5_Star_Rating  Image_Count  Bullet_Count  \\\n",
       "0          194.0          453.0         3272.0          6.0           6.0   \n",
       "1          200.0          430.0         3084.0          9.0           8.0   \n",
       "2          232.0          511.0         3402.0         10.0           7.0   \n",
       "3          167.0          303.0         2058.0          5.0           7.0   \n",
       "4           88.0          200.0         1221.0          0.0           8.0   \n",
       "\n",
       "   ...  Sum of Spend  Online_Clicks  Online_Cost  Online_Impressions  \\\n",
       "0  ...           0.0         1271.0  3102.448115            238075.0   \n",
       "1  ...           0.0          494.0  1723.716359             75868.0   \n",
       "2  ...           0.0            0.0     0.000000                 0.0   \n",
       "3  ...           0.0            0.0     0.000000                 0.0   \n",
       "4  ...           0.0            0.0     0.000000                 0.0   \n",
       "\n",
       "   num_unique_campaigns  Clicks_video  Cost_video  Impressions_video  \\\n",
       "0                   6.0        3479.0    40244.28          3856872.0   \n",
       "1                   2.0           0.0        0.00                0.0   \n",
       "2                   0.0           0.0        0.00                0.0   \n",
       "3                   0.0           0.0        0.00                0.0   \n",
       "4                   0.0        6024.0    77040.81          7539723.0   \n",
       "\n",
       "   num_unique_campaigns_offline  Units_sold>1000  \n",
       "0                           2.0                1  \n",
       "1                           0.0                0  \n",
       "2                           0.0                0  \n",
       "3                           0.0                1  \n",
       "4                           2.0                0  \n",
       "\n",
       "[5 rows x 25 columns]"
      ]
     },
     "execution_count": 195,
     "metadata": {},
     "output_type": "execute_result"
    }
   ],
   "source": [
    "#check the data\n",
    "data.head()"
   ]
  },
  {
   "cell_type": "code",
   "execution_count": 196,
   "id": "69e50512",
   "metadata": {},
   "outputs": [],
   "source": [
    "#Storing the ratio in a list named Rating_ratio\n",
    "Rating_ratio = []\n",
    "for row in data.values:\n",
    "    if(row[3]+row[4] == 0):\n",
    "        if(row[6]+row[7] == 0):\n",
    "            #If all the ratings are zero then overall rating ratio will also be zero\n",
    "            Rating_ratio.append(0.0)\n",
    "        else:\n",
    "            #If only the numerator(1 and 2 star) ratings are zero then add -99999 to the list temporarily which \n",
    "            #will be taken care of in the next part of the code\n",
    "            Rating_ratio.append(-99999)\n",
    "    else:\n",
    "        Rating_ratio.append((int(row[6])+int(row[7]))/(int(row[4])+int(row[3])));\n",
    "              \n",
    "\n",
    "#replacing -99999 with the maximum rating in the list\n",
    "max_rating = max(Rating_ratio)\n",
    "for x in range(len(Rating_ratio)):\n",
    "    if(Rating_ratio[x] == -99999):\n",
    "        Rating_ratio[x] = max_rating"
   ]
  },
  {
   "cell_type": "code",
   "execution_count": 197,
   "id": "c9e4c150",
   "metadata": {},
   "outputs": [],
   "source": [
    "#adding the column 'Good_By_Bad_Rating' to the dataframe\n",
    "data['Good_By_Bad_Rating'] = Rating_ratio"
   ]
  },
  {
   "cell_type": "code",
   "execution_count": 198,
   "id": "70345023",
   "metadata": {},
   "outputs": [],
   "source": [
    "#drop the rating columns\n",
    "data.drop(columns = ['1_Star_Rating', '2_Star_Rating', '3_Star_Rating', '4_Star_Rating', '5_Star_Rating'], inplace = True)"
   ]
  },
  {
   "cell_type": "code",
   "execution_count": 199,
   "id": "721553cd",
   "metadata": {},
   "outputs": [
    {
     "data": {
      "text/html": [
       "<div>\n",
       "<style scoped>\n",
       "    .dataframe tbody tr th:only-of-type {\n",
       "        vertical-align: middle;\n",
       "    }\n",
       "\n",
       "    .dataframe tbody tr th {\n",
       "        vertical-align: top;\n",
       "    }\n",
       "\n",
       "    .dataframe thead th {\n",
       "        text-align: right;\n",
       "    }\n",
       "</style>\n",
       "<table border=\"1\" class=\"dataframe\">\n",
       "  <thead>\n",
       "    <tr style=\"text-align: right;\">\n",
       "      <th></th>\n",
       "      <th>0</th>\n",
       "      <th>1</th>\n",
       "      <th>2</th>\n",
       "      <th>3</th>\n",
       "      <th>4</th>\n",
       "    </tr>\n",
       "  </thead>\n",
       "  <tbody>\n",
       "    <tr>\n",
       "      <th>Page_traffic</th>\n",
       "      <td>5835.0</td>\n",
       "      <td>1881.0</td>\n",
       "      <td>2477.0</td>\n",
       "      <td>4087.0</td>\n",
       "      <td>1446.0</td>\n",
       "    </tr>\n",
       "    <tr>\n",
       "      <th>Unit_price</th>\n",
       "      <td>22.214389</td>\n",
       "      <td>11.870778</td>\n",
       "      <td>27.645714</td>\n",
       "      <td>16.896848</td>\n",
       "      <td>16.357664</td>\n",
       "    </tr>\n",
       "    <tr>\n",
       "      <th>Segment</th>\n",
       "      <td>Skincare</td>\n",
       "      <td>Skincare</td>\n",
       "      <td>Makeup</td>\n",
       "      <td>Makeup</td>\n",
       "      <td>Hair Care</td>\n",
       "    </tr>\n",
       "    <tr>\n",
       "      <th>Image_Count</th>\n",
       "      <td>6.0</td>\n",
       "      <td>9.0</td>\n",
       "      <td>10.0</td>\n",
       "      <td>5.0</td>\n",
       "      <td>0.0</td>\n",
       "    </tr>\n",
       "    <tr>\n",
       "      <th>Bullet_Count</th>\n",
       "      <td>6.0</td>\n",
       "      <td>8.0</td>\n",
       "      <td>7.0</td>\n",
       "      <td>7.0</td>\n",
       "      <td>8.0</td>\n",
       "    </tr>\n",
       "    <tr>\n",
       "      <th>Title_Count</th>\n",
       "      <td>89.0</td>\n",
       "      <td>126.0</td>\n",
       "      <td>152.0</td>\n",
       "      <td>117.0</td>\n",
       "      <td>165.0</td>\n",
       "    </tr>\n",
       "    <tr>\n",
       "      <th>Description_Length</th>\n",
       "      <td>141.0</td>\n",
       "      <td>149.0</td>\n",
       "      <td>186.0</td>\n",
       "      <td>209.0</td>\n",
       "      <td>158.0</td>\n",
       "    </tr>\n",
       "    <tr>\n",
       "      <th>num_unique_Search_Terms</th>\n",
       "      <td>3.0</td>\n",
       "      <td>13.0</td>\n",
       "      <td>4.0</td>\n",
       "      <td>7.0</td>\n",
       "      <td>4.0</td>\n",
       "    </tr>\n",
       "    <tr>\n",
       "      <th>Organic Search Rank</th>\n",
       "      <td>3.0</td>\n",
       "      <td>16.0</td>\n",
       "      <td>20.0</td>\n",
       "      <td>20.0</td>\n",
       "      <td>16.0</td>\n",
       "    </tr>\n",
       "    <tr>\n",
       "      <th>Num_of_Promotions</th>\n",
       "      <td>0.0</td>\n",
       "      <td>0.0</td>\n",
       "      <td>0.0</td>\n",
       "      <td>0.0</td>\n",
       "      <td>0.0</td>\n",
       "    </tr>\n",
       "    <tr>\n",
       "      <th>Sum of Spend</th>\n",
       "      <td>0.0</td>\n",
       "      <td>0.0</td>\n",
       "      <td>0.0</td>\n",
       "      <td>0.0</td>\n",
       "      <td>0.0</td>\n",
       "    </tr>\n",
       "    <tr>\n",
       "      <th>Online_Clicks</th>\n",
       "      <td>1271.0</td>\n",
       "      <td>494.0</td>\n",
       "      <td>0.0</td>\n",
       "      <td>0.0</td>\n",
       "      <td>0.0</td>\n",
       "    </tr>\n",
       "    <tr>\n",
       "      <th>Online_Cost</th>\n",
       "      <td>3102.448115</td>\n",
       "      <td>1723.716359</td>\n",
       "      <td>0.0</td>\n",
       "      <td>0.0</td>\n",
       "      <td>0.0</td>\n",
       "    </tr>\n",
       "    <tr>\n",
       "      <th>Online_Impressions</th>\n",
       "      <td>238075.0</td>\n",
       "      <td>75868.0</td>\n",
       "      <td>0.0</td>\n",
       "      <td>0.0</td>\n",
       "      <td>0.0</td>\n",
       "    </tr>\n",
       "    <tr>\n",
       "      <th>num_unique_campaigns</th>\n",
       "      <td>6.0</td>\n",
       "      <td>2.0</td>\n",
       "      <td>0.0</td>\n",
       "      <td>0.0</td>\n",
       "      <td>0.0</td>\n",
       "    </tr>\n",
       "    <tr>\n",
       "      <th>Clicks_video</th>\n",
       "      <td>3479.0</td>\n",
       "      <td>0.0</td>\n",
       "      <td>0.0</td>\n",
       "      <td>0.0</td>\n",
       "      <td>6024.0</td>\n",
       "    </tr>\n",
       "    <tr>\n",
       "      <th>Cost_video</th>\n",
       "      <td>40244.28</td>\n",
       "      <td>0.0</td>\n",
       "      <td>0.0</td>\n",
       "      <td>0.0</td>\n",
       "      <td>77040.81</td>\n",
       "    </tr>\n",
       "    <tr>\n",
       "      <th>Impressions_video</th>\n",
       "      <td>3856872.0</td>\n",
       "      <td>0.0</td>\n",
       "      <td>0.0</td>\n",
       "      <td>0.0</td>\n",
       "      <td>7539723.0</td>\n",
       "    </tr>\n",
       "    <tr>\n",
       "      <th>num_unique_campaigns_offline</th>\n",
       "      <td>2.0</td>\n",
       "      <td>0.0</td>\n",
       "      <td>0.0</td>\n",
       "      <td>0.0</td>\n",
       "      <td>2.0</td>\n",
       "    </tr>\n",
       "    <tr>\n",
       "      <th>Units_sold&gt;1000</th>\n",
       "      <td>1</td>\n",
       "      <td>0</td>\n",
       "      <td>0</td>\n",
       "      <td>1</td>\n",
       "      <td>0</td>\n",
       "    </tr>\n",
       "    <tr>\n",
       "      <th>Good_By_Bad_Rating</th>\n",
       "      <td>21.783626</td>\n",
       "      <td>18.397906</td>\n",
       "      <td>20.274611</td>\n",
       "      <td>16.171233</td>\n",
       "      <td>26.811321</td>\n",
       "    </tr>\n",
       "  </tbody>\n",
       "</table>\n",
       "</div>"
      ],
      "text/plain": [
       "                                        0            1          2          3  \\\n",
       "Page_traffic                       5835.0       1881.0     2477.0     4087.0   \n",
       "Unit_price                      22.214389    11.870778  27.645714  16.896848   \n",
       "Segment                          Skincare     Skincare     Makeup     Makeup   \n",
       "Image_Count                           6.0          9.0       10.0        5.0   \n",
       "Bullet_Count                          6.0          8.0        7.0        7.0   \n",
       "Title_Count                          89.0        126.0      152.0      117.0   \n",
       "Description_Length                  141.0        149.0      186.0      209.0   \n",
       "num_unique_Search_Terms               3.0         13.0        4.0        7.0   \n",
       "Organic Search Rank                   3.0         16.0       20.0       20.0   \n",
       "Num_of_Promotions                     0.0          0.0        0.0        0.0   \n",
       "Sum of Spend                          0.0          0.0        0.0        0.0   \n",
       "Online_Clicks                      1271.0        494.0        0.0        0.0   \n",
       "Online_Cost                   3102.448115  1723.716359        0.0        0.0   \n",
       "Online_Impressions               238075.0      75868.0        0.0        0.0   \n",
       "num_unique_campaigns                  6.0          2.0        0.0        0.0   \n",
       "Clicks_video                       3479.0          0.0        0.0        0.0   \n",
       "Cost_video                       40244.28          0.0        0.0        0.0   \n",
       "Impressions_video               3856872.0          0.0        0.0        0.0   \n",
       "num_unique_campaigns_offline          2.0          0.0        0.0        0.0   \n",
       "Units_sold>1000                         1            0          0          1   \n",
       "Good_By_Bad_Rating              21.783626    18.397906  20.274611  16.171233   \n",
       "\n",
       "                                      4  \n",
       "Page_traffic                     1446.0  \n",
       "Unit_price                    16.357664  \n",
       "Segment                       Hair Care  \n",
       "Image_Count                         0.0  \n",
       "Bullet_Count                        8.0  \n",
       "Title_Count                       165.0  \n",
       "Description_Length                158.0  \n",
       "num_unique_Search_Terms             4.0  \n",
       "Organic Search Rank                16.0  \n",
       "Num_of_Promotions                   0.0  \n",
       "Sum of Spend                        0.0  \n",
       "Online_Clicks                       0.0  \n",
       "Online_Cost                         0.0  \n",
       "Online_Impressions                  0.0  \n",
       "num_unique_campaigns                0.0  \n",
       "Clicks_video                     6024.0  \n",
       "Cost_video                     77040.81  \n",
       "Impressions_video             7539723.0  \n",
       "num_unique_campaigns_offline        2.0  \n",
       "Units_sold>1000                       0  \n",
       "Good_By_Bad_Rating            26.811321  "
      ]
     },
     "execution_count": 199,
     "metadata": {},
     "output_type": "execute_result"
    }
   ],
   "source": [
    "#check the dataset\n",
    "data.head().transpose()"
   ]
  },
  {
   "cell_type": "code",
   "execution_count": 200,
   "id": "0c9623da",
   "metadata": {},
   "outputs": [
    {
     "data": {
      "text/plain": [
       "array(['Skincare', 'Makeup', 'Hair Care'], dtype=object)"
      ]
     },
     "execution_count": 200,
     "metadata": {},
     "output_type": "execute_result"
    }
   ],
   "source": [
    "#get the category names\n",
    "data['Segment'].unique()"
   ]
  },
  {
   "cell_type": "markdown",
   "id": "cd7ba445",
   "metadata": {},
   "source": [
    "## One-hot Encoding"
   ]
  },
  {
   "cell_type": "code",
   "execution_count": 201,
   "id": "3f1c0329",
   "metadata": {},
   "outputs": [
    {
     "data": {
      "text/html": [
       "<div>\n",
       "<style scoped>\n",
       "    .dataframe tbody tr th:only-of-type {\n",
       "        vertical-align: middle;\n",
       "    }\n",
       "\n",
       "    .dataframe tbody tr th {\n",
       "        vertical-align: top;\n",
       "    }\n",
       "\n",
       "    .dataframe thead th {\n",
       "        text-align: right;\n",
       "    }\n",
       "</style>\n",
       "<table border=\"1\" class=\"dataframe\">\n",
       "  <thead>\n",
       "    <tr style=\"text-align: right;\">\n",
       "      <th></th>\n",
       "      <th>Page_traffic</th>\n",
       "      <th>Unit_price</th>\n",
       "      <th>Image_Count</th>\n",
       "      <th>Bullet_Count</th>\n",
       "      <th>Title_Count</th>\n",
       "      <th>Description_Length</th>\n",
       "      <th>num_unique_Search_Terms</th>\n",
       "      <th>Organic Search Rank</th>\n",
       "      <th>Num_of_Promotions</th>\n",
       "      <th>Sum of Spend</th>\n",
       "      <th>...</th>\n",
       "      <th>Online_Impressions</th>\n",
       "      <th>num_unique_campaigns</th>\n",
       "      <th>Clicks_video</th>\n",
       "      <th>Cost_video</th>\n",
       "      <th>Impressions_video</th>\n",
       "      <th>num_unique_campaigns_offline</th>\n",
       "      <th>Units_sold&gt;1000</th>\n",
       "      <th>Good_By_Bad_Rating</th>\n",
       "      <th>Segment_Makeup</th>\n",
       "      <th>Segment_Skincare</th>\n",
       "    </tr>\n",
       "  </thead>\n",
       "  <tbody>\n",
       "    <tr>\n",
       "      <th>0</th>\n",
       "      <td>5835.0</td>\n",
       "      <td>22.214389</td>\n",
       "      <td>6.0</td>\n",
       "      <td>6.0</td>\n",
       "      <td>89.0</td>\n",
       "      <td>141.0</td>\n",
       "      <td>3.0</td>\n",
       "      <td>3.0</td>\n",
       "      <td>0.0</td>\n",
       "      <td>0.0</td>\n",
       "      <td>...</td>\n",
       "      <td>238075.0</td>\n",
       "      <td>6.0</td>\n",
       "      <td>3479.0</td>\n",
       "      <td>40244.28</td>\n",
       "      <td>3856872.0</td>\n",
       "      <td>2.0</td>\n",
       "      <td>1</td>\n",
       "      <td>21.783626</td>\n",
       "      <td>False</td>\n",
       "      <td>True</td>\n",
       "    </tr>\n",
       "    <tr>\n",
       "      <th>1</th>\n",
       "      <td>1881.0</td>\n",
       "      <td>11.870778</td>\n",
       "      <td>9.0</td>\n",
       "      <td>8.0</td>\n",
       "      <td>126.0</td>\n",
       "      <td>149.0</td>\n",
       "      <td>13.0</td>\n",
       "      <td>16.0</td>\n",
       "      <td>0.0</td>\n",
       "      <td>0.0</td>\n",
       "      <td>...</td>\n",
       "      <td>75868.0</td>\n",
       "      <td>2.0</td>\n",
       "      <td>0.0</td>\n",
       "      <td>0.00</td>\n",
       "      <td>0.0</td>\n",
       "      <td>0.0</td>\n",
       "      <td>0</td>\n",
       "      <td>18.397906</td>\n",
       "      <td>False</td>\n",
       "      <td>True</td>\n",
       "    </tr>\n",
       "    <tr>\n",
       "      <th>2</th>\n",
       "      <td>2477.0</td>\n",
       "      <td>27.645714</td>\n",
       "      <td>10.0</td>\n",
       "      <td>7.0</td>\n",
       "      <td>152.0</td>\n",
       "      <td>186.0</td>\n",
       "      <td>4.0</td>\n",
       "      <td>20.0</td>\n",
       "      <td>0.0</td>\n",
       "      <td>0.0</td>\n",
       "      <td>...</td>\n",
       "      <td>0.0</td>\n",
       "      <td>0.0</td>\n",
       "      <td>0.0</td>\n",
       "      <td>0.00</td>\n",
       "      <td>0.0</td>\n",
       "      <td>0.0</td>\n",
       "      <td>0</td>\n",
       "      <td>20.274611</td>\n",
       "      <td>True</td>\n",
       "      <td>False</td>\n",
       "    </tr>\n",
       "    <tr>\n",
       "      <th>3</th>\n",
       "      <td>4087.0</td>\n",
       "      <td>16.896848</td>\n",
       "      <td>5.0</td>\n",
       "      <td>7.0</td>\n",
       "      <td>117.0</td>\n",
       "      <td>209.0</td>\n",
       "      <td>7.0</td>\n",
       "      <td>20.0</td>\n",
       "      <td>0.0</td>\n",
       "      <td>0.0</td>\n",
       "      <td>...</td>\n",
       "      <td>0.0</td>\n",
       "      <td>0.0</td>\n",
       "      <td>0.0</td>\n",
       "      <td>0.00</td>\n",
       "      <td>0.0</td>\n",
       "      <td>0.0</td>\n",
       "      <td>1</td>\n",
       "      <td>16.171233</td>\n",
       "      <td>True</td>\n",
       "      <td>False</td>\n",
       "    </tr>\n",
       "    <tr>\n",
       "      <th>4</th>\n",
       "      <td>1446.0</td>\n",
       "      <td>16.357664</td>\n",
       "      <td>0.0</td>\n",
       "      <td>8.0</td>\n",
       "      <td>165.0</td>\n",
       "      <td>158.0</td>\n",
       "      <td>4.0</td>\n",
       "      <td>16.0</td>\n",
       "      <td>0.0</td>\n",
       "      <td>0.0</td>\n",
       "      <td>...</td>\n",
       "      <td>0.0</td>\n",
       "      <td>0.0</td>\n",
       "      <td>6024.0</td>\n",
       "      <td>77040.81</td>\n",
       "      <td>7539723.0</td>\n",
       "      <td>2.0</td>\n",
       "      <td>0</td>\n",
       "      <td>26.811321</td>\n",
       "      <td>False</td>\n",
       "      <td>False</td>\n",
       "    </tr>\n",
       "  </tbody>\n",
       "</table>\n",
       "<p>5 rows × 22 columns</p>\n",
       "</div>"
      ],
      "text/plain": [
       "   Page_traffic  Unit_price  Image_Count  Bullet_Count  Title_Count  \\\n",
       "0        5835.0   22.214389          6.0           6.0         89.0   \n",
       "1        1881.0   11.870778          9.0           8.0        126.0   \n",
       "2        2477.0   27.645714         10.0           7.0        152.0   \n",
       "3        4087.0   16.896848          5.0           7.0        117.0   \n",
       "4        1446.0   16.357664          0.0           8.0        165.0   \n",
       "\n",
       "   Description_Length  num_unique_Search_Terms  Organic Search Rank  \\\n",
       "0               141.0                      3.0                  3.0   \n",
       "1               149.0                     13.0                 16.0   \n",
       "2               186.0                      4.0                 20.0   \n",
       "3               209.0                      7.0                 20.0   \n",
       "4               158.0                      4.0                 16.0   \n",
       "\n",
       "   Num_of_Promotions  Sum of Spend  ...  Online_Impressions  \\\n",
       "0                0.0           0.0  ...            238075.0   \n",
       "1                0.0           0.0  ...             75868.0   \n",
       "2                0.0           0.0  ...                 0.0   \n",
       "3                0.0           0.0  ...                 0.0   \n",
       "4                0.0           0.0  ...                 0.0   \n",
       "\n",
       "   num_unique_campaigns  Clicks_video  Cost_video  Impressions_video  \\\n",
       "0                   6.0        3479.0    40244.28          3856872.0   \n",
       "1                   2.0           0.0        0.00                0.0   \n",
       "2                   0.0           0.0        0.00                0.0   \n",
       "3                   0.0           0.0        0.00                0.0   \n",
       "4                   0.0        6024.0    77040.81          7539723.0   \n",
       "\n",
       "   num_unique_campaigns_offline  Units_sold>1000  Good_By_Bad_Rating  \\\n",
       "0                           2.0                1           21.783626   \n",
       "1                           0.0                0           18.397906   \n",
       "2                           0.0                0           20.274611   \n",
       "3                           0.0                1           16.171233   \n",
       "4                           2.0                0           26.811321   \n",
       "\n",
       "   Segment_Makeup  Segment_Skincare  \n",
       "0           False              True  \n",
       "1           False              True  \n",
       "2            True             False  \n",
       "3            True             False  \n",
       "4           False             False  \n",
       "\n",
       "[5 rows x 22 columns]"
      ]
     },
     "execution_count": 201,
     "metadata": {},
     "output_type": "execute_result"
    }
   ],
   "source": [
    "#one-hot encoding\n",
    "data = pd.get_dummies(data, columns = ['Segment'], prefix = 'Segment', drop_first = True)\n",
    "data.head()"
   ]
  },
  {
   "cell_type": "markdown",
   "id": "e463425c",
   "metadata": {},
   "source": [
    "<h2>Performing Train Test Split</h2>"
   ]
  },
  {
   "cell_type": "code",
   "execution_count": 202,
   "id": "37393d70",
   "metadata": {},
   "outputs": [],
   "source": [
    "#Separating the independent and target variables\n",
    "y = data['Units_sold>1000']\n",
    "X = data.drop(columns = ['Units_sold>1000'], axis = 1)"
   ]
  },
  {
   "cell_type": "code",
   "execution_count": 203,
   "id": "9a8de0ff",
   "metadata": {},
   "outputs": [
    {
     "data": {
      "text/plain": [
       "((19631, 21), (19631,))"
      ]
     },
     "execution_count": 203,
     "metadata": {},
     "output_type": "execute_result"
    }
   ],
   "source": [
    "#Quick look at the shape of the data\n",
    "X.shape, y.shape"
   ]
  },
  {
   "cell_type": "code",
   "execution_count": 205,
   "id": "7ab90049",
   "metadata": {},
   "outputs": [],
   "source": [
    "#import train test split\n",
    "from sklearn.model_selection import train_test_split"
   ]
  },
  {
   "cell_type": "code",
   "execution_count": 206,
   "id": "32b0adc7",
   "metadata": {},
   "outputs": [],
   "source": [
    "#split the data into train and test\n",
    "X_train, X_test, y_train, y_test = train_test_split(X, y, test_size = 0.3, random_state = 42)"
   ]
  },
  {
   "cell_type": "code",
   "execution_count": 207,
   "id": "f86a96b1",
   "metadata": {},
   "outputs": [
    {
     "data": {
      "text/plain": [
       "((13741, 21), (5890, 21), (13741,), (5890,))"
      ]
     },
     "execution_count": 207,
     "metadata": {},
     "output_type": "execute_result"
    }
   ],
   "source": [
    "#A quick look at the shape of the datasets\n",
    "X_train.shape, X_test.shape, y_train.shape, y_test.shape"
   ]
  },
  {
   "cell_type": "markdown",
   "id": "ceac7c26",
   "metadata": {},
   "source": [
    "<h2>Feature Scaling</h2>"
   ]
  },
  {
   "cell_type": "code",
   "execution_count": 210,
   "id": "4fe094a6",
   "metadata": {},
   "outputs": [],
   "source": [
    "#import standard scaler\n",
    "from sklearn.preprocessing import StandardScaler"
   ]
  },
  {
   "cell_type": "code",
   "execution_count": 211,
   "id": "b1d932e0",
   "metadata": {},
   "outputs": [],
   "source": [
    "#create an instance for StandardScaler\n",
    "scaler = StandardScaler()"
   ]
  },
  {
   "cell_type": "code",
   "execution_count": 212,
   "id": "dc13895d",
   "metadata": {},
   "outputs": [],
   "source": [
    "#let's transform the train data\n",
    "X_train_scaled = scaler.fit_transform(X_train)"
   ]
  },
  {
   "cell_type": "code",
   "execution_count": 213,
   "id": "f4f700da",
   "metadata": {},
   "outputs": [
    {
     "data": {
      "text/plain": [
       "array([[ 9.90904284e-04,  4.21592655e-01,  8.49091590e-01, ...,\n",
       "        -3.73875717e-02,  9.18120514e-01, -6.87701870e-01],\n",
       "       [ 3.12135911e-01,  9.81193880e-02,  2.35826542e-01, ...,\n",
       "        -1.02098342e+00,  9.18120514e-01, -6.87701870e-01],\n",
       "       [-3.87111076e-01,  5.35315189e-01,  4.40248225e-01, ...,\n",
       "        -5.48287256e-01,  9.18120514e-01, -6.87701870e-01],\n",
       "       ...,\n",
       "       [-3.40008100e-01,  1.63678075e-01, -1.39954692e+00, ...,\n",
       "        -2.47040728e-01,  9.18120514e-01, -6.87701870e-01],\n",
       "       [-1.19184219e+00,  4.38805436e-01,  4.40248225e-01, ...,\n",
       "        -1.48075135e+00,  9.18120514e-01, -6.87701870e-01],\n",
       "       [-1.91298211e+00,  2.89487459e+00,  6.44669908e-01, ...,\n",
       "         4.19829879e-01, -1.08918163e+00,  1.45411848e+00]])"
      ]
     },
     "execution_count": 213,
     "metadata": {},
     "output_type": "execute_result"
    }
   ],
   "source": [
    "#check X_train_scaled\n",
    "X_train_scaled"
   ]
  },
  {
   "cell_type": "code",
   "execution_count": 214,
   "id": "f6ca04e3",
   "metadata": {},
   "outputs": [
    {
     "data": {
      "text/plain": [
       "(13741, 21)"
      ]
     },
     "execution_count": 214,
     "metadata": {},
     "output_type": "execute_result"
    }
   ],
   "source": [
    "X_train_scaled.shape"
   ]
  },
  {
   "cell_type": "code",
   "execution_count": 215,
   "id": "410da923",
   "metadata": {},
   "outputs": [],
   "source": [
    "X_test_scaled = scaler.transform(X_test)"
   ]
  },
  {
   "cell_type": "code",
   "execution_count": 216,
   "id": "c43f9698",
   "metadata": {},
   "outputs": [
    {
     "data": {
      "text/plain": [
       "array([[ 0.89130348,  0.60472504,  0.44024822, ..., -1.48075135,\n",
       "        -1.08918163,  1.45411848],\n",
       "       [-0.20732366, -0.15943628, -1.39954692, ..., -1.48075135,\n",
       "         0.91812051, -0.68770187],\n",
       "       [-1.57861733,  0.45159198, -1.39954692, ...,  0.57902643,\n",
       "        -1.08918163, -0.68770187],\n",
       "       ...,\n",
       "       [-0.73341746,  0.49783078,  0.23582654, ..., -0.05769711,\n",
       "         0.91812051, -0.68770187],\n",
       "       [-0.90988776,  0.25377995,  0.64466991, ...,  1.46788558,\n",
       "         0.91812051, -0.68770187],\n",
       "       [ 3.0388011 , -0.58786969,  0.03140486, ..., -1.48075135,\n",
       "         0.91812051, -0.68770187]])"
      ]
     },
     "execution_count": 216,
     "metadata": {},
     "output_type": "execute_result"
    }
   ],
   "source": [
    "X_test_scaled"
   ]
  },
  {
   "cell_type": "markdown",
   "id": "b3051104",
   "metadata": {},
   "source": [
    "<h2>KNN Model</h2>"
   ]
  },
  {
   "cell_type": "code",
   "execution_count": 217,
   "id": "5e61c91f",
   "metadata": {},
   "outputs": [],
   "source": [
    "#import the necessary class\n",
    "from sklearn.neighbors import KNeighborsClassifier"
   ]
  },
  {
   "cell_type": "code",
   "execution_count": 218,
   "id": "9fb9a3e6",
   "metadata": {},
   "outputs": [],
   "source": [
    "#setting the value k or neighbors at 10 to choose one of the goodfit model\n",
    "knn_model = KNeighborsClassifier(10)"
   ]
  },
  {
   "cell_type": "code",
   "execution_count": 219,
   "id": "bd74cf79",
   "metadata": {
    "scrolled": true
   },
   "outputs": [
    {
     "data": {
      "text/html": [
       "<style>#sk-container-id-6 {color: black;}#sk-container-id-6 pre{padding: 0;}#sk-container-id-6 div.sk-toggleable {background-color: white;}#sk-container-id-6 label.sk-toggleable__label {cursor: pointer;display: block;width: 100%;margin-bottom: 0;padding: 0.3em;box-sizing: border-box;text-align: center;}#sk-container-id-6 label.sk-toggleable__label-arrow:before {content: \"▸\";float: left;margin-right: 0.25em;color: #696969;}#sk-container-id-6 label.sk-toggleable__label-arrow:hover:before {color: black;}#sk-container-id-6 div.sk-estimator:hover label.sk-toggleable__label-arrow:before {color: black;}#sk-container-id-6 div.sk-toggleable__content {max-height: 0;max-width: 0;overflow: hidden;text-align: left;background-color: #f0f8ff;}#sk-container-id-6 div.sk-toggleable__content pre {margin: 0.2em;color: black;border-radius: 0.25em;background-color: #f0f8ff;}#sk-container-id-6 input.sk-toggleable__control:checked~div.sk-toggleable__content {max-height: 200px;max-width: 100%;overflow: auto;}#sk-container-id-6 input.sk-toggleable__control:checked~label.sk-toggleable__label-arrow:before {content: \"▾\";}#sk-container-id-6 div.sk-estimator input.sk-toggleable__control:checked~label.sk-toggleable__label {background-color: #d4ebff;}#sk-container-id-6 div.sk-label input.sk-toggleable__control:checked~label.sk-toggleable__label {background-color: #d4ebff;}#sk-container-id-6 input.sk-hidden--visually {border: 0;clip: rect(1px 1px 1px 1px);clip: rect(1px, 1px, 1px, 1px);height: 1px;margin: -1px;overflow: hidden;padding: 0;position: absolute;width: 1px;}#sk-container-id-6 div.sk-estimator {font-family: monospace;background-color: #f0f8ff;border: 1px dotted black;border-radius: 0.25em;box-sizing: border-box;margin-bottom: 0.5em;}#sk-container-id-6 div.sk-estimator:hover {background-color: #d4ebff;}#sk-container-id-6 div.sk-parallel-item::after {content: \"\";width: 100%;border-bottom: 1px solid gray;flex-grow: 1;}#sk-container-id-6 div.sk-label:hover label.sk-toggleable__label {background-color: #d4ebff;}#sk-container-id-6 div.sk-serial::before {content: \"\";position: absolute;border-left: 1px solid gray;box-sizing: border-box;top: 0;bottom: 0;left: 50%;z-index: 0;}#sk-container-id-6 div.sk-serial {display: flex;flex-direction: column;align-items: center;background-color: white;padding-right: 0.2em;padding-left: 0.2em;position: relative;}#sk-container-id-6 div.sk-item {position: relative;z-index: 1;}#sk-container-id-6 div.sk-parallel {display: flex;align-items: stretch;justify-content: center;background-color: white;position: relative;}#sk-container-id-6 div.sk-item::before, #sk-container-id-6 div.sk-parallel-item::before {content: \"\";position: absolute;border-left: 1px solid gray;box-sizing: border-box;top: 0;bottom: 0;left: 50%;z-index: -1;}#sk-container-id-6 div.sk-parallel-item {display: flex;flex-direction: column;z-index: 1;position: relative;background-color: white;}#sk-container-id-6 div.sk-parallel-item:first-child::after {align-self: flex-end;width: 50%;}#sk-container-id-6 div.sk-parallel-item:last-child::after {align-self: flex-start;width: 50%;}#sk-container-id-6 div.sk-parallel-item:only-child::after {width: 0;}#sk-container-id-6 div.sk-dashed-wrapped {border: 1px dashed gray;margin: 0 0.4em 0.5em 0.4em;box-sizing: border-box;padding-bottom: 0.4em;background-color: white;}#sk-container-id-6 div.sk-label label {font-family: monospace;font-weight: bold;display: inline-block;line-height: 1.2em;}#sk-container-id-6 div.sk-label-container {text-align: center;}#sk-container-id-6 div.sk-container {/* jupyter's `normalize.less` sets `[hidden] { display: none; }` but bootstrap.min.css set `[hidden] { display: none !important; }` so we also need the `!important` here to be able to override the default hidden behavior on the sphinx rendered scikit-learn.org. See: https://github.com/scikit-learn/scikit-learn/issues/21755 */display: inline-block !important;position: relative;}#sk-container-id-6 div.sk-text-repr-fallback {display: none;}</style><div id=\"sk-container-id-6\" class=\"sk-top-container\"><div class=\"sk-text-repr-fallback\"><pre>KNeighborsClassifier(n_neighbors=10)</pre><b>In a Jupyter environment, please rerun this cell to show the HTML representation or trust the notebook. <br />On GitHub, the HTML representation is unable to render, please try loading this page with nbviewer.org.</b></div><div class=\"sk-container\" hidden><div class=\"sk-item\"><div class=\"sk-estimator sk-toggleable\"><input class=\"sk-toggleable__control sk-hidden--visually\" id=\"sk-estimator-id-6\" type=\"checkbox\" checked><label for=\"sk-estimator-id-6\" class=\"sk-toggleable__label sk-toggleable__label-arrow\">KNeighborsClassifier</label><div class=\"sk-toggleable__content\"><pre>KNeighborsClassifier(n_neighbors=10)</pre></div></div></div></div></div>"
      ],
      "text/plain": [
       "KNeighborsClassifier(n_neighbors=10)"
      ]
     },
     "execution_count": 219,
     "metadata": {},
     "output_type": "execute_result"
    }
   ],
   "source": [
    "#training the knn model with train data\n",
    "knn_model.fit(X_train_scaled, y_train)"
   ]
  },
  {
   "cell_type": "code",
   "execution_count": 220,
   "id": "a79fee3c",
   "metadata": {},
   "outputs": [],
   "source": [
    "#making predictions on the same training data\n",
    "y_train_pred = knn_model.predict(X_train_scaled)"
   ]
  },
  {
   "cell_type": "code",
   "execution_count": 221,
   "id": "9becada1",
   "metadata": {},
   "outputs": [],
   "source": [
    "#making predictions on the test data based on the learniing from fitting model on the train data\n",
    "y_pred = knn_model.predict(X_test_scaled)"
   ]
  },
  {
   "cell_type": "markdown",
   "id": "bad9e88d",
   "metadata": {},
   "source": [
    "# Video 1.1 - Confusion Matrix and Accuracy"
   ]
  },
  {
   "cell_type": "markdown",
   "id": "e516df72",
   "metadata": {},
   "source": [
    "<p style = 'color:green'><b>Run all the cells above before you begin</b><p>"
   ]
  },
  {
   "cell_type": "code",
   "execution_count": 222,
   "id": "08525bbb",
   "metadata": {},
   "outputs": [],
   "source": [
    "#import confusion matrix\n",
    "from sklearn.metrics import confusion_matrix"
   ]
  },
  {
   "cell_type": "code",
   "execution_count": 223,
   "id": "f750fa31",
   "metadata": {},
   "outputs": [
    {
     "name": "stdout",
     "output_type": "stream",
     "text": [
      "Confusion Matrix for Train Set:\n",
      "[[4488  952]\n",
      " [ 970 7331]]\n"
     ]
    }
   ],
   "source": [
    "# Generate the confusion matrix for train data\n",
    "train_cm = confusion_matrix(y_train, y_train_pred)\n",
    "\n",
    "print(\"Confusion Matrix for Train Set:\")\n",
    "print(train_cm)"
   ]
  },
  {
   "cell_type": "markdown",
   "id": "34830196",
   "metadata": {},
   "source": [
    "In our case, when we create the confusion matrix for train data - \n",
    "- True Negative is 4488\n",
    "- False Positive is 952\n",
    "- False Negative is 970 and \n",
    "- True Positive is 7331"
   ]
  },
  {
   "cell_type": "code",
   "execution_count": 224,
   "id": "a3f6ac20",
   "metadata": {},
   "outputs": [
    {
     "name": "stdout",
     "output_type": "stream",
     "text": [
      "Confusion Matrix for Test Set:\n",
      "[[1813  541]\n",
      " [ 487 3049]]\n"
     ]
    }
   ],
   "source": [
    "# Generate the confusion matrix for test data\n",
    "test_cm = confusion_matrix(y_test, y_pred)\n",
    "\n",
    "print(\"Confusion Matrix for Test Set:\")\n",
    "print(test_cm)\n"
   ]
  },
  {
   "cell_type": "markdown",
   "id": "01877eb6",
   "metadata": {},
   "source": [
    "And for our test case- \n",
    "- True Negative is 1813\n",
    "- False Positive is 541\n",
    "- False Negative is 487 and \n",
    "- True Positive is 3049"
   ]
  },
  {
   "cell_type": "markdown",
   "id": "966e6a8f",
   "metadata": {},
   "source": [
    "Accuracy is nothing but the number of correct predictions devided by the total number of predictions. As we discussed, the number of correct predictions are True Positive + True Negative.\n",
    "\n",
    "So, in terms of confusion matrix, accuracy is the sum of True Positive and True Negatives divided by the total number of predictions.\n",
    "\n",
    "![Image Description](Equation_Accuracy.png)"
   ]
  },
  {
   "cell_type": "code",
   "execution_count": 225,
   "id": "6c82d045",
   "metadata": {},
   "outputs": [
    {
     "data": {
      "text/plain": [
       "0.8601266283385489"
      ]
     },
     "execution_count": 225,
     "metadata": {},
     "output_type": "execute_result"
    }
   ],
   "source": [
    "accuracy_score(y_train, y_train_pred)"
   ]
  },
  {
   "cell_type": "code",
   "execution_count": 226,
   "id": "335466f0",
   "metadata": {},
   "outputs": [
    {
     "data": {
      "text/plain": [
       "0.8254668930390492"
      ]
     },
     "execution_count": 226,
     "metadata": {},
     "output_type": "execute_result"
    }
   ],
   "source": [
    "accuracy_score(y_test, y_pred)"
   ]
  },
  {
   "cell_type": "markdown",
   "id": "0b8cc0b3",
   "metadata": {},
   "source": [
    "# Video 1.2 - Precision, Recall and F1 Score"
   ]
  },
  {
   "cell_type": "markdown",
   "id": "6edf9e07",
   "metadata": {},
   "source": [
    "<p style = 'color:green'><b>Run all the cells above before you begin</b><p>"
   ]
  },
  {
   "cell_type": "markdown",
   "id": "db1a987b",
   "metadata": {},
   "source": [
    "## Precision"
   ]
  },
  {
   "cell_type": "code",
   "execution_count": 234,
   "id": "6fc1fdeb",
   "metadata": {},
   "outputs": [
    {
     "name": "stdout",
     "output_type": "stream",
     "text": [
      "0.885065797416395\n"
     ]
    }
   ],
   "source": [
    "#calculating precision on train set\n",
    "from sklearn.metrics import precision_score\n",
    "train_precision = precision_score(y_train, y_train_pred)\n",
    "print(train_precision)"
   ]
  },
  {
   "cell_type": "code",
   "execution_count": 235,
   "id": "ccd8d8a3",
   "metadata": {
    "scrolled": true
   },
   "outputs": [
    {
     "name": "stdout",
     "output_type": "stream",
     "text": [
      "0.8493036211699164\n"
     ]
    }
   ],
   "source": [
    "#calculating precision on test set\n",
    "test_precision = precision_score(y_test, y_pred)\n",
    "print(test_precision)"
   ]
  },
  {
   "cell_type": "markdown",
   "id": "0e7eb89c",
   "metadata": {},
   "source": [
    "## Recall "
   ]
  },
  {
   "cell_type": "code",
   "execution_count": 236,
   "id": "62f3c352",
   "metadata": {
    "scrolled": true
   },
   "outputs": [
    {
     "name": "stdout",
     "output_type": "stream",
     "text": [
      "0.8831466088423081\n"
     ]
    }
   ],
   "source": [
    "#calculating recall on train set\n",
    "from sklearn.metrics import recall_score\n",
    "train_recall = recall_score(y_train, y_train_pred)\n",
    "print(train_recall)"
   ]
  },
  {
   "cell_type": "code",
   "execution_count": 237,
   "id": "fd62ccaf",
   "metadata": {
    "scrolled": true
   },
   "outputs": [
    {
     "name": "stdout",
     "output_type": "stream",
     "text": [
      "0.8622737556561086\n"
     ]
    }
   ],
   "source": [
    "#calculating recall on test set\n",
    "test_recall = recall_score(y_test, y_pred)\n",
    "print(test_recall)"
   ]
  },
  {
   "cell_type": "markdown",
   "id": "cfd749d2",
   "metadata": {},
   "source": [
    "## F1 Score"
   ]
  },
  {
   "cell_type": "code",
   "execution_count": 238,
   "id": "9888035b",
   "metadata": {},
   "outputs": [
    {
     "name": "stdout",
     "output_type": "stream",
     "text": [
      "0.8841051616015435\n"
     ]
    }
   ],
   "source": [
    "#calculating f1_score on train set\n",
    "from sklearn.metrics import f1_score\n",
    "train_f1 = f1_score(y_train, y_train_pred)\n",
    "print(train_f1)"
   ]
  },
  {
   "cell_type": "code",
   "execution_count": 239,
   "id": "3dfcbf9f",
   "metadata": {
    "scrolled": true
   },
   "outputs": [
    {
     "name": "stdout",
     "output_type": "stream",
     "text": [
      "0.8557395453269716\n"
     ]
    }
   ],
   "source": [
    "#calculating precision on test set\n",
    "test_f1 = f1_score(y_test, y_pred)\n",
    "print(test_f1)"
   ]
  },
  {
   "cell_type": "code",
   "execution_count": 240,
   "id": "9e10c3b8",
   "metadata": {},
   "outputs": [
    {
     "name": "stdout",
     "output_type": "stream",
     "text": [
      "              precision    recall  f1-score   support\n",
      "\n",
      "           0       0.82      0.82      0.82      5440\n",
      "           1       0.89      0.88      0.88      8301\n",
      "\n",
      "    accuracy                           0.86     13741\n",
      "   macro avg       0.85      0.85      0.85     13741\n",
      "weighted avg       0.86      0.86      0.86     13741\n",
      "\n"
     ]
    }
   ],
   "source": [
    "#create classification for train set\n",
    "from sklearn.metrics import classification_report\n",
    "train_classification_report = classification_report(y_train, y_train_pred)\n",
    "print(train_classification_report)"
   ]
  },
  {
   "cell_type": "code",
   "execution_count": 241,
   "id": "0a6f4e4d",
   "metadata": {},
   "outputs": [
    {
     "name": "stdout",
     "output_type": "stream",
     "text": [
      "              precision    recall  f1-score   support\n",
      "\n",
      "           0       0.79      0.77      0.78      2354\n",
      "           1       0.85      0.86      0.86      3536\n",
      "\n",
      "    accuracy                           0.83      5890\n",
      "   macro avg       0.82      0.82      0.82      5890\n",
      "weighted avg       0.82      0.83      0.83      5890\n",
      "\n"
     ]
    }
   ],
   "source": [
    "#create classification for test set\n",
    "from sklearn.metrics import classification_report\n",
    "test_classification_report = classification_report(y_test, y_pred)\n",
    "print(test_classification_report)"
   ]
  },
  {
   "cell_type": "markdown",
   "id": "b0817e8a",
   "metadata": {},
   "source": [
    "Again as a reminder, when we were individually finding the values of precison, recall and f1 score, it showed us the results for class \"1\". This is by convention. In the classification report we get these metrics for both the classes.\n",
    "\n",
    "As for the Macro Avg, it is the average precision, recall, and F1 score between classes. \n",
    "\n",
    "Similarly, the Weighted Avg is the precision, recall, and F1 score of the two classes, where weight is given by the supprt."
   ]
  },
  {
   "cell_type": "code",
   "execution_count": 243,
   "id": "dad58439",
   "metadata": {},
   "outputs": [
    {
     "data": {
      "text/plain": [
       "array([0.9, 0.9, 0. , ..., 0.7, 0.2, 1. ])"
      ]
     },
     "execution_count": 243,
     "metadata": {},
     "output_type": "execute_result"
    }
   ],
   "source": [
    "knn_model.predict_proba(X_test_scaled)[:, 1]"
   ]
  },
  {
   "cell_type": "markdown",
   "id": "3154bc59",
   "metadata": {},
   "source": [
    "This function gives us the probabilities of each sample belonging to class 1. Let sunderstand how probabability predictions are calculated for KNN. If you remember in knn if 9 neighbors for a sample belong to class 1 and one neighbor belongs to class 0, the new datapoint will belong to class 1. The probability of this can be calculated as 9/10. If a sample has a probability of > 0.5, it can be said to belongs to class 1, otherwise it belongs to class 0."
   ]
  },
  {
   "cell_type": "markdown",
   "id": "60726979",
   "metadata": {},
   "source": [
    "One practical reason is that it is right in the middle. Another reason is if we change the threshold, we will have to choose different values of threshold and then comparing models across these thresholds will become a cumbersome exercise. "
   ]
  },
  {
   "cell_type": "markdown",
   "id": "66cb2b94",
   "metadata": {},
   "source": [
    "# Video 1.3 - AUC-ROC"
   ]
  },
  {
   "cell_type": "markdown",
   "id": "c0ebebf2",
   "metadata": {},
   "source": [
    "<p style = 'color:green'><b>Run all the cells above before you begin</b><p>"
   ]
  },
  {
   "cell_type": "code",
   "execution_count": null,
   "id": "a192ebfc",
   "metadata": {},
   "outputs": [],
   "source": [
    "#calculating AUC-ROC on train set\n",
    "from sklearn.metrics import roc_curve, auc"
   ]
  },
  {
   "cell_type": "code",
   "execution_count": 248,
   "id": "4c459379",
   "metadata": {},
   "outputs": [
    {
     "name": "stdout",
     "output_type": "stream",
     "text": [
      "0.8931472423947685\n"
     ]
    }
   ],
   "source": [
    "#calculating AUC-ROC on test set\n",
    "test_fpr, test_tpr, test_thresholds = roc_curve(y_test, knn_model.predict_proba(X_test_scaled)[:, 1])\n",
    "test_roc_auc = auc(test_fpr, test_tpr)\n",
    "print(test_roc_auc)"
   ]
  },
  {
   "cell_type": "code",
   "execution_count": 249,
   "id": "d7f915b3",
   "metadata": {},
   "outputs": [
    {
     "data": {
      "image/png": "[encoded data removed]",
      "text/plain": [
       "<Figure size 640x480 with 1 Axes>"
      ]
     },
     "metadata": {},
     "output_type": "display_data"
    }
   ],
   "source": [
    "#visualizing AUC-ROC on test set\n",
    "plt.figure()\n",
    "plt.plot(test_fpr, test_tpr, color='darkorange', lw=2, label='ROC curve (area = %0.2f)' % test_roc_auc)\n",
    "plt.plot([0, 1], [0, 1], color='navy', lw=2, linestyle='--')\n",
    "plt.xlim([0.0, 1.0])\n",
    "plt.ylim([0.0, 1.05])\n",
    "plt.xlabel('False Positive Rate')\n",
    "plt.ylabel('True Positive Rate')\n",
    "plt.title('Receiver Operating Characteristic')\n",
    "plt.legend(loc=\"lower right\")\n",
    "plt.show()"
   ]
  },
  {
   "cell_type": "code",
   "execution_count": 254,
   "id": "5d3c77a0",
   "metadata": {},
   "outputs": [
    {
     "data": {
      "text/html": [
       "<style>#sk-container-id-9 {color: black;}#sk-container-id-9 pre{padding: 0;}#sk-container-id-9 div.sk-toggleable {background-color: white;}#sk-container-id-9 label.sk-toggleable__label {cursor: pointer;display: block;width: 100%;margin-bottom: 0;padding: 0.3em;box-sizing: border-box;text-align: center;}#sk-container-id-9 label.sk-toggleable__label-arrow:before {content: \"▸\";float: left;margin-right: 0.25em;color: #696969;}#sk-container-id-9 label.sk-toggleable__label-arrow:hover:before {color: black;}#sk-container-id-9 div.sk-estimator:hover label.sk-toggleable__label-arrow:before {color: black;}#sk-container-id-9 div.sk-toggleable__content {max-height: 0;max-width: 0;overflow: hidden;text-align: left;background-color: #f0f8ff;}#sk-container-id-9 div.sk-toggleable__content pre {margin: 0.2em;color: black;border-radius: 0.25em;background-color: #f0f8ff;}#sk-container-id-9 input.sk-toggleable__control:checked~div.sk-toggleable__content {max-height: 200px;max-width: 100%;overflow: auto;}#sk-container-id-9 input.sk-toggleable__control:checked~label.sk-toggleable__label-arrow:before {content: \"▾\";}#sk-container-id-9 div.sk-estimator input.sk-toggleable__control:checked~label.sk-toggleable__label {background-color: #d4ebff;}#sk-container-id-9 div.sk-label input.sk-toggleable__control:checked~label.sk-toggleable__label {background-color: #d4ebff;}#sk-container-id-9 input.sk-hidden--visually {border: 0;clip: rect(1px 1px 1px 1px);clip: rect(1px, 1px, 1px, 1px);height: 1px;margin: -1px;overflow: hidden;padding: 0;position: absolute;width: 1px;}#sk-container-id-9 div.sk-estimator {font-family: monospace;background-color: #f0f8ff;border: 1px dotted black;border-radius: 0.25em;box-sizing: border-box;margin-bottom: 0.5em;}#sk-container-id-9 div.sk-estimator:hover {background-color: #d4ebff;}#sk-container-id-9 div.sk-parallel-item::after {content: \"\";width: 100%;border-bottom: 1px solid gray;flex-grow: 1;}#sk-container-id-9 div.sk-label:hover label.sk-toggleable__label {background-color: #d4ebff;}#sk-container-id-9 div.sk-serial::before {content: \"\";position: absolute;border-left: 1px solid gray;box-sizing: border-box;top: 0;bottom: 0;left: 50%;z-index: 0;}#sk-container-id-9 div.sk-serial {display: flex;flex-direction: column;align-items: center;background-color: white;padding-right: 0.2em;padding-left: 0.2em;position: relative;}#sk-container-id-9 div.sk-item {position: relative;z-index: 1;}#sk-container-id-9 div.sk-parallel {display: flex;align-items: stretch;justify-content: center;background-color: white;position: relative;}#sk-container-id-9 div.sk-item::before, #sk-container-id-9 div.sk-parallel-item::before {content: \"\";position: absolute;border-left: 1px solid gray;box-sizing: border-box;top: 0;bottom: 0;left: 50%;z-index: -1;}#sk-container-id-9 div.sk-parallel-item {display: flex;flex-direction: column;z-index: 1;position: relative;background-color: white;}#sk-container-id-9 div.sk-parallel-item:first-child::after {align-self: flex-end;width: 50%;}#sk-container-id-9 div.sk-parallel-item:last-child::after {align-self: flex-start;width: 50%;}#sk-container-id-9 div.sk-parallel-item:only-child::after {width: 0;}#sk-container-id-9 div.sk-dashed-wrapped {border: 1px dashed gray;margin: 0 0.4em 0.5em 0.4em;box-sizing: border-box;padding-bottom: 0.4em;background-color: white;}#sk-container-id-9 div.sk-label label {font-family: monospace;font-weight: bold;display: inline-block;line-height: 1.2em;}#sk-container-id-9 div.sk-label-container {text-align: center;}#sk-container-id-9 div.sk-container {/* jupyter's `normalize.less` sets `[hidden] { display: none; }` but bootstrap.min.css set `[hidden] { display: none !important; }` so we also need the `!important` here to be able to override the default hidden behavior on the sphinx rendered scikit-learn.org. See: https://github.com/scikit-learn/scikit-learn/issues/21755 */display: inline-block !important;position: relative;}#sk-container-id-9 div.sk-text-repr-fallback {display: none;}</style><div id=\"sk-container-id-9\" class=\"sk-top-container\"><div class=\"sk-text-repr-fallback\"><pre>KNeighborsClassifier(n_neighbors=50)</pre><b>In a Jupyter environment, please rerun this cell to show the HTML representation or trust the notebook. <br />On GitHub, the HTML representation is unable to render, please try loading this page with nbviewer.org.</b></div><div class=\"sk-container\" hidden><div class=\"sk-item\"><div class=\"sk-estimator sk-toggleable\"><input class=\"sk-toggleable__control sk-hidden--visually\" id=\"sk-estimator-id-9\" type=\"checkbox\" checked><label for=\"sk-estimator-id-9\" class=\"sk-toggleable__label sk-toggleable__label-arrow\">KNeighborsClassifier</label><div class=\"sk-toggleable__content\"><pre>KNeighborsClassifier(n_neighbors=50)</pre></div></div></div></div></div>"
      ],
      "text/plain": [
       "KNeighborsClassifier(n_neighbors=50)"
      ]
     },
     "execution_count": 254,
     "metadata": {},
     "output_type": "execute_result"
    }
   ],
   "source": [
    "#setting the value k or neighbors at 10 to choose one of the goodfit model\n",
    "knn_model_50 = KNeighborsClassifier(50)\n",
    "#training the knn model with train data\n",
    "knn_model_50.fit(X_train_scaled, y_train)"
   ]
  },
  {
   "cell_type": "code",
   "execution_count": 257,
   "id": "e2b28be1",
   "metadata": {},
   "outputs": [],
   "source": [
    "test_fpr_50, test_tpr_50, test_thresholds_50 = roc_curve(y_test, knn_model_50.predict_proba(X_test_scaled)[:, 1])\n",
    "test_roc_auc_50 = auc(test_fpr_50, test_tpr_50)"
   ]
  },
  {
   "cell_type": "code",
   "execution_count": 259,
   "id": "02178999",
   "metadata": {},
   "outputs": [
    {
     "data": {
      "image/png": "[encoded data removed]",
      "text/plain": [
       "<Figure size 640x480 with 1 Axes>"
      ]
     },
     "metadata": {},
     "output_type": "display_data"
    }
   ],
   "source": [
    "#visualizing AUC-ROC on test set\n",
    "plt.figure()\n",
    "plt.plot(test_fpr, test_tpr, color='darkorange', lw=2, label='10N ROC curve (area = %0.2f)' % test_roc_auc)\n",
    "plt.plot(test_fpr_50, test_tpr_50, color='blue', lw=2, label='50N ROC curve (area = %0.2f)' % test_roc_auc_50)\n",
    "plt.plot([0, 1], [0, 1], color='navy', lw=2, linestyle='--')\n",
    "plt.xlim([0.0, 1.0])\n",
    "plt.ylim([0.0, 1.05])\n",
    "plt.xlabel('False Positive Rate')\n",
    "plt.ylabel('True Positive Rate')\n",
    "plt.title('Receiver Operating Characteristic')\n",
    "plt.legend(loc=\"lower right\")\n",
    "plt.show()"
   ]
  },
  {
   "cell_type": "markdown",
   "id": "2d8170c4",
   "metadata": {},
   "source": [
    "As we can see the area under the curve of 10 neighbors model is slightly bigger than the are of model with 50 neighbors. This is also evident in the scores. So we can conclude that the 10 neighbor model is beter than the 50 neighbor model across various thresholds."
   ]
  },
  {
   "cell_type": "markdown",
   "id": "947074d4",
   "metadata": {},
   "source": [
    "You may be wondering why we have not chosen AUC as the final metric. One drawback of this metric is that it is not suitable to comapre all ML models as only a few of them give out continuos probability scores. We will be trying various ML models throughout this course. This metric will not be suitable to compare those models."
   ]
  }
 ],
 "metadata": {
  "kernelspec": {
   "display_name": "Python 3 (ipykernel)",
   "language": "python",
   "name": "python3"
  },
  "language_info": {
   "codemirror_mode": {
    "name": "ipython",
    "version": 3
   },
   "file_extension": ".py",
   "mimetype": "text/x-python",
   "name": "python",
   "nbconvert_exporter": "python",
   "pygments_lexer": "ipython3",
   "version": "3.8.18"
  }
 },
 "nbformat": 4,
 "nbformat_minor": 5
}
