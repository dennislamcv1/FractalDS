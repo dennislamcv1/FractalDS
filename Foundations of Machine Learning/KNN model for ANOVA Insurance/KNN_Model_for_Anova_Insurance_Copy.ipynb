{
 "cells": [
  {
   "cell_type": "markdown",
   "id": "b41dfb35",
   "metadata": {
    "deletable": false,
    "editable": false,
    "nbgrader": {
     "cell_type": "markdown",
     "checksum": "2c2b2f898dfb60b580c63eb34425b87e",
     "grade": false,
     "grade_id": "cell-f4bf079074d95966",
     "locked": true,
     "schema_version": 3,
     "solution": false,
     "task": false
    }
   },
   "source": [
    "# Problem Statement\n",
    "Anova Insurance, a global health insurance company, seeks to optimize its insurance policy premium pricing based on the health status of applicants. Understanding an applicant's health condition is crucial for two key decisions:\n",
    "- Determining eligibility for health insurance coverage.\n",
    "- Deciding on premium rates, particularly if the applicant's health indicates higher risks.\n",
    "\n",
    "Your objective is to Develop a predictive model that utilizes health data to classify individuals as 'healthy' or 'unhealthy'. This classification will assist in making informed decisions about insurance policy premium pricing."
   ]
  },
  {
   "cell_type": "markdown",
   "id": "95b63793",
   "metadata": {
    "deletable": false,
    "editable": false,
    "nbgrader": {
     "cell_type": "markdown",
     "checksum": "da7c02428d051a700280ac10d8d73b04",
     "grade": false,
     "grade_id": "cell-8b936e1abd3d7719",
     "locked": true,
     "schema_version": 3,
     "solution": false,
     "task": false
    }
   },
   "source": [
    "# Dataset Overview\n",
    "The dataset contains 10,000 rows and 20 columns, including both numerical and categorical variables. Some columns have missing values, especially for older individuals, reflecting the scenario where certain health records may not be up-to-date. Here is the data dictionary.\n",
    "\n",
    "- Age: Represents the age of the individual. Negative values seem to be present, which might indicate data entry errors or a specific encoding used for certain age groups.\n",
    "\n",
    "- BMI (Body Mass Index): A measure of body fat based on height and weight. Typically, a BMI between 18.5 and 24.9 is considered normal.\n",
    "\n",
    "- Blood_Pressure: Represents systolic blood pressure. Normal blood pressure is usually around 120/80 mmHg.\n",
    "\n",
    "- Cholesterol: This is the cholesterol level in mg/dL. Desirable levels are usually below 200 mg/dL.\n",
    "\n",
    "- Glucose_Level: Indicates blood glucose levels. It might be fasting glucose levels, with normal levels usually ranging from 70 to 99 mg/dL.\n",
    "\n",
    "- Heart_Rate: The number of heartbeats per minute. Normal resting heart rate for adults ranges from 60 to 100 beats per minute.\n",
    "\n",
    "- Sleep_Hours: The average number of hours the individual sleeps per day.\n",
    "\n",
    "- Exercise_Hours: The average number of hours the individual exercises per day. \n",
    "\n",
    "- Water_Intake: The average daily water intake in liters.\n",
    "\n",
    "- Stress_Level: A numerical representation of stress level.\n",
    "\n",
    "- Target: This is a binary outcome variable, with '1' indicating 'Unhealthy' and '0' indicating 'Healthy'.\n",
    "\n",
    "- Smoking: A categorical variable indicating smoking status. Contains values - (0,1,2) which specify the regularity of smoking with 0 being no smoking and 2 being regular smmoking.\n",
    "\n",
    "- Alcohol: A categorical variable indicating alcohol consumption status. Contains values - (0,1,2) which specify the regularity of alcohol consumption with 0 being no consumption quality and 2 being regular consumption.\n",
    "\n",
    "- Diet: A categorical variable indcating the quality of dietary habits. Contains values - (0,1,2) which specify the quality of the habit with 0 being poor diet quality and 2 being good quality.\n",
    "\n",
    "- MentalHealth: Possibly a measure of mental health status. Contains values - (0,1,2) which specify the severity of the mental health with 0 being fine and 2 being highly severe\n",
    "\n",
    "- PhysicalActivity: A categorical variable indicating levels of physical activity. Contains values - (0,1,2) which specify the instensity of the medical history with 0 being no Physical Activity and 2 being regularly active.\n",
    "\n",
    "- MedicalHistory: Indicates the presence of medical conditions or history. Contains values - (0,1,2) which specify the severity of the medical history with 0 being nothing and 2 being highly severe.\n",
    "\n",
    "- Allergies: A categorical variable indicating allergy status. Contains values - (0,1,2) which specify the severity of the allergies with 0 being nothing and 2 being highly severe.\n",
    "\n",
    "- Diet_Type: Categorical variable indicating the type of diet an individual follows. Contains values(Vegetarian, Non-Vegetarian, Vegan).\n",
    "\n",
    "- Blood_Group: Indicates the blood group of the individual Contains values (A, B, AB, O)."
   ]
  },
  {
   "cell_type": "markdown",
   "id": "71da3579",
   "metadata": {
    "deletable": false,
    "editable": false,
    "nbgrader": {
     "cell_type": "markdown",
     "checksum": "d622a860225d5c43d60bde6289611afa",
     "grade": false,
     "grade_id": "cell-1d65c9dc283467eb",
     "locked": true,
     "schema_version": 3,
     "solution": false,
     "task": false
    }
   },
   "source": [
    "It is clear from the above description that the predictor variable is the 'Target' column."
   ]
  },
  {
   "cell_type": "markdown",
   "id": "8247ba92",
   "metadata": {
    "deletable": false,
    "editable": false,
    "nbgrader": {
     "cell_type": "markdown",
     "checksum": "e7114e095785c1d80412779aeb78f016",
     "grade": false,
     "grade_id": "cell-7759de4f9e22fa4b",
     "locked": true,
     "schema_version": 3,
     "solution": false,
     "task": false
    }
   },
   "source": [
    "Let us begin with importing the necessary libraries. And reading the preprocessed data."
   ]
  },
  {
   "cell_type": "code",
   "execution_count": null,
   "id": "8e74814e",
   "metadata": {
    "deletable": false,
    "editable": false,
    "nbgrader": {
     "cell_type": "code",
     "checksum": "9a7758cdf26e1d83b1b0f6db38b7a502",
     "grade": false,
     "grade_id": "cell-6ebcaa6b4331f64a",
     "locked": true,
     "schema_version": 3,
     "solution": false,
     "task": false
    }
   },
   "outputs": [],
   "source": [
    "# Necessary library imports for data processing and KNN\n",
    "import pandas as pd\n",
    "import numpy as np\n",
    "import matplotlib.pyplot as plt\n",
    "from sklearn.model_selection import train_test_split\n",
    "from sklearn.preprocessing import StandardScaler\n",
    "from sklearn.impute import SimpleImputer\n",
    "from sklearn.neighbors import KNeighborsClassifier\n",
    "from sklearn.metrics import classification_report, f1_score"
   ]
  },
  {
   "cell_type": "code",
   "execution_count": null,
   "id": "20985cd2",
   "metadata": {
    "deletable": false,
    "editable": false,
    "nbgrader": {
     "cell_type": "code",
     "checksum": "d66ff2d084b7985f07aa68d65d9557b8",
     "grade": false,
     "grade_id": "cell-8b99c02faff07e09",
     "locked": true,
     "schema_version": 3,
     "solution": false,
     "task": false
    }
   },
   "outputs": [],
   "source": [
    "# Load the dataset\n",
    "df = pd.read_csv('Healthcare_Data_Preprocessed.csv')\n",
    "df.head()"
   ]
  },
  {
   "cell_type": "markdown",
   "id": "e463425c",
   "metadata": {
    "deletable": false,
    "editable": false,
    "nbgrader": {
     "cell_type": "markdown",
     "checksum": "5424e2515130b62ffa9c81d4a82ff832",
     "grade": false,
     "grade_id": "cell-2c65063a4b4177aa",
     "locked": true,
     "schema_version": 3,
     "solution": false,
     "task": false
    }
   },
   "source": [
    "<h2>Performing Train Test Split</h2>"
   ]
  },
  {
   "cell_type": "code",
   "execution_count": null,
   "id": "37393d70",
   "metadata": {
    "deletable": false,
    "editable": false,
    "nbgrader": {
     "cell_type": "code",
     "checksum": "62ee01d9d5a1db36a2a067ede60e64d6",
     "grade": false,
     "grade_id": "cell-30b49e58cd4a17da",
     "locked": true,
     "schema_version": 3,
     "solution": false,
     "task": false
    }
   },
   "outputs": [],
   "source": [
    "# Separating the independent and target variables\n",
    "y = df['Target']\n",
    "X = df.drop(columns = ['Target'], axis = 1)"
   ]
  },
  {
   "cell_type": "code",
   "execution_count": null,
   "id": "9a8de0ff",
   "metadata": {
    "deletable": false,
    "editable": false,
    "nbgrader": {
     "cell_type": "code",
     "checksum": "77a1b0d163e50b052ada908deabdf3ee",
     "grade": false,
     "grade_id": "cell-dc99b1789eed258a",
     "locked": true,
     "schema_version": 3,
     "solution": false,
     "task": false
    }
   },
   "outputs": [],
   "source": [
    "# Quick look at the shape of the data\n",
    "X.shape, y.shape"
   ]
  },
  {
   "cell_type": "markdown",
   "id": "cd34f092",
   "metadata": {
    "deletable": false,
    "editable": false,
    "nbgrader": {
     "cell_type": "markdown",
     "checksum": "a80070cd035d30e3877b2cf23db9d599",
     "grade": false,
     "grade_id": "cell-557222ae8aa6aa5a",
     "locked": true,
     "schema_version": 3,
     "solution": false,
     "task": false
    }
   },
   "source": [
    "Now, let's split the data in a 70:30 ratio. Use the random state = 42 and use the variable names- X_train, X_test, y_train, y_test"
   ]
  },
  {
   "cell_type": "code",
   "execution_count": null,
   "id": "32b0adc7",
   "metadata": {
    "deletable": false,
    "nbgrader": {
     "cell_type": "code",
     "checksum": "38a22fd769ca0323d0becb5f73661b84",
     "grade": false,
     "grade_id": "cell-9518c1ef1da173fa",
     "locked": false,
     "schema_version": 3,
     "solution": true,
     "task": false
    }
   },
   "outputs": [],
   "source": [
    "# Split the data into train and test\n",
    "# your code here\n",
    "raise NotImplementedError"
   ]
  },
  {
   "cell_type": "code",
   "execution_count": null,
   "id": "da621dd8",
   "metadata": {
    "deletable": false,
    "editable": false,
    "nbgrader": {
     "cell_type": "code",
     "checksum": "bf4191f5e74d533163728b97f598cf22",
     "grade": true,
     "grade_id": "cell-ca87d1f098a4878c",
     "locked": true,
     "points": 5,
     "schema_version": 3,
     "solution": false,
     "task": false
    }
   },
   "outputs": [],
   "source": [
    "assert X_train.shape == (7000, 22), 'Make sure to use the test size as 0.3, random_state = 42, and split the data correctly'\n",
    "assert X_test.shape == (3000, 22), 'Make sure to use the test size as 0.3, random_state = 42, and split the data correctly'\n",
    "assert y_train.shape == (7000, ), 'Make sure to use the test size as 0.3, random_state = 42, and split the data correctly'\n",
    "assert y_test.shape == (3000, ), 'Make sure to use the test size as 0.3, random_state = 42, and split the data correctly'"
   ]
  },
  {
   "cell_type": "markdown",
   "id": "ba6521b9",
   "metadata": {
    "deletable": false,
    "editable": false,
    "nbgrader": {
     "cell_type": "markdown",
     "checksum": "74b1b3514be2d1c37ebd06e4153d9ccb",
     "grade": false,
     "grade_id": "cell-a058efc947893e57",
     "locked": true,
     "schema_version": 3,
     "solution": false,
     "task": false
    }
   },
   "source": [
    "With that we are done with the train-test split. Let us have a quick look at the shape of the data."
   ]
  },
  {
   "cell_type": "code",
   "execution_count": null,
   "id": "f86a96b1",
   "metadata": {
    "deletable": false,
    "editable": false,
    "nbgrader": {
     "cell_type": "code",
     "checksum": "a9b866a244abc9fe9dc84fe8a00a7570",
     "grade": false,
     "grade_id": "cell-393cfc77b98c674f",
     "locked": true,
     "schema_version": 3,
     "solution": false,
     "task": false
    }
   },
   "outputs": [],
   "source": [
    "# A quick look at the shape of the datasets\n",
    "X_train.shape, X_test.shape, y_train.shape, y_test.shape"
   ]
  },
  {
   "cell_type": "markdown",
   "id": "82ba3fbc",
   "metadata": {
    "deletable": false,
    "editable": false,
    "nbgrader": {
     "cell_type": "markdown",
     "checksum": "ccdeb22e546d4f5f62b0a1cc07d360d8",
     "grade": false,
     "grade_id": "cell-9d66d28848b9d208",
     "locked": true,
     "schema_version": 3,
     "solution": false,
     "task": false
    }
   },
   "source": [
    "Now, we will scale the data. Scaling will bring all the variables to the same scale and ensure certain variables do not influence the learning process."
   ]
  },
  {
   "cell_type": "markdown",
   "id": "91a67bbd",
   "metadata": {
    "deletable": false,
    "editable": false,
    "nbgrader": {
     "cell_type": "markdown",
     "checksum": "4080f460f97b946aa48bb96b0a3def98",
     "grade": false,
     "grade_id": "cell-f2ab692a7d1a26aa",
     "locked": true,
     "schema_version": 3,
     "solution": false,
     "task": false
    }
   },
   "source": [
    "# Scaling the Data"
   ]
  },
  {
   "cell_type": "code",
   "execution_count": null,
   "id": "4fe094a6",
   "metadata": {
    "deletable": false,
    "editable": false,
    "nbgrader": {
     "cell_type": "code",
     "checksum": "d294ada34428d5cffdd66ccd6de1d6db",
     "grade": false,
     "grade_id": "cell-4dddc2efea4a0e31",
     "locked": true,
     "schema_version": 3,
     "solution": false,
     "task": false
    }
   },
   "outputs": [],
   "source": [
    "#import standard scaler\n",
    "from sklearn.preprocessing import StandardScaler"
   ]
  },
  {
   "cell_type": "code",
   "execution_count": null,
   "id": "b1d932e0",
   "metadata": {
    "deletable": false,
    "editable": false,
    "nbgrader": {
     "cell_type": "code",
     "checksum": "c9b0314df5326cfc7efc3fb0d68669d6",
     "grade": false,
     "grade_id": "cell-bd8f0627ef1b52af",
     "locked": true,
     "schema_version": 3,
     "solution": false,
     "task": false
    }
   },
   "outputs": [],
   "source": [
    "#create an instance for StandardScaler\n",
    "scaler = StandardScaler()"
   ]
  },
  {
   "cell_type": "code",
   "execution_count": null,
   "id": "dc13895d",
   "metadata": {
    "deletable": false,
    "editable": false,
    "nbgrader": {
     "cell_type": "code",
     "checksum": "6786d537cdc044cb1a2c133b69257aea",
     "grade": false,
     "grade_id": "cell-454da8fa4a4191bb",
     "locked": true,
     "schema_version": 3,
     "solution": false,
     "task": false
    }
   },
   "outputs": [],
   "source": [
    "#let's transform the train data\n",
    "X_train_scaled = scaler.fit_transform(X_train)"
   ]
  },
  {
   "cell_type": "code",
   "execution_count": null,
   "id": "f4f700da",
   "metadata": {
    "deletable": false,
    "editable": false,
    "nbgrader": {
     "cell_type": "code",
     "checksum": "5b1854c7df713aa64b7f9bf197515777",
     "grade": false,
     "grade_id": "cell-80fb665aa053a897",
     "locked": true,
     "schema_version": 3,
     "solution": false,
     "task": false
    }
   },
   "outputs": [],
   "source": [
    "#check X_train_scaled\n",
    "X_train_scaled"
   ]
  },
  {
   "cell_type": "code",
   "execution_count": null,
   "id": "f6ca04e3",
   "metadata": {
    "deletable": false,
    "editable": false,
    "nbgrader": {
     "cell_type": "code",
     "checksum": "ef9621297ac74666b39e767ccf9c6446",
     "grade": false,
     "grade_id": "cell-5536426050615cbb",
     "locked": true,
     "schema_version": 3,
     "solution": false,
     "task": false
    }
   },
   "outputs": [],
   "source": [
    "X_train_scaled.shape"
   ]
  },
  {
   "cell_type": "code",
   "execution_count": null,
   "id": "410da923",
   "metadata": {
    "deletable": false,
    "editable": false,
    "nbgrader": {
     "cell_type": "code",
     "checksum": "8ded2712576a3ead1c19966268a109e5",
     "grade": false,
     "grade_id": "cell-49181e58c96d6956",
     "locked": true,
     "schema_version": 3,
     "solution": false,
     "task": false
    }
   },
   "outputs": [],
   "source": [
    "X_test_scaled = scaler.transform(X_test)"
   ]
  },
  {
   "cell_type": "code",
   "execution_count": null,
   "id": "c43f9698",
   "metadata": {
    "deletable": false,
    "editable": false,
    "nbgrader": {
     "cell_type": "code",
     "checksum": "b9a923880eab6dd0b44d7c0f022fcd66",
     "grade": false,
     "grade_id": "cell-d51d0af0a1fefa14",
     "locked": true,
     "schema_version": 3,
     "solution": false,
     "task": false
    }
   },
   "outputs": [],
   "source": [
    "X_test_scaled"
   ]
  },
  {
   "cell_type": "markdown",
   "id": "7ff91398",
   "metadata": {
    "deletable": false,
    "editable": false,
    "nbgrader": {
     "cell_type": "markdown",
     "checksum": "bbeb5141f6ac4c64439b441c0af39c9d",
     "grade": false,
     "grade_id": "cell-b89a9c75e5634e95",
     "locked": true,
     "schema_version": 3,
     "solution": false,
     "task": false
    }
   },
   "source": [
    "# KNN Model"
   ]
  },
  {
   "cell_type": "markdown",
   "id": "e6e0aaf1",
   "metadata": {
    "deletable": false,
    "editable": false,
    "nbgrader": {
     "cell_type": "markdown",
     "checksum": "79149991dccee6439dda1ee779d9a573",
     "grade": false,
     "grade_id": "cell-c9d09973f1df985e",
     "locked": true,
     "schema_version": 3,
     "solution": false,
     "task": false
    }
   },
   "source": [
    "Now let us build the knn model. We have to build a model with 5 neighbors."
   ]
  },
  {
   "cell_type": "code",
   "execution_count": null,
   "id": "5e61c91f",
   "metadata": {
    "deletable": false,
    "editable": false,
    "nbgrader": {
     "cell_type": "code",
     "checksum": "a0883cfa9647291deefda32dccbc5b1a",
     "grade": false,
     "grade_id": "cell-08c91e8e9034d061",
     "locked": true,
     "schema_version": 3,
     "solution": false,
     "task": false
    }
   },
   "outputs": [],
   "source": [
    "#import the necessary class\n",
    "from sklearn.neighbors import KNeighborsClassifier"
   ]
  },
  {
   "cell_type": "markdown",
   "id": "ab6c909c",
   "metadata": {
    "deletable": false,
    "editable": false,
    "nbgrader": {
     "cell_type": "markdown",
     "checksum": "1e74fd10774ab3c3e7c5d75b02c11f0d",
     "grade": false,
     "grade_id": "cell-1ccd495fa3c77a40",
     "locked": true,
     "schema_version": 3,
     "solution": false,
     "task": false
    }
   },
   "source": [
    "Now build a knn classification model with k = 5."
   ]
  },
  {
   "cell_type": "code",
   "execution_count": null,
   "id": "9fb9a3e6",
   "metadata": {
    "deletable": false,
    "editable": false,
    "nbgrader": {
     "cell_type": "code",
     "checksum": "eed691e96922742fd89bd2c895e14899",
     "grade": false,
     "grade_id": "cell-8c8df136a7d940ec",
     "locked": true,
     "schema_version": 3,
     "solution": false,
     "task": false
    }
   },
   "outputs": [],
   "source": [
    "# setting the value k or neighbors at 5\n",
    "knn_model = KNeighborsClassifier(5)"
   ]
  },
  {
   "cell_type": "markdown",
   "id": "b061e671",
   "metadata": {
    "deletable": false,
    "editable": false,
    "nbgrader": {
     "cell_type": "markdown",
     "checksum": "908fbc607f67c0b0bf04416683031dd3",
     "grade": false,
     "grade_id": "cell-169fd7cfa4c56cad",
     "locked": true,
     "schema_version": 3,
     "solution": false,
     "task": false
    }
   },
   "source": [
    "Now train the knn model using the scaled train data"
   ]
  },
  {
   "cell_type": "code",
   "execution_count": null,
   "id": "bd74cf79",
   "metadata": {
    "deletable": false,
    "nbgrader": {
     "cell_type": "code",
     "checksum": "8b9f666b7af64dee104b0dc8c9985401",
     "grade": false,
     "grade_id": "cell-9243cd5b74229301",
     "locked": false,
     "schema_version": 3,
     "solution": true,
     "task": false
    }
   },
   "outputs": [],
   "source": [
    "# training the knn model with train data\n",
    "# Write your code below\n",
    "# your code here\n",
    "raise NotImplementedError"
   ]
  },
  {
   "cell_type": "markdown",
   "id": "64408238",
   "metadata": {
    "deletable": false,
    "editable": false,
    "nbgrader": {
     "cell_type": "markdown",
     "checksum": "a4fd2f33b8ad10538364879d95ab289f",
     "grade": false,
     "grade_id": "cell-0ffd055b0c619d89",
     "locked": true,
     "schema_version": 3,
     "solution": false,
     "task": false
    }
   },
   "source": [
    "Now, let us make the predictions on the same train data. Store it in an instance named <b>y_train_pred</b>"
   ]
  },
  {
   "cell_type": "code",
   "execution_count": null,
   "id": "a79fee3c",
   "metadata": {
    "deletable": false,
    "nbgrader": {
     "cell_type": "code",
     "checksum": "78851d961c644f8f96804edb8a48aedd",
     "grade": false,
     "grade_id": "cell-2641a0d0df3253de",
     "locked": false,
     "schema_version": 3,
     "solution": true,
     "task": false
    }
   },
   "outputs": [],
   "source": [
    "# making predictions on the same training data\n",
    "# Write your code below\n",
    "# your code here\n",
    "raise NotImplementedError"
   ]
  },
  {
   "cell_type": "markdown",
   "id": "6294a86d",
   "metadata": {
    "deletable": false,
    "editable": false,
    "nbgrader": {
     "cell_type": "markdown",
     "checksum": "5eba5c90db2a29e0e3d5ef789177c807",
     "grade": false,
     "grade_id": "cell-7de6dc486b9eee14",
     "locked": true,
     "schema_version": 3,
     "solution": false,
     "task": false
    }
   },
   "source": [
    "Then make the predictions on the test data and save it in an instance named <b> y_pred </b>"
   ]
  },
  {
   "cell_type": "code",
   "execution_count": null,
   "id": "9becada1",
   "metadata": {
    "deletable": false,
    "nbgrader": {
     "cell_type": "code",
     "checksum": "0ed1f2d4bc10e1779e74387894ebc755",
     "grade": false,
     "grade_id": "cell-9ba90a51b90da463",
     "locked": false,
     "schema_version": 3,
     "solution": true,
     "task": false
    }
   },
   "outputs": [],
   "source": [
    "# making predictions on the test data based on the learniing from fitting model on the train data\n",
    "# Write your code below\n",
    "# your code here\n",
    "raise NotImplementedError"
   ]
  },
  {
   "cell_type": "markdown",
   "id": "e6b3e67b",
   "metadata": {
    "deletable": false,
    "editable": false,
    "nbgrader": {
     "cell_type": "markdown",
     "checksum": "73184eec4914307f3f3bca1b900465b7",
     "grade": false,
     "grade_id": "cell-0c405008f548db3c",
     "locked": true,
     "schema_version": 3,
     "solution": false,
     "task": false
    }
   },
   "source": [
    "<h2>Evaluating the Model</h2>"
   ]
  },
  {
   "cell_type": "markdown",
   "id": "60757f49",
   "metadata": {
    "deletable": false,
    "editable": false,
    "nbgrader": {
     "cell_type": "markdown",
     "checksum": "110b9f67699829ea94bbdb918dc304a1",
     "grade": false,
     "grade_id": "cell-c5381b40b258983a",
     "locked": true,
     "schema_version": 3,
     "solution": false,
     "task": false
    }
   },
   "source": [
    "With that our model is prepared. Let us now get the f1-score for both train and test data. Save the scores in <b>train_f1_score</b> and <b>test_f1_score</b>"
   ]
  },
  {
   "cell_type": "code",
   "execution_count": null,
   "id": "f3f10de9",
   "metadata": {
    "deletable": false,
    "nbgrader": {
     "cell_type": "code",
     "checksum": "5c057b4e5c4b0ad8fa4bce2928c7585a",
     "grade": false,
     "grade_id": "cell-3543c4a6e8130722",
     "locked": false,
     "schema_version": 3,
     "solution": true,
     "task": false
    }
   },
   "outputs": [],
   "source": [
    "# getting f1_score for train and test data\n",
    "# your code here\n",
    "raise NotImplementedError\n",
    "print('Train F1 Score: ', train_f1_score)\n",
    "print('Test F1 Score: ', test_f1_score)"
   ]
  },
  {
   "cell_type": "code",
   "execution_count": null,
   "id": "0ad66b4c",
   "metadata": {
    "deletable": false,
    "editable": false,
    "nbgrader": {
     "cell_type": "code",
     "checksum": "feb67addb70790643d8ea73c020fc1f5",
     "grade": true,
     "grade_id": "cell-1585c5b516e70c97",
     "locked": true,
     "points": 5,
     "schema_version": 3,
     "solution": false,
     "task": false
    }
   },
   "outputs": [],
   "source": [
    "assert train_f1_score > 0.85, 'Make sure you have followed the conditions stated to train the model and predict the output'\n",
    "assert test_f1_score > 0.77, 'Make sure you have followed the conditions stated to train the model and predict the output'"
   ]
  },
  {
   "cell_type": "markdown",
   "id": "ae9bedb0",
   "metadata": {
    "deletable": false,
    "editable": false,
    "nbgrader": {
     "cell_type": "markdown",
     "checksum": "41aebe25b8f0c6d1aaa95806659465d9",
     "grade": false,
     "grade_id": "cell-e01d3d9ccb89b5c9",
     "locked": true,
     "schema_version": 3,
     "solution": false,
     "task": false
    }
   },
   "source": [
    "We are getting a decent model using KNN"
   ]
  }
 ],
 "metadata": {
  "kernelspec": {
   "display_name": "Python 3 (ipykernel)",
   "language": "python",
   "name": "python3"
  },
  "language_info": {
   "codemirror_mode": {
    "name": "ipython",
    "version": 3
   },
   "file_extension": ".py",
   "mimetype": "text/x-python",
   "name": "python",
   "nbconvert_exporter": "python",
   "pygments_lexer": "ipython3",
   "version": "3.8.18"
  }
 },
 "nbformat": 4,
 "nbformat_minor": 5
}
