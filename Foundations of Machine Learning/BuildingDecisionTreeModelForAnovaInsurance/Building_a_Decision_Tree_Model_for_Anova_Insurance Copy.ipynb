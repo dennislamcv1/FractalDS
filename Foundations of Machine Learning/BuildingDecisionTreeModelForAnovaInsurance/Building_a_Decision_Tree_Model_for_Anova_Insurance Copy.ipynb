{
 "cells": [
  {
   "cell_type": "markdown",
   "id": "b41dfb35",
   "metadata": {
    "deletable": false,
    "editable": false,
    "nbgrader": {
     "cell_type": "markdown",
     "checksum": "f552fbbca5383310abe6e11a24b91fbf",
     "grade": false,
     "grade_id": "cell-0a1bb10fe2f8c2f7",
     "locked": true,
     "schema_version": 3,
     "solution": false,
     "task": false
    }
   },
   "source": [
    "# Problem Statement\n",
    "Anova Insurance, a global health insurance company, seeks to optimize its insurance policy premium pricing based on the health status of applicants. Understanding an applicant's health condition is crucial for two key decisions:\n",
    "- Determining eligibility for health insurance coverage.\n",
    "- Deciding on premium rates, particularly if the applicant's health indicates higher risks.\n",
    "\n",
    "Your objective is to Develop a predictive model that utilizes health data to classify individuals as 'healthy' or 'unhealthy'. This classification will assist in making informed decisions about insurance policy premium pricing."
   ]
  },
  {
   "cell_type": "markdown",
   "id": "95b63793",
   "metadata": {
    "deletable": false,
    "editable": false,
    "nbgrader": {
     "cell_type": "markdown",
     "checksum": "c75395d79b855e824e4cdff937a780f9",
     "grade": false,
     "grade_id": "cell-388ce39fcf0e9c7a",
     "locked": true,
     "schema_version": 3,
     "solution": false,
     "task": false
    }
   },
   "source": [
    "# Dataset Overview\n",
    "The dataset contains 10,000 rows and 20 columns, including both numerical and categorical variables. Some columns have missing values, especially for older individuals, reflecting the scenario where certain health records may not be up-to-date. Here is the data dictionary.\n",
    "\n",
    "- Age: Represents the age of the individual. Negative values seem to be present, which might indicate data entry errors or a specific encoding used for certain age groups.\n",
    "\n",
    "- BMI (Body Mass Index): A measure of body fat based on height and weight. Typically, a BMI between 18.5 and 24.9 is considered normal.\n",
    "\n",
    "- Blood_Pressure: Represents systolic blood pressure. Normal blood pressure is usually around 120/80 mmHg.\n",
    "\n",
    "- Cholesterol: This is the cholesterol level in mg/dL. Desirable levels are usually below 200 mg/dL.\n",
    "\n",
    "- Glucose_Level: Indicates blood glucose levels. It might be fasting glucose levels, with normal levels usually ranging from 70 to 99 mg/dL.\n",
    "\n",
    "- Heart_Rate: The number of heartbeats per minute. Normal resting heart rate for adults ranges from 60 to 100 beats per minute.\n",
    "\n",
    "- Sleep_Hours: The average number of hours the individual sleeps per day.\n",
    "\n",
    "- Exercise_Hours: The average number of hours the individual exercises per day. \n",
    "\n",
    "- Water_Intake: The average daily water intake in liters.\n",
    "\n",
    "- Stress_Level: A numerical representation of stress level.\n",
    "\n",
    "- Target: This is a binary outcome variable, with '1' indicating 'Unhealthy' and '0' indicating 'Healthy'.\n",
    "\n",
    "- Smoking: A categorical variable indicating smoking status. Contains values - (0,1,2) which specify the regularity of smoking with 0 being no smoking and 2 being regular smmoking.\n",
    "\n",
    "- Alcohol: A categorical variable indicating alcohol consumption status. Contains values - (0,1,2) which specify the regularity of alcohol consumption with 0 being no consumption quality and 2 being regular consumption.\n",
    "\n",
    "- Diet: A categorical variable indcating the quality of dietary habits. Contains values - (0,1,2) which specify the quality of the habit with 0 being poor diet quality and 2 being good quality.\n",
    "\n",
    "- MentalHealth: Possibly a measure of mental health status. Contains values - (0,1,2) which specify the severity of the mental health with 0 being fine and 2 being highly severe\n",
    "\n",
    "- PhysicalActivity: A categorical variable indicating levels of physical activity. Contains values - (0,1,2) which specify the instensity of the medical history with 0 being no Physical Activity and 2 being regularly active.\n",
    "\n",
    "- MedicalHistory: Indicates the presence of medical conditions or history. Contains values - (0,1,2) which specify the severity of the medical history with 0 being nothing and 2 being highly severe.\n",
    "\n",
    "- Allergies: A categorical variable indicating allergy status. Contains values - (0,1,2) which specify the severity of the allergies with 0 being nothing and 2 being highly severe.\n",
    "\n",
    "- Diet_Type: Categorical variable indicating the type of diet an individual follows. Contains values(Vegetarian, Non-Vegetarian, Vegan).\n",
    "\n",
    "- Blood_Group: Indicates the blood group of the individual Contains values (A, B, AB, O)."
   ]
  },
  {
   "cell_type": "markdown",
   "id": "71da3579",
   "metadata": {
    "deletable": false,
    "editable": false,
    "nbgrader": {
     "cell_type": "markdown",
     "checksum": "aa287515cfa6e2bf62ab65aefe50d5ce",
     "grade": false,
     "grade_id": "cell-4c1dd114f1b6c998",
     "locked": true,
     "schema_version": 3,
     "solution": false,
     "task": false
    }
   },
   "source": [
    "It is clear from the above description that the predictor variable is the 'Target' column. This time we will be creating a decision tree model."
   ]
  },
  {
   "cell_type": "markdown",
   "id": "8247ba92",
   "metadata": {
    "deletable": false,
    "editable": false,
    "nbgrader": {
     "cell_type": "markdown",
     "checksum": "37f408b8d120db57e6e11d2864961b64",
     "grade": false,
     "grade_id": "cell-5dcff8779778448d",
     "locked": true,
     "schema_version": 3,
     "solution": false,
     "task": false
    }
   },
   "source": [
    "Let us begin with importing the necessary libraries. And reading the preprocessed data."
   ]
  },
  {
   "cell_type": "code",
   "execution_count": null,
   "id": "8e74814e",
   "metadata": {
    "deletable": false,
    "editable": false,
    "nbgrader": {
     "cell_type": "code",
     "checksum": "40c9a26c200e45b9191390c2c46c9aea",
     "grade": false,
     "grade_id": "cell-d2c0d30c4f441053",
     "locked": true,
     "schema_version": 3,
     "solution": false,
     "task": false
    }
   },
   "outputs": [],
   "source": [
    "# Necessary library imports\n",
    "import pandas as pd\n",
    "import numpy as np\n",
    "import matplotlib.pyplot as plt\n",
    "from sklearn.model_selection import train_test_split\n",
    "from sklearn.preprocessing import StandardScaler\n",
    "from sklearn.tree import DecisionTreeClassifier\n",
    "from sklearn.metrics import f1_score"
   ]
  },
  {
   "cell_type": "code",
   "execution_count": null,
   "id": "20985cd2",
   "metadata": {
    "deletable": false,
    "editable": false,
    "nbgrader": {
     "cell_type": "code",
     "checksum": "f81112780183b182808a1c124d49500a",
     "grade": false,
     "grade_id": "cell-20b61a403a12a4d9",
     "locked": true,
     "schema_version": 3,
     "solution": false,
     "task": false
    }
   },
   "outputs": [],
   "source": [
    "# Load the dataset\n",
    "df = pd.read_csv('Healthcare_Dataset_Preprocessed.csv')\n",
    "df.head()"
   ]
  },
  {
   "cell_type": "markdown",
   "id": "c965a91c",
   "metadata": {
    "deletable": false,
    "editable": false,
    "nbgrader": {
     "cell_type": "markdown",
     "checksum": "4356e85be4d2160c61288ba34f6f2afd",
     "grade": false,
     "grade_id": "cell-d1448515fa19f76d",
     "locked": true,
     "schema_version": 3,
     "solution": false,
     "task": false
    }
   },
   "source": [
    "Now that we have a fairly processed dataset, let's separate the feature variable and the target variable. Let the target variable be 'y' and independent variables be 'X'."
   ]
  },
  {
   "cell_type": "code",
   "execution_count": null,
   "id": "37393d70",
   "metadata": {
    "deletable": false,
    "nbgrader": {
     "cell_type": "code",
     "checksum": "4b1e9b93126935e3c5ccee37ca5a2f37",
     "grade": false,
     "grade_id": "cell-01f6852d92d132ed",
     "locked": false,
     "schema_version": 3,
     "solution": true,
     "task": false
    }
   },
   "outputs": [],
   "source": [
    "# Separating the independent and target variables\n",
    "# your code here\n",
    "raise NotImplementedError"
   ]
  },
  {
   "cell_type": "code",
   "execution_count": null,
   "id": "40c12e28",
   "metadata": {
    "deletable": false,
    "editable": false,
    "nbgrader": {
     "cell_type": "code",
     "checksum": "6ea4f934a942e38460db8ca5a97e9614",
     "grade": true,
     "grade_id": "cell-7ee923dab2344a92",
     "locked": true,
     "points": 2,
     "schema_version": 3,
     "solution": false,
     "task": false
    }
   },
   "outputs": [],
   "source": [
    "# Ignore this cell\n",
    "assert X.shape == (9549, 22), 'Make sure you set the _Target_ variable in a separate variable named y and independent variables be X.'"
   ]
  },
  {
   "cell_type": "markdown",
   "id": "348294c9",
   "metadata": {
    "deletable": false,
    "editable": false,
    "nbgrader": {
     "cell_type": "markdown",
     "checksum": "770b1e83a5491dee2e5812c97b1b10f3",
     "grade": false,
     "grade_id": "cell-6faedcaf12fcbf41",
     "locked": true,
     "schema_version": 3,
     "solution": false,
     "task": false
    }
   },
   "source": [
    "<h3>Performing train-test split</h3>"
   ]
  },
  {
   "cell_type": "markdown",
   "id": "cd34f092",
   "metadata": {
    "deletable": false,
    "editable": false,
    "nbgrader": {
     "cell_type": "markdown",
     "checksum": "bc7eb9c63fcb74d3fb8b4d4676794ff5",
     "grade": false,
     "grade_id": "cell-268d1fa2a8763af1",
     "locked": true,
     "schema_version": 3,
     "solution": false,
     "task": false
    }
   },
   "source": [
    "Now, let's split the data in a 70:30 ratio. Use the random state = 42 and use the variable names- X_train, X_test, y_train, y_test"
   ]
  },
  {
   "cell_type": "code",
   "execution_count": null,
   "id": "32b0adc7",
   "metadata": {
    "deletable": false,
    "nbgrader": {
     "cell_type": "code",
     "checksum": "4d977215a7ff21db9b0725dda267eaf0",
     "grade": false,
     "grade_id": "cell-17f1ea18258eba3e",
     "locked": false,
     "schema_version": 3,
     "solution": true,
     "task": false
    }
   },
   "outputs": [],
   "source": [
    "# Split the data into train and test\n",
    "# Write your code below\n",
    "# your code here\n",
    "raise NotImplementedError"
   ]
  },
  {
   "cell_type": "code",
   "execution_count": null,
   "id": "da621dd8",
   "metadata": {
    "deletable": false,
    "editable": false,
    "nbgrader": {
     "cell_type": "code",
     "checksum": "e9d90115c87921a54e7984254453ab5f",
     "grade": true,
     "grade_id": "cell-2e00ecf881929dcd",
     "locked": true,
     "points": 2,
     "schema_version": 3,
     "solution": false,
     "task": false
    }
   },
   "outputs": [],
   "source": [
    "# Ignore this cell\n",
    "assert X_train.shape == (6684, 22), 'Make sure to use the test size as 0.3, random_state = 42, and split the data correctly'"
   ]
  },
  {
   "cell_type": "markdown",
   "id": "ba6521b9",
   "metadata": {
    "deletable": false,
    "editable": false,
    "nbgrader": {
     "cell_type": "markdown",
     "checksum": "5fa4466658c4fa6c6fbcd8b21cdf71ec",
     "grade": false,
     "grade_id": "cell-f441b7edd2ff7834",
     "locked": true,
     "schema_version": 3,
     "solution": false,
     "task": false
    }
   },
   "source": [
    "With that we are done with the train-test split. Let us have a quick look at the shape of the data."
   ]
  },
  {
   "cell_type": "code",
   "execution_count": null,
   "id": "f86a96b1",
   "metadata": {
    "deletable": false,
    "editable": false,
    "nbgrader": {
     "cell_type": "code",
     "checksum": "91386b9918ceec1af182bc0e9c479c1b",
     "grade": false,
     "grade_id": "cell-faaff45522dbc80b",
     "locked": true,
     "schema_version": 3,
     "solution": false,
     "task": false
    }
   },
   "outputs": [],
   "source": [
    "# A quick look at the shape of the datasets\n",
    "X_train.shape, X_test.shape, y_train.shape, y_test.shape"
   ]
  },
  {
   "cell_type": "markdown",
   "id": "c8acfdb9",
   "metadata": {
    "deletable": false,
    "editable": false,
    "nbgrader": {
     "cell_type": "markdown",
     "checksum": "163f7e6580fb41f48dc93d236508ae14",
     "grade": false,
     "grade_id": "cell-b10955044fee3827",
     "locked": true,
     "schema_version": 3,
     "solution": false,
     "task": false
    }
   },
   "source": [
    "<h3>Building the model</h3>"
   ]
  },
  {
   "cell_type": "markdown",
   "id": "5a90c382",
   "metadata": {
    "deletable": false,
    "editable": false,
    "nbgrader": {
     "cell_type": "markdown",
     "checksum": "9053db54ec1603b5d1044315e19ba31c",
     "grade": false,
     "grade_id": "cell-b67e32b9e082f20a",
     "locked": true,
     "schema_version": 3,
     "solution": false,
     "task": false
    }
   },
   "source": [
    "Now, let us create a decision tree classifier instance. We will set the random state to be 42 and save the instance in a variable named \"DT_model\"."
   ]
  },
  {
   "cell_type": "code",
   "execution_count": null,
   "id": "e8ecb08e",
   "metadata": {
    "deletable": false,
    "editable": false,
    "nbgrader": {
     "cell_type": "code",
     "checksum": "fc36cef8134043849e5658d16ce80775",
     "grade": false,
     "grade_id": "cell-b929fe0ab4f7e834",
     "locked": true,
     "schema_version": 3,
     "solution": false,
     "task": false
    }
   },
   "outputs": [],
   "source": [
    "# Creating a decision tree classifier object called DT_model\n",
    "DT_model = DecisionTreeClassifier(random_state = 42)"
   ]
  },
  {
   "cell_type": "markdown",
   "id": "21fdfb07",
   "metadata": {
    "deletable": false,
    "editable": false,
    "nbgrader": {
     "cell_type": "markdown",
     "checksum": "83ffaae21b49a9dc9c1147c945cf77fd",
     "grade": false,
     "grade_id": "cell-e5718ae5d27ddf1c",
     "locked": true,
     "schema_version": 3,
     "solution": false,
     "task": false
    }
   },
   "source": [
    "Now fit the model - DT_model with X_train and y_train."
   ]
  },
  {
   "cell_type": "code",
   "execution_count": null,
   "id": "8bd8db15",
   "metadata": {
    "deletable": false,
    "nbgrader": {
     "cell_type": "code",
     "checksum": "1a8b44093080e3923c00d0bf93f346fb",
     "grade": false,
     "grade_id": "cell-2a8dc57fa8d6b4f1",
     "locked": false,
     "schema_version": 3,
     "solution": true,
     "task": false
    }
   },
   "outputs": [],
   "source": [
    "# Building the model using the training data\n",
    "# your code here\n",
    "raise NotImplementedError"
   ]
  },
  {
   "cell_type": "markdown",
   "id": "f4fe725c",
   "metadata": {
    "deletable": false,
    "editable": false,
    "nbgrader": {
     "cell_type": "markdown",
     "checksum": "ed6d76be0beb22452c892cd3ec8f6dc9",
     "grade": false,
     "grade_id": "cell-08bbced06f18c105",
     "locked": true,
     "schema_version": 3,
     "solution": false,
     "task": false
    }
   },
   "source": [
    "Now that our model is built, let's perfom prediction on both the train and test data.\n",
    "This would help us to compare our model performance on train and test data."
   ]
  },
  {
   "cell_type": "code",
   "execution_count": null,
   "id": "a1a5e7d0",
   "metadata": {
    "deletable": false,
    "editable": false,
    "nbgrader": {
     "cell_type": "code",
     "checksum": "69634bf672cc5d1c5c8e0a793cee3fc8",
     "grade": false,
     "grade_id": "cell-e22e303adf170f30",
     "locked": true,
     "schema_version": 3,
     "solution": false,
     "task": false
    }
   },
   "outputs": [],
   "source": [
    "# Perfoming prediction on both the train and test data\n",
    "y_pred_train = DT_model.predict(X_train)\n",
    "y_pred_test = DT_model.predict(X_test)"
   ]
  },
  {
   "cell_type": "markdown",
   "id": "a84d2029",
   "metadata": {
    "deletable": false,
    "editable": false,
    "nbgrader": {
     "cell_type": "markdown",
     "checksum": "bde044cf4d214bd1a055bb85c7564614",
     "grade": false,
     "grade_id": "cell-2f5ffdb09e069243",
     "locked": true,
     "schema_version": 3,
     "solution": false,
     "task": false
    }
   },
   "source": [
    "Now let is find the f1-score for both train and test data. Store them in a variable named f1_train and f1_test."
   ]
  },
  {
   "cell_type": "markdown",
   "id": "6e41f791",
   "metadata": {
    "deletable": false,
    "editable": false,
    "nbgrader": {
     "cell_type": "markdown",
     "checksum": "096e983872670d0d6f3861a149f54b54",
     "grade": false,
     "grade_id": "cell-df9a5d93e92a5020",
     "locked": true,
     "schema_version": 3,
     "solution": false,
     "task": false
    }
   },
   "source": [
    "<h3>Evaluating the model</h3>"
   ]
  },
  {
   "cell_type": "markdown",
   "id": "3cf64f1e",
   "metadata": {
    "deletable": false,
    "editable": false,
    "nbgrader": {
     "cell_type": "markdown",
     "checksum": "13c05592919bb1be65a84ff838ed7da0",
     "grade": false,
     "grade_id": "cell-2e86ce8e1e309ee9",
     "locked": true,
     "schema_version": 3,
     "solution": false,
     "task": false
    }
   },
   "source": [
    "Now let us get the f1 scores for both train and test data. Store the f1_scores for train data in 'f1_train' and 'f1_test' variables respectively."
   ]
  },
  {
   "cell_type": "code",
   "execution_count": null,
   "id": "9af4b344",
   "metadata": {
    "deletable": false,
    "nbgrader": {
     "cell_type": "code",
     "checksum": "cdc26cd0e621e58912ccc6dc5b225755",
     "grade": false,
     "grade_id": "cell-9b0dab3998231a4d",
     "locked": false,
     "schema_version": 3,
     "solution": true,
     "task": false
    }
   },
   "outputs": [],
   "source": [
    "# Get the train and test score \n",
    "# your code here\n",
    "raise NotImplementedError"
   ]
  },
  {
   "cell_type": "code",
   "execution_count": null,
   "id": "fcaa6ca9",
   "metadata": {
    "deletable": false,
    "editable": false,
    "nbgrader": {
     "cell_type": "code",
     "checksum": "aac4423a4bfcca1431de325025411892",
     "grade": true,
     "grade_id": "cell-f13e87ba4e8fcf55",
     "locked": true,
     "points": 4,
     "schema_version": 3,
     "solution": false,
     "task": false
    }
   },
   "outputs": [],
   "source": [
    "assert f1_train == 1.0, 'Make sure you have followed the conditions stated to train the model and predict the output'"
   ]
  },
  {
   "cell_type": "markdown",
   "id": "b7767177",
   "metadata": {
    "deletable": false,
    "editable": false,
    "nbgrader": {
     "cell_type": "markdown",
     "checksum": "44af33008ecaad171bcd52cfe3d3d658",
     "grade": false,
     "grade_id": "cell-0d1eedbf5747a5b8",
     "locked": true,
     "schema_version": 3,
     "solution": false,
     "task": false
    }
   },
   "source": [
    "As you can see, the model performance on the train data is exceptional. We have got a 100% performance for F1 score on train data. But the score seems low on test data hence leading to an overfitting model."
   ]
  },
  {
   "cell_type": "markdown",
   "id": "6a9f5e18",
   "metadata": {
    "deletable": false,
    "editable": false,
    "nbgrader": {
     "cell_type": "markdown",
     "checksum": "2b39a36240ed2f6d476399d3f3780d19",
     "grade": false,
     "grade_id": "cell-778eff2503fd410e",
     "locked": true,
     "schema_version": 3,
     "solution": false,
     "task": false
    }
   },
   "source": [
    "<h3>Calculating feature importance</h3>"
   ]
  },
  {
   "cell_type": "markdown",
   "id": "91ac7470",
   "metadata": {
    "deletable": false,
    "editable": false,
    "nbgrader": {
     "cell_type": "markdown",
     "checksum": "d15bba8a247723de220cfe2c7524b2b2",
     "grade": false,
     "grade_id": "cell-cc4974f9ceaa9d9c",
     "locked": true,
     "schema_version": 3,
     "solution": false,
     "task": false
    }
   },
   "source": [
    "To possibly counter this issue, Anova Insurance wants to find to find the important features and get rid of the irrelevant ones. You must store the value of importance in a dataframe named 'imp'."
   ]
  },
  {
   "cell_type": "code",
   "execution_count": null,
   "id": "044463b0",
   "metadata": {
    "deletable": false,
    "nbgrader": {
     "cell_type": "code",
     "checksum": "4080b0a4f79bbe4bb125e8927502ad6e",
     "grade": false,
     "grade_id": "cell-b18ee19cd508ecf0",
     "locked": false,
     "schema_version": 3,
     "solution": true,
     "task": false
    }
   },
   "outputs": [],
   "source": [
    "#Retreiving the score of each feature\n",
    "feature_imp = DT_model.feature_importances_\n",
    "\n",
    "#  Sort the features by importance in descending order in a dataframe.\n",
    "\n",
    "# your code here\n",
    "raise NotImplementedError\n",
    "\n",
    "# Calculate the cumulative sum of the 'Importance' column and store it in a new column called 'cum_imp'\n",
    "imp['cum_imp'] = imp.Importance.cumsum()\n",
    "imp"
   ]
  },
  {
   "cell_type": "code",
   "execution_count": null,
   "id": "c8307842",
   "metadata": {
    "deletable": false,
    "editable": false,
    "nbgrader": {
     "cell_type": "code",
     "checksum": "5bf57e1ade6e4097e2d8effa7d2dcd91",
     "grade": true,
     "grade_id": "cell-73283a0df7f81739",
     "locked": true,
     "points": 4,
     "schema_version": 3,
     "solution": false,
     "task": false
    }
   },
   "outputs": [],
   "source": [
    "assert imp.shape == (22,3), 'Make sure you the feature importance is saved in a variable named imp and sorted in ascending order of importance'"
   ]
  },
  {
   "cell_type": "markdown",
   "id": "7d5378e8",
   "metadata": {
    "deletable": false,
    "editable": false,
    "nbgrader": {
     "cell_type": "markdown",
     "checksum": "7a2d007a8a3f1393c2f16482fb372984",
     "grade": false,
     "grade_id": "cell-62ef5fbb6abee561",
     "locked": true,
     "schema_version": 3,
     "solution": false,
     "task": false
    }
   },
   "source": [
    "Now let us drop the columns where the cummulative importance is greater than 0.95. Save these column names in a variable named drop_col."
   ]
  },
  {
   "cell_type": "code",
   "execution_count": null,
   "id": "b03a629b",
   "metadata": {
    "deletable": false,
    "nbgrader": {
     "cell_type": "code",
     "checksum": "da08e75bd50b03fc6008007f8cb34b18",
     "grade": false,
     "grade_id": "cell-3cefe433443638bf",
     "locked": false,
     "schema_version": 3,
     "solution": true,
     "task": false
    }
   },
   "outputs": [],
   "source": [
    "#identifying the variables with low importance\n",
    "# your code here\n",
    "raise NotImplementedError"
   ]
  },
  {
   "cell_type": "code",
   "execution_count": null,
   "id": "eba0e0be",
   "metadata": {
    "deletable": false,
    "nbgrader": {
     "cell_type": "code",
     "checksum": "30caa88a5c4038294124c6213ebf7d56",
     "grade": false,
     "grade_id": "cell-d2c5c973698bfcc6",
     "locked": false,
     "schema_version": 3,
     "solution": true,
     "task": false
    }
   },
   "outputs": [],
   "source": [
    "# Dropping the low important columns from X_train and X_test\n",
    "# your code here\n",
    "raise NotImplementedError"
   ]
  },
  {
   "cell_type": "code",
   "execution_count": null,
   "id": "05905b9b",
   "metadata": {
    "deletable": false,
    "editable": false,
    "nbgrader": {
     "cell_type": "code",
     "checksum": "b5e1bad757d83741fbd207e5e1a85cb4",
     "grade": true,
     "grade_id": "cell-2bbde36f4253259c",
     "locked": true,
     "points": 4,
     "schema_version": 3,
     "solution": false,
     "task": false
    }
   },
   "outputs": [],
   "source": [
    "# ignore this cell\n",
    "assert X_train.shape == (6684, 11), 'Make sure you have dropped the unimportant variables in train data'\n",
    "assert X_test.shape == (2865, 11), 'Make sure you have dropped the unimportant variables in test data'"
   ]
  },
  {
   "cell_type": "markdown",
   "id": "f4af97bd",
   "metadata": {
    "deletable": false,
    "editable": false,
    "nbgrader": {
     "cell_type": "markdown",
     "checksum": "085265b697190e6358e1a6b3a6105142",
     "grade": false,
     "grade_id": "cell-cc38979fc8aabdd4",
     "locked": true,
     "schema_version": 3,
     "solution": false,
     "task": false
    }
   },
   "source": [
    "<h3>Making predictions using the model</h3>"
   ]
  },
  {
   "cell_type": "markdown",
   "id": "887879f0",
   "metadata": {
    "deletable": false,
    "editable": false,
    "nbgrader": {
     "cell_type": "markdown",
     "checksum": "d42bc09181c4c7dcf1c1fdd00d832ac4",
     "grade": false,
     "grade_id": "cell-59e8cd23c4452638",
     "locked": true,
     "schema_version": 3,
     "solution": false,
     "task": false
    }
   },
   "source": [
    "Based on the irrelevant columns we removed, let us create a new decision tree model to see check whether there is an improvement in the performance."
   ]
  },
  {
   "cell_type": "code",
   "execution_count": null,
   "id": "4845ba05",
   "metadata": {
    "deletable": false,
    "editable": false,
    "nbgrader": {
     "cell_type": "code",
     "checksum": "0c0fdc5cfc6ebe8eb1ac0d1ea6dfcdbe",
     "grade": false,
     "grade_id": "cell-1bd3537bc144acef",
     "locked": true,
     "schema_version": 3,
     "solution": false,
     "task": false
    }
   },
   "outputs": [],
   "source": [
    "# Building the decision tree classifier object\n",
    "DT_new_model = DecisionTreeClassifier(random_state = 42)"
   ]
  },
  {
   "cell_type": "markdown",
   "id": "f876eb43",
   "metadata": {
    "deletable": false,
    "editable": false,
    "nbgrader": {
     "cell_type": "markdown",
     "checksum": "52621396a47aaa0b3c2a0a4003f76215",
     "grade": false,
     "grade_id": "cell-a24375e28f06019f",
     "locked": true,
     "schema_version": 3,
     "solution": false,
     "task": false
    }
   },
   "source": [
    "Now fit the model - DT_new_model with X_train and y_train."
   ]
  },
  {
   "cell_type": "code",
   "execution_count": null,
   "id": "325a7420",
   "metadata": {
    "deletable": false,
    "nbgrader": {
     "cell_type": "code",
     "checksum": "0a5ebdf2d8ed2f490d870fa01cee3381",
     "grade": false,
     "grade_id": "cell-2548421db2248389",
     "locked": false,
     "schema_version": 3,
     "solution": true,
     "task": false
    }
   },
   "outputs": [],
   "source": [
    "# Building the decision tree classifier object\n",
    "# your code here\n",
    "raise NotImplementedError"
   ]
  },
  {
   "cell_type": "markdown",
   "id": "12aa4f66",
   "metadata": {
    "deletable": false,
    "editable": false,
    "nbgrader": {
     "cell_type": "markdown",
     "checksum": "3398c42c93bd51d82ab40c26b4d06a9c",
     "grade": false,
     "grade_id": "cell-0d167b825cad2912",
     "locked": true,
     "schema_version": 3,
     "solution": false,
     "task": false
    }
   },
   "source": [
    "Now that our model is built, let's perfom prediction on both the train and test data."
   ]
  },
  {
   "cell_type": "code",
   "execution_count": null,
   "id": "8d0dae4a",
   "metadata": {
    "deletable": false,
    "nbgrader": {
     "cell_type": "code",
     "checksum": "9e9d28924db950dd50b97646d88d6bed",
     "grade": false,
     "grade_id": "cell-fe5f06cec9e039ec",
     "locked": false,
     "schema_version": 3,
     "solution": true,
     "task": false
    }
   },
   "outputs": [],
   "source": [
    "# Building the model using the training data\n",
    "# your code here\n",
    "raise NotImplementedError"
   ]
  },
  {
   "cell_type": "markdown",
   "id": "e1ea5c60",
   "metadata": {
    "deletable": false,
    "editable": false,
    "nbgrader": {
     "cell_type": "markdown",
     "checksum": "56e11525210423fb35cb2a0d23f37a95",
     "grade": false,
     "grade_id": "cell-4ba591cc4fff2c60",
     "locked": true,
     "schema_version": 3,
     "solution": false,
     "task": false
    }
   },
   "source": [
    "<h3>Evaluating the model</h3>"
   ]
  },
  {
   "cell_type": "markdown",
   "id": "43dd6d9b",
   "metadata": {
    "deletable": false,
    "editable": false,
    "nbgrader": {
     "cell_type": "markdown",
     "checksum": "268158a334bc9d2ea1cba63056ecd3ab",
     "grade": false,
     "grade_id": "cell-79a14c81bc2533ba",
     "locked": true,
     "schema_version": 3,
     "solution": false,
     "task": false
    }
   },
   "source": [
    "As the next step, print the f1-scores for both train and test data. Save the f1 score for train data in 'f1_train_new' and f1 score for test data in 'f1_test_new'."
   ]
  },
  {
   "cell_type": "code",
   "execution_count": null,
   "id": "5a8f29da",
   "metadata": {
    "deletable": false,
    "nbgrader": {
     "cell_type": "code",
     "checksum": "160b558107cee91fd4e3eb74e18f8ede",
     "grade": false,
     "grade_id": "cell-5e6e53d0a830b30d",
     "locked": false,
     "schema_version": 3,
     "solution": true,
     "task": false
    }
   },
   "outputs": [],
   "source": [
    "# your code here\n",
    "raise NotImplementedError"
   ]
  },
  {
   "cell_type": "code",
   "execution_count": null,
   "id": "f0d2a754",
   "metadata": {
    "deletable": false,
    "editable": false,
    "nbgrader": {
     "cell_type": "code",
     "checksum": "03f91e80f4b11277a3d01f9ed4131d47",
     "grade": true,
     "grade_id": "cell-0d90317d9e34729a",
     "locked": true,
     "points": 4,
     "schema_version": 3,
     "solution": false,
     "task": false
    }
   },
   "outputs": [],
   "source": [
    "# ignore this cell\n",
    "assert f1_train_new == 1.0, 'Make sure you have followed the conditions stated to train the model and predict the output'"
   ]
  },
  {
   "cell_type": "markdown",
   "id": "80769d7a",
   "metadata": {
    "deletable": false,
    "editable": false,
    "nbgrader": {
     "cell_type": "markdown",
     "checksum": "b497e73f69796245f12d5f5eef76b387",
     "grade": false,
     "grade_id": "cell-94cc6dd8caaa8d3c",
     "locked": true,
     "schema_version": 3,
     "solution": false,
     "task": false
    }
   },
   "source": [
    "We can see that there has only been a marginal improvement in the model. Another way to improve the model is pruning the tree and explore by identifying the right depth."
   ]
  },
  {
   "cell_type": "markdown",
   "id": "48086676",
   "metadata": {
    "deletable": false,
    "editable": false,
    "nbgrader": {
     "cell_type": "markdown",
     "checksum": "8525acd4dd9a10142c1486adcd90a17e",
     "grade": false,
     "grade_id": "cell-a28be832f13fcf1d",
     "locked": true,
     "schema_version": 3,
     "solution": false,
     "task": false
    }
   },
   "source": [
    "For this, let's look at the depth of the current model."
   ]
  },
  {
   "cell_type": "code",
   "execution_count": null,
   "id": "7da65c06",
   "metadata": {
    "deletable": false,
    "editable": false,
    "nbgrader": {
     "cell_type": "code",
     "checksum": "b2cd7cdbb8a281bf8a1c9a61852447f1",
     "grade": false,
     "grade_id": "cell-11bef4e9031328d0",
     "locked": true,
     "schema_version": 3,
     "solution": false,
     "task": false
    }
   },
   "outputs": [],
   "source": [
    "# Storing the depth of our current model\n",
    "depth = DT_model.get_depth()\n",
    "depth"
   ]
  },
  {
   "cell_type": "markdown",
   "id": "e97c2994",
   "metadata": {
    "deletable": false,
    "editable": false,
    "nbgrader": {
     "cell_type": "markdown",
     "checksum": "4cc31d72e0d5851a27904c07708451f3",
     "grade": false,
     "grade_id": "cell-ca9ae336e9bf1324",
     "locked": true,
     "schema_version": 3,
     "solution": false,
     "task": false
    }
   },
   "source": [
    "Next, we will create a list of values, starting from the default tree depth and reducing by 3 until reaching a depth of 1. This list will help us perform pruning using different values of max_depth. Save this list in a variable named - 'max_depth_list'"
   ]
  },
  {
   "cell_type": "code",
   "execution_count": null,
   "id": "0177ac7e",
   "metadata": {
    "deletable": false,
    "nbgrader": {
     "cell_type": "code",
     "checksum": "2befa341f033197a037d07c4b8f9ff04",
     "grade": false,
     "grade_id": "cell-98ca66b198138125",
     "locked": false,
     "schema_version": 3,
     "solution": true,
     "task": false
    }
   },
   "outputs": [],
   "source": [
    "# List of max_depth values \n",
    "\n",
    "# your code here\n",
    "raise NotImplementedError"
   ]
  },
  {
   "cell_type": "code",
   "execution_count": null,
   "id": "99d7e842",
   "metadata": {
    "deletable": false,
    "editable": false,
    "nbgrader": {
     "cell_type": "code",
     "checksum": "4a2a8a229d3485beeb8db8c66038477b",
     "grade": true,
     "grade_id": "cell-92a81ab0e5c8cab2",
     "locked": true,
     "points": 1,
     "schema_version": 3,
     "solution": false,
     "task": false
    }
   },
   "outputs": [],
   "source": [
    "# ignore this cell\n",
    "assert len(max_depth_list) == 7, 'Make sure you have followed the conditions stated to train the model and predict the output'"
   ]
  },
  {
   "cell_type": "markdown",
   "id": "3e3e03ab",
   "metadata": {
    "deletable": false,
    "editable": false,
    "nbgrader": {
     "cell_type": "markdown",
     "checksum": "f2958637087c5621373e929bc1694740",
     "grade": false,
     "grade_id": "cell-67c0a7b4e2430d97",
     "locked": true,
     "schema_version": 3,
     "solution": false,
     "task": false
    }
   },
   "source": [
    "Next, we will train Decision Tree models with different max_depth values and then compute and display both the train and test F1 scores upto three decimal points for each model. "
   ]
  },
  {
   "cell_type": "code",
   "execution_count": null,
   "id": "55182a79",
   "metadata": {
    "deletable": false,
    "nbgrader": {
     "cell_type": "code",
     "checksum": "306a2d53b1f36da0edaa2a66ee9d2d88",
     "grade": false,
     "grade_id": "cell-292decf49f11ebb2",
     "locked": false,
     "schema_version": 3,
     "solution": true,
     "task": false
    }
   },
   "outputs": [],
   "source": [
    "# Dictionary to store the train and test F1 scores\n",
    "\n",
    "f1_train_scores = {}\n",
    "f1_test_scores = {}\n",
    "\n",
    "# Loop through max_depth values and train the models\n",
    "for depth in max_depth_list:\n",
    "    # Initialize the Decision Tree model with the current max_depth value\n",
    "    DT_model_prune = DecisionTreeClassifier(max_depth=depth, random_state=42)\n",
    "    \n",
    "    # Train the model\n",
    "    # your code here\n",
    "    raise NotImplementedError\n",
    "\n",
    "# Print the train and test F1 scores for each model\n",
    "for depth in max_depth_list:\n",
    "    print(f\"max_depth = {depth}|\\\n",
    "    Train Score = {f1_train_scores[depth]:.3f} |\\\n",
    "    Test score = {f1_test_scores[depth]:.3f}\")\n",
    "    print('_'*65)"
   ]
  },
  {
   "cell_type": "code",
   "execution_count": null,
   "id": "d09f2000",
   "metadata": {
    "deletable": false,
    "editable": false,
    "nbgrader": {
     "cell_type": "code",
     "checksum": "261c99014de97476c79db8e6271b5d97",
     "grade": true,
     "grade_id": "cell-be427a332f9b4267",
     "locked": true,
     "points": 4,
     "schema_version": 3,
     "solution": false,
     "task": false
    }
   },
   "outputs": [],
   "source": [
    "# ignore this cell\n",
    "assert 19 in f1_train_scores and f1_train_scores[19] > 0.99, \"Train score is diffenrent from the expected score for max_depth = 19. Make sure you have followed the instructions carefully.\"\n",
    "assert 13 in f1_train_scores and f1_train_scores[13] > 0.97, \"Train score is diffenrent from the expected score for max_depth = 15. Make sure you have followed the instructions carefully.\"\n",
    "assert 7 in f1_train_scores and f1_train_scores[7] > 0.91, \"Train score is diffenrent from the expected score for max_depth = 7. Make sure you have followed the instructions carefully.\"\n",
    "assert 1 in f1_train_scores and f1_train_scores[1] > 0.75, \"Train score is diffenrent from the expected score for max_depth = 3. Make sure you have followed the instructions carefully.\"\n"
   ]
  },
  {
   "cell_type": "markdown",
   "id": "9eda6891",
   "metadata": {
    "deletable": false,
    "editable": false,
    "nbgrader": {
     "cell_type": "markdown",
     "checksum": "06e7e0da95a26ba079d0bc1fabd29529",
     "grade": false,
     "grade_id": "cell-c63c6a76a6cd9230",
     "locked": true,
     "schema_version": 3,
     "solution": false,
     "task": false
    }
   },
   "source": [
    "We can see that at max_depth = 7, the test and train scores are almost same while keeping them both near 0.9, which is a good score. That proves that max_depth = 7 is the optimum value of depth we should choose for our model while making predictions!"
   ]
  }
 ],
 "metadata": {
  "kernelspec": {
   "display_name": "Python 3 (ipykernel)",
   "language": "python",
   "name": "python3"
  },
  "language_info": {
   "codemirror_mode": {
    "name": "ipython",
    "version": 3
   },
   "file_extension": ".py",
   "mimetype": "text/x-python",
   "name": "python",
   "nbconvert_exporter": "python",
   "pygments_lexer": "ipython3",
   "version": "3.10.6"
  }
 },
 "nbformat": 4,
 "nbformat_minor": 5
}
