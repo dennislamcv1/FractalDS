{
 "cells": [
  {
   "cell_type": "markdown",
   "id": "b41dfb35",
   "metadata": {
    "deletable": false,
    "editable": false,
    "nbgrader": {
     "cell_type": "markdown",
     "checksum": "f8d8565609b2c41d34e9b74a358850f1",
     "grade": false,
     "grade_id": "cell-5d356e7deff590d9",
     "locked": true,
     "schema_version": 3,
     "solution": false,
     "task": false
    }
   },
   "source": [
    "# Problem Statement\n",
    "Anova Insurance, a global health insurance company, seeks to optimize its insurance policy premium pricing based on the health status of applicants. Understanding an applicant's health condition is crucial for two key decisions:\n",
    "- Determining eligibility for health insurance coverage.\n",
    "- Deciding on premium rates, particularly if the applicant's health indicates higher risks.\n",
    "\n",
    "Your objective is to Develop a predictive model that utilizes health data to classify individuals as 'healthy' or 'unhealthy'. This classification will assist in making informed decisions about insurance policy premium pricing."
   ]
  },
  {
   "cell_type": "markdown",
   "id": "95b63793",
   "metadata": {
    "deletable": false,
    "editable": false,
    "nbgrader": {
     "cell_type": "markdown",
     "checksum": "063092cb50ea8cc7ac3da64e66f63b2b",
     "grade": false,
     "grade_id": "cell-34e36c6f275fe54e",
     "locked": true,
     "schema_version": 3,
     "solution": false,
     "task": false
    }
   },
   "source": [
    "# Dataset Overview\n",
    "The dataset contains 10,000 rows and 20 columns, including both numerical and categorical variables. Some columns have missing values, especially for older individuals, reflecting the scenario where certain health records may not be up-to-date. Here is the data dictionary.\n",
    "\n",
    "- Age: Represents the age of the individual. Negative values seem to be present, which might indicate data entry errors or a specific encoding used for certain age groups.\n",
    "\n",
    "- BMI (Body Mass Index): A measure of body fat based on height and weight. Typically, a BMI between 18.5 and 24.9 is considered normal.\n",
    "\n",
    "- Blood_Pressure: Represents systolic blood pressure. Normal blood pressure is usually around 120/80 mmHg.\n",
    "\n",
    "- Cholesterol: This is the cholesterol level in mg/dL. Desirable levels are usually below 200 mg/dL.\n",
    "\n",
    "- Glucose_Level: Indicates blood glucose levels. It might be fasting glucose levels, with normal levels usually ranging from 70 to 99 mg/dL.\n",
    "\n",
    "- Heart_Rate: The number of heartbeats per minute. Normal resting heart rate for adults ranges from 60 to 100 beats per minute.\n",
    "\n",
    "- Sleep_Hours: The average number of hours the individual sleeps per day.\n",
    "\n",
    "- Exercise_Hours: The average number of hours the individual exercises per day. \n",
    "\n",
    "- Water_Intake: The average daily water intake in liters.\n",
    "\n",
    "- Stress_Level: A numerical representation of stress level.\n",
    "\n",
    "- Smoking: A categorical variable indicating smoking status. Contains values - (0,1,2) which specify the regularity of smoking with 0 being no smoking and 2 being regular smmoking.\n",
    "\n",
    "- Alcohol: A categorical variable indicating alcohol consumption status. Contains values - (0,1,2) which specify the regularity of alcohol consumption with 0 being no consumption quality and 2 being regular consumption.\n",
    "\n",
    "- Diet: A categorical variable indcating the quality of dietary habits. Contains values - (0,1,2) which specify the quality of the habit with 0 being poor diet quality and 2 being good quality.\n",
    "\n",
    "- MentalHealth: Possibly a measure of mental health status. Contains values - (0,1,2) which specify the severity of the mental health with 0 being fine and 2 being highly severe\n",
    "\n",
    "- PhysicalActivity: A categorical variable indicating levels of physical activity. Contains values - (0,1,2) which specify the instensity of the medical history with 0 being no Physical Activity and 2 being regularly active.\n",
    "\n",
    "- MedicalHistory: Indicates the presence of medical conditions or history. Contains values - (0,1,2) which specify the severity of the medical history with 0 being nothing and 2 being highly severe.\n",
    "\n",
    "- Allergies: A categorical variable indicating allergy status. Contains values - (0,1,2) which specify the severity of the allergies with 0 being nothing and 2 being highly severe.\n",
    "\n",
    "- Diet_Type: Categorical variable indicating the type of diet an individual follows. Contains values(Vegetarian, Non-Vegetarian, Vegan).\n",
    "\n",
    "- Blood_Group: Indicates the blood group of the individual Contains values (A, B, AB, O).\n",
    "\n",
    "- Target: This is a binary outcome variable, with '1' indicating 'Unhealthy' and '0' indicating 'Healthy'.\n"
   ]
  },
  {
   "cell_type": "markdown",
   "id": "e4291372",
   "metadata": {
    "deletable": false,
    "editable": false,
    "nbgrader": {
     "cell_type": "markdown",
     "checksum": "90697da314adb2e35dc49c94f5a9d46a",
     "grade": false,
     "grade_id": "cell-a1688ac04961ed8d",
     "locked": true,
     "schema_version": 3,
     "solution": false,
     "task": false
    }
   },
   "source": [
    "It is clear from the above description that the predictor variable is the 'Target' column."
   ]
  },
  {
   "cell_type": "markdown",
   "id": "6083eb3a",
   "metadata": {
    "deletable": false,
    "editable": false,
    "nbgrader": {
     "cell_type": "markdown",
     "checksum": "64254f8e34a098a128f32768d7b7f2ef",
     "grade": false,
     "grade_id": "cell-1e2551d876618ec7",
     "locked": true,
     "schema_version": 3,
     "solution": false,
     "task": false
    }
   },
   "source": [
    "Let us begin with importing the necessary libraries. And read the data."
   ]
  },
  {
   "cell_type": "code",
   "execution_count": 1,
   "id": "8e74814e",
   "metadata": {
    "deletable": false,
    "editable": false,
    "nbgrader": {
     "cell_type": "code",
     "checksum": "7fa14acbcae2694e4871ee687204471d",
     "grade": false,
     "grade_id": "cell-4c83ddbad934fa24",
     "locked": true,
     "schema_version": 3,
     "solution": false,
     "task": false
    }
   },
   "outputs": [],
   "source": [
    "# Necessary library imports for data processing and KNN\n",
    "import pandas as pd\n",
    "import numpy as np\n",
    "import matplotlib.pyplot as plt\n",
    "from sklearn.model_selection import train_test_split\n",
    "from sklearn.preprocessing import StandardScaler\n",
    "from sklearn.impute import SimpleImputer\n",
    "from sklearn.neighbors import KNeighborsClassifier\n",
    "from sklearn.metrics import classification_report, f1_score"
   ]
  },
  {
   "cell_type": "code",
   "execution_count": 2,
   "id": "20985cd2",
   "metadata": {
    "deletable": false,
    "editable": false,
    "nbgrader": {
     "cell_type": "code",
     "checksum": "79bd9c619abe72837bdc61f9fe006f62",
     "grade": false,
     "grade_id": "cell-5e0be4c3397e80ff",
     "locked": true,
     "schema_version": 3,
     "solution": false,
     "task": false
    }
   },
   "outputs": [
    {
     "data": {
      "text/html": [
       "<div>\n",
       "<style scoped>\n",
       "    .dataframe tbody tr th:only-of-type {\n",
       "        vertical-align: middle;\n",
       "    }\n",
       "\n",
       "    .dataframe tbody tr th {\n",
       "        vertical-align: top;\n",
       "    }\n",
       "\n",
       "    .dataframe thead th {\n",
       "        text-align: right;\n",
       "    }\n",
       "</style>\n",
       "<table border=\"1\" class=\"dataframe\">\n",
       "  <thead>\n",
       "    <tr style=\"text-align: right;\">\n",
       "      <th></th>\n",
       "      <th>Age</th>\n",
       "      <th>BMI</th>\n",
       "      <th>Blood_Pressure</th>\n",
       "      <th>Cholesterol</th>\n",
       "      <th>Glucose_Level</th>\n",
       "      <th>Heart_Rate</th>\n",
       "      <th>Sleep_Hours</th>\n",
       "      <th>Exercise_Hours</th>\n",
       "      <th>Water_Intake</th>\n",
       "      <th>Stress_Level</th>\n",
       "      <th>Target</th>\n",
       "      <th>Smoking</th>\n",
       "      <th>Alcohol</th>\n",
       "      <th>Diet</th>\n",
       "      <th>MentalHealth</th>\n",
       "      <th>PhysicalActivity</th>\n",
       "      <th>MedicalHistory</th>\n",
       "      <th>Allergies</th>\n",
       "      <th>Diet_Type</th>\n",
       "      <th>Blood_Group</th>\n",
       "    </tr>\n",
       "  </thead>\n",
       "  <tbody>\n",
       "    <tr>\n",
       "      <th>0</th>\n",
       "      <td>-2.0</td>\n",
       "      <td>26.0</td>\n",
       "      <td>111.0</td>\n",
       "      <td>198.0</td>\n",
       "      <td>99.0</td>\n",
       "      <td>72.0</td>\n",
       "      <td>4.0</td>\n",
       "      <td>-1.0</td>\n",
       "      <td>5.0</td>\n",
       "      <td>5.0</td>\n",
       "      <td>1</td>\n",
       "      <td>2</td>\n",
       "      <td>2</td>\n",
       "      <td>1</td>\n",
       "      <td>2</td>\n",
       "      <td>1</td>\n",
       "      <td>0</td>\n",
       "      <td>1</td>\n",
       "      <td>Vegetarian</td>\n",
       "      <td>AB</td>\n",
       "    </tr>\n",
       "    <tr>\n",
       "      <th>1</th>\n",
       "      <td>-8.0</td>\n",
       "      <td>24.0</td>\n",
       "      <td>121.0</td>\n",
       "      <td>199.0</td>\n",
       "      <td>103.0</td>\n",
       "      <td>75.0</td>\n",
       "      <td>2.0</td>\n",
       "      <td>1.0</td>\n",
       "      <td>2.0</td>\n",
       "      <td>9.0</td>\n",
       "      <td>1</td>\n",
       "      <td>0</td>\n",
       "      <td>1</td>\n",
       "      <td>1</td>\n",
       "      <td>2</td>\n",
       "      <td>1</td>\n",
       "      <td>2</td>\n",
       "      <td>2</td>\n",
       "      <td>Non-Vegetarian</td>\n",
       "      <td>AB</td>\n",
       "    </tr>\n",
       "    <tr>\n",
       "      <th>2</th>\n",
       "      <td>81.0</td>\n",
       "      <td>27.0</td>\n",
       "      <td>147.0</td>\n",
       "      <td>203.0</td>\n",
       "      <td>NaN</td>\n",
       "      <td>74.0</td>\n",
       "      <td>10.0</td>\n",
       "      <td>-0.0</td>\n",
       "      <td>5.0</td>\n",
       "      <td>1.0</td>\n",
       "      <td>0</td>\n",
       "      <td>2</td>\n",
       "      <td>1</td>\n",
       "      <td>2</td>\n",
       "      <td>0</td>\n",
       "      <td>0</td>\n",
       "      <td>1</td>\n",
       "      <td>0</td>\n",
       "      <td>Vegan</td>\n",
       "      <td>A</td>\n",
       "    </tr>\n",
       "    <tr>\n",
       "      <th>3</th>\n",
       "      <td>25.0</td>\n",
       "      <td>21.0</td>\n",
       "      <td>150.0</td>\n",
       "      <td>199.0</td>\n",
       "      <td>102.0</td>\n",
       "      <td>70.0</td>\n",
       "      <td>7.0</td>\n",
       "      <td>3.0</td>\n",
       "      <td>3.0</td>\n",
       "      <td>3.0</td>\n",
       "      <td>0</td>\n",
       "      <td>2</td>\n",
       "      <td>0</td>\n",
       "      <td>1</td>\n",
       "      <td>2</td>\n",
       "      <td>1</td>\n",
       "      <td>2</td>\n",
       "      <td>0</td>\n",
       "      <td>Vegan</td>\n",
       "      <td>B</td>\n",
       "    </tr>\n",
       "    <tr>\n",
       "      <th>4</th>\n",
       "      <td>24.0</td>\n",
       "      <td>26.0</td>\n",
       "      <td>146.0</td>\n",
       "      <td>202.0</td>\n",
       "      <td>99.0</td>\n",
       "      <td>76.0</td>\n",
       "      <td>10.0</td>\n",
       "      <td>-2.0</td>\n",
       "      <td>5.0</td>\n",
       "      <td>1.0</td>\n",
       "      <td>0</td>\n",
       "      <td>0</td>\n",
       "      <td>1</td>\n",
       "      <td>2</td>\n",
       "      <td>0</td>\n",
       "      <td>2</td>\n",
       "      <td>0</td>\n",
       "      <td>2</td>\n",
       "      <td>Vegetarian</td>\n",
       "      <td>B</td>\n",
       "    </tr>\n",
       "  </tbody>\n",
       "</table>\n",
       "</div>"
      ],
      "text/plain": [
       "    Age   BMI  Blood_Pressure  Cholesterol  Glucose_Level  Heart_Rate  \\\n",
       "0  -2.0  26.0           111.0        198.0           99.0        72.0   \n",
       "1  -8.0  24.0           121.0        199.0          103.0        75.0   \n",
       "2  81.0  27.0           147.0        203.0            NaN        74.0   \n",
       "3  25.0  21.0           150.0        199.0          102.0        70.0   \n",
       "4  24.0  26.0           146.0        202.0           99.0        76.0   \n",
       "\n",
       "   Sleep_Hours  Exercise_Hours  Water_Intake  Stress_Level  Target  Smoking  \\\n",
       "0          4.0            -1.0           5.0           5.0       1        2   \n",
       "1          2.0             1.0           2.0           9.0       1        0   \n",
       "2         10.0            -0.0           5.0           1.0       0        2   \n",
       "3          7.0             3.0           3.0           3.0       0        2   \n",
       "4         10.0            -2.0           5.0           1.0       0        0   \n",
       "\n",
       "   Alcohol  Diet  MentalHealth  PhysicalActivity  MedicalHistory  Allergies  \\\n",
       "0        2     1             2                 1               0          1   \n",
       "1        1     1             2                 1               2          2   \n",
       "2        1     2             0                 0               1          0   \n",
       "3        0     1             2                 1               2          0   \n",
       "4        1     2             0                 2               0          2   \n",
       "\n",
       "        Diet_Type Blood_Group  \n",
       "0      Vegetarian          AB  \n",
       "1  Non-Vegetarian          AB  \n",
       "2           Vegan           A  \n",
       "3           Vegan           B  \n",
       "4      Vegetarian           B  "
      ]
     },
     "execution_count": 2,
     "metadata": {},
     "output_type": "execute_result"
    }
   ],
   "source": [
    "# Load the dataset\n",
    "df = pd.read_csv('Healthcare_Dataset.csv')\n",
    "df.head()"
   ]
  },
  {
   "cell_type": "code",
   "execution_count": 3,
   "id": "861c52b3",
   "metadata": {
    "deletable": false,
    "editable": false,
    "nbgrader": {
     "cell_type": "code",
     "checksum": "3e4e568601203742b54e6e99dd4690a6",
     "grade": false,
     "grade_id": "cell-44e2f2370defccf9",
     "locked": true,
     "schema_version": 3,
     "solution": false,
     "task": false
    }
   },
   "outputs": [
    {
     "data": {
      "text/plain": [
       "(10000, 20)"
      ]
     },
     "execution_count": 3,
     "metadata": {},
     "output_type": "execute_result"
    }
   ],
   "source": [
    "# Shape of the data\n",
    "df.shape"
   ]
  },
  {
   "cell_type": "code",
   "execution_count": 4,
   "id": "f7dc8d8f-d673-4bd4-8700-5c8dce279334",
   "metadata": {},
   "outputs": [
    {
     "data": {
      "text/plain": [
       "Index(['Age', 'BMI', 'Blood_Pressure', 'Cholesterol', 'Glucose_Level',\n",
       "       'Heart_Rate', 'Sleep_Hours', 'Exercise_Hours', 'Water_Intake',\n",
       "       'Stress_Level', 'Target', 'Smoking', 'Alcohol', 'Diet', 'MentalHealth',\n",
       "       'PhysicalActivity', 'MedicalHistory', 'Allergies', 'Diet_Type',\n",
       "       'Blood_Group'],\n",
       "      dtype='object')"
      ]
     },
     "execution_count": 4,
     "metadata": {},
     "output_type": "execute_result"
    }
   ],
   "source": [
    "df.columns"
   ]
  },
  {
   "cell_type": "code",
   "execution_count": 5,
   "id": "f620baed-c77b-4707-b4d4-83ec023301d8",
   "metadata": {},
   "outputs": [
    {
     "name": "stdout",
     "output_type": "stream",
     "text": [
      "<class 'pandas.core.frame.DataFrame'>\n",
      "RangeIndex: 10000 entries, 0 to 9999\n",
      "Data columns (total 20 columns):\n",
      " #   Column            Non-Null Count  Dtype  \n",
      "---  ------            --------------  -----  \n",
      " 0   Age               10000 non-null  float64\n",
      " 1   BMI               9457 non-null   float64\n",
      " 2   Blood_Pressure    9457 non-null   float64\n",
      " 3   Cholesterol       10000 non-null  float64\n",
      " 4   Glucose_Level     9457 non-null   float64\n",
      " 5   Heart_Rate        10000 non-null  float64\n",
      " 6   Sleep_Hours       10000 non-null  float64\n",
      " 7   Exercise_Hours    10000 non-null  float64\n",
      " 8   Water_Intake      10000 non-null  float64\n",
      " 9   Stress_Level      10000 non-null  float64\n",
      " 10  Target            10000 non-null  int64  \n",
      " 11  Smoking           10000 non-null  int64  \n",
      " 12  Alcohol           10000 non-null  int64  \n",
      " 13  Diet              10000 non-null  int64  \n",
      " 14  MentalHealth      10000 non-null  int64  \n",
      " 15  PhysicalActivity  10000 non-null  int64  \n",
      " 16  MedicalHistory    10000 non-null  int64  \n",
      " 17  Allergies         10000 non-null  int64  \n",
      " 18  Diet_Type         10000 non-null  object \n",
      " 19  Blood_Group       10000 non-null  object \n",
      "dtypes: float64(10), int64(8), object(2)\n",
      "memory usage: 1.5+ MB\n"
     ]
    }
   ],
   "source": [
    "df.info()"
   ]
  },
  {
   "cell_type": "markdown",
   "id": "7e535ad8",
   "metadata": {
    "deletable": false,
    "editable": false,
    "nbgrader": {
     "cell_type": "markdown",
     "checksum": "e51768b9d47f6d46a52722c0bde9ff5b",
     "grade": false,
     "grade_id": "cell-3d3bf447396281a3",
     "locked": true,
     "schema_version": 3,
     "solution": false,
     "task": false
    }
   },
   "source": [
    "Now, let us describe the numerical functions of the data."
   ]
  },
  {
   "cell_type": "code",
   "execution_count": 6,
   "id": "d3ee8571",
   "metadata": {
    "deletable": false,
    "editable": false,
    "nbgrader": {
     "cell_type": "code",
     "checksum": "5bfd9990160f5917c44b0901199a5542",
     "grade": false,
     "grade_id": "cell-55b2a2afc8264173",
     "locked": true,
     "schema_version": 3,
     "solution": false,
     "task": false
    }
   },
   "outputs": [
    {
     "data": {
      "text/html": [
       "<div>\n",
       "<style scoped>\n",
       "    .dataframe tbody tr th:only-of-type {\n",
       "        vertical-align: middle;\n",
       "    }\n",
       "\n",
       "    .dataframe tbody tr th {\n",
       "        vertical-align: top;\n",
       "    }\n",
       "\n",
       "    .dataframe thead th {\n",
       "        text-align: right;\n",
       "    }\n",
       "</style>\n",
       "<table border=\"1\" class=\"dataframe\">\n",
       "  <thead>\n",
       "    <tr style=\"text-align: right;\">\n",
       "      <th></th>\n",
       "      <th>Age</th>\n",
       "      <th>BMI</th>\n",
       "      <th>Blood_Pressure</th>\n",
       "      <th>Cholesterol</th>\n",
       "      <th>Glucose_Level</th>\n",
       "      <th>Heart_Rate</th>\n",
       "      <th>Sleep_Hours</th>\n",
       "      <th>Exercise_Hours</th>\n",
       "      <th>Water_Intake</th>\n",
       "      <th>Stress_Level</th>\n",
       "      <th>Target</th>\n",
       "      <th>Smoking</th>\n",
       "      <th>Alcohol</th>\n",
       "      <th>Diet</th>\n",
       "      <th>MentalHealth</th>\n",
       "      <th>PhysicalActivity</th>\n",
       "      <th>MedicalHistory</th>\n",
       "      <th>Allergies</th>\n",
       "    </tr>\n",
       "  </thead>\n",
       "  <tbody>\n",
       "    <tr>\n",
       "      <th>count</th>\n",
       "      <td>10000.000000</td>\n",
       "      <td>9457.000000</td>\n",
       "      <td>9457.000000</td>\n",
       "      <td>10000.000000</td>\n",
       "      <td>9457.000000</td>\n",
       "      <td>10000.000000</td>\n",
       "      <td>10000.000000</td>\n",
       "      <td>10000.000000</td>\n",
       "      <td>10000.000000</td>\n",
       "      <td>10000.000000</td>\n",
       "      <td>10000.000000</td>\n",
       "      <td>10000.000000</td>\n",
       "      <td>10000.000000</td>\n",
       "      <td>10000.000000</td>\n",
       "      <td>10000.00000</td>\n",
       "      <td>10000.000000</td>\n",
       "      <td>10000.00000</td>\n",
       "      <td>10000.000000</td>\n",
       "    </tr>\n",
       "    <tr>\n",
       "      <th>mean</th>\n",
       "      <td>23.763600</td>\n",
       "      <td>25.694935</td>\n",
       "      <td>130.799196</td>\n",
       "      <td>199.252100</td>\n",
       "      <td>100.122343</td>\n",
       "      <td>73.531400</td>\n",
       "      <td>7.006200</td>\n",
       "      <td>-0.756900</td>\n",
       "      <td>3.487900</td>\n",
       "      <td>4.290200</td>\n",
       "      <td>0.499900</td>\n",
       "      <td>0.994500</td>\n",
       "      <td>0.992700</td>\n",
       "      <td>1.005500</td>\n",
       "      <td>0.99670</td>\n",
       "      <td>1.000600</td>\n",
       "      <td>1.00190</td>\n",
       "      <td>0.993100</td>\n",
       "    </tr>\n",
       "    <tr>\n",
       "      <th>std</th>\n",
       "      <td>42.752514</td>\n",
       "      <td>1.998384</td>\n",
       "      <td>28.396578</td>\n",
       "      <td>2.105941</td>\n",
       "      <td>2.273901</td>\n",
       "      <td>1.724329</td>\n",
       "      <td>2.343227</td>\n",
       "      <td>2.182631</td>\n",
       "      <td>1.705387</td>\n",
       "      <td>2.123213</td>\n",
       "      <td>0.500025</td>\n",
       "      <td>0.815681</td>\n",
       "      <td>0.816525</td>\n",
       "      <td>0.816172</td>\n",
       "      <td>0.82326</td>\n",
       "      <td>0.809979</td>\n",
       "      <td>0.81398</td>\n",
       "      <td>0.816284</td>\n",
       "    </tr>\n",
       "    <tr>\n",
       "      <th>min</th>\n",
       "      <td>-128.000000</td>\n",
       "      <td>19.000000</td>\n",
       "      <td>22.000000</td>\n",
       "      <td>192.000000</td>\n",
       "      <td>93.000000</td>\n",
       "      <td>67.000000</td>\n",
       "      <td>-1.000000</td>\n",
       "      <td>-8.000000</td>\n",
       "      <td>-3.000000</td>\n",
       "      <td>-3.000000</td>\n",
       "      <td>0.000000</td>\n",
       "      <td>0.000000</td>\n",
       "      <td>0.000000</td>\n",
       "      <td>0.000000</td>\n",
       "      <td>0.00000</td>\n",
       "      <td>0.000000</td>\n",
       "      <td>0.00000</td>\n",
       "      <td>0.000000</td>\n",
       "    </tr>\n",
       "    <tr>\n",
       "      <th>25%</th>\n",
       "      <td>-5.000000</td>\n",
       "      <td>24.000000</td>\n",
       "      <td>113.000000</td>\n",
       "      <td>198.000000</td>\n",
       "      <td>99.000000</td>\n",
       "      <td>72.000000</td>\n",
       "      <td>5.000000</td>\n",
       "      <td>-2.000000</td>\n",
       "      <td>2.000000</td>\n",
       "      <td>3.000000</td>\n",
       "      <td>0.000000</td>\n",
       "      <td>0.000000</td>\n",
       "      <td>0.000000</td>\n",
       "      <td>0.000000</td>\n",
       "      <td>0.00000</td>\n",
       "      <td>0.000000</td>\n",
       "      <td>0.00000</td>\n",
       "      <td>0.000000</td>\n",
       "    </tr>\n",
       "    <tr>\n",
       "      <th>50%</th>\n",
       "      <td>22.000000</td>\n",
       "      <td>26.000000</td>\n",
       "      <td>135.000000</td>\n",
       "      <td>199.000000</td>\n",
       "      <td>100.000000</td>\n",
       "      <td>74.000000</td>\n",
       "      <td>7.000000</td>\n",
       "      <td>-1.000000</td>\n",
       "      <td>4.000000</td>\n",
       "      <td>4.000000</td>\n",
       "      <td>0.000000</td>\n",
       "      <td>1.000000</td>\n",
       "      <td>1.000000</td>\n",
       "      <td>1.000000</td>\n",
       "      <td>1.00000</td>\n",
       "      <td>1.000000</td>\n",
       "      <td>1.00000</td>\n",
       "      <td>1.000000</td>\n",
       "    </tr>\n",
       "    <tr>\n",
       "      <th>75%</th>\n",
       "      <td>49.000000</td>\n",
       "      <td>27.000000</td>\n",
       "      <td>151.000000</td>\n",
       "      <td>201.000000</td>\n",
       "      <td>102.000000</td>\n",
       "      <td>75.000000</td>\n",
       "      <td>9.000000</td>\n",
       "      <td>1.000000</td>\n",
       "      <td>5.000000</td>\n",
       "      <td>6.000000</td>\n",
       "      <td>1.000000</td>\n",
       "      <td>2.000000</td>\n",
       "      <td>2.000000</td>\n",
       "      <td>2.000000</td>\n",
       "      <td>2.00000</td>\n",
       "      <td>2.000000</td>\n",
       "      <td>2.00000</td>\n",
       "      <td>2.000000</td>\n",
       "    </tr>\n",
       "    <tr>\n",
       "      <th>max</th>\n",
       "      <td>201.000000</td>\n",
       "      <td>32.000000</td>\n",
       "      <td>225.000000</td>\n",
       "      <td>207.000000</td>\n",
       "      <td>107.000000</td>\n",
       "      <td>80.000000</td>\n",
       "      <td>14.000000</td>\n",
       "      <td>8.000000</td>\n",
       "      <td>10.000000</td>\n",
       "      <td>12.000000</td>\n",
       "      <td>1.000000</td>\n",
       "      <td>2.000000</td>\n",
       "      <td>2.000000</td>\n",
       "      <td>2.000000</td>\n",
       "      <td>2.00000</td>\n",
       "      <td>2.000000</td>\n",
       "      <td>2.00000</td>\n",
       "      <td>2.000000</td>\n",
       "    </tr>\n",
       "  </tbody>\n",
       "</table>\n",
       "</div>"
      ],
      "text/plain": [
       "                Age          BMI  Blood_Pressure   Cholesterol  Glucose_Level  \\\n",
       "count  10000.000000  9457.000000     9457.000000  10000.000000    9457.000000   \n",
       "mean      23.763600    25.694935      130.799196    199.252100     100.122343   \n",
       "std       42.752514     1.998384       28.396578      2.105941       2.273901   \n",
       "min     -128.000000    19.000000       22.000000    192.000000      93.000000   \n",
       "25%       -5.000000    24.000000      113.000000    198.000000      99.000000   \n",
       "50%       22.000000    26.000000      135.000000    199.000000     100.000000   \n",
       "75%       49.000000    27.000000      151.000000    201.000000     102.000000   \n",
       "max      201.000000    32.000000      225.000000    207.000000     107.000000   \n",
       "\n",
       "         Heart_Rate   Sleep_Hours  Exercise_Hours  Water_Intake  Stress_Level  \\\n",
       "count  10000.000000  10000.000000    10000.000000  10000.000000  10000.000000   \n",
       "mean      73.531400      7.006200       -0.756900      3.487900      4.290200   \n",
       "std        1.724329      2.343227        2.182631      1.705387      2.123213   \n",
       "min       67.000000     -1.000000       -8.000000     -3.000000     -3.000000   \n",
       "25%       72.000000      5.000000       -2.000000      2.000000      3.000000   \n",
       "50%       74.000000      7.000000       -1.000000      4.000000      4.000000   \n",
       "75%       75.000000      9.000000        1.000000      5.000000      6.000000   \n",
       "max       80.000000     14.000000        8.000000     10.000000     12.000000   \n",
       "\n",
       "             Target       Smoking       Alcohol          Diet  MentalHealth  \\\n",
       "count  10000.000000  10000.000000  10000.000000  10000.000000   10000.00000   \n",
       "mean       0.499900      0.994500      0.992700      1.005500       0.99670   \n",
       "std        0.500025      0.815681      0.816525      0.816172       0.82326   \n",
       "min        0.000000      0.000000      0.000000      0.000000       0.00000   \n",
       "25%        0.000000      0.000000      0.000000      0.000000       0.00000   \n",
       "50%        0.000000      1.000000      1.000000      1.000000       1.00000   \n",
       "75%        1.000000      2.000000      2.000000      2.000000       2.00000   \n",
       "max        1.000000      2.000000      2.000000      2.000000       2.00000   \n",
       "\n",
       "       PhysicalActivity  MedicalHistory     Allergies  \n",
       "count      10000.000000     10000.00000  10000.000000  \n",
       "mean           1.000600         1.00190      0.993100  \n",
       "std            0.809979         0.81398      0.816284  \n",
       "min            0.000000         0.00000      0.000000  \n",
       "25%            0.000000         0.00000      0.000000  \n",
       "50%            1.000000         1.00000      1.000000  \n",
       "75%            2.000000         2.00000      2.000000  \n",
       "max            2.000000         2.00000      2.000000  "
      ]
     },
     "execution_count": 6,
     "metadata": {},
     "output_type": "execute_result"
    }
   ],
   "source": [
    "# Get the description for numerical data\n",
    "df.describe()"
   ]
  },
  {
   "cell_type": "code",
   "execution_count": 7,
   "id": "dc5fe2b4",
   "metadata": {
    "deletable": false,
    "editable": false,
    "nbgrader": {
     "cell_type": "code",
     "checksum": "021b6278f7265ab8e29f8774b195511f",
     "grade": false,
     "grade_id": "cell-ce2887c35635ae07",
     "locked": true,
     "schema_version": 3,
     "solution": false,
     "task": false
    }
   },
   "outputs": [
    {
     "data": {
      "text/html": [
       "<div>\n",
       "<style scoped>\n",
       "    .dataframe tbody tr th:only-of-type {\n",
       "        vertical-align: middle;\n",
       "    }\n",
       "\n",
       "    .dataframe tbody tr th {\n",
       "        vertical-align: top;\n",
       "    }\n",
       "\n",
       "    .dataframe thead th {\n",
       "        text-align: right;\n",
       "    }\n",
       "</style>\n",
       "<table border=\"1\" class=\"dataframe\">\n",
       "  <thead>\n",
       "    <tr style=\"text-align: right;\">\n",
       "      <th></th>\n",
       "      <th>Diet_Type</th>\n",
       "      <th>Blood_Group</th>\n",
       "    </tr>\n",
       "  </thead>\n",
       "  <tbody>\n",
       "    <tr>\n",
       "      <th>count</th>\n",
       "      <td>10000</td>\n",
       "      <td>10000</td>\n",
       "    </tr>\n",
       "    <tr>\n",
       "      <th>unique</th>\n",
       "      <td>3</td>\n",
       "      <td>4</td>\n",
       "    </tr>\n",
       "    <tr>\n",
       "      <th>top</th>\n",
       "      <td>Vegetarian</td>\n",
       "      <td>O</td>\n",
       "    </tr>\n",
       "    <tr>\n",
       "      <th>freq</th>\n",
       "      <td>3360</td>\n",
       "      <td>2538</td>\n",
       "    </tr>\n",
       "  </tbody>\n",
       "</table>\n",
       "</div>"
      ],
      "text/plain": [
       "         Diet_Type Blood_Group\n",
       "count        10000       10000\n",
       "unique           3           4\n",
       "top     Vegetarian           O\n",
       "freq          3360        2538"
      ]
     },
     "execution_count": 7,
     "metadata": {},
     "output_type": "execute_result"
    }
   ],
   "source": [
    "#get the description of the categorical variable\n",
    "df.describe(include='O')"
   ]
  },
  {
   "cell_type": "markdown",
   "id": "f2f486a6",
   "metadata": {
    "deletable": false,
    "editable": false,
    "nbgrader": {
     "cell_type": "markdown",
     "checksum": "991d69e576cb964a86b9e6c0bbf3ae72",
     "grade": false,
     "grade_id": "cell-b399d33deb99bc0f",
     "locked": true,
     "schema_version": 3,
     "solution": false,
     "task": false
    }
   },
   "source": [
    "# Observations\n",
    "There are 3 major observations here-\n",
    "- The age column has minimum and maximum values of negative 128 and positive 201 respectively which is not possible.\n",
    "- We can see that 5 variables- Age, Sleep_Hours, Exercise_Hours, Water_Intake, Stress_Level have negative values which is not possible logically.\n",
    "- We have 2 categorical variables- Diet_Type, and Blood Group for which we must perform one-hot encoding on"
   ]
  },
  {
   "cell_type": "markdown",
   "id": "6f88da47",
   "metadata": {
    "deletable": false,
    "editable": false,
    "nbgrader": {
     "cell_type": "markdown",
     "checksum": "6483e702b133630ef6dff496a2d8303a",
     "grade": false,
     "grade_id": "cell-7a9dfae6b03def19",
     "locked": true,
     "schema_version": 3,
     "solution": false,
     "task": false
    }
   },
   "source": [
    "Let us begin with converting negative values in the 5 variables- Age, Sleep_Hours, Exercise_Hours, Water_Intake, Stress_Level into a positive one. For this we have the following methods-\n",
    "- Individually convert the negative values with their positive values. Possible methods can be:\n",
    " 1. Replace negative values with central value of the respective columns like mean/ median\n",
    " 2. Replace negative value with central value based on other columns like sleep hours, blood pressure or others\n",
    "\n",
    "Or, you can choose any other method to treat the negative values in these 5 columns."
   ]
  },
  {
   "cell_type": "code",
   "execution_count": 8,
   "id": "71ea5791",
   "metadata": {
    "deletable": false,
    "nbgrader": {
     "cell_type": "code",
     "checksum": "f66499181f8ff45fec4aeaa8af572a5f",
     "grade": false,
     "grade_id": "cell-4de8026c55d82da8",
     "locked": false,
     "schema_version": 3,
     "solution": true,
     "task": false
    }
   },
   "outputs": [],
   "source": [
    "# Replace all the negative values in these 5 columns with the mean of the positive values from the respective columns.\n",
    "# Write your code below here\n",
    "# your code here\n",
    "mean_age = df[\"Age\"].mean()\n",
    "mean_age\n",
    "\n",
    "df.loc[df['Age'] < 0, 'Age'] = mean_age"
   ]
  },
  {
   "cell_type": "code",
   "execution_count": 9,
   "id": "ad569e77-a1be-4d05-abd4-93266dc5f4a1",
   "metadata": {},
   "outputs": [],
   "source": [
    "mean_sleep = df[\"Sleep_Hours\"].mean()\n",
    "mean_sleep\n",
    "\n",
    "df.loc[df[\"Sleep_Hours\"] < 0, \"Sleep_Hours\"] = mean_sleep"
   ]
  },
  {
   "cell_type": "code",
   "execution_count": 10,
   "id": "117bfae6-4636-494d-b811-7f684dd8b158",
   "metadata": {},
   "outputs": [],
   "source": [
    "mean_ex = df[\"Exercise_Hours\"].mean()\n",
    "mean_ex\n",
    "\n",
    "df.loc[df['Exercise_Hours'] < 0, 'Exercise_Hours'] = 0.00"
   ]
  },
  {
   "cell_type": "code",
   "execution_count": 11,
   "id": "4bfe4ca5-f9ec-4080-806f-00e8f778388f",
   "metadata": {},
   "outputs": [],
   "source": [
    "mean_water = df[\"Water_Intake\"].mean()\n",
    "mean_water\n",
    "\n",
    "df.loc[df['Water_Intake'] < 0, 'Water_Intake'] = mean_water"
   ]
  },
  {
   "cell_type": "code",
   "execution_count": 12,
   "id": "86df57d8-1d4b-4140-8ba7-cead54cd607e",
   "metadata": {},
   "outputs": [],
   "source": [
    "mean_stress = df[\"Stress_Level\"].mean()\n",
    "mean_stress\n",
    "\n",
    "df.loc[df['Stress_Level'] < 0, 'Stress_Level'] = mean_stress"
   ]
  },
  {
   "cell_type": "code",
   "execution_count": 13,
   "id": "ae185589",
   "metadata": {
    "deletable": false,
    "editable": false,
    "nbgrader": {
     "cell_type": "code",
     "checksum": "e3ebf68bcc6c2ee0f30a3f6d9f7b31af",
     "grade": true,
     "grade_id": "cell-d29ad566f49cd313",
     "locked": true,
     "points": 5,
     "schema_version": 3,
     "solution": false,
     "task": false
    }
   },
   "outputs": [],
   "source": [
    "assert len(df[df['Age'] <0]) == 0, 'Make sure to make all the values in the \"Age\" variable as +ve'\n",
    "assert len(df[df['Sleep_Hours'] <0]) == 0, 'Make sure to make all the values in the \"Sleep_Hours\" variable as +ve'\n",
    "assert len(df[df['Exercise_Hours'] <0]) == 0, 'Make sure to make all the values in the \"Exercise_Hours\" variable as +ve'\n",
    "assert len(df[df['Water_Intake'] <0]) == 0, 'Make sure to make all the values in the \"Water_Intake\" variable as +ve'\n",
    "assert len(df[df['Stress_Level'] <0]) == 0, 'Make sure to make all the values in the \"Stress_Level\" variable as +ve'"
   ]
  },
  {
   "cell_type": "markdown",
   "id": "5c9b5d54",
   "metadata": {
    "deletable": false,
    "editable": false,
    "nbgrader": {
     "cell_type": "markdown",
     "checksum": "a5ea5ac30984bb6ae1608b3e5a5ecb44",
     "grade": false,
     "grade_id": "cell-fd79b07bff937156",
     "locked": true,
     "schema_version": 3,
     "solution": false,
     "task": false
    }
   },
   "source": [
    "Now, let us treat the age column.\n",
    "\n",
    "Since Anova is a newly etablished health insurance company, they are very strict as to who will be eligible for a health insurance. And the management takes the call that any person above the age of 100 will not be issued an insurance. Also, this will helps us eliminate age values that are absurdly high(which may most probably be incorrect entries). First let's check how many observations are there where Age>100"
   ]
  },
  {
   "cell_type": "code",
   "execution_count": 14,
   "id": "aa5ddb54",
   "metadata": {
    "deletable": false,
    "editable": false,
    "nbgrader": {
     "cell_type": "code",
     "checksum": "0da46a783857a57c1fd0cedc3883a9db",
     "grade": false,
     "grade_id": "cell-71208c84244608ab",
     "locked": true,
     "schema_version": 3,
     "solution": false,
     "task": false
    }
   },
   "outputs": [
    {
     "data": {
      "text/plain": [
       "437"
      ]
     },
     "execution_count": 14,
     "metadata": {},
     "output_type": "execute_result"
    }
   ],
   "source": [
    "# Check the number of observations in dataset with 'Age' values greater than 100\n",
    "len(df[df['Age']>100])"
   ]
  },
  {
   "cell_type": "markdown",
   "id": "f7b2da7c",
   "metadata": {
    "deletable": false,
    "editable": false,
    "nbgrader": {
     "cell_type": "markdown",
     "checksum": "3739f1fad84d660cdd369c0d23e0f6dd",
     "grade": false,
     "grade_id": "cell-907065c5c284a7b0",
     "locked": true,
     "schema_version": 3,
     "solution": false,
     "task": false
    }
   },
   "source": [
    "Since Anova is a newly established Health insurance provider, they do not want to charge all people with 'Age' greater than 100 years, the same amount of premium. Being a new company, data is critical to them and deleting such rows won't make sense. Instead let us set the values above 100 in the Age column to 100."
   ]
  },
  {
   "cell_type": "code",
   "execution_count": 15,
   "id": "1a083b8f",
   "metadata": {
    "deletable": false,
    "nbgrader": {
     "cell_type": "code",
     "checksum": "8f9f38a89ff00252824c397cca37143b",
     "grade": false,
     "grade_id": "cell-0fd0c63f98238375",
     "locked": false,
     "schema_version": 3,
     "solution": true,
     "task": false
    }
   },
   "outputs": [],
   "source": [
    "# Replacing values greater than 100 with 100 in the Age column\n",
    "# Write your code below\n",
    "# your code here\n",
    "df.loc[df['Age'] > 100, 'Age'] = 100"
   ]
  },
  {
   "cell_type": "code",
   "execution_count": 16,
   "id": "395b37c3",
   "metadata": {
    "deletable": false,
    "editable": false,
    "nbgrader": {
     "cell_type": "code",
     "checksum": "fcf94b90020e7d67708c9928a92a1fc5",
     "grade": true,
     "grade_id": "cell-3b9b36936a53767a",
     "locked": true,
     "points": 2,
     "schema_version": 3,
     "solution": false,
     "task": false
    }
   },
   "outputs": [],
   "source": [
    "assert len(df[df['Age'] > 100]) == 0, 'The \"Age\" variable still has values greater than 100. Make sure to select only those records that have \"Age\" values <= 100'"
   ]
  },
  {
   "cell_type": "code",
   "execution_count": 17,
   "id": "0cab1777",
   "metadata": {},
   "outputs": [
    {
     "data": {
      "text/plain": [
       "(10000, 20)"
      ]
     },
     "execution_count": 17,
     "metadata": {},
     "output_type": "execute_result"
    }
   ],
   "source": [
    "df.shape"
   ]
  },
  {
   "cell_type": "markdown",
   "id": "85adf216",
   "metadata": {
    "deletable": false,
    "editable": false,
    "nbgrader": {
     "cell_type": "markdown",
     "checksum": "ad093507faa2580a5e904033cc590cb2",
     "grade": false,
     "grade_id": "cell-0f05bc6191fb18ef",
     "locked": true,
     "schema_version": 3,
     "solution": false,
     "task": false
    }
   },
   "source": [
    "Now let us treat the missing values."
   ]
  },
  {
   "cell_type": "markdown",
   "id": "0defcf95",
   "metadata": {
    "deletable": false,
    "editable": false,
    "nbgrader": {
     "cell_type": "markdown",
     "checksum": "32ad772a978310350528f5019f73b49f",
     "grade": false,
     "grade_id": "cell-c953543a0dff5a9e",
     "locked": true,
     "schema_version": 3,
     "solution": false,
     "task": false
    }
   },
   "source": [
    "# Treating Missing Values"
   ]
  },
  {
   "cell_type": "code",
   "execution_count": 18,
   "id": "98cb61e6",
   "metadata": {
    "deletable": false,
    "editable": false,
    "nbgrader": {
     "cell_type": "code",
     "checksum": "6ceaf77c233a3f5f81f127fc01eba9ea",
     "grade": false,
     "grade_id": "cell-e806dbee85d9c394",
     "locked": true,
     "schema_version": 3,
     "solution": false,
     "task": false
    }
   },
   "outputs": [
    {
     "data": {
      "text/plain": [
       "Age                   0\n",
       "BMI                 543\n",
       "Blood_Pressure      543\n",
       "Cholesterol           0\n",
       "Glucose_Level       543\n",
       "Heart_Rate            0\n",
       "Sleep_Hours           0\n",
       "Exercise_Hours        0\n",
       "Water_Intake          0\n",
       "Stress_Level          0\n",
       "Target                0\n",
       "Smoking               0\n",
       "Alcohol               0\n",
       "Diet                  0\n",
       "MentalHealth          0\n",
       "PhysicalActivity      0\n",
       "MedicalHistory        0\n",
       "Allergies             0\n",
       "Diet_Type             0\n",
       "Blood_Group           0\n",
       "dtype: int64"
      ]
     },
     "execution_count": 18,
     "metadata": {},
     "output_type": "execute_result"
    }
   ],
   "source": [
    "#check missing values\n",
    "df.isnull().sum()"
   ]
  },
  {
   "cell_type": "markdown",
   "id": "cd0e7549",
   "metadata": {
    "deletable": false,
    "editable": false,
    "nbgrader": {
     "cell_type": "markdown",
     "checksum": "f7772f19195da7da61a4a99156ea991b",
     "grade": false,
     "grade_id": "cell-3ac0c79eb47ecfd3",
     "locked": true,
     "schema_version": 3,
     "solution": false,
     "task": false
    }
   },
   "source": [
    "There are 3 variables with missing values. Let us fill these variables with the median of these variables. Let's create a list with the name of these columns."
   ]
  },
  {
   "cell_type": "code",
   "execution_count": 19,
   "id": "dfd66f21",
   "metadata": {
    "deletable": false,
    "editable": false,
    "nbgrader": {
     "cell_type": "code",
     "checksum": "d7301db422c394db75795fc50b0ffbef",
     "grade": false,
     "grade_id": "cell-c5d07be5b319db7b",
     "locked": true,
     "schema_version": 3,
     "solution": false,
     "task": false
    }
   },
   "outputs": [],
   "source": [
    "#list of columns to fill with the median value within each SKU_ID group\n",
    "columns_to_fill_with_median = ['BMI', 'Blood_Pressure', 'Glucose_Level']"
   ]
  },
  {
   "cell_type": "markdown",
   "id": "3847c3ba",
   "metadata": {
    "deletable": false,
    "editable": false,
    "nbgrader": {
     "cell_type": "markdown",
     "checksum": "32496fab91f775669f156f7f232aab4c",
     "grade": false,
     "grade_id": "cell-4aa11faf422bc6ef",
     "locked": true,
     "schema_version": 3,
     "solution": false,
     "task": false
    }
   },
   "source": [
    "We can create a for loop that loops over the columns the 'columns_to_fill_with_median' list. And within the for loop use lambda function to fill all the columns with median."
   ]
  },
  {
   "cell_type": "code",
   "execution_count": 20,
   "id": "e0d5e52a",
   "metadata": {
    "deletable": false,
    "nbgrader": {
     "cell_type": "code",
     "checksum": "5d7226ee4182d26716317b88b1e33f89",
     "grade": false,
     "grade_id": "cell-e9f139ac2b664e7d",
     "locked": false,
     "schema_version": 3,
     "solution": true,
     "task": false
    }
   },
   "outputs": [],
   "source": [
    "#compute the median for each column and fill NA values with that median\n",
    "# Write your code below\n",
    "# your code here\n",
    "for column in columns_to_fill_with_median:\n",
    "    median_value = df[column].median()\n",
    "    df[column].fillna(median_value, inplace=True)"
   ]
  },
  {
   "cell_type": "code",
   "execution_count": 21,
   "id": "00a3358b",
   "metadata": {
    "deletable": false,
    "editable": false,
    "nbgrader": {
     "cell_type": "code",
     "checksum": "7f9e6ced7370598e4c8b2721239b62ad",
     "grade": true,
     "grade_id": "cell-1a9dc189069f26f1",
     "locked": true,
     "points": 6,
     "schema_version": 3,
     "solution": false,
     "task": false
    }
   },
   "outputs": [],
   "source": [
    "assert len(df[df.BMI.isna()]) == 0, 'The column \"BMI\" still has missing values, make sure to impute them properly with the median values'\n",
    "assert len(df[df.Blood_Pressure.isna()]) == 0, 'The column \"Blood_Pressure\" still has missing values, make sure to impute them properly with the median values'\n",
    "assert len(df[df.Glucose_Level.isna()]) == 0, 'The column \"Glucose_Level\" still has missing values, make sure to impute them properly with the median values'"
   ]
  },
  {
   "cell_type": "markdown",
   "id": "7cef9c8e",
   "metadata": {
    "deletable": false,
    "editable": false,
    "nbgrader": {
     "cell_type": "markdown",
     "checksum": "7f074ff243153b52e92c0c016d0e8d26",
     "grade": false,
     "grade_id": "cell-216a530647dda89a",
     "locked": true,
     "schema_version": 3,
     "solution": false,
     "task": false
    }
   },
   "source": [
    "Then let us check the missing values again."
   ]
  },
  {
   "cell_type": "code",
   "execution_count": 22,
   "id": "f50717d1",
   "metadata": {
    "deletable": false,
    "editable": false,
    "nbgrader": {
     "cell_type": "code",
     "checksum": "ca8dc5a95c7d63c04e6b6b333bfd5984",
     "grade": false,
     "grade_id": "cell-c48ddba535ff7f8d",
     "locked": true,
     "schema_version": 3,
     "solution": false,
     "task": false
    }
   },
   "outputs": [
    {
     "data": {
      "text/plain": [
       "Age                 0\n",
       "BMI                 0\n",
       "Blood_Pressure      0\n",
       "Cholesterol         0\n",
       "Glucose_Level       0\n",
       "Heart_Rate          0\n",
       "Sleep_Hours         0\n",
       "Exercise_Hours      0\n",
       "Water_Intake        0\n",
       "Stress_Level        0\n",
       "Target              0\n",
       "Smoking             0\n",
       "Alcohol             0\n",
       "Diet                0\n",
       "MentalHealth        0\n",
       "PhysicalActivity    0\n",
       "MedicalHistory      0\n",
       "Allergies           0\n",
       "Diet_Type           0\n",
       "Blood_Group         0\n",
       "dtype: int64"
      ]
     },
     "execution_count": 22,
     "metadata": {},
     "output_type": "execute_result"
    }
   ],
   "source": [
    "#check missing values\n",
    "df.isnull().sum()"
   ]
  },
  {
   "cell_type": "markdown",
   "id": "fc77f189",
   "metadata": {
    "deletable": false,
    "editable": false,
    "nbgrader": {
     "cell_type": "markdown",
     "checksum": "43b907424c2d351ea6835fcdc3894ea8",
     "grade": false,
     "grade_id": "cell-45b840925724e267",
     "locked": true,
     "schema_version": 3,
     "solution": false,
     "task": false
    }
   },
   "source": [
    "# One Hot Encoding"
   ]
  },
  {
   "cell_type": "markdown",
   "id": "5c976e57",
   "metadata": {
    "deletable": false,
    "editable": false,
    "nbgrader": {
     "cell_type": "markdown",
     "checksum": "41c63c04a793d2354402e4bf1fb86a1d",
     "grade": false,
     "grade_id": "cell-4698e05359c688e9",
     "locked": true,
     "schema_version": 3,
     "solution": false,
     "task": false
    }
   },
   "source": [
    "Now let us check the values in the categorical columns - 'Diet_Type', and 'Blood_Group'."
   ]
  },
  {
   "cell_type": "code",
   "execution_count": 23,
   "id": "ba0c1069",
   "metadata": {
    "deletable": false,
    "editable": false,
    "nbgrader": {
     "cell_type": "code",
     "checksum": "c18945d6610b2b5cd105e99ac6d730f8",
     "grade": false,
     "grade_id": "cell-10e7226f1b61c1d3",
     "locked": true,
     "schema_version": 3,
     "solution": false,
     "task": false
    }
   },
   "outputs": [
    {
     "data": {
      "text/plain": [
       "array(['Vegetarian', 'Non-Vegetarian', 'Vegan'], dtype=object)"
      ]
     },
     "execution_count": 23,
     "metadata": {},
     "output_type": "execute_result"
    }
   ],
   "source": [
    "# Check unique values in Diet_Type Column\n",
    "df.Diet_Type.unique()"
   ]
  },
  {
   "cell_type": "code",
   "execution_count": 24,
   "id": "30ef26ec",
   "metadata": {
    "deletable": false,
    "editable": false,
    "nbgrader": {
     "cell_type": "code",
     "checksum": "dba009dff7988539786b8d4b6a6957f9",
     "grade": false,
     "grade_id": "cell-3276cc00ad3adfdd",
     "locked": true,
     "schema_version": 3,
     "solution": false,
     "task": false
    }
   },
   "outputs": [
    {
     "data": {
      "text/plain": [
       "array(['AB', 'A', 'B', 'O'], dtype=object)"
      ]
     },
     "execution_count": 24,
     "metadata": {},
     "output_type": "execute_result"
    }
   ],
   "source": [
    "# Check unique values in Blood_Group Column\n",
    "df.Blood_Group.unique()"
   ]
  },
  {
   "cell_type": "markdown",
   "id": "35af6d82",
   "metadata": {
    "deletable": false,
    "editable": false,
    "nbgrader": {
     "cell_type": "markdown",
     "checksum": "e2e98204dfb71600852e5bbe6ae85e3c",
     "grade": false,
     "grade_id": "cell-0b68df824476145a",
     "locked": true,
     "schema_version": 3,
     "solution": false,
     "task": false
    }
   },
   "source": [
    "Let's perform one-hot encoding. We will add both the column names - ['Diet_Type','Blood_Group'] insurrin the columns argument and use the same as prefix in the prefix argument enclosed in a square bracket. Make sure the drop_first argument is true. This will delete the variable original 2 variales after encoding. Make sure that your columns are converted to numeric and make sure to add prefix 'Diet_Type' and 'Blood_Group' in the respective columns"
   ]
  },
  {
   "cell_type": "code",
   "execution_count": 25,
   "id": "63f5a69d-fab0-43b1-8985-9a03e6a5937a",
   "metadata": {},
   "outputs": [],
   "source": [
    "df['Diet_Type'] = df['Diet_Type'].astype('category')"
   ]
  },
  {
   "cell_type": "code",
   "execution_count": 26,
   "id": "20d47bc7-8cfd-47be-a061-b91fe449442e",
   "metadata": {},
   "outputs": [],
   "source": [
    "df['Blood_Group'] = df['Blood_Group'].astype('category')"
   ]
  },
  {
   "cell_type": "code",
   "execution_count": 27,
   "id": "5e3e7cf5",
   "metadata": {
    "deletable": false,
    "nbgrader": {
     "cell_type": "code",
     "checksum": "85b17ce75104f22223860d210a694984",
     "grade": false,
     "grade_id": "cell-00965c86ff566358",
     "locked": false,
     "schema_version": 3,
     "solution": true,
     "task": false
    }
   },
   "outputs": [],
   "source": [
    "# One Hot Encoding\n",
    "# Write your code below\n",
    "# your code here\n",
    "\n",
    "df = pd.get_dummies(df, columns=[\"Diet_Type\",\"Blood_Group\"], prefix=[\"Diet_Type\",\"Blood_Group\"], drop_first=True)"
   ]
  },
  {
   "cell_type": "markdown",
   "id": "f139a65f",
   "metadata": {},
   "source": [
    "The column names after OHE should be Diet_Type_Vegan, Diet_Type_Vegetarian, Blood_Group_AB, Blood_Group_B, Blood_Group_O"
   ]
  },
  {
   "cell_type": "code",
   "execution_count": null,
   "id": "baa160ec",
   "metadata": {
    "deletable": false,
    "editable": false,
    "nbgrader": {
     "cell_type": "code",
     "checksum": "ca7aa0e17d83f689de39edca3d7b0797",
     "grade": true,
     "grade_id": "cell-d15e3980c02f39aa",
     "locked": true,
     "points": 2,
     "schema_version": 3,
     "solution": false,
     "task": false
    }
   },
   "outputs": [],
   "source": []
  },
  {
   "cell_type": "code",
   "execution_count": 28,
   "id": "ebc8f064",
   "metadata": {
    "deletable": false,
    "editable": false,
    "nbgrader": {
     "cell_type": "code",
     "checksum": "4d9ba6c87184602d6a73d34966cd94a6",
     "grade": false,
     "grade_id": "cell-48b83f2ad701f337",
     "locked": true,
     "schema_version": 3,
     "solution": false,
     "task": false
    }
   },
   "outputs": [
    {
     "data": {
      "text/html": [
       "<div>\n",
       "<style scoped>\n",
       "    .dataframe tbody tr th:only-of-type {\n",
       "        vertical-align: middle;\n",
       "    }\n",
       "\n",
       "    .dataframe tbody tr th {\n",
       "        vertical-align: top;\n",
       "    }\n",
       "\n",
       "    .dataframe thead th {\n",
       "        text-align: right;\n",
       "    }\n",
       "</style>\n",
       "<table border=\"1\" class=\"dataframe\">\n",
       "  <thead>\n",
       "    <tr style=\"text-align: right;\">\n",
       "      <th></th>\n",
       "      <th>Age</th>\n",
       "      <th>BMI</th>\n",
       "      <th>Blood_Pressure</th>\n",
       "      <th>Cholesterol</th>\n",
       "      <th>Glucose_Level</th>\n",
       "      <th>Heart_Rate</th>\n",
       "      <th>Sleep_Hours</th>\n",
       "      <th>Exercise_Hours</th>\n",
       "      <th>Water_Intake</th>\n",
       "      <th>Stress_Level</th>\n",
       "      <th>...</th>\n",
       "      <th>Diet</th>\n",
       "      <th>MentalHealth</th>\n",
       "      <th>PhysicalActivity</th>\n",
       "      <th>MedicalHistory</th>\n",
       "      <th>Allergies</th>\n",
       "      <th>Diet_Type_Vegan</th>\n",
       "      <th>Diet_Type_Vegetarian</th>\n",
       "      <th>Blood_Group_AB</th>\n",
       "      <th>Blood_Group_B</th>\n",
       "      <th>Blood_Group_O</th>\n",
       "    </tr>\n",
       "  </thead>\n",
       "  <tbody>\n",
       "    <tr>\n",
       "      <th>0</th>\n",
       "      <td>23.7636</td>\n",
       "      <td>26.0</td>\n",
       "      <td>111.0</td>\n",
       "      <td>198.0</td>\n",
       "      <td>99.0</td>\n",
       "      <td>72.0</td>\n",
       "      <td>4.0</td>\n",
       "      <td>0.0</td>\n",
       "      <td>5.0</td>\n",
       "      <td>5.0</td>\n",
       "      <td>...</td>\n",
       "      <td>1</td>\n",
       "      <td>2</td>\n",
       "      <td>1</td>\n",
       "      <td>0</td>\n",
       "      <td>1</td>\n",
       "      <td>0</td>\n",
       "      <td>1</td>\n",
       "      <td>1</td>\n",
       "      <td>0</td>\n",
       "      <td>0</td>\n",
       "    </tr>\n",
       "    <tr>\n",
       "      <th>1</th>\n",
       "      <td>23.7636</td>\n",
       "      <td>24.0</td>\n",
       "      <td>121.0</td>\n",
       "      <td>199.0</td>\n",
       "      <td>103.0</td>\n",
       "      <td>75.0</td>\n",
       "      <td>2.0</td>\n",
       "      <td>1.0</td>\n",
       "      <td>2.0</td>\n",
       "      <td>9.0</td>\n",
       "      <td>...</td>\n",
       "      <td>1</td>\n",
       "      <td>2</td>\n",
       "      <td>1</td>\n",
       "      <td>2</td>\n",
       "      <td>2</td>\n",
       "      <td>0</td>\n",
       "      <td>0</td>\n",
       "      <td>1</td>\n",
       "      <td>0</td>\n",
       "      <td>0</td>\n",
       "    </tr>\n",
       "    <tr>\n",
       "      <th>2</th>\n",
       "      <td>81.0000</td>\n",
       "      <td>27.0</td>\n",
       "      <td>147.0</td>\n",
       "      <td>203.0</td>\n",
       "      <td>100.0</td>\n",
       "      <td>74.0</td>\n",
       "      <td>10.0</td>\n",
       "      <td>-0.0</td>\n",
       "      <td>5.0</td>\n",
       "      <td>1.0</td>\n",
       "      <td>...</td>\n",
       "      <td>2</td>\n",
       "      <td>0</td>\n",
       "      <td>0</td>\n",
       "      <td>1</td>\n",
       "      <td>0</td>\n",
       "      <td>1</td>\n",
       "      <td>0</td>\n",
       "      <td>0</td>\n",
       "      <td>0</td>\n",
       "      <td>0</td>\n",
       "    </tr>\n",
       "    <tr>\n",
       "      <th>3</th>\n",
       "      <td>25.0000</td>\n",
       "      <td>21.0</td>\n",
       "      <td>150.0</td>\n",
       "      <td>199.0</td>\n",
       "      <td>102.0</td>\n",
       "      <td>70.0</td>\n",
       "      <td>7.0</td>\n",
       "      <td>3.0</td>\n",
       "      <td>3.0</td>\n",
       "      <td>3.0</td>\n",
       "      <td>...</td>\n",
       "      <td>1</td>\n",
       "      <td>2</td>\n",
       "      <td>1</td>\n",
       "      <td>2</td>\n",
       "      <td>0</td>\n",
       "      <td>1</td>\n",
       "      <td>0</td>\n",
       "      <td>0</td>\n",
       "      <td>1</td>\n",
       "      <td>0</td>\n",
       "    </tr>\n",
       "    <tr>\n",
       "      <th>4</th>\n",
       "      <td>24.0000</td>\n",
       "      <td>26.0</td>\n",
       "      <td>146.0</td>\n",
       "      <td>202.0</td>\n",
       "      <td>99.0</td>\n",
       "      <td>76.0</td>\n",
       "      <td>10.0</td>\n",
       "      <td>0.0</td>\n",
       "      <td>5.0</td>\n",
       "      <td>1.0</td>\n",
       "      <td>...</td>\n",
       "      <td>2</td>\n",
       "      <td>0</td>\n",
       "      <td>2</td>\n",
       "      <td>0</td>\n",
       "      <td>2</td>\n",
       "      <td>0</td>\n",
       "      <td>1</td>\n",
       "      <td>0</td>\n",
       "      <td>1</td>\n",
       "      <td>0</td>\n",
       "    </tr>\n",
       "  </tbody>\n",
       "</table>\n",
       "<p>5 rows × 23 columns</p>\n",
       "</div>"
      ],
      "text/plain": [
       "       Age   BMI  Blood_Pressure  Cholesterol  Glucose_Level  Heart_Rate  \\\n",
       "0  23.7636  26.0           111.0        198.0           99.0        72.0   \n",
       "1  23.7636  24.0           121.0        199.0          103.0        75.0   \n",
       "2  81.0000  27.0           147.0        203.0          100.0        74.0   \n",
       "3  25.0000  21.0           150.0        199.0          102.0        70.0   \n",
       "4  24.0000  26.0           146.0        202.0           99.0        76.0   \n",
       "\n",
       "   Sleep_Hours  Exercise_Hours  Water_Intake  Stress_Level  ...  Diet  \\\n",
       "0          4.0             0.0           5.0           5.0  ...     1   \n",
       "1          2.0             1.0           2.0           9.0  ...     1   \n",
       "2         10.0            -0.0           5.0           1.0  ...     2   \n",
       "3          7.0             3.0           3.0           3.0  ...     1   \n",
       "4         10.0             0.0           5.0           1.0  ...     2   \n",
       "\n",
       "   MentalHealth  PhysicalActivity  MedicalHistory  Allergies  Diet_Type_Vegan  \\\n",
       "0             2                 1               0          1                0   \n",
       "1             2                 1               2          2                0   \n",
       "2             0                 0               1          0                1   \n",
       "3             2                 1               2          0                1   \n",
       "4             0                 2               0          2                0   \n",
       "\n",
       "   Diet_Type_Vegetarian  Blood_Group_AB  Blood_Group_B  Blood_Group_O  \n",
       "0                     1               1              0              0  \n",
       "1                     0               1              0              0  \n",
       "2                     0               0              0              0  \n",
       "3                     0               0              1              0  \n",
       "4                     1               0              1              0  \n",
       "\n",
       "[5 rows x 23 columns]"
      ]
     },
     "execution_count": 28,
     "metadata": {},
     "output_type": "execute_result"
    }
   ],
   "source": [
    "# Check the head\n",
    "df.head()"
   ]
  },
  {
   "cell_type": "code",
   "execution_count": 29,
   "id": "85899417",
   "metadata": {
    "deletable": false,
    "editable": false,
    "nbgrader": {
     "cell_type": "code",
     "checksum": "df5b1f726b6ded3bed11a702c6140b6f",
     "grade": false,
     "grade_id": "cell-5dfbe1b180e7e2a7",
     "locked": true,
     "schema_version": 3,
     "solution": false,
     "task": false
    }
   },
   "outputs": [
    {
     "data": {
      "text/plain": [
       "(10000, 23)"
      ]
     },
     "execution_count": 29,
     "metadata": {},
     "output_type": "execute_result"
    }
   ],
   "source": [
    "df.shape"
   ]
  },
  {
   "cell_type": "markdown",
   "id": "2b2aa2ff",
   "metadata": {
    "deletable": false,
    "editable": false,
    "nbgrader": {
     "cell_type": "markdown",
     "checksum": "9a72b9c5f53c90ccdc4ea85cb5501d5c",
     "grade": false,
     "grade_id": "cell-ff12f71b7614197e",
     "locked": true,
     "schema_version": 3,
     "solution": false,
     "task": false
    }
   },
   "source": [
    "As you can see, we have dummy varibales for both the columns ready."
   ]
  }
 ],
 "metadata": {
  "kernelspec": {
   "display_name": "Python 3 (ipykernel)",
   "language": "python",
   "name": "python3"
  },
  "language_info": {
   "codemirror_mode": {
    "name": "ipython",
    "version": 3
   },
   "file_extension": ".py",
   "mimetype": "text/x-python",
   "name": "python",
   "nbconvert_exporter": "python",
   "pygments_lexer": "ipython3",
   "version": "3.8.18"
  }
 },
 "nbformat": 4,
 "nbformat_minor": 5
}
