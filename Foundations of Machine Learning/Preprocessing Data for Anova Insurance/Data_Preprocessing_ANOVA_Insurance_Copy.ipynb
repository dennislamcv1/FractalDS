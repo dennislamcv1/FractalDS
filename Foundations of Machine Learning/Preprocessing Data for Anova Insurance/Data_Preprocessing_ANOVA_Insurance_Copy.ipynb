{
 "cells": [
  {
   "cell_type": "markdown",
   "id": "b41dfb35",
   "metadata": {
    "deletable": false,
    "editable": false,
    "nbgrader": {
     "cell_type": "markdown",
     "checksum": "f8d8565609b2c41d34e9b74a358850f1",
     "grade": false,
     "grade_id": "cell-5d356e7deff590d9",
     "locked": true,
     "schema_version": 3,
     "solution": false,
     "task": false
    }
   },
   "source": [
    "# Problem Statement\n",
    "Anova Insurance, a global health insurance company, seeks to optimize its insurance policy premium pricing based on the health status of applicants. Understanding an applicant's health condition is crucial for two key decisions:\n",
    "- Determining eligibility for health insurance coverage.\n",
    "- Deciding on premium rates, particularly if the applicant's health indicates higher risks.\n",
    "\n",
    "Your objective is to Develop a predictive model that utilizes health data to classify individuals as 'healthy' or 'unhealthy'. This classification will assist in making informed decisions about insurance policy premium pricing."
   ]
  },
  {
   "cell_type": "markdown",
   "id": "95b63793",
   "metadata": {
    "deletable": false,
    "editable": false,
    "nbgrader": {
     "cell_type": "markdown",
     "checksum": "063092cb50ea8cc7ac3da64e66f63b2b",
     "grade": false,
     "grade_id": "cell-34e36c6f275fe54e",
     "locked": true,
     "schema_version": 3,
     "solution": false,
     "task": false
    }
   },
   "source": [
    "# Dataset Overview\n",
    "The dataset contains 10,000 rows and 20 columns, including both numerical and categorical variables. Some columns have missing values, especially for older individuals, reflecting the scenario where certain health records may not be up-to-date. Here is the data dictionary.\n",
    "\n",
    "- Age: Represents the age of the individual. Negative values seem to be present, which might indicate data entry errors or a specific encoding used for certain age groups.\n",
    "\n",
    "- BMI (Body Mass Index): A measure of body fat based on height and weight. Typically, a BMI between 18.5 and 24.9 is considered normal.\n",
    "\n",
    "- Blood_Pressure: Represents systolic blood pressure. Normal blood pressure is usually around 120/80 mmHg.\n",
    "\n",
    "- Cholesterol: This is the cholesterol level in mg/dL. Desirable levels are usually below 200 mg/dL.\n",
    "\n",
    "- Glucose_Level: Indicates blood glucose levels. It might be fasting glucose levels, with normal levels usually ranging from 70 to 99 mg/dL.\n",
    "\n",
    "- Heart_Rate: The number of heartbeats per minute. Normal resting heart rate for adults ranges from 60 to 100 beats per minute.\n",
    "\n",
    "- Sleep_Hours: The average number of hours the individual sleeps per day.\n",
    "\n",
    "- Exercise_Hours: The average number of hours the individual exercises per day. \n",
    "\n",
    "- Water_Intake: The average daily water intake in liters.\n",
    "\n",
    "- Stress_Level: A numerical representation of stress level.\n",
    "\n",
    "- Smoking: A categorical variable indicating smoking status. Contains values - (0,1,2) which specify the regularity of smoking with 0 being no smoking and 2 being regular smmoking.\n",
    "\n",
    "- Alcohol: A categorical variable indicating alcohol consumption status. Contains values - (0,1,2) which specify the regularity of alcohol consumption with 0 being no consumption quality and 2 being regular consumption.\n",
    "\n",
    "- Diet: A categorical variable indcating the quality of dietary habits. Contains values - (0,1,2) which specify the quality of the habit with 0 being poor diet quality and 2 being good quality.\n",
    "\n",
    "- MentalHealth: Possibly a measure of mental health status. Contains values - (0,1,2) which specify the severity of the mental health with 0 being fine and 2 being highly severe\n",
    "\n",
    "- PhysicalActivity: A categorical variable indicating levels of physical activity. Contains values - (0,1,2) which specify the instensity of the medical history with 0 being no Physical Activity and 2 being regularly active.\n",
    "\n",
    "- MedicalHistory: Indicates the presence of medical conditions or history. Contains values - (0,1,2) which specify the severity of the medical history with 0 being nothing and 2 being highly severe.\n",
    "\n",
    "- Allergies: A categorical variable indicating allergy status. Contains values - (0,1,2) which specify the severity of the allergies with 0 being nothing and 2 being highly severe.\n",
    "\n",
    "- Diet_Type: Categorical variable indicating the type of diet an individual follows. Contains values(Vegetarian, Non-Vegetarian, Vegan).\n",
    "\n",
    "- Blood_Group: Indicates the blood group of the individual Contains values (A, B, AB, O).\n",
    "\n",
    "- Target: This is a binary outcome variable, with '1' indicating 'Unhealthy' and '0' indicating 'Healthy'.\n"
   ]
  },
  {
   "cell_type": "markdown",
   "id": "e4291372",
   "metadata": {
    "deletable": false,
    "editable": false,
    "nbgrader": {
     "cell_type": "markdown",
     "checksum": "90697da314adb2e35dc49c94f5a9d46a",
     "grade": false,
     "grade_id": "cell-a1688ac04961ed8d",
     "locked": true,
     "schema_version": 3,
     "solution": false,
     "task": false
    }
   },
   "source": [
    "It is clear from the above description that the predictor variable is the 'Target' column."
   ]
  },
  {
   "cell_type": "markdown",
   "id": "6083eb3a",
   "metadata": {
    "deletable": false,
    "editable": false,
    "nbgrader": {
     "cell_type": "markdown",
     "checksum": "64254f8e34a098a128f32768d7b7f2ef",
     "grade": false,
     "grade_id": "cell-1e2551d876618ec7",
     "locked": true,
     "schema_version": 3,
     "solution": false,
     "task": false
    }
   },
   "source": [
    "Let us begin with importing the necessary libraries. And read the data."
   ]
  },
  {
   "cell_type": "code",
   "execution_count": null,
   "id": "8e74814e",
   "metadata": {
    "deletable": false,
    "editable": false,
    "nbgrader": {
     "cell_type": "code",
     "checksum": "7fa14acbcae2694e4871ee687204471d",
     "grade": false,
     "grade_id": "cell-4c83ddbad934fa24",
     "locked": true,
     "schema_version": 3,
     "solution": false,
     "task": false
    }
   },
   "outputs": [],
   "source": [
    "# Necessary library imports for data processing and KNN\n",
    "import pandas as pd\n",
    "import numpy as np\n",
    "import matplotlib.pyplot as plt\n",
    "from sklearn.model_selection import train_test_split\n",
    "from sklearn.preprocessing import StandardScaler\n",
    "from sklearn.impute import SimpleImputer\n",
    "from sklearn.neighbors import KNeighborsClassifier\n",
    "from sklearn.metrics import classification_report, f1_score"
   ]
  },
  {
   "cell_type": "code",
   "execution_count": null,
   "id": "20985cd2",
   "metadata": {
    "deletable": false,
    "editable": false,
    "nbgrader": {
     "cell_type": "code",
     "checksum": "79bd9c619abe72837bdc61f9fe006f62",
     "grade": false,
     "grade_id": "cell-5e0be4c3397e80ff",
     "locked": true,
     "schema_version": 3,
     "solution": false,
     "task": false
    }
   },
   "outputs": [],
   "source": [
    "# Load the dataset\n",
    "df = pd.read_csv('Healthcare_Dataset.csv')\n",
    "df.head()"
   ]
  },
  {
   "cell_type": "code",
   "execution_count": null,
   "id": "861c52b3",
   "metadata": {
    "deletable": false,
    "editable": false,
    "nbgrader": {
     "cell_type": "code",
     "checksum": "3e4e568601203742b54e6e99dd4690a6",
     "grade": false,
     "grade_id": "cell-44e2f2370defccf9",
     "locked": true,
     "schema_version": 3,
     "solution": false,
     "task": false
    }
   },
   "outputs": [],
   "source": [
    "# Shape of the data\n",
    "df.shape"
   ]
  },
  {
   "cell_type": "markdown",
   "id": "7e535ad8",
   "metadata": {
    "deletable": false,
    "editable": false,
    "nbgrader": {
     "cell_type": "markdown",
     "checksum": "e51768b9d47f6d46a52722c0bde9ff5b",
     "grade": false,
     "grade_id": "cell-3d3bf447396281a3",
     "locked": true,
     "schema_version": 3,
     "solution": false,
     "task": false
    }
   },
   "source": [
    "Now, let us describe the numerical functions of the data."
   ]
  },
  {
   "cell_type": "code",
   "execution_count": null,
   "id": "d3ee8571",
   "metadata": {
    "deletable": false,
    "editable": false,
    "nbgrader": {
     "cell_type": "code",
     "checksum": "5bfd9990160f5917c44b0901199a5542",
     "grade": false,
     "grade_id": "cell-55b2a2afc8264173",
     "locked": true,
     "schema_version": 3,
     "solution": false,
     "task": false
    }
   },
   "outputs": [],
   "source": [
    "# Get the description for numerical data\n",
    "df.describe()"
   ]
  },
  {
   "cell_type": "code",
   "execution_count": null,
   "id": "dc5fe2b4",
   "metadata": {
    "deletable": false,
    "editable": false,
    "nbgrader": {
     "cell_type": "code",
     "checksum": "021b6278f7265ab8e29f8774b195511f",
     "grade": false,
     "grade_id": "cell-ce2887c35635ae07",
     "locked": true,
     "schema_version": 3,
     "solution": false,
     "task": false
    }
   },
   "outputs": [],
   "source": [
    "#get the description of the categorical variable\n",
    "df.describe(include='O')"
   ]
  },
  {
   "cell_type": "markdown",
   "id": "f2f486a6",
   "metadata": {
    "deletable": false,
    "editable": false,
    "nbgrader": {
     "cell_type": "markdown",
     "checksum": "991d69e576cb964a86b9e6c0bbf3ae72",
     "grade": false,
     "grade_id": "cell-b399d33deb99bc0f",
     "locked": true,
     "schema_version": 3,
     "solution": false,
     "task": false
    }
   },
   "source": [
    "# Observations\n",
    "There are 3 major observations here-\n",
    "- The age column has minimum and maximum values of negative 128 and positive 201 respectively which is not possible.\n",
    "- We can see that 5 variables- Age, Sleep_Hours, Exercise_Hours, Water_Intake, Stress_Level have negative values which is not possible logically.\n",
    "- We have 2 categorical variables- Diet_Type, and Blood Group for which we must perform one-hot encoding on"
   ]
  },
  {
   "cell_type": "markdown",
   "id": "6f88da47",
   "metadata": {
    "deletable": false,
    "editable": false,
    "nbgrader": {
     "cell_type": "markdown",
     "checksum": "6483e702b133630ef6dff496a2d8303a",
     "grade": false,
     "grade_id": "cell-7a9dfae6b03def19",
     "locked": true,
     "schema_version": 3,
     "solution": false,
     "task": false
    }
   },
   "source": [
    "Let us begin with converting negative values in the 5 variables- Age, Sleep_Hours, Exercise_Hours, Water_Intake, Stress_Level into a positive one. For this we have the following methods-\n",
    "- Individually convert the negative values with their positive values. Possible methods can be:\n",
    " 1. Replace negative values with central value of the respective columns like mean/ median\n",
    " 2. Replace negative value with central value based on other columns like sleep hours, blood pressure or others\n",
    "\n",
    "Or, you can choose any other method to treat the negative values in these 5 columns."
   ]
  },
  {
   "cell_type": "code",
   "execution_count": null,
   "id": "71ea5791",
   "metadata": {
    "deletable": false,
    "nbgrader": {
     "cell_type": "code",
     "checksum": "f66499181f8ff45fec4aeaa8af572a5f",
     "grade": false,
     "grade_id": "cell-4de8026c55d82da8",
     "locked": false,
     "schema_version": 3,
     "solution": true,
     "task": false
    }
   },
   "outputs": [],
   "source": [
    "# Replace all the negative values in these 5 columns with the mean of the positive values from the respective columns.\n",
    "# Write your code below here\n",
    "# your code here\n",
    "raise NotImplementedError"
   ]
  },
  {
   "cell_type": "code",
   "execution_count": null,
   "id": "ae185589",
   "metadata": {
    "deletable": false,
    "editable": false,
    "nbgrader": {
     "cell_type": "code",
     "checksum": "e3ebf68bcc6c2ee0f30a3f6d9f7b31af",
     "grade": true,
     "grade_id": "cell-d29ad566f49cd313",
     "locked": true,
     "points": 5,
     "schema_version": 3,
     "solution": false,
     "task": false
    }
   },
   "outputs": [],
   "source": [
    "assert len(df[df['Age'] <0]) == 0, 'Make sure to make all the values in the \"Age\" variable as +ve'\n",
    "assert len(df[df['Sleep_Hours'] <0]) == 0, 'Make sure to make all the values in the \"Sleep_Hours\" variable as +ve'\n",
    "assert len(df[df['Exercise_Hours'] <0]) == 0, 'Make sure to make all the values in the \"Exercise_Hours\" variable as +ve'\n",
    "assert len(df[df['Water_Intake'] <0]) == 0, 'Make sure to make all the values in the \"Water_Intake\" variable as +ve'\n",
    "assert len(df[df['Stress_Level'] <0]) == 0, 'Make sure to make all the values in the \"Stress_Level\" variable as +ve'"
   ]
  },
  {
   "cell_type": "markdown",
   "id": "5c9b5d54",
   "metadata": {
    "deletable": false,
    "editable": false,
    "nbgrader": {
     "cell_type": "markdown",
     "checksum": "a5ea5ac30984bb6ae1608b3e5a5ecb44",
     "grade": false,
     "grade_id": "cell-fd79b07bff937156",
     "locked": true,
     "schema_version": 3,
     "solution": false,
     "task": false
    }
   },
   "source": [
    "Now, let us treat the age column.\n",
    "\n",
    "Since Anova is a newly etablished health insurance company, they are very strict as to who will be eligible for a health insurance. And the management takes the call that any person above the age of 100 will not be issued an insurance. Also, this will helps us eliminate age values that are absurdly high(which may most probably be incorrect entries). First let's check how many observations are there where Age>100"
   ]
  },
  {
   "cell_type": "code",
   "execution_count": null,
   "id": "aa5ddb54",
   "metadata": {
    "deletable": false,
    "editable": false,
    "nbgrader": {
     "cell_type": "code",
     "checksum": "0da46a783857a57c1fd0cedc3883a9db",
     "grade": false,
     "grade_id": "cell-71208c84244608ab",
     "locked": true,
     "schema_version": 3,
     "solution": false,
     "task": false
    }
   },
   "outputs": [],
   "source": [
    "# Check the number of observations in dataset with 'Age' values greater than 100\n",
    "len(df[df['Age']>100])"
   ]
  },
  {
   "cell_type": "markdown",
   "id": "f7b2da7c",
   "metadata": {
    "deletable": false,
    "editable": false,
    "nbgrader": {
     "cell_type": "markdown",
     "checksum": "3739f1fad84d660cdd369c0d23e0f6dd",
     "grade": false,
     "grade_id": "cell-907065c5c284a7b0",
     "locked": true,
     "schema_version": 3,
     "solution": false,
     "task": false
    }
   },
   "source": [
    "Since Anova is a newly established Health insurance provider, they do not want to charge all people with 'Age' greater than 100 years, the same amount of premium. Being a new company, data is critical to them and deleting such rows won't make sense. Instead let us set the values above 100 in the Age column to 100."
   ]
  },
  {
   "cell_type": "code",
   "execution_count": null,
   "id": "1a083b8f",
   "metadata": {
    "deletable": false,
    "nbgrader": {
     "cell_type": "code",
     "checksum": "8f9f38a89ff00252824c397cca37143b",
     "grade": false,
     "grade_id": "cell-0fd0c63f98238375",
     "locked": false,
     "schema_version": 3,
     "solution": true,
     "task": false
    }
   },
   "outputs": [],
   "source": [
    "# Replacing values greater than 100 with 100 in the Age column\n",
    "# Write your code below\n",
    "# your code here\n",
    "raise NotImplementedError"
   ]
  },
  {
   "cell_type": "code",
   "execution_count": null,
   "id": "395b37c3",
   "metadata": {
    "deletable": false,
    "editable": false,
    "nbgrader": {
     "cell_type": "code",
     "checksum": "fcf94b90020e7d67708c9928a92a1fc5",
     "grade": true,
     "grade_id": "cell-3b9b36936a53767a",
     "locked": true,
     "points": 2,
     "schema_version": 3,
     "solution": false,
     "task": false
    }
   },
   "outputs": [],
   "source": [
    "assert len(df[df['Age'] > 100]) == 0, 'The \"Age\" variable still has values greater than 100. Make sure to select only those records that have \"Age\" values <= 100'"
   ]
  },
  {
   "cell_type": "code",
   "execution_count": null,
   "id": "0cab1777",
   "metadata": {},
   "outputs": [],
   "source": [
    "df.shape"
   ]
  },
  {
   "cell_type": "markdown",
   "id": "85adf216",
   "metadata": {
    "deletable": false,
    "editable": false,
    "nbgrader": {
     "cell_type": "markdown",
     "checksum": "ad093507faa2580a5e904033cc590cb2",
     "grade": false,
     "grade_id": "cell-0f05bc6191fb18ef",
     "locked": true,
     "schema_version": 3,
     "solution": false,
     "task": false
    }
   },
   "source": [
    "Now let us treat the missing values."
   ]
  },
  {
   "cell_type": "markdown",
   "id": "0defcf95",
   "metadata": {
    "deletable": false,
    "editable": false,
    "nbgrader": {
     "cell_type": "markdown",
     "checksum": "32ad772a978310350528f5019f73b49f",
     "grade": false,
     "grade_id": "cell-c953543a0dff5a9e",
     "locked": true,
     "schema_version": 3,
     "solution": false,
     "task": false
    }
   },
   "source": [
    "# Treating Missing Values"
   ]
  },
  {
   "cell_type": "code",
   "execution_count": null,
   "id": "98cb61e6",
   "metadata": {
    "deletable": false,
    "editable": false,
    "nbgrader": {
     "cell_type": "code",
     "checksum": "6ceaf77c233a3f5f81f127fc01eba9ea",
     "grade": false,
     "grade_id": "cell-e806dbee85d9c394",
     "locked": true,
     "schema_version": 3,
     "solution": false,
     "task": false
    }
   },
   "outputs": [],
   "source": [
    "#check missing values\n",
    "df.isnull().sum()"
   ]
  },
  {
   "cell_type": "markdown",
   "id": "cd0e7549",
   "metadata": {
    "deletable": false,
    "editable": false,
    "nbgrader": {
     "cell_type": "markdown",
     "checksum": "f7772f19195da7da61a4a99156ea991b",
     "grade": false,
     "grade_id": "cell-3ac0c79eb47ecfd3",
     "locked": true,
     "schema_version": 3,
     "solution": false,
     "task": false
    }
   },
   "source": [
    "There are 3 variables with missing values. Let us fill these variables with the median of these variables. Let's create a list with the name of these columns."
   ]
  },
  {
   "cell_type": "code",
   "execution_count": null,
   "id": "dfd66f21",
   "metadata": {
    "deletable": false,
    "editable": false,
    "nbgrader": {
     "cell_type": "code",
     "checksum": "d7301db422c394db75795fc50b0ffbef",
     "grade": false,
     "grade_id": "cell-c5d07be5b319db7b",
     "locked": true,
     "schema_version": 3,
     "solution": false,
     "task": false
    }
   },
   "outputs": [],
   "source": [
    "#list of columns to fill with the median value within each SKU_ID group\n",
    "columns_to_fill_with_median = ['BMI', 'Blood_Pressure', 'Glucose_Level']"
   ]
  },
  {
   "cell_type": "markdown",
   "id": "3847c3ba",
   "metadata": {
    "deletable": false,
    "editable": false,
    "nbgrader": {
     "cell_type": "markdown",
     "checksum": "32496fab91f775669f156f7f232aab4c",
     "grade": false,
     "grade_id": "cell-4aa11faf422bc6ef",
     "locked": true,
     "schema_version": 3,
     "solution": false,
     "task": false
    }
   },
   "source": [
    "We can create a for loop that loops over the columns the 'columns_to_fill_with_median' list. And within the for loop use lambda function to fill all the columns with median."
   ]
  },
  {
   "cell_type": "code",
   "execution_count": null,
   "id": "e0d5e52a",
   "metadata": {
    "deletable": false,
    "nbgrader": {
     "cell_type": "code",
     "checksum": "5d7226ee4182d26716317b88b1e33f89",
     "grade": false,
     "grade_id": "cell-e9f139ac2b664e7d",
     "locked": false,
     "schema_version": 3,
     "solution": true,
     "task": false
    }
   },
   "outputs": [],
   "source": [
    "#compute the median for each column and fill NA values with that median\n",
    "# Write your code below\n",
    "# your code here\n",
    "raise NotImplementedError"
   ]
  },
  {
   "cell_type": "code",
   "execution_count": null,
   "id": "00a3358b",
   "metadata": {
    "deletable": false,
    "editable": false,
    "nbgrader": {
     "cell_type": "code",
     "checksum": "7f9e6ced7370598e4c8b2721239b62ad",
     "grade": true,
     "grade_id": "cell-1a9dc189069f26f1",
     "locked": true,
     "points": 6,
     "schema_version": 3,
     "solution": false,
     "task": false
    }
   },
   "outputs": [],
   "source": [
    "assert len(df[df.BMI.isna()]) == 0, 'The column \"BMI\" still has missing values, make sure to impute them properly with the median values'\n",
    "assert len(df[df.Blood_Pressure.isna()]) == 0, 'The column \"Blood_Pressure\" still has missing values, make sure to impute them properly with the median values'\n",
    "assert len(df[df.Glucose_Level.isna()]) == 0, 'The column \"Glucose_Level\" still has missing values, make sure to impute them properly with the median values'"
   ]
  },
  {
   "cell_type": "markdown",
   "id": "7cef9c8e",
   "metadata": {
    "deletable": false,
    "editable": false,
    "nbgrader": {
     "cell_type": "markdown",
     "checksum": "7f074ff243153b52e92c0c016d0e8d26",
     "grade": false,
     "grade_id": "cell-216a530647dda89a",
     "locked": true,
     "schema_version": 3,
     "solution": false,
     "task": false
    }
   },
   "source": [
    "Then let us check the missing values again."
   ]
  },
  {
   "cell_type": "code",
   "execution_count": null,
   "id": "f50717d1",
   "metadata": {
    "deletable": false,
    "editable": false,
    "nbgrader": {
     "cell_type": "code",
     "checksum": "ca8dc5a95c7d63c04e6b6b333bfd5984",
     "grade": false,
     "grade_id": "cell-c48ddba535ff7f8d",
     "locked": true,
     "schema_version": 3,
     "solution": false,
     "task": false
    }
   },
   "outputs": [],
   "source": [
    "#check missing values\n",
    "df.isnull().sum()"
   ]
  },
  {
   "cell_type": "markdown",
   "id": "fc77f189",
   "metadata": {
    "deletable": false,
    "editable": false,
    "nbgrader": {
     "cell_type": "markdown",
     "checksum": "43b907424c2d351ea6835fcdc3894ea8",
     "grade": false,
     "grade_id": "cell-45b840925724e267",
     "locked": true,
     "schema_version": 3,
     "solution": false,
     "task": false
    }
   },
   "source": [
    "# One Hot Encoding"
   ]
  },
  {
   "cell_type": "markdown",
   "id": "5c976e57",
   "metadata": {
    "deletable": false,
    "editable": false,
    "nbgrader": {
     "cell_type": "markdown",
     "checksum": "41c63c04a793d2354402e4bf1fb86a1d",
     "grade": false,
     "grade_id": "cell-4698e05359c688e9",
     "locked": true,
     "schema_version": 3,
     "solution": false,
     "task": false
    }
   },
   "source": [
    "Now let us check the values in the categorical columns - 'Diet_Type', and 'Blood_Group'."
   ]
  },
  {
   "cell_type": "code",
   "execution_count": null,
   "id": "ba0c1069",
   "metadata": {
    "deletable": false,
    "editable": false,
    "nbgrader": {
     "cell_type": "code",
     "checksum": "c18945d6610b2b5cd105e99ac6d730f8",
     "grade": false,
     "grade_id": "cell-10e7226f1b61c1d3",
     "locked": true,
     "schema_version": 3,
     "solution": false,
     "task": false
    }
   },
   "outputs": [],
   "source": [
    "# Check unique values in Diet_Type Column\n",
    "df.Diet_Type.unique()"
   ]
  },
  {
   "cell_type": "code",
   "execution_count": null,
   "id": "30ef26ec",
   "metadata": {
    "deletable": false,
    "editable": false,
    "nbgrader": {
     "cell_type": "code",
     "checksum": "dba009dff7988539786b8d4b6a6957f9",
     "grade": false,
     "grade_id": "cell-3276cc00ad3adfdd",
     "locked": true,
     "schema_version": 3,
     "solution": false,
     "task": false
    }
   },
   "outputs": [],
   "source": [
    "# Check unique values in Blood_Group Column\n",
    "df.Blood_Group.unique()"
   ]
  },
  {
   "cell_type": "markdown",
   "id": "35af6d82",
   "metadata": {
    "deletable": false,
    "editable": false,
    "nbgrader": {
     "cell_type": "markdown",
     "checksum": "e2e98204dfb71600852e5bbe6ae85e3c",
     "grade": false,
     "grade_id": "cell-0b68df824476145a",
     "locked": true,
     "schema_version": 3,
     "solution": false,
     "task": false
    }
   },
   "source": [
    "Let's perform one-hot encoding. We will add both the column names - ['Diet_Type','Blood_Group'] insurrin the columns argument and use the same as prefix in the prefix argument enclosed in a square bracket. Make sure the drop_first argument is true. This will delete the variable original 2 variales after encoding. Make sure that your columns are converted to numeric and make sure to add prefix 'Diet_Type' and 'Blood_Group' in the respective columns"
   ]
  },
  {
   "cell_type": "code",
   "execution_count": null,
   "id": "5e3e7cf5",
   "metadata": {
    "deletable": false,
    "nbgrader": {
     "cell_type": "code",
     "checksum": "85b17ce75104f22223860d210a694984",
     "grade": false,
     "grade_id": "cell-00965c86ff566358",
     "locked": false,
     "schema_version": 3,
     "solution": true,
     "task": false
    }
   },
   "outputs": [],
   "source": [
    "# One Hot Encoding\n",
    "# Write your code below\n",
    "# your code here\n",
    "raise NotImplementedError"
   ]
  },
  {
   "cell_type": "markdown",
   "id": "f139a65f",
   "metadata": {},
   "source": [
    "The column names after OHE should be Diet_Type_Vegan, Diet_Type_Vegetarian, Blood_Group_AB, Blood_Group_B, Blood_Group_O"
   ]
  },
  {
   "cell_type": "code",
   "execution_count": null,
   "id": "baa160ec",
   "metadata": {
    "deletable": false,
    "editable": false,
    "nbgrader": {
     "cell_type": "code",
     "checksum": "ca7aa0e17d83f689de39edca3d7b0797",
     "grade": true,
     "grade_id": "cell-d15e3980c02f39aa",
     "locked": true,
     "points": 2,
     "schema_version": 3,
     "solution": false,
     "task": false
    }
   },
   "outputs": [],
   "source": []
  },
  {
   "cell_type": "code",
   "execution_count": null,
   "id": "ebc8f064",
   "metadata": {
    "deletable": false,
    "editable": false,
    "nbgrader": {
     "cell_type": "code",
     "checksum": "4d9ba6c87184602d6a73d34966cd94a6",
     "grade": false,
     "grade_id": "cell-48b83f2ad701f337",
     "locked": true,
     "schema_version": 3,
     "solution": false,
     "task": false
    }
   },
   "outputs": [],
   "source": [
    "# Check the head\n",
    "df.head()"
   ]
  },
  {
   "cell_type": "code",
   "execution_count": null,
   "id": "85899417",
   "metadata": {
    "deletable": false,
    "editable": false,
    "nbgrader": {
     "cell_type": "code",
     "checksum": "df5b1f726b6ded3bed11a702c6140b6f",
     "grade": false,
     "grade_id": "cell-5dfbe1b180e7e2a7",
     "locked": true,
     "schema_version": 3,
     "solution": false,
     "task": false
    }
   },
   "outputs": [],
   "source": [
    "df.shape"
   ]
  },
  {
   "cell_type": "markdown",
   "id": "2b2aa2ff",
   "metadata": {
    "deletable": false,
    "editable": false,
    "nbgrader": {
     "cell_type": "markdown",
     "checksum": "9a72b9c5f53c90ccdc4ea85cb5501d5c",
     "grade": false,
     "grade_id": "cell-ff12f71b7614197e",
     "locked": true,
     "schema_version": 3,
     "solution": false,
     "task": false
    }
   },
   "source": [
    "As you can see, we have dummy varibales for both the columns ready."
   ]
  }
 ],
 "metadata": {
  "kernelspec": {
   "display_name": "Python 3 (ipykernel)",
   "language": "python",
   "name": "python3"
  },
  "language_info": {
   "codemirror_mode": {
    "name": "ipython",
    "version": 3
   },
   "file_extension": ".py",
   "mimetype": "text/x-python",
   "name": "python",
   "nbconvert_exporter": "python",
   "pygments_lexer": "ipython3",
   "version": "3.10.6"
  }
 },
 "nbformat": 4,
 "nbformat_minor": 5
}
