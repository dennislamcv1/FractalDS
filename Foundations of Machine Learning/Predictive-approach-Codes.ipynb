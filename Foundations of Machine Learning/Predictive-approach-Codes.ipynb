{
 "cells": [
  {
   "cell_type": "code",
   "execution_count": 5,
   "id": "7e743e45",
   "metadata": {},
   "outputs": [],
   "source": [
    "import os\n",
    "import pandas as pd\n",
    "import numpy as np\n",
    "from sklearn.model_selection import train_test_split\n",
    "import statsmodels.api as sm\n",
    "from sklearn.metrics import accuracy_score"
   ]
  },
  {
   "cell_type": "code",
   "execution_count": 6,
   "id": "35ae88b0",
   "metadata": {},
   "outputs": [
    {
     "data": {
      "text/html": [
       "<div>\n",
       "<style scoped>\n",
       "    .dataframe tbody tr th:only-of-type {\n",
       "        vertical-align: middle;\n",
       "    }\n",
       "\n",
       "    .dataframe tbody tr th {\n",
       "        vertical-align: top;\n",
       "    }\n",
       "\n",
       "    .dataframe thead th {\n",
       "        text-align: right;\n",
       "    }\n",
       "</style>\n",
       "<table border=\"1\" class=\"dataframe\">\n",
       "  <thead>\n",
       "    <tr style=\"text-align: right;\">\n",
       "      <th></th>\n",
       "      <th>Page_traffic</th>\n",
       "      <th>Unit_price</th>\n",
       "      <th>Units_sold</th>\n",
       "      <th>Segment</th>\n",
       "      <th>1_Star_Rating</th>\n",
       "      <th>2_Star_Rating</th>\n",
       "      <th>3_Star_Rating</th>\n",
       "      <th>4_Star_Rating</th>\n",
       "      <th>5_Star_Rating</th>\n",
       "      <th>Image_Count</th>\n",
       "      <th>...</th>\n",
       "      <th>Sum of Spend</th>\n",
       "      <th>Online_Clicks</th>\n",
       "      <th>Online_Cost</th>\n",
       "      <th>Online_Impressions</th>\n",
       "      <th>num_unique_campaigns</th>\n",
       "      <th>Clicks_video</th>\n",
       "      <th>Cost_video</th>\n",
       "      <th>Impressions_video</th>\n",
       "      <th>num_unique_campaigns_offline</th>\n",
       "      <th>Units_sold&gt;1000</th>\n",
       "    </tr>\n",
       "  </thead>\n",
       "  <tbody>\n",
       "    <tr>\n",
       "      <th>0</th>\n",
       "      <td>5835.0</td>\n",
       "      <td>22.214389</td>\n",
       "      <td>2071</td>\n",
       "      <td>Skincare</td>\n",
       "      <td>99.0</td>\n",
       "      <td>72.0</td>\n",
       "      <td>194.0</td>\n",
       "      <td>453.0</td>\n",
       "      <td>3272.0</td>\n",
       "      <td>6.0</td>\n",
       "      <td>...</td>\n",
       "      <td>0.0</td>\n",
       "      <td>1271.0</td>\n",
       "      <td>3102.448115</td>\n",
       "      <td>238075.0</td>\n",
       "      <td>6.0</td>\n",
       "      <td>3479.0</td>\n",
       "      <td>40244.28</td>\n",
       "      <td>3856872.0</td>\n",
       "      <td>2.0</td>\n",
       "      <td>1</td>\n",
       "    </tr>\n",
       "    <tr>\n",
       "      <th>1</th>\n",
       "      <td>1881.0</td>\n",
       "      <td>11.870778</td>\n",
       "      <td>681</td>\n",
       "      <td>Skincare</td>\n",
       "      <td>118.0</td>\n",
       "      <td>73.0</td>\n",
       "      <td>200.0</td>\n",
       "      <td>430.0</td>\n",
       "      <td>3084.0</td>\n",
       "      <td>9.0</td>\n",
       "      <td>...</td>\n",
       "      <td>0.0</td>\n",
       "      <td>494.0</td>\n",
       "      <td>1723.716359</td>\n",
       "      <td>75868.0</td>\n",
       "      <td>2.0</td>\n",
       "      <td>0.0</td>\n",
       "      <td>0.00</td>\n",
       "      <td>0.0</td>\n",
       "      <td>0.0</td>\n",
       "      <td>0</td>\n",
       "    </tr>\n",
       "    <tr>\n",
       "      <th>2</th>\n",
       "      <td>2477.0</td>\n",
       "      <td>27.645714</td>\n",
       "      <td>875</td>\n",
       "      <td>Makeup</td>\n",
       "      <td>108.0</td>\n",
       "      <td>85.0</td>\n",
       "      <td>232.0</td>\n",
       "      <td>511.0</td>\n",
       "      <td>3402.0</td>\n",
       "      <td>10.0</td>\n",
       "      <td>...</td>\n",
       "      <td>0.0</td>\n",
       "      <td>0.0</td>\n",
       "      <td>0.000000</td>\n",
       "      <td>0.0</td>\n",
       "      <td>0.0</td>\n",
       "      <td>0.0</td>\n",
       "      <td>0.00</td>\n",
       "      <td>0.0</td>\n",
       "      <td>0.0</td>\n",
       "      <td>0</td>\n",
       "    </tr>\n",
       "    <tr>\n",
       "      <th>3</th>\n",
       "      <td>4087.0</td>\n",
       "      <td>16.896848</td>\n",
       "      <td>1396</td>\n",
       "      <td>Makeup</td>\n",
       "      <td>82.0</td>\n",
       "      <td>64.0</td>\n",
       "      <td>167.0</td>\n",
       "      <td>303.0</td>\n",
       "      <td>2058.0</td>\n",
       "      <td>5.0</td>\n",
       "      <td>...</td>\n",
       "      <td>0.0</td>\n",
       "      <td>0.0</td>\n",
       "      <td>0.000000</td>\n",
       "      <td>0.0</td>\n",
       "      <td>0.0</td>\n",
       "      <td>0.0</td>\n",
       "      <td>0.00</td>\n",
       "      <td>0.0</td>\n",
       "      <td>0.0</td>\n",
       "      <td>1</td>\n",
       "    </tr>\n",
       "    <tr>\n",
       "      <th>4</th>\n",
       "      <td>1446.0</td>\n",
       "      <td>16.357664</td>\n",
       "      <td>822</td>\n",
       "      <td>Hair Care</td>\n",
       "      <td>29.0</td>\n",
       "      <td>24.0</td>\n",
       "      <td>88.0</td>\n",
       "      <td>200.0</td>\n",
       "      <td>1221.0</td>\n",
       "      <td>0.0</td>\n",
       "      <td>...</td>\n",
       "      <td>0.0</td>\n",
       "      <td>0.0</td>\n",
       "      <td>0.000000</td>\n",
       "      <td>0.0</td>\n",
       "      <td>0.0</td>\n",
       "      <td>6024.0</td>\n",
       "      <td>77040.81</td>\n",
       "      <td>7539723.0</td>\n",
       "      <td>2.0</td>\n",
       "      <td>0</td>\n",
       "    </tr>\n",
       "  </tbody>\n",
       "</table>\n",
       "<p>5 rows × 26 columns</p>\n",
       "</div>"
      ],
      "text/plain": [
       "   Page_traffic  Unit_price  Units_sold    Segment  1_Star_Rating  \\\n",
       "0        5835.0   22.214389        2071   Skincare           99.0   \n",
       "1        1881.0   11.870778         681   Skincare          118.0   \n",
       "2        2477.0   27.645714         875     Makeup          108.0   \n",
       "3        4087.0   16.896848        1396     Makeup           82.0   \n",
       "4        1446.0   16.357664         822  Hair Care           29.0   \n",
       "\n",
       "   2_Star_Rating  3_Star_Rating  4_Star_Rating  5_Star_Rating  Image_Count  \\\n",
       "0           72.0          194.0          453.0         3272.0          6.0   \n",
       "1           73.0          200.0          430.0         3084.0          9.0   \n",
       "2           85.0          232.0          511.0         3402.0         10.0   \n",
       "3           64.0          167.0          303.0         2058.0          5.0   \n",
       "4           24.0           88.0          200.0         1221.0          0.0   \n",
       "\n",
       "   ...  Sum of Spend  Online_Clicks  Online_Cost  Online_Impressions  \\\n",
       "0  ...           0.0         1271.0  3102.448115            238075.0   \n",
       "1  ...           0.0          494.0  1723.716359             75868.0   \n",
       "2  ...           0.0            0.0     0.000000                 0.0   \n",
       "3  ...           0.0            0.0     0.000000                 0.0   \n",
       "4  ...           0.0            0.0     0.000000                 0.0   \n",
       "\n",
       "   num_unique_campaigns  Clicks_video  Cost_video  Impressions_video  \\\n",
       "0                   6.0        3479.0    40244.28          3856872.0   \n",
       "1                   2.0           0.0        0.00                0.0   \n",
       "2                   0.0           0.0        0.00                0.0   \n",
       "3                   0.0           0.0        0.00                0.0   \n",
       "4                   0.0        6024.0    77040.81          7539723.0   \n",
       "\n",
       "   num_unique_campaigns_offline  Units_sold>1000  \n",
       "0                           2.0                1  \n",
       "1                           0.0                0  \n",
       "2                           0.0                0  \n",
       "3                           0.0                1  \n",
       "4                           2.0                0  \n",
       "\n",
       "[5 rows x 26 columns]"
      ]
     },
     "execution_count": 6,
     "metadata": {},
     "output_type": "execute_result"
    }
   ],
   "source": [
    "# Loading and reading the dataset\n",
    "os.chdir(r'C:\\Users\\kamal\\OneDrive\\Desktop')\n",
    "data = pd.read_csv(\"Synergix_data_preprocessed_new.csv\")\n",
    "data.head()"
   ]
  },
  {
   "cell_type": "code",
   "execution_count": 7,
   "id": "6d1fed1d",
   "metadata": {},
   "outputs": [
    {
     "data": {
      "text/html": [
       "<div>\n",
       "<style scoped>\n",
       "    .dataframe tbody tr th:only-of-type {\n",
       "        vertical-align: middle;\n",
       "    }\n",
       "\n",
       "    .dataframe tbody tr th {\n",
       "        vertical-align: top;\n",
       "    }\n",
       "\n",
       "    .dataframe thead th {\n",
       "        text-align: right;\n",
       "    }\n",
       "</style>\n",
       "<table border=\"1\" class=\"dataframe\">\n",
       "  <thead>\n",
       "    <tr style=\"text-align: right;\">\n",
       "      <th></th>\n",
       "      <th>Page_traffic</th>\n",
       "      <th>Unit_price</th>\n",
       "      <th>Units_sold</th>\n",
       "      <th>1_Star_Rating</th>\n",
       "      <th>2_Star_Rating</th>\n",
       "      <th>3_Star_Rating</th>\n",
       "      <th>4_Star_Rating</th>\n",
       "      <th>5_Star_Rating</th>\n",
       "      <th>Image_Count</th>\n",
       "      <th>Bullet_Count</th>\n",
       "      <th>...</th>\n",
       "      <th>Online_Cost</th>\n",
       "      <th>Online_Impressions</th>\n",
       "      <th>num_unique_campaigns</th>\n",
       "      <th>Clicks_video</th>\n",
       "      <th>Cost_video</th>\n",
       "      <th>Impressions_video</th>\n",
       "      <th>num_unique_campaigns_offline</th>\n",
       "      <th>Units_sold&gt;1000</th>\n",
       "      <th>Segment_Makeup</th>\n",
       "      <th>Segment_Skincare</th>\n",
       "    </tr>\n",
       "  </thead>\n",
       "  <tbody>\n",
       "    <tr>\n",
       "      <th>0</th>\n",
       "      <td>5835.0</td>\n",
       "      <td>22.214389</td>\n",
       "      <td>2071</td>\n",
       "      <td>99.0</td>\n",
       "      <td>72.0</td>\n",
       "      <td>194.0</td>\n",
       "      <td>453.0</td>\n",
       "      <td>3272.0</td>\n",
       "      <td>6.0</td>\n",
       "      <td>6.0</td>\n",
       "      <td>...</td>\n",
       "      <td>3102.448115</td>\n",
       "      <td>238075.0</td>\n",
       "      <td>6.0</td>\n",
       "      <td>3479.0</td>\n",
       "      <td>40244.28</td>\n",
       "      <td>3856872.0</td>\n",
       "      <td>2.0</td>\n",
       "      <td>1</td>\n",
       "      <td>0</td>\n",
       "      <td>1</td>\n",
       "    </tr>\n",
       "    <tr>\n",
       "      <th>1</th>\n",
       "      <td>1881.0</td>\n",
       "      <td>11.870778</td>\n",
       "      <td>681</td>\n",
       "      <td>118.0</td>\n",
       "      <td>73.0</td>\n",
       "      <td>200.0</td>\n",
       "      <td>430.0</td>\n",
       "      <td>3084.0</td>\n",
       "      <td>9.0</td>\n",
       "      <td>8.0</td>\n",
       "      <td>...</td>\n",
       "      <td>1723.716359</td>\n",
       "      <td>75868.0</td>\n",
       "      <td>2.0</td>\n",
       "      <td>0.0</td>\n",
       "      <td>0.00</td>\n",
       "      <td>0.0</td>\n",
       "      <td>0.0</td>\n",
       "      <td>0</td>\n",
       "      <td>0</td>\n",
       "      <td>1</td>\n",
       "    </tr>\n",
       "    <tr>\n",
       "      <th>2</th>\n",
       "      <td>2477.0</td>\n",
       "      <td>27.645714</td>\n",
       "      <td>875</td>\n",
       "      <td>108.0</td>\n",
       "      <td>85.0</td>\n",
       "      <td>232.0</td>\n",
       "      <td>511.0</td>\n",
       "      <td>3402.0</td>\n",
       "      <td>10.0</td>\n",
       "      <td>7.0</td>\n",
       "      <td>...</td>\n",
       "      <td>0.000000</td>\n",
       "      <td>0.0</td>\n",
       "      <td>0.0</td>\n",
       "      <td>0.0</td>\n",
       "      <td>0.00</td>\n",
       "      <td>0.0</td>\n",
       "      <td>0.0</td>\n",
       "      <td>0</td>\n",
       "      <td>1</td>\n",
       "      <td>0</td>\n",
       "    </tr>\n",
       "    <tr>\n",
       "      <th>3</th>\n",
       "      <td>4087.0</td>\n",
       "      <td>16.896848</td>\n",
       "      <td>1396</td>\n",
       "      <td>82.0</td>\n",
       "      <td>64.0</td>\n",
       "      <td>167.0</td>\n",
       "      <td>303.0</td>\n",
       "      <td>2058.0</td>\n",
       "      <td>5.0</td>\n",
       "      <td>7.0</td>\n",
       "      <td>...</td>\n",
       "      <td>0.000000</td>\n",
       "      <td>0.0</td>\n",
       "      <td>0.0</td>\n",
       "      <td>0.0</td>\n",
       "      <td>0.00</td>\n",
       "      <td>0.0</td>\n",
       "      <td>0.0</td>\n",
       "      <td>1</td>\n",
       "      <td>1</td>\n",
       "      <td>0</td>\n",
       "    </tr>\n",
       "    <tr>\n",
       "      <th>4</th>\n",
       "      <td>1446.0</td>\n",
       "      <td>16.357664</td>\n",
       "      <td>822</td>\n",
       "      <td>29.0</td>\n",
       "      <td>24.0</td>\n",
       "      <td>88.0</td>\n",
       "      <td>200.0</td>\n",
       "      <td>1221.0</td>\n",
       "      <td>0.0</td>\n",
       "      <td>8.0</td>\n",
       "      <td>...</td>\n",
       "      <td>0.000000</td>\n",
       "      <td>0.0</td>\n",
       "      <td>0.0</td>\n",
       "      <td>6024.0</td>\n",
       "      <td>77040.81</td>\n",
       "      <td>7539723.0</td>\n",
       "      <td>2.0</td>\n",
       "      <td>0</td>\n",
       "      <td>0</td>\n",
       "      <td>0</td>\n",
       "    </tr>\n",
       "  </tbody>\n",
       "</table>\n",
       "<p>5 rows × 27 columns</p>\n",
       "</div>"
      ],
      "text/plain": [
       "   Page_traffic  Unit_price  Units_sold  1_Star_Rating  2_Star_Rating  \\\n",
       "0        5835.0   22.214389        2071           99.0           72.0   \n",
       "1        1881.0   11.870778         681          118.0           73.0   \n",
       "2        2477.0   27.645714         875          108.0           85.0   \n",
       "3        4087.0   16.896848        1396           82.0           64.0   \n",
       "4        1446.0   16.357664         822           29.0           24.0   \n",
       "\n",
       "   3_Star_Rating  4_Star_Rating  5_Star_Rating  Image_Count  Bullet_Count  \\\n",
       "0          194.0          453.0         3272.0          6.0           6.0   \n",
       "1          200.0          430.0         3084.0          9.0           8.0   \n",
       "2          232.0          511.0         3402.0         10.0           7.0   \n",
       "3          167.0          303.0         2058.0          5.0           7.0   \n",
       "4           88.0          200.0         1221.0          0.0           8.0   \n",
       "\n",
       "   ...  Online_Cost  Online_Impressions  num_unique_campaigns  Clicks_video  \\\n",
       "0  ...  3102.448115            238075.0                   6.0        3479.0   \n",
       "1  ...  1723.716359             75868.0                   2.0           0.0   \n",
       "2  ...     0.000000                 0.0                   0.0           0.0   \n",
       "3  ...     0.000000                 0.0                   0.0           0.0   \n",
       "4  ...     0.000000                 0.0                   0.0        6024.0   \n",
       "\n",
       "   Cost_video  Impressions_video  num_unique_campaigns_offline  \\\n",
       "0    40244.28          3856872.0                           2.0   \n",
       "1        0.00                0.0                           0.0   \n",
       "2        0.00                0.0                           0.0   \n",
       "3        0.00                0.0                           0.0   \n",
       "4    77040.81          7539723.0                           2.0   \n",
       "\n",
       "   Units_sold>1000  Segment_Makeup  Segment_Skincare  \n",
       "0                1               0                 1  \n",
       "1                0               0                 1  \n",
       "2                0               1                 0  \n",
       "3                1               1                 0  \n",
       "4                0               0                 0  \n",
       "\n",
       "[5 rows x 27 columns]"
      ]
     },
     "execution_count": 7,
     "metadata": {},
     "output_type": "execute_result"
    }
   ],
   "source": [
    "# Convert categorical variable 'Segment' into dummy variables\n",
    "data = pd.get_dummies(data, columns=['Segment'], drop_first=True)\n",
    "data.head()"
   ]
  },
  {
   "cell_type": "code",
   "execution_count": 8,
   "id": "603da288",
   "metadata": {},
   "outputs": [
    {
     "data": {
      "text/plain": [
       "(19631, 27)"
      ]
     },
     "execution_count": 8,
     "metadata": {},
     "output_type": "execute_result"
    }
   ],
   "source": [
    "data.shape"
   ]
  },
  {
   "cell_type": "code",
   "execution_count": 9,
   "id": "ba345065",
   "metadata": {},
   "outputs": [],
   "source": [
    "X = data.drop(columns=['Units_sold>1000','Units_sold'])\n",
    "y = data['Units_sold>1000']"
   ]
  },
  {
   "cell_type": "code",
   "execution_count": 10,
   "id": "8366b800",
   "metadata": {},
   "outputs": [
    {
     "data": {
      "text/plain": [
       "((19631, 25), (19631,))"
      ]
     },
     "execution_count": 10,
     "metadata": {},
     "output_type": "execute_result"
    }
   ],
   "source": [
    "X.shape, y.shape"
   ]
  },
  {
   "cell_type": "markdown",
   "id": "f1446691",
   "metadata": {},
   "source": [
    "# Dividing the data"
   ]
  },
  {
   "cell_type": "code",
   "execution_count": 11,
   "id": "5594ed97",
   "metadata": {},
   "outputs": [],
   "source": [
    "# Split data into training and test sets\n",
    "X_train, X_test, y_train, y_test = train_test_split(X, y, test_size = 0.3, random_state = 42, stratify=y)"
   ]
  },
  {
   "cell_type": "code",
   "execution_count": 12,
   "id": "1cb5070f",
   "metadata": {},
   "outputs": [
    {
     "data": {
      "text/plain": [
       "((13741, 25), (5890, 25), (13741,), (5890,))"
      ]
     },
     "execution_count": 12,
     "metadata": {},
     "output_type": "execute_result"
    }
   ],
   "source": [
    "#Quick look at the shape of the datasets\n",
    "X_train.shape, X_test.shape, y_train.shape, y_test.shape"
   ]
  },
  {
   "cell_type": "markdown",
   "id": "81af1c42",
   "metadata": {},
   "source": [
    "# Model Building"
   ]
  },
  {
   "cell_type": "code",
   "execution_count": 13,
   "id": "ee07f8a0",
   "metadata": {},
   "outputs": [],
   "source": [
    "from sklearn.linear_model import LogisticRegression"
   ]
  },
  {
   "cell_type": "code",
   "execution_count": 14,
   "id": "7ccb20c2",
   "metadata": {},
   "outputs": [
    {
     "data": {
      "text/html": [
       "<style>#sk-container-id-1 {color: black;}#sk-container-id-1 pre{padding: 0;}#sk-container-id-1 div.sk-toggleable {background-color: white;}#sk-container-id-1 label.sk-toggleable__label {cursor: pointer;display: block;width: 100%;margin-bottom: 0;padding: 0.3em;box-sizing: border-box;text-align: center;}#sk-container-id-1 label.sk-toggleable__label-arrow:before {content: \"▸\";float: left;margin-right: 0.25em;color: #696969;}#sk-container-id-1 label.sk-toggleable__label-arrow:hover:before {color: black;}#sk-container-id-1 div.sk-estimator:hover label.sk-toggleable__label-arrow:before {color: black;}#sk-container-id-1 div.sk-toggleable__content {max-height: 0;max-width: 0;overflow: hidden;text-align: left;background-color: #f0f8ff;}#sk-container-id-1 div.sk-toggleable__content pre {margin: 0.2em;color: black;border-radius: 0.25em;background-color: #f0f8ff;}#sk-container-id-1 input.sk-toggleable__control:checked~div.sk-toggleable__content {max-height: 200px;max-width: 100%;overflow: auto;}#sk-container-id-1 input.sk-toggleable__control:checked~label.sk-toggleable__label-arrow:before {content: \"▾\";}#sk-container-id-1 div.sk-estimator input.sk-toggleable__control:checked~label.sk-toggleable__label {background-color: #d4ebff;}#sk-container-id-1 div.sk-label input.sk-toggleable__control:checked~label.sk-toggleable__label {background-color: #d4ebff;}#sk-container-id-1 input.sk-hidden--visually {border: 0;clip: rect(1px 1px 1px 1px);clip: rect(1px, 1px, 1px, 1px);height: 1px;margin: -1px;overflow: hidden;padding: 0;position: absolute;width: 1px;}#sk-container-id-1 div.sk-estimator {font-family: monospace;background-color: #f0f8ff;border: 1px dotted black;border-radius: 0.25em;box-sizing: border-box;margin-bottom: 0.5em;}#sk-container-id-1 div.sk-estimator:hover {background-color: #d4ebff;}#sk-container-id-1 div.sk-parallel-item::after {content: \"\";width: 100%;border-bottom: 1px solid gray;flex-grow: 1;}#sk-container-id-1 div.sk-label:hover label.sk-toggleable__label {background-color: #d4ebff;}#sk-container-id-1 div.sk-serial::before {content: \"\";position: absolute;border-left: 1px solid gray;box-sizing: border-box;top: 0;bottom: 0;left: 50%;z-index: 0;}#sk-container-id-1 div.sk-serial {display: flex;flex-direction: column;align-items: center;background-color: white;padding-right: 0.2em;padding-left: 0.2em;position: relative;}#sk-container-id-1 div.sk-item {position: relative;z-index: 1;}#sk-container-id-1 div.sk-parallel {display: flex;align-items: stretch;justify-content: center;background-color: white;position: relative;}#sk-container-id-1 div.sk-item::before, #sk-container-id-1 div.sk-parallel-item::before {content: \"\";position: absolute;border-left: 1px solid gray;box-sizing: border-box;top: 0;bottom: 0;left: 50%;z-index: -1;}#sk-container-id-1 div.sk-parallel-item {display: flex;flex-direction: column;z-index: 1;position: relative;background-color: white;}#sk-container-id-1 div.sk-parallel-item:first-child::after {align-self: flex-end;width: 50%;}#sk-container-id-1 div.sk-parallel-item:last-child::after {align-self: flex-start;width: 50%;}#sk-container-id-1 div.sk-parallel-item:only-child::after {width: 0;}#sk-container-id-1 div.sk-dashed-wrapped {border: 1px dashed gray;margin: 0 0.4em 0.5em 0.4em;box-sizing: border-box;padding-bottom: 0.4em;background-color: white;}#sk-container-id-1 div.sk-label label {font-family: monospace;font-weight: bold;display: inline-block;line-height: 1.2em;}#sk-container-id-1 div.sk-label-container {text-align: center;}#sk-container-id-1 div.sk-container {/* jupyter's `normalize.less` sets `[hidden] { display: none; }` but bootstrap.min.css set `[hidden] { display: none !important; }` so we also need the `!important` here to be able to override the default hidden behavior on the sphinx rendered scikit-learn.org. See: https://github.com/scikit-learn/scikit-learn/issues/21755 */display: inline-block !important;position: relative;}#sk-container-id-1 div.sk-text-repr-fallback {display: none;}</style><div id=\"sk-container-id-1\" class=\"sk-top-container\"><div class=\"sk-text-repr-fallback\"><pre>LogisticRegression()</pre><b>In a Jupyter environment, please rerun this cell to show the HTML representation or trust the notebook. <br />On GitHub, the HTML representation is unable to render, please try loading this page with nbviewer.org.</b></div><div class=\"sk-container\" hidden><div class=\"sk-item\"><div class=\"sk-estimator sk-toggleable\"><input class=\"sk-toggleable__control sk-hidden--visually\" id=\"sk-estimator-id-1\" type=\"checkbox\" checked><label for=\"sk-estimator-id-1\" class=\"sk-toggleable__label sk-toggleable__label-arrow\">LogisticRegression</label><div class=\"sk-toggleable__content\"><pre>LogisticRegression()</pre></div></div></div></div></div>"
      ],
      "text/plain": [
       "LogisticRegression()"
      ]
     },
     "execution_count": 14,
     "metadata": {},
     "output_type": "execute_result"
    }
   ],
   "source": [
    "logreg = LogisticRegression()\n",
    "logreg.fit(X_train, y_train)"
   ]
  },
  {
   "cell_type": "code",
   "execution_count": 15,
   "id": "e27cae3b",
   "metadata": {},
   "outputs": [],
   "source": [
    "#Making predictions\n",
    "#Predictions on training set\n",
    "y_train_pred = logreg.predict(X_train)\n",
    "y_test_pred = logreg.predict(X_test)"
   ]
  },
  {
   "cell_type": "markdown",
   "id": "7bb65ad1",
   "metadata": {},
   "source": [
    "# Model Evaluation"
   ]
  },
  {
   "cell_type": "code",
   "execution_count": 16,
   "id": "17483ed5",
   "metadata": {},
   "outputs": [],
   "source": [
    "from sklearn.metrics import f1_score, classification_report"
   ]
  },
  {
   "cell_type": "code",
   "execution_count": 17,
   "id": "dbae7260",
   "metadata": {},
   "outputs": [
    {
     "name": "stdout",
     "output_type": "stream",
     "text": [
      "Train score:  0.7734795808441877\n",
      "Test score:  0.7741418764302059\n"
     ]
    }
   ],
   "source": [
    "score = f1_score(y_train, y_train_pred)\n",
    "print('Train score: ',score)\n",
    "score = f1_score(y_test, y_test_pred)\n",
    "print('Test score: ', score)"
   ]
  },
  {
   "cell_type": "code",
   "execution_count": null,
   "id": "19686643",
   "metadata": {},
   "outputs": [],
   "source": []
  }
 ],
 "metadata": {
  "kernelspec": {
   "display_name": "Python 3 (ipykernel)",
   "language": "python",
   "name": "python3"
  },
  "language_info": {
   "codemirror_mode": {
    "name": "ipython",
    "version": 3
   },
   "file_extension": ".py",
   "mimetype": "text/x-python",
   "name": "python",
   "nbconvert_exporter": "python",
   "pygments_lexer": "ipython3",
   "version": "3.11.5"
  }
 },
 "nbformat": 4,
 "nbformat_minor": 5
}
